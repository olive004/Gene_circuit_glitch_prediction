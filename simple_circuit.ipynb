{
 "cells": [
  {
   "cell_type": "markdown",
   "metadata": {},
   "source": [
    "# Modelling a simple RNA circuit\n",
    "\n",
    "In this notebook, we will simulate the interactions between RNAs in a circuit and how the dynamics of the circuit can be simulated."
   ]
  },
  {
   "cell_type": "code",
   "execution_count": 1,
   "metadata": {},
   "outputs": [],
   "source": [
    "from src.utils.circuit.agnostic_circuits.circuit_new import Circuit\n",
    "from src.utils.common.setup_new import construct_circuit_from_cfg"
   ]
  },
  {
   "cell_type": "code",
   "execution_count": 2,
   "metadata": {},
   "outputs": [
    {
     "ename": "ValueError",
     "evalue": "Could not find file matching \"default_args\" in scripts/common/configs/simulators.",
     "output_type": "error",
     "traceback": [
      "\u001b[0;31m---------------------------------------------------------------------------\u001b[0m",
      "\u001b[0;31mValueError\u001b[0m                                Traceback (most recent call last)",
      "Cell \u001b[0;32mIn [2], line 12\u001b[0m\n\u001b[1;32m      2\u001b[0m config[\u001b[39m'\u001b[39m\u001b[39mdata_path\u001b[39m\u001b[39m'\u001b[39m] \u001b[39m=\u001b[39m \u001b[39m'\u001b[39m\u001b[39mdata/example/toy_mRNA_circuit.fasta\u001b[39m\u001b[39m'\u001b[39m\n\u001b[1;32m      3\u001b[0m config \u001b[39m=\u001b[39m {\n\u001b[1;32m      4\u001b[0m     \u001b[39m\"\u001b[39m\u001b[39mdata_path\u001b[39m\u001b[39m\"\u001b[39m: \u001b[39m\"\u001b[39m\u001b[39mdata/example/toy_mRNA_circuit.fasta\u001b[39m\u001b[39m\"\u001b[39m,\n\u001b[1;32m      5\u001b[0m     \u001b[39m\"\u001b[39m\u001b[39mexperiment\u001b[39m\u001b[39m\"\u001b[39m: {\n\u001b[0;32m   (...)\u001b[0m\n\u001b[1;32m      9\u001b[0m     \u001b[39m\"\u001b[39m\u001b[39msystem_type\u001b[39m\u001b[39m\"\u001b[39m: \u001b[39m\"\u001b[39m\u001b[39mRNA\u001b[39m\u001b[39m\"\u001b[39m\n\u001b[1;32m     10\u001b[0m }\n\u001b[0;32m---> 12\u001b[0m config \u001b[39m=\u001b[39m construct_circuit_from_cfg(config_file\u001b[39m=\u001b[39;49mconfig, extra_configs\u001b[39m=\u001b[39;49m\u001b[39mNone\u001b[39;49;00m)\n\u001b[1;32m     13\u001b[0m circuit \u001b[39m=\u001b[39m Circuit(config)\n",
      "File \u001b[0;32m~/Kode/gene-circuit-glitch-prediction/src/utils/common/setup_new.py:75\u001b[0m, in \u001b[0;36mconstruct_circuit_from_cfg\u001b[0;34m(extra_configs, config_filepath, config_file)\u001b[0m\n\u001b[1;32m     73\u001b[0m config_file \u001b[39m=\u001b[39m get_configs(config_file, config_filepath)\n\u001b[1;32m     74\u001b[0m kwargs \u001b[39m=\u001b[39m compose_kwargs(internal_configs\u001b[39m=\u001b[39mextra_configs, config\u001b[39m=\u001b[39mconfig_file)\n\u001b[0;32m---> 75\u001b[0m circuit \u001b[39m=\u001b[39m instantiate_system(kwargs)\n\u001b[1;32m     77\u001b[0m \u001b[39mif\u001b[39;00m kwargs\u001b[39m.\u001b[39mget(\u001b[39m\"\u001b[39m\u001b[39msignal\u001b[39m\u001b[39m\"\u001b[39m):\n\u001b[1;32m     78\u001b[0m     kwargs\u001b[39m.\u001b[39mget(\u001b[39m\"\u001b[39m\u001b[39msignal\u001b[39m\u001b[39m\"\u001b[39m)[\n\u001b[1;32m     79\u001b[0m         \u001b[39m\"\u001b[39m\u001b[39midentities_idx\u001b[39m\u001b[39m\"\u001b[39m] \u001b[39m=\u001b[39m circuit\u001b[39m.\u001b[39mspecies\u001b[39m.\u001b[39midentities[\u001b[39m'\u001b[39m\u001b[39minput\u001b[39m\u001b[39m'\u001b[39m]\n",
      "File \u001b[0;32m~/Kode/gene-circuit-glitch-prediction/src/utils/common/setup_new.py:91\u001b[0m, in \u001b[0;36minstantiate_system\u001b[0;34m(kwargs)\u001b[0m\n\u001b[1;32m     90\u001b[0m \u001b[39mdef\u001b[39;00m \u001b[39minstantiate_system\u001b[39m(kwargs):\n\u001b[0;32m---> 91\u001b[0m     system_cfg_args \u001b[39m=\u001b[39m parse_cfg_args(kwargs)\n\u001b[1;32m     92\u001b[0m     SystemType \u001b[39m=\u001b[39m get_system_type(kwargs[\u001b[39m\"\u001b[39m\u001b[39msystem_type\u001b[39m\u001b[39m\"\u001b[39m])\n\u001b[1;32m     93\u001b[0m     \u001b[39mreturn\u001b[39;00m SystemType(system_cfg_args)\n",
      "File \u001b[0;32m~/Kode/gene-circuit-glitch-prediction/src/utils/circuit/common/config.py:50\u001b[0m, in \u001b[0;36mparse_cfg_args\u001b[0;34m(config_args, default_args)\u001b[0m\n\u001b[1;32m     47\u001b[0m \u001b[39mdef\u001b[39;00m \u001b[39mparse_cfg_args\u001b[39m(config_args: \u001b[39mdict\u001b[39m \u001b[39m=\u001b[39m \u001b[39mNone\u001b[39;00m, default_args: Dict \u001b[39m=\u001b[39m \u001b[39mNone\u001b[39;00m) \u001b[39m-\u001b[39m\u001b[39m>\u001b[39m Dict:\n\u001b[1;32m     49\u001b[0m     \u001b[39mif\u001b[39;00m default_args \u001b[39mis\u001b[39;00m \u001b[39mNone\u001b[39;00m:\n\u001b[0;32m---> 50\u001b[0m         default_args \u001b[39m=\u001b[39m retrieve_default_arg_filenames()\n\u001b[1;32m     51\u001b[0m     simulator_kwargs \u001b[39m=\u001b[39m load_simulator_kwargs(default_args, config_args)\n\u001b[1;32m     52\u001b[0m     config_args[\u001b[39m'\u001b[39m\u001b[39minteraction_simulator\u001b[39m\u001b[39m'\u001b[39m][\u001b[39m'\u001b[39m\u001b[39msimulator_kwargs\u001b[39m\u001b[39m'\u001b[39m] \u001b[39m=\u001b[39m simulator_kwargs\n",
      "File \u001b[0;32m~/Kode/gene-circuit-glitch-prediction/src/utils/circuit/common/config.py:72\u001b[0m, in \u001b[0;36mretrieve_default_arg_filenames\u001b[0;34m()\u001b[0m\n\u001b[1;32m     71\u001b[0m \u001b[39mdef\u001b[39;00m \u001b[39mretrieve_default_arg_filenames\u001b[39m() \u001b[39m-\u001b[39m\u001b[39m>\u001b[39m Dict:\n\u001b[0;32m---> 72\u001b[0m     fn \u001b[39m=\u001b[39m get_pathnames(file_key\u001b[39m=\u001b[39;49m\u001b[39m'\u001b[39;49m\u001b[39mdefault_args\u001b[39;49m\u001b[39m'\u001b[39;49m, search_dir\u001b[39m=\u001b[39;49mos\u001b[39m.\u001b[39;49mpath\u001b[39m.\u001b[39;49mjoin(\n\u001b[1;32m     73\u001b[0m         \u001b[39m'\u001b[39;49m\u001b[39mscripts\u001b[39;49m\u001b[39m'\u001b[39;49m, \u001b[39m'\u001b[39;49m\u001b[39mcommon\u001b[39;49m\u001b[39m'\u001b[39;49m, \u001b[39m'\u001b[39;49m\u001b[39mconfigs\u001b[39;49m\u001b[39m'\u001b[39;49m, \u001b[39m'\u001b[39;49m\u001b[39msimulators\u001b[39;49m\u001b[39m'\u001b[39;49m), first_only\u001b[39m=\u001b[39;49m\u001b[39mTrue\u001b[39;49;00m)\n\u001b[1;32m     74\u001b[0m     default_args \u001b[39m=\u001b[39m load_json_as_dict(fn)\n\u001b[1;32m     75\u001b[0m     \u001b[39mreturn\u001b[39;00m default_args\n",
      "File \u001b[0;32m~/Kode/gene-circuit-glitch-prediction/src/utils/misc/io.py:65\u001b[0m, in \u001b[0;36mget_pathnames\u001b[0;34m(search_dir, file_key, first_only, allow_empty, subdir, conditional, max_num)\u001b[0m\n\u001b[1;32m     62\u001b[0m     path_names \u001b[39m=\u001b[39m get_pathnames(os\u001b[39m.\u001b[39mpath\u001b[39m.\u001b[39mjoin(search_dir, subdir), file_key\u001b[39m=\u001b[39mfile_key,\n\u001b[1;32m     63\u001b[0m                                first_only\u001b[39m=\u001b[39mfirst_only, allow_empty\u001b[39m=\u001b[39mallow_empty, conditional\u001b[39m=\u001b[39mconditional)\n\u001b[1;32m     64\u001b[0m \u001b[39mif\u001b[39;00m \u001b[39mnot\u001b[39;00m path_names \u001b[39mand\u001b[39;00m \u001b[39mnot\u001b[39;00m allow_empty:\n\u001b[0;32m---> 65\u001b[0m     \u001b[39mraise\u001b[39;00m \u001b[39mValueError\u001b[39;00m(\n\u001b[1;32m     66\u001b[0m         \u001b[39mf\u001b[39m\u001b[39m'\u001b[39m\u001b[39mCould not find file matching \u001b[39m\u001b[39m\"\u001b[39m\u001b[39m{\u001b[39;00mfile_key\u001b[39m}\u001b[39;00m\u001b[39m\"\u001b[39m\u001b[39m in \u001b[39m\u001b[39m{\u001b[39;00msearch_dir\u001b[39m}\u001b[39;00m\u001b[39m.\u001b[39m\u001b[39m'\u001b[39m)\n\u001b[1;32m     67\u001b[0m \u001b[39mreturn\u001b[39;00m path_names\n",
      "\u001b[0;31mValueError\u001b[0m: Could not find file matching \"default_args\" in scripts/common/configs/simulators."
     ]
    }
   ],
   "source": [
    "config = {}\n",
    "config['data_path'] = 'data/example/toy_mRNA_circuit.fasta'\n",
    "config = {\n",
    "    \"data_path\": \"data/example/toy_mRNA_circuit.fasta\",\n",
    "    \"experiment\": {\n",
    "        \"purpose\": \"example\"\n",
    "    },\n",
    "    \"molecular_params\": \"src/utils/common/configs/RNA_circuit/molecular_params.json\",\n",
    "    \"system_type\": \"RNA\"\n",
    "}\n",
    "\n",
    "config = construct_circuit_from_cfg(config_file=config, extra_configs=None)\n",
    "circuit = Circuit(config)"
   ]
  },
  {
   "cell_type": "code",
   "execution_count": null,
   "metadata": {},
   "outputs": [],
   "source": []
  },
  {
   "cell_type": "code",
   "execution_count": null,
   "metadata": {},
   "outputs": [],
   "source": []
  }
 ],
 "metadata": {
  "kernelspec": {
   "display_name": "Python 3.10.6 64-bit",
   "language": "python",
   "name": "python3"
  },
  "language_info": {
   "codemirror_mode": {
    "name": "ipython",
    "version": 3
   },
   "file_extension": ".py",
   "mimetype": "text/x-python",
   "name": "python",
   "nbconvert_exporter": "python",
   "pygments_lexer": "ipython3",
   "version": "3.10.6"
  },
  "orig_nbformat": 4,
  "vscode": {
   "interpreter": {
    "hash": "31f2aee4e71d21fbe5cf8b01ff0e069b9275f58929596ceb00d14d90e3e16cd6"
   }
  }
 },
 "nbformat": 4,
 "nbformat_minor": 2
}
