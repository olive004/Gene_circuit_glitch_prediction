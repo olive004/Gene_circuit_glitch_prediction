{
 "cells": [
  {
   "attachments": {},
   "cell_type": "markdown",
   "metadata": {},
   "source": [
    "# Modelling a simple RNA circuit\n",
    "\n",
    "In this notebook, an example"
   ]
  },
  {
   "cell_type": "code",
   "execution_count": 19,
   "metadata": {},
   "outputs": [],
   "source": [
    "from functools import partial\n",
    "import numpy as np\n",
    "from src.srv.io.manage.script_manager import script_preamble\n",
    "from src.utils.common.setup import construct_circuit_from_cfg, prepare_config\n",
    "from src.utils.circuit.agnostic_circuits.circuit_manager import CircuitModeller\n",
    "from src.utils.modelling.physical import equilibrium_constant_reparameterisation\n"
   ]
  },
  {
   "cell_type": "code",
   "execution_count": 18,
   "metadata": {},
   "outputs": [
    {
     "data": {
      "text/plain": [
       "array([[1, 2, 0],\n",
       "       [2, 3, 2],\n",
       "       [2, 3, 4]])"
      ]
     },
     "execution_count": 18,
     "metadata": {},
     "output_type": "execute_result"
    }
   ],
   "source": [
    "np.random.randint(0, 5, (3,3))"
   ]
  },
  {
   "cell_type": "code",
   "execution_count": 11,
   "metadata": {},
   "outputs": [],
   "source": [
    "fake_interactions = np.random.randint(-50, 0, (3,3))\n",
    "config = {}\n",
    "config = {\n",
    "    \"data_path\": \"data/example/toy_mRNA_circuit.fasta\",\n",
    "    \"experiment\": {\n",
    "        \"purpose\": \"example\"\n",
    "    },\n",
    "    \"interaction_simulator\": {\n",
    "        \"name\": \"IntaRNA\",\n",
    "        \"postprocess\": True\n",
    "    },\n",
    "    \"interactions_loaded\": True,\n",
    "    \"interactions\": {\n",
    "        \"energies\": fake_interactions,\n",
    "        \"eqconstants\": equilibrium_constant_reparameterisation(fake_interactions, initial=100),\n",
    "        \"binding_rates_dissociation\": np.ones((3,3)),\n",
    "        },\n",
    "    \"molecular_params\": \"src/utils/common/configs/RNA_circuit/molecular_params.json\",\n",
    "    \"simulation\": {\n",
    "        \"dt\": 0.01,\n",
    "        \"t0\": 0,\n",
    "        \"t1\": 100,\n",
    "        \"solver\": \"jax\"\n",
    "    },\n",
    "    \"signal\": {\n",
    "        \"inputs\": [\"RNA_0\"],\n",
    "        \"outputs\": [\"RNA_1\"],\n",
    "        \"function_name\": \"step_function\",\n",
    "        \"function_kwargs\": {\n",
    "            \"impulse_center\": 40, \n",
    "            \"impulse_halfwidth\": 5, \n",
    "            \"target\": 0.5\n",
    "        } \n",
    "    },\n",
    "    \"system_type\": \"RNA\"\n",
    "}\n",
    "\n",
    "config, data_writer = script_preamble(config=config, data_writer=None, alt_cfg_filepath=None)\n",
    "config = prepare_config(config)"
   ]
  },
  {
   "cell_type": "code",
   "execution_count": 14,
   "metadata": {},
   "outputs": [
    {
     "data": {
      "text/plain": [
       "{'name': 'toy_mRNA_circuit',\n",
       " 'subname': 'ref_circuit',\n",
       " 'result_collector': <src.utils.results.results.ResultCollector at 0x7f9532bbefe0>,\n",
       " 'use_prod_and_deg': True,\n",
       " 'model': MedModel(species=[Species: ('RNA_0', 'RNA_0'), Species: ('RNA_0', 'RNA_1'), Species: ('RNA_0', 'RNA_2'), Species: ('RNA_1', 'RNA_1'), Species: ('RNA_1', 'RNA_2'), Species: ('RNA_2', 'RNA_2'), Species: RNA_0, Species: RNA_1, Species: RNA_2], reactions=[Reaction(input=[Species: RNA_0], output=[], forward_rate=0.01175, reverse_rate=0), Reaction(input=[Species: RNA_1], output=[], forward_rate=0.01175, reverse_rate=0), Reaction(input=[Species: RNA_2], output=[], forward_rate=0.01175, reverse_rate=0), Reaction(input=[Species: ('RNA_0', 'RNA_0')], output=[], forward_rate=0.01175, reverse_rate=0), Reaction(input=[Species: ('RNA_0', 'RNA_1')], output=[], forward_rate=0.01175, reverse_rate=0), Reaction(input=[Species: ('RNA_0', 'RNA_2')], output=[], forward_rate=0.01175, reverse_rate=0), Reaction(input=[Species: ('RNA_1', 'RNA_1')], output=[], forward_rate=0.01175, reverse_rate=0), Reaction(input=[Species: ('RNA_1', 'RNA_2')], output=[], forward_rate=0.01175, reverse_rate=0), Reaction(input=[Species: ('RNA_2', 'RNA_2')], output=[], forward_rate=0.01175, reverse_rate=0), Reaction(input=[Species: RNA_0, Species: RNA_0], output=[Species: ('RNA_0', 'RNA_0')], forward_rate=nan, reverse_rate=nan), Reaction(input=[Species: RNA_0, Species: RNA_1], output=[Species: ('RNA_0', 'RNA_1')], forward_rate=nan, reverse_rate=nan), Reaction(input=[Species: RNA_0, Species: RNA_2], output=[Species: ('RNA_0', 'RNA_2')], forward_rate=nan, reverse_rate=nan), Reaction(input=[Species: RNA_1, Species: RNA_1], output=[Species: ('RNA_1', 'RNA_1')], forward_rate=nan, reverse_rate=nan), Reaction(input=[Species: RNA_1, Species: RNA_2], output=[Species: ('RNA_1', 'RNA_2')], forward_rate=nan, reverse_rate=nan), Reaction(input=[Species: RNA_2, Species: RNA_2], output=[Species: ('RNA_2', 'RNA_2')], forward_rate=nan, reverse_rate=nan), Reaction(input=[], output=[Species: RNA_0], forward_rate=2.35, reverse_rate=0), Reaction(input=[], output=[Species: RNA_1], forward_rate=2.35, reverse_rate=0), Reaction(input=[], output=[Species: RNA_2], forward_rate=2.35, reverse_rate=0)], other_factors=[], reaction_extrinsics=[], ou_effects=[], impulses=[], controllers=[]),\n",
       " 'circuit_size': 9,\n",
       " 'data': <src.utils.data.common.Data at 0x7f9532bbf220>,\n",
       " 'qreactions': <bioreaction.model.data_containers.QuantifiedReactions at 0x7f952818fb20>,\n",
       " 'interactions_state': 'uninitialised',\n",
       " 'interactions': <src.srv.parameter_prediction.interactions.MolecularInteractions at 0x7f952818fe80>,\n",
       " '_signal': <src.utils.signal.signals_new.Signal at 0x7f9500783eb0>,\n",
       " 'mutations_args': {},\n",
       " 'mutations': {}}"
      ]
     },
     "execution_count": 14,
     "metadata": {},
     "output_type": "execute_result"
    }
   ],
   "source": [
    "circuit = construct_circuit_from_cfg(config_file=config, prev_configs=None)\n",
    "circuit.__dict__"
   ]
  },
  {
   "cell_type": "code",
   "execution_count": null,
   "metadata": {},
   "outputs": [],
   "source": [
    "\n",
    "modeller = CircuitModeller(result_writer=data_writer, config=config)\n",
    "circuit = modeller.init_circuit(circuit=circuit)\n",
    "circuit = modeller.simulate_signal(circuit=circuit, signal=circuit.signal, solver=config['simulation']['solver'])\n",
    "modeller.write_results(circuit)\n"
   ]
  },
  {
   "cell_type": "code",
   "execution_count": 15,
   "metadata": {},
   "outputs": [
    {
     "data": {
      "text/plain": [
       "{}"
      ]
     },
     "execution_count": 15,
     "metadata": {},
     "output_type": "execute_result"
    }
   ],
   "source": [
    "circuit.result_collector.results"
   ]
  },
  {
   "cell_type": "code",
   "execution_count": null,
   "metadata": {},
   "outputs": [],
   "source": []
  }
 ],
 "metadata": {
  "kernelspec": {
   "display_name": "Python 3.10.6 64-bit",
   "language": "python",
   "name": "python3"
  },
  "language_info": {
   "codemirror_mode": {
    "name": "ipython",
    "version": 3
   },
   "file_extension": ".py",
   "mimetype": "text/x-python",
   "name": "python",
   "nbconvert_exporter": "python",
   "pygments_lexer": "ipython3",
   "version": "3.10.6"
  },
  "orig_nbformat": 4,
  "vscode": {
   "interpreter": {
    "hash": "31f2aee4e71d21fbe5cf8b01ff0e069b9275f58929596ceb00d14d90e3e16cd6"
   }
  }
 },
 "nbformat": 4,
 "nbformat_minor": 2
}
