{
 "cells": [
  {
   "attachments": {},
   "cell_type": "markdown",
   "metadata": {},
   "source": [
    "# Modelling a simple RNA circuit\n",
    "\n",
    "In this notebook, we will simulate the interactions between RNAs in a circuit and how the dynamics of the circuit can be simulated."
   ]
  },
  {
   "cell_type": "code",
   "execution_count": null,
   "metadata": {},
   "outputs": [],
   "source": [
    "from functools import partial\n",
    "from src.utils.common.setup_new import construct_circuit_from_cfg\n",
    "from src.utils.circuit.agnostic_circuits.circuit_manager import CircuitModeller\n",
    "from src.srv.io.manage.script_manager import script_preamble\n"
   ]
  },
  {
   "cell_type": "code",
   "execution_count": 2,
   "metadata": {},
   "outputs": [
    {
     "name": "stderr",
     "output_type": "stream",
     "text": [
      "WARNING:absl:No GPU/TPU found, falling back to CPU. (Set TF_CPP_MIN_LOG_LEVEL=0 and rerun for more info.)\n"
     ]
    }
   ],
   "source": [
    "config = {}\n",
    "config['data_path'] = 'data/example/toy_mRNA_circuit.fasta'\n",
    "config = {\n",
    "    \"data_path\": \"data/example/toy_mRNA_circuit.fasta\",\n",
    "    \"experiment\": {\n",
    "        \"purpose\": \"example\"\n",
    "    },\n",
    "    \"interaction_simulator\": {\n",
    "        \"name\": \"IntaRNA\",\n",
    "        \"postprocess\": True\n",
    "    },\n",
    "    \"molecular_params\": \"src/utils/common/configs/RNA_circuit/molecular_params.json\",\n",
    "    \"simulation\": {\n",
    "        \"dt\": 0.1,\n",
    "        \"t0\": 0,\n",
    "        \"t1\": 100,\n",
    "        \"solver\": \"jax\"\n",
    "    },\n",
    "    \"signal\": {\n",
    "        \"inputs\": [\"RNA_0\"],\n",
    "        \"outputs\": [\"RNA_1\"],\n",
    "        \"function_name\": \"step_function\",\n",
    "        \"function_kwargs\": {\n",
    "            \"impulse_center\": 40, \n",
    "            \"impulse_halfwidth\": 5, \n",
    "            \"target\": 0.5\n",
    "        } \n",
    "    },\n",
    "    \"system_type\": \"RNA\"\n",
    "}\n",
    "\n",
    "config, data_writer = script_preamble(config=config, data_writer=None, alt_cfg_filepath=None)"
   ]
  },
  {
   "cell_type": "code",
   "execution_count": 3,
   "metadata": {},
   "outputs": [
    {
     "data": {
      "text/plain": [
       "{'name': 'toy_mRNA_circuit',\n",
       " 'result_collector': <src.utils.results.results.ResultCollector at 0x7f89fc746fb0>,\n",
       " 'model': <bioreaction.model.data_containers.BasicModel at 0x7f8998c18a60>,\n",
       " 'reactions': <bioreaction.model.data_containers.QuantifiedReactions at 0x7f8998c19030>,\n",
       " 'interactions': <src.srv.parameter_prediction.interactions.MolecularInteractions at 0x7f8998c1ba00>,\n",
       " 'interactions_state': 'uninitialised',\n",
       " 'graph': <src.utils.circuit.agnostic_circuits.circuit.Graph at 0x7f89fc7472e0>,\n",
       " 'circuit_size': 9}"
      ]
     },
     "execution_count": 3,
     "metadata": {},
     "output_type": "execute_result"
    }
   ],
   "source": [
    "circuit = construct_circuit_from_cfg(config_file=config, extra_configs=None)\n",
    "circuit.__dict__\n",
    "\n",
    "modeller = CircuitModeller(result_writer=data_writer, config=config)\n",
    "circuit = modeller.init_circuit(circuit=circuit)\n",
    "circuit = modeller.simulate_signal(circuit=circuit, signal=circuit.signal, solver=config['simulation']['solver'])\n",
    "modeller.write_results(circuit)\n"
   ]
  },
  {
   "cell_type": "code",
   "execution_count": null,
   "metadata": {},
   "outputs": [],
   "source": []
  }
 ],
 "metadata": {
  "kernelspec": {
   "display_name": "Python 3.10.6 64-bit",
   "language": "python",
   "name": "python3"
  },
  "language_info": {
   "codemirror_mode": {
    "name": "ipython",
    "version": 3
   },
   "file_extension": ".py",
   "mimetype": "text/x-python",
   "name": "python",
   "nbconvert_exporter": "python",
   "pygments_lexer": "ipython3",
   "version": "3.7.3"
  },
  "orig_nbformat": 4,
  "vscode": {
   "interpreter": {
    "hash": "31f2aee4e71d21fbe5cf8b01ff0e069b9275f58929596ceb00d14d90e3e16cd6"
   }
  }
 },
 "nbformat": 4,
 "nbformat_minor": 2
}
