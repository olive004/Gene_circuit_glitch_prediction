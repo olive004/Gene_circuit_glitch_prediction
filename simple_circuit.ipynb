{
 "cells": [
  {
   "cell_type": "markdown",
   "metadata": {},
   "source": [
    "# Modelling a simple RNA circuit\n",
    "\n",
    "In this notebook, we will simulate the interactions between RNAs in a circuit and how the dynamics of the circuit can be simulated."
   ]
  },
  {
   "cell_type": "code",
   "execution_count": 3,
   "metadata": {},
   "outputs": [
    {
     "ename": "ModuleNotFoundError",
     "evalue": "No module named 'diffrax'",
     "output_type": "error",
     "traceback": [
      "\u001b[0;31m---------------------------------------------------------------------------\u001b[0m",
      "\u001b[0;31mModuleNotFoundError\u001b[0m                       Traceback (most recent call last)",
      "Cell \u001b[0;32mIn [3], line 2\u001b[0m\n\u001b[1;32m      1\u001b[0m \u001b[39mfrom\u001b[39;00m \u001b[39msrc\u001b[39;00m\u001b[39m.\u001b[39;00m\u001b[39mutils\u001b[39;00m\u001b[39m.\u001b[39;00m\u001b[39mcommon\u001b[39;00m\u001b[39m.\u001b[39;00m\u001b[39msetup_new\u001b[39;00m \u001b[39mimport\u001b[39;00m construct_circuit_from_cfg\n\u001b[0;32m----> 2\u001b[0m \u001b[39mfrom\u001b[39;00m \u001b[39msrc\u001b[39;00m\u001b[39m.\u001b[39;00m\u001b[39mutils\u001b[39;00m\u001b[39m.\u001b[39;00m\u001b[39mcircuit\u001b[39;00m\u001b[39m.\u001b[39;00m\u001b[39magnostic_circuits\u001b[39;00m\u001b[39m.\u001b[39;00m\u001b[39mcircuit_manager_new\u001b[39;00m \u001b[39mimport\u001b[39;00m CircuitModeller\n",
      "File \u001b[0;32m~/Kode/gene-circuit-glitch-prediction/src/utils/circuit/agnostic_circuits/circuit_manager_new.py:20\u001b[0m\n\u001b[1;32m     18\u001b[0m \u001b[39mfrom\u001b[39;00m \u001b[39msrc\u001b[39;00m\u001b[39m.\u001b[39;00m\u001b[39mutils\u001b[39;00m\u001b[39m.\u001b[39;00m\u001b[39msignal\u001b[39;00m\u001b[39m.\u001b[39;00m\u001b[39msignals\u001b[39;00m \u001b[39mimport\u001b[39;00m Signal\n\u001b[1;32m     19\u001b[0m \u001b[39mfrom\u001b[39;00m \u001b[39msrc\u001b[39;00m\u001b[39m.\u001b[39;00m\u001b[39mutils\u001b[39;00m\u001b[39m.\u001b[39;00m\u001b[39mcircuit\u001b[39;00m\u001b[39m.\u001b[39;00m\u001b[39magnostic_circuits\u001b[39;00m\u001b[39m.\u001b[39;00m\u001b[39mcircuit_new\u001b[39;00m \u001b[39mimport\u001b[39;00m Circuit\n\u001b[0;32m---> 20\u001b[0m \u001b[39mfrom\u001b[39;00m \u001b[39msrc\u001b[39;00m\u001b[39m.\u001b[39;00m\u001b[39mutils\u001b[39;00m\u001b[39m.\u001b[39;00m\u001b[39mmodelling\u001b[39;00m\u001b[39m.\u001b[39;00m\u001b[39mdeterministic\u001b[39;00m \u001b[39mimport\u001b[39;00m Deterministic, simulate_signal_scan, bioreaction_sim_full\n\u001b[1;32m     21\u001b[0m \u001b[39mfrom\u001b[39;00m \u001b[39msrc\u001b[39;00m\u001b[39m.\u001b[39;00m\u001b[39mutils\u001b[39;00m\u001b[39m.\u001b[39;00m\u001b[39mmodelling\u001b[39;00m\u001b[39m.\u001b[39;00m\u001b[39mbase\u001b[39;00m \u001b[39mimport\u001b[39;00m Modeller\n\u001b[1;32m     24\u001b[0m TEST_MODE \u001b[39m=\u001b[39m \u001b[39mFalse\u001b[39;00m\n",
      "File \u001b[0;32m~/Kode/gene-circuit-glitch-prediction/src/utils/modelling/deterministic.py:6\u001b[0m\n\u001b[1;32m      4\u001b[0m \u001b[39mimport\u001b[39;00m \u001b[39mjax\u001b[39;00m\n\u001b[1;32m      5\u001b[0m \u001b[39mimport\u001b[39;00m \u001b[39mjax\u001b[39;00m\u001b[39m.\u001b[39;00m\u001b[39mnumpy\u001b[39;00m \u001b[39mas\u001b[39;00m \u001b[39mjnp\u001b[39;00m\n\u001b[0;32m----> 6\u001b[0m \u001b[39mimport\u001b[39;00m \u001b[39mdiffrax\u001b[39;00m \u001b[39mas\u001b[39;00m \u001b[39mdfx\u001b[39;00m\n\u001b[1;32m      7\u001b[0m \u001b[39mfrom\u001b[39;00m \u001b[39msrc\u001b[39;00m\u001b[39m.\u001b[39;00m\u001b[39mutils\u001b[39;00m\u001b[39m.\u001b[39;00m\u001b[39mmodelling\u001b[39;00m\u001b[39m.\u001b[39;00m\u001b[39mbase\u001b[39;00m \u001b[39mimport\u001b[39;00m Modeller\n\u001b[1;32m     10\u001b[0m \u001b[39mclass\u001b[39;00m \u001b[39mDeterministic\u001b[39;00m(Modeller):\n",
      "\u001b[0;31mModuleNotFoundError\u001b[0m: No module named 'diffrax'"
     ]
    }
   ],
   "source": [
    "from src.utils.common.setup_new import construct_circuit_from_cfg\n",
    "from src.utils.circuit.agnostic_circuits.circuit_manager_new import CircuitModeller"
   ]
  },
  {
   "cell_type": "code",
   "execution_count": 2,
   "metadata": {},
   "outputs": [
    {
     "name": "stderr",
     "output_type": "stream",
     "text": [
      "WARNING:absl:No GPU/TPU found, falling back to CPU. (Set TF_CPP_MIN_LOG_LEVEL=0 and rerun for more info.)\n"
     ]
    }
   ],
   "source": [
    "config = {}\n",
    "config['data_path'] = 'data/example/toy_mRNA_circuit.fasta'\n",
    "config = {\n",
    "    \"data_path\": \"data/example/toy_mRNA_circuit.fasta\",\n",
    "    \"experiment\": {\n",
    "        \"purpose\": \"example\"\n",
    "    },\n",
    "    \"molecular_params\": \"src/utils/common/configs/RNA_circuit/molecular_params.json\",\n",
    "    \"system_type\": \"RNA\"\n",
    "}\n",
    "\n",
    "circuit = construct_circuit_from_cfg(config_file=config, extra_configs=None)"
   ]
  },
  {
   "cell_type": "code",
   "execution_count": 3,
   "metadata": {},
   "outputs": [
    {
     "data": {
      "text/plain": [
       "{'name': 'toy_mRNA_circuit',\n",
       " 'result_collector': <src.utils.results.results.ResultCollector at 0x7f89fc746fb0>,\n",
       " 'model': <bioreaction.model.data_containers.BasicModel at 0x7f8998c18a60>,\n",
       " 'reactions': <bioreaction.model.data_containers.QuantifiedReactions at 0x7f8998c19030>,\n",
       " 'interactions': <src.srv.parameter_prediction.interactions.MolecularInteractions at 0x7f8998c1ba00>,\n",
       " 'species_state': 'uninitialised',\n",
       " 'graph': <src.utils.circuit.agnostic_circuits.circuit_new.Graph at 0x7f89fc7472e0>,\n",
       " 'circuit_size': 9}"
      ]
     },
     "execution_count": 3,
     "metadata": {},
     "output_type": "execute_result"
    }
   ],
   "source": [
    "circuit.__dict__"
   ]
  },
  {
   "cell_type": "code",
   "execution_count": null,
   "metadata": {},
   "outputs": [],
   "source": []
  }
 ],
 "metadata": {
  "kernelspec": {
   "display_name": "Python 3.10.6 64-bit",
   "language": "python",
   "name": "python3"
  },
  "language_info": {
   "codemirror_mode": {
    "name": "ipython",
    "version": 3
   },
   "file_extension": ".py",
   "mimetype": "text/x-python",
   "name": "python",
   "nbconvert_exporter": "python",
   "pygments_lexer": "ipython3",
   "version": "3.10.6"
  },
  "orig_nbformat": 4,
  "vscode": {
   "interpreter": {
    "hash": "31f2aee4e71d21fbe5cf8b01ff0e069b9275f58929596ceb00d14d90e3e16cd6"
   }
  }
 },
 "nbformat": 4,
 "nbformat_minor": 2
}
