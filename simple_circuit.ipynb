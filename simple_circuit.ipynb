{
 "cells": [
  {
   "cell_type": "markdown",
   "metadata": {},
   "source": [
    "# Modelling a simple RNA circuit\n",
    "\n",
    "In this notebook, we will simulate the interactions between RNAs in a circuit and how the dynamics of the circuit can be simulated."
   ]
  },
  {
   "cell_type": "code",
   "execution_count": 1,
   "metadata": {},
   "outputs": [],
   "source": [
    "from src.utils.common.setup_new import construct_circuit_from_cfg"
   ]
  },
  {
   "cell_type": "code",
   "execution_count": 2,
   "metadata": {},
   "outputs": [
    {
     "ename": "KeyError",
     "evalue": "'0'",
     "output_type": "error",
     "traceback": [
      "\u001b[0;31m---------------------------------------------------------------------------\u001b[0m",
      "\u001b[0;31mKeyError\u001b[0m                                  Traceback (most recent call last)",
      "Cell \u001b[0;32mIn [2], line 12\u001b[0m\n\u001b[1;32m      2\u001b[0m config[\u001b[39m'\u001b[39m\u001b[39mdata_path\u001b[39m\u001b[39m'\u001b[39m] \u001b[39m=\u001b[39m \u001b[39m'\u001b[39m\u001b[39mdata/example/toy_mRNA_circuit.fasta\u001b[39m\u001b[39m'\u001b[39m\n\u001b[1;32m      3\u001b[0m config \u001b[39m=\u001b[39m {\n\u001b[1;32m      4\u001b[0m     \u001b[39m\"\u001b[39m\u001b[39mdata_path\u001b[39m\u001b[39m\"\u001b[39m: \u001b[39m\"\u001b[39m\u001b[39mdata/example/toy_mRNA_circuit.fasta\u001b[39m\u001b[39m\"\u001b[39m,\n\u001b[1;32m      5\u001b[0m     \u001b[39m\"\u001b[39m\u001b[39mexperiment\u001b[39m\u001b[39m\"\u001b[39m: {\n\u001b[0;32m   (...)\u001b[0m\n\u001b[1;32m      9\u001b[0m     \u001b[39m\"\u001b[39m\u001b[39msystem_type\u001b[39m\u001b[39m\"\u001b[39m: \u001b[39m\"\u001b[39m\u001b[39mRNA\u001b[39m\u001b[39m\"\u001b[39m\n\u001b[1;32m     10\u001b[0m }\n\u001b[0;32m---> 12\u001b[0m circuit \u001b[39m=\u001b[39m construct_circuit_from_cfg(config_file\u001b[39m=\u001b[39;49mconfig, extra_configs\u001b[39m=\u001b[39;49m\u001b[39mNone\u001b[39;49;00m)\n",
      "File \u001b[0;32m~/Kode/gene-circuit-glitch-prediction/src/utils/common/setup_new.py:75\u001b[0m, in \u001b[0;36mconstruct_circuit_from_cfg\u001b[0;34m(extra_configs, config_filepath, config_file)\u001b[0m\n\u001b[1;32m     73\u001b[0m config_file \u001b[39m=\u001b[39m get_configs(config_file, config_filepath)\n\u001b[1;32m     74\u001b[0m kwargs \u001b[39m=\u001b[39m compose_kwargs(internal_configs\u001b[39m=\u001b[39mextra_configs, config\u001b[39m=\u001b[39mconfig_file)\n\u001b[0;32m---> 75\u001b[0m circuit \u001b[39m=\u001b[39m instantiate_system(kwargs)\n\u001b[1;32m     77\u001b[0m \u001b[39mif\u001b[39;00m kwargs\u001b[39m.\u001b[39mget(\u001b[39m\"\u001b[39m\u001b[39msignal\u001b[39m\u001b[39m\"\u001b[39m):\n\u001b[1;32m     78\u001b[0m     kwargs\u001b[39m.\u001b[39mget(\u001b[39m\"\u001b[39m\u001b[39msignal\u001b[39m\u001b[39m\"\u001b[39m)[\n\u001b[1;32m     79\u001b[0m         \u001b[39m\"\u001b[39m\u001b[39midentities_idx\u001b[39m\u001b[39m\"\u001b[39m] \u001b[39m=\u001b[39m circuit\u001b[39m.\u001b[39mspecies\u001b[39m.\u001b[39midentities[\u001b[39m'\u001b[39m\u001b[39minput\u001b[39m\u001b[39m'\u001b[39m]\n",
      "File \u001b[0;32m~/Kode/gene-circuit-glitch-prediction/src/utils/common/setup_new.py:93\u001b[0m, in \u001b[0;36minstantiate_system\u001b[0;34m(kwargs)\u001b[0m\n\u001b[1;32m     91\u001b[0m system_cfg_args \u001b[39m=\u001b[39m parse_cfg_args(kwargs)\n\u001b[1;32m     92\u001b[0m SystemType \u001b[39m=\u001b[39m get_system_type(kwargs[\u001b[39m\"\u001b[39m\u001b[39msystem_type\u001b[39m\u001b[39m\"\u001b[39m])\n\u001b[0;32m---> 93\u001b[0m \u001b[39mreturn\u001b[39;00m SystemType(system_cfg_args)\n",
      "File \u001b[0;32m~/Kode/gene-circuit-glitch-prediction/src/utils/circuit/agnostic_circuits/circuit_new.py:88\u001b[0m, in \u001b[0;36mCircuit.__init__\u001b[0;34m(self, config)\u001b[0m\n\u001b[1;32m     85\u001b[0m \u001b[39mself\u001b[39m\u001b[39m.\u001b[39mname \u001b[39m=\u001b[39m config\u001b[39m.\u001b[39mget(\u001b[39m\"\u001b[39m\u001b[39mname\u001b[39m\u001b[39m\"\u001b[39m)\n\u001b[1;32m     87\u001b[0m \u001b[39mself\u001b[39m\u001b[39m.\u001b[39mresult_collector \u001b[39m=\u001b[39m ResultCollector()\n\u001b[0;32m---> 88\u001b[0m \u001b[39mself\u001b[39m\u001b[39m.\u001b[39mmodel \u001b[39m=\u001b[39m construct_bioreaction_model(\n\u001b[1;32m     89\u001b[0m     config\u001b[39m.\u001b[39;49mget(\u001b[39m'\u001b[39;49m\u001b[39mdata\u001b[39;49m\u001b[39m'\u001b[39;49m), config\u001b[39m.\u001b[39;49mget(\u001b[39m'\u001b[39;49m\u001b[39mmolecular_params\u001b[39;49m\u001b[39m'\u001b[39;49m))\n\u001b[1;32m     90\u001b[0m \u001b[39mself\u001b[39m\u001b[39m.\u001b[39mreactions \u001b[39m=\u001b[39m \u001b[39mself\u001b[39m\u001b[39m.\u001b[39minit_reactions(\u001b[39mself\u001b[39m\u001b[39m.\u001b[39mmodel, config)\n\u001b[1;32m     91\u001b[0m \u001b[39mself\u001b[39m\u001b[39m.\u001b[39minteractions \u001b[39m=\u001b[39m \u001b[39mself\u001b[39m\u001b[39m.\u001b[39minit_interactions()\n",
      "File \u001b[0;32m~/Kode/gene-circuit-glitch-prediction/src/utils/circuit/common/system_setup.py:25\u001b[0m, in \u001b[0;36mconstruct_bioreaction_model\u001b[0;34m(data, molecular_params)\u001b[0m\n\u001b[1;32m     24\u001b[0m \u001b[39mdef\u001b[39;00m \u001b[39mconstruct_bioreaction_model\u001b[39m(data: Data, molecular_params):\n\u001b[0;32m---> 25\u001b[0m     model \u001b[39m=\u001b[39m construct_model_fromnames(data\u001b[39m.\u001b[39;49msample_names)\n\u001b[1;32m     26\u001b[0m     model \u001b[39m=\u001b[39m add_data_to_species(model, data)\n\u001b[1;32m     27\u001b[0m     \u001b[39mfor\u001b[39;00m i \u001b[39min\u001b[39;00m \u001b[39mrange\u001b[39m(\u001b[39mlen\u001b[39m(model\u001b[39m.\u001b[39mreactions)):\n",
      "File \u001b[0;32m~/Kode/core-bioreaction-simulation/src/bioreaction/model/data_tools.py:66\u001b[0m, in \u001b[0;36mconstruct_model_fromnames\u001b[0;34m(sample_names)\u001b[0m\n\u001b[1;32m     64\u001b[0m \u001b[39mfor\u001b[39;00m idx, (i, o) \u001b[39min\u001b[39;00m \u001b[39menumerate\u001b[39m(\u001b[39mzip\u001b[39m(inputs, outputs)):\n\u001b[1;32m     65\u001b[0m     reaction \u001b[39m=\u001b[39m Reaction()\n\u001b[0;32m---> 66\u001b[0m     reaction\u001b[39m.\u001b[39minput \u001b[39m=\u001b[39m make_species(i, ref_species)\n\u001b[1;32m     67\u001b[0m     reaction\u001b[39m.\u001b[39moutput \u001b[39m=\u001b[39m combine_species(\n\u001b[1;32m     68\u001b[0m         i, ref_species) \u001b[39mif\u001b[39;00m o \u001b[39mis\u001b[39;00m \u001b[39mNone\u001b[39;00m \u001b[39melse\u001b[39;00m make_species(o, ref_species)\n\u001b[1;32m     69\u001b[0m     reaction\u001b[39m.\u001b[39mforward_rate \u001b[39m=\u001b[39m \u001b[39mNone\u001b[39;00m\n",
      "File \u001b[0;32m~/Kode/core-bioreaction-simulation/src/bioreaction/model/data_tools.py:22\u001b[0m, in \u001b[0;36mmake_species\u001b[0;34m(species, ref_species)\u001b[0m\n\u001b[1;32m     21\u001b[0m \u001b[39mdef\u001b[39;00m \u001b[39mmake_species\u001b[39m(species: List[\u001b[39mstr\u001b[39m], ref_species: Dict[\u001b[39mstr\u001b[39m, Species]):\n\u001b[0;32m---> 22\u001b[0m     \u001b[39mreturn\u001b[39;00m \u001b[39mlist\u001b[39;49m(ref_species[i] \u001b[39mfor\u001b[39;49;00m i \u001b[39min\u001b[39;49;00m \u001b[39msorted\u001b[39;49m(species))\n",
      "File \u001b[0;32m~/Kode/core-bioreaction-simulation/src/bioreaction/model/data_tools.py:22\u001b[0m, in \u001b[0;36m<genexpr>\u001b[0;34m(.0)\u001b[0m\n\u001b[1;32m     21\u001b[0m \u001b[39mdef\u001b[39;00m \u001b[39mmake_species\u001b[39m(species: List[\u001b[39mstr\u001b[39m], ref_species: Dict[\u001b[39mstr\u001b[39m, Species]):\n\u001b[0;32m---> 22\u001b[0m     \u001b[39mreturn\u001b[39;00m \u001b[39mlist\u001b[39m(ref_species[i] \u001b[39mfor\u001b[39;00m i \u001b[39min\u001b[39;00m \u001b[39msorted\u001b[39m(species))\n",
      "\u001b[0;31mKeyError\u001b[0m: '0'"
     ]
    }
   ],
   "source": [
    "config = {}\n",
    "config['data_path'] = 'data/example/toy_mRNA_circuit.fasta'\n",
    "config = {\n",
    "    \"data_path\": \"data/example/toy_mRNA_circuit.fasta\",\n",
    "    \"experiment\": {\n",
    "        \"purpose\": \"example\"\n",
    "    },\n",
    "    \"molecular_params\": \"src/utils/common/configs/RNA_circuit/molecular_params.json\",\n",
    "    \"system_type\": \"RNA\"\n",
    "}\n",
    "\n",
    "circuit = construct_circuit_from_cfg(config_file=config, extra_configs=None)"
   ]
  },
  {
   "cell_type": "code",
   "execution_count": 3,
   "metadata": {},
   "outputs": [
    {
     "ename": "NameError",
     "evalue": "name 'circuit' is not defined",
     "output_type": "error",
     "traceback": [
      "\u001b[0;31m---------------------------------------------------------------------------\u001b[0m",
      "\u001b[0;31mNameError\u001b[0m                                 Traceback (most recent call last)",
      "Cell \u001b[0;32mIn [3], line 1\u001b[0m\n\u001b[0;32m----> 1\u001b[0m circuit\u001b[39m.\u001b[39m\u001b[39m__dict__\u001b[39m\n",
      "\u001b[0;31mNameError\u001b[0m: name 'circuit' is not defined"
     ]
    }
   ],
   "source": [
    "circuit.__dict__"
   ]
  },
  {
   "cell_type": "code",
   "execution_count": null,
   "metadata": {},
   "outputs": [],
   "source": []
  }
 ],
 "metadata": {
  "kernelspec": {
   "display_name": "Python 3.10.6 64-bit",
   "language": "python",
   "name": "python3"
  },
  "language_info": {
   "codemirror_mode": {
    "name": "ipython",
    "version": 3
   },
   "file_extension": ".py",
   "mimetype": "text/x-python",
   "name": "python",
   "nbconvert_exporter": "python",
   "pygments_lexer": "ipython3",
   "version": "3.10.6"
  },
  "orig_nbformat": 4,
  "vscode": {
   "interpreter": {
    "hash": "31f2aee4e71d21fbe5cf8b01ff0e069b9275f58929596ceb00d14d90e3e16cd6"
   }
  }
 },
 "nbformat": 4,
 "nbformat_minor": 2
}
