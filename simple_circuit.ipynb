{
 "cells": [
  {
   "cell_type": "markdown",
   "metadata": {},
   "source": [
    "# Modelling a simple RNA circuit\n",
    "\n",
    "In this notebook, we will simulate the interactions between RNAs in a circuit and how the dynamics of the circuit can be simulated."
   ]
  },
  {
   "cell_type": "code",
   "execution_count": 1,
   "metadata": {},
   "outputs": [
    {
     "ename": "ModuleNotFoundError",
     "evalue": "No module named 'bioreaction'",
     "output_type": "error",
     "traceback": [
      "\u001b[0;31m---------------------------------------------------------------------------\u001b[0m",
      "\u001b[0;31mModuleNotFoundError\u001b[0m                       Traceback (most recent call last)",
      "\u001b[0;32m/var/folders/89/b14m_l9d4h58lnx67_8_2p440000gn/T/ipykernel_46797/3027310655.py\u001b[0m in \u001b[0;36m<module>\u001b[0;34m\u001b[0m\n\u001b[1;32m      1\u001b[0m \u001b[0;32mfrom\u001b[0m \u001b[0mfunctools\u001b[0m \u001b[0;32mimport\u001b[0m \u001b[0mpartial\u001b[0m\u001b[0;34m\u001b[0m\u001b[0;34m\u001b[0m\u001b[0m\n\u001b[0;32m----> 2\u001b[0;31m \u001b[0;32mfrom\u001b[0m \u001b[0msrc\u001b[0m\u001b[0;34m.\u001b[0m\u001b[0mutils\u001b[0m\u001b[0;34m.\u001b[0m\u001b[0mcommon\u001b[0m\u001b[0;34m.\u001b[0m\u001b[0msetup_new\u001b[0m \u001b[0;32mimport\u001b[0m \u001b[0mconstruct_circuit_from_cfg\u001b[0m\u001b[0;34m\u001b[0m\u001b[0;34m\u001b[0m\u001b[0m\n\u001b[0m\u001b[1;32m      3\u001b[0m \u001b[0;32mfrom\u001b[0m \u001b[0msrc\u001b[0m\u001b[0;34m.\u001b[0m\u001b[0mutils\u001b[0m\u001b[0;34m.\u001b[0m\u001b[0mcircuit\u001b[0m\u001b[0;34m.\u001b[0m\u001b[0magnostic_circuits\u001b[0m\u001b[0;34m.\u001b[0m\u001b[0mcircuit_manager_new\u001b[0m \u001b[0;32mimport\u001b[0m \u001b[0mCircuitModeller\u001b[0m\u001b[0;34m\u001b[0m\u001b[0;34m\u001b[0m\u001b[0m\n\u001b[1;32m      4\u001b[0m \u001b[0;32mfrom\u001b[0m \u001b[0msrc\u001b[0m\u001b[0;34m.\u001b[0m\u001b[0msrv\u001b[0m\u001b[0;34m.\u001b[0m\u001b[0mio\u001b[0m\u001b[0;34m.\u001b[0m\u001b[0mmanage\u001b[0m\u001b[0;34m.\u001b[0m\u001b[0mscript_manager\u001b[0m \u001b[0;32mimport\u001b[0m \u001b[0mscript_preamble\u001b[0m\u001b[0;34m\u001b[0m\u001b[0;34m\u001b[0m\u001b[0m\n",
      "\u001b[0;32m~/Desktop/Kode/Oxford/DPhil/gene-circuit-glitch-prediction/src/utils/common/setup_new.py\u001b[0m in \u001b[0;36m<module>\u001b[0;34m\u001b[0m\n\u001b[1;32m      1\u001b[0m \u001b[0;32mimport\u001b[0m \u001b[0mlogging\u001b[0m\u001b[0;34m\u001b[0m\u001b[0;34m\u001b[0m\u001b[0m\n\u001b[1;32m      2\u001b[0m \u001b[0;32mfrom\u001b[0m \u001b[0mtyping\u001b[0m \u001b[0;32mimport\u001b[0m \u001b[0mList\u001b[0m\u001b[0;34m\u001b[0m\u001b[0;34m\u001b[0m\u001b[0m\n\u001b[0;32m----> 3\u001b[0;31m \u001b[0;32mfrom\u001b[0m \u001b[0mbioreaction\u001b[0m\u001b[0;34m.\u001b[0m\u001b[0mmodel\u001b[0m\u001b[0;34m.\u001b[0m\u001b[0mdata_containers\u001b[0m \u001b[0;32mimport\u001b[0m \u001b[0mBasicModel\u001b[0m\u001b[0;34m\u001b[0m\u001b[0;34m\u001b[0m\u001b[0m\n\u001b[0m\u001b[1;32m      4\u001b[0m \u001b[0;32mfrom\u001b[0m \u001b[0msrc\u001b[0m\u001b[0;34m.\u001b[0m\u001b[0mutils\u001b[0m\u001b[0;34m.\u001b[0m\u001b[0mdata\u001b[0m\u001b[0;34m.\u001b[0m\u001b[0mcommon\u001b[0m \u001b[0;32mimport\u001b[0m \u001b[0mData\u001b[0m\u001b[0;34m\u001b[0m\u001b[0;34m\u001b[0m\u001b[0m\n\u001b[1;32m      5\u001b[0m \u001b[0;32mfrom\u001b[0m \u001b[0msrc\u001b[0m\u001b[0;34m.\u001b[0m\u001b[0msrv\u001b[0m\u001b[0;34m.\u001b[0m\u001b[0mio\u001b[0m\u001b[0;34m.\u001b[0m\u001b[0mmanage\u001b[0m\u001b[0;34m.\u001b[0m\u001b[0msys_interface\u001b[0m \u001b[0;32mimport\u001b[0m \u001b[0mmake_filename_safely\u001b[0m\u001b[0;34m\u001b[0m\u001b[0;34m\u001b[0m\u001b[0m\n",
      "\u001b[0;31mModuleNotFoundError\u001b[0m: No module named 'bioreaction'"
     ]
    }
   ],
   "source": [
    "from functools import partial\n",
    "from src.utils.common.setup_new import construct_circuit_from_cfg\n",
    "from src.utils.circuit.agnostic_circuits.circuit_manager_new import CircuitModeller\n",
    "from src.srv.io.manage.script_manager import script_preamble\n"
   ]
  },
  {
   "cell_type": "code",
   "execution_count": 2,
   "metadata": {},
   "outputs": [
    {
     "name": "stderr",
     "output_type": "stream",
     "text": [
      "WARNING:absl:No GPU/TPU found, falling back to CPU. (Set TF_CPP_MIN_LOG_LEVEL=0 and rerun for more info.)\n"
     ]
    }
   ],
   "source": [
    "config = {}\n",
    "config['data_path'] = 'data/example/toy_mRNA_circuit.fasta'\n",
    "config = {\n",
    "    \"data_path\": \"data/example/toy_mRNA_circuit.fasta\",\n",
    "    \"experiment\": {\n",
    "        \"purpose\": \"example\"\n",
    "    },\n",
    "    \"interaction_simulator\": {\n",
    "        \"name\": \"IntaRNA\",\n",
    "        \"postprocess\": True\n",
    "    },\n",
    "    \"molecular_params\": \"src/utils/common/configs/RNA_circuit/molecular_params.json\",\n",
    "    \"simulation\": {\n",
    "        \"dt\": 0.1,\n",
    "        \"t0\": 0,\n",
    "        \"t1\": 100,\n",
    "        \"solver\": \"jax\"\n",
    "    },\n",
    "    \"signal\": {\n",
    "        \"inputs\": [\"RNA_0\"],\n",
    "        \"outputs\": [\"RNA_1\"],\n",
    "        \"function_name\": \"step_function\",\n",
    "        \"function_kwargs\": {\n",
    "            \"impulse_center\": 40, \n",
    "            \"impulse_halfwidth\": 5, \n",
    "            \"target\": 0.5\n",
    "        } \n",
    "    },\n",
    "    \"system_type\": \"RNA\"\n",
    "}\n",
    "\n",
    "config, data_writer = script_preamble(config=config, data_writer=None, alt_cfg_filepath=None)"
   ]
  },
  {
   "cell_type": "code",
   "execution_count": 3,
   "metadata": {},
   "outputs": [
    {
     "data": {
      "text/plain": [
       "{'name': 'toy_mRNA_circuit',\n",
       " 'result_collector': <src.utils.results.results.ResultCollector at 0x7f89fc746fb0>,\n",
       " 'model': <bioreaction.model.data_containers.BasicModel at 0x7f8998c18a60>,\n",
       " 'reactions': <bioreaction.model.data_containers.QuantifiedReactions at 0x7f8998c19030>,\n",
       " 'interactions': <src.srv.parameter_prediction.interactions.MolecularInteractions at 0x7f8998c1ba00>,\n",
       " 'interactions_state': 'uninitialised',\n",
       " 'graph': <src.utils.circuit.agnostic_circuits.circuit_new.Graph at 0x7f89fc7472e0>,\n",
       " 'circuit_size': 9}"
      ]
     },
     "execution_count": 3,
     "metadata": {},
     "output_type": "execute_result"
    }
   ],
   "source": [
    "circuit = construct_circuit_from_cfg(config_file=config, extra_configs=None)\n",
    "circuit.__dict__\n",
    "\n",
    "modeller = CircuitModeller(result_writer=data_writer, config=config)\n",
    "circuit = modeller.init_circuit(circuit=circuit)\n",
    "circuit = modeller.simulate_signal(circuit=circuit, signal=circuit.signal, solver=config['simulation']['solver'])\n",
    "modeller.write_results(circuit)\n"
   ]
  },
  {
   "cell_type": "code",
   "execution_count": null,
   "metadata": {},
   "outputs": [],
   "source": []
  }
 ],
 "metadata": {
  "kernelspec": {
   "display_name": "Python 3.10.6 64-bit",
   "language": "python",
   "name": "python3"
  },
  "language_info": {
   "codemirror_mode": {
    "name": "ipython",
    "version": 3
   },
   "file_extension": ".py",
   "mimetype": "text/x-python",
   "name": "python",
   "nbconvert_exporter": "python",
   "pygments_lexer": "ipython3",
   "version": "3.7.3"
  },
  "orig_nbformat": 4,
  "vscode": {
   "interpreter": {
    "hash": "31f2aee4e71d21fbe5cf8b01ff0e069b9275f58929596ceb00d14d90e3e16cd6"
   }
  }
 },
 "nbformat": 4,
 "nbformat_minor": 2
}
