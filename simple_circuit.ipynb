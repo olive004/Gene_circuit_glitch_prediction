{
 "cells": [
  {
   "cell_type": "markdown",
   "metadata": {},
   "source": [
    "# Modelling a simple RNA circuit\n",
    "\n",
    "In this notebook, we will simulate the interactions between RNAs in a circuit and how the dynamics of the circuit can be simulated."
   ]
  },
  {
   "cell_type": "code",
   "execution_count": 1,
   "metadata": {},
   "outputs": [],
   "source": [
    "from src.utils.circuit.agnostic_circuits.circuit_new import Circuit\n",
    "from src.utils.common.setup_new import construct_circuit_from_cfg"
   ]
  },
  {
   "cell_type": "code",
   "execution_count": 2,
   "metadata": {},
   "outputs": [
    {
     "ename": "AssertionError",
     "evalue": "Some of the kwargs for composing a circuit are not listed in essential kwargs ['interaction_simulator', 'molecular_params', 'system_type']: {'interaction_simulator': True, 'molecular_params': False, 'system_type': True}",
     "output_type": "error",
     "traceback": [
      "\u001b[0;31m---------------------------------------------------------------------------\u001b[0m",
      "\u001b[0;31mAssertionError\u001b[0m                            Traceback (most recent call last)",
      "Cell \u001b[0;32mIn [2], line 11\u001b[0m\n\u001b[1;32m      2\u001b[0m config[\u001b[39m'\u001b[39m\u001b[39mdata_path\u001b[39m\u001b[39m'\u001b[39m] \u001b[39m=\u001b[39m \u001b[39m'\u001b[39m\u001b[39mdata/example/toy_mRNA_circuit.fasta\u001b[39m\u001b[39m'\u001b[39m\n\u001b[1;32m      3\u001b[0m config \u001b[39m=\u001b[39m {\n\u001b[1;32m      4\u001b[0m     \u001b[39m\"\u001b[39m\u001b[39mdata_path\u001b[39m\u001b[39m\"\u001b[39m: \u001b[39m\"\u001b[39m\u001b[39mdata/example/toy_mRNA_circuit.fasta\u001b[39m\u001b[39m\"\u001b[39m,\n\u001b[1;32m      5\u001b[0m     \u001b[39m\"\u001b[39m\u001b[39mexperiment\u001b[39m\u001b[39m\"\u001b[39m: {\n\u001b[0;32m   (...)\u001b[0m\n\u001b[1;32m      8\u001b[0m     \u001b[39m\"\u001b[39m\u001b[39mmolecular_params\u001b[39m\u001b[39m\"\u001b[39m: \u001b[39m\"\u001b[39m\u001b[39msrc/utils/circuit/common/configs/RNA_circuit/molecular_params.json\u001b[39m\u001b[39m\"\u001b[39m\n\u001b[1;32m      9\u001b[0m }\n\u001b[0;32m---> 11\u001b[0m config \u001b[39m=\u001b[39m construct_circuit_from_cfg(config_file\u001b[39m=\u001b[39;49mconfig, extra_configs\u001b[39m=\u001b[39;49m\u001b[39mNone\u001b[39;49;00m)\n\u001b[1;32m     12\u001b[0m circuit \u001b[39m=\u001b[39m Circuit(config)\n",
      "File \u001b[0;32m~/Kode/gene-circuit-glitch-prediction/src/utils/common/setup_new.py:73\u001b[0m, in \u001b[0;36mconstruct_circuit_from_cfg\u001b[0;34m(extra_configs, config_filepath, config_file)\u001b[0m\n\u001b[1;32m     70\u001b[0m \u001b[39mdef\u001b[39;00m \u001b[39mconstruct_circuit_from_cfg\u001b[39m(extra_configs: \u001b[39mdict\u001b[39m, config_filepath: \u001b[39mstr\u001b[39m \u001b[39m=\u001b[39m \u001b[39mNone\u001b[39;00m, config_file: \u001b[39mdict\u001b[39m \u001b[39m=\u001b[39m \u001b[39mNone\u001b[39;00m):\n\u001b[1;32m     72\u001b[0m     config_file \u001b[39m=\u001b[39m get_configs(config_file, config_filepath)\n\u001b[0;32m---> 73\u001b[0m     kwargs \u001b[39m=\u001b[39m compose_kwargs(internal_configs\u001b[39m=\u001b[39;49mextra_configs, config\u001b[39m=\u001b[39;49mconfig_file)\n\u001b[1;32m     74\u001b[0m     circuit \u001b[39m=\u001b[39m instantiate_system(kwargs)\n\u001b[1;32m     76\u001b[0m     \u001b[39mif\u001b[39;00m kwargs\u001b[39m.\u001b[39mget(\u001b[39m\"\u001b[39m\u001b[39msignal\u001b[39m\u001b[39m\"\u001b[39m):\n",
      "File \u001b[0;32m~/Kode/gene-circuit-glitch-prediction/src/utils/common/setup_new.py:65\u001b[0m, in \u001b[0;36mcompose_kwargs\u001b[0;34m(internal_configs, config)\u001b[0m\n\u001b[1;32m     51\u001b[0m config \u001b[39m=\u001b[39m expand_model_config(config, data_manager\u001b[39m.\u001b[39mdata\u001b[39m.\u001b[39msample_names)\n\u001b[1;32m     53\u001b[0m kwargs \u001b[39m=\u001b[39m {\n\u001b[1;32m     54\u001b[0m     \u001b[39m\"\u001b[39m\u001b[39mdata\u001b[39m\u001b[39m\"\u001b[39m: data_manager\u001b[39m.\u001b[39mdata,\n\u001b[1;32m     55\u001b[0m     \u001b[39m\"\u001b[39m\u001b[39mdata_path\u001b[39m\u001b[39m\"\u001b[39m: data_manager\u001b[39m.\u001b[39msource,\n\u001b[0;32m   (...)\u001b[0m\n\u001b[1;32m     63\u001b[0m     \u001b[39m\"\u001b[39m\u001b[39msystem_type\u001b[39m\u001b[39m\"\u001b[39m: config\u001b[39m.\u001b[39mget(\u001b[39m\"\u001b[39m\u001b[39msystem_type\u001b[39m\u001b[39m\"\u001b[39m)\n\u001b[1;32m     64\u001b[0m }\n\u001b[0;32m---> 65\u001b[0m \u001b[39massert\u001b[39;00m \u001b[39mall\u001b[39m([e \u001b[39min\u001b[39;00m kwargs \u001b[39mfor\u001b[39;00m e \u001b[39min\u001b[39;00m ESSENTIAL_KWARGS]), \u001b[39m'\u001b[39m\u001b[39mSome of the kwargs for composing \u001b[39m\u001b[39m'\u001b[39m \\\n\u001b[1;32m     66\u001b[0m     \u001b[39mf\u001b[39m\u001b[39m'\u001b[39m\u001b[39ma circuit are not listed in essential kwargs \u001b[39m\u001b[39m{\u001b[39;00mESSENTIAL_KWARGS\u001b[39m}\u001b[39;00m\u001b[39m: \u001b[39m\u001b[39m{\u001b[39;00m\u001b[39mdict\u001b[39m({e: e \u001b[39min\u001b[39;00m kwargs \u001b[39mfor\u001b[39;00m e \u001b[39min\u001b[39;00m ESSENTIAL_KWARGS})\u001b[39m}\u001b[39;00m\u001b[39m'\u001b[39m\n\u001b[1;32m     67\u001b[0m \u001b[39mreturn\u001b[39;00m kwargs\n",
      "\u001b[0;31mAssertionError\u001b[0m: Some of the kwargs for composing a circuit are not listed in essential kwargs ['interaction_simulator', 'molecular_params', 'system_type']: {'interaction_simulator': True, 'molecular_params': False, 'system_type': True}"
     ]
    }
   ],
   "source": [
    "config = {}\n",
    "config['data_path'] = 'data/example/toy_mRNA_circuit.fasta'\n",
    "config = {\n",
    "    \"data_path\": \"data/example/toy_mRNA_circuit.fasta\",\n",
    "    \"experiment\": {\n",
    "        \"purpose\": \"example\"\n",
    "    },\n",
    "    \"molecular_params\": \"src/utils/circuit/common/configs/RNA_circuit/molecular_params.json\",\n",
    "    \"system_type\": \"RNA\"\n",
    "}\n",
    "\n",
    "config = construct_circuit_from_cfg(config_file=config, extra_configs=None)\n",
    "circuit = Circuit(config)"
   ]
  },
  {
   "cell_type": "code",
   "execution_count": null,
   "metadata": {},
   "outputs": [],
   "source": []
  },
  {
   "cell_type": "code",
   "execution_count": null,
   "metadata": {},
   "outputs": [],
   "source": []
  }
 ],
 "metadata": {
  "kernelspec": {
   "display_name": "Python 3.10.6 64-bit",
   "language": "python",
   "name": "python3"
  },
  "language_info": {
   "codemirror_mode": {
    "name": "ipython",
    "version": 3
   },
   "file_extension": ".py",
   "mimetype": "text/x-python",
   "name": "python",
   "nbconvert_exporter": "python",
   "pygments_lexer": "ipython3",
   "version": "3.10.6"
  },
  "orig_nbformat": 4,
  "vscode": {
   "interpreter": {
    "hash": "31f2aee4e71d21fbe5cf8b01ff0e069b9275f58929596ceb00d14d90e3e16cd6"
   }
  }
 },
 "nbformat": 4,
 "nbformat_minor": 2
}
