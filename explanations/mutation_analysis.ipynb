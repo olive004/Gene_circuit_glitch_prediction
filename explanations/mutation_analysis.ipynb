{
 "cells": [
  {
   "cell_type": "code",
   "execution_count": 6,
   "metadata": {},
   "outputs": [
    {
     "name": "stdout",
     "output_type": "stream",
     "text": [
      "The autoreload extension is already loaded. To reload it, use:\n",
      "  %reload_ext autoreload\n"
     ]
    }
   ],
   "source": [
    "%load_ext autoreload\n",
    "%autoreload 2"
   ]
  },
  {
   "cell_type": "code",
   "execution_count": 7,
   "metadata": {},
   "outputs": [],
   "source": [
    "from functools import partial\n",
    "import os\n",
    "import sys\n",
    "import numpy as np\n",
    "import jax\n",
    "import jax.numpy as jnp\n",
    "import diffrax as dfx\n",
    "import pandas as pd\n",
    "import seaborn as sns\n",
    "import matplotlib.pyplot as plt\n",
    "\n",
    "pink_palette = sns.cubehelix_palette(rot=0.5, start=2.7, gamma=1.1)\n",
    "\n",
    "jax.config.update('jax_platform_name', 'cpu')\n",
    "\n",
    "\n",
    "if __package__ is None:\n",
    "\n",
    "    module_path = os.path.abspath(os.path.join('..'))\n",
    "    sys.path.append(module_path)\n",
    "\n",
    "    __package__ = os.path.basename(module_path)\n",
    "\n",
    "\n",
    "from src.utils.results.analytics.naming import get_analytics_types_all, get_true_names_analytics, get_true_interaction_cols\n",
    "from src.utils.common.setup_new import construct_circuit_from_cfg, prepare_config\n",
    "from explanations.data_enhancing import enhance_data, proc_info, melt, summ"
   ]
  },
  {
   "cell_type": "code",
   "execution_count": 8,
   "metadata": {},
   "outputs": [],
   "source": [
    "og_dir = '../data/generate_seqs_flexible/2023_04_17_205800/'\n",
    "fn_og = os.path.join(og_dir, 'circuit_stats.csv')\n",
    "mut_dir = '../data/ensemble_mutation_effect_analysis/2023_05_16_174613/mutation_effect_on_interactions_signal'\n",
    "fn_mut = '../data/ensemble_mutation_effect_analysis/2023_05_16_174613/summarise_simulation/tabulated_mutation_info.csv'\n",
    "\n",
    "data = pd.read_csv(fn_mut)"
   ]
  },
  {
   "cell_type": "code",
   "execution_count": 9,
   "metadata": {},
   "outputs": [],
   "source": [
    "data, num_group_cols, num_bs_cols, numerical_cols, key_cols, mutation_log, bs_range_cols = proc_info(data)\n"
   ]
  },
  {
   "cell_type": "code",
   "execution_count": null,
   "metadata": {},
   "outputs": [
    {
     "name": "stderr",
     "output_type": "stream",
     "text": [
      "/home/wadh6511/Kode/gene-circuit-glitch-prediction/explanations/data_enhancing.py:121: FutureWarning: Not prepending group keys to the result index of transform-like apply. In the future, the group keys will be included in the index, regardless of whether the applied function returns a like-indexed object.\n",
      "To preserve the previous behavior, use\n",
      "\n",
      "\t>>> .groupby(..., group_keys=False)\n",
      "\n",
      "To adopt the future behavior and silence this warning, use \n",
      "\n",
      "\t>>> .groupby(..., group_keys=True)\n",
      "  infom[f'{k}_diffs'] = info.groupby(['circuit_name'])[get_true_interaction_cols2(info, k)].apply(\n",
      "/home/wadh6511/Kode/gene-circuit-glitch-prediction/explanations/data_enhancing.py:123: FutureWarning: Not prepending group keys to the result index of transform-like apply. In the future, the group keys will be included in the index, regardless of whether the applied function returns a like-indexed object.\n",
      "To preserve the previous behavior, use\n",
      "\n",
      "\t>>> .groupby(..., group_keys=False)\n",
      "\n",
      "To adopt the future behavior and silence this warning, use \n",
      "\n",
      "\t>>> .groupby(..., group_keys=True)\n",
      "  infom[f'{k}_diffs' + '_logm'] = mutation_log.groupby(['circuit_name'])[get_true_interaction_cols2(mutation_log, k)].apply(\n",
      "/home/wadh6511/Kode/gene-circuit-glitch-prediction/explanations/data_enhancing.py:121: FutureWarning: Not prepending group keys to the result index of transform-like apply. In the future, the group keys will be included in the index, regardless of whether the applied function returns a like-indexed object.\n",
      "To preserve the previous behavior, use\n",
      "\n",
      "\t>>> .groupby(..., group_keys=False)\n",
      "\n",
      "To adopt the future behavior and silence this warning, use \n",
      "\n",
      "\t>>> .groupby(..., group_keys=True)\n",
      "  infom[f'{k}_diffs'] = info.groupby(['circuit_name'])[get_true_interaction_cols2(info, k)].apply(\n",
      "/home/wadh6511/Kode/gene-circuit-glitch-prediction/explanations/data_enhancing.py:123: FutureWarning: Not prepending group keys to the result index of transform-like apply. In the future, the group keys will be included in the index, regardless of whether the applied function returns a like-indexed object.\n",
      "To preserve the previous behavior, use\n",
      "\n",
      "\t>>> .groupby(..., group_keys=False)\n",
      "\n",
      "To adopt the future behavior and silence this warning, use \n",
      "\n",
      "\t>>> .groupby(..., group_keys=True)\n",
      "  infom[f'{k}_diffs' + '_logm'] = mutation_log.groupby(['circuit_name'])[get_true_interaction_cols2(mutation_log, k)].apply(\n",
      "/home/wadh6511/Kode/gene-circuit-glitch-prediction/explanations/data_enhancing.py:121: FutureWarning: Not prepending group keys to the result index of transform-like apply. In the future, the group keys will be included in the index, regardless of whether the applied function returns a like-indexed object.\n",
      "To preserve the previous behavior, use\n",
      "\n",
      "\t>>> .groupby(..., group_keys=False)\n",
      "\n",
      "To adopt the future behavior and silence this warning, use \n",
      "\n",
      "\t>>> .groupby(..., group_keys=True)\n",
      "  infom[f'{k}_diffs'] = info.groupby(['circuit_name'])[get_true_interaction_cols2(info, k)].apply(\n",
      "/home/wadh6511/Kode/gene-circuit-glitch-prediction/explanations/data_enhancing.py:123: FutureWarning: Not prepending group keys to the result index of transform-like apply. In the future, the group keys will be included in the index, regardless of whether the applied function returns a like-indexed object.\n",
      "To preserve the previous behavior, use\n",
      "\n",
      "\t>>> .groupby(..., group_keys=False)\n",
      "\n",
      "To adopt the future behavior and silence this warning, use \n",
      "\n",
      "\t>>> .groupby(..., group_keys=True)\n",
      "  infom[f'{k}_diffs' + '_logm'] = mutation_log.groupby(['circuit_name'])[get_true_interaction_cols2(mutation_log, k)].apply(\n"
     ]
    }
   ],
   "source": [
    "# Mutation stats\n",
    "\n",
    "good_cols = list(data.columns)\n",
    "[good_cols.remove(x) for x in get_true_interaction_cols(data, 'binding_rates_dissociation') + get_true_interaction_cols(data, 'eqconstants') +\n",
    "get_true_interaction_cols(data, 'energies') + get_true_interaction_cols(data, 'binding_sites') + num_group_cols + num_bs_cols]\n",
    "# interaction = 'energies'\n",
    "dfm = melt(data[data['sample_name'] == 'RNA_0'], num_group_cols, num_bs_cols, numerical_cols, key_cols, mutation_log, bs_range_cols)\n",
    "# dfm = data[data['sample_name'] == 'RNA_0'].melt(good_cols, value_vars=get_true_interaction_cols(\n",
    "#     data, interaction), var_name='idx', value_name=interaction)"
   ]
  },
  {
   "attachments": {},
   "cell_type": "markdown",
   "metadata": {},
   "source": [
    "### Investigate gain of interaction mutations"
   ]
  },
  {
   "attachments": {},
   "cell_type": "markdown",
   "metadata": {},
   "source": [
    "For some reason there's a weird ranking in the mutation numbers"
   ]
  },
  {
   "cell_type": "code",
   "execution_count": null,
   "metadata": {},
   "outputs": [],
   "source": [
    "low_circs = dfm[(dfm['num_interacting'] == 2) & (dfm['num_self_interacting'] == 1) & (dfm['mutation_num'] == 0)]['circuit_name'].unique()\n",
    "\n",
    "gain_dfm = dfm[dfm['circuit_name'].isin(low_circs) & (dfm['mutation_num'] > 0) & (dfm['num_interacting'] >= 2) & (dfm['num_self_interacting'] >= 1)]"
   ]
  },
  {
   "cell_type": "code",
   "execution_count": null,
   "metadata": {},
   "outputs": [],
   "source": [
    "m = dfm.groupby(['mutation_num'], as_index=False).agg({'energies': 'mean'})\n",
    "m_no_other = dfm[dfm['num_interacting'] == 0].groupby(['mutation_num'], as_index=False).agg({'energies': 'mean'})\n",
    "m_no_self = dfm[dfm['num_self_interacting'] == 0].groupby(['mutation_num'], as_index=False).agg({'energies': 'mean'})\n",
    "m_both = dfm[(dfm['num_interacting'] > 0) & (dfm['num_self_interacting'] > 0)].groupby(['mutation_num'], as_index=False).agg({'energies': 'mean'})\n",
    "m_other = dfm[dfm['num_interacting'] > 0].groupby(['mutation_num'], as_index=False).agg({'energies': 'mean'})\n",
    "m_self = dfm[dfm['num_self_interacting'] > 0].groupby(['mutation_num'], as_index=False).agg({'energies': 'mean'})\n",
    "m_equal = dfm[dfm['num_self_interacting'] == dfm['num_interacting']].groupby(['mutation_num'], as_index=False).agg({'energies': 'mean'})\n",
    "\n",
    "plt.figure()\n",
    "sns.lineplot(m, x='mutation_num', y='energies', label='all')\n",
    "sns.lineplot(m_no_other, x='mutation_num', y='energies', label='no other')\n",
    "sns.lineplot(m_no_self, x='mutation_num', y='energies', label='no self')\n",
    "sns.lineplot(m_both, x='mutation_num', y='energies', label='both')\n",
    "sns.lineplot(m_other, x='mutation_num', y='energies', label='other')\n",
    "sns.lineplot(m_self, x='mutation_num', y='energies', label='self')\n",
    "sns.lineplot(m_equal, x='mutation_num', y='energies', label='equal')\n",
    "\n",
    "plt.xlabel('Number of mutations')\n",
    "plt.ylabel('Mean energy (kcal)')"
   ]
  },
  {
   "cell_type": "code",
   "execution_count": null,
   "metadata": {},
   "outputs": [],
   "source": [
    "m = gain_dfm.groupby(['mutation_num'], as_index=False).agg({'energies': 'mean'})\n",
    "m_equal = gain_dfm[gain_dfm['num_interacting'] == gain_dfm['num_self_interacting']].groupby(['mutation_num'], as_index=False).agg({'energies': 'mean'})\n",
    "m_other = gain_dfm[gain_dfm['num_interacting'] > gain_dfm['num_self_interacting']].groupby(['mutation_num'], as_index=False).agg({'energies': 'mean'})\n",
    "m_self = gain_dfm[gain_dfm['num_self_interacting'] > gain_dfm['num_interacting']].groupby(['mutation_num'], as_index=False).agg({'energies': 'mean'})\n",
    "\n",
    "\n",
    "plt.figure(figsize=(16,7))\n",
    "ax = plt.subplot(1,2,1)\n",
    "sns.lineplot(m, x='mutation_num', y='energies', label='all')\n",
    "sns.lineplot(m_equal, x='mutation_num', y='energies', label='equal')\n",
    "sns.lineplot(m_other, x='mutation_num', y='energies', label='other')\n",
    "sns.lineplot(m_self, x='mutation_num', y='energies', label='self')\n",
    "\n",
    "plt.xlabel('Number of mutations')\n",
    "plt.ylabel('Mean energy (kcal)')\n",
    "\n",
    "ax = plt.subplot(1,2,2)\n",
    "m = gain_dfm.groupby(['mutation_num', 'num_interacting', 'num_self_interacting'], as_index=False).agg({'energies': 'mean'})\n",
    "sns.lineplot(m, x='mutation_num', y='energies', hue='num_interacting', style='num_self_interacting')\n",
    "\n",
    "plt.suptitle('Gain of interactions upon mutation')\n"
   ]
  },
  {
   "cell_type": "code",
   "execution_count": null,
   "metadata": {},
   "outputs": [],
   "source": [
    "dfm['bs_group_index'] = dfm['num_bs'].apply(lambda x: list(np.arange(len(x))))\n",
    "dfm_e_bs = dfm.explode(column=['num_bs', 'bs_group_index'])"
   ]
  },
  {
   "cell_type": "code",
   "execution_count": null,
   "metadata": {},
   "outputs": [],
   "source": [
    "plt.figure(figsize=(18,6))\n",
    "ax = plt.subplot(1,3,1)\n",
    "sns.lineplot(dfm, x='mutation_num', y='num_groups')\n",
    "plt.xlabel('# mutations')\n",
    "plt.ylabel('Number of binding site groups')\n",
    "\n",
    "ax = plt.subplot(1,3,2)\n",
    "sns.lineplot(dfm_e_bs.reset_index(), x='mutation_num', y='num_bs')\n",
    "plt.xlabel('# mutations')\n",
    "plt.ylabel('Binding site length')\n",
    "\n",
    "ax = plt.subplot(1,3,3)\n",
    "sns.lineplot(dfm_e_bs.reset_index(), x='num_groups', y='num_bs', hue='mutation_num', palette='viridis_r')\n",
    "plt.ylabel('Binding site length')\n",
    "plt.xlabel('Number of binding site groups')\n",
    "\n"
   ]
  },
  {
   "cell_type": "code",
   "execution_count": null,
   "metadata": {},
   "outputs": [],
   "source": [
    "plt.figure(figsize=(18,6))\n",
    "ax = plt.subplot(1,3,1)\n",
    "sns.histplot(dfm, hue='mutation_num', x='num_groups', element='step', palette='viridis_r', bins = 7, log_scale=[False, True])\n",
    "plt.xlabel('Number of binding site groups')\n",
    "\n",
    "ax = plt.subplot(1,3,2)\n",
    "sns.catplot(dfm_e_bs.reset_index(), kind='count', hue='mutation_num', x='num_bs', palette='viridis_r', log_scale=[False, True])\n",
    "plt.xlabel('Binding site length')"
   ]
  },
  {
   "cell_type": "code",
   "execution_count": null,
   "metadata": {},
   "outputs": [],
   "source": [
    "plt.figure(figsize=(16, 7))\n",
    "ax = plt.subplot(1,2,1)\n",
    "sns.lineplot(dfm_e_bs.reset_index(), x='num_bs', y='energies', hue='mutation_num', palette='viridis_r')\n",
    "plt.xlabel('Binding site length')\n",
    "plt.ylabel('Energies (kcal)')\n",
    "ax = plt.subplot(1,2,2)\n",
    "sns.lineplot(dfm_e_bs.reset_index(), x='num_groups', y='energies', hue='mutation_num', palette='viridis_r')\n",
    "plt.xlabel('Number of binding site groups')\n",
    "plt.ylabel('Energies (kcal)')"
   ]
  }
 ],
 "metadata": {
  "kernelspec": {
   "display_name": "env_circuits",
   "language": "python",
   "name": "python3"
  },
  "language_info": {
   "codemirror_mode": {
    "name": "ipython",
    "version": 3
   },
   "file_extension": ".py",
   "mimetype": "text/x-python",
   "name": "python",
   "nbconvert_exporter": "python",
   "pygments_lexer": "ipython3",
   "version": "3.10.6"
  },
  "orig_nbformat": 4
 },
 "nbformat": 4,
 "nbformat_minor": 2
}
