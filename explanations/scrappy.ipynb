{
 "cells": [
  {
   "attachments": {},
   "cell_type": "markdown",
   "metadata": {},
   "source": [
    "# Just for testing random things"
   ]
  },
  {
   "cell_type": "code",
   "execution_count": 1,
   "metadata": {},
   "outputs": [],
   "source": [
    "%load_ext autoreload\n",
    "%autoreload 2"
   ]
  },
  {
   "cell_type": "code",
   "execution_count": 10,
   "metadata": {},
   "outputs": [],
   "source": [
    "import numpy as np\n",
    "import jax\n",
    "import jax.numpy as jnp\n",
    "import pandas as pd\n",
    "import seaborn as sns\n",
    "import matplotlib.pyplot as plt\n",
    "\n",
    "from functools import partial\n",
    "import os\n",
    "import sys\n",
    "import umap\n",
    "from sklearn.manifold import TSNE\n",
    "from sklearn.preprocessing import StandardScaler\n",
    "\n",
    "\n",
    "if __package__ is None:\n",
    "\n",
    "    module_path = os.path.abspath(os.path.join('..'))\n",
    "    sys.path.append(module_path)\n",
    "\n",
    "    __package__ = os.path.basename(module_path)\n",
    "\n",
    "\n",
    "from src.utils.misc.numerical import count_monotonic_group_lengths, find_monotonic_group_idxs, is_within_range\n",
    "from src.utils.misc.string_handling import string_to_tuple_list\n",
    "from src.utils.results.analytics.naming import get_true_interaction_cols\n",
    "from src.utils.misc.type_handling import flatten_listlike, get_first_elements\n",
    "from src.utils.misc.string_handling import prettify_keys_for_label\n",
    "from tests_local.shared import CONFIG\n",
    "from explanations.data_enhancing import enhance_data\n"
   ]
  },
  {
   "cell_type": "code",
   "execution_count": 36,
   "metadata": {},
   "outputs": [],
   "source": [
    "\n",
    "batch = 90\n",
    "data = jnp.ones((batch, 9, 1000))\n",
    "ref = jnp.ones((9, 200))\n",
    "\n",
    "def f(data, ref):\n",
    "    t_max = min([jnp.shape(data)[-1], jnp.shape(ref)[-1]]) \n",
    "    rmse = jnp.sqrt(\n",
    "        jnp.sum(jnp.divide(jnp.power(data[:, :t_max] - ref[:, :t_max], 2), jnp.shape(data)[1]), axis=1))\n",
    "    return jnp.expand_dims(rmse, axis=1)\n",
    "\n",
    "\n",
    "ff = jax.vmap(partial(f, ref=ref))\n",
    "rmse = ff(data=data)\n"
   ]
  },
  {
   "cell_type": "code",
   "execution_count": null,
   "metadata": {},
   "outputs": [],
   "source": []
  }
 ],
 "metadata": {
  "kernelspec": {
   "display_name": "env_circuits",
   "language": "python",
   "name": "python3"
  },
  "language_info": {
   "codemirror_mode": {
    "name": "ipython",
    "version": 3
   },
   "file_extension": ".py",
   "mimetype": "text/x-python",
   "name": "python",
   "nbconvert_exporter": "python",
   "pygments_lexer": "ipython3",
   "version": "3.10.6"
  },
  "orig_nbformat": 4,
  "vscode": {
   "interpreter": {
    "hash": "172594369b7e917b537188c81f1a7108d427e78c3b158785db52bc1182200d3e"
   }
  }
 },
 "nbformat": 4,
 "nbformat_minor": 2
}
