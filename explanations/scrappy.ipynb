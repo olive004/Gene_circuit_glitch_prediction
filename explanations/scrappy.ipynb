{
 "cells": [
  {
   "attachments": {},
   "cell_type": "markdown",
   "metadata": {},
   "source": [
    "# Just for testing random things"
   ]
  },
  {
   "cell_type": "code",
   "execution_count": 3,
   "metadata": {},
   "outputs": [],
   "source": [
    "import numpy as np\n",
    "import os\n",
    "import sys\n",
    "\n",
    "\n",
    "if __package__ is None:\n",
    "\n",
    "    module_path = os.path.abspath(os.path.join('..'))\n",
    "    sys.path.append(module_path)\n",
    "\n",
    "    __package__ = os.path.basename(module_path)\n",
    "\n",
    "\n",
    "from src.utils.modelling.physical import equilibrium_constant_reparameterisation\n",
    "from src.srv.parameter_prediction.interactions import INTERACTION_FIELDS_TO_WRITE\n",
    "from src.utils.misc.type_handling import flatten_listlike\n",
    "from src.utils.misc.io import get_pathnames\n"
   ]
  },
  {
   "cell_type": "code",
   "execution_count": 8,
   "metadata": {},
   "outputs": [],
   "source": [
    "search_dirs = '../data/generate_seqs_flexible/2023_04_17_205800/simulated_circuits'\n",
    "\n",
    "if not any([os.path.isdir(os.path.join(search_dirs, i)) for i in INTERACTION_FIELDS_TO_WRITE]):\n",
    "    search_dirs = [f.path for f in os.scandir(search_dirs) if f.is_dir()] + \\\n",
    "        flatten_listlike([[ff.path for ff in os.scandir(os.path.join(\n",
    "            f.path, 'mutations'))] for f in os.scandir(search_dirs) if f.is_dir() and os.path.isdir(os.path.join(f.path, 'mutations'))])\n",
    "else:\n",
    "    search_dirs = [search_dirs]\n",
    "\n"
   ]
  },
  {
   "cell_type": "code",
   "execution_count": 10,
   "metadata": {},
   "outputs": [
    {
     "data": {
      "text/plain": [
       "1000003"
      ]
     },
     "execution_count": 10,
     "metadata": {},
     "output_type": "execute_result"
    }
   ],
   "source": [
    "len(search_dirs)"
   ]
  },
  {
   "cell_type": "code",
   "execution_count": null,
   "metadata": {},
   "outputs": [],
   "source": []
  }
 ],
 "metadata": {
  "kernelspec": {
   "display_name": "env_circuits",
   "language": "python",
   "name": "python3"
  },
  "language_info": {
   "codemirror_mode": {
    "name": "ipython",
    "version": 3
   },
   "file_extension": ".py",
   "mimetype": "text/x-python",
   "name": "python",
   "nbconvert_exporter": "python",
   "pygments_lexer": "ipython3",
   "version": "3.10.6"
  },
  "orig_nbformat": 4,
  "vscode": {
   "interpreter": {
    "hash": "172594369b7e917b537188c81f1a7108d427e78c3b158785db52bc1182200d3e"
   }
  }
 },
 "nbformat": 4,
 "nbformat_minor": 2
}
