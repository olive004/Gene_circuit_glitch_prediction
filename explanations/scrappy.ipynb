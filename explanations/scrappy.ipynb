{
 "cells": [
  {
   "attachments": {},
   "cell_type": "markdown",
   "metadata": {},
   "source": [
    "# Just for testing random things"
   ]
  },
  {
   "cell_type": "code",
   "execution_count": 3,
   "metadata": {},
   "outputs": [],
   "source": [
    "import numpy as np\n",
    "import pandas as pd\n",
    "import os\n",
    "import sys\n",
    "\n",
    "\n",
    "if __package__ is None:\n",
    "\n",
    "    module_path = os.path.abspath(os.path.join('..'))\n",
    "    sys.path.append(module_path)\n",
    "\n",
    "    __package__ = os.path.basename(module_path)\n",
    "\n",
    "\n",
    "from src.utils.data.data_format_tools.manipulate_fasta \\\n",
    "    import load_seq_from_FASTA\n"
   ]
  },
  {
   "cell_type": "code",
   "execution_count": 5,
   "metadata": {},
   "outputs": [
    {
     "name": "stdout",
     "output_type": "stream",
     "text": [
      "['CUGUUCAAUCGGUAUGCCAG', 'CCCAUGGUGGCAUGAUCAUG', 'UCAAAGCAUGCUGCACCAGA']\n",
      "['AUGUUGACGGUUAGAUCAAA', 'UAGACGUGGCCGUAUCUGUU', 'GGAGUUAACGGAUAUUUAGC']\n",
      "['UGGGACCGGUUAAUUGUUGG', 'CAAUUGGCUGAUAAGAACCG', 'UUAGCUAGCCUGCGAUAGUU']\n",
      "['GAUAGAUUUGGCCACGGGCA', 'CGUAUGUGGGUUUAUAGACU', 'AUUAAAUUUUAGAAACACCG']\n",
      "['CACAGGCCUGUGAUCUCCGA', 'GGAGCGCGCUACAGGUCAGC', 'CCGGCUUGUACAACGUAAGA']\n"
     ]
    }
   ],
   "source": [
    "strong_circs = [\"../data/StrongCircuits/toy_mRNA_circuit_47432.fasta\",\n",
    "                \"../data/StrongCircuits/toy_mRNA_circuit_48203.fasta\",\n",
    "                \"../data/StrongCircuits/toy_mRNA_circuit_48267.fasta\",\n",
    "                \"../data/StrongCircuits/toy_mRNA_circuit_59016.fasta\",\n",
    "                \"../data/StrongCircuits/toy_mRNA_circuit_125550.fasta\"]\n",
    "\n",
    "for i in strong_circs:\n",
    "    f = load_seq_from_FASTA(i)\n",
    "    print(f)"
   ]
  },
  {
   "cell_type": "code",
   "execution_count": 7,
   "metadata": {},
   "outputs": [
    {
     "data": {
      "text/plain": [
       "['GCCCCGGGGCUCUCUAUACG', 'GGUACUCGAGGAUUCGCAGU', 'AGCUAUGCAUACCCAGCGAU']"
      ]
     },
     "execution_count": 7,
     "metadata": {},
     "output_type": "execute_result"
    }
   ],
   "source": [
    "load_seq_from_FASTA('../data/toy_mRNA_circuit_133814.fasta')"
   ]
  },
  {
   "cell_type": "code",
   "execution_count": 9,
   "metadata": {},
   "outputs": [
    {
     "data": {
      "text/plain": [
       "['CGUGACGCUGGUUUCCUCCC', 'UAGGAAGCCAGCGCCGCACU', 'GCUGGAACUUCAGAAGUUGA']"
      ]
     },
     "execution_count": 9,
     "metadata": {},
     "output_type": "execute_result"
    }
   ],
   "source": [
    "load_seq_from_FASTA('../data/toy_mRNA_circuit_132502.fasta')\n"
   ]
  },
  {
   "cell_type": "code",
   "execution_count": 11,
   "metadata": {},
   "outputs": [
    {
     "data": {
      "text/plain": [
       "array([0, 1, 2, 3, 4, 5, 6, 7, 8, 0, 1, 2, 3, 4, 5, 6, 7, 8, 0, 1, 2, 3,\n",
       "       4, 5, 6, 7, 8])"
      ]
     },
     "execution_count": 11,
     "metadata": {},
     "output_type": "execute_result"
    }
   ],
   "source": [
    "path_to_df = 'output/5_Keqs_all/df.csv'\n",
    "adf = pd.read_csv(path_to_df) \n"
   ]
  },
  {
   "cell_type": "code",
   "execution_count": null,
   "metadata": {},
   "outputs": [],
   "source": []
  }
 ],
 "metadata": {
  "kernelspec": {
   "display_name": "env_circuits",
   "language": "python",
   "name": "python3"
  },
  "language_info": {
   "codemirror_mode": {
    "name": "ipython",
    "version": 3
   },
   "file_extension": ".py",
   "mimetype": "text/x-python",
   "name": "python",
   "nbconvert_exporter": "python",
   "pygments_lexer": "ipython3",
   "version": "3.8.1"
  },
  "orig_nbformat": 4,
  "vscode": {
   "interpreter": {
    "hash": "172594369b7e917b537188c81f1a7108d427e78c3b158785db52bc1182200d3e"
   }
  }
 },
 "nbformat": 4,
 "nbformat_minor": 2
}
