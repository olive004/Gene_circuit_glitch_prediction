{
 "cells": [
  {
   "attachments": {},
   "cell_type": "markdown",
   "metadata": {},
   "source": [
    "# Just for testing random things"
   ]
  },
  {
   "cell_type": "code",
   "execution_count": 1,
   "metadata": {},
   "outputs": [],
   "source": [
    "import numpy as np\n",
    "import os\n",
    "import sys\n",
    "\n",
    "\n",
    "if __package__ is None:\n",
    "\n",
    "    module_path = os.path.abspath(os.path.join('..'))\n",
    "    sys.path.append(module_path)\n",
    "\n",
    "    __package__ = os.path.basename(module_path)\n",
    "\n",
    "\n",
    "from src.utils.modelling.physical import equilibrium_constant_reparameterisation"
   ]
  },
  {
   "cell_type": "code",
   "execution_count": 8,
   "metadata": {},
   "outputs": [
    {
     "name": "stdout",
     "output_type": "stream",
     "text": [
      "[]\n"
     ]
    }
   ],
   "source": [
    "def string_to_tuple_list(string):\n",
    "    if not string:\n",
    "        return []\n",
    "    else:\n",
    "        return [(int(x), int(y)) for x, y in (t.strip('()').split(',') for t in string.split(':'))]\n",
    "\n",
    "s = \"(1,10):(2,9):(3,8):(4,7):(5,6):(6,5):(7,4):(8,3):(9,2):(10,1)\"\n",
    "tuples = string_to_tuple_list('')\n",
    "print(tuples)"
   ]
  },
  {
   "cell_type": "code",
   "execution_count": 9,
   "metadata": {},
   "outputs": [
    {
     "name": "stdout",
     "output_type": "stream",
     "text": [
      "                                             column1\n",
      "0  [(1, 10), (2, 9), (3, 8), (4, 7), (5, 6), (6, ...\n",
      "1                                                 []\n",
      "2                           [(2, 3), (4, 5), (6, 7)]\n"
     ]
    }
   ],
   "source": [
    "import pandas as pd\n",
    "\n",
    "# def string_to_tuple_list(string):\n",
    "#     return [(int(x), int(y)) for x, y in [t.split(',') for t in string.split(':')]]\n",
    "\n",
    "def string_to_tuple_list(s):\n",
    "    tuple_strings = s.split(':')\n",
    "    tuples = [tuple(map(int, ts.strip('()').split(','))) for ts in tuple_strings]\n",
    "    return tuples\n",
    "\n",
    "# Create a sample DataFrame\n",
    "df = pd.DataFrame({'column1': ['(1,10):(2,9):(3,8):(4,7):(5,6):(6,5):(7,4):(8,3):(9,2):(10,1)', '', '(2,3):(4,5):(6,7)']})\n",
    "\n",
    "# Apply the function to the DataFrame column\n",
    "df['column1'] = df['column1'].apply(lambda x: string_to_tuple_list(x) if x else [])\n",
    "\n",
    "# Print the updated DataFrame\n",
    "print(df)"
   ]
  },
  {
   "cell_type": "code",
   "execution_count": 3,
   "metadata": {},
   "outputs": [
    {
     "data": {
      "text/plain": [
       "array([['0.0', '0.0', '0.0'],\n",
       "       ['0.0', '0.0', '0.0'],\n",
       "       ['0.0', '0.0', '0.0']], dtype='<U32')"
      ]
     },
     "execution_count": 3,
     "metadata": {},
     "output_type": "execute_result"
    }
   ],
   "source": [
    "binding = np.zeros((3, 3)).astype(str)\n",
    "binding"
   ]
  },
  {
   "cell_type": "code",
   "execution_count": 4,
   "metadata": {},
   "outputs": [
    {
     "data": {
      "text/plain": [
       "array([['', '', ''],\n",
       "       ['', '', ''],\n",
       "       ['', '', '']], dtype='<U1')"
      ]
     },
     "execution_count": 4,
     "metadata": {},
     "output_type": "execute_result"
    }
   ],
   "source": [
    "np.array([[''] * 3] * 3).astype(str)"
   ]
  },
  {
   "cell_type": "code",
   "execution_count": null,
   "metadata": {},
   "outputs": [],
   "source": []
  }
 ],
 "metadata": {
  "kernelspec": {
   "display_name": "env_circuits",
   "language": "python",
   "name": "python3"
  },
  "language_info": {
   "codemirror_mode": {
    "name": "ipython",
    "version": 3
   },
   "file_extension": ".py",
   "mimetype": "text/x-python",
   "name": "python",
   "nbconvert_exporter": "python",
   "pygments_lexer": "ipython3",
   "version": "3.10.6"
  },
  "orig_nbformat": 4,
  "vscode": {
   "interpreter": {
    "hash": "172594369b7e917b537188c81f1a7108d427e78c3b158785db52bc1182200d3e"
   }
  }
 },
 "nbformat": 4,
 "nbformat_minor": 2
}
