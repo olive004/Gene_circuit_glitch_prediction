{
 "cells": [
  {
   "attachments": {},
   "cell_type": "markdown",
   "metadata": {},
   "source": [
    "# Just for testing random things"
   ]
  },
  {
   "cell_type": "code",
   "execution_count": 1,
   "metadata": {},
   "outputs": [],
   "source": [
    "import numpy as np\n",
    "import os\n",
    "import sys\n",
    "\n",
    "\n",
    "if __package__ is None:\n",
    "\n",
    "    module_path = os.path.abspath(os.path.join('..'))\n",
    "    sys.path.append(module_path)\n",
    "\n",
    "    __package__ = os.path.basename(module_path)\n",
    "\n",
    "\n",
    "from src.utils.modelling.physical import equilibrium_constant_reparameterisation"
   ]
  },
  {
   "cell_type": "code",
   "execution_count": null,
   "metadata": {},
   "outputs": [],
   "source": [
    "overshoot\n",
    "sensitivity_wrt_species-6_diff_to_base_circuit\n",
    "sensitivity_wrt_species-6\n",
    "overshoot_diff_to_base_circuit\n",
    "eqconstants\n",
    "precision_wrt_species-6\n",
    "precision_wrt_species-6_diff_to_base_circuit\n",
    "precision_wrt_species-6_ratio_from_mutation_to_base\n",
    "sensitivity_wrt_species-6_ratio_from_mutation_to_base\n",
    "fold_change\n",
    "fold_change_diff_to_base_circuit\n",
    "energies\n",
    "fold_change_ratio_from_mutation_to_base\n",
    "steady_states\n",
    "binding_rates_dissociation\n",
    "steady_states_diff_to_base_circuit\n",
    "steady_states_ratio_from_mutation_to_base\n",
    "RMSE\n",
    "mutation_num\n",
    "\n",
    "\n",
    "-0.038462\n",
    "-0.028947\n",
    "-0.027774\n",
    "-0.027662\n",
    "-0.003962\n",
    "-0.002128\n",
    "-0.002128\n",
    "-0.001370\n",
    " 0.007494\n",
    " 0.023426\n",
    " 0.024350\n",
    " 0.025348\n",
    " 0.028379\n",
    " 0.031816\n",
    " 0.031835\n",
    " 0.035148\n",
    " 0.039399\n",
    " 0.088692\n",
    " 1.000000\n",
    "\n",
    "\n",
    "overshoot\n",
    "sensitivity_wrt_species-6_diff_to_base_circuit\n",
    "sensitivity_wrt_species-6\n",
    "overshoot_diff_to_base_circuit\n",
    "eqconstants\n",
    "precision_wrt_species-6\n",
    "precision_wrt_species-6_diff_to_base_circuit\n",
    "precision_wrt_species-6_ratio_from_mutation_to_base\n",
    "sensitivity_wrt_species-6_ratio_from_mutation_to_base\n",
    "fold_change\n",
    "fold_change_diff_to_base_circuit\n",
    "energies\n",
    "fold_change_ratio_from_mutation_to_base\n",
    "steady_states\n",
    "binding_rates_dissociation\n",
    "steady_states_diff_to_base_circuit\n",
    "steady_states_ratio_from_mutation_to_base\n",
    "RMSE\n",
    "mutation_num"
   ]
  }
 ],
 "metadata": {
  "kernelspec": {
   "display_name": "env_circuits",
   "language": "python",
   "name": "python3"
  },
  "language_info": {
   "codemirror_mode": {
    "name": "ipython",
    "version": 3
   },
   "file_extension": ".py",
   "mimetype": "text/x-python",
   "name": "python",
   "nbconvert_exporter": "python",
   "pygments_lexer": "ipython3",
   "version": "3.10.6"
  },
  "orig_nbformat": 4,
  "vscode": {
   "interpreter": {
    "hash": "172594369b7e917b537188c81f1a7108d427e78c3b158785db52bc1182200d3e"
   }
  }
 },
 "nbformat": 4,
 "nbformat_minor": 2
}
