{
 "cells": [
  {
   "attachments": {},
   "cell_type": "markdown",
   "metadata": {},
   "source": [
    "# Basic RNA circuit simulation \n",
    "\n"
   ]
  },
  {
   "cell_type": "code",
   "execution_count": 5,
   "metadata": {},
   "outputs": [
    {
     "name": "stdout",
     "output_type": "stream",
     "text": [
      "The autoreload extension is already loaded. To reload it, use:\n",
      "  %reload_ext autoreload\n"
     ]
    }
   ],
   "source": [
    "%load_ext autoreload\n",
    "%autoreload 2"
   ]
  },
  {
   "cell_type": "code",
   "execution_count": 6,
   "metadata": {},
   "outputs": [],
   "source": [
    "from bioreaction.simulation.basic_sim import convert_model\n",
    "\n",
    "import jax\n",
    "import numpy as np\n",
    "import pandas as pd\n",
    "import os\n",
    "import sys\n",
    "\n",
    "from datetime import datetime\n",
    "import matplotlib.pyplot as plt\n",
    "import seaborn as sns\n",
    "plt.style.use('seaborn-v0_8-paper')\n",
    "os.environ[\"TF_CPP_MIN_LOG_LOVEL\"] = \"0\"\n",
    "jax.config.update('jax_platform_name', 'gpu')\n",
    "\n",
    "\n",
    "if __package__ is None:\n",
    "\n",
    "    module_path = os.path.abspath(os.path.join('..'))\n",
    "    sys.path.append(module_path)\n",
    "\n",
    "    __package__ = os.path.basename(module_path)\n",
    "\n",
    "\n",
    "from src.utils.data.data_format_tools.common import load_json_as_dict\n",
    "from src.utils.common.setup_new import prepare_config, construct_circuit_from_cfg\n",
    "from src.utils.circuit.agnostic_circuits.circuit_manager_new import CircuitModeller\n",
    "from src.utils.evolution.evolver import load_mutations\n",
    "from tests_local.shared import five_circuits\n",
    "\n",
    "config = load_json_as_dict('../tests_local/configs/simple_circuit.json')\n"
   ]
  },
  {
   "cell_type": "code",
   "execution_count": 7,
   "metadata": {},
   "outputs": [],
   "source": [
    "\n",
    "\n",
    "\n",
    "def update_model_rates(model, a=None, d=None, ka=None, kd=None):\n",
    "    for i, r in enumerate(model.reactions):\n",
    "        if not r.input:  # 0 -> RNA\n",
    "            if a is not None:\n",
    "                model.reactions[i].forward_rate = a[model.species.index(\n",
    "                    r.output[0])]\n",
    "                model.reactions[i].reverse_rate = 0\n",
    "        elif not r.output:  # RNA -> 0\n",
    "            if d is not None:\n",
    "                model.reactions[i].forward_rate = d[model.species.index(\n",
    "                    r.input[0])]\n",
    "                model.reactions[i].reverse_rate = 0\n",
    "        else: # unbound RNA -> bound RNA\n",
    "            if ka is not None:\n",
    "                model.reactions[i].forward_rate = ka[model.species.index(r.input[0]),\n",
    "                                                     model.species.index(r.input[1])]\n",
    "            if kd is not None:\n",
    "                model.reactions[i].reverse_rate = kd[model.species.index(r.input[0]),\n",
    "                                                     model.species.index(r.input[1])]\n",
    "    return model\n",
    "\n",
    "\n",
    "def make_params(model, scale_rates=True):\n",
    "    sim_model = convert_model(model)\n",
    "\n",
    "    if scale_rates:\n",
    "        m = np.max([sim_model.forward_rates.max(), sim_model.reverse_rates.max()])\n",
    "    else:\n",
    "        m = 1\n",
    "    inputs = sim_model.inputs\n",
    "    outputs = sim_model.outputs\n",
    "    forward_rates = sim_model.forward_rates/m\n",
    "    reverse_rates = sim_model.reverse_rates/m\n",
    "    return inputs, outputs, forward_rates, reverse_rates, m"
   ]
  },
  {
   "attachments": {},
   "cell_type": "markdown",
   "metadata": {},
   "source": [
    "Use the 5 tester circuits :)"
   ]
  },
  {
   "cell_type": "code",
   "execution_count": 8,
   "metadata": {},
   "outputs": [
    {
     "name": "stderr",
     "output_type": "stream",
     "text": [
      "experiment_loading.py:load_units():35: Units unknown - supply a valid experiment directory instead of ../tests_local/configs/binding_rates_dissociation/0_weak_binding_rates_dissociation.csv WARNING\n",
      "experiment_loading.py:load_units():35: Units unknown - supply a valid experiment directory instead of ../tests_local/configs/eqconstants/0_weak_eqconstants.csv WARNING\n",
      "experiment_loading.py:load_units():35: Units unknown - supply a valid experiment directory instead of ../tests_local/configs/energies/0_weak_energies.csv WARNING\n",
      "experiment_loading.py:load_units():35: Units unknown - supply a valid experiment directory instead of ../tests_local/configs/binding_sites/0_weak_binding_sites.csv WARNING\n",
      "experiment_loading.py:load_units():35: Units unknown - supply a valid experiment directory instead of ../tests_local/configs/binding_rates_dissociation/1_med_weak_binding_rates_dissociation.csv WARNING\n",
      "experiment_loading.py:load_units():35: Units unknown - supply a valid experiment directory instead of ../tests_local/configs/eqconstants/1_med_weak_eqconstants.csv WARNING\n",
      "experiment_loading.py:load_units():35: Units unknown - supply a valid experiment directory instead of ../tests_local/configs/energies/1_med_weak_energies.csv WARNING\n",
      "experiment_loading.py:load_units():35: Units unknown - supply a valid experiment directory instead of ../tests_local/configs/binding_sites/1_med_weak_binding_sites.csv WARNING\n",
      "experiment_loading.py:load_units():35: Units unknown - supply a valid experiment directory instead of ../tests_local/configs/binding_rates_dissociation/2_medium_binding_rates_dissociation.csv WARNING\n",
      "experiment_loading.py:load_units():35: Units unknown - supply a valid experiment directory instead of ../tests_local/configs/eqconstants/2_medium_eqconstants.csv WARNING\n",
      "experiment_loading.py:load_units():35: Units unknown - supply a valid experiment directory instead of ../tests_local/configs/energies/2_medium_energies.csv WARNING\n",
      "experiment_loading.py:load_units():35: Units unknown - supply a valid experiment directory instead of ../tests_local/configs/binding_sites/2_medium_binding_sites.csv WARNING\n",
      "experiment_loading.py:load_units():35: Units unknown - supply a valid experiment directory instead of ../tests_local/configs/binding_rates_dissociation/3_med_strong_binding_rates_dissociation.csv WARNING\n",
      "experiment_loading.py:load_units():35: Units unknown - supply a valid experiment directory instead of ../tests_local/configs/eqconstants/3_med_strong_eqconstants.csv WARNING\n",
      "experiment_loading.py:load_units():35: Units unknown - supply a valid experiment directory instead of ../tests_local/configs/energies/3_med_strong_energies.csv WARNING\n",
      "experiment_loading.py:load_units():35: Units unknown - supply a valid experiment directory instead of ../tests_local/configs/binding_sites/3_med_strong_binding_sites.csv WARNING\n",
      "experiment_loading.py:load_units():35: Units unknown - supply a valid experiment directory instead of ../tests_local/configs/binding_rates_dissociation/4_strong_binding_rates_dissociation.csv WARNING\n",
      "experiment_loading.py:load_units():35: Units unknown - supply a valid experiment directory instead of ../tests_local/configs/eqconstants/4_strong_eqconstants.csv WARNING\n",
      "experiment_loading.py:load_units():35: Units unknown - supply a valid experiment directory instead of ../tests_local/configs/energies/4_strong_energies.csv WARNING\n",
      "experiment_loading.py:load_units():35: Units unknown - supply a valid experiment directory instead of ../tests_local/configs/binding_sites/4_strong_binding_sites.csv WARNING\n"
     ]
    }
   ],
   "source": [
    "config = prepare_config(config)\n",
    "config['include_prod_deg'] = True\n",
    "config['simulation']['use_rate_scaling'] = False\n",
    "\n",
    "q = 2\n",
    "p = 30\n",
    "config['molecular_params_factor'] = p\n",
    "config['simulation']['interaction_factor'] = 1\n",
    "config['molecular_params']['creation_rate'] = config['molecular_params']['creation_rate'] * q\n",
    "config['molecular_params']['creation_rate' + '_per_molecule'] = config['molecular_params']['creation_rate' + '_per_molecule'] * q\n",
    "# config['simulation']['dt'] = 0.1\n",
    "# config['molecular_params']['creation_rate'] = config['molecular_params']['creation_rate'] * p\n",
    "# config['molecular_params']['degradation_rate'] = config['molecular_params']['degradation_rate'] * p\n",
    "circuits, config, result_writer = five_circuits(config)"
   ]
  },
  {
   "cell_type": "code",
   "execution_count": 9,
   "metadata": {},
   "outputs": [
    {
     "data": {
      "text/plain": [
       "[None, None, None, None, None]"
      ]
     },
     "execution_count": 9,
     "metadata": {},
     "output_type": "execute_result"
    }
   ],
   "source": [
    "\n",
    "\n",
    "def load_circuit(top_dir, circuit_name, config):\n",
    "    dp = os.path.join(top_dir, 'circuits', circuit_name + '.fasta')\n",
    "    interactions = {'binding_rates_association': config['molecular_params']['association_binding_rate' + '_per_molecule'],\n",
    "                    'binding_rates_dissociation': os.path.join(top_dir, 'binding_rates_dissociation', circuit_name + '_' + 'binding_rates_dissociation' + '.csv'),\n",
    "                    'eqconstants': os.path.join(top_dir, 'eqconstants', circuit_name + '_' + 'eqconstants' + '.csv'),\n",
    "                    'energies': os.path.join(top_dir, 'energies', circuit_name + '_' + 'energies' + '.csv'),\n",
    "                    'binding_sites': os.path.join(top_dir, 'binding_sites', circuit_name + '_' + 'binding_sites' + '.csv')}\n",
    "\n",
    "    return construct_circuit_from_cfg({\n",
    "        'data_path': dp,\n",
    "        'interactions': interactions\n",
    "    }, config)\n",
    "\n",
    "# tester_circuit = load_circuit(top_dir='data/ensemble_mutation_effect_analysis/2023_04_04_092945/generate_species_templates',\n",
    "#              circuit_name='toy_mRNA_circuit_1844', config=config)\n",
    "\n",
    "\n",
    "tester_circuits = []\n",
    "for name in ['toy_mRNA_circuit_21566', 'toy_mRNA_circuit_24706', 'toy_mRNA_circuit_19768', 'toy_mRNA_circuit_2983', 'toy_mRNA_circuit_22658']:\n",
    "    fn = os.path.join('..', 'data/ensemble_mutation_effect_analysis/2023_04_11_192013/mutation_effect_on_interactions_signal', name, 'mutations.csv')\n",
    "    tester_circuit = load_circuit(top_dir='data/ensemble_mutation_effect_analysis/2023_04_04_092945/generate_species_templates',\n",
    "                                        circuit_name=name, config=config)\n",
    "    tester_circuit = load_mutations(tester_circuit, fn)\n",
    "    tester_circuits.append(tester_circuit)\n",
    "\n",
    "# config['interactions'] = {}\n",
    "# config['interactions'] = None\n",
    "# tester_circuit = construct_circuit_from_cfg(\n",
    "#     {'data_path': '../tester.fasta'}, config)\n",
    "[circuits.append(tester_circuit) for tester_circuit in tester_circuits]\n"
   ]
  },
  {
   "cell_type": "code",
   "execution_count": 10,
   "metadata": {},
   "outputs": [
    {
     "data": {
      "text/plain": [
       "{Species: RNA_0: {'RNA_0_m1-0': <src.utils.evolution.mutation.Mutations at 0x7f42ca776a40>,\n",
       "  'RNA_0_m1-1': <src.utils.evolution.mutation.Mutations at 0x7f42ca776fb0>,\n",
       "  'RNA_0_m1-2': <src.utils.evolution.mutation.Mutations at 0x7f42ca777250>,\n",
       "  'RNA_0_m1-3': <src.utils.evolution.mutation.Mutations at 0x7f42ca7770d0>,\n",
       "  'RNA_0_m1-4': <src.utils.evolution.mutation.Mutations at 0x7f42ca776d10>,\n",
       "  'RNA_0_m1-5': <src.utils.evolution.mutation.Mutations at 0x7f42ca776dd0>,\n",
       "  'RNA_0_m1-6': <src.utils.evolution.mutation.Mutations at 0x7f42ca776b90>,\n",
       "  'RNA_0_m1-7': <src.utils.evolution.mutation.Mutations at 0x7f42ca776c80>,\n",
       "  'RNA_0_m3-0': <src.utils.evolution.mutation.Mutations at 0x7f42ca776f50>,\n",
       "  'RNA_0_m3-1': <src.utils.evolution.mutation.Mutations at 0x7f42ca777370>,\n",
       "  'RNA_0_m3-2': <src.utils.evolution.mutation.Mutations at 0x7f42ca7772b0>,\n",
       "  'RNA_0_m3-3': <src.utils.evolution.mutation.Mutations at 0x7f42ca776fe0>,\n",
       "  'RNA_0_m3-4': <src.utils.evolution.mutation.Mutations at 0x7f42ca7770a0>,\n",
       "  'RNA_0_m3-5': <src.utils.evolution.mutation.Mutations at 0x7f42ca777040>,\n",
       "  'RNA_0_m3-6': <src.utils.evolution.mutation.Mutations at 0x7f42ca777280>,\n",
       "  'RNA_0_m3-7': <src.utils.evolution.mutation.Mutations at 0x7f42ca777220>,\n",
       "  'RNA_0_m5-0': <src.utils.evolution.mutation.Mutations at 0x7f42ca776e30>,\n",
       "  'RNA_0_m5-1': <src.utils.evolution.mutation.Mutations at 0x7f42ca776c50>,\n",
       "  'RNA_0_m5-2': <src.utils.evolution.mutation.Mutations at 0x7f42ca776e90>,\n",
       "  'RNA_0_m5-3': <src.utils.evolution.mutation.Mutations at 0x7f42ca7771c0>,\n",
       "  'RNA_0_m5-4': <src.utils.evolution.mutation.Mutations at 0x7f42ca777310>,\n",
       "  'RNA_0_m5-5': <src.utils.evolution.mutation.Mutations at 0x7f42ca777190>,\n",
       "  'RNA_0_m5-6': <src.utils.evolution.mutation.Mutations at 0x7f42ca777100>,\n",
       "  'RNA_0_m5-7': <src.utils.evolution.mutation.Mutations at 0x7f42ca777130>,\n",
       "  'RNA_0_m10-0': <src.utils.evolution.mutation.Mutations at 0x7f42ca777160>,\n",
       "  'RNA_0_m10-1': <src.utils.evolution.mutation.Mutations at 0x7f42ca777430>,\n",
       "  'RNA_0_m10-2': <src.utils.evolution.mutation.Mutations at 0x7f42ca777460>,\n",
       "  'RNA_0_m10-3': <src.utils.evolution.mutation.Mutations at 0x7f42ca777490>,\n",
       "  'RNA_0_m10-4': <src.utils.evolution.mutation.Mutations at 0x7f42ca7774c0>,\n",
       "  'RNA_0_m10-5': <src.utils.evolution.mutation.Mutations at 0x7f42ca7774f0>,\n",
       "  'RNA_0_m10-6': <src.utils.evolution.mutation.Mutations at 0x7f42ca777520>,\n",
       "  'RNA_0_m10-7': <src.utils.evolution.mutation.Mutations at 0x7f42ca777550>,\n",
       "  'RNA_0_m15-0': <src.utils.evolution.mutation.Mutations at 0x7f42ca777580>,\n",
       "  'RNA_0_m15-1': <src.utils.evolution.mutation.Mutations at 0x7f42ca7775b0>,\n",
       "  'RNA_0_m15-2': <src.utils.evolution.mutation.Mutations at 0x7f42ca7775e0>,\n",
       "  'RNA_0_m15-3': <src.utils.evolution.mutation.Mutations at 0x7f42ca777610>,\n",
       "  'RNA_0_m15-4': <src.utils.evolution.mutation.Mutations at 0x7f42ca777640>,\n",
       "  'RNA_0_m15-5': <src.utils.evolution.mutation.Mutations at 0x7f42ca777670>,\n",
       "  'RNA_0_m15-6': <src.utils.evolution.mutation.Mutations at 0x7f42ca7776a0>,\n",
       "  'RNA_0_m15-7': <src.utils.evolution.mutation.Mutations at 0x7f42ca7776d0>},\n",
       " Species: RNA_1: {'RNA_1_m1-0': <src.utils.evolution.mutation.Mutations at 0x7f42ca777700>,\n",
       "  'RNA_1_m1-1': <src.utils.evolution.mutation.Mutations at 0x7f42ca777730>,\n",
       "  'RNA_1_m1-2': <src.utils.evolution.mutation.Mutations at 0x7f42ca777760>,\n",
       "  'RNA_1_m1-3': <src.utils.evolution.mutation.Mutations at 0x7f42ca777790>,\n",
       "  'RNA_1_m1-4': <src.utils.evolution.mutation.Mutations at 0x7f42ca7777c0>,\n",
       "  'RNA_1_m1-5': <src.utils.evolution.mutation.Mutations at 0x7f42ca7777f0>,\n",
       "  'RNA_1_m1-6': <src.utils.evolution.mutation.Mutations at 0x7f42ca777820>,\n",
       "  'RNA_1_m1-7': <src.utils.evolution.mutation.Mutations at 0x7f42ca777850>,\n",
       "  'RNA_1_m3-0': <src.utils.evolution.mutation.Mutations at 0x7f42ca777880>,\n",
       "  'RNA_1_m3-1': <src.utils.evolution.mutation.Mutations at 0x7f42ca7778b0>,\n",
       "  'RNA_1_m3-2': <src.utils.evolution.mutation.Mutations at 0x7f42ca7778e0>,\n",
       "  'RNA_1_m3-3': <src.utils.evolution.mutation.Mutations at 0x7f42ca777910>,\n",
       "  'RNA_1_m3-4': <src.utils.evolution.mutation.Mutations at 0x7f42ca777940>,\n",
       "  'RNA_1_m3-5': <src.utils.evolution.mutation.Mutations at 0x7f42ca777970>,\n",
       "  'RNA_1_m3-6': <src.utils.evolution.mutation.Mutations at 0x7f42ca7779a0>,\n",
       "  'RNA_1_m3-7': <src.utils.evolution.mutation.Mutations at 0x7f42ca7779d0>,\n",
       "  'RNA_1_m5-0': <src.utils.evolution.mutation.Mutations at 0x7f42ca777a00>,\n",
       "  'RNA_1_m5-1': <src.utils.evolution.mutation.Mutations at 0x7f42ca777a30>,\n",
       "  'RNA_1_m5-2': <src.utils.evolution.mutation.Mutations at 0x7f42ca777a60>,\n",
       "  'RNA_1_m5-3': <src.utils.evolution.mutation.Mutations at 0x7f42ca777a90>,\n",
       "  'RNA_1_m5-4': <src.utils.evolution.mutation.Mutations at 0x7f42ca777ac0>,\n",
       "  'RNA_1_m5-5': <src.utils.evolution.mutation.Mutations at 0x7f42ca777af0>,\n",
       "  'RNA_1_m5-6': <src.utils.evolution.mutation.Mutations at 0x7f42ca777b20>,\n",
       "  'RNA_1_m5-7': <src.utils.evolution.mutation.Mutations at 0x7f42ca777b50>,\n",
       "  'RNA_1_m10-0': <src.utils.evolution.mutation.Mutations at 0x7f42ca777b80>,\n",
       "  'RNA_1_m10-1': <src.utils.evolution.mutation.Mutations at 0x7f42ca777bb0>,\n",
       "  'RNA_1_m10-2': <src.utils.evolution.mutation.Mutations at 0x7f42ca777be0>,\n",
       "  'RNA_1_m10-3': <src.utils.evolution.mutation.Mutations at 0x7f42ca777c10>,\n",
       "  'RNA_1_m10-4': <src.utils.evolution.mutation.Mutations at 0x7f42ca777c40>,\n",
       "  'RNA_1_m10-5': <src.utils.evolution.mutation.Mutations at 0x7f42ca777c70>,\n",
       "  'RNA_1_m10-6': <src.utils.evolution.mutation.Mutations at 0x7f42ca777ca0>,\n",
       "  'RNA_1_m10-7': <src.utils.evolution.mutation.Mutations at 0x7f42ca777cd0>,\n",
       "  'RNA_1_m15-0': <src.utils.evolution.mutation.Mutations at 0x7f42ca777d00>,\n",
       "  'RNA_1_m15-1': <src.utils.evolution.mutation.Mutations at 0x7f42ca777d30>,\n",
       "  'RNA_1_m15-2': <src.utils.evolution.mutation.Mutations at 0x7f42ca777d60>,\n",
       "  'RNA_1_m15-3': <src.utils.evolution.mutation.Mutations at 0x7f42ca777d90>,\n",
       "  'RNA_1_m15-4': <src.utils.evolution.mutation.Mutations at 0x7f42ca777dc0>,\n",
       "  'RNA_1_m15-5': <src.utils.evolution.mutation.Mutations at 0x7f42ca777df0>,\n",
       "  'RNA_1_m15-6': <src.utils.evolution.mutation.Mutations at 0x7f42ca777e20>,\n",
       "  'RNA_1_m15-7': <src.utils.evolution.mutation.Mutations at 0x7f42ca777e50>},\n",
       " Species: RNA_2: {'RNA_2_m1-0': <src.utils.evolution.mutation.Mutations at 0x7f42ca777e80>,\n",
       "  'RNA_2_m1-1': <src.utils.evolution.mutation.Mutations at 0x7f42ca777eb0>,\n",
       "  'RNA_2_m1-2': <src.utils.evolution.mutation.Mutations at 0x7f42ca777ee0>,\n",
       "  'RNA_2_m1-3': <src.utils.evolution.mutation.Mutations at 0x7f42ca777f10>,\n",
       "  'RNA_2_m1-4': <src.utils.evolution.mutation.Mutations at 0x7f42ca777fd0>,\n",
       "  'RNA_2_m1-5': <src.utils.evolution.mutation.Mutations at 0x7f42ca776b00>,\n",
       "  'RNA_2_m1-6': <src.utils.evolution.mutation.Mutations at 0x7f42ca777fa0>,\n",
       "  'RNA_2_m1-7': <src.utils.evolution.mutation.Mutations at 0x7f42ca777f70>,\n",
       "  'RNA_2_m3-0': <src.utils.evolution.mutation.Mutations at 0x7f42ca777f40>,\n",
       "  'RNA_2_m3-1': <src.utils.evolution.mutation.Mutations at 0x7f42ca7a4130>,\n",
       "  'RNA_2_m3-2': <src.utils.evolution.mutation.Mutations at 0x7f42ca7a40a0>,\n",
       "  'RNA_2_m3-3': <src.utils.evolution.mutation.Mutations at 0x7f42ca7a4160>,\n",
       "  'RNA_2_m3-4': <src.utils.evolution.mutation.Mutations at 0x7f42ca7a4040>,\n",
       "  'RNA_2_m3-5': <src.utils.evolution.mutation.Mutations at 0x7f42ca7a40d0>,\n",
       "  'RNA_2_m3-6': <src.utils.evolution.mutation.Mutations at 0x7f42ca7a4100>,\n",
       "  'RNA_2_m3-7': <src.utils.evolution.mutation.Mutations at 0x7f42ca7a4190>,\n",
       "  'RNA_2_m5-0': <src.utils.evolution.mutation.Mutations at 0x7f42ca7a41c0>,\n",
       "  'RNA_2_m5-1': <src.utils.evolution.mutation.Mutations at 0x7f42ca7a41f0>,\n",
       "  'RNA_2_m5-2': <src.utils.evolution.mutation.Mutations at 0x7f42ca7a4220>,\n",
       "  'RNA_2_m5-3': <src.utils.evolution.mutation.Mutations at 0x7f42ca7a4250>,\n",
       "  'RNA_2_m5-4': <src.utils.evolution.mutation.Mutations at 0x7f42ca7a4280>,\n",
       "  'RNA_2_m5-5': <src.utils.evolution.mutation.Mutations at 0x7f42ca7a42b0>,\n",
       "  'RNA_2_m5-6': <src.utils.evolution.mutation.Mutations at 0x7f42ca7a42e0>,\n",
       "  'RNA_2_m5-7': <src.utils.evolution.mutation.Mutations at 0x7f42ca7a4310>,\n",
       "  'RNA_2_m10-0': <src.utils.evolution.mutation.Mutations at 0x7f42ca7a4340>,\n",
       "  'RNA_2_m10-1': <src.utils.evolution.mutation.Mutations at 0x7f42ca7a4370>,\n",
       "  'RNA_2_m10-2': <src.utils.evolution.mutation.Mutations at 0x7f42ca7a43a0>,\n",
       "  'RNA_2_m10-3': <src.utils.evolution.mutation.Mutations at 0x7f42ca7a43d0>,\n",
       "  'RNA_2_m10-4': <src.utils.evolution.mutation.Mutations at 0x7f42ca7a4400>,\n",
       "  'RNA_2_m10-5': <src.utils.evolution.mutation.Mutations at 0x7f42ca7a4430>,\n",
       "  'RNA_2_m10-6': <src.utils.evolution.mutation.Mutations at 0x7f42ca7a4460>,\n",
       "  'RNA_2_m10-7': <src.utils.evolution.mutation.Mutations at 0x7f42ca7a4490>,\n",
       "  'RNA_2_m15-0': <src.utils.evolution.mutation.Mutations at 0x7f42ca7a44c0>,\n",
       "  'RNA_2_m15-1': <src.utils.evolution.mutation.Mutations at 0x7f42ca7a44f0>,\n",
       "  'RNA_2_m15-2': <src.utils.evolution.mutation.Mutations at 0x7f42ca7a4520>,\n",
       "  'RNA_2_m15-3': <src.utils.evolution.mutation.Mutations at 0x7f42ca7a4550>,\n",
       "  'RNA_2_m15-4': <src.utils.evolution.mutation.Mutations at 0x7f42ca7a4580>,\n",
       "  'RNA_2_m15-5': <src.utils.evolution.mutation.Mutations at 0x7f42ca7a45b0>,\n",
       "  'RNA_2_m15-6': <src.utils.evolution.mutation.Mutations at 0x7f42ca7a45e0>,\n",
       "  'RNA_2_m15-7': <src.utils.evolution.mutation.Mutations at 0x7f42ca7a4610>}}"
      ]
     },
     "execution_count": 10,
     "metadata": {},
     "output_type": "execute_result"
    }
   ],
   "source": [
    "circuits[-1].mutations"
   ]
  },
  {
   "cell_type": "code",
   "execution_count": 16,
   "metadata": {},
   "outputs": [
    {
     "name": "stderr",
     "output_type": "stream",
     "text": [
      "circuit_manager_new.py:batch_circuits():565: \tFrom 10 circuits, a total of 610 mutated circuits will be simulated. WARNING\n",
      "circuit_manager_new.py:batch_circuits():572: \t\tStarting new round of viable circuits (0 - 10 / 10) WARNING\n",
      "circuit_manager_new.py:batch_circuits():590: \t\tMaking subcircuits 0 - 610 took 1.214347s WARNING\n",
      "circuit_manager_new.py:batch_circuits():596: \tBatching 0 - 100 circuits (out of 0 - 610 (total: 610)) (Circuits: 0 - 10 of 10) WARNING\n",
      "circuit_manager_new.py:run_batch():627: \t\tRunning 100 Subcircuits - 0_weak: compute_interactions WARNING\n",
      "circuit_manager_new.py:run_batch():663: \t\tMethod compute_interactions took 5.300405s WARNING\n",
      "circuit_manager_new.py:batch_circuits():596: \tBatching 100 - 200 circuits (out of 0 - 610 (total: 610)) (Circuits: 0 - 10 of 10) WARNING\n",
      "circuit_manager_new.py:run_batch():627: \t\tRunning 100 Subcircuits - toy_mRNA_circuit_21566: compute_interactions WARNING\n",
      "circuit_manager_new.py:run_batch():663: \t\tMethod compute_interactions took 5.737219s WARNING\n",
      "circuit_manager_new.py:batch_circuits():596: \tBatching 200 - 300 circuits (out of 0 - 610 (total: 610)) (Circuits: 0 - 10 of 10) WARNING\n",
      "circuit_manager_new.py:run_batch():627: \t\tRunning 100 Subcircuits - toy_mRNA_circuit_24706: compute_interactions WARNING\n",
      "circuit_manager_new.py:run_batch():663: \t\tMethod compute_interactions took 5.446405s WARNING\n",
      "circuit_manager_new.py:batch_circuits():596: \tBatching 300 - 400 circuits (out of 0 - 610 (total: 610)) (Circuits: 0 - 10 of 10) WARNING\n",
      "circuit_manager_new.py:run_batch():627: \t\tRunning 100 Subcircuits - toy_mRNA_circuit_19768: compute_interactions WARNING\n",
      "circuit_manager_new.py:run_batch():663: \t\tMethod compute_interactions took 5.658111s WARNING\n",
      "circuit_manager_new.py:batch_circuits():596: \tBatching 400 - 500 circuits (out of 0 - 610 (total: 610)) (Circuits: 0 - 10 of 10) WARNING\n",
      "circuit_manager_new.py:run_batch():627: \t\tRunning 100 Subcircuits - toy_mRNA_circuit_2983: compute_interactions WARNING\n",
      "circuit_manager_new.py:run_batch():663: \t\tMethod compute_interactions took 5.614944s WARNING\n",
      "circuit_manager_new.py:batch_circuits():596: \tBatching 500 - 600 circuits (out of 0 - 610 (total: 610)) (Circuits: 0 - 10 of 10) WARNING\n",
      "circuit_manager_new.py:run_batch():627: \t\tRunning 100 Subcircuits - toy_mRNA_circuit_22658: compute_interactions WARNING\n",
      "circuit_manager_new.py:run_batch():663: \t\tMethod compute_interactions took 6.08437s WARNING\n",
      "circuit_manager_new.py:batch_circuits():596: \tBatching 600 - 700 circuits (out of 0 - 610 (total: 610)) (Circuits: 0 - 10 of 10) WARNING\n",
      "circuit_manager_new.py:run_batch():627: \t\tRunning 10 Subcircuits - toy_mRNA_circuit_22658: compute_interactions WARNING\n",
      "circuit_manager_new.py:run_batch():663: \t\tMethod compute_interactions took 0.599402s WARNING\n",
      "circuit_manager_new.py:batch_circuits():610: Single batch: 0:00:35.662499 \n",
      "Projected time: 35.662499s \n",
      "Total time: 0:00:35.662510 WARNING\n"
     ]
    }
   ],
   "source": [
    "\n",
    "circuit_modeller = CircuitModeller(result_writer=result_writer, config=config)\n",
    "circuits = circuit_modeller.batch_circuits(\n",
    "    circuits=circuits, methods={\"compute_interactions\": {}},\n",
    "    batch_size=config['simulation']['batch_size'])\n",
    "i = -1\n",
    "# for i in range(len(circuits)):\n",
    "#     circuits[i].interactions.binding_rates_association = circuits[i].interactions.binding_rates_association * q\n",
    "#     circuits[i].interactions.binding_rates_dissociation = circuits[i].interactions.binding_rates_dissociation * q\n",
    "#     circuits[i].update_species_simulated_rates(circuits[i].interactions)\n"
   ]
  },
  {
   "cell_type": "code",
   "execution_count": 17,
   "metadata": {},
   "outputs": [
    {
     "data": {
      "text/plain": [
       "array([[0.00052282, 0.22631998, 0.01330353],\n",
       "       [0.22631998, 0.22631998, 0.00028829],\n",
       "       [0.01330353, 0.00028829, 0.22631998]])"
      ]
     },
     "execution_count": 17,
     "metadata": {},
     "output_type": "execute_result"
    }
   ],
   "source": [
    "circuits[i].interactions.binding_rates_dissociation"
   ]
  },
  {
   "cell_type": "code",
   "execution_count": 18,
   "metadata": {},
   "outputs": [
    {
     "data": {
      "text/plain": [
       "array([[0.00150958, 0.00150958, 0.00150958],\n",
       "       [0.00150958, 0.00150958, 0.00150958],\n",
       "       [0.00150958, 0.00150958, 0.00150958]])"
      ]
     },
     "execution_count": 18,
     "metadata": {},
     "output_type": "execute_result"
    }
   ],
   "source": [
    "circuits[i].interactions.binding_rates_association"
   ]
  },
  {
   "cell_type": "code",
   "execution_count": 19,
   "metadata": {},
   "outputs": [
    {
     "data": {
      "text/plain": [
       "141.0"
      ]
     },
     "execution_count": 19,
     "metadata": {},
     "output_type": "execute_result"
    }
   ],
   "source": [
    "config['molecular_params']['creation_rate']"
   ]
  },
  {
   "cell_type": "code",
   "execution_count": 20,
   "metadata": {},
   "outputs": [
    {
     "data": {
      "text/plain": [
       "0.3525"
      ]
     },
     "execution_count": 20,
     "metadata": {},
     "output_type": "execute_result"
    }
   ],
   "source": [
    "config['molecular_params']['degradation_rate']\n"
   ]
  },
  {
   "cell_type": "code",
   "execution_count": 22,
   "metadata": {},
   "outputs": [
    {
     "name": "stderr",
     "output_type": "stream",
     "text": [
      "circuit_manager_new.py:batch_circuits():565: \tFrom 10 circuits, a total of 610 mutated circuits will be simulated. WARNING\n",
      "circuit_manager_new.py:batch_circuits():572: \t\tStarting new round of viable circuits (0 - 10 / 10) WARNING\n",
      "circuit_manager_new.py:batch_circuits():590: \t\tMaking subcircuits 0 - 610 took 1.381139s WARNING\n",
      "circuit_manager_new.py:batch_circuits():596: \tBatching 0 - 100 circuits (out of 0 - 610 (total: 610)) (Circuits: 0 - 10 of 10) WARNING\n",
      "circuit_manager_new.py:run_batch():627: \t\tRunning 100 Subcircuits - 0_weak: init_circuits WARNING\n"
     ]
    },
    {
     "name": "stdout",
     "output_type": "stream",
     "text": [
      "Done:  0:00:02.941173\n"
     ]
    },
    {
     "name": "stderr",
     "output_type": "stream",
     "text": [
      "circuit_manager_new.py:run_batch():663: \t\tMethod init_circuits took 3.152561s WARNING\n",
      "circuit_manager_new.py:run_batch():627: \t\tRunning 100 Subcircuits - 0_weak: simulate_signal_batch WARNING\n",
      "circuit_manager_new.py:prepare_internal_funcs():495: Signal differs between circuits, but only first signal used for simulation. WARNING\n",
      "circuit_manager_new.py:simulate_signal_batch():343: \t\tSimulating signal took 3.851538s WARNING\n"
     ]
    },
    {
     "name": "stdout",
     "output_type": "stream",
     "text": [
      "Done:  0:00:03.831693\n"
     ]
    },
    {
     "name": "stderr",
     "output_type": "stream",
     "text": [
      "circuit_manager_new.py:simulate_signal_batch():401: \t\tCalculating analytics took 4.515683s WARNING\n",
      "circuit_manager_new.py:run_batch():663: \t\tMethod simulate_signal_batch took 8.583727s WARNING\n",
      "circuit_manager_new.py:run_batch():627: \t\tRunning 100 Subcircuits - 0_weak: write_results WARNING\n",
      "circuit_manager_new.py:run_batch():663: \t\tMethod write_results took 65.819219s WARNING\n",
      "circuit_manager_new.py:batch_circuits():596: \tBatching 100 - 200 circuits (out of 0 - 610 (total: 610)) (Circuits: 0 - 10 of 10) WARNING\n",
      "circuit_manager_new.py:run_batch():627: \t\tRunning 100 Subcircuits - toy_mRNA_circuit_21566: init_circuits WARNING\n"
     ]
    },
    {
     "name": "stdout",
     "output_type": "stream",
     "text": [
      "Done:  0:00:02.819905\n"
     ]
    },
    {
     "name": "stderr",
     "output_type": "stream",
     "text": [
      "circuit_manager_new.py:run_batch():663: \t\tMethod init_circuits took 3.065027s WARNING\n",
      "circuit_manager_new.py:run_batch():627: \t\tRunning 100 Subcircuits - toy_mRNA_circuit_21566: simulate_signal_batch WARNING\n",
      "circuit_manager_new.py:prepare_internal_funcs():495: Signal differs between circuits, but only first signal used for simulation. WARNING\n",
      "circuit_manager_new.py:simulate_signal_batch():343: \t\tSimulating signal took 3.802694s WARNING\n"
     ]
    },
    {
     "name": "stdout",
     "output_type": "stream",
     "text": [
      "Done:  0:00:03.783005\n"
     ]
    },
    {
     "name": "stderr",
     "output_type": "stream",
     "text": [
      "circuit_manager_new.py:simulate_signal_batch():401: \t\tCalculating analytics took 4.227526s WARNING\n",
      "circuit_manager_new.py:run_batch():663: \t\tMethod simulate_signal_batch took 8.558519s WARNING\n",
      "circuit_manager_new.py:run_batch():627: \t\tRunning 100 Subcircuits - toy_mRNA_circuit_21566: write_results WARNING\n",
      "circuit_manager_new.py:run_batch():663: \t\tMethod write_results took 64.303624s WARNING\n",
      "circuit_manager_new.py:batch_circuits():596: \tBatching 200 - 300 circuits (out of 0 - 610 (total: 610)) (Circuits: 0 - 10 of 10) WARNING\n",
      "circuit_manager_new.py:run_batch():627: \t\tRunning 100 Subcircuits - toy_mRNA_circuit_24706: init_circuits WARNING\n"
     ]
    },
    {
     "name": "stdout",
     "output_type": "stream",
     "text": [
      "Done:  0:00:02.811838\n"
     ]
    },
    {
     "name": "stderr",
     "output_type": "stream",
     "text": [
      "circuit_manager_new.py:run_batch():663: \t\tMethod init_circuits took 3.053178s WARNING\n",
      "circuit_manager_new.py:run_batch():627: \t\tRunning 100 Subcircuits - toy_mRNA_circuit_24706: simulate_signal_batch WARNING\n",
      "circuit_manager_new.py:prepare_internal_funcs():495: Signal differs between circuits, but only first signal used for simulation. WARNING\n",
      "circuit_manager_new.py:simulate_signal_batch():343: \t\tSimulating signal took 3.827804s WARNING\n"
     ]
    },
    {
     "name": "stdout",
     "output_type": "stream",
     "text": [
      "Done:  0:00:03.807580\n"
     ]
    },
    {
     "name": "stderr",
     "output_type": "stream",
     "text": [
      "circuit_manager_new.py:simulate_signal_batch():401: \t\tCalculating analytics took 4.248124s WARNING\n",
      "circuit_manager_new.py:run_batch():663: \t\tMethod simulate_signal_batch took 8.918773s WARNING\n",
      "circuit_manager_new.py:run_batch():627: \t\tRunning 100 Subcircuits - toy_mRNA_circuit_24706: write_results WARNING\n",
      "circuit_manager_new.py:run_batch():663: \t\tMethod write_results took 63.417073s WARNING\n",
      "circuit_manager_new.py:batch_circuits():596: \tBatching 300 - 400 circuits (out of 0 - 610 (total: 610)) (Circuits: 0 - 10 of 10) WARNING\n",
      "circuit_manager_new.py:run_batch():627: \t\tRunning 100 Subcircuits - toy_mRNA_circuit_19768: init_circuits WARNING\n"
     ]
    },
    {
     "name": "stdout",
     "output_type": "stream",
     "text": [
      "Done:  0:00:02.839408\n"
     ]
    },
    {
     "name": "stderr",
     "output_type": "stream",
     "text": [
      "circuit_manager_new.py:run_batch():663: \t\tMethod init_circuits took 3.086553s WARNING\n",
      "circuit_manager_new.py:run_batch():627: \t\tRunning 100 Subcircuits - toy_mRNA_circuit_19768: simulate_signal_batch WARNING\n",
      "circuit_manager_new.py:prepare_internal_funcs():495: Signal differs between circuits, but only first signal used for simulation. WARNING\n",
      "circuit_manager_new.py:simulate_signal_batch():343: \t\tSimulating signal took 3.851904s WARNING\n"
     ]
    },
    {
     "name": "stdout",
     "output_type": "stream",
     "text": [
      "Done:  0:00:03.830923\n"
     ]
    },
    {
     "name": "stderr",
     "output_type": "stream",
     "text": [
      "circuit_manager_new.py:simulate_signal_batch():401: \t\tCalculating analytics took 4.330774s WARNING\n",
      "circuit_manager_new.py:run_batch():663: \t\tMethod simulate_signal_batch took 9.337181s WARNING\n",
      "circuit_manager_new.py:run_batch():627: \t\tRunning 100 Subcircuits - toy_mRNA_circuit_19768: write_results WARNING\n",
      "circuit_manager_new.py:run_batch():663: \t\tMethod write_results took 63.393434s WARNING\n",
      "circuit_manager_new.py:batch_circuits():596: \tBatching 400 - 500 circuits (out of 0 - 610 (total: 610)) (Circuits: 0 - 10 of 10) WARNING\n",
      "circuit_manager_new.py:run_batch():627: \t\tRunning 100 Subcircuits - toy_mRNA_circuit_2983: init_circuits WARNING\n"
     ]
    },
    {
     "name": "stdout",
     "output_type": "stream",
     "text": [
      "Done:  0:00:02.797507\n"
     ]
    },
    {
     "name": "stderr",
     "output_type": "stream",
     "text": [
      "circuit_manager_new.py:run_batch():663: \t\tMethod init_circuits took 3.041763s WARNING\n",
      "circuit_manager_new.py:run_batch():627: \t\tRunning 100 Subcircuits - toy_mRNA_circuit_2983: simulate_signal_batch WARNING\n",
      "circuit_manager_new.py:prepare_internal_funcs():495: Signal differs between circuits, but only first signal used for simulation. WARNING\n",
      "circuit_manager_new.py:simulate_signal_batch():343: \t\tSimulating signal took 3.788132s WARNING\n"
     ]
    },
    {
     "name": "stdout",
     "output_type": "stream",
     "text": [
      "Done:  0:00:03.767924\n"
     ]
    },
    {
     "name": "stderr",
     "output_type": "stream",
     "text": [
      "circuit_manager_new.py:simulate_signal_batch():401: \t\tCalculating analytics took 4.313794s WARNING\n",
      "circuit_manager_new.py:run_batch():663: \t\tMethod simulate_signal_batch took 9.541709s WARNING\n",
      "circuit_manager_new.py:run_batch():627: \t\tRunning 100 Subcircuits - toy_mRNA_circuit_2983: write_results WARNING\n",
      "circuit_manager_new.py:run_batch():663: \t\tMethod write_results took 62.867233s WARNING\n",
      "circuit_manager_new.py:batch_circuits():596: \tBatching 500 - 600 circuits (out of 0 - 610 (total: 610)) (Circuits: 0 - 10 of 10) WARNING\n",
      "circuit_manager_new.py:run_batch():627: \t\tRunning 100 Subcircuits - toy_mRNA_circuit_22658: init_circuits WARNING\n"
     ]
    },
    {
     "name": "stdout",
     "output_type": "stream",
     "text": [
      "Done:  0:00:02.798332\n"
     ]
    },
    {
     "name": "stderr",
     "output_type": "stream",
     "text": [
      "circuit_manager_new.py:run_batch():663: \t\tMethod init_circuits took 3.045625s WARNING\n",
      "circuit_manager_new.py:run_batch():627: \t\tRunning 100 Subcircuits - toy_mRNA_circuit_22658: simulate_signal_batch WARNING\n",
      "circuit_manager_new.py:simulate_signal_batch():343: \t\tSimulating signal took 3.881926s WARNING\n"
     ]
    },
    {
     "name": "stdout",
     "output_type": "stream",
     "text": [
      "Done:  0:00:03.857048\n"
     ]
    },
    {
     "name": "stderr",
     "output_type": "stream",
     "text": [
      "circuit_manager_new.py:simulate_signal_batch():401: \t\tCalculating analytics took 3.471347s WARNING\n",
      "circuit_manager_new.py:run_batch():663: \t\tMethod simulate_signal_batch took 9.238276s WARNING\n",
      "circuit_manager_new.py:run_batch():627: \t\tRunning 100 Subcircuits - toy_mRNA_circuit_22658: write_results WARNING\n",
      "circuit_manager_new.py:run_batch():663: \t\tMethod write_results took 68.883547s WARNING\n",
      "circuit_manager_new.py:batch_circuits():596: \tBatching 600 - 700 circuits (out of 0 - 610 (total: 610)) (Circuits: 0 - 10 of 10) WARNING\n",
      "circuit_manager_new.py:run_batch():627: \t\tRunning 10 Subcircuits - toy_mRNA_circuit_22658: init_circuits WARNING\n",
      "circuit_manager_new.py:run_batch():663: \t\tMethod init_circuits took 2.200978s WARNING\n",
      "circuit_manager_new.py:run_batch():627: \t\tRunning 10 Subcircuits - toy_mRNA_circuit_22658: simulate_signal_batch WARNING\n"
     ]
    },
    {
     "name": "stdout",
     "output_type": "stream",
     "text": [
      "Done:  0:00:02.128690\n"
     ]
    },
    {
     "name": "stderr",
     "output_type": "stream",
     "text": [
      "circuit_manager_new.py:simulate_signal_batch():343: \t\tSimulating signal took 3.035769s WARNING\n"
     ]
    },
    {
     "name": "stdout",
     "output_type": "stream",
     "text": [
      "Done:  0:00:03.014215\n"
     ]
    },
    {
     "name": "stderr",
     "output_type": "stream",
     "text": [
      "circuit_manager_new.py:simulate_signal_batch():401: \t\tCalculating analytics took 1.3477s WARNING\n",
      "circuit_manager_new.py:run_batch():663: \t\tMethod simulate_signal_batch took 6.547909s WARNING\n",
      "circuit_manager_new.py:run_batch():627: \t\tRunning 10 Subcircuits - toy_mRNA_circuit_22658: write_results WARNING\n",
      "circuit_manager_new.py:run_batch():663: \t\tMethod write_results took 6.227059s WARNING\n",
      "circuit_manager_new.py:batch_circuits():610: Single batch: 0:07:57.679896 \n",
      "Projected time: 477.679896s \n",
      "Total time: 0:07:57.679907 WARNING\n"
     ]
    }
   ],
   "source": [
    "\n",
    "circuits = circuit_modeller.batch_circuits(\n",
    "    circuits=circuits, \n",
    "    batch_size=config['simulation']['batch_size'],\n",
    "    methods={\n",
    "        # \"compute_interactions\": {},\n",
    "        \"init_circuits\": {'batch': True},\n",
    "        'simulate_signal_batch': {'ref_circuit': None,\n",
    "                                  'batch': config['simulation']['use_batch_mutations']},\n",
    "        'write_results': {'no_visualisations': False, # config['experiment']['no_visualisations'],\n",
    "                          'no_numerical': False} #config['experiment']['no_numerical']}\n",
    "    }\n",
    ")"
   ]
  },
  {
   "cell_type": "code",
   "execution_count": null,
   "metadata": {},
   "outputs": [],
   "source": []
  },
  {
   "attachments": {},
   "cell_type": "markdown",
   "metadata": {},
   "source": [
    "Log\n",
    "\n",
    "1.\n",
    "q = 5\n",
    "p = 2\n",
    "-> not great\n",
    "\n",
    "2. \n",
    "q = 2\n",
    "p = 5\n",
    "-> good, the weak ones could be more step-like\n",
    "\n",
    "3. \n",
    "q = 3\n",
    "p = 5\n",
    "-> Same-looking slope for signal, but doesn't reach as high as 2. \n",
    "\n",
    "4. \n",
    "q = 2\n",
    "p = 10\n",
    "-> better, more step-like on strong, but still a bit dragging on weaker ones\n",
    "\n",
    "5. \n",
    "q = 2\n",
    "p = 15\n",
    "-> even better, more step-like, but no overshoot like you get in the no prod/deg\n",
    "\n",
    "6. \n",
    "q = 5\n",
    "p = 50\n",
    "-> spiky, but now a bit too dominating with prod / deg\n",
    "\n",
    "\n",
    "\n",
    "\n"
   ]
  },
  {
   "cell_type": "markdown",
   "metadata": {},
   "source": []
  }
 ],
 "metadata": {
  "kernelspec": {
   "display_name": "env_circuits",
   "language": "python",
   "name": "python3"
  },
  "language_info": {
   "codemirror_mode": {
    "name": "ipython",
    "version": 3
   },
   "file_extension": ".py",
   "mimetype": "text/x-python",
   "name": "python",
   "nbconvert_exporter": "python",
   "pygments_lexer": "ipython3",
   "version": "3.10.6"
  },
  "orig_nbformat": 4,
  "vscode": {
   "interpreter": {
    "hash": "172594369b7e917b537188c81f1a7108d427e78c3b158785db52bc1182200d3e"
   }
  }
 },
 "nbformat": 4,
 "nbformat_minor": 2
}
