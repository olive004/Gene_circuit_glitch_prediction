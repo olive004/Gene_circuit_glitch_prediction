{
 "cells": [
  {
   "attachments": {},
   "cell_type": "markdown",
   "metadata": {},
   "source": [
    "# Basic RNA circuit simulation \n",
    "\n"
   ]
  },
  {
   "cell_type": "code",
   "execution_count": 1,
   "metadata": {},
   "outputs": [],
   "source": [
    "from bioreaction.simulation.basic_sim import convert_model\n",
    "\n",
    "import jax\n",
    "import numpy as np\n",
    "import os\n",
    "import sys\n",
    "\n",
    "from datetime import datetime\n",
    "import matplotlib.pyplot as plt\n",
    "import seaborn as sns\n",
    "plt.style.use('seaborn-v0_8-paper')\n",
    "os.environ[\"TF_CPP_MIN_LOG_LOVEL\"] = \"0\"\n",
    "jax.config.update('jax_platform_name', 'gpu')\n",
    "\n",
    "\n",
    "if __package__ is None:\n",
    "\n",
    "    module_path = os.path.abspath(os.path.join('..'))\n",
    "    sys.path.append(module_path)\n",
    "\n",
    "    __package__ = os.path.basename(module_path)\n",
    "\n",
    "\n",
    "from src.utils.data.data_format_tools.common import load_json_as_dict\n",
    "from src.utils.common.setup_new import prepare_config\n",
    "from src.utils.circuit.agnostic_circuits.circuit_manager_new import CircuitModeller\n",
    "from tests_local.shared import five_circuits\n",
    "\n",
    "config = load_json_as_dict('../tests_local/configs/simple_circuit.json')\n"
   ]
  },
  {
   "cell_type": "code",
   "execution_count": 2,
   "metadata": {},
   "outputs": [],
   "source": [
    "\n",
    "\n",
    "\n",
    "def update_model_rates(model, a=None, d=None, ka=None, kd=None):\n",
    "    for i, r in enumerate(model.reactions):\n",
    "        if not r.input:  # 0 -> RNA\n",
    "            if a is not None:\n",
    "                model.reactions[i].forward_rate = a[model.species.index(\n",
    "                    r.output[0])]\n",
    "                model.reactions[i].reverse_rate = 0\n",
    "        elif not r.output:  # RNA -> 0\n",
    "            if d is not None:\n",
    "                model.reactions[i].forward_rate = d[model.species.index(\n",
    "                    r.input[0])]\n",
    "                model.reactions[i].reverse_rate = 0\n",
    "        else: # unbound RNA -> bound RNA\n",
    "            if ka is not None:\n",
    "                model.reactions[i].forward_rate = ka[model.species.index(r.input[0]),\n",
    "                                                     model.species.index(r.input[1])]\n",
    "            if kd is not None:\n",
    "                model.reactions[i].reverse_rate = kd[model.species.index(r.input[0]),\n",
    "                                                     model.species.index(r.input[1])]\n",
    "    return model\n",
    "\n",
    "\n",
    "def make_params(model, scale_rates=True):\n",
    "    sim_model = convert_model(model)\n",
    "\n",
    "    if scale_rates:\n",
    "        m = np.max([sim_model.forward_rates.max(), sim_model.reverse_rates.max()])\n",
    "    else:\n",
    "        m = 1\n",
    "    inputs = sim_model.inputs\n",
    "    outputs = sim_model.outputs\n",
    "    forward_rates = sim_model.forward_rates/m\n",
    "    reverse_rates = sim_model.reverse_rates/m\n",
    "    return inputs, outputs, forward_rates, reverse_rates, m"
   ]
  },
  {
   "attachments": {},
   "cell_type": "markdown",
   "metadata": {},
   "source": [
    "Use the 5 tester circuits :)"
   ]
  },
  {
   "cell_type": "code",
   "execution_count": 3,
   "metadata": {},
   "outputs": [
    {
     "name": "stderr",
     "output_type": "stream",
     "text": [
      "xla_bridge.py:backends():355: Unable to initialize backend 'tpu_driver': NOT_FOUND: Unable to find driver in registry given worker:  INFO\n",
      "xla_bridge.py:backends():355: Unable to initialize backend 'rocm': NOT_FOUND: Could not find registered platform with name: \"rocm\". Available platform names are: Interpreter Host CUDA INFO\n",
      "xla_bridge.py:backends():355: Unable to initialize backend 'tpu': module 'jaxlib.xla_extension' has no attribute 'get_tpu_client' INFO\n",
      "xla_bridge.py:backends():355: Unable to initialize backend 'plugin': xla_extension has no attributes named get_plugin_device_client. Compile TensorFlow with //tensorflow/compiler/xla/python:enable_plugin_device set to true (defaults to false) to enable this. INFO\n",
      "experiment_loading.py:load_units():35: Units unknown - supply a valid experiment directory instead of ../tests_local/configs/binding_rates_dissociation/0_weak_binding_rates_dissociation.csv WARNING\n",
      "experiment_loading.py:load_units():35: Units unknown - supply a valid experiment directory instead of ../tests_local/configs/eqconstants/0_weak_eqconstants.csv WARNING\n",
      "experiment_loading.py:load_units():35: Units unknown - supply a valid experiment directory instead of ../tests_local/configs/binding_rates_dissociation/1_med_weak_binding_rates_dissociation.csv WARNING\n",
      "experiment_loading.py:load_units():35: Units unknown - supply a valid experiment directory instead of ../tests_local/configs/eqconstants/1_med_weak_eqconstants.csv WARNING\n",
      "experiment_loading.py:load_units():35: Units unknown - supply a valid experiment directory instead of ../tests_local/configs/binding_rates_dissociation/2_medium_binding_rates_dissociation.csv WARNING\n",
      "experiment_loading.py:load_units():35: Units unknown - supply a valid experiment directory instead of ../tests_local/configs/eqconstants/2_medium_eqconstants.csv WARNING\n",
      "experiment_loading.py:load_units():35: Units unknown - supply a valid experiment directory instead of ../tests_local/configs/binding_rates_dissociation/3_med_strong_binding_rates_dissociation.csv WARNING\n",
      "experiment_loading.py:load_units():35: Units unknown - supply a valid experiment directory instead of ../tests_local/configs/eqconstants/3_med_strong_eqconstants.csv WARNING\n",
      "experiment_loading.py:load_units():35: Units unknown - supply a valid experiment directory instead of ../tests_local/configs/binding_rates_dissociation/4_strong_binding_rates_dissociation.csv WARNING\n",
      "experiment_loading.py:load_units():35: Units unknown - supply a valid experiment directory instead of ../tests_local/configs/eqconstants/4_strong_eqconstants.csv WARNING\n"
     ]
    }
   ],
   "source": [
    "config = prepare_config(config)\n",
    "circuits, config, result_writer = five_circuits(config)\n"
   ]
  },
  {
   "cell_type": "code",
   "execution_count": 5,
   "metadata": {},
   "outputs": [
    {
     "name": "stderr",
     "output_type": "stream",
     "text": [
      "simulator.py:check_IntaRNA_path():116: Could not detect IntaRNA on system: CompletedProcess(args='which IntaRNA', returncode=1, stdout='', stderr='') WARNING\n",
      "circuit_manager_new.py:prepare_internal_funcs():464: Signal differs between circuits, but only first signal used for simulation. WARNING\n",
      "circuit_manager_new.py:batch_circuits():534: \tFrom 5 circuits, a total of 5 mutated circuits will be simulated. WARNING\n",
      "circuit_manager_new.py:batch_circuits():541: \t\tStarting new round of viable circuits (0 - 5 / 5) WARNING\n",
      "circuit_manager_new.py:batch_circuits():559: \t\tMaking subcircuits 0 - 5 took 6.7e-05s WARNING\n",
      "circuit_manager_new.py:batch_circuits():565: \tBatching 0 - 5 circuits (out of 0 - 5 (total: 5)) (Circuits: 0 - 5 of 5) WARNING\n",
      "circuit_manager_new.py:run_batch():596: \t\tRunning 5 Subcircuits - 0_weak: compute_interactions WARNING\n",
      "circuit_manager_new.py:run_batch():632: \t\tMethod compute_interactions took 0.040461s WARNING\n",
      "circuit_manager_new.py:run_batch():596: \t\tRunning 5 Subcircuits - 0_weak: init_circuits WARNING\n"
     ]
    },
    {
     "name": "stdout",
     "output_type": "stream",
     "text": [
      "Steady states:  100  iterations.  45  left to steady out.  0:00:03.634453\n",
      "Steady states:  200  iterations.  7  left to steady out.  0:00:06.109202\n",
      "Done:  0:00:06.742818\n",
      "[0.00657081 0.00657081 0.00657081 0.00657081 0.00657081 0.00657081\n",
      " 0.00657081 0.00657081 0.00657081 0.01190348 0.01190348 0.01190348\n",
      " 0.01190348 0.01190348 0.01190348 0.6570807  0.6570807  0.6570807 ]\n",
      "[0.         0.         0.         0.         0.         0.\n",
      " 0.         0.         0.         0.01190348 0.01190348 0.01190348\n",
      " 0.01190348 0.01190348 0.01190348 0.         0.         0.        ]\n",
      "[0.00657081 0.00657081 0.00657081 0.00657081 0.00657081 0.00657081\n",
      " 0.00657081 0.00657081 0.00657081 0.01190348 0.01190348 0.01190348\n",
      " 0.01190348 0.01190348 0.01190348 0.6570807  0.6570807  0.6570807 ]\n",
      "[0.         0.         0.         0.         0.         0.\n",
      " 0.         0.         0.         0.01190348 0.01190348 0.01190348\n",
      " 0.01190348 0.01190348 0.81097484 0.         0.         0.        ]\n",
      "[0.00657081 0.00657081 0.00657081 0.00657081 0.00657081 0.00657081\n",
      " 0.00657081 0.00657081 0.00657081 0.01190348 0.01190348 0.01190348\n",
      " 0.01190348 0.01190348 0.01190348 0.6570807  0.6570807  0.6570807 ]\n",
      "[0.         0.         0.         0.         0.         0.\n",
      " 0.         0.         0.         0.01190348 0.01190348 0.0122312\n",
      " 0.01190348 0.01190348 0.01910952 0.         0.         0.        ]\n",
      "[0.00657081 0.00657081 0.00657081 0.00657081 0.00657081 0.00657081\n",
      " 0.00657081 0.00657081 0.00657081 0.01190348 0.01190348 0.01190348\n",
      " 0.01190348 0.01190348 0.01190348 0.6570807  0.6570807  0.6570807 ]\n",
      "[0.         0.         0.         0.         0.         0.\n",
      " 0.         0.         0.         0.01190348 0.03827133 0.03055911\n",
      " 0.01190348 0.01190348 0.01422938 0.         0.         0.        ]\n",
      "[0.00657081 0.00657081 0.00657081 0.00657081 0.00657081 0.00657081\n",
      " 0.00657081 0.00657081 0.00657081 0.01190348 0.01190348 0.01190348\n",
      " 0.01190348 0.01190348 0.01190348 0.6570807  0.6570807  0.6570807 ]\n",
      "[0.         0.         0.         0.         0.         0.\n",
      " 0.         0.         0.         1.         0.37469903 0.58768994\n",
      " 0.17447285 0.19907628 0.05490137 0.         0.         0.        ]\n",
      "[0.         0.         0.         0.         0.         0.\n",
      " 0.         0.         0.         0.01190348 0.01190348 0.01190348\n",
      " 0.01190348 0.01190348 0.01190348 0.         0.         0.        ]\n",
      "[0.         0.         0.         0.         0.         0.\n",
      " 0.         0.         0.         0.01190348 0.01190348 0.01190348\n",
      " 0.01190348 0.01190348 0.81097484 0.         0.         0.        ]\n",
      "[0.         0.         0.         0.         0.         0.\n",
      " 0.         0.         0.         0.01190348 0.01190348 0.0122312\n",
      " 0.01190348 0.01190348 0.01910952 0.         0.         0.        ]\n",
      "[0.         0.         0.         0.         0.         0.\n",
      " 0.         0.         0.         0.01190348 0.03827133 0.03055911\n",
      " 0.01190348 0.01190348 0.01422938 0.         0.         0.        ]\n",
      "[0.         0.         0.         0.         0.         0.\n",
      " 0.         0.         0.         1.         0.37469903 0.58768994\n",
      " 0.17447285 0.19907628 0.05490137 0.         0.         0.        ]\n"
     ]
    },
    {
     "ename": "KeyboardInterrupt",
     "evalue": "",
     "output_type": "error",
     "traceback": [
      "\u001b[0;31m---------------------------------------------------------------------------\u001b[0m",
      "\u001b[0;31mKeyboardInterrupt\u001b[0m                         Traceback (most recent call last)",
      "Cell \u001b[0;32mIn[5], line 3\u001b[0m\n\u001b[1;32m      2\u001b[0m circuit_modeller \u001b[39m=\u001b[39m CircuitModeller(result_writer\u001b[39m=\u001b[39mresult_writer, config\u001b[39m=\u001b[39mconfig)\n\u001b[0;32m----> 3\u001b[0m circuit_modeller\u001b[39m.\u001b[39;49mbatch_circuits(\n\u001b[1;32m      4\u001b[0m     circuits\u001b[39m=\u001b[39;49mcircuits,\n\u001b[1;32m      5\u001b[0m     methods\u001b[39m=\u001b[39;49m{\n\u001b[1;32m      6\u001b[0m         \u001b[39m\"\u001b[39;49m\u001b[39mcompute_interactions\u001b[39;49m\u001b[39m\"\u001b[39;49m: {},\n\u001b[1;32m      7\u001b[0m         \u001b[39m\"\u001b[39;49m\u001b[39minit_circuits\u001b[39;49m\u001b[39m\"\u001b[39;49m: {\u001b[39m'\u001b[39;49m\u001b[39mbatch\u001b[39;49m\u001b[39m'\u001b[39;49m: \u001b[39mTrue\u001b[39;49;00m},\n\u001b[1;32m      8\u001b[0m         \u001b[39m'\u001b[39;49m\u001b[39msimulate_signal_batch\u001b[39;49m\u001b[39m'\u001b[39;49m: {\u001b[39m'\u001b[39;49m\u001b[39mref_circuit\u001b[39;49m\u001b[39m'\u001b[39;49m: \u001b[39mNone\u001b[39;49;00m,\n\u001b[1;32m      9\u001b[0m                                   \u001b[39m'\u001b[39;49m\u001b[39mbatch\u001b[39;49m\u001b[39m'\u001b[39;49m: config[\u001b[39m'\u001b[39;49m\u001b[39msimulation\u001b[39;49m\u001b[39m'\u001b[39;49m][\u001b[39m'\u001b[39;49m\u001b[39muse_batch_mutations\u001b[39;49m\u001b[39m'\u001b[39;49m]},\n\u001b[1;32m     10\u001b[0m         \u001b[39m'\u001b[39;49m\u001b[39mwrite_results\u001b[39;49m\u001b[39m'\u001b[39;49m: {\u001b[39m'\u001b[39;49m\u001b[39mno_visualisations\u001b[39;49m\u001b[39m'\u001b[39;49m: \u001b[39mFalse\u001b[39;49;00m, \u001b[39m# config['experiment']['no_visualisations'],\u001b[39;49;00m\n\u001b[1;32m     11\u001b[0m                           \u001b[39m'\u001b[39;49m\u001b[39mno_numerical\u001b[39;49m\u001b[39m'\u001b[39;49m: \u001b[39mFalse\u001b[39;49;00m} \u001b[39m#config['experiment']['no_numerical']}\u001b[39;49;00m\n\u001b[1;32m     12\u001b[0m     }\n\u001b[1;32m     13\u001b[0m )\n",
      "File \u001b[0;32m~/Kode/gene-circuit-glitch-prediction/src/utils/circuit/agnostic_circuits/circuit_manager_new.py:573\u001b[0m, in \u001b[0;36mbatch_circuits\u001b[0;34m(self, circuits, methods, batch_size, include_normal_run, write_to_subsystem)\u001b[0m\n\u001b[1;32m    570\u001b[0m     \u001b[39mif\u001b[39;00m \u001b[39mnot\u001b[39;00m b_circuits:\n\u001b[1;32m    571\u001b[0m         \u001b[39mcontinue\u001b[39;00m\n\u001b[1;32m    572\u001b[0m     ref_circuit \u001b[39m=\u001b[39m \u001b[39mself\u001b[39m\u001b[39m.\u001b[39mrun_batch(\n\u001b[0;32m--> 573\u001b[0m         b_circuits, methods, leading_ref_circuit\u001b[39m=\u001b[39mref_circuit,\n\u001b[1;32m    574\u001b[0m         include_normal_run\u001b[39m=\u001b[39minclude_normal_run,\n\u001b[1;32m    575\u001b[0m         write_to_subsystem\u001b[39m=\u001b[39mwrite_to_subsystem)\n\u001b[1;32m    577\u001b[0m single_batch_time \u001b[39m=\u001b[39m datetime\u001b[39m.\u001b[39mnow() \u001b[39m-\u001b[39m single_batch_time\n\u001b[1;32m    578\u001b[0m logging\u001b[39m.\u001b[39mwarning(\n\u001b[1;32m    579\u001b[0m     \u001b[39mf\u001b[39m\u001b[39m'\u001b[39m\u001b[39mSingle batch: \u001b[39m\u001b[39m{\u001b[39;00msingle_batch_time\u001b[39m}\u001b[39;00m\u001b[39m \u001b[39m\u001b[39m\\n\u001b[39;00m\u001b[39mProjected time: \u001b[39m\u001b[39m{\u001b[39;00msingle_batch_time\u001b[39m.\u001b[39mtotal_seconds() \u001b[39m*\u001b[39m \u001b[39mlen\u001b[39m(circuits)\u001b[39m/\u001b[39mviable_circuit_num\u001b[39m}\u001b[39;00m\u001b[39ms \u001b[39m\u001b[39m\\n\u001b[39;00m\u001b[39mTotal time: \u001b[39m\u001b[39m{\u001b[39;00m\u001b[39mstr\u001b[39m(datetime\u001b[39m.\u001b[39mnow() \u001b[39m-\u001b[39m start_time)\u001b[39m}\u001b[39;00m\u001b[39m'\u001b[39m)\n",
      "File \u001b[0;32m~/Kode/gene-circuit-glitch-prediction/src/utils/circuit/agnostic_circuits/circuit_manager_new.py:603\u001b[0m, in \u001b[0;36mrun_batch\u001b[0;34m(self, subcircuits, methods, leading_ref_circuit, include_normal_run, write_to_subsystem)\u001b[0m\n\u001b[1;32m    601\u001b[0m             kwargs.update({'ref_circuit': ref_circuit})\n\u001b[1;32m    602\u001b[0m         subcircuits = getattr(self, method)(subcircuits, **kwargs)\n\u001b[0;32m--> 603\u001b[0m     else:\n\u001b[1;32m    604\u001b[0m         logging.warning(\n\u001b[1;32m    605\u001b[0m             f'Could not find method @{method} in class {self}')\n\u001b[1;32m    606\u001b[0m else:\n",
      "File \u001b[0;32m~/Kode/gene-circuit-glitch-prediction/src/utils/circuit/agnostic_circuits/circuit_manager_new.py:75\u001b[0m, in \u001b[0;36minit_circuits\u001b[0;34m(self, circuits, batch)\u001b[0m\n\u001b[1;32m     73\u001b[0m \u001b[39mif\u001b[39;00m \u001b[39mself\u001b[39m\u001b[39m.\u001b[39msimulation_args\u001b[39m.\u001b[39mget(\u001b[39m'\u001b[39m\u001b[39muse_rate_scaling\u001b[39m\u001b[39m'\u001b[39m, \u001b[39mTrue\u001b[39;00m):\n\u001b[1;32m     74\u001b[0m     circuits \u001b[39m=\u001b[39m \u001b[39mself\u001b[39m\u001b[39m.\u001b[39mscale_rates(circuits)\n\u001b[0;32m---> 75\u001b[0m \u001b[39mreturn\u001b[39;00m circuits\n",
      "File \u001b[0;32m~/Kode/gene-circuit-glitch-prediction/src/utils/circuit/agnostic_circuits/circuit_manager_new.py:257\u001b[0m, in \u001b[0;36mscale_rates\u001b[0;34m(self, circuits, batch)\u001b[0m\n\u001b[1;32m    253\u001b[0m rate_max \u001b[39m=\u001b[39m np\u001b[39m.\u001b[39mmax([np\u001b[39m.\u001b[39mmax(np\u001b[39m.\u001b[39masarray(forward_rates)),\n\u001b[1;32m    254\u001b[0m                   np\u001b[39m.\u001b[39mmax(np\u001b[39m.\u001b[39masarray(reverse_rates))])\n\u001b[1;32m    256\u001b[0m \u001b[39mfor\u001b[39;00m i \u001b[39min\u001b[39;00m \u001b[39mrange\u001b[39m(\u001b[39mlen\u001b[39m(circuits)):\n\u001b[0;32m--> 257\u001b[0m     circuits[i]\u001b[39m.\u001b[39mqreactions\u001b[39m.\u001b[39mreactions\u001b[39m.\u001b[39mforward_rates \u001b[39m=\u001b[39m circuits[i]\u001b[39m.\u001b[39mqreactions\u001b[39m.\u001b[39mreactions\u001b[39m.\u001b[39mforward_rates \u001b[39m/\u001b[39m rate_max\n\u001b[1;32m    258\u001b[0m     circuits[i]\u001b[39m.\u001b[39mqreactions\u001b[39m.\u001b[39mreactions\u001b[39m.\u001b[39mreverse_rates \u001b[39m=\u001b[39m circuits[i]\u001b[39m.\u001b[39mqreactions\u001b[39m.\u001b[39mreactions\u001b[39m.\u001b[39mreverse_rates \u001b[39m/\u001b[39m rate_max\n\u001b[1;32m    259\u001b[0m \u001b[39mreturn\u001b[39;00m circuits\n",
      "File \u001b[0;32m~/Kode/gene-circuit-glitch-prediction/src/utils/circuit/agnostic_circuits/circuit_manager_new.py:257\u001b[0m, in \u001b[0;36mscale_rates\u001b[0;34m(self, circuits, batch)\u001b[0m\n\u001b[1;32m    253\u001b[0m rate_max \u001b[39m=\u001b[39m np\u001b[39m.\u001b[39mmax([np\u001b[39m.\u001b[39mmax(np\u001b[39m.\u001b[39masarray(forward_rates)),\n\u001b[1;32m    254\u001b[0m                   np\u001b[39m.\u001b[39mmax(np\u001b[39m.\u001b[39masarray(reverse_rates))])\n\u001b[1;32m    256\u001b[0m \u001b[39mfor\u001b[39;00m i \u001b[39min\u001b[39;00m \u001b[39mrange\u001b[39m(\u001b[39mlen\u001b[39m(circuits)):\n\u001b[0;32m--> 257\u001b[0m     circuits[i]\u001b[39m.\u001b[39mqreactions\u001b[39m.\u001b[39mreactions\u001b[39m.\u001b[39mforward_rates \u001b[39m=\u001b[39m circuits[i]\u001b[39m.\u001b[39mqreactions\u001b[39m.\u001b[39mreactions\u001b[39m.\u001b[39mforward_rates \u001b[39m/\u001b[39m rate_max\n\u001b[1;32m    258\u001b[0m     circuits[i]\u001b[39m.\u001b[39mqreactions\u001b[39m.\u001b[39mreactions\u001b[39m.\u001b[39mreverse_rates \u001b[39m=\u001b[39m circuits[i]\u001b[39m.\u001b[39mqreactions\u001b[39m.\u001b[39mreactions\u001b[39m.\u001b[39mreverse_rates \u001b[39m/\u001b[39m rate_max\n\u001b[1;32m    259\u001b[0m \u001b[39mreturn\u001b[39;00m circuits\n",
      "File \u001b[0;32m_pydevd_bundle/pydevd_cython.pyx:1457\u001b[0m, in \u001b[0;36m_pydevd_bundle.pydevd_cython.SafeCallWrapper.__call__\u001b[0;34m()\u001b[0m\n",
      "File \u001b[0;32m_pydevd_bundle/pydevd_cython.pyx:701\u001b[0m, in \u001b[0;36m_pydevd_bundle.pydevd_cython.PyDBFrame.trace_dispatch\u001b[0;34m()\u001b[0m\n",
      "File \u001b[0;32m_pydevd_bundle/pydevd_cython.pyx:1152\u001b[0m, in \u001b[0;36m_pydevd_bundle.pydevd_cython.PyDBFrame.trace_dispatch\u001b[0;34m()\u001b[0m\n",
      "File \u001b[0;32m_pydevd_bundle/pydevd_cython.pyx:1135\u001b[0m, in \u001b[0;36m_pydevd_bundle.pydevd_cython.PyDBFrame.trace_dispatch\u001b[0;34m()\u001b[0m\n",
      "File \u001b[0;32m_pydevd_bundle/pydevd_cython.pyx:312\u001b[0m, in \u001b[0;36m_pydevd_bundle.pydevd_cython.PyDBFrame.do_wait_suspend\u001b[0;34m()\u001b[0m\n",
      "File \u001b[0;32m~/Kode/env_circuits/lib/python3.10/site-packages/debugpy/_vendored/pydevd/pydevd.py:2067\u001b[0m, in \u001b[0;36mPyDB.do_wait_suspend\u001b[0;34m(self, thread, frame, event, arg, exception_type)\u001b[0m\n\u001b[1;32m   2064\u001b[0m             from_this_thread\u001b[39m.\u001b[39mappend(frame_custom_thread_id)\n\u001b[1;32m   2066\u001b[0m     \u001b[39mwith\u001b[39;00m \u001b[39mself\u001b[39m\u001b[39m.\u001b[39m_threads_suspended_single_notification\u001b[39m.\u001b[39mnotify_thread_suspended(thread_id, stop_reason):\n\u001b[0;32m-> 2067\u001b[0m         keep_suspended \u001b[39m=\u001b[39m \u001b[39mself\u001b[39;49m\u001b[39m.\u001b[39;49m_do_wait_suspend(thread, frame, event, arg, suspend_type, from_this_thread, frames_tracker)\n\u001b[1;32m   2069\u001b[0m frames_list \u001b[39m=\u001b[39m \u001b[39mNone\u001b[39;00m\n\u001b[1;32m   2071\u001b[0m \u001b[39mif\u001b[39;00m keep_suspended:\n\u001b[1;32m   2072\u001b[0m     \u001b[39m# This means that we should pause again after a set next statement.\u001b[39;00m\n",
      "File \u001b[0;32m~/Kode/env_circuits/lib/python3.10/site-packages/debugpy/_vendored/pydevd/pydevd.py:2103\u001b[0m, in \u001b[0;36mPyDB._do_wait_suspend\u001b[0;34m(self, thread, frame, event, arg, suspend_type, from_this_thread, frames_tracker)\u001b[0m\n\u001b[1;32m   2100\u001b[0m         \u001b[39mself\u001b[39m\u001b[39m.\u001b[39m_call_input_hook()\n\u001b[1;32m   2102\u001b[0m     \u001b[39mself\u001b[39m\u001b[39m.\u001b[39mprocess_internal_commands()\n\u001b[0;32m-> 2103\u001b[0m     time\u001b[39m.\u001b[39;49msleep(\u001b[39m0.01\u001b[39;49m)\n\u001b[1;32m   2105\u001b[0m \u001b[39mself\u001b[39m\u001b[39m.\u001b[39mcancel_async_evaluation(get_current_thread_id(thread), \u001b[39mstr\u001b[39m(\u001b[39mid\u001b[39m(frame)))\n\u001b[1;32m   2107\u001b[0m \u001b[39m# process any stepping instructions\u001b[39;00m\n",
      "\u001b[0;31mKeyboardInterrupt\u001b[0m: "
     ]
    }
   ],
   "source": [
    "\n",
    "circuit_modeller = CircuitModeller(result_writer=result_writer, config=config)\n",
    "circuit_modeller.batch_circuits(\n",
    "    circuits=circuits,\n",
    "    methods={\n",
    "        \"compute_interactions\": {},\n",
    "        \"init_circuits\": {'batch': True},\n",
    "        'simulate_signal_batch': {'ref_circuit': None,\n",
    "                                  'batch': config['simulation']['use_batch_mutations']},\n",
    "        'write_results': {'no_visualisations': False, # config['experiment']['no_visualisations'],\n",
    "                          'no_numerical': False} #config['experiment']['no_numerical']}\n",
    "    }\n",
    ")\n"
   ]
  },
  {
   "cell_type": "markdown",
   "metadata": {},
   "source": []
  }
 ],
 "metadata": {
  "kernelspec": {
   "display_name": "env_circuits",
   "language": "python",
   "name": "python3"
  },
  "language_info": {
   "codemirror_mode": {
    "name": "ipython",
    "version": 3
   },
   "file_extension": ".py",
   "mimetype": "text/x-python",
   "name": "python",
   "nbconvert_exporter": "python",
   "pygments_lexer": "ipython3",
   "version": "3.10.6"
  },
  "orig_nbformat": 4
 },
 "nbformat": 4,
 "nbformat_minor": 2
}
