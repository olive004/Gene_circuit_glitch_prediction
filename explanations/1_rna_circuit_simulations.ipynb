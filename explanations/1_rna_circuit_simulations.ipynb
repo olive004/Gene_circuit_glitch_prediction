{
 "cells": [
  {
   "attachments": {},
   "cell_type": "markdown",
   "metadata": {},
   "source": [
    "# Basic RNA circuit simulation \n",
    "\n"
   ]
  },
  {
   "cell_type": "code",
   "execution_count": 2,
   "metadata": {},
   "outputs": [],
   "source": [
    "from bioreaction.simulation.basic_sim import convert_model\n",
    "\n",
    "import jax\n",
    "import numpy as np\n",
    "import os\n",
    "import sys\n",
    "\n",
    "from datetime import datetime\n",
    "import matplotlib.pyplot as plt\n",
    "import seaborn as sns\n",
    "plt.style.use('seaborn-v0_8-paper')\n",
    "os.environ[\"TF_CPP_MIN_LOG_LOVEL\"] = \"0\"\n",
    "jax.config.update('jax_platform_name', 'gpu')\n",
    "\n",
    "\n",
    "if __package__ is None:\n",
    "\n",
    "    module_path = os.path.abspath(os.path.join('..'))\n",
    "    sys.path.append(module_path)\n",
    "\n",
    "    __package__ = os.path.basename(module_path)\n",
    "\n",
    "\n",
    "from src.utils.data.data_format_tools.common import load_json_as_dict\n",
    "from src.utils.common.setup_new import prepare_config, construct_circuit_from_cfg\n",
    "from src.utils.circuit.agnostic_circuits.circuit_manager_new import CircuitModeller\n",
    "from tests_local.shared import five_circuits\n",
    "\n",
    "config = load_json_as_dict('../tests_local/configs/simple_circuit.json')\n"
   ]
  },
  {
   "cell_type": "code",
   "execution_count": 3,
   "metadata": {},
   "outputs": [],
   "source": [
    "\n",
    "\n",
    "\n",
    "def update_model_rates(model, a=None, d=None, ka=None, kd=None):\n",
    "    for i, r in enumerate(model.reactions):\n",
    "        if not r.input:  # 0 -> RNA\n",
    "            if a is not None:\n",
    "                model.reactions[i].forward_rate = a[model.species.index(\n",
    "                    r.output[0])]\n",
    "                model.reactions[i].reverse_rate = 0\n",
    "        elif not r.output:  # RNA -> 0\n",
    "            if d is not None:\n",
    "                model.reactions[i].forward_rate = d[model.species.index(\n",
    "                    r.input[0])]\n",
    "                model.reactions[i].reverse_rate = 0\n",
    "        else: # unbound RNA -> bound RNA\n",
    "            if ka is not None:\n",
    "                model.reactions[i].forward_rate = ka[model.species.index(r.input[0]),\n",
    "                                                     model.species.index(r.input[1])]\n",
    "            if kd is not None:\n",
    "                model.reactions[i].reverse_rate = kd[model.species.index(r.input[0]),\n",
    "                                                     model.species.index(r.input[1])]\n",
    "    return model\n",
    "\n",
    "\n",
    "def make_params(model, scale_rates=True):\n",
    "    sim_model = convert_model(model)\n",
    "\n",
    "    if scale_rates:\n",
    "        m = np.max([sim_model.forward_rates.max(), sim_model.reverse_rates.max()])\n",
    "    else:\n",
    "        m = 1\n",
    "    inputs = sim_model.inputs\n",
    "    outputs = sim_model.outputs\n",
    "    forward_rates = sim_model.forward_rates/m\n",
    "    reverse_rates = sim_model.reverse_rates/m\n",
    "    return inputs, outputs, forward_rates, reverse_rates, m"
   ]
  },
  {
   "cell_type": "code",
   "execution_count": 5,
   "metadata": {},
   "outputs": [
    {
     "data": {
      "text/plain": [
       "{'dt': 0.1,\n",
       " 't0': 0,\n",
       " 't1': 100,\n",
       " 'tmax': 20000,\n",
       " 'solver': 'diffrax',\n",
       " 'use_batch_mutations': True,\n",
       " 'batch_size': 100,\n",
       " 'max_circuits': 1000,\n",
       " 'device': 'cpu',\n",
       " 'threshold_steady_states': 0.1,\n",
       " 'use_rate_scaling': True}"
      ]
     },
     "execution_count": 5,
     "metadata": {},
     "output_type": "execute_result"
    }
   ],
   "source": [
    "config['simulation']"
   ]
  },
  {
   "attachments": {},
   "cell_type": "markdown",
   "metadata": {},
   "source": [
    "Use the 5 tester circuits :)"
   ]
  },
  {
   "cell_type": "code",
   "execution_count": 8,
   "metadata": {},
   "outputs": [],
   "source": [
    "config = prepare_config(config)\n",
    "circuits, config, result_writer = five_circuits(config)\n",
    "\n",
    "# config['interactions'] = {}\n",
    "config['interactions'] = None\n",
    "tester_circuit = construct_circuit_from_cfg({'data_path': '../tester.fasta'}, config)\n",
    "circuits.append(tester_circuit)\n"
   ]
  },
  {
   "cell_type": "code",
   "execution_count": null,
   "metadata": {},
   "outputs": [
    {
     "data": {
      "text/plain": [
       "'uninitialised'"
      ]
     },
     "execution_count": 24,
     "metadata": {},
     "output_type": "execute_result"
    }
   ],
   "source": [
    "tester_circuit.interactions_state"
   ]
  },
  {
   "cell_type": "code",
   "execution_count": null,
   "metadata": {},
   "outputs": [
    {
     "name": "stderr",
     "output_type": "stream",
     "text": [
      "simulator.py:check_IntaRNA_path():115: Could not detect IntaRNA on system: CompletedProcess(args='which IntaRNA', returncode=1, stdout='', stderr='') WARNING\n",
      "circuit_manager_new.py:prepare_internal_funcs():467: Signal differs between circuits, but only first signal used for simulation. WARNING\n",
      "circuit_manager_new.py:batch_circuits():537: \tFrom 6 circuits, a total of 6 mutated circuits will be simulated. WARNING\n",
      "circuit_manager_new.py:batch_circuits():544: \t\tStarting new round of viable circuits (0 - 6 / 6) WARNING\n",
      "circuit_manager_new.py:batch_circuits():562: \t\tMaking subcircuits 0 - 6 took 1.2e-05s WARNING\n",
      "circuit_manager_new.py:batch_circuits():568: \tBatching 0 - 6 circuits (out of 0 - 6 (total: 6)) (Circuits: 0 - 6 of 6) WARNING\n",
      "circuit_manager_new.py:run_batch():599: \t\tRunning 6 Subcircuits - 0_weak: compute_interactions WARNING\n"
     ]
    },
    {
     "ename": "FileNotFoundError",
     "evalue": "[Errno 2] No such file or directory: 'IntaRNA'",
     "output_type": "error",
     "traceback": [
      "\u001b[0;31m---------------------------------------------------------------------------\u001b[0m",
      "\u001b[0;31mFileNotFoundError\u001b[0m                         Traceback (most recent call last)",
      "Cell \u001b[0;32mIn[25], line 2\u001b[0m\n\u001b[1;32m      1\u001b[0m circuit_modeller \u001b[39m=\u001b[39m CircuitModeller(result_writer\u001b[39m=\u001b[39mresult_writer, config\u001b[39m=\u001b[39mconfig)\n\u001b[0;32m----> 2\u001b[0m circuits \u001b[39m=\u001b[39m circuit_modeller\u001b[39m.\u001b[39;49mbatch_circuits(\n\u001b[1;32m      3\u001b[0m     circuits\u001b[39m=\u001b[39;49mcircuits,\n\u001b[1;32m      4\u001b[0m     methods\u001b[39m=\u001b[39;49m{\n\u001b[1;32m      5\u001b[0m         \u001b[39m\"\u001b[39;49m\u001b[39mcompute_interactions\u001b[39;49m\u001b[39m\"\u001b[39;49m: {},\n\u001b[1;32m      6\u001b[0m         \u001b[39m\"\u001b[39;49m\u001b[39minit_circuits\u001b[39;49m\u001b[39m\"\u001b[39;49m: {\u001b[39m'\u001b[39;49m\u001b[39mbatch\u001b[39;49m\u001b[39m'\u001b[39;49m: \u001b[39mTrue\u001b[39;49;00m},\n\u001b[1;32m      7\u001b[0m         \u001b[39m'\u001b[39;49m\u001b[39msimulate_signal_batch\u001b[39;49m\u001b[39m'\u001b[39;49m: {\u001b[39m'\u001b[39;49m\u001b[39mref_circuit\u001b[39;49m\u001b[39m'\u001b[39;49m: \u001b[39mNone\u001b[39;49;00m,\n\u001b[1;32m      8\u001b[0m                                   \u001b[39m'\u001b[39;49m\u001b[39mbatch\u001b[39;49m\u001b[39m'\u001b[39;49m: config[\u001b[39m'\u001b[39;49m\u001b[39msimulation\u001b[39;49m\u001b[39m'\u001b[39;49m][\u001b[39m'\u001b[39;49m\u001b[39muse_batch_mutations\u001b[39;49m\u001b[39m'\u001b[39;49m]},\n\u001b[1;32m      9\u001b[0m         \u001b[39m'\u001b[39;49m\u001b[39mwrite_results\u001b[39;49m\u001b[39m'\u001b[39;49m: {\u001b[39m'\u001b[39;49m\u001b[39mno_visualisations\u001b[39;49m\u001b[39m'\u001b[39;49m: \u001b[39mFalse\u001b[39;49;00m, \u001b[39m# config['experiment']['no_visualisations'],\u001b[39;49;00m\n\u001b[1;32m     10\u001b[0m                           \u001b[39m'\u001b[39;49m\u001b[39mno_numerical\u001b[39;49m\u001b[39m'\u001b[39;49m: \u001b[39mFalse\u001b[39;49;00m} \u001b[39m#config['experiment']['no_numerical']}\u001b[39;49;00m\n\u001b[1;32m     11\u001b[0m     }\n\u001b[1;32m     12\u001b[0m )\n",
      "File \u001b[0;32m~/Kode/gene-circuit-glitch-prediction/src/utils/circuit/agnostic_circuits/circuit_manager_new.py:576\u001b[0m, in \u001b[0;36mCircuitModeller.batch_circuits\u001b[0;34m(self, circuits, methods, batch_size, include_normal_run, write_to_subsystem)\u001b[0m\n\u001b[1;32m    574\u001b[0m     \u001b[39mif\u001b[39;00m \u001b[39mnot\u001b[39;00m b_circuits:\n\u001b[1;32m    575\u001b[0m         \u001b[39mcontinue\u001b[39;00m\n\u001b[0;32m--> 576\u001b[0m     ref_circuit \u001b[39m=\u001b[39m \u001b[39mself\u001b[39;49m\u001b[39m.\u001b[39;49mrun_batch(\n\u001b[1;32m    577\u001b[0m         b_circuits, methods, leading_ref_circuit\u001b[39m=\u001b[39;49mref_circuit,\n\u001b[1;32m    578\u001b[0m         include_normal_run\u001b[39m=\u001b[39;49minclude_normal_run,\n\u001b[1;32m    579\u001b[0m         write_to_subsystem\u001b[39m=\u001b[39;49mwrite_to_subsystem)\n\u001b[1;32m    581\u001b[0m single_batch_time \u001b[39m=\u001b[39m datetime\u001b[39m.\u001b[39mnow() \u001b[39m-\u001b[39m single_batch_time\n\u001b[1;32m    582\u001b[0m logging\u001b[39m.\u001b[39mwarning(\n\u001b[1;32m    583\u001b[0m     \u001b[39mf\u001b[39m\u001b[39m'\u001b[39m\u001b[39mSingle batch: \u001b[39m\u001b[39m{\u001b[39;00msingle_batch_time\u001b[39m}\u001b[39;00m\u001b[39m \u001b[39m\u001b[39m\\n\u001b[39;00m\u001b[39mProjected time: \u001b[39m\u001b[39m{\u001b[39;00msingle_batch_time\u001b[39m.\u001b[39mtotal_seconds() \u001b[39m*\u001b[39m \u001b[39mlen\u001b[39m(circuits)\u001b[39m/\u001b[39mviable_circuit_num\u001b[39m}\u001b[39;00m\u001b[39ms \u001b[39m\u001b[39m\\n\u001b[39;00m\u001b[39mTotal time: \u001b[39m\u001b[39m{\u001b[39;00m\u001b[39mstr\u001b[39m(datetime\u001b[39m.\u001b[39mnow() \u001b[39m-\u001b[39m start_time)\u001b[39m}\u001b[39;00m\u001b[39m'\u001b[39m)\n",
      "File \u001b[0;32m~/Kode/gene-circuit-glitch-prediction/src/utils/circuit/agnostic_circuits/circuit_manager_new.py:628\u001b[0m, in \u001b[0;36mCircuitModeller.run_batch\u001b[0;34m(self, subcircuits, methods, leading_ref_circuit, include_normal_run, write_to_subsystem)\u001b[0m\n\u001b[1;32m    625\u001b[0m         \u001b[39mcontinue\u001b[39;00m\n\u001b[1;32m    627\u001b[0m a_time \u001b[39m=\u001b[39m datetime\u001b[39m.\u001b[39mnow()\n\u001b[0;32m--> 628\u001b[0m subcircuit \u001b[39m=\u001b[39m \u001b[39mself\u001b[39;49m\u001b[39m.\u001b[39;49mapply_to_circuit(\n\u001b[1;32m    629\u001b[0m     subcircuit, {method: kwargs})\n\u001b[1;32m    630\u001b[0m a_time \u001b[39m=\u001b[39m datetime\u001b[39m.\u001b[39mnow() \u001b[39m-\u001b[39m a_time\n\u001b[1;32m    631\u001b[0m subcircuits[i] \u001b[39m=\u001b[39m subcircuit\n",
      "File \u001b[0;32m~/Kode/gene-circuit-glitch-prediction/src/utils/circuit/agnostic_circuits/circuit_manager_new.py:647\u001b[0m, in \u001b[0;36mCircuitModeller.apply_to_circuit\u001b[0;34m(self, circuit, methods)\u001b[0m\n\u001b[1;32m    645\u001b[0m \u001b[39mfor\u001b[39;00m method, kwargs \u001b[39min\u001b[39;00m methods\u001b[39m.\u001b[39mitems():\n\u001b[1;32m    646\u001b[0m     \u001b[39mif\u001b[39;00m \u001b[39mhasattr\u001b[39m(\u001b[39mself\u001b[39m, method):\n\u001b[0;32m--> 647\u001b[0m         circuit \u001b[39m=\u001b[39m \u001b[39mgetattr\u001b[39;49m(\u001b[39mself\u001b[39;49m, method)(circuit, \u001b[39m*\u001b[39;49m\u001b[39m*\u001b[39;49mkwargs)\n\u001b[1;32m    648\u001b[0m     \u001b[39melse\u001b[39;00m:\n\u001b[1;32m    649\u001b[0m         logging\u001b[39m.\u001b[39mwarning(\n\u001b[1;32m    650\u001b[0m             \u001b[39mf\u001b[39m\u001b[39m'\u001b[39m\u001b[39mCould not find method @\u001b[39m\u001b[39m{\u001b[39;00mmethod\u001b[39m}\u001b[39;00m\u001b[39m in class \u001b[39m\u001b[39m{\u001b[39;00m\u001b[39mself\u001b[39m\u001b[39m}\u001b[39;00m\u001b[39m'\u001b[39m)\n",
      "File \u001b[0;32m~/Kode/gene-circuit-glitch-prediction/src/utils/circuit/agnostic_circuits/circuit_manager_new.py:84\u001b[0m, in \u001b[0;36mCircuitModeller.compute_interactions\u001b[0;34m(self, circuit)\u001b[0m\n\u001b[1;32m     82\u001b[0m \u001b[39melse\u001b[39;00m:\n\u001b[1;32m     83\u001b[0m     filename \u001b[39m=\u001b[39m \u001b[39mNone\u001b[39;00m\n\u001b[0;32m---> 84\u001b[0m interactions \u001b[39m=\u001b[39m \u001b[39mself\u001b[39;49m\u001b[39m.\u001b[39;49mrun_interaction_simulator(\n\u001b[1;32m     85\u001b[0m     species\u001b[39m=\u001b[39;49m\u001b[39msorted\u001b[39;49m(get_unique(flatten_listlike(\n\u001b[1;32m     86\u001b[0m         [r\u001b[39m.\u001b[39;49minput \u001b[39mfor\u001b[39;49;00m r \u001b[39min\u001b[39;49;00m circuit\u001b[39m.\u001b[39;49mmodel\u001b[39m.\u001b[39;49mreactions \u001b[39mif\u001b[39;49;00m r\u001b[39m.\u001b[39;49moutput]))),\n\u001b[1;32m     87\u001b[0m     filename\u001b[39m=\u001b[39;49mfilename)\n\u001b[1;32m     88\u001b[0m circuit\u001b[39m.\u001b[39minteractions \u001b[39m=\u001b[39m interactions\n\u001b[1;32m     89\u001b[0m circuit\u001b[39m.\u001b[39minteractions_state \u001b[39m=\u001b[39m \u001b[39m'\u001b[39m\u001b[39mcomputed\u001b[39m\u001b[39m'\u001b[39m\n",
      "File \u001b[0;32m~/Kode/gene-circuit-glitch-prediction/src/utils/circuit/agnostic_circuits/circuit_manager_new.py:114\u001b[0m, in \u001b[0;36mCircuitModeller.run_interaction_simulator\u001b[0;34m(self, species, filename)\u001b[0m\n\u001b[1;32m    110\u001b[0m data \u001b[39m=\u001b[39m {s: s\u001b[39m.\u001b[39mphysical_data \u001b[39mfor\u001b[39;00m s \u001b[39min\u001b[39;00m species}\n\u001b[1;32m    111\u001b[0m \u001b[39m# if filename is not None:\u001b[39;00m\n\u001b[1;32m    112\u001b[0m \u001b[39m#     return self.interaction_simulator.run((filename, data), compute_by_filename=True)\u001b[39;00m\n\u001b[1;32m    113\u001b[0m \u001b[39m# else:\u001b[39;00m\n\u001b[0;32m--> 114\u001b[0m \u001b[39mreturn\u001b[39;00m \u001b[39mself\u001b[39;49m\u001b[39m.\u001b[39;49minteraction_simulator\u001b[39m.\u001b[39;49mrun(data, compute_by_filename\u001b[39m=\u001b[39;49m\u001b[39mFalse\u001b[39;49;00m)\n",
      "File \u001b[0;32m~/Kode/gene-circuit-glitch-prediction/src/srv/parameter_prediction/interactions.py:202\u001b[0m, in \u001b[0;36mInteractionSimulator.run\u001b[0;34m(self, input, compute_by_filename)\u001b[0m\n\u001b[1;32m    199\u001b[0m \u001b[39mdef\u001b[39;00m \u001b[39mrun\u001b[39m(\u001b[39mself\u001b[39m, \u001b[39minput\u001b[39m: Union[\u001b[39mdict\u001b[39m, Tuple[\u001b[39mstr\u001b[39m, \u001b[39mdict\u001b[39m]], compute_by_filename: \u001b[39mbool\u001b[39m):\n\u001b[1;32m    200\u001b[0m     \u001b[39m\"\"\" Makes nested dictionary for querying interactions as \u001b[39;00m\n\u001b[1;32m    201\u001b[0m \u001b[39m    {sample1: {sample2: interaction}} \"\"\"\u001b[39;00m\n\u001b[0;32m--> 202\u001b[0m     data \u001b[39m=\u001b[39m \u001b[39mself\u001b[39;49m\u001b[39m.\u001b[39;49msimulator(\u001b[39minput\u001b[39;49m, compute_by_filename\u001b[39m=\u001b[39;49mcompute_by_filename)\n\u001b[1;32m    203\u001b[0m     data \u001b[39m=\u001b[39m \u001b[39mself\u001b[39m\u001b[39m.\u001b[39mdata_handler\u001b[39m.\u001b[39minit_data(data)\n\u001b[1;32m    204\u001b[0m     \u001b[39mreturn\u001b[39;00m data\n",
      "File \u001b[0;32m~/Kode/gene-circuit-glitch-prediction/src/srv/parameter_prediction/simulator.py:123\u001b[0m, in \u001b[0;36msimulate_IntaRNA\u001b[0;34m(input, compute_by_filename, allow_self_interaction, sim_kwargs, simulator)\u001b[0m\n\u001b[1;32m    121\u001b[0m \u001b[39melse\u001b[39;00m:\n\u001b[1;32m    122\u001b[0m     f \u001b[39m=\u001b[39m simulate_IntaRNA_data\n\u001b[0;32m--> 123\u001b[0m \u001b[39mreturn\u001b[39;00m f(\u001b[39minput\u001b[39;49m, allow_self_interaction\u001b[39m=\u001b[39;49mallow_self_interaction, sim_kwargs\u001b[39m=\u001b[39;49msim_kwargs, simulator\u001b[39m=\u001b[39;49msimulator)\n",
      "File \u001b[0;32m~/Kode/gene-circuit-glitch-prediction/src/srv/parameter_prediction/simulator.py:143\u001b[0m, in \u001b[0;36msimulate_IntaRNA_data\u001b[0;34m(batch, allow_self_interaction, sim_kwargs, simulator)\u001b[0m\n\u001b[1;32m    141\u001b[0m                 sim_kwargs[\u001b[39m\"\u001b[39m\u001b[39mquery\u001b[39m\u001b[39m\"\u001b[39m] \u001b[39m=\u001b[39m sample_i\n\u001b[1;32m    142\u001b[0m                 sim_kwargs[\u001b[39m\"\u001b[39m\u001b[39mtarget\u001b[39m\u001b[39m\"\u001b[39m] \u001b[39m=\u001b[39m sample_j\n\u001b[0;32m--> 143\u001b[0m                 current_pair[label_j] \u001b[39m=\u001b[39m simulator\u001b[39m.\u001b[39;49mrun(\u001b[39m*\u001b[39;49m\u001b[39m*\u001b[39;49msim_kwargs)\n\u001b[1;32m    144\u001b[0m         data[label_i] \u001b[39m=\u001b[39m current_pair\n\u001b[1;32m    145\u001b[0m \u001b[39melse\u001b[39;00m:\n",
      "File \u001b[0;32m~/Kode/gene-circuit-glitch-prediction/src/srv/parameter_prediction/IntaRNA/bin/copomus/IntaRNA.py:51\u001b[0m, in \u001b[0;36mIntaRNA.run\u001b[0;34m(self, query, target, qidxpos0, tidxpos0, outcsvcols, threads, n, param_file, extra_params, raw_stdout)\u001b[0m\n\u001b[1;32m     49\u001b[0m     extra_params \u001b[39m=\u001b[39m []\n\u001b[1;32m     50\u001b[0m param_file \u001b[39m=\u001b[39m \u001b[39mf\u001b[39m\u001b[39m'\u001b[39m\u001b[39m--parameterFile=\u001b[39m\u001b[39m{\u001b[39;00mparam_file\u001b[39m}\u001b[39;00m\u001b[39m'\u001b[39m \u001b[39mif\u001b[39;00m param_file \u001b[39melse\u001b[39;00m \u001b[39m'\u001b[39m\u001b[39m'\u001b[39m\n\u001b[0;32m---> 51\u001b[0m p \u001b[39m=\u001b[39m Popen([\u001b[39m'\u001b[39;49m\u001b[39mIntaRNA\u001b[39;49m\u001b[39m'\u001b[39;49m, \u001b[39m'\u001b[39;49m\u001b[39m-q\u001b[39;49m\u001b[39m'\u001b[39;49m, query, \u001b[39m'\u001b[39;49m\u001b[39m-t\u001b[39;49m\u001b[39m'\u001b[39;49m, target,\n\u001b[1;32m     52\u001b[0m            \u001b[39m'\u001b[39;49m\u001b[39m--outMode=C\u001b[39;49m\u001b[39m'\u001b[39;49m, \u001b[39mf\u001b[39;49m\u001b[39m'\u001b[39;49m\u001b[39m--outcsvcols=\u001b[39;49m\u001b[39m{\u001b[39;49;00moutcsvcols\u001b[39m}\u001b[39;49;00m\u001b[39m'\u001b[39;49m,\n\u001b[1;32m     53\u001b[0m            \u001b[39mf\u001b[39;49m\u001b[39m'\u001b[39;49m\u001b[39m--qIdxPos0=\u001b[39;49m\u001b[39m{\u001b[39;49;00mqidxpos0\u001b[39m}\u001b[39;49;00m\u001b[39m'\u001b[39;49m,\n\u001b[1;32m     54\u001b[0m            \u001b[39mf\u001b[39;49m\u001b[39m'\u001b[39;49m\u001b[39m--tIdxPos0=\u001b[39;49m\u001b[39m{\u001b[39;49;00mtidxpos0\u001b[39m}\u001b[39;49;00m\u001b[39m'\u001b[39;49m,\n\u001b[1;32m     55\u001b[0m            \u001b[39mf\u001b[39;49m\u001b[39m'\u001b[39;49m\u001b[39m--outNumber=\u001b[39;49m\u001b[39m{\u001b[39;49;00mn\u001b[39m}\u001b[39;49;00m\u001b[39m'\u001b[39;49m,\n\u001b[1;32m     56\u001b[0m            \u001b[39mf\u001b[39;49m\u001b[39m'\u001b[39;49m\u001b[39m--threads=\u001b[39;49m\u001b[39m{\u001b[39;49;00mthreads\u001b[39m}\u001b[39;49;00m\u001b[39m'\u001b[39;49m, param_file]\n\u001b[1;32m     57\u001b[0m           \u001b[39m+\u001b[39;49m extra_params, stdout\u001b[39m=\u001b[39;49mPIPE, stderr\u001b[39m=\u001b[39;49mPIPE, universal_newlines\u001b[39m=\u001b[39;49m\u001b[39mTrue\u001b[39;49;00m)\n\u001b[1;32m     59\u001b[0m stdout, stderr \u001b[39m=\u001b[39m p\u001b[39m.\u001b[39mcommunicate()\n\u001b[1;32m     60\u001b[0m \u001b[39mif\u001b[39;00m p\u001b[39m.\u001b[39mreturncode:\n",
      "File \u001b[0;32m/usr/lib/python3.10/subprocess.py:969\u001b[0m, in \u001b[0;36mPopen.__init__\u001b[0;34m(self, args, bufsize, executable, stdin, stdout, stderr, preexec_fn, close_fds, shell, cwd, env, universal_newlines, startupinfo, creationflags, restore_signals, start_new_session, pass_fds, user, group, extra_groups, encoding, errors, text, umask, pipesize)\u001b[0m\n\u001b[1;32m    965\u001b[0m         \u001b[39mif\u001b[39;00m \u001b[39mself\u001b[39m\u001b[39m.\u001b[39mtext_mode:\n\u001b[1;32m    966\u001b[0m             \u001b[39mself\u001b[39m\u001b[39m.\u001b[39mstderr \u001b[39m=\u001b[39m io\u001b[39m.\u001b[39mTextIOWrapper(\u001b[39mself\u001b[39m\u001b[39m.\u001b[39mstderr,\n\u001b[1;32m    967\u001b[0m                     encoding\u001b[39m=\u001b[39mencoding, errors\u001b[39m=\u001b[39merrors)\n\u001b[0;32m--> 969\u001b[0m     \u001b[39mself\u001b[39;49m\u001b[39m.\u001b[39;49m_execute_child(args, executable, preexec_fn, close_fds,\n\u001b[1;32m    970\u001b[0m                         pass_fds, cwd, env,\n\u001b[1;32m    971\u001b[0m                         startupinfo, creationflags, shell,\n\u001b[1;32m    972\u001b[0m                         p2cread, p2cwrite,\n\u001b[1;32m    973\u001b[0m                         c2pread, c2pwrite,\n\u001b[1;32m    974\u001b[0m                         errread, errwrite,\n\u001b[1;32m    975\u001b[0m                         restore_signals,\n\u001b[1;32m    976\u001b[0m                         gid, gids, uid, umask,\n\u001b[1;32m    977\u001b[0m                         start_new_session)\n\u001b[1;32m    978\u001b[0m \u001b[39mexcept\u001b[39;00m:\n\u001b[1;32m    979\u001b[0m     \u001b[39m# Cleanup if the child failed starting.\u001b[39;00m\n\u001b[1;32m    980\u001b[0m     \u001b[39mfor\u001b[39;00m f \u001b[39min\u001b[39;00m \u001b[39mfilter\u001b[39m(\u001b[39mNone\u001b[39;00m, (\u001b[39mself\u001b[39m\u001b[39m.\u001b[39mstdin, \u001b[39mself\u001b[39m\u001b[39m.\u001b[39mstdout, \u001b[39mself\u001b[39m\u001b[39m.\u001b[39mstderr)):\n",
      "File \u001b[0;32m/usr/lib/python3.10/subprocess.py:1845\u001b[0m, in \u001b[0;36mPopen._execute_child\u001b[0;34m(self, args, executable, preexec_fn, close_fds, pass_fds, cwd, env, startupinfo, creationflags, shell, p2cread, p2cwrite, c2pread, c2pwrite, errread, errwrite, restore_signals, gid, gids, uid, umask, start_new_session)\u001b[0m\n\u001b[1;32m   1843\u001b[0m     \u001b[39mif\u001b[39;00m errno_num \u001b[39m!=\u001b[39m \u001b[39m0\u001b[39m:\n\u001b[1;32m   1844\u001b[0m         err_msg \u001b[39m=\u001b[39m os\u001b[39m.\u001b[39mstrerror(errno_num)\n\u001b[0;32m-> 1845\u001b[0m     \u001b[39mraise\u001b[39;00m child_exception_type(errno_num, err_msg, err_filename)\n\u001b[1;32m   1846\u001b[0m \u001b[39mraise\u001b[39;00m child_exception_type(err_msg)\n",
      "\u001b[0;31mFileNotFoundError\u001b[0m: [Errno 2] No such file or directory: 'IntaRNA'"
     ]
    }
   ],
   "source": [
    "\n",
    "circuit_modeller = CircuitModeller(result_writer=result_writer, config=config)\n",
    "circuits = circuit_modeller.batch_circuits(\n",
    "    circuits=circuits,\n",
    "    methods={\n",
    "        \"compute_interactions\": {},\n",
    "        \"init_circuits\": {'batch': True},\n",
    "        'simulate_signal_batch': {'ref_circuit': None,\n",
    "                                  'batch': config['simulation']['use_batch_mutations']},\n",
    "        'write_results': {'no_visualisations': False, # config['experiment']['no_visualisations'],\n",
    "                          'no_numerical': False} #config['experiment']['no_numerical']}\n",
    "    }\n",
    ")\n"
   ]
  },
  {
   "cell_type": "markdown",
   "metadata": {},
   "source": []
  }
 ],
 "metadata": {
  "kernelspec": {
   "display_name": "env_circuits",
   "language": "python",
   "name": "python3"
  },
  "language_info": {
   "codemirror_mode": {
    "name": "ipython",
    "version": 3
   },
   "file_extension": ".py",
   "mimetype": "text/x-python",
   "name": "python",
   "nbconvert_exporter": "python",
   "pygments_lexer": "ipython3",
   "version": "3.10.6"
  },
  "orig_nbformat": 4
 },
 "nbformat": 4,
 "nbformat_minor": 2
}
