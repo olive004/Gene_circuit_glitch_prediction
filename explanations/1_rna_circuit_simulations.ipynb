{
 "cells": [
  {
   "attachments": {},
   "cell_type": "markdown",
   "metadata": {},
   "source": [
    "# Basic RNA circuit simulation \n",
    "\n"
   ]
  },
  {
   "cell_type": "code",
   "execution_count": 3,
   "metadata": {},
   "outputs": [],
   "source": [
    "%load_ext autoreload\n",
    "%autoreload 2"
   ]
  },
  {
   "cell_type": "code",
   "execution_count": 4,
   "metadata": {},
   "outputs": [],
   "source": [
    "from bioreaction.simulation.basic_sim import convert_model\n",
    "\n",
    "import jax\n",
    "import numpy as np\n",
    "import pandas as pd\n",
    "import os\n",
    "import sys\n",
    "\n",
    "from datetime import datetime\n",
    "import matplotlib.pyplot as plt\n",
    "import seaborn as sns\n",
    "plt.style.use('seaborn-v0_8-paper')\n",
    "os.environ[\"TF_CPP_MIN_LOG_LOVEL\"] = \"0\"\n",
    "jax.config.update('jax_platform_name', 'gpu')\n",
    "\n",
    "\n",
    "if __package__ is None:\n",
    "\n",
    "    module_path = os.path.abspath(os.path.join('..'))\n",
    "    sys.path.append(module_path)\n",
    "\n",
    "    __package__ = os.path.basename(module_path)\n",
    "\n",
    "\n",
    "from src.utils.data.data_format_tools.common import load_json_as_dict\n",
    "from src.utils.common.setup_new import prepare_config, construct_circuit_from_cfg\n",
    "from src.utils.circuit.agnostic_circuits.circuit_manager_new import CircuitModeller\n",
    "from src.utils.evolution.evolver import load_mutations\n",
    "from src.utils.misc.type_handling import flatten_listlike\n",
    "from src.utils.modelling.physical import equilibrium_constant_reparameterisation\n",
    "from tests_local.shared import five_circuits\n",
    "\n",
    "config = load_json_as_dict('../tests_local/configs/simple_circuit.json')\n"
   ]
  },
  {
   "cell_type": "code",
   "execution_count": 5,
   "metadata": {},
   "outputs": [],
   "source": [
    "\n",
    "\n",
    "def calculate_precision(output_diff, starting_states, signal_diff, signal_0) -> np.ndarray:\n",
    "    denom = np.where(signal_0 != 0, signal_diff / signal_0, 1)\n",
    "    numer = np.where((starting_states != 0).astype(int),\n",
    "                      output_diff / starting_states, 1)\n",
    "    precision = np.absolute(np.divide(\n",
    "        numer, denom))\n",
    "    return np.divide(1, precision)\n",
    "\n",
    "\n",
    "def get_precision(signal_idx: int, starting_states, steady_states):\n",
    "    if signal_idx is None:\n",
    "        return None\n",
    "    signal_0 = starting_states[signal_idx]\n",
    "    signal_1 = steady_states[signal_idx]\n",
    "\n",
    "    signal_diff = signal_1 - signal_0\n",
    "    output_diff = steady_states - starting_states\n",
    "\n",
    "    return calculate_precision(output_diff, starting_states, signal_diff, signal_0)\n",
    "\n",
    "\n",
    "final, initial, signal_f, signal_i = (173.34004, 157.3838, 419.0314, 76.26714)\n",
    "signal_diff = signal_f - signal_i\n",
    "output_diff = final - initial\n",
    "calculate_precision(output_diff, np.expand_dims(initial, axis=0), signal_diff, signal_i)\n",
    "denom = np.where(signal_i != 0, signal_diff / signal_i, 1)\n",
    "\n",
    "numer = np.where((np.expand_dims(initial, axis=0) != 0).astype(int),\n",
    "                    output_diff / initial, 1)\n"
   ]
  },
  {
   "cell_type": "code",
   "execution_count": 6,
   "metadata": {},
   "outputs": [],
   "source": [
    "\n",
    "\n",
    "\n",
    "def update_model_rates(model, a=None, d=None, ka=None, kd=None):\n",
    "    for i, r in enumerate(model.reactions):\n",
    "        if not r.input:  # 0 -> RNA\n",
    "            if a is not None:\n",
    "                model.reactions[i].forward_rate = a[model.species.index(\n",
    "                    r.output[0])]\n",
    "                model.reactions[i].reverse_rate = 0\n",
    "        elif not r.output:  # RNA -> 0\n",
    "            if d is not None:\n",
    "                model.reactions[i].forward_rate = d[model.species.index(\n",
    "                    r.input[0])]\n",
    "                model.reactions[i].reverse_rate = 0\n",
    "        else: # unbound RNA -> bound RNA\n",
    "            if ka is not None:\n",
    "                model.reactions[i].forward_rate = ka[model.species.index(r.input[0]),\n",
    "                                                     model.species.index(r.input[1])]\n",
    "            if kd is not None:\n",
    "                model.reactions[i].reverse_rate = kd[model.species.index(r.input[0]),\n",
    "                                                     model.species.index(r.input[1])]\n",
    "    return model\n",
    "\n",
    "\n",
    "def make_params(model, scale_rates=True):\n",
    "    sim_model = convert_model(model)\n",
    "\n",
    "    if scale_rates:\n",
    "        m = np.max([sim_model.forward_rates.max(), sim_model.reverse_rates.max()])\n",
    "    else:\n",
    "        m = 1\n",
    "    inputs = sim_model.inputs\n",
    "    outputs = sim_model.outputs\n",
    "    forward_rates = sim_model.forward_rates/m\n",
    "    reverse_rates = sim_model.reverse_rates/m\n",
    "    return inputs, outputs, forward_rates, reverse_rates, m"
   ]
  },
  {
   "cell_type": "code",
   "execution_count": 7,
   "metadata": {},
   "outputs": [
    {
     "data": {
      "text/plain": [
       "{'dt': 0.1,\n",
       " 't0': 0,\n",
       " 't1': 100,\n",
       " 'tmax': 20000,\n",
       " 'solver': 'diffrax',\n",
       " 'use_batch_mutations': True,\n",
       " 'batch_size': 100,\n",
       " 'max_circuits': 1000,\n",
       " 'device': 'cpu',\n",
       " 'threshold_steady_states': 0.1,\n",
       " 'use_rate_scaling': True}"
      ]
     },
     "execution_count": 7,
     "metadata": {},
     "output_type": "execute_result"
    }
   ],
   "source": [
    "config['simulation']"
   ]
  },
  {
   "attachments": {},
   "cell_type": "markdown",
   "metadata": {},
   "source": [
    "Use the 5 tester circuits :)"
   ]
  },
  {
   "cell_type": "code",
   "execution_count": 8,
   "metadata": {},
   "outputs": [],
   "source": [
    "config = prepare_config(config)\n",
    "config['include_prod_deg'] = False\n",
    "config['simulation']['use_rate_scaling'] = True\n",
    "config['simulation']['device'] = 'gpu'\n",
    "config['simulation']['t1'] = 50\n",
    "config['signal']['function_kwargs']['target'] = 2\n",
    "\n",
    "q = 1\n",
    "p = 1\n",
    "config['molecular_params_factor'] = p\n",
    "config['simulation']['interaction_factor'] = 1\n",
    "config['molecular_params']['creation_rate'] = config['molecular_params']['creation_rate'] * q\n",
    "config['molecular_params']['creation_rate' + '_per_molecule'] = config['molecular_params']['creation_rate' + '_per_molecule'] * q\n",
    "# config['simulation']['dt'] = 0.1\n",
    "# config['molecular_params']['creation_rate'] = config['molecular_params']['creation_rate'] * p\n",
    "# config['molecular_params']['degradation_rate'] = config['molecular_params']['degradation_rate'] * p"
   ]
  },
  {
   "cell_type": "code",
   "execution_count": 9,
   "metadata": {},
   "outputs": [
    {
     "name": "stderr",
     "output_type": "stream",
     "text": [
      "xla_bridge.py:backends():440: Unable to initialize backend 'rocm': NOT_FOUND: Could not find registered platform with name: \"rocm\". Available platform names are: Interpreter Host CUDA INFO\n",
      "xla_bridge.py:backends():440: Unable to initialize backend 'tpu': module 'jaxlib.xla_extension' has no attribute 'get_tpu_client' INFO\n",
      "xla_bridge.py:backends():440: Unable to initialize backend 'plugin': xla_extension has no attributes named get_plugin_device_client. Compile TensorFlow with //tensorflow/compiler/xla/python:enable_plugin_device set to true (defaults to false) to enable this. INFO\n",
      "experiment_loading.py:load_units():35: Units unknown - supply a valid experiment directory instead of ../tests_local/configs/binding_rates_dissociation/0_weak_binding_rates_dissociation.csv WARNING\n",
      "experiment_loading.py:load_units():35: Units unknown - supply a valid experiment directory instead of ../tests_local/configs/eqconstants/0_weak_eqconstants.csv WARNING\n",
      "experiment_loading.py:load_units():35: Units unknown - supply a valid experiment directory instead of ../tests_local/configs/energies/0_weak_energies.csv WARNING\n",
      "experiment_loading.py:load_units():35: Units unknown - supply a valid experiment directory instead of ../tests_local/configs/binding_sites/0_weak_binding_sites.csv WARNING\n",
      "experiment_loading.py:load_units():35: Units unknown - supply a valid experiment directory instead of ../tests_local/configs/binding_rates_dissociation/1_med_weak_binding_rates_dissociation.csv WARNING\n",
      "experiment_loading.py:load_units():35: Units unknown - supply a valid experiment directory instead of ../tests_local/configs/eqconstants/1_med_weak_eqconstants.csv WARNING\n",
      "experiment_loading.py:load_units():35: Units unknown - supply a valid experiment directory instead of ../tests_local/configs/energies/1_med_weak_energies.csv WARNING\n",
      "experiment_loading.py:load_units():35: Units unknown - supply a valid experiment directory instead of ../tests_local/configs/binding_sites/1_med_weak_binding_sites.csv WARNING\n",
      "experiment_loading.py:load_units():35: Units unknown - supply a valid experiment directory instead of ../tests_local/configs/binding_rates_dissociation/2_medium_binding_rates_dissociation.csv WARNING\n",
      "experiment_loading.py:load_units():35: Units unknown - supply a valid experiment directory instead of ../tests_local/configs/eqconstants/2_medium_eqconstants.csv WARNING\n",
      "experiment_loading.py:load_units():35: Units unknown - supply a valid experiment directory instead of ../tests_local/configs/energies/2_medium_energies.csv WARNING\n",
      "experiment_loading.py:load_units():35: Units unknown - supply a valid experiment directory instead of ../tests_local/configs/binding_sites/2_medium_binding_sites.csv WARNING\n",
      "experiment_loading.py:load_units():35: Units unknown - supply a valid experiment directory instead of ../tests_local/configs/binding_rates_dissociation/3_med_strong_binding_rates_dissociation.csv WARNING\n",
      "experiment_loading.py:load_units():35: Units unknown - supply a valid experiment directory instead of ../tests_local/configs/eqconstants/3_med_strong_eqconstants.csv WARNING\n",
      "experiment_loading.py:load_units():35: Units unknown - supply a valid experiment directory instead of ../tests_local/configs/energies/3_med_strong_energies.csv WARNING\n",
      "experiment_loading.py:load_units():35: Units unknown - supply a valid experiment directory instead of ../tests_local/configs/binding_sites/3_med_strong_binding_sites.csv WARNING\n",
      "experiment_loading.py:load_units():35: Units unknown - supply a valid experiment directory instead of ../tests_local/configs/binding_rates_dissociation/4_strong_binding_rates_dissociation.csv WARNING\n",
      "experiment_loading.py:load_units():35: Units unknown - supply a valid experiment directory instead of ../tests_local/configs/eqconstants/4_strong_eqconstants.csv WARNING\n",
      "experiment_loading.py:load_units():35: Units unknown - supply a valid experiment directory instead of ../tests_local/configs/energies/4_strong_energies.csv WARNING\n",
      "experiment_loading.py:load_units():35: Units unknown - supply a valid experiment directory instead of ../tests_local/configs/binding_sites/4_strong_binding_sites.csv WARNING\n"
     ]
    }
   ],
   "source": [
    "circuits, config, result_writer = five_circuits(config)\n"
   ]
  },
  {
   "cell_type": "code",
   "execution_count": 10,
   "metadata": {},
   "outputs": [],
   "source": [
    "\n",
    "\n",
    "def load_circuit(top_dir, circuit_name, config):\n",
    "    dp = os.path.join(top_dir, 'circuits', circuit_name + '.fasta')\n",
    "    interactions = {'binding_rates_association': config['molecular_params']['association_binding_rate' + '_per_molecule'],\n",
    "                    'binding_rates_dissociation': os.path.join(top_dir, 'binding_rates_dissociation', circuit_name + '_' + 'binding_rates_dissociation' + '.csv'),\n",
    "                    'eqconstants': os.path.join(top_dir, 'eqconstants', circuit_name + '_' + 'eqconstants' + '.csv'),\n",
    "                    'energies': os.path.join(top_dir, 'energies', circuit_name + '_' + 'energies' + '.csv'),\n",
    "                    'binding_sites': os.path.join(top_dir, 'binding_sites', circuit_name + '_' + 'binding_sites' + '.csv')}\n",
    "\n",
    "    return construct_circuit_from_cfg({\n",
    "        'data_path': dp,\n",
    "        'interactions': interactions\n",
    "    }, config)\n",
    "\n",
    "\n",
    "# tester_circuit = load_circuit(top_dir='data/ensemble_mutation_effect_analysis/2023_04_04_092945/generate_species_templates',\n",
    "#              circuit_name='toy_mRNA_circuit_1844', config=config)\n",
    "\n",
    "\n",
    "# tester_circuits = []\n",
    "# for name in ['toy_mRNA_circuit_21566', 'toy_mRNA_circuit_24706', 'toy_mRNA_circuit_19768', 'toy_mRNA_circuit_2983', 'toy_mRNA_circuit_22658']:\n",
    "#     fn = os.path.join('..', 'data/ensemble_mutation_effect_analysis/2023_04_11_192013/mutation_effect_on_interactions_signal', name, 'mutations.csv')\n",
    "#     tester_circuit = load_circuit(top_dir='data/ensemble_mutation_effect_analysis/2023_04_04_092945/generate_species_templates',\n",
    "#                                         circuit_name=name, config=config)\n",
    "#     tester_circuit = load_mutations(tester_circuit, fn)\n",
    "#     tester_circuits.append(tester_circuit)\n",
    "\n",
    "# config['interactions'] = {}\n",
    "# config['interactions'] = None\n",
    "# tester_circuit = construct_circuit_from_cfg(\n",
    "#     {'data_path': '../tester.fasta'}, config)\n",
    "# [circuits.append(tester_circuit) for tester_circuit in tester_circuits]\n"
   ]
  },
  {
   "cell_type": "code",
   "execution_count": 11,
   "metadata": {},
   "outputs": [
    {
     "name": "stderr",
     "output_type": "stream",
     "text": [
      "interactions.py:isolate_circuit_name():122: Could not find circuit name in explanations/binding_rates_dissociation.csv WARNING\n",
      "experiment_loading.py:load_units():35: Units unknown - supply a valid experiment directory instead of explanations/binding_rates_dissociation.csv WARNING\n",
      "interactions.py:isolate_circuit_name():122: Could not find circuit name in explanations/eqconstants.csv WARNING\n",
      "experiment_loading.py:load_units():35: Units unknown - supply a valid experiment directory instead of explanations/eqconstants.csv WARNING\n",
      "interactions.py:isolate_circuit_name():122: Could not find circuit name in explanations/binding_rates_dissociation.csv WARNING\n",
      "experiment_loading.py:load_units():35: Units unknown - supply a valid experiment directory instead of explanations/binding_rates_dissociation.csv WARNING\n",
      "interactions.py:isolate_circuit_name():122: Could not find circuit name in explanations/eqconstants.csv WARNING\n",
      "experiment_loading.py:load_units():35: Units unknown - supply a valid experiment directory instead of explanations/eqconstants.csv WARNING\n"
     ]
    }
   ],
   "source": [
    "\n",
    "\n",
    "def load_fake_circuit(eqconstants):\n",
    "    top_dir = 'data/ensemble_mutation_effect_analysis/2023_04_04_092945/generate_species_templates'\n",
    "    circuit_name = 'toy_mRNA_circuit_1844'\n",
    "    some_circuit = os.path.join(top_dir, 'circuits', circuit_name + '.fasta')\n",
    "\n",
    "    k_a = config['molecular_params']['association_binding_rate' + '_per_molecule']\n",
    "\n",
    "    def eqconstant_to_rates(eqconstants):\n",
    "        \"\"\" Translate the equilibrium rate of binding to\n",
    "        the rate of binding (either association or dissociation\n",
    "        rate - in this case dissociation). Input in mol, output in molecules:\n",
    "        k_a: binding rate per Ms\n",
    "        eqconstants: unitless but in terms of mol\n",
    "        k_d: unbinding rate per s\"\"\"\n",
    "        k_d = np.divide(k_a, eqconstants)\n",
    "        return k_a*np.ones_like(k_d), k_d\n",
    "\n",
    "    binding_rates_dissociation = eqconstant_to_rates(eqconstants)[1]\n",
    "\n",
    "    labels = ['RNA_0', 'RNA_1', 'RNA_2']\n",
    "    pd.DataFrame(eqconstants, columns=labels, index=labels).to_csv(\n",
    "        'eqconstants.csv', index=None)\n",
    "    pd.DataFrame(binding_rates_dissociation, columns=labels, index=labels).to_csv('binding_rates_dissociation.csv', index=None)\n",
    "\n",
    "    interactions = {'binding_rates_association': config['molecular_params']['association_binding_rate' + '_per_molecule'],\n",
    "                    'binding_rates_dissociation': os.path.join('explanations', 'binding_rates_dissociation' + '.csv'),\n",
    "                    'eqconstants': os.path.join('explanations', 'eqconstants' + '.csv'),\n",
    "                    'energies': os.path.join(top_dir, 'energies', circuit_name + '_' + 'energies' + '.csv'),\n",
    "                    'binding_sites': os.path.join(top_dir, 'binding_sites', circuit_name + '_' + 'binding_sites' + '.csv')}\n",
    "    return construct_circuit_from_cfg({\n",
    "        'data_path': some_circuit,\n",
    "        'interactions': interactions\n",
    "    }, config)\n",
    "\n",
    "\n",
    "eqconstants_4337 = np.array([[1e2, 1e2, 5e0],\n",
    "                             [1e2, 1e-02, 1e2],\n",
    "                             [5e0, 1e2, 1e-02]])\n",
    "\n",
    "# tester_circuit = load_fake_circuit(eqconstants_4337)\n",
    "tester_circuit1 = load_fake_circuit(np.ones((3,3)))\n",
    "tester_circuit1.name = 'K_1'\n",
    "tester_circuit2 = load_fake_circuit(np.ones((3,3)) * 0.5)\n",
    "tester_circuit2.name = 'K_05'\n",
    "# tester_circuit2 = load_fake_circuit(np.ones((3,3)) * 0)\n",
    "# tester_circuit2.name = 'K_0'\n",
    "\n",
    "circuits.append(tester_circuit1)\n",
    "circuits.append(tester_circuit2)\n"
   ]
  },
  {
   "cell_type": "code",
   "execution_count": 12,
   "metadata": {},
   "outputs": [
    {
     "data": {
      "text/plain": [
       "0.00150958097"
      ]
     },
     "execution_count": 12,
     "metadata": {},
     "output_type": "execute_result"
    }
   ],
   "source": [
    "config['molecular_params']['association_binding_rate' + '_per_molecule']"
   ]
  },
  {
   "cell_type": "code",
   "execution_count": 13,
   "metadata": {},
   "outputs": [],
   "source": [
    "for c in circuits:\n",
    "    c.reset_to_initial_state()"
   ]
  },
  {
   "cell_type": "code",
   "execution_count": 14,
   "metadata": {},
   "outputs": [
    {
     "name": "stderr",
     "output_type": "stream",
     "text": [
      "circuit_manager_new.py:batch_circuits():575: \tFrom 7 circuits, a total of 7 mutated circuits will be simulated. WARNING\n",
      "circuit_manager_new.py:batch_circuits():582: \t\tStarting new round of viable circuits (0 - 7 / 7) WARNING\n",
      "circuit_manager_new.py:batch_circuits():600: \t\tMaking subcircuits 0 - 7 took 1.4e-05s WARNING\n",
      "circuit_manager_new.py:batch_circuits():606: \tBatching 0 - 100 circuits (out of 0 - 7 (total: 7)) (Circuits: 0 - 7 of 7) WARNING\n",
      "circuit_manager_new.py:run_batch():637: \t\tRunning 7 Subcircuits - 0_weak: compute_interactions WARNING\n",
      "circuit_manager_new.py:run_batch():673: \t\tMethod compute_interactions took 0.747175s WARNING\n",
      "circuit_manager_new.py:batch_circuits():620: Single batch: 0:00:00.748704 \n",
      "Projected time: 0.748704s \n",
      "Total time: 0:00:00.748713 WARNING\n"
     ]
    }
   ],
   "source": [
    "\n",
    "circuit_modeller = CircuitModeller(result_writer=result_writer, config=config)\n",
    "circuits = circuit_modeller.batch_circuits(\n",
    "    circuits=circuits, methods={\"compute_interactions\": {}},\n",
    "    batch_size=config['simulation']['batch_size'])\n",
    "i = -1\n",
    "# for i in range(len(circuits)):\n",
    "#     circuits[i].interactions.binding_rates_association = circuits[i].interactions.binding_rates_association * q\n",
    "#     circuits[i].interactions.binding_rates_dissociation = circuits[i].interactions.binding_rates_dissociation * q\n",
    "#     circuits[i].update_species_simulated_rates(circuits[i].interactions)\n"
   ]
  },
  {
   "cell_type": "code",
   "execution_count": 15,
   "metadata": {},
   "outputs": [
    {
     "data": {
      "text/plain": [
       "array([[8.9999951e+02, 2.1810558e+01, 8.9999951e+02],\n",
       "       [2.1810558e+01, 8.9999951e+02, 1.2742964e+00],\n",
       "       [8.9999951e+02, 1.2742964e+00, 1.9916816e-01]], dtype=float32)"
      ]
     },
     "execution_count": 15,
     "metadata": {},
     "output_type": "execute_result"
    }
   ],
   "source": [
    "circuits[i].interactions.binding_rates_dissociation"
   ]
  },
  {
   "cell_type": "code",
   "execution_count": 16,
   "metadata": {},
   "outputs": [
    {
     "data": {
      "text/plain": [
       "array([[0.00150958, 0.00150958, 0.00150958],\n",
       "       [0.00150958, 0.00150958, 0.00150958],\n",
       "       [0.00150958, 0.00150958, 0.00150958]], dtype=float32)"
      ]
     },
     "execution_count": 16,
     "metadata": {},
     "output_type": "execute_result"
    }
   ],
   "source": [
    "circuits[i].interactions.binding_rates_association"
   ]
  },
  {
   "cell_type": "code",
   "execution_count": 17,
   "metadata": {},
   "outputs": [
    {
     "data": {
      "text/plain": [
       "2.35"
      ]
     },
     "execution_count": 17,
     "metadata": {},
     "output_type": "execute_result"
    }
   ],
   "source": [
    "config['molecular_params']['creation_rate']"
   ]
  },
  {
   "cell_type": "code",
   "execution_count": 18,
   "metadata": {},
   "outputs": [
    {
     "data": {
      "text/plain": [
       "0.01175"
      ]
     },
     "execution_count": 18,
     "metadata": {},
     "output_type": "execute_result"
    }
   ],
   "source": [
    "config['molecular_params']['degradation_rate']\n"
   ]
  },
  {
   "cell_type": "code",
   "execution_count": 19,
   "metadata": {},
   "outputs": [
    {
     "name": "stderr",
     "output_type": "stream",
     "text": [
      "circuit_manager_new.py:batch_circuits():575: \tFrom 7 circuits, a total of 7 mutated circuits will be simulated. WARNING\n",
      "circuit_manager_new.py:batch_circuits():582: \t\tStarting new round of viable circuits (0 - 7 / 7) WARNING\n",
      "circuit_manager_new.py:batch_circuits():600: \t\tMaking subcircuits 0 - 7 took 1.4e-05s WARNING\n",
      "circuit_manager_new.py:batch_circuits():606: \tBatching 0 - 100 circuits (out of 0 - 7 (total: 7)) (Circuits: 0 - 7 of 7) WARNING\n",
      "circuit_manager_new.py:run_batch():637: \t\tRunning 7 Subcircuits - 0_weak: init_circuits WARNING\n"
     ]
    }
   ],
   "source": [
    "\n",
    "circuits = circuit_modeller.batch_circuits(\n",
    "    circuits=circuits, \n",
    "    batch_size=config['simulation']['batch_size'],\n",
    "    methods={\n",
    "        # \"compute_interactions\": {},\n",
    "        \"init_circuits\": {'batch': True},\n",
    "        'simulate_signal_batch': {'ref_circuit': None,\n",
    "                                  'batch': config['simulation']['use_batch_mutations']},\n",
    "        'write_results': {'no_visualisations': False, # config['experiment']['no_visualisations'],\n",
    "                          'no_numerical': False} #config['experiment']['no_numerical']}\n",
    "    }\n",
    ")"
   ]
  },
  {
   "attachments": {},
   "cell_type": "markdown",
   "metadata": {},
   "source": [
    "## Plot results"
   ]
  },
  {
   "cell_type": "code",
   "execution_count": null,
   "metadata": {},
   "outputs": [
    {
     "data": {
      "image/png": "[encoded data removed]",
      "text/plain": [
       "<Figure size 500x300 with 1 Axes>"
      ]
     },
     "metadata": {},
     "output_type": "display_data"
    }
   ],
   "source": [
    "\n",
    "\n",
    "chosen_circuit = circuits[4]\n",
    "data_fn_ste = os.path.join(result_writer.write_dir, chosen_circuit.name, 'steady_states_data.csv')\n",
    "data_fn_sig = os.path.join(result_writer.write_dir, chosen_circuit.name, 'signal_data.csv')\n",
    "data = pd.concat([\n",
    "    pd.read_csv(data_fn_ste, names=sorted([s.name for s in chosen_circuit.model.species])),\n",
    "    pd.read_csv(data_fn_sig, names=sorted([s.name for s in chosen_circuit.model.species]))\n",
    "]).reset_index()\n",
    "\n",
    "plt.figure(figsize=(5,3))\n",
    "sns.lineplot(data[sorted([s.name for s in set(flatten_listlike(chosen_circuit.get_input_species()))])])\n",
    "plt.ylabel('# molecules / cell')\n",
    "plt.xlabel('Time (s)')\n",
    "plt.savefig('circ4.svg')\n"
   ]
  },
  {
   "cell_type": "code",
   "execution_count": null,
   "metadata": {},
   "outputs": [],
   "source": []
  }
 ],
 "metadata": {
  "kernelspec": {
   "display_name": "env_circuits",
   "language": "python",
   "name": "python3"
  },
  "language_info": {
   "codemirror_mode": {
    "name": "ipython",
    "version": 3
   },
   "file_extension": ".py",
   "mimetype": "text/x-python",
   "name": "python",
   "nbconvert_exporter": "python",
   "pygments_lexer": "ipython3",
   "version": "3.10.6"
  },
  "orig_nbformat": 4,
  "vscode": {
   "interpreter": {
    "hash": "172594369b7e917b537188c81f1a7108d427e78c3b158785db52bc1182200d3e"
   }
  }
 },
 "nbformat": 4,
 "nbformat_minor": 2
}
