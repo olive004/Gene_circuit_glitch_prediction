{
 "cells": [
  {
   "attachments": {},
   "cell_type": "markdown",
   "metadata": {},
   "source": [
    "# Basic RNA circuit simulation \n",
    "\n"
   ]
  },
  {
   "cell_type": "code",
   "execution_count": 61,
   "metadata": {},
   "outputs": [
    {
     "name": "stdout",
     "output_type": "stream",
     "text": [
      "The autoreload extension is already loaded. To reload it, use:\n",
      "  %reload_ext autoreload\n"
     ]
    }
   ],
   "source": [
    "%load_ext autoreload\n",
    "%autoreload 2"
   ]
  },
  {
   "cell_type": "code",
   "execution_count": 62,
   "metadata": {},
   "outputs": [],
   "source": [
    "from bioreaction.simulation.basic_sim import convert_model\n",
    "\n",
    "import jax\n",
    "import numpy as np\n",
    "import pandas as pd\n",
    "import os\n",
    "import sys\n",
    "from functools import partial\n",
    "from datetime import datetime\n",
    "import matplotlib.pyplot as plt\n",
    "import seaborn as sns\n",
    "plt.style.use('seaborn-v0_8-paper')\n",
    "os.environ[\"TF_CPP_MIN_LOG_LOVEL\"] = \"0\"\n",
    "jax.config.update('jax_platform_name', 'gpu')\n",
    "\n",
    "\n",
    "if __package__ is None:\n",
    "\n",
    "    module_path = os.path.abspath(os.path.join('..'))\n",
    "    sys.path.append(module_path)\n",
    "\n",
    "    __package__ = os.path.basename(module_path)\n",
    "\n",
    "\n",
    "from synbio_morpher.utils.data.data_format_tools.common import load_json_as_dict\n",
    "from synbio_morpher.utils.common.setup import prepare_config, construct_circuit_from_cfg\n",
    "from synbio_morpher.utils.circuit.agnostic_circuits.circuit_manager import CircuitModeller\n",
    "from synbio_morpher.utils.evolution.evolver import load_mutations\n",
    "from synbio_morpher.utils.misc.type_handling import flatten_listlike\n",
    "from synbio_morpher.utils.modelling.physical import eqconstant_to_rates, equilibrium_constant_reparameterisation\n",
    "from synbio_morpher.utils.common.testing.shared import five_circuits\n",
    "from synbio_morpher.utils.results.analytics.timeseries import compute_sensitivity, compute_precision, calculate_adaptation\n",
    "\n",
    "config = load_json_as_dict('../synbio_morpher/utils/common/testing/configs/simple_circuit.json')\n"
   ]
  },
  {
   "cell_type": "code",
   "execution_count": 63,
   "metadata": {},
   "outputs": [],
   "source": [
    "def calculate_precision(output_diff, starting_states, signal_diff, signal_0) -> np.ndarray:\n",
    "    denom = np.where(signal_0 != 0, signal_diff / signal_0, 1)\n",
    "    numer = np.where((starting_states != 0).astype(int),\n",
    "                      output_diff / starting_states, 1)\n",
    "    precision = np.absolute(np.divide(\n",
    "        numer, denom))\n",
    "    return np.divide(1, precision)\n",
    "\n",
    "\n",
    "def get_precision(signal_idx: int, starting_states, steady_states):\n",
    "    if signal_idx is None:\n",
    "        return None\n",
    "    signal_0 = starting_states[signal_idx]\n",
    "    signal_1 = steady_states[signal_idx]\n",
    "\n",
    "    signal_diff = signal_1 - signal_0\n",
    "    output_diff = steady_states - starting_states\n",
    "\n",
    "    return calculate_precision(output_diff, starting_states, signal_diff, signal_0)\n",
    "\n",
    "\n",
    "final, initial, signal_f, signal_i = (173.34004, 157.3838, 419.0314, 76.26714)\n",
    "signal_diff = signal_f - signal_i\n",
    "output_diff = final - initial\n",
    "calculate_precision(output_diff, np.expand_dims(initial, axis=0), signal_diff, signal_i)\n",
    "denom = np.where(signal_i != 0, signal_diff / signal_i, 1)\n",
    "\n",
    "numer = np.where((np.expand_dims(initial, axis=0) != 0).astype(int),\n",
    "                    output_diff / initial, 1)\n"
   ]
  },
  {
   "cell_type": "code",
   "execution_count": 64,
   "metadata": {},
   "outputs": [],
   "source": [
    "def update_model_rates(model, a=None, d=None, ka=None, kd=None):\n",
    "    for i, r in enumerate(model.reactions):\n",
    "        if not r.input:  # 0 -> RNA\n",
    "            if a is not None:\n",
    "                model.reactions[i].forward_rate = a[model.species.index(\n",
    "                    r.output[0])]\n",
    "                model.reactions[i].reverse_rate = 0\n",
    "        elif not r.output:  # RNA -> 0\n",
    "            if d is not None:\n",
    "                model.reactions[i].forward_rate = d[model.species.index(\n",
    "                    r.input[0])]\n",
    "                model.reactions[i].reverse_rate = 0\n",
    "        else: # unbound RNA -> bound RNA\n",
    "            if ka is not None:\n",
    "                model.reactions[i].forward_rate = ka[model.species.index(r.input[0]),\n",
    "                                                     model.species.index(r.input[1])]\n",
    "            if kd is not None:\n",
    "                model.reactions[i].reverse_rate = kd[model.species.index(r.input[0]),\n",
    "                                                     model.species.index(r.input[1])]\n",
    "    return model\n",
    "\n",
    "\n",
    "def make_params(model, scale_rates=True):\n",
    "    sim_model = convert_model(model)\n",
    "\n",
    "    if scale_rates:\n",
    "        m = np.max([sim_model.forward_rates.max(), sim_model.reverse_rates.max()])\n",
    "    else:\n",
    "        m = 1\n",
    "    inputs = sim_model.inputs\n",
    "    outputs = sim_model.outputs\n",
    "    forward_rates = sim_model.forward_rates/m\n",
    "    reverse_rates = sim_model.reverse_rates/m\n",
    "    return inputs, outputs, forward_rates, reverse_rates, m"
   ]
  },
  {
   "attachments": {},
   "cell_type": "markdown",
   "metadata": {},
   "source": [
    "Use the 5 tester circuits :)"
   ]
  },
  {
   "cell_type": "code",
   "execution_count": 65,
   "metadata": {},
   "outputs": [],
   "source": [
    "config = prepare_config(config)\n",
    "config['include_prod_deg'] = False\n",
    "config['simulation']['use_initial_to_add_signal'] = False\n",
    "config['simulation']['use_rate_scaling'] = True\n",
    "config['simulation']['device'] = 'gpu'\n",
    "config['simulation']['t1'] = 200\n",
    "config['simulation']['tmax'] = 400\n",
    "config['simulation']['interaction_factor'] = 1\n",
    "config['signal']['function_kwargs']['target'] = 2\n",
    "\n",
    "q = 1\n",
    "p = 1\n",
    "config['molecular_params_factor'] = p\n",
    "config['molecular_params']['creation_rate'] = config['molecular_params']['creation_rate'] * q\n",
    "config['molecular_params']['creation_rate' + '_per_molecule'] = config['molecular_params']['creation_rate' + '_per_molecule'] * q\n",
    "# config['simulation']['dt0'] = 0.1\n",
    "# config['molecular_params']['creation_rate'] = config['molecular_params']['creation_rate'] * p\n",
    "# config['molecular_params']['degradation_rate'] = config['molecular_params']['degradation_rate'] * p"
   ]
  },
  {
   "cell_type": "code",
   "execution_count": 66,
   "metadata": {},
   "outputs": [],
   "source": [
    "circuits, config, result_writer = five_circuits(config)\n"
   ]
  },
  {
   "cell_type": "code",
   "execution_count": 67,
   "metadata": {},
   "outputs": [],
   "source": [
    "config['interaction_simulator']['simulator_kwargs']['threads'] = 8"
   ]
  },
  {
   "cell_type": "code",
   "execution_count": 68,
   "metadata": {},
   "outputs": [],
   "source": [
    "def load_circuit(top_dir, circuit_name, config):\n",
    "    dp = os.path.join(top_dir, 'circuits', circuit_name + '.fasta')\n",
    "    interactions = {'binding_rates_association': config['molecular_params']['association_binding_rate' + '_per_molecule'],\n",
    "                    'binding_rates_dissociation': os.path.join(top_dir, 'binding_rates_dissociation', circuit_name + '_' + 'binding_rates_dissociation' + '.csv'),\n",
    "                    'eqconstants': os.path.join(top_dir, 'eqconstants', circuit_name + '_' + 'eqconstants' + '.csv'),\n",
    "                    'energies': os.path.join(top_dir, 'energies', circuit_name + '_' + 'energies' + '.csv'),\n",
    "                    'binding_sites': os.path.join(top_dir, 'binding_sites', circuit_name + '_' + 'binding_sites' + '.csv')}\n",
    "\n",
    "    return construct_circuit_from_cfg({\n",
    "        'data_path': dp,\n",
    "        'interactions': interactions\n",
    "    }, config)\n",
    "\n",
    "\n",
    "# tester_circuit = load_circuit(top_dir='data/ensemble_mutation_effect_analysis/2023_04_04_092945/generate_species_templates',\n",
    "#              circuit_name='toy_mRNA_circuit_1844', config=config)\n",
    "\n",
    "\n",
    "# tester_circuits = []\n",
    "# for name in ['toy_mRNA_circuit_21566', 'toy_mRNA_circuit_24706', 'toy_mRNA_circuit_19768', 'toy_mRNA_circuit_2983', 'toy_mRNA_circuit_22658']:\n",
    "#     fn = os.path.join('..', 'data/ensemble_mutation_effect_analysis/2023_04_11_192013/mutation_effect_on_interactions_signal', name, 'mutations.csv')\n",
    "#     tester_circuit = load_circuit(top_dir='data/ensemble_mutation_effect_analysis/2023_04_04_092945/generate_species_templates',\n",
    "#                                         circuit_name=name, config=config)\n",
    "#     tester_circuit = load_mutations(tester_circuit, fn)\n",
    "#     tester_circuits.append(tester_circuit)\n",
    "\n",
    "# config['interactions'] = {}\n",
    "# config['interactions'] = None\n",
    "# tester_circuit = construct_circuit_from_cfg(\n",
    "#     {'data_path': '../tester.fasta'}, config)\n",
    "# [circuits.append(tester_circuit) for tester_circuit in tester_circuits]\n"
   ]
  },
  {
   "cell_type": "markdown",
   "metadata": {},
   "source": [
    "# Load fake circuits"
   ]
  },
  {
   "cell_type": "code",
   "execution_count": 69,
   "metadata": {},
   "outputs": [
    {
     "name": "stderr",
     "output_type": "stream",
     "text": [
      "interactions.py:isolate_circuit_name():149: Could not find circuit name in ../explanations/binding_rates_dissociation.csv WARNING\n",
      "interactions.py:isolate_circuit_name():149: Could not find circuit name in ../explanations/eqconstants.csv WARNING\n",
      "interactions.py:isolate_circuit_name():149: Could not find circuit name in ../explanations/binding_rates_dissociation.csv WARNING\n",
      "interactions.py:isolate_circuit_name():149: Could not find circuit name in ../explanations/eqconstants.csv WARNING\n"
     ]
    }
   ],
   "source": [
    "def load_fake_circuit(eqconstants):\n",
    "    pdir = '../'\n",
    "    top_dir = 'data/ensemble_mutation_effect_analysis/2024_11_09_164634/generate_species_templates'\n",
    "    circuit_name = 'toy_mRNA_circuit_0'\n",
    "    some_circuit = os.path.join(pdir, top_dir, 'circuits', circuit_name + '.fasta')\n",
    "\n",
    "    k_a = config['molecular_params']['association_binding_rate' + '_per_molecule']\n",
    "\n",
    "    binding_rates_dissociation = eqconstant_to_rates(eqconstants, k_a)[1]\n",
    "\n",
    "    labels = ['RNA_0', 'RNA_1', 'RNA_2']\n",
    "    pd.DataFrame(eqconstants, columns=labels, index=labels).to_csv(\n",
    "        'eqconstants.csv', index=None)\n",
    "    pd.DataFrame(binding_rates_dissociation, columns=labels, index=labels).to_csv('binding_rates_dissociation.csv', index=None)\n",
    "\n",
    "    interactions = {'binding_rates_association': config['molecular_params']['association_binding_rate' + '_per_molecule'],\n",
    "                    'binding_rates_dissociation': os.path.join(pdir, 'explanations', 'binding_rates_dissociation' + '.csv'),\n",
    "                    'eqconstants': os.path.join(pdir, 'explanations', 'eqconstants' + '.csv'),\n",
    "                    'energies': os.path.join(pdir, top_dir, 'energies', circuit_name + '_' + 'energies' + '.csv'),\n",
    "                    'binding_sites': os.path.join(pdir, top_dir, 'binding_sites', circuit_name + '_' + 'binding_sites' + '.csv')}\n",
    "    return construct_circuit_from_cfg({\n",
    "        'data_path': some_circuit,\n",
    "        'interactions': interactions\n",
    "    }, config)\n",
    "\n",
    "\n",
    "eqconstants_4337 = np.array([[1e2, 1e2, 5e0],\n",
    "                             [1e2, 1e-02, 1e2],\n",
    "                             [5e0, 1e2, 1e-02]])\n",
    "\n",
    "# tester_circuit = load_fake_circuit(eqconstants_4337)\n",
    "tester_circuit1 = load_fake_circuit(np.ones((3,3)))\n",
    "tester_circuit1.name = 'K_1'\n",
    "tester_circuit2 = load_fake_circuit(np.ones((3,3)) * 0.5)\n",
    "tester_circuit2.name = 'K_05'\n",
    "# tester_circuit2 = load_fake_circuit(np.ones((3,3)) * 0)\n",
    "# tester_circuit2.name = 'K_0'\n",
    "\n",
    "circuits.append(tester_circuit1)\n",
    "circuits.append(tester_circuit2)\n",
    "\n"
   ]
  },
  {
   "cell_type": "markdown",
   "metadata": {},
   "source": [
    "### Throw in some more fake circuits"
   ]
  },
  {
   "cell_type": "code",
   "execution_count": 70,
   "metadata": {},
   "outputs": [],
   "source": [
    "def load_fake_circuit2(energies):\n",
    "    pdir = '../'\n",
    "    top_dir = 'data/ensemble_mutation_effect_analysis/2024_11_09_164634/generate_species_templates'\n",
    "    circuit_name = 'toy_mRNA_circuit_0'\n",
    "    some_circuit = os.path.join(pdir, top_dir, 'circuits', circuit_name + '.fasta')\n",
    "    N0 = config['molecular_params']['starting_copynumbers'] \n",
    "    k_a = config['molecular_params']['association_binding_rate' + '_per_molecule']\n",
    "\n",
    "    eqconstants = equilibrium_constant_reparameterisation(energies, initial=N0)\n",
    "    binding_rates_dissociation = eqconstant_to_rates(eqconstants, k_a)[1]\n",
    "\n",
    "    interactions = {'binding_rates_association': config['molecular_params']['association_binding_rate' + '_per_molecule'] * np.ones((3,3)),\n",
    "                    'binding_rates_dissociation': binding_rates_dissociation,\n",
    "                    'eqconstants': eqconstants,\n",
    "                    'energies': energies,\n",
    "                    'binding_sites': None}\n",
    "    return construct_circuit_from_cfg({\n",
    "        'data_path': some_circuit,\n",
    "        'interactions_loaded': interactions,\n",
    "        'interactions': None\n",
    "    }, config)\n",
    "\n",
    "n_extra_fakes = 30\n",
    "energies = np.random.rand(n_extra_fakes, 3, 3)\n",
    "energies = np.interp(energies, (energies.min(), energies.max()), (-25, 0))\n",
    "for i, e in enumerate(energies):\n",
    "    e[np.tril_indices(3)] = e.T[np.tril_indices(3)]\n",
    "    energies[i] = e\n",
    "    circuits.append(load_fake_circuit2(e))\n",
    "    circuits[-1].name = f'rand_{i}'"
   ]
  },
  {
   "cell_type": "code",
   "execution_count": 71,
   "metadata": {},
   "outputs": [
    {
     "data": {
      "text/plain": [
       "array([[ -2.92264472,  -9.29223697, -20.81188141],\n",
       "       [ -9.29223697, -13.75349188, -22.95710708],\n",
       "       [-20.81188141, -22.95710708,  -6.0319834 ]])"
      ]
     },
     "execution_count": 71,
     "metadata": {},
     "output_type": "execute_result"
    },
    {
     "data": {
      "image/png": "[encoded data removed]",
      "text/plain": [
       "<Figure size 640x440 with 1 Axes>"
      ]
     },
     "metadata": {},
     "output_type": "display_data"
    }
   ],
   "source": [
    "sns.histplot(energies.flatten(), bins=50)\n",
    "# sns.histplot((eqconstant_to_rates(eqconstants, k_a)[1]).flatten(), bins=50)\n",
    "e"
   ]
  },
  {
   "cell_type": "code",
   "execution_count": 72,
   "metadata": {},
   "outputs": [
    {
     "data": {
      "text/plain": [
       "<Axes: ylabel='Count'>"
      ]
     },
     "execution_count": 72,
     "metadata": {},
     "output_type": "execute_result"
    },
    {
     "data": {
      "image/png": "[encoded data removed]",
      "text/plain": [
       "<Figure size 640x440 with 1 Axes>"
      ]
     },
     "metadata": {},
     "output_type": "display_data"
    }
   ],
   "source": [
    "sns.histplot(np.concat([c.interactions.energies for c in circuits[-n_extra_fakes:]]).flatten(), bins=50)\n"
   ]
  },
  {
   "cell_type": "code",
   "execution_count": 73,
   "metadata": {},
   "outputs": [
    {
     "data": {
      "text/plain": [
       "np.float64(0.00150958097)"
      ]
     },
     "execution_count": 73,
     "metadata": {},
     "output_type": "execute_result"
    }
   ],
   "source": [
    "config['molecular_params']['association_binding_rate' + '_per_molecule']"
   ]
  },
  {
   "cell_type": "code",
   "execution_count": 74,
   "metadata": {},
   "outputs": [],
   "source": [
    "# for c in circuits:\n",
    "#     c.reset_to_initial_state()"
   ]
  },
  {
   "cell_type": "markdown",
   "metadata": {},
   "source": [
    "# Run interaction simulation"
   ]
  },
  {
   "cell_type": "code",
   "execution_count": 75,
   "metadata": {},
   "outputs": [
    {
     "name": "stderr",
     "output_type": "stream",
     "text": [
      "circuit_manager.py:batch_circuits():600: \tFrom 37 circuits, a total of 37 mutated circuits will be simulated. WARNING\n",
      "circuit_manager.py:batch_circuits():607: \t\tStarting new round of viable circuits (0 - 37 / 37) WARNING\n",
      "circuit_manager.py:batch_circuits():627: \t\tMaking subcircuits 0 - 37 took 4.3e-05s WARNING\n",
      "circuit_manager.py:batch_circuits():633: \tBatching 0 - 100 circuits (out of 0 - 37 (total: 37)) (Circuits: 0 - 37 of 37) WARNING\n",
      "circuit_manager.py:run_batch():665: \t\tRunning 37 Subcircuits - 0_weak: compute_interactions WARNING\n",
      "circuit_manager.py:run_batch():701: \t\tMethod compute_interactions took 0.121366s WARNING\n",
      "circuit_manager.py:batch_circuits():647: Single batch: 0:00:00.122948 \n",
      "Projected time: 0.12294800000000002s \n",
      "Total time: 0:00:00.122962 WARNING\n"
     ]
    }
   ],
   "source": [
    "circuit_modeller = CircuitModeller(result_writer=result_writer, config=config)\n",
    "circuits = circuit_modeller.batch_circuits(\n",
    "    circuits=circuits, methods={\"compute_interactions\": {}},\n",
    "    batch_size=config['simulation']['batch_size'])\n",
    "i = -1\n"
   ]
  },
  {
   "cell_type": "code",
   "execution_count": 76,
   "metadata": {},
   "outputs": [
    {
     "data": {
      "text/plain": [
       "'loaded'"
      ]
     },
     "execution_count": 76,
     "metadata": {},
     "output_type": "execute_result"
    },
    {
     "data": {
      "image/png": "[encoded data removed]",
      "text/plain": [
       "<Figure size 640x440 with 1 Axes>"
      ]
     },
     "metadata": {},
     "output_type": "display_data"
    }
   ],
   "source": [
    "sns.histplot(np.concat([c.interactions.energies for c in circuits[-n_extra_fakes:]]).flatten(), bins=50)\n",
    "\n",
    "circuits[-1].interactions_state"
   ]
  },
  {
   "cell_type": "code",
   "execution_count": 77,
   "metadata": {},
   "outputs": [
    {
     "data": {
      "text/plain": [
       "Array([[8.6858345e+01, 5.3184921e-01, 5.2899832e-05],\n",
       "       [5.3184921e-01, 1.4989589e-02, 9.5088153e-06],\n",
       "       [5.2899832e-05, 9.5088153e-06, 7.2196574e+00]], dtype=float32)"
      ]
     },
     "execution_count": 77,
     "metadata": {},
     "output_type": "execute_result"
    }
   ],
   "source": [
    "circuits[i].interactions.binding_rates_dissociation"
   ]
  },
  {
   "cell_type": "code",
   "execution_count": 78,
   "metadata": {},
   "outputs": [
    {
     "data": {
      "text/plain": [
       "array([[0.00150958, 0.00150958, 0.00150958],\n",
       "       [0.00150958, 0.00150958, 0.00150958],\n",
       "       [0.00150958, 0.00150958, 0.00150958]])"
      ]
     },
     "execution_count": 78,
     "metadata": {},
     "output_type": "execute_result"
    }
   ],
   "source": [
    "circuits[i].interactions.binding_rates_association"
   ]
  },
  {
   "cell_type": "code",
   "execution_count": 79,
   "metadata": {},
   "outputs": [
    {
     "data": {
      "text/plain": [
       "2.35"
      ]
     },
     "execution_count": 79,
     "metadata": {},
     "output_type": "execute_result"
    }
   ],
   "source": [
    "config['molecular_params']['creation_rate']"
   ]
  },
  {
   "cell_type": "code",
   "execution_count": 80,
   "metadata": {},
   "outputs": [
    {
     "data": {
      "text/plain": [
       "0.01175"
      ]
     },
     "execution_count": 80,
     "metadata": {},
     "output_type": "execute_result"
    }
   ],
   "source": [
    "config['molecular_params']['degradation_rate']\n"
   ]
  },
  {
   "cell_type": "markdown",
   "metadata": {},
   "source": [
    "# Run dynamic simulation"
   ]
  },
  {
   "cell_type": "code",
   "execution_count": 81,
   "metadata": {},
   "outputs": [
    {
     "name": "stderr",
     "output_type": "stream",
     "text": [
      "circuit_manager.py:batch_circuits():600: \tFrom 37 circuits, a total of 37 mutated circuits will be simulated. WARNING\n",
      "circuit_manager.py:batch_circuits():607: \t\tStarting new round of viable circuits (0 - 37 / 37) WARNING\n",
      "circuit_manager.py:batch_circuits():627: \t\tMaking subcircuits 0 - 37 took 4.4e-05s WARNING\n",
      "circuit_manager.py:batch_circuits():633: \tBatching 0 - 100 circuits (out of 0 - 37 (total: 37)) (Circuits: 0 - 37 of 37) WARNING\n",
      "circuit_manager.py:run_batch():665: \t\tRunning 37 Subcircuits - 0_weak: init_circuits WARNING\n"
     ]
    },
    {
     "name": "stdout",
     "output_type": "stream",
     "text": [
      "Steady states:  200  iterations.  5  left to steady out.  0:00:59.890302\n"
     ]
    },
    {
     "name": "stderr",
     "output_type": "stream",
     "text": [
      "circuit_manager.py:run_batch():701: \t\tMethod init_circuits took 120.367534s WARNING\n",
      "circuit_manager.py:run_batch():665: \t\tRunning 37 Subcircuits - 0_weak: simulate_signal_batch WARNING\n",
      "circuit_manager.py:prepare_internal_funcs():515: Signal differs between circuits, but only first signal used for simulation. WARNING\n"
     ]
    },
    {
     "name": "stdout",
     "output_type": "stream",
     "text": [
      "Done:  0:02:00.164704\n"
     ]
    },
    {
     "name": "stderr",
     "output_type": "stream",
     "text": [
      "circuit_manager.py:simulate_signal_batch():356: \t\tSimulating signal took 13.89944s WARNING\n"
     ]
    },
    {
     "name": "stdout",
     "output_type": "stream",
     "text": [
      "Done:  0:00:13.884703\n"
     ]
    },
    {
     "name": "stderr",
     "output_type": "stream",
     "text": [
      "circuit_manager.py:simulate_signal_batch():414: \t\tCalculating analytics took 1.128503s WARNING\n",
      "circuit_manager.py:run_batch():701: \t\tMethod simulate_signal_batch took 15.308816s WARNING\n",
      "circuit_manager.py:run_batch():665: \t\tRunning 37 Subcircuits - 0_weak: write_results WARNING\n",
      "circuit_manager.py:run_batch():701: \t\tMethod write_results took 6.57749s WARNING\n",
      "circuit_manager.py:batch_circuits():647: Single batch: 0:02:22.257883 \n",
      "Projected time: 142.257883s \n",
      "Total time: 0:02:22.257892 WARNING\n"
     ]
    }
   ],
   "source": [
    "circuits = circuit_modeller.batch_circuits(\n",
    "    circuits=circuits, \n",
    "    batch_size=config['simulation']['batch_size'],\n",
    "    methods={\n",
    "        # \"compute_interactions\": {},\n",
    "        \"init_circuits\": {'batch': True},\n",
    "        'simulate_signal_batch': {'ref_circuit': None,\n",
    "                                  'batch': config['simulation']['use_batch_mutations']},\n",
    "        'write_results': {'no_visualisations': False, # config['experiment']['no_visualisations'],\n",
    "                          'no_numerical': False} #config['experiment']['no_numerical']}\n",
    "    }\n",
    ")"
   ]
  },
  {
   "attachments": {},
   "cell_type": "markdown",
   "metadata": {},
   "source": [
    "# Plot results"
   ]
  },
  {
   "cell_type": "code",
   "execution_count": 82,
   "metadata": {},
   "outputs": [
    {
     "data": {
      "image/png": "[encoded data removed]",
      "text/plain": [
       "<Figure size 500x300 with 1 Axes>"
      ]
     },
     "metadata": {},
     "output_type": "display_data"
    }
   ],
   "source": [
    "chosen_circuit = circuits[1]\n",
    "data_fn_ste = os.path.join(result_writer.write_dir, chosen_circuit.name, 'steady_states_data.csv')\n",
    "data_fn_sig = os.path.join(result_writer.write_dir, chosen_circuit.name, 'signal_data.csv')\n",
    "data = pd.concat([\n",
    "    pd.read_csv(data_fn_ste, names=sorted([s.name for s in chosen_circuit.model.species])),\n",
    "    pd.read_csv(data_fn_sig, names=sorted([s.name for s in chosen_circuit.model.species]))\n",
    "]).reset_index()\n",
    "\n",
    "plt.figure(figsize=(5,3))\n",
    "sns.lineplot(data[sorted([s.name for s in chosen_circuit.get_input_species()])])\n",
    "plt.ylabel('# molecules / cell')\n",
    "plt.xlabel('Time (s)')\n",
    "plt.savefig('output/circ4.svg')\n"
   ]
  },
  {
   "cell_type": "code",
   "execution_count": 83,
   "metadata": {},
   "outputs": [
    {
     "data": {
      "text/html": [
       "<div>\n",
       "<style scoped>\n",
       "    .dataframe tbody tr th:only-of-type {\n",
       "        vertical-align: middle;\n",
       "    }\n",
       "\n",
       "    .dataframe tbody tr th {\n",
       "        vertical-align: top;\n",
       "    }\n",
       "\n",
       "    .dataframe thead th {\n",
       "        text-align: right;\n",
       "    }\n",
       "</style>\n",
       "<table border=\"1\" class=\"dataframe\">\n",
       "  <thead>\n",
       "    <tr style=\"text-align: right;\">\n",
       "      <th></th>\n",
       "      <th>name</th>\n",
       "      <th>fold_change</th>\n",
       "      <th>initial_steady_states</th>\n",
       "      <th>max_amount</th>\n",
       "      <th>min_amount</th>\n",
       "      <th>overshoot</th>\n",
       "      <th>RMSE</th>\n",
       "      <th>steady_states</th>\n",
       "      <th>response_time_wrt_species-6</th>\n",
       "      <th>precision_wrt_species-6</th>\n",
       "      <th>sensitivity_wrt_species-6</th>\n",
       "      <th>sample_name</th>\n",
       "    </tr>\n",
       "  </thead>\n",
       "  <tbody>\n",
       "    <tr>\n",
       "      <th>0</th>\n",
       "      <td>0_weak</td>\n",
       "      <td>3.989330</td>\n",
       "      <td>6.691297e-02</td>\n",
       "      <td>2.669380e-01</td>\n",
       "      <td>6.691297e-02</td>\n",
       "      <td>0.000000e+00</td>\n",
       "      <td>0.0</td>\n",
       "      <td>2.669380e-01</td>\n",
       "      <td>0.000000</td>\n",
       "      <td>0.334523</td>\n",
       "      <td>2.989330</td>\n",
       "      <td>('RNA_0', 'RNA_0')</td>\n",
       "    </tr>\n",
       "    <tr>\n",
       "      <th>1</th>\n",
       "      <td>0_weak</td>\n",
       "      <td>1.996667</td>\n",
       "      <td>6.691297e-02</td>\n",
       "      <td>1.336035e-01</td>\n",
       "      <td>6.691297e-02</td>\n",
       "      <td>5.662441e-07</td>\n",
       "      <td>0.0</td>\n",
       "      <td>1.336029e-01</td>\n",
       "      <td>0.000000</td>\n",
       "      <td>1.003344</td>\n",
       "      <td>0.996676</td>\n",
       "      <td>('RNA_0', 'RNA_1')</td>\n",
       "    </tr>\n",
       "    <tr>\n",
       "      <th>2</th>\n",
       "      <td>0_weak</td>\n",
       "      <td>1.996667</td>\n",
       "      <td>6.691297e-02</td>\n",
       "      <td>1.336035e-01</td>\n",
       "      <td>6.691297e-02</td>\n",
       "      <td>5.662441e-07</td>\n",
       "      <td>0.0</td>\n",
       "      <td>1.336029e-01</td>\n",
       "      <td>0.000000</td>\n",
       "      <td>1.003344</td>\n",
       "      <td>0.996676</td>\n",
       "      <td>('RNA_0', 'RNA_2')</td>\n",
       "    </tr>\n",
       "    <tr>\n",
       "      <th>3</th>\n",
       "      <td>0_weak</td>\n",
       "      <td>0.999336</td>\n",
       "      <td>6.691297e-02</td>\n",
       "      <td>6.691297e-02</td>\n",
       "      <td>6.686856e-02</td>\n",
       "      <td>0.000000e+00</td>\n",
       "      <td>0.0</td>\n",
       "      <td>6.686856e-02</td>\n",
       "      <td>inf</td>\n",
       "      <td>1506.610800</td>\n",
       "      <td>0.000664</td>\n",
       "      <td>('RNA_1', 'RNA_1')</td>\n",
       "    </tr>\n",
       "    <tr>\n",
       "      <th>4</th>\n",
       "      <td>0_weak</td>\n",
       "      <td>0.999336</td>\n",
       "      <td>6.691297e-02</td>\n",
       "      <td>6.691297e-02</td>\n",
       "      <td>6.686856e-02</td>\n",
       "      <td>0.000000e+00</td>\n",
       "      <td>0.0</td>\n",
       "      <td>6.686856e-02</td>\n",
       "      <td>inf</td>\n",
       "      <td>1506.610800</td>\n",
       "      <td>0.000664</td>\n",
       "      <td>('RNA_1', 'RNA_2')</td>\n",
       "    </tr>\n",
       "    <tr>\n",
       "      <th>...</th>\n",
       "      <td>...</td>\n",
       "      <td>...</td>\n",
       "      <td>...</td>\n",
       "      <td>...</td>\n",
       "      <td>...</td>\n",
       "      <td>...</td>\n",
       "      <td>...</td>\n",
       "      <td>...</td>\n",
       "      <td>...</td>\n",
       "      <td>...</td>\n",
       "      <td>...</td>\n",
       "      <td>...</td>\n",
       "    </tr>\n",
       "    <tr>\n",
       "      <th>4</th>\n",
       "      <td>rand_29</td>\n",
       "      <td>1.001175</td>\n",
       "      <td>7.200078e+01</td>\n",
       "      <td>7.208539e+01</td>\n",
       "      <td>7.200078e+01</td>\n",
       "      <td>0.000000e+00</td>\n",
       "      <td>0.0</td>\n",
       "      <td>7.208539e+01</td>\n",
       "      <td>25.651304</td>\n",
       "      <td>850.972530</td>\n",
       "      <td>0.001175</td>\n",
       "      <td>('RNA_1', 'RNA_2')</td>\n",
       "    </tr>\n",
       "    <tr>\n",
       "      <th>5</th>\n",
       "      <td>rand_29</td>\n",
       "      <td>0.345715</td>\n",
       "      <td>6.247004e-07</td>\n",
       "      <td>6.247004e-07</td>\n",
       "      <td>2.159685e-07</td>\n",
       "      <td>1.278977e-13</td>\n",
       "      <td>0.0</td>\n",
       "      <td>2.159686e-07</td>\n",
       "      <td>96.593185</td>\n",
       "      <td>1.528387</td>\n",
       "      <td>0.654285</td>\n",
       "      <td>('RNA_2', 'RNA_2')</td>\n",
       "    </tr>\n",
       "    <tr>\n",
       "      <th>6</th>\n",
       "      <td>rand_29</td>\n",
       "      <td>1.936925</td>\n",
       "      <td>6.780807e+01</td>\n",
       "      <td>1.356161e+02</td>\n",
       "      <td>6.780807e+01</td>\n",
       "      <td>4.277008e+00</td>\n",
       "      <td>0.0</td>\n",
       "      <td>1.313391e+02</td>\n",
       "      <td>16.833668</td>\n",
       "      <td>1.067322</td>\n",
       "      <td>1.000000</td>\n",
       "      <td>RNA_0</td>\n",
       "    </tr>\n",
       "    <tr>\n",
       "      <th>7</th>\n",
       "      <td>rand_29</td>\n",
       "      <td>0.982703</td>\n",
       "      <td>2.241787e+01</td>\n",
       "      <td>2.241787e+01</td>\n",
       "      <td>2.026700e+01</td>\n",
       "      <td>1.763111e+00</td>\n",
       "      <td>0.0</td>\n",
       "      <td>2.203011e+01</td>\n",
       "      <td>42.885770</td>\n",
       "      <td>57.814037</td>\n",
       "      <td>0.095944</td>\n",
       "      <td>RNA_1</td>\n",
       "    </tr>\n",
       "    <tr>\n",
       "      <th>8</th>\n",
       "      <td>rand_29</td>\n",
       "      <td>0.587976</td>\n",
       "      <td>5.465950e-02</td>\n",
       "      <td>5.465950e-02</td>\n",
       "      <td>3.213848e-02</td>\n",
       "      <td>0.000000e+00</td>\n",
       "      <td>0.0</td>\n",
       "      <td>3.213848e-02</td>\n",
       "      <td>42.484970</td>\n",
       "      <td>2.427044</td>\n",
       "      <td>0.412024</td>\n",
       "      <td>RNA_2</td>\n",
       "    </tr>\n",
       "  </tbody>\n",
       "</table>\n",
       "<p>333 rows × 12 columns</p>\n",
       "</div>"
      ],
      "text/plain": [
       "       name  fold_change  initial_steady_states    max_amount    min_amount  \\\n",
       "0    0_weak     3.989330           6.691297e-02  2.669380e-01  6.691297e-02   \n",
       "1    0_weak     1.996667           6.691297e-02  1.336035e-01  6.691297e-02   \n",
       "2    0_weak     1.996667           6.691297e-02  1.336035e-01  6.691297e-02   \n",
       "3    0_weak     0.999336           6.691297e-02  6.691297e-02  6.686856e-02   \n",
       "4    0_weak     0.999336           6.691297e-02  6.691297e-02  6.686856e-02   \n",
       "..      ...          ...                    ...           ...           ...   \n",
       "4   rand_29     1.001175           7.200078e+01  7.208539e+01  7.200078e+01   \n",
       "5   rand_29     0.345715           6.247004e-07  6.247004e-07  2.159685e-07   \n",
       "6   rand_29     1.936925           6.780807e+01  1.356161e+02  6.780807e+01   \n",
       "7   rand_29     0.982703           2.241787e+01  2.241787e+01  2.026700e+01   \n",
       "8   rand_29     0.587976           5.465950e-02  5.465950e-02  3.213848e-02   \n",
       "\n",
       "       overshoot  RMSE  steady_states  response_time_wrt_species-6  \\\n",
       "0   0.000000e+00   0.0   2.669380e-01                     0.000000   \n",
       "1   5.662441e-07   0.0   1.336029e-01                     0.000000   \n",
       "2   5.662441e-07   0.0   1.336029e-01                     0.000000   \n",
       "3   0.000000e+00   0.0   6.686856e-02                          inf   \n",
       "4   0.000000e+00   0.0   6.686856e-02                          inf   \n",
       "..           ...   ...            ...                          ...   \n",
       "4   0.000000e+00   0.0   7.208539e+01                    25.651304   \n",
       "5   1.278977e-13   0.0   2.159686e-07                    96.593185   \n",
       "6   4.277008e+00   0.0   1.313391e+02                    16.833668   \n",
       "7   1.763111e+00   0.0   2.203011e+01                    42.885770   \n",
       "8   0.000000e+00   0.0   3.213848e-02                    42.484970   \n",
       "\n",
       "    precision_wrt_species-6  sensitivity_wrt_species-6         sample_name  \n",
       "0                  0.334523                   2.989330  ('RNA_0', 'RNA_0')  \n",
       "1                  1.003344                   0.996676  ('RNA_0', 'RNA_1')  \n",
       "2                  1.003344                   0.996676  ('RNA_0', 'RNA_2')  \n",
       "3               1506.610800                   0.000664  ('RNA_1', 'RNA_1')  \n",
       "4               1506.610800                   0.000664  ('RNA_1', 'RNA_2')  \n",
       "..                      ...                        ...                 ...  \n",
       "4                850.972530                   0.001175  ('RNA_1', 'RNA_2')  \n",
       "5                  1.528387                   0.654285  ('RNA_2', 'RNA_2')  \n",
       "6                  1.067322                   1.000000               RNA_0  \n",
       "7                 57.814037                   0.095944               RNA_1  \n",
       "8                  2.427044                   0.412024               RNA_2  \n",
       "\n",
       "[333 rows x 12 columns]"
      ]
     },
     "execution_count": 83,
     "metadata": {},
     "output_type": "execute_result"
    }
   ],
   "source": [
    "all_df = pd.DataFrame()\n",
    "for c in circuits:\n",
    "    analytics_fn_sig = os.path.join(result_writer.write_dir, c.name, 'report_signal.json')\n",
    "    df = pd.DataFrame().from_dict(load_json_as_dict(analytics_fn_sig))\n",
    "    df = df.apply(pd.to_numeric, errors='coerce')\n",
    "    df['sample_name'] = [s.name for s in c.model.species]\n",
    "    df['name'] = c.name\n",
    "    df = df[['name'] + list(df.columns[:-1])]\n",
    "    all_df = pd.concat([all_df, df])\n",
    "all_df"
   ]
  },
  {
   "cell_type": "code",
   "execution_count": 84,
   "metadata": {},
   "outputs": [],
   "source": [
    "all_df['adaptability'] = calculate_adaptation(all_df['sensitivity_wrt_species-6'].to_numpy(), all_df['precision_wrt_species-6'].to_numpy())\n",
    "# all_df['adaptability2'] = calculate_adaptation(all_df['sensitivity2_wrt_species-6'].to_numpy(), all_df['precision_wrt_species-6'].to_numpy())"
   ]
  },
  {
   "cell_type": "code",
   "execution_count": 85,
   "metadata": {},
   "outputs": [
    {
     "data": {
      "text/plain": [
       "<Axes: ylabel='Count'>"
      ]
     },
     "execution_count": 85,
     "metadata": {},
     "output_type": "execute_result"
    },
    {
     "data": {
      "image/png": "[encoded data removed]",
      "text/plain": [
       "<Figure size 640x440 with 1 Axes>"
      ]
     },
     "metadata": {},
     "output_type": "display_data"
    }
   ],
   "source": [
    "sns.histplot(np.concat([c.interactions.energies.flatten() for c in circuits]), bins=50)"
   ]
  },
  {
   "cell_type": "code",
   "execution_count": 86,
   "metadata": {},
   "outputs": [
    {
     "data": {
      "image/png": "[encoded data removed]",
      "text/plain": [
       "<Figure size 1000x500 with 2 Axes>"
      ]
     },
     "metadata": {},
     "output_type": "display_data"
    }
   ],
   "source": [
    "species_unbound = [s.name for s in circuits[0].get_input_species()]\n",
    "\n",
    "fig = plt.figure(figsize=(10,5))\n",
    "ax = plt.subplot(2,2,1)\n",
    "sns.scatterplot(all_df[all_df['sample_name'].isin(species_unbound)], x='sensitivity_wrt_species-6', y='precision_wrt_species-6', hue='adaptability', palette='viridis')\n",
    "plt.xscale('log')\n",
    "plt.yscale('log')\n",
    "plt.title('Sensitivity 1')\n",
    "\n",
    "ax = plt.subplot(2,2,2)\n",
    "sns.scatterplot(all_df[all_df['sample_name'].isin(species_unbound)], x='sensitivity_wrt_species-6', y='precision_wrt_species-6', hue='sample_name')\n",
    "plt.xscale('log')\n",
    "plt.yscale('log')\n",
    "plt.title('Sensitivity 1')\n",
    "\n",
    "if 'sensitivity2_wrt_species-6' in all_df.columns:\n",
    "    ax = plt.subplot(2,2,3)\n",
    "    sns.scatterplot(all_df[all_df['sample_name'].isin(species_unbound)], x='sensitivity2_wrt_species-6', y='precision_wrt_species-6', hue='adaptability2', palette='viridis')\n",
    "    plt.xscale('log')\n",
    "    plt.yscale('log')\n",
    "    plt.title('Sensitivity 2')\n",
    "\n",
    "    ax = plt.subplot(2,2,2)\n",
    "    sns.scatterplot(all_df[all_df['sample_name'].isin(species_unbound)], x='sensitivit2y_wrt_species-6', y='precision_wrt_species-6', hue='sample_name')\n",
    "    plt.xscale('log')\n",
    "    plt.yscale('log')\n",
    "    plt.title('Sensitivity 2')"
   ]
  },
  {
   "cell_type": "markdown",
   "metadata": {},
   "source": [
    "# Visualise most adaptable circuits"
   ]
  },
  {
   "cell_type": "code",
   "execution_count": 87,
   "metadata": {},
   "outputs": [],
   "source": [
    "names_circuits_adapting = all_df[all_df['sample_name'].isin(species_unbound[1:])].sort_values('adaptability', ascending=False).iloc[:5]['name'].to_list()\n",
    "\n",
    "circuits_adapting = [c for c in circuits if c.name in names_circuits_adapting]"
   ]
  },
  {
   "cell_type": "code",
   "execution_count": 88,
   "metadata": {},
   "outputs": [
    {
     "data": {
      "image/png": "[encoded data removed]",
      "text/plain": [
       "<Figure size 1800x500 with 3 Axes>"
      ]
     },
     "metadata": {},
     "output_type": "display_data"
    }
   ],
   "source": [
    "fig = plt.figure(figsize=(6*len(circuits_adapting),5))\n",
    "for i, c in enumerate(circuits_adapting):\n",
    "    r0 = c.result_collector.get_result('steady_states').vis_kwargs\n",
    "    r1 = c.result_collector.get_result('signal').vis_kwargs\n",
    "    ts = np.concat([r0['t'], r1['t'] + r0['t'][-1]])\n",
    "    y = np.concat([r0['data'].T, r1['data'].T])\n",
    "    \n",
    "    ax = plt.subplot(1, len(circuits_adapting), i+1)\n",
    "    plt.plot(ts, y[:, -2:])\n",
    "    plt.legend(r0['legend'][-2:])"
   ]
  },
  {
   "cell_type": "code",
   "execution_count": null,
   "metadata": {},
   "outputs": [],
   "source": []
  }
 ],
 "metadata": {
  "kernelspec": {
   "display_name": "Python 3",
   "language": "python",
   "name": "python3"
  },
  "language_info": {
   "codemirror_mode": {
    "name": "ipython",
    "version": 3
   },
   "file_extension": ".py",
   "mimetype": "text/x-python",
   "name": "python",
   "nbconvert_exporter": "python",
   "pygments_lexer": "ipython3",
   "version": "3.11.10"
  },
  "orig_nbformat": 4
 },
 "nbformat": 4,
 "nbformat_minor": 2
}
