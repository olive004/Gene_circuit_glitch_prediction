{
 "cells": [
  {
   "attachments": {},
   "cell_type": "markdown",
   "metadata": {},
   "source": [
    "# Basic RNA circuit simulation \n",
    "\n"
   ]
  },
  {
   "cell_type": "code",
   "execution_count": 110,
   "metadata": {},
   "outputs": [
    {
     "name": "stdout",
     "output_type": "stream",
     "text": [
      "The autoreload extension is already loaded. To reload it, use:\n",
      "  %reload_ext autoreload\n"
     ]
    }
   ],
   "source": [
    "%load_ext autoreload\n",
    "%autoreload 2"
   ]
  },
  {
   "cell_type": "code",
   "execution_count": 111,
   "metadata": {},
   "outputs": [],
   "source": [
    "from bioreaction.simulation.basic_sim import convert_model\n",
    "\n",
    "import jax\n",
    "import numpy as np\n",
    "import pandas as pd\n",
    "import os\n",
    "import sys\n",
    "\n",
    "from datetime import datetime\n",
    "import matplotlib.pyplot as plt\n",
    "import seaborn as sns\n",
    "plt.style.use('seaborn-v0_8-paper')\n",
    "os.environ[\"TF_CPP_MIN_LOG_LOVEL\"] = \"0\"\n",
    "jax.config.update('jax_platform_name', 'gpu')\n",
    "\n",
    "\n",
    "if __package__ is None:\n",
    "\n",
    "    module_path = os.path.abspath(os.path.join('..'))\n",
    "    sys.path.append(module_path)\n",
    "\n",
    "    __package__ = os.path.basename(module_path)\n",
    "\n",
    "\n",
    "from src.utils.data.data_format_tools.common import load_json_as_dict\n",
    "from src.utils.common.setup_new import prepare_config, construct_circuit_from_cfg\n",
    "from src.utils.circuit.agnostic_circuits.circuit_manager_new import CircuitModeller\n",
    "from src.utils.evolution.evolver import load_mutations\n",
    "from tests_local.shared import five_circuits\n",
    "\n",
    "config = load_json_as_dict('../tests_local/configs/simple_circuit.json')\n"
   ]
  },
  {
   "cell_type": "code",
   "execution_count": 112,
   "metadata": {},
   "outputs": [],
   "source": [
    "\n",
    "\n",
    "\n",
    "def update_model_rates(model, a=None, d=None, ka=None, kd=None):\n",
    "    for i, r in enumerate(model.reactions):\n",
    "        if not r.input:  # 0 -> RNA\n",
    "            if a is not None:\n",
    "                model.reactions[i].forward_rate = a[model.species.index(\n",
    "                    r.output[0])]\n",
    "                model.reactions[i].reverse_rate = 0\n",
    "        elif not r.output:  # RNA -> 0\n",
    "            if d is not None:\n",
    "                model.reactions[i].forward_rate = d[model.species.index(\n",
    "                    r.input[0])]\n",
    "                model.reactions[i].reverse_rate = 0\n",
    "        else: # unbound RNA -> bound RNA\n",
    "            if ka is not None:\n",
    "                model.reactions[i].forward_rate = ka[model.species.index(r.input[0]),\n",
    "                                                     model.species.index(r.input[1])]\n",
    "            if kd is not None:\n",
    "                model.reactions[i].reverse_rate = kd[model.species.index(r.input[0]),\n",
    "                                                     model.species.index(r.input[1])]\n",
    "    return model\n",
    "\n",
    "\n",
    "def make_params(model, scale_rates=True):\n",
    "    sim_model = convert_model(model)\n",
    "\n",
    "    if scale_rates:\n",
    "        m = np.max([sim_model.forward_rates.max(), sim_model.reverse_rates.max()])\n",
    "    else:\n",
    "        m = 1\n",
    "    inputs = sim_model.inputs\n",
    "    outputs = sim_model.outputs\n",
    "    forward_rates = sim_model.forward_rates/m\n",
    "    reverse_rates = sim_model.reverse_rates/m\n",
    "    return inputs, outputs, forward_rates, reverse_rates, m"
   ]
  },
  {
   "attachments": {},
   "cell_type": "markdown",
   "metadata": {},
   "source": [
    "Use the 5 tester circuits :)"
   ]
  },
  {
   "cell_type": "code",
   "execution_count": 113,
   "metadata": {},
   "outputs": [
    {
     "name": "stderr",
     "output_type": "stream",
     "text": [
      "experiment_loading.py:load_units():35: Units unknown - supply a valid experiment directory instead of ../tests_local/configs/binding_rates_dissociation/0_weak_binding_rates_dissociation.csv WARNING\n",
      "experiment_loading.py:load_units():35: Units unknown - supply a valid experiment directory instead of ../tests_local/configs/eqconstants/0_weak_eqconstants.csv WARNING\n",
      "experiment_loading.py:load_units():35: Units unknown - supply a valid experiment directory instead of ../tests_local/configs/energies/0_weak_energies.csv WARNING\n",
      "experiment_loading.py:load_units():35: Units unknown - supply a valid experiment directory instead of ../tests_local/configs/binding_sites/0_weak_binding_sites.csv WARNING\n",
      "experiment_loading.py:load_units():35: Units unknown - supply a valid experiment directory instead of ../tests_local/configs/binding_rates_dissociation/1_med_weak_binding_rates_dissociation.csv WARNING\n",
      "experiment_loading.py:load_units():35: Units unknown - supply a valid experiment directory instead of ../tests_local/configs/eqconstants/1_med_weak_eqconstants.csv WARNING\n",
      "experiment_loading.py:load_units():35: Units unknown - supply a valid experiment directory instead of ../tests_local/configs/energies/1_med_weak_energies.csv WARNING\n",
      "experiment_loading.py:load_units():35: Units unknown - supply a valid experiment directory instead of ../tests_local/configs/binding_sites/1_med_weak_binding_sites.csv WARNING\n",
      "experiment_loading.py:load_units():35: Units unknown - supply a valid experiment directory instead of ../tests_local/configs/binding_rates_dissociation/2_medium_binding_rates_dissociation.csv WARNING\n",
      "experiment_loading.py:load_units():35: Units unknown - supply a valid experiment directory instead of ../tests_local/configs/eqconstants/2_medium_eqconstants.csv WARNING\n",
      "experiment_loading.py:load_units():35: Units unknown - supply a valid experiment directory instead of ../tests_local/configs/energies/2_medium_energies.csv WARNING\n",
      "experiment_loading.py:load_units():35: Units unknown - supply a valid experiment directory instead of ../tests_local/configs/binding_sites/2_medium_binding_sites.csv WARNING\n",
      "experiment_loading.py:load_units():35: Units unknown - supply a valid experiment directory instead of ../tests_local/configs/binding_rates_dissociation/3_med_strong_binding_rates_dissociation.csv WARNING\n",
      "experiment_loading.py:load_units():35: Units unknown - supply a valid experiment directory instead of ../tests_local/configs/eqconstants/3_med_strong_eqconstants.csv WARNING\n",
      "experiment_loading.py:load_units():35: Units unknown - supply a valid experiment directory instead of ../tests_local/configs/energies/3_med_strong_energies.csv WARNING\n",
      "experiment_loading.py:load_units():35: Units unknown - supply a valid experiment directory instead of ../tests_local/configs/binding_sites/3_med_strong_binding_sites.csv WARNING\n",
      "experiment_loading.py:load_units():35: Units unknown - supply a valid experiment directory instead of ../tests_local/configs/binding_rates_dissociation/4_strong_binding_rates_dissociation.csv WARNING\n",
      "experiment_loading.py:load_units():35: Units unknown - supply a valid experiment directory instead of ../tests_local/configs/eqconstants/4_strong_eqconstants.csv WARNING\n",
      "experiment_loading.py:load_units():35: Units unknown - supply a valid experiment directory instead of ../tests_local/configs/energies/4_strong_energies.csv WARNING\n",
      "experiment_loading.py:load_units():35: Units unknown - supply a valid experiment directory instead of ../tests_local/configs/binding_sites/4_strong_binding_sites.csv WARNING\n"
     ]
    }
   ],
   "source": [
    "config = prepare_config(config)\n",
    "config['include_prod_deg'] = True\n",
    "config['simulation']['use_rate_scaling'] = False\n",
    "\n",
    "q = 2\n",
    "p = 30\n",
    "config['molecular_params_factor'] = p\n",
    "config['simulation']['interaction_factor'] = 1\n",
    "config['molecular_params']['creation_rate'] = config['molecular_params']['creation_rate'] * q\n",
    "config['molecular_params']['creation_rate' + '_per_molecule'] = config['molecular_params']['creation_rate' + '_per_molecule'] * q\n",
    "# config['simulation']['dt'] = 0.1\n",
    "# config['molecular_params']['creation_rate'] = config['molecular_params']['creation_rate'] * p\n",
    "# config['molecular_params']['degradation_rate'] = config['molecular_params']['degradation_rate'] * p\n",
    "circuits, config, result_writer = five_circuits(config)"
   ]
  },
  {
   "cell_type": "code",
   "execution_count": 114,
   "metadata": {},
   "outputs": [
    {
     "data": {
      "text/plain": [
       "[None, None, None, None, None]"
      ]
     },
     "execution_count": 114,
     "metadata": {},
     "output_type": "execute_result"
    }
   ],
   "source": [
    "\n",
    "\n",
    "def load_circuit(top_dir, circuit_name, config):\n",
    "    dp = os.path.join(top_dir, 'circuits', circuit_name + '.fasta')\n",
    "    interactions = {'binding_rates_association': config['molecular_params']['association_binding_rate' + '_per_molecule'],\n",
    "                    'binding_rates_dissociation': os.path.join(top_dir, 'binding_rates_dissociation', circuit_name + '_' + 'binding_rates_dissociation' + '.csv'),\n",
    "                    'eqconstants': os.path.join(top_dir, 'eqconstants', circuit_name + '_' + 'eqconstants' + '.csv'),\n",
    "                    'energies': os.path.join(top_dir, 'energies', circuit_name + '_' + 'energies' + '.csv'),\n",
    "                    'binding_sites': os.path.join(top_dir, 'binding_sites', circuit_name + '_' + 'binding_sites' + '.csv')}\n",
    "\n",
    "    return construct_circuit_from_cfg({\n",
    "        'data_path': dp,\n",
    "        'interactions': interactions\n",
    "    }, config)\n",
    "\n",
    "# tester_circuit = load_circuit(top_dir='data/ensemble_mutation_effect_analysis/2023_04_04_092945/generate_species_templates',\n",
    "#              circuit_name='toy_mRNA_circuit_1844', config=config)\n",
    "\n",
    "\n",
    "tester_circuits = []\n",
    "for name in ['toy_mRNA_circuit_21566', 'toy_mRNA_circuit_24706', 'toy_mRNA_circuit_19768', 'toy_mRNA_circuit_2983', 'toy_mRNA_circuit_22658']:\n",
    "    fn = os.path.join('..', 'data/ensemble_mutation_effect_analysis/2023_04_11_192013/mutation_effect_on_interactions_signal', name, 'mutations.csv')\n",
    "    tester_circuit = load_circuit(top_dir='data/ensemble_mutation_effect_analysis/2023_04_04_092945/generate_species_templates',\n",
    "                                        circuit_name=name, config=config)\n",
    "    tester_circuit = load_mutations(tester_circuit, fn)\n",
    "    tester_circuits.append(tester_circuit)\n",
    "\n",
    "# config['interactions'] = {}\n",
    "# config['interactions'] = None\n",
    "# tester_circuit = construct_circuit_from_cfg(\n",
    "#     {'data_path': '../tester.fasta'}, config)\n",
    "[circuits.append(tester_circuit) for tester_circuit in tester_circuits]\n"
   ]
  },
  {
   "cell_type": "code",
   "execution_count": 115,
   "metadata": {},
   "outputs": [
    {
     "data": {
      "text/plain": [
       "{Species: RNA_0: {'RNA_0_m1-0': <src.utils.evolution.mutation.Mutations at 0x7f7524baf010>,\n",
       "  'RNA_0_m1-1': <src.utils.evolution.mutation.Mutations at 0x7f7524bacdf0>,\n",
       "  'RNA_0_m1-2': <src.utils.evolution.mutation.Mutations at 0x7f7524bada80>,\n",
       "  'RNA_0_m1-3': <src.utils.evolution.mutation.Mutations at 0x7f7524bae230>,\n",
       "  'RNA_0_m1-4': <src.utils.evolution.mutation.Mutations at 0x7f7524baec20>,\n",
       "  'RNA_0_m1-5': <src.utils.evolution.mutation.Mutations at 0x7f7524bad720>,\n",
       "  'RNA_0_m1-6': <src.utils.evolution.mutation.Mutations at 0x7f7524bae950>,\n",
       "  'RNA_0_m1-7': <src.utils.evolution.mutation.Mutations at 0x7f7524bace80>,\n",
       "  'RNA_0_m3-0': <src.utils.evolution.mutation.Mutations at 0x7f7524badb10>,\n",
       "  'RNA_0_m3-1': <src.utils.evolution.mutation.Mutations at 0x7f752460b3d0>,\n",
       "  'RNA_0_m3-2': <src.utils.evolution.mutation.Mutations at 0x7f7524609cf0>,\n",
       "  'RNA_0_m3-3': <src.utils.evolution.mutation.Mutations at 0x7f7524609d20>,\n",
       "  'RNA_0_m3-4': <src.utils.evolution.mutation.Mutations at 0x7f7524608370>,\n",
       "  'RNA_0_m3-5': <src.utils.evolution.mutation.Mutations at 0x7f752460b700>,\n",
       "  'RNA_0_m3-6': <src.utils.evolution.mutation.Mutations at 0x7f752460a350>,\n",
       "  'RNA_0_m3-7': <src.utils.evolution.mutation.Mutations at 0x7f7524608b80>,\n",
       "  'RNA_0_m5-0': <src.utils.evolution.mutation.Mutations at 0x7f752460b610>,\n",
       "  'RNA_0_m5-1': <src.utils.evolution.mutation.Mutations at 0x7f752460a320>,\n",
       "  'RNA_0_m5-2': <src.utils.evolution.mutation.Mutations at 0x7f75246083d0>,\n",
       "  'RNA_0_m5-3': <src.utils.evolution.mutation.Mutations at 0x7f7524609b10>,\n",
       "  'RNA_0_m5-4': <src.utils.evolution.mutation.Mutations at 0x7f752460b580>,\n",
       "  'RNA_0_m5-5': <src.utils.evolution.mutation.Mutations at 0x7f7524608130>,\n",
       "  'RNA_0_m5-6': <src.utils.evolution.mutation.Mutations at 0x7f752460ba30>,\n",
       "  'RNA_0_m5-7': <src.utils.evolution.mutation.Mutations at 0x7f752460b280>,\n",
       "  'RNA_0_m10-0': <src.utils.evolution.mutation.Mutations at 0x7f752460b3a0>,\n",
       "  'RNA_0_m10-1': <src.utils.evolution.mutation.Mutations at 0x7f752460a110>,\n",
       "  'RNA_0_m10-2': <src.utils.evolution.mutation.Mutations at 0x7f752460b5e0>,\n",
       "  'RNA_0_m10-3': <src.utils.evolution.mutation.Mutations at 0x7f7524608820>,\n",
       "  'RNA_0_m10-4': <src.utils.evolution.mutation.Mutations at 0x7f7524609870>,\n",
       "  'RNA_0_m10-5': <src.utils.evolution.mutation.Mutations at 0x7f752460aef0>,\n",
       "  'RNA_0_m10-6': <src.utils.evolution.mutation.Mutations at 0x7f752460af20>,\n",
       "  'RNA_0_m10-7': <src.utils.evolution.mutation.Mutations at 0x7f752460b8b0>,\n",
       "  'RNA_0_m15-0': <src.utils.evolution.mutation.Mutations at 0x7f752460af50>,\n",
       "  'RNA_0_m15-1': <src.utils.evolution.mutation.Mutations at 0x7f752460b9d0>,\n",
       "  'RNA_0_m15-2': <src.utils.evolution.mutation.Mutations at 0x7f752460baf0>,\n",
       "  'RNA_0_m15-3': <src.utils.evolution.mutation.Mutations at 0x7f752460bb50>,\n",
       "  'RNA_0_m15-4': <src.utils.evolution.mutation.Mutations at 0x7f752460b5b0>,\n",
       "  'RNA_0_m15-5': <src.utils.evolution.mutation.Mutations at 0x7f7524609e40>,\n",
       "  'RNA_0_m15-6': <src.utils.evolution.mutation.Mutations at 0x7f75246093f0>,\n",
       "  'RNA_0_m15-7': <src.utils.evolution.mutation.Mutations at 0x7f7524609360>},\n",
       " Species: RNA_1: {'RNA_1_m1-0': <src.utils.evolution.mutation.Mutations at 0x7f7524609330>,\n",
       "  'RNA_1_m1-1': <src.utils.evolution.mutation.Mutations at 0x7f7524608e50>,\n",
       "  'RNA_1_m1-2': <src.utils.evolution.mutation.Mutations at 0x7f7524608e80>,\n",
       "  'RNA_1_m1-3': <src.utils.evolution.mutation.Mutations at 0x7f752460a2f0>,\n",
       "  'RNA_1_m1-4': <src.utils.evolution.mutation.Mutations at 0x7f7524609c90>,\n",
       "  'RNA_1_m1-5': <src.utils.evolution.mutation.Mutations at 0x7f752460aa40>,\n",
       "  'RNA_1_m1-6': <src.utils.evolution.mutation.Mutations at 0x7f7524609c60>,\n",
       "  'RNA_1_m1-7': <src.utils.evolution.mutation.Mutations at 0x7f752460a9e0>,\n",
       "  'RNA_1_m3-0': <src.utils.evolution.mutation.Mutations at 0x7f752460a860>,\n",
       "  'RNA_1_m3-1': <src.utils.evolution.mutation.Mutations at 0x7f752460a980>,\n",
       "  'RNA_1_m3-2': <src.utils.evolution.mutation.Mutations at 0x7f752460a800>,\n",
       "  'RNA_1_m3-3': <src.utils.evolution.mutation.Mutations at 0x7f7524609f00>,\n",
       "  'RNA_1_m3-4': <src.utils.evolution.mutation.Mutations at 0x7f7524609420>,\n",
       "  'RNA_1_m3-5': <src.utils.evolution.mutation.Mutations at 0x7f752460afe0>,\n",
       "  'RNA_1_m3-6': <src.utils.evolution.mutation.Mutations at 0x7f752460afb0>,\n",
       "  'RNA_1_m3-7': <src.utils.evolution.mutation.Mutations at 0x7f752460b190>,\n",
       "  'RNA_1_m5-0': <src.utils.evolution.mutation.Mutations at 0x7f7524609810>,\n",
       "  'RNA_1_m5-1': <src.utils.evolution.mutation.Mutations at 0x7f752460b250>,\n",
       "  'RNA_1_m5-2': <src.utils.evolution.mutation.Mutations at 0x7f752460b040>,\n",
       "  'RNA_1_m5-3': <src.utils.evolution.mutation.Mutations at 0x7f752460b310>,\n",
       "  'RNA_1_m5-4': <src.utils.evolution.mutation.Mutations at 0x7f752460b100>,\n",
       "  'RNA_1_m5-5': <src.utils.evolution.mutation.Mutations at 0x7f752460ac20>,\n",
       "  'RNA_1_m5-6': <src.utils.evolution.mutation.Mutations at 0x7f752460b1c0>,\n",
       "  'RNA_1_m5-7': <src.utils.evolution.mutation.Mutations at 0x7f752460ac80>,\n",
       "  'RNA_1_m10-0': <src.utils.evolution.mutation.Mutations at 0x7f752460ab90>,\n",
       "  'RNA_1_m10-1': <src.utils.evolution.mutation.Mutations at 0x7f752460a8f0>,\n",
       "  'RNA_1_m10-2': <src.utils.evolution.mutation.Mutations at 0x7f752460a920>,\n",
       "  'RNA_1_m10-3': <src.utils.evolution.mutation.Mutations at 0x7f752460a8c0>,\n",
       "  'RNA_1_m10-4': <src.utils.evolution.mutation.Mutations at 0x7f75246092d0>,\n",
       "  'RNA_1_m10-5': <src.utils.evolution.mutation.Mutations at 0x7f752460ab00>,\n",
       "  'RNA_1_m10-6': <src.utils.evolution.mutation.Mutations at 0x7f752460ad40>,\n",
       "  'RNA_1_m10-7': <src.utils.evolution.mutation.Mutations at 0x7f752460abf0>,\n",
       "  'RNA_1_m15-0': <src.utils.evolution.mutation.Mutations at 0x7f752460ace0>,\n",
       "  'RNA_1_m15-1': <src.utils.evolution.mutation.Mutations at 0x7f752460b460>,\n",
       "  'RNA_1_m15-2': <src.utils.evolution.mutation.Mutations at 0x7f752460b430>,\n",
       "  'RNA_1_m15-3': <src.utils.evolution.mutation.Mutations at 0x7f752460b4f0>,\n",
       "  'RNA_1_m15-4': <src.utils.evolution.mutation.Mutations at 0x7f752460b820>,\n",
       "  'RNA_1_m15-5': <src.utils.evolution.mutation.Mutations at 0x7f752460b2e0>,\n",
       "  'RNA_1_m15-6': <src.utils.evolution.mutation.Mutations at 0x7f752460bd90>,\n",
       "  'RNA_1_m15-7': <src.utils.evolution.mutation.Mutations at 0x7f752460ba60>},\n",
       " Species: RNA_2: {'RNA_2_m1-0': <src.utils.evolution.mutation.Mutations at 0x7f752460bb20>,\n",
       "  'RNA_2_m1-1': <src.utils.evolution.mutation.Mutations at 0x7f752460b4c0>,\n",
       "  'RNA_2_m1-2': <src.utils.evolution.mutation.Mutations at 0x7f752460a9b0>,\n",
       "  'RNA_2_m1-3': <src.utils.evolution.mutation.Mutations at 0x7f752460b490>,\n",
       "  'RNA_2_m1-4': <src.utils.evolution.mutation.Mutations at 0x7f752460ba00>,\n",
       "  'RNA_2_m1-5': <src.utils.evolution.mutation.Mutations at 0x7f752460a6e0>,\n",
       "  'RNA_2_m1-6': <src.utils.evolution.mutation.Mutations at 0x7f752460aad0>,\n",
       "  'RNA_2_m1-7': <src.utils.evolution.mutation.Mutations at 0x7f7524608790>,\n",
       "  'RNA_2_m3-0': <src.utils.evolution.mutation.Mutations at 0x7f752460b970>,\n",
       "  'RNA_2_m3-1': <src.utils.evolution.mutation.Mutations at 0x7f752460aa70>,\n",
       "  'RNA_2_m3-2': <src.utils.evolution.mutation.Mutations at 0x7f752460b880>,\n",
       "  'RNA_2_m3-3': <src.utils.evolution.mutation.Mutations at 0x7f752460b400>,\n",
       "  'RNA_2_m3-4': <src.utils.evolution.mutation.Mutations at 0x7f752460add0>,\n",
       "  'RNA_2_m3-5': <src.utils.evolution.mutation.Mutations at 0x7f752460be20>,\n",
       "  'RNA_2_m3-6': <src.utils.evolution.mutation.Mutations at 0x7f752460bb80>,\n",
       "  'RNA_2_m3-7': <src.utils.evolution.mutation.Mutations at 0x7f752460bf10>,\n",
       "  'RNA_2_m5-0': <src.utils.evolution.mutation.Mutations at 0x7f752460be50>,\n",
       "  'RNA_2_m5-1': <src.utils.evolution.mutation.Mutations at 0x7f752460beb0>,\n",
       "  'RNA_2_m5-2': <src.utils.evolution.mutation.Mutations at 0x7f752460bc10>,\n",
       "  'RNA_2_m5-3': <src.utils.evolution.mutation.Mutations at 0x7f7524609030>,\n",
       "  'RNA_2_m5-4': <src.utils.evolution.mutation.Mutations at 0x7f7524609000>,\n",
       "  'RNA_2_m5-5': <src.utils.evolution.mutation.Mutations at 0x7f7524608f70>,\n",
       "  'RNA_2_m5-6': <src.utils.evolution.mutation.Mutations at 0x7f7524608fa0>,\n",
       "  'RNA_2_m5-7': <src.utils.evolution.mutation.Mutations at 0x7f7524608fd0>,\n",
       "  'RNA_2_m10-0': <src.utils.evolution.mutation.Mutations at 0x7f75246082b0>,\n",
       "  'RNA_2_m10-1': <src.utils.evolution.mutation.Mutations at 0x7f75246090c0>,\n",
       "  'RNA_2_m10-2': <src.utils.evolution.mutation.Mutations at 0x7f7524609090>,\n",
       "  'RNA_2_m10-3': <src.utils.evolution.mutation.Mutations at 0x7f7524609060>,\n",
       "  'RNA_2_m10-4': <src.utils.evolution.mutation.Mutations at 0x7f7524608a30>,\n",
       "  'RNA_2_m10-5': <src.utils.evolution.mutation.Mutations at 0x7f7524609840>,\n",
       "  'RNA_2_m10-6': <src.utils.evolution.mutation.Mutations at 0x7f75246089d0>,\n",
       "  'RNA_2_m10-7': <src.utils.evolution.mutation.Mutations at 0x7f75246097e0>,\n",
       "  'RNA_2_m15-0': <src.utils.evolution.mutation.Mutations at 0x7f75246096c0>,\n",
       "  'RNA_2_m15-1': <src.utils.evolution.mutation.Mutations at 0x7f7524609f30>,\n",
       "  'RNA_2_m15-2': <src.utils.evolution.mutation.Mutations at 0x7f7524608bb0>,\n",
       "  'RNA_2_m15-3': <src.utils.evolution.mutation.Mutations at 0x7f7524608730>,\n",
       "  'RNA_2_m15-4': <src.utils.evolution.mutation.Mutations at 0x7f7524609780>,\n",
       "  'RNA_2_m15-5': <src.utils.evolution.mutation.Mutations at 0x7f7524608a90>,\n",
       "  'RNA_2_m15-6': <src.utils.evolution.mutation.Mutations at 0x7f7524608670>,\n",
       "  'RNA_2_m15-7': <src.utils.evolution.mutation.Mutations at 0x7f7524609600>}}"
      ]
     },
     "execution_count": 115,
     "metadata": {},
     "output_type": "execute_result"
    }
   ],
   "source": [
    "circuits[-1].mutations"
   ]
  },
  {
   "cell_type": "code",
   "execution_count": 116,
   "metadata": {},
   "outputs": [
    {
     "name": "stderr",
     "output_type": "stream",
     "text": [
      "simulator.py:check_IntaRNA_path():115: Could not detect IntaRNA on system: CompletedProcess(args='which IntaRNA', returncode=1, stdout='', stderr='') WARNING\n",
      "circuit_manager_new.py:batch_circuits():565: \tFrom 10 circuits, a total of 10 mutated circuits will be simulated. WARNING\n",
      "circuit_manager_new.py:batch_circuits():572: \t\tStarting new round of viable circuits (0 - 10 / 10) WARNING\n"
     ]
    },
    {
     "ename": "IndexError",
     "evalue": "list assignment index out of range",
     "output_type": "error",
     "traceback": [
      "\u001b[0;31m---------------------------------------------------------------------------\u001b[0m",
      "\u001b[0;31mIndexError\u001b[0m                                Traceback (most recent call last)",
      "Cell \u001b[0;32mIn[116], line 2\u001b[0m\n\u001b[1;32m      1\u001b[0m circuit_modeller \u001b[39m=\u001b[39m CircuitModeller(result_writer\u001b[39m=\u001b[39mresult_writer, config\u001b[39m=\u001b[39mconfig)\n\u001b[0;32m----> 2\u001b[0m circuits \u001b[39m=\u001b[39m circuit_modeller\u001b[39m.\u001b[39;49mbatch_circuits(circuits\u001b[39m=\u001b[39;49mcircuits, methods\u001b[39m=\u001b[39;49m{\u001b[39m\"\u001b[39;49m\u001b[39mcompute_interactions\u001b[39;49m\u001b[39m\"\u001b[39;49m: {}})\n\u001b[1;32m      3\u001b[0m i \u001b[39m=\u001b[39m \u001b[39m-\u001b[39m\u001b[39m1\u001b[39m\n\u001b[1;32m      4\u001b[0m \u001b[39m# for i in range(len(circuits)):\u001b[39;00m\n\u001b[1;32m      5\u001b[0m \u001b[39m#     circuits[i].interactions.binding_rates_association = circuits[i].interactions.binding_rates_association * q\u001b[39;00m\n\u001b[1;32m      6\u001b[0m \u001b[39m#     circuits[i].interactions.binding_rates_dissociation = circuits[i].interactions.binding_rates_dissociation * q\u001b[39;00m\n\u001b[1;32m      7\u001b[0m \u001b[39m#     circuits[i].update_species_simulated_rates(circuits[i].interactions)\u001b[39;00m\n",
      "File \u001b[0;32m~/Kode/gene-circuit-glitch-prediction/src/utils/circuit/agnostic_circuits/circuit_manager_new.py:581\u001b[0m, in \u001b[0;36mCircuitModeller.batch_circuits\u001b[0;34m(self, circuits, methods, batch_size, include_normal_run, write_to_subsystem)\u001b[0m\n\u001b[1;32m    579\u001b[0m \u001b[39mfor\u001b[39;00m i, circuit \u001b[39min\u001b[39;00m \u001b[39menumerate\u001b[39m(circuits[vi: vf]):\n\u001b[1;32m    580\u001b[0m     curr_subcircuits \u001b[39m=\u001b[39m \u001b[39mself\u001b[39m\u001b[39m.\u001b[39mload_mutations(circuit)\n\u001b[0;32m--> 581\u001b[0m     subcircuits[c_idx] \u001b[39m=\u001b[39m circuit\n\u001b[1;32m    582\u001b[0m     subcircuits[c_idx\u001b[39m+\u001b[39m\u001b[39m1\u001b[39m:c_idx\u001b[39m+\u001b[39m\u001b[39m1\u001b[39m \u001b[39m+\u001b[39m\n\u001b[1;32m    583\u001b[0m                 \u001b[39mlen\u001b[39m(curr_subcircuits)] \u001b[39m=\u001b[39m curr_subcircuits\n\u001b[1;32m    584\u001b[0m     c_idx \u001b[39m=\u001b[39m c_idx \u001b[39m+\u001b[39m \u001b[39m1\u001b[39m\u001b[39m+\u001b[39m\u001b[39mlen\u001b[39m(curr_subcircuits)\n",
      "\u001b[0;31mIndexError\u001b[0m: list assignment index out of range"
     ]
    }
   ],
   "source": [
    "\n",
    "circuit_modeller = CircuitModeller(result_writer=result_writer, config=config)\n",
    "circuits = circuit_modeller.batch_circuits(circuits=circuits, methods={\"compute_interactions\": {}})\n",
    "i = -1\n",
    "# for i in range(len(circuits)):\n",
    "#     circuits[i].interactions.binding_rates_association = circuits[i].interactions.binding_rates_association * q\n",
    "#     circuits[i].interactions.binding_rates_dissociation = circuits[i].interactions.binding_rates_dissociation * q\n",
    "#     circuits[i].update_species_simulated_rates(circuits[i].interactions)\n"
   ]
  },
  {
   "cell_type": "code",
   "execution_count": null,
   "metadata": {},
   "outputs": [
    {
     "data": {
      "text/plain": [
       "array([[0.00052282, 0.22631998, 0.01330353],\n",
       "       [0.22631998, 0.22631998, 0.00028829],\n",
       "       [0.01330353, 0.00028829, 0.22631998]])"
      ]
     },
     "execution_count": 56,
     "metadata": {},
     "output_type": "execute_result"
    }
   ],
   "source": [
    "circuits[i].interactions.binding_rates_dissociation"
   ]
  },
  {
   "cell_type": "code",
   "execution_count": null,
   "metadata": {},
   "outputs": [
    {
     "data": {
      "text/plain": [
       "array([[0.00150958, 0.00150958, 0.00150958],\n",
       "       [0.00150958, 0.00150958, 0.00150958],\n",
       "       [0.00150958, 0.00150958, 0.00150958]])"
      ]
     },
     "execution_count": 57,
     "metadata": {},
     "output_type": "execute_result"
    }
   ],
   "source": [
    "circuits[i].interactions.binding_rates_association"
   ]
  },
  {
   "cell_type": "code",
   "execution_count": null,
   "metadata": {},
   "outputs": [
    {
     "data": {
      "text/plain": [
       "141.0"
      ]
     },
     "execution_count": 58,
     "metadata": {},
     "output_type": "execute_result"
    }
   ],
   "source": [
    "config['molecular_params']['creation_rate']"
   ]
  },
  {
   "cell_type": "code",
   "execution_count": null,
   "metadata": {},
   "outputs": [
    {
     "data": {
      "text/plain": [
       "0.3525"
      ]
     },
     "execution_count": 59,
     "metadata": {},
     "output_type": "execute_result"
    }
   ],
   "source": [
    "config['molecular_params']['degradation_rate']\n"
   ]
  },
  {
   "cell_type": "code",
   "execution_count": null,
   "metadata": {},
   "outputs": [
    {
     "name": "stderr",
     "output_type": "stream",
     "text": [
      "circuit_manager_new.py:batch_circuits():565: \tFrom 10 circuits, a total of 10 mutated circuits will be simulated. WARNING\n",
      "circuit_manager_new.py:batch_circuits():572: \t\tStarting new round of viable circuits (0 - 10 / 10) WARNING\n",
      "circuit_manager_new.py:batch_circuits():590: \t\tMaking subcircuits 0 - 10 took 5.9e-05s WARNING\n",
      "circuit_manager_new.py:batch_circuits():596: \tBatching 0 - 10 circuits (out of 0 - 10 (total: 10)) (Circuits: 0 - 10 of 10) WARNING\n",
      "circuit_manager_new.py:run_batch():627: \t\tRunning 10 Subcircuits - 0_weak: init_circuits WARNING\n"
     ]
    },
    {
     "name": "stdout",
     "output_type": "stream",
     "text": [
      "Done:  0:00:03.844128\n"
     ]
    },
    {
     "name": "stderr",
     "output_type": "stream",
     "text": [
      "circuit_manager_new.py:run_batch():663: \t\tMethod init_circuits took 4.510657s WARNING\n",
      "circuit_manager_new.py:run_batch():627: \t\tRunning 10 Subcircuits - 0_weak: simulate_signal_batch WARNING\n",
      "circuit_manager_new.py:prepare_internal_funcs():495: Signal differs between circuits, but only first signal used for simulation. WARNING\n",
      "circuit_manager_new.py:simulate_signal_batch():343: \t\tSimulating signal took 3.931018s WARNING\n"
     ]
    },
    {
     "name": "stdout",
     "output_type": "stream",
     "text": [
      "Done:  0:00:03.880477\n"
     ]
    },
    {
     "name": "stderr",
     "output_type": "stream",
     "text": [
      "circuit_manager_new.py:simulate_signal_batch():401: \t\tCalculating analytics took 4.445169s WARNING\n",
      "circuit_manager_new.py:run_batch():663: \t\tMethod simulate_signal_batch took 8.695191s WARNING\n",
      "circuit_manager_new.py:run_batch():627: \t\tRunning 10 Subcircuits - 0_weak: write_results WARNING\n",
      "circuit_manager_new.py:run_batch():663: \t\tMethod write_results took 6.016313s WARNING\n",
      "circuit_manager_new.py:batch_circuits():610: Single batch: 0:00:19.224581 \n",
      "Projected time: 19.224581s \n",
      "Total time: 0:00:19.224590 WARNING\n"
     ]
    }
   ],
   "source": [
    "\n",
    "circuits = circuit_modeller.batch_circuits(\n",
    "    circuits=circuits, \n",
    "    methods={\n",
    "        # \"compute_interactions\": {},\n",
    "        \"init_circuits\": {'batch': True},\n",
    "        'simulate_signal_batch': {'ref_circuit': None,\n",
    "                                  'batch': config['simulation']['use_batch_mutations']},\n",
    "        'write_results': {'no_visualisations': False, # config['experiment']['no_visualisations'],\n",
    "                          'no_numerical': False} #config['experiment']['no_numerical']}\n",
    "    }\n",
    ")"
   ]
  },
  {
   "cell_type": "code",
   "execution_count": null,
   "metadata": {},
   "outputs": [],
   "source": []
  },
  {
   "attachments": {},
   "cell_type": "markdown",
   "metadata": {},
   "source": [
    "Log\n",
    "\n",
    "1.\n",
    "q = 5\n",
    "p = 2\n",
    "-> not great\n",
    "\n",
    "2. \n",
    "q = 2\n",
    "p = 5\n",
    "-> good, the weak ones could be more step-like\n",
    "\n",
    "3. \n",
    "q = 3\n",
    "p = 5\n",
    "-> Same-looking slope for signal, but doesn't reach as high as 2. \n",
    "\n",
    "4. \n",
    "q = 2\n",
    "p = 10\n",
    "-> better, more step-like on strong, but still a bit dragging on weaker ones\n",
    "\n",
    "5. \n",
    "q = 2\n",
    "p = 15\n",
    "-> even better, more step-like, but no overshoot like you get in the no prod/deg\n",
    "\n",
    "6. \n",
    "q = 5\n",
    "p = 50\n",
    "-> spiky, but now a bit too dominating with prod / deg\n",
    "\n",
    "\n",
    "\n",
    "\n"
   ]
  },
  {
   "cell_type": "markdown",
   "metadata": {},
   "source": []
  }
 ],
 "metadata": {
  "kernelspec": {
   "display_name": "env_circuits",
   "language": "python",
   "name": "python3"
  },
  "language_info": {
   "codemirror_mode": {
    "name": "ipython",
    "version": 3
   },
   "file_extension": ".py",
   "mimetype": "text/x-python",
   "name": "python",
   "nbconvert_exporter": "python",
   "pygments_lexer": "ipython3",
   "version": "3.10.6"
  },
  "orig_nbformat": 4,
  "vscode": {
   "interpreter": {
    "hash": "276d5f3a53dec80f4d3b39052afa9841fe604ba5c7edc23f6349b29c0d703d3a"
   }
  }
 },
 "nbformat": 4,
 "nbformat_minor": 2
}
