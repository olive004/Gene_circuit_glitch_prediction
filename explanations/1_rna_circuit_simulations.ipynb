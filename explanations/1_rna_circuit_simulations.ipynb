{
 "cells": [
  {
   "attachments": {},
   "cell_type": "markdown",
   "metadata": {},
   "source": [
    "# Basic RNA circuit simulation \n",
    "\n"
   ]
  },
  {
   "cell_type": "code",
   "execution_count": 1,
   "metadata": {},
   "outputs": [],
   "source": [
    "%load_ext autoreload\n",
    "%autoreload 2"
   ]
  },
  {
   "cell_type": "code",
   "execution_count": 2,
   "metadata": {},
   "outputs": [],
   "source": [
    "from bioreaction.simulation.basic_sim import convert_model\n",
    "\n",
    "import jax\n",
    "import numpy as np\n",
    "import os\n",
    "import sys\n",
    "\n",
    "from datetime import datetime\n",
    "import matplotlib.pyplot as plt\n",
    "import seaborn as sns\n",
    "plt.style.use('seaborn-v0_8-paper')\n",
    "os.environ[\"TF_CPP_MIN_LOG_LOVEL\"] = \"0\"\n",
    "jax.config.update('jax_platform_name', 'gpu')\n",
    "\n",
    "\n",
    "if __package__ is None:\n",
    "\n",
    "    module_path = os.path.abspath(os.path.join('..'))\n",
    "    sys.path.append(module_path)\n",
    "\n",
    "    __package__ = os.path.basename(module_path)\n",
    "\n",
    "\n",
    "from src.utils.data.data_format_tools.common import load_json_as_dict\n",
    "from src.utils.common.setup_new import prepare_config, construct_circuit_from_cfg\n",
    "from src.utils.circuit.agnostic_circuits.circuit_manager_new import CircuitModeller\n",
    "from tests_local.shared import five_circuits\n",
    "\n",
    "config = load_json_as_dict('../tests_local/configs/simple_circuit.json')\n"
   ]
  },
  {
   "cell_type": "code",
   "execution_count": 3,
   "metadata": {},
   "outputs": [],
   "source": [
    "\n",
    "\n",
    "\n",
    "def update_model_rates(model, a=None, d=None, ka=None, kd=None):\n",
    "    for i, r in enumerate(model.reactions):\n",
    "        if not r.input:  # 0 -> RNA\n",
    "            if a is not None:\n",
    "                model.reactions[i].forward_rate = a[model.species.index(\n",
    "                    r.output[0])]\n",
    "                model.reactions[i].reverse_rate = 0\n",
    "        elif not r.output:  # RNA -> 0\n",
    "            if d is not None:\n",
    "                model.reactions[i].forward_rate = d[model.species.index(\n",
    "                    r.input[0])]\n",
    "                model.reactions[i].reverse_rate = 0\n",
    "        else: # unbound RNA -> bound RNA\n",
    "            if ka is not None:\n",
    "                model.reactions[i].forward_rate = ka[model.species.index(r.input[0]),\n",
    "                                                     model.species.index(r.input[1])]\n",
    "            if kd is not None:\n",
    "                model.reactions[i].reverse_rate = kd[model.species.index(r.input[0]),\n",
    "                                                     model.species.index(r.input[1])]\n",
    "    return model\n",
    "\n",
    "\n",
    "def make_params(model, scale_rates=True):\n",
    "    sim_model = convert_model(model)\n",
    "\n",
    "    if scale_rates:\n",
    "        m = np.max([sim_model.forward_rates.max(), sim_model.reverse_rates.max()])\n",
    "    else:\n",
    "        m = 1\n",
    "    inputs = sim_model.inputs\n",
    "    outputs = sim_model.outputs\n",
    "    forward_rates = sim_model.forward_rates/m\n",
    "    reverse_rates = sim_model.reverse_rates/m\n",
    "    return inputs, outputs, forward_rates, reverse_rates, m"
   ]
  },
  {
   "attachments": {},
   "cell_type": "markdown",
   "metadata": {},
   "source": [
    "Use the 5 tester circuits :)"
   ]
  },
  {
   "cell_type": "code",
   "execution_count": 8,
   "metadata": {},
   "outputs": [
    {
     "name": "stderr",
     "output_type": "stream",
     "text": [
      "experiment_loading.py:load_units():35: Units unknown - supply a valid experiment directory instead of ../tests_local/configs/binding_rates_dissociation/0_weak_binding_rates_dissociation.csv WARNING\n",
      "experiment_loading.py:load_units():35: Units unknown - supply a valid experiment directory instead of ../tests_local/configs/eqconstants/0_weak_eqconstants.csv WARNING\n",
      "experiment_loading.py:load_units():35: Units unknown - supply a valid experiment directory instead of ../tests_local/configs/energies/0_weak_energies.csv WARNING\n",
      "experiment_loading.py:load_units():35: Units unknown - supply a valid experiment directory instead of ../tests_local/configs/binding_sites/0_weak_binding_sites.csv WARNING\n",
      "experiment_loading.py:load_units():35: Units unknown - supply a valid experiment directory instead of ../tests_local/configs/binding_rates_dissociation/1_med_weak_binding_rates_dissociation.csv WARNING\n",
      "experiment_loading.py:load_units():35: Units unknown - supply a valid experiment directory instead of ../tests_local/configs/eqconstants/1_med_weak_eqconstants.csv WARNING\n",
      "experiment_loading.py:load_units():35: Units unknown - supply a valid experiment directory instead of ../tests_local/configs/energies/1_med_weak_energies.csv WARNING\n",
      "experiment_loading.py:load_units():35: Units unknown - supply a valid experiment directory instead of ../tests_local/configs/binding_sites/1_med_weak_binding_sites.csv WARNING\n",
      "experiment_loading.py:load_units():35: Units unknown - supply a valid experiment directory instead of ../tests_local/configs/binding_rates_dissociation/2_medium_binding_rates_dissociation.csv WARNING\n",
      "experiment_loading.py:load_units():35: Units unknown - supply a valid experiment directory instead of ../tests_local/configs/eqconstants/2_medium_eqconstants.csv WARNING\n",
      "experiment_loading.py:load_units():35: Units unknown - supply a valid experiment directory instead of ../tests_local/configs/energies/2_medium_energies.csv WARNING\n",
      "experiment_loading.py:load_units():35: Units unknown - supply a valid experiment directory instead of ../tests_local/configs/binding_sites/2_medium_binding_sites.csv WARNING\n",
      "experiment_loading.py:load_units():35: Units unknown - supply a valid experiment directory instead of ../tests_local/configs/binding_rates_dissociation/3_med_strong_binding_rates_dissociation.csv WARNING\n",
      "experiment_loading.py:load_units():35: Units unknown - supply a valid experiment directory instead of ../tests_local/configs/eqconstants/3_med_strong_eqconstants.csv WARNING\n",
      "experiment_loading.py:load_units():35: Units unknown - supply a valid experiment directory instead of ../tests_local/configs/energies/3_med_strong_energies.csv WARNING\n",
      "experiment_loading.py:load_units():35: Units unknown - supply a valid experiment directory instead of ../tests_local/configs/binding_sites/3_med_strong_binding_sites.csv WARNING\n",
      "experiment_loading.py:load_units():35: Units unknown - supply a valid experiment directory instead of ../tests_local/configs/binding_rates_dissociation/4_strong_binding_rates_dissociation.csv WARNING\n",
      "experiment_loading.py:load_units():35: Units unknown - supply a valid experiment directory instead of ../tests_local/configs/eqconstants/4_strong_eqconstants.csv WARNING\n",
      "experiment_loading.py:load_units():35: Units unknown - supply a valid experiment directory instead of ../tests_local/configs/energies/4_strong_energies.csv WARNING\n",
      "experiment_loading.py:load_units():35: Units unknown - supply a valid experiment directory instead of ../tests_local/configs/binding_sites/4_strong_binding_sites.csv WARNING\n"
     ]
    },
    {
     "data": {
      "text/plain": [
       "['loaded', 'loaded', 'loaded', 'loaded', 'loaded']"
      ]
     },
     "execution_count": 8,
     "metadata": {},
     "output_type": "execute_result"
    }
   ],
   "source": [
    "config = prepare_config(config)\n",
    "config['include_prod_deg'] = False\n",
    "config['include_prod_deg'] = True\n",
    "circuits, config, result_writer = five_circuits(config)\n",
    "\n",
    "[c.interactions_state for c in circuits]"
   ]
  },
  {
   "cell_type": "code",
   "execution_count": 9,
   "metadata": {},
   "outputs": [],
   "source": [
    "\n",
    "\n",
    "\n",
    "\n",
    "def load_circuit(top_dir, circuit_name, config):\n",
    "    dp = os.path.join(top_dir, 'circuits', circuit_name + '.fasta')\n",
    "    interactions = {'binding_rates_association': config['molecular_params']['association_binding_rate' + '_per_molecule'],\n",
    "                    'binding_rates_dissociation': os.path.join(top_dir, 'binding_rates_dissociation', circuit_name + '_' + 'binding_rates_dissociation' + '.csv'),\n",
    "                    'eqconstants': os.path.join(top_dir, 'eqconstants', circuit_name + '_' + 'eqconstants' + '.csv'),\n",
    "                    'energies': os.path.join(top_dir, 'energies', circuit_name + '_' + 'energies' + '.csv'),\n",
    "                    'binding_sites': os.path.join(top_dir, 'binding_sites', circuit_name + '_' + 'binding_sites' + '.csv')}\n",
    "    \n",
    "    return construct_circuit_from_cfg({\n",
    "        'data_path': dp,\n",
    "        'interactions': interactions\n",
    "    }, config)\n",
    "\n",
    "\n",
    "tester_circuit = load_circuit(top_dir='data/ensemble_mutation_effect_analysis/2023_04_04_092945/generate_species_templates',\n",
    "             circuit_name='toy_mRNA_circuit_1844', config=config)\n",
    "\n",
    "# config['interactions'] = {}\n",
    "config['interactions'] = None\n",
    "# tester_circuit = construct_circuit_from_cfg(\n",
    "#     {'data_path': '../tester.fasta'}, config)\n",
    "circuits.append(tester_circuit)\n"
   ]
  },
  {
   "cell_type": "code",
   "execution_count": 10,
   "metadata": {},
   "outputs": [
    {
     "data": {
      "text/plain": [
       "Reactions(col_labels=[\"('RNA_0', 'RNA_0')\", \"('RNA_0', 'RNA_1')\", \"('RNA_0', 'RNA_2')\", \"('RNA_1', 'RNA_1')\", \"('RNA_1', 'RNA_2')\", \"('RNA_2', 'RNA_2')\", 'RNA_0', 'RNA_1', 'RNA_2'], inputs=Array([[0., 0., 0., 0., 0., 0., 1., 0., 0.],\n",
       "       [0., 0., 0., 0., 0., 0., 0., 1., 0.],\n",
       "       [0., 0., 0., 0., 0., 0., 0., 0., 1.],\n",
       "       [1., 0., 0., 0., 0., 0., 0., 0., 0.],\n",
       "       [0., 1., 0., 0., 0., 0., 0., 0., 0.],\n",
       "       [0., 0., 1., 0., 0., 0., 0., 0., 0.],\n",
       "       [0., 0., 0., 1., 0., 0., 0., 0., 0.],\n",
       "       [0., 0., 0., 0., 1., 0., 0., 0., 0.],\n",
       "       [0., 0., 0., 0., 0., 1., 0., 0., 0.],\n",
       "       [0., 0., 0., 0., 0., 0., 2., 0., 0.],\n",
       "       [0., 0., 0., 0., 0., 0., 1., 1., 0.],\n",
       "       [0., 0., 0., 0., 0., 0., 1., 0., 1.],\n",
       "       [0., 0., 0., 0., 0., 0., 0., 2., 0.],\n",
       "       [0., 0., 0., 0., 0., 0., 0., 1., 1.],\n",
       "       [0., 0., 0., 0., 0., 0., 0., 0., 2.],\n",
       "       [0., 0., 0., 0., 0., 0., 0., 0., 0.],\n",
       "       [0., 0., 0., 0., 0., 0., 0., 0., 0.],\n",
       "       [0., 0., 0., 0., 0., 0., 0., 0., 0.]], dtype=float32), outputs=Array([[0., 0., 0., 0., 0., 0., 0., 0., 0.],\n",
       "       [0., 0., 0., 0., 0., 0., 0., 0., 0.],\n",
       "       [0., 0., 0., 0., 0., 0., 0., 0., 0.],\n",
       "       [0., 0., 0., 0., 0., 0., 0., 0., 0.],\n",
       "       [0., 0., 0., 0., 0., 0., 0., 0., 0.],\n",
       "       [0., 0., 0., 0., 0., 0., 0., 0., 0.],\n",
       "       [0., 0., 0., 0., 0., 0., 0., 0., 0.],\n",
       "       [0., 0., 0., 0., 0., 0., 0., 0., 0.],\n",
       "       [0., 0., 0., 0., 0., 0., 0., 0., 0.],\n",
       "       [1., 0., 0., 0., 0., 0., 0., 0., 0.],\n",
       "       [0., 1., 0., 0., 0., 0., 0., 0., 0.],\n",
       "       [0., 0., 1., 0., 0., 0., 0., 0., 0.],\n",
       "       [0., 0., 0., 1., 0., 0., 0., 0., 0.],\n",
       "       [0., 0., 0., 0., 1., 0., 0., 0., 0.],\n",
       "       [0., 0., 0., 0., 0., 1., 0., 0., 0.],\n",
       "       [0., 0., 0., 0., 0., 0., 1., 0., 0.],\n",
       "       [0., 0., 0., 0., 0., 0., 0., 1., 0.],\n",
       "       [0., 0., 0., 0., 0., 0., 0., 0., 1.]], dtype=float32), forward_rates=Array([1.175000e-02, 1.175000e-02, 1.175000e-02, 1.175000e-02,\n",
       "       1.175000e-02, 1.175000e-02, 1.175000e-02, 1.175000e-02,\n",
       "       1.175000e-02, 1.509581e-03, 1.509581e-03, 1.509581e-03,\n",
       "       1.509581e-03, 1.509581e-03, 1.509581e-03, 2.350000e+00,\n",
       "       2.350000e+00, 2.350000e+00], dtype=float32), reverse_rates=Array([0.        , 0.        , 0.        , 0.        , 0.        ,\n",
       "       0.        , 0.        , 0.        , 0.        , 0.22631998,\n",
       "       0.0221441 , 0.22631998, 0.22631998, 0.00376572, 0.00119097,\n",
       "       0.        , 0.        , 0.        ], dtype=float32))"
      ]
     },
     "execution_count": 10,
     "metadata": {},
     "output_type": "execute_result"
    }
   ],
   "source": [
    "tester_circuit.qreactions.reactions"
   ]
  },
  {
   "cell_type": "code",
   "execution_count": 11,
   "metadata": {},
   "outputs": [
    {
     "name": "stderr",
     "output_type": "stream",
     "text": [
      "simulator.py:check_IntaRNA_path():115: Could not detect IntaRNA on system: CompletedProcess(args='which IntaRNA', returncode=1, stdout='', stderr='') WARNING\n",
      "circuit_manager_new.py:batch_circuits():543: \tFrom 6 circuits, a total of 6 mutated circuits will be simulated. WARNING\n",
      "circuit_manager_new.py:batch_circuits():550: \t\tStarting new round of viable circuits (0 - 6 / 6) WARNING\n",
      "circuit_manager_new.py:batch_circuits():568: \t\tMaking subcircuits 0 - 6 took 1.4e-05s WARNING\n",
      "circuit_manager_new.py:batch_circuits():574: \tBatching 0 - 6 circuits (out of 0 - 6 (total: 6)) (Circuits: 0 - 6 of 6) WARNING\n",
      "circuit_manager_new.py:run_batch():605: \t\tRunning 6 Subcircuits - 0_weak: compute_interactions WARNING\n",
      "circuit_manager_new.py:run_batch():641: \t\tMethod compute_interactions took 0.026857s WARNING\n",
      "circuit_manager_new.py:run_batch():605: \t\tRunning 6 Subcircuits - 0_weak: init_circuits WARNING\n",
      "circuit_manager_new.py:run_batch():641: \t\tMethod init_circuits took 1.545532s WARNING\n",
      "circuit_manager_new.py:run_batch():605: \t\tRunning 6 Subcircuits - 0_weak: simulate_signal_batch WARNING\n",
      "circuit_manager_new.py:prepare_internal_funcs():474: Signal differs between circuits, but only first signal used for simulation. WARNING\n"
     ]
    },
    {
     "name": "stdout",
     "output_type": "stream",
     "text": [
      "Done:  0:00:01.470173\n"
     ]
    },
    {
     "name": "stderr",
     "output_type": "stream",
     "text": [
      "circuit_manager_new.py:simulate_signal_batch():322: \t\tSimulating signal took 1.795047s WARNING\n"
     ]
    },
    {
     "name": "stdout",
     "output_type": "stream",
     "text": [
      "Done:  0:00:01.776227\n"
     ]
    },
    {
     "name": "stderr",
     "output_type": "stream",
     "text": [
      "circuit_manager_new.py:simulate_signal_batch():380: \t\tCalculating analytics took 1.052874s WARNING\n",
      "circuit_manager_new.py:run_batch():641: \t\tMethod simulate_signal_batch took 2.930836s WARNING\n",
      "circuit_manager_new.py:run_batch():605: \t\tRunning 6 Subcircuits - 0_weak: write_results WARNING\n",
      "circuit_manager_new.py:run_batch():641: \t\tMethod write_results took 1.822476s WARNING\n",
      "circuit_manager_new.py:batch_circuits():588: Single batch: 0:00:06.328412 \n",
      "Projected time: 6.328412s \n",
      "Total time: 0:00:06.328422 WARNING\n"
     ]
    }
   ],
   "source": [
    "\n",
    "circuit_modeller = CircuitModeller(result_writer=result_writer, config=config)\n",
    "circuits = circuit_modeller.batch_circuits(\n",
    "    circuits=circuits,\n",
    "    methods={\n",
    "        \"compute_interactions\": {},\n",
    "        \"init_circuits\": {'batch': True},\n",
    "        'simulate_signal_batch': {'ref_circuit': None,\n",
    "                                  'batch': config['simulation']['use_batch_mutations']},\n",
    "        'write_results': {'no_visualisations': False, # config['experiment']['no_visualisations'],\n",
    "                          'no_numerical': False} #config['experiment']['no_numerical']}\n",
    "    }\n",
    ")\n"
   ]
  },
  {
   "cell_type": "code",
   "execution_count": null,
   "metadata": {},
   "outputs": [],
   "source": []
  }
 ],
 "metadata": {
  "kernelspec": {
   "display_name": "env_circuits",
   "language": "python",
   "name": "python3"
  },
  "language_info": {
   "codemirror_mode": {
    "name": "ipython",
    "version": 3
   },
   "file_extension": ".py",
   "mimetype": "text/x-python",
   "name": "python",
   "nbconvert_exporter": "python",
   "pygments_lexer": "ipython3",
   "version": "3.10.6"
  },
  "orig_nbformat": 4
 },
 "nbformat": 4,
 "nbformat_minor": 2
}
