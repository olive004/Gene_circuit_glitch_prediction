{
 "cells": [
  {
   "attachments": {},
   "cell_type": "markdown",
   "metadata": {},
   "source": [
    "# Basic RNA circuit simulation \n",
    "\n"
   ]
  },
  {
   "cell_type": "code",
   "execution_count": 56,
   "metadata": {},
   "outputs": [
    {
     "name": "stdout",
     "output_type": "stream",
     "text": [
      "The autoreload extension is already loaded. To reload it, use:\n",
      "  %reload_ext autoreload\n"
     ]
    }
   ],
   "source": [
    "%load_ext autoreload\n",
    "%autoreload 2"
   ]
  },
  {
   "cell_type": "code",
   "execution_count": 57,
   "metadata": {},
   "outputs": [],
   "source": [
    "from bioreaction.simulation.basic_sim import convert_model\n",
    "\n",
    "import jax\n",
    "import numpy as np\n",
    "import pandas as pd\n",
    "import os\n",
    "import sys\n",
    "\n",
    "from datetime import datetime\n",
    "import matplotlib.pyplot as plt\n",
    "import seaborn as sns\n",
    "plt.style.use('seaborn-v0_8-paper')\n",
    "os.environ[\"TF_CPP_MIN_LOG_LOVEL\"] = \"0\"\n",
    "jax.config.update('jax_platform_name', 'gpu')\n",
    "\n",
    "\n",
    "if __package__ is None:\n",
    "\n",
    "    module_path = os.path.abspath(os.path.join('..'))\n",
    "    sys.path.append(module_path)\n",
    "\n",
    "    __package__ = os.path.basename(module_path)\n",
    "\n",
    "\n",
    "from src.utils.data.data_format_tools.common import load_json_as_dict\n",
    "from src.utils.common.setup_new import prepare_config, construct_circuit_from_cfg\n",
    "from src.utils.circuit.agnostic_circuits.circuit_manager_new import CircuitModeller\n",
    "from src.utils.evolution.evolver import load_mutations\n",
    "from src.utils.misc.type_handling import flatten_listlike\n",
    "from src.utils.modelling.physical import equilibrium_constant_reparameterisation\n",
    "from tests_local.shared import five_circuits\n",
    "\n",
    "config = load_json_as_dict('../tests_local/configs/simple_circuit.json')\n"
   ]
  },
  {
   "cell_type": "code",
   "execution_count": 58,
   "metadata": {},
   "outputs": [],
   "source": [
    "\n",
    "\n",
    "\n",
    "def update_model_rates(model, a=None, d=None, ka=None, kd=None):\n",
    "    for i, r in enumerate(model.reactions):\n",
    "        if not r.input:  # 0 -> RNA\n",
    "            if a is not None:\n",
    "                model.reactions[i].forward_rate = a[model.species.index(\n",
    "                    r.output[0])]\n",
    "                model.reactions[i].reverse_rate = 0\n",
    "        elif not r.output:  # RNA -> 0\n",
    "            if d is not None:\n",
    "                model.reactions[i].forward_rate = d[model.species.index(\n",
    "                    r.input[0])]\n",
    "                model.reactions[i].reverse_rate = 0\n",
    "        else: # unbound RNA -> bound RNA\n",
    "            if ka is not None:\n",
    "                model.reactions[i].forward_rate = ka[model.species.index(r.input[0]),\n",
    "                                                     model.species.index(r.input[1])]\n",
    "            if kd is not None:\n",
    "                model.reactions[i].reverse_rate = kd[model.species.index(r.input[0]),\n",
    "                                                     model.species.index(r.input[1])]\n",
    "    return model\n",
    "\n",
    "\n",
    "def make_params(model, scale_rates=True):\n",
    "    sim_model = convert_model(model)\n",
    "\n",
    "    if scale_rates:\n",
    "        m = np.max([sim_model.forward_rates.max(), sim_model.reverse_rates.max()])\n",
    "    else:\n",
    "        m = 1\n",
    "    inputs = sim_model.inputs\n",
    "    outputs = sim_model.outputs\n",
    "    forward_rates = sim_model.forward_rates/m\n",
    "    reverse_rates = sim_model.reverse_rates/m\n",
    "    return inputs, outputs, forward_rates, reverse_rates, m"
   ]
  },
  {
   "attachments": {},
   "cell_type": "markdown",
   "metadata": {},
   "source": [
    "Use the 5 tester circuits :)"
   ]
  },
  {
   "cell_type": "code",
   "execution_count": 59,
   "metadata": {},
   "outputs": [
    {
     "name": "stderr",
     "output_type": "stream",
     "text": [
      "experiment_loading.py:load_units():35: Units unknown - supply a valid experiment directory instead of ../tests_local/configs/binding_rates_dissociation/0_weak_binding_rates_dissociation.csv WARNING\n",
      "experiment_loading.py:load_units():35: Units unknown - supply a valid experiment directory instead of ../tests_local/configs/eqconstants/0_weak_eqconstants.csv WARNING\n",
      "experiment_loading.py:load_units():35: Units unknown - supply a valid experiment directory instead of ../tests_local/configs/energies/0_weak_energies.csv WARNING\n",
      "experiment_loading.py:load_units():35: Units unknown - supply a valid experiment directory instead of ../tests_local/configs/binding_sites/0_weak_binding_sites.csv WARNING\n",
      "experiment_loading.py:load_units():35: Units unknown - supply a valid experiment directory instead of ../tests_local/configs/binding_rates_dissociation/1_med_weak_binding_rates_dissociation.csv WARNING\n",
      "experiment_loading.py:load_units():35: Units unknown - supply a valid experiment directory instead of ../tests_local/configs/eqconstants/1_med_weak_eqconstants.csv WARNING\n",
      "experiment_loading.py:load_units():35: Units unknown - supply a valid experiment directory instead of ../tests_local/configs/energies/1_med_weak_energies.csv WARNING\n",
      "experiment_loading.py:load_units():35: Units unknown - supply a valid experiment directory instead of ../tests_local/configs/binding_sites/1_med_weak_binding_sites.csv WARNING\n",
      "experiment_loading.py:load_units():35: Units unknown - supply a valid experiment directory instead of ../tests_local/configs/binding_rates_dissociation/2_medium_binding_rates_dissociation.csv WARNING\n",
      "experiment_loading.py:load_units():35: Units unknown - supply a valid experiment directory instead of ../tests_local/configs/eqconstants/2_medium_eqconstants.csv WARNING\n",
      "experiment_loading.py:load_units():35: Units unknown - supply a valid experiment directory instead of ../tests_local/configs/energies/2_medium_energies.csv WARNING\n",
      "experiment_loading.py:load_units():35: Units unknown - supply a valid experiment directory instead of ../tests_local/configs/binding_sites/2_medium_binding_sites.csv WARNING\n",
      "experiment_loading.py:load_units():35: Units unknown - supply a valid experiment directory instead of ../tests_local/configs/binding_rates_dissociation/3_med_strong_binding_rates_dissociation.csv WARNING\n",
      "experiment_loading.py:load_units():35: Units unknown - supply a valid experiment directory instead of ../tests_local/configs/eqconstants/3_med_strong_eqconstants.csv WARNING\n",
      "experiment_loading.py:load_units():35: Units unknown - supply a valid experiment directory instead of ../tests_local/configs/energies/3_med_strong_energies.csv WARNING\n",
      "experiment_loading.py:load_units():35: Units unknown - supply a valid experiment directory instead of ../tests_local/configs/binding_sites/3_med_strong_binding_sites.csv WARNING\n",
      "experiment_loading.py:load_units():35: Units unknown - supply a valid experiment directory instead of ../tests_local/configs/binding_rates_dissociation/4_strong_binding_rates_dissociation.csv WARNING\n",
      "experiment_loading.py:load_units():35: Units unknown - supply a valid experiment directory instead of ../tests_local/configs/eqconstants/4_strong_eqconstants.csv WARNING\n",
      "experiment_loading.py:load_units():35: Units unknown - supply a valid experiment directory instead of ../tests_local/configs/energies/4_strong_energies.csv WARNING\n",
      "experiment_loading.py:load_units():35: Units unknown - supply a valid experiment directory instead of ../tests_local/configs/binding_sites/4_strong_binding_sites.csv WARNING\n"
     ]
    }
   ],
   "source": [
    "config = prepare_config(config)\n",
    "config['include_prod_deg'] = False\n",
    "config['simulation']['use_rate_scaling'] = False\n",
    "\n",
    "q = 1\n",
    "p = 1\n",
    "config['molecular_params_factor'] = p\n",
    "config['simulation']['interaction_factor'] = 1\n",
    "config['molecular_params']['creation_rate'] = config['molecular_params']['creation_rate'] * q\n",
    "config['molecular_params']['creation_rate' + '_per_molecule'] = config['molecular_params']['creation_rate' + '_per_molecule'] * q\n",
    "# config['simulation']['dt'] = 0.1\n",
    "# config['molecular_params']['creation_rate'] = config['molecular_params']['creation_rate'] * p\n",
    "# config['molecular_params']['degradation_rate'] = config['molecular_params']['degradation_rate'] * p\n",
    "circuits, config, result_writer = five_circuits(config)"
   ]
  },
  {
   "cell_type": "code",
   "execution_count": 60,
   "metadata": {},
   "outputs": [],
   "source": [
    "\n",
    "\n",
    "def load_circuit(top_dir, circuit_name, config):\n",
    "    dp = os.path.join(top_dir, 'circuits', circuit_name + '.fasta')\n",
    "    interactions = {'binding_rates_association': config['molecular_params']['association_binding_rate' + '_per_molecule'],\n",
    "                    'binding_rates_dissociation': os.path.join(top_dir, 'binding_rates_dissociation', circuit_name + '_' + 'binding_rates_dissociation' + '.csv'),\n",
    "                    'eqconstants': os.path.join(top_dir, 'eqconstants', circuit_name + '_' + 'eqconstants' + '.csv'),\n",
    "                    'energies': os.path.join(top_dir, 'energies', circuit_name + '_' + 'energies' + '.csv'),\n",
    "                    'binding_sites': os.path.join(top_dir, 'binding_sites', circuit_name + '_' + 'binding_sites' + '.csv')}\n",
    "\n",
    "    return construct_circuit_from_cfg({\n",
    "        'data_path': dp,\n",
    "        'interactions': interactions\n",
    "    }, config)\n",
    "\n",
    "\n",
    "# tester_circuit = load_circuit(top_dir='data/ensemble_mutation_effect_analysis/2023_04_04_092945/generate_species_templates',\n",
    "#              circuit_name='toy_mRNA_circuit_1844', config=config)\n",
    "\n",
    "\n",
    "# tester_circuits = []\n",
    "# for name in ['toy_mRNA_circuit_21566', 'toy_mRNA_circuit_24706', 'toy_mRNA_circuit_19768', 'toy_mRNA_circuit_2983', 'toy_mRNA_circuit_22658']:\n",
    "#     fn = os.path.join('..', 'data/ensemble_mutation_effect_analysis/2023_04_11_192013/mutation_effect_on_interactions_signal', name, 'mutations.csv')\n",
    "#     tester_circuit = load_circuit(top_dir='data/ensemble_mutation_effect_analysis/2023_04_04_092945/generate_species_templates',\n",
    "#                                         circuit_name=name, config=config)\n",
    "#     tester_circuit = load_mutations(tester_circuit, fn)\n",
    "#     tester_circuits.append(tester_circuit)\n",
    "\n",
    "# config['interactions'] = {}\n",
    "# config['interactions'] = None\n",
    "# tester_circuit = construct_circuit_from_cfg(\n",
    "#     {'data_path': '../tester.fasta'}, config)\n",
    "# [circuits.append(tester_circuit) for tester_circuit in tester_circuits]\n"
   ]
  },
  {
   "cell_type": "code",
   "execution_count": 78,
   "metadata": {},
   "outputs": [
    {
     "name": "stderr",
     "output_type": "stream",
     "text": [
      "interactions.py:isolate_circuit_name():122: Could not find circuit name in explanations/binding_rates_dissociation.csv WARNING\n",
      "experiment_loading.py:load_units():35: Units unknown - supply a valid experiment directory instead of explanations/binding_rates_dissociation.csv WARNING\n",
      "interactions.py:isolate_circuit_name():122: Could not find circuit name in explanations/eqconstants.csv WARNING\n",
      "experiment_loading.py:load_units():35: Units unknown - supply a valid experiment directory instead of explanations/eqconstants.csv WARNING\n"
     ]
    }
   ],
   "source": [
    "\n",
    "\n",
    "def load_fake_circuit(eqconstants):\n",
    "    top_dir = 'data/ensemble_mutation_effect_analysis/2023_04_04_092945/generate_species_templates'\n",
    "    circuit_name = 'toy_mRNA_circuit_1844'\n",
    "    some_circuit = os.path.join(top_dir, 'circuits', circuit_name + '.fasta')\n",
    "\n",
    "    k_a = config['molecular_params']['association_binding_rate' + '_per_molecule']\n",
    "\n",
    "    def eqconstant_to_rates(eqconstants):\n",
    "        \"\"\" Translate the equilibrium rate of binding to\n",
    "        the rate of binding (either association or dissociation\n",
    "        rate - in this case dissociation). Input in mol, output in molecules:\n",
    "        k_a: binding rate per Ms\n",
    "        eqconstants: unitless but in terms of mol\n",
    "        k_d: unbinding rate per s\"\"\"\n",
    "        k_d = np.divide(k_a, eqconstants)\n",
    "        return k_a*np.ones_like(k_d), k_d\n",
    "\n",
    "    binding_rates_dissociation = eqconstant_to_rates(eqconstants)[1]\n",
    "\n",
    "    labels = ['RNA_0', 'RNA_1', 'RNA_2']\n",
    "    pd.DataFrame(eqconstants, columns=labels, index=labels).to_csv(\n",
    "        'eqconstants.csv', index=None)\n",
    "    pd.DataFrame(binding_rates_dissociation, columns=labels, index=labels).to_csv('binding_rates_dissociation.csv', index=None)\n",
    "\n",
    "    interactions = {'binding_rates_association': config['molecular_params']['association_binding_rate' + '_per_molecule'],\n",
    "                    'binding_rates_dissociation': os.path.join('explanations', 'binding_rates_dissociation' + '.csv'),\n",
    "                    'eqconstants': os.path.join('explanations', 'eqconstants' + '.csv'),\n",
    "                    'energies': os.path.join(top_dir, 'energies', circuit_name + '_' + 'energies' + '.csv'),\n",
    "                    'binding_sites': os.path.join(top_dir, 'binding_sites', circuit_name + '_' + 'binding_sites' + '.csv')}\n",
    "    return construct_circuit_from_cfg({\n",
    "        'data_path': some_circuit,\n",
    "        'interactions': interactions\n",
    "    }, config)\n",
    "\n",
    "\n",
    "eqconstants_4337 = np.array([[1e2, 1e2, 5e0],\n",
    "                             [1e2, 1e-02, 1e2],\n",
    "                             [5e0, 1e2, 1e-02]])\n",
    "\n",
    "tester_circuit = load_fake_circuit(eqconstants_4337)\n",
    "\n",
    "circuits.append(tester_circuit)\n"
   ]
  },
  {
   "cell_type": "code",
   "execution_count": 70,
   "metadata": {},
   "outputs": [
    {
     "data": {
      "text/plain": [
       "0.00150958097"
      ]
     },
     "execution_count": 70,
     "metadata": {},
     "output_type": "execute_result"
    }
   ],
   "source": [
    "config['molecular_params']['association_binding_rate' + '_per_molecule']"
   ]
  },
  {
   "cell_type": "code",
   "execution_count": 77,
   "metadata": {},
   "outputs": [
    {
     "name": "stderr",
     "output_type": "stream",
     "text": [
      "simulator.py:check_IntaRNA_path():115: Could not detect IntaRNA on system: CompletedProcess(args='which IntaRNA', returncode=1, stdout='', stderr='') WARNING\n",
      "circuit_manager_new.py:batch_circuits():572: \tFrom 8 circuits, a total of 8 mutated circuits will be simulated. WARNING\n",
      "circuit_manager_new.py:batch_circuits():579: \t\tStarting new round of viable circuits (0 - 8 / 8) WARNING\n",
      "circuit_manager_new.py:batch_circuits():597: \t\tMaking subcircuits 0 - 8 took 0.000107s WARNING\n",
      "circuit_manager_new.py:batch_circuits():603: \tBatching 0 - 100 circuits (out of 0 - 8 (total: 8)) (Circuits: 0 - 8 of 8) WARNING\n",
      "circuit_manager_new.py:run_batch():634: \t\tRunning 8 Subcircuits - 0_weak: compute_interactions WARNING\n"
     ]
    },
    {
     "ename": "ValueError",
     "evalue": "Shape of passed values is (3, 4), indices imply (3, 3)",
     "output_type": "error",
     "traceback": [
      "\u001b[0;31m---------------------------------------------------------------------------\u001b[0m",
      "\u001b[0;31mValueError\u001b[0m                                Traceback (most recent call last)",
      "Cell \u001b[0;32mIn[77], line 3\u001b[0m\n\u001b[1;32m      2\u001b[0m circuit_modeller \u001b[39m=\u001b[39m CircuitModeller(result_writer\u001b[39m=\u001b[39mresult_writer, config\u001b[39m=\u001b[39mconfig)\n\u001b[0;32m----> 3\u001b[0m circuits \u001b[39m=\u001b[39m circuit_modeller\u001b[39m.\u001b[39;49mbatch_circuits(\n\u001b[1;32m      4\u001b[0m     circuits\u001b[39m=\u001b[39;49mcircuits, methods\u001b[39m=\u001b[39;49m{\u001b[39m\"\u001b[39;49m\u001b[39mcompute_interactions\u001b[39;49m\u001b[39m\"\u001b[39;49m: {}},\n\u001b[1;32m      5\u001b[0m     batch_size\u001b[39m=\u001b[39;49mconfig[\u001b[39m'\u001b[39;49m\u001b[39msimulation\u001b[39;49m\u001b[39m'\u001b[39;49m][\u001b[39m'\u001b[39;49m\u001b[39mbatch_size\u001b[39;49m\u001b[39m'\u001b[39;49m])\n\u001b[1;32m      6\u001b[0m i \u001b[39m=\u001b[39m \u001b[39m-\u001b[39m\u001b[39m1\u001b[39m\n\u001b[1;32m      7\u001b[0m \u001b[39m# for i in range(len(circuits)):\u001b[39;00m\n\u001b[1;32m      8\u001b[0m \u001b[39m#     circuits[i].interactions.binding_rates_association = circuits[i].interactions.binding_rates_association * q\u001b[39;00m\n\u001b[1;32m      9\u001b[0m \u001b[39m#     circuits[i].interactions.binding_rates_dissociation = circuits[i].interactions.binding_rates_dissociation * q\u001b[39;00m\n\u001b[1;32m     10\u001b[0m \u001b[39m#     circuits[i].update_species_simulated_rates(circuits[i].interactions)\u001b[39;00m\n",
      "File \u001b[0;32m~/Kode/gene-circuit-glitch-prediction/src/utils/circuit/agnostic_circuits/circuit_manager_new.py:611\u001b[0m, in \u001b[0;36mCircuitModeller.batch_circuits\u001b[0;34m(self, circuits, methods, batch_size, include_normal_run, write_to_subsystem)\u001b[0m\n\u001b[1;32m    609\u001b[0m     \u001b[39mif\u001b[39;00m \u001b[39mnot\u001b[39;00m b_circuits:\n\u001b[1;32m    610\u001b[0m         \u001b[39mcontinue\u001b[39;00m\n\u001b[0;32m--> 611\u001b[0m     ref_circuit \u001b[39m=\u001b[39m \u001b[39mself\u001b[39;49m\u001b[39m.\u001b[39;49mrun_batch(\n\u001b[1;32m    612\u001b[0m         b_circuits, methods, leading_ref_circuit\u001b[39m=\u001b[39;49mref_circuit,\n\u001b[1;32m    613\u001b[0m         include_normal_run\u001b[39m=\u001b[39;49minclude_normal_run,\n\u001b[1;32m    614\u001b[0m         write_to_subsystem\u001b[39m=\u001b[39;49mwrite_to_subsystem)\n\u001b[1;32m    616\u001b[0m single_batch_time \u001b[39m=\u001b[39m datetime\u001b[39m.\u001b[39mnow() \u001b[39m-\u001b[39m single_batch_time\n\u001b[1;32m    617\u001b[0m logging\u001b[39m.\u001b[39mwarning(\n\u001b[1;32m    618\u001b[0m     \u001b[39mf\u001b[39m\u001b[39m'\u001b[39m\u001b[39mSingle batch: \u001b[39m\u001b[39m{\u001b[39;00msingle_batch_time\u001b[39m}\u001b[39;00m\u001b[39m \u001b[39m\u001b[39m\\n\u001b[39;00m\u001b[39mProjected time: \u001b[39m\u001b[39m{\u001b[39;00msingle_batch_time\u001b[39m.\u001b[39mtotal_seconds() \u001b[39m*\u001b[39m \u001b[39mlen\u001b[39m(subcircuits)\u001b[39m/\u001b[39mtot_subcircuits\u001b[39m}\u001b[39;00m\u001b[39ms \u001b[39m\u001b[39m\\n\u001b[39;00m\u001b[39mTotal time: \u001b[39m\u001b[39m{\u001b[39;00m\u001b[39mstr\u001b[39m(datetime\u001b[39m.\u001b[39mnow() \u001b[39m-\u001b[39m start_time)\u001b[39m}\u001b[39;00m\u001b[39m'\u001b[39m)\n",
      "File \u001b[0;32m~/Kode/gene-circuit-glitch-prediction/src/utils/circuit/agnostic_circuits/circuit_manager_new.py:663\u001b[0m, in \u001b[0;36mCircuitModeller.run_batch\u001b[0;34m(self, subcircuits, methods, leading_ref_circuit, include_normal_run, write_to_subsystem)\u001b[0m\n\u001b[1;32m    660\u001b[0m         \u001b[39mcontinue\u001b[39;00m\n\u001b[1;32m    662\u001b[0m a_time \u001b[39m=\u001b[39m datetime\u001b[39m.\u001b[39mnow()\n\u001b[0;32m--> 663\u001b[0m subcircuit \u001b[39m=\u001b[39m \u001b[39mself\u001b[39;49m\u001b[39m.\u001b[39;49mapply_to_circuit(\n\u001b[1;32m    664\u001b[0m     subcircuit, {method: kwargs})\n\u001b[1;32m    665\u001b[0m a_time \u001b[39m=\u001b[39m datetime\u001b[39m.\u001b[39mnow() \u001b[39m-\u001b[39m a_time\n\u001b[1;32m    666\u001b[0m subcircuits[i] \u001b[39m=\u001b[39m subcircuit\n",
      "File \u001b[0;32m~/Kode/gene-circuit-glitch-prediction/src/utils/circuit/agnostic_circuits/circuit_manager_new.py:682\u001b[0m, in \u001b[0;36mCircuitModeller.apply_to_circuit\u001b[0;34m(self, circuit, methods)\u001b[0m\n\u001b[1;32m    680\u001b[0m \u001b[39mfor\u001b[39;00m method, kwargs \u001b[39min\u001b[39;00m methods\u001b[39m.\u001b[39mitems():\n\u001b[1;32m    681\u001b[0m     \u001b[39mif\u001b[39;00m \u001b[39mhasattr\u001b[39m(\u001b[39mself\u001b[39m, method):\n\u001b[0;32m--> 682\u001b[0m         circuit \u001b[39m=\u001b[39m \u001b[39mgetattr\u001b[39;49m(\u001b[39mself\u001b[39;49m, method)(circuit, \u001b[39m*\u001b[39;49m\u001b[39m*\u001b[39;49mkwargs)\n\u001b[1;32m    683\u001b[0m     \u001b[39melse\u001b[39;00m:\n\u001b[1;32m    684\u001b[0m         logging\u001b[39m.\u001b[39mwarning(\n\u001b[1;32m    685\u001b[0m             \u001b[39mf\u001b[39m\u001b[39m'\u001b[39m\u001b[39mCould not find method @\u001b[39m\u001b[39m{\u001b[39;00mmethod\u001b[39m}\u001b[39;00m\u001b[39m in class \u001b[39m\u001b[39m{\u001b[39;00m\u001b[39mself\u001b[39m\u001b[39m}\u001b[39;00m\u001b[39m'\u001b[39m)\n",
      "File \u001b[0;32m~/Kode/gene-circuit-glitch-prediction/src/utils/circuit/agnostic_circuits/circuit_manager_new.py:106\u001b[0m, in \u001b[0;36mCircuitModeller.compute_interactions\u001b[0;34m(self, circuit)\u001b[0m\n\u001b[1;32m    102\u001b[0m \u001b[39mfor\u001b[39;00m filename_addon \u001b[39min\u001b[39;00m \u001b[39msorted\u001b[39m(INTERACTION_FIELDS_TO_WRITE):\n\u001b[1;32m    103\u001b[0m     interaction_matrix \u001b[39m=\u001b[39m circuit\u001b[39m.\u001b[39minteractions\u001b[39m.\u001b[39m\u001b[39m__getattribute__\u001b[39m(\n\u001b[1;32m    104\u001b[0m         filename_addon)\n\u001b[1;32m    105\u001b[0m     \u001b[39mself\u001b[39m\u001b[39m.\u001b[39mresult_writer\u001b[39m.\u001b[39moutput(\n\u001b[0;32m--> 106\u001b[0m         data\u001b[39m=\u001b[39minteractions_to_df(\n\u001b[1;32m    107\u001b[0m             interaction_matrix,\n\u001b[1;32m    108\u001b[0m             labels\u001b[39m=\u001b[39;49m\u001b[39msorted\u001b[39;49m([s\u001b[39m.\u001b[39;49mname \u001b[39mfor\u001b[39;49;00m s \u001b[39min\u001b[39;49;00m get_unique(flatten_listlike(circuit\u001b[39m.\u001b[39;49mget_input_species()))])),\n\u001b[1;32m    109\u001b[0m         out_type\u001b[39m=\u001b[39m\u001b[39m'\u001b[39m\u001b[39mcsv\u001b[39m\u001b[39m'\u001b[39m, out_name\u001b[39m=\u001b[39mcircuit\u001b[39m.\u001b[39mname,\n\u001b[1;32m    110\u001b[0m         overwrite\u001b[39m=\u001b[39m\u001b[39mTrue\u001b[39;00m, new_file\u001b[39m=\u001b[39m\u001b[39mTrue\u001b[39;00m,\n\u001b[1;32m    111\u001b[0m         filename_addon\u001b[39m=\u001b[39mfilename_addon, subfolder\u001b[39m=\u001b[39mfilename_addon)\n\u001b[1;32m    112\u001b[0m \u001b[39mreturn\u001b[39;00m circuit\n",
      "File \u001b[0;32m~/Kode/gene-circuit-glitch-prediction/src/utils/circuit/agnostic_circuits/circuit_new.py:31\u001b[0m, in \u001b[0;36minteractions_to_df\u001b[0;34m(interactions, labels)\u001b[0m\n\u001b[1;32m     30\u001b[0m \u001b[39mdef\u001b[39;00m \u001b[39minteractions_to_df\u001b[39m(interactions: Union[np\u001b[39m.\u001b[39mndarray, \u001b[39mlist\u001b[39m], labels: \u001b[39mlist\u001b[39m):\n\u001b[0;32m---> 31\u001b[0m     \u001b[39mreturn\u001b[39;00m pd\u001b[39m.\u001b[39;49mDataFrame(data\u001b[39m=\u001b[39;49minteractions, columns\u001b[39m=\u001b[39;49mlabels, index\u001b[39m=\u001b[39;49mlabels)\n",
      "File \u001b[0;32m~/Kode/env_circuits/lib/python3.10/site-packages/pandas/core/frame.py:721\u001b[0m, in \u001b[0;36mDataFrame.__init__\u001b[0;34m(self, data, index, columns, dtype, copy)\u001b[0m\n\u001b[1;32m    711\u001b[0m         mgr \u001b[39m=\u001b[39m dict_to_mgr(\n\u001b[1;32m    712\u001b[0m             \u001b[39m# error: Item \"ndarray\" of \"Union[ndarray, Series, Index]\" has no\u001b[39;00m\n\u001b[1;32m    713\u001b[0m             \u001b[39m# attribute \"name\"\u001b[39;00m\n\u001b[0;32m   (...)\u001b[0m\n\u001b[1;32m    718\u001b[0m             typ\u001b[39m=\u001b[39mmanager,\n\u001b[1;32m    719\u001b[0m         )\n\u001b[1;32m    720\u001b[0m     \u001b[39melse\u001b[39;00m:\n\u001b[0;32m--> 721\u001b[0m         mgr \u001b[39m=\u001b[39m ndarray_to_mgr(\n\u001b[1;32m    722\u001b[0m             data,\n\u001b[1;32m    723\u001b[0m             index,\n\u001b[1;32m    724\u001b[0m             columns,\n\u001b[1;32m    725\u001b[0m             dtype\u001b[39m=\u001b[39;49mdtype,\n\u001b[1;32m    726\u001b[0m             copy\u001b[39m=\u001b[39;49mcopy,\n\u001b[1;32m    727\u001b[0m             typ\u001b[39m=\u001b[39;49mmanager,\n\u001b[1;32m    728\u001b[0m         )\n\u001b[1;32m    730\u001b[0m \u001b[39m# For data is list-like, or Iterable (will consume into list)\u001b[39;00m\n\u001b[1;32m    731\u001b[0m \u001b[39melif\u001b[39;00m is_list_like(data):\n",
      "File \u001b[0;32m~/Kode/env_circuits/lib/python3.10/site-packages/pandas/core/internals/construction.py:349\u001b[0m, in \u001b[0;36mndarray_to_mgr\u001b[0;34m(values, index, columns, dtype, copy, typ)\u001b[0m\n\u001b[1;32m    344\u001b[0m \u001b[39m# _prep_ndarraylike ensures that values.ndim == 2 at this point\u001b[39;00m\n\u001b[1;32m    345\u001b[0m index, columns \u001b[39m=\u001b[39m _get_axes(\n\u001b[1;32m    346\u001b[0m     values\u001b[39m.\u001b[39mshape[\u001b[39m0\u001b[39m], values\u001b[39m.\u001b[39mshape[\u001b[39m1\u001b[39m], index\u001b[39m=\u001b[39mindex, columns\u001b[39m=\u001b[39mcolumns\n\u001b[1;32m    347\u001b[0m )\n\u001b[0;32m--> 349\u001b[0m _check_values_indices_shape_match(values, index, columns)\n\u001b[1;32m    351\u001b[0m \u001b[39mif\u001b[39;00m typ \u001b[39m==\u001b[39m \u001b[39m\"\u001b[39m\u001b[39marray\u001b[39m\u001b[39m\"\u001b[39m:\n\u001b[1;32m    353\u001b[0m     \u001b[39mif\u001b[39;00m \u001b[39missubclass\u001b[39m(values\u001b[39m.\u001b[39mdtype\u001b[39m.\u001b[39mtype, \u001b[39mstr\u001b[39m):\n",
      "File \u001b[0;32m~/Kode/env_circuits/lib/python3.10/site-packages/pandas/core/internals/construction.py:420\u001b[0m, in \u001b[0;36m_check_values_indices_shape_match\u001b[0;34m(values, index, columns)\u001b[0m\n\u001b[1;32m    418\u001b[0m passed \u001b[39m=\u001b[39m values\u001b[39m.\u001b[39mshape\n\u001b[1;32m    419\u001b[0m implied \u001b[39m=\u001b[39m (\u001b[39mlen\u001b[39m(index), \u001b[39mlen\u001b[39m(columns))\n\u001b[0;32m--> 420\u001b[0m \u001b[39mraise\u001b[39;00m \u001b[39mValueError\u001b[39;00m(\u001b[39mf\u001b[39m\u001b[39m\"\u001b[39m\u001b[39mShape of passed values is \u001b[39m\u001b[39m{\u001b[39;00mpassed\u001b[39m}\u001b[39;00m\u001b[39m, indices imply \u001b[39m\u001b[39m{\u001b[39;00mimplied\u001b[39m}\u001b[39;00m\u001b[39m\"\u001b[39m)\n",
      "\u001b[0;31mValueError\u001b[0m: Shape of passed values is (3, 4), indices imply (3, 3)"
     ]
    }
   ],
   "source": [
    "\n",
    "circuit_modeller = CircuitModeller(result_writer=result_writer, config=config)\n",
    "circuits = circuit_modeller.batch_circuits(\n",
    "    circuits=circuits, methods={\"compute_interactions\": {}},\n",
    "    batch_size=config['simulation']['batch_size'])\n",
    "i = -1\n",
    "# for i in range(len(circuits)):\n",
    "#     circuits[i].interactions.binding_rates_association = circuits[i].interactions.binding_rates_association * q\n",
    "#     circuits[i].interactions.binding_rates_dissociation = circuits[i].interactions.binding_rates_dissociation * q\n",
    "#     circuits[i].update_species_simulated_rates(circuits[i].interactions)\n"
   ]
  },
  {
   "cell_type": "code",
   "execution_count": null,
   "metadata": {},
   "outputs": [
    {
     "data": {
      "text/plain": [
       "array([[0.00076492, 0.00267141, 0.00150243],\n",
       "       [0.00267141, 0.00712795, 0.00601599],\n",
       "       [0.00150243, 0.00601599, 0.03157499]])"
      ]
     },
     "execution_count": 7,
     "metadata": {},
     "output_type": "execute_result"
    }
   ],
   "source": [
    "circuits[i].interactions.binding_rates_dissociation"
   ]
  },
  {
   "cell_type": "code",
   "execution_count": null,
   "metadata": {},
   "outputs": [
    {
     "data": {
      "text/plain": [
       "array([[0.00150958, 0.00150958, 0.00150958],\n",
       "       [0.00150958, 0.00150958, 0.00150958],\n",
       "       [0.00150958, 0.00150958, 0.00150958]])"
      ]
     },
     "execution_count": 8,
     "metadata": {},
     "output_type": "execute_result"
    }
   ],
   "source": [
    "circuits[i].interactions.binding_rates_association"
   ]
  },
  {
   "cell_type": "code",
   "execution_count": null,
   "metadata": {},
   "outputs": [
    {
     "data": {
      "text/plain": [
       "2.35"
      ]
     },
     "execution_count": 9,
     "metadata": {},
     "output_type": "execute_result"
    }
   ],
   "source": [
    "config['molecular_params']['creation_rate']"
   ]
  },
  {
   "cell_type": "code",
   "execution_count": null,
   "metadata": {},
   "outputs": [
    {
     "data": {
      "text/plain": [
       "0.01175"
      ]
     },
     "execution_count": 10,
     "metadata": {},
     "output_type": "execute_result"
    }
   ],
   "source": [
    "config['molecular_params']['degradation_rate']\n"
   ]
  },
  {
   "cell_type": "code",
   "execution_count": null,
   "metadata": {},
   "outputs": [
    {
     "name": "stderr",
     "output_type": "stream",
     "text": [
      "circuit_manager_new.py:batch_circuits():572: \tFrom 5 circuits, a total of 5 mutated circuits will be simulated. WARNING\n",
      "circuit_manager_new.py:batch_circuits():579: \t\tStarting new round of viable circuits (0 - 5 / 5) WARNING\n",
      "circuit_manager_new.py:batch_circuits():597: \t\tMaking subcircuits 0 - 5 took 1.3e-05s WARNING\n",
      "circuit_manager_new.py:batch_circuits():603: \tBatching 0 - 100 circuits (out of 0 - 5 (total: 5)) (Circuits: 0 - 5 of 5) WARNING\n",
      "circuit_manager_new.py:run_batch():634: \t\tRunning 5 Subcircuits - 0_weak: init_circuits WARNING\n"
     ]
    },
    {
     "name": "stdout",
     "output_type": "stream",
     "text": [
      "Steady states:  100  iterations.  1  left to steady out.  0:00:01.607484\n"
     ]
    },
    {
     "name": "stderr",
     "output_type": "stream",
     "text": [
      "circuit_manager_new.py:run_batch():670: \t\tMethod init_circuits took 3.078958s WARNING\n",
      "circuit_manager_new.py:run_batch():634: \t\tRunning 5 Subcircuits - 0_weak: simulate_signal_batch WARNING\n",
      "circuit_manager_new.py:prepare_internal_funcs():495: Signal differs between circuits, but only first signal used for simulation. WARNING\n"
     ]
    },
    {
     "name": "stdout",
     "output_type": "stream",
     "text": [
      "Done:  0:00:02.918611\n"
     ]
    },
    {
     "name": "stderr",
     "output_type": "stream",
     "text": [
      "circuit_manager_new.py:simulate_signal_batch():343: \t\tSimulating signal took 1.869021s WARNING\n"
     ]
    },
    {
     "name": "stdout",
     "output_type": "stream",
     "text": [
      "Done:  0:00:01.850394\n"
     ]
    },
    {
     "name": "stderr",
     "output_type": "stream",
     "text": [
      "circuit_manager_new.py:simulate_signal_batch():401: \t\tCalculating analytics took 1.406113s WARNING\n",
      "circuit_manager_new.py:run_batch():670: \t\tMethod simulate_signal_batch took 3.491315s WARNING\n",
      "circuit_manager_new.py:run_batch():634: \t\tRunning 5 Subcircuits - 0_weak: write_results WARNING\n",
      "circuit_manager_new.py:run_batch():670: \t\tMethod write_results took 1.618207s WARNING\n",
      "circuit_manager_new.py:batch_circuits():617: Single batch: 0:00:08.190831 \n",
      "Projected time: 8.190831s \n",
      "Total time: 0:00:08.190841 WARNING\n"
     ]
    }
   ],
   "source": [
    "\n",
    "circuits = circuit_modeller.batch_circuits(\n",
    "    circuits=circuits, \n",
    "    batch_size=config['simulation']['batch_size'],\n",
    "    methods={\n",
    "        # \"compute_interactions\": {},\n",
    "        \"init_circuits\": {'batch': True},\n",
    "        'simulate_signal_batch': {'ref_circuit': None,\n",
    "                                  'batch': config['simulation']['use_batch_mutations']},\n",
    "        'write_results': {'no_visualisations': False, # config['experiment']['no_visualisations'],\n",
    "                          'no_numerical': False} #config['experiment']['no_numerical']}\n",
    "    }\n",
    ")"
   ]
  },
  {
   "attachments": {},
   "cell_type": "markdown",
   "metadata": {},
   "source": [
    "## Plot results"
   ]
  },
  {
   "cell_type": "code",
   "execution_count": null,
   "metadata": {},
   "outputs": [
    {
     "data": {
      "text/html": [
       "<div>\n",
       "<style scoped>\n",
       "    .dataframe tbody tr th:only-of-type {\n",
       "        vertical-align: middle;\n",
       "    }\n",
       "\n",
       "    .dataframe tbody tr th {\n",
       "        vertical-align: top;\n",
       "    }\n",
       "\n",
       "    .dataframe thead th {\n",
       "        text-align: right;\n",
       "    }\n",
       "</style>\n",
       "<table border=\"1\" class=\"dataframe\">\n",
       "  <thead>\n",
       "    <tr style=\"text-align: right;\">\n",
       "      <th></th>\n",
       "      <th>45.911938</th>\n",
       "      <th>41.116604</th>\n",
       "      <th>62.897255</th>\n",
       "      <th>39.04209</th>\n",
       "      <th>67.39374</th>\n",
       "      <th>23.92184</th>\n",
       "      <th>200.0</th>\n",
       "      <th>13.405505</th>\n",
       "      <th>21.865301</th>\n",
       "    </tr>\n",
       "  </thead>\n",
       "  <tbody>\n",
       "    <tr>\n",
       "      <th>0</th>\n",
       "      <td>56.597446</td>\n",
       "      <td>41.835793</td>\n",
       "      <td>64.087370</td>\n",
       "      <td>39.037746</td>\n",
       "      <td>67.396360</td>\n",
       "      <td>23.907307</td>\n",
       "      <td>176.719680</td>\n",
       "      <td>12.692379</td>\n",
       "      <td>20.701630</td>\n",
       "    </tr>\n",
       "    <tr>\n",
       "      <th>1</th>\n",
       "      <td>65.047150</td>\n",
       "      <td>42.440086</td>\n",
       "      <td>65.090430</td>\n",
       "      <td>39.028458</td>\n",
       "      <td>67.390900</td>\n",
       "      <td>23.879753</td>\n",
       "      <td>158.212950</td>\n",
       "      <td>12.112111</td>\n",
       "      <td>19.759136</td>\n",
       "    </tr>\n",
       "    <tr>\n",
       "      <th>2</th>\n",
       "      <td>71.888756</td>\n",
       "      <td>42.957394</td>\n",
       "      <td>65.952050</td>\n",
       "      <td>39.015312</td>\n",
       "      <td>67.379166</td>\n",
       "      <td>23.842161</td>\n",
       "      <td>143.150800</td>\n",
       "      <td>11.632842</td>\n",
       "      <td>18.984440</td>\n",
       "    </tr>\n",
       "    <tr>\n",
       "      <th>3</th>\n",
       "      <td>77.535860</td>\n",
       "      <td>43.407010</td>\n",
       "      <td>66.703750</td>\n",
       "      <td>38.999096</td>\n",
       "      <td>67.362420</td>\n",
       "      <td>23.796703</td>\n",
       "      <td>130.655270</td>\n",
       "      <td>11.232392</td>\n",
       "      <td>18.340387</td>\n",
       "    </tr>\n",
       "    <tr>\n",
       "      <th>4</th>\n",
       "      <td>82.271880</td>\n",
       "      <td>43.802770</td>\n",
       "      <td>67.368095</td>\n",
       "      <td>38.980400</td>\n",
       "      <td>67.341660</td>\n",
       "      <td>23.744993</td>\n",
       "      <td>120.123140</td>\n",
       "      <td>10.894789</td>\n",
       "      <td>17.800236</td>\n",
       "    </tr>\n",
       "    <tr>\n",
       "      <th>...</th>\n",
       "      <td>...</td>\n",
       "      <td>...</td>\n",
       "      <td>...</td>\n",
       "      <td>...</td>\n",
       "      <td>...</td>\n",
       "      <td>...</td>\n",
       "      <td>...</td>\n",
       "      <td>...</td>\n",
       "      <td>...</td>\n",
       "    </tr>\n",
       "    <tr>\n",
       "      <th>494</th>\n",
       "      <td>125.634170</td>\n",
       "      <td>51.221363</td>\n",
       "      <td>86.590034</td>\n",
       "      <td>36.377174</td>\n",
       "      <td>62.746840</td>\n",
       "      <td>16.260290</td>\n",
       "      <td>6.758032</td>\n",
       "      <td>13.277588</td>\n",
       "      <td>18.142616</td>\n",
       "    </tr>\n",
       "    <tr>\n",
       "      <th>495</th>\n",
       "      <td>125.628730</td>\n",
       "      <td>51.221090</td>\n",
       "      <td>86.601060</td>\n",
       "      <td>36.378544</td>\n",
       "      <td>62.744064</td>\n",
       "      <td>16.256977</td>\n",
       "      <td>6.758173</td>\n",
       "      <td>13.277897</td>\n",
       "      <td>18.140995</td>\n",
       "    </tr>\n",
       "    <tr>\n",
       "      <th>496</th>\n",
       "      <td>125.623280</td>\n",
       "      <td>51.220814</td>\n",
       "      <td>86.612060</td>\n",
       "      <td>36.379910</td>\n",
       "      <td>62.741287</td>\n",
       "      <td>16.253670</td>\n",
       "      <td>6.758316</td>\n",
       "      <td>13.278206</td>\n",
       "      <td>18.139376</td>\n",
       "    </tr>\n",
       "    <tr>\n",
       "      <th>497</th>\n",
       "      <td>125.617840</td>\n",
       "      <td>51.220540</td>\n",
       "      <td>86.623070</td>\n",
       "      <td>36.381280</td>\n",
       "      <td>62.738514</td>\n",
       "      <td>16.250362</td>\n",
       "      <td>6.758460</td>\n",
       "      <td>13.278514</td>\n",
       "      <td>18.137760</td>\n",
       "    </tr>\n",
       "    <tr>\n",
       "      <th>498</th>\n",
       "      <td>125.612404</td>\n",
       "      <td>51.220270</td>\n",
       "      <td>86.634070</td>\n",
       "      <td>36.382650</td>\n",
       "      <td>62.735737</td>\n",
       "      <td>16.247060</td>\n",
       "      <td>6.758605</td>\n",
       "      <td>13.278821</td>\n",
       "      <td>18.136143</td>\n",
       "    </tr>\n",
       "  </tbody>\n",
       "</table>\n",
       "<p>499 rows × 9 columns</p>\n",
       "</div>"
      ],
      "text/plain": [
       "      45.911938  41.116604  62.897255   39.04209   67.39374   23.92184  \\\n",
       "0     56.597446  41.835793  64.087370  39.037746  67.396360  23.907307   \n",
       "1     65.047150  42.440086  65.090430  39.028458  67.390900  23.879753   \n",
       "2     71.888756  42.957394  65.952050  39.015312  67.379166  23.842161   \n",
       "3     77.535860  43.407010  66.703750  38.999096  67.362420  23.796703   \n",
       "4     82.271880  43.802770  67.368095  38.980400  67.341660  23.744993   \n",
       "..          ...        ...        ...        ...        ...        ...   \n",
       "494  125.634170  51.221363  86.590034  36.377174  62.746840  16.260290   \n",
       "495  125.628730  51.221090  86.601060  36.378544  62.744064  16.256977   \n",
       "496  125.623280  51.220814  86.612060  36.379910  62.741287  16.253670   \n",
       "497  125.617840  51.220540  86.623070  36.381280  62.738514  16.250362   \n",
       "498  125.612404  51.220270  86.634070  36.382650  62.735737  16.247060   \n",
       "\n",
       "          200.0  13.405505  21.865301  \n",
       "0    176.719680  12.692379  20.701630  \n",
       "1    158.212950  12.112111  19.759136  \n",
       "2    143.150800  11.632842  18.984440  \n",
       "3    130.655270  11.232392  18.340387  \n",
       "4    120.123140  10.894789  17.800236  \n",
       "..          ...        ...        ...  \n",
       "494    6.758032  13.277588  18.142616  \n",
       "495    6.758173  13.277897  18.140995  \n",
       "496    6.758316  13.278206  18.139376  \n",
       "497    6.758460  13.278514  18.137760  \n",
       "498    6.758605  13.278821  18.136143  \n",
       "\n",
       "[499 rows x 9 columns]"
      ]
     },
     "execution_count": 16,
     "metadata": {},
     "output_type": "execute_result"
    }
   ],
   "source": [
    "data"
   ]
  },
  {
   "cell_type": "code",
   "execution_count": null,
   "metadata": {},
   "outputs": [
    {
     "data": {
      "image/png": "[encoded data removed]",
      "text/plain": [
       "<Figure size 500x300 with 1 Axes>"
      ]
     },
     "metadata": {},
     "output_type": "display_data"
    }
   ],
   "source": [
    "\n",
    "\n",
    "chosen_circuit = circuits[4]\n",
    "data_fn_ste = os.path.join(result_writer.write_dir, chosen_circuit.name, 'steady_states_data.csv')\n",
    "data_fn_sig = os.path.join(result_writer.write_dir, chosen_circuit.name, 'signal_data.csv')\n",
    "data = pd.concat([\n",
    "    pd.read_csv(data_fn_ste, names=[s.name for s in chosen_circuit.model.species]),\n",
    "    pd.read_csv(data_fn_sig, names=[s.name for s in chosen_circuit.model.species])\n",
    "]).reset_index()\n",
    "\n",
    "plt.figure(figsize=(5,3))\n",
    "sns.lineplot(data[[s.name for s in set(flatten_listlike(chosen_circuit.get_input_species()))]])\n",
    "plt.ylabel('# molecules / cell')\n",
    "plt.xlabel('Time (s)')\n",
    "plt.savefig('circ4.svg')\n"
   ]
  },
  {
   "attachments": {},
   "cell_type": "markdown",
   "metadata": {},
   "source": [
    "Log\n",
    "\n",
    "1.\n",
    "q = 5\n",
    "p = 2\n",
    "-> not great\n",
    "\n",
    "2. \n",
    "q = 2\n",
    "p = 5\n",
    "-> good, the weak ones could be more step-like\n",
    "\n",
    "3. \n",
    "q = 3\n",
    "p = 5\n",
    "-> Same-looking slope for signal, but doesn't reach as high as 2. \n",
    "\n",
    "4. \n",
    "q = 2\n",
    "p = 10\n",
    "-> better, more step-like on strong, but still a bit dragging on weaker ones\n",
    "\n",
    "5. \n",
    "q = 2\n",
    "p = 15\n",
    "-> even better, more step-like, but no overshoot like you get in the no prod/deg\n",
    "\n",
    "6. \n",
    "q = 5\n",
    "p = 50\n",
    "-> spiky, but now a bit too dominating with prod / deg\n",
    "\n",
    "\n",
    "\n",
    "\n"
   ]
  },
  {
   "cell_type": "markdown",
   "metadata": {},
   "source": []
  }
 ],
 "metadata": {
  "kernelspec": {
   "display_name": "env_circuits",
   "language": "python",
   "name": "python3"
  },
  "language_info": {
   "codemirror_mode": {
    "name": "ipython",
    "version": 3
   },
   "file_extension": ".py",
   "mimetype": "text/x-python",
   "name": "python",
   "nbconvert_exporter": "python",
   "pygments_lexer": "ipython3",
   "version": "3.10.6"
  },
  "orig_nbformat": 4,
  "vscode": {
   "interpreter": {
    "hash": "172594369b7e917b537188c81f1a7108d427e78c3b158785db52bc1182200d3e"
   }
  }
 },
 "nbformat": 4,
 "nbformat_minor": 2
}
