{
 "cells": [
  {
   "attachments": {},
   "cell_type": "markdown",
   "metadata": {},
   "source": [
    "# Basic RNA circuit simulation \n",
    "\n"
   ]
  },
  {
   "cell_type": "code",
   "execution_count": 2,
   "metadata": {},
   "outputs": [],
   "source": [
    "%load_ext autoreload\n",
    "%autoreload 2"
   ]
  },
  {
   "cell_type": "code",
   "execution_count": 3,
   "metadata": {},
   "outputs": [],
   "source": [
    "from bioreaction.simulation.basic_sim import convert_model\n",
    "\n",
    "import jax\n",
    "import numpy as np\n",
    "import pandas as pd\n",
    "import os\n",
    "import sys\n",
    "\n",
    "from datetime import datetime\n",
    "import matplotlib.pyplot as plt\n",
    "import seaborn as sns\n",
    "plt.style.use('seaborn-v0_8-paper')\n",
    "os.environ[\"TF_CPP_MIN_LOG_LOVEL\"] = \"0\"\n",
    "jax.config.update('jax_platform_name', 'gpu')\n",
    "\n",
    "\n",
    "if __package__ is None:\n",
    "\n",
    "    module_path = os.path.abspath(os.path.join('..'))\n",
    "    sys.path.append(module_path)\n",
    "\n",
    "    __package__ = os.path.basename(module_path)\n",
    "\n",
    "\n",
    "from src.utils.data.data_format_tools.common import load_json_as_dict\n",
    "from src.utils.common.setup_new import prepare_config, construct_circuit_from_cfg\n",
    "from src.utils.circuit.agnostic_circuits.circuit_manager_new import CircuitModeller\n",
    "from tests_local.shared import five_circuits\n",
    "\n",
    "config = load_json_as_dict('../tests_local/configs/simple_circuit.json')\n"
   ]
  },
  {
   "cell_type": "code",
   "execution_count": 4,
   "metadata": {},
   "outputs": [],
   "source": [
    "\n",
    "\n",
    "\n",
    "def update_model_rates(model, a=None, d=None, ka=None, kd=None):\n",
    "    for i, r in enumerate(model.reactions):\n",
    "        if not r.input:  # 0 -> RNA\n",
    "            if a is not None:\n",
    "                model.reactions[i].forward_rate = a[model.species.index(\n",
    "                    r.output[0])]\n",
    "                model.reactions[i].reverse_rate = 0\n",
    "        elif not r.output:  # RNA -> 0\n",
    "            if d is not None:\n",
    "                model.reactions[i].forward_rate = d[model.species.index(\n",
    "                    r.input[0])]\n",
    "                model.reactions[i].reverse_rate = 0\n",
    "        else: # unbound RNA -> bound RNA\n",
    "            if ka is not None:\n",
    "                model.reactions[i].forward_rate = ka[model.species.index(r.input[0]),\n",
    "                                                     model.species.index(r.input[1])]\n",
    "            if kd is not None:\n",
    "                model.reactions[i].reverse_rate = kd[model.species.index(r.input[0]),\n",
    "                                                     model.species.index(r.input[1])]\n",
    "    return model\n",
    "\n",
    "\n",
    "def make_params(model, scale_rates=True):\n",
    "    sim_model = convert_model(model)\n",
    "\n",
    "    if scale_rates:\n",
    "        m = np.max([sim_model.forward_rates.max(), sim_model.reverse_rates.max()])\n",
    "    else:\n",
    "        m = 1\n",
    "    inputs = sim_model.inputs\n",
    "    outputs = sim_model.outputs\n",
    "    forward_rates = sim_model.forward_rates/m\n",
    "    reverse_rates = sim_model.reverse_rates/m\n",
    "    return inputs, outputs, forward_rates, reverse_rates, m"
   ]
  },
  {
   "attachments": {},
   "cell_type": "markdown",
   "metadata": {},
   "source": [
    "Use the 5 tester circuits :)"
   ]
  },
  {
   "cell_type": "code",
   "execution_count": 5,
   "metadata": {},
   "outputs": [
    {
     "name": "stderr",
     "output_type": "stream",
     "text": [
      "xla_bridge.py:backends():355: Unable to initialize backend 'tpu_driver': NOT_FOUND: Unable to find driver in registry given worker:  INFO\n",
      "xla_bridge.py:backends():355: Unable to initialize backend 'rocm': NOT_FOUND: Could not find registered platform with name: \"rocm\". Available platform names are: Host Interpreter CUDA INFO\n",
      "xla_bridge.py:backends():355: Unable to initialize backend 'tpu': module 'jaxlib.xla_extension' has no attribute 'get_tpu_client' INFO\n",
      "xla_bridge.py:backends():355: Unable to initialize backend 'plugin': xla_extension has no attributes named get_plugin_device_client. Compile TensorFlow with //tensorflow/compiler/xla/python:enable_plugin_device set to true (defaults to false) to enable this. INFO\n",
      "experiment_loading.py:load_units():35: Units unknown - supply a valid experiment directory instead of ../tests_local/configs/binding_rates_dissociation/0_weak_binding_rates_dissociation.csv WARNING\n",
      "experiment_loading.py:load_units():35: Units unknown - supply a valid experiment directory instead of ../tests_local/configs/eqconstants/0_weak_eqconstants.csv WARNING\n",
      "experiment_loading.py:load_units():35: Units unknown - supply a valid experiment directory instead of ../tests_local/configs/energies/0_weak_energies.csv WARNING\n",
      "experiment_loading.py:load_units():35: Units unknown - supply a valid experiment directory instead of ../tests_local/configs/binding_sites/0_weak_binding_sites.csv WARNING\n",
      "experiment_loading.py:load_units():35: Units unknown - supply a valid experiment directory instead of ../tests_local/configs/binding_rates_dissociation/1_med_weak_binding_rates_dissociation.csv WARNING\n",
      "experiment_loading.py:load_units():35: Units unknown - supply a valid experiment directory instead of ../tests_local/configs/eqconstants/1_med_weak_eqconstants.csv WARNING\n",
      "experiment_loading.py:load_units():35: Units unknown - supply a valid experiment directory instead of ../tests_local/configs/energies/1_med_weak_energies.csv WARNING\n",
      "experiment_loading.py:load_units():35: Units unknown - supply a valid experiment directory instead of ../tests_local/configs/binding_sites/1_med_weak_binding_sites.csv WARNING\n",
      "experiment_loading.py:load_units():35: Units unknown - supply a valid experiment directory instead of ../tests_local/configs/binding_rates_dissociation/2_medium_binding_rates_dissociation.csv WARNING\n",
      "experiment_loading.py:load_units():35: Units unknown - supply a valid experiment directory instead of ../tests_local/configs/eqconstants/2_medium_eqconstants.csv WARNING\n",
      "experiment_loading.py:load_units():35: Units unknown - supply a valid experiment directory instead of ../tests_local/configs/energies/2_medium_energies.csv WARNING\n",
      "experiment_loading.py:load_units():35: Units unknown - supply a valid experiment directory instead of ../tests_local/configs/binding_sites/2_medium_binding_sites.csv WARNING\n",
      "experiment_loading.py:load_units():35: Units unknown - supply a valid experiment directory instead of ../tests_local/configs/binding_rates_dissociation/3_med_strong_binding_rates_dissociation.csv WARNING\n",
      "experiment_loading.py:load_units():35: Units unknown - supply a valid experiment directory instead of ../tests_local/configs/eqconstants/3_med_strong_eqconstants.csv WARNING\n",
      "experiment_loading.py:load_units():35: Units unknown - supply a valid experiment directory instead of ../tests_local/configs/energies/3_med_strong_energies.csv WARNING\n",
      "experiment_loading.py:load_units():35: Units unknown - supply a valid experiment directory instead of ../tests_local/configs/binding_sites/3_med_strong_binding_sites.csv WARNING\n",
      "experiment_loading.py:load_units():35: Units unknown - supply a valid experiment directory instead of ../tests_local/configs/binding_rates_dissociation/4_strong_binding_rates_dissociation.csv WARNING\n",
      "experiment_loading.py:load_units():35: Units unknown - supply a valid experiment directory instead of ../tests_local/configs/eqconstants/4_strong_eqconstants.csv WARNING\n",
      "experiment_loading.py:load_units():35: Units unknown - supply a valid experiment directory instead of ../tests_local/configs/energies/4_strong_energies.csv WARNING\n",
      "experiment_loading.py:load_units():35: Units unknown - supply a valid experiment directory instead of ../tests_local/configs/binding_sites/4_strong_binding_sites.csv WARNING\n"
     ]
    }
   ],
   "source": [
    "config = prepare_config(config)\n",
    "config['include_prod_deg'] = True\n",
    "config['simulation']['use_rate_scaling'] = False\n",
    "\n",
    "q = 2\n",
    "p = 30\n",
    "config['molecular_params_factor'] = p\n",
    "config['simulation']['interaction_factor'] = 1\n",
    "config['molecular_params']['creation_rate'] = config['molecular_params']['creation_rate'] * q\n",
    "config['molecular_params']['creation_rate' + '_per_molecule'] = config['molecular_params']['creation_rate' + '_per_molecule'] * q\n",
    "# config['simulation']['dt'] = 0.1\n",
    "# config['molecular_params']['creation_rate'] = config['molecular_params']['creation_rate'] * p\n",
    "# config['molecular_params']['degradation_rate'] = config['molecular_params']['degradation_rate'] * p\n",
    "circuits, config, result_writer = five_circuits(config)"
   ]
  },
  {
   "cell_type": "code",
   "execution_count": 6,
   "metadata": {},
   "outputs": [
    {
     "data": {
      "text/plain": [
       "[None, None, None, None, None]"
      ]
     },
     "execution_count": 6,
     "metadata": {},
     "output_type": "execute_result"
    }
   ],
   "source": [
    "\n",
    "\n",
    "def load_circuit(top_dir, circuit_name, config):\n",
    "    dp = os.path.join(top_dir, 'circuits', circuit_name + '.fasta')\n",
    "    interactions = {'binding_rates_association': config['molecular_params']['association_binding_rate' + '_per_molecule'],\n",
    "                    'binding_rates_dissociation': os.path.join(top_dir, 'binding_rates_dissociation', circuit_name + '_' + 'binding_rates_dissociation' + '.csv'),\n",
    "                    'eqconstants': os.path.join(top_dir, 'eqconstants', circuit_name + '_' + 'eqconstants' + '.csv'),\n",
    "                    'energies': os.path.join(top_dir, 'energies', circuit_name + '_' + 'energies' + '.csv'),\n",
    "                    'binding_sites': os.path.join(top_dir, 'binding_sites', circuit_name + '_' + 'binding_sites' + '.csv')}\n",
    "\n",
    "    return construct_circuit_from_cfg({\n",
    "        'data_path': dp,\n",
    "        'interactions': interactions\n",
    "    }, config)\n",
    "\n",
    "# tester_circuit = load_circuit(top_dir='data/ensemble_mutation_effect_analysis/2023_04_04_092945/generate_species_templates',\n",
    "#              circuit_name='toy_mRNA_circuit_1844', config=config)\n",
    "\n",
    "\n",
    "tester_circuits = []\n",
    "for name in ['toy_mRNA_circuit_21566', 'toy_mRNA_circuit_24706', 'toy_mRNA_circuit_19768', 'toy_mRNA_circuit_2983', 'toy_mRNA_circuit_22658']:\n",
    "    config['mutations'] = pd.read_csv(os.path.join(\n",
    "        '..', 'data/ensemble_mutation_effect_analysis/2023_04_11_192013/mutation_effect_on_interactions_signal', name, 'mutations.csv')).to_dict()\n",
    "    tester_circuits.append(load_circuit(top_dir='data/ensemble_mutation_effect_analysis/2023_04_04_092945/generate_species_templates',\n",
    "                                        circuit_name=name, config=config))\n",
    "\n",
    "# config['interactions'] = {}\n",
    "# config['interactions'] = None\n",
    "# tester_circuit = construct_circuit_from_cfg(\n",
    "#     {'data_path': '../tester.fasta'}, config)\n",
    "[circuits.append(tester_circuit) for tester_circuit in tester_circuits]\n"
   ]
  },
  {
   "cell_type": "code",
   "execution_count": 15,
   "metadata": {},
   "outputs": [
    {
     "data": {
      "text/html": [
       "<div>\n",
       "<style scoped>\n",
       "    .dataframe tbody tr th:only-of-type {\n",
       "        vertical-align: middle;\n",
       "    }\n",
       "\n",
       "    .dataframe tbody tr th {\n",
       "        vertical-align: top;\n",
       "    }\n",
       "\n",
       "    .dataframe thead th {\n",
       "        text-align: right;\n",
       "    }\n",
       "</style>\n",
       "<table border=\"1\" class=\"dataframe\">\n",
       "  <thead>\n",
       "    <tr style=\"text-align: right;\">\n",
       "      <th></th>\n",
       "      <th>mutation_name</th>\n",
       "      <th>template_name</th>\n",
       "      <th>template_seq</th>\n",
       "      <th>mutation_types</th>\n",
       "      <th>positions</th>\n",
       "      <th>count</th>\n",
       "      <th>algorithm</th>\n",
       "      <th>sequence_type</th>\n",
       "      <th>template_file</th>\n",
       "    </tr>\n",
       "  </thead>\n",
       "  <tbody>\n",
       "    <tr>\n",
       "      <th>0</th>\n",
       "      <td>RNA_0_m1-0</td>\n",
       "      <td>RNA_0</td>\n",
       "      <td>AGUUGAGGCUUCGUGCACGG</td>\n",
       "      <td>[7]</td>\n",
       "      <td>[4]</td>\n",
       "      <td>1</td>\n",
       "      <td>random</td>\n",
       "      <td>RNA</td>\n",
       "      <td>data/ensemble_mutation_effect_analysis/2023_04...</td>\n",
       "    </tr>\n",
       "    <tr>\n",
       "      <th>1</th>\n",
       "      <td>RNA_0_m1-1</td>\n",
       "      <td>RNA_0</td>\n",
       "      <td>AGUUGAGGCUUCGUGCACGG</td>\n",
       "      <td>[7]</td>\n",
       "      <td>[6]</td>\n",
       "      <td>1</td>\n",
       "      <td>random</td>\n",
       "      <td>RNA</td>\n",
       "      <td>data/ensemble_mutation_effect_analysis/2023_04...</td>\n",
       "    </tr>\n",
       "    <tr>\n",
       "      <th>2</th>\n",
       "      <td>RNA_0_m1-2</td>\n",
       "      <td>RNA_0</td>\n",
       "      <td>AGUUGAGGCUUCGUGCACGG</td>\n",
       "      <td>[4]</td>\n",
       "      <td>[8]</td>\n",
       "      <td>1</td>\n",
       "      <td>random</td>\n",
       "      <td>RNA</td>\n",
       "      <td>data/ensemble_mutation_effect_analysis/2023_04...</td>\n",
       "    </tr>\n",
       "    <tr>\n",
       "      <th>3</th>\n",
       "      <td>RNA_0_m1-3</td>\n",
       "      <td>RNA_0</td>\n",
       "      <td>AGUUGAGGCUUCGUGCACGG</td>\n",
       "      <td>[8]</td>\n",
       "      <td>[7]</td>\n",
       "      <td>1</td>\n",
       "      <td>random</td>\n",
       "      <td>RNA</td>\n",
       "      <td>data/ensemble_mutation_effect_analysis/2023_04...</td>\n",
       "    </tr>\n",
       "    <tr>\n",
       "      <th>4</th>\n",
       "      <td>RNA_0_m1-4</td>\n",
       "      <td>RNA_0</td>\n",
       "      <td>AGUUGAGGCUUCGUGCACGG</td>\n",
       "      <td>[6]</td>\n",
       "      <td>[19]</td>\n",
       "      <td>1</td>\n",
       "      <td>random</td>\n",
       "      <td>RNA</td>\n",
       "      <td>data/ensemble_mutation_effect_analysis/2023_04...</td>\n",
       "    </tr>\n",
       "    <tr>\n",
       "      <th>...</th>\n",
       "      <td>...</td>\n",
       "      <td>...</td>\n",
       "      <td>...</td>\n",
       "      <td>...</td>\n",
       "      <td>...</td>\n",
       "      <td>...</td>\n",
       "      <td>...</td>\n",
       "      <td>...</td>\n",
       "      <td>...</td>\n",
       "    </tr>\n",
       "    <tr>\n",
       "      <th>115</th>\n",
       "      <td>RNA_2_m15-3</td>\n",
       "      <td>RNA_2</td>\n",
       "      <td>UUCGGAGCAGCGCGGACGAG</td>\n",
       "      <td>[0, 8, 9, 2, 8, 6, 5, 0, 6, 6, 7, 7, 7, 1, 5]</td>\n",
       "      <td>[18, 4, 1, 5, 17, 11, 7, 15, 19, 3, 13, 14, 9,...</td>\n",
       "      <td>15</td>\n",
       "      <td>random</td>\n",
       "      <td>RNA</td>\n",
       "      <td>data/ensemble_mutation_effect_analysis/2023_04...</td>\n",
       "    </tr>\n",
       "    <tr>\n",
       "      <th>116</th>\n",
       "      <td>RNA_2_m15-4</td>\n",
       "      <td>RNA_2</td>\n",
       "      <td>UUCGGAGCAGCGCGGACGAG</td>\n",
       "      <td>[7, 1, 4, 3, 1, 7, 5, 6, 6, 8, 1, 8, 6, 11, 5]</td>\n",
       "      <td>[19, 5, 10, 2, 8, 13, 16, 4, 11, 14, 15, 9, 6,...</td>\n",
       "      <td>15</td>\n",
       "      <td>random</td>\n",
       "      <td>RNA</td>\n",
       "      <td>data/ensemble_mutation_effect_analysis/2023_04...</td>\n",
       "    </tr>\n",
       "    <tr>\n",
       "      <th>117</th>\n",
       "      <td>RNA_2_m15-5</td>\n",
       "      <td>RNA_2</td>\n",
       "      <td>UUCGGAGCAGCGCGGACGAG</td>\n",
       "      <td>[2, 8, 6, 7, 8, 1, 1, 8, 3, 4, 9, 11, 5, 5, 3]</td>\n",
       "      <td>[8, 14, 19, 13, 4, 5, 18, 11, 10, 16, 0, 1, 12...</td>\n",
       "      <td>15</td>\n",
       "      <td>random</td>\n",
       "      <td>RNA</td>\n",
       "      <td>data/ensemble_mutation_effect_analysis/2023_04...</td>\n",
       "    </tr>\n",
       "    <tr>\n",
       "      <th>118</th>\n",
       "      <td>RNA_2_m15-6</td>\n",
       "      <td>RNA_2</td>\n",
       "      <td>UUCGGAGCAGCGCGGACGAG</td>\n",
       "      <td>[5, 7, 3, 7, 4, 6, 0, 6, 7, 10, 7, 2, 7, 0, 7]</td>\n",
       "      <td>[7, 13, 10, 17, 2, 3, 5, 6, 4, 0, 14, 15, 11, ...</td>\n",
       "      <td>15</td>\n",
       "      <td>random</td>\n",
       "      <td>RNA</td>\n",
       "      <td>data/ensemble_mutation_effect_analysis/2023_04...</td>\n",
       "    </tr>\n",
       "    <tr>\n",
       "      <th>119</th>\n",
       "      <td>RNA_2_m15-7</td>\n",
       "      <td>RNA_2</td>\n",
       "      <td>UUCGGAGCAGCGCGGACGAG</td>\n",
       "      <td>[7, 3, 2, 2, 8, 9, 7, 8, 6, 1, 6, 8, 3, 8, 7]</td>\n",
       "      <td>[11, 16, 15, 8, 14, 0, 6, 3, 13, 5, 17, 19, 7,...</td>\n",
       "      <td>15</td>\n",
       "      <td>random</td>\n",
       "      <td>RNA</td>\n",
       "      <td>data/ensemble_mutation_effect_analysis/2023_04...</td>\n",
       "    </tr>\n",
       "  </tbody>\n",
       "</table>\n",
       "<p>120 rows × 9 columns</p>\n",
       "</div>"
      ],
      "text/plain": [
       "    mutation_name template_name          template_seq  \\\n",
       "0      RNA_0_m1-0         RNA_0  AGUUGAGGCUUCGUGCACGG   \n",
       "1      RNA_0_m1-1         RNA_0  AGUUGAGGCUUCGUGCACGG   \n",
       "2      RNA_0_m1-2         RNA_0  AGUUGAGGCUUCGUGCACGG   \n",
       "3      RNA_0_m1-3         RNA_0  AGUUGAGGCUUCGUGCACGG   \n",
       "4      RNA_0_m1-4         RNA_0  AGUUGAGGCUUCGUGCACGG   \n",
       "..            ...           ...                   ...   \n",
       "115   RNA_2_m15-3         RNA_2  UUCGGAGCAGCGCGGACGAG   \n",
       "116   RNA_2_m15-4         RNA_2  UUCGGAGCAGCGCGGACGAG   \n",
       "117   RNA_2_m15-5         RNA_2  UUCGGAGCAGCGCGGACGAG   \n",
       "118   RNA_2_m15-6         RNA_2  UUCGGAGCAGCGCGGACGAG   \n",
       "119   RNA_2_m15-7         RNA_2  UUCGGAGCAGCGCGGACGAG   \n",
       "\n",
       "                                     mutation_types  \\\n",
       "0                                               [7]   \n",
       "1                                               [7]   \n",
       "2                                               [4]   \n",
       "3                                               [8]   \n",
       "4                                               [6]   \n",
       "..                                              ...   \n",
       "115   [0, 8, 9, 2, 8, 6, 5, 0, 6, 6, 7, 7, 7, 1, 5]   \n",
       "116  [7, 1, 4, 3, 1, 7, 5, 6, 6, 8, 1, 8, 6, 11, 5]   \n",
       "117  [2, 8, 6, 7, 8, 1, 1, 8, 3, 4, 9, 11, 5, 5, 3]   \n",
       "118  [5, 7, 3, 7, 4, 6, 0, 6, 7, 10, 7, 2, 7, 0, 7]   \n",
       "119   [7, 3, 2, 2, 8, 9, 7, 8, 6, 1, 6, 8, 3, 8, 7]   \n",
       "\n",
       "                                             positions  count algorithm  \\\n",
       "0                                                  [4]      1    random   \n",
       "1                                                  [6]      1    random   \n",
       "2                                                  [8]      1    random   \n",
       "3                                                  [7]      1    random   \n",
       "4                                                 [19]      1    random   \n",
       "..                                                 ...    ...       ...   \n",
       "115  [18, 4, 1, 5, 17, 11, 7, 15, 19, 3, 13, 14, 9,...     15    random   \n",
       "116  [19, 5, 10, 2, 8, 13, 16, 4, 11, 14, 15, 9, 6,...     15    random   \n",
       "117  [8, 14, 19, 13, 4, 5, 18, 11, 10, 16, 0, 1, 12...     15    random   \n",
       "118  [7, 13, 10, 17, 2, 3, 5, 6, 4, 0, 14, 15, 11, ...     15    random   \n",
       "119  [11, 16, 15, 8, 14, 0, 6, 3, 13, 5, 17, 19, 7,...     15    random   \n",
       "\n",
       "    sequence_type                                      template_file  \n",
       "0             RNA  data/ensemble_mutation_effect_analysis/2023_04...  \n",
       "1             RNA  data/ensemble_mutation_effect_analysis/2023_04...  \n",
       "2             RNA  data/ensemble_mutation_effect_analysis/2023_04...  \n",
       "3             RNA  data/ensemble_mutation_effect_analysis/2023_04...  \n",
       "4             RNA  data/ensemble_mutation_effect_analysis/2023_04...  \n",
       "..            ...                                                ...  \n",
       "115           RNA  data/ensemble_mutation_effect_analysis/2023_04...  \n",
       "116           RNA  data/ensemble_mutation_effect_analysis/2023_04...  \n",
       "117           RNA  data/ensemble_mutation_effect_analysis/2023_04...  \n",
       "118           RNA  data/ensemble_mutation_effect_analysis/2023_04...  \n",
       "119           RNA  data/ensemble_mutation_effect_analysis/2023_04...  \n",
       "\n",
       "[120 rows x 9 columns]"
      ]
     },
     "execution_count": 15,
     "metadata": {},
     "output_type": "execute_result"
    }
   ],
   "source": [
    "pd.DataFrame(config['mutations'])\n"
   ]
  },
  {
   "cell_type": "code",
   "execution_count": 7,
   "metadata": {},
   "outputs": [
    {
     "name": "stderr",
     "output_type": "stream",
     "text": [
      "simulator.py:check_IntaRNA_path():115: Could not detect IntaRNA on system: CompletedProcess(args='which IntaRNA', returncode=1, stdout='', stderr='') WARNING\n",
      "circuit_manager_new.py:batch_circuits():565: \tFrom 10 circuits, a total of 10 mutated circuits will be simulated. WARNING\n",
      "circuit_manager_new.py:batch_circuits():572: \t\tStarting new round of viable circuits (0 - 10 / 10) WARNING\n",
      "circuit_manager_new.py:batch_circuits():590: \t\tMaking subcircuits 0 - 10 took 6.2e-05s WARNING\n",
      "circuit_manager_new.py:batch_circuits():596: \tBatching 0 - 10 circuits (out of 0 - 10 (total: 10)) (Circuits: 0 - 10 of 10) WARNING\n",
      "circuit_manager_new.py:run_batch():627: \t\tRunning 10 Subcircuits - 0_weak: compute_interactions WARNING\n",
      "circuit_manager_new.py:run_batch():663: \t\tMethod compute_interactions took 0.071107s WARNING\n",
      "circuit_manager_new.py:batch_circuits():610: Single batch: 0:00:00.072345 \n",
      "Projected time: 0.072345s \n",
      "Total time: 0:00:00.072355 WARNING\n"
     ]
    }
   ],
   "source": [
    "\n",
    "circuit_modeller = CircuitModeller(result_writer=result_writer, config=config)\n",
    "circuits = circuit_modeller.batch_circuits(circuits=circuits, methods={\"compute_interactions\": {}})\n",
    "i = -1\n",
    "# for i in range(len(circuits)):\n",
    "#     circuits[i].interactions.binding_rates_association = circuits[i].interactions.binding_rates_association * q\n",
    "#     circuits[i].interactions.binding_rates_dissociation = circuits[i].interactions.binding_rates_dissociation * q\n",
    "#     circuits[i].update_species_simulated_rates(circuits[i].interactions)\n"
   ]
  },
  {
   "cell_type": "code",
   "execution_count": 8,
   "metadata": {},
   "outputs": [
    {
     "data": {
      "text/plain": [
       "array([[0.00052282, 0.22631998, 0.01330353],\n",
       "       [0.22631998, 0.22631998, 0.00028829],\n",
       "       [0.01330353, 0.00028829, 0.22631998]])"
      ]
     },
     "execution_count": 8,
     "metadata": {},
     "output_type": "execute_result"
    }
   ],
   "source": [
    "circuits[i].interactions.binding_rates_dissociation"
   ]
  },
  {
   "cell_type": "code",
   "execution_count": 9,
   "metadata": {},
   "outputs": [
    {
     "data": {
      "text/plain": [
       "array([[0.00150958, 0.00150958, 0.00150958],\n",
       "       [0.00150958, 0.00150958, 0.00150958],\n",
       "       [0.00150958, 0.00150958, 0.00150958]])"
      ]
     },
     "execution_count": 9,
     "metadata": {},
     "output_type": "execute_result"
    }
   ],
   "source": [
    "circuits[i].interactions.binding_rates_association"
   ]
  },
  {
   "cell_type": "code",
   "execution_count": 10,
   "metadata": {},
   "outputs": [
    {
     "data": {
      "text/plain": [
       "141.0"
      ]
     },
     "execution_count": 10,
     "metadata": {},
     "output_type": "execute_result"
    }
   ],
   "source": [
    "config['molecular_params']['creation_rate']"
   ]
  },
  {
   "cell_type": "code",
   "execution_count": 11,
   "metadata": {},
   "outputs": [
    {
     "data": {
      "text/plain": [
       "0.3525"
      ]
     },
     "execution_count": 11,
     "metadata": {},
     "output_type": "execute_result"
    }
   ],
   "source": [
    "config['molecular_params']['degradation_rate']\n"
   ]
  },
  {
   "cell_type": "code",
   "execution_count": 13,
   "metadata": {},
   "outputs": [
    {
     "name": "stderr",
     "output_type": "stream",
     "text": [
      "circuit_manager_new.py:batch_circuits():565: \tFrom 10 circuits, a total of 10 mutated circuits will be simulated. WARNING\n",
      "circuit_manager_new.py:batch_circuits():572: \t\tStarting new round of viable circuits (0 - 10 / 10) WARNING\n",
      "circuit_manager_new.py:batch_circuits():590: \t\tMaking subcircuits 0 - 10 took 1288.774627s WARNING\n",
      "circuit_manager_new.py:batch_circuits():596: \tBatching 0 - 10 circuits (out of 0 - 10 (total: 10)) (Circuits: 0 - 10 of 10) WARNING\n",
      "circuit_manager_new.py:run_batch():627: \t\tRunning 10 Subcircuits - 0_weak: init_circuits WARNING\n"
     ]
    },
    {
     "name": "stdout",
     "output_type": "stream",
     "text": [
      "Done:  0:00:03.763780\n"
     ]
    },
    {
     "name": "stderr",
     "output_type": "stream",
     "text": [
      "circuit_manager_new.py:run_batch():663: \t\tMethod init_circuits took 4.440769s WARNING\n",
      "circuit_manager_new.py:run_batch():627: \t\tRunning 10 Subcircuits - 0_weak: simulate_signal_batch WARNING\n",
      "circuit_manager_new.py:prepare_internal_funcs():495: Signal differs between circuits, but only first signal used for simulation. WARNING\n",
      "circuit_manager_new.py:simulate_signal_batch():343: \t\tSimulating signal took 3.927567s WARNING\n"
     ]
    },
    {
     "name": "stdout",
     "output_type": "stream",
     "text": [
      "Done:  0:00:03.875461\n"
     ]
    },
    {
     "name": "stderr",
     "output_type": "stream",
     "text": [
      "circuit_manager_new.py:simulate_signal_batch():401: \t\tCalculating analytics took 4.384167s WARNING\n",
      "circuit_manager_new.py:run_batch():663: \t\tMethod simulate_signal_batch took 8.654215s WARNING\n",
      "circuit_manager_new.py:run_batch():627: \t\tRunning 10 Subcircuits - 0_weak: write_results WARNING\n",
      "circuit_manager_new.py:run_batch():663: \t\tMethod write_results took 6.088773s WARNING\n",
      "circuit_manager_new.py:batch_circuits():610: Single batch: 0:21:47.964460 \n",
      "Projected time: 1307.96446s \n",
      "Total time: 0:21:47.964473 WARNING\n"
     ]
    }
   ],
   "source": [
    "\n",
    "circuits = circuit_modeller.batch_circuits(\n",
    "    circuits=circuits, \n",
    "    methods={\n",
    "        # \"compute_interactions\": {},\n",
    "        \"init_circuits\": {'batch': True},\n",
    "        'simulate_signal_batch': {'ref_circuit': None,\n",
    "                                  'batch': config['simulation']['use_batch_mutations']},\n",
    "        'write_results': {'no_visualisations': False, # config['experiment']['no_visualisations'],\n",
    "                          'no_numerical': False} #config['experiment']['no_numerical']}\n",
    "    }\n",
    ")"
   ]
  },
  {
   "cell_type": "code",
   "execution_count": null,
   "metadata": {},
   "outputs": [],
   "source": []
  },
  {
   "attachments": {},
   "cell_type": "markdown",
   "metadata": {},
   "source": [
    "Log\n",
    "\n",
    "1.\n",
    "q = 5\n",
    "p = 2\n",
    "-> not great\n",
    "\n",
    "2. \n",
    "q = 2\n",
    "p = 5\n",
    "-> good, the weak ones could be more step-like\n",
    "\n",
    "3. \n",
    "q = 3\n",
    "p = 5\n",
    "-> Same-looking slope for signal, but doesn't reach as high as 2. \n",
    "\n",
    "4. \n",
    "q = 2\n",
    "p = 10\n",
    "-> better, more step-like on strong, but still a bit dragging on weaker ones\n",
    "\n",
    "5. \n",
    "q = 2\n",
    "p = 15\n",
    "-> even better, more step-like, but no overshoot like you get in the no prod/deg\n",
    "\n",
    "6. \n",
    "q = 5\n",
    "p = 50\n",
    "-> spiky, but now a bit too dominating with prod / deg\n",
    "\n",
    "\n",
    "\n",
    "\n"
   ]
  },
  {
   "cell_type": "markdown",
   "metadata": {},
   "source": []
  }
 ],
 "metadata": {
  "kernelspec": {
   "display_name": "env_circuits",
   "language": "python",
   "name": "python3"
  },
  "language_info": {
   "codemirror_mode": {
    "name": "ipython",
    "version": 3
   },
   "file_extension": ".py",
   "mimetype": "text/x-python",
   "name": "python",
   "nbconvert_exporter": "python",
   "pygments_lexer": "ipython3",
   "version": "3.10.6"
  },
  "orig_nbformat": 4,
  "vscode": {
   "interpreter": {
    "hash": "276d5f3a53dec80f4d3b39052afa9841fe604ba5c7edc23f6349b29c0d703d3a"
   }
  }
 },
 "nbformat": 4,
 "nbformat_minor": 2
}
