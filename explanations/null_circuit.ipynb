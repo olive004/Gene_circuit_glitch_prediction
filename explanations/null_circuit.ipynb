{
 "cells": [
  {
   "cell_type": "code",
   "execution_count": null,
   "metadata": {},
   "outputs": [],
   "source": [
    "fig = px.scatter_3d(\n",
    "    infom,\n",
    "    x='sensitivity_wrt_species-6' + '_null', y='precision_wrt_species-6' + '_null', z='sp_distance', \n",
    "    color='mutation_num')\n",
    "fig.show()\n",
    "\n"
   ]
  },
  {
   "cell_type": "code",
   "execution_count": null,
   "metadata": {},
   "outputs": [],
   "source": [
    "%load_ext autoreload\n",
    "%autoreload 2"
   ]
  },
  {
   "cell_type": "code",
   "execution_count": null,
   "metadata": {},
   "outputs": [],
   "source": [
    "import numpy as np\n",
    "import os\n",
    "import corner\n",
    "import sys\n",
    "from copy import deepcopy\n",
    "\n",
    "import matplotlib.pyplot as plt\n",
    "import seaborn as sns\n",
    "import pandas as pd\n",
    "import plotly.express as px\n",
    "\n",
    "\n",
    "if __package__ is None:\n",
    "\n",
    "    module_path = os.path.abspath(os.path.join('..'))\n",
    "    sys.path.append(module_path)\n",
    "\n",
    "    __package__ = os.path.basename(module_path)\n",
    "\n",
    "\n",
    "from src.srv.sequence_exploration.sequence_analysis import b_tabulate_mutation_info\n",
    "from src.utils.data.data_format_tools.common import load_json_as_dict\n",
    "from src.utils.common.setup_new import prepare_config\n",
    "from src.utils.circuit.agnostic_circuits.circuit_manager_new import CircuitModeller\n",
    "from src.utils.evolution.evolver import Evolver\n",
    "from src.utils.misc.numerical import count_monotonic_group_lengths, find_monotonic_group_idxs, is_within_range\n",
    "from src.utils.misc.string_handling import string_to_tuple_list\n",
    "from src.utils.misc.type_handling import flatten_listlike, get_first_elements\n",
    "from src.utils.results.analytics.naming import get_analytics_types_all, get_true_names_analytics, get_true_interaction_cols\n",
    "from tests_local.shared import create_test_inputs, CONFIG, TEST_CONFIG, five_circuits, mutate, simulate\n",
    "\n",
    "# config = load_json_as_dict('../tests_local/configs/simple_circuit.json')\n",
    "SEQ_LENGTH = 20\n",
    "config = deepcopy(CONFIG)"
   ]
  },
  {
   "cell_type": "code",
   "execution_count": null,
   "metadata": {},
   "outputs": [],
   "source": [
    "fn = '../data/ensemble_mutation_effect_analysis/2023_04_11_192013/summarise_simulation/tabulated_mutation_info.csv'\n",
    "info = pd.read_csv(fn)"
   ]
  },
  {
   "attachments": {},
   "cell_type": "markdown",
   "metadata": {},
   "source": [
    "## Process summary"
   ]
  },
  {
   "attachments": {},
   "cell_type": "markdown",
   "metadata": {},
   "source": [
    "### Define new fields"
   ]
  },
  {
   "attachments": {},
   "cell_type": "markdown",
   "metadata": {},
   "source": [
    "Define distance metric to robust adaptation region"
   ]
  },
  {
   "cell_type": "code",
   "execution_count": null,
   "metadata": {},
   "outputs": [],
   "source": [
    "info['sp_distance'] = 0 \n",
    "info.loc[(info['sensitivity_wrt_species-6'] <= 1) & (info['precision_wrt_species-6'] <= 10), 'sp_distance'] = np.sqrt(\n",
    "    np.power(1-info['sensitivity_wrt_species-6'], 2) + np.power(10 - info['precision_wrt_species-6'], 2))\n",
    "info.loc[(info['sensitivity_wrt_species-6'] <= 1) & (info['precision_wrt_species-6'] > 10), 'sp_distance'] = np.absolute(info['sensitivity_wrt_species-6'] - 1)\n",
    "info.loc[(info['sensitivity_wrt_species-6'] > 1) & (info['precision_wrt_species-6'] <= 10), 'sp_distance'] = np.absolute(info['precision_wrt_species-6'] - 10)\n"
   ]
  },
  {
   "attachments": {},
   "cell_type": "markdown",
   "metadata": {},
   "source": [
    "Mutation binding site groups and locations"
   ]
  },
  {
   "cell_type": "code",
   "execution_count": null,
   "metadata": {},
   "outputs": [],
   "source": [
    "num_group_cols = [e.replace('energies', 'binding_sites_groups') for e in get_true_interaction_cols(info, 'energies')]\n",
    "num_bs_cols = [e.replace('energies', 'binding_sites_count') for e in get_true_interaction_cols(info, 'energies')]\n",
    "bs_idxs_cols = [e.replace('energies', 'binding_sites_idxs') for e in get_true_interaction_cols(info, 'energies')]\n",
    "bs_range_cols = [e.replace('energies', 'binding_site_group_range') for e in get_true_interaction_cols(info, 'energies')]\n",
    "\n",
    "for b, g, bs, bsi, r in zip(get_true_interaction_cols(info, 'binding_sites'), num_group_cols, num_bs_cols, bs_idxs_cols, bs_range_cols):\n",
    "    fbs = [string_to_tuple_list(bb) for bb in info[b]]\n",
    "    first = get_first_elements(fbs, empty_replacement=[])\n",
    "    info[bs] = [count_monotonic_group_lengths(bb) for bb in first]\n",
    "    info[bsi] = [find_monotonic_group_idxs(bb) for bb in first]\n",
    "    info[g] = info[bs].apply(len)\n",
    "    info[r] = [[(bb[0], bb[-1]) for bb in b] for b in info[bsi]]"
   ]
  },
  {
   "attachments": {},
   "cell_type": "markdown",
   "metadata": {},
   "source": [
    "Mutation number ratiometric change:"
   ]
  },
  {
   "cell_type": "code",
   "execution_count": null,
   "metadata": {},
   "outputs": [],
   "source": [
    "numerical_cols = [c for c in info.columns if (type(info[(info['mutation_num'] > 0) & (info['eqconstants_0-0'] > 1)][c].iloc[0]) != str) and (type(info[c].iloc[0]) != list) and c not in get_true_interaction_cols(info, 'binding_sites')]\n",
    "key_cols = ['circuit_name', 'interacting', 'mutation_name', 'name', 'sample_name']\n",
    "\n",
    "# Group by 'name'\n",
    "grouped = info.groupby(['circuit_name', 'sample_name'], as_index=False)\n",
    "\n",
    "# Subtract the values from the zero row from each group\n",
    "mutation_log = grouped[numerical_cols].apply(lambda x: np.abs(np.log(x.loc[x['mutation_num'] == 0].squeeze() / x)))\n",
    "mutation_log['mutation_num'] = info['mutation_num']\n",
    "mutation_log['RMSE'] = info['RMSE']\n",
    "mutation_log['sp_distance'] = info['sp_distance']\n",
    "for c in key_cols:\n",
    "    mutation_log[c] = info[c]"
   ]
  },
  {
   "attachments": {},
   "cell_type": "markdown",
   "metadata": {},
   "source": [
    "### Expand DataFrames"
   ]
  },
  {
   "attachments": {},
   "cell_type": "markdown",
   "metadata": {},
   "source": [
    "Melt energies:"
   ]
  },
  {
   "cell_type": "code",
   "execution_count": null,
   "metadata": {},
   "outputs": [],
   "source": [
    "good_cols = list(info.columns)\n",
    "[good_cols.remove(x) for x in get_true_interaction_cols(info, 'binding_rates_dissociation') + get_true_interaction_cols(info, 'eqconstants') +\n",
    " get_true_interaction_cols(info, 'energies') + get_true_interaction_cols(info, 'binding_sites') + num_group_cols + num_bs_cols]\n",
    "good_cols\n",
    "\n",
    "binding_idx_map = {e.replace('energies_', ''): i for i, e in enumerate(get_true_interaction_cols(info, 'energies'))}\n"
   ]
  },
  {
   "cell_type": "code",
   "execution_count": null,
   "metadata": {},
   "outputs": [],
   "source": [
    "infom = info.melt(good_cols, value_vars=get_true_interaction_cols(info, 'energies'), var_name='energies_idx', value_name='energies')\n",
    "dfm = info.melt(good_cols, value_vars=num_group_cols, var_name='num_groups_idx', value_name='num_groups')\n",
    "infom['idx_species_binding'] = dfm['num_groups_idx'].apply(lambda x: binding_idx_map[x.replace('binding_sites_groups_', '')])\n",
    "infom['num_groups'] = dfm['num_groups']\n",
    "dfm = info.melt(good_cols, value_vars=num_bs_cols, var_name='num_bs_idx', value_name='num_bs')\n",
    "infom['num_bs'] = dfm['num_bs']\n",
    "\n",
    "for k in ['binding_sites', 'binding_rates_dissociation', 'eqconstants']:\n",
    "    dfm = info.melt(good_cols, value_vars=get_true_interaction_cols(info, k), var_name=f'{k}_idx', value_name=k)\n",
    "    infom[k] = dfm[k]"
   ]
  },
  {
   "attachments": {},
   "cell_type": "markdown",
   "metadata": {},
   "source": [
    "Melt mutation logs:"
   ]
  },
  {
   "cell_type": "code",
   "execution_count": null,
   "metadata": {},
   "outputs": [],
   "source": [
    "mutation_cols = [c for c in numerical_cols + key_cols if c not in get_true_interaction_cols(mutation_log, 'energies') +\n",
    "                 get_true_interaction_cols(mutation_log, 'binding_rates_dissociation') +\n",
    "                 get_true_interaction_cols(mutation_log, 'eqconstants') +\n",
    "                 get_true_interaction_cols(mutation_log, 'binding_sites_groups')]\n",
    "mutation_logm = mutation_log.melt(mutation_cols, value_vars=get_true_interaction_cols(mutation_log, 'energies'), var_name='energies_idx', value_name='energies')\n",
    "\n",
    "for k in ['binding_rates_dissociation', 'eqconstants', 'binding_sites_groups']:\n",
    "    dfm = mutation_log.melt(mutation_cols, value_vars=get_true_interaction_cols(mutation_log, k), var_name=f'{k}_idx', value_name=k)\n",
    "    mutation_logm[k] = dfm[k]\n",
    "    \n",
    "for c in ['idx_species_binding', 'num_groups', 'num_bs']:\n",
    "    mutation_logm[c] = infom[c]"
   ]
  },
  {
   "attachments": {},
   "cell_type": "markdown",
   "metadata": {},
   "source": [
    "Energy diffs"
   ]
  },
  {
   "cell_type": "code",
   "execution_count": null,
   "metadata": {},
   "outputs": [],
   "source": [
    "for k in ['binding_rates_dissociation', 'eqconstants', 'energies']:\n",
    "    infom[f'{k}_diffs'] = info.groupby(['circuit_name'])[get_true_interaction_cols(info, f'{k}')].apply(lambda x: x - x.iloc[0]).melt(value_vars=get_true_interaction_cols(info, f'{k}'), var_name='idx', value_name=f'{k}_diffs')[f'{k}_diffs']\n",
    "    mutation_logm[f'{k}_diffs'] = mutation_log.groupby(['circuit_name'])[get_true_interaction_cols(mutation_log, f'{k}')].apply(lambda x: x - x.iloc[0]).melt(value_vars=get_true_interaction_cols(mutation_log, f'{k}'), var_name='idx', value_name=f'{k}_diffs')[f'{k}_diffs']\n"
   ]
  },
  {
   "attachments": {},
   "cell_type": "markdown",
   "metadata": {},
   "source": [
    "### STD's"
   ]
  },
  {
   "cell_type": "code",
   "execution_count": null,
   "metadata": {},
   "outputs": [],
   "source": [
    "relevant_cols = [\n",
    "    'fold_change', \n",
    "    # 'initial_steady_states', \n",
    "    # 'max_amount', 'min_amount',\n",
    "    'overshoot', \n",
    "    'RMSE', \n",
    "    'steady_states', \n",
    "    # 'response_time_wrt_species-6',\n",
    "    # 'response_time_wrt_species-6_diff_to_base_circuit',\n",
    "    # 'response_time_wrt_species-6_ratio_from_mutation_to_base',\n",
    "    'precision_wrt_species-6',\n",
    "    'precision_wrt_species-6_diff_to_base_circuit',\n",
    "    'precision_wrt_species-6_ratio_from_mutation_to_base',\n",
    "    'sensitivity_wrt_species-6',\n",
    "    'sensitivity_wrt_species-6_diff_to_base_circuit',\n",
    "    'sensitivity_wrt_species-6_ratio_from_mutation_to_base',\n",
    "    'fold_change_diff_to_base_circuit',\n",
    "    # 'initial_steady_states_diff_to_base_circuit',\n",
    "    # 'max_amount_diff_to_base_circuit', 'min_amount_diff_to_base_circuit',\n",
    "    'overshoot_diff_to_base_circuit', \n",
    "    # 'RMSE_diff_to_base_circuit',\n",
    "    'steady_states_diff_to_base_circuit',\n",
    "    'fold_change_ratio_from_mutation_to_base',\n",
    "    # 'initial_steady_states_ratio_from_mutation_to_base',\n",
    "    # 'max_amount_ratio_from_mutation_to_base',\n",
    "    # 'min_amount_ratio_from_mutation_to_base',\n",
    "    # 'overshoot_ratio_from_mutation_to_base',\n",
    "    # 'RMSE_ratio_from_mutation_to_base',\n",
    "    'steady_states_ratio_from_mutation_to_base', \n",
    "    # 'num_groups',\n",
    "    'energies', \n",
    "    'binding_rates_dissociation',\n",
    "    'eqconstants',\n",
    "    'energies_diffs', \n",
    "    'binding_rates_dissociation_diffs',\n",
    "    'eqconstants_diffs'\n",
    "    ]\n",
    "\n",
    "named_aggs = {}\n",
    "for c in relevant_cols:\n",
    "    named_aggs.update({c + '_std': pd.NamedAgg(column=c, aggfunc=\"std\")})\n",
    "    named_aggs.update({c + '_mean': pd.NamedAgg(column=c, aggfunc=\"mean\")})\n",
    "    named_aggs.update({c + '_std_normed_by_mean': pd.NamedAgg(column=c, aggfunc=lambda x: np.std(x) / np.max([1, np.mean(x)]))})\n",
    "info_summ = infom.groupby(['circuit_name', 'mutation_num', 'sample_name'], as_index=False).agg(**named_aggs)\n",
    "    # {c: [np.std, np.mean, lambda x: np.std(x) / np.mean(x)] for c in relevant_cols})"
   ]
  },
  {
   "attachments": {},
   "cell_type": "markdown",
   "metadata": {},
   "source": [
    "# Visualisations"
   ]
  },
  {
   "cell_type": "code",
   "execution_count": null,
   "metadata": {},
   "outputs": [],
   "source": [
    "sns.histplot(mutation_log, x='fold_change', hue='mutation_num', log_scale=[False, True], element='step', bins=100)\n"
   ]
  },
  {
   "cell_type": "code",
   "execution_count": null,
   "metadata": {},
   "outputs": [],
   "source": [
    "fig = px.scatter_3d(\n",
    "    mutation_log,\n",
    "    x='sensitivity_wrt_species-6', y='precision_wrt_species-6', z='sp_distance', \n",
    "    color='mutation_num')\n",
    "fig.show()"
   ]
  },
  {
   "cell_type": "code",
   "execution_count": null,
   "metadata": {},
   "outputs": [],
   "source": [
    "import plotly.graph_objects as go\n",
    "\n",
    "xv = np.array(\n",
    "    mutation_log['sensitivity_wrt_species-6']\n",
    ")\n",
    "yv = np.array(\n",
    "    mutation_log['precision_wrt_species-6']\n",
    ")\n",
    "h = np.histogram2d(xv, yv, bins=50)\n",
    "\n",
    "\n",
    "def bin_centers(bins):\n",
    "    centers = (bins + (bins[1]-bins[0])/2)[:-1]\n",
    "    return centers\n",
    "\n",
    "\n",
    "x_bins_centers = bin_centers(h[1])\n",
    "y_bins_centers = bin_centers(h[2])\n",
    "x_bins_centers = h[1][:-1]\n",
    "y_bins_centers = h[2][:-1]\n",
    "\n",
    "df = pd.DataFrame(np.log(h[0]), index=x_bins_centers, columns=y_bins_centers)\n",
    "fig = go.Figure(data=[go.Surface(z=df)])\n",
    "# fig.update_zaxes(type=\"log\")\n",
    "fig.show()"
   ]
  },
  {
   "cell_type": "code",
   "execution_count": null,
   "metadata": {},
   "outputs": [],
   "source": [
    "\n",
    "sns.histplot(mutation_logm, x='binding_rates_dissociation', hue='mutation_num', element='step', log_scale=[False, True], bins = 100)\n",
    "plt.title('Ratiometric change from reference to mutated circuit')"
   ]
  },
  {
   "attachments": {},
   "cell_type": "markdown",
   "metadata": {},
   "source": [
    "## Mutational disruption"
   ]
  },
  {
   "attachments": {},
   "cell_type": "markdown",
   "metadata": {},
   "source": [
    "Expand the mutation positions and types from lists in each cell to distribute list values over rows."
   ]
  },
  {
   "cell_type": "code",
   "execution_count": null,
   "metadata": {},
   "outputs": [],
   "source": [
    "\n",
    "info_summ = mutation_logm.groupby(['circuit_name', 'mutation_num', 'sample_name'], as_index=False).agg(**named_aggs)\n",
    "\n",
    "info['mutation_type'] = info['mutation_type'].str.strip('[]').str.split(',').apply(lambda x: [int(xx) for xx in x if xx])\n",
    "info['mutation_positions'] = info['mutation_positions'].str.strip('[]').str.split(',').apply(lambda x: [int(xx) for xx in x if xx])\n",
    "\n",
    "info_e = info.explode(column=['mutation_type', 'mutation_positions'])\n",
    "\n",
    "mut_in_bs_cols = [e.replace('energies', 'is_mutation_in_binding_site') for e in get_true_interaction_cols(info, 'energies')]\n",
    "for isb, r in zip(mut_in_bs_cols, bs_range_cols):\n",
    "    info_e[isb] = [any([is_within_range(m, r) for r in range_tuples]) for m, range_tuples in zip(info_e['mutation_positions'], info_e[r])]\n",
    "\n",
    "mut_in_edge_cols = [e.replace('energies', 'is_mutation_on_edge') for e in get_true_interaction_cols(info, 'energies')]\n",
    "for ise, r in zip(mut_in_edge_cols, bs_range_cols):\n",
    "    info_e[ise] = [any([(m == r[0]) or (m == r[-1]) for r in range_tuples]) for m, range_tuples in zip(info_e['mutation_positions'], info_e[r])]\n",
    "\n",
    "info_e[(info_e[isb] == True) & (info_e['mutation_num'] == 0)][['mutation_positions', isb, r]]\n",
    "\n",
    "infom['frac_muts_in_binding_site'] = info_e.groupby(['circuit_name', 'mutation_num', 'sample_name'], as_index=False).agg({isb: lambda x: sum(x) / np.max([1, len(x)]) for isb in mut_in_bs_cols}).melt(\n",
    "    id_vars=['circuit_name', 'mutation_num', 'sample_name'], value_vars=mut_in_bs_cols, var_name='idx', value_name='frac_muts_in_binding_site')['frac_muts_in_binding_site']\n",
    "\n",
    "sns.jointplot(infom[infom['mutation_num'] > 0], x='frac_muts_in_binding_site', y='energies', hue='mutation_num')\n",
    "\n"
   ]
  },
  {
   "attachments": {},
   "cell_type": "markdown",
   "metadata": {},
   "source": [
    "Mutation corner"
   ]
  },
  {
   "cell_type": "code",
   "execution_count": null,
   "metadata": {},
   "outputs": [],
   "source": [
    "corner_cols = [c for c in mutation_logm.columns if ('diff_to_base_circuit' not in c) and ('ratio_from_mutation' not in c) and ('name' not in c) and ('idx' not in c)]\n",
    "corner_cols.remove('num_bs')\n",
    "corner_cols.remove('num_groups')\n",
    "corner_cols.remove('final_deriv')\n",
    "corner_cols.remove('energies')\n",
    "corner_cols.remove('energies_diffs')\n",
    "corner_cols.remove('num_interacting')\n",
    "corner_cols.remove('num_self_interacting')\n",
    "corner_cols.remove('binding_sites_groups')\n",
    "corner_cols.remove('interacting')\n",
    "corner_cols.remove(corner_cols[5])\n",
    "corner_cols\n",
    "\n",
    "temp = mutation_logm[(mutation_logm['sample_name'] != 'RNA_0') & (mutation_logm['precision_wrt_species-6'] != np.inf) & (mutation_logm['precision_wrt_species-6_diff_to_base_circuit'] != -np.inf)][corner_cols]\n",
    "fig = corner.corner(temp, labels=corner_cols, show_titles=True, title_kwargs={\"fontsize\": 12}, color='b')\n"
   ]
  },
  {
   "attachments": {},
   "cell_type": "markdown",
   "metadata": {},
   "source": [
    "## Removing null circuit"
   ]
  },
  {
   "cell_type": "code",
   "execution_count": null,
   "metadata": {},
   "outputs": [],
   "source": [
    "null_circuit = infom.groupby(['circuit_name', 'mutation_name'], as_index=False).agg({'energies': 'mean'})\n",
    "null_circuit = null_circuit[(null_circuit['energies'] == 0)].iloc[0] \n",
    "null_circuit = infom[(infom['circuit_name'] == null_circuit['circuit_name']) & (infom['mutation_name'] == null_circuit['mutation_name'])]\n",
    "\n",
    "null_cols = [\n",
    "    'overshoot',\n",
    "    'RMSE',\n",
    "    'steady_states',\n",
    "    'initial_steady_states',\n",
    "    'max_amount',\n",
    "    'min_amount',\n",
    "    'response_time_wrt_species-6'\n",
    "]\n",
    "info_null = deepcopy(infom)\n",
    "sample_names = info['sample_name'].unique()\n",
    "for s in sample_names:\n",
    "    for c in relevant_cols:\n",
    "        info_null.loc[info_null['sample_name'] == s, c] = np.log(info_null[info_null['sample_name']\n",
    "                                                                           == s][c] / null_circuit[null_circuit['sample_name'] == s][c].values[0])\n",
    "\n",
    "for c in relevant_cols:\n",
    "    infom[c + '_null'] = info_null[c]\n",
    "\n",
    "info_summ_null = info_null.groupby(['circuit_name', 'mutation_num', 'sample_name'], as_index=False).agg(**named_aggs)\n"
   ]
  },
  {
   "attachments": {},
   "cell_type": "markdown",
   "metadata": {},
   "source": [
    "## Visualisations without null circuit\n"
   ]
  },
  {
   "cell_type": "code",
   "execution_count": null,
   "metadata": {},
   "outputs": [],
   "source": [
    "m = mutation_logm[mutation_logm['energies_idx'] == 'energies_0-0']\n",
    "sns.jointplot(x=m['sensitivity_wrt_species-6'], y=infom['sensitivity_wrt_species-6' + '_null'], hue=infom['mutation_num'])\n",
    "\n",
    "\n",
    "# %%\n",
    "sns.histplot(infom, x='sensitivity_wrt_species-6' + '_null', hue='mutation_num', log_scale=[False, True], element='step', bins=100)\n",
    "\n",
    "# %%\n",
    "sns.jointplot(infom[infom['energies_idx'] == 'energies_0-0'], x='sensitivity_wrt_species-6', y='precision_wrt_species-6', hue='fold_change_null')\n",
    "plt.xscale('log')\n",
    "plt.yscale('log')\n",
    "\n",
    "plt.plot(np.ones(100), np.linspace(10, 1e7, 100), color='r')\n",
    "plt.plot(np.linspace(1, 10, 40), np.ones(40) * 10, color='r')\n",
    "\n",
    "# %%\n",
    "sns.jointplot(infom[infom['energies_idx'] == 'energies_0-0'], x='sensitivity_wrt_species-6', y='precision_wrt_species-6', hue='sensitivity_wrt_species-6_null')\n",
    "plt.xscale('log')\n",
    "plt.yscale('log')\n",
    "\n",
    "\n",
    "# %%\n",
    "sns.jointplot(infom[infom['energies_idx'] == 'energies_0-0'], x='sensitivity_wrt_species-6', y='precision_wrt_species-6', hue='steady_states_null')\n",
    "plt.xscale('log')\n",
    "plt.yscale('log')\n",
    "\n",
    "\n",
    "# %%\n",
    "sns.jointplot(infom[infom['energies_idx'] == 'energies_0-0'], x='steady_states_null', y='sensitivity_wrt_species-6', hue='sample_name')\n",
    "\n",
    "# %%\n",
    "sns.histplot(mutation_logm[mutation_logm['energies_idx'] == 'energies_0-0'], x='sensitivity_wrt_species-6', hue='mutation_num', log_scale=[False, True], element='step', bins=100)\n",
    "# sns.histplot(infom[infom['energies_idx'] == 'energies_0-0'], x='sensitivity_wrt_species-6' + '_null', hue='mutation_num', log_scale=[False, True], element='step')\n",
    "\n",
    "\n",
    "# %%\n",
    "fig = px.scatter_3d(\n",
    "    infom,\n",
    "    x='sensitivity_wrt_species-6' + '_null', y='precision_wrt_species-6' + '_null', z='sp_distance', \n",
    "    color='mutation_num')\n",
    "fig.show()\n",
    "\n",
    "\n",
    "\n",
    "# %%\n",
    "top_circuits = info[info['sample_name'] != 'RNA_0'].sort_values('sp_distance')\n",
    "top_circuits.iloc[:8]\n",
    "\n",
    "# %%\n",
    "\n",
    "\n",
    "\n"
   ]
  }
 ],
 "metadata": {
  "language_info": {
   "name": "python"
  },
  "orig_nbformat": 4
 },
 "nbformat": 4,
 "nbformat_minor": 2
}
