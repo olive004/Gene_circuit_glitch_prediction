{
 "cells": [
  {
   "attachments": {},
   "cell_type": "markdown",
   "metadata": {},
   "source": [
    "# Sampling the sequence space for mutations\n",
    "\n",
    "In biological sequence spaces (DNA, RNA, and proteins), the possible search space is vast and high dimensional. The further a biological sequence mutates away from its original sequence, the more unpredictable the final behavior of the system becomes, with mutations often layering on top of each other at the sequence level in a way that translates non-linearly to the higher order structures - the phenomenon of epistasis. To explore the local mutational landscape required sampling both a well-chosen set of starting sequences and sufficient sampling in their surroundings. \n",
    "\n",
    "Finding good starting sequences has a few caveats. The goal of genetic circuits is to actuate some behavior through the interactions of its components in response to a signal. Therefore, sequences that have combinations of weak or strong interactions are desirable. However, the vast majority of sequence space has weak interactions and is thus non-functional, meaning pairs of sequences have extremely weak binding. Finding sequences that can bind to each other strongly is a prerequisite, but the total sampling of the possible circuit space should still be diverse enough to capture many different types of circuits.\n",
    "\n",
    "For RNA and DNA, complementarity can be used as a way to guarantee binding. Random sampling of the sequence space can be followed up with induced complementarity, for example by delegating one circuit component as a template, then reserving portions of the other components to be complementary to the template strand. The degree and patterning of this induced complementarity can be varied depending on the number of strands and the level of intervention desired. The `SeqGenerator` class therefore has four different ways to generate the components of a genetic circuit, termed 'protocols'. Their differences are demonstrated below."
   ]
  },
  {
   "cell_type": "code",
   "execution_count": 82,
   "metadata": {},
   "outputs": [],
   "source": [
    "import sys\n",
    "import os\n",
    "import Bio\n",
    "import numpy as np\n",
    "\n",
    "\n",
    "if __package__ is None:\n",
    "\n",
    "    module_path = os.path.abspath(os.path.join('..'))\n",
    "    sys.path.append(module_path)\n",
    "\n",
    "    __package__ = os.path.basename(module_path)\n",
    "\n",
    "\n",
    "from synbio_morpher.utils.common.setup import construct_circuit_from_cfg, prepare_config\n",
    "from synbio_morpher.utils.data.data_format_tools.common import load_json_as_dict\n",
    "from synbio_morpher.utils.data.data_format_tools.manipulate_fasta import load_seq_from_FASTA\n",
    "from synbio_morpher.utils.data.fake_data_generation.seq_generator import RNAGenerator\n",
    "from synbio_morpher.utils.evolution.evolver import Evolver\n",
    "from synbio_morpher.utils.misc.type_handling import flatten_listlike, flatten_nested_dict\n",
    "from synbio_morpher.utils.results.result_writer import ResultWriter\n",
    "\n",
    "\n",
    "config = load_json_as_dict(os.path.join('..', 'tests', 'configs', 'simple_circuit.json'))\n"
   ]
  },
  {
   "cell_type": "code",
   "execution_count": 83,
   "metadata": {},
   "outputs": [],
   "source": [
    "data_writer = ResultWriter(purpose='tests')"
   ]
  },
  {
   "cell_type": "code",
   "execution_count": 84,
   "metadata": {},
   "outputs": [],
   "source": [
    "paths_circuits = RNAGenerator(data_writer=data_writer).generate_circuits_batch(\n",
    "            name='toy_RNGA',\n",
    "            num_circuits=10,\n",
    "            num_components=3, \n",
    "            slength=20,\n",
    "            proportion_to_mutate=0.5,\n",
    "            protocol='random',\n",
    "            template=None)\n",
    "\n",
    "samples = [None] * 10\n",
    "for i, p in enumerate(paths_circuits):\n",
    "    samples[i] = load_seq_from_FASTA(list(p.values())[0], as_type='dict')"
   ]
  },
  {
   "cell_type": "code",
   "execution_count": 85,
   "metadata": {},
   "outputs": [
    {
     "data": {
      "text/plain": [
       "{'RNA_0': 'GCCACAAUUAAAGUAGAGGU',\n",
       " 'RNA_1': 'AUUGUAUAACAUAGGUGUCC',\n",
       " 'RNA_2': 'CUUAGCUCCAUACAUACGAG'}"
      ]
     },
     "execution_count": 85,
     "metadata": {},
     "output_type": "execute_result"
    }
   ],
   "source": [
    "samples[0]"
   ]
  },
  {
   "cell_type": "code",
   "execution_count": 94,
   "metadata": {},
   "outputs": [
    {
     "name": "stdout",
     "output_type": "stream",
     "text": [
      "Reference alignment (perfect complementarity):  20.0\n",
      "Alignment scores for complements in circuits: \n",
      "[ 7.  8.  9. 10. 11. 12. 13. 14.]\n",
      "target            0 GCCACAA--U-U-AAAGU---AGAGGU----- 20\n",
      "                  0 -|-------|-|-||--|---|----|----- 32\n",
      "query             0 -C-----GGUGUUAA--UUUCA----UCUCCA 20\n",
      "\n"
     ]
    }
   ],
   "source": [
    "from Bio import Align\n",
    "\n",
    "samples_names = sorted(set(flatten_listlike([list(s.keys()) for s in samples])))\n",
    "aligner = Align.PairwiseAligner()\n",
    "ref_aligments = aligner.align(samples[0][samples_names[0]], samples[0][samples_names[0]])\n",
    "alignments = flatten_listlike(flatten_listlike([[[aligner.align(s[k1], Bio.Seq.complement_rna(s[k2])) for s in samples] for k1 in samples_names] for k2 in samples_names]))\n",
    "print('Reference alignment (perfect complementarity): ', ref_aligments[0].score)\n",
    "print('Alignment scores for complements in circuits: ')\n",
    "print(np.unique([a.score for a in alignments]))\n",
    "print(alignments[0][0])"
   ]
  },
  {
   "attachments": {},
   "cell_type": "markdown",
   "metadata": {},
   "source": [
    "Now we will compare the random sequence generation to the similarity scores produced by heuristic complementarity-inducing methods."
   ]
  },
  {
   "cell_type": "code",
   "execution_count": 87,
   "metadata": {},
   "outputs": [
    {
     "data": {
      "text/plain": [
       "[{'RNA_0': 'GGGCGCGCCCAGUGAAAUCC',\n",
       "  'RNA_1': 'CCGGCCCGCGUGACAUUUGG',\n",
       "  'RNA_2': 'CGCGGGCCGGACAGUUAAGC'}]"
      ]
     },
     "execution_count": 87,
     "metadata": {},
     "output_type": "execute_result"
    }
   ],
   "source": [
    "good_template = 'GCCCCGGGGCUCUCUAUACG'  # toy_mRNA_circuit_133814, ensemble_generate_circuits/2023_02_24_170946/generate_species_templates/circuits\n",
    "bad_template = 'UAGCCCUUGAUAAGGGCUAA'   # ensemble_generate_circuits/2023_02_24_170946/generate_species_templates/circuits/toy_mRNA_circuit_0.fasta\n",
    "\n",
    "templates = {'strong': good_template, 'weak': bad_template}\n",
    "protocols = ['template_mix', 'template_mutate', 'template_split']\n",
    "path_dict = {}\n",
    "i = 0\n",
    "for n, t in templates.items():\n",
    "    path_dict[n] = {}\n",
    "    for p in protocols:\n",
    "        np.random.seed(i)\n",
    "        i+= 1\n",
    "        num_circuits = 10 if p == 'template_mutate' else 1\n",
    "        path_dict[n][p] = RNAGenerator(data_writer=data_writer).generate_circuits_batch(\n",
    "            name=f'toy_RNA_{n}_{p}',\n",
    "            num_circuits=num_circuits,\n",
    "            num_components=3,\n",
    "            slength=20,\n",
    "            proportion_to_mutate=0.5,\n",
    "            protocol=p,\n",
    "            template=t)\n",
    "\n",
    "templated_samples = path_dict\n",
    "for n, v in path_dict.items():\n",
    "    for prot, paths in v.items():\n",
    "        templated_samples[n][prot] = [load_seq_from_FASTA(list(pv.values())[0], as_type='dict') for pv in paths]\n",
    "    # construct_circuit_from_cfg(config)\n",
    "templated_samples['strong']['template_mix'][:3]\n"
   ]
  },
  {
   "attachments": {},
   "cell_type": "markdown",
   "metadata": {},
   "source": [
    "## Comparison between methods"
   ]
  },
  {
   "cell_type": "code",
   "execution_count": 90,
   "metadata": {},
   "outputs": [],
   "source": [
    "def convert_seqs_to_binary_complement(refseq, mutseq): \n",
    "    return (np.asarray(list(refseq)) == np.asarray(list(mutseq))) * 1"
   ]
  },
  {
   "cell_type": "code",
   "execution_count": 105,
   "metadata": {},
   "outputs": [
    {
     "name": "stdout",
     "output_type": "stream",
     "text": [
      "Method: template_mutate\n",
      "Reference sequence:  GCCCCGGGGCUCUCUAUACG\n",
      "Mutated sequence:  GCCCCUGGGCUCCAAAUACG - pattern:  [1 1 1 1 1 0 1 1 1 1 1 1 0 0 0 1 1 1 1 1] \t Mutated:  0.2\n",
      "Mutated sequence:  UGAACGUCGCUCACUAUAAG - pattern:  [0 0 0 0 1 1 0 0 1 1 1 1 0 1 1 1 1 1 0 1] \t Mutated:  0.4\n",
      "Mutated sequence:  GCCCAGGGGACAUGUACAUG - pattern:  [1 1 1 1 0 1 1 1 1 0 0 0 1 0 1 1 0 1 0 1] \t Mutated:  0.35\n"
     ]
    }
   ],
   "source": [
    "print('Method: template_mutate')\n",
    "tmut = templated_samples['strong']['template_mutate'][0]\n",
    "print('Reference sequence: ', templates['strong'])\n",
    "print('Mutated sequence: ', tmut['RNA_0'], '- pattern: ', ''.join(str(convert_seqs_to_binary_complement(templates['strong'], tmut['RNA_0']))), '\\t Mutated: ', round(1- sum(convert_seqs_to_binary_complement(templates['strong'], tmut['RNA_0'])/20),3))\n",
    "print('Mutated sequence: ', tmut['RNA_1'], '- pattern: ', ''.join(str(convert_seqs_to_binary_complement(templates['strong'], tmut['RNA_1']))), '\\t Mutated: ', round(1- sum(convert_seqs_to_binary_complement(templates['strong'], tmut['RNA_1'])/20),3))\n",
    "print('Mutated sequence: ', tmut['RNA_2'], '- pattern: ', ''.join(str(convert_seqs_to_binary_complement(templates['strong'], tmut['RNA_2']))), '\\t Mutated: ', round(1- sum(convert_seqs_to_binary_complement(templates['strong'], tmut['RNA_2'])/20),3))"
   ]
  },
  {
   "cell_type": "code",
   "execution_count": 106,
   "metadata": {},
   "outputs": [
    {
     "name": "stdout",
     "output_type": "stream",
     "text": [
      "Method: template_mix\n",
      "Reference sequence:  GCCCCGGGGCUCUCUAUACG\n",
      "Mix sequence:  GGGCGCGCCCAGUGAAAUCC - pattern:  [1 0 0 1 0 0 1 0 0 1 0 0 1 0 0 1 0 0 1 0] \t Mutated:  0.65\n",
      "Mix sequence:  CCGGCCCGCGUGACAUUUGG - pattern:  [0 1 0 0 1 0 0 1 0 0 1 0 0 1 0 0 1 0 0 1] \t Mutated:  0.65\n",
      "Mix sequence:  CGCGGGCCGGACAGUUAAGC - pattern:  [0 0 1 0 0 1 0 0 1 0 0 1 0 0 1 0 0 1 0 0] \t Mutated:  0.7\n"
     ]
    }
   ],
   "source": [
    "print('Method: template_mix')\n",
    "tmix = templated_samples['strong']['template_mix'][0]\n",
    "print('Reference sequence: ', templates['strong'])\n",
    "print('Mix sequence: ', tmix['RNA_0'], '- pattern: ', ''.join(str(convert_seqs_to_binary_complement(templates['strong'], tmix['RNA_0']))), '\\t Mutated: ', round(1- sum(convert_seqs_to_binary_complement(templates['strong'], tmix['RNA_0'])/20),3))\n",
    "print('Mix sequence: ', tmix['RNA_1'], '- pattern: ', ''.join(str(convert_seqs_to_binary_complement(templates['strong'], tmix['RNA_1']))), '\\t Mutated: ', round(1- sum(convert_seqs_to_binary_complement(templates['strong'], tmix['RNA_1'])/20),3))\n",
    "print('Mix sequence: ', tmix['RNA_2'], '- pattern: ', ''.join(str(convert_seqs_to_binary_complement(templates['strong'], tmix['RNA_2']))), '\\t Mutated: ', round(1- sum(convert_seqs_to_binary_complement(templates['strong'], tmix['RNA_2'])/20),3))"
   ]
  },
  {
   "cell_type": "code",
   "execution_count": 107,
   "metadata": {},
   "outputs": [
    {
     "name": "stdout",
     "output_type": "stream",
     "text": [
      "Method: template_split\n",
      "Reference sequence:  GCCCCGGGGCUCUCUAUACG\n",
      "Split sequence:  CGGGGCGGGCUCUCUAUACG - pattern:  [0 0 0 0 0 0 1 1 1 1 1 1 1 1 1 1 1 1 1 1] \t Mutated:  0.3\n",
      "Split sequence:  GCCCCGCCCGAGUCUAUACG - pattern:  [1 1 1 1 1 1 0 0 0 0 0 0 1 1 1 1 1 1 1 1] \t Mutated:  0.3\n",
      "Split sequence:  GCCCCGGGGCUCAGAUAUCG - pattern:  [1 1 1 1 1 1 1 1 1 1 1 1 0 0 0 0 0 0 1 1] \t Mutated:  0.3\n"
     ]
    }
   ],
   "source": [
    "print('Method: template_split')\n",
    "tsplit = templated_samples['strong']['template_split'][0]\n",
    "print('Reference sequence: ', templates['strong'])\n",
    "print('Split sequence: ', tsplit['RNA_0'], '- pattern: ', ''.join(str(convert_seqs_to_binary_complement(templates['strong'], tsplit['RNA_0']))), '\\t Mutated: ', round(1- sum(convert_seqs_to_binary_complement(templates['strong'], tsplit['RNA_0'])/20),3))\n",
    "print('Split sequence: ', tsplit['RNA_1'], '- pattern: ', ''.join(str(convert_seqs_to_binary_complement(templates['strong'], tsplit['RNA_1']))), '\\t Mutated: ', round(1- sum(convert_seqs_to_binary_complement(templates['strong'], tsplit['RNA_1'])/20),3))\n",
    "print('Split sequence: ', tsplit['RNA_2'], '- pattern: ', ''.join(str(convert_seqs_to_binary_complement(templates['strong'], tsplit['RNA_2']))), '\\t Mutated: ', round(1- sum(convert_seqs_to_binary_complement(templates['strong'], tsplit['RNA_2'])/20),3))"
   ]
  }
 ],
 "metadata": {
  "kernelspec": {
   "display_name": "env_circuits",
   "language": "python",
   "name": "python3"
  },
  "language_info": {
   "codemirror_mode": {
    "name": "ipython",
    "version": 3
   },
   "file_extension": ".py",
   "mimetype": "text/x-python",
   "name": "python",
   "nbconvert_exporter": "python",
   "pygments_lexer": "ipython3",
   "version": "3.10.6"
  },
  "orig_nbformat": 4
 },
 "nbformat": 4,
 "nbformat_minor": 2
}
