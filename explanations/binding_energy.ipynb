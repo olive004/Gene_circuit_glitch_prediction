{
 "cells": [
  {
   "cell_type": "code",
   "execution_count": null,
   "metadata": {},
   "outputs": [],
   "source": [
    "\n",
    "        import matplotlib.pyplot as plt\n",
    "        \n",
    "        def binding_energy_to_fluorescence(E):\n",
    "            \"\"\" BE is in kcal/mol\"\"\"\n",
    "            F = np.where(E < -36, 0.01, 0) + np.where((E >= -36) & (E < -10), E*(1-0.01)/(-36+10), 0) + np.where(E >= -10, 1, 0)\n",
    "            return F\n",
    "\n",
    "        E = np.arange(-60, 0, 0.5)\n",
    "        F = 1/(1+np.exp(-(E/3 + 5))) + 0.01\n",
    "\n",
    "        plt.figure(figsize=(10,3))\n",
    "        plt.plot(E, F)\n",
    "        plt.yscale('log')\n",
    "        plt.savefig('test.png')"
   ]
  },
  {
   "attachments": {},
   "cell_type": "markdown",
   "metadata": {},
   "source": [
    "# Binding energy calculation\n",
    "\n",
    "## Justification\n",
    "\n",
    "For two interacting RNAs, the binding energy may be found through a variety of RNA simulators. However, translating this into how the RNAs "
   ]
  },
  {
   "cell_type": "code",
   "execution_count": null,
   "metadata": {},
   "outputs": [],
   "source": [
    "import matplotlib.pyplot as plt\n",
    "import numpy as np"
   ]
  }
 ],
 "metadata": {
  "kernelspec": {
   "display_name": "env_circuits",
   "language": "python",
   "name": "python3"
  },
  "language_info": {
   "name": "python",
   "version": "3.10.6"
  },
  "orig_nbformat": 4,
  "vscode": {
   "interpreter": {
    "hash": "172594369b7e917b537188c81f1a7108d427e78c3b158785db52bc1182200d3e"
   }
  }
 },
 "nbformat": 4,
 "nbformat_minor": 2
}
