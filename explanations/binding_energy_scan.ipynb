{
 "cells": [
  {
   "attachments": {},
   "cell_type": "markdown",
   "metadata": {},
   "source": [
    "# Scan parameters: Are there binding rates that can produce an adaptable circuit?\n",
    "\n",
    "Circuits that can readjust back to their steady state following a signal input."
   ]
  },
  {
   "cell_type": "code",
   "execution_count": 1,
   "metadata": {},
   "outputs": [],
   "source": [
    "from copy import deepcopy\n",
    "from functools import partial\n",
    "import os\n",
    "import sys\n",
    "\n",
    "import matplotlib.pyplot as plt\n",
    "import seaborn as sns\n",
    "plt.style.use('bmh')\n",
    "plt.style.use('seaborn-v0_8')\n",
    "import numpy as np\n",
    "import jax.numpy as jnp\n",
    "import jax.random as jr\n",
    "import pandas as pd\n",
    "import jax\n",
    "import diffrax as dfx\n",
    "from tqdm import tqdm\n",
    "\n",
    "# os.environ[\"XLA_PYTHON_CLIENT_PREALLOCATE\"] = \"false\"\n",
    "# os.environ[\"XLA_PYTHON_CLIENT_MEM_FRACTION\"] = \"0.8\"\n",
    "os.environ[\"TF_CPP_MIN_LOG_LOVEL\"] = \"0\"\n",
    "jax.config.update('jax_platform_name', 'gpu')\n",
    "\n",
    "import bioreaction\n",
    "from bioreaction.model.data_containers import Impulse\n",
    "from bioreaction.simulation.basic_sim import basic_de_sim, convert_model, BasicSimParams, BasicSimState, bioreaction_sim_expanded\n",
    "from bioreaction.model.data_tools import construct_model_fromnames\n",
    "from bioreaction.simulation.med_sim import get_int_med_model, basic_de, MedSimParams, MedSimInternalState\n",
    "\n",
    "\n",
    "if __package__ is None:\n",
    "\n",
    "    module_path = os.path.abspath(os.path.join('..'))\n",
    "    sys.path.append(module_path)\n",
    "\n",
    "    __package__ = os.path.basename(module_path)\n",
    "\n",
    "from tests.shared import five_circuits, CONFIG\n",
    "import src\n",
    "from src.srv.sequence_exploration.sequence_analysis import b_tabulate_mutation_info\n",
    "from src.utils.misc.numerical import make_symmetrical_matrix_from_sequence, triangular_sequence\n",
    "from src.utils.misc.type_handling import flatten_listlike\n",
    "from src.utils.misc.units import per_mol_to_per_molecule\n",
    "from src.utils.modelling.deterministic import bioreaction_sim_dfx_expanded\n",
    "from src.utils.results.analytics.naming import get_true_names_analytics, get_true_interaction_cols\n",
    "from src.utils.results.analytics.timeseries import generate_analytics, get_precision, get_sensitivity, get_step_response_times\n",
    "\n",
    "\n",
    "config = deepcopy(CONFIG)"
   ]
  },
  {
   "cell_type": "code",
   "execution_count": null,
   "metadata": {},
   "outputs": [],
   "source": [
    "jax.devices()"
   ]
  },
  {
   "cell_type": "code",
   "execution_count": null,
   "metadata": {},
   "outputs": [],
   "source": [
    "# size = 3000\n",
    "# key = jr.PRNGKey(0)\n",
    "# x = jr.normal(key, (size, size), dtype=jnp.float32)\n",
    "# %timeit jax.jit(jnp.dot, backend='cpu')(x, x.T) #.block_until_ready()  # runs on the GPU"
   ]
  },
  {
   "cell_type": "code",
   "execution_count": null,
   "metadata": {},
   "outputs": [],
   "source": [
    "# %timeit jax.jit(jnp.dot, backend='gpu')(x, x.T) #.block_until_ready()  # runs on the GPU\n"
   ]
  },
  {
   "attachments": {},
   "cell_type": "markdown",
   "metadata": {},
   "source": [
    "A single model:"
   ]
  },
  {
   "cell_type": "code",
   "execution_count": null,
   "metadata": {},
   "outputs": [],
   "source": [
    "num_species = 3\n",
    "input_species_idx = 0\n",
    "output_species_idx = 1\n",
    "\n",
    "Keq = np.array(\n",
    "    [[1, 2, 1],\n",
    "     [2, 1, 0.5],\n",
    "     [1, 0.5, 2]]\n",
    ")\n",
    "# From src/utils/common/configs/RNA_circuit/molecular_params.json\n",
    "a=np.ones(3) * 0.08333\n",
    "d=np.ones(3) * 0.0008333\n",
    "ka=np.ones_like(Keq) * per_mol_to_per_molecule(1000000)\n",
    "kd=ka/Keq\n",
    "\n",
    "med_model = bioreaction.templates.generate_rnabinding_medsim(\n",
    "    num_species=num_species,\n",
    "    a=a, d=d, ka=ka,\n",
    "    kd=ka/Keq,\n",
    "    impulse_idx=0\n",
    ")\n",
    "\n",
    "s0 = np.concatenate([np.array([1.0, 1.0, 1.0]), np.zeros(len(med_model.species[num_species:]))])\n",
    "\n",
    "# impulse = Impulse(target=med_model.species[:num_species][input_species_idx], delta_target=20, time=100.0, impulse_width=0.0)\n",
    "med_model.impulses = []\n",
    "poiss_simmed = jnp.zeros(len(med_model.reactions))\n",
    "brown_simmed = jnp.zeros(len(med_model.reactions))\n",
    "\n",
    "# Making the params for the simulation, how things are simutated and for how long.\n",
    "int_med_params = MedSimParams(delta_t= 0.01, t_start=0.0, t_end = 1000.0, poisson_sim_reactions=poiss_simmed, brownian_sim_reaction=brown_simmed)\n",
    "int_med_model = get_int_med_model(med_model)\n",
    "int_med_state = MedSimInternalState(concentrations=s0, other_factors=jnp.zeros(len(med_model.other_factors)))\n",
    "med_model.species\n",
    "\n"
   ]
  },
  {
   "cell_type": "code",
   "execution_count": null,
   "metadata": {},
   "outputs": [],
   "source": [
    "\n",
    "def update_model_rates(model, a=None, d=None, ka=None, kd=None):\n",
    "    for i, r in enumerate(model.reactions):\n",
    "        if not r.input:  # 0 -> RNA\n",
    "            if a is not None:\n",
    "                model.reactions[i].forward_rate = a[model.species.index(\n",
    "                    r.output[0])]\n",
    "                model.reactions[i].reverse_rate = 0\n",
    "        elif not r.output:  # RNA -> 0\n",
    "            if d is not None:\n",
    "                model.reactions[i].forward_rate = d[model.species.index(\n",
    "                    r.input[0])]\n",
    "                model.reactions[i].reverse_rate = 0\n",
    "        else:\n",
    "            if ka is not None:\n",
    "                model.reactions[i].forward_rate = ka[model.species.index(r.input[0]),\n",
    "                                                    model.species.index(r.input[1])]\n",
    "            if kd is not None:\n",
    "                model.reactions[i].reverse_rate = kd[model.species.index(r.input[0]),\n",
    "                                                    model.species.index(r.input[1])]\n",
    "    return model\n"
   ]
  },
  {
   "cell_type": "code",
   "execution_count": null,
   "metadata": {},
   "outputs": [],
   "source": [
    "med_model = update_model_rates(med_model, a, d, ka, kd)"
   ]
  },
  {
   "cell_type": "code",
   "execution_count": null,
   "metadata": {},
   "outputs": [],
   "source": [
    "result_1 = jax.jit(basic_de, backend='cpu')(int_med_state, int_med_model, int_med_params)\n",
    "# result_1 = basic_de(int_med_state, int_med_model, int_med_params)"
   ]
  },
  {
   "cell_type": "code",
   "execution_count": null,
   "metadata": {},
   "outputs": [],
   "source": [
    "\n",
    "plt.plot(result_1.ts, np.array(result_1.ys.concentrations)[:, :num_species], label=[str(s) for s in med_model.species[:num_species]])\n",
    "plt.legend()"
   ]
  },
  {
   "attachments": {},
   "cell_type": "markdown",
   "metadata": {},
   "source": [
    "### Checking that new basic de sim is the same as bioreactions sim\n",
    "\n",
    "Also checking times to simulate for non-vmapped case."
   ]
  },
  {
   "cell_type": "code",
   "execution_count": null,
   "metadata": {},
   "outputs": [],
   "source": [
    "model = construct_model_fromnames([str(i) for i in range(num_species)])\n",
    "model.species = model.species[-num_species:] + model.species[:-num_species]\n",
    "model = update_model_rates(model, a, d, ka, kd)\n",
    "sim_model = convert_model(model)\n",
    "starting_state = BasicSimState(concentrations=s0)\n",
    "params = BasicSimParams(delta_t=0.01, total_time=1000.0)\n",
    "\n",
    "state = basic_de_sim(starting_state=starting_state, model=sim_model, params=params)\n",
    "results_species = np.concatenate([np.expand_dims(starting_state.concentrations, axis=0), state[1]])\n",
    "t = np.arange(params.total_time / params.delta_t) * params.delta_t\n"
   ]
  },
  {
   "cell_type": "code",
   "execution_count": null,
   "metadata": {},
   "outputs": [],
   "source": [
    "result_dfx = jax.jit(\n",
    "    partial(bioreaction_sim_dfx_expanded, signal=lambda x: x),\n",
    "    backend='cpu')(y0=s0, t0=0.0, t1=params.total_time, dt0=params.delta_t,\n",
    "                   inputs=sim_model.inputs, outputs=sim_model.outputs,\n",
    "                   forward_rates=sim_model.forward_rates, reverse_rates=sim_model.reverse_rates,\n",
    "                   signal_onehot=jnp.zeros(len(model.species)))\n",
    "result_dfx_y = result_dfx.ys[result_dfx.ts < np.inf]\n",
    "result_dfx_t = result_dfx.ts[result_dfx.ts < np.inf]\n"
   ]
  },
  {
   "cell_type": "code",
   "execution_count": null,
   "metadata": {},
   "outputs": [],
   "source": [
    "plt.figure(figsize=(15, 6))\n",
    "ax = plt.subplot(1,2,1)\n",
    "plt.plot(t, results_species[:, :num_species])\n",
    "plt.legend(model.species[:num_species])\n",
    "\n",
    "ax = plt.subplot(1,2,2)\n",
    "# till = int(5 / params.delta_t)\n",
    "plt.plot(result_dfx_t, result_dfx_y[:, :num_species])\n"
   ]
  },
  {
   "attachments": {},
   "cell_type": "markdown",
   "metadata": {},
   "source": [
    "### Simulation comparison\n",
    "\n",
    "So far, we have \n",
    "- `basic_de_sim`: a very basic for loop simulator \n",
    "- `bioreaction_sim_dfx_expanded`: uses essentially the same same core function as the loop, but with a better numerical solver\n",
    "- `basic_de`: same as bioreaction_sim_dfx_expanded, except the Med Sim model includes noise terms for some of the processes.\n",
    "\n",
    "The for loop is the fastest since it uses the fewest steps. Used dt=0.01 for both runs. For t_end = 1000, `vmap1` and `vmap3` took ca. 2 mins, while `vmap2` took ca. 2s. For t_end=10000, `vmap1` and `vmap3` took ca. 10 mins, while `vmap2` took ca. 15s.\n",
    "\n",
    "Even for long time steps, the loop is very similar to the Tsit5 solver. "
   ]
  },
  {
   "cell_type": "code",
   "execution_count": null,
   "metadata": {},
   "outputs": [],
   "source": [
    "params.total_time = 100.0\n",
    "params.delta_t = 0.01\n",
    "int_med_params.t_end = 100.0\n",
    "int_med_params.delta_t = 0.01\n",
    "\n",
    "def to_vmap_dfx(reverse_rates):\n",
    "    return bioreaction_sim_dfx_expanded(y0=s0, t0=0, t1=params.total_time, dt0=params.delta_t,\n",
    "                                        inputs=sim_model.inputs, outputs=sim_model.outputs,\n",
    "                                        forward_rates=sim_model.forward_rates, reverse_rates=reverse_rates,\n",
    "                                        signal=lambda x: x, signal_onehot=np.zeros(len(model.species)),\n",
    "                                        saveat=dfx.SaveAt(ts=jnp.linspace(0, params.total_time, 100)),\n",
    "                                        max_steps=int(params.total_time * 1.5 / params.delta_t))\n",
    "\n",
    "\n",
    "def to_vmap_basic(reverse_rates):\n",
    "    sim_model.reverse_rates = reverse_rates\n",
    "    return basic_de_sim(starting_state=starting_state, model=sim_model, params=params)\n",
    "\n",
    "\n",
    "def to_vmap_basic_med(reverse_rates):\n",
    "    int_med_model.reactions.reverse_rates = reverse_rates\n",
    "    return basic_de(int_med_state, int_med_model, int_med_params)\n",
    "\n",
    "\n",
    "vmap1 = jax.jit(jax.vmap(to_vmap_dfx))\n",
    "vmap2 = jax.jit(jax.vmap(to_vmap_basic))\n",
    "vmap3 = jax.jit(jax.vmap(to_vmap_basic_med))\n"
   ]
  },
  {
   "cell_type": "code",
   "execution_count": null,
   "metadata": {},
   "outputs": [],
   "source": [
    "\n",
    "test_amount = 20\n",
    "revs = np.array([sim_model.reverse_rates + i for i in range(test_amount)])"
   ]
  },
  {
   "cell_type": "code",
   "execution_count": null,
   "metadata": {},
   "outputs": [],
   "source": [
    "res1 = vmap1(revs)\n",
    "tf = np.argmax(res1.ts >= np.inf)\n",
    "tf = res1.ts.shape[1] if tf == 0 else tf"
   ]
  },
  {
   "cell_type": "code",
   "execution_count": null,
   "metadata": {},
   "outputs": [],
   "source": [
    "res2 = vmap2(revs)\n",
    "res2_ = np.concatenate([np.repeat(np.expand_dims(np.expand_dims(starting_state.concentrations, axis=0), axis=0), repeats=test_amount, axis=0), res2[1]], axis=1)"
   ]
  },
  {
   "cell_type": "code",
   "execution_count": null,
   "metadata": {},
   "outputs": [],
   "source": [
    "res3 = vmap3(revs)"
   ]
  },
  {
   "attachments": {},
   "cell_type": "markdown",
   "metadata": {},
   "source": [
    "Compare the simulation methods. They should be roughly similar looking."
   ]
  },
  {
   "cell_type": "code",
   "execution_count": null,
   "metadata": {},
   "outputs": [],
   "source": [
    "res1.ys[res1.ts < np.inf]\n",
    "res1.ts[res1.ts < np.inf]\n",
    "plt.figure(figsize=(20, 5))\n",
    "for p in range(test_amount):\n",
    "    ax = plt.subplot(1,3,1)\n",
    "    plt.plot(res1.ts[p, :tf], res1.ys[p, :tf, :num_species])\n",
    "    ax = plt.subplot(1,3,2)\n",
    "    plt.plot(np.arange(res2_.shape[1]) * params.delta_t, res2_[p, :, :num_species])\n",
    "    ax = plt.subplot(1,3,3)\n",
    "    plt.plot(res3.ts[p], res3.ys.concentrations[p, :, :num_species])\n",
    "\n",
    "# plt.legend(model.species[:num_species])"
   ]
  },
  {
   "attachments": {},
   "cell_type": "markdown",
   "metadata": {},
   "source": [
    "## Can we scale the gene circuit parameters to make the simulation faster?\n",
    "\n",
    "The answer is it scales with dt and concentration, so can make your sim unstable for the same number of time steps. Multiplying the rates by 10 is like multiplying the dt by 10, except the dt stays the same per time step so we have to divide the total time by 10 too to get the actual time simulated. Instability may still result from this.\n",
    "\n",
    "The graph for 1000 time steps with dt 0.01 but rate scaling of 100 approximately looks the same as the graph for simulating for 100000 time steps."
   ]
  },
  {
   "cell_type": "code",
   "execution_count": null,
   "metadata": {},
   "outputs": [],
   "source": [
    "sim_model = convert_model(model)\n",
    "scale_factor = 100\n",
    "params = BasicSimParams(delta_t=1, total_time=100000.0)\n",
    "\n",
    "sim_result = basic_de_sim(starting_state=starting_state, model=sim_model, params=params)\n",
    "sim_result_ = np.concatenate([np.expand_dims(starting_state.concentrations, axis=0), sim_result[1]])\n",
    "t_sim = np.arange(params.total_time / params.delta_t) * params.delta_t"
   ]
  },
  {
   "cell_type": "code",
   "execution_count": null,
   "metadata": {},
   "outputs": [],
   "source": [
    "sim_model.reverse_rates = sim_model.reverse_rates * scale_factor\n",
    "sim_model.forward_rates = sim_model.forward_rates * scale_factor\n",
    "# sim_model.reverse_rates = sim_model.reverse_rates / sim_model.forward_rates.min()\n",
    "# sim_model.forward_rates = sim_model.forward_rates / sim_model.forward_rates.min()\n"
   ]
  },
  {
   "cell_type": "code",
   "execution_count": null,
   "metadata": {},
   "outputs": [],
   "source": [
    "params = BasicSimParams(delta_t=0.01, total_time=1000.0)\n",
    "starting_state\n",
    "\n",
    "norm_sim_result = basic_de_sim(starting_state=starting_state, model=sim_model, params=params)\n",
    "norm_sim_result_ = np.concatenate([np.expand_dims(starting_state.concentrations, axis=0), norm_sim_result[1]])\n",
    "t = np.arange(params.total_time / params.delta_t) * params.delta_t * scale_factor"
   ]
  },
  {
   "cell_type": "code",
   "execution_count": null,
   "metadata": {},
   "outputs": [],
   "source": [
    "\n",
    "\n",
    "plt.figure(figsize=(15,5))\n",
    "ax = plt.subplot(1,2,1)\n",
    "plt.plot(t, norm_sim_result_[:, :num_species])\n",
    "plt.legend(model.species[:num_species])\n",
    "ax = plt.subplot(1,2,2)\n",
    "plt.plot(t_sim, sim_result_[1:, :num_species])\n",
    "plt.legend(model.species[:num_species])\n",
    "\n"
   ]
  },
  {
   "attachments": {},
   "cell_type": "markdown",
   "metadata": {},
   "source": [
    "## Scan: develop methods\n",
    "\n",
    "Scan a bunch of dissociation rates to find adaptive behaviors. First we have to make functions to accomplish that and make it all fit in GPU memory"
   ]
  },
  {
   "attachments": {},
   "cell_type": "markdown",
   "metadata": {},
   "source": [
    "Make matrices for different dissociation rates. Using equilibrium constants from 0.01 to 5."
   ]
  },
  {
   "cell_type": "code",
   "execution_count": null,
   "metadata": {},
   "outputs": [],
   "source": [
    "\n",
    "\n",
    "K_eqs_range = np.array([0.1, 0.5, 1.0, 1.5, 9])\n",
    "num_Keqs = np.size(K_eqs_range)\n",
    "num_unique_interactions = np.math.factorial(num_species)\n",
    "\n",
    "# Create matrices\n",
    "def define_matrices(num_species, size_interaction_array, num_unique_interactions, num_analytic_types):\n",
    "    matrix_dimensions = tuple(\n",
    "        [num_species] + [size_interaction_array]*num_unique_interactions)\n",
    "    matrix_size = num_species * \\\n",
    "        np.power(size_interaction_array, num_unique_interactions)\n",
    "    assert matrix_size == np.prod(list(\n",
    "        matrix_dimensions)), 'Something is off about the intended size of the matrix'\n",
    "\n",
    "    all_analytic_matrices = []\n",
    "    for _analytic in range(num_analytic_types):\n",
    "        all_analytic_matrices.append(np.zeros(\n",
    "            matrix_dimensions, dtype=np.float32))\n",
    "    return all_analytic_matrices\n",
    "\n",
    "\n",
    "# Set loop vars\n",
    "analytic_types = ['precision']\n",
    "all_analytic_matrices = define_matrices(\n",
    "    num_species, num_Keqs, num_unique_interactions, len(analytic_types))\n",
    "\n",
    "# total_iterations = np.power(\n",
    "#     size_interaction_array, num_unique_interactions)\n",
    "total_iterations = np.power(num_Keqs, num_unique_interactions)\n",
    "total_processes = 1\n",
    "sub_process = 0\n",
    "num_iterations = int(total_iterations / total_processes)\n",
    "starting_iteration = int(num_iterations * sub_process)\n",
    "end_iteration = int(num_iterations * (sub_process + 1))\n",
    "\n",
    "print('Making ', num_iterations, ' parameter combinations for equilibrium constants range: ', K_eqs_range)\n"
   ]
  },
  {
   "cell_type": "code",
   "execution_count": null,
   "metadata": {},
   "outputs": [],
   "source": [
    "pows = np.power(num_Keqs, np.arange(num_unique_interactions))\n",
    "num_to_skip = sum([sum(pows[i:]) for i in range(1, len(pows[:]))])  # It's actually 2599051 for 13 K_eq combos\n",
    "num_to_skip"
   ]
  },
  {
   "cell_type": "code",
   "execution_count": null,
   "metadata": {},
   "outputs": [],
   "source": [
    "def make_keqs():\n",
    "    K_eqs = np.zeros((num_iterations, num_species, num_species))\n",
    "    pows = np.power(num_Keqs, np.arange(num_unique_interactions))\n",
    "    for i in range(num_iterations):\n",
    "        interaction_strength_choices = np.floor(\n",
    "            np.mod(i / pows, num_Keqs)).astype(int)\n",
    "        if interaction_strength_choices[1] < interaction_strength_choices[3]:\n",
    "            continue\n",
    "        flat_triangle = K_eqs_range[list(\n",
    "            interaction_strength_choices)]\n",
    "        K_eqs[i] = make_symmetrical_matrix_from_sequence(\n",
    "            flat_triangle, num_species)\n",
    "    return K_eqs\n",
    "\n",
    "K_eqs = jax.jit(make_keqs, backend='cpu')()\n",
    "didx = np.flatnonzero((K_eqs == 0).all((1,2)))\n",
    "K_eqs = np.delete(K_eqs, didx, axis=0)"
   ]
  },
  {
   "attachments": {},
   "cell_type": "markdown",
   "metadata": {},
   "source": [
    "Propagate equilibrium constants into rates of dissociation, ie rates of reverse interactions."
   ]
  },
  {
   "cell_type": "code",
   "execution_count": null,
   "metadata": {},
   "outputs": [],
   "source": [
    "def make_reverse_rates(med_model, reverse_rates, interaction_matrices):\n",
    "    index_translation = []\n",
    "    for i, r in enumerate(med_model.reactions):\n",
    "        if r.output and r.input:\n",
    "            index_translation.append([i, med_model.species.index(r.input[0]),\n",
    "                                      med_model.species.index(r.input[1])])\n",
    "    reverse_rates = np.repeat(\n",
    "        np.expand_dims(reverse_rates, axis=0),\n",
    "        interaction_matrices.shape[0], axis=0\n",
    "    )\n",
    "    for i, k, j in index_translation:\n",
    "        reverse_rates[:, i] = interaction_matrices[:, k, j]\n",
    "    return reverse_rates\n",
    "\n",
    "kds = ka / K_eqs\n",
    "sim_model = convert_model(model)\n",
    "b_reverse_rates = make_reverse_rates(med_model, sim_model.reverse_rates, kds)\n"
   ]
  },
  {
   "cell_type": "code",
   "execution_count": null,
   "metadata": {},
   "outputs": [],
   "source": [
    "print('Number of runs: ', kds.shape[0])"
   ]
  },
  {
   "cell_type": "code",
   "execution_count": null,
   "metadata": {},
   "outputs": [],
   "source": [
    "dt_base = 0.1\n",
    "b_reverse_rates[0].max() / kds.min()"
   ]
  },
  {
   "cell_type": "code",
   "execution_count": null,
   "metadata": {},
   "outputs": [],
   "source": [
    "kds.min()"
   ]
  },
  {
   "cell_type": "code",
   "execution_count": null,
   "metadata": {},
   "outputs": [],
   "source": [
    "np.round(np.unique(kds) / kds.max(), 1)"
   ]
  },
  {
   "cell_type": "code",
   "execution_count": null,
   "metadata": {},
   "outputs": [],
   "source": [
    "np.unique(kds)\n",
    "np.argmax(np.unique(kds) == np.unique(kds)[1])"
   ]
  },
  {
   "attachments": {},
   "cell_type": "markdown",
   "metadata": {},
   "source": [
    "Simulate all the interactions. First find the steady states (takes quite a lot of time steps)."
   ]
  },
  {
   "cell_type": "code",
   "execution_count": null,
   "metadata": {},
   "outputs": [],
   "source": [
    "def clear_gpu():\n",
    "    backend = jax.lib.xla_bridge.get_backend()\n",
    "    for buf in backend.live_buffers(): buf.delete()\n",
    "\n",
    "clear_gpu()"
   ]
  },
  {
   "cell_type": "code",
   "execution_count": null,
   "metadata": {},
   "outputs": [],
   "source": [
    "\n",
    "# int_med_params = MedSimParams(delta_t= 0.1, t_start=0.0, t_end = 300000.0, poisson_sim_reactions=poiss_simmed, brownian_sim_reaction=brown_simmed)\n",
    "# int_med_model = get_int_med_model(med_model)\n",
    "# int_med_state = MedSimInternalState(concentrations=s0, other_factors=jnp.zeros(len(med_model.other_factors)))\n",
    "\n",
    "# sim_dfx = partial(bioreaction_sim_dfx_expanded,\n",
    "#                   y0=s0, t0=int_med_params.t_start, t1=int_med_params.t_end, dt0=int_med_params.delta_t,\n",
    "#                   inputs=int_med_model.reactions.inputs, outputs=int_med_model.reactions.outputs,\n",
    "#                   forward_rates=int_med_model.reactions.forward_rates,\n",
    "#                   signal=lambda x: x, signal_onehot=np.zeros(len(med_model.species)),\n",
    "#                   saveat=dfx.SaveAt(ts=jnp.linspace(int_med_params.t_start, int_med_params.t_end, 100)),\n",
    "#                   max_steps=16**6)\n",
    "# def to_vmap_dfx(reverse_rates):\n",
    "#     return sim_dfx(reverse_rates=reverse_rates)\n",
    "\n",
    "# vmap_dfx = jax.jit(jax.vmap(to_vmap_dfx))\n",
    "\n",
    "params.total_time = 200000.0\n",
    "params.delta_t = 0.1\n",
    "model = update_model_rates(model, a=a)\n",
    "sim_model = convert_model(model)\n",
    "\n",
    "def to_vmap_basic(reverse_rates):\n",
    "    sim_model.reverse_rates = reverse_rates\n",
    "    return basic_de_sim(starting_state=starting_state, model=sim_model, params=params)\n",
    "\n",
    "vmap_basic = jax.jit(jax.vmap(to_vmap_basic), backend='gpu')\n",
    "\n",
    "\n"
   ]
  },
  {
   "cell_type": "code",
   "execution_count": null,
   "metadata": {},
   "outputs": [],
   "source": [
    "batchsize = 30\n",
    "def get_full_steady_states(total_time):\n",
    "\n",
    "    def to_vmap_basic(reverse_rates):\n",
    "        sim_model.reverse_rates = reverse_rates\n",
    "        return basic_de_sim(starting_state=starting_state, model=sim_model, params=params)\n",
    "\n",
    "    vmap_basic = jax.jit(jax.vmap(to_vmap_basic), backend='gpu')\n",
    "    steady_state_results = vmap_basic(b_reverse_rates[-batchsize:])\n",
    "    steady_states = np.array(np.concatenate([np.repeat(np.expand_dims(np.expand_dims(starting_state.concentrations, axis=0), axis=0), repeats=batchsize, axis=0), steady_state_results[1][:, ::int(params.total_time/1000), :]], axis=1))\n",
    "    for ti in tqdm(range(0, total_time, int(params.total_time))):\n",
    "\n",
    "        def to_vmap_basic(starting_state, reverse_rates):\n",
    "            sim_model.reverse_rates = reverse_rates\n",
    "            return basic_de_sim(starting_state=BasicSimState(concentrations=starting_state), model=sim_model, params=params)\n",
    "\n",
    "        vmap_basic = jax.jit(jax.vmap(to_vmap_basic), backend='gpu')\n",
    "        steady_state_results = vmap_basic(steady_state_results[0], b_reverse_rates[-batchsize:])\n",
    "        steady_states = np.array(np.concatenate([steady_states, steady_state_results[1][:, ::int(params.total_time/1000), :]], axis=1))\n",
    "    \n",
    "    return steady_states\n",
    "x\n",
    "total_sim_time = 3000000\n",
    "steady_states = get_full_steady_states(total_sim_time)\n",
    "t_steady_states = np.arange(steady_states.shape[1]) * int(total_sim_time / steady_states.shape[1])"
   ]
  },
  {
   "cell_type": "code",
   "execution_count": null,
   "metadata": {},
   "outputs": [],
   "source": [
    "# steady_state_grad = jax.vmap(jax.grad(to_vmap_dfx))(b_reverse_rates[:batchsize])\n"
   ]
  },
  {
   "cell_type": "code",
   "execution_count": null,
   "metadata": {},
   "outputs": [],
   "source": [
    "# tf = np.argmax(steady_state_results.ts[0] >= np.inf)\n",
    "# tf = tf if tf != 0 else len(steady_state_results.ts[0])\n",
    "# steady_states = steady_state_results.ys[:, :tf, :]\n",
    "# t_steady_states = steady_state_results.ts[0, :tf]\n"
   ]
  },
  {
   "cell_type": "code",
   "execution_count": null,
   "metadata": {},
   "outputs": [],
   "source": [
    "t_steady_states = np.arange(steady_states.shape[1]) * int(total_sim_time / steady_states.shape[1])\n",
    "fig = plt.figure(figsize=(50, 50))\n",
    "num_rows = int(np.sqrt(batchsize))\n",
    "for i in range(num_rows**2):\n",
    "    ax = plt.subplot(num_rows,num_rows,i+1)\n",
    "    plt.plot(t_steady_states, steady_states[i])\n",
    "    # plt.ylim(steady_states.min(), steady_states.max())\n",
    "    # plt.legend(model.species[:num_species])"
   ]
  },
  {
   "attachments": {},
   "cell_type": "markdown",
   "metadata": {},
   "source": [
    "Check derivatives for instability of simulation:"
   ]
  },
  {
   "cell_type": "code",
   "execution_count": null,
   "metadata": {},
   "outputs": [],
   "source": [
    "# fig = plt.figure(figsize=(25, 5))\n",
    "# for i in range(4):\n",
    "#     ax = plt.subplot(1,4,i+1)\n",
    "#     plt.plot(np.gradient(steady_states[i, :, :])[1])\n",
    "#     # plt.plot(steady_state_grad[i, :, :])\n",
    "#     plt.legend(model.species[:])"
   ]
  },
  {
   "attachments": {},
   "cell_type": "markdown",
   "metadata": {},
   "source": [
    "Now use the steady states as the starting point for the signal input, which is just a bump in the creation rate of one of the circuit components."
   ]
  },
  {
   "cell_type": "code",
   "execution_count": null,
   "metadata": {},
   "outputs": [],
   "source": [
    "\n",
    "params.total_time = 400000.0\n",
    "params.delta_t = 0.1\n",
    "\n",
    "a_sig = a * 1\n",
    "a_sig[input_species_idx] = a[input_species_idx] * (1 + 0.3)\n",
    "model = update_model_rates(model, a=a_sig)\n",
    "sim_model = convert_model(model)\n",
    "\n",
    "def to_vmap_basic(steady_states, reverse_rates):\n",
    "    sim_model.reverse_rates = reverse_rates\n",
    "    return basic_de_sim(starting_state=steady_states, model=sim_model, params=params)\n",
    "\n",
    "vmap_basic = jax.jit(jax.vmap(to_vmap_basic), backend='gpu')\n",
    "\n",
    "\n",
    "f_bs = 50\n",
    "final_states_results = vmap_basic(BasicSimState(concentrations=steady_states[:f_bs, -1, :]), b_reverse_rates[-batchsize:])\n",
    "final_states = np.concatenate([np.expand_dims(steady_states[:f_bs, -1, :], axis=1), final_states_results[1]], axis=1)\n",
    "t_final = np.arange(params.total_time / params.delta_t) * params.delta_t"
   ]
  },
  {
   "cell_type": "code",
   "execution_count": null,
   "metadata": {},
   "outputs": [],
   "source": [
    "# s1 = steady_states[:batchsize, -1, :]\n",
    "\n",
    "# target = 0.3\n",
    "# a_sig = a * (1 + target)\n",
    "\n",
    "# med_model = update_model_rates(med_model, a=a_sig)\n",
    "\n",
    "\n",
    "# int_med_params = MedSimParams(delta_t=0.1, t_start=0.0, t_end=300000.0,\n",
    "#                               poisson_sim_reactions=poiss_simmed, brownian_sim_reaction=brown_simmed)\n",
    "# int_med_model = get_int_med_model(med_model)\n",
    "# int_med_state = MedSimInternalState(concentrations=s1,\n",
    "#                                     other_factors=jnp.zeros(len(med_model.other_factors)))\n",
    "\n",
    "# sim_dfx = partial(bioreaction_sim_dfx_expanded,\n",
    "#                   t0=int_med_params.t_start, t1=int_med_params.t_end, dt0=int_med_params.delta_t,\n",
    "#                   inputs=int_med_model.reactions.inputs, outputs=int_med_model.reactions.outputs,\n",
    "#                   forward_rates=int_med_model.reactions.forward_rates,\n",
    "#                   signal=lambda x: x, signal_onehot=np.zeros(len(med_model.species)),\n",
    "#                   saveat=dfx.SaveAt(ts=jnp.linspace(int_med_params.t_start, int_med_params.t_end, 1000)),\n",
    "#                   max_steps=int((int_med_params.t_end + 10000) / int_med_params.delta_t)\n",
    "#                   )\n",
    "\n",
    "\n",
    "# def to_vmap_dfx(y0, reverse_rates):\n",
    "#     return sim_dfx(y0=y0, reverse_rates=reverse_rates)\n",
    "\n",
    "\n",
    "# vmap_dfx = jax.jit(jax.vmap(to_vmap_dfx))\n",
    "# res_dfx = vmap_dfx(s1, b_reverse_rates[:3])\n",
    "\n",
    "# tf = np.argmax(res_dfx.ts[0] >= np.inf)\n",
    "# tf = tf if tf != 0 else len(res_dfx.ts)\n",
    "# final_states = np.swapaxes(res_dfx.ys[:, :tf, :], 1, 2)\n",
    "# t_final = res_dfx.ts[0, :tf]\n",
    "\n"
   ]
  },
  {
   "cell_type": "code",
   "execution_count": null,
   "metadata": {},
   "outputs": [],
   "source": [
    "# tf = tf if tf != 0 else len(res_dfx.ts[0])\n",
    "# final_states = np.swapaxes(res_dfx.ys[:, :tf, :], 1, 2)\n",
    "# t_final = res_dfx.ts[0, :tf]"
   ]
  },
  {
   "cell_type": "code",
   "execution_count": null,
   "metadata": {},
   "outputs": [],
   "source": [
    "plt.figure(figsize=(50, 50))\n",
    "for i in range(num_rows**2):\n",
    "    ax = plt.subplot(num_rows, num_rows, i+1)\n",
    "    plt.plot(t_final[::100], final_states[i, ::100, :num_species])\n",
    "plt.legend(model.species[:num_species])\n"
   ]
  },
  {
   "cell_type": "code",
   "execution_count": null,
   "metadata": {},
   "outputs": [],
   "source": [
    "signal_onehot = np.array([i == input_species_idx for i in range(len(med_model.species))] * 1)\n",
    "analytics_func = jax.jit(jax.vmap(partial(generate_analytics, time=t_final, labels=[s.name for s in med_model.species],\n",
    "                                          signal_idxs=[int(np.where(signal_onehot == 1)[0])], signal_time=t_final[0])))\n",
    "analytics2 = analytics_func(np.swapaxes(final_states, 1, 2))\n"
   ]
  },
  {
   "attachments": {},
   "cell_type": "markdown",
   "metadata": {},
   "source": [
    "Analytics: sensitivity vs. precision give a clue about the adaptability characteristics of circuits"
   ]
  },
  {
   "cell_type": "code",
   "execution_count": null,
   "metadata": {},
   "outputs": [],
   "source": [
    "analytics2_chosen = {k: analytics2[k].flatten() for k in get_true_names_analytics(analytics2)}\n",
    "analytics_df = pd.DataFrame.from_dict(analytics2_chosen)\n",
    "analytics_df['circuit_name'] = np.repeat(np.expand_dims(np.arange(batchsize), axis=0), len(med_model.species), axis=1)[0]\n",
    "analytics_df['relative_circ_strength'] = np.repeat(np.expand_dims([K_eqs[:batchsize][i].mean() for i in range(batchsize)], axis=0), len(med_model.species), axis=1)[0]\n",
    "analytics_df['sample_name'] = flatten_listlike([[s.name for s in med_model.species] for i in range(batchsize)])\n",
    "analytics_df['sample_type'] = flatten_listlike([['unbound' if s in med_model.species[:num_species] else 'bound' for s in med_model.species] for i in range(batchsize)])\n"
   ]
  },
  {
   "cell_type": "code",
   "execution_count": null,
   "metadata": {},
   "outputs": [],
   "source": [
    "sns.scatterplot(analytics_df[analytics_df['sample_name'] == med_model.species[output_species_idx].name], x='sensitivity_wrt_species-0', y='precision_wrt_species-0', hue='relative_circ_strength')\n",
    "plt.xscale('log')\n",
    "plt.yscale('log')"
   ]
  },
  {
   "attachments": {},
   "cell_type": "markdown",
   "metadata": {},
   "source": [
    "## Scan all parameters"
   ]
  },
  {
   "cell_type": "code",
   "execution_count": null,
   "metadata": {},
   "outputs": [],
   "source": [
    "\n",
    "def update_model_rates(model, a=None, d=None, ka=None, kd=None):\n",
    "    for i, r in enumerate(model.reactions):\n",
    "        if not r.input:  # 0 -> RNA\n",
    "            if a is not None:\n",
    "                model.reactions[i].forward_rate = a[model.species.index(\n",
    "                    r.output[0])]\n",
    "                model.reactions[i].reverse_rate = 0\n",
    "        elif not r.output:  # RNA -> 0\n",
    "            if d is not None:\n",
    "                model.reactions[i].forward_rate = d[model.species.index(\n",
    "                    r.input[0])]\n",
    "                model.reactions[i].reverse_rate = 0\n",
    "        else:\n",
    "            if ka is not None:\n",
    "                model.reactions[i].forward_rate = ka[model.species.index(r.input[0]),\n",
    "                                                     model.species.index(r.input[1])]\n",
    "            if kd is not None:\n",
    "                model.reactions[i].reverse_rate = kd[model.species.index(r.input[0]),\n",
    "                                                     model.species.index(r.input[1])]\n",
    "    return model\n",
    "\n",
    "\n",
    "def define_matrices(num_species, size_interaction_array, num_unique_interactions, num_analytic_types):\n",
    "    matrix_dimensions = tuple(\n",
    "        [num_species] + [size_interaction_array]*num_unique_interactions)\n",
    "    matrix_size = num_species * \\\n",
    "        np.power(size_interaction_array, num_unique_interactions)\n",
    "    assert matrix_size == np.prod(list(\n",
    "        matrix_dimensions)), 'Something is off about the intended size of the matrix'\n",
    "\n",
    "    all_analytic_matrices = []\n",
    "    for _analytic in range(num_analytic_types):\n",
    "        all_analytic_matrices.append(np.zeros(\n",
    "            matrix_dimensions, dtype=np.float32))\n",
    "    return all_analytic_matrices\n",
    "\n",
    "\n",
    "def make_keqs():\n",
    "    K_eqs = np.zeros((num_iterations, num_species, num_species))\n",
    "    pows = np.power(num_Keqs, np.arange(num_unique_interactions))\n",
    "    for i in range(num_iterations):\n",
    "        interaction_strength_choices = np.floor(\n",
    "            np.mod(i / pows, num_Keqs)).astype(int)\n",
    "        if interaction_strength_choices[1] < interaction_strength_choices[3]:\n",
    "            continue\n",
    "        flat_triangle = K_eqs_range[list(\n",
    "            interaction_strength_choices)]\n",
    "        K_eqs[i] = make_symmetrical_matrix_from_sequence(\n",
    "            flat_triangle, num_species)\n",
    "    return K_eqs\n",
    "\n",
    "\n",
    "def make_reverse_rates(med_model, reverse_rates, interaction_matrices):\n",
    "    index_translation = []\n",
    "    for i, r in enumerate(med_model.reactions):\n",
    "        if r.output and r.input:\n",
    "            index_translation.append([i, med_model.species.index(r.input[0]),\n",
    "                                      med_model.species.index(r.input[1])])\n",
    "    reverse_rates = np.repeat(\n",
    "        np.expand_dims(reverse_rates, axis=0),\n",
    "        interaction_matrices.shape[0], axis=0\n",
    "    )\n",
    "    for i, k, j in index_translation:\n",
    "        reverse_rates[:, i] = interaction_matrices[:, k, j]\n",
    "    return reverse_rates\n",
    "\n",
    "\n",
    "def clear_gpu():\n",
    "    backend = jax.lib.xla_bridge.get_backend()\n",
    "    for buf in backend.live_buffers():\n",
    "        buf.delete()\n",
    "\n",
    "\n",
    "def get_steady_states(starting_state, reverse_rates, sim_model, params):\n",
    "\n",
    "    def to_vmap_basic(reverse_rates):\n",
    "        sim_model.reverse_rates = reverse_rates\n",
    "        return basic_de_sim(starting_state=starting_state, model=sim_model, params=params)\n",
    "\n",
    "    steady_state_results = jax.jit(jax.vmap(to_vmap_basic))(reverse_rates)\n",
    "    return steady_state_results\n",
    "\n",
    "\n",
    "def get_full_steady_states(starting_state, total_time, reverse_rates, sim_model, params):\n",
    "\n",
    "    steady_state_results = get_steady_states(\n",
    "        starting_state, reverse_rates, sim_model, params)\n",
    "    for ti in range(0, total_time, int(params.total_time)):\n",
    "\n",
    "        def to_vmap_basic(starting_state, reverse_rates):\n",
    "            sim_model.reverse_rates = reverse_rates\n",
    "            return basic_de_sim(starting_state=BasicSimState(concentrations=starting_state), model=sim_model, params=params)\n",
    "\n",
    "        steady_state_results = jax.jit(jax.vmap(to_vmap_basic))(\n",
    "            steady_state_results[0], reverse_rates)\n",
    "\n",
    "    return np.array(steady_state_results[0])\n",
    "\n",
    "\n",
    "def get_final_states(reverse_rates, steady_states, new_model, params):\n",
    "\n",
    "    def to_vmap_basic(starting_state, reverse_rates):\n",
    "        new_model.reverse_rates = reverse_rates\n",
    "        return basic_de_sim(starting_state=BasicSimState(concentrations=starting_state), model=new_model, params=params)\n",
    "\n",
    "    final_states_results = jax.jit(jax.vmap(to_vmap_basic))(\n",
    "        steady_states, reverse_rates)\n",
    "    final_states = np.array(np.concatenate([np.expand_dims(\n",
    "        steady_states, axis=1), final_states_results[1]], axis=1))\n",
    "    t_final = np.arange(\n",
    "        final_states.shape[1]) * params.delta_t\n",
    "\n",
    "    return final_states, t_final\n",
    "\n",
    "\n",
    "def get_analytics(steady_states, final_states, t, K_eqs, model, species_names, species_types, starting_circuit_idx):\n",
    "    batchsize = steady_states.shape[0]\n",
    "\n",
    "    peaks = jnp.where(steady_states != final_states.max(\n",
    "        axis=1), final_states.max(axis=1), final_states.min(axis=1))\n",
    "    precision = np.array(jax.jit(jax.vmap(partial(get_precision, signal_idx=input_species_idx)))(\n",
    "        starting_states=steady_states,\n",
    "        steady_states=final_states[:, -1, :]\n",
    "    ))\n",
    "    sensitivity = np.array(jax.jit(jax.vmap(partial(get_sensitivity, signal_idx=input_species_idx)))(\n",
    "        peaks=peaks, starting_states=steady_states\n",
    "    ))\n",
    "    clear_gpu()\n",
    "    resp_vmap = jax.jit(jax.vmap(partial(get_step_response_times, signal_idx=input_species_idx, t=np.expand_dims(t, 0), signal_time=0.0)))\n",
    "    response_times1 = np.array(resp_vmap(\n",
    "        data=np.swapaxes(final_states[:int(batchsize/2)], 1, 2), steady_states=np.expand_dims(steady_states[:int(batchsize/2)], axis=2), \n",
    "        deriv=jnp.gradient(np.swapaxes(final_states[:int(batchsize/2)], 1, 2))[0]))\n",
    "    response_times2 = np.array(resp_vmap(\n",
    "        data=np.swapaxes(final_states[int(batchsize/2):], 1, 2), steady_states=np.expand_dims(steady_states[int(batchsize/2):], axis=2), \n",
    "        deriv=jnp.gradient(np.swapaxes(final_states[int(batchsize/2):], 1, 2))[0]))\n",
    "\n",
    "    analytics = {\n",
    "        'precision': precision.flatten(),\n",
    "        'sensitivity': sensitivity.flatten(),\n",
    "        'response_times': np.concatenate([response_times1, response_times2], axis=0).flatten()\n",
    "    }\n",
    "    analytics_df = pd.DataFrame.from_dict(analytics)\n",
    "    analytics_df['circuit_name'] = np.repeat(np.expand_dims(\n",
    "        np.arange(starting_circuit_idx, starting_circuit_idx+batchsize), axis=0), len(model.species), axis=1)[0]\n",
    "    analytics_df['relative_circ_strength'] = np.repeat(np.expand_dims(\n",
    "        [K_eqs[i].mean() for i in range(batchsize)], axis=0), len(model.species), axis=1)[0]\n",
    "    analytics_df['sample_name'] = flatten_listlike(\n",
    "        [species_names for i in range(batchsize)])\n",
    "    analytics_df['species_type'] = flatten_listlike(\n",
    "        [species_types for i in range(batchsize)])\n",
    "    return analytics_df\n",
    "\n",
    "\n",
    "def plot_scan(final_states, t_final, bi, species_names_onlyin, num_show_species):\n",
    "    num_rows = int(np.sqrt(final_states.shape[0]))\n",
    "    plt.figure(figsize=(50, 50))\n",
    "    for i in range(num_rows**2):\n",
    "        ax = plt.subplot(num_rows, num_rows, i+1)\n",
    "        plt.plot(t_final[::100], final_states[i, ::100, :num_show_species])\n",
    "        plt.title(str(bi+i))\n",
    "    plt.legend(species_names_onlyin)\n",
    "    plt.savefig(os.path.join('output', '5_Keqs_all',\n",
    "                f'final_states_{bi}-{bi+final_states.shape[0]}_{num_show_species}.svg'))\n",
    "    plt.close()\n",
    "\n",
    "\n",
    "def adjust_sim_params(reverse_rates, max_kd):\n",
    "    dt = np.round(reverse_rates.max() / max_kd, 1)\n",
    "    dt = 0.1 / dt\n",
    "\n",
    "    params_steady = BasicSimParams(total_time=100.0, delta_t=dt)\n",
    "    total_t_steady = 300\n",
    "    params_final = BasicSimParams(total_time=400.0, delta_t=dt)\n",
    "\n",
    "    return params_steady, total_t_steady, params_final\n",
    "\n",
    "\n",
    "def scan_all_params(kds, K_eqs, b_reverse_rates, model):\n",
    "    max_kds = kds.max()\n",
    "    batchsize = 30\n",
    "    target = 0.3\n",
    "    a_sig = a * 1\n",
    "    a_sig[input_species_idx] = a[input_species_idx] * (1 + target)\n",
    "    model_steady = update_model_rates(model, a=a)\n",
    "    model_sig = update_model_rates(deepcopy(model), a=a_sig)\n",
    "\n",
    "    species_names = [s.name for s in model.species]\n",
    "    species_names_onlyin = species_names[:num_species]\n",
    "    species_types = ['unbound' if s in model.species[:num_species]\n",
    "                     else 'bound' for s in model.species]\n",
    "\n",
    "    analytics_df = pd.DataFrame()\n",
    "\n",
    "    for bi in tqdm(range(0, b_reverse_rates.shape[0], batchsize)):\n",
    "        clear_gpu()\n",
    "        bf = min(bi+batchsize, b_reverse_rates.shape[0])\n",
    "        reverse_rates = b_reverse_rates[bi:bf]\n",
    "        starting_state = BasicSimState(concentrations=s0)\n",
    "\n",
    "        params_steady, total_t_steady, params_final = adjust_sim_params(\n",
    "            reverse_rates, max_kds)\n",
    "\n",
    "        steady_states = get_full_steady_states(\n",
    "            starting_state, total_time=total_t_steady, reverse_rates=reverse_rates, sim_model=convert_model(\n",
    "                model_steady),\n",
    "            params=params_steady)\n",
    "        clear_gpu()\n",
    "        final_states, t_final = get_final_states(\n",
    "            reverse_rates, steady_states, convert_model(model_sig), params=params_final)\n",
    "        plot_scan(final_states, t_final, bi, species_names, len(species_names))\n",
    "        plot_scan(final_states, t_final, bi, species_names_onlyin, num_species)\n",
    "\n",
    "        clear_gpu()\n",
    "        analytics = get_analytics(\n",
    "            steady_states, final_states, t_final, K_eqs[bi:bf], model, species_names, species_types, bi)\n",
    "        analytics_df = pd.concat([analytics_df, analytics], axis=0)\n",
    "        analytics_df.to_csv(os.path.join('output', '5_Keqs_all', 'df.csv'))\n",
    "\n",
    "    return analytics_df\n"
   ]
  },
  {
   "cell_type": "code",
   "execution_count": null,
   "metadata": {},
   "outputs": [],
   "source": [
    "\n",
    "dt = np.round(b_reverse_rates.max(axis=1) / kds.max(), 1)\n",
    "dt = 0.1 / dt\n",
    "v = [np.argmax(np.unique(b_reverse_rates.max(axis=1)) == b.max()) for b in b_reverse_rates]\n",
    "v = np.array(v)\n"
   ]
  },
  {
   "cell_type": "code",
   "execution_count": null,
   "metadata": {},
   "outputs": [],
   "source": [
    "print('The split of dts will be roughly: ', [len(v[v == i]) for i in np.unique(v)], ' for ', np.unique(dt)[::-1])"
   ]
  },
  {
   "cell_type": "code",
   "execution_count": null,
   "metadata": {},
   "outputs": [],
   "source": [
    "\n",
    "clear_gpu()\n",
    "model = update_model_rates(model, a=a)\n",
    "batchsize = len(K_eqs)\n",
    "analytics_df = scan_all_params(kds, K_eqs[5::100], b_reverse_rates[5::100], model)"
   ]
  },
  {
   "cell_type": "code",
   "execution_count": null,
   "metadata": {},
   "outputs": [],
   "source": [
    "analytics_df.to_csv(os.path.join('output', '5_Keqs', 'df.csv'))"
   ]
  },
  {
   "cell_type": "code",
   "execution_count": null,
   "metadata": {},
   "outputs": [],
   "source": [
    "sns.scatterplot(analytics_df[analytics_df['species_type'] == 'bound'], x='sensitivity', y='precision', hue='circuit_name')\n",
    "plt.xscale('log')\n",
    "plt.yscale('log')"
   ]
  },
  {
   "cell_type": "code",
   "execution_count": null,
   "metadata": {},
   "outputs": [],
   "source": [
    "analytics_df['species_type']"
   ]
  },
  {
   "cell_type": "code",
   "execution_count": null,
   "metadata": {},
   "outputs": [],
   "source": []
  }
 ],
 "metadata": {
  "kernelspec": {
   "display_name": "env_circuits",
   "language": "python",
   "name": "python3"
  },
  "language_info": {
   "codemirror_mode": {
    "name": "ipython",
    "version": 3
   },
   "file_extension": ".py",
   "mimetype": "text/x-python",
   "name": "python",
   "nbconvert_exporter": "python",
   "pygments_lexer": "ipython3",
   "version": "3.10.6"
  },
  "orig_nbformat": 4,
  "vscode": {
   "interpreter": {
    "hash": "276d5f3a53dec80f4d3b39052afa9841fe604ba5c7edc23f6349b29c0d703d3a"
   }
  }
 },
 "nbformat": 4,
 "nbformat_minor": 2
}
