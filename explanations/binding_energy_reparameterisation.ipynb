{
 "cells": [
  {
   "attachments": {},
   "cell_type": "markdown",
   "metadata": {},
   "source": [
    "# Assess RNA binding re-parameterisation\n",
    "\n",
    "The RNA binding data from paper [\"Metabolic engineering of Escherichia coli using synthetic small regulatory RNAs\"](https://www.nature.com/articles/nbt.2461#Fig1) "
   ]
  },
  {
   "cell_type": "code",
   "execution_count": 1,
   "metadata": {},
   "outputs": [],
   "source": [
    "from copy import deepcopy\n",
    "from functools import partial\n",
    "import os\n",
    "import sys\n",
    "\n",
    "import matplotlib.pyplot as plt\n",
    "import seaborn as sns\n",
    "plt.style.use('bmh')\n",
    "plt.style.use('seaborn-v0_8')\n",
    "import numpy as np\n",
    "import jax.numpy as jnp\n",
    "import jax.random as jr\n",
    "import pandas as pd\n",
    "import jax\n",
    "import diffrax as dfx\n",
    "from tqdm import tqdm\n",
    "\n",
    "# os.environ[\"XLA_PYTHON_CLIENT_PREALLOCATE\"] = \"false\"\n",
    "# os.environ[\"XLA_PYTHON_CLIENT_MEM_FRACTION\"] = \"0.8\"\n",
    "os.environ[\"TF_CPP_MIN_LOG_LOVEL\"] = \"0\"\n",
    "jax.config.update('jax_platform_name', 'gpu')\n",
    "\n",
    "import bioreaction\n",
    "from bioreaction.model.data_containers import Impulse\n",
    "from bioreaction.simulation.basic_sim import basic_de_sim, convert_model, BasicSimParams, BasicSimState, bioreaction_sim_expanded\n",
    "from bioreaction.model.data_tools import construct_model_fromnames\n",
    "from bioreaction.simulation.med_sim import get_int_med_model, basic_de, MedSimParams, MedSimInternalState\n",
    "\n",
    "\n",
    "if __package__ is None:\n",
    "\n",
    "    module_path = os.path.abspath(os.path.join('..'))\n",
    "    sys.path.append(module_path)\n",
    "\n",
    "    __package__ = os.path.basename(module_path)\n",
    "\n",
    "from tests.shared import five_circuits, CONFIG\n",
    "import src\n",
    "from src.srv.sequence_exploration.sequence_analysis import b_tabulate_mutation_info\n",
    "from src.utils.misc.numerical import make_symmetrical_matrix_from_sequence, triangular_sequence\n",
    "from src.utils.misc.type_handling import flatten_listlike\n",
    "from src.utils.misc.units import per_mol_to_per_molecule\n",
    "from src.utils.modelling.deterministic import bioreaction_sim_dfx_expanded\n",
    "from src.utils.results.analytics.naming import get_true_names_analytics, get_true_interaction_cols\n",
    "from src.utils.results.analytics.timeseries import generate_analytics, get_precision, get_sensitivity\n",
    "\n",
    "\n",
    "config = deepcopy(CONFIG)\n"
   ]
  },
  {
   "attachments": {},
   "cell_type": "markdown",
   "metadata": {},
   "source": [
    "Examining previously generated RNA sequences for which the $\\Delta G$ has been simulated and translated into "
   ]
  },
  {
   "cell_type": "code",
   "execution_count": 7,
   "metadata": {},
   "outputs": [],
   "source": [
    "path_to_stats = 'data/ensemble_generate_circuits/2023_02_24_170946/gather_interaction_stats/circuit_stats.csv'\n",
    "path_to_stats = os.path.join('..', path_to_stats)\n",
    "\n",
    "circuit_stats = pd.read_csv(path_to_stats)"
   ]
  },
  {
   "cell_type": "code",
   "execution_count": null,
   "metadata": {},
   "outputs": [],
   "source": [
    "energy_cols = get_true_interaction_cols(circuit_stats, 'energies')\n",
    "\n",
    "sns.scatterplot(pd.concat(circuit_stats[get_true_interaction_cols]), )"
   ]
  }
 ],
 "metadata": {
  "kernelspec": {
   "display_name": "env_circuits",
   "language": "python",
   "name": "python3"
  },
  "language_info": {
   "codemirror_mode": {
    "name": "ipython",
    "version": 3
   },
   "file_extension": ".py",
   "mimetype": "text/x-python",
   "name": "python",
   "nbconvert_exporter": "python",
   "pygments_lexer": "ipython3",
   "version": "3.10.6"
  },
  "orig_nbformat": 4
 },
 "nbformat": 4,
 "nbformat_minor": 2
}
