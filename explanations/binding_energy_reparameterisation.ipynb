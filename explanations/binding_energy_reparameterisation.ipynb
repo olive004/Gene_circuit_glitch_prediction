{
 "cells": [
  {
   "attachments": {},
   "cell_type": "markdown",
   "metadata": {},
   "source": [
    "# Assess RNA binding re-parameterisation\n",
    "\n",
    "The RNA binding data from paper [\"Metabolic engineering of Escherichia coli using synthetic small regulatory RNAs\"](https://www.nature.com/articles/nbt.2461#Fig1) "
   ]
  },
  {
   "cell_type": "code",
   "execution_count": 2,
   "metadata": {},
   "outputs": [
    {
     "name": "stderr",
     "output_type": "stream",
     "text": [
      "xla_bridge.py:backends():355: Unable to initialize backend 'tpu_driver': NOT_FOUND: Unable to find driver in registry given worker:  INFO\n",
      "xla_bridge.py:backends():355: Unable to initialize backend 'rocm': NOT_FOUND: Could not find registered platform with name: \"rocm\". Available platform names are: Host Interpreter CUDA INFO\n",
      "xla_bridge.py:backends():355: Unable to initialize backend 'tpu': module 'jaxlib.xla_extension' has no attribute 'get_tpu_client' INFO\n",
      "xla_bridge.py:backends():355: Unable to initialize backend 'plugin': xla_extension has no attributes named get_plugin_device_client. Compile TensorFlow with //tensorflow/compiler/xla/python:enable_plugin_device set to true (defaults to false) to enable this. INFO\n"
     ]
    },
    {
     "data": {
      "text/plain": [
       "[CpuDevice(id=0)]"
      ]
     },
     "execution_count": 2,
     "metadata": {},
     "output_type": "execute_result"
    }
   ],
   "source": [
    "from copy import deepcopy\n",
    "from functools import partial\n",
    "import os\n",
    "import sys\n",
    "\n",
    "import matplotlib.pyplot as plt\n",
    "import seaborn as sns\n",
    "plt.style.use('bmh')\n",
    "plt.style.use('seaborn-v0_8')\n",
    "import numpy as np\n",
    "import jax.numpy as jnp\n",
    "import jax.random as jr\n",
    "import pandas as pd\n",
    "import jax\n",
    "import diffrax as dfx\n",
    "from tqdm import tqdm\n",
    "\n",
    "# os.environ[\"XLA_PYTHON_CLIENT_PREALLOCATE\"] = \"false\"\n",
    "# os.environ[\"XLA_PYTHON_CLIENT_MEM_FRACTION\"] = \"0.8\"\n",
    "os.environ[\"TF_CPP_MIN_LOG_LOVEL\"] = \"0\"\n",
    "jax.config.update('jax_platform_name', 'cpu')\n",
    "\n",
    "import bioreaction\n",
    "from bioreaction.model.data_containers import Impulse\n",
    "from bioreaction.simulation.basic_sim import basic_de_sim, convert_model, BasicSimParams, BasicSimState, bioreaction_sim_expanded\n",
    "from bioreaction.model.data_tools import construct_model_fromnames\n",
    "from bioreaction.simulation.med_sim import get_int_med_model, basic_de, MedSimParams, MedSimInternalState\n",
    "\n",
    "\n",
    "if __package__ is None:\n",
    "\n",
    "    module_path = os.path.abspath(os.path.join('..'))\n",
    "    sys.path.append(module_path)\n",
    "\n",
    "    __package__ = os.path.basename(module_path)\n",
    "\n",
    "from tests.shared import five_circuits, CONFIG\n",
    "import src\n",
    "from src.srv.sequence_exploration.sequence_analysis import b_tabulate_mutation_info\n",
    "from src.utils.misc.numerical import make_symmetrical_matrix_from_sequence, triangular_sequence\n",
    "from src.utils.misc.type_handling import flatten_listlike\n",
    "from src.utils.misc.units import per_mol_to_per_molecule\n",
    "from src.utils.modelling.deterministic import bioreaction_sim_dfx_expanded\n",
    "from src.utils.results.analytics.naming import get_true_names_analytics, get_true_interaction_cols\n",
    "from src.utils.results.analytics.timeseries import generate_analytics, get_precision, get_sensitivity\n",
    "\n",
    "\n",
    "config = deepcopy(CONFIG)\n",
    "\n",
    "jax.devices()"
   ]
  },
  {
   "attachments": {},
   "cell_type": "markdown",
   "metadata": {},
   "source": [
    "Examining previously generated RNA sequences for which the $\\Delta G$ has been simulated and translated into "
   ]
  },
  {
   "cell_type": "code",
   "execution_count": 3,
   "metadata": {},
   "outputs": [],
   "source": [
    "path_to_stats = 'data/ensemble_generate_circuits/2023_02_24_170946/gather_interaction_stats/circuit_stats.csv'\n",
    "path_to_stats = os.path.join('..', path_to_stats)\n",
    "\n",
    "circuit_stats = pd.read_csv(path_to_stats)"
   ]
  },
  {
   "cell_type": "code",
   "execution_count": 4,
   "metadata": {},
   "outputs": [
    {
     "data": {
      "text/plain": [
       "Index(['name', 'interacting', 'self_interacting', 'num_interacting',\n",
       "       'num_self_interacting', 'binding_sites_0-0', 'binding_sites_0-1',\n",
       "       'binding_sites_0-2', 'binding_sites_1-0', 'binding_sites_1-1',\n",
       "       'binding_sites_1-2', 'binding_sites_2-0', 'binding_sites_2-1',\n",
       "       'binding_sites_2-2', 'binding_rates_dissociation_0-0',\n",
       "       'binding_rates_dissociation_0-1', 'binding_rates_dissociation_0-2',\n",
       "       'binding_rates_dissociation_1-0', 'binding_rates_dissociation_1-1',\n",
       "       'binding_rates_dissociation_1-2', 'binding_rates_dissociation_2-0',\n",
       "       'binding_rates_dissociation_2-1', 'binding_rates_dissociation_2-2',\n",
       "       'energies_0-0', 'energies_0-1', 'energies_0-2', 'energies_1-0',\n",
       "       'energies_1-1', 'energies_1-2', 'energies_2-0', 'energies_2-1',\n",
       "       'energies_2-2', 'eqconstants_0-0', 'eqconstants_0-1', 'eqconstants_0-2',\n",
       "       'eqconstants_1-0', 'eqconstants_1-1', 'eqconstants_1-2',\n",
       "       'eqconstants_2-0', 'eqconstants_2-1', 'eqconstants_2-2',\n",
       "       'path_binding_sites', 'path_binding_rates_dissociation',\n",
       "       'path_energies', 'path_eqconstants'],\n",
       "      dtype='object')"
      ]
     },
     "execution_count": 4,
     "metadata": {},
     "output_type": "execute_result"
    }
   ],
   "source": [
    "circuit_stats.columns"
   ]
  },
  {
   "cell_type": "code",
   "execution_count": 8,
   "metadata": {},
   "outputs": [],
   "source": [
    "cols_energies = [c for c in circuit_stats.columns if 'energies' in c and ('path' not in c)]\n",
    "cols_eqconstants = [c for c in circuit_stats.columns if 'eqconstants' in c and ('path' not in c)]\n"
   ]
  },
  {
   "cell_type": "code",
   "execution_count": 10,
   "metadata": {},
   "outputs": [
    {
     "data": {
      "text/html": [
       "<div>\n",
       "<style scoped>\n",
       "    .dataframe tbody tr th:only-of-type {\n",
       "        vertical-align: middle;\n",
       "    }\n",
       "\n",
       "    .dataframe tbody tr th {\n",
       "        vertical-align: top;\n",
       "    }\n",
       "\n",
       "    .dataframe thead th {\n",
       "        text-align: right;\n",
       "    }\n",
       "</style>\n",
       "<table border=\"1\" class=\"dataframe\">\n",
       "  <thead>\n",
       "    <tr style=\"text-align: right;\">\n",
       "      <th></th>\n",
       "      <th>name</th>\n",
       "      <th>num_interacting</th>\n",
       "      <th>num_self_interacting</th>\n",
       "      <th>variable</th>\n",
       "      <th>energies</th>\n",
       "      <th>eqconstants</th>\n",
       "    </tr>\n",
       "  </thead>\n",
       "  <tbody>\n",
       "    <tr>\n",
       "      <th>0</th>\n",
       "      <td>toy_mRNA_circuit_0</td>\n",
       "      <td>0</td>\n",
       "      <td>0</td>\n",
       "      <td>energies_0-0</td>\n",
       "      <td>30.00</td>\n",
       "      <td>0.000009</td>\n",
       "    </tr>\n",
       "    <tr>\n",
       "      <th>1</th>\n",
       "      <td>toy_mRNA_circuit_100000</td>\n",
       "      <td>0</td>\n",
       "      <td>0</td>\n",
       "      <td>energies_0-0</td>\n",
       "      <td>30.00</td>\n",
       "      <td>0.000009</td>\n",
       "    </tr>\n",
       "    <tr>\n",
       "      <th>2</th>\n",
       "      <td>toy_mRNA_circuit_100001</td>\n",
       "      <td>0</td>\n",
       "      <td>0</td>\n",
       "      <td>energies_0-0</td>\n",
       "      <td>30.00</td>\n",
       "      <td>0.000009</td>\n",
       "    </tr>\n",
       "    <tr>\n",
       "      <th>3</th>\n",
       "      <td>toy_mRNA_circuit_100002</td>\n",
       "      <td>1</td>\n",
       "      <td>0</td>\n",
       "      <td>energies_0-0</td>\n",
       "      <td>30.00</td>\n",
       "      <td>0.000009</td>\n",
       "    </tr>\n",
       "    <tr>\n",
       "      <th>4</th>\n",
       "      <td>toy_mRNA_circuit_100003</td>\n",
       "      <td>0</td>\n",
       "      <td>0</td>\n",
       "      <td>energies_0-0</td>\n",
       "      <td>30.00</td>\n",
       "      <td>0.000009</td>\n",
       "    </tr>\n",
       "    <tr>\n",
       "      <th>...</th>\n",
       "      <td>...</td>\n",
       "      <td>...</td>\n",
       "      <td>...</td>\n",
       "      <td>...</td>\n",
       "      <td>...</td>\n",
       "      <td>...</td>\n",
       "    </tr>\n",
       "    <tr>\n",
       "      <th>1799995</th>\n",
       "      <td>toy_mRNA_circuit_99999</td>\n",
       "      <td>0</td>\n",
       "      <td>0</td>\n",
       "      <td>energies_2-2</td>\n",
       "      <td>30.00</td>\n",
       "      <td>0.000009</td>\n",
       "    </tr>\n",
       "    <tr>\n",
       "      <th>1799996</th>\n",
       "      <td>toy_mRNA_circuit_9999</td>\n",
       "      <td>0</td>\n",
       "      <td>1</td>\n",
       "      <td>energies_2-2</td>\n",
       "      <td>30.00</td>\n",
       "      <td>0.000009</td>\n",
       "    </tr>\n",
       "    <tr>\n",
       "      <th>1799997</th>\n",
       "      <td>toy_mRNA_circuit_999</td>\n",
       "      <td>0</td>\n",
       "      <td>1</td>\n",
       "      <td>energies_2-2</td>\n",
       "      <td>30.00</td>\n",
       "      <td>0.000009</td>\n",
       "    </tr>\n",
       "    <tr>\n",
       "      <th>1799998</th>\n",
       "      <td>toy_mRNA_circuit_99</td>\n",
       "      <td>0</td>\n",
       "      <td>0</td>\n",
       "      <td>energies_2-2</td>\n",
       "      <td>30.00</td>\n",
       "      <td>0.000009</td>\n",
       "    </tr>\n",
       "    <tr>\n",
       "      <th>1799999</th>\n",
       "      <td>toy_mRNA_circuit_9</td>\n",
       "      <td>0</td>\n",
       "      <td>1</td>\n",
       "      <td>energies_2-2</td>\n",
       "      <td>-14.34</td>\n",
       "      <td>260.831850</td>\n",
       "    </tr>\n",
       "  </tbody>\n",
       "</table>\n",
       "<p>1800000 rows × 6 columns</p>\n",
       "</div>"
      ],
      "text/plain": [
       "                            name  num_interacting  num_self_interacting  \\\n",
       "0             toy_mRNA_circuit_0                0                     0   \n",
       "1        toy_mRNA_circuit_100000                0                     0   \n",
       "2        toy_mRNA_circuit_100001                0                     0   \n",
       "3        toy_mRNA_circuit_100002                1                     0   \n",
       "4        toy_mRNA_circuit_100003                0                     0   \n",
       "...                          ...              ...                   ...   \n",
       "1799995   toy_mRNA_circuit_99999                0                     0   \n",
       "1799996    toy_mRNA_circuit_9999                0                     1   \n",
       "1799997     toy_mRNA_circuit_999                0                     1   \n",
       "1799998      toy_mRNA_circuit_99                0                     0   \n",
       "1799999       toy_mRNA_circuit_9                0                     1   \n",
       "\n",
       "             variable  energies  eqconstants  \n",
       "0        energies_0-0     30.00     0.000009  \n",
       "1        energies_0-0     30.00     0.000009  \n",
       "2        energies_0-0     30.00     0.000009  \n",
       "3        energies_0-0     30.00     0.000009  \n",
       "4        energies_0-0     30.00     0.000009  \n",
       "...               ...       ...          ...  \n",
       "1799995  energies_2-2     30.00     0.000009  \n",
       "1799996  energies_2-2     30.00     0.000009  \n",
       "1799997  energies_2-2     30.00     0.000009  \n",
       "1799998  energies_2-2     30.00     0.000009  \n",
       "1799999  energies_2-2    -14.34   260.831850  \n",
       "\n",
       "[1800000 rows x 6 columns]"
      ]
     },
     "execution_count": 10,
     "metadata": {},
     "output_type": "execute_result"
    }
   ],
   "source": [
    "dfm = circuit_stats.melt(id_vars=['name', 'num_interacting', 'num_self_interacting'],\n",
    "                         value_vars=cols_energies, value_name='energies')\n",
    "dfm['eqconstants_gibbs'] = dfm1['eqconstants']\n",
    "dfm\n"
   ]
  },
  {
   "cell_type": "code",
   "execution_count": null,
   "metadata": {},
   "outputs": [],
   "source": []
  }
 ],
 "metadata": {
  "kernelspec": {
   "display_name": "env_circuits",
   "language": "python",
   "name": "python3"
  },
  "language_info": {
   "codemirror_mode": {
    "name": "ipython",
    "version": 3
   },
   "file_extension": ".py",
   "mimetype": "text/x-python",
   "name": "python",
   "nbconvert_exporter": "python",
   "pygments_lexer": "ipython3",
   "version": "3.10.6"
  },
  "orig_nbformat": 4
 },
 "nbformat": 4,
 "nbformat_minor": 2
}
