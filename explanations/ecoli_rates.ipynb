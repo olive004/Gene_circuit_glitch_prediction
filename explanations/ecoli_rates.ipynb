{
 "cells": [
  {
   "attachments": {},
   "cell_type": "markdown",
   "metadata": {},
   "source": [
    "# Finding steady states of genetic circuit from rates\n",
    "\n",
    "There are 4 types of rates: creation / degration, and coupling / decoupling (aka association / dissociation). From these, steady states should be able to be worked out."
   ]
  },
  {
   "cell_type": "code",
   "execution_count": 83,
   "metadata": {},
   "outputs": [],
   "source": [
    "import matplotlib.pyplot as plt\n",
    "import numpy as np\n",
    "import diffrax as dfx"
   ]
  },
  {
   "attachments": {},
   "cell_type": "markdown",
   "metadata": {},
   "source": [
    "## Base rates\n",
    "\n",
    "The steady state average amount of RNA in E. coli is about 1380 molecules of mRNA per cell ([from bionumbers](https://bionumbers.hms.harvard.edu/bionumber.aspx?s=n&v=3&id=111919)), with a degradation rate half life of ca. 5-10 minutes ([from \"Quantifying E. coli proteome and transcriptome with single-molecule sensitivity in single cells\" (2010)](https://www.ncbi.nlm.nih.gov/pmc/articles/PMC2922915/)). \n",
    "RNA transcription occurs at a rate of approximately 39-55 nucleotides per second in E. coli ([from bionumbers](https://bionumbers.hms.harvard.edu/bionumber.aspx?&id=104900)). Since the RNA being considered for simplified genetic circuits are very short in length (in order to remain within a manageable combinatorial sequence space), we assume a nucleotide length of 20 per RNA molecule. This would make the removal rate the following:\n",
    "\n",
    "$$ \\frac{dRNA}{dt} = k_{prod} - k_{rem}*RNA $$\n",
    "$$ \\overline{RNA} = \\frac{k_{prod}}{k_{rem}} = 1380 molecules $$\n",
    "$$ k_{prod1} = \\frac{39 nt/s}{20 nt/molecule} = 1.95 molecules/s $$\n",
    "$$ k_{prod2} = \\frac{55 nt/s}{20 nt/molecule} = 2.75 molecules/s $$\n",
    "$$ k_{rem1} = \\frac{k_{prod}}{\\overline{RNA}} = \\frac{1.95 molecules/s}{1380 molecules} = 0.001413 s^{-1} = 0.084783 min^{-1} $$\n",
    "$$ k_{rem2} = \\frac{k_{prod}}{\\overline{RNA}} = \\frac{2.75 molecules/s}{1380 molecules} = 0.0019927 s^{-1} = 0.119565 min^{-1} $$\n",
    "\n",
    "$$ t_{1/2} = ln(2)/k_{rem} = ln(2) / 0.08478 min^{-1} = 8.176 mins $$\n",
    "\n",
    "The half life of the calculated removal rate of ca. 8 minutes falls within the expected range of 5-10 minutes. Here are some simulations to show the expected settling time."
   ]
  },
  {
   "cell_type": "code",
   "execution_count": 84,
   "metadata": {},
   "outputs": [
    {
     "name": "stdout",
     "output_type": "stream",
     "text": [
      "The settling time is approximately  5879.0 s, or  97.98334 mins\n"
     ]
    },
    {
     "data": {
      "image/png": "[encoded data removed]",
      "text/plain": [
       "<Figure size 640x480 with 1 Axes>"
      ]
     },
     "metadata": {},
     "output_type": "display_data"
    }
   ],
   "source": [
    "\n",
    "rna_steady = 1380\n",
    "k_prod1 = 1.95\n",
    "k_prod2 = 2.75\n",
    "k_rem1 = 0.001413\n",
    "k_rem2 = 0.0019927\n",
    "\n",
    "\n",
    "def dRNA1(t, RNA, args):\n",
    "    return k_prod1 - k_rem1 * RNA\n",
    "\n",
    "\n",
    "def dRNA2(t, RNA, args):\n",
    "    return k_prod2 - k_rem2 * RNA\n",
    "\n",
    "\n",
    "f_rna1 = dfx.ODETerm(dRNA1)\n",
    "f_rna2 = dfx.ODETerm(dRNA2)\n",
    "t0, t1, dt0 = 0, 6000, 1\n",
    "y0 = 0\n",
    "rna1 = dfx.diffeqsolve(f_rna1, solver=dfx.Tsit5(), t0=t0, t1=t1, dt0=dt0,\n",
    "                      y0=y0, saveat=dfx.SaveAt(t0=True, t1=True, steps=True), max_steps=16**4)\n",
    "rna2 = dfx.diffeqsolve(f_rna2, solver=dfx.Tsit5(), t0=t0, t1=t1, dt0=dt0,\n",
    "                      y0=y0, saveat=dfx.SaveAt(t0=True, t1=True, steps=True), max_steps=16**4)\n",
    "\n",
    "plt.plot(rna1.ts, rna1.ys)\n",
    "plt.plot(rna2.ts, rna2.ys)\n",
    "plt.legend(['low', 'high'])\n",
    "\n",
    "print('The settling time is approximately ', rna1.ts[np.argmax((rna1.ys >= rna_steady - 0.3) & (\n",
    "    rna1.ys <= rna_steady + 0.3))], 's, or ', rna1.ts[np.argmax((rna1.ys >= rna_steady - 0.3) & (rna1.ys <= rna_steady + 0.3))] / 60, 'mins')\n"
   ]
  },
  {
   "attachments": {},
   "cell_type": "markdown",
   "metadata": {},
   "source": [
    "Deriving the constant in integral of ODE.\n",
    "\n",
    "$$ \\frac{dRNA}{dt} = \\frac{dx}{dt} = k_{prod} - k_{rem} * x(t) $$\n",
    "$$ x(t) = \\frac{k_{prod}}{k_{rem}} + c * e^{-k_{rem} * t} $$\n",
    "$$ x(t) = \\frac{k_{prod}}{k_{rem}} + c * e^{-k_{rem} * t} $$\n",
    "$$ x(0) = \\frac{k_{prod}}{k_{rem}} + c * e^{-k_{rem} * 0} $$\n",
    "$$ 0 = \\frac{k_{prod}}{k_{rem}} + c $$\n",
    "$$ c = - \\frac{k_{prod}}{k_{rem}} = - 1380 $$ \n",
    "$$ x(t) = \\frac{k_{prod}}{k_{rem}} - 1380 * e^{-k_{rem} * t} $$\n",
    "\n"
   ]
  },
  {
   "cell_type": "code",
   "execution_count": 82,
   "metadata": {},
   "outputs": [],
   "source": [
    "def x(t):\n",
    "    return k_prod1/k_rem1 - rna_steady * np.exp(-k_rem1 * t)\n",
    "\n",
    "\n"
   ]
  },
  {
   "attachments": {},
   "cell_type": "markdown",
   "metadata": {},
   "source": [
    "## Coupled rates\n",
    "\n",
    "Adding in the coupling of different RNAs together.\n",
    "\n",
    "x0 + x0 -> x00\n",
    "x0 + x1 -> x01\n",
    "x0 + x2 -> x02\n",
    "x1 + x1 -> x11\n",
    "x1 + x2 -> x12\n",
    "x2 + x2 -> x22\n",
    "\n",
    "$$ \\Sigma_{i=0}^j x_{i} + x_{j} -> x_{ij} $$\n",
    "\n",
    "$$ \\frac{dx_{i}}{dt} = k_{prod} - k_{rem} * x_{i} - k_{aij} * x_{i} * x_{j} + k_{dij} * x_{ij} $$\n",
    "$$ dx/dt = p - r * x(t) - a * x(t) * y(t) + d * n(t) $$\n",
    "$$ \\frac{dx_{j}}{dt} = k_{prod} - k_{rem} * x_{j} - k_{aij} * x_{i} * x_{j} + k_{dij} * x_{ij} $$\n",
    "$$ \\frac{dx_{ij}}{dt} = k_{aij} * x_{i} * x_{j} - k_{dij} * x_{ij} $$\n",
    "dn/dt = a * x(t) * y(t) - d * n(t)\n",
    "\n",
    "Now we try to find an expression for the steady states:\n",
    "\n",
    "$$ x_{i} + x_{j} + x_{ij} = x_{steady} = 1380 $$\n",
    "\n",
    "$$ k_{aij} * x_{i} * x_{j} - k_{dij} * x_{ij} = 0 = x_{steady} - (x_{i} + x_{j} + x_{ij}) $$\n",
    "$$ k_{aij} * x_{i} * x_{j} - k_{dij} * x_{ij} + (x_{i} + x_{j} + x_{ij}) = x_{steady} $$ \n",
    "$$ k_{aij} * x_{i} * x_{j} + x_{ij} * (1 - k_{dij}) + x_{i} + x_{j} = x_{steady} $$ \n",
    "\n",
    "ok\n",
    "\n",
    "$$ k_{prod} - k_{rem} * x_{j} - k_{aij} * x_{i} * x_{j} + k_{dij} * x_{ij} = 0 = x_{steady} - (x_{i} + x_{j} + x_{ij}) $$\n",
    "$$ k_{prod} - k_{rem} * x_{j} - k_{aij} * x_{i} * x_{j} + k_{dij} * x_{ij} + (x_{i} + x_{j} + x_{ij}) = x_{steady} $$\n",
    "$$ k_{prod} + x_{j} * (1 - k_{rem}) - k_{aij} * x_{i} * x_{j} + x_{ij} * (1 + k_{dij}) + x_{i} = x_{steady} $$\n",
    "\n",
    "\n",
    "Simultaneous equation:\n",
    "$$ 2 * k_{prod} - k_{rem} * x_{i} - k_{rem} * x_{j} - k_{aij} * x_{i} * x_{j} + k_{dij} * x_{ij} + x_{i} + x_{j} + x_{ij} = x_{steady} $$\n",
    "$$ (x_{i} + x_{j}) (1 - k_{rem}) - k_{aij} * x_{i} * x_{j} + x_{ij} (1 + k_{dij}) = x_{steady} - 2 * k_{prod} $$\n",
    "\n"
   ]
  },
  {
   "cell_type": "code",
   "execution_count": 85,
   "metadata": {},
   "outputs": [],
   "source": [
    "\n",
    "rna_steady = 1380\n",
    "k_prod1 = 1.95\n",
    "k_prod2 = 2.75\n",
    "k_rem1 = 0.001413\n",
    "k_rem2 = 0.0019927\n",
    "\n"
   ]
  },
  {
   "cell_type": "code",
   "execution_count": null,
   "metadata": {},
   "outputs": [],
   "source": []
  }
 ],
 "metadata": {
  "kernelspec": {
   "display_name": "env_circuits",
   "language": "python",
   "name": "python3"
  },
  "language_info": {
   "codemirror_mode": {
    "name": "ipython",
    "version": 3
   },
   "file_extension": ".py",
   "mimetype": "text/x-python",
   "name": "python",
   "nbconvert_exporter": "python",
   "pygments_lexer": "ipython3",
   "version": "3.10.6"
  },
  "orig_nbformat": 4
 },
 "nbformat": 4,
 "nbformat_minor": 2
}
