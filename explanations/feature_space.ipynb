{
 "cells": [
  {
   "attachments": {},
   "cell_type": "markdown",
   "metadata": {},
   "source": [
    "# Feature space: non-ML\n",
    "\n",
    "What kind of features are most predictive of mutational stability?"
   ]
  },
  {
   "cell_type": "code",
   "execution_count": 109,
   "metadata": {},
   "outputs": [
    {
     "name": "stdout",
     "output_type": "stream",
     "text": [
      "The autoreload extension is already loaded. To reload it, use:\n",
      "  %reload_ext autoreload\n"
     ]
    }
   ],
   "source": [
    "%load_ext autoreload\n",
    "%autoreload 2"
   ]
  },
  {
   "cell_type": "code",
   "execution_count": 110,
   "metadata": {},
   "outputs": [],
   "source": [
    "import numpy as np\n",
    "import os\n",
    "import sys\n",
    "from copy import deepcopy\n",
    "\n",
    "import matplotlib.pyplot as plt\n",
    "import seaborn as sns\n",
    "\n",
    "\n",
    "if __package__ is None:\n",
    "\n",
    "    module_path = os.path.abspath(os.path.join('..'))\n",
    "    sys.path.append(module_path)\n",
    "\n",
    "    __package__ = os.path.basename(module_path)\n",
    "\n",
    "\n",
    "from src.srv.sequence_exploration.sequence_analysis import b_tabulate_mutation_info\n",
    "from src.utils.data.data_format_tools.common import load_json_as_dict\n",
    "from src.utils.common.setup_new import prepare_config\n",
    "from src.utils.circuit.agnostic_circuits.circuit_manager_new import CircuitModeller\n",
    "from src.utils.evolution.evolver import Evolver\n",
    "from src.utils.misc.type_handling import flatten_listlike\n",
    "from src.utils.results.analytics.naming import get_analytics_types_all, get_true_names_analytics, get_true_interaction_cols\n",
    "from tests_local.shared import create_test_inputs, CONFIG, TEST_CONFIG\n",
    "\n",
    "# config = load_json_as_dict('../tests_local/configs/simple_circuit.json')\n",
    "SEQ_LENGTH = 20\n"
   ]
  },
  {
   "cell_type": "code",
   "execution_count": 112,
   "metadata": {},
   "outputs": [
    {
     "ename": "KeyboardInterrupt",
     "evalue": "",
     "output_type": "error",
     "traceback": [
      "\u001b[0;31m---------------------------------------------------------------------------\u001b[0m",
      "\u001b[0;31mKeyboardInterrupt\u001b[0m                         Traceback (most recent call last)",
      "Cell \u001b[0;32mIn[112], line 1\u001b[0m\n\u001b[0;32m----> 1\u001b[0m circuits, config, result_writer, info \u001b[39m=\u001b[39m create_test_inputs(deepcopy(TEST_CONFIG))\n",
      "File \u001b[0;32m~/Desktop/Kode/Oxford/DPhil/gene-circuit-glitch-prediction/tests_local/shared.py:201\u001b[0m, in \u001b[0;36mcreate_test_inputs\u001b[0;34m(config)\u001b[0m\n\u001b[1;32m    200\u001b[0m \u001b[39mdef\u001b[39;00m \u001b[39mcreate_test_inputs\u001b[39m(config: \u001b[39mdict\u001b[39m):\n\u001b[0;32m--> 201\u001b[0m     circuits, config, data_writer \u001b[39m=\u001b[39m five_circuits(config, data_writer\u001b[39m=\u001b[39;49m\u001b[39mNone\u001b[39;49;00m)\n\u001b[1;32m    202\u001b[0m     circuits, config, data_writer \u001b[39m=\u001b[39m mutate(circuits, config, data_writer)\n\u001b[1;32m    203\u001b[0m     circuits, config, data_writer \u001b[39m=\u001b[39m simulate(circuits, config, data_writer)\n",
      "File \u001b[0;32m~/Desktop/Kode/Oxford/DPhil/gene-circuit-glitch-prediction/tests_local/shared.py:164\u001b[0m, in \u001b[0;36mfive_circuits\u001b[0;34m(config, data_writer)\u001b[0m\n\u001b[1;32m    155\u001b[0m \u001b[39m# interactions = np.expand_dims(np.expand_dims(np.arange(\u001b[39;00m\n\u001b[1;32m    156\u001b[0m \u001b[39m#     len(paths)), axis=1), axis=2) * np.ones((len(paths), species_num, species_num)) * default_interaction\u001b[39;00m\n\u001b[1;32m    157\u001b[0m interactions_cfg \u001b[39m=\u001b[39m [\n\u001b[1;32m    158\u001b[0m     {\u001b[39m'\u001b[39m\u001b[39mbinding_rates_association\u001b[39m\u001b[39m'\u001b[39m: config[\u001b[39m'\u001b[39m\u001b[39mmolecular_params\u001b[39m\u001b[39m'\u001b[39m][\u001b[39m'\u001b[39m\u001b[39massociation_binding_rate\u001b[39m\u001b[39m'\u001b[39m \u001b[39m+\u001b[39m \u001b[39m'\u001b[39m\u001b[39m_per_molecule\u001b[39m\u001b[39m'\u001b[39m],\n\u001b[1;32m    159\u001b[0m      \u001b[39m'\u001b[39m\u001b[39mbinding_rates_dissociation\u001b[39m\u001b[39m'\u001b[39m: bp,\n\u001b[1;32m    160\u001b[0m      \u001b[39m'\u001b[39m\u001b[39meqconstants\u001b[39m\u001b[39m'\u001b[39m: ep,\n\u001b[1;32m    161\u001b[0m      \u001b[39m'\u001b[39m\u001b[39menergies\u001b[39m\u001b[39m'\u001b[39m: eg}\n\u001b[1;32m    162\u001b[0m     \u001b[39mfor\u001b[39;00m bp, ep, eg \u001b[39min\u001b[39;00m \u001b[39mzip\u001b[39m(interaction_paths[\u001b[39m0\u001b[39m], interaction_paths[\u001b[39m1\u001b[39m], interaction_paths[\u001b[39m2\u001b[39m])]\n\u001b[0;32m--> 164\u001b[0m \u001b[39mreturn\u001b[39;00m [construct_circuit_from_cfg(\n\u001b[1;32m    165\u001b[0m     {\u001b[39m'\u001b[39m\u001b[39mdata_path\u001b[39m\u001b[39m'\u001b[39m: p,\n\u001b[1;32m    166\u001b[0m      \u001b[39m'\u001b[39m\u001b[39minteractions\u001b[39m\u001b[39m'\u001b[39m: i\n\u001b[1;32m    167\u001b[0m      }, config) \u001b[39mfor\u001b[39;00m p, i \u001b[39min\u001b[39;00m \u001b[39mzip\u001b[39m(paths, interactions_cfg)], config, data_writer\n",
      "File \u001b[0;32m~/Desktop/Kode/Oxford/DPhil/gene-circuit-glitch-prediction/tests_local/shared.py:164\u001b[0m, in \u001b[0;36m<listcomp>\u001b[0;34m(.0)\u001b[0m\n\u001b[1;32m    155\u001b[0m \u001b[39m# interactions = np.expand_dims(np.expand_dims(np.arange(\u001b[39;00m\n\u001b[1;32m    156\u001b[0m \u001b[39m#     len(paths)), axis=1), axis=2) * np.ones((len(paths), species_num, species_num)) * default_interaction\u001b[39;00m\n\u001b[1;32m    157\u001b[0m interactions_cfg \u001b[39m=\u001b[39m [\n\u001b[1;32m    158\u001b[0m     {\u001b[39m'\u001b[39m\u001b[39mbinding_rates_association\u001b[39m\u001b[39m'\u001b[39m: config[\u001b[39m'\u001b[39m\u001b[39mmolecular_params\u001b[39m\u001b[39m'\u001b[39m][\u001b[39m'\u001b[39m\u001b[39massociation_binding_rate\u001b[39m\u001b[39m'\u001b[39m \u001b[39m+\u001b[39m \u001b[39m'\u001b[39m\u001b[39m_per_molecule\u001b[39m\u001b[39m'\u001b[39m],\n\u001b[1;32m    159\u001b[0m      \u001b[39m'\u001b[39m\u001b[39mbinding_rates_dissociation\u001b[39m\u001b[39m'\u001b[39m: bp,\n\u001b[1;32m    160\u001b[0m      \u001b[39m'\u001b[39m\u001b[39meqconstants\u001b[39m\u001b[39m'\u001b[39m: ep,\n\u001b[1;32m    161\u001b[0m      \u001b[39m'\u001b[39m\u001b[39menergies\u001b[39m\u001b[39m'\u001b[39m: eg}\n\u001b[1;32m    162\u001b[0m     \u001b[39mfor\u001b[39;00m bp, ep, eg \u001b[39min\u001b[39;00m \u001b[39mzip\u001b[39m(interaction_paths[\u001b[39m0\u001b[39m], interaction_paths[\u001b[39m1\u001b[39m], interaction_paths[\u001b[39m2\u001b[39m])]\n\u001b[0;32m--> 164\u001b[0m \u001b[39mreturn\u001b[39;00m [construct_circuit_from_cfg(\n\u001b[1;32m    165\u001b[0m     {\u001b[39m'\u001b[39;49m\u001b[39mdata_path\u001b[39;49m\u001b[39m'\u001b[39;49m: p,\n\u001b[1;32m    166\u001b[0m      \u001b[39m'\u001b[39;49m\u001b[39minteractions\u001b[39;49m\u001b[39m'\u001b[39;49m: i\n\u001b[1;32m    167\u001b[0m      }, config) \u001b[39mfor\u001b[39;00m p, i \u001b[39min\u001b[39;00m \u001b[39mzip\u001b[39m(paths, interactions_cfg)], config, data_writer\n",
      "File \u001b[0;32m~/Desktop/Kode/Oxford/DPhil/gene-circuit-glitch-prediction/src/utils/common/setup_new.py:103\u001b[0m, in \u001b[0;36mconstruct_circuit_from_cfg\u001b[0;34m(prev_configs, config_file)\u001b[0m\n\u001b[1;32m    101\u001b[0m \u001b[39mdef\u001b[39;00m \u001b[39mconstruct_circuit_from_cfg\u001b[39m(prev_configs: \u001b[39mdict\u001b[39m, config_file: \u001b[39mdict\u001b[39m):\n\u001b[1;32m    102\u001b[0m     kwargs \u001b[39m=\u001b[39m compose_kwargs(prev_configs\u001b[39m=\u001b[39mprev_configs, config\u001b[39m=\u001b[39mconfig_file)\n\u001b[0;32m--> 103\u001b[0m     circuit \u001b[39m=\u001b[39m instantiate_system(kwargs)\n\u001b[1;32m    104\u001b[0m     \u001b[39mif\u001b[39;00m kwargs\u001b[39m.\u001b[39mget(\u001b[39m\"\u001b[39m\u001b[39msignal\u001b[39m\u001b[39m\"\u001b[39m):\n\u001b[1;32m    105\u001b[0m         signal \u001b[39m=\u001b[39m construct_signal(kwargs, circuit)\n",
      "File \u001b[0;32m~/Desktop/Kode/Oxford/DPhil/gene-circuit-glitch-prediction/src/utils/common/setup_new.py:118\u001b[0m, in \u001b[0;36minstantiate_system\u001b[0;34m(kwargs)\u001b[0m\n\u001b[1;32m    115\u001b[0m \u001b[39mdef\u001b[39;00m \u001b[39minstantiate_system\u001b[39m(kwargs):\n\u001b[1;32m    116\u001b[0m     \u001b[39m# system_cfg_args = parse_cfg_args(kwargs)\u001b[39;00m\n\u001b[1;32m    117\u001b[0m     SystemType \u001b[39m=\u001b[39m get_system_type(kwargs[\u001b[39m\"\u001b[39m\u001b[39msystem_type\u001b[39m\u001b[39m\"\u001b[39m])\n\u001b[0;32m--> 118\u001b[0m     \u001b[39mreturn\u001b[39;00m SystemType(kwargs)\n",
      "File \u001b[0;32m~/Desktop/Kode/Oxford/DPhil/gene-circuit-glitch-prediction/src/utils/circuit/agnostic_circuits/circuit_new.py:44\u001b[0m, in \u001b[0;36mCircuit.__init__\u001b[0;34m(self, config, as_mutation)\u001b[0m\n\u001b[1;32m     42\u001b[0m     \u001b[39mself\u001b[39m\u001b[39m.\u001b[39minit_mutation()\n\u001b[1;32m     43\u001b[0m \u001b[39melse\u001b[39;00m:\n\u001b[0;32m---> 44\u001b[0m     \u001b[39mself\u001b[39;49m\u001b[39m.\u001b[39;49minit_refcircuit(config)\n",
      "File \u001b[0;32m~/Desktop/Kode/Oxford/DPhil/gene-circuit-glitch-prediction/src/utils/circuit/agnostic_circuits/circuit_new.py:59\u001b[0m, in \u001b[0;36mCircuit.init_refcircuit\u001b[0;34m(self, config)\u001b[0m\n\u001b[1;32m     56\u001b[0m \u001b[39mself\u001b[39m\u001b[39m.\u001b[39mqreactions \u001b[39m=\u001b[39m \u001b[39mself\u001b[39m\u001b[39m.\u001b[39minit_reactions(\u001b[39mself\u001b[39m\u001b[39m.\u001b[39mmodel, config)\n\u001b[1;32m     57\u001b[0m \u001b[39mself\u001b[39m\u001b[39m.\u001b[39minteractions_state: \u001b[39mstr\u001b[39m \u001b[39m=\u001b[39m config\u001b[39m.\u001b[39mget(\n\u001b[1;32m     58\u001b[0m     \u001b[39m'\u001b[39m\u001b[39minteractions_state\u001b[39m\u001b[39m'\u001b[39m, \u001b[39m'\u001b[39m\u001b[39muninitialised\u001b[39m\u001b[39m'\u001b[39m)\n\u001b[0;32m---> 59\u001b[0m \u001b[39mself\u001b[39;49m\u001b[39m.\u001b[39;49minit_interactions(config\u001b[39m.\u001b[39;49mget(\u001b[39m'\u001b[39;49m\u001b[39minteractions\u001b[39;49m\u001b[39m'\u001b[39;49m),\n\u001b[1;32m     60\u001b[0m                        config\u001b[39m.\u001b[39;49mget(\u001b[39m'\u001b[39;49m\u001b[39minteractions_loaded\u001b[39;49m\u001b[39m'\u001b[39;49m))\n\u001b[1;32m     61\u001b[0m \u001b[39mif\u001b[39;00m config\u001b[39m.\u001b[39mget(\u001b[39m'\u001b[39m\u001b[39minteractions_loaded\u001b[39m\u001b[39m'\u001b[39m) \u001b[39mis\u001b[39;00m \u001b[39mnot\u001b[39;00m \u001b[39mNone\u001b[39;00m \u001b[39mor\u001b[39;00m config\u001b[39m.\u001b[39mget(\u001b[39m'\u001b[39m\u001b[39minteractions\u001b[39m\u001b[39m'\u001b[39m) \u001b[39mis\u001b[39;00m \u001b[39mnot\u001b[39;00m \u001b[39mNone\u001b[39;00m:\n\u001b[1;32m     62\u001b[0m     \u001b[39massert\u001b[39;00m \u001b[39mself\u001b[39m\u001b[39m.\u001b[39minteractions_state \u001b[39m!=\u001b[39m \u001b[39m'\u001b[39m\u001b[39muninitialised\u001b[39m\u001b[39m'\u001b[39m, \u001b[39mf\u001b[39m\u001b[39m'\u001b[39m\u001b[39mThe interactions should have been initialised from \u001b[39m\u001b[39m{\u001b[39;00mconfig\u001b[39m.\u001b[39mget(\u001b[39m\"\u001b[39m\u001b[39minteractions\u001b[39m\u001b[39m\"\u001b[39m)\u001b[39m}\u001b[39;00m\u001b[39m'\u001b[39m\n",
      "File \u001b[0;32m~/Desktop/Kode/Oxford/DPhil/gene-circuit-glitch-prediction/src/utils/circuit/agnostic_circuits/circuit_new.py:86\u001b[0m, in \u001b[0;36mCircuit.init_interactions\u001b[0;34m(self, interaction_cfg, interactions_loaded)\u001b[0m\n\u001b[1;32m     85\u001b[0m \u001b[39mdef\u001b[39;00m \u001b[39minit_interactions\u001b[39m(\u001b[39mself\u001b[39m, interaction_cfg: \u001b[39mdict\u001b[39m \u001b[39m=\u001b[39m \u001b[39mNone\u001b[39;00m, interactions_loaded: \u001b[39mdict\u001b[39m \u001b[39m=\u001b[39m \u001b[39mNone\u001b[39;00m) \u001b[39m-\u001b[39m\u001b[39m>\u001b[39m MolecularInteractions:\n\u001b[0;32m---> 86\u001b[0m     \u001b[39mif\u001b[39;00m interaction_cfg \u001b[39mis\u001b[39;00m \u001b[39mNone\u001b[39;00m \u001b[39mand\u001b[39;00m interactions_loaded \u001b[39mis\u001b[39;00m \u001b[39mNone\u001b[39;00m:\n\u001b[1;32m     87\u001b[0m         num_in_species \u001b[39m=\u001b[39m \u001b[39mlen\u001b[39m(get_unique(flatten_listlike(\n\u001b[1;32m     88\u001b[0m             \u001b[39mself\u001b[39m\u001b[39m.\u001b[39mget_in_species())))\n\u001b[1;32m     89\u001b[0m         nans \u001b[39m=\u001b[39m np\u001b[39m.\u001b[39mzeros((num_in_species, num_in_species)) \u001b[39m*\u001b[39m np\u001b[39m.\u001b[39mnan\n",
      "File \u001b[0;32m~/Desktop/Kode/Oxford/DPhil/gene-circuit-glitch-prediction/src/utils/circuit/agnostic_circuits/circuit_new.py:86\u001b[0m, in \u001b[0;36mCircuit.init_interactions\u001b[0;34m(self, interaction_cfg, interactions_loaded)\u001b[0m\n\u001b[1;32m     85\u001b[0m \u001b[39mdef\u001b[39;00m \u001b[39minit_interactions\u001b[39m(\u001b[39mself\u001b[39m, interaction_cfg: \u001b[39mdict\u001b[39m \u001b[39m=\u001b[39m \u001b[39mNone\u001b[39;00m, interactions_loaded: \u001b[39mdict\u001b[39m \u001b[39m=\u001b[39m \u001b[39mNone\u001b[39;00m) \u001b[39m-\u001b[39m\u001b[39m>\u001b[39m MolecularInteractions:\n\u001b[0;32m---> 86\u001b[0m     \u001b[39mif\u001b[39;00m interaction_cfg \u001b[39mis\u001b[39;00m \u001b[39mNone\u001b[39;00m \u001b[39mand\u001b[39;00m interactions_loaded \u001b[39mis\u001b[39;00m \u001b[39mNone\u001b[39;00m:\n\u001b[1;32m     87\u001b[0m         num_in_species \u001b[39m=\u001b[39m \u001b[39mlen\u001b[39m(get_unique(flatten_listlike(\n\u001b[1;32m     88\u001b[0m             \u001b[39mself\u001b[39m\u001b[39m.\u001b[39mget_in_species())))\n\u001b[1;32m     89\u001b[0m         nans \u001b[39m=\u001b[39m np\u001b[39m.\u001b[39mzeros((num_in_species, num_in_species)) \u001b[39m*\u001b[39m np\u001b[39m.\u001b[39mnan\n",
      "File \u001b[0;32m_pydevd_bundle/pydevd_cython.pyx:1457\u001b[0m, in \u001b[0;36m_pydevd_bundle.pydevd_cython.SafeCallWrapper.__call__\u001b[0;34m()\u001b[0m\n",
      "File \u001b[0;32m_pydevd_bundle/pydevd_cython.pyx:701\u001b[0m, in \u001b[0;36m_pydevd_bundle.pydevd_cython.PyDBFrame.trace_dispatch\u001b[0;34m()\u001b[0m\n",
      "File \u001b[0;32m_pydevd_bundle/pydevd_cython.pyx:1152\u001b[0m, in \u001b[0;36m_pydevd_bundle.pydevd_cython.PyDBFrame.trace_dispatch\u001b[0;34m()\u001b[0m\n",
      "File \u001b[0;32m_pydevd_bundle/pydevd_cython.pyx:1135\u001b[0m, in \u001b[0;36m_pydevd_bundle.pydevd_cython.PyDBFrame.trace_dispatch\u001b[0;34m()\u001b[0m\n",
      "File \u001b[0;32m_pydevd_bundle/pydevd_cython.pyx:312\u001b[0m, in \u001b[0;36m_pydevd_bundle.pydevd_cython.PyDBFrame.do_wait_suspend\u001b[0;34m()\u001b[0m\n",
      "File \u001b[0;32m~/Desktop/Kode/Oxford/DPhil/env_gene/lib/python3.8/site-packages/debugpy/_vendored/pydevd/pydevd.py:2067\u001b[0m, in \u001b[0;36mPyDB.do_wait_suspend\u001b[0;34m(self, thread, frame, event, arg, exception_type)\u001b[0m\n\u001b[1;32m   2064\u001b[0m             from_this_thread\u001b[39m.\u001b[39mappend(frame_custom_thread_id)\n\u001b[1;32m   2066\u001b[0m     \u001b[39mwith\u001b[39;00m \u001b[39mself\u001b[39m\u001b[39m.\u001b[39m_threads_suspended_single_notification\u001b[39m.\u001b[39mnotify_thread_suspended(thread_id, stop_reason):\n\u001b[0;32m-> 2067\u001b[0m         keep_suspended \u001b[39m=\u001b[39m \u001b[39mself\u001b[39;49m\u001b[39m.\u001b[39;49m_do_wait_suspend(thread, frame, event, arg, suspend_type, from_this_thread, frames_tracker)\n\u001b[1;32m   2069\u001b[0m frames_list \u001b[39m=\u001b[39m \u001b[39mNone\u001b[39;00m\n\u001b[1;32m   2071\u001b[0m \u001b[39mif\u001b[39;00m keep_suspended:\n\u001b[1;32m   2072\u001b[0m     \u001b[39m# This means that we should pause again after a set next statement.\u001b[39;00m\n",
      "File \u001b[0;32m~/Desktop/Kode/Oxford/DPhil/env_gene/lib/python3.8/site-packages/debugpy/_vendored/pydevd/pydevd.py:2103\u001b[0m, in \u001b[0;36mPyDB._do_wait_suspend\u001b[0;34m(self, thread, frame, event, arg, suspend_type, from_this_thread, frames_tracker)\u001b[0m\n\u001b[1;32m   2100\u001b[0m         \u001b[39mself\u001b[39m\u001b[39m.\u001b[39m_call_input_hook()\n\u001b[1;32m   2102\u001b[0m     \u001b[39mself\u001b[39m\u001b[39m.\u001b[39mprocess_internal_commands()\n\u001b[0;32m-> 2103\u001b[0m     time\u001b[39m.\u001b[39;49msleep(\u001b[39m0.01\u001b[39;49m)\n\u001b[1;32m   2105\u001b[0m \u001b[39mself\u001b[39m\u001b[39m.\u001b[39mcancel_async_evaluation(get_current_thread_id(thread), \u001b[39mstr\u001b[39m(\u001b[39mid\u001b[39m(frame)))\n\u001b[1;32m   2107\u001b[0m \u001b[39m# process any stepping instructions\u001b[39;00m\n",
      "\u001b[0;31mKeyboardInterrupt\u001b[0m: "
     ]
    }
   ],
   "source": [
    "circuits, config, result_writer, info = create_test_inputs(deepcopy(TEST_CONFIG))"
   ]
  },
  {
   "attachments": {},
   "cell_type": "markdown",
   "metadata": {},
   "source": [
    "Get info"
   ]
  },
  {
   "cell_type": "code",
   "execution_count": null,
   "metadata": {},
   "outputs": [],
   "source": [
    "\n",
    "info = b_tabulate_mutation_info(result_writer.ensemble_write_dir,\n",
    "                                data_writer=result_writer, experiment_config=config)"
   ]
  },
  {
   "cell_type": "code",
   "execution_count": null,
   "metadata": {},
   "outputs": [],
   "source": [
    "# circuits = [Evolver(data_writer=result_writer,\n",
    "#                     sequence_type=config.get('system_type')).mutate(\n",
    "#             c,\n",
    "#             write_to_subsystem=True,\n",
    "#             algorithm=config.get('mutations', {}).get('algorithm', 'random')) for c in circuits]\n",
    "# circuit_modeller = CircuitModeller(result_writer=result_writer, config=config)\n",
    "# circuits = circuit_modeller.batch_circuits(\n",
    "#     circuits=circuits,\n",
    "#     methods={\n",
    "#         \"compute_interactions\": {},\n",
    "#         \"init_circuits\": {'batch': True},\n",
    "#         'simulate_signal_batch': {'ref_circuit': None,\n",
    "#                                   'batch': config['simulation']['use_batch_mutations']},\n",
    "#         'write_results': {'no_visualisations': False, # config['experiment']['no_visualisations'],\n",
    "#                           'no_numerical': False} #config['experiment']['no_numerical']}\n",
    "#     }\n",
    "# )\n",
    "\n"
   ]
  },
  {
   "cell_type": "code",
   "execution_count": null,
   "metadata": {},
   "outputs": [
    {
     "data": {
      "text/plain": [
       "{'binding_rates_association': array([[0.00150958, 0.00150958, 0.00150958],\n",
       "        [0.00150958, 0.00150958, 0.00150958],\n",
       "        [0.00150958, 0.00150958, 0.00150958]]),\n",
       " 'binding_rates_dissociation': array([[0.00150958, 0.00150958, 0.00150958],\n",
       "        [0.00150958, 0.00150958, 0.00150958],\n",
       "        [0.00150958, 0.00150958, 0.00150958]]),\n",
       " 'energies': array([[0., 0., 0.],\n",
       "        [0., 0., 0.],\n",
       "        [0., 0., 0.]]),\n",
       " 'eqconstants': array([[1., 1., 1.],\n",
       "        [1., 1., 1.],\n",
       "        [1., 1., 1.]]),\n",
       " 'binding_sites': array([[nan, nan, nan],\n",
       "        [nan, nan, nan],\n",
       "        [nan, nan, nan]]),\n",
       " 'units': 'unknown'}"
      ]
     },
     "execution_count": 82,
     "metadata": {},
     "output_type": "execute_result"
    }
   ],
   "source": [
    "circuits[0].interactions.__dict__"
   ]
  },
  {
   "cell_type": "code",
   "execution_count": null,
   "metadata": {},
   "outputs": [
    {
     "data": {
      "text/plain": [
       "[(9.0, 11.0),\n",
       " (10.0, 10.0),\n",
       " (11.0, 9.0),\n",
       " (12.0, 8.0),\n",
       " (13.0, 7.0),\n",
       " (14.0, 6.0),\n",
       " (15.0, 5.0),\n",
       " (16.0, 4.0)]"
      ]
     },
     "execution_count": 83,
     "metadata": {},
     "output_type": "execute_result"
    }
   ],
   "source": [
    "\n",
    "num_bs = int((100 / np.abs(-11.42)))\n",
    "\n",
    "num_groups = np.random.randint(int(SEQ_LENGTH/num_bs)) + 1\n",
    "\n",
    "starting_bind = [np.random.randint(1, SEQ_LENGTH - num_bs - num_groups)]\n",
    "[starting_bind.append(starting_bind[-1] + np.random.randint(int(num_bs / num_groups), SEQ_LENGTH - starting_bind[-1] - int(num_bs / num_groups))) for i in range(num_groups - 1)]\n",
    "\n",
    "fwd_bind = [np.arange(sb, sb+np.floor(num_bs/len(starting_bind)), 1) for sb in starting_bind]\n",
    "rev_bind = [SEQ_LENGTH - fb for fb in fwd_bind]\n",
    "\n",
    "flatten_listlike([[(f, r) for f, r in zip(fwd, rev)] for fwd, rev in zip(fwd_bind, rev_bind)])"
   ]
  },
  {
   "cell_type": "code",
   "execution_count": null,
   "metadata": {},
   "outputs": [],
   "source": [
    "def fake_binding_site(energy):\n",
    "    \"\"\" Let's say -100 kcal corresponds to the entire sequence binding \"\"\"\n",
    "    if energy == 0:\n",
    "        return [], 0, 0\n",
    "    num_bs = np.min([SEQ_LENGTH, int(100 / np.abs(energy))])\n",
    "    num_groups = np.random.randint(int(SEQ_LENGTH/num_bs)) + 1\n",
    "\n",
    "    starting_bind = [np.max([1, np.random.randint(0, np.max([1, SEQ_LENGTH - num_bs - num_groups]))])]\n",
    "    [starting_bind.append(starting_bind[-1] + np.random.randint(int(num_bs / num_groups), SEQ_LENGTH - starting_bind[-1] - int(num_bs / num_groups))) for i in range(num_groups - 1)]\n",
    "\n",
    "    fwd_bind = [np.arange(sb, sb+np.floor(num_bs/len(starting_bind)), 1) for sb in starting_bind]\n",
    "    rev_bind = [SEQ_LENGTH - fb for fb in fwd_bind]\n",
    "    return flatten_listlike([[(f, r) for f, r in zip(fwd, rev)] for fwd, rev in zip(fwd_bind, rev_bind)]), num_groups, num_bs\n"
   ]
  },
  {
   "cell_type": "code",
   "execution_count": null,
   "metadata": {},
   "outputs": [],
   "source": [
    "num_group_cols = [e.replace('energies', 'binding_sites_groups') for e in get_true_interaction_cols(info, 'energies')]\n",
    "num_bs_cols = [e.replace('energies', 'binding_sites_count') for e in get_true_interaction_cols(info, 'energies')]\n"
   ]
  },
  {
   "cell_type": "code",
   "execution_count": null,
   "metadata": {},
   "outputs": [],
   "source": [
    "for e, b, g, bs in zip(get_true_interaction_cols(info, 'energies'), get_true_interaction_cols(info, 'binding_sites'), num_group_cols, num_bs_cols):\n",
    "    fbs_all = [fake_binding_site(ee) for ee in info[e]]\n",
    "    fbs = [f[0] for f in fbs_all]\n",
    "    num_groups = [f[1] for f in fbs_all]\n",
    "    num_bs = [f[2] for f in fbs_all]\n",
    "\n",
    "    info[b] = fbs\n",
    "    info[g] = num_groups\n",
    "    info[bs] = num_bs\n"
   ]
  },
  {
   "cell_type": "code",
   "execution_count": null,
   "metadata": {},
   "outputs": [
    {
     "data": {
      "text/plain": [
       "['circuit_name',\n",
       " 'mutation_name',\n",
       " 'mutation_num',\n",
       " 'mutation_type',\n",
       " 'mutation_positions',\n",
       " 'path_to_template_circuit',\n",
       " 'name',\n",
       " 'interacting',\n",
       " 'self_interacting',\n",
       " 'num_interacting',\n",
       " 'num_self_interacting',\n",
       " 'num_interacting_diff_to_base_circuit',\n",
       " 'num_self_interacting_diff_to_base_circuit',\n",
       " 'num_interacting_ratio_from_mutation_to_base',\n",
       " 'num_self_interacting_ratio_from_mutation_to_base',\n",
       " 'fold_change',\n",
       " 'final_deriv',\n",
       " 'initial_steady_states',\n",
       " 'max_amount',\n",
       " 'min_amount',\n",
       " 'overshoot',\n",
       " 'RMSE',\n",
       " 'steady_states',\n",
       " 'response_time_wrt_species-6',\n",
       " 'response_time_wrt_species-6_diff_to_base_circuit',\n",
       " 'response_time_wrt_species-6_ratio_from_mutation_to_base',\n",
       " 'precision_wrt_species-6',\n",
       " 'precision_wrt_species-6_diff_to_base_circuit',\n",
       " 'precision_wrt_species-6_ratio_from_mutation_to_base',\n",
       " 'sensitivity_wrt_species-6',\n",
       " 'sensitivity_wrt_species-6_diff_to_base_circuit',\n",
       " 'sensitivity_wrt_species-6_ratio_from_mutation_to_base',\n",
       " 'fold_change_diff_to_base_circuit',\n",
       " 'final_deriv_diff_to_base_circuit',\n",
       " 'initial_steady_states_diff_to_base_circuit',\n",
       " 'max_amount_diff_to_base_circuit',\n",
       " 'min_amount_diff_to_base_circuit',\n",
       " 'overshoot_diff_to_base_circuit',\n",
       " 'RMSE_diff_to_base_circuit',\n",
       " 'steady_states_diff_to_base_circuit',\n",
       " 'fold_change_ratio_from_mutation_to_base',\n",
       " 'final_deriv_ratio_from_mutation_to_base',\n",
       " 'initial_steady_states_ratio_from_mutation_to_base',\n",
       " 'max_amount_ratio_from_mutation_to_base',\n",
       " 'min_amount_ratio_from_mutation_to_base',\n",
       " 'overshoot_ratio_from_mutation_to_base',\n",
       " 'RMSE_ratio_from_mutation_to_base',\n",
       " 'steady_states_ratio_from_mutation_to_base',\n",
       " 'sample_name']"
      ]
     },
     "execution_count": 90,
     "metadata": {},
     "output_type": "execute_result"
    }
   ],
   "source": [
    "relevant_cols = list(info.columns)\n",
    "[relevant_cols.remove(x) for x in get_true_interaction_cols(info, 'binding_rates_dissociation') + get_true_interaction_cols(info, 'eqconstants') +\n",
    " get_true_interaction_cols(info, 'energies') + get_true_interaction_cols(info, 'binding_sites') + num_group_cols + num_bs_cols]\n",
    "relevant_cols\n"
   ]
  },
  {
   "cell_type": "code",
   "execution_count": null,
   "metadata": {},
   "outputs": [],
   "source": [
    "infom = info.melt(relevant_cols, value_vars=get_true_interaction_cols(info, 'energies'), var_name='energies_idx', value_name='energies')\n",
    "dfm = info.melt(relevant_cols, value_vars=num_group_cols, var_name='num_groups_idx', value_name='num_groups')\n",
    "infom['num_groups'] = dfm['num_groups']\n",
    "infom['num_groups_idx'] = dfm['num_groups_idx']\n",
    "dfm = info.melt(relevant_cols, value_vars=num_bs_cols, var_name='num_bs_idx', value_name='num_bs')\n",
    "infom['num_bs'] = dfm['num_bs']\n",
    "infom['num_bs_idx'] = dfm['num_bs_idx']\n",
    "\n",
    "for k in ['binding_sites', 'binding_rates_dissociation', 'eqconstants']:\n",
    "    dfm = info.melt(relevant_cols, value_vars=get_true_interaction_cols(info, k), var_name=f'{k}_idx', value_name=k)\n",
    "    infom[k] = dfm[k]\n",
    "    infom[f'{k}_idx'] = dfm[f'{k}_idx']\n"
   ]
  },
  {
   "cell_type": "code",
   "execution_count": null,
   "metadata": {},
   "outputs": [
    {
     "data": {
      "text/plain": [
       "<AxesSubplot: xlabel='num_bs', ylabel='RMSE'>"
      ]
     },
     "execution_count": 94,
     "metadata": {},
     "output_type": "execute_result"
    },
    {
     "data": {
      "image/png": "[encoded data removed]",
      "text/plain": [
       "<Figure size 640x480 with 1 Axes>"
      ]
     },
     "metadata": {},
     "output_type": "display_data"
    }
   ],
   "source": [
    "sns.scatterplot(infom, x='num_bs', y='RMSE')"
   ]
  },
  {
   "cell_type": "code",
   "execution_count": null,
   "metadata": {},
   "outputs": [],
   "source": []
  }
 ],
 "metadata": {
  "kernelspec": {
   "display_name": "env_gene",
   "language": "python",
   "name": "python3"
  },
  "language_info": {
   "codemirror_mode": {
    "name": "ipython",
    "version": 3
   },
   "file_extension": ".py",
   "mimetype": "text/x-python",
   "name": "python",
   "nbconvert_exporter": "python",
   "pygments_lexer": "ipython3",
   "version": "3.8.1"
  },
  "orig_nbformat": 4
 },
 "nbformat": 4,
 "nbformat_minor": 2
}
