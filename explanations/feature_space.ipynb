{
 "cells": [
  {
   "attachments": {},
   "cell_type": "markdown",
   "metadata": {},
   "source": [
    "# Feature space: non-ML\n",
    "\n",
    "What kind of features are most predictive of mutational stability?"
   ]
  },
  {
   "cell_type": "code",
   "execution_count": 1,
   "metadata": {},
   "outputs": [],
   "source": [
    "%load_ext autoreload\n",
    "%autoreload 2"
   ]
  },
  {
   "cell_type": "code",
   "execution_count": 2,
   "metadata": {},
   "outputs": [],
   "source": [
    "import numpy as np\n",
    "import os\n",
    "import sys\n",
    "from copy import deepcopy\n",
    "\n",
    "import matplotlib.pyplot as plt\n",
    "import seaborn as sns\n",
    "\n",
    "\n",
    "if __package__ is None:\n",
    "\n",
    "    module_path = os.path.abspath(os.path.join('..'))\n",
    "    sys.path.append(module_path)\n",
    "\n",
    "    __package__ = os.path.basename(module_path)\n",
    "\n",
    "\n",
    "from src.srv.sequence_exploration.sequence_analysis import b_tabulate_mutation_info\n",
    "from src.utils.data.data_format_tools.common import load_json_as_dict\n",
    "from src.utils.common.setup_new import prepare_config\n",
    "from src.utils.circuit.agnostic_circuits.circuit_manager_new import CircuitModeller\n",
    "from src.utils.evolution.evolver import Evolver\n",
    "from src.utils.misc.string_handling import string_to_tuple_list\n",
    "from src.utils.misc.type_handling import flatten_listlike\n",
    "from src.utils.results.analytics.naming import get_analytics_types_all, get_true_names_analytics, get_true_interaction_cols\n",
    "from tests_local.shared import create_test_inputs, CONFIG, TEST_CONFIG, five_circuits, mutate, simulate\n",
    "\n",
    "# config = load_json_as_dict('../tests_local/configs/simple_circuit.json')\n",
    "SEQ_LENGTH = 20\n",
    "config = deepcopy(CONFIG)\n"
   ]
  },
  {
   "cell_type": "code",
   "execution_count": 3,
   "metadata": {},
   "outputs": [
    {
     "name": "stderr",
     "output_type": "stream",
     "text": [
      "2023-04-03 23:21:46.701421: E external/xla/xla/stream_executor/cuda/cuda_driver.cc:268] failed call to cuInit: CUDA_ERROR_NO_DEVICE: no CUDA-capable device is detected\n",
      "xla_bridge.py:backends():440: Unable to initialize backend 'cuda': FAILED_PRECONDITION: No visible GPU devices. INFO\n",
      "xla_bridge.py:backends():440: Unable to initialize backend 'rocm': NOT_FOUND: Could not find registered platform with name: \"rocm\". Available platform names are: Host CUDA Interpreter INFO\n",
      "xla_bridge.py:backends():440: Unable to initialize backend 'tpu': module 'jaxlib.xla_extension' has no attribute 'get_tpu_client' INFO\n",
      "xla_bridge.py:backends():440: Unable to initialize backend 'plugin': xla_extension has no attributes named get_plugin_device_client. Compile TensorFlow with //tensorflow/compiler/xla/python:enable_plugin_device set to true (defaults to false) to enable this. INFO\n",
      "xla_bridge.py:backends():448: No GPU/TPU found, falling back to CPU. (Set TF_CPP_MIN_LOG_LEVEL=0 and rerun for more info.) WARNING\n"
     ]
    }
   ],
   "source": [
    "# circuits, config, result_writer, info = create_test_inputs(deepcopy(CONFIG))\n",
    "\n",
    "circuits, config, data_writer = five_circuits(config, data_writer=None)"
   ]
  },
  {
   "cell_type": "code",
   "execution_count": 4,
   "metadata": {},
   "outputs": [],
   "source": [
    "\n",
    "circuits, config, data_writer = mutate(circuits, config, data_writer)"
   ]
  },
  {
   "cell_type": "code",
   "execution_count": 5,
   "metadata": {},
   "outputs": [
    {
     "name": "stderr",
     "output_type": "stream",
     "text": [
      "circuit_manager_new.py:batch_circuits():540: \tFrom 5 circuits, a total of 5 mutated circuits will be simulated. WARNING\n",
      "circuit_manager_new.py:batch_circuits():547: \t\tStarting new round of viable circuits (0 - 5 / 5) WARNING\n",
      "circuit_manager_new.py:batch_circuits():565: \t\tMaking subcircuits 0 - 5 took 2.4e-05s WARNING\n",
      "circuit_manager_new.py:batch_circuits():571: \tBatching 0 - 100 circuits (out of 0 - 5 (total: 5)) (Circuits: 0 - 5 of 5) WARNING\n",
      "circuit_manager_new.py:run_batch():602: \t\tRunning 5 Subcircuits - 0_weak: compute_interactions WARNING\n",
      "circuit_manager_new.py:run_batch():638: \t\tMethod compute_interactions took 0.436247s WARNING\n",
      "circuit_manager_new.py:run_batch():602: \t\tRunning 5 Subcircuits - 0_weak: init_circuits WARNING\n"
     ]
    },
    {
     "name": "stdout",
     "output_type": "stream",
     "text": [
      "Done:  0:00:01.616564\n"
     ]
    },
    {
     "name": "stderr",
     "output_type": "stream",
     "text": [
      "circuit_manager_new.py:run_batch():638: \t\tMethod init_circuits took 1.854287s WARNING\n",
      "circuit_manager_new.py:run_batch():602: \t\tRunning 5 Subcircuits - 0_weak: simulate_signal_batch WARNING\n",
      "circuit_manager_new.py:prepare_internal_funcs():471: Signal differs between circuits, but only first signal used for simulation. WARNING\n"
     ]
    },
    {
     "name": "stdout",
     "output_type": "stream",
     "text": [
      "Steady states:  100  iterations.  19  left to steady out.  0:00:01.752314\n"
     ]
    },
    {
     "name": "stderr",
     "output_type": "stream",
     "text": [
      "circuit_manager_new.py:simulate_signal_batch():319: \t\tSimulating signal took 3.546938s WARNING\n"
     ]
    },
    {
     "name": "stdout",
     "output_type": "stream",
     "text": [
      "Steady states:  200  iterations.  13  left to steady out.  0:00:03.521073\n",
      "Steady states:  300  iterations.  9  left to steady out.  0:00:03.528148\n",
      "Steady states:  400  iterations.  5  left to steady out.  0:00:03.534473\n",
      "Steady states:  500  iterations.  5  left to steady out.  0:00:03.540763\n",
      "Done:  0:00:03.546886\n"
     ]
    },
    {
     "name": "stderr",
     "output_type": "stream",
     "text": [
      "circuit_manager_new.py:simulate_signal_batch():377: \t\tCalculating analytics took 1.501317s WARNING\n",
      "circuit_manager_new.py:run_batch():638: \t\tMethod simulate_signal_batch took 5.247292s WARNING\n",
      "circuit_manager_new.py:run_batch():602: \t\tRunning 5 Subcircuits - 0_weak: write_results WARNING\n",
      "circuit_manager_new.py:run_batch():638: \t\tMethod write_results took 0.923095s WARNING\n",
      "circuit_manager_new.py:batch_circuits():585: Single batch: 0:00:08.464185 \n",
      "Projected time: 8.464185s \n",
      "Total time: 0:00:08.464194 WARNING\n"
     ]
    }
   ],
   "source": [
    "\n",
    "circuits, config, data_writer = simulate(circuits, config, data_writer)"
   ]
  },
  {
   "attachments": {},
   "cell_type": "markdown",
   "metadata": {},
   "source": [
    "Get info"
   ]
  },
  {
   "cell_type": "code",
   "execution_count": 6,
   "metadata": {},
   "outputs": [],
   "source": [
    "\n",
    "\n",
    "info = b_tabulate_mutation_info(data_writer.ensemble_write_dir,\n",
    "                                data_writer=data_writer, experiment_config=config)"
   ]
  },
  {
   "cell_type": "code",
   "execution_count": 7,
   "metadata": {},
   "outputs": [],
   "source": [
    "# circuits = [Evolver(data_writer=result_writer,\n",
    "#                     sequence_type=config.get('system_type')).mutate(\n",
    "#             c,\n",
    "#             write_to_subsystem=True,\n",
    "#             algorithm=config.get('mutations', {}).get('algorithm', 'random')) for c in circuits]\n",
    "# circuit_modeller = CircuitModeller(result_writer=result_writer, config=config)\n",
    "# circuits = circuit_modeller.batch_circuits(\n",
    "#     circuits=circuits,\n",
    "#     methods={\n",
    "#         \"compute_interactions\": {},\n",
    "#         \"init_circuits\": {'batch': True},\n",
    "#         'simulate_signal_batch': {'ref_circuit': None,\n",
    "#                                   'batch': config['simulation']['use_batch_mutations']},\n",
    "#         'write_results': {'no_visualisations': False, # config['experiment']['no_visualisations'],\n",
    "#                           'no_numerical': False} #config['experiment']['no_numerical']}\n",
    "#     }\n",
    "# )\n",
    "\n"
   ]
  },
  {
   "cell_type": "code",
   "execution_count": 16,
   "metadata": {},
   "outputs": [
    {
     "data": {
      "text/plain": [
       "{'binding_rates_association': array([[0.00150958, 0.00150958, 0.00150958],\n",
       "        [0.00150958, 0.00150958, 0.00150958],\n",
       "        [0.00150958, 0.00150958, 0.00150958]], dtype=float32),\n",
       " 'binding_rates_dissociation': array([[0.22631998, 0.22631998, 0.22631998],\n",
       "        [0.22631998, 0.22631998, 0.22631998],\n",
       "        [0.22631998, 0.22631998, 0.00099729]], dtype=float32),\n",
       " 'energies': array([[  0.  ,   0.  ,   0.  ],\n",
       "        [  0.  ,   0.  ,   0.  ],\n",
       "        [  0.  ,   0.  , -10.88]], dtype=float32),\n",
       " 'eqconstants': array([[0.00667012, 0.00667012, 0.00667012],\n",
       "        [0.00667012, 0.00667012, 0.00667012],\n",
       "        [0.00667012, 0.00667012, 1.5136771 ]], dtype=float32),\n",
       " 'binding_sites': array([['', '', ''],\n",
       "        ['', '', ''],\n",
       "        ['', '',\n",
       "         '(13,20):(14,19):(15,18):(16,17):(17,16):(18,15):(19,14):(20,13)']],\n",
       "       dtype=object),\n",
       " 'units': '$s^{-1}$'}"
      ]
     },
     "execution_count": 16,
     "metadata": {},
     "output_type": "execute_result"
    }
   ],
   "source": [
    "circuits[1].interactions.__dict__"
   ]
  },
  {
   "cell_type": "code",
   "execution_count": 10,
   "metadata": {},
   "outputs": [],
   "source": [
    "def fake_binding_site(energy):\n",
    "    \"\"\" Let's say -100 kcal corresponds to the entire sequence binding \"\"\"\n",
    "    if energy == 0:\n",
    "        return [], 0, 0\n",
    "    num_bs = np.min([SEQ_LENGTH, int(100 / np.abs(energy))])\n",
    "    num_groups = np.random.randint(int(SEQ_LENGTH/num_bs)) + 1\n",
    "\n",
    "    starting_bind = [np.max([1, np.random.randint(0, np.max([1, SEQ_LENGTH - num_bs - num_groups]))])]\n",
    "    [starting_bind.append(starting_bind[-1] + np.random.randint(int(num_bs / num_groups), SEQ_LENGTH - starting_bind[-1] - int(num_bs / num_groups))) for i in range(num_groups - 1)]\n",
    "\n",
    "    fwd_bind = [np.arange(sb, sb+np.floor(num_bs/len(starting_bind)), 1) for sb in starting_bind]\n",
    "    rev_bind = [SEQ_LENGTH - fb for fb in fwd_bind]\n",
    "    return flatten_listlike([[(f, r) for f, r in zip(fwd, rev)] for fwd, rev in zip(fwd_bind, rev_bind)]), num_groups, num_bs\n"
   ]
  },
  {
   "cell_type": "code",
   "execution_count": 11,
   "metadata": {},
   "outputs": [],
   "source": [
    "num_group_cols = [e.replace('energies', 'binding_sites_groups') for e in get_true_interaction_cols(info, 'energies')]\n",
    "num_bs_cols = [e.replace('energies', 'binding_sites_count') for e in get_true_interaction_cols(info, 'energies')]\n"
   ]
  },
  {
   "cell_type": "code",
   "execution_count": 12,
   "metadata": {},
   "outputs": [],
   "source": [
    "for b, g, bs in zip(get_true_interaction_cols(info, 'binding_sites'), num_group_cols, num_bs_cols):\n",
    "    fbs = [string_to_tuple_list(ee) for ee in info[b]]\n",
    "    num_groups = [f[1] for f in fbs_all]\n",
    "    num_bs = [f[2] for f in fbs_all]\n",
    "\n",
    "    info[b] = fbs\n",
    "    info[g] = num_groups\n",
    "    info[bs] = num_bs\n"
   ]
  },
  {
   "cell_type": "code",
   "execution_count": 13,
   "metadata": {},
   "outputs": [
    {
     "data": {
      "text/plain": [
       "['circuit_name',\n",
       " 'mutation_name',\n",
       " 'mutation_num',\n",
       " 'mutation_type',\n",
       " 'mutation_positions',\n",
       " 'path_to_template_circuit',\n",
       " 'name',\n",
       " 'interacting',\n",
       " 'self_interacting',\n",
       " 'num_interacting',\n",
       " 'num_self_interacting',\n",
       " 'num_interacting_diff_to_base_circuit',\n",
       " 'num_self_interacting_diff_to_base_circuit',\n",
       " 'num_interacting_ratio_from_mutation_to_base',\n",
       " 'num_self_interacting_ratio_from_mutation_to_base',\n",
       " 'fold_change',\n",
       " 'final_deriv',\n",
       " 'initial_steady_states',\n",
       " 'max_amount',\n",
       " 'min_amount',\n",
       " 'overshoot',\n",
       " 'RMSE',\n",
       " 'steady_states',\n",
       " 'response_time_wrt_species-6',\n",
       " 'response_time_wrt_species-6_diff_to_base_circuit',\n",
       " 'response_time_wrt_species-6_ratio_from_mutation_to_base',\n",
       " 'precision_wrt_species-6',\n",
       " 'precision_wrt_species-6_diff_to_base_circuit',\n",
       " 'precision_wrt_species-6_ratio_from_mutation_to_base',\n",
       " 'sensitivity_wrt_species-6',\n",
       " 'sensitivity_wrt_species-6_diff_to_base_circuit',\n",
       " 'sensitivity_wrt_species-6_ratio_from_mutation_to_base',\n",
       " 'fold_change_diff_to_base_circuit',\n",
       " 'final_deriv_diff_to_base_circuit',\n",
       " 'initial_steady_states_diff_to_base_circuit',\n",
       " 'max_amount_diff_to_base_circuit',\n",
       " 'min_amount_diff_to_base_circuit',\n",
       " 'overshoot_diff_to_base_circuit',\n",
       " 'RMSE_diff_to_base_circuit',\n",
       " 'steady_states_diff_to_base_circuit',\n",
       " 'fold_change_ratio_from_mutation_to_base',\n",
       " 'final_deriv_ratio_from_mutation_to_base',\n",
       " 'initial_steady_states_ratio_from_mutation_to_base',\n",
       " 'max_amount_ratio_from_mutation_to_base',\n",
       " 'min_amount_ratio_from_mutation_to_base',\n",
       " 'overshoot_ratio_from_mutation_to_base',\n",
       " 'RMSE_ratio_from_mutation_to_base',\n",
       " 'steady_states_ratio_from_mutation_to_base',\n",
       " 'sample_name']"
      ]
     },
     "execution_count": 13,
     "metadata": {},
     "output_type": "execute_result"
    }
   ],
   "source": [
    "relevant_cols = list(info.columns)\n",
    "[relevant_cols.remove(x) for x in get_true_interaction_cols(info, 'binding_rates_dissociation') + get_true_interaction_cols(info, 'eqconstants') +\n",
    " get_true_interaction_cols(info, 'energies') + get_true_interaction_cols(info, 'binding_sites') + num_group_cols + num_bs_cols]\n",
    "relevant_cols\n"
   ]
  },
  {
   "cell_type": "code",
   "execution_count": 14,
   "metadata": {},
   "outputs": [],
   "source": [
    "infom = info.melt(relevant_cols, value_vars=get_true_interaction_cols(info, 'energies'), var_name='energies_idx', value_name='energies')\n",
    "dfm = info.melt(relevant_cols, value_vars=num_group_cols, var_name='num_groups_idx', value_name='num_groups')\n",
    "infom['num_groups'] = dfm['num_groups']\n",
    "infom['num_groups_idx'] = dfm['num_groups_idx']\n",
    "dfm = info.melt(relevant_cols, value_vars=num_bs_cols, var_name='num_bs_idx', value_name='num_bs')\n",
    "infom['num_bs'] = dfm['num_bs']\n",
    "infom['num_bs_idx'] = dfm['num_bs_idx']\n",
    "\n",
    "for k in ['binding_sites', 'binding_rates_dissociation', 'eqconstants']:\n",
    "    dfm = info.melt(relevant_cols, value_vars=get_true_interaction_cols(info, k), var_name=f'{k}_idx', value_name=k)\n",
    "    infom[k] = dfm[k]\n",
    "    infom[f'{k}_idx'] = dfm[f'{k}_idx']\n"
   ]
  },
  {
   "cell_type": "code",
   "execution_count": 15,
   "metadata": {},
   "outputs": [
    {
     "data": {
      "text/plain": [
       "<AxesSubplot: xlabel='num_bs', ylabel='RMSE'>"
      ]
     },
     "execution_count": 15,
     "metadata": {},
     "output_type": "execute_result"
    },
    {
     "data": {
      "image/png": "[encoded data removed]",
      "text/plain": [
       "<Figure size 640x480 with 1 Axes>"
      ]
     },
     "metadata": {},
     "output_type": "display_data"
    }
   ],
   "source": [
    "sns.scatterplot(infom, x='num_bs', y='RMSE')"
   ]
  },
  {
   "cell_type": "code",
   "execution_count": null,
   "metadata": {},
   "outputs": [],
   "source": []
  }
 ],
 "metadata": {
  "kernelspec": {
   "display_name": "env_gene",
   "language": "python",
   "name": "python3"
  },
  "language_info": {
   "codemirror_mode": {
    "name": "ipython",
    "version": 3
   },
   "file_extension": ".py",
   "mimetype": "text/x-python",
   "name": "python",
   "nbconvert_exporter": "python",
   "pygments_lexer": "ipython3",
   "version": "3.10.6"
  },
  "orig_nbformat": 4
 },
 "nbformat": 4,
 "nbformat_minor": 2
}
