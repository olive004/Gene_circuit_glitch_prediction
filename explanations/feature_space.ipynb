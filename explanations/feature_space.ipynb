{
 "cells": [
  {
   "attachments": {},
   "cell_type": "markdown",
   "metadata": {},
   "source": [
    "# Feature space: non-ML\n",
    "\n",
    "What kind of features are most predictive of mutational stability?"
   ]
  },
  {
   "cell_type": "code",
   "execution_count": 5,
   "metadata": {},
   "outputs": [
    {
     "name": "stdout",
     "output_type": "stream",
     "text": [
      "The autoreload extension is already loaded. To reload it, use:\n",
      "  %reload_ext autoreload\n"
     ]
    }
   ],
   "source": [
    "%load_ext autoreload\n",
    "%autoreload 2"
   ]
  },
  {
   "cell_type": "code",
   "execution_count": 6,
   "metadata": {},
   "outputs": [],
   "source": [
    "import numpy as np\n",
    "import os\n",
    "import sys\n",
    "from copy import deepcopy\n",
    "\n",
    "import matplotlib.pyplot as plt\n",
    "import seaborn as sns\n",
    "\n",
    "\n",
    "if __package__ is None:\n",
    "\n",
    "    module_path = os.path.abspath(os.path.join('..'))\n",
    "    sys.path.append(module_path)\n",
    "\n",
    "    __package__ = os.path.basename(module_path)\n",
    "\n",
    "\n",
    "from src.srv.sequence_exploration.sequence_analysis import b_tabulate_mutation_info\n",
    "from src.utils.data.data_format_tools.common import load_json_as_dict\n",
    "from src.utils.common.setup_new import prepare_config\n",
    "from src.utils.circuit.agnostic_circuits.circuit_manager_new import CircuitModeller\n",
    "from src.utils.evolution.evolver import Evolver\n",
    "from src.utils.misc.type_handling import flatten_listlike\n",
    "from src.utils.results.analytics.naming import get_analytics_types_all, get_true_names_analytics, get_true_interaction_cols\n",
    "from tests_local.shared import create_test_inputs, CONFIG, TEST_CONFIG\n",
    "\n",
    "# config = load_json_as_dict('../tests_local/configs/simple_circuit.json')\n",
    "SEQ_LENGTH = 20\n"
   ]
  },
  {
   "cell_type": "code",
   "execution_count": 7,
   "metadata": {},
   "outputs": [
    {
     "name": "stderr",
     "output_type": "stream",
     "text": [
      "experiment_loading.py:load_units():35: Units unknown - supply a valid experiment directory instead of ../tests_local/configs/binding_rates_dissociation/0_weak_binding_rates_dissociation.csv WARNING\n",
      "experiment_loading.py:load_units():35: Units unknown - supply a valid experiment directory instead of ../tests_local/configs/eqconstants/0_weak_eqconstants.csv WARNING\n",
      "experiment_loading.py:load_units():35: Units unknown - supply a valid experiment directory instead of ../tests_local/configs/energies/0_weak_energies.csv WARNING\n",
      "experiment_loading.py:load_units():35: Units unknown - supply a valid experiment directory instead of ../tests_local/configs/binding_sites/0_weak_binding_sites.csv WARNING\n",
      "experiment_loading.py:load_units():35: Units unknown - supply a valid experiment directory instead of ../tests_local/configs/binding_rates_dissociation/1_med_weak_binding_rates_dissociation.csv WARNING\n",
      "experiment_loading.py:load_units():35: Units unknown - supply a valid experiment directory instead of ../tests_local/configs/eqconstants/1_med_weak_eqconstants.csv WARNING\n",
      "experiment_loading.py:load_units():35: Units unknown - supply a valid experiment directory instead of ../tests_local/configs/energies/1_med_weak_energies.csv WARNING\n",
      "experiment_loading.py:load_units():35: Units unknown - supply a valid experiment directory instead of ../tests_local/configs/binding_sites/1_med_weak_binding_sites.csv WARNING\n",
      "experiment_loading.py:load_units():35: Units unknown - supply a valid experiment directory instead of ../tests_local/configs/binding_rates_dissociation/2_medium_binding_rates_dissociation.csv WARNING\n",
      "experiment_loading.py:load_units():35: Units unknown - supply a valid experiment directory instead of ../tests_local/configs/eqconstants/2_medium_eqconstants.csv WARNING\n",
      "experiment_loading.py:load_units():35: Units unknown - supply a valid experiment directory instead of ../tests_local/configs/energies/2_medium_energies.csv WARNING\n",
      "experiment_loading.py:load_units():35: Units unknown - supply a valid experiment directory instead of ../tests_local/configs/binding_sites/2_medium_binding_sites.csv WARNING\n",
      "experiment_loading.py:load_units():35: Units unknown - supply a valid experiment directory instead of ../tests_local/configs/binding_rates_dissociation/3_med_strong_binding_rates_dissociation.csv WARNING\n",
      "experiment_loading.py:load_units():35: Units unknown - supply a valid experiment directory instead of ../tests_local/configs/eqconstants/3_med_strong_eqconstants.csv WARNING\n",
      "experiment_loading.py:load_units():35: Units unknown - supply a valid experiment directory instead of ../tests_local/configs/energies/3_med_strong_energies.csv WARNING\n",
      "experiment_loading.py:load_units():35: Units unknown - supply a valid experiment directory instead of ../tests_local/configs/binding_sites/3_med_strong_binding_sites.csv WARNING\n",
      "experiment_loading.py:load_units():35: Units unknown - supply a valid experiment directory instead of ../tests_local/configs/binding_rates_dissociation/4_strong_binding_rates_dissociation.csv WARNING\n",
      "experiment_loading.py:load_units():35: Units unknown - supply a valid experiment directory instead of ../tests_local/configs/eqconstants/4_strong_eqconstants.csv WARNING\n",
      "experiment_loading.py:load_units():35: Units unknown - supply a valid experiment directory instead of ../tests_local/configs/energies/4_strong_energies.csv WARNING\n",
      "experiment_loading.py:load_units():35: Units unknown - supply a valid experiment directory instead of ../tests_local/configs/binding_sites/4_strong_binding_sites.csv WARNING\n",
      "circuit_manager_new.py:prepare_internal_funcs():467: Signal differs between circuits, but only first signal used for simulation. WARNING\n",
      "circuit_manager_new.py:batch_circuits():537: \tFrom 5 circuits, a total of 155 mutated circuits will be simulated. WARNING\n",
      "circuit_manager_new.py:batch_circuits():544: \t\tStarting new round of viable circuits (0 - 5 / 5) WARNING\n",
      "circuit_manager_new.py:batch_circuits():562: \t\tMaking subcircuits 0 - 155 took 0.142347s WARNING\n",
      "circuit_manager_new.py:batch_circuits():568: \tBatching 0 - 100 circuits (out of 0 - 155 (total: 155)) (Circuits: 0 - 5 of 5) WARNING\n",
      "circuit_manager_new.py:run_batch():599: \t\tRunning 100 Subcircuits - 0_weak: compute_interactions WARNING\n",
      "circuit_manager_new.py:run_batch():635: \t\tMethod compute_interactions took 8.316982s WARNING\n",
      "circuit_manager_new.py:run_batch():599: \t\tRunning 100 Subcircuits - 0_weak: init_circuits WARNING\n"
     ]
    },
    {
     "name": "stdout",
     "output_type": "stream",
     "text": [
      "Steady states:  100  iterations.  2  left to steady out.  0:01:24.760194\n",
      "Done:  0:02:48.112060\n"
     ]
    },
    {
     "name": "stderr",
     "output_type": "stream",
     "text": [
      "circuit_manager_new.py:run_batch():635: \t\tMethod init_circuits took 169.138842s WARNING\n",
      "circuit_manager_new.py:run_batch():599: \t\tRunning 100 Subcircuits - 0_weak: simulate_signal_batch WARNING\n"
     ]
    },
    {
     "ename": "AttributeError",
     "evalue": "'Circuit' object has no attribute 'include_prod_deg'",
     "output_type": "error",
     "traceback": [
      "\u001b[0;31m---------------------------------------------------------------------------\u001b[0m",
      "\u001b[0;31mAttributeError\u001b[0m                            Traceback (most recent call last)",
      "Cell \u001b[0;32mIn[7], line 1\u001b[0m\n\u001b[0;32m----> 1\u001b[0m circuits, config, result_writer, info \u001b[39m=\u001b[39m create_test_inputs(deepcopy(CONFIG))\n",
      "File \u001b[0;32m/workdir/tests_local/shared.py:204\u001b[0m, in \u001b[0;36mcreate_test_inputs\u001b[0;34m(config)\u001b[0m\n\u001b[1;32m    202\u001b[0m circuits, config, data_writer \u001b[39m=\u001b[39m five_circuits(config, data_writer\u001b[39m=\u001b[39m\u001b[39mNone\u001b[39;00m)\n\u001b[1;32m    203\u001b[0m circuits, config, data_writer \u001b[39m=\u001b[39m mutate(circuits, config, data_writer)\n\u001b[0;32m--> 204\u001b[0m circuits, config, data_writer \u001b[39m=\u001b[39m simulate(circuits, config, data_writer)\n\u001b[1;32m    206\u001b[0m info \u001b[39m=\u001b[39m b_tabulate_mutation_info(data_writer\u001b[39m.\u001b[39mensemble_write_dir,\n\u001b[1;32m    207\u001b[0m                                 data_writer\u001b[39m=\u001b[39mdata_writer, experiment_config\u001b[39m=\u001b[39mconfig)\n\u001b[1;32m    209\u001b[0m \u001b[39mreturn\u001b[39;00m circuits, config, data_writer, info\n",
      "File \u001b[0;32m/workdir/tests_local/shared.py:185\u001b[0m, in \u001b[0;36msimulate\u001b[0;34m(circuits, config, data_writer)\u001b[0m\n\u001b[1;32m    183\u001b[0m \u001b[39mdef\u001b[39;00m \u001b[39msimulate\u001b[39m(circuits, config, data_writer):\n\u001b[0;32m--> 185\u001b[0m     circuits \u001b[39m=\u001b[39m CircuitModeller(result_writer\u001b[39m=\u001b[39;49mdata_writer, config\u001b[39m=\u001b[39;49mconfig)\u001b[39m.\u001b[39;49mbatch_circuits(\n\u001b[1;32m    186\u001b[0m         circuits\u001b[39m=\u001b[39;49mcircuits,\n\u001b[1;32m    187\u001b[0m         write_to_subsystem\u001b[39m=\u001b[39;49m\u001b[39mTrue\u001b[39;49;00m,\n\u001b[1;32m    188\u001b[0m         batch_size\u001b[39m=\u001b[39;49mconfig[\u001b[39m'\u001b[39;49m\u001b[39msimulation\u001b[39;49m\u001b[39m'\u001b[39;49m]\u001b[39m.\u001b[39;49mget(\u001b[39m'\u001b[39;49m\u001b[39mbatch_size\u001b[39;49m\u001b[39m'\u001b[39;49m, \u001b[39m100\u001b[39;49m),\n\u001b[1;32m    189\u001b[0m         methods\u001b[39m=\u001b[39;49m{\n\u001b[1;32m    190\u001b[0m             \u001b[39m\"\u001b[39;49m\u001b[39mcompute_interactions\u001b[39;49m\u001b[39m\"\u001b[39;49m: {},\n\u001b[1;32m    191\u001b[0m             \u001b[39m\"\u001b[39;49m\u001b[39minit_circuits\u001b[39;49m\u001b[39m\"\u001b[39;49m: {\u001b[39m'\u001b[39;49m\u001b[39mbatch\u001b[39;49m\u001b[39m'\u001b[39;49m: \u001b[39mTrue\u001b[39;49;00m},\n\u001b[1;32m    192\u001b[0m             \u001b[39m\"\u001b[39;49m\u001b[39msimulate_signal_batch\u001b[39;49m\u001b[39m\"\u001b[39;49m: {\u001b[39m'\u001b[39;49m\u001b[39mref_circuit\u001b[39;49m\u001b[39m'\u001b[39;49m: \u001b[39mNone\u001b[39;49;00m,\n\u001b[1;32m    193\u001b[0m                                       \u001b[39m'\u001b[39;49m\u001b[39mbatch\u001b[39;49m\u001b[39m'\u001b[39;49m: config[\u001b[39m'\u001b[39;49m\u001b[39msimulation\u001b[39;49m\u001b[39m'\u001b[39;49m][\u001b[39m'\u001b[39;49m\u001b[39muse_batch_mutations\u001b[39;49m\u001b[39m'\u001b[39;49m]},\n\u001b[1;32m    194\u001b[0m             \u001b[39m\"\u001b[39;49m\u001b[39mwrite_results\u001b[39;49m\u001b[39m\"\u001b[39;49m: {\u001b[39m'\u001b[39;49m\u001b[39mno_visualisations\u001b[39;49m\u001b[39m'\u001b[39;49m: config[\u001b[39m'\u001b[39;49m\u001b[39mexperiment\u001b[39;49m\u001b[39m'\u001b[39;49m][\u001b[39m'\u001b[39;49m\u001b[39mno_visualisations\u001b[39;49m\u001b[39m'\u001b[39;49m],\n\u001b[1;32m    195\u001b[0m                               \u001b[39m'\u001b[39;49m\u001b[39mno_numerical\u001b[39;49m\u001b[39m'\u001b[39;49m: config[\u001b[39m'\u001b[39;49m\u001b[39mexperiment\u001b[39;49m\u001b[39m'\u001b[39;49m][\u001b[39m'\u001b[39;49m\u001b[39mno_numerical\u001b[39;49m\u001b[39m'\u001b[39;49m]}\n\u001b[1;32m    196\u001b[0m         })\n\u001b[1;32m    198\u001b[0m     \u001b[39mreturn\u001b[39;00m circuits, config, data_writer\n",
      "File \u001b[0;32m/workdir/src/utils/circuit/agnostic_circuits/circuit_manager_new.py:576\u001b[0m, in \u001b[0;36mCircuitModeller.batch_circuits\u001b[0;34m(self, circuits, methods, batch_size, include_normal_run, write_to_subsystem)\u001b[0m\n\u001b[1;32m    574\u001b[0m     \u001b[39mif\u001b[39;00m \u001b[39mnot\u001b[39;00m b_circuits:\n\u001b[1;32m    575\u001b[0m         \u001b[39mcontinue\u001b[39;00m\n\u001b[0;32m--> 576\u001b[0m     ref_circuit \u001b[39m=\u001b[39m \u001b[39mself\u001b[39;49m\u001b[39m.\u001b[39;49mrun_batch(\n\u001b[1;32m    577\u001b[0m         b_circuits, methods, leading_ref_circuit\u001b[39m=\u001b[39;49mref_circuit,\n\u001b[1;32m    578\u001b[0m         include_normal_run\u001b[39m=\u001b[39;49minclude_normal_run,\n\u001b[1;32m    579\u001b[0m         write_to_subsystem\u001b[39m=\u001b[39;49mwrite_to_subsystem)\n\u001b[1;32m    581\u001b[0m single_batch_time \u001b[39m=\u001b[39m datetime\u001b[39m.\u001b[39mnow() \u001b[39m-\u001b[39m single_batch_time\n\u001b[1;32m    582\u001b[0m logging\u001b[39m.\u001b[39mwarning(\n\u001b[1;32m    583\u001b[0m     \u001b[39mf\u001b[39m\u001b[39m'\u001b[39m\u001b[39mSingle batch: \u001b[39m\u001b[39m{\u001b[39;00msingle_batch_time\u001b[39m}\u001b[39;00m\u001b[39m \u001b[39m\u001b[39m\\n\u001b[39;00m\u001b[39mProjected time: \u001b[39m\u001b[39m{\u001b[39;00msingle_batch_time\u001b[39m.\u001b[39mtotal_seconds()\u001b[39m \u001b[39m\u001b[39m*\u001b[39m\u001b[39m \u001b[39m\u001b[39mlen\u001b[39m(circuits)\u001b[39m/\u001b[39mviable_circuit_num\u001b[39m}\u001b[39;00m\u001b[39ms \u001b[39m\u001b[39m\\n\u001b[39;00m\u001b[39mTotal time: \u001b[39m\u001b[39m{\u001b[39;00m\u001b[39mstr\u001b[39m(datetime\u001b[39m.\u001b[39mnow()\u001b[39m \u001b[39m\u001b[39m-\u001b[39m\u001b[39m \u001b[39mstart_time)\u001b[39m}\u001b[39;00m\u001b[39m'\u001b[39m)\n",
      "File \u001b[0;32m/workdir/src/utils/circuit/agnostic_circuits/circuit_manager_new.py:606\u001b[0m, in \u001b[0;36mCircuitModeller.run_batch\u001b[0;34m(self, subcircuits, methods, leading_ref_circuit, include_normal_run, write_to_subsystem)\u001b[0m\n\u001b[1;32m    604\u001b[0m     \u001b[39mif\u001b[39;00m \u001b[39m'\u001b[39m\u001b[39mref_circuit\u001b[39m\u001b[39m'\u001b[39m \u001b[39min\u001b[39;00m inspect\u001b[39m.\u001b[39mgetfullargspec(\u001b[39mgetattr\u001b[39m(\u001b[39mself\u001b[39m, method))\u001b[39m.\u001b[39margs:\n\u001b[1;32m    605\u001b[0m         kwargs\u001b[39m.\u001b[39mupdate({\u001b[39m'\u001b[39m\u001b[39mref_circuit\u001b[39m\u001b[39m'\u001b[39m: ref_circuit})\n\u001b[0;32m--> 606\u001b[0m     subcircuits \u001b[39m=\u001b[39m \u001b[39mgetattr\u001b[39;49m(\u001b[39mself\u001b[39;49m, method)(subcircuits, \u001b[39m*\u001b[39;49m\u001b[39m*\u001b[39;49mkwargs)\n\u001b[1;32m    607\u001b[0m \u001b[39melse\u001b[39;00m:\n\u001b[1;32m    608\u001b[0m     logging\u001b[39m.\u001b[39mwarning(\n\u001b[1;32m    609\u001b[0m         \u001b[39mf\u001b[39m\u001b[39m'\u001b[39m\u001b[39mCould not find method @\u001b[39m\u001b[39m{\u001b[39;00mmethod\u001b[39m}\u001b[39;00m\u001b[39m in class \u001b[39m\u001b[39m{\u001b[39;00m\u001b[39mself\u001b[39m\u001b[39m}\u001b[39;00m\u001b[39m'\u001b[39m)\n",
      "File \u001b[0;32m/workdir/src/utils/circuit/agnostic_circuits/circuit_manager_new.py:305\u001b[0m, in \u001b[0;36mCircuitModeller.simulate_signal_batch\u001b[0;34m(self, circuits, ref_circuit, batch)\u001b[0m\n\u001b[1;32m    301\u001b[0m     b_reverse_rates \u001b[39m=\u001b[39m np\u001b[39m.\u001b[39masarray(b_reverse_rates)\n\u001b[1;32m    303\u001b[0m     \u001b[39mreturn\u001b[39;00m b_steady_states, b_reverse_rates\n\u001b[0;32m--> 305\u001b[0m b_steady_states, b_reverse_rates \u001b[39m=\u001b[39m prepare_batch_params(circuits)\n\u001b[1;32m    307\u001b[0m s_time \u001b[39m=\u001b[39m datetime\u001b[39m.\u001b[39mnow()\n\u001b[1;32m    308\u001b[0m b_new_copynumbers, t \u001b[39m=\u001b[39m simulate_steady_states(\n\u001b[1;32m    309\u001b[0m     y0\u001b[39m=\u001b[39mb_steady_states, total_time\u001b[39m=\u001b[39m\u001b[39mself\u001b[39m\u001b[39m.\u001b[39mtmax, sim_func\u001b[39m=\u001b[39m\u001b[39mself\u001b[39m\u001b[39m.\u001b[39msim_func,\n\u001b[1;32m    310\u001b[0m     t0\u001b[39m=\u001b[39m\u001b[39mself\u001b[39m\u001b[39m.\u001b[39mt0, t1\u001b[39m=\u001b[39m\u001b[39mself\u001b[39m\u001b[39m.\u001b[39mt1,\n\u001b[1;32m    311\u001b[0m     threshold\u001b[39m=\u001b[39m\u001b[39mself\u001b[39m\u001b[39m.\u001b[39mthreshold_steady_states,\n\u001b[1;32m    312\u001b[0m     reverse_rates\u001b[39m=\u001b[39mb_reverse_rates)\n",
      "File \u001b[0;32m/workdir/src/utils/circuit/agnostic_circuits/circuit_manager_new.py:283\u001b[0m, in \u001b[0;36mCircuitModeller.simulate_signal_batch.<locals>.prepare_batch_params\u001b[0;34m(circuits)\u001b[0m\n\u001b[1;32m    281\u001b[0m b_reverse_rates \u001b[39m=\u001b[39m [\u001b[39mNone\u001b[39;00m] \u001b[39m*\u001b[39m \u001b[39mlen\u001b[39m(circuits)\n\u001b[1;32m    282\u001b[0m \u001b[39mfor\u001b[39;00m i, c \u001b[39min\u001b[39;00m \u001b[39menumerate\u001b[39m(circuits):\n\u001b[0;32m--> 283\u001b[0m     \u001b[39mif\u001b[39;00m \u001b[39mnot\u001b[39;00m c\u001b[39m.\u001b[39;49minclude_prod_deg:\n\u001b[1;32m    284\u001b[0m         b_steady_states[i] \u001b[39m=\u001b[39m c\u001b[39m.\u001b[39mresult_collector\u001b[39m.\u001b[39mget_result(\n\u001b[1;32m    285\u001b[0m             \u001b[39m'\u001b[39m\u001b[39msteady_states\u001b[39m\u001b[39m'\u001b[39m)\u001b[39m.\u001b[39manalytics[\u001b[39m'\u001b[39m\u001b[39msteady_states\u001b[39m\u001b[39m'\u001b[39m]\u001b[39m.\u001b[39mflatten() \u001b[39m*\u001b[39m ((signal\u001b[39m.\u001b[39monehot \u001b[39m==\u001b[39m \u001b[39m0\u001b[39m) \u001b[39m*\u001b[39m \u001b[39m1\u001b[39m) \u001b[39m+\u001b[39m \\\n\u001b[1;32m    286\u001b[0m             (c\u001b[39m.\u001b[39mresult_collector\u001b[39m.\u001b[39mget_result(\n\u001b[1;32m    287\u001b[0m                 \u001b[39m'\u001b[39m\u001b[39msteady_states\u001b[39m\u001b[39m'\u001b[39m)\u001b[39m.\u001b[39manalytics[\u001b[39m'\u001b[39m\u001b[39minitial_steady_states\u001b[39m\u001b[39m'\u001b[39m]\u001b[39m.\u001b[39mflatten() \u001b[39m*\u001b[39m\n\u001b[1;32m    288\u001b[0m              signal\u001b[39m.\u001b[39mfunc\u001b[39m.\u001b[39mkeywords[\u001b[39m'\u001b[39m\u001b[39mtarget\u001b[39m\u001b[39m'\u001b[39m] \u001b[39m-\u001b[39m c\u001b[39m.\u001b[39mresult_collector\u001b[39m.\u001b[39mget_result(\n\u001b[1;32m    289\u001b[0m                 \u001b[39m'\u001b[39m\u001b[39msteady_states\u001b[39m\u001b[39m'\u001b[39m)\u001b[39m.\u001b[39manalytics[\u001b[39m'\u001b[39m\u001b[39minitial_steady_states\u001b[39m\u001b[39m'\u001b[39m]\u001b[39m.\u001b[39mflatten()) \u001b[39m*\u001b[39m signal\u001b[39m.\u001b[39monehot\n\u001b[1;32m    290\u001b[0m         \u001b[39m# b_steady_states[i] = c.result_collector.get_result(\u001b[39;00m\n\u001b[1;32m    291\u001b[0m         \u001b[39m#     'steady_states').analytics['steady_states'].flatten() * ((signal.onehot == 0) * 1) + \\\u001b[39;00m\n\u001b[1;32m    292\u001b[0m         \u001b[39m#     (c.result_collector.get_result(\u001b[39;00m\n\u001b[0;32m   (...)\u001b[0m\n\u001b[1;32m    295\u001b[0m         \u001b[39m#         'steady_states').analytics['steady_states'].flatten()) * signal.onehot\u001b[39;00m\n\u001b[1;32m    296\u001b[0m     \u001b[39melse\u001b[39;00m:\n",
      "\u001b[0;31mAttributeError\u001b[0m: 'Circuit' object has no attribute 'include_prod_deg'"
     ]
    }
   ],
   "source": [
    "circuits, config, result_writer, info = create_test_inputs(deepcopy(CONFIG))"
   ]
  },
  {
   "attachments": {},
   "cell_type": "markdown",
   "metadata": {},
   "source": [
    "Get info"
   ]
  },
  {
   "cell_type": "code",
   "execution_count": null,
   "metadata": {},
   "outputs": [],
   "source": [
    "\n",
    "info = b_tabulate_mutation_info(result_writer.ensemble_write_dir,\n",
    "                                data_writer=result_writer, experiment_config=config)"
   ]
  },
  {
   "cell_type": "code",
   "execution_count": null,
   "metadata": {},
   "outputs": [],
   "source": [
    "# circuits = [Evolver(data_writer=result_writer,\n",
    "#                     sequence_type=config.get('system_type')).mutate(\n",
    "#             c,\n",
    "#             write_to_subsystem=True,\n",
    "#             algorithm=config.get('mutations', {}).get('algorithm', 'random')) for c in circuits]\n",
    "# circuit_modeller = CircuitModeller(result_writer=result_writer, config=config)\n",
    "# circuits = circuit_modeller.batch_circuits(\n",
    "#     circuits=circuits,\n",
    "#     methods={\n",
    "#         \"compute_interactions\": {},\n",
    "#         \"init_circuits\": {'batch': True},\n",
    "#         'simulate_signal_batch': {'ref_circuit': None,\n",
    "#                                   'batch': config['simulation']['use_batch_mutations']},\n",
    "#         'write_results': {'no_visualisations': False, # config['experiment']['no_visualisations'],\n",
    "#                           'no_numerical': False} #config['experiment']['no_numerical']}\n",
    "#     }\n",
    "# )\n",
    "\n"
   ]
  },
  {
   "cell_type": "code",
   "execution_count": null,
   "metadata": {},
   "outputs": [
    {
     "data": {
      "text/plain": [
       "{'binding_rates_association': array([[0.00150958, 0.00150958, 0.00150958],\n",
       "        [0.00150958, 0.00150958, 0.00150958],\n",
       "        [0.00150958, 0.00150958, 0.00150958]]),\n",
       " 'binding_rates_dissociation': array([[0.00150958, 0.00150958, 0.00150958],\n",
       "        [0.00150958, 0.00150958, 0.00150958],\n",
       "        [0.00150958, 0.00150958, 0.00150958]]),\n",
       " 'energies': array([[0., 0., 0.],\n",
       "        [0., 0., 0.],\n",
       "        [0., 0., 0.]]),\n",
       " 'eqconstants': array([[1., 1., 1.],\n",
       "        [1., 1., 1.],\n",
       "        [1., 1., 1.]]),\n",
       " 'binding_sites': array([[nan, nan, nan],\n",
       "        [nan, nan, nan],\n",
       "        [nan, nan, nan]]),\n",
       " 'units': 'unknown'}"
      ]
     },
     "execution_count": 82,
     "metadata": {},
     "output_type": "execute_result"
    }
   ],
   "source": [
    "circuits[0].interactions.__dict__"
   ]
  },
  {
   "cell_type": "code",
   "execution_count": null,
   "metadata": {},
   "outputs": [
    {
     "data": {
      "text/plain": [
       "[(9.0, 11.0),\n",
       " (10.0, 10.0),\n",
       " (11.0, 9.0),\n",
       " (12.0, 8.0),\n",
       " (13.0, 7.0),\n",
       " (14.0, 6.0),\n",
       " (15.0, 5.0),\n",
       " (16.0, 4.0)]"
      ]
     },
     "execution_count": 83,
     "metadata": {},
     "output_type": "execute_result"
    }
   ],
   "source": [
    "\n",
    "num_bs = int((100 / np.abs(-11.42)))\n",
    "\n",
    "num_groups = np.random.randint(int(SEQ_LENGTH/num_bs)) + 1\n",
    "\n",
    "starting_bind = [np.random.randint(1, SEQ_LENGTH - num_bs - num_groups)]\n",
    "[starting_bind.append(starting_bind[-1] + np.random.randint(int(num_bs / num_groups), SEQ_LENGTH - starting_bind[-1] - int(num_bs / num_groups))) for i in range(num_groups - 1)]\n",
    "\n",
    "fwd_bind = [np.arange(sb, sb+np.floor(num_bs/len(starting_bind)), 1) for sb in starting_bind]\n",
    "rev_bind = [SEQ_LENGTH - fb for fb in fwd_bind]\n",
    "\n",
    "flatten_listlike([[(f, r) for f, r in zip(fwd, rev)] for fwd, rev in zip(fwd_bind, rev_bind)])"
   ]
  },
  {
   "cell_type": "code",
   "execution_count": null,
   "metadata": {},
   "outputs": [],
   "source": [
    "def fake_binding_site(energy):\n",
    "    \"\"\" Let's say -100 kcal corresponds to the entire sequence binding \"\"\"\n",
    "    if energy == 0:\n",
    "        return [], 0, 0\n",
    "    num_bs = np.min([SEQ_LENGTH, int(100 / np.abs(energy))])\n",
    "    num_groups = np.random.randint(int(SEQ_LENGTH/num_bs)) + 1\n",
    "\n",
    "    starting_bind = [np.max([1, np.random.randint(0, np.max([1, SEQ_LENGTH - num_bs - num_groups]))])]\n",
    "    [starting_bind.append(starting_bind[-1] + np.random.randint(int(num_bs / num_groups), SEQ_LENGTH - starting_bind[-1] - int(num_bs / num_groups))) for i in range(num_groups - 1)]\n",
    "\n",
    "    fwd_bind = [np.arange(sb, sb+np.floor(num_bs/len(starting_bind)), 1) for sb in starting_bind]\n",
    "    rev_bind = [SEQ_LENGTH - fb for fb in fwd_bind]\n",
    "    return flatten_listlike([[(f, r) for f, r in zip(fwd, rev)] for fwd, rev in zip(fwd_bind, rev_bind)]), num_groups, num_bs\n"
   ]
  },
  {
   "cell_type": "code",
   "execution_count": null,
   "metadata": {},
   "outputs": [],
   "source": [
    "num_group_cols = [e.replace('energies', 'binding_sites_groups') for e in get_true_interaction_cols(info, 'energies')]\n",
    "num_bs_cols = [e.replace('energies', 'binding_sites_count') for e in get_true_interaction_cols(info, 'energies')]\n"
   ]
  },
  {
   "cell_type": "code",
   "execution_count": null,
   "metadata": {},
   "outputs": [],
   "source": [
    "for e, b, g, bs in zip(get_true_interaction_cols(info, 'energies'), get_true_interaction_cols(info, 'binding_sites'), num_group_cols, num_bs_cols):\n",
    "    fbs_all = [fake_binding_site(ee) for ee in info[e]]\n",
    "    fbs = [f[0] for f in fbs_all]\n",
    "    num_groups = [f[1] for f in fbs_all]\n",
    "    num_bs = [f[2] for f in fbs_all]\n",
    "\n",
    "    info[b] = fbs\n",
    "    info[g] = num_groups\n",
    "    info[bs] = num_bs\n"
   ]
  },
  {
   "cell_type": "code",
   "execution_count": null,
   "metadata": {},
   "outputs": [
    {
     "data": {
      "text/plain": [
       "['circuit_name',\n",
       " 'mutation_name',\n",
       " 'mutation_num',\n",
       " 'mutation_type',\n",
       " 'mutation_positions',\n",
       " 'path_to_template_circuit',\n",
       " 'name',\n",
       " 'interacting',\n",
       " 'self_interacting',\n",
       " 'num_interacting',\n",
       " 'num_self_interacting',\n",
       " 'num_interacting_diff_to_base_circuit',\n",
       " 'num_self_interacting_diff_to_base_circuit',\n",
       " 'num_interacting_ratio_from_mutation_to_base',\n",
       " 'num_self_interacting_ratio_from_mutation_to_base',\n",
       " 'fold_change',\n",
       " 'final_deriv',\n",
       " 'initial_steady_states',\n",
       " 'max_amount',\n",
       " 'min_amount',\n",
       " 'overshoot',\n",
       " 'RMSE',\n",
       " 'steady_states',\n",
       " 'response_time_wrt_species-6',\n",
       " 'response_time_wrt_species-6_diff_to_base_circuit',\n",
       " 'response_time_wrt_species-6_ratio_from_mutation_to_base',\n",
       " 'precision_wrt_species-6',\n",
       " 'precision_wrt_species-6_diff_to_base_circuit',\n",
       " 'precision_wrt_species-6_ratio_from_mutation_to_base',\n",
       " 'sensitivity_wrt_species-6',\n",
       " 'sensitivity_wrt_species-6_diff_to_base_circuit',\n",
       " 'sensitivity_wrt_species-6_ratio_from_mutation_to_base',\n",
       " 'fold_change_diff_to_base_circuit',\n",
       " 'final_deriv_diff_to_base_circuit',\n",
       " 'initial_steady_states_diff_to_base_circuit',\n",
       " 'max_amount_diff_to_base_circuit',\n",
       " 'min_amount_diff_to_base_circuit',\n",
       " 'overshoot_diff_to_base_circuit',\n",
       " 'RMSE_diff_to_base_circuit',\n",
       " 'steady_states_diff_to_base_circuit',\n",
       " 'fold_change_ratio_from_mutation_to_base',\n",
       " 'final_deriv_ratio_from_mutation_to_base',\n",
       " 'initial_steady_states_ratio_from_mutation_to_base',\n",
       " 'max_amount_ratio_from_mutation_to_base',\n",
       " 'min_amount_ratio_from_mutation_to_base',\n",
       " 'overshoot_ratio_from_mutation_to_base',\n",
       " 'RMSE_ratio_from_mutation_to_base',\n",
       " 'steady_states_ratio_from_mutation_to_base',\n",
       " 'sample_name']"
      ]
     },
     "execution_count": 90,
     "metadata": {},
     "output_type": "execute_result"
    }
   ],
   "source": [
    "relevant_cols = list(info.columns)\n",
    "[relevant_cols.remove(x) for x in get_true_interaction_cols(info, 'binding_rates_dissociation') + get_true_interaction_cols(info, 'eqconstants') +\n",
    " get_true_interaction_cols(info, 'energies') + get_true_interaction_cols(info, 'binding_sites') + num_group_cols + num_bs_cols]\n",
    "relevant_cols\n"
   ]
  },
  {
   "cell_type": "code",
   "execution_count": null,
   "metadata": {},
   "outputs": [],
   "source": [
    "infom = info.melt(relevant_cols, value_vars=get_true_interaction_cols(info, 'energies'), var_name='energies_idx', value_name='energies')\n",
    "dfm = info.melt(relevant_cols, value_vars=num_group_cols, var_name='num_groups_idx', value_name='num_groups')\n",
    "infom['num_groups'] = dfm['num_groups']\n",
    "infom['num_groups_idx'] = dfm['num_groups_idx']\n",
    "dfm = info.melt(relevant_cols, value_vars=num_bs_cols, var_name='num_bs_idx', value_name='num_bs')\n",
    "infom['num_bs'] = dfm['num_bs']\n",
    "infom['num_bs_idx'] = dfm['num_bs_idx']\n",
    "\n",
    "for k in ['binding_sites', 'binding_rates_dissociation', 'eqconstants']:\n",
    "    dfm = info.melt(relevant_cols, value_vars=get_true_interaction_cols(info, k), var_name=f'{k}_idx', value_name=k)\n",
    "    infom[k] = dfm[k]\n",
    "    infom[f'{k}_idx'] = dfm[f'{k}_idx']\n"
   ]
  },
  {
   "cell_type": "code",
   "execution_count": null,
   "metadata": {},
   "outputs": [
    {
     "data": {
      "text/plain": [
       "<AxesSubplot: xlabel='num_bs', ylabel='RMSE'>"
      ]
     },
     "execution_count": 94,
     "metadata": {},
     "output_type": "execute_result"
    },
    {
     "data": {
      "image/png": "[encoded data removed]",
      "text/plain": [
       "<Figure size 640x480 with 1 Axes>"
      ]
     },
     "metadata": {},
     "output_type": "display_data"
    }
   ],
   "source": [
    "sns.scatterplot(infom, x='num_bs', y='RMSE')"
   ]
  },
  {
   "cell_type": "code",
   "execution_count": null,
   "metadata": {},
   "outputs": [],
   "source": []
  }
 ],
 "metadata": {
  "kernelspec": {
   "display_name": "env_gene",
   "language": "python",
   "name": "python3"
  },
  "language_info": {
   "codemirror_mode": {
    "name": "ipython",
    "version": 3
   },
   "file_extension": ".py",
   "mimetype": "text/x-python",
   "name": "python",
   "nbconvert_exporter": "python",
   "pygments_lexer": "ipython3",
   "version": "3.10.6"
  },
  "orig_nbformat": 4
 },
 "nbformat": 4,
 "nbformat_minor": 2
}
