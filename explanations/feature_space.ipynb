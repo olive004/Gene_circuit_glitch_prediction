{
 "cells": [
  {
   "attachments": {},
   "cell_type": "markdown",
   "metadata": {},
   "source": [
    "# Feature space: non-ML\n",
    "\n",
    "What kind of features are most predictive of mutational stability?"
   ]
  },
  {
   "cell_type": "code",
   "execution_count": 77,
   "metadata": {},
   "outputs": [
    {
     "name": "stdout",
     "output_type": "stream",
     "text": [
      "The autoreload extension is already loaded. To reload it, use:\n",
      "  %reload_ext autoreload\n"
     ]
    }
   ],
   "source": [
    "%load_ext autoreload\n",
    "%autoreload 2"
   ]
  },
  {
   "cell_type": "code",
   "execution_count": 78,
   "metadata": {},
   "outputs": [],
   "source": [
    "import numpy as np\n",
    "import os\n",
    "import sys\n",
    "from copy import deepcopy\n",
    "\n",
    "import matplotlib.pyplot as plt\n",
    "import seaborn as sns\n",
    "\n",
    "\n",
    "if __package__ is None:\n",
    "\n",
    "    module_path = os.path.abspath(os.path.join('..'))\n",
    "    sys.path.append(module_path)\n",
    "\n",
    "    __package__ = os.path.basename(module_path)\n",
    "\n",
    "\n",
    "from src.srv.sequence_exploration.sequence_analysis import b_tabulate_mutation_info\n",
    "from src.utils.data.data_format_tools.common import load_json_as_dict\n",
    "from src.utils.common.setup_new import prepare_config\n",
    "from src.utils.circuit.agnostic_circuits.circuit_manager_new import CircuitModeller\n",
    "from src.utils.evolution.evolver import Evolver\n",
    "from src.utils.misc.type_handling import flatten_listlike\n",
    "from src.utils.results.analytics.naming import get_analytics_types_all, get_true_names_analytics, get_true_interaction_cols\n",
    "from tests_local.shared import create_test_inputs, CONFIG, TEST_CONFIG\n",
    "\n",
    "# config = load_json_as_dict('../tests_local/configs/simple_circuit.json')\n",
    "SEQ_LENGTH = 20\n"
   ]
  },
  {
   "cell_type": "code",
   "execution_count": 79,
   "metadata": {},
   "outputs": [
    {
     "name": "stderr",
     "output_type": "stream",
     "text": [
      "WARNING:root:Units unknown - supply a valid experiment directory instead of ../tests_local/configs/binding_rates_dissociation/0_weak_binding_rates_dissociation.csv\n",
      "WARNING:root:Units unknown - supply a valid experiment directory instead of ../tests_local/configs/eqconstants/0_weak_eqconstants.csv\n",
      "WARNING:root:Units unknown - supply a valid experiment directory instead of ../tests_local/configs/energies/0_weak_energies.csv\n",
      "WARNING:root:Units unknown - supply a valid experiment directory instead of ../tests_local/configs/binding_rates_dissociation/1_med_weak_binding_rates_dissociation.csv\n",
      "WARNING:root:Units unknown - supply a valid experiment directory instead of ../tests_local/configs/eqconstants/1_med_weak_eqconstants.csv\n",
      "WARNING:root:Units unknown - supply a valid experiment directory instead of ../tests_local/configs/energies/1_med_weak_energies.csv\n",
      "WARNING:root:Units unknown - supply a valid experiment directory instead of ../tests_local/configs/binding_rates_dissociation/2_medium_binding_rates_dissociation.csv\n",
      "WARNING:root:Units unknown - supply a valid experiment directory instead of ../tests_local/configs/eqconstants/2_medium_eqconstants.csv\n",
      "WARNING:root:Units unknown - supply a valid experiment directory instead of ../tests_local/configs/energies/2_medium_energies.csv\n",
      "WARNING:root:Units unknown - supply a valid experiment directory instead of ../tests_local/configs/binding_rates_dissociation/3_med_strong_binding_rates_dissociation.csv\n",
      "WARNING:root:Units unknown - supply a valid experiment directory instead of ../tests_local/configs/eqconstants/3_med_strong_eqconstants.csv\n",
      "WARNING:root:Units unknown - supply a valid experiment directory instead of ../tests_local/configs/energies/3_med_strong_energies.csv\n",
      "WARNING:root:Units unknown - supply a valid experiment directory instead of ../tests_local/configs/binding_rates_dissociation/4_strong_binding_rates_dissociation.csv\n",
      "WARNING:root:Units unknown - supply a valid experiment directory instead of ../tests_local/configs/eqconstants/4_strong_eqconstants.csv\n",
      "WARNING:root:Units unknown - supply a valid experiment directory instead of ../tests_local/configs/energies/4_strong_energies.csv\n",
      "WARNING:root:Could not detect IntaRNA on system: CompletedProcess(args='which IntaRNA', returncode=1, stdout='', stderr='')\n",
      "WARNING:root:Signal differs between circuits, but only first signal used for simulation.\n",
      "WARNING:root:\tFrom 5 circuits, a total of 5 mutated circuits will be simulated.\n",
      "WARNING:root:\t\tStarting new round of viable circuits (0 - 5 / 5)\n",
      "WARNING:root:\t\tMaking subcircuits 0 - 5 took 0.000209s\n",
      "WARNING:root:\tBatching 0 - 100 circuits (out of 0 - 5 (total: 5)) (Circuits: 0 - 5 of 5)\n",
      "WARNING:root:\t\tRunning 5 Subcircuits - 0_weak: compute_interactions\n",
      "WARNING:root:\t\tMethod compute_interactions took 0.100037s\n",
      "WARNING:root:\t\tRunning 5 Subcircuits - 0_weak: init_circuits\n",
      "WARNING:root:\t\tMethod init_circuits took 5.68923s\n",
      "WARNING:root:\t\tRunning 5 Subcircuits - 0_weak: simulate_signal_batch\n"
     ]
    },
    {
     "name": "stdout",
     "output_type": "stream",
     "text": [
      "Done:  0:00:05.588825\n"
     ]
    },
    {
     "name": "stderr",
     "output_type": "stream",
     "text": [
      "WARNING:root:\t\tSimulating signal took 5.170918s\n"
     ]
    },
    {
     "name": "stdout",
     "output_type": "stream",
     "text": [
      "Done:  0:00:05.164848\n"
     ]
    },
    {
     "name": "stderr",
     "output_type": "stream",
     "text": [
      "WARNING:root:\t\tCalculating analytics took 3.519338s\n",
      "WARNING:root:\t\tMethod simulate_signal_batch took 8.922164s\n",
      "WARNING:root:\t\tRunning 5 Subcircuits - 0_weak: write_results\n",
      "WARNING:root:\t\tMethod write_results took 10.000864s\n",
      "WARNING:root:Single batch: 0:00:24.728360 \n",
      "Projected time: 24.72836s \n",
      "Total time: 0:00:24.728397\n"
     ]
    }
   ],
   "source": [
    "circuits, config, result_writer, info = create_test_inputs(deepcopy(CONFIG))"
   ]
  },
  {
   "attachments": {},
   "cell_type": "markdown",
   "metadata": {},
   "source": [
    "Get info"
   ]
  },
  {
   "cell_type": "code",
   "execution_count": 80,
   "metadata": {},
   "outputs": [],
   "source": [
    "\n",
    "info = b_tabulate_mutation_info(result_writer.ensemble_write_dir,\n",
    "                                data_writer=result_writer, experiment_config=config)"
   ]
  },
  {
   "cell_type": "code",
   "execution_count": 81,
   "metadata": {},
   "outputs": [],
   "source": [
    "# circuits = [Evolver(data_writer=result_writer,\n",
    "#                     sequence_type=config.get('system_type')).mutate(\n",
    "#             c,\n",
    "#             write_to_subsystem=True,\n",
    "#             algorithm=config.get('mutations', {}).get('algorithm', 'random')) for c in circuits]\n",
    "# circuit_modeller = CircuitModeller(result_writer=result_writer, config=config)\n",
    "# circuits = circuit_modeller.batch_circuits(\n",
    "#     circuits=circuits,\n",
    "#     methods={\n",
    "#         \"compute_interactions\": {},\n",
    "#         \"init_circuits\": {'batch': True},\n",
    "#         'simulate_signal_batch': {'ref_circuit': None,\n",
    "#                                   'batch': config['simulation']['use_batch_mutations']},\n",
    "#         'write_results': {'no_visualisations': False, # config['experiment']['no_visualisations'],\n",
    "#                           'no_numerical': False} #config['experiment']['no_numerical']}\n",
    "#     }\n",
    "# )\n",
    "\n"
   ]
  },
  {
   "cell_type": "code",
   "execution_count": 82,
   "metadata": {},
   "outputs": [
    {
     "data": {
      "text/plain": [
       "{'binding_rates_association': array([[0.00150958, 0.00150958, 0.00150958],\n",
       "        [0.00150958, 0.00150958, 0.00150958],\n",
       "        [0.00150958, 0.00150958, 0.00150958]]),\n",
       " 'binding_rates_dissociation': array([[0.00150958, 0.00150958, 0.00150958],\n",
       "        [0.00150958, 0.00150958, 0.00150958],\n",
       "        [0.00150958, 0.00150958, 0.00150958]]),\n",
       " 'energies': array([[0., 0., 0.],\n",
       "        [0., 0., 0.],\n",
       "        [0., 0., 0.]]),\n",
       " 'eqconstants': array([[1., 1., 1.],\n",
       "        [1., 1., 1.],\n",
       "        [1., 1., 1.]]),\n",
       " 'binding_sites': array([[nan, nan, nan],\n",
       "        [nan, nan, nan],\n",
       "        [nan, nan, nan]]),\n",
       " 'units': 'unknown'}"
      ]
     },
     "execution_count": 82,
     "metadata": {},
     "output_type": "execute_result"
    }
   ],
   "source": [
    "circuits[0].interactions.__dict__"
   ]
  },
  {
   "cell_type": "code",
   "execution_count": 83,
   "metadata": {},
   "outputs": [
    {
     "data": {
      "text/plain": [
       "[(9.0, 11.0),\n",
       " (10.0, 10.0),\n",
       " (11.0, 9.0),\n",
       " (12.0, 8.0),\n",
       " (13.0, 7.0),\n",
       " (14.0, 6.0),\n",
       " (15.0, 5.0),\n",
       " (16.0, 4.0)]"
      ]
     },
     "execution_count": 83,
     "metadata": {},
     "output_type": "execute_result"
    }
   ],
   "source": [
    "\n",
    "num_bs = int((100 / np.abs(-11.42)))\n",
    "\n",
    "num_groups = np.random.randint(int(SEQ_LENGTH/num_bs)) + 1\n",
    "\n",
    "starting_bind = [np.random.randint(1, SEQ_LENGTH - num_bs - num_groups)]\n",
    "[starting_bind.append(starting_bind[-1] + np.random.randint(int(num_bs / num_groups), SEQ_LENGTH - starting_bind[-1] - int(num_bs / num_groups))) for i in range(num_groups - 1)]\n",
    "\n",
    "fwd_bind = [np.arange(sb, sb+np.floor(num_bs/len(starting_bind)), 1) for sb in starting_bind]\n",
    "rev_bind = [SEQ_LENGTH - fb for fb in fwd_bind]\n",
    "\n",
    "flatten_listlike([[(f, r) for f, r in zip(fwd, rev)] for fwd, rev in zip(fwd_bind, rev_bind)])"
   ]
  },
  {
   "cell_type": "code",
   "execution_count": 84,
   "metadata": {},
   "outputs": [],
   "source": [
    "def fake_binding_site(energy):\n",
    "    \"\"\" Let's say -100 kcal corresponds to the entire sequence binding \"\"\"\n",
    "    if energy == 0:\n",
    "        return [], 0, 0\n",
    "    num_bs = np.min([SEQ_LENGTH, int(100 / np.abs(energy))])\n",
    "    num_groups = np.random.randint(int(SEQ_LENGTH/num_bs)) + 1\n",
    "\n",
    "    starting_bind = [np.max([1, np.random.randint(0, np.max([1, SEQ_LENGTH - num_bs - num_groups]))])]\n",
    "    [starting_bind.append(starting_bind[-1] + np.random.randint(int(num_bs / num_groups), SEQ_LENGTH - starting_bind[-1] - int(num_bs / num_groups))) for i in range(num_groups - 1)]\n",
    "\n",
    "    fwd_bind = [np.arange(sb, sb+np.floor(num_bs/len(starting_bind)), 1) for sb in starting_bind]\n",
    "    rev_bind = [SEQ_LENGTH - fb for fb in fwd_bind]\n",
    "    return flatten_listlike([[(f, r) for f, r in zip(fwd, rev)] for fwd, rev in zip(fwd_bind, rev_bind)]), num_groups, num_bs\n"
   ]
  },
  {
   "cell_type": "code",
   "execution_count": 85,
   "metadata": {},
   "outputs": [],
   "source": [
    "num_group_cols = [e.replace('energies', 'binding_sites_groups') for e in get_true_interaction_cols(info, 'energies')]\n",
    "num_bs_cols = [e.replace('energies', 'binding_sites_count') for e in get_true_interaction_cols(info, 'energies')]\n"
   ]
  },
  {
   "cell_type": "code",
   "execution_count": 86,
   "metadata": {},
   "outputs": [],
   "source": [
    "for e, b, g, bs in zip(get_true_interaction_cols(info, 'energies'), get_true_interaction_cols(info, 'binding_sites'), num_group_cols, num_bs_cols):\n",
    "    fbs_all = [fake_binding_site(ee) for ee in info[e]]\n",
    "    fbs = [f[0] for f in fbs_all]\n",
    "    num_groups = [f[1] for f in fbs_all]\n",
    "    num_bs = [f[2] for f in fbs_all]\n",
    "\n",
    "    info[b] = fbs\n",
    "    info[g] = num_groups\n",
    "    info[bs] = num_bs\n"
   ]
  },
  {
   "cell_type": "code",
   "execution_count": 90,
   "metadata": {},
   "outputs": [
    {
     "data": {
      "text/plain": [
       "['circuit_name',\n",
       " 'mutation_name',\n",
       " 'mutation_num',\n",
       " 'mutation_type',\n",
       " 'mutation_positions',\n",
       " 'path_to_template_circuit',\n",
       " 'name',\n",
       " 'interacting',\n",
       " 'self_interacting',\n",
       " 'num_interacting',\n",
       " 'num_self_interacting',\n",
       " 'num_interacting_diff_to_base_circuit',\n",
       " 'num_self_interacting_diff_to_base_circuit',\n",
       " 'num_interacting_ratio_from_mutation_to_base',\n",
       " 'num_self_interacting_ratio_from_mutation_to_base',\n",
       " 'fold_change',\n",
       " 'final_deriv',\n",
       " 'initial_steady_states',\n",
       " 'max_amount',\n",
       " 'min_amount',\n",
       " 'overshoot',\n",
       " 'RMSE',\n",
       " 'steady_states',\n",
       " 'response_time_wrt_species-6',\n",
       " 'response_time_wrt_species-6_diff_to_base_circuit',\n",
       " 'response_time_wrt_species-6_ratio_from_mutation_to_base',\n",
       " 'precision_wrt_species-6',\n",
       " 'precision_wrt_species-6_diff_to_base_circuit',\n",
       " 'precision_wrt_species-6_ratio_from_mutation_to_base',\n",
       " 'sensitivity_wrt_species-6',\n",
       " 'sensitivity_wrt_species-6_diff_to_base_circuit',\n",
       " 'sensitivity_wrt_species-6_ratio_from_mutation_to_base',\n",
       " 'fold_change_diff_to_base_circuit',\n",
       " 'final_deriv_diff_to_base_circuit',\n",
       " 'initial_steady_states_diff_to_base_circuit',\n",
       " 'max_amount_diff_to_base_circuit',\n",
       " 'min_amount_diff_to_base_circuit',\n",
       " 'overshoot_diff_to_base_circuit',\n",
       " 'RMSE_diff_to_base_circuit',\n",
       " 'steady_states_diff_to_base_circuit',\n",
       " 'fold_change_ratio_from_mutation_to_base',\n",
       " 'final_deriv_ratio_from_mutation_to_base',\n",
       " 'initial_steady_states_ratio_from_mutation_to_base',\n",
       " 'max_amount_ratio_from_mutation_to_base',\n",
       " 'min_amount_ratio_from_mutation_to_base',\n",
       " 'overshoot_ratio_from_mutation_to_base',\n",
       " 'RMSE_ratio_from_mutation_to_base',\n",
       " 'steady_states_ratio_from_mutation_to_base',\n",
       " 'sample_name']"
      ]
     },
     "execution_count": 90,
     "metadata": {},
     "output_type": "execute_result"
    }
   ],
   "source": [
    "relevant_cols = list(info.columns)\n",
    "[relevant_cols.remove(x) for x in get_true_interaction_cols(info, 'binding_rates_dissociation') + get_true_interaction_cols(info, 'eqconstants') +\n",
    " get_true_interaction_cols(info, 'energies') + get_true_interaction_cols(info, 'binding_sites') + num_group_cols + num_bs_cols]\n",
    "relevant_cols\n"
   ]
  },
  {
   "cell_type": "code",
   "execution_count": 91,
   "metadata": {},
   "outputs": [],
   "source": [
    "infom = info.melt(relevant_cols, value_vars=get_true_interaction_cols(info, 'energies'), var_name='energies_idx', value_name='energies')\n",
    "dfm = info.melt(relevant_cols, value_vars=num_group_cols, var_name='num_groups_idx', value_name='num_groups')\n",
    "infom['num_groups'] = dfm['num_groups']\n",
    "infom['num_groups_idx'] = dfm['num_groups_idx']\n",
    "dfm = info.melt(relevant_cols, value_vars=num_bs_cols, var_name='num_bs_idx', value_name='num_bs')\n",
    "infom['num_bs'] = dfm['num_bs']\n",
    "infom['num_bs_idx'] = dfm['num_bs_idx']\n",
    "\n",
    "for k in ['binding_sites', 'binding_rates_dissociation', 'eqconstants']:\n",
    "    dfm = info.melt(relevant_cols, value_vars=get_true_interaction_cols(info, k), var_name=f'{k}_idx', value_name=k)\n",
    "    infom[k] = dfm[k]\n",
    "    infom[f'{k}_idx'] = dfm[f'{k}_idx']\n"
   ]
  },
  {
   "cell_type": "code",
   "execution_count": 94,
   "metadata": {},
   "outputs": [
    {
     "data": {
      "text/plain": [
       "<AxesSubplot: xlabel='num_bs', ylabel='RMSE'>"
      ]
     },
     "execution_count": 94,
     "metadata": {},
     "output_type": "execute_result"
    },
    {
     "data": {
      "image/png": "[encoded data removed]",
      "text/plain": [
       "<Figure size 640x480 with 1 Axes>"
      ]
     },
     "metadata": {},
     "output_type": "display_data"
    }
   ],
   "source": [
    "sns.scatterplot(infom, x='num_bs', y='RMSE')"
   ]
  },
  {
   "cell_type": "code",
   "execution_count": null,
   "metadata": {},
   "outputs": [],
   "source": []
  }
 ],
 "metadata": {
  "kernelspec": {
   "display_name": "env_gene",
   "language": "python",
   "name": "python3"
  },
  "language_info": {
   "codemirror_mode": {
    "name": "ipython",
    "version": 3
   },
   "file_extension": ".py",
   "mimetype": "text/x-python",
   "name": "python",
   "nbconvert_exporter": "python",
   "pygments_lexer": "ipython3",
   "version": "3.8.1"
  },
  "orig_nbformat": 4
 },
 "nbformat": 4,
 "nbformat_minor": 2
}
