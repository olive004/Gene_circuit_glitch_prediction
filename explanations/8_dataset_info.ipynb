{
 "cells": [
  {
   "attachments": {},
   "cell_type": "markdown",
   "metadata": {},
   "source": [
    "# Dataset stats\n",
    "\n",
    "Here, we examine a simulated dataset of ca. 181000 circuits and analyse its basic characteristics."
   ]
  },
  {
   "attachments": {},
   "cell_type": "markdown",
   "metadata": {},
   "source": [
    "## Background\n",
    "\n",
    "A large set of randomly generated RNA circuits was first created as a starting point and the binding energies of all RNAs were determined by the RNA simulator. This list of circuits was then filtered for circuits with a minimum number of 2 interacting species and at least 1 self interacting specie. From these, the first 1000 circuits were chosen as reference circuits. Each was then initialised with a set of mutated versions of itself, where each species was mutated at one of [1, 2, 3, 5, 10, 15] locations on its strand, with 10 variations in total. A reference circuit would thereby have a total of 3 (number of species) * 10 (variations) * 6 (number of mutations within a sequence) = 180 mutated subcircuits. \n",
    "\n",
    "Once all the circuits have been determined, their function must be determined. This involved first finding the steady state of the unbound and bound RNA species, then simulating the behavior of the circuit upon being perturbed by a step function. In this case, the step signal was a 2x increase in the species 'RNA_0', which happens instantaneously. In a lab experiment, there are many different ways of implementing this, each with a different delay, so the instantaneous increase presents the most extreme case."
   ]
  },
  {
   "attachments": {},
   "cell_type": "markdown",
   "metadata": {},
   "source": [
    "* here we have an example of 2 reference steady state circuits and their mutations plotted in a row of 2 and columns of 4 *"
   ]
  },
  {
   "attachments": {},
   "cell_type": "markdown",
   "metadata": {},
   "source": []
  },
  {
   "cell_type": "code",
   "execution_count": null,
   "metadata": {},
   "outputs": [],
   "source": [
    "import numpy as np\n",
    "import jax\n",
    "import jax.numpy as jnp\n",
    "import pandas as pd\n",
    "import seaborn as sns\n",
    "import matplotlib.pyplot as plt\n",
    "\n",
    "from functools import partial\n",
    "import os\n",
    "import sys\n",
    "import umap\n",
    "from sklearn.manifold import TSNE\n",
    "from sklearn.preprocessing import StandardScaler\n",
    "\n",
    "\n",
    "if __package__ is None:\n",
    "\n",
    "    module_path = os.path.abspath(os.path.join('..'))\n",
    "    sys.path.append(module_path)\n",
    "\n",
    "    __package__ = os.path.basename(module_path)\n",
    "\n",
    "\n",
    "from src.utils.misc.numerical import count_monotonic_group_lengths, find_monotonic_group_idxs, is_within_range\n",
    "from src.utils.misc.string_handling import string_to_tuple_list\n",
    "from src.utils.results.analytics.naming import get_true_interaction_cols\n",
    "from src.utils.misc.type_handling import flatten_listlike, get_first_elements\n",
    "from src.utils.misc.string_handling import prettify_keys_for_label\n",
    "from src.utils.results.analytics.naming import get_analytics_types_all, get_true_names_analytics, get_true_interaction_cols\n",
    "from tests_local.shared import CONFIG\n",
    "from explanations.data_enhancing import enhance_data\n"
   ]
  },
  {
   "cell_type": "code",
   "execution_count": null,
   "metadata": {},
   "outputs": [],
   "source": [
    "og_dir = '../data/generate_seqs_flexible/2023_04_17_205800/'\n",
    "fn_og = os.path.join(og_dir, 'circuit_stats.csv')\n",
    "mut_dir = '../data/ensemble_mutation_effect_analysis/2023_05_09_220322/mutation_effect_on_interactions_signal'\n",
    "fn_mut = \n",
    "\n",
    "data = pd.read_csv(fn_og)"
   ]
  },
  {
   "cell_type": "code",
   "execution_count": null,
   "metadata": {},
   "outputs": [],
   "source": [
    "dfm = data.melt(['name'], get_true_interaction_cols(data, 'energies'), value_name='energies', var_name='idx')\n",
    "dfm1 = data.melt(['name'], get_true_interaction_cols(data, 'binding_rates_dissociation'), value_name='binding_rates_dissociation', var_name='idx')\n",
    "dfm['binding_rates_dissociation'] = dfm1['binding_rates_dissociation']\n",
    "dfm1 = data.melt(['name'], get_true_interaction_cols(data, 'eqconstants'), value_name='eqconstants', var_name='idx')\n",
    "dfm['eqconstants'] = dfm1['eqconstants']\n",
    "del dfm1\n",
    "\n",
    "plt.figure(figsize=(18,5))\n",
    "ax = plt.subplot(1,3,1)\n",
    "sns.histplot(dfm, x='energies', log_scale=[False, True], element='step')\n",
    "ax = plt.subplot(1,3,2)\n",
    "sns.histplot(dfm, x='binding_rates_dissociation', log_scale=[False, True], element='step')\n",
    "ax = plt.subplot(1,3,3)\n",
    "sns.histplot(dfm, x='eqconstants', log_scale=[True, True], element='step')\n",
    "\n",
    "plt.suptitle('Interaction distributions of\\nsource dataset')"
   ]
  },
  {
   "cell_type": "code",
   "execution_count": null,
   "metadata": {},
   "outputs": [],
   "source": [
    "data = pd.read_csv()"
   ]
  },
  {
   "cell_type": "code",
   "execution_count": null,
   "metadata": {},
   "outputs": [],
   "source": [
    "dfm = data.melt(['name'], get_true_interaction_cols(data, 'energies'), value_name='energies', var_name='idx')\n",
    "dfm1 = data.melt(['name'], get_true_interaction_cols(data, 'binding_rates_dissociation'), value_name='binding_rates_dissociation', var_name='idx')\n",
    "dfm['binding_rates_dissociation'] = dfm1['binding_rates_dissociation']\n",
    "dfm1 = data.melt(['name'], get_true_interaction_cols(data, 'eqconstants'), value_name='eqconstants', var_name='idx')\n",
    "dfm['eqconstants'] = dfm1['eqconstants']\n",
    "del dfm1\n",
    "\n",
    "plt.figure(figsize=(18,5))\n",
    "ax = plt.subplot(1,3,1)\n",
    "sns.histplot(dfm, x='energies', log_scale=[False, True], element='step')\n",
    "ax = plt.subplot(1,3,2)\n",
    "sns.histplot(dfm, x='binding_rates_dissociation', log_scale=[False, True], element='step')\n",
    "ax = plt.subplot(1,3,3)\n",
    "sns.histplot(dfm, x='eqconstants', log_scale=[True, True], element='step')\n",
    "\n",
    "plt.suptitle('Interaction distributions of\\nsource dataset')"
   ]
  },
  {
   "cell_type": "code",
   "execution_count": null,
   "metadata": {},
   "outputs": [],
   "source": [
    "def load_fake_circuit(circ_row):\n",
    "\n",
    "    k_a = config['molecular_params']['association_binding_rate' + '_per_molecule']\n",
    "\n",
    "\n",
    "    def symmetrical_matrix_length(flattened_length):\n",
    "        return int((-1 + np.sqrt(1 + 8 * flattened_length)) / 2)\n",
    "\n",
    "    def flatten_to_matrix(flattened_vector):\n",
    "    length = symmetrical_matrix_length(len(flattened_vector))\n",
    "    matrix = [[0] * length for _ in range(length)]\n",
    "\n",
    "    index = 0\n",
    "    for i in range(length):\n",
    "        for j in range(i, length):\n",
    "            matrix[i][j] = flattened_vector[index]\n",
    "            matrix[j][i] = flattened_vector[index]\n",
    "            index += 1\n",
    "\n",
    "    return matrix\n",
    "\n",
    "    binding_rates_dissociation = eqconstant_to_rates(eqconstants)[1]\n",
    "\n",
    "    labels = ['RNA_0', 'RNA_1', 'RNA_2']\n",
    "    interactions = {'binding_rates_association': config['molecular_params']['association_binding_rate' + '_per_molecule'],\n",
    "                    'binding_rates_dissociation': os.path.join('explanations', 'binding_rates_dissociation' + '.csv'),\n",
    "                    'eqconstants': os.path.join('explanations', 'eqconstants' + '.csv'),\n",
    "                    'energies': os.path.join(top_dir, 'energies', circuit_name + '_' + 'energies' + '.csv'),\n",
    "                    'binding_sites': os.path.join(top_dir, 'binding_sites', circuit_name + '_' + 'binding_sites' + '.csv')}\n",
    "    return construct_circuit_from_cfg({\n",
    "        'data_path': some_circuit,\n",
    "        'interactions': interactions\n",
    "    }, config)\n"
   ]
  }
 ],
 "metadata": {
  "kernelspec": {
   "display_name": "env_circuits",
   "language": "python",
   "name": "python3"
  },
  "language_info": {
   "name": "python",
   "version": "3.10.6"
  },
  "orig_nbformat": 4
 },
 "nbformat": 4,
 "nbformat_minor": 2
}
