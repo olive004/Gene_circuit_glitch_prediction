{
 "cells": [
  {
   "attachments": {},
   "cell_type": "markdown",
   "metadata": {},
   "source": [
    "# Examining circuit statistics\n",
    "\n",
    "What kind of features are most predictive of mutational stability?"
   ]
  },
  {
   "cell_type": "code",
   "execution_count": null,
   "metadata": {},
   "outputs": [],
   "source": [
    "# %%\n",
    "%load_ext autoreload\n",
    "%autoreload 2\n",
    "\n",
    "# %%\n",
    "import numpy as np\n",
    "import os\n",
    "import corner\n",
    "import sys\n",
    "from copy import deepcopy\n",
    "\n",
    "import matplotlib.pyplot as plt\n",
    "import seaborn as sns\n",
    "import pandas as pd\n",
    "import plotly.express as px\n",
    "\n",
    "\n",
    "if __package__ is None:\n",
    "\n",
    "    module_path = os.path.abspath(os.path.join('..'))\n",
    "    sys.path.append(module_path)\n",
    "\n",
    "    __package__ = os.path.basename(module_path)\n",
    "\n",
    "\n",
    "from src.srv.sequence_exploration.sequence_analysis import b_tabulate_mutation_info\n",
    "from src.utils.data.data_format_tools.common import load_json_as_dict\n",
    "from src.utils.common.setup_new import prepare_config\n",
    "from src.utils.circuit.agnostic_circuits.circuit_manager_new import CircuitModeller\n",
    "from src.utils.evolution.evolver import Evolver\n",
    "from src.utils.misc.numerical import count_monotonic_group_lengths, find_monotonic_group_idxs, is_within_range\n",
    "from src.utils.misc.string_handling import string_to_tuple_list\n",
    "from src.utils.misc.type_handling import flatten_listlike, get_first_elements\n",
    "from src.utils.results.analytics.naming import get_analytics_types_all, get_true_names_analytics, get_true_interaction_cols\n",
    "from tests_local.shared import create_test_inputs, CONFIG, TEST_CONFIG, five_circuits, mutate, simulate\n",
    "\n",
    "# config = load_json_as_dict('../tests_local/configs/simple_circuit.json')\n",
    "SEQ_LENGTH = 20\n",
    "config = deepcopy(CONFIG)"
   ]
  },
  {
   "cell_type": "code",
   "execution_count": null,
   "metadata": {},
   "outputs": [],
   "source": [
    "# %%\n",
    "# fn = '../data/ensemble_mutation_effect_analysis/2023_04_05_223653/summarise_simulation/tabulated_mutation_info.csv'\n",
    "fn = '../data/ensemble_mutation_effect_analysis/2023_04_11_192013/summarise_simulation/tabulated_mutation_info.csv'\n",
    "info = pd.read_csv(fn)\n",
    "\n",
    "# %%\n",
    "# circuits, config, result_writer, info = create_test_inputs(deepcopy(CONFIG))\n",
    "\n",
    "# circuits, config, data_writer = five_circuits(config, data_writer=None)\n",
    "\n",
    "# %%\n",
    "\n",
    "# circuits, config, data_writer = mutate(circuits, config, data_writer)\n",
    "\n",
    "# %%\n",
    "\n",
    "# circuits, config, data_writer = simulate(circuits, config, data_writer)\n",
    "\n",
    "# %%\n",
    "\n",
    "\n",
    "# info = b_tabulate_mutation_info(data_writer.ensemble_write_dir,\n",
    "#                                 data_writer=data_writer, experiment_config=config)\n",
    "\n",
    "# %%\n",
    "# circuits = [Evolver(data_writer=result_writer,\n",
    "#                     sequence_type=config.get('system_type')).mutate(\n",
    "#             c,\n",
    "#             write_to_subsystem=True,\n",
    "#             algorithm=config.get('mutations', {}).get('algorithm', 'random')) for c in circuits]\n",
    "# circuit_modeller = CircuitModeller(result_writer=result_writer, config=config)\n",
    "# circuits = circuit_modeller.batch_circuits(\n",
    "#     circuits=circuits,\n",
    "#     methods={\n",
    "#         \"compute_interactions\": {},\n",
    "#         \"init_circuits\": {'batch': True},\n",
    "#         'simulate_signal_batch': {'ref_circuit': None,\n",
    "#                                   'batch': config['simulation']['use_batch_mutations']},\n",
    "#         'write_results': {'no_visualisations': False, # config['experiment']['no_visualisations'],\n",
    "#                           'no_numerical': False} #config['experiment']['no_numerical']}\n",
    "#     }\n",
    "# )\n"
   ]
  },
  {
   "attachments": {},
   "cell_type": "markdown",
   "metadata": {},
   "source": [
    "## Process summary"
   ]
  },
  {
   "cell_type": "code",
   "execution_count": null,
   "metadata": {},
   "outputs": [],
   "source": [
    "\n",
    "# %%\n",
    "info['sp_distance'] = 0 \n",
    "info.loc[(info['sensitivity_wrt_species-6'] <= 1) & (info['precision_wrt_species-6'] <= 10), 'sp_distance'] = np.sqrt(\n",
    "    np.power(1-info['sensitivity_wrt_species-6'], 2) + np.power(10 - info['precision_wrt_species-6'], 2))\n",
    "info.loc[(info['sensitivity_wrt_species-6'] <= 1) & (info['precision_wrt_species-6'] > 10), 'sp_distance'] = np.absolute(info['sensitivity_wrt_species-6'] - 1)\n",
    "info.loc[(info['sensitivity_wrt_species-6'] > 1) & (info['precision_wrt_species-6'] <= 10), 'sp_distance'] = np.absolute(info['precision_wrt_species-6'] - 10)\n"
   ]
  },
  {
   "attachments": {},
   "cell_type": "markdown",
   "metadata": {},
   "source": [
    "Binding sites:"
   ]
  },
  {
   "cell_type": "code",
   "execution_count": null,
   "metadata": {},
   "outputs": [],
   "source": [
    "\n",
    "# %%\n",
    "num_group_cols = [e.replace('energies', 'binding_sites_groups') for e in get_true_interaction_cols(info, 'energies')]\n",
    "num_bs_cols = [e.replace('energies', 'binding_sites_count') for e in get_true_interaction_cols(info, 'energies')]\n",
    "bs_idxs_cols = [e.replace('energies', 'binding_sites_idxs') for e in get_true_interaction_cols(info, 'energies')]\n",
    "bs_range_cols = [e.replace('energies', 'binding_site_group_range') for e in get_true_interaction_cols(info, 'energies')]\n",
    "\n",
    "\n",
    "# %%\n",
    "for b, g, bs, bsi, r in zip(get_true_interaction_cols(info, 'binding_sites'), num_group_cols, num_bs_cols, bs_idxs_cols, bs_range_cols):\n",
    "    fbs = [string_to_tuple_list(bb) for bb in info[b]]\n",
    "    first = get_first_elements(fbs, empty_replacement=[])\n",
    "    info[bs] = [count_monotonic_group_lengths(bb) for bb in first]\n",
    "    info[bsi] = [find_monotonic_group_idxs(bb) for bb in first]\n",
    "    info[g] = info[bs].apply(len)\n",
    "    info[r] = [[(bb[0], bb[-1]) for bb in b] for b in info[bsi]]"
   ]
  },
  {
   "attachments": {},
   "cell_type": "markdown",
   "metadata": {},
   "source": [
    "Melt energies:\n"
   ]
  },
  {
   "cell_type": "code",
   "execution_count": null,
   "metadata": {},
   "outputs": [],
   "source": [
    "\n",
    "# %%\n",
    "good_cols = list(info.columns)\n",
    "[good_cols.remove(x) for x in get_true_interaction_cols(info, 'binding_rates_dissociation') + get_true_interaction_cols(info, 'eqconstants') +\n",
    " get_true_interaction_cols(info, 'energies') + get_true_interaction_cols(info, 'binding_sites') + num_group_cols + num_bs_cols]\n",
    "good_cols\n",
    "\n",
    "\n",
    "# %%\n",
    "binding_idx_map = {e.replace('energies_', ''): i for i, e in enumerate(get_true_interaction_cols(info, 'energies'))}\n",
    "\n",
    "# %%\n",
    "infom = info.melt(good_cols, value_vars=get_true_interaction_cols(info, 'energies'), var_name='energies_idx', value_name='energies')\n",
    "dfm = info.melt(good_cols, value_vars=num_group_cols, var_name='num_groups_idx', value_name='num_groups')\n",
    "infom['idx_species_binding'] = dfm['num_groups_idx'].apply(lambda x: binding_idx_map[x.replace('binding_sites_groups_', '')])\n",
    "infom['num_groups'] = dfm['num_groups']\n",
    "dfm = info.melt(good_cols, value_vars=num_bs_cols, var_name='num_bs_idx', value_name='num_bs')\n",
    "infom['num_bs'] = dfm['num_bs']\n",
    "\n",
    "for k in ['binding_sites', 'binding_rates_dissociation', 'eqconstants']:\n",
    "    dfm = info.melt(good_cols, value_vars=get_true_interaction_cols(info, k), var_name=f'{k}_idx', value_name=k)\n",
    "    infom[k] = dfm[k]\n",
    "\n",
    "\n",
    "# %% [markdown]\n",
    "# Energy diffs:\n",
    "\n",
    "# %%\n",
    "for k in ['binding_rates_dissociation', 'eqconstants', 'energies']:\n",
    "    infom[f'{k}_diffs'] = info.groupby(['circuit_name'])[get_true_interaction_cols(info, f'{k}')].apply(lambda x: x - x.iloc[0]).melt(value_vars=get_true_interaction_cols(info, f'{k}'), var_name='idx', value_name=f'{k}_diffs')[f'{k}_diffs']\n"
   ]
  },
  {
   "attachments": {},
   "cell_type": "markdown",
   "metadata": {},
   "source": [
    "## Preliminary visualisations"
   ]
  },
  {
   "cell_type": "code",
   "execution_count": null,
   "metadata": {},
   "outputs": [],
   "source": [
    "\n",
    "# %%\n",
    "relevant_cols = [\n",
    "    'fold_change', \n",
    "    # 'initial_steady_states', \n",
    "    # 'max_amount', 'min_amount',\n",
    "    'overshoot', \n",
    "    'RMSE', \n",
    "    'steady_states', \n",
    "    # 'response_time_wrt_species-6',\n",
    "    # 'response_time_wrt_species-6_diff_to_base_circuit',\n",
    "    # 'response_time_wrt_species-6_ratio_from_mutation_to_base',\n",
    "    'precision_wrt_species-6',\n",
    "    'precision_wrt_species-6_diff_to_base_circuit',\n",
    "    'precision_wrt_species-6_ratio_from_mutation_to_base',\n",
    "    'sensitivity_wrt_species-6',\n",
    "    'sensitivity_wrt_species-6_diff_to_base_circuit',\n",
    "    'sensitivity_wrt_species-6_ratio_from_mutation_to_base',\n",
    "    'fold_change_diff_to_base_circuit',\n",
    "    # 'initial_steady_states_diff_to_base_circuit',\n",
    "    # 'max_amount_diff_to_base_circuit', 'min_amount_diff_to_base_circuit',\n",
    "    'overshoot_diff_to_base_circuit', \n",
    "    # 'RMSE_diff_to_base_circuit',\n",
    "    'steady_states_diff_to_base_circuit',\n",
    "    'fold_change_ratio_from_mutation_to_base',\n",
    "    # 'initial_steady_states_ratio_from_mutation_to_base',\n",
    "    # 'max_amount_ratio_from_mutation_to_base',\n",
    "    # 'min_amount_ratio_from_mutation_to_base',\n",
    "    # 'overshoot_ratio_from_mutation_to_base',\n",
    "    # 'RMSE_ratio_from_mutation_to_base',\n",
    "    'steady_states_ratio_from_mutation_to_base', \n",
    "    # 'num_groups',\n",
    "    'energies', \n",
    "    'binding_rates_dissociation',\n",
    "    'eqconstants',\n",
    "    'energies_diffs', \n",
    "    'binding_rates_dissociation_diffs',\n",
    "    'eqconstants_diffs'\n",
    "    ]"
   ]
  },
  {
   "cell_type": "code",
   "execution_count": null,
   "metadata": {},
   "outputs": [],
   "source": [
    "\n",
    "cols = relevant_cols[0:10]\n",
    "temp = infom[(infom['sample_name'] != 'RNA_0') & (infom['precision_wrt_species-6'] != np.inf) & (infom['precision_wrt_species-6_diff_to_base_circuit'] != -np.inf)][cols]\n",
    "# for c in cols:\n",
    "#     if 'precision' in c:\n",
    "#         temp[c] = np.log(temp[c])\n",
    "fig = corner.corner(temp, labels=cols, show_titles=True, title_kwargs={\"fontsize\": 12}, color='b')\n",
    "fig.savefig('test.png')\n"
   ]
  },
  {
   "attachments": {},
   "cell_type": "markdown",
   "metadata": {},
   "source": [
    "Closer look at raw columns"
   ]
  },
  {
   "cell_type": "code",
   "execution_count": null,
   "metadata": {},
   "outputs": [],
   "source": [
    "\n",
    "# %%\n",
    "sns.jointplot(infom, x='fold_change', y='RMSE', hue='mutation_num')\n",
    "plt.xscale('log')\n",
    "plt.yscale('log')\n",
    "\n",
    "# %%\n",
    "sns.jointplot(infom[infom['sample_name'] != 'RNA_0'], x='fold_change', y='RMSE', hue='mutation_num')\n",
    "# plt.xscale('log')\n",
    "# plt.yscale('log')\n",
    "\n",
    "# %%\n",
    "# sns.jointplot(infom, x='fold_change', y='precision_wrt_species-6', hue='sensitivity_wrt_species-6')\n",
    "# plt.xscale('log')\n",
    "# plt.yscale('log')\n",
    "\n",
    "# %%\n",
    "sns.jointplot(infom, x='eqconstants', y='RMSE', hue='mutation_num')\n",
    "\n",
    "# %%\n",
    "sns.jointplot(infom, x='sensitivity_wrt_species-6_diff_to_base_circuit', y='precision_wrt_species-6_diff_to_base_circuit', hue='mutation_num')\n",
    "plt.xscale('log')\n",
    "plt.yscale('log')\n",
    "\n",
    "# %%\n",
    "sns.jointplot(infom, x='sensitivity_wrt_species-6_ratio_from_mutation_to_base', y='precision_wrt_species-6_ratio_from_mutation_to_base', hue='mutation_num')\n",
    "plt.xscale('log')\n",
    "plt.yscale('log')\n",
    "\n",
    "# %%\n",
    "sns.jointplot(info, x='RMSE', y='overshoot', hue='mutation_num')\n",
    "# plt.yscale('log')\n",
    "\n",
    "# %%\n",
    "sns.jointplot(info, x='fold_change', y='sensitivity_wrt_species-6_diff_to_base_circuit', hue='mutation_num')\n",
    "# sns.kdeplot(infom, x='fold_change', y='sensitivity_wrt_species-6_diff_to_base_circuit') #, fill=True, cbar=True) #, hue='mutation_num')\n",
    "# plt.yscale('log')\n",
    "\n",
    "# %%\n",
    "sns.jointplot(info, x='steady_states', y='RMSE', hue='mutation_num')"
   ]
  },
  {
   "attachments": {},
   "cell_type": "markdown",
   "metadata": {},
   "source": [
    "Sensitivity vs. Precision: Raw"
   ]
  },
  {
   "cell_type": "code",
   "execution_count": null,
   "metadata": {},
   "outputs": [],
   "source": [
    "\n",
    "# %%\n",
    "sns.jointplot(infom, x='sensitivity_wrt_species-6', y='precision_wrt_species-6', hue='energies')\n",
    "plt.xscale('log')\n",
    "plt.yscale('log')\n",
    "\n",
    "# %%\n",
    "sns.jointplot(infom, x='sensitivity_wrt_species-6', y='precision_wrt_species-6', hue='mutation_num')\n",
    "plt.xscale('log')\n",
    "plt.yscale('log')\n",
    "\n",
    "plt.plot(np.ones(100), np.linspace(10, 1e7, 100), color='r')\n",
    "plt.plot(np.linspace(1, 10, 40), np.ones(40) * 10, color='r')\n",
    "\n",
    "# %%\n",
    "sns.jointplot(infom, x='sensitivity_wrt_species-6', y='precision_wrt_species-6', hue='num_groups')\n",
    "plt.xscale('log')\n",
    "plt.yscale('log')\n",
    "\n",
    "plt.plot(np.ones(100), np.linspace(10, 1e7, 100), color='r')\n",
    "plt.plot(np.linspace(1, 10, 40), np.ones(40) * 10, color='r')\n",
    "\n",
    "# %%\n",
    "sns.jointplot(infom[infom['sample_name'] != 'RNA_0'], x='sensitivity_wrt_species-6', y='precision_wrt_species-6', hue='mutation_num')\n",
    "plt.xscale('log')\n",
    "plt.yscale('log')\n",
    "\n",
    "plt.plot(np.ones(100), np.linspace(10, 1e7, 100), color='r')\n",
    "plt.plot(np.linspace(1, 10, 40), np.ones(40) * 10, color='r')\n",
    "\n",
    "# %%\n",
    "sns.jointplot(infom, x='sensitivity_wrt_species-6', y='precision_wrt_species-6', hue='sample_name')\n",
    "plt.xscale('log')\n",
    "plt.yscale('log')\n",
    "\n",
    "plt.plot(np.ones(100), np.linspace(10, 1e7, 100), color='r')\n",
    "plt.plot(np.linspace(1, 10, 40), np.ones(40) * 10, color='r')\n",
    "\n"
   ]
  },
  {
   "attachments": {},
   "cell_type": "markdown",
   "metadata": {},
   "source": [
    "## Standard deviations\n"
   ]
  },
  {
   "cell_type": "code",
   "execution_count": null,
   "metadata": {},
   "outputs": [],
   "source": [
    "named_aggs = {}\n",
    "for c in relevant_cols:\n",
    "    named_aggs.update({c + '_std': pd.NamedAgg(column=c, aggfunc=\"std\")})\n",
    "    named_aggs.update({c + '_mean': pd.NamedAgg(column=c, aggfunc=\"mean\")})\n",
    "    named_aggs.update({c + '_std_normed_by_mean': pd.NamedAgg(column=c, aggfunc=lambda x: np.std(x) / np.max([1, np.mean(x)]))})\n",
    "info_summ = infom.groupby(['circuit_name', 'mutation_num', 'sample_name'], as_index=False).agg(**named_aggs)\n",
    "    # {c: [np.std, np.mean, lambda x: np.std(x) / np.mean(x)] for c in relevant_cols})"
   ]
  },
  {
   "cell_type": "code",
   "execution_count": null,
   "metadata": {},
   "outputs": [],
   "source": [
    "\n",
    "# %%\n",
    "stds = info_summ.groupby(['mutation_num'], as_index=False).agg({c + '_std': 'std' for c in relevant_cols + ['precision_times_sensitivity']})\n",
    "means = info_summ.groupby(['mutation_num'], as_index=False).agg({c + '_mean': 'mean' for c in relevant_cols + ['precision_times_sensitivity']})\n",
    "for c in means.columns:\n",
    "    stds[c] = means[c]\n",
    "\n",
    "\n",
    "# %%\n",
    "std_m = stds.melt(id_vars=['mutation_num'], value_vars=[sc for sc in stds.columns if (sc != 'mutation_num') and ('std' in sc)], value_name='analytic_value', var_name='analytic').rename(columns={'mutation_num': 'mutation_num'})\n",
    "std_m2 = std_m.groupby(['analytic']).apply(lambda x: x / x.max())\n",
    "std_m2['analytic'] = std_m['analytic']"
   ]
  },
  {
   "attachments": {},
   "cell_type": "markdown",
   "metadata": {},
   "source": [
    "### Visualise STDs"
   ]
  },
  {
   "cell_type": "code",
   "execution_count": null,
   "metadata": {},
   "outputs": [],
   "source": [
    "\n",
    "\n",
    "# %%\n",
    "plt.figure(figsize=(10,7))\n",
    "sns.histplot(infom[infom['sample_name'] != 'RNA_0'], x='RMSE', hue='mutation_num', element='step')\n",
    "\n",
    "\n",
    "# %%\n",
    "sns.histplot(info_summ, x='sensitivity_wrt_species-6' + '_std', element='step', hue='mutation_num', log_scale=[False, True])\n",
    "\n",
    "\n",
    "# %%\n",
    "plt.figure(figsize=(5*len(info_summ['mutation_num'].unique()), 5))\n",
    "for i, m in enumerate(info_summ['mutation_num'].unique()):\n",
    "    if m != 0:\n",
    "        ax = plt.subplot(1, len(info_summ['mutation_num'].unique()), i)\n",
    "        sns.histplot(info_summ[info_summ['mutation_num'] == m], x='sensitivity_wrt_species-6_diff_to_base_circuit' + '_std', element='step', hue='sample_name')\n",
    "        plt.legend([str(m)], title='Mutations')\n",
    "        plt.title(f'{str(m)} mutations' if m != 1 else '1 mutation')\n",
    "        # plt.xlim([info_summ['sensitivity_wrt_species-6_diff_to_base_circuit' + '_std'].min() - 0.01, info_summ['sensitivity_wrt_species-6_diff_to_base_circuit' + '_std'].max() + 0.01])\n",
    "        # plt.ylim([0,165])\n",
    "\n",
    "\n",
    "# %%\n",
    "plt.figure(figsize=(17,5))\n",
    "ax = plt.subplot(1,2,1)\n",
    "sns.histplot(info_summ[(info_summ['sensitivity_wrt_species-6_diff_to_base_circuit' + '_std'] > 0) & (info_summ['sample_name'] != 'RNA_0')], x='sensitivity_wrt_species-6_diff_to_base_circuit' + '_std', hue='mutation_num', element=\"step\", bins=50)\n",
    "ax = plt.subplot(1,2,2)\n",
    "sns.histplot(info_summ[(info_summ['sensitivity_wrt_species-6_diff_to_base_circuit' + '_std'] > 0) & (info_summ['sample_name'] != 'RNA_0')], x='sensitivity_wrt_species-6_diff_to_base_circuit' + '_std', hue='mutation_num', element=\"poly\", bins=50)\n",
    "\n",
    "\n",
    "plt.figure(figsize=(8,5))\n",
    "# sns.histplot(info_summ[(info_summ['mutation_num'] != 0) & (info_summ['sample_name'] != 'RNA_0')], x='precision_wrt_species-6_diff_to_base_circuit' + '_std', hue='mutation_num', element=\"step\", bins=50, log_scale=[True, False])\n",
    "sns.histplot(info_summ[(info_summ['mutation_num'] != 0) & (info_summ['sample_name'] != 'RNA_0')], x='precision_wrt_species-6' + '_std', hue='mutation_num', element=\"step\", bins=50, log_scale=[False, False])"
   ]
  },
  {
   "attachments": {},
   "cell_type": "markdown",
   "metadata": {},
   "source": [
    "Grouped"
   ]
  },
  {
   "cell_type": "code",
   "execution_count": null,
   "metadata": {},
   "outputs": [],
   "source": [
    "\n",
    "# %%\n",
    "ax = sns.lineplot(std_m2, \n",
    "             x='mutation_num', y='analytic_value', hue='analytic')\n",
    "sns.move_legend(ax, \"upper left\", bbox_to_anchor=(1, 1))\n",
    "\n",
    "# %%\n",
    "std_cols = ['RMSE',\n",
    "            'precision_wrt_species-6',\n",
    "            'sensitivity_wrt_species-6',\n",
    "            'fold_change']\n",
    "for sc in std_cols:\n",
    "    stds[sc + '_std_normed_by_mean'] = stds[sc + '_std'] / stds[sc + '_mean']\n",
    "\n",
    "plt.figure(figsize=(25, 11))\n",
    "ax = plt.subplot(2, 4, 1)\n",
    "sns.lineplot(stds, x='mutation_num', y='RMSE' + '_std')\n",
    "ax = plt.subplot(2, 4, 2)\n",
    "sns.lineplot(stds, x='mutation_num', y=\n",
    "    'precision_wrt_species-6' + '_std')\n",
    "ax = plt.subplot(2, 4, 3)\n",
    "sns.lineplot(stds, x='mutation_num', y=\n",
    "    'sensitivity_wrt_species-6' + '_std')\n",
    "ax = plt.subplot(2, 4, 4)\n",
    "sns.lineplot(stds, x='mutation_num', y='fold_change' + '_std')\n",
    "\n",
    "ax = plt.subplot(2, 4, 5)\n",
    "sns.lineplot(stds, x='mutation_num', y='RMSE' + '_std_normed_by_mean')\n",
    "ax = plt.subplot(2, 4, 6)\n",
    "sns.lineplot(stds, x='mutation_num', y=\n",
    "    'precision_wrt_species-6' + '_std_normed_by_mean')\n",
    "ax = plt.subplot(2, 4, 7)\n",
    "sns.lineplot(stds, x='mutation_num', y=\n",
    "    'sensitivity_wrt_species-6' + '_std_normed_by_mean')\n",
    "ax = plt.subplot(2, 4, 8)\n",
    "sns.lineplot(stds, x='mutation_num', y='fold_change' + '_std_normed_by_mean')\n",
    "\n",
    "# %%\n",
    "plt.figure(figsize=(8,5))\n",
    "sns.jointplot(info_summ[info_summ['sample_name'] != 'RNA_0'], x='RMSE' + '_std', y='precision_times_sensitivity' + '_mean', hue='mutation_num')"
   ]
  },
  {
   "cell_type": "code",
   "execution_count": null,
   "metadata": {},
   "outputs": [],
   "source": [
    "info_summ['robust'] = (info_summ['sensitivity_wrt_species-6' + '_mean'] > 0.9) & (info_summ['precision_wrt_species-6' + '_mean'] > 5)\n",
    "fig = px.scatter_3d(\n",
    "    info_summ[info_summ['mutation_num'] != 0],\n",
    "    x='sensitivity_wrt_species-6' + '_mean', y='precision_wrt_species-6' + '_mean', z='RMSE' + '_std', \n",
    "    color='mutation_num', symbol='robust', log_y=True, log_x=True)\n",
    "fig.show()\n"
   ]
  },
  {
   "attachments": {},
   "cell_type": "markdown",
   "metadata": {},
   "source": [
    "## Examine correlations"
   ]
  },
  {
   "cell_type": "code",
   "execution_count": null,
   "metadata": {},
   "outputs": [],
   "source": [
    "\n",
    "v = infom[infom['sample_name'] != 'RNA_0'].corr()['mutation_num'].sort_values()\n",
    "v.to_csv('corrs.csv')\n"
   ]
  },
  {
   "attachments": {},
   "cell_type": "markdown",
   "metadata": {},
   "source": [
    "## Diffs"
   ]
  },
  {
   "cell_type": "code",
   "execution_count": null,
   "metadata": {},
   "outputs": [],
   "source": [
    "\n",
    "plt.figure(figsize=(15,10))\n",
    "sns.histplot(infom[infom['sample_name'] != 'RNA_0'], x='sensitivity_wrt_species-6_diff_to_base_circuit', hue='mutation_num', element='step')\n",
    "\n",
    "\n",
    "# %%\n",
    "plt.figure(figsize=(6*len(info_summ['mutation_num'].unique()), 5))\n",
    "for i, m in enumerate(info_summ['mutation_num'].unique()):\n",
    "    if m != 0:\n",
    "        ax = plt.subplot(1, len(info_summ['mutation_num'].unique()), i)\n",
    "        sns.histplot(infom[(infom['sample_name'] != 'RNA_0') & (infom['mutation_num'] == m)], x='sensitivity_wrt_species-6_diff_to_base_circuit', stat='count', element='step', fill=False)\n",
    "        plt.legend([str(m)], title='Mutations')\n",
    "        # plt.xlim([info_summ[('sensitivity_wrt_species-6_diff_to_base_circuit', 'std')].min() - 0.01, info_summ[('sensitivity_wrt_species-6_diff_to_base_circuit', 'std')].max() + 0.01])\n",
    "        # plt.ylim([0,165])\n"
   ]
  },
  {
   "attachments": {},
   "cell_type": "markdown",
   "metadata": {},
   "source": [
    "## Energies"
   ]
  },
  {
   "cell_type": "code",
   "execution_count": null,
   "metadata": {},
   "outputs": [],
   "source": [
    "# %%\n",
    "sns.jointplot(infom, x='energies', y='RMSE', hue='mutation_num')\n",
    "\n",
    "# %%\n",
    "plt.figure(figsize=(10,7))\n",
    "sns.histplot(infom[infom['sample_name'] != 'RNA_0'], x='binding_rates_dissociation', hue='mutation_num', element='step')\n",
    "\n",
    "\n",
    "# %%\n",
    "plt.figure(figsize=(10,7))\n",
    "sns.histplot(infom[infom['sample_name'] != 'RNA_0'], x='binding_rates_dissociation_diffs', hue='mutation_num', element='poly', bins=50, log_scale=[False, True])\n",
    "\n",
    "\n",
    "# %%\n",
    "plt.figure(figsize=(10,7))\n",
    "sns.histplot(infom[infom['sample_name'] != 'RNA_0'], x='energies_diffs', hue='mutation_num', element='step', bins=50, log_scale=[False, True])\n",
    "\n",
    "# %%\n",
    "plt.figure(figsize=(10,7))\n",
    "sns.histplot(info_summ[info_summ['binding_rates_dissociation_diffs' + '_std_normed_by_mean'] < 1e3], x='binding_rates_dissociation_diffs' + '_std_normed_by_mean', hue='mutation_num', element='step', bins=50, log_scale=[True, False])\n",
    "plt.title('Difference in $k_d$ between mutated and\\nreference circuits, cut of at $10^3$')\n",
    "\n",
    "# %%\n",
    "plt.figure(figsize=(10,7))\n",
    "sns.histplot(info_summ[info_summ['binding_rates_dissociation_diffs' + '_std_normed_by_mean'] < 1e3], x='binding_rates_dissociation_diffs' + '_std_normed_by_mean', hue='mutation_num', element='poly', bins=50, log_scale=[True, False])\n",
    "plt.title('Difference in $k_d$ between mutated and\\nreference circuits, cut of at $10^3$')\n",
    "\n",
    "# %%\n",
    "plt.figure(figsize=(10,7))\n",
    "sns.histplot(info_summ, x='energies_diffs' + '_std_normed_by_mean', hue='mutation_num', element='poly', bins=50, log_scale=[True, False])\n",
    "plt.title('Difference in $k_d$ between mutated and reference circuits')\n",
    "\n",
    "# %%\n",
    "plt.figure(figsize=(10,7))\n",
    "sns.histplot(infom[infom['eqconstants'] > 0.009], x='eqconstants', hue = 'mutation_num', multiple='layer', element='step', stat='count', log_scale=[True, False], bins=50)\n",
    "# plt.xscale('log')\n",
    "\n",
    "# %%\n",
    "plt.figure(figsize=(10,7))\n",
    "sns.jointplot(infom, x='mutation_num', y = 'num_groups')"
   ]
  },
  {
   "cell_type": "code",
   "execution_count": null,
   "metadata": {},
   "outputs": [],
   "source": [
    "\n",
    "plt.figure(figsize=(6*len(info_summ['mutation_num'].unique()), 5))\n",
    "for i, m in enumerate(info_summ['mutation_num'].unique()):\n",
    "    if m != 0:\n",
    "        ax = plt.subplot(1, len(info_summ['mutation_num'].unique()), i)\n",
    "        sns.histplot(infom[(infom['eqconstants'] >= 1) & (infom['mutation_num'] == m)], x='eqconstants', stat='count', element='step', fill=True)\n",
    "        plt.legend(str(m), title='Mutations')\n",
    "        plt.xlim([-3, 103])\n",
    "        plt.ylim([0,6000])\n"
   ]
  },
  {
   "cell_type": "code",
   "execution_count": null,
   "metadata": {},
   "outputs": [],
   "source": [
    "\n",
    "plt.figure(figsize=(10,7))\n",
    "sns.histplot(infom, x='energies', hue='mutation_num', element='step')\n"
   ]
  },
  {
   "cell_type": "code",
   "execution_count": null,
   "metadata": {},
   "outputs": [],
   "source": []
  },
  {
   "attachments": {},
   "cell_type": "markdown",
   "metadata": {},
   "source": [
    "A look at std's"
   ]
  },
  {
   "cell_type": "code",
   "execution_count": null,
   "metadata": {},
   "outputs": [],
   "source": [
    "\n",
    "v = infom.groupby(['circuit_name', 'mutation_num', 'sample_name'], as_index=False).agg(\n",
    "    **{'frac_muts_in_binding_site' + '_std': pd.NamedAgg(column='frac_muts_in_binding_site', aggfunc='std'),\n",
    "       'frac_muts_in_binding_site' + '_mean': pd.NamedAgg(column='frac_muts_in_binding_site', aggfunc='mean'),\n",
    "       'frac_muts_in_binding_site' + '_std_normed_by_mean': pd.NamedAgg(column='frac_muts_in_binding_site', aggfunc=lambda x: np.std(x) / np.max([1, np.mean(x)]))})\n",
    "info_summ['frac_muts_in_binding_site' + '_std'\n",
    "          ] = v['frac_muts_in_binding_site' + '_std']\n",
    "info_summ['frac_muts_in_binding_site' + '_mean'\n",
    "          ] = v['frac_muts_in_binding_site' + '_mean']\n"
   ]
  },
  {
   "cell_type": "code",
   "execution_count": null,
   "metadata": {},
   "outputs": [],
   "source": [
    "\n",
    "cols_to_norm = [\n",
    "    'binding_rates_dissociation_diffs',\n",
    "    'energies_diffs',\n",
    "    'eqconstants_diffs',\n",
    "]\n",
    "for c in cols_to_norm:\n",
    "    info_summ[c + '_std_normed_by_mean'] = info_summ[c + '_std'] / info_summ[c + '_mean']\n"
   ]
  },
  {
   "cell_type": "code",
   "execution_count": null,
   "metadata": {},
   "outputs": [],
   "source": [
    "\n",
    "sns.jointplot(info_summ, x='frac_muts_in_binding_site' + '_mean', y='binding_rates_dissociation_diffs' + '_std_normed_by_mean', hue='mutation_num')\n",
    "plt.yscale('log')"
   ]
  }
 ],
 "metadata": {
  "kernelspec": {
   "display_name": "env_circuits",
   "language": "python",
   "name": "python3"
  },
  "language_info": {
   "name": "python",
   "version": "3.10.6"
  },
  "orig_nbformat": 4
 },
 "nbformat": 4,
 "nbformat_minor": 2
}
