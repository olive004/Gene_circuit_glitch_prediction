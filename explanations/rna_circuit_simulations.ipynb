{
 "cells": [
  {
   "attachments": {},
   "cell_type": "markdown",
   "metadata": {},
   "source": [
    "# Basic RNA circuit simulation \n",
    "\n"
   ]
  },
  {
   "cell_type": "code",
   "execution_count": 1,
   "metadata": {},
   "outputs": [],
   "source": [
    "\n",
    "from bioreaction.simulation.med_sim import get_int_med_model, basic_de, MedSimParams, MedSimInternalState\n",
    "from bioreaction.model.data_tools import construct_model_fromnames\n",
    "from bioreaction.simulation.basic_sim import basic_de_sim, convert_model, BasicSimParams, BasicSimState\n",
    "from bioreaction.model.data_containers import Impulse\n",
    "import bioreaction\n",
    "\n",
    "from tqdm import tqdm\n",
    "import diffrax as dfx\n",
    "import jax\n",
    "import pandas as pd\n",
    "import jax.random as jr\n",
    "import jax.numpy as jnp\n",
    "import numpy as np\n",
    "from copy import deepcopy\n",
    "from functools import partial\n",
    "import os\n",
    "import sys\n",
    "\n",
    "from datetime import datetime\n",
    "import matplotlib.pyplot as plt\n",
    "import seaborn as sns\n",
    "plt.style.use('seaborn-v0_8-paper')\n",
    "os.environ[\"TF_CPP_MIN_LOG_LOVEL\"] = \"0\"\n",
    "jax.config.update('jax_platform_name', 'gpu')\n",
    "\n",
    "\n",
    "if __package__ is None:\n",
    "\n",
    "    module_path = os.path.abspath(os.path.join('..'))\n",
    "    sys.path.append(module_path)\n",
    "\n",
    "    __package__ = os.path.basename(module_path)\n",
    "\n",
    "\n",
    "from src.srv.io.manage.script_manager import script_preamble\n",
    "from src.utils.results.analytics.timeseries import generate_analytics, get_precision, get_sensitivity, get_step_response_times\n",
    "from src.utils.results.analytics.naming import get_true_names_analytics, get_true_interaction_cols\n",
    "from src.utils.misc.units import per_mol_to_per_molecule\n",
    "from src.utils.data.data_format_tools.common import load_json_as_dict\n",
    "from src.utils.common.setup_new import prepare_config\n",
    "from src.utils.circuit.agnostic_circuits.circuit_manager_new import CircuitModeller\n",
    "from tests_local.shared import five_circuits\n",
    "\n",
    "config = load_json_as_dict('../tests_local/configs/simple_circuit.json')\n"
   ]
  },
  {
   "cell_type": "code",
   "execution_count": 2,
   "metadata": {},
   "outputs": [],
   "source": [
    "\n",
    "\n",
    "\n",
    "def update_model_rates(model, a=None, d=None, ka=None, kd=None):\n",
    "    for i, r in enumerate(model.reactions):\n",
    "        if not r.input:  # 0 -> RNA\n",
    "            if a is not None:\n",
    "                model.reactions[i].forward_rate = a[model.species.index(\n",
    "                    r.output[0])]\n",
    "                model.reactions[i].reverse_rate = 0\n",
    "        elif not r.output:  # RNA -> 0\n",
    "            if d is not None:\n",
    "                model.reactions[i].forward_rate = d[model.species.index(\n",
    "                    r.input[0])]\n",
    "                model.reactions[i].reverse_rate = 0\n",
    "        else: # unbound RNA -> bound RNA\n",
    "            if ka is not None:\n",
    "                model.reactions[i].forward_rate = ka[model.species.index(r.input[0]),\n",
    "                                                     model.species.index(r.input[1])]\n",
    "            if kd is not None:\n",
    "                model.reactions[i].reverse_rate = kd[model.species.index(r.input[0]),\n",
    "                                                     model.species.index(r.input[1])]\n",
    "    return model\n",
    "\n",
    "\n",
    "def make_params(model, scale_rates=True):\n",
    "    sim_model = convert_model(model)\n",
    "\n",
    "    if scale_rates:\n",
    "        m = np.max([sim_model.forward_rates.max(), sim_model.reverse_rates.max()])\n",
    "    else:\n",
    "        m = 1\n",
    "    inputs = sim_model.inputs\n",
    "    outputs = sim_model.outputs\n",
    "    forward_rates = sim_model.forward_rates/m\n",
    "    reverse_rates = sim_model.reverse_rates/m\n",
    "    return inputs, outputs, forward_rates, reverse_rates, m"
   ]
  },
  {
   "attachments": {},
   "cell_type": "markdown",
   "metadata": {},
   "source": [
    "Make a model :)"
   ]
  },
  {
   "cell_type": "code",
   "execution_count": 3,
   "metadata": {},
   "outputs": [
    {
     "name": "stderr",
     "output_type": "stream",
     "text": [
      "xla_bridge.py:backends():355: Unable to initialize backend 'tpu_driver': NOT_FOUND: Unable to find driver in registry given worker:  INFO\n",
      "xla_bridge.py:backends():355: Unable to initialize backend 'rocm': NOT_FOUND: Could not find registered platform with name: \"rocm\". Available platform names are: Host CUDA Interpreter INFO\n",
      "xla_bridge.py:backends():355: Unable to initialize backend 'tpu': module 'jaxlib.xla_extension' has no attribute 'get_tpu_client' INFO\n",
      "xla_bridge.py:backends():355: Unable to initialize backend 'plugin': xla_extension has no attributes named get_plugin_device_client. Compile TensorFlow with //tensorflow/compiler/xla/python:enable_plugin_device set to true (defaults to false) to enable this. INFO\n",
      "experiment_loading.py:load_units():35: Units unknown - supply a valid experiment directory instead of ../tests_local/configs/binding_rates_dissociation/0_weak_binding_rates_dissociation.csv WARNING\n",
      "experiment_loading.py:load_units():35: Units unknown - supply a valid experiment directory instead of ../tests_local/configs/eqconstants/0_weak_eqconstants.csv WARNING\n",
      "experiment_loading.py:load_units():35: Units unknown - supply a valid experiment directory instead of ../tests_local/configs/binding_rates_dissociation/1_med_weak_binding_rates_dissociation.csv WARNING\n",
      "experiment_loading.py:load_units():35: Units unknown - supply a valid experiment directory instead of ../tests_local/configs/eqconstants/1_med_weak_eqconstants.csv WARNING\n",
      "experiment_loading.py:load_units():35: Units unknown - supply a valid experiment directory instead of ../tests_local/configs/binding_rates_dissociation/2_medium_binding_rates_dissociation.csv WARNING\n",
      "experiment_loading.py:load_units():35: Units unknown - supply a valid experiment directory instead of ../tests_local/configs/eqconstants/2_medium_eqconstants.csv WARNING\n",
      "experiment_loading.py:load_units():35: Units unknown - supply a valid experiment directory instead of ../tests_local/configs/binding_rates_dissociation/3_med_strong_binding_rates_dissociation.csv WARNING\n",
      "experiment_loading.py:load_units():35: Units unknown - supply a valid experiment directory instead of ../tests_local/configs/eqconstants/3_med_strong_eqconstants.csv WARNING\n",
      "experiment_loading.py:load_units():35: Units unknown - supply a valid experiment directory instead of ../tests_local/configs/binding_rates_dissociation/4_strong_binding_rates_dissociation.csv WARNING\n",
      "experiment_loading.py:load_units():35: Units unknown - supply a valid experiment directory instead of ../tests_local/configs/eqconstants/4_strong_eqconstants.csv WARNING\n"
     ]
    }
   ],
   "source": [
    "config = prepare_config(config)\n",
    "circuits, config, result_writer = five_circuits(config)\n"
   ]
  },
  {
   "cell_type": "code",
   "execution_count": 4,
   "metadata": {},
   "outputs": [
    {
     "name": "stderr",
     "output_type": "stream",
     "text": [
      "simulator.py:check_IntaRNA_path():116: Could not detect IntaRNA on system: CompletedProcess(args='which IntaRNA', returncode=1, stdout='', stderr='') WARNING\n",
      "circuit_manager_new.py:prepare_internal_funcs():446: Signal differs between circuits, but only first signal used for simulation. WARNING\n",
      "circuit_manager_new.py:batch_circuits():516: \tFrom 5 circuits, a total of 5 mutated circuits will be simulated. WARNING\n",
      "circuit_manager_new.py:batch_circuits():523: \t\tStarting new round of viable circuits (0 - 5 / 5) WARNING\n",
      "circuit_manager_new.py:batch_circuits():541: \t\tMaking subcircuits 0 - 5 took 1.3e-05s WARNING\n",
      "circuit_manager_new.py:batch_circuits():547: \tBatching 0 - 5 circuits (out of 0 - 5 (total: 5)) (Circuits: 0 - 5 of 5) WARNING\n",
      "circuit_manager_new.py:run_batch():578: \t\tRunning 5 Subcircuits - 0_weak: compute_interactions WARNING\n",
      "circuit_manager_new.py:run_batch():614: \t\tMethod compute_interactions took 0.063911s WARNING\n",
      "circuit_manager_new.py:run_batch():578: \t\tRunning 5 Subcircuits - 0_weak: init_circuits WARNING\n"
     ]
    },
    {
     "name": "stdout",
     "output_type": "stream",
     "text": [
      "Steady states:  100  iterations.  45  left to steady out.  0:00:02.988319\n"
     ]
    },
    {
     "ename": "KeyboardInterrupt",
     "evalue": "",
     "output_type": "error",
     "traceback": [
      "\u001b[0;31m---------------------------------------------------------------------------\u001b[0m",
      "\u001b[0;31mKeyboardInterrupt\u001b[0m                         Traceback (most recent call last)",
      "Cell \u001b[0;32mIn[4], line 2\u001b[0m\n\u001b[1;32m      1\u001b[0m circuit_modeller \u001b[39m=\u001b[39m CircuitModeller(result_writer\u001b[39m=\u001b[39mresult_writer, config\u001b[39m=\u001b[39mconfig)\n\u001b[0;32m----> 2\u001b[0m circuit_modeller\u001b[39m.\u001b[39;49mbatch_circuits(\n\u001b[1;32m      3\u001b[0m     circuits\u001b[39m=\u001b[39;49mcircuits,\n\u001b[1;32m      4\u001b[0m     methods\u001b[39m=\u001b[39;49m{\n\u001b[1;32m      5\u001b[0m         \u001b[39m\"\u001b[39;49m\u001b[39mcompute_interactions\u001b[39;49m\u001b[39m\"\u001b[39;49m: {},\n\u001b[1;32m      6\u001b[0m         \u001b[39m\"\u001b[39;49m\u001b[39minit_circuits\u001b[39;49m\u001b[39m\"\u001b[39;49m: {\u001b[39m'\u001b[39;49m\u001b[39mbatch\u001b[39;49m\u001b[39m'\u001b[39;49m: \u001b[39mTrue\u001b[39;49;00m},\n\u001b[1;32m      7\u001b[0m         \u001b[39m'\u001b[39;49m\u001b[39msimulate_signal_batch\u001b[39;49m\u001b[39m'\u001b[39;49m: {\u001b[39m'\u001b[39;49m\u001b[39mref_circuit\u001b[39;49m\u001b[39m'\u001b[39;49m: \u001b[39mNone\u001b[39;49;00m,\n\u001b[1;32m      8\u001b[0m                                   \u001b[39m'\u001b[39;49m\u001b[39mbatch\u001b[39;49m\u001b[39m'\u001b[39;49m: config[\u001b[39m'\u001b[39;49m\u001b[39msimulation\u001b[39;49m\u001b[39m'\u001b[39;49m][\u001b[39m'\u001b[39;49m\u001b[39muse_batch_mutations\u001b[39;49m\u001b[39m'\u001b[39;49m]},\n\u001b[1;32m      9\u001b[0m         \u001b[39m'\u001b[39;49m\u001b[39mwrite_results\u001b[39;49m\u001b[39m'\u001b[39;49m: {\u001b[39m'\u001b[39;49m\u001b[39mno_visualisations\u001b[39;49m\u001b[39m'\u001b[39;49m: \u001b[39mFalse\u001b[39;49;00m, \u001b[39m# config['experiment']['no_visualisations'],\u001b[39;49;00m\n\u001b[1;32m     10\u001b[0m                           \u001b[39m'\u001b[39;49m\u001b[39mno_numerical\u001b[39;49m\u001b[39m'\u001b[39;49m: \u001b[39mFalse\u001b[39;49;00m} \u001b[39m#config['experiment']['no_numerical']}\u001b[39;49;00m\n\u001b[1;32m     11\u001b[0m     }\n\u001b[1;32m     12\u001b[0m )\n",
      "File \u001b[0;32m~/Kode/gene-circuit-glitch-prediction/src/utils/circuit/agnostic_circuits/circuit_manager_new.py:555\u001b[0m, in \u001b[0;36mCircuitModeller.batch_circuits\u001b[0;34m(self, circuits, methods, batch_size, include_normal_run, write_to_subsystem)\u001b[0m\n\u001b[1;32m    553\u001b[0m     \u001b[39mif\u001b[39;00m \u001b[39mnot\u001b[39;00m b_circuits:\n\u001b[1;32m    554\u001b[0m         \u001b[39mcontinue\u001b[39;00m\n\u001b[0;32m--> 555\u001b[0m     ref_circuit \u001b[39m=\u001b[39m \u001b[39mself\u001b[39;49m\u001b[39m.\u001b[39;49mrun_batch(\n\u001b[1;32m    556\u001b[0m         b_circuits, methods, leading_ref_circuit\u001b[39m=\u001b[39;49mref_circuit,\n\u001b[1;32m    557\u001b[0m         include_normal_run\u001b[39m=\u001b[39;49minclude_normal_run,\n\u001b[1;32m    558\u001b[0m         write_to_subsystem\u001b[39m=\u001b[39;49mwrite_to_subsystem)\n\u001b[1;32m    560\u001b[0m single_batch_time \u001b[39m=\u001b[39m datetime\u001b[39m.\u001b[39mnow() \u001b[39m-\u001b[39m single_batch_time\n\u001b[1;32m    561\u001b[0m logging\u001b[39m.\u001b[39mwarning(\n\u001b[1;32m    562\u001b[0m     \u001b[39mf\u001b[39m\u001b[39m'\u001b[39m\u001b[39mSingle batch: \u001b[39m\u001b[39m{\u001b[39;00msingle_batch_time\u001b[39m}\u001b[39;00m\u001b[39m \u001b[39m\u001b[39m\\n\u001b[39;00m\u001b[39mProjected time: \u001b[39m\u001b[39m{\u001b[39;00msingle_batch_time\u001b[39m.\u001b[39mtotal_seconds() \u001b[39m*\u001b[39m \u001b[39mlen\u001b[39m(circuits)\u001b[39m/\u001b[39mviable_circuit_num\u001b[39m}\u001b[39;00m\u001b[39ms \u001b[39m\u001b[39m\\n\u001b[39;00m\u001b[39mTotal time: \u001b[39m\u001b[39m{\u001b[39;00m\u001b[39mstr\u001b[39m(datetime\u001b[39m.\u001b[39mnow() \u001b[39m-\u001b[39m start_time)\u001b[39m}\u001b[39;00m\u001b[39m'\u001b[39m)\n",
      "File \u001b[0;32m~/Kode/gene-circuit-glitch-prediction/src/utils/circuit/agnostic_circuits/circuit_manager_new.py:585\u001b[0m, in \u001b[0;36mCircuitModeller.run_batch\u001b[0;34m(self, subcircuits, methods, leading_ref_circuit, include_normal_run, write_to_subsystem)\u001b[0m\n\u001b[1;32m    583\u001b[0m     \u001b[39mif\u001b[39;00m \u001b[39m'\u001b[39m\u001b[39mref_circuit\u001b[39m\u001b[39m'\u001b[39m \u001b[39min\u001b[39;00m inspect\u001b[39m.\u001b[39mgetfullargspec(\u001b[39mgetattr\u001b[39m(\u001b[39mself\u001b[39m, method))\u001b[39m.\u001b[39margs:\n\u001b[1;32m    584\u001b[0m         kwargs\u001b[39m.\u001b[39mupdate({\u001b[39m'\u001b[39m\u001b[39mref_circuit\u001b[39m\u001b[39m'\u001b[39m: ref_circuit})\n\u001b[0;32m--> 585\u001b[0m     subcircuits \u001b[39m=\u001b[39m \u001b[39mgetattr\u001b[39;49m(\u001b[39mself\u001b[39;49m, method)(subcircuits, \u001b[39m*\u001b[39;49m\u001b[39m*\u001b[39;49mkwargs)\n\u001b[1;32m    586\u001b[0m \u001b[39melse\u001b[39;00m:\n\u001b[1;32m    587\u001b[0m     logging\u001b[39m.\u001b[39mwarning(\n\u001b[1;32m    588\u001b[0m         \u001b[39mf\u001b[39m\u001b[39m'\u001b[39m\u001b[39mCould not find method @\u001b[39m\u001b[39m{\u001b[39;00mmethod\u001b[39m}\u001b[39;00m\u001b[39m in class \u001b[39m\u001b[39m{\u001b[39;00m\u001b[39mself\u001b[39m\u001b[39m}\u001b[39;00m\u001b[39m'\u001b[39m)\n",
      "File \u001b[0;32m~/Kode/gene-circuit-glitch-prediction/src/utils/circuit/agnostic_circuits/circuit_manager_new.py:73\u001b[0m, in \u001b[0;36mCircuitModeller.init_circuits\u001b[0;34m(self, circuits, batch)\u001b[0m\n\u001b[1;32m     72\u001b[0m \u001b[39mdef\u001b[39;00m \u001b[39minit_circuits\u001b[39m(\u001b[39mself\u001b[39m, circuits: List[Circuit], batch\u001b[39m=\u001b[39m\u001b[39mTrue\u001b[39;00m) \u001b[39m-\u001b[39m\u001b[39m>\u001b[39m List[Circuit]:\n\u001b[0;32m---> 73\u001b[0m     circuits \u001b[39m=\u001b[39m \u001b[39mself\u001b[39;49m\u001b[39m.\u001b[39;49mfind_steady_states(circuits)\n\u001b[1;32m     74\u001b[0m     \u001b[39mif\u001b[39;00m \u001b[39mself\u001b[39m\u001b[39m.\u001b[39msteady_state_args\u001b[39m.\u001b[39mget(\u001b[39m'\u001b[39m\u001b[39muse_rate_scaling\u001b[39m\u001b[39m'\u001b[39m, \u001b[39mTrue\u001b[39;00m):\n\u001b[1;32m     75\u001b[0m         circuits \u001b[39m=\u001b[39m \u001b[39mself\u001b[39m\u001b[39m.\u001b[39mscale_rates(circuits)\n",
      "File \u001b[0;32m~/Kode/gene-circuit-glitch-prediction/src/utils/circuit/agnostic_circuits/circuit_manager_new.py:122\u001b[0m, in \u001b[0;36mCircuitModeller.find_steady_states\u001b[0;34m(self, circuits, batch)\u001b[0m\n\u001b[1;32m    117\u001b[0m \u001b[39mdef\u001b[39;00m \u001b[39mfind_steady_states\u001b[39m(\u001b[39mself\u001b[39m, circuits: List[Circuit], batch\u001b[39m=\u001b[39m\u001b[39mTrue\u001b[39;00m) \u001b[39m-\u001b[39m\u001b[39m>\u001b[39m List[Circuit]:\n\u001b[1;32m    118\u001b[0m     modeller_steady_state \u001b[39m=\u001b[39m Deterministic(\n\u001b[1;32m    119\u001b[0m         max_time\u001b[39m=\u001b[39m\u001b[39mself\u001b[39m\u001b[39m.\u001b[39msteady_state_args[\u001b[39m'\u001b[39m\u001b[39mmax_time\u001b[39m\u001b[39m'\u001b[39m],\n\u001b[1;32m    120\u001b[0m         time_interval\u001b[39m=\u001b[39m\u001b[39mself\u001b[39m\u001b[39m.\u001b[39msteady_state_args[\u001b[39m'\u001b[39m\u001b[39mtime_interval\u001b[39m\u001b[39m'\u001b[39m])\n\u001b[0;32m--> 122\u001b[0m     b_steady_states, t \u001b[39m=\u001b[39m \u001b[39mself\u001b[39;49m\u001b[39m.\u001b[39;49mcompute_steady_states(modeller_steady_state,\n\u001b[1;32m    123\u001b[0m                                                     circuits\u001b[39m=\u001b[39;49mcircuits,\n\u001b[1;32m    124\u001b[0m                                                     solver_type\u001b[39m=\u001b[39;49m\u001b[39mself\u001b[39;49m\u001b[39m.\u001b[39;49msteady_state_args[\u001b[39m'\u001b[39;49m\u001b[39msteady_state_solver\u001b[39;49m\u001b[39m'\u001b[39;49m],\n\u001b[1;32m    125\u001b[0m                                                     use_zero_rates\u001b[39m=\u001b[39;49m\u001b[39mself\u001b[39;49m\u001b[39m.\u001b[39;49msteady_state_args[\u001b[39m'\u001b[39;49m\u001b[39muse_zero_rates\u001b[39;49m\u001b[39m'\u001b[39;49m])\n\u001b[1;32m    127\u001b[0m     \u001b[39mfor\u001b[39;00m circuit, steady_states \u001b[39min\u001b[39;00m \u001b[39mzip\u001b[39m(circuits, b_steady_states):\n\u001b[1;32m    128\u001b[0m         circuit\u001b[39m.\u001b[39mresult_collector\u001b[39m.\u001b[39madd_result(\n\u001b[1;32m    129\u001b[0m             data\u001b[39m=\u001b[39msteady_states,\n\u001b[1;32m    130\u001b[0m             name\u001b[39m=\u001b[39m\u001b[39m'\u001b[39m\u001b[39msteady_states\u001b[39m\u001b[39m'\u001b[39m,\n\u001b[0;32m   (...)\u001b[0m\n\u001b[1;32m    137\u001b[0m                 s\u001b[39m.\u001b[39mname \u001b[39mfor\u001b[39;00m s \u001b[39min\u001b[39;00m circuit\u001b[39m.\u001b[39mmodel\u001b[39m.\u001b[39mspecies]},\n\u001b[1;32m    138\u001b[0m             no_write\u001b[39m=\u001b[39m\u001b[39mFalse\u001b[39;00m)\n",
      "File \u001b[0;32m~/Kode/gene-circuit-glitch-prediction/src/utils/circuit/agnostic_circuits/circuit_manager_new.py:192\u001b[0m, in \u001b[0;36mCircuitModeller.compute_steady_states\u001b[0;34m(self, modeller, circuits, solver_type, use_zero_rates)\u001b[0m\n\u001b[1;32m    178\u001b[0m     sim_func \u001b[39m=\u001b[39m jax\u001b[39m.\u001b[39mjit(jax\u001b[39m.\u001b[39mvmap(partial(bioreaction_sim_dfx_expanded,\n\u001b[1;32m    179\u001b[0m                                 t0\u001b[39m=\u001b[39m\u001b[39mself\u001b[39m\u001b[39m.\u001b[39mt0, t1\u001b[39m=\u001b[39m\u001b[39mself\u001b[39m\u001b[39m.\u001b[39mt1, dt0\u001b[39m=\u001b[39m\u001b[39mself\u001b[39m\u001b[39m.\u001b[39mdt,\n\u001b[1;32m    180\u001b[0m                                 signal\u001b[39m=\u001b[39mvanilla_return, signal_onehot\u001b[39m=\u001b[39mnp\u001b[39m.\u001b[39mzeros(\n\u001b[0;32m   (...)\u001b[0m\n\u001b[1;32m    187\u001b[0m                                     ts\u001b[39m=\u001b[39mnp\u001b[39m.\u001b[39mlinspace(\u001b[39mself\u001b[39m\u001b[39m.\u001b[39mt0, \u001b[39mself\u001b[39m\u001b[39m.\u001b[39mt1, \u001b[39mint\u001b[39m(np\u001b[39m.\u001b[39mmin([\u001b[39m200\u001b[39m, \u001b[39mself\u001b[39m\u001b[39m.\u001b[39mt1\u001b[39m-\u001b[39m\u001b[39mself\u001b[39m\u001b[39m.\u001b[39mt0]))))\n\u001b[1;32m    188\u001b[0m                                 )))\n\u001b[1;32m    190\u001b[0m     starting_states \u001b[39m=\u001b[39m np\u001b[39m.\u001b[39masarray(\n\u001b[1;32m    191\u001b[0m         [c\u001b[39m.\u001b[39mqreactions\u001b[39m.\u001b[39mquantities \u001b[39mfor\u001b[39;00m c \u001b[39min\u001b[39;00m circuits])\n\u001b[0;32m--> 192\u001b[0m     b_copynumbers, t \u001b[39m=\u001b[39m simulate_steady_states(\n\u001b[1;32m    193\u001b[0m         y0\u001b[39m=\u001b[39;49mstarting_states, total_time\u001b[39m=\u001b[39;49m\u001b[39mself\u001b[39;49m\u001b[39m.\u001b[39;49mtmax, sim_func\u001b[39m=\u001b[39;49msim_func,\n\u001b[1;32m    194\u001b[0m         t0\u001b[39m=\u001b[39;49m\u001b[39mself\u001b[39;49m\u001b[39m.\u001b[39;49mt0, t1\u001b[39m=\u001b[39;49m\u001b[39mself\u001b[39;49m\u001b[39m.\u001b[39;49mt1,\n\u001b[1;32m    195\u001b[0m         threshold\u001b[39m=\u001b[39;49m\u001b[39mself\u001b[39;49m\u001b[39m.\u001b[39;49mthreshold_steady_states, reverse_rates\u001b[39m=\u001b[39;49mreverse_rates)\n\u001b[1;32m    197\u001b[0m     b_copynumbers \u001b[39m=\u001b[39m np\u001b[39m.\u001b[39mswapaxes(b_copynumbers, \u001b[39m1\u001b[39m, \u001b[39m2\u001b[39m)\n\u001b[1;32m    199\u001b[0m \u001b[39mreturn\u001b[39;00m np\u001b[39m.\u001b[39masarray(b_copynumbers), np\u001b[39m.\u001b[39msqueeze(t)\n",
      "File \u001b[0;32m~/Kode/core-bioreaction-simulation/src/bioreaction/simulation/manager.py:44\u001b[0m, in \u001b[0;36msimulate_steady_states\u001b[0;34m(y0, total_time, sim_func, t0, t1, threshold, disable_logging, **sim_kwargs)\u001b[0m\n\u001b[1;32m     41\u001b[0m \u001b[39melse\u001b[39;00m:\n\u001b[1;32m     42\u001b[0m     y00 \u001b[39m=\u001b[39m ys[:, \u001b[39m-\u001b[39m\u001b[39m1\u001b[39m, :]\n\u001b[0;32m---> 44\u001b[0m x_res \u001b[39m=\u001b[39m sim_func(y00, \u001b[39m*\u001b[39;49m\u001b[39m*\u001b[39;49msim_kwargs)\n\u001b[1;32m     46\u001b[0m \u001b[39mif\u001b[39;00m np\u001b[39m.\u001b[39msum(np\u001b[39m.\u001b[39margmax(x_res\u001b[39m.\u001b[39mts \u001b[39m>\u001b[39m\u001b[39m=\u001b[39m np\u001b[39m.\u001b[39minf)) \u001b[39m>\u001b[39m \u001b[39m0\u001b[39m:\n\u001b[1;32m     47\u001b[0m     ys \u001b[39m=\u001b[39m x_res\u001b[39m.\u001b[39mys[:, :np\u001b[39m.\u001b[39margmax(x_res\u001b[39m.\u001b[39mts \u001b[39m>\u001b[39m\u001b[39m=\u001b[39m np\u001b[39m.\u001b[39minf), :]\n",
      "    \u001b[0;31m[... skipping hidden 1 frame]\u001b[0m\n",
      "File \u001b[0;32m~/Kode/env_circuits/lib/python3.10/site-packages/jax/_src/api.py:623\u001b[0m, in \u001b[0;36m_cpp_jit.<locals>.cache_miss\u001b[0;34m(*args, **kwargs)\u001b[0m\n\u001b[1;32m    620\u001b[0m \u001b[39mif\u001b[39;00m \u001b[39misinstance\u001b[39m(top_trace, core\u001b[39m.\u001b[39mEvalTrace) \u001b[39mand\u001b[39;00m \u001b[39mnot\u001b[39;00m (\n\u001b[1;32m    621\u001b[0m     jax\u001b[39m.\u001b[39mconfig\u001b[39m.\u001b[39mjax_debug_nans \u001b[39mor\u001b[39;00m jax\u001b[39m.\u001b[39mconfig\u001b[39m.\u001b[39mjax_debug_infs):\n\u001b[1;32m    622\u001b[0m   execute \u001b[39m=\u001b[39m dispatch\u001b[39m.\u001b[39m_xla_call_impl_lazy(fun_, \u001b[39m*\u001b[39mtracers, \u001b[39m*\u001b[39m\u001b[39m*\u001b[39mparams)\n\u001b[0;32m--> 623\u001b[0m   out_flat \u001b[39m=\u001b[39m call_bind_continuation(execute(\u001b[39m*\u001b[39;49margs_flat))\n\u001b[1;32m    624\u001b[0m \u001b[39melse\u001b[39;00m:\n\u001b[1;32m    625\u001b[0m   out_flat \u001b[39m=\u001b[39m call_bind_continuation(\n\u001b[1;32m    626\u001b[0m       top_trace\u001b[39m.\u001b[39mprocess_call(primitive, fun_, tracers, params))\n",
      "File \u001b[0;32m~/Kode/env_circuits/lib/python3.10/site-packages/jax/_src/profiler.py:314\u001b[0m, in \u001b[0;36mannotate_function.<locals>.wrapper\u001b[0;34m(*args, **kwargs)\u001b[0m\n\u001b[1;32m    311\u001b[0m \u001b[39m@wraps\u001b[39m(func)\n\u001b[1;32m    312\u001b[0m \u001b[39mdef\u001b[39;00m \u001b[39mwrapper\u001b[39m(\u001b[39m*\u001b[39margs, \u001b[39m*\u001b[39m\u001b[39m*\u001b[39mkwargs):\n\u001b[1;32m    313\u001b[0m   \u001b[39mwith\u001b[39;00m TraceAnnotation(name, \u001b[39m*\u001b[39m\u001b[39m*\u001b[39mdecorator_kwargs):\n\u001b[0;32m--> 314\u001b[0m     \u001b[39mreturn\u001b[39;00m func(\u001b[39m*\u001b[39;49margs, \u001b[39m*\u001b[39;49m\u001b[39m*\u001b[39;49mkwargs)\n\u001b[1;32m    315\u001b[0m   \u001b[39mreturn\u001b[39;00m wrapper\n",
      "File \u001b[0;32m~/Kode/env_circuits/lib/python3.10/site-packages/jax/interpreters/pxla.py:2136\u001b[0m, in \u001b[0;36mExecuteReplicated.__call__\u001b[0;34m(self, *args)\u001b[0m\n\u001b[1;32m   2134\u001b[0m   out_bufs \u001b[39m=\u001b[39m \u001b[39mself\u001b[39m\u001b[39m.\u001b[39m_call_with_tokens(input_bufs)\n\u001b[1;32m   2135\u001b[0m \u001b[39melse\u001b[39;00m:\n\u001b[0;32m-> 2136\u001b[0m   out_bufs \u001b[39m=\u001b[39m \u001b[39mself\u001b[39;49m\u001b[39m.\u001b[39;49mxla_executable\u001b[39m.\u001b[39;49mexecute_sharded_on_local_devices(\n\u001b[1;32m   2137\u001b[0m       input_bufs)\n\u001b[1;32m   2138\u001b[0m \u001b[39mif\u001b[39;00m dispatch\u001b[39m.\u001b[39mneeds_check_special():\n\u001b[1;32m   2139\u001b[0m   \u001b[39mfor\u001b[39;00m bufs \u001b[39min\u001b[39;00m out_bufs:\n",
      "\u001b[0;31mKeyboardInterrupt\u001b[0m: "
     ]
    }
   ],
   "source": [
    "\n",
    "circuit_modeller = CircuitModeller(result_writer=result_writer, config=config)\n",
    "circuit_modeller.batch_circuits(\n",
    "    circuits=circuits,\n",
    "    methods={\n",
    "        \"compute_interactions\": {},\n",
    "        \"init_circuits\": {'batch': True},\n",
    "        'simulate_signal_batch': {'ref_circuit': None,\n",
    "                                  'batch': config['simulation']['use_batch_mutations']},\n",
    "        'write_results': {'no_visualisations': False, # config['experiment']['no_visualisations'],\n",
    "                          'no_numerical': False} #config['experiment']['no_numerical']}\n",
    "    }\n",
    ")\n"
   ]
  },
  {
   "cell_type": "markdown",
   "metadata": {},
   "source": []
  }
 ],
 "metadata": {
  "kernelspec": {
   "display_name": "env_circuits",
   "language": "python",
   "name": "python3"
  },
  "language_info": {
   "codemirror_mode": {
    "name": "ipython",
    "version": 3
   },
   "file_extension": ".py",
   "mimetype": "text/x-python",
   "name": "python",
   "nbconvert_exporter": "python",
   "pygments_lexer": "ipython3",
   "version": "3.10.6"
  },
  "orig_nbformat": 4
 },
 "nbformat": 4,
 "nbformat_minor": 2
}
