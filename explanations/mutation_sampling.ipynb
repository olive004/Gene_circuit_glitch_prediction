{
 "cells": [
  {
   "attachments": {},
   "cell_type": "markdown",
   "metadata": {},
   "source": [
    "# Sampling the sequence space for mutations\n",
    "\n",
    "In biological sequence spaces (DNA, RNA, and proteins), the possible search space is vast and high dimensional. The further a biological sequence mutates away from its original sequence, the more unpredictable the final behavior of the system becomes, with mutations often layering on top of each other at the sequence level in a way that translates non-linearly to the higher order structures - the phenomenon of epistasis. To explore the local mutational landscape required sampling both a well-chosen set of starting sequences and sufficient sampling in their surroundings. \n",
    "\n",
    "Finding good starting sequences has a few caveats. The goal of genetic circuits is to actuate some behavior through the interactions of its components in response to a signal. Therefore, sequences that have combinations of weak or strong interactions are desirable. However, the vast majority of sequence space has weak interactions and is thus non-functional, meaning pairs of sequences have extremely weak binding. Finding sequences that can bind to each other strongly is a prerequisite, but the total sampling of the possible circuit space should still be diverse enough to capture many different types of circuits.\n",
    "\n",
    "For RNA and DNA, complementarity can be used as a way to guarantee binding. Random sampling of the sequence space can be followed up with induced complementarity, for example by delegating one circuit component as a template, then reserving portions of the other components to be complementary to the template strand. The degree and patterning of this induced complementarity can be varied depending on the number of strands and the level of intervention desired. The `SeqGenerator` class therefore has four different ways to generate the components of a genetic circuit, termed 'protocols'. Their differences are demonstrated below."
   ]
  },
  {
   "cell_type": "code",
   "execution_count": 2,
   "metadata": {},
   "outputs": [],
   "source": [
    "import sys\n",
    "import os\n",
    "import Bio\n",
    "import numpy as np\n",
    "\n",
    "\n",
    "if __package__ is None:\n",
    "\n",
    "    module_path = os.path.abspath(os.path.join('..'))\n",
    "    sys.path.append(module_path)\n",
    "\n",
    "    __package__ = os.path.basename(module_path)\n",
    "\n",
    "\n",
    "from src.utils.common.setup_new import construct_circuit_from_cfg, prepare_config\n",
    "from src.utils.data.data_format_tools.common import load_json_as_dict\n",
    "from src.utils.data.data_format_tools.manipulate_fasta import load_seq_from_FASTA\n",
    "from src.utils.data.fake_data_generation.seq_generator import RNAGenerator\n",
    "from src.utils.evolution.evolver import Evolver\n",
    "from src.utils.misc.type_handling import flatten_listlike, flatten_nested_dict\n",
    "from src.utils.results.result_writer import ResultWriter\n",
    "\n",
    "\n",
    "config = load_json_as_dict(os.path.join('..', 'tests', 'configs', 'simple_circuit.json'))\n"
   ]
  },
  {
   "cell_type": "code",
   "execution_count": 3,
   "metadata": {},
   "outputs": [],
   "source": [
    "data_writer = ResultWriter(purpose='tests')"
   ]
  },
  {
   "cell_type": "code",
   "execution_count": 4,
   "metadata": {},
   "outputs": [],
   "source": [
    "paths_circuits = RNAGenerator(data_writer=data_writer).generate_circuits_batch(\n",
    "            name='toy_RNGA',\n",
    "            num_circuits=10,\n",
    "            num_components=3, \n",
    "            slength=20,\n",
    "            proportion_to_mutate=0.5,\n",
    "            protocol='random',\n",
    "            template=None)\n",
    "\n",
    "samples = [None] * 10\n",
    "for i, p in enumerate(paths_circuits):\n",
    "    samples[i] = load_seq_from_FASTA(list(p.values())[0], as_type='dict')\n",
    "    # construct_circuit_from_cfg(config)"
   ]
  },
  {
   "cell_type": "code",
   "execution_count": 5,
   "metadata": {},
   "outputs": [
    {
     "data": {
      "text/plain": [
       "{'RNA_0': 'GGGGCGCUUCUGGUAAAUUU',\n",
       " 'RNA_1': 'CGCAAAGCGUUAGCAUCCGU',\n",
       " 'RNA_2': 'CUAUUCCAGAACAAAAAAAG'}"
      ]
     },
     "execution_count": 5,
     "metadata": {},
     "output_type": "execute_result"
    }
   ],
   "source": [
    "samples[0]"
   ]
  },
  {
   "cell_type": "code",
   "execution_count": 6,
   "metadata": {},
   "outputs": [
    {
     "name": "stdout",
     "output_type": "stream",
     "text": [
      "Reference alignment (perfect complementarity):  20.0\n",
      "Alignment scores for complements in circuits: \n",
      "[ 6.  8.  9. 10. 11. 12. 13. 14.]\n",
      "target            0 GGGGCGCUUCU-G-GUAA-A---UUU--- 20\n",
      "                  0 ----|-|--|--|-|-||-|---|||--- 29\n",
      "query             0 ----C-C--C-CGCG-AAGACCAUUUAAA 20\n",
      "\n",
      "target            0 UUCUA-GAUGCCU-CG-AGGG-UG----- 20\n",
      "                  0 ----|-|||-|-|-||-||---|------ 29\n",
      "query             0 ----AAGAU-C-UACGGAG--CU-CCCAC 20\n",
      "\n",
      "target            0 CCGAGGAAC-CGCUAAA-GA-C-A------- 20\n",
      "                  0 --|-|---|-|-||----|--|-|------- 31\n",
      "query             0 --G-G---CUC-CU---UG-GCGAUUUCUGU 20\n",
      "\n"
     ]
    }
   ],
   "source": [
    "from Bio import Align\n",
    "\n",
    "samples_names = sorted(set(flatten_listlike([list(s.keys()) for s in samples])))\n",
    "aligner = Align.PairwiseAligner()\n",
    "ref_aligments = aligner.align(samples[0][samples_names[0]], samples[0][samples_names[0]])\n",
    "alignments = flatten_listlike(flatten_listlike([[[aligner.align(s[k1], Bio.Seq.complement_rna(s[k2])) for s in samples] for k1 in samples_names] for k2 in samples_names]))\n",
    "# print(alignments[0][0])\n",
    "print('Reference alignment (perfect complementarity): ', ref_aligments[0].score)\n",
    "print('Alignment scores for complements in circuits: ')\n",
    "print(np.unique([a.score for a in alignments]))\n",
    "for a in alignments[:3]:\n",
    "    print(a[0])"
   ]
  },
  {
   "attachments": {},
   "cell_type": "markdown",
   "metadata": {},
   "source": [
    "Now we will compare the random sequence generation to the similarity scores produced by heuristic complementarity-inducing methods."
   ]
  },
  {
   "cell_type": "code",
   "execution_count": 55,
   "metadata": {},
   "outputs": [
    {
     "data": {
      "text/plain": [
       "[{'RNA_0': 'GGGCGCGCCCAGUGAAAUCC',\n",
       "  'RNA_1': 'CCGGCCCGCGUGACAUUUGG',\n",
       "  'RNA_2': 'CGCGGGCCGGACAGUUAAGC'}]"
      ]
     },
     "execution_count": 55,
     "metadata": {},
     "output_type": "execute_result"
    }
   ],
   "source": [
    "good_template = 'GCCCCGGGGCUCUCUAUACG'  # toy_mRNA_circuit_133814, ensemble_generate_circuits/2023_02_24_170946/generate_species_templates/circuits\n",
    "bad_template = 'UAGCCCUUGAUAAGGGCUAA'   # ensemble_generate_circuits/2023_02_24_170946/generate_species_templates/circuits/toy_mRNA_circuit_0.fasta\n",
    "\n",
    "templates = {'strong': good_template, 'weak': bad_template}\n",
    "protocols = ['template_mix', 'template_mutate', 'template_split']\n",
    "path_dict = {}\n",
    "i = 0\n",
    "for n, t in templates.items():\n",
    "    path_dict[n] = {}\n",
    "    for p in protocols:\n",
    "        np.random.seed(i)\n",
    "        i+= 1\n",
    "        num_circuits = 10 if p == 'template_mutate' else 1\n",
    "        path_dict[n][p] = RNAGenerator(data_writer=data_writer).generate_circuits_batch(\n",
    "            name=f'toy_RNA_{n}_{p}',\n",
    "            num_circuits=num_circuits,\n",
    "            num_components=3,\n",
    "            slength=20,\n",
    "            proportion_to_mutate=0.5,\n",
    "            protocol=p,\n",
    "            template=t)\n",
    "\n",
    "templated_samples = path_dict\n",
    "for n, v in path_dict.items():\n",
    "    for prot, paths in v.items():\n",
    "        templated_samples[n][prot] = [load_seq_from_FASTA(list(pv.values())[0], as_type='dict') for pv in paths]\n",
    "    # construct_circuit_from_cfg(config)\n",
    "templated_samples['strong']['template_mix'][:3]\n"
   ]
  },
  {
   "cell_type": "code",
   "execution_count": 56,
   "metadata": {},
   "outputs": [],
   "source": [
    "\n",
    "templated_alignments = {}\n",
    "templated_alignments_flat = []\n",
    "for n, v in templated_samples.items():\n",
    "    templated_alignments[n] = {}\n",
    "    for prot, seqs in v.items():\n",
    "        templated_alignments[n][prot] = {}\n",
    "        for i, s in enumerate(templated_samples[n][prot]):\n",
    "            templated_alignments[n][prot][i] = {}\n",
    "            for k1 in samples_names:\n",
    "                templated_alignments[n][prot][i][k1] = {}\n",
    "                for k2 in samples_names:\n",
    "                    templated_alignments[n][prot][i][k1][k2] = aligner.align(s[k1], Bio.Seq.complement_rna(s[k2]))\n",
    "                    templated_alignments_flat.append(templated_alignments[n][prot][i][k1][k2])\n",
    "        # flatten_listlike(flatten_listlike([[[aligner.align(s[k1], Bio.Seq.complement_rna(\n",
    "        #     s[k2])) for k1 in samples_names] for k2 in samples_names] for s in templated_samples[n][prot]]))\n",
    "\n"
   ]
  },
  {
   "cell_type": "code",
   "execution_count": 57,
   "metadata": {},
   "outputs": [
    {
     "name": "stdout",
     "output_type": "stream",
     "text": [
      "Alignment scores for complements in circuits: \n",
      "[ 7.  8.  9. 10. 11. 12. 13. 14. 15. 16.]\n",
      "target            0 GGGC-G--CGCCCAG-UG-AAAUCC 20\n",
      "                  0 ||-|-|--|||--|--||-|||-|| 25\n",
      "query             0 GG-CCGGGCGC--A-CUGUAAA-CC 20\n",
      "\n",
      "target            0 GGGCGCGCCCAG---UG--AAAU-CC- 20\n",
      "                  0 |--|||-||--|---||--||-|-|-- 27\n",
      "query             0 G--CGC-CC--GGCCUGUCAA-UUC-G 20\n",
      "\n",
      "target            0 -CCGGCCCGCG--UGA-CA-UUU-GG 20\n",
      "                  0 -|-|-||||-|--||--||-||--|- 26\n",
      "query             0 GC-G-CCCG-GCCUG-UCAAUU-CG- 20\n",
      "\n"
     ]
    }
   ],
   "source": [
    "\n",
    "print('Alignment scores for complements in circuits: ')\n",
    "\n",
    "print(np.unique([a.score for a in templated_alignments_flat]))\n",
    "\n",
    "i = 0\n",
    "print(templated_alignments['strong']['template_mix'][i]['RNA_0']['RNA_1'][0])\n",
    "print(templated_alignments['strong']['template_mix'][i]['RNA_0']['RNA_2'][0])\n",
    "print(templated_alignments['strong']['template_mix'][i]['RNA_1']['RNA_2'][0])"
   ]
  },
  {
   "cell_type": "code",
   "execution_count": 74,
   "metadata": {},
   "outputs": [],
   "source": [
    "def convert_seqs_to_binary_complement(refseq, mutseq): \n",
    "    return (np.asarray(list(refseq)) == np.asarray(list(mutseq))) * 1"
   ]
  },
  {
   "cell_type": "code",
   "execution_count": 80,
   "metadata": {},
   "outputs": [
    {
     "name": "stdout",
     "output_type": "stream",
     "text": [
      "Reference sequence:  GCCCCGGGGCUCUCUAUACG\n",
      "Mix sequence:  GGGCGCGCCCAGUGAAAUCC - pattern:  [1 0 0 1 0 0 1 0 0 1 0 0 1 0 0 1 0 0 1 0]\n",
      "Mix sequence:  CCGGCCCGCGUGACAUUUGG - pattern:  [0 1 0 0 1 0 0 1 0 0 1 0 0 1 0 0 1 0 0 1]\n",
      "Mix sequence:  CGCGGGCCGGACAGUUAAGC - pattern:  [0 0 1 0 0 1 0 0 1 0 0 1 0 0 1 0 0 1 0 0]\n"
     ]
    }
   ],
   "source": [
    "tmix = templated_samples['strong']['template_mix'][0]\n",
    "print('Reference sequence: ', templates['strong'])\n",
    "print('Mix sequence: ', tmix['RNA_0'], '- pattern: ', ''.join(str(convert_seqs_to_binary_complement(templates['strong'], tmix['RNA_0']))))\n",
    "print('Mix sequence: ', tmix['RNA_1'], '- pattern: ', ''.join(str(convert_seqs_to_binary_complement(templates['strong'], tmix['RNA_1']))))\n",
    "print('Mix sequence: ', tmix['RNA_2'], '- pattern: ', ''.join(str(convert_seqs_to_binary_complement(templates['strong'], tmix['RNA_2']))))"
   ]
  },
  {
   "cell_type": "code",
   "execution_count": 81,
   "metadata": {},
   "outputs": [
    {
     "name": "stdout",
     "output_type": "stream",
     "text": [
      "Reference sequence:  GCCCCGGGGCUCUCUAUACG\n",
      "Split sequence:  CGGGGCGGGCUCUCUAUACG - pattern:  [0 0 0 0 0 0 1 1 1 1 1 1 1 1 1 1 1 1 1 1]\n",
      "Split sequence:  GCCCCGCCCGAGUCUAUACG - pattern:  [1 1 1 1 1 1 0 0 0 0 0 0 1 1 1 1 1 1 1 1]\n",
      "Split sequence:  GCCCCGGGGCUCAGAUAUCG - pattern:  [1 1 1 1 1 1 1 1 1 1 1 1 0 0 0 0 0 0 1 1]\n"
     ]
    }
   ],
   "source": [
    "tsplit = templated_samples['strong']['template_split'][0]\n",
    "print('Reference sequence: ', templates['strong'])\n",
    "print('Split sequence: ', tsplit['RNA_0'], '- pattern: ', ''.join(str(convert_seqs_to_binary_complement(templates['strong'], tsplit['RNA_0']))))\n",
    "print('Split sequence: ', tsplit['RNA_1'], '- pattern: ', ''.join(str(convert_seqs_to_binary_complement(templates['strong'], tsplit['RNA_1']))))\n",
    "print('Split sequence: ', tsplit['RNA_2'], '- pattern: ', ''.join(str(convert_seqs_to_binary_complement(templates['strong'], tsplit['RNA_2']))))"
   ]
  },
  {
   "cell_type": "code",
   "execution_count": null,
   "metadata": {},
   "outputs": [],
   "source": []
  }
 ],
 "metadata": {
  "kernelspec": {
   "display_name": "env_circuits",
   "language": "python",
   "name": "python3"
  },
  "language_info": {
   "codemirror_mode": {
    "name": "ipython",
    "version": 3
   },
   "file_extension": ".py",
   "mimetype": "text/x-python",
   "name": "python",
   "nbconvert_exporter": "python",
   "pygments_lexer": "ipython3",
   "version": "3.10.6"
  },
  "orig_nbformat": 4
 },
 "nbformat": 4,
 "nbformat_minor": 2
}
