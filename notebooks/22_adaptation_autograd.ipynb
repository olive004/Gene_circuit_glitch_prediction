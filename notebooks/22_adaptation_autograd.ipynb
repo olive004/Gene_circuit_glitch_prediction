{
 "cells": [
  {
   "cell_type": "markdown",
   "metadata": {},
   "source": [
    "# Optimising for adaptation as a circuit function through automatic gradient calculation\n",
    "\n",
    "In order to find the derivative of adaptation, we need to be able to differentiate the dynamic simulation and the analytics calculated from it that are used to calculate adaptability. We need to be able to find the derivative of the sensitivity and precision with respect to the circuit topology. \n",
    "\n",
    "1. Set up a simple test circuit simulation environment\n",
    "2. Re-write the dynamic simulation to keep track of the max / min of all species\n",
    "3. Try to differentiate that"
   ]
  },
  {
   "cell_type": "code",
   "execution_count": 85,
   "metadata": {},
   "outputs": [
    {
     "name": "stdout",
     "output_type": "stream",
     "text": [
      "The autoreload extension is already loaded. To reload it, use:\n",
      "  %reload_ext autoreload\n"
     ]
    }
   ],
   "source": [
    "%load_ext autoreload\n",
    "%autoreload 2"
   ]
  },
  {
   "cell_type": "markdown",
   "metadata": {},
   "source": [
    "# Imports "
   ]
  },
  {
   "cell_type": "code",
   "execution_count": 86,
   "metadata": {},
   "outputs": [],
   "source": [
    "from jax import jacrev\n",
    "import numpy as np\n",
    "import jax\n",
    "import jax.numpy as jnp\n",
    "import pandas as pd\n",
    "import seaborn as sns\n",
    "import matplotlib.pyplot as plt\n",
    "import diffrax as dfx\n",
    "\n",
    "from functools import partial\n",
    "import os\n",
    "import sys\n",
    "\n",
    "jax.config.update('jax_platform_name', 'cpu')\n",
    "\n",
    "if __package__ is None:\n",
    "\n",
    "    module_path = os.path.abspath(os.path.join('..'))\n",
    "    sys.path.append(module_path)\n",
    "\n",
    "    __package__ = os.path.basename(module_path)"
   ]
  },
  {
   "cell_type": "code",
   "execution_count": 87,
   "metadata": {},
   "outputs": [],
   "source": [
    "from synbio_morpher.srv.parameter_prediction.simulator import make_piecewise_stepcontrol\n",
    "from synbio_morpher.utils.misc.type_handling import flatten_listlike\n",
    "from synbio_morpher.utils.results.analytics.timeseries import calculate_adaptation, compute_sensitivity, compute_precision"
   ]
  },
  {
   "cell_type": "markdown",
   "metadata": {},
   "source": [
    "## Test environment for example circuits"
   ]
  },
  {
   "cell_type": "code",
   "execution_count": 88,
   "metadata": {},
   "outputs": [],
   "source": [
    "def make_species_bound(species_unbound):\n",
    "    return sorted(set(flatten_listlike([['-'.join(sorted([x, y])) for x in species_unbound] for y in species_unbound])))\n",
    "\n",
    "\n",
    "# RNA circuit settings\n",
    "species_unbound = ['RNA_0', 'RNA_1', 'RNA_2']\n",
    "species_bound = make_species_bound(species_unbound)\n",
    "species = species_unbound + species_bound\n",
    "species_signal = ['RNA_0']\n",
    "species_output = ['RNA_1']\n",
    "idxs_signal = [species.index(s) for s in species_signal]\n",
    "idxs_output = [species.index(s) for s in species_output]\n",
    "signal_onehot = np.array([1 if s in idxs_signal else 0 for s in np.arange(len(species))])\n",
    "\n",
    "# Initial parameters\n",
    "n_circuits = 3\n",
    "k = 0.00150958097\n",
    "N0 = 200\n",
    "y00 = np.array([[N0, N0, N0, 0, 0, 0, 0, 0, 0]]).astype(np.float32)\n",
    "y00 = np.repeat(y00, repeats=n_circuits, axis=0)\n",
    "\n",
    "# Simulation parameters\n",
    "signal_target = 2\n",
    "t0 = 0\n",
    "t1 = 100\n",
    "ts = np.linspace(t0, t1, 500)\n",
    "dt0 = 0.0005555558569638981\n",
    "dt1_factor = 5\n",
    "dt1 = dt0 * dt1_factor\n",
    "max_steps = 16**4 * 10\n",
    "\n",
    "# Reactions\n",
    "rates = np.array([[1e-4, 1e-4, 1e1],\n",
    "                  [1e-4, 1e-6, 1e-4],\n",
    "                  [1e1, 1e-4, 1e-4]])\n",
    "rates = np.random.randint(-6, 2, size=(n_circuits, len(species_unbound), len(species_unbound)))\n",
    "rates = np.exp(rates)\n",
    "\n",
    "inputs = np.array([\n",
    "    [2, 0, 0, 0, 0, 0, 0, 0, 0],\n",
    "    [1, 1, 0, 0, 0, 0, 0, 0, 0],\n",
    "    [1, 0, 1, 0, 0, 0, 0, 0, 0],\n",
    "    [0, 2, 0, 0, 0, 0, 0, 0, 0],\n",
    "    [0, 1, 1, 0, 0, 0, 0, 0, 0],\n",
    "    [0, 0, 2, 0, 0, 0, 0, 0, 0],\n",
    "])\n",
    "outputs = np.array([\n",
    "    [0, 0, 0, 1, 0, 0, 0, 0, 0],\n",
    "    [0, 0, 0, 0, 1, 0, 0, 0, 0],\n",
    "    [0, 0, 0, 0, 0, 1, 0, 0, 0],\n",
    "    [0, 0, 0, 0, 0, 0, 1, 0, 0],\n",
    "    [0, 0, 0, 0, 0, 0, 0, 1, 0],\n",
    "    [0, 0, 0, 0, 0, 0, 0, 0, 1],\n",
    "])\n",
    "\n",
    "# Rates\n",
    "reverse_rates = np.array(list(map(lambda r: r[np.triu_indices(len(species_unbound))], rates)))\n",
    "forward_rates = np.ones_like(reverse_rates) * k"
   ]
  },
  {
   "cell_type": "code",
   "execution_count": 89,
   "metadata": {},
   "outputs": [
    {
     "data": {
      "text/plain": [
       "Text(0.5, 0.98, 'Jacobian of system')"
      ]
     },
     "execution_count": 89,
     "metadata": {},
     "output_type": "execute_result"
    },
    {
     "data": {
      "image/png": "[encoded data removed]",
      "text/plain": [
       "<Figure size 1200x400 with 3 Axes>"
      ]
     },
     "metadata": {},
     "output_type": "display_data"
    }
   ],
   "source": [
    "def one_step_de_sim_expanded(spec_conc, inputs, outputs, forward_rates, reverse_rates):\n",
    "    concentration_factors_in = jnp.prod(\n",
    "        jnp.power(spec_conc, (inputs)), axis=1)\n",
    "    concentration_factors_out = jnp.prod(\n",
    "        jnp.power(spec_conc, (outputs)), axis=1)\n",
    "    forward_delta = concentration_factors_in * forward_rates\n",
    "    reverse_delta = concentration_factors_out * reverse_rates\n",
    "    return (forward_delta - reverse_delta) @ (outputs - inputs)\n",
    "\n",
    "\n",
    "# bb = partial(bioreaction_sim_dfx_expanded,\n",
    "#              t0=t0, t1=t1, dt0=dt0,\n",
    "#              signal=None, signal_onehot=signal_onehot,\n",
    "#              forward_rates=forward_rates,\n",
    "#              inputs=inputs,\n",
    "#              outputs=outputs,\n",
    "#              solver=dfx.Tsit5(),\n",
    "#              saveat=dfx.SaveAt(\n",
    "#                  ts=ts),\n",
    "#              max_steps=max_steps,\n",
    "#              stepsize_controller=make_piecewise_stepcontrol(\n",
    "#                  t0=t0, t1=t1, dt0=dt0, dt1=dt1)\n",
    "#              )\n",
    "\n",
    "Jbb = jax.vmap(jacrev(partial(one_step_de_sim_expanded,\n",
    "                     forward_rates=forward_rates[0],\n",
    "                     inputs=inputs,\n",
    "                     outputs=outputs)))\n",
    "\n",
    "\n",
    "sol_jac = Jbb(y00, reverse_rates=reverse_rates)\n",
    "\n",
    "fig = plt.figure(figsize=(4*n_circuits, 4))\n",
    "for idx_circuit in range(n_circuits):\n",
    "    ax = fig.add_subplot(1, n_circuits, idx_circuit+1)\n",
    "    ax.set_title(f'Circuit {idx_circuit}')\n",
    "    plt.imshow(sol_jac[idx_circuit])\n",
    "    plt.clim([sol_jac.min(), sol_jac.max()])\n",
    "plt.suptitle('Jacobian of system')"
   ]
  },
  {
   "cell_type": "code",
   "execution_count": 104,
   "metadata": {},
   "outputs": [],
   "source": [
    "def one_step_de_sim_expanded(t, spec_conc, args, inputs, outputs, forward_rates, reverse_rates):\n",
    "    concentration_factors_in = jnp.prod(\n",
    "        jnp.power(spec_conc, (inputs)), axis=1)\n",
    "    concentration_factors_out = jnp.prod(\n",
    "        jnp.power(spec_conc, (outputs)), axis=1)\n",
    "    forward_delta = concentration_factors_in * forward_rates\n",
    "    reverse_delta = concentration_factors_out * reverse_rates\n",
    "    return (forward_delta - reverse_delta) @ (outputs - inputs)\n",
    "\n",
    "\n",
    "\n",
    "def wrap(y0,\n",
    "         reverse_rates,\n",
    "         solver=dfx.Tsit5(),\n",
    "         saveat=dfx.SaveAt(\n",
    "        ts=ts),\n",
    "        max_steps=max_steps,\n",
    "        stepsize_controller=make_piecewise_stepcontrol(\n",
    "        t0=t0, t1=t1, dt0=dt0, dt1=dt1)):\n",
    "    term = dfx.ODETerm(\n",
    "        jax.jacfwd(\n",
    "            partial(one_step_de_sim_expanded,\n",
    "                       forward_rates=forward_rates[0],\n",
    "                       inputs=inputs,\n",
    "                       outputs=outputs,\n",
    "                       reverse_rates=reverse_rates)\n",
    "            )\n",
    "        # partial(bioreaction_sim_expanded,\n",
    "    )\n",
    "    return dfx.diffeqsolve(term, solver,\n",
    "                           t0=t0, t1=t1, dt0=None,\n",
    "                           y0=y0.squeeze(),\n",
    "                           saveat=saveat, max_steps=max_steps,\n",
    "                           stepsize_controller=stepsize_controller)\n",
    "    \n",
    "\n",
    "y01 = y00.copy()\n",
    "y01[:, np.array(idxs_signal)] = y00[:, np.array(idxs_signal)] * signal_target\n",
    "# sol_signal = wrap(y01[0], reverse_rates[0])\n",
    "sol_signal = jax.vmap(wrap)(y01, reverse_rates)"
   ]
  },
  {
   "cell_type": "code",
   "execution_count": 105,
   "metadata": {},
   "outputs": [
    {
     "data": {
      "text/plain": [
       "Text(0.5, 0.98, 'Jacobian of system')"
      ]
     },
     "execution_count": 105,
     "metadata": {},
     "output_type": "execute_result"
    },
    {
     "data": {
      "image/png": "[encoded data removed]",
      "text/plain": [
       "<Figure size 1200x400 with 3 Axes>"
      ]
     },
     "metadata": {},
     "output_type": "display_data"
    }
   ],
   "source": [
    "fig = plt.figure(figsize=(4*n_circuits, 4))\n",
    "for idx_circuit in range(n_circuits):\n",
    "    ax = fig.add_subplot(1, n_circuits, idx_circuit+1)\n",
    "    ax.set_title(f'Circuit {idx_circuit}')\n",
    "    plt.plot(sol_signal.ts[idx_circuit], sol_signal.ys[idx_circuit], label=species)\n",
    "plt.suptitle('Jacobian of system')"
   ]
  },
  {
   "cell_type": "code",
   "execution_count": null,
   "metadata": {},
   "outputs": [],
   "source": [
    "def compute_adaptability_full(ts):\n",
    "    \"\"\" ts: time series with dimensions [t, species] \"\"\"\n",
    "    \n",
    "    x0 = ts[0]\n",
    "    x1 = ts[1]\n",
    "    \n",
    "    p = compute_precision(x0, x1)"
   ]
  }
 ],
 "metadata": {
  "kernelspec": {
   "display_name": "Python 3",
   "language": "python",
   "name": "python3"
  },
  "language_info": {
   "codemirror_mode": {
    "name": "ipython",
    "version": 3
   },
   "file_extension": ".py",
   "mimetype": "text/x-python",
   "name": "python",
   "nbconvert_exporter": "python",
   "pygments_lexer": "ipython3",
   "version": "3.10.12"
  }
 },
 "nbformat": 4,
 "nbformat_minor": 2
}
