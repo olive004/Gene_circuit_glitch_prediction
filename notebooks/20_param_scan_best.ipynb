{
 "cells": [
  {
   "cell_type": "code",
   "execution_count": null,
   "metadata": {},
   "outputs": [],
   "source": [
    "%load_ext autoreload\n",
    "%autoreload 2"
   ]
  },
  {
   "cell_type": "markdown",
   "metadata": {},
   "source": [
    "# Imports"
   ]
  },
  {
   "cell_type": "code",
   "execution_count": null,
   "metadata": {},
   "outputs": [],
   "source": [
    "import numpy as np\n",
    "import plotly.graph_objects as go\n",
    "import os\n",
    "import sys\n",
    "import seaborn as sns\n",
    "import matplotlib.pyplot as plt\n",
    "import jax\n",
    "from copy import deepcopy\n",
    "\n",
    "\n",
    "jax.config.update('jax_platform_name', 'cpu')\n",
    "\n",
    "\n",
    "if __package__ is None:\n",
    "\n",
    "    module_path = os.path.abspath(os.path.join('..'))\n",
    "    sys.path.append(module_path)\n",
    "\n",
    "    __package__ = os.path.basename(module_path)\n",
    "    "
   ]
  },
  {
   "cell_type": "code",
   "execution_count": null,
   "metadata": {},
   "outputs": [],
   "source": [
    "from synbio_morpher.scripts.parameter_based_simulation.run_parameter_based_simulation import make_interaction_matrices\n",
    "from synbio_morpher.utils.common.testing.minimal_sim import mini_sim\n",
    "from synbio_morpher.utils.data.data_format_tools.common import load_json_as_dict\n",
    "from synbio_morpher.utils.misc.string_handling import prettify_keys_for_label\n",
    "from synbio_morpher.utils.misc.numerical import make_symmetrical_matrix_from_sequence\n",
    "from synbio_morpher.utils.parameter_inference.interpolation_grid import create_parameter_range"
   ]
  },
  {
   "cell_type": "markdown",
   "metadata": {},
   "source": [
    "# Load analytic"
   ]
  },
  {
   "cell_type": "code",
   "execution_count": null,
   "metadata": {},
   "outputs": [],
   "source": [
    "sdir = '../data/parameter_based_simulation/2023_08_24_114212'\n",
    "analytic_name = 'precision'\n",
    "config = load_json_as_dict('../data/parameter_based_simulation/2023_08_24_114212/experiment.json')['config_params']\n",
    "param_range = create_parameter_range(config['parameter_based_simulation'])\n"
   ]
  },
  {
   "cell_type": "code",
   "execution_count": null,
   "metadata": {},
   "outputs": [],
   "source": [
    "a = {}\n",
    "for f in os.listdir(sdir):\n",
    "    if f.endswith('npy'):\n",
    "        a[f.split('.')[0]] = np.load(os.path.join(sdir, f))"
   ]
  },
  {
   "cell_type": "markdown",
   "metadata": {},
   "source": [
    "# Find top circuits"
   ]
  },
  {
   "cell_type": "code",
   "execution_count": null,
   "metadata": {},
   "outputs": [],
   "source": [
    "def find_top_n_peaks(arrs: list, n: int):\n",
    "    \"\"\" Find the top n peaks across the multi-dimensional arrays in arrs \"\"\"\n",
    "    top_peaks = []\n",
    "    for ni in range(n):\n",
    "\n",
    "        objective = arrs[0] / arrs[0].max()\n",
    "        for arr in arrs[1:]:\n",
    "            objective += arr / arr.max()\n",
    "        top_peak = np.argmax(objective)\n",
    "        top_peak_idx = np.unravel_index(top_peak, arr.shape)\n",
    "\n",
    "        for i in range(len(arrs)):\n",
    "            arrs[i][top_peak_idx] = 0\n",
    "\n",
    "        # next_top_peaks = find_top_n_peaks(arrs, n=n-1)\n",
    "        # if (np.sum(top_peak_idx) >= np.sum(next_top_peaks[-1]) + 1) & (\n",
    "        #     np.sum(top_peak_idx) <= np.sum(next_top_peaks[-1]) - 1\n",
    "        # ):\n",
    "        top_peaks.append(top_peak_idx)\n",
    "        # top_peaks = top_peaks + next_top_peaks\n",
    "\n",
    "    return top_peaks\n",
    "\n",
    "\n",
    "def filter_top_peaks(top_indices, radius: int):\n",
    "    chosen = [0]\n",
    "    for i, t in enumerate(top_indices[1:]):\n",
    "        # if (np.sum(np.abs(np.array(t) - np.array(top_indices[i]))) > radius):\n",
    "        # if np.sum(np.power(np.array(t) - np.array(top_indices[i]), 0.5)) > radius:\n",
    "        if np.sum((np.array(t) - np.array(top_indices[i])) == 0) == 0:\n",
    "            chosen.append(i+1)\n",
    "    top_indices = [top_indices[i] for i in chosen]\n",
    "    return top_indices"
   ]
  },
  {
   "cell_type": "markdown",
   "metadata": {},
   "source": [
    "## Setting for best circuits"
   ]
  },
  {
   "cell_type": "code",
   "execution_count": null,
   "metadata": {},
   "outputs": [],
   "source": [
    "n_top = 10000\n",
    "i_spec = 1\n",
    "radius = 1\n",
    "\n",
    "pp = np.where(a['precision_wrt_species-6'] > 1e1,\n",
    "              1e1, a['precision_wrt_species-6'])\n",
    "# Overshoot / signal diff\n",
    "oo = np.where((a['max_amount'][0] - a['initial_steady_states'][0]) == 0,\n",
    "              0, a['overshoot'] / (a['max_amount'][0] - a['initial_steady_states'][0]))\n",
    "oo = np.where(oo < 1e-4, 0, oo)\n",
    "# oo = np.where(a['overshoot'] < 1e-4, 0, np.where(a['initial_steady_states']\n",
    "#               == 0, a['overshoot'], a['overshoot'] / a['initial_steady_states']))\n",
    "# oo = np.where(oo < 1e-4, 0, np.where(a['initial_steady_states']\n",
    "#               == 0, a['overshoot'], a['overshoot'] / a['initial_steady_states']))\n",
    "arrs = [a['sensitivity_wrt_species-6'][i_spec], pp[i_spec], oo[i_spec]]\n",
    "top_indices = find_top_n_peaks(deepcopy(arrs), n=n_top)\n",
    "n_ind = len(top_indices)\n",
    "n_prev = 0\n",
    "while n_ind != n_prev:\n",
    "    n_prev = len(top_indices)\n",
    "    top_indices = filter_top_peaks(top_indices, radius=radius)\n",
    "    n_ind = len(top_indices)\n",
    "\n",
    "print(len(top_indices))\n",
    "top_indices"
   ]
  },
  {
   "cell_type": "code",
   "execution_count": null,
   "metadata": {},
   "outputs": [],
   "source": [
    "print('senstivity \\t overshoot \\t precision')\n",
    "for t in top_indices:\n",
    "    print(a['sensitivity_wrt_species-6'][1][tuple(t)], '\\t', a['overshoot'][1][tuple(t)], '\\t', a['precision_wrt_species-6'][1][t])"
   ]
  },
  {
   "cell_type": "code",
   "execution_count": null,
   "metadata": {},
   "outputs": [],
   "source": [
    "config['simulation']\n"
   ]
  },
  {
   "cell_type": "markdown",
   "metadata": {},
   "source": [
    "## Run mini sim\n"
   ]
  },
  {
   "cell_type": "code",
   "execution_count": null,
   "metadata": {},
   "outputs": [],
   "source": [
    "saves = {}\n",
    "for i, ti in enumerate(top_indices):\n",
    "    r, analytics, y, t = mini_sim(*param_range[np.array(ti)])\n",
    "    saves[i] = {\n",
    "        'analytics': analytics,\n",
    "        'y': y,\n",
    "        't': t\n",
    "    }"
   ]
  },
  {
   "cell_type": "code",
   "execution_count": null,
   "metadata": {},
   "outputs": [],
   "source": [
    "n_rows = np.ceil(len(saves) / 6).astype(int)\n",
    "n_cols = np.ceil(len(saves) / n_rows).astype(int)\n",
    "plt.figure(figsize=(7*n_cols, 6*n_rows))\n",
    "for i, run in saves.items():\n",
    "    ax = plt.subplot(n_rows, n_cols, i+1)\n",
    "    plt.plot(run['t'], run['y'][:, 7])\n",
    "    plt.title('S = ' + str(run['analytics']['sensitivity_wrt_species-6'][7]) +\n",
    "              ', O = ' + str(run['analytics']['overshoot'][7]))\n",
    "\n",
    "    sensitivity = np.absolute(np.divide(\n",
    "        np.divide(\n",
    "            run['analytics']['min_amount'][7] -\n",
    "            run['analytics']['initial_steady_states'][7],\n",
    "            run['analytics']['initial_steady_states'][7]),\n",
    "        np.divide(\n",
    "            run['analytics']['max_amount'][6] -\n",
    "            run['analytics']['initial_steady_states'][6],\n",
    "            run['analytics']['initial_steady_states'][6])\n",
    "    ))\n",
    "    print(i, '\\t', sensitivity, '\\t', run['analytics']['overshoot'][7], '\\t', run['analytics']['precision_wrt_species-6'][7])"
   ]
  },
  {
   "cell_type": "code",
   "execution_count": null,
   "metadata": {},
   "outputs": [],
   "source": [
    "plt.imshow(np.log10(param_range[sorted(top_indices)]))\n"
   ]
  },
  {
   "cell_type": "markdown",
   "metadata": {},
   "source": [
    "idk"
   ]
  },
  {
   "cell_type": "code",
   "execution_count": null,
   "metadata": {},
   "outputs": [],
   "source": [
    "\n",
    "unbound_species = ['RNA_0', 'RNA_1', 'RNA_2']\n",
    "species = ['RNA_0-0', 'RNA_0-1', 'RNA_0-2', 'RNA_1-1', 'RNA_1-2', 'RNA_2-2', 'RNA_0', 'RNA_1', 'RNA_2']\n",
    "inds = [i for i, s in enumerate(species) if s in unbound_species]\n",
    "\n",
    "analytics['sensitivity_wrt_species-6'][:]\n",
    "analytics['precision_wrt_species-6']\n"
   ]
  },
  {
   "cell_type": "code",
   "execution_count": null,
   "metadata": {},
   "outputs": [],
   "source": [
    "num_species = 3\n",
    "interaction_matrices, all_interaction_strength_choices = make_interaction_matrices(\n",
    "    num_species=num_species, interaction_strengths=param_range,\n",
    "    num_unique_interactions=6, starting_iteration=0, end_iteration=10)\n",
    "\n",
    "for i, interaction_strength_choices in enumerate(all_interaction_strength_choices):\n",
    "    idxs = [slice(0, num_species)] + [[strength_idx] for strength_idx in interaction_strength_choices]\n",
    "    r, analytics = mini_sim(*interaction_matrices[i][np.triu_indices(num_species)])\n",
    "\n",
    "    print(f'\\nInteraction {i}:')\n",
    "    print('prev', a['sensitivity_wrt_species-6'][tuple(idxs)])\n",
    "    print('now', analytics['sensitivity_wrt_species-6'])\n",
    "    \n",
    "n_species = 3\n",
    "r, analytics = mini_sim(*interaction_matrices[0][np.triu_indices(n_species)])\n"
   ]
  },
  {
   "cell_type": "code",
   "execution_count": null,
   "metadata": {},
   "outputs": [],
   "source": [
    "for interaction_strength_choices in all_interaction_strength_choices[:1]:\n",
    "    idxs = [slice(0, n_species)] + [[strength_idx] for strength_idx in interaction_strength_choices]"
   ]
  }
 ],
 "metadata": {
  "language_info": {
   "name": "python"
  },
  "orig_nbformat": 4
 },
 "nbformat": 4,
 "nbformat_minor": 2
}
