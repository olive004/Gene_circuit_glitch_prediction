{
 "cells": [
  {
   "cell_type": "code",
   "execution_count": 1,
   "metadata": {},
   "outputs": [],
   "source": [
    "%load_ext autoreload\n",
    "%autoreload 2"
   ]
  },
  {
   "cell_type": "markdown",
   "metadata": {},
   "source": [
    "# Imports"
   ]
  },
  {
   "cell_type": "code",
   "execution_count": 26,
   "metadata": {},
   "outputs": [],
   "source": [
    "import numpy as np\n",
    "import plotly.graph_objects as go\n",
    "import pandas as pd\n",
    "import os\n",
    "import sys\n",
    "import seaborn as sns\n",
    "import matplotlib.pyplot as plt\n",
    "import jax\n",
    "import jax.numpy as jnp\n",
    "from copy import deepcopy\n",
    "\n",
    "\n",
    "jax.config.update('jax_platform_name', 'cpu')\n",
    "\n",
    "\n",
    "if __package__ is None:\n",
    "\n",
    "    module_path = os.path.abspath(os.path.join('..'))\n",
    "    sys.path.append(module_path)\n",
    "\n",
    "    __package__ = os.path.basename(module_path)\n",
    "    "
   ]
  },
  {
   "cell_type": "code",
   "execution_count": 3,
   "metadata": {},
   "outputs": [],
   "source": [
    "from synbio_morpher.scripts.parameter_based_simulation.run_parameter_based_simulation import make_interaction_matrices\n",
    "from synbio_morpher.utils.common.testing.minimal_sim import mini_sim\n",
    "from synbio_morpher.utils.data.data_format_tools.common import load_json_as_dict\n",
    "from synbio_morpher.utils.misc.string_handling import prettify_keys_for_label\n",
    "from synbio_morpher.utils.parameter_inference.interpolation_grid import create_parameter_range"
   ]
  },
  {
   "cell_type": "markdown",
   "metadata": {},
   "source": [
    "# Load analytic"
   ]
  },
  {
   "cell_type": "code",
   "execution_count": 4,
   "metadata": {},
   "outputs": [],
   "source": [
    "sdir = '../data/parameter_based_simulation/2023_08_24_114212'\n",
    "analytic_name = 'precision'\n",
    "fn = os.path.join(sdir, [f for f in os.listdir(sdir) if analytic_name in f][0])\n",
    "config = load_json_as_dict('../data/parameter_based_simulation/2023_08_24_114212/experiment.json')['config_params']"
   ]
  },
  {
   "cell_type": "code",
   "execution_count": 5,
   "metadata": {},
   "outputs": [],
   "source": [
    "param_range = create_parameter_range(config['parameter_based_simulation'])\n",
    "\n",
    "x = np.load(fn)"
   ]
  },
  {
   "cell_type": "markdown",
   "metadata": {},
   "source": [
    "# Species settings"
   ]
  },
  {
   "cell_type": "code",
   "execution_count": 6,
   "metadata": {},
   "outputs": [],
   "source": [
    "n_species = x.shape[0]\n",
    "choice11 = 'RNA_0'\n",
    "choice12 = 'RNA_0'\n",
    "choice21 = 'RNA_0'\n",
    "choice22 = 'RNA_1'\n",
    "slider1 = 'RNA_0'\n",
    "slider2 = 'RNA_2'\n",
    "\n",
    "output = 'RNA_1'\n",
    "\n",
    "species_names = [f'RNA_{i}' for i in range(n_species)]\n",
    "\n",
    "output_idx = species_names.index(output)\n",
    "sig_idx = 0\n",
    "paired_idxs = np.concatenate([np.triu_indices(3)[0][:, None], np.triu_indices(3)[1][:, None]], axis=1)\n",
    "paired_idxs = [tuple(p) for p in paired_idxs]\n",
    "choice1_idx = paired_idxs.index((species_names.index(choice11), species_names.index(choice12)))\n",
    "choice2_idx = paired_idxs.index((species_names.index(choice21), species_names.index(choice22)))\n",
    "static = 2\n",
    "slider_idx = paired_idxs.index((species_names.index(slider1), species_names.index(slider2)))\n"
   ]
  },
  {
   "cell_type": "markdown",
   "metadata": {},
   "source": [
    "# Simple 3D vis"
   ]
  },
  {
   "cell_type": "code",
   "execution_count": 7,
   "metadata": {},
   "outputs": [
    {
     "data": {
      "application/vnd.plotly.v1+json": {
       "config": {
        "plotlyServerURL": "https://plot.ly"
       },
       "data": [
        {
         "type": "surface",
         "z": [
          [
           11.101838111877441,
           10.81020450592041,
           7.405522346496582,
           2.3440983295440674,
           3.494879961013794,
           58.46796417236328,
           69.46810150146484,
           70.8626708984375,
           69.92882537841797
          ],
          [
           10.452417373657227,
           10.165626525878906,
           7.165091514587402,
           2.354020357131958,
           3.493669271469116,
           55.39183807373047,
           65.82447052001953,
           66.98564910888672,
           66.09828186035156
          ],
          [
           5.624270439147949,
           5.574462890625,
           4.8382568359375,
           2.5061726570129395,
           3.4797911643981934,
           33.03623580932617,
           39.38663864135742,
           39.52964782714844,
           39.19730758666992
          ],
          [
           2.5831949710845947,
           2.5874035358428955,
           2.6565330028533936,
           3.1025474071502686,
           3.450019359588623,
           44.1353645324707,
           42.04817581176758,
           42.799442291259766,
           41.43360900878906
          ],
          [
           2.5060863494873047,
           2.5070765018463135,
           2.522088050842285,
           2.6519241333007812,
           2.645906448364258,
           13.938891410827637,
           481.1009216308594,
           1576.484130859375,
           2986.04248046875
          ],
          [
           3.111232280731201,
           3.1113998889923096,
           3.115081548690796,
           3.135910749435425,
           2.697120189666748,
           5.020609378814697,
           53.25126266479492,
           463.1264343261719,
           467.16180419921875
          ],
          [
           6.080663681030273,
           6.080930233001709,
           6.0788350105285645,
           6.028637886047363,
           4.036172866821289,
           4.289213180541992,
           34.71080017089844,
           302.29656982421875,
           463.4731750488281
          ],
          [
           8.214960098266602,
           8.214498519897461,
           8.209321975708008,
           8.099080085754395,
           4.894180774688721,
           4.64214563369751,
           35.907325744628906,
           288.13922119140625,
           608.264892578125
          ],
          [
           8.437268257141113,
           8.436790466308594,
           8.431312561035156,
           8.314615249633789,
           4.985945701599121,
           4.6760172843933105,
           36.04015350341797,
           287.10894775390625,
           623.720458984375
          ]
         ]
        }
       ],
       "layout": {
        "autosize": false,
        "height": 500,
        "margin": {
         "b": 65,
         "l": 65,
         "r": 50,
         "t": 90
        },
        "scene": {
         "xaxis": {
          "tickmode": "array",
          "ticktext": [
           "1e-07",
           "2e-06",
           "3e-05",
           "5e-04",
           "9e-03",
           "2e-01",
           "3e+00",
           "5e+01",
           "9e+02"
          ],
          "tickvals": [
           0,
           1,
           2,
           3,
           4,
           5,
           6,
           7,
           8
          ],
          "title": {
           "text": "RNA_0-RNA_0"
          }
         },
         "yaxis": {
          "tickmode": "array",
          "ticktext": [
           "1e-07",
           "2e-06",
           "3e-05",
           "5e-04",
           "9e-03",
           "2e-01",
           "3e+00",
           "5e+01",
           "9e+02"
          ],
          "tickvals": [
           0,
           1,
           2,
           3,
           4,
           5,
           6,
           7,
           8
          ],
          "title": {
           "text": "RNA_0-RNA_1"
          }
         },
         "zaxis": {
          "title": {
           "text": "Precision"
          }
         }
        },
        "template": {
         "data": {
          "bar": [
           {
            "error_x": {
             "color": "#2a3f5f"
            },
            "error_y": {
             "color": "#2a3f5f"
            },
            "marker": {
             "line": {
              "color": "#E5ECF6",
              "width": 0.5
             },
             "pattern": {
              "fillmode": "overlay",
              "size": 10,
              "solidity": 0.2
             }
            },
            "type": "bar"
           }
          ],
          "barpolar": [
           {
            "marker": {
             "line": {
              "color": "#E5ECF6",
              "width": 0.5
             },
             "pattern": {
              "fillmode": "overlay",
              "size": 10,
              "solidity": 0.2
             }
            },
            "type": "barpolar"
           }
          ],
          "carpet": [
           {
            "aaxis": {
             "endlinecolor": "#2a3f5f",
             "gridcolor": "white",
             "linecolor": "white",
             "minorgridcolor": "white",
             "startlinecolor": "#2a3f5f"
            },
            "baxis": {
             "endlinecolor": "#2a3f5f",
             "gridcolor": "white",
             "linecolor": "white",
             "minorgridcolor": "white",
             "startlinecolor": "#2a3f5f"
            },
            "type": "carpet"
           }
          ],
          "choropleth": [
           {
            "colorbar": {
             "outlinewidth": 0,
             "ticks": ""
            },
            "type": "choropleth"
           }
          ],
          "contour": [
           {
            "colorbar": {
             "outlinewidth": 0,
             "ticks": ""
            },
            "colorscale": [
             [
              0,
              "#0d0887"
             ],
             [
              0.1111111111111111,
              "#46039f"
             ],
             [
              0.2222222222222222,
              "#7201a8"
             ],
             [
              0.3333333333333333,
              "#9c179e"
             ],
             [
              0.4444444444444444,
              "#bd3786"
             ],
             [
              0.5555555555555556,
              "#d8576b"
             ],
             [
              0.6666666666666666,
              "#ed7953"
             ],
             [
              0.7777777777777778,
              "#fb9f3a"
             ],
             [
              0.8888888888888888,
              "#fdca26"
             ],
             [
              1,
              "#f0f921"
             ]
            ],
            "type": "contour"
           }
          ],
          "contourcarpet": [
           {
            "colorbar": {
             "outlinewidth": 0,
             "ticks": ""
            },
            "type": "contourcarpet"
           }
          ],
          "heatmap": [
           {
            "colorbar": {
             "outlinewidth": 0,
             "ticks": ""
            },
            "colorscale": [
             [
              0,
              "#0d0887"
             ],
             [
              0.1111111111111111,
              "#46039f"
             ],
             [
              0.2222222222222222,
              "#7201a8"
             ],
             [
              0.3333333333333333,
              "#9c179e"
             ],
             [
              0.4444444444444444,
              "#bd3786"
             ],
             [
              0.5555555555555556,
              "#d8576b"
             ],
             [
              0.6666666666666666,
              "#ed7953"
             ],
             [
              0.7777777777777778,
              "#fb9f3a"
             ],
             [
              0.8888888888888888,
              "#fdca26"
             ],
             [
              1,
              "#f0f921"
             ]
            ],
            "type": "heatmap"
           }
          ],
          "heatmapgl": [
           {
            "colorbar": {
             "outlinewidth": 0,
             "ticks": ""
            },
            "colorscale": [
             [
              0,
              "#0d0887"
             ],
             [
              0.1111111111111111,
              "#46039f"
             ],
             [
              0.2222222222222222,
              "#7201a8"
             ],
             [
              0.3333333333333333,
              "#9c179e"
             ],
             [
              0.4444444444444444,
              "#bd3786"
             ],
             [
              0.5555555555555556,
              "#d8576b"
             ],
             [
              0.6666666666666666,
              "#ed7953"
             ],
             [
              0.7777777777777778,
              "#fb9f3a"
             ],
             [
              0.8888888888888888,
              "#fdca26"
             ],
             [
              1,
              "#f0f921"
             ]
            ],
            "type": "heatmapgl"
           }
          ],
          "histogram": [
           {
            "marker": {
             "pattern": {
              "fillmode": "overlay",
              "size": 10,
              "solidity": 0.2
             }
            },
            "type": "histogram"
           }
          ],
          "histogram2d": [
           {
            "colorbar": {
             "outlinewidth": 0,
             "ticks": ""
            },
            "colorscale": [
             [
              0,
              "#0d0887"
             ],
             [
              0.1111111111111111,
              "#46039f"
             ],
             [
              0.2222222222222222,
              "#7201a8"
             ],
             [
              0.3333333333333333,
              "#9c179e"
             ],
             [
              0.4444444444444444,
              "#bd3786"
             ],
             [
              0.5555555555555556,
              "#d8576b"
             ],
             [
              0.6666666666666666,
              "#ed7953"
             ],
             [
              0.7777777777777778,
              "#fb9f3a"
             ],
             [
              0.8888888888888888,
              "#fdca26"
             ],
             [
              1,
              "#f0f921"
             ]
            ],
            "type": "histogram2d"
           }
          ],
          "histogram2dcontour": [
           {
            "colorbar": {
             "outlinewidth": 0,
             "ticks": ""
            },
            "colorscale": [
             [
              0,
              "#0d0887"
             ],
             [
              0.1111111111111111,
              "#46039f"
             ],
             [
              0.2222222222222222,
              "#7201a8"
             ],
             [
              0.3333333333333333,
              "#9c179e"
             ],
             [
              0.4444444444444444,
              "#bd3786"
             ],
             [
              0.5555555555555556,
              "#d8576b"
             ],
             [
              0.6666666666666666,
              "#ed7953"
             ],
             [
              0.7777777777777778,
              "#fb9f3a"
             ],
             [
              0.8888888888888888,
              "#fdca26"
             ],
             [
              1,
              "#f0f921"
             ]
            ],
            "type": "histogram2dcontour"
           }
          ],
          "mesh3d": [
           {
            "colorbar": {
             "outlinewidth": 0,
             "ticks": ""
            },
            "type": "mesh3d"
           }
          ],
          "parcoords": [
           {
            "line": {
             "colorbar": {
              "outlinewidth": 0,
              "ticks": ""
             }
            },
            "type": "parcoords"
           }
          ],
          "pie": [
           {
            "automargin": true,
            "type": "pie"
           }
          ],
          "scatter": [
           {
            "fillpattern": {
             "fillmode": "overlay",
             "size": 10,
             "solidity": 0.2
            },
            "type": "scatter"
           }
          ],
          "scatter3d": [
           {
            "line": {
             "colorbar": {
              "outlinewidth": 0,
              "ticks": ""
             }
            },
            "marker": {
             "colorbar": {
              "outlinewidth": 0,
              "ticks": ""
             }
            },
            "type": "scatter3d"
           }
          ],
          "scattercarpet": [
           {
            "marker": {
             "colorbar": {
              "outlinewidth": 0,
              "ticks": ""
             }
            },
            "type": "scattercarpet"
           }
          ],
          "scattergeo": [
           {
            "marker": {
             "colorbar": {
              "outlinewidth": 0,
              "ticks": ""
             }
            },
            "type": "scattergeo"
           }
          ],
          "scattergl": [
           {
            "marker": {
             "colorbar": {
              "outlinewidth": 0,
              "ticks": ""
             }
            },
            "type": "scattergl"
           }
          ],
          "scattermapbox": [
           {
            "marker": {
             "colorbar": {
              "outlinewidth": 0,
              "ticks": ""
             }
            },
            "type": "scattermapbox"
           }
          ],
          "scatterpolar": [
           {
            "marker": {
             "colorbar": {
              "outlinewidth": 0,
              "ticks": ""
             }
            },
            "type": "scatterpolar"
           }
          ],
          "scatterpolargl": [
           {
            "marker": {
             "colorbar": {
              "outlinewidth": 0,
              "ticks": ""
             }
            },
            "type": "scatterpolargl"
           }
          ],
          "scatterternary": [
           {
            "marker": {
             "colorbar": {
              "outlinewidth": 0,
              "ticks": ""
             }
            },
            "type": "scatterternary"
           }
          ],
          "surface": [
           {
            "colorbar": {
             "outlinewidth": 0,
             "ticks": ""
            },
            "colorscale": [
             [
              0,
              "#0d0887"
             ],
             [
              0.1111111111111111,
              "#46039f"
             ],
             [
              0.2222222222222222,
              "#7201a8"
             ],
             [
              0.3333333333333333,
              "#9c179e"
             ],
             [
              0.4444444444444444,
              "#bd3786"
             ],
             [
              0.5555555555555556,
              "#d8576b"
             ],
             [
              0.6666666666666666,
              "#ed7953"
             ],
             [
              0.7777777777777778,
              "#fb9f3a"
             ],
             [
              0.8888888888888888,
              "#fdca26"
             ],
             [
              1,
              "#f0f921"
             ]
            ],
            "type": "surface"
           }
          ],
          "table": [
           {
            "cells": {
             "fill": {
              "color": "#EBF0F8"
             },
             "line": {
              "color": "white"
             }
            },
            "header": {
             "fill": {
              "color": "#C8D4E3"
             },
             "line": {
              "color": "white"
             }
            },
            "type": "table"
           }
          ]
         },
         "layout": {
          "annotationdefaults": {
           "arrowcolor": "#2a3f5f",
           "arrowhead": 0,
           "arrowwidth": 1
          },
          "autotypenumbers": "strict",
          "coloraxis": {
           "colorbar": {
            "outlinewidth": 0,
            "ticks": ""
           }
          },
          "colorscale": {
           "diverging": [
            [
             0,
             "#8e0152"
            ],
            [
             0.1,
             "#c51b7d"
            ],
            [
             0.2,
             "#de77ae"
            ],
            [
             0.3,
             "#f1b6da"
            ],
            [
             0.4,
             "#fde0ef"
            ],
            [
             0.5,
             "#f7f7f7"
            ],
            [
             0.6,
             "#e6f5d0"
            ],
            [
             0.7,
             "#b8e186"
            ],
            [
             0.8,
             "#7fbc41"
            ],
            [
             0.9,
             "#4d9221"
            ],
            [
             1,
             "#276419"
            ]
           ],
           "sequential": [
            [
             0,
             "#0d0887"
            ],
            [
             0.1111111111111111,
             "#46039f"
            ],
            [
             0.2222222222222222,
             "#7201a8"
            ],
            [
             0.3333333333333333,
             "#9c179e"
            ],
            [
             0.4444444444444444,
             "#bd3786"
            ],
            [
             0.5555555555555556,
             "#d8576b"
            ],
            [
             0.6666666666666666,
             "#ed7953"
            ],
            [
             0.7777777777777778,
             "#fb9f3a"
            ],
            [
             0.8888888888888888,
             "#fdca26"
            ],
            [
             1,
             "#f0f921"
            ]
           ],
           "sequentialminus": [
            [
             0,
             "#0d0887"
            ],
            [
             0.1111111111111111,
             "#46039f"
            ],
            [
             0.2222222222222222,
             "#7201a8"
            ],
            [
             0.3333333333333333,
             "#9c179e"
            ],
            [
             0.4444444444444444,
             "#bd3786"
            ],
            [
             0.5555555555555556,
             "#d8576b"
            ],
            [
             0.6666666666666666,
             "#ed7953"
            ],
            [
             0.7777777777777778,
             "#fb9f3a"
            ],
            [
             0.8888888888888888,
             "#fdca26"
            ],
            [
             1,
             "#f0f921"
            ]
           ]
          },
          "colorway": [
           "#636efa",
           "#EF553B",
           "#00cc96",
           "#ab63fa",
           "#FFA15A",
           "#19d3f3",
           "#FF6692",
           "#B6E880",
           "#FF97FF",
           "#FECB52"
          ],
          "font": {
           "color": "#2a3f5f"
          },
          "geo": {
           "bgcolor": "white",
           "lakecolor": "white",
           "landcolor": "#E5ECF6",
           "showlakes": true,
           "showland": true,
           "subunitcolor": "white"
          },
          "hoverlabel": {
           "align": "left"
          },
          "hovermode": "closest",
          "mapbox": {
           "style": "light"
          },
          "paper_bgcolor": "white",
          "plot_bgcolor": "#E5ECF6",
          "polar": {
           "angularaxis": {
            "gridcolor": "white",
            "linecolor": "white",
            "ticks": ""
           },
           "bgcolor": "#E5ECF6",
           "radialaxis": {
            "gridcolor": "white",
            "linecolor": "white",
            "ticks": ""
           }
          },
          "scene": {
           "xaxis": {
            "backgroundcolor": "#E5ECF6",
            "gridcolor": "white",
            "gridwidth": 2,
            "linecolor": "white",
            "showbackground": true,
            "ticks": "",
            "zerolinecolor": "white"
           },
           "yaxis": {
            "backgroundcolor": "#E5ECF6",
            "gridcolor": "white",
            "gridwidth": 2,
            "linecolor": "white",
            "showbackground": true,
            "ticks": "",
            "zerolinecolor": "white"
           },
           "zaxis": {
            "backgroundcolor": "#E5ECF6",
            "gridcolor": "white",
            "gridwidth": 2,
            "linecolor": "white",
            "showbackground": true,
            "ticks": "",
            "zerolinecolor": "white"
           }
          },
          "shapedefaults": {
           "line": {
            "color": "#2a3f5f"
           }
          },
          "ternary": {
           "aaxis": {
            "gridcolor": "white",
            "linecolor": "white",
            "ticks": ""
           },
           "baxis": {
            "gridcolor": "white",
            "linecolor": "white",
            "ticks": ""
           },
           "bgcolor": "#E5ECF6",
           "caxis": {
            "gridcolor": "white",
            "linecolor": "white",
            "ticks": ""
           }
          },
          "title": {
           "x": 0.05
          },
          "xaxis": {
           "automargin": true,
           "gridcolor": "white",
           "linecolor": "white",
           "ticks": "",
           "title": {
            "standoff": 15
           },
           "zerolinecolor": "white",
           "zerolinewidth": 2
          },
          "yaxis": {
           "automargin": true,
           "gridcolor": "white",
           "linecolor": "white",
           "ticks": "",
           "title": {
            "standoff": 15
           },
           "zerolinecolor": "white",
           "zerolinewidth": 2
          }
         }
        },
        "title": {
         "text": "Precision"
        },
        "width": 500
       }
      }
     },
     "metadata": {},
     "output_type": "display_data"
    }
   ],
   "source": [
    "\n",
    "\n",
    "slices = [static] * (len(x.shape) - 1)\n",
    "slices[choice1_idx] = slice(x.shape[choice1_idx+1])\n",
    "slices[choice2_idx] = slice(x.shape[choice2_idx+1])\n",
    "z_data = x[tuple([output_idx] + slices)]\n",
    "\n",
    "\n",
    "fig = go.Figure(data=[go.Surface(z=z_data)])\n",
    "\n",
    "fig.update_layout(title=prettify_keys_for_label(analytic_name),\n",
    "                  autosize=False,\n",
    "                  width=500, height=500,\n",
    "                  margin=dict(l=65, r=50, b=65, t=90),\n",
    "                  scene=dict(\n",
    "    xaxis=dict(\n",
    "        tickmode=\"array\",\n",
    "        ticktext=[f'{p:.0e}' for p in param_range],\n",
    "        tickvals=np.arange(x.shape[1]),\n",
    "        title=f\"{choice11}-{choice12}\"\n",
    "    ),\n",
    "    yaxis=dict(\n",
    "        tickmode=\"array\",\n",
    "        ticktext=[f'{p:.0e}' for p in param_range],\n",
    "        tickvals=np.arange(x.shape[1]),\n",
    "        title=f\"{choice21}-{choice22}\"\n",
    "    ), \n",
    "    zaxis=dict(title=prettify_keys_for_label(analytic_name))\n",
    "))\n",
    "# fig.update_xaxes(labelalias=<VALUE>)\n",
    "# fig.show()"
   ]
  },
  {
   "cell_type": "markdown",
   "metadata": {},
   "source": [
    "# Stacked"
   ]
  },
  {
   "cell_type": "code",
   "execution_count": 8,
   "metadata": {},
   "outputs": [
    {
     "data": {
      "application/vnd.plotly.v1+json": {
       "config": {
        "plotlyServerURL": "https://plot.ly"
       },
       "data": [
        {
         "opacity": 0.9,
         "showscale": false,
         "type": "surface",
         "z": [
          [
           13.896002769470215,
           13.010516166687012,
           6.6996870040893555,
           1.962202787399292,
           3.1904120445251465,
           48.07552719116211,
           64.30793762207031,
           67.06149291992188,
           65.10665130615234
          ],
          [
           11.65680980682373,
           11.074610710144043,
           6.321307182312012,
           1.969185709953308,
           3.1688079833984375,
           43.03761672973633,
           55.832881927490234,
           57.6650390625,
           56.064640045166016
          ],
          [
           3.5617711544036865,
           3.610494375228882,
           3.641080856323242,
           2.0880863666534424,
           2.912193536758423,
           17.43405532836914,
           19.959218978881836,
           20.079242706298828,
           19.873912811279297
          ],
          [
           1.4253606796264648,
           1.6150211095809937,
           2.0896103382110596,
           2.718853712081909,
           2.648886203765869,
           6.86907434463501,
           8.295177459716797,
           8.383509635925293,
           8.462759017944336
          ],
          [
           2.3873467445373535,
           2.387145757675171,
           2.397977352142334,
           2.560626268386841,
           2.427286386489868,
           4.651745319366455,
           7.862907886505127,
           8.234301567077637,
           8.196037292480469
          ],
          [
           3.0083701610565186,
           3.0088143348693848,
           3.0094823837280273,
           3.0244369506835938,
           2.5719189643859863,
           3.3544187545776367,
           8.038576126098633,
           9.288176536560059,
           9.374892234802246
          ],
          [
           5.778380870819092,
           5.778567790985107,
           5.775726318359375,
           5.730637073516846,
           3.7841837406158447,
           3.5999345779418945,
           9.628213882446289,
           14.079904556274414,
           14.470634460449219
          ],
          [
           7.775771141052246,
           7.775749683380127,
           7.770493030548096,
           7.67627477645874,
           4.621704578399658,
           4.028428077697754,
           10.997828483581543,
           17.599943161010742,
           18.236995697021484
          ],
          [
           7.983942985534668,
           7.98392391204834,
           7.978363513946533,
           7.87822961807251,
           4.7125654220581055,
           4.070102214813232,
           11.164108276367188,
           17.976978302001953,
           18.64476203918457
          ]
         ]
        },
        {
         "opacity": 0.9,
         "showscale": false,
         "type": "surface",
         "z": [
          [
           80.9574966430664,
           79.77973175048828,
           72.47627258300781,
           67.90403747558594,
           69.15339660644531,
           73.77259826660156,
           74.76276397705078,
           74.86198425292969,
           74.86813354492188
          ],
          [
           78.71829986572266,
           77.88351440429688,
           72.16511535644531,
           67.9071273803711,
           69.13935852050781,
           73.06026458740234,
           73.74383544921875,
           73.79442596435547,
           73.79811096191406
          ],
          [
           70.62326049804688,
           70.56880187988281,
           69.92952728271484,
           67.96583557128906,
           68.97647094726562,
           69.4841079711914,
           69.50788879394531,
           69.51040649414062,
           69.51065063476562
          ],
          [
           68.48685455322266,
           68.48698425292969,
           68.4877700805664,
           68.4919662475586,
           69.03057098388672,
           68.43170928955078,
           68.30457305908203,
           68.29676055908203,
           68.2962646484375
          ],
          [
           69.44883728027344,
           69.44908905029297,
           69.45320892333984,
           69.50424194335938,
           69.2366943359375,
           69.07105255126953,
           69.07305145263672,
           69.07501983642578,
           69.07522583007812
          ],
          [
           70.06986236572266,
           70.0698471069336,
           70.06951141357422,
           70.06275177001953,
           69.50151062011719,
           69.22311401367188,
           69.21994018554688,
           69.2242660522461,
           69.22463989257812
          ],
          [
           72.83987426757812,
           72.83967590332031,
           72.83625793457031,
           72.77522277832031,
           70.7430648803711,
           69.84046173095703,
           69.84201049804688,
           69.8535385131836,
           69.85472869873047
          ],
          [
           74.83726501464844,
           74.8369140625,
           74.83096313476562,
           74.71981048583984,
           71.57881164550781,
           70.28838348388672,
           70.2953109741211,
           70.3198471069336,
           70.32184600830078
          ],
          [
           75.0454330444336,
           75.04508972167969,
           75.03887939453125,
           74.9216079711914,
           71.66972351074219,
           70.33309936523438,
           70.3443603515625,
           70.37030029296875,
           70.37238311767578
          ]
         ]
        }
       ],
       "layout": {
        "autosize": false,
        "height": 500,
        "margin": {
         "b": 65,
         "l": 65,
         "r": 50,
         "t": 90
        },
        "scene": {
         "xaxis": {
          "tickmode": "array",
          "ticktext": [
           "1e-07",
           "2e-06",
           "3e-05",
           "5e-04",
           "9e-03",
           "2e-01",
           "3e+00",
           "5e+01",
           "9e+02"
          ],
          "tickvals": [
           0,
           1,
           2,
           3,
           4,
           5,
           6,
           7,
           8
          ],
          "title": {
           "text": "RNA_0-RNA_0"
          }
         },
         "yaxis": {
          "tickmode": "array",
          "ticktext": [
           "1e-07",
           "2e-06",
           "3e-05",
           "5e-04",
           "9e-03",
           "2e-01",
           "3e+00",
           "5e+01",
           "9e+02"
          ],
          "tickvals": [
           0,
           1,
           2,
           3,
           4,
           5,
           6,
           7,
           8
          ],
          "title": {
           "text": "RNA_0-RNA_1"
          }
         },
         "zaxis": {
          "title": {
           "text": "Precision"
          }
         }
        },
        "template": {
         "data": {
          "bar": [
           {
            "error_x": {
             "color": "#2a3f5f"
            },
            "error_y": {
             "color": "#2a3f5f"
            },
            "marker": {
             "line": {
              "color": "#E5ECF6",
              "width": 0.5
             },
             "pattern": {
              "fillmode": "overlay",
              "size": 10,
              "solidity": 0.2
             }
            },
            "type": "bar"
           }
          ],
          "barpolar": [
           {
            "marker": {
             "line": {
              "color": "#E5ECF6",
              "width": 0.5
             },
             "pattern": {
              "fillmode": "overlay",
              "size": 10,
              "solidity": 0.2
             }
            },
            "type": "barpolar"
           }
          ],
          "carpet": [
           {
            "aaxis": {
             "endlinecolor": "#2a3f5f",
             "gridcolor": "white",
             "linecolor": "white",
             "minorgridcolor": "white",
             "startlinecolor": "#2a3f5f"
            },
            "baxis": {
             "endlinecolor": "#2a3f5f",
             "gridcolor": "white",
             "linecolor": "white",
             "minorgridcolor": "white",
             "startlinecolor": "#2a3f5f"
            },
            "type": "carpet"
           }
          ],
          "choropleth": [
           {
            "colorbar": {
             "outlinewidth": 0,
             "ticks": ""
            },
            "type": "choropleth"
           }
          ],
          "contour": [
           {
            "colorbar": {
             "outlinewidth": 0,
             "ticks": ""
            },
            "colorscale": [
             [
              0,
              "#0d0887"
             ],
             [
              0.1111111111111111,
              "#46039f"
             ],
             [
              0.2222222222222222,
              "#7201a8"
             ],
             [
              0.3333333333333333,
              "#9c179e"
             ],
             [
              0.4444444444444444,
              "#bd3786"
             ],
             [
              0.5555555555555556,
              "#d8576b"
             ],
             [
              0.6666666666666666,
              "#ed7953"
             ],
             [
              0.7777777777777778,
              "#fb9f3a"
             ],
             [
              0.8888888888888888,
              "#fdca26"
             ],
             [
              1,
              "#f0f921"
             ]
            ],
            "type": "contour"
           }
          ],
          "contourcarpet": [
           {
            "colorbar": {
             "outlinewidth": 0,
             "ticks": ""
            },
            "type": "contourcarpet"
           }
          ],
          "heatmap": [
           {
            "colorbar": {
             "outlinewidth": 0,
             "ticks": ""
            },
            "colorscale": [
             [
              0,
              "#0d0887"
             ],
             [
              0.1111111111111111,
              "#46039f"
             ],
             [
              0.2222222222222222,
              "#7201a8"
             ],
             [
              0.3333333333333333,
              "#9c179e"
             ],
             [
              0.4444444444444444,
              "#bd3786"
             ],
             [
              0.5555555555555556,
              "#d8576b"
             ],
             [
              0.6666666666666666,
              "#ed7953"
             ],
             [
              0.7777777777777778,
              "#fb9f3a"
             ],
             [
              0.8888888888888888,
              "#fdca26"
             ],
             [
              1,
              "#f0f921"
             ]
            ],
            "type": "heatmap"
           }
          ],
          "heatmapgl": [
           {
            "colorbar": {
             "outlinewidth": 0,
             "ticks": ""
            },
            "colorscale": [
             [
              0,
              "#0d0887"
             ],
             [
              0.1111111111111111,
              "#46039f"
             ],
             [
              0.2222222222222222,
              "#7201a8"
             ],
             [
              0.3333333333333333,
              "#9c179e"
             ],
             [
              0.4444444444444444,
              "#bd3786"
             ],
             [
              0.5555555555555556,
              "#d8576b"
             ],
             [
              0.6666666666666666,
              "#ed7953"
             ],
             [
              0.7777777777777778,
              "#fb9f3a"
             ],
             [
              0.8888888888888888,
              "#fdca26"
             ],
             [
              1,
              "#f0f921"
             ]
            ],
            "type": "heatmapgl"
           }
          ],
          "histogram": [
           {
            "marker": {
             "pattern": {
              "fillmode": "overlay",
              "size": 10,
              "solidity": 0.2
             }
            },
            "type": "histogram"
           }
          ],
          "histogram2d": [
           {
            "colorbar": {
             "outlinewidth": 0,
             "ticks": ""
            },
            "colorscale": [
             [
              0,
              "#0d0887"
             ],
             [
              0.1111111111111111,
              "#46039f"
             ],
             [
              0.2222222222222222,
              "#7201a8"
             ],
             [
              0.3333333333333333,
              "#9c179e"
             ],
             [
              0.4444444444444444,
              "#bd3786"
             ],
             [
              0.5555555555555556,
              "#d8576b"
             ],
             [
              0.6666666666666666,
              "#ed7953"
             ],
             [
              0.7777777777777778,
              "#fb9f3a"
             ],
             [
              0.8888888888888888,
              "#fdca26"
             ],
             [
              1,
              "#f0f921"
             ]
            ],
            "type": "histogram2d"
           }
          ],
          "histogram2dcontour": [
           {
            "colorbar": {
             "outlinewidth": 0,
             "ticks": ""
            },
            "colorscale": [
             [
              0,
              "#0d0887"
             ],
             [
              0.1111111111111111,
              "#46039f"
             ],
             [
              0.2222222222222222,
              "#7201a8"
             ],
             [
              0.3333333333333333,
              "#9c179e"
             ],
             [
              0.4444444444444444,
              "#bd3786"
             ],
             [
              0.5555555555555556,
              "#d8576b"
             ],
             [
              0.6666666666666666,
              "#ed7953"
             ],
             [
              0.7777777777777778,
              "#fb9f3a"
             ],
             [
              0.8888888888888888,
              "#fdca26"
             ],
             [
              1,
              "#f0f921"
             ]
            ],
            "type": "histogram2dcontour"
           }
          ],
          "mesh3d": [
           {
            "colorbar": {
             "outlinewidth": 0,
             "ticks": ""
            },
            "type": "mesh3d"
           }
          ],
          "parcoords": [
           {
            "line": {
             "colorbar": {
              "outlinewidth": 0,
              "ticks": ""
             }
            },
            "type": "parcoords"
           }
          ],
          "pie": [
           {
            "automargin": true,
            "type": "pie"
           }
          ],
          "scatter": [
           {
            "fillpattern": {
             "fillmode": "overlay",
             "size": 10,
             "solidity": 0.2
            },
            "type": "scatter"
           }
          ],
          "scatter3d": [
           {
            "line": {
             "colorbar": {
              "outlinewidth": 0,
              "ticks": ""
             }
            },
            "marker": {
             "colorbar": {
              "outlinewidth": 0,
              "ticks": ""
             }
            },
            "type": "scatter3d"
           }
          ],
          "scattercarpet": [
           {
            "marker": {
             "colorbar": {
              "outlinewidth": 0,
              "ticks": ""
             }
            },
            "type": "scattercarpet"
           }
          ],
          "scattergeo": [
           {
            "marker": {
             "colorbar": {
              "outlinewidth": 0,
              "ticks": ""
             }
            },
            "type": "scattergeo"
           }
          ],
          "scattergl": [
           {
            "marker": {
             "colorbar": {
              "outlinewidth": 0,
              "ticks": ""
             }
            },
            "type": "scattergl"
           }
          ],
          "scattermapbox": [
           {
            "marker": {
             "colorbar": {
              "outlinewidth": 0,
              "ticks": ""
             }
            },
            "type": "scattermapbox"
           }
          ],
          "scatterpolar": [
           {
            "marker": {
             "colorbar": {
              "outlinewidth": 0,
              "ticks": ""
             }
            },
            "type": "scatterpolar"
           }
          ],
          "scatterpolargl": [
           {
            "marker": {
             "colorbar": {
              "outlinewidth": 0,
              "ticks": ""
             }
            },
            "type": "scatterpolargl"
           }
          ],
          "scatterternary": [
           {
            "marker": {
             "colorbar": {
              "outlinewidth": 0,
              "ticks": ""
             }
            },
            "type": "scatterternary"
           }
          ],
          "surface": [
           {
            "colorbar": {
             "outlinewidth": 0,
             "ticks": ""
            },
            "colorscale": [
             [
              0,
              "#0d0887"
             ],
             [
              0.1111111111111111,
              "#46039f"
             ],
             [
              0.2222222222222222,
              "#7201a8"
             ],
             [
              0.3333333333333333,
              "#9c179e"
             ],
             [
              0.4444444444444444,
              "#bd3786"
             ],
             [
              0.5555555555555556,
              "#d8576b"
             ],
             [
              0.6666666666666666,
              "#ed7953"
             ],
             [
              0.7777777777777778,
              "#fb9f3a"
             ],
             [
              0.8888888888888888,
              "#fdca26"
             ],
             [
              1,
              "#f0f921"
             ]
            ],
            "type": "surface"
           }
          ],
          "table": [
           {
            "cells": {
             "fill": {
              "color": "#EBF0F8"
             },
             "line": {
              "color": "white"
             }
            },
            "header": {
             "fill": {
              "color": "#C8D4E3"
             },
             "line": {
              "color": "white"
             }
            },
            "type": "table"
           }
          ]
         },
         "layout": {
          "annotationdefaults": {
           "arrowcolor": "#2a3f5f",
           "arrowhead": 0,
           "arrowwidth": 1
          },
          "autotypenumbers": "strict",
          "coloraxis": {
           "colorbar": {
            "outlinewidth": 0,
            "ticks": ""
           }
          },
          "colorscale": {
           "diverging": [
            [
             0,
             "#8e0152"
            ],
            [
             0.1,
             "#c51b7d"
            ],
            [
             0.2,
             "#de77ae"
            ],
            [
             0.3,
             "#f1b6da"
            ],
            [
             0.4,
             "#fde0ef"
            ],
            [
             0.5,
             "#f7f7f7"
            ],
            [
             0.6,
             "#e6f5d0"
            ],
            [
             0.7,
             "#b8e186"
            ],
            [
             0.8,
             "#7fbc41"
            ],
            [
             0.9,
             "#4d9221"
            ],
            [
             1,
             "#276419"
            ]
           ],
           "sequential": [
            [
             0,
             "#0d0887"
            ],
            [
             0.1111111111111111,
             "#46039f"
            ],
            [
             0.2222222222222222,
             "#7201a8"
            ],
            [
             0.3333333333333333,
             "#9c179e"
            ],
            [
             0.4444444444444444,
             "#bd3786"
            ],
            [
             0.5555555555555556,
             "#d8576b"
            ],
            [
             0.6666666666666666,
             "#ed7953"
            ],
            [
             0.7777777777777778,
             "#fb9f3a"
            ],
            [
             0.8888888888888888,
             "#fdca26"
            ],
            [
             1,
             "#f0f921"
            ]
           ],
           "sequentialminus": [
            [
             0,
             "#0d0887"
            ],
            [
             0.1111111111111111,
             "#46039f"
            ],
            [
             0.2222222222222222,
             "#7201a8"
            ],
            [
             0.3333333333333333,
             "#9c179e"
            ],
            [
             0.4444444444444444,
             "#bd3786"
            ],
            [
             0.5555555555555556,
             "#d8576b"
            ],
            [
             0.6666666666666666,
             "#ed7953"
            ],
            [
             0.7777777777777778,
             "#fb9f3a"
            ],
            [
             0.8888888888888888,
             "#fdca26"
            ],
            [
             1,
             "#f0f921"
            ]
           ]
          },
          "colorway": [
           "#636efa",
           "#EF553B",
           "#00cc96",
           "#ab63fa",
           "#FFA15A",
           "#19d3f3",
           "#FF6692",
           "#B6E880",
           "#FF97FF",
           "#FECB52"
          ],
          "font": {
           "color": "#2a3f5f"
          },
          "geo": {
           "bgcolor": "white",
           "lakecolor": "white",
           "landcolor": "#E5ECF6",
           "showlakes": true,
           "showland": true,
           "subunitcolor": "white"
          },
          "hoverlabel": {
           "align": "left"
          },
          "hovermode": "closest",
          "mapbox": {
           "style": "light"
          },
          "paper_bgcolor": "white",
          "plot_bgcolor": "#E5ECF6",
          "polar": {
           "angularaxis": {
            "gridcolor": "white",
            "linecolor": "white",
            "ticks": ""
           },
           "bgcolor": "#E5ECF6",
           "radialaxis": {
            "gridcolor": "white",
            "linecolor": "white",
            "ticks": ""
           }
          },
          "scene": {
           "xaxis": {
            "backgroundcolor": "#E5ECF6",
            "gridcolor": "white",
            "gridwidth": 2,
            "linecolor": "white",
            "showbackground": true,
            "ticks": "",
            "zerolinecolor": "white"
           },
           "yaxis": {
            "backgroundcolor": "#E5ECF6",
            "gridcolor": "white",
            "gridwidth": 2,
            "linecolor": "white",
            "showbackground": true,
            "ticks": "",
            "zerolinecolor": "white"
           },
           "zaxis": {
            "backgroundcolor": "#E5ECF6",
            "gridcolor": "white",
            "gridwidth": 2,
            "linecolor": "white",
            "showbackground": true,
            "ticks": "",
            "zerolinecolor": "white"
           }
          },
          "shapedefaults": {
           "line": {
            "color": "#2a3f5f"
           }
          },
          "ternary": {
           "aaxis": {
            "gridcolor": "white",
            "linecolor": "white",
            "ticks": ""
           },
           "baxis": {
            "gridcolor": "white",
            "linecolor": "white",
            "ticks": ""
           },
           "bgcolor": "#E5ECF6",
           "caxis": {
            "gridcolor": "white",
            "linecolor": "white",
            "ticks": ""
           }
          },
          "title": {
           "x": 0.05
          },
          "xaxis": {
           "automargin": true,
           "gridcolor": "white",
           "linecolor": "white",
           "ticks": "",
           "title": {
            "standoff": 15
           },
           "zerolinecolor": "white",
           "zerolinewidth": 2
          },
          "yaxis": {
           "automargin": true,
           "gridcolor": "white",
           "linecolor": "white",
           "ticks": "",
           "title": {
            "standoff": 15
           },
           "zerolinecolor": "white",
           "zerolinewidth": 2
          }
         }
        },
        "title": {
         "text": "Precision"
        },
        "width": 500
       }
      }
     },
     "metadata": {},
     "output_type": "display_data"
    }
   ],
   "source": [
    "slices = [slice(x.shape[1]), slice(x.shape[2]), 0, 0, 0, 0]\n",
    "xmax = np.max(x[tuple([slice(x.shape[0])] + slices)])\n",
    "\n",
    "surfs = []\n",
    "pi = 0\n",
    "for si in range(n_species):\n",
    "    if si == sig_idx:\n",
    "        continue\n",
    "    surfs.append(go.Surface(z=x[tuple([si] + slices)] +\n",
    "                 xmax * pi, showscale=False, opacity=0.9))\n",
    "    pi += 1\n",
    "    # surfs.append(go.Surface(z=x[si, :, :, 0, 0, 0, 0] + si * xmax, showscale=False, opacity=0.9))\n",
    "\n",
    "fig = go.Figure(data=surfs)\n",
    "\n",
    "fig.update_layout(title=prettify_keys_for_label(analytic_name), autosize=False,\n",
    "                  width=500, height=500,\n",
    "                  margin=dict(l=65, r=50, b=65, t=90),\n",
    "                  scene=dict(\n",
    "    xaxis=dict(\n",
    "        tickmode=\"array\",\n",
    "        ticktext=[f'{p:.0e}' for p in param_range],\n",
    "        tickvals=np.arange(x.shape[1]),\n",
    "        title=f\"{choice11}-{choice12}\"\n",
    "    ),\n",
    "    yaxis=dict(\n",
    "        tickmode=\"array\",\n",
    "        ticktext=[f'{p:.0e}' for p in param_range],\n",
    "        tickvals=np.arange(x.shape[1]),\n",
    "        title=f\"{choice21}-{choice22}\"\n",
    "    ), \n",
    "    zaxis=dict(title=prettify_keys_for_label(analytic_name))\n",
    "))\n",
    "\n",
    "# fig.write_html(f'stacked_{analytic_name}_{choice11}-{choice12}.html')"
   ]
  },
  {
   "cell_type": "markdown",
   "metadata": {},
   "source": [
    "# Slider"
   ]
  },
  {
   "cell_type": "code",
   "execution_count": 9,
   "metadata": {},
   "outputs": [
    {
     "data": {
      "application/vnd.plotly.v1+json": {
       "config": {
        "plotlyServerURL": "https://plot.ly"
       },
       "data": [
        {
         "name": "[3] = 1.00e-07",
         "opacity": 1,
         "showscale": false,
         "type": "surface",
         "visible": true,
         "z": [
          [
           31.426345825195312,
           28.474565505981445,
           11.568290710449219,
           2.435417413711548,
           3.6733391284942627,
           115.00614166259766,
           155.1620635986328,
           157.3759765625,
           158.26573181152344
          ],
          [
           25.837202072143555,
           23.883811950683594,
           10.8922119140625,
           2.4443905353546143,
           3.667654037475586,
           104.06002807617188,
           137.7574005126953,
           139.9303741455078,
           140.94985961914062
          ],
          [
           7.373987674713135,
           7.262146472930908,
           5.8439717292785645,
           2.5801327228546143,
           3.605149507522583,
           45.53384780883789,
           57.7831916809082,
           61.073219299316406,
           64.28335571289062
          ],
          [
           2.5835373401641846,
           2.5884578227996826,
           2.658881664276123,
           3.0983431339263916,
           3.4557130336761475,
           60.735897064208984,
           59.6152229309082,
           55.250526428222656,
           53.873600006103516
          ],
          [
           2.5017788410186768,
           2.5027666091918945,
           2.5178303718566895,
           2.665153741836548,
           2.64971923828125,
           13.582077980041504,
           159.19378662109375,
           978.5609741210938,
           2766.621337890625
          ],
          [
           3.1116857528686523,
           3.1118688583374023,
           3.1155455112457275,
           3.136428117752075,
           2.6986989974975586,
           5.013230800628662,
           49.238590240478516,
           265.01715087890625,
           292.0545654296875
          ],
          [
           6.08477783203125,
           6.084935188293457,
           6.082877159118652,
           6.032797813415527,
           4.0418806076049805,
           4.28936243057251,
           34.27161407470703,
           302.1845703125,
           333.5821228027344
          ],
          [
           8.222311019897461,
           8.221903800964355,
           8.217509269714355,
           8.106438636779785,
           4.900399684906006,
           4.643242359161377,
           35.4249382019043,
           288.3601989746094,
           426.5447082519531
          ],
          [
           8.445821762084961,
           8.445402145385742,
           8.440041542053223,
           8.322487831115723,
           4.9915666580200195,
           4.677844047546387,
           35.57779312133789,
           287.4295959472656,
           435.8581237792969
          ]
         ]
        },
        {
         "name": "[3] = 1.76e-06",
         "opacity": 1,
         "showscale": false,
         "type": "surface",
         "visible": false,
         "z": [
          [
           28.39474868774414,
           25.959854125976562,
           11.238739013671875,
           2.4301977157592773,
           3.664240837097168,
           109.62139892578125,
           146.29669189453125,
           147.80987548828125,
           148.37191772460938
          ],
          [
           23.822477340698242,
           22.173776626586914,
           10.570688247680664,
           2.4392361640930176,
           3.6577651500701904,
           99.7806625366211,
           130.85203552246094,
           132.09442138671875,
           132.75393676757812
          ],
          [
           7.247676849365234,
           7.141047477722168,
           5.77692174911499,
           2.575869560241699,
           3.5982656478881836,
           44.651424407958984,
           56.43086242675781,
           59.261810302734375,
           61.764774322509766
          ],
          [
           2.5839881896972656,
           2.5889058113098145,
           2.659208297729492,
           3.098604679107666,
           3.4555559158325195,
           59.39156723022461,
           58.34817886352539,
           54.18954849243164,
           52.31381607055664
          ],
          [
           2.5020148754119873,
           2.503002405166626,
           2.518065929412842,
           2.6653201580047607,
           2.649538516998291,
           13.600205421447754,
           165.34603881835938,
           997.7297973632812,
           2776.85693359375
          ],
          [
           3.111663341522217,
           3.1118452548980713,
           3.1155221462249756,
           3.1364011764526367,
           2.6986076831817627,
           5.01365852355957,
           49.43904495239258,
           271.29119873046875,
           299.68292236328125
          ],
          [
           6.084545135498047,
           6.084719657897949,
           6.082663536071777,
           6.0325751304626465,
           4.041563034057617,
           4.289356708526611,
           34.29275131225586,
           302.18719482421875,
           338.5101318359375
          ],
          [
           8.22192096710205,
           8.22152328491211,
           8.217066764831543,
           8.106050491333008,
           4.900088787078857,
           4.643181800842285,
           35.45059585571289,
           288.3424377441406,
           433.2708740234375
          ],
          [
           8.445417404174805,
           8.44498348236084,
           8.439565658569336,
           8.322060585021973,
           4.991266250610352,
           4.677753448486328,
           35.60441207885742,
           287.3997497558594,
           443.6607666015625
          ]
         ]
        },
        {
         "name": "[3] = 3.08e-05",
         "opacity": 1,
         "showscale": false,
         "type": "surface",
         "visible": false,
         "z": [
          [
           11.101838111877441,
           10.81020450592041,
           7.405522346496582,
           2.3440983295440674,
           3.494879961013794,
           58.46796417236328,
           69.46810150146484,
           70.8626708984375,
           69.92882537841797
          ],
          [
           10.452417373657227,
           10.165626525878906,
           7.165091514587402,
           2.354020357131958,
           3.493669271469116,
           55.39183807373047,
           65.82447052001953,
           66.98564910888672,
           66.09828186035156
          ],
          [
           5.624270439147949,
           5.574462890625,
           4.8382568359375,
           2.5061726570129395,
           3.4797911643981934,
           33.03623580932617,
           39.38663864135742,
           39.52964782714844,
           39.19730758666992
          ],
          [
           2.5831949710845947,
           2.5874035358428955,
           2.6565330028533936,
           3.1025474071502686,
           3.450019359588623,
           44.1353645324707,
           42.04817581176758,
           42.799442291259766,
           41.43360900878906
          ],
          [
           2.5060863494873047,
           2.5070765018463135,
           2.522088050842285,
           2.6519241333007812,
           2.645906448364258,
           13.938891410827637,
           481.1009216308594,
           1576.484130859375,
           2986.04248046875
          ],
          [
           3.111232280731201,
           3.1113998889923096,
           3.115081548690796,
           3.135910749435425,
           2.697120189666748,
           5.020609378814697,
           53.25126266479492,
           463.1264343261719,
           467.16180419921875
          ],
          [
           6.080663681030273,
           6.080930233001709,
           6.0788350105285645,
           6.028637886047363,
           4.036172866821289,
           4.289213180541992,
           34.71080017089844,
           302.29656982421875,
           463.4731750488281
          ],
          [
           8.214960098266602,
           8.214498519897461,
           8.209321975708008,
           8.099080085754395,
           4.894180774688721,
           4.64214563369751,
           35.907325744628906,
           288.13922119140625,
           608.264892578125
          ],
          [
           8.437268257141113,
           8.436790466308594,
           8.431312561035156,
           8.314615249633789,
           4.985945701599121,
           4.6760172843933105,
           36.04015350341797,
           287.10894775390625,
           623.720458984375
          ]
         ]
        },
        {
         "name": "[3] = 5.41e-04",
         "opacity": 1,
         "showscale": false,
         "type": "surface",
         "visible": false,
         "z": [
          [
           1.7508186101913452,
           1.7511950731277466,
           1.7551156282424927,
           1.572058916091919,
           2.062084197998047,
           5.1868743896484375,
           5.488361835479736,
           5.515264987945557,
           5.510619163513184
          ],
          [
           1.7583128213882446,
           1.7584843635559082,
           1.7636420726776123,
           1.5866060256958008,
           2.0764646530151367,
           5.206761360168457,
           5.50933313369751,
           5.537405014038086,
           5.533844947814941
          ],
          [
           1.8715910911560059,
           1.8727827072143555,
           1.8890697956085205,
           1.831007719039917,
           2.3040952682495117,
           5.5654377937316895,
           5.898469924926758,
           5.94923210144043,
           5.967978477478027
          ],
          [
           2.5091965198516846,
           2.5130062103271484,
           2.5663788318634033,
           2.9870705604553223,
           3.227151870727539,
           11.103382110595703,
           10.329421043395996,
           10.42398452758789,
           10.365204811096191
          ],
          [
           2.5309548377990723,
           2.531763792037964,
           2.5339977741241455,
           2.6761422157287598,
           2.620216131210327,
           21.643569946289062,
           29.49909782409668,
           26.44217872619629,
           27.26287269592285
          ],
          [
           3.101954698562622,
           3.1020779609680176,
           3.105804681777954,
           3.078922986984253,
           2.6618738174438477,
           5.118010520935059,
           259.3252258300781,
           129.4365997314453,
           126.1641616821289
          ],
          [
           6.010427474975586,
           6.010563850402832,
           6.008909225463867,
           5.8946685791015625,
           3.9439446926116943,
           4.285892009735107,
           50.14872360229492,
           671.5762939453125,
           273.4858093261719
          ],
          [
           8.083673477172852,
           8.083268165588379,
           8.078353881835938,
           7.88273811340332,
           4.81000280380249,
           4.62255859375,
           42.73247146606445,
           683.54736328125,
           348.4027099609375
          ],
          [
           8.299578666687012,
           8.299138069152832,
           8.293792724609375,
           8.089167594909668,
           4.9013590812683105,
           4.658566474914551,
           42.259124755859375,
           660.2203979492188,
           356.5657653808594
          ]
         ]
        },
        {
         "name": "[3] = 9.49e-03",
         "opacity": 1,
         "showscale": false,
         "type": "surface",
         "visible": false,
         "z": [
          [
           2.306412696838379,
           2.2983267307281494,
           2.2578771114349365,
           1.8261529207229614,
           2.186605930328369,
           4.591782093048096,
           4.68511438369751,
           4.705950736999512,
           4.7212910652160645
          ],
          [
           2.3021128177642822,
           2.2973134517669678,
           2.2585229873657227,
           1.8390419483184814,
           2.1966922283172607,
           4.579739093780518,
           4.6698832511901855,
           4.6911540031433105,
           4.705869674682617
          ],
          [
           2.2569925785064697,
           2.2555019855499268,
           2.2478556632995605,
           2.0374786853790283,
           2.3543787002563477,
           4.38816499710083,
           4.476570129394531,
           4.494601726531982,
           4.506555080413818
          ],
          [
           2.375722885131836,
           2.377393960952759,
           2.411285161972046,
           2.8372788429260254,
           2.9409191608428955,
           5.1492838859558105,
           4.84337854385376,
           4.837156772613525,
           4.833624839782715
          ],
          [
           2.260462760925293,
           2.261486291885376,
           2.27022647857666,
           2.3652350902557373,
           2.347663402557373,
           16.862728118896484,
           5.7607645988464355,
           5.535659313201904,
           5.519747734069824
          ],
          [
           2.5213048458099365,
           2.521430492401123,
           2.5229570865631104,
           2.5165863037109375,
           2.3057775497436523,
           6.384210109710693,
           7.8290510177612305,
           6.639276504516602,
           6.579680442810059
          ],
          [
           3.9150571823120117,
           3.9148242473602295,
           3.912045955657959,
           3.8348023891448975,
           3.0727598667144775,
           3.9825356006622314,
           15.737020492553711,
           9.642396926879883,
           9.421049118041992
          ],
          [
           4.773200988769531,
           4.772861480712891,
           4.769310474395752,
           4.698378086090088,
           3.6228268146514893,
           4.150699615478516,
           21.3265438079834,
           11.069173812866211,
           10.749187469482422
          ],
          [
           4.864718914031982,
           4.864255428314209,
           4.8613457679748535,
           4.789855003356934,
           3.6704280376434326,
           4.17560338973999,
           22.034894943237305,
           11.225751876831055,
           10.900139808654785
          ]
         ]
        },
        {
         "name": "[3] = 1.67e-01",
         "opacity": 1,
         "showscale": false,
         "type": "surface",
         "visible": false,
         "z": [
          [
           11.163179397583008,
           10.77820110321045,
           7.051085948944092,
           2.122313976287842,
           3.0274014472961426,
           240.23855590820312,
           394.65789794921875,
           462.31549072265625,
           466.43603515625
          ],
          [
           10.094710350036621,
           9.805830001831055,
           6.675405502319336,
           2.1257576942443848,
           3.0176827907562256,
           215.97515869140625,
           355.6390380859375,
           416.2786865234375,
           419.9671936035156
          ],
          [
           4.324713706970215,
           4.294233798980713,
           3.8667359352111816,
           2.186344623565674,
           2.8764288425445557,
           89.31482696533203,
           150.6427001953125,
           172.08935546875,
           173.40444946289062
          ],
          [
           2.080150842666626,
           2.0831518173217773,
           2.1353118419647217,
           2.5829854011535645,
           2.7519662380218506,
           273.1385192871094,
           70.20248413085938,
           81.46517944335938,
           78.32493591308594
          ],
          [
           2.0783679485321045,
           2.079008102416992,
           2.0885021686553955,
           2.205049514770508,
           2.2396914958953857,
           13.269362449645996,
           59.09354019165039,
           43.64915084838867,
           42.37580108642578
          ],
          [
           2.187594175338745,
           2.187819004058838,
           2.19069504737854,
           2.2021613121032715,
           2.1182029247283936,
           4.312291622161865,
           26.651748657226562,
           18.417863845825195,
           17.99793815612793
          ],
          [
           2.815845251083374,
           2.815920829772949,
           2.8167200088500977,
           2.8077404499053955,
           2.4981307983398438,
           3.0154647827148438,
           27.186838150024414,
           12.190179824829102,
           11.759472846984863
          ],
          [
           3.269472122192383,
           3.269483804702759,
           3.26973557472229,
           3.252460241317749,
           2.826162815093994,
           2.9522857666015625,
           29.221893310546875,
           11.845744132995605,
           11.495990753173828
          ],
          [
           3.316070079803467,
           3.31606125831604,
           3.3158071041107178,
           3.3001222610473633,
           2.8611767292022705,
           2.9489259719848633,
           29.62285804748535,
           11.840805053710938,
           11.468435287475586
          ]
         ]
        },
        {
         "name": "[3] = 2.92e+00",
         "opacity": 1,
         "showscale": false,
         "type": "surface",
         "visible": false,
         "z": [
          [
           12.674986839294434,
           12.126940727233887,
           7.265031814575195,
           2.0577986240386963,
           2.9487192630767822,
           419.15264892578125,
           4142.3408203125,
           5868.3583984375,
           130352.0078125
          ],
          [
           11.212531089782715,
           10.804414749145508,
           6.847506046295166,
           2.062779426574707,
           2.9391369819641113,
           372.25958251953125,
           3698.84765625,
           5188.72119140625,
           114775.1171875
          ],
          [
           4.371599197387695,
           4.336678504943848,
           3.8432328701019287,
           2.1520071029663086,
           2.8137028217315674,
           145.21420288085938,
           1581.227294921875,
           2061.86669921875,
           44096.73828125
          ],
          [
           2.071073055267334,
           2.0749077796936035,
           2.135874032974243,
           2.5919158458709717,
           2.7263503074645996,
           163.27023315429688,
           453.8487548828125,
           971.3194580078125,
           18164.7890625
          ],
          [
           2.083136558532715,
           2.083787441253662,
           2.092768669128418,
           2.2153937816619873,
           2.2235918045043945,
           10.529923439025879,
           113.72779083251953,
           1003.044921875,
           14461.0009765625
          ],
          [
           2.1767687797546387,
           2.176863431930542,
           2.179227352142334,
           2.1946990489959717,
           2.1289148330688477,
           3.806957960128784,
           44.74252700805664,
           447.45806884765625,
           7064.03955078125
          ],
          [
           2.792658567428589,
           2.79270601272583,
           2.794138193130493,
           2.795545816421509,
           2.52455735206604,
           2.774160146713257,
           27.971424102783203,
           411.91766357421875,
           3331.9228515625
          ],
          [
           3.272836446762085,
           3.2727673053741455,
           3.2723143100738525,
           3.246927261352539,
           2.905848264694214,
           2.7454371452331543,
           23.56688117980957,
           3067.854248046875,
           954.4918823242188
          ],
          [
           3.323220729827881,
           3.323235511779785,
           3.3240818977355957,
           3.29571270942688,
           2.9413840770721436,
           2.75012469291687,
           23.187978744506836,
           1902.5570068359375,
           778.927978515625
          ]
         ]
        },
        {
         "name": "[3] = 5.13e+01",
         "opacity": 1,
         "showscale": false,
         "type": "surface",
         "visible": false,
         "z": [
          [
           12.800850868225098,
           12.23767375946045,
           7.273149013519287,
           2.051682710647583,
           2.9387662410736084,
           425.41448974609375,
           2992.8740234375,
           3413.21337890625,
           13881.8046875
          ],
          [
           11.298283576965332,
           10.868071556091309,
           6.84627628326416,
           2.0563437938690186,
           2.9297406673431396,
           377.7710876464844,
           2665.20361328125,
           3014.60498046875,
           12241.146484375
          ],
          [
           4.376272678375244,
           4.341047763824463,
           3.8406200408935547,
           2.1484038829803467,
           2.8075382709503174,
           147.68067932128906,
           1115.53515625,
           1191.9649658203125,
           4787.35498046875
          ],
          [
           2.070551872253418,
           2.074420690536499,
           2.1377365589141846,
           2.5951623916625977,
           2.7240993976593018,
           153.50294494628906,
           349.0174255371094,
           555.5904541015625,
           2125.02490234375
          ],
          [
           2.085395336151123,
           2.0860743522644043,
           2.095301628112793,
           2.2200448513031006,
           2.2224466800689697,
           10.378729820251465,
           105.13772583007812,
           611.9112548828125,
           2284.34130859375
          ],
          [
           2.1813580989837646,
           2.181368112564087,
           2.1838576793670654,
           2.199103593826294,
           2.13106632232666,
           3.787383794784546,
           38.528018951416016,
           378.6878356933594,
           2727.4267578125
          ],
          [
           2.803635358810425,
           2.803607940673828,
           2.80499529838562,
           2.8065521717071533,
           2.5319855213165283,
           2.75138258934021,
           24.03104019165039,
           200.48580932617188,
           2969.106689453125
          ],
          [
           3.3031766414642334,
           3.303013324737549,
           3.3023924827575684,
           3.2686641216278076,
           2.9242372512817383,
           2.734271764755249,
           20.096797943115234,
           174.1866455078125,
           2986.239013671875
          ],
          [
           3.3558433055877686,
           3.3556246757507324,
           3.353628158569336,
           3.3185391426086426,
           2.960751533508301,
           2.7389092445373535,
           19.83247947692871,
           172.33164978027344,
           2985.578369140625
          ]
         ]
        },
        {
         "name": "[3] = 9.00e+02",
         "opacity": 1,
         "showscale": false,
         "type": "surface",
         "visible": false,
         "z": [
          [
           12.806857109069824,
           12.243178367614746,
           7.27285099029541,
           2.0512430667877197,
           2.9384942054748535,
           427.7308044433594,
           2852.443115234375,
           3336.78759765625,
           13189.005859375
          ],
          [
           11.304133415222168,
           10.872429847717285,
           6.845595359802246,
           2.0559468269348145,
           2.929384708404541,
           379.8424377441406,
           2537.563232421875,
           2947.80712890625,
           11639.9814453125
          ],
          [
           4.37724494934082,
           4.341890335083008,
           3.840311288833618,
           2.1483051776885986,
           2.8073158264160156,
           148.42605590820312,
           1061.1962890625,
           1164.3349609375,
           4551.07763671875
          ],
          [
           2.070462226867676,
           2.0742080211639404,
           2.1376864910125732,
           2.5951995849609375,
           2.7239136695861816,
           151.4792022705078,
           339.18096923828125,
           542.40185546875,
           2020.41943359375
          ],
          [
           2.0855166912078857,
           2.086200475692749,
           2.095499277114868,
           2.2203195095062256,
           2.222402811050415,
           10.366254806518555,
           104.59248352050781,
           598.9811401367188,
           2171.251953125
          ],
          [
           2.181779146194458,
           2.18178653717041,
           2.184284210205078,
           2.199423313140869,
           2.1312003135681152,
           3.7857859134674072,
           38.4315071105957,
           375.360107421875,
           2618.742919921875
          ],
          [
           2.8050003051757812,
           2.8049750328063965,
           2.8063559532165527,
           2.8077268600463867,
           2.532762289047241,
           2.7495017051696777,
           23.712181091308594,
           200.0650177001953,
           2937.012939453125
          ],
          [
           3.310101270675659,
           3.310060977935791,
           3.3090736865997314,
           3.270561933517456,
           2.925037145614624,
           2.7346293926239014,
           20.015199661254883,
           174.091552734375,
           2982.44091796875
          ],
          [
           3.3613035678863525,
           3.36126971244812,
           3.362278461456299,
           3.3205440044403076,
           2.962439775466919,
           2.7385218143463135,
           19.703859329223633,
           172.22683715820312,
           2981.765625
          ]
         ]
        }
       ],
       "layout": {
        "scene": {
         "xaxis": {
          "tickmode": "array",
          "ticktext": [
           "1e-07",
           "2e-06",
           "3e-05",
           "5e-04",
           "9e-03",
           "2e-01",
           "3e+00",
           "5e+01",
           "9e+02"
          ],
          "tickvals": [
           0,
           1,
           2,
           3,
           4,
           5,
           6,
           7,
           8
          ],
          "title": {
           "text": "RNA_0-RNA_0"
          }
         },
         "yaxis": {
          "tickmode": "array",
          "ticktext": [
           "1e-07",
           "2e-06",
           "3e-05",
           "5e-04",
           "9e-03",
           "2e-01",
           "3e+00",
           "5e+01",
           "9e+02"
          ],
          "tickvals": [
           0,
           1,
           2,
           3,
           4,
           5,
           6,
           7,
           8
          ],
          "title": {
           "text": "RNA_0-RNA_1"
          }
         },
         "zaxis": {
          "title": {
           "text": "Precision RNA_1"
          }
         }
        },
        "sliders": [
         {
          "active": 0,
          "currentvalue": {
           "prefix": "Interaction strength RNA_0-RNA_2: "
          },
          "pad": {
           "t": 50
          },
          "steps": [
           {
            "args": [
             {
              "visible": [
               true,
               false,
               false,
               false,
               false,
               false,
               false,
               false,
               false
              ]
             },
             {
              "title": "Slider switched to step: 1.00e-07"
             }
            ],
            "label": "1e-07",
            "method": "update"
           },
           {
            "args": [
             {
              "visible": [
               false,
               true,
               false,
               false,
               false,
               false,
               false,
               false,
               false
              ]
             },
             {
              "title": "Slider switched to step: 1.76e-06"
             }
            ],
            "label": "1.8e-06",
            "method": "update"
           },
           {
            "args": [
             {
              "visible": [
               false,
               false,
               true,
               false,
               false,
               false,
               false,
               false,
               false
              ]
             },
             {
              "title": "Slider switched to step: 3.08e-05"
             }
            ],
            "label": "3.1e-05",
            "method": "update"
           },
           {
            "args": [
             {
              "visible": [
               false,
               false,
               false,
               true,
               false,
               false,
               false,
               false,
               false
              ]
             },
             {
              "title": "Slider switched to step: 5.41e-04"
             }
            ],
            "label": "0.00054",
            "method": "update"
           },
           {
            "args": [
             {
              "visible": [
               false,
               false,
               false,
               false,
               true,
               false,
               false,
               false,
               false
              ]
             },
             {
              "title": "Slider switched to step: 9.49e-03"
             }
            ],
            "label": "0.0095",
            "method": "update"
           },
           {
            "args": [
             {
              "visible": [
               false,
               false,
               false,
               false,
               false,
               true,
               false,
               false,
               false
              ]
             },
             {
              "title": "Slider switched to step: 1.67e-01"
             }
            ],
            "label": "0.17",
            "method": "update"
           },
           {
            "args": [
             {
              "visible": [
               false,
               false,
               false,
               false,
               false,
               false,
               true,
               false,
               false
              ]
             },
             {
              "title": "Slider switched to step: 2.92e+00"
             }
            ],
            "label": "2.9",
            "method": "update"
           },
           {
            "args": [
             {
              "visible": [
               false,
               false,
               false,
               false,
               false,
               false,
               false,
               true,
               false
              ]
             },
             {
              "title": "Slider switched to step: 5.13e+01"
             }
            ],
            "label": "5.1e+01",
            "method": "update"
           },
           {
            "args": [
             {
              "visible": [
               false,
               false,
               false,
               false,
               false,
               false,
               false,
               false,
               true
              ]
             },
             {
              "title": "Slider switched to step: 9.00e+02"
             }
            ],
            "label": "9e+02",
            "method": "update"
           }
          ]
         }
        ],
        "template": {
         "data": {
          "bar": [
           {
            "error_x": {
             "color": "#2a3f5f"
            },
            "error_y": {
             "color": "#2a3f5f"
            },
            "marker": {
             "line": {
              "color": "#E5ECF6",
              "width": 0.5
             },
             "pattern": {
              "fillmode": "overlay",
              "size": 10,
              "solidity": 0.2
             }
            },
            "type": "bar"
           }
          ],
          "barpolar": [
           {
            "marker": {
             "line": {
              "color": "#E5ECF6",
              "width": 0.5
             },
             "pattern": {
              "fillmode": "overlay",
              "size": 10,
              "solidity": 0.2
             }
            },
            "type": "barpolar"
           }
          ],
          "carpet": [
           {
            "aaxis": {
             "endlinecolor": "#2a3f5f",
             "gridcolor": "white",
             "linecolor": "white",
             "minorgridcolor": "white",
             "startlinecolor": "#2a3f5f"
            },
            "baxis": {
             "endlinecolor": "#2a3f5f",
             "gridcolor": "white",
             "linecolor": "white",
             "minorgridcolor": "white",
             "startlinecolor": "#2a3f5f"
            },
            "type": "carpet"
           }
          ],
          "choropleth": [
           {
            "colorbar": {
             "outlinewidth": 0,
             "ticks": ""
            },
            "type": "choropleth"
           }
          ],
          "contour": [
           {
            "colorbar": {
             "outlinewidth": 0,
             "ticks": ""
            },
            "colorscale": [
             [
              0,
              "#0d0887"
             ],
             [
              0.1111111111111111,
              "#46039f"
             ],
             [
              0.2222222222222222,
              "#7201a8"
             ],
             [
              0.3333333333333333,
              "#9c179e"
             ],
             [
              0.4444444444444444,
              "#bd3786"
             ],
             [
              0.5555555555555556,
              "#d8576b"
             ],
             [
              0.6666666666666666,
              "#ed7953"
             ],
             [
              0.7777777777777778,
              "#fb9f3a"
             ],
             [
              0.8888888888888888,
              "#fdca26"
             ],
             [
              1,
              "#f0f921"
             ]
            ],
            "type": "contour"
           }
          ],
          "contourcarpet": [
           {
            "colorbar": {
             "outlinewidth": 0,
             "ticks": ""
            },
            "type": "contourcarpet"
           }
          ],
          "heatmap": [
           {
            "colorbar": {
             "outlinewidth": 0,
             "ticks": ""
            },
            "colorscale": [
             [
              0,
              "#0d0887"
             ],
             [
              0.1111111111111111,
              "#46039f"
             ],
             [
              0.2222222222222222,
              "#7201a8"
             ],
             [
              0.3333333333333333,
              "#9c179e"
             ],
             [
              0.4444444444444444,
              "#bd3786"
             ],
             [
              0.5555555555555556,
              "#d8576b"
             ],
             [
              0.6666666666666666,
              "#ed7953"
             ],
             [
              0.7777777777777778,
              "#fb9f3a"
             ],
             [
              0.8888888888888888,
              "#fdca26"
             ],
             [
              1,
              "#f0f921"
             ]
            ],
            "type": "heatmap"
           }
          ],
          "heatmapgl": [
           {
            "colorbar": {
             "outlinewidth": 0,
             "ticks": ""
            },
            "colorscale": [
             [
              0,
              "#0d0887"
             ],
             [
              0.1111111111111111,
              "#46039f"
             ],
             [
              0.2222222222222222,
              "#7201a8"
             ],
             [
              0.3333333333333333,
              "#9c179e"
             ],
             [
              0.4444444444444444,
              "#bd3786"
             ],
             [
              0.5555555555555556,
              "#d8576b"
             ],
             [
              0.6666666666666666,
              "#ed7953"
             ],
             [
              0.7777777777777778,
              "#fb9f3a"
             ],
             [
              0.8888888888888888,
              "#fdca26"
             ],
             [
              1,
              "#f0f921"
             ]
            ],
            "type": "heatmapgl"
           }
          ],
          "histogram": [
           {
            "marker": {
             "pattern": {
              "fillmode": "overlay",
              "size": 10,
              "solidity": 0.2
             }
            },
            "type": "histogram"
           }
          ],
          "histogram2d": [
           {
            "colorbar": {
             "outlinewidth": 0,
             "ticks": ""
            },
            "colorscale": [
             [
              0,
              "#0d0887"
             ],
             [
              0.1111111111111111,
              "#46039f"
             ],
             [
              0.2222222222222222,
              "#7201a8"
             ],
             [
              0.3333333333333333,
              "#9c179e"
             ],
             [
              0.4444444444444444,
              "#bd3786"
             ],
             [
              0.5555555555555556,
              "#d8576b"
             ],
             [
              0.6666666666666666,
              "#ed7953"
             ],
             [
              0.7777777777777778,
              "#fb9f3a"
             ],
             [
              0.8888888888888888,
              "#fdca26"
             ],
             [
              1,
              "#f0f921"
             ]
            ],
            "type": "histogram2d"
           }
          ],
          "histogram2dcontour": [
           {
            "colorbar": {
             "outlinewidth": 0,
             "ticks": ""
            },
            "colorscale": [
             [
              0,
              "#0d0887"
             ],
             [
              0.1111111111111111,
              "#46039f"
             ],
             [
              0.2222222222222222,
              "#7201a8"
             ],
             [
              0.3333333333333333,
              "#9c179e"
             ],
             [
              0.4444444444444444,
              "#bd3786"
             ],
             [
              0.5555555555555556,
              "#d8576b"
             ],
             [
              0.6666666666666666,
              "#ed7953"
             ],
             [
              0.7777777777777778,
              "#fb9f3a"
             ],
             [
              0.8888888888888888,
              "#fdca26"
             ],
             [
              1,
              "#f0f921"
             ]
            ],
            "type": "histogram2dcontour"
           }
          ],
          "mesh3d": [
           {
            "colorbar": {
             "outlinewidth": 0,
             "ticks": ""
            },
            "type": "mesh3d"
           }
          ],
          "parcoords": [
           {
            "line": {
             "colorbar": {
              "outlinewidth": 0,
              "ticks": ""
             }
            },
            "type": "parcoords"
           }
          ],
          "pie": [
           {
            "automargin": true,
            "type": "pie"
           }
          ],
          "scatter": [
           {
            "fillpattern": {
             "fillmode": "overlay",
             "size": 10,
             "solidity": 0.2
            },
            "type": "scatter"
           }
          ],
          "scatter3d": [
           {
            "line": {
             "colorbar": {
              "outlinewidth": 0,
              "ticks": ""
             }
            },
            "marker": {
             "colorbar": {
              "outlinewidth": 0,
              "ticks": ""
             }
            },
            "type": "scatter3d"
           }
          ],
          "scattercarpet": [
           {
            "marker": {
             "colorbar": {
              "outlinewidth": 0,
              "ticks": ""
             }
            },
            "type": "scattercarpet"
           }
          ],
          "scattergeo": [
           {
            "marker": {
             "colorbar": {
              "outlinewidth": 0,
              "ticks": ""
             }
            },
            "type": "scattergeo"
           }
          ],
          "scattergl": [
           {
            "marker": {
             "colorbar": {
              "outlinewidth": 0,
              "ticks": ""
             }
            },
            "type": "scattergl"
           }
          ],
          "scattermapbox": [
           {
            "marker": {
             "colorbar": {
              "outlinewidth": 0,
              "ticks": ""
             }
            },
            "type": "scattermapbox"
           }
          ],
          "scatterpolar": [
           {
            "marker": {
             "colorbar": {
              "outlinewidth": 0,
              "ticks": ""
             }
            },
            "type": "scatterpolar"
           }
          ],
          "scatterpolargl": [
           {
            "marker": {
             "colorbar": {
              "outlinewidth": 0,
              "ticks": ""
             }
            },
            "type": "scatterpolargl"
           }
          ],
          "scatterternary": [
           {
            "marker": {
             "colorbar": {
              "outlinewidth": 0,
              "ticks": ""
             }
            },
            "type": "scatterternary"
           }
          ],
          "surface": [
           {
            "colorbar": {
             "outlinewidth": 0,
             "ticks": ""
            },
            "colorscale": [
             [
              0,
              "#0d0887"
             ],
             [
              0.1111111111111111,
              "#46039f"
             ],
             [
              0.2222222222222222,
              "#7201a8"
             ],
             [
              0.3333333333333333,
              "#9c179e"
             ],
             [
              0.4444444444444444,
              "#bd3786"
             ],
             [
              0.5555555555555556,
              "#d8576b"
             ],
             [
              0.6666666666666666,
              "#ed7953"
             ],
             [
              0.7777777777777778,
              "#fb9f3a"
             ],
             [
              0.8888888888888888,
              "#fdca26"
             ],
             [
              1,
              "#f0f921"
             ]
            ],
            "type": "surface"
           }
          ],
          "table": [
           {
            "cells": {
             "fill": {
              "color": "#EBF0F8"
             },
             "line": {
              "color": "white"
             }
            },
            "header": {
             "fill": {
              "color": "#C8D4E3"
             },
             "line": {
              "color": "white"
             }
            },
            "type": "table"
           }
          ]
         },
         "layout": {
          "annotationdefaults": {
           "arrowcolor": "#2a3f5f",
           "arrowhead": 0,
           "arrowwidth": 1
          },
          "autotypenumbers": "strict",
          "coloraxis": {
           "colorbar": {
            "outlinewidth": 0,
            "ticks": ""
           }
          },
          "colorscale": {
           "diverging": [
            [
             0,
             "#8e0152"
            ],
            [
             0.1,
             "#c51b7d"
            ],
            [
             0.2,
             "#de77ae"
            ],
            [
             0.3,
             "#f1b6da"
            ],
            [
             0.4,
             "#fde0ef"
            ],
            [
             0.5,
             "#f7f7f7"
            ],
            [
             0.6,
             "#e6f5d0"
            ],
            [
             0.7,
             "#b8e186"
            ],
            [
             0.8,
             "#7fbc41"
            ],
            [
             0.9,
             "#4d9221"
            ],
            [
             1,
             "#276419"
            ]
           ],
           "sequential": [
            [
             0,
             "#0d0887"
            ],
            [
             0.1111111111111111,
             "#46039f"
            ],
            [
             0.2222222222222222,
             "#7201a8"
            ],
            [
             0.3333333333333333,
             "#9c179e"
            ],
            [
             0.4444444444444444,
             "#bd3786"
            ],
            [
             0.5555555555555556,
             "#d8576b"
            ],
            [
             0.6666666666666666,
             "#ed7953"
            ],
            [
             0.7777777777777778,
             "#fb9f3a"
            ],
            [
             0.8888888888888888,
             "#fdca26"
            ],
            [
             1,
             "#f0f921"
            ]
           ],
           "sequentialminus": [
            [
             0,
             "#0d0887"
            ],
            [
             0.1111111111111111,
             "#46039f"
            ],
            [
             0.2222222222222222,
             "#7201a8"
            ],
            [
             0.3333333333333333,
             "#9c179e"
            ],
            [
             0.4444444444444444,
             "#bd3786"
            ],
            [
             0.5555555555555556,
             "#d8576b"
            ],
            [
             0.6666666666666666,
             "#ed7953"
            ],
            [
             0.7777777777777778,
             "#fb9f3a"
            ],
            [
             0.8888888888888888,
             "#fdca26"
            ],
            [
             1,
             "#f0f921"
            ]
           ]
          },
          "colorway": [
           "#636efa",
           "#EF553B",
           "#00cc96",
           "#ab63fa",
           "#FFA15A",
           "#19d3f3",
           "#FF6692",
           "#B6E880",
           "#FF97FF",
           "#FECB52"
          ],
          "font": {
           "color": "#2a3f5f"
          },
          "geo": {
           "bgcolor": "white",
           "lakecolor": "white",
           "landcolor": "#E5ECF6",
           "showlakes": true,
           "showland": true,
           "subunitcolor": "white"
          },
          "hoverlabel": {
           "align": "left"
          },
          "hovermode": "closest",
          "mapbox": {
           "style": "light"
          },
          "paper_bgcolor": "white",
          "plot_bgcolor": "#E5ECF6",
          "polar": {
           "angularaxis": {
            "gridcolor": "white",
            "linecolor": "white",
            "ticks": ""
           },
           "bgcolor": "#E5ECF6",
           "radialaxis": {
            "gridcolor": "white",
            "linecolor": "white",
            "ticks": ""
           }
          },
          "scene": {
           "xaxis": {
            "backgroundcolor": "#E5ECF6",
            "gridcolor": "white",
            "gridwidth": 2,
            "linecolor": "white",
            "showbackground": true,
            "ticks": "",
            "zerolinecolor": "white"
           },
           "yaxis": {
            "backgroundcolor": "#E5ECF6",
            "gridcolor": "white",
            "gridwidth": 2,
            "linecolor": "white",
            "showbackground": true,
            "ticks": "",
            "zerolinecolor": "white"
           },
           "zaxis": {
            "backgroundcolor": "#E5ECF6",
            "gridcolor": "white",
            "gridwidth": 2,
            "linecolor": "white",
            "showbackground": true,
            "ticks": "",
            "zerolinecolor": "white"
           }
          },
          "shapedefaults": {
           "line": {
            "color": "#2a3f5f"
           }
          },
          "ternary": {
           "aaxis": {
            "gridcolor": "white",
            "linecolor": "white",
            "ticks": ""
           },
           "baxis": {
            "gridcolor": "white",
            "linecolor": "white",
            "ticks": ""
           },
           "bgcolor": "#E5ECF6",
           "caxis": {
            "gridcolor": "white",
            "linecolor": "white",
            "ticks": ""
           }
          },
          "title": {
           "x": 0.05
          },
          "xaxis": {
           "automargin": true,
           "gridcolor": "white",
           "linecolor": "white",
           "ticks": "",
           "title": {
            "standoff": 15
           },
           "zerolinecolor": "white",
           "zerolinewidth": 2
          },
          "yaxis": {
           "automargin": true,
           "gridcolor": "white",
           "linecolor": "white",
           "ticks": "",
           "title": {
            "standoff": 15
           },
           "zerolinecolor": "white",
           "zerolinewidth": 2
          }
         }
        },
        "title": {
         "text": "Precision for RNA_1"
        }
       }
      }
     },
     "metadata": {},
     "output_type": "display_data"
    }
   ],
   "source": [
    "\n",
    "fig = go.Figure()\n",
    "\n",
    "for i, step in enumerate(param_range):\n",
    "    \n",
    "    slices = [static] * (len(x.shape) - 1)\n",
    "    slices[choice1_idx] = slice(x.shape[choice1_idx+1])\n",
    "    slices[choice2_idx] = slice(x.shape[choice2_idx+1])\n",
    "    slices[slider_idx] = i\n",
    "\n",
    "    xmax = np.max(x[tuple([slice(x.shape[0])] + slices)])\n",
    "    pi = 0\n",
    "    for si in range(n_species):\n",
    "        if si == sig_idx:\n",
    "            continue\n",
    "        fig.add_trace(\n",
    "            go.Surface(z=x[tuple([si] + slices)] + xmax * pi,\n",
    "                       visible=False,\n",
    "                       name=\"[3] = \" + f'{step:.2e}',\n",
    "                       showscale=False, opacity=1.0),\n",
    "        )\n",
    "        pi += 1\n",
    "        break\n",
    "\n",
    "fig.data[0].visible = True\n",
    "\n",
    "steps = []\n",
    "for i, pr in zip(range(len(fig.data)), param_range):\n",
    "    step = dict(\n",
    "        method=\"update\",\n",
    "        args=[{\"visible\": [False] * len(fig.data)},\n",
    "              {\"title\": \"Slider switched to step: \" + f'{pr:.2e}'}],  # layout attribute\n",
    "        label=f'{pr:.02}'\n",
    "    )\n",
    "    step[\"args\"][0][\"visible\"][i] = True  # Toggle i'th trace to \"visible\"\n",
    "    steps.append(step)\n",
    "\n",
    "sliders = [dict(\n",
    "    active=0,\n",
    "    currentvalue={\"prefix\": f\"Interaction strength {slider1}-{slider2}: \"},\n",
    "    pad={\"t\": 50},\n",
    "    steps=steps\n",
    ")]\n",
    "\n",
    "fig.update_layout(\n",
    "    sliders=sliders,\n",
    "    title=prettify_keys_for_label(analytic_name) + f' for {output}',\n",
    "    scene=dict(\n",
    "        xaxis=dict(\n",
    "            tickmode=\"array\",\n",
    "            ticktext=[f'{p:.0e}' for p in param_range],\n",
    "            tickvals=np.arange(x.shape[1]),\n",
    "            title=f\"{choice11}-{choice12}\"\n",
    "        ),\n",
    "        yaxis=dict(\n",
    "            tickmode=\"array\",\n",
    "            ticktext=[f'{p:.0e}' for p in param_range],\n",
    "            tickvals=np.arange(x.shape[1]),\n",
    "            title=f\"{choice21}-{choice22}\"\n",
    "        ),\n",
    "        zaxis=dict(title=prettify_keys_for_label(analytic_name) + ' ' + output)\n",
    "    )\n",
    ")\n",
    "\n",
    "# fig.write_html(f'slider_{analytic_name}_{choice11}-{choice12}.html')"
   ]
  },
  {
   "cell_type": "markdown",
   "metadata": {},
   "source": [
    "## Slider show"
   ]
  },
  {
   "cell_type": "code",
   "execution_count": 10,
   "metadata": {},
   "outputs": [],
   "source": [
    "# fig.show()"
   ]
  },
  {
   "cell_type": "markdown",
   "metadata": {},
   "source": [
    "# Adaptability"
   ]
  },
  {
   "cell_type": "code",
   "execution_count": 11,
   "metadata": {},
   "outputs": [],
   "source": [
    "sdir = '../data/parameter_based_simulation/2023_09_07_155734'\n",
    "fn = os.path.join(sdir, [f for f in os.listdir(sdir) if 'sensitivity' in f][0])\n",
    "s = np.load(fn)\n",
    "fn = os.path.join(sdir, [f for f in os.listdir(sdir) if 'precision' in f][0])\n",
    "p = np.load(fn)\n",
    "fn = os.path.join(sdir, [f for f in os.listdir(sdir) if 'overshoot' in f][0])\n",
    "o = np.load(fn)\n",
    "fn = os.path.join(sdir, [f for f in os.listdir(sdir) if 'fold_change' in f][0])\n",
    "fc = np.load(fn)\n",
    "\n",
    "config = load_json_as_dict(os.path.join(sdir, 'experiment.json'))['config_params']\n",
    "param_range = create_parameter_range(config['parameter_based_simulation'])\n"
   ]
  },
  {
   "cell_type": "code",
   "execution_count": 12,
   "metadata": {},
   "outputs": [],
   "source": [
    "# hue = np.log10(o[1:].flatten())\n",
    "hue = o[1:].flatten()\n",
    "hue[hue == -np.inf] = 2 * hue[hue > -np.inf].min()\n",
    "\n",
    "df = pd.DataFrame(columns=['Sensitivity', 'Precision', 'Overshoot', 'Fold change'])"
   ]
  },
  {
   "cell_type": "code",
   "execution_count": 13,
   "metadata": {},
   "outputs": [
    {
     "name": "stderr",
     "output_type": "stream",
     "text": [
      "/tmp/ipykernel_1186663/740847795.py:5: RuntimeWarning:\n",
      "\n",
      "divide by zero encountered in log10\n",
      "\n"
     ]
    }
   ],
   "source": [
    "df['Sensitivity'] = s[1:].flatten()\n",
    "df['Precision'] = p[1:].flatten()\n",
    "df['Overshoot'] = o[1:].flatten()\n",
    "df['Fold change'] = fc[1:].flatten()\n",
    "df['Overshoot log'] = np.log10(o[1:].flatten())\n"
   ]
  },
  {
   "cell_type": "code",
   "execution_count": 14,
   "metadata": {},
   "outputs": [
    {
     "data": {
      "image/png": "[encoded data removed]",
      "text/plain": [
       "<Figure size 640x480 with 1 Axes>"
      ]
     },
     "metadata": {},
     "output_type": "display_data"
    }
   ],
   "source": [
    "ax = plt.subplot(1,1,1)\n",
    "sns.scatterplot(df.sort_values(by='Overshoot', ascending=True), x='Sensitivity', y='Precision', hue='Overshoot', alpha=0.05, palette='viridis')\n",
    "plt.xscale('log')\n",
    "plt.yscale('log')\n",
    "plt.xlabel('Sensitivity')\n",
    "plt.ylabel('Precision')\n",
    "plt.legend(title='Overshoot')\n",
    "sns.move_legend(ax, \"upper left\", bbox_to_anchor=(1, 1))"
   ]
  },
  {
   "cell_type": "code",
   "execution_count": 15,
   "metadata": {},
   "outputs": [
    {
     "data": {
      "text/plain": [
       "Index(['Sensitivity', 'Precision', 'Overshoot', 'Fold change',\n",
       "       'Overshoot log'],\n",
       "      dtype='object')"
      ]
     },
     "execution_count": 15,
     "metadata": {},
     "output_type": "execute_result"
    }
   ],
   "source": [
    "df.columns"
   ]
  },
  {
   "cell_type": "code",
   "execution_count": 41,
   "metadata": {},
   "outputs": [
    {
     "name": "stderr",
     "output_type": "stream",
     "text": [
      "/tmp/ipykernel_1186663/1184625217.py:18: RuntimeWarning:\n",
      "\n",
      "divide by zero encountered in divide\n",
      "\n",
      "/tmp/ipykernel_1186663/1184625217.py:19: RuntimeWarning:\n",
      "\n",
      "invalid value encountered in multiply\n",
      "\n"
     ]
    },
    {
     "data": {
      "text/plain": [
       "<AxesSubplot: xlabel='Weighted Log Distance', ylabel='Count'>"
      ]
     },
     "execution_count": 41,
     "metadata": {},
     "output_type": "execute_result"
    },
    {
     "data": {
      "image/png": "[encoded data removed]",
      "text/plain": [
       "<Figure size 640x480 with 1 Axes>"
      ]
     },
     "metadata": {},
     "output_type": "display_data"
    }
   ],
   "source": [
    "def mag(vec, **kwargs):\n",
    "    return jnp.linalg.norm(vec, **kwargs)\n",
    "\n",
    "\n",
    "def vec_distance(s, p, d):\n",
    "    \"\"\" First row of each direction vector are the x's, second row are the y's \"\"\"\n",
    "    P = jnp.array([s, p]).T\n",
    "    # P = [s.T, p.T]\n",
    "    sp_rep = np.repeat(d[:, 0][:, None], repeats=len(s), axis=-1).T[:, :, None]\n",
    "    AP = jnp.concatenate([sp_rep, P[:, :, None]], axis=-1)\n",
    "    area = mag(jnp.cross(AP, d[None, :, :], axis=-1), axis=-1)\n",
    "    D = area / mag(d)\n",
    "    return D\n",
    "    \n",
    "\n",
    "def sp_prod(s, p, sp_factor=1, s_weight=0):\n",
    "    \"\"\" Log product of s and p \"\"\"\n",
    "    s_lin = 1/p\n",
    "    return s * (p * (s - s_lin)) # * sp_factor + s_weight)\n",
    "\n",
    "\n",
    "def log_distance(s, p):\n",
    "    lin = np.array([np.logspace(6, -3, 2), np.logspace(-6, 3, 2)])\n",
    "    return vec_distance(s, p, lin)\n",
    "\n",
    "\n",
    "df['Weighted Log Distance'] = np.array(log_distance(s=df['Sensitivity'].to_numpy(), p=df['Precision'].to_numpy())) # * df['Sensitivity'] \n",
    "df['SP Prod'] = sp_prod(s=df['Sensitivity'].to_numpy(), p=df['Precision'].to_numpy(), \n",
    "                                                sp_factor=1, #(d[f'Precision species-{t}'] / d[f'Sensitivity species-{t}']).max(), \n",
    "                                                s_weight=0)\n",
    "df['Weighted Log Distance'] = np.where(df['Weighted Log Distance'] == np.inf, 0, df['Weighted Log Distance'])\n",
    "df['Weighted Log Distance'] = np.where(df['Weighted Log Distance'] == -np.inf, 0, df['Weighted Log Distance'])\n",
    "\n",
    "sns.histplot(df, x='Weighted Log Distance', bins=150, element='step', log_scale=[False, True])"
   ]
  },
  {
   "cell_type": "code",
   "execution_count": 49,
   "metadata": {},
   "outputs": [
    {
     "data": {
      "image/png": "[encoded data removed]",
      "text/plain": [
       "<Figure size 800x700 with 1 Axes>"
      ]
     },
     "metadata": {},
     "output_type": "display_data"
    }
   ],
   "source": [
    "# df['Adaptation'] = np.log10(\n",
    "#     np.power(df['Sensitivity'], -2) + 100 * np.power(df['Precision'], -2) + 0.01 * np.power(df['Fold change'], -2)\n",
    "# )\n",
    "\n",
    "df['Adaptation'] = df['Sensitivity'] * np.where(df['Precision'] > 1e2, 1e2, df['Precision']) \n",
    "df['Adaptation'] = np.where(df['Adaptation'] == np.inf, 0, df['Adaptation'])\n",
    "df['Adaptation'] = np.where(df['Adaptation'] == -np.inf, 0, df['Adaptation'])\n",
    "\n",
    "fig = plt.figure(figsize=(8, 7))\n",
    "ax = plt.subplot(1,1,1)\n",
    "sns.scatterplot(df, #.sort_values(by='Adaptation', ascending=True), \n",
    "                x='Sensitivity', y='Precision', alpha=0.05, \n",
    "                hue='Adaptation',\n",
    "                palette='viridis')\n",
    "plt.xscale('log')\n",
    "plt.yscale('log')\n",
    "# plt.xlabel('Sensitivity')\n",
    "# plt.ylabel('Precision')\n",
    "# sns.move_legend(ax, \"upper left\", bbox_to_anchor=(1, 1))\n",
    "\n",
    "fig.savefig('SP.svg')"
   ]
  },
  {
   "cell_type": "code",
   "execution_count": null,
   "metadata": {},
   "outputs": [],
   "source": []
  }
 ],
 "metadata": {
  "kernelspec": {
   "display_name": "env_circuits",
   "language": "python",
   "name": "python3"
  },
  "language_info": {
   "codemirror_mode": {
    "name": "ipython",
    "version": 3
   },
   "file_extension": ".py",
   "mimetype": "text/x-python",
   "name": "python",
   "nbconvert_exporter": "python",
   "pygments_lexer": "ipython3",
   "version": "3.10.12"
  },
  "orig_nbformat": 4
 },
 "nbformat": 4,
 "nbformat_minor": 2
}
