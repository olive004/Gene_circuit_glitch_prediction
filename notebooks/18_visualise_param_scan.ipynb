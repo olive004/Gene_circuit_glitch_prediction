{
 "cells": [
  {
   "cell_type": "code",
   "execution_count": 136,
   "metadata": {},
   "outputs": [
    {
     "name": "stdout",
     "output_type": "stream",
     "text": [
      "The autoreload extension is already loaded. To reload it, use:\n",
      "  %reload_ext autoreload\n"
     ]
    }
   ],
   "source": [
    "%load_ext autoreload\n",
    "%autoreload 2"
   ]
  },
  {
   "cell_type": "markdown",
   "metadata": {},
   "source": [
    "# Imports"
   ]
  },
  {
   "cell_type": "code",
   "execution_count": 137,
   "metadata": {},
   "outputs": [],
   "source": [
    "import numpy as np\n",
    "import jax\n",
    "import jax.numpy as jnp\n",
    "import pandas as pd\n",
    "import seaborn as sns\n",
    "import matplotlib.pyplot as plt\n",
    "import plotly.graph_objects as go\n",
    "\n",
    "from functools import partial\n",
    "import os\n",
    "import sys\n",
    "import umap\n",
    "from sklearn.manifold import TSNE\n",
    "from sklearn.preprocessing import StandardScaler\n",
    "\n",
    "\n",
    "if __package__ is None:\n",
    "\n",
    "    module_path = os.path.abspath(os.path.join('..'))\n",
    "    sys.path.append(module_path)\n",
    "\n",
    "    __package__ = os.path.basename(module_path)\n",
    "    "
   ]
  },
  {
   "cell_type": "code",
   "execution_count": 138,
   "metadata": {},
   "outputs": [],
   "source": [
    "from synbio_morpher.utils.data.data_format_tools.common import load_json_as_dict\n",
    "from synbio_morpher.utils.misc.string_handling import prettify_keys_for_label\n",
    "from synbio_morpher.utils.parameter_inference.interpolation_grid import create_parameter_range"
   ]
  },
  {
   "cell_type": "markdown",
   "metadata": {},
   "source": [
    "# Load analytic"
   ]
  },
  {
   "cell_type": "code",
   "execution_count": 139,
   "metadata": {},
   "outputs": [],
   "source": [
    "sdir = '../data/parameter_based_simulation/2023_08_24_114212'\n",
    "analytic_name = 'sensitivity'\n",
    "fn = os.path.join(sdir, [f for f in os.listdir(sdir) if analytic_name in f][0])\n",
    "config = load_json_as_dict('../data/parameter_based_simulation/2023_08_24_114212/experiment.json')['config_params']"
   ]
  },
  {
   "cell_type": "code",
   "execution_count": 140,
   "metadata": {},
   "outputs": [],
   "source": [
    "param_range = create_parameter_range(config['parameter_based_simulation'])\n",
    "\n",
    "x = np.load(fn)"
   ]
  },
  {
   "cell_type": "markdown",
   "metadata": {},
   "source": [
    "# Species settings"
   ]
  },
  {
   "cell_type": "code",
   "execution_count": 141,
   "metadata": {},
   "outputs": [],
   "source": [
    "n_species = x.shape[0]\n",
    "choice11 = 'RNA_0'\n",
    "choice12 = 'RNA_1'\n",
    "choice21 = 'RNA_1'\n",
    "choice22 = 'RNA_2'\n",
    "slider1 = 'RNA_1'\n",
    "slider2 = 'RNA_1'\n",
    "\n",
    "output = 'RNA_1'\n",
    "\n",
    "species_names = [f'RNA_{x}' for x in range(n_species)]\n",
    "\n",
    "output_idx = species_names.index(output)\n",
    "sig_idx = 0\n",
    "paired_idxs = np.concatenate([np.triu_indices(3)[0][:, None], np.triu_indices(3)[1][:, None]], axis=1)\n",
    "paired_idxs = [tuple(p) for p in paired_idxs]\n",
    "choice1_idx = paired_idxs.index((species_names.index(choice11), species_names.index(choice12)))\n",
    "choice2_idx = paired_idxs.index((species_names.index(choice21), species_names.index(choice22)))\n",
    "static = 2\n",
    "slider_idx = paired_idxs.index((species_names.index(slider1), species_names.index(slider2)))\n"
   ]
  },
  {
   "cell_type": "markdown",
   "metadata": {},
   "source": [
    "# Simple 3D vis"
   ]
  },
  {
   "cell_type": "code",
   "execution_count": null,
   "metadata": {},
   "outputs": [],
   "source": []
  },
  {
   "cell_type": "code",
   "execution_count": 142,
   "metadata": {},
   "outputs": [
    {
     "data": {
      "application/vnd.plotly.v1+json": {
       "config": {
        "plotlyServerURL": "https://plot.ly"
       },
       "data": [
        {
         "type": "surface",
         "z": [
          [
           0.001691337558440864,
           0.0016845872160047293,
           0.0015701943775638938,
           0.0009057819843292236,
           0.0011698732851073146,
           0.001429731142707169,
           0.0014198344433680177,
           0.0014373240992426872,
           0.0014372459845617414
          ],
          [
           0.0017065269639715552,
           0.0016998433275148273,
           0.0015851337229833007,
           0.0009191338904201984,
           0.0011862057726830244,
           0.0014465948333963752,
           0.001437661238014698,
           0.0014552004868164659,
           0.001455130404792726
          ],
          [
           0.0019530453719198704,
           0.001946430653333664,
           0.0018350890604779124,
           0.0011366925900802016,
           0.0014459488447755575,
           0.0017191412625834346,
           0.0017195874825119972,
           0.0017382337246090174,
           0.0017382343066856265
          ],
          [
           0.00384164834395051,
           0.003885377896949649,
           0.00385678862221539,
           0.003102134447544813,
           0.003439149120822549,
           0.0037371173966675997,
           0.003893283661454916,
           0.003803434781730175,
           0.0038040135987102985
          ],
          [
           0.002800478134304285,
           0.003164212219417095,
           0.003611387684941292,
           0.002491723746061325,
           0.0022164504043757915,
           0.0026562854181975126,
           0.003625409444794059,
           0.00269088102504611,
           0.0026910582091659307
          ],
          [
           0.0014480631798505783,
           0.0014453614130616188,
           0.0014388144481927156,
           0.0011874544434249401,
           0.0011031400645151734,
           0.001217686920426786,
           0.0012186901876702905,
           0.0012202906655147672,
           0.0012203408405184746
          ],
          [
           0.000498469453305006,
           0.00048541274736635387,
           0.0004935089382342994,
           0.0004248306213412434,
           0.00031548598781228065,
           0.0003224526299163699,
           0.0003134515427518636,
           0.0003135823935735971,
           0.0003136091399937868
          ],
          [
           0.00017991034837905318,
           0.00016742733714636415,
           0.00019237572269048542,
           0.00018501837621442974,
           0.0002631519455462694,
           0.00004224801159580238,
           0.00002780887189146597,
           0.00002780957947834395,
           0.000027817197405966
          ],
          [
           0.00014921589172445238,
           0.00013912675785832107,
           0.00016624282579869032,
           0.0001622111740289256,
           0.0002639916492626071,
           0.0000230836321861716,
           0.00001992596298805438,
           0.0000015677379678891157,
           0.0000015813956224519643
          ]
         ]
        }
       ],
       "layout": {
        "autosize": false,
        "height": 500,
        "margin": {
         "b": 65,
         "l": 65,
         "r": 50,
         "t": 90
        },
        "scene": {
         "xaxis": {
          "tickmode": "array",
          "ticktext": [
           "1e-07",
           "2e-06",
           "3e-05",
           "5e-04",
           "9e-03",
           "2e-01",
           "3e+00",
           "5e+01",
           "9e+02"
          ],
          "tickvals": [
           0,
           1,
           2,
           3,
           4,
           5,
           6,
           7,
           8
          ],
          "title": {
           "text": "RNA_0-RNA_1"
          }
         },
         "yaxis": {
          "tickmode": "array",
          "ticktext": [
           "1e-07",
           "2e-06",
           "3e-05",
           "5e-04",
           "9e-03",
           "2e-01",
           "3e+00",
           "5e+01",
           "9e+02"
          ],
          "tickvals": [
           0,
           1,
           2,
           3,
           4,
           5,
           6,
           7,
           8
          ],
          "title": {
           "text": "RNA_1-RNA_2"
          }
         },
         "zaxis": {
          "title": {
           "text": "Sensitivity"
          }
         }
        },
        "template": {
         "data": {
          "bar": [
           {
            "error_x": {
             "color": "#2a3f5f"
            },
            "error_y": {
             "color": "#2a3f5f"
            },
            "marker": {
             "line": {
              "color": "#E5ECF6",
              "width": 0.5
             },
             "pattern": {
              "fillmode": "overlay",
              "size": 10,
              "solidity": 0.2
             }
            },
            "type": "bar"
           }
          ],
          "barpolar": [
           {
            "marker": {
             "line": {
              "color": "#E5ECF6",
              "width": 0.5
             },
             "pattern": {
              "fillmode": "overlay",
              "size": 10,
              "solidity": 0.2
             }
            },
            "type": "barpolar"
           }
          ],
          "carpet": [
           {
            "aaxis": {
             "endlinecolor": "#2a3f5f",
             "gridcolor": "white",
             "linecolor": "white",
             "minorgridcolor": "white",
             "startlinecolor": "#2a3f5f"
            },
            "baxis": {
             "endlinecolor": "#2a3f5f",
             "gridcolor": "white",
             "linecolor": "white",
             "minorgridcolor": "white",
             "startlinecolor": "#2a3f5f"
            },
            "type": "carpet"
           }
          ],
          "choropleth": [
           {
            "colorbar": {
             "outlinewidth": 0,
             "ticks": ""
            },
            "type": "choropleth"
           }
          ],
          "contour": [
           {
            "colorbar": {
             "outlinewidth": 0,
             "ticks": ""
            },
            "colorscale": [
             [
              0,
              "#0d0887"
             ],
             [
              0.1111111111111111,
              "#46039f"
             ],
             [
              0.2222222222222222,
              "#7201a8"
             ],
             [
              0.3333333333333333,
              "#9c179e"
             ],
             [
              0.4444444444444444,
              "#bd3786"
             ],
             [
              0.5555555555555556,
              "#d8576b"
             ],
             [
              0.6666666666666666,
              "#ed7953"
             ],
             [
              0.7777777777777778,
              "#fb9f3a"
             ],
             [
              0.8888888888888888,
              "#fdca26"
             ],
             [
              1,
              "#f0f921"
             ]
            ],
            "type": "contour"
           }
          ],
          "contourcarpet": [
           {
            "colorbar": {
             "outlinewidth": 0,
             "ticks": ""
            },
            "type": "contourcarpet"
           }
          ],
          "heatmap": [
           {
            "colorbar": {
             "outlinewidth": 0,
             "ticks": ""
            },
            "colorscale": [
             [
              0,
              "#0d0887"
             ],
             [
              0.1111111111111111,
              "#46039f"
             ],
             [
              0.2222222222222222,
              "#7201a8"
             ],
             [
              0.3333333333333333,
              "#9c179e"
             ],
             [
              0.4444444444444444,
              "#bd3786"
             ],
             [
              0.5555555555555556,
              "#d8576b"
             ],
             [
              0.6666666666666666,
              "#ed7953"
             ],
             [
              0.7777777777777778,
              "#fb9f3a"
             ],
             [
              0.8888888888888888,
              "#fdca26"
             ],
             [
              1,
              "#f0f921"
             ]
            ],
            "type": "heatmap"
           }
          ],
          "heatmapgl": [
           {
            "colorbar": {
             "outlinewidth": 0,
             "ticks": ""
            },
            "colorscale": [
             [
              0,
              "#0d0887"
             ],
             [
              0.1111111111111111,
              "#46039f"
             ],
             [
              0.2222222222222222,
              "#7201a8"
             ],
             [
              0.3333333333333333,
              "#9c179e"
             ],
             [
              0.4444444444444444,
              "#bd3786"
             ],
             [
              0.5555555555555556,
              "#d8576b"
             ],
             [
              0.6666666666666666,
              "#ed7953"
             ],
             [
              0.7777777777777778,
              "#fb9f3a"
             ],
             [
              0.8888888888888888,
              "#fdca26"
             ],
             [
              1,
              "#f0f921"
             ]
            ],
            "type": "heatmapgl"
           }
          ],
          "histogram": [
           {
            "marker": {
             "pattern": {
              "fillmode": "overlay",
              "size": 10,
              "solidity": 0.2
             }
            },
            "type": "histogram"
           }
          ],
          "histogram2d": [
           {
            "colorbar": {
             "outlinewidth": 0,
             "ticks": ""
            },
            "colorscale": [
             [
              0,
              "#0d0887"
             ],
             [
              0.1111111111111111,
              "#46039f"
             ],
             [
              0.2222222222222222,
              "#7201a8"
             ],
             [
              0.3333333333333333,
              "#9c179e"
             ],
             [
              0.4444444444444444,
              "#bd3786"
             ],
             [
              0.5555555555555556,
              "#d8576b"
             ],
             [
              0.6666666666666666,
              "#ed7953"
             ],
             [
              0.7777777777777778,
              "#fb9f3a"
             ],
             [
              0.8888888888888888,
              "#fdca26"
             ],
             [
              1,
              "#f0f921"
             ]
            ],
            "type": "histogram2d"
           }
          ],
          "histogram2dcontour": [
           {
            "colorbar": {
             "outlinewidth": 0,
             "ticks": ""
            },
            "colorscale": [
             [
              0,
              "#0d0887"
             ],
             [
              0.1111111111111111,
              "#46039f"
             ],
             [
              0.2222222222222222,
              "#7201a8"
             ],
             [
              0.3333333333333333,
              "#9c179e"
             ],
             [
              0.4444444444444444,
              "#bd3786"
             ],
             [
              0.5555555555555556,
              "#d8576b"
             ],
             [
              0.6666666666666666,
              "#ed7953"
             ],
             [
              0.7777777777777778,
              "#fb9f3a"
             ],
             [
              0.8888888888888888,
              "#fdca26"
             ],
             [
              1,
              "#f0f921"
             ]
            ],
            "type": "histogram2dcontour"
           }
          ],
          "mesh3d": [
           {
            "colorbar": {
             "outlinewidth": 0,
             "ticks": ""
            },
            "type": "mesh3d"
           }
          ],
          "parcoords": [
           {
            "line": {
             "colorbar": {
              "outlinewidth": 0,
              "ticks": ""
             }
            },
            "type": "parcoords"
           }
          ],
          "pie": [
           {
            "automargin": true,
            "type": "pie"
           }
          ],
          "scatter": [
           {
            "fillpattern": {
             "fillmode": "overlay",
             "size": 10,
             "solidity": 0.2
            },
            "type": "scatter"
           }
          ],
          "scatter3d": [
           {
            "line": {
             "colorbar": {
              "outlinewidth": 0,
              "ticks": ""
             }
            },
            "marker": {
             "colorbar": {
              "outlinewidth": 0,
              "ticks": ""
             }
            },
            "type": "scatter3d"
           }
          ],
          "scattercarpet": [
           {
            "marker": {
             "colorbar": {
              "outlinewidth": 0,
              "ticks": ""
             }
            },
            "type": "scattercarpet"
           }
          ],
          "scattergeo": [
           {
            "marker": {
             "colorbar": {
              "outlinewidth": 0,
              "ticks": ""
             }
            },
            "type": "scattergeo"
           }
          ],
          "scattergl": [
           {
            "marker": {
             "colorbar": {
              "outlinewidth": 0,
              "ticks": ""
             }
            },
            "type": "scattergl"
           }
          ],
          "scattermapbox": [
           {
            "marker": {
             "colorbar": {
              "outlinewidth": 0,
              "ticks": ""
             }
            },
            "type": "scattermapbox"
           }
          ],
          "scatterpolar": [
           {
            "marker": {
             "colorbar": {
              "outlinewidth": 0,
              "ticks": ""
             }
            },
            "type": "scatterpolar"
           }
          ],
          "scatterpolargl": [
           {
            "marker": {
             "colorbar": {
              "outlinewidth": 0,
              "ticks": ""
             }
            },
            "type": "scatterpolargl"
           }
          ],
          "scatterternary": [
           {
            "marker": {
             "colorbar": {
              "outlinewidth": 0,
              "ticks": ""
             }
            },
            "type": "scatterternary"
           }
          ],
          "surface": [
           {
            "colorbar": {
             "outlinewidth": 0,
             "ticks": ""
            },
            "colorscale": [
             [
              0,
              "#0d0887"
             ],
             [
              0.1111111111111111,
              "#46039f"
             ],
             [
              0.2222222222222222,
              "#7201a8"
             ],
             [
              0.3333333333333333,
              "#9c179e"
             ],
             [
              0.4444444444444444,
              "#bd3786"
             ],
             [
              0.5555555555555556,
              "#d8576b"
             ],
             [
              0.6666666666666666,
              "#ed7953"
             ],
             [
              0.7777777777777778,
              "#fb9f3a"
             ],
             [
              0.8888888888888888,
              "#fdca26"
             ],
             [
              1,
              "#f0f921"
             ]
            ],
            "type": "surface"
           }
          ],
          "table": [
           {
            "cells": {
             "fill": {
              "color": "#EBF0F8"
             },
             "line": {
              "color": "white"
             }
            },
            "header": {
             "fill": {
              "color": "#C8D4E3"
             },
             "line": {
              "color": "white"
             }
            },
            "type": "table"
           }
          ]
         },
         "layout": {
          "annotationdefaults": {
           "arrowcolor": "#2a3f5f",
           "arrowhead": 0,
           "arrowwidth": 1
          },
          "autotypenumbers": "strict",
          "coloraxis": {
           "colorbar": {
            "outlinewidth": 0,
            "ticks": ""
           }
          },
          "colorscale": {
           "diverging": [
            [
             0,
             "#8e0152"
            ],
            [
             0.1,
             "#c51b7d"
            ],
            [
             0.2,
             "#de77ae"
            ],
            [
             0.3,
             "#f1b6da"
            ],
            [
             0.4,
             "#fde0ef"
            ],
            [
             0.5,
             "#f7f7f7"
            ],
            [
             0.6,
             "#e6f5d0"
            ],
            [
             0.7,
             "#b8e186"
            ],
            [
             0.8,
             "#7fbc41"
            ],
            [
             0.9,
             "#4d9221"
            ],
            [
             1,
             "#276419"
            ]
           ],
           "sequential": [
            [
             0,
             "#0d0887"
            ],
            [
             0.1111111111111111,
             "#46039f"
            ],
            [
             0.2222222222222222,
             "#7201a8"
            ],
            [
             0.3333333333333333,
             "#9c179e"
            ],
            [
             0.4444444444444444,
             "#bd3786"
            ],
            [
             0.5555555555555556,
             "#d8576b"
            ],
            [
             0.6666666666666666,
             "#ed7953"
            ],
            [
             0.7777777777777778,
             "#fb9f3a"
            ],
            [
             0.8888888888888888,
             "#fdca26"
            ],
            [
             1,
             "#f0f921"
            ]
           ],
           "sequentialminus": [
            [
             0,
             "#0d0887"
            ],
            [
             0.1111111111111111,
             "#46039f"
            ],
            [
             0.2222222222222222,
             "#7201a8"
            ],
            [
             0.3333333333333333,
             "#9c179e"
            ],
            [
             0.4444444444444444,
             "#bd3786"
            ],
            [
             0.5555555555555556,
             "#d8576b"
            ],
            [
             0.6666666666666666,
             "#ed7953"
            ],
            [
             0.7777777777777778,
             "#fb9f3a"
            ],
            [
             0.8888888888888888,
             "#fdca26"
            ],
            [
             1,
             "#f0f921"
            ]
           ]
          },
          "colorway": [
           "#636efa",
           "#EF553B",
           "#00cc96",
           "#ab63fa",
           "#FFA15A",
           "#19d3f3",
           "#FF6692",
           "#B6E880",
           "#FF97FF",
           "#FECB52"
          ],
          "font": {
           "color": "#2a3f5f"
          },
          "geo": {
           "bgcolor": "white",
           "lakecolor": "white",
           "landcolor": "#E5ECF6",
           "showlakes": true,
           "showland": true,
           "subunitcolor": "white"
          },
          "hoverlabel": {
           "align": "left"
          },
          "hovermode": "closest",
          "mapbox": {
           "style": "light"
          },
          "paper_bgcolor": "white",
          "plot_bgcolor": "#E5ECF6",
          "polar": {
           "angularaxis": {
            "gridcolor": "white",
            "linecolor": "white",
            "ticks": ""
           },
           "bgcolor": "#E5ECF6",
           "radialaxis": {
            "gridcolor": "white",
            "linecolor": "white",
            "ticks": ""
           }
          },
          "scene": {
           "xaxis": {
            "backgroundcolor": "#E5ECF6",
            "gridcolor": "white",
            "gridwidth": 2,
            "linecolor": "white",
            "showbackground": true,
            "ticks": "",
            "zerolinecolor": "white"
           },
           "yaxis": {
            "backgroundcolor": "#E5ECF6",
            "gridcolor": "white",
            "gridwidth": 2,
            "linecolor": "white",
            "showbackground": true,
            "ticks": "",
            "zerolinecolor": "white"
           },
           "zaxis": {
            "backgroundcolor": "#E5ECF6",
            "gridcolor": "white",
            "gridwidth": 2,
            "linecolor": "white",
            "showbackground": true,
            "ticks": "",
            "zerolinecolor": "white"
           }
          },
          "shapedefaults": {
           "line": {
            "color": "#2a3f5f"
           }
          },
          "ternary": {
           "aaxis": {
            "gridcolor": "white",
            "linecolor": "white",
            "ticks": ""
           },
           "baxis": {
            "gridcolor": "white",
            "linecolor": "white",
            "ticks": ""
           },
           "bgcolor": "#E5ECF6",
           "caxis": {
            "gridcolor": "white",
            "linecolor": "white",
            "ticks": ""
           }
          },
          "title": {
           "x": 0.05
          },
          "xaxis": {
           "automargin": true,
           "gridcolor": "white",
           "linecolor": "white",
           "ticks": "",
           "title": {
            "standoff": 15
           },
           "zerolinecolor": "white",
           "zerolinewidth": 2
          },
          "yaxis": {
           "automargin": true,
           "gridcolor": "white",
           "linecolor": "white",
           "ticks": "",
           "title": {
            "standoff": 15
           },
           "zerolinecolor": "white",
           "zerolinewidth": 2
          }
         }
        },
        "title": {
         "text": "Sensitivity"
        },
        "width": 500
       }
      },
      "text/html": [
       "<div>                            <div id=\"09b799ed-6da2-4fc4-a703-0f2b0efb6055\" class=\"plotly-graph-div\" style=\"height:500px; width:500px;\"></div>            <script type=\"text/javascript\">                require([\"plotly\"], function(Plotly) {                    window.PLOTLYENV=window.PLOTLYENV || {};                                    if (document.getElementById(\"09b799ed-6da2-4fc4-a703-0f2b0efb6055\")) {                    Plotly.newPlot(                        \"09b799ed-6da2-4fc4-a703-0f2b0efb6055\",                        [{\"z\":[[0.001691337558440864,0.0016845872160047293,0.0015701943775638938,0.0009057819843292236,0.0011698732851073146,0.001429731142707169,0.0014198344433680177,0.0014373240992426872,0.0014372459845617414],[0.0017065269639715552,0.0016998433275148273,0.0015851337229833007,0.0009191338904201984,0.0011862057726830244,0.0014465948333963752,0.001437661238014698,0.0014552004868164659,0.001455130404792726],[0.0019530453719198704,0.001946430653333664,0.0018350890604779124,0.0011366925900802016,0.0014459488447755575,0.0017191412625834346,0.0017195874825119972,0.0017382337246090174,0.0017382343066856265],[0.00384164834395051,0.003885377896949649,0.00385678862221539,0.003102134447544813,0.003439149120822549,0.0037371173966675997,0.003893283661454916,0.003803434781730175,0.0038040135987102985],[0.002800478134304285,0.003164212219417095,0.003611387684941292,0.002491723746061325,0.0022164504043757915,0.0026562854181975126,0.003625409444794059,0.00269088102504611,0.0026910582091659307],[0.0014480631798505783,0.0014453614130616188,0.0014388144481927156,0.0011874544434249401,0.0011031400645151734,0.001217686920426786,0.0012186901876702905,0.0012202906655147672,0.0012203408405184746],[0.000498469453305006,0.00048541274736635387,0.0004935089382342994,0.0004248306213412434,0.00031548598781228065,0.0003224526299163699,0.0003134515427518636,0.0003135823935735971,0.0003136091399937868],[0.00017991034837905318,0.00016742733714636415,0.00019237572269048542,0.00018501837621442974,0.0002631519455462694,4.224801159580238e-05,2.780887189146597e-05,2.780957947834395e-05,2.7817197405966e-05],[0.00014921589172445238,0.00013912675785832107,0.00016624282579869032,0.0001622111740289256,0.0002639916492626071,2.30836321861716e-05,1.992596298805438e-05,1.5677379678891157e-06,1.5813956224519643e-06]],\"type\":\"surface\"}],                        {\"template\":{\"data\":{\"histogram2dcontour\":[{\"type\":\"histogram2dcontour\",\"colorbar\":{\"outlinewidth\":0,\"ticks\":\"\"},\"colorscale\":[[0.0,\"#0d0887\"],[0.1111111111111111,\"#46039f\"],[0.2222222222222222,\"#7201a8\"],[0.3333333333333333,\"#9c179e\"],[0.4444444444444444,\"#bd3786\"],[0.5555555555555556,\"#d8576b\"],[0.6666666666666666,\"#ed7953\"],[0.7777777777777778,\"#fb9f3a\"],[0.8888888888888888,\"#fdca26\"],[1.0,\"#f0f921\"]]}],\"choropleth\":[{\"type\":\"choropleth\",\"colorbar\":{\"outlinewidth\":0,\"ticks\":\"\"}}],\"histogram2d\":[{\"type\":\"histogram2d\",\"colorbar\":{\"outlinewidth\":0,\"ticks\":\"\"},\"colorscale\":[[0.0,\"#0d0887\"],[0.1111111111111111,\"#46039f\"],[0.2222222222222222,\"#7201a8\"],[0.3333333333333333,\"#9c179e\"],[0.4444444444444444,\"#bd3786\"],[0.5555555555555556,\"#d8576b\"],[0.6666666666666666,\"#ed7953\"],[0.7777777777777778,\"#fb9f3a\"],[0.8888888888888888,\"#fdca26\"],[1.0,\"#f0f921\"]]}],\"heatmap\":[{\"type\":\"heatmap\",\"colorbar\":{\"outlinewidth\":0,\"ticks\":\"\"},\"colorscale\":[[0.0,\"#0d0887\"],[0.1111111111111111,\"#46039f\"],[0.2222222222222222,\"#7201a8\"],[0.3333333333333333,\"#9c179e\"],[0.4444444444444444,\"#bd3786\"],[0.5555555555555556,\"#d8576b\"],[0.6666666666666666,\"#ed7953\"],[0.7777777777777778,\"#fb9f3a\"],[0.8888888888888888,\"#fdca26\"],[1.0,\"#f0f921\"]]}],\"heatmapgl\":[{\"type\":\"heatmapgl\",\"colorbar\":{\"outlinewidth\":0,\"ticks\":\"\"},\"colorscale\":[[0.0,\"#0d0887\"],[0.1111111111111111,\"#46039f\"],[0.2222222222222222,\"#7201a8\"],[0.3333333333333333,\"#9c179e\"],[0.4444444444444444,\"#bd3786\"],[0.5555555555555556,\"#d8576b\"],[0.6666666666666666,\"#ed7953\"],[0.7777777777777778,\"#fb9f3a\"],[0.8888888888888888,\"#fdca26\"],[1.0,\"#f0f921\"]]}],\"contourcarpet\":[{\"type\":\"contourcarpet\",\"colorbar\":{\"outlinewidth\":0,\"ticks\":\"\"}}],\"contour\":[{\"type\":\"contour\",\"colorbar\":{\"outlinewidth\":0,\"ticks\":\"\"},\"colorscale\":[[0.0,\"#0d0887\"],[0.1111111111111111,\"#46039f\"],[0.2222222222222222,\"#7201a8\"],[0.3333333333333333,\"#9c179e\"],[0.4444444444444444,\"#bd3786\"],[0.5555555555555556,\"#d8576b\"],[0.6666666666666666,\"#ed7953\"],[0.7777777777777778,\"#fb9f3a\"],[0.8888888888888888,\"#fdca26\"],[1.0,\"#f0f921\"]]}],\"surface\":[{\"type\":\"surface\",\"colorbar\":{\"outlinewidth\":0,\"ticks\":\"\"},\"colorscale\":[[0.0,\"#0d0887\"],[0.1111111111111111,\"#46039f\"],[0.2222222222222222,\"#7201a8\"],[0.3333333333333333,\"#9c179e\"],[0.4444444444444444,\"#bd3786\"],[0.5555555555555556,\"#d8576b\"],[0.6666666666666666,\"#ed7953\"],[0.7777777777777778,\"#fb9f3a\"],[0.8888888888888888,\"#fdca26\"],[1.0,\"#f0f921\"]]}],\"mesh3d\":[{\"type\":\"mesh3d\",\"colorbar\":{\"outlinewidth\":0,\"ticks\":\"\"}}],\"scatter\":[{\"fillpattern\":{\"fillmode\":\"overlay\",\"size\":10,\"solidity\":0.2},\"type\":\"scatter\"}],\"parcoords\":[{\"type\":\"parcoords\",\"line\":{\"colorbar\":{\"outlinewidth\":0,\"ticks\":\"\"}}}],\"scatterpolargl\":[{\"type\":\"scatterpolargl\",\"marker\":{\"colorbar\":{\"outlinewidth\":0,\"ticks\":\"\"}}}],\"bar\":[{\"error_x\":{\"color\":\"#2a3f5f\"},\"error_y\":{\"color\":\"#2a3f5f\"},\"marker\":{\"line\":{\"color\":\"#E5ECF6\",\"width\":0.5},\"pattern\":{\"fillmode\":\"overlay\",\"size\":10,\"solidity\":0.2}},\"type\":\"bar\"}],\"scattergeo\":[{\"type\":\"scattergeo\",\"marker\":{\"colorbar\":{\"outlinewidth\":0,\"ticks\":\"\"}}}],\"scatterpolar\":[{\"type\":\"scatterpolar\",\"marker\":{\"colorbar\":{\"outlinewidth\":0,\"ticks\":\"\"}}}],\"histogram\":[{\"marker\":{\"pattern\":{\"fillmode\":\"overlay\",\"size\":10,\"solidity\":0.2}},\"type\":\"histogram\"}],\"scattergl\":[{\"type\":\"scattergl\",\"marker\":{\"colorbar\":{\"outlinewidth\":0,\"ticks\":\"\"}}}],\"scatter3d\":[{\"type\":\"scatter3d\",\"line\":{\"colorbar\":{\"outlinewidth\":0,\"ticks\":\"\"}},\"marker\":{\"colorbar\":{\"outlinewidth\":0,\"ticks\":\"\"}}}],\"scattermapbox\":[{\"type\":\"scattermapbox\",\"marker\":{\"colorbar\":{\"outlinewidth\":0,\"ticks\":\"\"}}}],\"scatterternary\":[{\"type\":\"scatterternary\",\"marker\":{\"colorbar\":{\"outlinewidth\":0,\"ticks\":\"\"}}}],\"scattercarpet\":[{\"type\":\"scattercarpet\",\"marker\":{\"colorbar\":{\"outlinewidth\":0,\"ticks\":\"\"}}}],\"carpet\":[{\"aaxis\":{\"endlinecolor\":\"#2a3f5f\",\"gridcolor\":\"white\",\"linecolor\":\"white\",\"minorgridcolor\":\"white\",\"startlinecolor\":\"#2a3f5f\"},\"baxis\":{\"endlinecolor\":\"#2a3f5f\",\"gridcolor\":\"white\",\"linecolor\":\"white\",\"minorgridcolor\":\"white\",\"startlinecolor\":\"#2a3f5f\"},\"type\":\"carpet\"}],\"table\":[{\"cells\":{\"fill\":{\"color\":\"#EBF0F8\"},\"line\":{\"color\":\"white\"}},\"header\":{\"fill\":{\"color\":\"#C8D4E3\"},\"line\":{\"color\":\"white\"}},\"type\":\"table\"}],\"barpolar\":[{\"marker\":{\"line\":{\"color\":\"#E5ECF6\",\"width\":0.5},\"pattern\":{\"fillmode\":\"overlay\",\"size\":10,\"solidity\":0.2}},\"type\":\"barpolar\"}],\"pie\":[{\"automargin\":true,\"type\":\"pie\"}]},\"layout\":{\"autotypenumbers\":\"strict\",\"colorway\":[\"#636efa\",\"#EF553B\",\"#00cc96\",\"#ab63fa\",\"#FFA15A\",\"#19d3f3\",\"#FF6692\",\"#B6E880\",\"#FF97FF\",\"#FECB52\"],\"font\":{\"color\":\"#2a3f5f\"},\"hovermode\":\"closest\",\"hoverlabel\":{\"align\":\"left\"},\"paper_bgcolor\":\"white\",\"plot_bgcolor\":\"#E5ECF6\",\"polar\":{\"bgcolor\":\"#E5ECF6\",\"angularaxis\":{\"gridcolor\":\"white\",\"linecolor\":\"white\",\"ticks\":\"\"},\"radialaxis\":{\"gridcolor\":\"white\",\"linecolor\":\"white\",\"ticks\":\"\"}},\"ternary\":{\"bgcolor\":\"#E5ECF6\",\"aaxis\":{\"gridcolor\":\"white\",\"linecolor\":\"white\",\"ticks\":\"\"},\"baxis\":{\"gridcolor\":\"white\",\"linecolor\":\"white\",\"ticks\":\"\"},\"caxis\":{\"gridcolor\":\"white\",\"linecolor\":\"white\",\"ticks\":\"\"}},\"coloraxis\":{\"colorbar\":{\"outlinewidth\":0,\"ticks\":\"\"}},\"colorscale\":{\"sequential\":[[0.0,\"#0d0887\"],[0.1111111111111111,\"#46039f\"],[0.2222222222222222,\"#7201a8\"],[0.3333333333333333,\"#9c179e\"],[0.4444444444444444,\"#bd3786\"],[0.5555555555555556,\"#d8576b\"],[0.6666666666666666,\"#ed7953\"],[0.7777777777777778,\"#fb9f3a\"],[0.8888888888888888,\"#fdca26\"],[1.0,\"#f0f921\"]],\"sequentialminus\":[[0.0,\"#0d0887\"],[0.1111111111111111,\"#46039f\"],[0.2222222222222222,\"#7201a8\"],[0.3333333333333333,\"#9c179e\"],[0.4444444444444444,\"#bd3786\"],[0.5555555555555556,\"#d8576b\"],[0.6666666666666666,\"#ed7953\"],[0.7777777777777778,\"#fb9f3a\"],[0.8888888888888888,\"#fdca26\"],[1.0,\"#f0f921\"]],\"diverging\":[[0,\"#8e0152\"],[0.1,\"#c51b7d\"],[0.2,\"#de77ae\"],[0.3,\"#f1b6da\"],[0.4,\"#fde0ef\"],[0.5,\"#f7f7f7\"],[0.6,\"#e6f5d0\"],[0.7,\"#b8e186\"],[0.8,\"#7fbc41\"],[0.9,\"#4d9221\"],[1,\"#276419\"]]},\"xaxis\":{\"gridcolor\":\"white\",\"linecolor\":\"white\",\"ticks\":\"\",\"title\":{\"standoff\":15},\"zerolinecolor\":\"white\",\"automargin\":true,\"zerolinewidth\":2},\"yaxis\":{\"gridcolor\":\"white\",\"linecolor\":\"white\",\"ticks\":\"\",\"title\":{\"standoff\":15},\"zerolinecolor\":\"white\",\"automargin\":true,\"zerolinewidth\":2},\"scene\":{\"xaxis\":{\"backgroundcolor\":\"#E5ECF6\",\"gridcolor\":\"white\",\"linecolor\":\"white\",\"showbackground\":true,\"ticks\":\"\",\"zerolinecolor\":\"white\",\"gridwidth\":2},\"yaxis\":{\"backgroundcolor\":\"#E5ECF6\",\"gridcolor\":\"white\",\"linecolor\":\"white\",\"showbackground\":true,\"ticks\":\"\",\"zerolinecolor\":\"white\",\"gridwidth\":2},\"zaxis\":{\"backgroundcolor\":\"#E5ECF6\",\"gridcolor\":\"white\",\"linecolor\":\"white\",\"showbackground\":true,\"ticks\":\"\",\"zerolinecolor\":\"white\",\"gridwidth\":2}},\"shapedefaults\":{\"line\":{\"color\":\"#2a3f5f\"}},\"annotationdefaults\":{\"arrowcolor\":\"#2a3f5f\",\"arrowhead\":0,\"arrowwidth\":1},\"geo\":{\"bgcolor\":\"white\",\"landcolor\":\"#E5ECF6\",\"subunitcolor\":\"white\",\"showland\":true,\"showlakes\":true,\"lakecolor\":\"white\"},\"title\":{\"x\":0.05},\"mapbox\":{\"style\":\"light\"}}},\"margin\":{\"l\":65,\"r\":50,\"b\":65,\"t\":90},\"scene\":{\"xaxis\":{\"tickmode\":\"array\",\"ticktext\":[\"1e-07\",\"2e-06\",\"3e-05\",\"5e-04\",\"9e-03\",\"2e-01\",\"3e+00\",\"5e+01\",\"9e+02\"],\"tickvals\":[0,1,2,3,4,5,6,7,8],\"title\":{\"text\":\"RNA_0-RNA_1\"}},\"yaxis\":{\"tickmode\":\"array\",\"ticktext\":[\"1e-07\",\"2e-06\",\"3e-05\",\"5e-04\",\"9e-03\",\"2e-01\",\"3e+00\",\"5e+01\",\"9e+02\"],\"tickvals\":[0,1,2,3,4,5,6,7,8],\"title\":{\"text\":\"RNA_1-RNA_2\"}},\"zaxis\":{\"title\":{\"text\":\"Sensitivity\"}}},\"title\":{\"text\":\"Sensitivity\"},\"autosize\":false,\"width\":500,\"height\":500},                        {\"responsive\": true}                    ).then(function(){\n",
       "                            \n",
       "var gd = document.getElementById('09b799ed-6da2-4fc4-a703-0f2b0efb6055');\n",
       "var x = new MutationObserver(function (mutations, observer) {{\n",
       "        var display = window.getComputedStyle(gd).display;\n",
       "        if (!display || display === 'none') {{\n",
       "            console.log([gd, 'removed!']);\n",
       "            Plotly.purge(gd);\n",
       "            observer.disconnect();\n",
       "        }}\n",
       "}});\n",
       "\n",
       "// Listen for the removal of the full notebook cells\n",
       "var notebookContainer = gd.closest('#notebook-container');\n",
       "if (notebookContainer) {{\n",
       "    x.observe(notebookContainer, {childList: true});\n",
       "}}\n",
       "\n",
       "// Listen for the clearing of the current output cell\n",
       "var outputEl = gd.closest('.output');\n",
       "if (outputEl) {{\n",
       "    x.observe(outputEl, {childList: true});\n",
       "}}\n",
       "\n",
       "                        })                };                });            </script>        </div>"
      ]
     },
     "metadata": {},
     "output_type": "display_data"
    }
   ],
   "source": [
    "\n",
    "\n",
    "slices = [static] * (len(x.shape) - 1)\n",
    "slices[choice1_idx] = slice(x.shape[choice1_idx+1])\n",
    "slices[choice2_idx] = slice(x.shape[choice2_idx+1])\n",
    "z_data = x[tuple([output_idx] + slices)]\n",
    "\n",
    "\n",
    "fig = go.Figure(data=[go.Surface(z=z_data)])\n",
    "\n",
    "fig.update_layout(title=prettify_keys_for_label(analytic_name),\n",
    "                  autosize=False,\n",
    "                  width=500, height=500,\n",
    "                  margin=dict(l=65, r=50, b=65, t=90),\n",
    "                  scene=dict(\n",
    "    xaxis=dict(\n",
    "        tickmode=\"array\",\n",
    "        ticktext=[f'{p:.0e}' for p in param_range],\n",
    "        tickvals=np.arange(x.shape[1]),\n",
    "        title=f\"{choice11}-{choice12}\"\n",
    "    ),\n",
    "    yaxis=dict(\n",
    "        tickmode=\"array\",\n",
    "        ticktext=[f'{p:.0e}' for p in param_range],\n",
    "        tickvals=np.arange(x.shape[1]),\n",
    "        title=f\"{choice21}-{choice22}\"\n",
    "    ), \n",
    "    zaxis=dict(title=prettify_keys_for_label(analytic_name))\n",
    "))\n",
    "# fig.update_xaxes(labelalias=<VALUE>)\n",
    "# fig.show()"
   ]
  },
  {
   "cell_type": "markdown",
   "metadata": {},
   "source": [
    "# Stacked"
   ]
  },
  {
   "cell_type": "code",
   "execution_count": 143,
   "metadata": {},
   "outputs": [],
   "source": [
    "slices = [slice(x.shape[1]), slice(x.shape[2]), 0, 0, 0, 0]\n",
    "xmax = np.max(x[tuple([slice(x.shape[0])] + slices)])\n",
    "\n",
    "surfs = []\n",
    "pi = 0\n",
    "for si in range(n_species):\n",
    "    if si == sig_idx:\n",
    "        continue\n",
    "    surfs.append(go.Surface(z=x[tuple([si] + slices)] +\n",
    "                 xmax * pi, showscale=False, opacity=0.9))\n",
    "    pi += 1\n",
    "    # surfs.append(go.Surface(z=x[si, :, :, 0, 0, 0, 0] + si * xmax, showscale=False, opacity=0.9))\n",
    "\n",
    "fig = go.Figure(data=surfs)\n",
    "\n",
    "fig.update_layout(title=prettify_keys_for_label(analytic_name), autosize=False,\n",
    "                  width=500, height=500,\n",
    "                  margin=dict(l=65, r=50, b=65, t=90),\n",
    "                  scene=dict(\n",
    "    xaxis=dict(\n",
    "        tickmode=\"array\",\n",
    "        ticktext=[f'{p:.0e}' for p in param_range],\n",
    "        tickvals=np.arange(x.shape[1]),\n",
    "        title=f\"{choice11}-{choice12}\"\n",
    "    ),\n",
    "    yaxis=dict(\n",
    "        tickmode=\"array\",\n",
    "        ticktext=[f'{p:.0e}' for p in param_range],\n",
    "        tickvals=np.arange(x.shape[1]),\n",
    "        title=f\"{choice21}-{choice22}\"\n",
    "    ), \n",
    "    zaxis=dict(title=prettify_keys_for_label(analytic_name))\n",
    "))\n",
    "\n",
    "fig.write_html(f'stacked_{analytic_name}_{choice11}-{choice12}.html')"
   ]
  },
  {
   "cell_type": "markdown",
   "metadata": {},
   "source": [
    "# Slider"
   ]
  },
  {
   "cell_type": "code",
   "execution_count": 144,
   "metadata": {},
   "outputs": [],
   "source": [
    "\n",
    "fig = go.Figure()\n",
    "\n",
    "for i, step in enumerate(param_range):\n",
    "    \n",
    "    slices = [static] * (len(x.shape) - 1)\n",
    "    slices[choice1_idx] = slice(x.shape[choice1_idx+1])\n",
    "    slices[choice2_idx] = slice(x.shape[choice2_idx+1])\n",
    "    slices[slider_idx] = i\n",
    "\n",
    "    xmax = np.max(x[tuple([slice(x.shape[0])] + slices)])\n",
    "    pi = 0\n",
    "    for si in range(n_species):\n",
    "        if si == sig_idx:\n",
    "            continue\n",
    "        fig.add_trace(\n",
    "            go.Surface(z=x[tuple([si] + slices)] + xmax * pi,\n",
    "                       visible=False,\n",
    "                       name=\"[3] = \" + f'{step:.2e}',\n",
    "                       showscale=False, opacity=1.0),\n",
    "        )\n",
    "        pi += 1\n",
    "        break\n",
    "\n",
    "fig.data[0].visible = True\n",
    "\n",
    "steps = []\n",
    "for i, pr in zip(range(len(fig.data)), param_range):\n",
    "    step = dict(\n",
    "        method=\"update\",\n",
    "        args=[{\"visible\": [False] * len(fig.data)},\n",
    "              {\"title\": \"Slider switched to step: \" + f'{pr:.2e}'}],  # layout attribute\n",
    "        label=f'{pr:.02}'\n",
    "    )\n",
    "    step[\"args\"][0][\"visible\"][i] = True  # Toggle i'th trace to \"visible\"\n",
    "    steps.append(step)\n",
    "\n",
    "sliders = [dict(\n",
    "    active=0,\n",
    "    currentvalue={\"prefix\": f\"Interaction strength {slider1}-{slider2}: \"},\n",
    "    pad={\"t\": 50},\n",
    "    steps=steps\n",
    ")]\n",
    "\n",
    "fig.update_layout(\n",
    "    sliders=sliders,\n",
    "    title=prettify_keys_for_label(analytic_name) + f' for {output}',\n",
    "    scene=dict(\n",
    "        xaxis=dict(\n",
    "            tickmode=\"array\",\n",
    "            ticktext=[f'{p:.0e}' for p in param_range],\n",
    "            tickvals=np.arange(x.shape[1]),\n",
    "            title=f\"{choice11}-{choice12}\"\n",
    "        ),\n",
    "        yaxis=dict(\n",
    "            tickmode=\"array\",\n",
    "            ticktext=[f'{p:.0e}' for p in param_range],\n",
    "            tickvals=np.arange(x.shape[1]),\n",
    "            title=f\"{choice21}-{choice22}\"\n",
    "        ),\n",
    "        zaxis=dict(title=prettify_keys_for_label(analytic_name) + ' ' + output)\n",
    "    )\n",
    ")\n",
    "\n",
    "fig.write_html(f'slider_{analytic_name}_{choice11}-{choice12}.html')"
   ]
  },
  {
   "cell_type": "markdown",
   "metadata": {},
   "source": [
    "## Slider show"
   ]
  },
  {
   "cell_type": "code",
   "execution_count": 145,
   "metadata": {},
   "outputs": [
    {
     "data": {
      "application/vnd.plotly.v1+json": {
       "config": {
        "plotlyServerURL": "https://plot.ly"
       },
       "data": [
        {
         "name": "[3] = 1.00e-07",
         "opacity": 1,
         "showscale": false,
         "type": "surface",
         "visible": true,
         "z": [
          [
           0.0022206183057278395,
           0.0021130396053195,
           0.001741842832416296,
           0.0009371056803502142,
           0.001048319973051548,
           0.002044548513367772,
           0.0019078055629506707,
           0.0020638681016862392,
           0.002063742373138666
          ],
          [
           0.0021182529162615538,
           0.0020659957081079483,
           0.0017544423462823033,
           0.0009507005452178419,
           0.0010654429206624627,
           0.00198583141900599,
           0.0018981513567268848,
           0.001990317367017269,
           0.001990149961784482
          ],
          [
           0.0021461043506860733,
           0.0021336779464036226,
           0.0019775694236159325,
           0.0011728735407814384,
           0.001308736391365528,
           0.002008191542699933,
           0.001990532735362649,
           0.0020185282919555902,
           0.0020185033790767193
          ],
          [
           0.00392373651266098,
           0.003966347314417362,
           0.003928035963326693,
           0.0031479005701839924,
           0.0034072487615048885,
           0.0038580286782234907,
           0.004014486912637949,
           0.003926917910575867,
           0.0039274548180401325
          ],
          [
           0.002882055239751935,
           0.003237687051296234,
           0.003671339713037014,
           0.002498144982382655,
           0.002726881066337228,
           0.0027565599884837866,
           0.0037122867070138454,
           0.002792166778817773,
           0.002792338840663433
          ],
          [
           0.001267703017219901,
           0.0012753121554851532,
           0.0012523140758275986,
           0.0011812974698841572,
           0.0009646551916375756,
           0.0011833286844193935,
           0.0012072406243532896,
           0.0011935671791434288,
           0.0011936335358768702
          ],
          [
           0.0003343642456457019,
           0.0003362191200722009,
           0.0003810162015724927,
           0.0004293225647415966,
           0.0007675468223169446,
           0.0005689805839210749,
           0.0004062069929204881,
           0.0005654127453453839,
           0.0005652203690260649
          ],
          [
           0.00029256491689011455,
           0.0002779641654342413,
           0.00009005341416923329,
           0.00019039586186408997,
           0.0007705826428718865,
           0.0005693641141988337,
           0.0004061734944116324,
           0.000570292875636369,
           0.0005702428752556443
          ],
          [
           0.0002951743663288653,
           0.0002748014812823385,
           0.00006505569763248786,
           0.00016961470828391612,
           0.0007709655910730362,
           0.0005703793140128255,
           0.0004023888905066997,
           0.0005754121812060475,
           0.0005753995501436293
          ]
         ]
        },
        {
         "name": "[3] = 1.76e-06",
         "opacity": 1,
         "showscale": false,
         "type": "surface",
         "visible": false,
         "z": [
          [
           0.0020296964794397354,
           0.002002604538574815,
           0.001728427829220891,
           0.0009354035719297826,
           0.0013248577015474439,
           0.0018630956765264273,
           0.0018167431699112058,
           0.0018719732761383057,
           0.0018718302017077804
          ],
          [
           0.0020105550065636635,
           0.0019927858375012875,
           0.0017417032504454255,
           0.0009489886579103768,
           0.0013405171921476722,
           0.0018543805927038193,
           0.0018127651419490576,
           0.0018626776291057467,
           0.0018625331576913595
          ],
          [
           0.0021303975954651833,
           0.002118317410349846,
           0.001968249212950468,
           0.0011709651444107294,
           0.0015957298455759883,
           0.0019846532959491014,
           0.001967396354302764,
           0.0019959977362304926,
           0.001996058039367199
          ],
          [
           0.003919654991477728,
           0.003961308393627405,
           0.003923436161130667,
           0.0031451964750885963,
           0.003545065177604556,
           0.0038503834512084723,
           0.004007579293102026,
           0.00391949201002717,
           0.003920028451830149
          ],
          [
           0.002875861246138811,
           0.0032325908541679382,
           0.003667587647214532,
           0.0024976381100714207,
           0.002284742658957839,
           0.0027484972961246967,
           0.0037066941149532795,
           0.0027838493697345257,
           0.0027840326074510813
          ],
          [
           0.0012637473409995437,
           0.0012719897786155343,
           0.001278938609175384,
           0.0011815830366685987,
           0.0010697608813643456,
           0.0011793003650382161,
           0.0012037222040817142,
           0.0011893725022673607,
           0.0011894410708919168
          ],
          [
           0.00033368307049386203,
           0.00033581748721189797,
           0.00040272169280797243,
           0.0004290923534426838,
           0.000643277307972312,
           0.00038457580376416445,
           0.0003161238564644009,
           0.00035820133052766323,
           0.0003582130593713373
          ],
          [
           0.0001385933719575405,
           0.00015403161523863673,
           0.00010393829143140465,
           0.00019008031813427806,
           0.0006470951484516263,
           0.0003928352671209723,
           0.00032802458736114204,
           0.00036403373815119267,
           0.0003640554496087134
          ],
          [
           0.00013581379607785493,
           0.0001530337322037667,
           0.00007973115134518594,
           0.00016926374519243836,
           0.0006472390377894044,
           0.0003927994694095105,
           0.00032689751242287457,
           0.0003607007674872875,
           0.0003608401748351753
          ]
         ]
        },
        {
         "name": "[3] = 3.08e-05",
         "opacity": 1,
         "showscale": false,
         "type": "surface",
         "visible": false,
         "z": [
          [
           0.001691337558440864,
           0.0016845872160047293,
           0.0015701943775638938,
           0.0009057819843292236,
           0.0011698732851073146,
           0.001429731142707169,
           0.0014198344433680177,
           0.0014373240992426872,
           0.0014372459845617414
          ],
          [
           0.0017065269639715552,
           0.0016998433275148273,
           0.0015851337229833007,
           0.0009191338904201984,
           0.0011862057726830244,
           0.0014465948333963752,
           0.001437661238014698,
           0.0014552004868164659,
           0.001455130404792726
          ],
          [
           0.0019530453719198704,
           0.001946430653333664,
           0.0018350890604779124,
           0.0011366925900802016,
           0.0014459488447755575,
           0.0017191412625834346,
           0.0017195874825119972,
           0.0017382337246090174,
           0.0017382343066856265
          ],
          [
           0.00384164834395051,
           0.003885377896949649,
           0.00385678862221539,
           0.003102134447544813,
           0.003439149120822549,
           0.0037371173966675997,
           0.003893283661454916,
           0.003803434781730175,
           0.0038040135987102985
          ],
          [
           0.002800478134304285,
           0.003164212219417095,
           0.003611387684941292,
           0.002491723746061325,
           0.0022164504043757915,
           0.0026562854181975126,
           0.003625409444794059,
           0.00269088102504611,
           0.0026910582091659307
          ],
          [
           0.0014480631798505783,
           0.0014453614130616188,
           0.0014388144481927156,
           0.0011874544434249401,
           0.0011031400645151734,
           0.001217686920426786,
           0.0012186901876702905,
           0.0012202906655147672,
           0.0012203408405184746
          ],
          [
           0.000498469453305006,
           0.00048541274736635387,
           0.0004935089382342994,
           0.0004248306213412434,
           0.00031548598781228065,
           0.0003224526299163699,
           0.0003134515427518636,
           0.0003135823935735971,
           0.0003136091399937868
          ],
          [
           0.00017991034837905318,
           0.00016742733714636415,
           0.00019237572269048542,
           0.00018501837621442974,
           0.0002631519455462694,
           0.00004224801159580238,
           0.00002780887189146597,
           0.00002780957947834395,
           0.000027817197405966
          ],
          [
           0.00014921589172445238,
           0.00013912675785832107,
           0.00016624282579869032,
           0.0001622111740289256,
           0.0002639916492626071,
           0.0000230836321861716,
           0.00001992596298805438,
           0.0000015677379678891157,
           0.0000015813956224519643
          ]
         ]
        },
        {
         "name": "[3] = 5.41e-04",
         "opacity": 1,
         "showscale": false,
         "type": "surface",
         "visible": false,
         "z": [
          [
           0.000910529459360987,
           0.0009089242084883153,
           0.0008872427279129624,
           0.0006484385230578482,
           0.0006176285678520799,
           0.0006625478272326291,
           0.000663347658701241,
           0.0006634325836785138,
           0.0006634148303419352
          ],
          [
           0.0009242562227882445,
           0.0009226485271938145,
           0.0009003799059428275,
           0.0006590307457372546,
           0.0006280496018007398,
           0.0006746494327671826,
           0.0006755412323400378,
           0.0006757161463610828,
           0.0006757289520464838
          ],
          [
           0.0011450034799054265,
           0.0011431367602199316,
           0.0011112736538052559,
           0.0008383088861592114,
           0.0008070300100371242,
           0.0008720143814571202,
           0.000878595223184675,
           0.0008815227774903178,
           0.0008815738256089389
          ],
          [
           0.0031376739498227835,
           0.003134643891826272,
           0.0031318056862801313,
           0.0026091511826962233,
           0.0025761339347809553,
           0.0028080297634005547,
           0.002946004969999194,
           0.0028644076082855463,
           0.002865115413442254
          ],
          [
           0.0029470371082425117,
           0.0029446773696690798,
           0.0033448399044573307,
           0.0026799002662301064,
           0.0021221833303570747,
           0.002588257659226656,
           0.003286417108029127,
           0.0026249925140291452,
           0.0026252276729792356
          ],
          [
           0.0014499982353299856,
           0.0014486938016489148,
           0.001437513274140656,
           0.0011921452824026346,
           0.0011570717906579375,
           0.0012336329091340303,
           0.0012512278044596314,
           0.0012377192033454776,
           0.0012377627426758409
          ],
          [
           0.00040453276596963406,
           0.0004046517133247107,
           0.0004090525908395648,
           0.0003797694225795567,
           0.0003457327838987112,
           0.0003279446973465383,
           0.0003199749917257577,
           0.0003196945763193071,
           0.00031968861003406346
          ],
          [
           0.000070668087573722,
           0.00007129686127882451,
           0.00008176593109965324,
           0.00012263981625437737,
           0.00008193334360839799,
           0.00003930126695195213,
           0.000027620939363259822,
           0.000027651429263642058,
           0.00002765989484032616
          ],
          [
           0.000040206461562775075,
           0.00004089719368494116,
           0.00005186305133975111,
           0.00009934968693414703,
           0.00007859805191401392,
           0.000013918591321271379,
           0.000001526954861219565,
           0.0000015475868622161215,
           0.0000015617252984156949
          ]
         ]
        },
        {
         "name": "[3] = 9.49e-03",
         "opacity": 1,
         "showscale": false,
         "type": "surface",
         "visible": false,
         "z": [
          [
           0.00024345872225239873,
           0.00024337846843991429,
           0.00024081877199932933,
           0.00021936942357569933,
           0.00016336652333848178,
           0.0001628562022233382,
           0.00016262319695670158,
           0.0001625865261303261,
           0.00016258051618933678
          ],
          [
           0.0002483143762219697,
           0.0002482322743162513,
           0.0002455982321407646,
           0.0002237687149317935,
           0.00016664210124872625,
           0.00016627607692498714,
           0.0001662325084907934,
           0.00016623098053969443,
           0.00016622760449536145
          ],
          [
           0.0003324427525512874,
           0.00033233530120924115,
           0.0003284142876509577,
           0.00029805934173054993,
           0.00022398035798687488,
           0.00022587225248571485,
           0.0002290973498020321,
           0.00022967530821915716,
           0.0002297168830409646
          ],
          [
           0.001492100884206593,
           0.001491718227043748,
           0.001479539554566145,
           0.0013820858439430594,
           0.0010613396298140287,
           0.0011240687454119325,
           0.0011761953355744481,
           0.0011835284531116486,
           0.0011840576771646738
          ],
          [
           0.002811771584674716,
           0.0028109268750995398,
           0.00310312956571579,
           0.002593196230009198,
           0.0018358903471380472,
           0.0023380510974675417,
           0.002377850003540516,
           0.0023847760166972876,
           0.0023851969745010138
          ],
          [
           0.001328079029917717,
           0.0013274720404297113,
           0.0013327731285244226,
           0.001161838066764176,
           0.0009066351922228932,
           0.0010654015932232141,
           0.001075737294740975,
           0.0010767084313556552,
           0.0010767889907583594
          ],
          [
           0.00038310670061036944,
           0.0003829750930890441,
           0.00038331301766447723,
           0.00034422148019075394,
           0.0002873095218092203,
           0.00031971419230103493,
           0.0003165925445500761,
           0.0003164302615914494,
           0.00031643215334042907
          ],
          [
           0.00003445601396379061,
           0.00003449644646025263,
           0.000035463323001749814,
           0.00004539027577266097,
           0.000047342702600872144,
           0.000034472981496946886,
           0.00002799302092171274,
           0.00002751655483734794,
           0.000027498064810060896
          ],
          [
           0.0000018392793208477087,
           0.000001837210334088013,
           0.0000026590178094920702,
           0.00001752397474774625,
           0.000024604090867796913,
           0.000007689469384786207,
           0.0000015242278550431365,
           0.000001524353024251468,
           0.0000015245470876834588
          ]
         ]
        },
        {
         "name": "[3] = 1.67e-01",
         "opacity": 1,
         "showscale": false,
         "type": "surface",
         "visible": false,
         "z": [
          [
           0.00009318600496044382,
           0.00009316849173046649,
           0.00009285751002607867,
           0.00009077266440726817,
           0.0000471120401925873,
           0.00004185280340607278,
           0.00004122562313568778,
           0.00004126276689930819,
           0.00004126832209294662
          ],
          [
           0.00009546137152938172,
           0.00009544342901790515,
           0.00009512457472737879,
           0.00009298983786720783,
           0.00004827231168746948,
           0.000042879048123722896,
           0.000042285246308892965,
           0.00004234232255839743,
           0.0000423494893766474
          ],
          [
           0.00013507560652215034,
           0.00013504961680155247,
           0.00013459865294862539,
           0.00013139197835698724,
           0.00006846564065199345,
           0.00006080207822378725,
           0.00006080907769501209,
           0.00006120083708083257,
           0.00006123230559751391
          ],
          [
           0.0007470323471352458,
           0.0007468906696885824,
           0.0007442563655786216,
           0.0006752961198799312,
           0.0003782338462769985,
           0.00034548641997389495,
           0.00035651278449222445,
           0.00035809868131764233,
           0.00035821000346913934
          ],
          [
           0.002469363622367382,
           0.0024690518621355295,
           0.002463647397235036,
           0.002363580511882901,
           0.0015842120628803968,
           0.001854784321039915,
           0.001963946269825101,
           0.0019768152851611376,
           0.00197765976190567
          ],
          [
           0.0009860614081844687,
           0.000985866179689765,
           0.000982452416792512,
           0.0009285801788792014,
           0.0006382521823979914,
           0.0007240487611852586,
           0.0007463179063051939,
           0.0007475911406800151,
           0.0007476583123207092
          ],
          [
           0.00033170360256917775,
           0.00033163861371576786,
           0.00033049838384613395,
           0.00031214574119076133,
           0.0002568291674833745,
           0.0002618769067339599,
           0.00026610426721163094,
           0.00026584771694615483,
           0.0002658453013282269
          ],
          [
           0.00003147630195599049,
           0.000031469971872866154,
           0.00003139970067422837,
           0.00003199628918082453,
           0.0000644781903247349,
           0.000027815398425445892,
           0.000025595580154913478,
           0.00002529619086999446,
           0.000025311950594186783
          ],
          [
           0.0000017576430764165707,
           0.000001757060203999572,
           0.0000017500110516266432,
           0.000003112676495220512,
           0.000044615124352276325,
           0.000004124729457544163,
           0.00000143669808494451,
           0.0000014417432794289198,
           0.0000014490603916783584
          ]
         ]
        },
        {
         "name": "[3] = 2.92e+00",
         "opacity": 1,
         "showscale": false,
         "type": "surface",
         "visible": false,
         "z": [
          [
           0.00011103464203188196,
           0.00011100944539066404,
           0.00011057298979721963,
           0.00010443420615047216,
           0.00005322245124261826,
           0.00004099658690392971,
           0.000041143062844639644,
           0.000041063693061005324,
           0.00004041845750180073
          ],
          [
           0.0001144396374002099,
           0.00011441381502663717,
           0.00011396330955903977,
           0.00010754981485661119,
           0.000054851770983077586,
           0.00004224666554364376,
           0.00004246904791216366,
           0.00004241292845108546,
           0.00004174920104560442
          ],
          [
           0.00017368051339872181,
           0.0001736419799271971,
           0.0001729620125843212,
           0.00016283823060803115,
           0.00008352568693226203,
           0.00006411103095160797,
           0.0000656518095638603,
           0.00006604341615457088,
           0.00006502928590634838
          ],
          [
           0.001071355422027409,
           0.001071145641617477,
           0.001067512552253902,
           0.0010015076259151101,
           0.0005384620744735003,
           0.0004201658593956381,
           0.00043754259240813553,
           0.00044496956979855895,
           0.0004451616550795734
          ],
          [
           0.004236636217683554,
           0.004236122127622366,
           0.004227330908179283,
           0.004076431971043348,
           0.002687836065888405,
           0.003081036265939474,
           0.0031245099380612373,
           0.0031625735573470592,
           0.003281679004430771
          ],
          [
           0.0013113641180098057,
           0.001311210566200316,
           0.0013085268437862396,
           0.0012633234728127718,
           0.0008851062157191336,
           0.0010272011859342456,
           0.00102836056612432,
           0.0010312795639038086,
           0.0010938543127849698
          ],
          [
           0.00032675208058208227,
           0.00032670979271642864,
           0.0003259628138039261,
           0.0003135088481940329,
           0.00028695137007161975,
           0.00023211631923913956,
           0.00024883184232749045,
           0.0002489834150765091,
           0.00024940879666246474
          ],
          [
           0.000030717714253114536,
           0.00003071409446420148,
           0.00003064100746996701,
           0.000030306993721751496,
           0.00009969950770027936,
           0.000029199944037827663,
           0.000023729955501039512,
           0.00002379228317295201,
           0.000023799866539775394
          ],
          [
           0.0000017436283314964385,
           0.0000017431395917810732,
           0.000001738300397846615,
           0.0000020221546037646476,
           0.00008123589941533282,
           0.000009126527402258944,
           0.0000013019332527619554,
           0.0000013332982007341343,
           0.000001340898279522662
          ]
         ]
        },
        {
         "name": "[3] = 5.13e+01",
         "opacity": 1,
         "showscale": false,
         "type": "surface",
         "visible": false,
         "z": [
          [
           0.00011749358236556873,
           0.00011746319069061428,
           0.00011692880070768297,
           0.00010865100921364501,
           0.0000523633134434931,
           0.00003967002339777537,
           0.00004026450915262103,
           0.000040331113268621266,
           0.00003969680983573198
          ],
          [
           0.00012130677350796759,
           0.00012127541413065046,
           0.00012072313256794587,
           0.00011216561688343063,
           0.000054072774219093844,
           0.000040958941099233925,
           0.00004165871723671444,
           0.000041763072658795863,
           0.00004110825466341339
          ],
          [
           0.00018742344400379807,
           0.00018737437494564801,
           0.00018653551524039358,
           0.00017326143279206008,
           0.00008394969336222857,
           0.00006349923933157697,
           0.00006602932990062982,
           0.00006679322541458532,
           0.00006574885628651828
          ],
          [
           0.0011833620956167579,
           0.001183112384751439,
           0.0011787947732955217,
           0.001101114903576672,
           0.0005590952350758016,
           0.00043089044629596174,
           0.00045148516073822975,
           0.0004611780750565231,
           0.00046197412302717566
          ],
          [
           0.004474548157304525,
           0.00447402149438858,
           0.0044645145535469055,
           0.004306791350245476,
           0.0029202031437307596,
           0.003354721236974001,
           0.0034469994716346264,
           0.0035107729490846395,
           0.0036441185511648655
          ],
          [
           0.0014980504056438804,
           0.0014978792751207948,
           0.0014949283795431256,
           0.0014466710854321718,
           0.0010089760180562735,
           0.0012580929324030876,
           0.0012624526862055063,
           0.0012667932314798236,
           0.0013552686432376504
          ],
          [
           0.00037228348082862794,
           0.00037223356775939465,
           0.00037139825872145593,
           0.00035755144199356437,
           0.00033975436235778034,
           0.00027849344769492745,
           0.00029686413472518325,
           0.0002971112553495914,
           0.0002978868142236024
          ],
          [
           0.00003353012652951293,
           0.00003352439671289176,
           0.000033444317523390055,
           0.00003407154872547835,
           0.00011934051144635305,
           0.000035777185985352844,
           0.00002699677861528471,
           0.000027098265491076745,
           0.00002710327498789411
          ],
          [
           0.000007898053809185512,
           0.000007875775736465584,
           0.0000038943330764595885,
           0.000003939049747714307,
           0.0000993136054603383,
           0.000013481830137607176,
           0.0000016102281961138942,
           0.0000014989824421718367,
           0.0000015090156466612825
          ]
         ]
        },
        {
         "name": "[3] = 9.00e+02",
         "opacity": 1,
         "showscale": false,
         "type": "surface",
         "visible": false,
         "z": [
          [
           0.00011811788863269612,
           0.00011698491289280355,
           0.00011754174920497462,
           0.00010909363481914625,
           0.000052464376494754106,
           0.00003953984924010001,
           0.0000401571232941933,
           0.00004023631117888726,
           0.0000395827300962992
          ],
          [
           0.00012196731404401362,
           0.0001207864552270621,
           0.00012137278827140108,
           0.00011264233762631193,
           0.000054179061407921836,
           0.00004083051680936478,
           0.00004155729038757272,
           0.000041673207306303084,
           0.000040999257180374116
          ],
          [
           0.00018870782514568418,
           0.00018672844453249127,
           0.00018779085075948387,
           0.00017424373072572052,
           0.00008415083721047267,
           0.00006339442916214466,
           0.00006604233203688636,
           0.00006677215424133465,
           0.00006577545718755573
          ],
          [
           0.0011931475019082427,
           0.0011829474242404103,
           0.001188509282656014,
           0.0011096926173195243,
           0.0005632482934743166,
           0.00043169691343791783,
           0.0004527333367150277,
           0.0004626339068636298,
           0.0004634540237020701
          ],
          [
           0.004487492144107819,
           0.0047157383523881435,
           0.00447705015540123,
           0.004321110900491476,
           0.003084661439061165,
           0.0033717448823153973,
           0.003460376523435116,
           0.003530136775225401,
           0.0036639708559960127
          ],
          [
           0.0015102671459317207,
           0.0015975878341123462,
           0.0015071246307343245,
           0.0014588433550670743,
           0.0010516007896512747,
           0.0012751638423651457,
           0.0012802018318325281,
           0.0012856523972004652,
           0.0013758768327534199
          ],
          [
           0.00037655464257113636,
           0.0003789998881984502,
           0.00037567035178653896,
           0.00036171640385873616,
           0.0003448365314397961,
           0.00028351909713819623,
           0.00030237750615924597,
           0.0003026234626304358,
           0.0003034191613551229
          ],
          [
           0.00003396642205188982,
           0.000034188815334346145,
           0.000033884698495967314,
           0.00003461282540229149,
           0.00012342909758444875,
           0.00003667543933261186,
           0.000027603407943388447,
           0.0000276862319879001,
           0.000027691266950569116
          ],
          [
           0.000007873558388382662,
           0.00000790853846410755,
           0.000006572647180291824,
           0.000004122986865695566,
           0.00010320154979126528,
           0.000013734485946770292,
           0.0000016860989262568182,
           0.0000015452062598342309,
           0.0000015452806110261008
          ]
         ]
        }
       ],
       "layout": {
        "scene": {
         "xaxis": {
          "tickmode": "array",
          "ticktext": [
           "1e-07",
           "2e-06",
           "3e-05",
           "5e-04",
           "9e-03",
           "2e-01",
           "3e+00",
           "5e+01",
           "9e+02"
          ],
          "tickvals": [
           0,
           1,
           2,
           3,
           4,
           5,
           6,
           7,
           8
          ],
          "title": {
           "text": "RNA_0-RNA_1"
          }
         },
         "yaxis": {
          "tickmode": "array",
          "ticktext": [
           "1e-07",
           "2e-06",
           "3e-05",
           "5e-04",
           "9e-03",
           "2e-01",
           "3e+00",
           "5e+01",
           "9e+02"
          ],
          "tickvals": [
           0,
           1,
           2,
           3,
           4,
           5,
           6,
           7,
           8
          ],
          "title": {
           "text": "RNA_1-RNA_2"
          }
         },
         "zaxis": {
          "title": {
           "text": "Sensitivity RNA_1"
          }
         }
        },
        "sliders": [
         {
          "active": 0,
          "currentvalue": {
           "prefix": "Interaction strength RNA_1-RNA_1: "
          },
          "pad": {
           "t": 50
          },
          "steps": [
           {
            "args": [
             {
              "visible": [
               true,
               false,
               false,
               false,
               false,
               false,
               false,
               false,
               false
              ]
             },
             {
              "title": "Slider switched to step: 1.00e-07"
             }
            ],
            "label": "1e-07",
            "method": "update"
           },
           {
            "args": [
             {
              "visible": [
               false,
               true,
               false,
               false,
               false,
               false,
               false,
               false,
               false
              ]
             },
             {
              "title": "Slider switched to step: 1.76e-06"
             }
            ],
            "label": "1.8e-06",
            "method": "update"
           },
           {
            "args": [
             {
              "visible": [
               false,
               false,
               true,
               false,
               false,
               false,
               false,
               false,
               false
              ]
             },
             {
              "title": "Slider switched to step: 3.08e-05"
             }
            ],
            "label": "3.1e-05",
            "method": "update"
           },
           {
            "args": [
             {
              "visible": [
               false,
               false,
               false,
               true,
               false,
               false,
               false,
               false,
               false
              ]
             },
             {
              "title": "Slider switched to step: 5.41e-04"
             }
            ],
            "label": "0.00054",
            "method": "update"
           },
           {
            "args": [
             {
              "visible": [
               false,
               false,
               false,
               false,
               true,
               false,
               false,
               false,
               false
              ]
             },
             {
              "title": "Slider switched to step: 9.49e-03"
             }
            ],
            "label": "0.0095",
            "method": "update"
           },
           {
            "args": [
             {
              "visible": [
               false,
               false,
               false,
               false,
               false,
               true,
               false,
               false,
               false
              ]
             },
             {
              "title": "Slider switched to step: 1.67e-01"
             }
            ],
            "label": "0.17",
            "method": "update"
           },
           {
            "args": [
             {
              "visible": [
               false,
               false,
               false,
               false,
               false,
               false,
               true,
               false,
               false
              ]
             },
             {
              "title": "Slider switched to step: 2.92e+00"
             }
            ],
            "label": "2.9",
            "method": "update"
           },
           {
            "args": [
             {
              "visible": [
               false,
               false,
               false,
               false,
               false,
               false,
               false,
               true,
               false
              ]
             },
             {
              "title": "Slider switched to step: 5.13e+01"
             }
            ],
            "label": "5.1e+01",
            "method": "update"
           },
           {
            "args": [
             {
              "visible": [
               false,
               false,
               false,
               false,
               false,
               false,
               false,
               false,
               true
              ]
             },
             {
              "title": "Slider switched to step: 9.00e+02"
             }
            ],
            "label": "9e+02",
            "method": "update"
           }
          ]
         }
        ],
        "template": {
         "data": {
          "bar": [
           {
            "error_x": {
             "color": "#2a3f5f"
            },
            "error_y": {
             "color": "#2a3f5f"
            },
            "marker": {
             "line": {
              "color": "#E5ECF6",
              "width": 0.5
             },
             "pattern": {
              "fillmode": "overlay",
              "size": 10,
              "solidity": 0.2
             }
            },
            "type": "bar"
           }
          ],
          "barpolar": [
           {
            "marker": {
             "line": {
              "color": "#E5ECF6",
              "width": 0.5
             },
             "pattern": {
              "fillmode": "overlay",
              "size": 10,
              "solidity": 0.2
             }
            },
            "type": "barpolar"
           }
          ],
          "carpet": [
           {
            "aaxis": {
             "endlinecolor": "#2a3f5f",
             "gridcolor": "white",
             "linecolor": "white",
             "minorgridcolor": "white",
             "startlinecolor": "#2a3f5f"
            },
            "baxis": {
             "endlinecolor": "#2a3f5f",
             "gridcolor": "white",
             "linecolor": "white",
             "minorgridcolor": "white",
             "startlinecolor": "#2a3f5f"
            },
            "type": "carpet"
           }
          ],
          "choropleth": [
           {
            "colorbar": {
             "outlinewidth": 0,
             "ticks": ""
            },
            "type": "choropleth"
           }
          ],
          "contour": [
           {
            "colorbar": {
             "outlinewidth": 0,
             "ticks": ""
            },
            "colorscale": [
             [
              0,
              "#0d0887"
             ],
             [
              0.1111111111111111,
              "#46039f"
             ],
             [
              0.2222222222222222,
              "#7201a8"
             ],
             [
              0.3333333333333333,
              "#9c179e"
             ],
             [
              0.4444444444444444,
              "#bd3786"
             ],
             [
              0.5555555555555556,
              "#d8576b"
             ],
             [
              0.6666666666666666,
              "#ed7953"
             ],
             [
              0.7777777777777778,
              "#fb9f3a"
             ],
             [
              0.8888888888888888,
              "#fdca26"
             ],
             [
              1,
              "#f0f921"
             ]
            ],
            "type": "contour"
           }
          ],
          "contourcarpet": [
           {
            "colorbar": {
             "outlinewidth": 0,
             "ticks": ""
            },
            "type": "contourcarpet"
           }
          ],
          "heatmap": [
           {
            "colorbar": {
             "outlinewidth": 0,
             "ticks": ""
            },
            "colorscale": [
             [
              0,
              "#0d0887"
             ],
             [
              0.1111111111111111,
              "#46039f"
             ],
             [
              0.2222222222222222,
              "#7201a8"
             ],
             [
              0.3333333333333333,
              "#9c179e"
             ],
             [
              0.4444444444444444,
              "#bd3786"
             ],
             [
              0.5555555555555556,
              "#d8576b"
             ],
             [
              0.6666666666666666,
              "#ed7953"
             ],
             [
              0.7777777777777778,
              "#fb9f3a"
             ],
             [
              0.8888888888888888,
              "#fdca26"
             ],
             [
              1,
              "#f0f921"
             ]
            ],
            "type": "heatmap"
           }
          ],
          "heatmapgl": [
           {
            "colorbar": {
             "outlinewidth": 0,
             "ticks": ""
            },
            "colorscale": [
             [
              0,
              "#0d0887"
             ],
             [
              0.1111111111111111,
              "#46039f"
             ],
             [
              0.2222222222222222,
              "#7201a8"
             ],
             [
              0.3333333333333333,
              "#9c179e"
             ],
             [
              0.4444444444444444,
              "#bd3786"
             ],
             [
              0.5555555555555556,
              "#d8576b"
             ],
             [
              0.6666666666666666,
              "#ed7953"
             ],
             [
              0.7777777777777778,
              "#fb9f3a"
             ],
             [
              0.8888888888888888,
              "#fdca26"
             ],
             [
              1,
              "#f0f921"
             ]
            ],
            "type": "heatmapgl"
           }
          ],
          "histogram": [
           {
            "marker": {
             "pattern": {
              "fillmode": "overlay",
              "size": 10,
              "solidity": 0.2
             }
            },
            "type": "histogram"
           }
          ],
          "histogram2d": [
           {
            "colorbar": {
             "outlinewidth": 0,
             "ticks": ""
            },
            "colorscale": [
             [
              0,
              "#0d0887"
             ],
             [
              0.1111111111111111,
              "#46039f"
             ],
             [
              0.2222222222222222,
              "#7201a8"
             ],
             [
              0.3333333333333333,
              "#9c179e"
             ],
             [
              0.4444444444444444,
              "#bd3786"
             ],
             [
              0.5555555555555556,
              "#d8576b"
             ],
             [
              0.6666666666666666,
              "#ed7953"
             ],
             [
              0.7777777777777778,
              "#fb9f3a"
             ],
             [
              0.8888888888888888,
              "#fdca26"
             ],
             [
              1,
              "#f0f921"
             ]
            ],
            "type": "histogram2d"
           }
          ],
          "histogram2dcontour": [
           {
            "colorbar": {
             "outlinewidth": 0,
             "ticks": ""
            },
            "colorscale": [
             [
              0,
              "#0d0887"
             ],
             [
              0.1111111111111111,
              "#46039f"
             ],
             [
              0.2222222222222222,
              "#7201a8"
             ],
             [
              0.3333333333333333,
              "#9c179e"
             ],
             [
              0.4444444444444444,
              "#bd3786"
             ],
             [
              0.5555555555555556,
              "#d8576b"
             ],
             [
              0.6666666666666666,
              "#ed7953"
             ],
             [
              0.7777777777777778,
              "#fb9f3a"
             ],
             [
              0.8888888888888888,
              "#fdca26"
             ],
             [
              1,
              "#f0f921"
             ]
            ],
            "type": "histogram2dcontour"
           }
          ],
          "mesh3d": [
           {
            "colorbar": {
             "outlinewidth": 0,
             "ticks": ""
            },
            "type": "mesh3d"
           }
          ],
          "parcoords": [
           {
            "line": {
             "colorbar": {
              "outlinewidth": 0,
              "ticks": ""
             }
            },
            "type": "parcoords"
           }
          ],
          "pie": [
           {
            "automargin": true,
            "type": "pie"
           }
          ],
          "scatter": [
           {
            "fillpattern": {
             "fillmode": "overlay",
             "size": 10,
             "solidity": 0.2
            },
            "type": "scatter"
           }
          ],
          "scatter3d": [
           {
            "line": {
             "colorbar": {
              "outlinewidth": 0,
              "ticks": ""
             }
            },
            "marker": {
             "colorbar": {
              "outlinewidth": 0,
              "ticks": ""
             }
            },
            "type": "scatter3d"
           }
          ],
          "scattercarpet": [
           {
            "marker": {
             "colorbar": {
              "outlinewidth": 0,
              "ticks": ""
             }
            },
            "type": "scattercarpet"
           }
          ],
          "scattergeo": [
           {
            "marker": {
             "colorbar": {
              "outlinewidth": 0,
              "ticks": ""
             }
            },
            "type": "scattergeo"
           }
          ],
          "scattergl": [
           {
            "marker": {
             "colorbar": {
              "outlinewidth": 0,
              "ticks": ""
             }
            },
            "type": "scattergl"
           }
          ],
          "scattermapbox": [
           {
            "marker": {
             "colorbar": {
              "outlinewidth": 0,
              "ticks": ""
             }
            },
            "type": "scattermapbox"
           }
          ],
          "scatterpolar": [
           {
            "marker": {
             "colorbar": {
              "outlinewidth": 0,
              "ticks": ""
             }
            },
            "type": "scatterpolar"
           }
          ],
          "scatterpolargl": [
           {
            "marker": {
             "colorbar": {
              "outlinewidth": 0,
              "ticks": ""
             }
            },
            "type": "scatterpolargl"
           }
          ],
          "scatterternary": [
           {
            "marker": {
             "colorbar": {
              "outlinewidth": 0,
              "ticks": ""
             }
            },
            "type": "scatterternary"
           }
          ],
          "surface": [
           {
            "colorbar": {
             "outlinewidth": 0,
             "ticks": ""
            },
            "colorscale": [
             [
              0,
              "#0d0887"
             ],
             [
              0.1111111111111111,
              "#46039f"
             ],
             [
              0.2222222222222222,
              "#7201a8"
             ],
             [
              0.3333333333333333,
              "#9c179e"
             ],
             [
              0.4444444444444444,
              "#bd3786"
             ],
             [
              0.5555555555555556,
              "#d8576b"
             ],
             [
              0.6666666666666666,
              "#ed7953"
             ],
             [
              0.7777777777777778,
              "#fb9f3a"
             ],
             [
              0.8888888888888888,
              "#fdca26"
             ],
             [
              1,
              "#f0f921"
             ]
            ],
            "type": "surface"
           }
          ],
          "table": [
           {
            "cells": {
             "fill": {
              "color": "#EBF0F8"
             },
             "line": {
              "color": "white"
             }
            },
            "header": {
             "fill": {
              "color": "#C8D4E3"
             },
             "line": {
              "color": "white"
             }
            },
            "type": "table"
           }
          ]
         },
         "layout": {
          "annotationdefaults": {
           "arrowcolor": "#2a3f5f",
           "arrowhead": 0,
           "arrowwidth": 1
          },
          "autotypenumbers": "strict",
          "coloraxis": {
           "colorbar": {
            "outlinewidth": 0,
            "ticks": ""
           }
          },
          "colorscale": {
           "diverging": [
            [
             0,
             "#8e0152"
            ],
            [
             0.1,
             "#c51b7d"
            ],
            [
             0.2,
             "#de77ae"
            ],
            [
             0.3,
             "#f1b6da"
            ],
            [
             0.4,
             "#fde0ef"
            ],
            [
             0.5,
             "#f7f7f7"
            ],
            [
             0.6,
             "#e6f5d0"
            ],
            [
             0.7,
             "#b8e186"
            ],
            [
             0.8,
             "#7fbc41"
            ],
            [
             0.9,
             "#4d9221"
            ],
            [
             1,
             "#276419"
            ]
           ],
           "sequential": [
            [
             0,
             "#0d0887"
            ],
            [
             0.1111111111111111,
             "#46039f"
            ],
            [
             0.2222222222222222,
             "#7201a8"
            ],
            [
             0.3333333333333333,
             "#9c179e"
            ],
            [
             0.4444444444444444,
             "#bd3786"
            ],
            [
             0.5555555555555556,
             "#d8576b"
            ],
            [
             0.6666666666666666,
             "#ed7953"
            ],
            [
             0.7777777777777778,
             "#fb9f3a"
            ],
            [
             0.8888888888888888,
             "#fdca26"
            ],
            [
             1,
             "#f0f921"
            ]
           ],
           "sequentialminus": [
            [
             0,
             "#0d0887"
            ],
            [
             0.1111111111111111,
             "#46039f"
            ],
            [
             0.2222222222222222,
             "#7201a8"
            ],
            [
             0.3333333333333333,
             "#9c179e"
            ],
            [
             0.4444444444444444,
             "#bd3786"
            ],
            [
             0.5555555555555556,
             "#d8576b"
            ],
            [
             0.6666666666666666,
             "#ed7953"
            ],
            [
             0.7777777777777778,
             "#fb9f3a"
            ],
            [
             0.8888888888888888,
             "#fdca26"
            ],
            [
             1,
             "#f0f921"
            ]
           ]
          },
          "colorway": [
           "#636efa",
           "#EF553B",
           "#00cc96",
           "#ab63fa",
           "#FFA15A",
           "#19d3f3",
           "#FF6692",
           "#B6E880",
           "#FF97FF",
           "#FECB52"
          ],
          "font": {
           "color": "#2a3f5f"
          },
          "geo": {
           "bgcolor": "white",
           "lakecolor": "white",
           "landcolor": "#E5ECF6",
           "showlakes": true,
           "showland": true,
           "subunitcolor": "white"
          },
          "hoverlabel": {
           "align": "left"
          },
          "hovermode": "closest",
          "mapbox": {
           "style": "light"
          },
          "paper_bgcolor": "white",
          "plot_bgcolor": "#E5ECF6",
          "polar": {
           "angularaxis": {
            "gridcolor": "white",
            "linecolor": "white",
            "ticks": ""
           },
           "bgcolor": "#E5ECF6",
           "radialaxis": {
            "gridcolor": "white",
            "linecolor": "white",
            "ticks": ""
           }
          },
          "scene": {
           "xaxis": {
            "backgroundcolor": "#E5ECF6",
            "gridcolor": "white",
            "gridwidth": 2,
            "linecolor": "white",
            "showbackground": true,
            "ticks": "",
            "zerolinecolor": "white"
           },
           "yaxis": {
            "backgroundcolor": "#E5ECF6",
            "gridcolor": "white",
            "gridwidth": 2,
            "linecolor": "white",
            "showbackground": true,
            "ticks": "",
            "zerolinecolor": "white"
           },
           "zaxis": {
            "backgroundcolor": "#E5ECF6",
            "gridcolor": "white",
            "gridwidth": 2,
            "linecolor": "white",
            "showbackground": true,
            "ticks": "",
            "zerolinecolor": "white"
           }
          },
          "shapedefaults": {
           "line": {
            "color": "#2a3f5f"
           }
          },
          "ternary": {
           "aaxis": {
            "gridcolor": "white",
            "linecolor": "white",
            "ticks": ""
           },
           "baxis": {
            "gridcolor": "white",
            "linecolor": "white",
            "ticks": ""
           },
           "bgcolor": "#E5ECF6",
           "caxis": {
            "gridcolor": "white",
            "linecolor": "white",
            "ticks": ""
           }
          },
          "title": {
           "x": 0.05
          },
          "xaxis": {
           "automargin": true,
           "gridcolor": "white",
           "linecolor": "white",
           "ticks": "",
           "title": {
            "standoff": 15
           },
           "zerolinecolor": "white",
           "zerolinewidth": 2
          },
          "yaxis": {
           "automargin": true,
           "gridcolor": "white",
           "linecolor": "white",
           "ticks": "",
           "title": {
            "standoff": 15
           },
           "zerolinecolor": "white",
           "zerolinewidth": 2
          }
         }
        },
        "title": {
         "text": "Sensitivity for RNA_1"
        }
       }
      },
      "text/html": [
       "<div>                            <div id=\"e1c00ae9-fd17-46c6-88a9-3eb25a6d34cc\" class=\"plotly-graph-div\" style=\"height:525px; width:100%;\"></div>            <script type=\"text/javascript\">                require([\"plotly\"], function(Plotly) {                    window.PLOTLYENV=window.PLOTLYENV || {};                                    if (document.getElementById(\"e1c00ae9-fd17-46c6-88a9-3eb25a6d34cc\")) {                    Plotly.newPlot(                        \"e1c00ae9-fd17-46c6-88a9-3eb25a6d34cc\",                        [{\"name\":\"[3] = 1.00e-07\",\"opacity\":1.0,\"showscale\":false,\"visible\":true,\"z\":[[0.0022206183057278395,0.0021130396053195,0.001741842832416296,0.0009371056803502142,0.001048319973051548,0.002044548513367772,0.0019078055629506707,0.0020638681016862392,0.002063742373138666],[0.0021182529162615538,0.0020659957081079483,0.0017544423462823033,0.0009507005452178419,0.0010654429206624627,0.00198583141900599,0.0018981513567268848,0.001990317367017269,0.001990149961784482],[0.0021461043506860733,0.0021336779464036226,0.0019775694236159325,0.0011728735407814384,0.001308736391365528,0.002008191542699933,0.001990532735362649,0.0020185282919555902,0.0020185033790767193],[0.00392373651266098,0.003966347314417362,0.003928035963326693,0.0031479005701839924,0.0034072487615048885,0.0038580286782234907,0.004014486912637949,0.003926917910575867,0.0039274548180401325],[0.002882055239751935,0.003237687051296234,0.003671339713037014,0.002498144982382655,0.002726881066337228,0.0027565599884837866,0.0037122867070138454,0.002792166778817773,0.002792338840663433],[0.001267703017219901,0.0012753121554851532,0.0012523140758275986,0.0011812974698841572,0.0009646551916375756,0.0011833286844193935,0.0012072406243532896,0.0011935671791434288,0.0011936335358768702],[0.0003343642456457019,0.0003362191200722009,0.0003810162015724927,0.0004293225647415966,0.0007675468223169446,0.0005689805839210749,0.0004062069929204881,0.0005654127453453839,0.0005652203690260649],[0.00029256491689011455,0.0002779641654342413,9.005341416923329e-05,0.00019039586186408997,0.0007705826428718865,0.0005693641141988337,0.0004061734944116324,0.000570292875636369,0.0005702428752556443],[0.0002951743663288653,0.0002748014812823385,6.505569763248786e-05,0.00016961470828391612,0.0007709655910730362,0.0005703793140128255,0.0004023888905066997,0.0005754121812060475,0.0005753995501436293]],\"type\":\"surface\"},{\"name\":\"[3] = 1.76e-06\",\"opacity\":1.0,\"showscale\":false,\"visible\":false,\"z\":[[0.0020296964794397354,0.002002604538574815,0.001728427829220891,0.0009354035719297826,0.0013248577015474439,0.0018630956765264273,0.0018167431699112058,0.0018719732761383057,0.0018718302017077804],[0.0020105550065636635,0.0019927858375012875,0.0017417032504454255,0.0009489886579103768,0.0013405171921476722,0.0018543805927038193,0.0018127651419490576,0.0018626776291057467,0.0018625331576913595],[0.0021303975954651833,0.002118317410349846,0.001968249212950468,0.0011709651444107294,0.0015957298455759883,0.0019846532959491014,0.001967396354302764,0.0019959977362304926,0.001996058039367199],[0.003919654991477728,0.003961308393627405,0.003923436161130667,0.0031451964750885963,0.003545065177604556,0.0038503834512084723,0.004007579293102026,0.00391949201002717,0.003920028451830149],[0.002875861246138811,0.0032325908541679382,0.003667587647214532,0.0024976381100714207,0.002284742658957839,0.0027484972961246967,0.0037066941149532795,0.0027838493697345257,0.0027840326074510813],[0.0012637473409995437,0.0012719897786155343,0.001278938609175384,0.0011815830366685987,0.0010697608813643456,0.0011793003650382161,0.0012037222040817142,0.0011893725022673607,0.0011894410708919168],[0.00033368307049386203,0.00033581748721189797,0.00040272169280797243,0.0004290923534426838,0.000643277307972312,0.00038457580376416445,0.0003161238564644009,0.00035820133052766323,0.0003582130593713373],[0.0001385933719575405,0.00015403161523863673,0.00010393829143140465,0.00019008031813427806,0.0006470951484516263,0.0003928352671209723,0.00032802458736114204,0.00036403373815119267,0.0003640554496087134],[0.00013581379607785493,0.0001530337322037667,7.973115134518594e-05,0.00016926374519243836,0.0006472390377894044,0.0003927994694095105,0.00032689751242287457,0.0003607007674872875,0.0003608401748351753]],\"type\":\"surface\"},{\"name\":\"[3] = 3.08e-05\",\"opacity\":1.0,\"showscale\":false,\"visible\":false,\"z\":[[0.001691337558440864,0.0016845872160047293,0.0015701943775638938,0.0009057819843292236,0.0011698732851073146,0.001429731142707169,0.0014198344433680177,0.0014373240992426872,0.0014372459845617414],[0.0017065269639715552,0.0016998433275148273,0.0015851337229833007,0.0009191338904201984,0.0011862057726830244,0.0014465948333963752,0.001437661238014698,0.0014552004868164659,0.001455130404792726],[0.0019530453719198704,0.001946430653333664,0.0018350890604779124,0.0011366925900802016,0.0014459488447755575,0.0017191412625834346,0.0017195874825119972,0.0017382337246090174,0.0017382343066856265],[0.00384164834395051,0.003885377896949649,0.00385678862221539,0.003102134447544813,0.003439149120822549,0.0037371173966675997,0.003893283661454916,0.003803434781730175,0.0038040135987102985],[0.002800478134304285,0.003164212219417095,0.003611387684941292,0.002491723746061325,0.0022164504043757915,0.0026562854181975126,0.003625409444794059,0.00269088102504611,0.0026910582091659307],[0.0014480631798505783,0.0014453614130616188,0.0014388144481927156,0.0011874544434249401,0.0011031400645151734,0.001217686920426786,0.0012186901876702905,0.0012202906655147672,0.0012203408405184746],[0.000498469453305006,0.00048541274736635387,0.0004935089382342994,0.0004248306213412434,0.00031548598781228065,0.0003224526299163699,0.0003134515427518636,0.0003135823935735971,0.0003136091399937868],[0.00017991034837905318,0.00016742733714636415,0.00019237572269048542,0.00018501837621442974,0.0002631519455462694,4.224801159580238e-05,2.780887189146597e-05,2.780957947834395e-05,2.7817197405966e-05],[0.00014921589172445238,0.00013912675785832107,0.00016624282579869032,0.0001622111740289256,0.0002639916492626071,2.30836321861716e-05,1.992596298805438e-05,1.5677379678891157e-06,1.5813956224519643e-06]],\"type\":\"surface\"},{\"name\":\"[3] = 5.41e-04\",\"opacity\":1.0,\"showscale\":false,\"visible\":false,\"z\":[[0.000910529459360987,0.0009089242084883153,0.0008872427279129624,0.0006484385230578482,0.0006176285678520799,0.0006625478272326291,0.000663347658701241,0.0006634325836785138,0.0006634148303419352],[0.0009242562227882445,0.0009226485271938145,0.0009003799059428275,0.0006590307457372546,0.0006280496018007398,0.0006746494327671826,0.0006755412323400378,0.0006757161463610828,0.0006757289520464838],[0.0011450034799054265,0.0011431367602199316,0.0011112736538052559,0.0008383088861592114,0.0008070300100371242,0.0008720143814571202,0.000878595223184675,0.0008815227774903178,0.0008815738256089389],[0.0031376739498227835,0.003134643891826272,0.0031318056862801313,0.0026091511826962233,0.0025761339347809553,0.0028080297634005547,0.002946004969999194,0.0028644076082855463,0.002865115413442254],[0.0029470371082425117,0.0029446773696690798,0.0033448399044573307,0.0026799002662301064,0.0021221833303570747,0.002588257659226656,0.003286417108029127,0.0026249925140291452,0.0026252276729792356],[0.0014499982353299856,0.0014486938016489148,0.001437513274140656,0.0011921452824026346,0.0011570717906579375,0.0012336329091340303,0.0012512278044596314,0.0012377192033454776,0.0012377627426758409],[0.00040453276596963406,0.0004046517133247107,0.0004090525908395648,0.0003797694225795567,0.0003457327838987112,0.0003279446973465383,0.0003199749917257577,0.0003196945763193071,0.00031968861003406346],[7.0668087573722e-05,7.129686127882451e-05,8.176593109965324e-05,0.00012263981625437737,8.193334360839799e-05,3.930126695195213e-05,2.7620939363259822e-05,2.7651429263642058e-05,2.765989484032616e-05],[4.0206461562775075e-05,4.089719368494116e-05,5.186305133975111e-05,9.934968693414703e-05,7.859805191401392e-05,1.3918591321271379e-05,1.526954861219565e-06,1.5475868622161215e-06,1.5617252984156949e-06]],\"type\":\"surface\"},{\"name\":\"[3] = 9.49e-03\",\"opacity\":1.0,\"showscale\":false,\"visible\":false,\"z\":[[0.00024345872225239873,0.00024337846843991429,0.00024081877199932933,0.00021936942357569933,0.00016336652333848178,0.0001628562022233382,0.00016262319695670158,0.0001625865261303261,0.00016258051618933678],[0.0002483143762219697,0.0002482322743162513,0.0002455982321407646,0.0002237687149317935,0.00016664210124872625,0.00016627607692498714,0.0001662325084907934,0.00016623098053969443,0.00016622760449536145],[0.0003324427525512874,0.00033233530120924115,0.0003284142876509577,0.00029805934173054993,0.00022398035798687488,0.00022587225248571485,0.0002290973498020321,0.00022967530821915716,0.0002297168830409646],[0.001492100884206593,0.001491718227043748,0.001479539554566145,0.0013820858439430594,0.0010613396298140287,0.0011240687454119325,0.0011761953355744481,0.0011835284531116486,0.0011840576771646738],[0.002811771584674716,0.0028109268750995398,0.00310312956571579,0.002593196230009198,0.0018358903471380472,0.0023380510974675417,0.002377850003540516,0.0023847760166972876,0.0023851969745010138],[0.001328079029917717,0.0013274720404297113,0.0013327731285244226,0.001161838066764176,0.0009066351922228932,0.0010654015932232141,0.001075737294740975,0.0010767084313556552,0.0010767889907583594],[0.00038310670061036944,0.0003829750930890441,0.00038331301766447723,0.00034422148019075394,0.0002873095218092203,0.00031971419230103493,0.0003165925445500761,0.0003164302615914494,0.00031643215334042907],[3.445601396379061e-05,3.449644646025263e-05,3.5463323001749814e-05,4.539027577266097e-05,4.7342702600872144e-05,3.4472981496946886e-05,2.799302092171274e-05,2.751655483734794e-05,2.7498064810060896e-05],[1.8392793208477087e-06,1.837210334088013e-06,2.6590178094920702e-06,1.752397474774625e-05,2.4604090867796913e-05,7.689469384786207e-06,1.5242278550431365e-06,1.524353024251468e-06,1.5245470876834588e-06]],\"type\":\"surface\"},{\"name\":\"[3] = 1.67e-01\",\"opacity\":1.0,\"showscale\":false,\"visible\":false,\"z\":[[9.318600496044382e-05,9.316849173046649e-05,9.285751002607867e-05,9.077266440726817e-05,4.71120401925873e-05,4.185280340607278e-05,4.122562313568778e-05,4.126276689930819e-05,4.126832209294662e-05],[9.546137152938172e-05,9.544342901790515e-05,9.512457472737879e-05,9.298983786720783e-05,4.827231168746948e-05,4.2879048123722896e-05,4.2285246308892965e-05,4.234232255839743e-05,4.23494893766474e-05],[0.00013507560652215034,0.00013504961680155247,0.00013459865294862539,0.00013139197835698724,6.846564065199345e-05,6.080207822378725e-05,6.080907769501209e-05,6.120083708083257e-05,6.123230559751391e-05],[0.0007470323471352458,0.0007468906696885824,0.0007442563655786216,0.0006752961198799312,0.0003782338462769985,0.00034548641997389495,0.00035651278449222445,0.00035809868131764233,0.00035821000346913934],[0.002469363622367382,0.0024690518621355295,0.002463647397235036,0.002363580511882901,0.0015842120628803968,0.001854784321039915,0.001963946269825101,0.0019768152851611376,0.00197765976190567],[0.0009860614081844687,0.000985866179689765,0.000982452416792512,0.0009285801788792014,0.0006382521823979914,0.0007240487611852586,0.0007463179063051939,0.0007475911406800151,0.0007476583123207092],[0.00033170360256917775,0.00033163861371576786,0.00033049838384613395,0.00031214574119076133,0.0002568291674833745,0.0002618769067339599,0.00026610426721163094,0.00026584771694615483,0.0002658453013282269],[3.147630195599049e-05,3.1469971872866154e-05,3.139970067422837e-05,3.199628918082453e-05,6.44781903247349e-05,2.7815398425445892e-05,2.5595580154913478e-05,2.529619086999446e-05,2.5311950594186783e-05],[1.7576430764165707e-06,1.757060203999572e-06,1.7500110516266432e-06,3.112676495220512e-06,4.4615124352276325e-05,4.124729457544163e-06,1.43669808494451e-06,1.4417432794289198e-06,1.4490603916783584e-06]],\"type\":\"surface\"},{\"name\":\"[3] = 2.92e+00\",\"opacity\":1.0,\"showscale\":false,\"visible\":false,\"z\":[[0.00011103464203188196,0.00011100944539066404,0.00011057298979721963,0.00010443420615047216,5.322245124261826e-05,4.099658690392971e-05,4.1143062844639644e-05,4.1063693061005324e-05,4.041845750180073e-05],[0.0001144396374002099,0.00011441381502663717,0.00011396330955903977,0.00010754981485661119,5.4851770983077586e-05,4.224666554364376e-05,4.246904791216366e-05,4.241292845108546e-05,4.174920104560442e-05],[0.00017368051339872181,0.0001736419799271971,0.0001729620125843212,0.00016283823060803115,8.352568693226203e-05,6.411103095160797e-05,6.56518095638603e-05,6.604341615457088e-05,6.502928590634838e-05],[0.001071355422027409,0.001071145641617477,0.001067512552253902,0.0010015076259151101,0.0005384620744735003,0.0004201658593956381,0.00043754259240813553,0.00044496956979855895,0.0004451616550795734],[0.004236636217683554,0.004236122127622366,0.004227330908179283,0.004076431971043348,0.002687836065888405,0.003081036265939474,0.0031245099380612373,0.0031625735573470592,0.003281679004430771],[0.0013113641180098057,0.001311210566200316,0.0013085268437862396,0.0012633234728127718,0.0008851062157191336,0.0010272011859342456,0.00102836056612432,0.0010312795639038086,0.0010938543127849698],[0.00032675208058208227,0.00032670979271642864,0.0003259628138039261,0.0003135088481940329,0.00028695137007161975,0.00023211631923913956,0.00024883184232749045,0.0002489834150765091,0.00024940879666246474],[3.0717714253114536e-05,3.071409446420148e-05,3.064100746996701e-05,3.0306993721751496e-05,9.969950770027936e-05,2.9199944037827663e-05,2.3729955501039512e-05,2.379228317295201e-05,2.3799866539775394e-05],[1.7436283314964385e-06,1.7431395917810732e-06,1.738300397846615e-06,2.0221546037646476e-06,8.123589941533282e-05,9.126527402258944e-06,1.3019332527619554e-06,1.3332982007341343e-06,1.340898279522662e-06]],\"type\":\"surface\"},{\"name\":\"[3] = 5.13e+01\",\"opacity\":1.0,\"showscale\":false,\"visible\":false,\"z\":[[0.00011749358236556873,0.00011746319069061428,0.00011692880070768297,0.00010865100921364501,5.23633134434931e-05,3.967002339777537e-05,4.026450915262103e-05,4.0331113268621266e-05,3.969680983573198e-05],[0.00012130677350796759,0.00012127541413065046,0.00012072313256794587,0.00011216561688343063,5.4072774219093844e-05,4.0958941099233925e-05,4.165871723671444e-05,4.1763072658795863e-05,4.110825466341339e-05],[0.00018742344400379807,0.00018737437494564801,0.00018653551524039358,0.00017326143279206008,8.394969336222857e-05,6.349923933157697e-05,6.602932990062982e-05,6.679322541458532e-05,6.574885628651828e-05],[0.0011833620956167579,0.001183112384751439,0.0011787947732955217,0.001101114903576672,0.0005590952350758016,0.00043089044629596174,0.00045148516073822975,0.0004611780750565231,0.00046197412302717566],[0.004474548157304525,0.00447402149438858,0.0044645145535469055,0.004306791350245476,0.0029202031437307596,0.003354721236974001,0.0034469994716346264,0.0035107729490846395,0.0036441185511648655],[0.0014980504056438804,0.0014978792751207948,0.0014949283795431256,0.0014466710854321718,0.0010089760180562735,0.0012580929324030876,0.0012624526862055063,0.0012667932314798236,0.0013552686432376504],[0.00037228348082862794,0.00037223356775939465,0.00037139825872145593,0.00035755144199356437,0.00033975436235778034,0.00027849344769492745,0.00029686413472518325,0.0002971112553495914,0.0002978868142236024],[3.353012652951293e-05,3.352439671289176e-05,3.3444317523390055e-05,3.407154872547835e-05,0.00011934051144635305,3.5777185985352844e-05,2.699677861528471e-05,2.7098265491076745e-05,2.710327498789411e-05],[7.898053809185512e-06,7.875775736465584e-06,3.8943330764595885e-06,3.939049747714307e-06,9.93136054603383e-05,1.3481830137607176e-05,1.6102281961138942e-06,1.4989824421718367e-06,1.5090156466612825e-06]],\"type\":\"surface\"},{\"name\":\"[3] = 9.00e+02\",\"opacity\":1.0,\"showscale\":false,\"visible\":false,\"z\":[[0.00011811788863269612,0.00011698491289280355,0.00011754174920497462,0.00010909363481914625,5.2464376494754106e-05,3.953984924010001e-05,4.01571232941933e-05,4.023631117888726e-05,3.95827300962992e-05],[0.00012196731404401362,0.0001207864552270621,0.00012137278827140108,0.00011264233762631193,5.4179061407921836e-05,4.083051680936478e-05,4.155729038757272e-05,4.1673207306303084e-05,4.0999257180374116e-05],[0.00018870782514568418,0.00018672844453249127,0.00018779085075948387,0.00017424373072572052,8.415083721047267e-05,6.339442916214466e-05,6.604233203688636e-05,6.677215424133465e-05,6.577545718755573e-05],[0.0011931475019082427,0.0011829474242404103,0.001188509282656014,0.0011096926173195243,0.0005632482934743166,0.00043169691343791783,0.0004527333367150277,0.0004626339068636298,0.0004634540237020701],[0.004487492144107819,0.0047157383523881435,0.00447705015540123,0.004321110900491476,0.003084661439061165,0.0033717448823153973,0.003460376523435116,0.003530136775225401,0.0036639708559960127],[0.0015102671459317207,0.0015975878341123462,0.0015071246307343245,0.0014588433550670743,0.0010516007896512747,0.0012751638423651457,0.0012802018318325281,0.0012856523972004652,0.0013758768327534199],[0.00037655464257113636,0.0003789998881984502,0.00037567035178653896,0.00036171640385873616,0.0003448365314397961,0.00028351909713819623,0.00030237750615924597,0.0003026234626304358,0.0003034191613551229],[3.396642205188982e-05,3.4188815334346145e-05,3.3884698495967314e-05,3.461282540229149e-05,0.00012342909758444875,3.667543933261186e-05,2.7603407943388447e-05,2.76862319879001e-05,2.7691266950569116e-05],[7.873558388382662e-06,7.90853846410755e-06,6.572647180291824e-06,4.122986865695566e-06,0.00010320154979126528,1.3734485946770292e-05,1.6860989262568182e-06,1.5452062598342309e-06,1.5452806110261008e-06]],\"type\":\"surface\"}],                        {\"template\":{\"data\":{\"histogram2dcontour\":[{\"type\":\"histogram2dcontour\",\"colorbar\":{\"outlinewidth\":0,\"ticks\":\"\"},\"colorscale\":[[0.0,\"#0d0887\"],[0.1111111111111111,\"#46039f\"],[0.2222222222222222,\"#7201a8\"],[0.3333333333333333,\"#9c179e\"],[0.4444444444444444,\"#bd3786\"],[0.5555555555555556,\"#d8576b\"],[0.6666666666666666,\"#ed7953\"],[0.7777777777777778,\"#fb9f3a\"],[0.8888888888888888,\"#fdca26\"],[1.0,\"#f0f921\"]]}],\"choropleth\":[{\"type\":\"choropleth\",\"colorbar\":{\"outlinewidth\":0,\"ticks\":\"\"}}],\"histogram2d\":[{\"type\":\"histogram2d\",\"colorbar\":{\"outlinewidth\":0,\"ticks\":\"\"},\"colorscale\":[[0.0,\"#0d0887\"],[0.1111111111111111,\"#46039f\"],[0.2222222222222222,\"#7201a8\"],[0.3333333333333333,\"#9c179e\"],[0.4444444444444444,\"#bd3786\"],[0.5555555555555556,\"#d8576b\"],[0.6666666666666666,\"#ed7953\"],[0.7777777777777778,\"#fb9f3a\"],[0.8888888888888888,\"#fdca26\"],[1.0,\"#f0f921\"]]}],\"heatmap\":[{\"type\":\"heatmap\",\"colorbar\":{\"outlinewidth\":0,\"ticks\":\"\"},\"colorscale\":[[0.0,\"#0d0887\"],[0.1111111111111111,\"#46039f\"],[0.2222222222222222,\"#7201a8\"],[0.3333333333333333,\"#9c179e\"],[0.4444444444444444,\"#bd3786\"],[0.5555555555555556,\"#d8576b\"],[0.6666666666666666,\"#ed7953\"],[0.7777777777777778,\"#fb9f3a\"],[0.8888888888888888,\"#fdca26\"],[1.0,\"#f0f921\"]]}],\"heatmapgl\":[{\"type\":\"heatmapgl\",\"colorbar\":{\"outlinewidth\":0,\"ticks\":\"\"},\"colorscale\":[[0.0,\"#0d0887\"],[0.1111111111111111,\"#46039f\"],[0.2222222222222222,\"#7201a8\"],[0.3333333333333333,\"#9c179e\"],[0.4444444444444444,\"#bd3786\"],[0.5555555555555556,\"#d8576b\"],[0.6666666666666666,\"#ed7953\"],[0.7777777777777778,\"#fb9f3a\"],[0.8888888888888888,\"#fdca26\"],[1.0,\"#f0f921\"]]}],\"contourcarpet\":[{\"type\":\"contourcarpet\",\"colorbar\":{\"outlinewidth\":0,\"ticks\":\"\"}}],\"contour\":[{\"type\":\"contour\",\"colorbar\":{\"outlinewidth\":0,\"ticks\":\"\"},\"colorscale\":[[0.0,\"#0d0887\"],[0.1111111111111111,\"#46039f\"],[0.2222222222222222,\"#7201a8\"],[0.3333333333333333,\"#9c179e\"],[0.4444444444444444,\"#bd3786\"],[0.5555555555555556,\"#d8576b\"],[0.6666666666666666,\"#ed7953\"],[0.7777777777777778,\"#fb9f3a\"],[0.8888888888888888,\"#fdca26\"],[1.0,\"#f0f921\"]]}],\"surface\":[{\"type\":\"surface\",\"colorbar\":{\"outlinewidth\":0,\"ticks\":\"\"},\"colorscale\":[[0.0,\"#0d0887\"],[0.1111111111111111,\"#46039f\"],[0.2222222222222222,\"#7201a8\"],[0.3333333333333333,\"#9c179e\"],[0.4444444444444444,\"#bd3786\"],[0.5555555555555556,\"#d8576b\"],[0.6666666666666666,\"#ed7953\"],[0.7777777777777778,\"#fb9f3a\"],[0.8888888888888888,\"#fdca26\"],[1.0,\"#f0f921\"]]}],\"mesh3d\":[{\"type\":\"mesh3d\",\"colorbar\":{\"outlinewidth\":0,\"ticks\":\"\"}}],\"scatter\":[{\"fillpattern\":{\"fillmode\":\"overlay\",\"size\":10,\"solidity\":0.2},\"type\":\"scatter\"}],\"parcoords\":[{\"type\":\"parcoords\",\"line\":{\"colorbar\":{\"outlinewidth\":0,\"ticks\":\"\"}}}],\"scatterpolargl\":[{\"type\":\"scatterpolargl\",\"marker\":{\"colorbar\":{\"outlinewidth\":0,\"ticks\":\"\"}}}],\"bar\":[{\"error_x\":{\"color\":\"#2a3f5f\"},\"error_y\":{\"color\":\"#2a3f5f\"},\"marker\":{\"line\":{\"color\":\"#E5ECF6\",\"width\":0.5},\"pattern\":{\"fillmode\":\"overlay\",\"size\":10,\"solidity\":0.2}},\"type\":\"bar\"}],\"scattergeo\":[{\"type\":\"scattergeo\",\"marker\":{\"colorbar\":{\"outlinewidth\":0,\"ticks\":\"\"}}}],\"scatterpolar\":[{\"type\":\"scatterpolar\",\"marker\":{\"colorbar\":{\"outlinewidth\":0,\"ticks\":\"\"}}}],\"histogram\":[{\"marker\":{\"pattern\":{\"fillmode\":\"overlay\",\"size\":10,\"solidity\":0.2}},\"type\":\"histogram\"}],\"scattergl\":[{\"type\":\"scattergl\",\"marker\":{\"colorbar\":{\"outlinewidth\":0,\"ticks\":\"\"}}}],\"scatter3d\":[{\"type\":\"scatter3d\",\"line\":{\"colorbar\":{\"outlinewidth\":0,\"ticks\":\"\"}},\"marker\":{\"colorbar\":{\"outlinewidth\":0,\"ticks\":\"\"}}}],\"scattermapbox\":[{\"type\":\"scattermapbox\",\"marker\":{\"colorbar\":{\"outlinewidth\":0,\"ticks\":\"\"}}}],\"scatterternary\":[{\"type\":\"scatterternary\",\"marker\":{\"colorbar\":{\"outlinewidth\":0,\"ticks\":\"\"}}}],\"scattercarpet\":[{\"type\":\"scattercarpet\",\"marker\":{\"colorbar\":{\"outlinewidth\":0,\"ticks\":\"\"}}}],\"carpet\":[{\"aaxis\":{\"endlinecolor\":\"#2a3f5f\",\"gridcolor\":\"white\",\"linecolor\":\"white\",\"minorgridcolor\":\"white\",\"startlinecolor\":\"#2a3f5f\"},\"baxis\":{\"endlinecolor\":\"#2a3f5f\",\"gridcolor\":\"white\",\"linecolor\":\"white\",\"minorgridcolor\":\"white\",\"startlinecolor\":\"#2a3f5f\"},\"type\":\"carpet\"}],\"table\":[{\"cells\":{\"fill\":{\"color\":\"#EBF0F8\"},\"line\":{\"color\":\"white\"}},\"header\":{\"fill\":{\"color\":\"#C8D4E3\"},\"line\":{\"color\":\"white\"}},\"type\":\"table\"}],\"barpolar\":[{\"marker\":{\"line\":{\"color\":\"#E5ECF6\",\"width\":0.5},\"pattern\":{\"fillmode\":\"overlay\",\"size\":10,\"solidity\":0.2}},\"type\":\"barpolar\"}],\"pie\":[{\"automargin\":true,\"type\":\"pie\"}]},\"layout\":{\"autotypenumbers\":\"strict\",\"colorway\":[\"#636efa\",\"#EF553B\",\"#00cc96\",\"#ab63fa\",\"#FFA15A\",\"#19d3f3\",\"#FF6692\",\"#B6E880\",\"#FF97FF\",\"#FECB52\"],\"font\":{\"color\":\"#2a3f5f\"},\"hovermode\":\"closest\",\"hoverlabel\":{\"align\":\"left\"},\"paper_bgcolor\":\"white\",\"plot_bgcolor\":\"#E5ECF6\",\"polar\":{\"bgcolor\":\"#E5ECF6\",\"angularaxis\":{\"gridcolor\":\"white\",\"linecolor\":\"white\",\"ticks\":\"\"},\"radialaxis\":{\"gridcolor\":\"white\",\"linecolor\":\"white\",\"ticks\":\"\"}},\"ternary\":{\"bgcolor\":\"#E5ECF6\",\"aaxis\":{\"gridcolor\":\"white\",\"linecolor\":\"white\",\"ticks\":\"\"},\"baxis\":{\"gridcolor\":\"white\",\"linecolor\":\"white\",\"ticks\":\"\"},\"caxis\":{\"gridcolor\":\"white\",\"linecolor\":\"white\",\"ticks\":\"\"}},\"coloraxis\":{\"colorbar\":{\"outlinewidth\":0,\"ticks\":\"\"}},\"colorscale\":{\"sequential\":[[0.0,\"#0d0887\"],[0.1111111111111111,\"#46039f\"],[0.2222222222222222,\"#7201a8\"],[0.3333333333333333,\"#9c179e\"],[0.4444444444444444,\"#bd3786\"],[0.5555555555555556,\"#d8576b\"],[0.6666666666666666,\"#ed7953\"],[0.7777777777777778,\"#fb9f3a\"],[0.8888888888888888,\"#fdca26\"],[1.0,\"#f0f921\"]],\"sequentialminus\":[[0.0,\"#0d0887\"],[0.1111111111111111,\"#46039f\"],[0.2222222222222222,\"#7201a8\"],[0.3333333333333333,\"#9c179e\"],[0.4444444444444444,\"#bd3786\"],[0.5555555555555556,\"#d8576b\"],[0.6666666666666666,\"#ed7953\"],[0.7777777777777778,\"#fb9f3a\"],[0.8888888888888888,\"#fdca26\"],[1.0,\"#f0f921\"]],\"diverging\":[[0,\"#8e0152\"],[0.1,\"#c51b7d\"],[0.2,\"#de77ae\"],[0.3,\"#f1b6da\"],[0.4,\"#fde0ef\"],[0.5,\"#f7f7f7\"],[0.6,\"#e6f5d0\"],[0.7,\"#b8e186\"],[0.8,\"#7fbc41\"],[0.9,\"#4d9221\"],[1,\"#276419\"]]},\"xaxis\":{\"gridcolor\":\"white\",\"linecolor\":\"white\",\"ticks\":\"\",\"title\":{\"standoff\":15},\"zerolinecolor\":\"white\",\"automargin\":true,\"zerolinewidth\":2},\"yaxis\":{\"gridcolor\":\"white\",\"linecolor\":\"white\",\"ticks\":\"\",\"title\":{\"standoff\":15},\"zerolinecolor\":\"white\",\"automargin\":true,\"zerolinewidth\":2},\"scene\":{\"xaxis\":{\"backgroundcolor\":\"#E5ECF6\",\"gridcolor\":\"white\",\"linecolor\":\"white\",\"showbackground\":true,\"ticks\":\"\",\"zerolinecolor\":\"white\",\"gridwidth\":2},\"yaxis\":{\"backgroundcolor\":\"#E5ECF6\",\"gridcolor\":\"white\",\"linecolor\":\"white\",\"showbackground\":true,\"ticks\":\"\",\"zerolinecolor\":\"white\",\"gridwidth\":2},\"zaxis\":{\"backgroundcolor\":\"#E5ECF6\",\"gridcolor\":\"white\",\"linecolor\":\"white\",\"showbackground\":true,\"ticks\":\"\",\"zerolinecolor\":\"white\",\"gridwidth\":2}},\"shapedefaults\":{\"line\":{\"color\":\"#2a3f5f\"}},\"annotationdefaults\":{\"arrowcolor\":\"#2a3f5f\",\"arrowhead\":0,\"arrowwidth\":1},\"geo\":{\"bgcolor\":\"white\",\"landcolor\":\"#E5ECF6\",\"subunitcolor\":\"white\",\"showland\":true,\"showlakes\":true,\"lakecolor\":\"white\"},\"title\":{\"x\":0.05},\"mapbox\":{\"style\":\"light\"}}},\"scene\":{\"xaxis\":{\"tickmode\":\"array\",\"ticktext\":[\"1e-07\",\"2e-06\",\"3e-05\",\"5e-04\",\"9e-03\",\"2e-01\",\"3e+00\",\"5e+01\",\"9e+02\"],\"tickvals\":[0,1,2,3,4,5,6,7,8],\"title\":{\"text\":\"RNA_0-RNA_1\"}},\"yaxis\":{\"tickmode\":\"array\",\"ticktext\":[\"1e-07\",\"2e-06\",\"3e-05\",\"5e-04\",\"9e-03\",\"2e-01\",\"3e+00\",\"5e+01\",\"9e+02\"],\"tickvals\":[0,1,2,3,4,5,6,7,8],\"title\":{\"text\":\"RNA_1-RNA_2\"}},\"zaxis\":{\"title\":{\"text\":\"Sensitivity RNA_1\"}}},\"sliders\":[{\"active\":0,\"currentvalue\":{\"prefix\":\"Interaction strength RNA_1-RNA_1: \"},\"pad\":{\"t\":50},\"steps\":[{\"args\":[{\"visible\":[true,false,false,false,false,false,false,false,false]},{\"title\":\"Slider switched to step: 1.00e-07\"}],\"label\":\"1e-07\",\"method\":\"update\"},{\"args\":[{\"visible\":[false,true,false,false,false,false,false,false,false]},{\"title\":\"Slider switched to step: 1.76e-06\"}],\"label\":\"1.8e-06\",\"method\":\"update\"},{\"args\":[{\"visible\":[false,false,true,false,false,false,false,false,false]},{\"title\":\"Slider switched to step: 3.08e-05\"}],\"label\":\"3.1e-05\",\"method\":\"update\"},{\"args\":[{\"visible\":[false,false,false,true,false,false,false,false,false]},{\"title\":\"Slider switched to step: 5.41e-04\"}],\"label\":\"0.00054\",\"method\":\"update\"},{\"args\":[{\"visible\":[false,false,false,false,true,false,false,false,false]},{\"title\":\"Slider switched to step: 9.49e-03\"}],\"label\":\"0.0095\",\"method\":\"update\"},{\"args\":[{\"visible\":[false,false,false,false,false,true,false,false,false]},{\"title\":\"Slider switched to step: 1.67e-01\"}],\"label\":\"0.17\",\"method\":\"update\"},{\"args\":[{\"visible\":[false,false,false,false,false,false,true,false,false]},{\"title\":\"Slider switched to step: 2.92e+00\"}],\"label\":\"2.9\",\"method\":\"update\"},{\"args\":[{\"visible\":[false,false,false,false,false,false,false,true,false]},{\"title\":\"Slider switched to step: 5.13e+01\"}],\"label\":\"5.1e+01\",\"method\":\"update\"},{\"args\":[{\"visible\":[false,false,false,false,false,false,false,false,true]},{\"title\":\"Slider switched to step: 9.00e+02\"}],\"label\":\"9e+02\",\"method\":\"update\"}]}],\"title\":{\"text\":\"Sensitivity for RNA_1\"}},                        {\"responsive\": true}                    ).then(function(){\n",
       "                            \n",
       "var gd = document.getElementById('e1c00ae9-fd17-46c6-88a9-3eb25a6d34cc');\n",
       "var x = new MutationObserver(function (mutations, observer) {{\n",
       "        var display = window.getComputedStyle(gd).display;\n",
       "        if (!display || display === 'none') {{\n",
       "            console.log([gd, 'removed!']);\n",
       "            Plotly.purge(gd);\n",
       "            observer.disconnect();\n",
       "        }}\n",
       "}});\n",
       "\n",
       "// Listen for the removal of the full notebook cells\n",
       "var notebookContainer = gd.closest('#notebook-container');\n",
       "if (notebookContainer) {{\n",
       "    x.observe(notebookContainer, {childList: true});\n",
       "}}\n",
       "\n",
       "// Listen for the clearing of the current output cell\n",
       "var outputEl = gd.closest('.output');\n",
       "if (outputEl) {{\n",
       "    x.observe(outputEl, {childList: true});\n",
       "}}\n",
       "\n",
       "                        })                };                });            </script>        </div>"
      ]
     },
     "metadata": {},
     "output_type": "display_data"
    }
   ],
   "source": [
    "fig.show()"
   ]
  },
  {
   "cell_type": "code",
   "execution_count": null,
   "metadata": {},
   "outputs": [],
   "source": []
  }
 ],
 "metadata": {
  "kernelspec": {
   "display_name": "env_circuits",
   "language": "python",
   "name": "python3"
  },
  "language_info": {
   "codemirror_mode": {
    "name": "ipython",
    "version": 3
   },
   "file_extension": ".py",
   "mimetype": "text/x-python",
   "name": "python",
   "nbconvert_exporter": "python",
   "pygments_lexer": "ipython3",
   "version": "3.10.12"
  },
  "orig_nbformat": 4
 },
 "nbformat": 4,
 "nbformat_minor": 2
}
