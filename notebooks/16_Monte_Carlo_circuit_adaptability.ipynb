{
 "cells": [
  {
   "cell_type": "code",
   "execution_count": 23,
   "metadata": {},
   "outputs": [
    {
     "name": "stdout",
     "output_type": "stream",
     "text": [
      "The autoreload extension is already loaded. To reload it, use:\n",
      "  %reload_ext autoreload\n"
     ]
    }
   ],
   "source": [
    "%load_ext autoreload\n",
    "%autoreload 2"
   ]
  },
  {
   "cell_type": "markdown",
   "metadata": {},
   "source": [
    "# Imports\n"
   ]
  },
  {
   "cell_type": "code",
   "execution_count": 24,
   "metadata": {},
   "outputs": [],
   "source": [
    "\n",
    "from bioreaction.simulation.manager import simulate_steady_states\n",
    "from functools import partial\n",
    "from typing import Optional, Tuple, List\n",
    "from datetime import datetime\n",
    "import os\n",
    "import sys\n",
    "import numpy as np\n",
    "import jax\n",
    "import jax.numpy as jnp\n",
    "import diffrax as dfx\n",
    "import pandas as pd\n",
    "import seaborn as sns\n",
    "import matplotlib.pyplot as plt\n",
    "import plotly.express as px\n",
    "\n",
    "pink_palette = sns.cubehelix_palette(rot=0.5, start=2.7, gamma=1.1)\n",
    "\n",
    "jax.config.update('jax_platform_name', 'gpu')\n",
    "# os.environ[\"XLA_PYTHON_CLIENT_MEM_FRACTION\"] = \"0.70\"\n",
    "\n",
    "if __package__ is None:\n",
    "\n",
    "    module_path = os.path.abspath(os.path.join('..'))\n",
    "    sys.path.append(module_path)\n",
    "\n",
    "    __package__ = os.path.basename(module_path)\n",
    "\n",
    "\n",
    "root_dir = '..'"
   ]
  },
  {
   "cell_type": "code",
   "execution_count": 25,
   "metadata": {},
   "outputs": [],
   "source": [
    "from synbio_morpher.utils.circuit.agnostic_circuits.circuit_manager import CircuitModeller\n",
    "from synbio_morpher.utils.common.setup import construct_circuit_from_cfg, prepare_config\n",
    "from synbio_morpher.utils.data.data_format_tools.common import load_json_as_dict\n",
    "from synbio_morpher.utils.data.data_format_tools.manipulate_fasta import load_seq_from_FASTA\n",
    "from synbio_morpher.utils.evolution.evolver import Evolver\n",
    "from synbio_morpher.utils.evolution.mutation import implement_mutation, apply_mutation_to_sequence, get_mutation_type_mapping, reverse_mut_mapping\n",
    "from synbio_morpher.utils.misc.type_handling import flatten_listlike\n",
    "from synbio_morpher.utils.misc.numerical import add_recursively\n",
    "from synbio_morpher.utils.misc.helper import vanilla_return\n",
    "from synbio_morpher.utils.modelling.deterministic import bioreaction_sim_dfx_expanded\n",
    "from synbio_morpher.utils.results.analytics.naming import get_analytics_types_all, get_true_names_analytics, get_true_interaction_cols\n",
    "from synbio_morpher.utils.results.analytics.timeseries import generate_analytics\n",
    "from synbio_morpher.utils.results.writer import DataWriter\n",
    "from synbio_morpher.srv.io.loaders.circuit_loader import load_circuit\n",
    "from synbio_morpher.srv.io.manage.script_manager import script_preamble"
   ]
  },
  {
   "cell_type": "markdown",
   "metadata": {},
   "source": [
    "# Find good starting circuits\n"
   ]
  },
  {
   "cell_type": "markdown",
   "metadata": {},
   "source": [
    "## Load data\n"
   ]
  },
  {
   "cell_type": "code",
   "execution_count": 26,
   "metadata": {},
   "outputs": [],
   "source": [
    "og_dir = '../data/ensemble_mutation_effect_analysis/2023_07_15_192831/generate_species_templates'\n",
    "fn = '../data/ensemble_mutation_effect_analysis/2023_07_17_105328/summarise_simulation/tabulated_mutation_info.csv'\n",
    "data = pd.read_csv(fn)\n",
    "data['mutation_type'] = data['mutation_type'].str.strip('[]').str.split(',').apply(lambda x: [int(xx) for xx in x if xx])\n",
    "data['mutation_positions'] = data['mutation_positions'].str.strip('[]').str.split(',').apply(lambda x: [int(xx) for xx in x if xx])"
   ]
  },
  {
   "cell_type": "code",
   "execution_count": 27,
   "metadata": {},
   "outputs": [],
   "source": [
    "config = load_json_as_dict(os.path.join(fn.split('summarise')[\n",
    "                           0], 'mutation_effect_on_interactions_signal', 'experiment.json'))\n",
    "config = config['config_filepath']\n",
    "config['experiment']['purpose'] = 'tests'"
   ]
  },
  {
   "cell_type": "code",
   "execution_count": 28,
   "metadata": {},
   "outputs": [],
   "source": [
    "config['simulation']['device'] = 'gpu'"
   ]
  },
  {
   "cell_type": "markdown",
   "metadata": {},
   "source": [
    "## Select starting candidates\n",
    "\n",
    "We want to start with a circuit that has high adaptability, so a circuit that has high signal sensitivity and precision. We'll use the non-signal species $RNA_1$ and $RNA_2$ as the outputs.\n",
    "\n",
    "One thing to look out for is that because precision is often then inverse of sensitivity, it will be much larger typically, so selecting the largest for both should give preference to sensitivity.\n"
   ]
  },
  {
   "cell_type": "code",
   "execution_count": 29,
   "metadata": {},
   "outputs": [
    {
     "name": "stdout",
     "output_type": "stream",
     "text": [
      "Picking circuits that have a sensitivity in the 90.0th percentile of at least 0.36505494\n"
     ]
    },
    {
     "data": {
      "text/plain": [
       "13"
      ]
     },
     "execution_count": 29,
     "metadata": {},
     "output_type": "execute_result"
    }
   ],
   "source": [
    "signal_species = config['signal']['inputs']\n",
    "\n",
    "filt = (\n",
    "    (data[get_true_interaction_cols(data, 'energies')].sum(axis=1) != 0) &\n",
    "    (data['sample_name'].isin(signal_species) != True) &\n",
    "    (data['overshoot'] > 0)\n",
    ")\n",
    "\n",
    "percentile = 0.9\n",
    "sensitivity_range = data[filt]['sensitivity_wrt_species-6'] > (data[filt]['sensitivity_wrt_species-6'].max() *\n",
    "                                                               percentile)\n",
    "starting_circ_rows = data[filt][sensitivity_range].sort_values(\n",
    "    by=['sensitivity_wrt_species-6', 'precision_wrt_species-6'], ascending=False)\n",
    "\n",
    "print(\n",
    "    f'Picking circuits that have a sensitivity in the {percentile * 100}th percentile of at least {data[filt][\"sensitivity_wrt_species-6\"].max() * percentile}')\n",
    "\n",
    "len(starting_circ_rows)"
   ]
  },
  {
   "cell_type": "code",
   "execution_count": 30,
   "metadata": {},
   "outputs": [],
   "source": [
    "\n",
    "data['Starting circuit'] = (data['circuit_name'].isin(starting_circ_rows['circuit_name'])) & \\\n",
    "    (data['mutation_name'].isin(starting_circ_rows['mutation_name'])) & filt\n",
    "\n",
    "sns.scatterplot(\n",
    "    data.sort_values(by='Starting circuit'), x='sensitivity_wrt_species-6', y='precision_wrt_species-6',\n",
    "    hue='Starting circuit', alpha=((data.sort_values(by='Starting circuit')['Starting circuit'] + 0.1)/1.1)\n",
    ")\n",
    "plt.xscale('log')\n",
    "plt.yscale('log')\n",
    "plt.xlabel('Sensitivity')\n",
    "plt.ylabel('Precision')"
   ]
  },
  {
   "cell_type": "code",
   "execution_count": null,
   "metadata": {},
   "outputs": [
    {
     "data": {
      "text/plain": [
       "1042709    0.405617\n",
       "377023     0.392066\n",
       "1099279    0.383694\n",
       "1458932    0.382633\n",
       "1037908    0.381519\n",
       "             ...   \n",
       "1042808    0.000093\n",
       "1042994    0.000083\n",
       "1042795    0.000082\n",
       "73412      0.000079\n",
       "73411      0.000079\n",
       "Name: sensitivity_wrt_species-6, Length: 63, dtype: float64"
      ]
     },
     "execution_count": 9,
     "metadata": {},
     "output_type": "execute_result"
    }
   ],
   "source": [
    "data[data['Starting circuit']].sort_values(by='sensitivity_wrt_species-6', ascending=False)['sensitivity_wrt_species-6']"
   ]
  },
  {
   "cell_type": "code",
   "execution_count": null,
   "metadata": {},
   "outputs": [],
   "source": []
  },
  {
   "cell_type": "markdown",
   "metadata": {},
   "source": [
    "# Monte Carlo optimisation\n",
    "\n",
    "We want to push circuits into ranges of higher sensitivity\n"
   ]
  },
  {
   "cell_type": "markdown",
   "metadata": {},
   "source": [
    "## Optimisation function\n"
   ]
  },
  {
   "cell_type": "code",
   "execution_count": null,
   "metadata": {},
   "outputs": [],
   "source": [
    "s_target = 1\n",
    "p_target = 10\n",
    "\n",
    "def loss_func(s0, p0, s1, p1):\n",
    "    \n",
    "    dp = p1 - p0\n",
    "    ds = s1 - s0\n",
    "    \n",
    "    return ds, dp"
   ]
  },
  {
   "cell_type": "markdown",
   "metadata": {},
   "source": [
    "## Optimisation loop\n"
   ]
  },
  {
   "cell_type": "markdown",
   "metadata": {},
   "source": [
    "### Initialise and set up run"
   ]
  },
  {
   "cell_type": "code",
   "execution_count": null,
   "metadata": {},
   "outputs": [],
   "source": [
    "config['mutations_args'] = {\n",
    "    'algorithm': 'random',\n",
    "    'mutation_counts': 2,\n",
    "    'mutation_nums_within_sequence': [1],\n",
    "    'mutation_nums_per_position': 1,\n",
    "    'concurrent_species_to_mutate': 'single_species_at_a_time',\n",
    "    'seed': 0\n",
    "}\n",
    "config['simulation']['threshold_steady_states'] = 0.1\n",
    "config['experiment']['no_numerical'] = False\n",
    "config['experiment']['no_visualisations'] = True"
   ]
  },
  {
   "cell_type": "code",
   "execution_count": null,
   "metadata": {},
   "outputs": [],
   "source": [
    "config, data_writer = script_preamble(prepare_config(config))\n",
    "\n",
    "modeller = CircuitModeller(data_writer, config)\n",
    "evolver = Evolver(data_writer, mutation_type='random', sequence_type='RNA', seed=0)"
   ]
  },
  {
   "cell_type": "code",
   "execution_count": null,
   "metadata": {},
   "outputs": [
    {
     "data": {
      "text/plain": [
       "{'avg_mRNA_per_cell': 100,\n",
       " 'cell_doubling_time': 1200,\n",
       " 'creation_rate': 2.35,\n",
       " 'starting_copynumbers': 200,\n",
       " 'degradation_rate': 0.01175,\n",
       " 'association_binding_rate': 1000000,\n",
       " 'creation_rate_per_molecule': 3.5475152795e-09,\n",
       " 'degradation_rate_per_molecule': 1.77375763975e-11,\n",
       " 'association_binding_rate_per_molecule': 0.00150958097}"
      ]
     },
     "execution_count": 13,
     "metadata": {},
     "output_type": "execute_result"
    }
   ],
   "source": [
    "config['molecular_params']"
   ]
  },
  {
   "cell_type": "markdown",
   "metadata": {},
   "source": [
    "### Sim funcs"
   ]
  },
  {
   "cell_type": "code",
   "execution_count": null,
   "metadata": {},
   "outputs": [],
   "source": [
    "\n",
    "\n",
    "def mutate(circuits: list, evolver: Evolver, algorithm: str = 'random'):\n",
    "    \n",
    "    for c in circuits:\n",
    "        c = evolver.mutate(\n",
    "            c, write_to_subsystem=True, algorithm=algorithm)\n",
    "\n",
    "    return circuits\n",
    "\n",
    "\n",
    "def simulate(circuits: list, modeller: CircuitModeller, config: dict) -> list:\n",
    "    \n",
    "    circuits = modeller.batch_circuits(\n",
    "        circuits=circuits,\n",
    "        write_to_subsystem=True,\n",
    "        batch_size=config['simulation'].get('batch_size', 100),\n",
    "        methods={\n",
    "            \"compute_interactions\": {},\n",
    "            \"init_circuits\": {'batch': True},\n",
    "            \"simulate_signal_batch\": {'ref_circuit': None,\n",
    "                                      'batch': config['simulation']['use_batch_mutations']},\n",
    "            \"write_results\": {'no_visualisations': config['experiment']['no_visualisations'],\n",
    "                              'no_numerical': config['experiment']['no_numerical']}\n",
    "        }\n",
    "    )\n",
    "    \n",
    "    return circuits\n",
    "\n",
    "\n",
    "# def write(circuits: list, modeller: CircuitModeller, config: dict) -> list:\n",
    "    \n",
    "#     circuits = modeller.batch_circuits(\n",
    "#         circuits=circuits,\n",
    "#         write_to_subsystem=True,\n",
    "#         batch_size=config['simulation'].get('batch_size', 100),\n",
    "#         methods={\n",
    "#             \"write_results\": {'no_visualisations': False,\n",
    "#                               'no_numerical': True}\n",
    "#         }\n",
    "#     )\n",
    "#     return circuits\n",
    "\n",
    "    "
   ]
  },
  {
   "cell_type": "markdown",
   "metadata": {},
   "source": [
    "### Helper funcs"
   ]
  },
  {
   "cell_type": "code",
   "execution_count": null,
   "metadata": {},
   "outputs": [],
   "source": [
    "\n",
    "\n",
    "def load_all_analytics(circuit_dirs):\n",
    "    \"\"\" Top (starting) directory should be the starting circuit for each round \"\"\"\n",
    "    \n",
    "    fbn = 'report_signal.json'\n",
    "    circuits = {}\n",
    "    for circuit_dir in circuit_dirs:\n",
    "        if 'mutations' in os.listdir(circuit_dir):\n",
    "            circuits[os.path.basename(circuit_dir)] = load_all_analytics(\n",
    "                [os.path.join(circuit_dir, sc) for sc in os.listdir(circuit_dir)]) \n",
    "            circuits[os.path.basename(circuit_dir)]['ref_circuit'] = load_json_as_dict(\n",
    "                os.path.join(circuit_dir, fbn))\n",
    "        else:\n",
    "            circuits[os.path.basename(circuit_dir)] = load_json_as_dict(os.path.join(circuit_dir, fbn))\n",
    "    return circuits\n",
    "\n",
    "def make_next_name(name: str):\n",
    "    special_char = '_N_'\n",
    "    return name.split(special_char)[0] + special_char + ''.join(str(datetime.now()).replace('.', '').split(':')[1:])\n",
    "\n"
   ]
  },
  {
   "cell_type": "markdown",
   "metadata": {},
   "source": [
    "### Choosing next circuit"
   ]
  },
  {
   "cell_type": "code",
   "execution_count": null,
   "metadata": {},
   "outputs": [],
   "source": [
    "\n",
    "def choose_next(batch: list, data_writer, choose_max: int = 4, target_species: List[str] = ['RNA_1', 'RNA_2']):\n",
    "    \n",
    "    def make_data(batch, batch_analytics, target_species: List[str]):\n",
    "        # mutated_species = [[(c.name, jax.tree_util.tree_flatten(v.keys())) for k, v in c.mutations.items()] for c in batch]\n",
    "        d = pd.DataFrame(\n",
    "            data=np.concatenate(\n",
    "                [\n",
    "                    np.asarray([c.name for c in batch])[:, None],\n",
    "                    np.asarray([c.subname for c in batch])[:, None]\n",
    "                    # np.asarray(flatten_listlike([[m.template_name for m in jax.tree_util.tree_flatten(c.mutations)[0]] for c in batch]))[:, None]\n",
    "                ], axis=1\n",
    "            ),\n",
    "            columns=['Name', 'Subname']\n",
    "        )\n",
    "        d['Circuit Obj'] = batch\n",
    "        t_idxs = {s.name: batch[0].model.species.index(s.name) for s in batch[0].model.species if s.name in target_species}\n",
    "        for t in target_species:\n",
    "            t_idx = t_idxs[t]\n",
    "            d[f'Sensitivity species-{t}'] = np.asarray([b['sensitivity_wrt_species-6'][t_idx] for b in batch_analytics])\n",
    "            d[f'Precision species-{t}'] = np.asarray([b['precision_wrt_species-6'][t_idx] for b in batch_analytics])\n",
    "        return d\n",
    "        \n",
    "    scale_sensitivity = 1\n",
    "    scale_precision = 1\n",
    "\n",
    "    batch_analytics = [load_json_as_dict(os.path.join(data_writer.top_write_dir, c.name, 'report_signal.json')) for c in batch]\n",
    "    batch_analytics = jax.tree_util.tree_map(lambda x: np.float32(x), batch_analytics)\n",
    "    # starting_analytics = [circuit.result_collector.get_result('signal').analytics for circuit in starting]\n",
    "    # batch_analytics = [circuit.result_collector.get_result('signal').analytics for circuit in batch]\n",
    "    data_1 = make_data(batch, batch_analytics, target_species)\n",
    "    \n",
    "    rs = data_1[data_1['Subname'] == 'ref_circuit']\n",
    "    data_1['Parent Sensitivity'] = jax.tree_util.tree_map(lambda n: rs[rs['Name'] == n]['Sensitivity'].iloc[0], data_1['Name'].to_list())\n",
    "    data_1['Parent Precision'] = jax.tree_util.tree_map(lambda n: rs[rs['Name'] == n]['Precision'].iloc[0], data_1['Name'].to_list())\n",
    "    \n",
    "    data_1['dS'] = data_1['Sensitivity'] - data_1['Parent Sensitivity']\n",
    "    data_1['dP'] = data_1['Precision'] - data_1['Parent Precision']\n",
    "    \n",
    "    circuits_chosen = data_1[(data_1['dS'] >= 0) & (data_1['dP'] >= 0)].sort_values(by=['Sensitivity', 'Precision'], ascending=False)['Circuit Obj'].iloc[:choose_max].to_list()\n",
    "    data_1['Next selected'] = data_1['Circuit Obj'].isin(circuits_chosen)\n",
    "    return circuits_chosen, data_1\n"
   ]
  },
  {
   "cell_type": "markdown",
   "metadata": {},
   "source": [
    "### Process mutations between runs"
   ]
  },
  {
   "cell_type": "code",
   "execution_count": null,
   "metadata": {},
   "outputs": [],
   "source": [
    "\n",
    "\n",
    "def get_mutated_sequences(path, circ_row, mutation_type_mapping) -> dict:\n",
    "    \n",
    "    if not os.path.isfile(path):\n",
    "        path = os.path.join(root_dir, path)\n",
    "        assert os.path.isfile(path), f'Path {path} is not valid.'\n",
    "    \n",
    "    if circ_row['mutation_name'] == 'ref_circuit': \n",
    "        return path\n",
    "\n",
    "    sequences = load_seq_from_FASTA(path, as_type = 'dict')\n",
    "    mutated_species = circ_row['mutation_name'][:5]\n",
    "    mutation_types = jax.tree_util.tree_map(lambda x: mutation_type_mapping[x], circ_row['mutation_type'])\n",
    "    mutated_sequence = apply_mutation_to_sequence(\n",
    "        sequences[mutated_species], circ_row['mutation_positions'], mutation_types)\n",
    "    \n",
    "    sequences[mutated_species] = mutated_sequence\n",
    "    return sequences\n",
    "\n",
    "    \n",
    "def process_for_next_run(circuits: list, data_writer: DataWriter):\n",
    "    \n",
    "    for i, c in enumerate(circuits):\n",
    "        circuits[i].name = make_next_name(c.name)\n",
    "        # sequences = {s.name: s.physical_data for s in c.model.species if s.physical_data}\n",
    "        sequences = load_seq_from_FASTA(c.data.source, as_type='dict')\n",
    "        circuits[i].data.source = write_mutated_circuit(\n",
    "            name=circuits[i].name, subname='ref_circuit', sequences=sequences, data_writer=data_writer)\n",
    "    return circuits\n",
    "    \n",
    "    \n",
    "def write_mutated_circuit(\n",
    "    name: str, subname: str, sequences, data_writer: DataWriter):\n",
    "    \n",
    "    data_writer.subdivide_writing(name)\n",
    "    if subname != 'ref_circuit':\n",
    "        data_writer.subdivide_writing(subname, safe_dir_change=False)\n",
    "    \n",
    "    new_path = data_writer.output(\n",
    "        out_name=name,\n",
    "        out_type='fasta', return_path=True,\n",
    "        data=sequences, byseq=True\n",
    "    )\n",
    "    \n",
    "    data_writer.unsubdivide()\n",
    "    return new_path\n",
    "\n",
    "\n",
    "def make_starting_circuits(starting_circuits: pd.DataFrame, config: dict, data_writer):\n",
    "    d = {v: v for v in jax.tree_util.tree_flatten(get_mutation_type_mapping('RNA'))[0]}\n",
    "    mutation_type_mapping_rev = jax.tree_util.tree_map(lambda x: reverse_mut_mapping(x), d)\n",
    "\n",
    "    circuits = []\n",
    "    for i, circ_row in starting_circuits.iterrows():\n",
    "        curr_config = config\n",
    "        sequences = get_mutated_sequences(circ_row['path_to_template_circuit'], circ_row, mutation_type_mapping_rev)\n",
    "        path = write_mutated_circuit(\n",
    "            name=circ_row['circuit_name'],\n",
    "            subname=circ_row['mutation_name'],\n",
    "            sequences=sequences,\n",
    "            data_writer=data_writer)\n",
    "        curr_config['data_path'] = path\n",
    "        circuit = construct_circuit_from_cfg(prev_configs=None, config_file=curr_config) \n",
    "        circuit.name = make_next_name(circ_row['circuit_name'])\n",
    "        circuits.append(circuit)\n",
    "        \n",
    "    return circuits\n"
   ]
  },
  {
   "cell_type": "markdown",
   "metadata": {},
   "source": [
    "## Start loop"
   ]
  },
  {
   "cell_type": "code",
   "execution_count": null,
   "metadata": {},
   "outputs": [
    {
     "name": "stderr",
     "output_type": "stream",
     "text": [
      "xla_bridge.py:backends():622: Unable to initialize backend 'rocm': NOT_FOUND: Could not find registered platform with name: \"rocm\". Available platform names are: Interpreter CUDA INFO\n",
      "xla_bridge.py:backends():622: Unable to initialize backend 'tpu': module 'jaxlib.xla_extension' has no attribute 'get_tpu_client' INFO\n"
     ]
    }
   ],
   "source": [
    "assert ('gpu' in str(jax.devices())) or ('GPU' in str(jax.devices())), 'Maybe use a GPU'"
   ]
  },
  {
   "cell_type": "code",
   "execution_count": null,
   "metadata": {},
   "outputs": [
    {
     "ename": "NameError",
     "evalue": "name 'jhvcftd' is not defined",
     "output_type": "error",
     "traceback": [
      "\u001b[0;31m---------------------------------------------------------------------------\u001b[0m",
      "\u001b[0;31mNameError\u001b[0m                                 Traceback (most recent call last)",
      "Cell \u001b[0;32mIn[19], line 2\u001b[0m\n\u001b[1;32m      1\u001b[0m data\u001b[39m.\u001b[39msort_values(by\u001b[39m=\u001b[39m[\u001b[39m'\u001b[39m\u001b[39msensitivity_wrt_species-6\u001b[39m\u001b[39m'\u001b[39m], ascending\u001b[39m=\u001b[39m\u001b[39mTrue\u001b[39;00m)[\u001b[39m'\u001b[39m\u001b[39msensitivity_wrt_species-6\u001b[39m\u001b[39m'\u001b[39m]\u001b[39m.\u001b[39miloc[:\u001b[39m3\u001b[39m]\n\u001b[0;32m----> 2\u001b[0m jhvcftd\n",
      "\u001b[0;31mNameError\u001b[0m: name 'jhvcftd' is not defined"
     ]
    }
   ],
   "source": [
    "data.sort_values(by=['sensitivity_wrt_species-6'], ascending=True)['sensitivity_wrt_species-6'].iloc[:3]\n"
   ]
  },
  {
   "cell_type": "code",
   "execution_count": null,
   "metadata": {},
   "outputs": [
    {
     "name": "stderr",
     "output_type": "stream",
     "text": [
      "circuit_manager.py:batch_circuits():646: \tFrom 3 circuits, a total of 3 mutated circuits will be simulated. WARNING\n",
      "circuit_manager.py:prepare_internal_funcs():549: Signal differs between circuits, but only first signal used for simulation. WARNING\n",
      "circuit_manager.py:batch_circuits():654: \t\tStarting new round of viable circuits (0 - 3 / 3) WARNING\n",
      "circuit_manager.py:batch_circuits():672: \t\tMaking subcircuits 0 - 3 took 2.453199s WARNING\n",
      "circuit_manager.py:batch_circuits():678: \tBatching 0 - 20000 circuits (out of 0 - 3 (total: 3)) (Circuits: 0 - 3 of 3) WARNING\n",
      "circuit_manager.py:run_batch():709: \t\tRunning 3 Subcircuits - toy_mRNA_circuit_11726_N_0402502075: compute_interactions WARNING\n",
      "circuit_manager.py:run_batch():745: \t\tMethod compute_interactions took 0.03078s WARNING\n",
      "circuit_manager.py:run_batch():709: \t\tRunning 3 Subcircuits - toy_mRNA_circuit_11726_N_0402502075: init_circuits WARNING\n"
     ]
    },
    {
     "name": "stdout",
     "output_type": "stream",
     "text": [
      "Steady states:  100  iterations.  6  left to steady out.  0:00:20.742788\n",
      "Done:  0:00:40.996711\n"
     ]
    },
    {
     "name": "stderr",
     "output_type": "stream",
     "text": [
      "circuit_manager.py:run_batch():745: \t\tMethod init_circuits took 398.737013s WARNING\n",
      "circuit_manager.py:run_batch():709: \t\tRunning 3 Subcircuits - toy_mRNA_circuit_11726_N_0402502075: simulate_signal_batch WARNING\n"
     ]
    },
    {
     "name": "stdout",
     "output_type": "stream",
     "text": [
      "Done:  0:00:19.981715\n"
     ]
    },
    {
     "name": "stderr",
     "output_type": "stream",
     "text": [
      "circuit_manager.py:simulate_signal_batch():360: \t\tSimulating signal took 24.208602s WARNING\n",
      "circuit_manager.py:simulate_signal_batch():416: \t\tCalculating analytics took 2.702395s WARNING\n",
      "circuit_manager.py:run_batch():745: \t\tMethod simulate_signal_batch took 39.591411s WARNING\n",
      "circuit_manager.py:run_batch():709: \t\tRunning 3 Subcircuits - toy_mRNA_circuit_11726_N_0402502075: write_results WARNING\n",
      "circuit_manager.py:run_batch():745: \t\tMethod write_results took 0.036435s WARNING\n",
      "circuit_manager.py:batch_circuits():692: Single batch: 0:07:50.043659 \n",
      "Projected time: 470.043659s \n",
      "Total time: 0:07:50.043694 WARNING\n"
     ]
    }
   ],
   "source": [
    "target_species = ['RNA_1', 'RNA_2']\n",
    "choose_max = 3\n",
    "total_steps = 2\n",
    "\n",
    "starting = make_starting_circuits(starting_circ_rows.iloc[:choose_max], config, data_writer)\n",
    "starting = simulate(starting, modeller, config)"
   ]
  },
  {
   "cell_type": "code",
   "execution_count": null,
   "metadata": {},
   "outputs": [
    {
     "data": {
      "text/plain": [
       "<PjitFunction of <function <unnamed function> at 0x7fd510c63eb0>>"
      ]
     },
     "execution_count": 24,
     "metadata": {},
     "output_type": "execute_result"
    }
   ],
   "source": [
    "modeller.sim_func_nsig"
   ]
  },
  {
   "cell_type": "code",
   "execution_count": null,
   "metadata": {},
   "outputs": [],
   "source": [
    "modeller2.sim_func_nsig"
   ]
  },
  {
   "cell_type": "code",
   "execution_count": null,
   "metadata": {},
   "outputs": [],
   "source": []
  },
  {
   "cell_type": "code",
   "execution_count": null,
   "metadata": {},
   "outputs": [
    {
     "name": "stderr",
     "output_type": "stream",
     "text": [
      "circuit_manager.py:batch_circuits():646: \tFrom 3 circuits, a total of 21 mutated circuits will be simulated. WARNING\n",
      "circuit_manager.py:prepare_internal_funcs():549: Signal differs between circuits, but only first signal used for simulation. WARNING\n",
      "circuit_manager.py:batch_circuits():654: \t\tStarting new round of viable circuits (0 - 3 / 3) WARNING\n"
     ]
    },
    {
     "name": "stderr",
     "output_type": "stream",
     "text": [
      "circuit_manager.py:batch_circuits():672: \t\tMaking subcircuits 0 - 21 took 0.078591s WARNING\n",
      "circuit_manager.py:batch_circuits():678: \tBatching 0 - 20000 circuits (out of 0 - 21 (total: 21)) (Circuits: 0 - 3 of 3) WARNING\n",
      "circuit_manager.py:run_batch():709: \t\tRunning 21 Subcircuits - toy_mRNA_circuit_11726_N_0007322986: compute_interactions WARNING\n"
     ]
    },
    {
     "name": "stdout",
     "output_type": "stream",
     "text": [
      "\n",
      "\n",
      "Starting new batch\n",
      "\n",
      "\n"
     ]
    },
    {
     "name": "stderr",
     "output_type": "stream",
     "text": [
      "circuit_manager.py:run_batch():745: \t\tMethod compute_interactions took 4.33057s WARNING\n",
      "circuit_manager.py:run_batch():709: \t\tRunning 21 Subcircuits - toy_mRNA_circuit_11726_N_0007322986: init_circuits WARNING\n"
     ]
    },
    {
     "name": "stdout",
     "output_type": "stream",
     "text": [
      "Steady states:  100  iterations.  33  left to steady out.  0:00:26.940886\n",
      "Steady states:  200  iterations.  4  left to steady out.  0:00:54.011989\n",
      "Done:  0:01:20.410374\n"
     ]
    },
    {
     "name": "stderr",
     "output_type": "stream",
     "text": [
      "circuit_manager.py:run_batch():745: \t\tMethod init_circuits took 81.490258s WARNING\n",
      "circuit_manager.py:run_batch():709: \t\tRunning 21 Subcircuits - toy_mRNA_circuit_11726_N_0007322986: simulate_signal_batch WARNING\n",
      "circuit_manager.py:simulate_signal_batch():360: \t\tSimulating signal took 25.437711s WARNING\n"
     ]
    },
    {
     "name": "stdout",
     "output_type": "stream",
     "text": [
      "Done:  0:00:25.376638\n"
     ]
    },
    {
     "name": "stderr",
     "output_type": "stream",
     "text": [
      "circuit_manager.py:simulate_signal_batch():416: \t\tCalculating analytics took 7.048753s WARNING\n",
      "circuit_manager.py:run_batch():745: \t\tMethod simulate_signal_batch took 33.221383s WARNING\n",
      "circuit_manager.py:run_batch():709: \t\tRunning 21 Subcircuits - toy_mRNA_circuit_11726_N_0007322986: write_results WARNING\n",
      "circuit_manager.py:run_batch():745: \t\tMethod write_results took 0.19198s WARNING\n",
      "circuit_manager.py:batch_circuits():692: Single batch: 0:01:59.317410 \n",
      "Projected time: 119.31741s \n",
      "Total time: 0:01:59.317424 WARNING\n"
     ]
    },
    {
     "ename": "TypeError",
     "evalue": "choose_next() got an unexpected keyword argument 'data_writer'",
     "output_type": "error",
     "traceback": [
      "\u001b[0;31m---------------------------------------------------------------------------\u001b[0m",
      "\u001b[0;31mTypeError\u001b[0m                                 Traceback (most recent call last)",
      "Cell \u001b[0;32mIn[21], line 18\u001b[0m\n\u001b[1;32m     14\u001b[0m     expanded_batchs\u001b[39m.\u001b[39mappend(load_circuit(\n\u001b[1;32m     15\u001b[0m         os\u001b[39m.\u001b[39mpath\u001b[39m.\u001b[39mjoin(data_writer\u001b[39m.\u001b[39mtop_write_dir, b\u001b[39m.\u001b[39mname), \n\u001b[1;32m     16\u001b[0m         name\u001b[39m=\u001b[39mb\u001b[39m.\u001b[39mname, config\u001b[39m=\u001b[39mconfig, load_mutations_as_circuits\u001b[39m=\u001b[39m\u001b[39mTrue\u001b[39;00m))\n\u001b[1;32m     17\u001b[0m expanded_batchs \u001b[39m=\u001b[39m flatten_listlike(expanded_batchs, safe\u001b[39m=\u001b[39m\u001b[39mTrue\u001b[39;00m)\n\u001b[0;32m---> 18\u001b[0m starting, summary_data \u001b[39m=\u001b[39m choose_next(batch\u001b[39m=\u001b[39;49mexpanded_batchs, data_writer\u001b[39m=\u001b[39;49mdata_writer, choose_max\u001b[39m=\u001b[39;49mchoose_max, target_species\u001b[39m=\u001b[39;49mtarget_species)\n\u001b[1;32m     19\u001b[0m starting \u001b[39m=\u001b[39m process_for_next_run(starting, data_writer\u001b[39m=\u001b[39mdata_writer, run\u001b[39m=\u001b[39mstep)\n\u001b[1;32m     21\u001b[0m summary[step\u001b[39m+\u001b[39m\u001b[39m1\u001b[39m] \u001b[39m=\u001b[39m starting\n",
      "\u001b[0;31mTypeError\u001b[0m: choose_next() got an unexpected keyword argument 'data_writer'"
     ]
    }
   ],
   "source": [
    "\n",
    "summary = {}\n",
    "summary_batch = {}\n",
    "summary_datas = {}\n",
    "summary[0] = starting\n",
    "for step in range(total_steps):\n",
    "    \n",
    "    print('\\n\\nStarting new batch\\n\\n')\n",
    "\n",
    "    batch = mutate(starting, evolver, algorithm='random')\n",
    "    batch = simulate(batch, modeller, config)\n",
    "    expanded_batchs = []\n",
    "    for b in batch:\n",
    "        config['data_path'] = b.data.source\n",
    "        expanded_batchs.append(load_circuit(\n",
    "            os.path.join(data_writer.top_write_dir, b.name), \n",
    "            name=b.name, config=config, load_mutations_as_circuits=True))\n",
    "    expanded_batchs = flatten_listlike(expanded_batchs, safe=True)\n",
    "    starting, summary_data = choose_next(batch=expanded_batchs, data_writer=data_writer, choose_max=choose_max, target_species=target_species)\n",
    "    starting = process_for_next_run(starting, data_writer=data_writer, run=step)\n",
    "    \n",
    "    summary[step+1] = starting\n",
    "    summary_batch[step] = expanded_batchs\n",
    "    summary_datas[step] = summary_data\n",
    "    \n",
    "    for i in range(len(starting)):\n",
    "        starting[i].subname = 'ref_circuit'"
   ]
  },
  {
   "cell_type": "code",
   "execution_count": null,
   "metadata": {},
   "outputs": [
    {
     "name": "stdout",
     "output_type": "stream",
     "text": [
      "[0.40936008, 0.40936008]\n"
     ]
    }
   ],
   "source": [
    "print([s['Sensitivity'].max() for s in summary_datas.values()])"
   ]
  },
  {
   "cell_type": "markdown",
   "metadata": {},
   "source": [
    "## Visualise circuit trajectory\n"
   ]
  },
  {
   "cell_type": "code",
   "execution_count": null,
   "metadata": {},
   "outputs": [
    {
     "data": {
      "image/png": "[encoded data removed]",
      "text/plain": [
       "<Figure size 2100x700 with 2 Axes>"
      ]
     },
     "metadata": {},
     "output_type": "display_data"
    }
   ],
   "source": [
    "\n",
    "plt.figure(figsize=(len(summary) * 7, 7))\n",
    "for step, sdata in summary_datas.items():\n",
    "    ax = plt.subplot(1,len(summary), step+1)\n",
    "    \n",
    "    # batch_analytics = [load_json_as_dict(os.path.join(data_writer.top_write_dir, c.name, 'report_signal.json')) for c in circuits] \n",
    "    \n",
    "    # batch_analytics = [circuit.result_collector.get_result('signal').analytics for circuit in circuits]\n",
    "    \n",
    "    # d = pd.DataFrame(\n",
    "    #     data=np.concatenate(\n",
    "    #         [\n",
    "    #             np.asarray([b['sensitivity_wrt_species-6'][target_species] for b in batch_analytics]),\n",
    "    #             np.asarray([b['precision_wrt_species-6'][target_species] for b in batch_analytics]),\n",
    "    #             np.asarray([c in summary[step] for c in circuits])[:, None]\n",
    "    #         ],\n",
    "    #         axis=1\n",
    "    #     ),\n",
    "    #     columns=['Sensitivity', 'Precision', 'Next selected']\n",
    "    # )\n",
    "    \n",
    "    sns.scatterplot(sdata.sort_values(by=['Next selected']), x='Sensitivity', y='Precision', hue='Next selected', alpha=0.1)\n",
    "    plt.xscale('log')\n",
    "    plt.yscale('log')\n",
    "    plt.title(f'Step {step}')"
   ]
  },
  {
   "cell_type": "code",
   "execution_count": null,
   "metadata": {},
   "outputs": [
    {
     "data": {
      "text/html": [
       "<div>\n",
       "<style scoped>\n",
       "    .dataframe tbody tr th:only-of-type {\n",
       "        vertical-align: middle;\n",
       "    }\n",
       "\n",
       "    .dataframe tbody tr th {\n",
       "        vertical-align: top;\n",
       "    }\n",
       "\n",
       "    .dataframe thead th {\n",
       "        text-align: right;\n",
       "    }\n",
       "</style>\n",
       "<table border=\"1\" class=\"dataframe\">\n",
       "  <thead>\n",
       "    <tr style=\"text-align: right;\">\n",
       "      <th></th>\n",
       "      <th>Name</th>\n",
       "      <th>Subname</th>\n",
       "      <th>Sensitivity</th>\n",
       "      <th>Precision</th>\n",
       "      <th>Circuit Obj</th>\n",
       "      <th>Parent Sensitivity</th>\n",
       "      <th>Parent Precision</th>\n",
       "      <th>dS</th>\n",
       "      <th>dP</th>\n",
       "      <th>Next selected</th>\n",
       "    </tr>\n",
       "  </thead>\n",
       "  <tbody>\n",
       "    <tr>\n",
       "      <th>0</th>\n",
       "      <td>toy_mRNA_circuit_11726_N__4750721832</td>\n",
       "      <td>ref_circuit</td>\n",
       "      <td>0.40936</td>\n",
       "      <td>2.442837</td>\n",
       "      <td>&lt;synbio_morpher.utils.circuit.agnostic_circuit...</td>\n",
       "      <td>0.40936</td>\n",
       "      <td>2.442837</td>\n",
       "      <td>0.0</td>\n",
       "      <td>0.0</td>\n",
       "      <td>True</td>\n",
       "    </tr>\n",
       "    <tr>\n",
       "      <th>1</th>\n",
       "      <td>toy_mRNA_circuit_11726_N__4750721832</td>\n",
       "      <td>RNA_0_m1-0</td>\n",
       "      <td>0.40936</td>\n",
       "      <td>2.442837</td>\n",
       "      <td>&lt;synbio_morpher.utils.circuit.agnostic_circuit...</td>\n",
       "      <td>0.40936</td>\n",
       "      <td>2.442837</td>\n",
       "      <td>0.0</td>\n",
       "      <td>0.0</td>\n",
       "      <td>True</td>\n",
       "    </tr>\n",
       "    <tr>\n",
       "      <th>2</th>\n",
       "      <td>toy_mRNA_circuit_11726_N__4750721832</td>\n",
       "      <td>RNA_0_m1-1</td>\n",
       "      <td>0.40936</td>\n",
       "      <td>2.442837</td>\n",
       "      <td>&lt;synbio_morpher.utils.circuit.agnostic_circuit...</td>\n",
       "      <td>0.40936</td>\n",
       "      <td>2.442837</td>\n",
       "      <td>0.0</td>\n",
       "      <td>0.0</td>\n",
       "      <td>True</td>\n",
       "    </tr>\n",
       "  </tbody>\n",
       "</table>\n",
       "</div>"
      ],
      "text/plain": [
       "                                   Name      Subname  Sensitivity  Precision  \\\n",
       "0  toy_mRNA_circuit_11726_N__4750721832  ref_circuit      0.40936   2.442837   \n",
       "1  toy_mRNA_circuit_11726_N__4750721832   RNA_0_m1-0      0.40936   2.442837   \n",
       "2  toy_mRNA_circuit_11726_N__4750721832   RNA_0_m1-1      0.40936   2.442837   \n",
       "\n",
       "                                         Circuit Obj  Parent Sensitivity  \\\n",
       "0  <synbio_morpher.utils.circuit.agnostic_circuit...             0.40936   \n",
       "1  <synbio_morpher.utils.circuit.agnostic_circuit...             0.40936   \n",
       "2  <synbio_morpher.utils.circuit.agnostic_circuit...             0.40936   \n",
       "\n",
       "   Parent Precision   dS   dP  Next selected  \n",
       "0          2.442837  0.0  0.0           True  \n",
       "1          2.442837  0.0  0.0           True  \n",
       "2          2.442837  0.0  0.0           True  "
      ]
     },
     "execution_count": 21,
     "metadata": {},
     "output_type": "execute_result"
    }
   ],
   "source": [
    "data_1 = summary_datas[0]\n",
    "data_1[(data_1['dS'] >= 0) & (data_1['dP'] >= 0)].sort_values(by=['Sensitivity', 'Precision'], ascending=False).iloc[:choose_max]\n",
    "\n",
    "# data_1['Sensitivity'].max()\n"
   ]
  },
  {
   "cell_type": "code",
   "execution_count": null,
   "metadata": {},
   "outputs": [],
   "source": []
  },
  {
   "cell_type": "code",
   "execution_count": null,
   "metadata": {},
   "outputs": [],
   "source": []
  }
 ],
 "metadata": {
  "kernelspec": {
   "display_name": "env_circuits",
   "language": "python",
   "name": "python3"
  },
  "language_info": {
   "codemirror_mode": {
    "name": "ipython",
    "version": 3
   },
   "file_extension": ".py",
   "mimetype": "text/x-python",
   "name": "python",
   "nbconvert_exporter": "python",
   "pygments_lexer": "ipython3",
   "version": "3.10.12"
  },
  "orig_nbformat": 4
 },
 "nbformat": 4,
 "nbformat_minor": 2
}
