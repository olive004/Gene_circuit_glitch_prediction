{
 "cells": [
  {
   "cell_type": "code",
   "execution_count": null,
   "metadata": {},
   "outputs": [
    {
     "ename": "",
     "evalue": "",
     "output_type": "error",
     "traceback": [
      "\u001b[1;31mFailed to start the Kernel 'env_circuits (Python 3.10.6)'. \n",
      "\u001b[1;31mView Jupyter <a href='command:jupyter.viewOutput'>log</a> for further details. ENOSPC: no space left on device, open '/tmp/kernel-v2-72717pUHIgdp1Vt8I.json'"
     ]
    }
   ],
   "source": [
    "%load_ext autoreload\n",
    "%autoreload 2"
   ]
  },
  {
   "cell_type": "markdown",
   "metadata": {},
   "source": [
    "# Imports"
   ]
  },
  {
   "cell_type": "code",
   "execution_count": null,
   "metadata": {},
   "outputs": [],
   "source": [
    "from functools import partial\n",
    "from typing import Optional, Tuple\n",
    "import os\n",
    "import sys\n",
    "import numpy as np\n",
    "import jax\n",
    "import jax.numpy as jnp\n",
    "import diffrax as dfx\n",
    "import pandas as pd\n",
    "import seaborn as sns\n",
    "import matplotlib.pyplot as plt\n",
    "\n",
    "pink_palette = sns.cubehelix_palette(rot=0.5, start=2.7, gamma=1.1)\n",
    "\n",
    "jax.config.update('jax_platform_name', 'gpu')\n",
    "os.environ[\"XLA_PYTHON_CLIENT_MEM_FRACTION\"]=\"0.70\" \n",
    "\n",
    "if __package__ is None:\n",
    "\n",
    "    module_path = os.path.abspath(os.path.join('..'))\n",
    "    sys.path.append(module_path)\n",
    "\n",
    "    __package__ = os.path.basename(module_path)\n",
    "\n",
    "\n",
    "from bioreaction.simulation.manager import simulate_steady_states\n",
    "from synbio_morpher.srv.io.manage.script_manager import script_preamble\n",
    "from synbio_morpher.utils.data.data_format_tools.common import load_json_as_dict\n",
    "from synbio_morpher.utils.modelling.deterministic import bioreaction_sim_dfx_expanded\n",
    "from synbio_morpher.utils.misc.helper import vanilla_return\n",
    "from synbio_morpher.utils.misc.numerical import add_recursively\n",
    "from synbio_morpher.utils.misc.type_handling import append_nest_dicts\n",
    "from synbio_morpher.utils.results.analytics.naming import get_analytics_types_all, get_true_names_analytics, get_true_interaction_cols\n",
    "from synbio_morpher.utils.results.analytics.timeseries import generate_analytics\n",
    "from synbio_morpher.utils.common.setup import construct_circuit_from_cfg\n",
    "from synbio_morpher.utils.circuit.agnostic_circuits.circuit_manager import CircuitModeller\n",
    "\n",
    "root_dir = '..'"
   ]
  },
  {
   "cell_type": "markdown",
   "metadata": {},
   "source": [
    "# Find good starting circuits"
   ]
  },
  {
   "cell_type": "markdown",
   "metadata": {},
   "source": [
    "## Load data"
   ]
  },
  {
   "cell_type": "code",
   "execution_count": null,
   "metadata": {},
   "outputs": [],
   "source": [
    "og_dir = '../data/ensemble_mutation_effect_analysis/2023_07_15_192831/generate_species_templates'\n",
    "fn = '../data/ensemble_mutation_effect_analysis/2023_07_17_105328/summarise_simulation/tabulated_mutation_info.csv'\n",
    "data = pd.read_csv(fn)\n",
    "\n",
    "config = load_json_as_dict(os.path.join(fn.split('summarise')[0], 'mutation_effect_on_interactions_signal', 'experiment.json'))\n",
    "config = config['config_filepath']\n",
    "config['experiment']['purpose'] = 'tests'"
   ]
  },
  {
   "cell_type": "markdown",
   "metadata": {},
   "source": [
    "## Select starting candidate\n",
    "\n",
    "We want to start with a circuit that has high adaptability, so a circuit that has high signal sensitivity and precision. We'll use the non-signal species $RNA_1$ and $RNA_2$ as the outputs. \n",
    "\n",
    "One thing to look out for is that because precision is often then inverse of sensitivity, it will be much larger typically, so selecting the largest for both should give preference to sensitivity."
   ]
  },
  {
   "cell_type": "code",
   "execution_count": null,
   "metadata": {},
   "outputs": [],
   "source": [
    "data['precision_wrt_species-6']\n",
    "data['sensitivity_wrt_species-6']"
   ]
  },
  {
   "cell_type": "code",
   "execution_count": null,
   "metadata": {},
   "outputs": [],
   "source": [
    "filt = (data['precision_wrt_species-6'] < np.inf) & (data['sample_name'] == 'RNA_2')\n",
    "\n",
    "fig = plt.figure(figsize=(16, 6))\n",
    "fig.subplots_adjust(wspace=0.925)\n",
    "\n",
    "ax = plt.subplot(1,2,1)\n",
    "sns.scatterplot(x=data[filt]['precision_wrt_species-6'], y=data[filt]['precision_wrt_species-6_ratio_from_mutation_to_base'], \n",
    "                alpha=0.05,\n",
    "                hue=hue,\n",
    "                palette='bright')\n",
    "sns.scatterplot(x=data[filt]['precision_wrt_species-6'], y=data[filt]['precision_wrt_species-6_ratio_from_mutation_to_base'], \n",
    "                alpha=alpha,\n",
    "                hue=hue,\n",
    "                palette='bright')\n",
    "plt.xlabel('Precision mean')\n",
    "plt.ylabel('Precision ratio standard deviation')\n",
    "plt.xscale('log')\n",
    "plt.yscale('log')\n",
    "plt.title('Mean of precision vs. standard deviation in\\nprecision ratio from mutated to reference circuits')\n",
    "sns.move_legend(ax, \"upper left\", bbox_to_anchor=(1,1))\n",
    "\n",
    "filt = (data['precision_wrt_species-6'] < np.inf) & (data['sensitivity_wrt_species-6'] < np.inf) & (data['sample_name'] == 'RNA_2')\n",
    "alpha = list(map(lambda x: 1 if x != False else 0.0005, hue))\n",
    "\n",
    "ax = plt.subplot(1,2,2)\n",
    "sns.scatterplot(x=data[filt]['precision_wrt_species-6'], y=data[filt]['sensitivity_wrt_species-6'], \n",
    "                alpha=0.05,\n",
    "                hue=hue,\n",
    "                palette=\"bright\")\n",
    "sns.scatterplot(x=data[filt]['precision_wrt_species-6'], y=data[filt]['sensitivity_wrt_species-6'], \n",
    "                alpha=alpha,\n",
    "                hue=hue,\n",
    "                palette=\"bright\")\n",
    "plt.xscale('log')\n",
    "plt.yscale('log')\n",
    "plt.xlabel('Precision mean')\n",
    "plt.ylabel('Sensitivity mean')\n",
    "plt.title('Mean of precision vs. mean of sensitivity')\n",
    "sns.move_legend(ax, \"upper left\", bbox_to_anchor=(1,1))\n",
    "\n",
    "plt.suptitle('Precision mean for $RNA_2$')\n",
    "\n"
   ]
  },
  {
   "cell_type": "markdown",
   "metadata": {},
   "source": [
    "# Monte Carlo optimisation\n",
    "\n",
    "We want to push circuits into ranges of higher sensitivity"
   ]
  },
  {
   "cell_type": "markdown",
   "metadata": {},
   "source": [
    "## Optimisation function"
   ]
  },
  {
   "cell_type": "markdown",
   "metadata": {},
   "source": [
    "## Optimisation loop"
   ]
  },
  {
   "cell_type": "markdown",
   "metadata": {},
   "source": [
    "## Visualise circuit trajectory"
   ]
  },
  {
   "cell_type": "markdown",
   "metadata": {},
   "source": []
  }
 ],
 "metadata": {
  "kernelspec": {
   "display_name": "env_circuits",
   "language": "python",
   "name": "python3"
  },
  "language_info": {
   "name": "python",
   "version": "3.10.6"
  },
  "orig_nbformat": 4
 },
 "nbformat": 4,
 "nbformat_minor": 2
}
