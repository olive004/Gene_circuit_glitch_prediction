{
 "cells": [
  {
   "cell_type": "code",
   "execution_count": 117,
   "metadata": {},
   "outputs": [
    {
     "name": "stdout",
     "output_type": "stream",
     "text": [
      "The autoreload extension is already loaded. To reload it, use:\n",
      "  %reload_ext autoreload\n"
     ]
    }
   ],
   "source": [
    "%load_ext autoreload\n",
    "%autoreload 2"
   ]
  },
  {
   "cell_type": "markdown",
   "metadata": {},
   "source": [
    "# Peak in sensitivity persists in renewed data - can we get rid of it with alternative starting states?"
   ]
  },
  {
   "cell_type": "markdown",
   "metadata": {},
   "source": [
    "# Imports"
   ]
  },
  {
   "cell_type": "code",
   "execution_count": null,
   "metadata": {},
   "outputs": [],
   "source": [
    "import itertools\n",
    "import pandas as pd\n",
    "import seaborn as sns\n",
    "import matplotlib.pyplot as plt\n",
    "import numpy as np\n",
    "import jax\n",
    "import jax.numpy as jnp\n",
    "from synbio_morpher.utils.results.analytics.naming import get_true_interaction_cols\n",
    "from synbio_morpher.utils.misc.units import per_mol_to_per_molecule\n",
    "from synbio_morpher.utils.common.setup import prepare_config, construct_circuit_from_cfg\n",
    "from synbio_morpher.utils.data.data_format_tools.common import load_json_as_dict\n",
    "from synbio_morpher.utils.circuit.agnostic_circuits.circuit_manager import CircuitModeller\n",
    "from synbio_morpher.srv.io.manage.script_manager import script_preamble\n",
    "from synbio_morpher.utils.circuit.agnostic_circuits.circuit_manager import CircuitModeller\n",
    "from synbio_morpher.utils.misc.type_handling import flatten_listlike\n",
    "\n",
    "# jupyter nbconvert --to notebook --execute 25_sensitivity_peak_2.ipynb --output=25_sensitivity_peak_2_1.ipynb --ExecutePreprocessor.timeout=-1\n",
    "\n"
   ]
  },
  {
   "cell_type": "markdown",
   "metadata": {},
   "source": [
    "# Analysis of generated data\n",
    "\n",
    "1. What is the value of the sensitivity peak ($s_{peak}$)?\n",
    "2. Which circuits get an $s_{peak}$?\n",
    "3. What does the peak depend on? Could it be...\n",
    "    - Forward rate\n",
    "    - Initial state\n",
    "    - Value of signal input\n",
    "4. Is there a better way of simulating circuits where some components have no interaction? Can we assign a zero rate in both directions??"
   ]
  },
  {
   "cell_type": "markdown",
   "metadata": {},
   "source": [
    "## Load data"
   ]
  },
  {
   "cell_type": "code",
   "execution_count": 119,
   "metadata": {},
   "outputs": [
    {
     "data": {
      "text/html": [
       "<div>\n",
       "<style scoped>\n",
       "    .dataframe tbody tr th:only-of-type {\n",
       "        vertical-align: middle;\n",
       "    }\n",
       "\n",
       "    .dataframe tbody tr th {\n",
       "        vertical-align: top;\n",
       "    }\n",
       "\n",
       "    .dataframe thead th {\n",
       "        text-align: right;\n",
       "    }\n",
       "</style>\n",
       "<table border=\"1\" class=\"dataframe\">\n",
       "  <thead>\n",
       "    <tr style=\"text-align: right;\">\n",
       "      <th></th>\n",
       "      <th>circuit_name</th>\n",
       "      <th>mutation_name</th>\n",
       "      <th>mutation_num</th>\n",
       "      <th>mutation_type</th>\n",
       "      <th>mutation_positions</th>\n",
       "      <th>path_to_template_circuit</th>\n",
       "      <th>index</th>\n",
       "      <th>sample_num</th>\n",
       "      <th>name</th>\n",
       "      <th>interacting</th>\n",
       "      <th>...</th>\n",
       "      <th>initial_steady_states</th>\n",
       "      <th>max_amount</th>\n",
       "      <th>min_amount</th>\n",
       "      <th>overshoot</th>\n",
       "      <th>RMSE</th>\n",
       "      <th>steady_states</th>\n",
       "      <th>response_time_wrt_species-6</th>\n",
       "      <th>precision_wrt_species-6</th>\n",
       "      <th>sensitivity_wrt_species-6</th>\n",
       "      <th>sample_name</th>\n",
       "    </tr>\n",
       "  </thead>\n",
       "  <tbody>\n",
       "    <tr>\n",
       "      <th>0</th>\n",
       "      <td>toy_mRNA_circuit_0</td>\n",
       "      <td>ref_circuit</td>\n",
       "      <td>0</td>\n",
       "      <td>[]</td>\n",
       "      <td>[]</td>\n",
       "      <td>./data/ensemble_mutation_effect_analysis/2024_...</td>\n",
       "      <td>0.0</td>\n",
       "      <td>9.0</td>\n",
       "      <td>toy_mRNA_circuit_0</td>\n",
       "      <td>[]</td>\n",
       "      <td>...</td>\n",
       "      <td>199.73235</td>\n",
       "      <td>400.0</td>\n",
       "      <td>199.73235</td>\n",
       "      <td>0.802002</td>\n",
       "      <td>0.000000</td>\n",
       "      <td>399.19800</td>\n",
       "      <td>0.0</td>\n",
       "      <td>1.004021</td>\n",
       "      <td>1.000000</td>\n",
       "      <td>RNA_0</td>\n",
       "    </tr>\n",
       "    <tr>\n",
       "      <th>1</th>\n",
       "      <td>toy_mRNA_circuit_0</td>\n",
       "      <td>ref_circuit</td>\n",
       "      <td>0</td>\n",
       "      <td>[]</td>\n",
       "      <td>[]</td>\n",
       "      <td>./data/ensemble_mutation_effect_analysis/2024_...</td>\n",
       "      <td>0.0</td>\n",
       "      <td>9.0</td>\n",
       "      <td>toy_mRNA_circuit_0</td>\n",
       "      <td>[]</td>\n",
       "      <td>...</td>\n",
       "      <td>199.73235</td>\n",
       "      <td>200.0</td>\n",
       "      <td>199.66568</td>\n",
       "      <td>0.000000</td>\n",
       "      <td>0.000000</td>\n",
       "      <td>199.66568</td>\n",
       "      <td>0.0</td>\n",
       "      <td>3004.060800</td>\n",
       "      <td>0.000333</td>\n",
       "      <td>RNA_1</td>\n",
       "    </tr>\n",
       "    <tr>\n",
       "      <th>2</th>\n",
       "      <td>toy_mRNA_circuit_0</td>\n",
       "      <td>ref_circuit</td>\n",
       "      <td>0</td>\n",
       "      <td>[]</td>\n",
       "      <td>[]</td>\n",
       "      <td>./data/ensemble_mutation_effect_analysis/2024_...</td>\n",
       "      <td>0.0</td>\n",
       "      <td>9.0</td>\n",
       "      <td>toy_mRNA_circuit_0</td>\n",
       "      <td>[]</td>\n",
       "      <td>...</td>\n",
       "      <td>199.73235</td>\n",
       "      <td>200.0</td>\n",
       "      <td>199.66568</td>\n",
       "      <td>0.000000</td>\n",
       "      <td>0.000000</td>\n",
       "      <td>199.66568</td>\n",
       "      <td>0.0</td>\n",
       "      <td>3004.060800</td>\n",
       "      <td>0.000333</td>\n",
       "      <td>RNA_2</td>\n",
       "    </tr>\n",
       "    <tr>\n",
       "      <th>3</th>\n",
       "      <td>toy_mRNA_circuit_0</td>\n",
       "      <td>RNA_0_m1-0</td>\n",
       "      <td>1</td>\n",
       "      <td>[3]</td>\n",
       "      <td>[18]</td>\n",
       "      <td>./data/ensemble_mutation_effect_analysis/2024_...</td>\n",
       "      <td>0.0</td>\n",
       "      <td>9.0</td>\n",
       "      <td>toy_mRNA_circuit_0</td>\n",
       "      <td>[]</td>\n",
       "      <td>...</td>\n",
       "      <td>199.73235</td>\n",
       "      <td>400.0</td>\n",
       "      <td>199.73235</td>\n",
       "      <td>0.802002</td>\n",
       "      <td>0.000000</td>\n",
       "      <td>399.19800</td>\n",
       "      <td>0.0</td>\n",
       "      <td>1.004021</td>\n",
       "      <td>1.000000</td>\n",
       "      <td>RNA_0</td>\n",
       "    </tr>\n",
       "    <tr>\n",
       "      <th>4</th>\n",
       "      <td>toy_mRNA_circuit_0</td>\n",
       "      <td>RNA_0_m1-0</td>\n",
       "      <td>1</td>\n",
       "      <td>[3]</td>\n",
       "      <td>[18]</td>\n",
       "      <td>./data/ensemble_mutation_effect_analysis/2024_...</td>\n",
       "      <td>0.0</td>\n",
       "      <td>9.0</td>\n",
       "      <td>toy_mRNA_circuit_0</td>\n",
       "      <td>[]</td>\n",
       "      <td>...</td>\n",
       "      <td>199.73235</td>\n",
       "      <td>200.0</td>\n",
       "      <td>199.66568</td>\n",
       "      <td>0.000000</td>\n",
       "      <td>0.000000</td>\n",
       "      <td>199.66568</td>\n",
       "      <td>0.0</td>\n",
       "      <td>3004.060800</td>\n",
       "      <td>0.000333</td>\n",
       "      <td>RNA_1</td>\n",
       "    </tr>\n",
       "    <tr>\n",
       "      <th>...</th>\n",
       "      <td>...</td>\n",
       "      <td>...</td>\n",
       "      <td>...</td>\n",
       "      <td>...</td>\n",
       "      <td>...</td>\n",
       "      <td>...</td>\n",
       "      <td>...</td>\n",
       "      <td>...</td>\n",
       "      <td>...</td>\n",
       "      <td>...</td>\n",
       "      <td>...</td>\n",
       "      <td>...</td>\n",
       "      <td>...</td>\n",
       "      <td>...</td>\n",
       "      <td>...</td>\n",
       "      <td>...</td>\n",
       "      <td>...</td>\n",
       "      <td>...</td>\n",
       "      <td>...</td>\n",
       "      <td>...</td>\n",
       "      <td>...</td>\n",
       "    </tr>\n",
       "    <tr>\n",
       "      <th>6295</th>\n",
       "      <td>toy_mRNA_circuit_99</td>\n",
       "      <td>RNA_2_m1-0</td>\n",
       "      <td>1</td>\n",
       "      <td>[8]</td>\n",
       "      <td>[9]</td>\n",
       "      <td>./data/ensemble_mutation_effect_analysis/2024_...</td>\n",
       "      <td>4.0</td>\n",
       "      <td>9.0</td>\n",
       "      <td>toy_mRNA_circuit_99</td>\n",
       "      <td>[]</td>\n",
       "      <td>...</td>\n",
       "      <td>199.73235</td>\n",
       "      <td>200.0</td>\n",
       "      <td>199.66568</td>\n",
       "      <td>0.000000</td>\n",
       "      <td>0.000000</td>\n",
       "      <td>199.66568</td>\n",
       "      <td>0.0</td>\n",
       "      <td>3004.060800</td>\n",
       "      <td>0.000333</td>\n",
       "      <td>RNA_1</td>\n",
       "    </tr>\n",
       "    <tr>\n",
       "      <th>6296</th>\n",
       "      <td>toy_mRNA_circuit_99</td>\n",
       "      <td>RNA_2_m1-0</td>\n",
       "      <td>1</td>\n",
       "      <td>[8]</td>\n",
       "      <td>[9]</td>\n",
       "      <td>./data/ensemble_mutation_effect_analysis/2024_...</td>\n",
       "      <td>4.0</td>\n",
       "      <td>9.0</td>\n",
       "      <td>toy_mRNA_circuit_99</td>\n",
       "      <td>[]</td>\n",
       "      <td>...</td>\n",
       "      <td>199.73235</td>\n",
       "      <td>200.0</td>\n",
       "      <td>199.66568</td>\n",
       "      <td>0.000000</td>\n",
       "      <td>0.000000</td>\n",
       "      <td>199.66568</td>\n",
       "      <td>0.0</td>\n",
       "      <td>3004.060800</td>\n",
       "      <td>0.000333</td>\n",
       "      <td>RNA_2</td>\n",
       "    </tr>\n",
       "    <tr>\n",
       "      <th>6297</th>\n",
       "      <td>toy_mRNA_circuit_99</td>\n",
       "      <td>RNA_2_m1-1</td>\n",
       "      <td>1</td>\n",
       "      <td>[2]</td>\n",
       "      <td>[14]</td>\n",
       "      <td>./data/ensemble_mutation_effect_analysis/2024_...</td>\n",
       "      <td>5.0</td>\n",
       "      <td>9.0</td>\n",
       "      <td>toy_mRNA_circuit_99</td>\n",
       "      <td>[[1 2]]</td>\n",
       "      <td>...</td>\n",
       "      <td>199.74307</td>\n",
       "      <td>400.0</td>\n",
       "      <td>199.74307</td>\n",
       "      <td>0.780518</td>\n",
       "      <td>0.021447</td>\n",
       "      <td>399.21948</td>\n",
       "      <td>0.0</td>\n",
       "      <td>1.003913</td>\n",
       "      <td>1.000000</td>\n",
       "      <td>RNA_0</td>\n",
       "    </tr>\n",
       "    <tr>\n",
       "      <th>6298</th>\n",
       "      <td>toy_mRNA_circuit_99</td>\n",
       "      <td>RNA_2_m1-1</td>\n",
       "      <td>1</td>\n",
       "      <td>[2]</td>\n",
       "      <td>[14]</td>\n",
       "      <td>./data/ensemble_mutation_effect_analysis/2024_...</td>\n",
       "      <td>5.0</td>\n",
       "      <td>9.0</td>\n",
       "      <td>toy_mRNA_circuit_99</td>\n",
       "      <td>[[1 2]]</td>\n",
       "      <td>...</td>\n",
       "      <td>192.17154</td>\n",
       "      <td>200.0</td>\n",
       "      <td>192.11177</td>\n",
       "      <td>0.000000</td>\n",
       "      <td>7.546352</td>\n",
       "      <td>192.11177</td>\n",
       "      <td>0.0</td>\n",
       "      <td>3223.526400</td>\n",
       "      <td>0.000310</td>\n",
       "      <td>RNA_1</td>\n",
       "    </tr>\n",
       "    <tr>\n",
       "      <th>6299</th>\n",
       "      <td>toy_mRNA_circuit_99</td>\n",
       "      <td>RNA_2_m1-1</td>\n",
       "      <td>1</td>\n",
       "      <td>[2]</td>\n",
       "      <td>[14]</td>\n",
       "      <td>./data/ensemble_mutation_effect_analysis/2024_...</td>\n",
       "      <td>5.0</td>\n",
       "      <td>9.0</td>\n",
       "      <td>toy_mRNA_circuit_99</td>\n",
       "      <td>[[1 2]]</td>\n",
       "      <td>...</td>\n",
       "      <td>174.39082</td>\n",
       "      <td>200.0</td>\n",
       "      <td>174.34613</td>\n",
       "      <td>0.000000</td>\n",
       "      <td>25.294044</td>\n",
       "      <td>174.34613</td>\n",
       "      <td>0.0</td>\n",
       "      <td>3912.010300</td>\n",
       "      <td>0.000256</td>\n",
       "      <td>RNA_2</td>\n",
       "    </tr>\n",
       "  </tbody>\n",
       "</table>\n",
       "<p>6300 rows × 64 columns</p>\n",
       "</div>"
      ],
      "text/plain": [
       "             circuit_name mutation_name  mutation_num mutation_type  \\\n",
       "0      toy_mRNA_circuit_0   ref_circuit             0            []   \n",
       "1      toy_mRNA_circuit_0   ref_circuit             0            []   \n",
       "2      toy_mRNA_circuit_0   ref_circuit             0            []   \n",
       "3      toy_mRNA_circuit_0    RNA_0_m1-0             1           [3]   \n",
       "4      toy_mRNA_circuit_0    RNA_0_m1-0             1           [3]   \n",
       "...                   ...           ...           ...           ...   \n",
       "6295  toy_mRNA_circuit_99    RNA_2_m1-0             1           [8]   \n",
       "6296  toy_mRNA_circuit_99    RNA_2_m1-0             1           [8]   \n",
       "6297  toy_mRNA_circuit_99    RNA_2_m1-1             1           [2]   \n",
       "6298  toy_mRNA_circuit_99    RNA_2_m1-1             1           [2]   \n",
       "6299  toy_mRNA_circuit_99    RNA_2_m1-1             1           [2]   \n",
       "\n",
       "     mutation_positions                           path_to_template_circuit  \\\n",
       "0                    []  ./data/ensemble_mutation_effect_analysis/2024_...   \n",
       "1                    []  ./data/ensemble_mutation_effect_analysis/2024_...   \n",
       "2                    []  ./data/ensemble_mutation_effect_analysis/2024_...   \n",
       "3                  [18]  ./data/ensemble_mutation_effect_analysis/2024_...   \n",
       "4                  [18]  ./data/ensemble_mutation_effect_analysis/2024_...   \n",
       "...                 ...                                                ...   \n",
       "6295                [9]  ./data/ensemble_mutation_effect_analysis/2024_...   \n",
       "6296                [9]  ./data/ensemble_mutation_effect_analysis/2024_...   \n",
       "6297               [14]  ./data/ensemble_mutation_effect_analysis/2024_...   \n",
       "6298               [14]  ./data/ensemble_mutation_effect_analysis/2024_...   \n",
       "6299               [14]  ./data/ensemble_mutation_effect_analysis/2024_...   \n",
       "\n",
       "      index  sample_num                 name interacting  ...  \\\n",
       "0       0.0         9.0   toy_mRNA_circuit_0          []  ...   \n",
       "1       0.0         9.0   toy_mRNA_circuit_0          []  ...   \n",
       "2       0.0         9.0   toy_mRNA_circuit_0          []  ...   \n",
       "3       0.0         9.0   toy_mRNA_circuit_0          []  ...   \n",
       "4       0.0         9.0   toy_mRNA_circuit_0          []  ...   \n",
       "...     ...         ...                  ...         ...  ...   \n",
       "6295    4.0         9.0  toy_mRNA_circuit_99          []  ...   \n",
       "6296    4.0         9.0  toy_mRNA_circuit_99          []  ...   \n",
       "6297    5.0         9.0  toy_mRNA_circuit_99     [[1 2]]  ...   \n",
       "6298    5.0         9.0  toy_mRNA_circuit_99     [[1 2]]  ...   \n",
       "6299    5.0         9.0  toy_mRNA_circuit_99     [[1 2]]  ...   \n",
       "\n",
       "     initial_steady_states  max_amount  min_amount overshoot       RMSE  \\\n",
       "0                199.73235       400.0   199.73235  0.802002   0.000000   \n",
       "1                199.73235       200.0   199.66568  0.000000   0.000000   \n",
       "2                199.73235       200.0   199.66568  0.000000   0.000000   \n",
       "3                199.73235       400.0   199.73235  0.802002   0.000000   \n",
       "4                199.73235       200.0   199.66568  0.000000   0.000000   \n",
       "...                    ...         ...         ...       ...        ...   \n",
       "6295             199.73235       200.0   199.66568  0.000000   0.000000   \n",
       "6296             199.73235       200.0   199.66568  0.000000   0.000000   \n",
       "6297             199.74307       400.0   199.74307  0.780518   0.021447   \n",
       "6298             192.17154       200.0   192.11177  0.000000   7.546352   \n",
       "6299             174.39082       200.0   174.34613  0.000000  25.294044   \n",
       "\n",
       "     steady_states response_time_wrt_species-6 precision_wrt_species-6  \\\n",
       "0        399.19800                         0.0                1.004021   \n",
       "1        199.66568                         0.0             3004.060800   \n",
       "2        199.66568                         0.0             3004.060800   \n",
       "3        399.19800                         0.0                1.004021   \n",
       "4        199.66568                         0.0             3004.060800   \n",
       "...            ...                         ...                     ...   \n",
       "6295     199.66568                         0.0             3004.060800   \n",
       "6296     199.66568                         0.0             3004.060800   \n",
       "6297     399.21948                         0.0                1.003913   \n",
       "6298     192.11177                         0.0             3223.526400   \n",
       "6299     174.34613                         0.0             3912.010300   \n",
       "\n",
       "     sensitivity_wrt_species-6 sample_name  \n",
       "0                     1.000000       RNA_0  \n",
       "1                     0.000333       RNA_1  \n",
       "2                     0.000333       RNA_2  \n",
       "3                     1.000000       RNA_0  \n",
       "4                     0.000333       RNA_1  \n",
       "...                        ...         ...  \n",
       "6295                  0.000333       RNA_1  \n",
       "6296                  0.000333       RNA_2  \n",
       "6297                  1.000000       RNA_0  \n",
       "6298                  0.000310       RNA_1  \n",
       "6299                  0.000256       RNA_2  \n",
       "\n",
       "[6300 rows x 64 columns]"
      ]
     },
     "execution_count": 119,
     "metadata": {},
     "output_type": "execute_result"
    }
   ],
   "source": [
    "fn = '../data/ensemble_mutation_effect_analysis/2024_11_11_135219/summarise_simulation/tabulated_mutation_info.csv'\n",
    "data = pd.read_csv(fn)\n",
    "data"
   ]
  },
  {
   "cell_type": "markdown",
   "metadata": {},
   "source": [
    "## Value of sensitivity peak"
   ]
  },
  {
   "cell_type": "code",
   "execution_count": 120,
   "metadata": {},
   "outputs": [
    {
     "name": "stdout",
     "output_type": "stream",
     "text": [
      "The sensitivity peak is at 0.00033288274\n"
     ]
    },
    {
     "data": {
      "image/png": "[encoded data removed]",
      "text/plain": [
       "<Figure size 640x480 with 1 Axes>"
      ]
     },
     "metadata": {},
     "output_type": "display_data"
    }
   ],
   "source": [
    "sns.histplot(data, x='sensitivity_wrt_species-6', bins=100, element='step', log_scale=[True, False], kde=True)\n",
    "s_peak = data['sensitivity_wrt_species-6'].median()\n",
    "print(f'The sensitivity peak is at {s_peak}')"
   ]
  },
  {
   "cell_type": "markdown",
   "metadata": {},
   "source": [
    "## Circuits that have the $s_{peak}$\n",
    "\n",
    "Once again, the circuits at the sensitivity peak are the ones where none of the RNAs are interacting, aka 'null circuits'."
   ]
  },
  {
   "cell_type": "code",
   "execution_count": 121,
   "metadata": {},
   "outputs": [
    {
     "data": {
      "text/html": [
       "<div>\n",
       "<style scoped>\n",
       "    .dataframe tbody tr th:only-of-type {\n",
       "        vertical-align: middle;\n",
       "    }\n",
       "\n",
       "    .dataframe tbody tr th {\n",
       "        vertical-align: top;\n",
       "    }\n",
       "\n",
       "    .dataframe thead th {\n",
       "        text-align: right;\n",
       "    }\n",
       "</style>\n",
       "<table border=\"1\" class=\"dataframe\">\n",
       "  <thead>\n",
       "    <tr style=\"text-align: right;\">\n",
       "      <th></th>\n",
       "      <th>circuit_name</th>\n",
       "      <th>energies_0-0</th>\n",
       "      <th>energies_0-1</th>\n",
       "      <th>energies_0-2</th>\n",
       "      <th>energies_1-0</th>\n",
       "      <th>energies_1-1</th>\n",
       "      <th>energies_1-2</th>\n",
       "      <th>energies_2-0</th>\n",
       "      <th>energies_2-1</th>\n",
       "      <th>energies_2-2</th>\n",
       "    </tr>\n",
       "  </thead>\n",
       "  <tbody>\n",
       "    <tr>\n",
       "      <th>1</th>\n",
       "      <td>toy_mRNA_circuit_0</td>\n",
       "      <td>0.0</td>\n",
       "      <td>0.0</td>\n",
       "      <td>0.0</td>\n",
       "      <td>0.0</td>\n",
       "      <td>0.0</td>\n",
       "      <td>0.0</td>\n",
       "      <td>0.0</td>\n",
       "      <td>0.0</td>\n",
       "      <td>0.0</td>\n",
       "    </tr>\n",
       "    <tr>\n",
       "      <th>2</th>\n",
       "      <td>toy_mRNA_circuit_0</td>\n",
       "      <td>0.0</td>\n",
       "      <td>0.0</td>\n",
       "      <td>0.0</td>\n",
       "      <td>0.0</td>\n",
       "      <td>0.0</td>\n",
       "      <td>0.0</td>\n",
       "      <td>0.0</td>\n",
       "      <td>0.0</td>\n",
       "      <td>0.0</td>\n",
       "    </tr>\n",
       "    <tr>\n",
       "      <th>4</th>\n",
       "      <td>toy_mRNA_circuit_0</td>\n",
       "      <td>0.0</td>\n",
       "      <td>0.0</td>\n",
       "      <td>0.0</td>\n",
       "      <td>0.0</td>\n",
       "      <td>0.0</td>\n",
       "      <td>0.0</td>\n",
       "      <td>0.0</td>\n",
       "      <td>0.0</td>\n",
       "      <td>0.0</td>\n",
       "    </tr>\n",
       "    <tr>\n",
       "      <th>5</th>\n",
       "      <td>toy_mRNA_circuit_0</td>\n",
       "      <td>0.0</td>\n",
       "      <td>0.0</td>\n",
       "      <td>0.0</td>\n",
       "      <td>0.0</td>\n",
       "      <td>0.0</td>\n",
       "      <td>0.0</td>\n",
       "      <td>0.0</td>\n",
       "      <td>0.0</td>\n",
       "      <td>0.0</td>\n",
       "    </tr>\n",
       "    <tr>\n",
       "      <th>7</th>\n",
       "      <td>toy_mRNA_circuit_0</td>\n",
       "      <td>0.0</td>\n",
       "      <td>0.0</td>\n",
       "      <td>0.0</td>\n",
       "      <td>0.0</td>\n",
       "      <td>0.0</td>\n",
       "      <td>0.0</td>\n",
       "      <td>0.0</td>\n",
       "      <td>0.0</td>\n",
       "      <td>0.0</td>\n",
       "    </tr>\n",
       "  </tbody>\n",
       "</table>\n",
       "</div>"
      ],
      "text/plain": [
       "         circuit_name  energies_0-0  energies_0-1  energies_0-2  energies_1-0  \\\n",
       "1  toy_mRNA_circuit_0           0.0           0.0           0.0           0.0   \n",
       "2  toy_mRNA_circuit_0           0.0           0.0           0.0           0.0   \n",
       "4  toy_mRNA_circuit_0           0.0           0.0           0.0           0.0   \n",
       "5  toy_mRNA_circuit_0           0.0           0.0           0.0           0.0   \n",
       "7  toy_mRNA_circuit_0           0.0           0.0           0.0           0.0   \n",
       "\n",
       "   energies_1-1  energies_1-2  energies_2-0  energies_2-1  energies_2-2  \n",
       "1           0.0           0.0           0.0           0.0           0.0  \n",
       "2           0.0           0.0           0.0           0.0           0.0  \n",
       "4           0.0           0.0           0.0           0.0           0.0  \n",
       "5           0.0           0.0           0.0           0.0           0.0  \n",
       "7           0.0           0.0           0.0           0.0           0.0  "
      ]
     },
     "execution_count": 121,
     "metadata": {},
     "output_type": "execute_result"
    }
   ],
   "source": [
    "cols_e = get_true_interaction_cols(data, 'energies')\n",
    "data[data['sensitivity_wrt_species-6'] == s_peak][['circuit_name'] + cols_e].iloc[:5]"
   ]
  },
  {
   "cell_type": "code",
   "execution_count": 122,
   "metadata": {},
   "outputs": [
    {
     "data": {
      "text/html": [
       "<div>\n",
       "<style scoped>\n",
       "    .dataframe tbody tr th:only-of-type {\n",
       "        vertical-align: middle;\n",
       "    }\n",
       "\n",
       "    .dataframe tbody tr th {\n",
       "        vertical-align: top;\n",
       "    }\n",
       "\n",
       "    .dataframe thead th {\n",
       "        text-align: right;\n",
       "    }\n",
       "</style>\n",
       "<table border=\"1\" class=\"dataframe\">\n",
       "  <thead>\n",
       "    <tr style=\"text-align: right;\">\n",
       "      <th></th>\n",
       "      <th>circuit_name</th>\n",
       "      <th>binding_rates_dissociation_0-0</th>\n",
       "      <th>binding_rates_dissociation_0-1</th>\n",
       "      <th>binding_rates_dissociation_0-2</th>\n",
       "      <th>binding_rates_dissociation_1-0</th>\n",
       "      <th>binding_rates_dissociation_1-1</th>\n",
       "      <th>binding_rates_dissociation_1-2</th>\n",
       "      <th>binding_rates_dissociation_2-0</th>\n",
       "      <th>binding_rates_dissociation_2-1</th>\n",
       "      <th>binding_rates_dissociation_2-2</th>\n",
       "    </tr>\n",
       "  </thead>\n",
       "  <tbody>\n",
       "    <tr>\n",
       "      <th>1</th>\n",
       "      <td>toy_mRNA_circuit_0</td>\n",
       "      <td>899.9995</td>\n",
       "      <td>899.9995</td>\n",
       "      <td>899.9995</td>\n",
       "      <td>899.9995</td>\n",
       "      <td>899.9995</td>\n",
       "      <td>899.9995</td>\n",
       "      <td>899.9995</td>\n",
       "      <td>899.9995</td>\n",
       "      <td>899.9995</td>\n",
       "    </tr>\n",
       "    <tr>\n",
       "      <th>2</th>\n",
       "      <td>toy_mRNA_circuit_0</td>\n",
       "      <td>899.9995</td>\n",
       "      <td>899.9995</td>\n",
       "      <td>899.9995</td>\n",
       "      <td>899.9995</td>\n",
       "      <td>899.9995</td>\n",
       "      <td>899.9995</td>\n",
       "      <td>899.9995</td>\n",
       "      <td>899.9995</td>\n",
       "      <td>899.9995</td>\n",
       "    </tr>\n",
       "    <tr>\n",
       "      <th>4</th>\n",
       "      <td>toy_mRNA_circuit_0</td>\n",
       "      <td>899.9995</td>\n",
       "      <td>899.9995</td>\n",
       "      <td>899.9995</td>\n",
       "      <td>899.9995</td>\n",
       "      <td>899.9995</td>\n",
       "      <td>899.9995</td>\n",
       "      <td>899.9995</td>\n",
       "      <td>899.9995</td>\n",
       "      <td>899.9995</td>\n",
       "    </tr>\n",
       "    <tr>\n",
       "      <th>5</th>\n",
       "      <td>toy_mRNA_circuit_0</td>\n",
       "      <td>899.9995</td>\n",
       "      <td>899.9995</td>\n",
       "      <td>899.9995</td>\n",
       "      <td>899.9995</td>\n",
       "      <td>899.9995</td>\n",
       "      <td>899.9995</td>\n",
       "      <td>899.9995</td>\n",
       "      <td>899.9995</td>\n",
       "      <td>899.9995</td>\n",
       "    </tr>\n",
       "    <tr>\n",
       "      <th>7</th>\n",
       "      <td>toy_mRNA_circuit_0</td>\n",
       "      <td>899.9995</td>\n",
       "      <td>899.9995</td>\n",
       "      <td>899.9995</td>\n",
       "      <td>899.9995</td>\n",
       "      <td>899.9995</td>\n",
       "      <td>899.9995</td>\n",
       "      <td>899.9995</td>\n",
       "      <td>899.9995</td>\n",
       "      <td>899.9995</td>\n",
       "    </tr>\n",
       "  </tbody>\n",
       "</table>\n",
       "</div>"
      ],
      "text/plain": [
       "         circuit_name  binding_rates_dissociation_0-0  \\\n",
       "1  toy_mRNA_circuit_0                        899.9995   \n",
       "2  toy_mRNA_circuit_0                        899.9995   \n",
       "4  toy_mRNA_circuit_0                        899.9995   \n",
       "5  toy_mRNA_circuit_0                        899.9995   \n",
       "7  toy_mRNA_circuit_0                        899.9995   \n",
       "\n",
       "   binding_rates_dissociation_0-1  binding_rates_dissociation_0-2  \\\n",
       "1                        899.9995                        899.9995   \n",
       "2                        899.9995                        899.9995   \n",
       "4                        899.9995                        899.9995   \n",
       "5                        899.9995                        899.9995   \n",
       "7                        899.9995                        899.9995   \n",
       "\n",
       "   binding_rates_dissociation_1-0  binding_rates_dissociation_1-1  \\\n",
       "1                        899.9995                        899.9995   \n",
       "2                        899.9995                        899.9995   \n",
       "4                        899.9995                        899.9995   \n",
       "5                        899.9995                        899.9995   \n",
       "7                        899.9995                        899.9995   \n",
       "\n",
       "   binding_rates_dissociation_1-2  binding_rates_dissociation_2-0  \\\n",
       "1                        899.9995                        899.9995   \n",
       "2                        899.9995                        899.9995   \n",
       "4                        899.9995                        899.9995   \n",
       "5                        899.9995                        899.9995   \n",
       "7                        899.9995                        899.9995   \n",
       "\n",
       "   binding_rates_dissociation_2-1  binding_rates_dissociation_2-2  \n",
       "1                        899.9995                        899.9995  \n",
       "2                        899.9995                        899.9995  \n",
       "4                        899.9995                        899.9995  \n",
       "5                        899.9995                        899.9995  \n",
       "7                        899.9995                        899.9995  "
      ]
     },
     "execution_count": 122,
     "metadata": {},
     "output_type": "execute_result"
    }
   ],
   "source": [
    "cols_brd = get_true_interaction_cols(data, 'binding_rates_dissociation')\n",
    "data[data['sensitivity_wrt_species-6'] == s_peak][['circuit_name'] + cols_brd].iloc[:5]"
   ]
  },
  {
   "cell_type": "markdown",
   "metadata": {},
   "source": [
    "# What does the peak depend on?\n",
    "\n",
    "Let's construct a bunch of null circuits that have different starting states, forward rates, and signal targets.\n",
    "Forward rates are usually 1e6 per mol, so we can try different rates like 1e3 to 1e10. These have to be converted to per molecule."
   ]
  },
  {
   "cell_type": "code",
   "execution_count": 123,
   "metadata": {},
   "outputs": [
    {
     "name": "stdout",
     "output_type": "stream",
     "text": [
      "There are a total of 11340 simulations to run\n"
     ]
    }
   ],
   "source": [
    "config = load_json_as_dict('../synbio_morpher/utils/common/testing/configs/simple_circuit.json')\n",
    "\n",
    "k_a_og = 0.00150958097\n",
    "forward_rates = jax.tree_util.tree_map(per_mol_to_per_molecule, jnp.power(10, np.arange(3, 10, 0.5)))\n",
    "starting_states_all = np.arange(10, 310, 20)\n",
    "starting_states_all = np.concatenate([starting_states_all[:, None] * np.ones((len(starting_states_all), 3)), np.random.randint(10, 300, (len(starting_states_all), 3))])\n",
    "signal_targets = np.concatenate([np.arange(0.1, 2, 0.1), np.arange(2, 4, 0.5), np.arange(4, 8, 1)])\n",
    "\n",
    "# n_small = 3\n",
    "# starting_states_all = starting_states_all[:n_small]\n",
    "# forward_rates = forward_rates[:n_small]\n",
    "# signal_targets = signal_targets[:n_small]\n",
    "\n",
    "print(f'There are a total of {len(starting_states_all) * len(forward_rates) * len(signal_targets)} simulations to run')\n"
   ]
  },
  {
   "cell_type": "code",
   "execution_count": null,
   "metadata": {},
   "outputs": [],
   "source": [
    "config = prepare_config(config)\n",
    "config['include_prod_deg'] = False\n",
    "config['simulation']['batch_size'] = 1000\n",
    "config['simulation']['device'] = 'gpu'\n",
    "config['simulation']['dt0'] = 0.005\n",
    "config['simulation']['dt1'] = 0.005 / 2\n",
    "config['simulation']['t0'] = 0\n",
    "config['simulation']['t1'] = 10\n",
    "config['simulation']['tmax'] = 1500\n",
    "config['simulation']['use_initial_to_add_signal'] = False\n",
    "config['simulation']['use_rate_scaling'] = True\n",
    "config['signal']['function_kwargs']['target'] = 2\n"
   ]
  },
  {
   "cell_type": "code",
   "execution_count": 125,
   "metadata": {},
   "outputs": [],
   "source": [
    "def load_circuit(k_a, energies, eqconstants, starting_states, signal_target):\n",
    "    c = {'data_path': data[data['sensitivity_wrt_species-6'] == s_peak]['path_to_template_circuit'].iloc[0].replace('./', '../'),\n",
    "        #  'molecular_params': config['molecular_params'],\n",
    "         'signal': config['signal']}\n",
    "    c['signal']['function_kwargs']['target'] = signal_target\n",
    "    # c['molecular_params']['starting_copynumbers'] = np.mean(starting_states)\n",
    "    \n",
    "    circuit = construct_circuit_from_cfg(c, config)\n",
    "    circuit.interactions.energies = energies\n",
    "    circuit.interactions.eqconstants = eqconstants\n",
    "    circuit.interactions.binding_rates_association = k_a\n",
    "    circuit.interactions.binding_rates_dissociation = k_a / eqconstants\n",
    "    if type(starting_states) == np.ndarray:\n",
    "        for i, (s, r) in enumerate(zip(starting_states, circuit.qreactions.reactants)):\n",
    "            circuit.qreactions.reactants[i].quantity = s\n",
    "    return circuit\n",
    "\n",
    "\n",
    "energies = data[data['sensitivity_wrt_species-6']\n",
    "                == s_peak][cols_e].iloc[0].values\n",
    "eqconstants = data[data['sensitivity_wrt_species-6'] ==\n",
    "                   s_peak][get_true_interaction_cols(data, 'eqconstants')].iloc[0].values\n",
    "circuits = []\n",
    "data_circuits = pd.DataFrame(columns=['circuit_name', 'k_a', 'starting_state', 'signal_target', 'circuit'])\n",
    "for i, (k_a, starting_state, signal_target) in enumerate(itertools.product(forward_rates, starting_states_all, signal_targets)):\n",
    "    circuit = load_circuit(k_a, energies, eqconstants, starting_state, signal_target)\n",
    "    name = f'RNA_circuit_{i}'\n",
    "    circuit.name = name\n",
    "    data_circuits.loc[i] = [name, k_a, starting_state, signal_target, circuit]\n",
    "    circuits.append(circuit)"
   ]
  },
  {
   "cell_type": "code",
   "execution_count": 126,
   "metadata": {},
   "outputs": [
    {
     "data": {
      "text/html": [
       "<div>\n",
       "<style scoped>\n",
       "    .dataframe tbody tr th:only-of-type {\n",
       "        vertical-align: middle;\n",
       "    }\n",
       "\n",
       "    .dataframe tbody tr th {\n",
       "        vertical-align: top;\n",
       "    }\n",
       "\n",
       "    .dataframe thead th {\n",
       "        text-align: right;\n",
       "    }\n",
       "</style>\n",
       "<table border=\"1\" class=\"dataframe\">\n",
       "  <thead>\n",
       "    <tr style=\"text-align: right;\">\n",
       "      <th></th>\n",
       "      <th>circuit_name</th>\n",
       "      <th>k_a</th>\n",
       "      <th>starting_state</th>\n",
       "      <th>signal_target</th>\n",
       "      <th>circuit</th>\n",
       "    </tr>\n",
       "  </thead>\n",
       "  <tbody>\n",
       "    <tr>\n",
       "      <th>0</th>\n",
       "      <td>RNA_circuit_0</td>\n",
       "      <td>0.000002</td>\n",
       "      <td>[10.0, 10.0, 10.0]</td>\n",
       "      <td>0.1</td>\n",
       "      <td>&lt;synbio_morpher.utils.circuit.agnostic_circuit...</td>\n",
       "    </tr>\n",
       "    <tr>\n",
       "      <th>1</th>\n",
       "      <td>RNA_circuit_1</td>\n",
       "      <td>0.000002</td>\n",
       "      <td>[10.0, 10.0, 10.0]</td>\n",
       "      <td>0.2</td>\n",
       "      <td>&lt;synbio_morpher.utils.circuit.agnostic_circuit...</td>\n",
       "    </tr>\n",
       "    <tr>\n",
       "      <th>2</th>\n",
       "      <td>RNA_circuit_2</td>\n",
       "      <td>0.000002</td>\n",
       "      <td>[10.0, 10.0, 10.0]</td>\n",
       "      <td>0.3</td>\n",
       "      <td>&lt;synbio_morpher.utils.circuit.agnostic_circuit...</td>\n",
       "    </tr>\n",
       "    <tr>\n",
       "      <th>3</th>\n",
       "      <td>RNA_circuit_3</td>\n",
       "      <td>0.000002</td>\n",
       "      <td>[10.0, 10.0, 10.0]</td>\n",
       "      <td>0.4</td>\n",
       "      <td>&lt;synbio_morpher.utils.circuit.agnostic_circuit...</td>\n",
       "    </tr>\n",
       "    <tr>\n",
       "      <th>4</th>\n",
       "      <td>RNA_circuit_4</td>\n",
       "      <td>0.000002</td>\n",
       "      <td>[10.0, 10.0, 10.0]</td>\n",
       "      <td>0.5</td>\n",
       "      <td>&lt;synbio_morpher.utils.circuit.agnostic_circuit...</td>\n",
       "    </tr>\n",
       "    <tr>\n",
       "      <th>...</th>\n",
       "      <td>...</td>\n",
       "      <td>...</td>\n",
       "      <td>...</td>\n",
       "      <td>...</td>\n",
       "      <td>...</td>\n",
       "    </tr>\n",
       "    <tr>\n",
       "      <th>11335</th>\n",
       "      <td>RNA_circuit_11335</td>\n",
       "      <td>4.773714</td>\n",
       "      <td>[197.0, 98.0, 256.0]</td>\n",
       "      <td>3.5</td>\n",
       "      <td>&lt;synbio_morpher.utils.circuit.agnostic_circuit...</td>\n",
       "    </tr>\n",
       "    <tr>\n",
       "      <th>11336</th>\n",
       "      <td>RNA_circuit_11336</td>\n",
       "      <td>4.773714</td>\n",
       "      <td>[197.0, 98.0, 256.0]</td>\n",
       "      <td>4.0</td>\n",
       "      <td>&lt;synbio_morpher.utils.circuit.agnostic_circuit...</td>\n",
       "    </tr>\n",
       "    <tr>\n",
       "      <th>11337</th>\n",
       "      <td>RNA_circuit_11337</td>\n",
       "      <td>4.773714</td>\n",
       "      <td>[197.0, 98.0, 256.0]</td>\n",
       "      <td>5.0</td>\n",
       "      <td>&lt;synbio_morpher.utils.circuit.agnostic_circuit...</td>\n",
       "    </tr>\n",
       "    <tr>\n",
       "      <th>11338</th>\n",
       "      <td>RNA_circuit_11338</td>\n",
       "      <td>4.773714</td>\n",
       "      <td>[197.0, 98.0, 256.0]</td>\n",
       "      <td>6.0</td>\n",
       "      <td>&lt;synbio_morpher.utils.circuit.agnostic_circuit...</td>\n",
       "    </tr>\n",
       "    <tr>\n",
       "      <th>11339</th>\n",
       "      <td>RNA_circuit_11339</td>\n",
       "      <td>4.773714</td>\n",
       "      <td>[197.0, 98.0, 256.0]</td>\n",
       "      <td>7.0</td>\n",
       "      <td>&lt;synbio_morpher.utils.circuit.agnostic_circuit...</td>\n",
       "    </tr>\n",
       "  </tbody>\n",
       "</table>\n",
       "<p>11340 rows × 5 columns</p>\n",
       "</div>"
      ],
      "text/plain": [
       "            circuit_name       k_a        starting_state  signal_target  \\\n",
       "0          RNA_circuit_0  0.000002    [10.0, 10.0, 10.0]            0.1   \n",
       "1          RNA_circuit_1  0.000002    [10.0, 10.0, 10.0]            0.2   \n",
       "2          RNA_circuit_2  0.000002    [10.0, 10.0, 10.0]            0.3   \n",
       "3          RNA_circuit_3  0.000002    [10.0, 10.0, 10.0]            0.4   \n",
       "4          RNA_circuit_4  0.000002    [10.0, 10.0, 10.0]            0.5   \n",
       "...                  ...       ...                   ...            ...   \n",
       "11335  RNA_circuit_11335  4.773714  [197.0, 98.0, 256.0]            3.5   \n",
       "11336  RNA_circuit_11336  4.773714  [197.0, 98.0, 256.0]            4.0   \n",
       "11337  RNA_circuit_11337  4.773714  [197.0, 98.0, 256.0]            5.0   \n",
       "11338  RNA_circuit_11338  4.773714  [197.0, 98.0, 256.0]            6.0   \n",
       "11339  RNA_circuit_11339  4.773714  [197.0, 98.0, 256.0]            7.0   \n",
       "\n",
       "                                                 circuit  \n",
       "0      <synbio_morpher.utils.circuit.agnostic_circuit...  \n",
       "1      <synbio_morpher.utils.circuit.agnostic_circuit...  \n",
       "2      <synbio_morpher.utils.circuit.agnostic_circuit...  \n",
       "3      <synbio_morpher.utils.circuit.agnostic_circuit...  \n",
       "4      <synbio_morpher.utils.circuit.agnostic_circuit...  \n",
       "...                                                  ...  \n",
       "11335  <synbio_morpher.utils.circuit.agnostic_circuit...  \n",
       "11336  <synbio_morpher.utils.circuit.agnostic_circuit...  \n",
       "11337  <synbio_morpher.utils.circuit.agnostic_circuit...  \n",
       "11338  <synbio_morpher.utils.circuit.agnostic_circuit...  \n",
       "11339  <synbio_morpher.utils.circuit.agnostic_circuit...  \n",
       "\n",
       "[11340 rows x 5 columns]"
      ]
     },
     "execution_count": 126,
     "metadata": {},
     "output_type": "execute_result"
    }
   ],
   "source": [
    "data_circuits"
   ]
  },
  {
   "cell_type": "markdown",
   "metadata": {},
   "source": [
    "# Run simulation"
   ]
  },
  {
   "cell_type": "code",
   "execution_count": null,
   "metadata": {},
   "outputs": [],
   "source": [
    "run_sim = False"
   ]
  },
  {
   "cell_type": "code",
   "execution_count": null,
   "metadata": {},
   "outputs": [],
   "source": [
    "if run_sim:\n",
    "    config, result_writer = script_preamble(\n",
    "        config=config, data_writer=None)\n",
    "    circuit_modeller = CircuitModeller(result_writer=result_writer, config=config)"
   ]
  },
  {
   "cell_type": "code",
   "execution_count": null,
   "metadata": {},
   "outputs": [
    {
     "name": "stderr",
     "output_type": "stream",
     "text": [
      "circuit_manager.py:batch_circuits():599: \tFrom 1000 circuits, a total of 1000 mutated circuits will be simulated. WARNING\n",
      "circuit_manager.py:batch_circuits():606: \t\tStarting new round of viable circuits (0 - 999 / 1000) WARNING\n",
      "circuit_manager.py:batch_circuits():626: \t\tMaking subcircuits 0 - 999 took 0.002637s WARNING\n",
      "circuit_manager.py:batch_circuits():632: \tBatching 0 - 1000 circuits (out of 0 - 999 (total: 1000)) (Circuits: 0 - 999 of 1000) WARNING\n",
      "circuit_manager.py:run_batch():664: \t\tRunning 999 Subcircuits - RNA_circuit_0: compute_interactions WARNING\n"
     ]
    },
    {
     "name": "stdout",
     "output_type": "stream",
     "text": [
      "step 0\n"
     ]
    },
    {
     "name": "stderr",
     "output_type": "stream",
     "text": [
      "circuit_manager.py:run_batch():700: \t\tMethod compute_interactions took 0.545749s WARNING\n",
      "circuit_manager.py:run_batch():664: \t\tRunning 999 Subcircuits - RNA_circuit_0: init_circuits WARNING\n"
     ]
    },
    {
     "name": "stdout",
     "output_type": "stream",
     "text": [
      "Done:  0:00:04.383137\n"
     ]
    },
    {
     "name": "stderr",
     "output_type": "stream",
     "text": [
      "circuit_manager.py:run_batch():700: \t\tMethod init_circuits took 5.650632s WARNING\n",
      "circuit_manager.py:run_batch():664: \t\tRunning 999 Subcircuits - RNA_circuit_0: simulate_signal_batch WARNING\n",
      "circuit_manager.py:prepare_internal_funcs():514: Signal differs between circuits, but only first signal used for simulation. WARNING\n",
      "circuit_manager.py:simulate_signal_batch():355: \t\tSimulating signal took 1.988021s WARNING\n"
     ]
    },
    {
     "name": "stdout",
     "output_type": "stream",
     "text": [
      "Done:  0:00:01.936655\n"
     ]
    },
    {
     "name": "stderr",
     "output_type": "stream",
     "text": [
      "circuit_manager.py:simulate_signal_batch():413: \t\tCalculating analytics took 21.981969s WARNING\n",
      "circuit_manager.py:run_batch():700: \t\tMethod simulate_signal_batch took 35.339977s WARNING\n",
      "circuit_manager.py:run_batch():664: \t\tRunning 999 Subcircuits - RNA_circuit_0: write_results WARNING\n",
      "circuit_manager.py:run_batch():700: \t\tMethod write_results took 161.373827s WARNING\n",
      "circuit_manager.py:batch_circuits():646: Single batch: 0:03:22.917405 \n",
      "Projected time: 202.714487595s \n",
      "Total time: 0:03:22.917427 WARNING\n",
      "circuit_manager.py:batch_circuits():606: \t\tStarting new round of viable circuits (999 - 1000 / 1000) WARNING\n",
      "circuit_manager.py:batch_circuits():626: \t\tMaking subcircuits 999 - 1000 took 1.1e-05s WARNING\n",
      "circuit_manager.py:batch_circuits():632: \tBatching 0 - 1000 circuits (out of 999 - 1000 (total: 1000)) (Circuits: 999 - 1000 of 1000) WARNING\n",
      "circuit_manager.py:run_batch():664: \t\tRunning 1 Subcircuits - RNA_circuit_999: compute_interactions WARNING\n",
      "circuit_manager.py:run_batch():700: \t\tMethod compute_interactions took 0.013949s WARNING\n",
      "circuit_manager.py:run_batch():664: \t\tRunning 1 Subcircuits - RNA_circuit_999: init_circuits WARNING\n",
      "circuit_manager.py:run_batch():700: \t\tMethod init_circuits took 4.058556s WARNING\n",
      "circuit_manager.py:run_batch():664: \t\tRunning 1 Subcircuits - RNA_circuit_999: simulate_signal_batch WARNING\n"
     ]
    },
    {
     "name": "stdout",
     "output_type": "stream",
     "text": [
      "Done:  0:00:04.031645\n"
     ]
    },
    {
     "name": "stderr",
     "output_type": "stream",
     "text": [
      "circuit_manager.py:simulate_signal_batch():355: \t\tSimulating signal took 1.729014s WARNING\n"
     ]
    },
    {
     "name": "stdout",
     "output_type": "stream",
     "text": [
      "Done:  0:00:01.717247\n"
     ]
    },
    {
     "name": "stderr",
     "output_type": "stream",
     "text": [
      "circuit_manager.py:simulate_signal_batch():413: \t\tCalculating analytics took 0.405771s WARNING\n",
      "circuit_manager.py:run_batch():700: \t\tMethod simulate_signal_batch took 6.630419s WARNING\n",
      "circuit_manager.py:run_batch():664: \t\tRunning 1 Subcircuits - RNA_circuit_999: write_results WARNING\n",
      "circuit_manager.py:run_batch():700: \t\tMethod write_results took 0.153849s WARNING\n",
      "circuit_manager.py:batch_circuits():646: Single batch: 0:00:10.860797 \n",
      "Projected time: 0.010860797s \n",
      "Total time: 0:03:38.135924 WARNING\n",
      "circuit_manager.py:batch_circuits():599: \tFrom 1000 circuits, a total of 1000 mutated circuits will be simulated. WARNING\n",
      "circuit_manager.py:batch_circuits():606: \t\tStarting new round of viable circuits (0 - 999 / 1000) WARNING\n",
      "circuit_manager.py:batch_circuits():626: \t\tMaking subcircuits 0 - 999 took 0.001059s WARNING\n",
      "circuit_manager.py:batch_circuits():632: \tBatching 0 - 1000 circuits (out of 0 - 999 (total: 1000)) (Circuits: 0 - 999 of 1000) WARNING\n",
      "circuit_manager.py:run_batch():664: \t\tRunning 999 Subcircuits - RNA_circuit_1000: compute_interactions WARNING\n"
     ]
    },
    {
     "name": "stdout",
     "output_type": "stream",
     "text": [
      "step 1000\n"
     ]
    },
    {
     "name": "stderr",
     "output_type": "stream",
     "text": [
      "circuit_manager.py:run_batch():700: \t\tMethod compute_interactions took 84.708636s WARNING\n",
      "circuit_manager.py:run_batch():664: \t\tRunning 999 Subcircuits - RNA_circuit_1000: init_circuits WARNING\n"
     ]
    },
    {
     "name": "stdout",
     "output_type": "stream",
     "text": [
      "Done:  0:00:03.876620\n"
     ]
    },
    {
     "name": "stderr",
     "output_type": "stream",
     "text": [
      "circuit_manager.py:run_batch():700: \t\tMethod init_circuits took 5.196529s WARNING\n",
      "circuit_manager.py:run_batch():664: \t\tRunning 999 Subcircuits - RNA_circuit_1000: simulate_signal_batch WARNING\n",
      "circuit_manager.py:prepare_internal_funcs():514: Signal differs between circuits, but only first signal used for simulation. WARNING\n",
      "circuit_manager.py:simulate_signal_batch():355: \t\tSimulating signal took 1.750555s WARNING\n"
     ]
    },
    {
     "name": "stdout",
     "output_type": "stream",
     "text": [
      "Done:  0:00:01.733801\n"
     ]
    },
    {
     "name": "stderr",
     "output_type": "stream",
     "text": [
      "circuit_manager.py:simulate_signal_batch():413: \t\tCalculating analytics took 21.899525s WARNING\n",
      "circuit_manager.py:run_batch():700: \t\tMethod simulate_signal_batch took 28.329436s WARNING\n",
      "circuit_manager.py:run_batch():664: \t\tRunning 999 Subcircuits - RNA_circuit_1000: write_results WARNING\n",
      "circuit_manager.py:run_batch():700: \t\tMethod write_results took 161.80129s WARNING\n",
      "circuit_manager.py:batch_circuits():646: Single batch: 0:04:40.040713 \n",
      "Projected time: 279.760672287s \n",
      "Total time: 0:04:40.040724 WARNING\n",
      "circuit_manager.py:batch_circuits():606: \t\tStarting new round of viable circuits (999 - 1000 / 1000) WARNING\n",
      "circuit_manager.py:batch_circuits():626: \t\tMaking subcircuits 999 - 1000 took 1.2e-05s WARNING\n",
      "circuit_manager.py:batch_circuits():632: \tBatching 0 - 1000 circuits (out of 999 - 1000 (total: 1000)) (Circuits: 999 - 1000 of 1000) WARNING\n",
      "circuit_manager.py:run_batch():664: \t\tRunning 1 Subcircuits - RNA_circuit_1999: compute_interactions WARNING\n",
      "circuit_manager.py:run_batch():700: \t\tMethod compute_interactions took 0.155995s WARNING\n",
      "circuit_manager.py:run_batch():664: \t\tRunning 1 Subcircuits - RNA_circuit_1999: init_circuits WARNING\n",
      "circuit_manager.py:run_batch():700: \t\tMethod init_circuits took 3.754838s WARNING\n",
      "circuit_manager.py:run_batch():664: \t\tRunning 1 Subcircuits - RNA_circuit_1999: simulate_signal_batch WARNING\n"
     ]
    },
    {
     "name": "stdout",
     "output_type": "stream",
     "text": [
      "Done:  0:00:03.730942\n"
     ]
    },
    {
     "name": "stderr",
     "output_type": "stream",
     "text": [
      "circuit_manager.py:simulate_signal_batch():355: \t\tSimulating signal took 1.389267s WARNING\n"
     ]
    },
    {
     "name": "stdout",
     "output_type": "stream",
     "text": [
      "Done:  0:00:01.377092\n"
     ]
    },
    {
     "name": "stderr",
     "output_type": "stream",
     "text": [
      "circuit_manager.py:simulate_signal_batch():413: \t\tCalculating analytics took 0.406772s WARNING\n",
      "circuit_manager.py:run_batch():700: \t\tMethod simulate_signal_batch took 9.174683s WARNING\n",
      "circuit_manager.py:run_batch():664: \t\tRunning 1 Subcircuits - RNA_circuit_1999: write_results WARNING\n",
      "circuit_manager.py:run_batch():700: \t\tMethod write_results took 0.153902s WARNING\n",
      "circuit_manager.py:batch_circuits():646: Single batch: 0:00:13.244451 \n",
      "Projected time: 0.013244450999999999s \n",
      "Total time: 0:05:00.750889 WARNING\n",
      "circuit_manager.py:batch_circuits():599: \tFrom 1000 circuits, a total of 1000 mutated circuits will be simulated. WARNING\n",
      "circuit_manager.py:batch_circuits():606: \t\tStarting new round of viable circuits (0 - 999 / 1000) WARNING\n",
      "circuit_manager.py:batch_circuits():626: \t\tMaking subcircuits 0 - 999 took 0.001064s WARNING\n",
      "circuit_manager.py:batch_circuits():632: \tBatching 0 - 1000 circuits (out of 0 - 999 (total: 1000)) (Circuits: 0 - 999 of 1000) WARNING\n",
      "circuit_manager.py:run_batch():664: \t\tRunning 999 Subcircuits - RNA_circuit_2000: compute_interactions WARNING\n"
     ]
    },
    {
     "name": "stdout",
     "output_type": "stream",
     "text": [
      "step 2000\n"
     ]
    },
    {
     "name": "stderr",
     "output_type": "stream",
     "text": [
      "circuit_manager.py:run_batch():700: \t\tMethod compute_interactions took 120.748424s WARNING\n",
      "circuit_manager.py:run_batch():664: \t\tRunning 999 Subcircuits - RNA_circuit_2000: init_circuits WARNING\n"
     ]
    },
    {
     "name": "stdout",
     "output_type": "stream",
     "text": [
      "Done:  0:00:03.933795\n"
     ]
    },
    {
     "name": "stderr",
     "output_type": "stream",
     "text": [
      "circuit_manager.py:run_batch():700: \t\tMethod init_circuits took 5.216518s WARNING\n",
      "circuit_manager.py:run_batch():664: \t\tRunning 999 Subcircuits - RNA_circuit_2000: simulate_signal_batch WARNING\n",
      "circuit_manager.py:prepare_internal_funcs():514: Signal differs between circuits, but only first signal used for simulation. WARNING\n",
      "circuit_manager.py:simulate_signal_batch():355: \t\tSimulating signal took 1.703738s WARNING\n"
     ]
    },
    {
     "name": "stdout",
     "output_type": "stream",
     "text": [
      "Done:  0:00:01.681619\n"
     ]
    },
    {
     "name": "stderr",
     "output_type": "stream",
     "text": [
      "circuit_manager.py:simulate_signal_batch():413: \t\tCalculating analytics took 22.259557s WARNING\n",
      "circuit_manager.py:run_batch():700: \t\tMethod simulate_signal_batch took 31.472474s WARNING\n",
      "circuit_manager.py:run_batch():664: \t\tRunning 999 Subcircuits - RNA_circuit_2000: write_results WARNING\n",
      "circuit_manager.py:run_batch():700: \t\tMethod write_results took 166.928066s WARNING\n",
      "circuit_manager.py:batch_circuits():646: Single batch: 0:05:24.370479 \n",
      "Projected time: 324.046108521s \n",
      "Total time: 0:05:24.370493 WARNING\n",
      "circuit_manager.py:batch_circuits():606: \t\tStarting new round of viable circuits (999 - 1000 / 1000) WARNING\n",
      "circuit_manager.py:batch_circuits():626: \t\tMaking subcircuits 999 - 1000 took 1.2e-05s WARNING\n",
      "circuit_manager.py:batch_circuits():632: \tBatching 0 - 1000 circuits (out of 999 - 1000 (total: 1000)) (Circuits: 999 - 1000 of 1000) WARNING\n",
      "circuit_manager.py:run_batch():664: \t\tRunning 1 Subcircuits - RNA_circuit_2999: compute_interactions WARNING\n",
      "circuit_manager.py:run_batch():700: \t\tMethod compute_interactions took 0.160359s WARNING\n",
      "circuit_manager.py:run_batch():664: \t\tRunning 1 Subcircuits - RNA_circuit_2999: init_circuits WARNING\n",
      "circuit_manager.py:run_batch():700: \t\tMethod init_circuits took 3.819011s WARNING\n",
      "circuit_manager.py:run_batch():664: \t\tRunning 1 Subcircuits - RNA_circuit_2999: simulate_signal_batch WARNING\n"
     ]
    },
    {
     "name": "stdout",
     "output_type": "stream",
     "text": [
      "Done:  0:00:03.793261\n"
     ]
    },
    {
     "name": "stderr",
     "output_type": "stream",
     "text": [
      "circuit_manager.py:simulate_signal_batch():355: \t\tSimulating signal took 1.413312s WARNING\n"
     ]
    },
    {
     "name": "stdout",
     "output_type": "stream",
     "text": [
      "Done:  0:00:01.400463\n"
     ]
    },
    {
     "name": "stderr",
     "output_type": "stream",
     "text": [
      "circuit_manager.py:simulate_signal_batch():413: \t\tCalculating analytics took 0.419541s WARNING\n",
      "circuit_manager.py:run_batch():700: \t\tMethod simulate_signal_batch took 12.23746s WARNING\n",
      "circuit_manager.py:run_batch():664: \t\tRunning 1 Subcircuits - RNA_circuit_2999: write_results WARNING\n",
      "circuit_manager.py:run_batch():700: \t\tMethod write_results took 0.162024s WARNING\n",
      "circuit_manager.py:batch_circuits():646: Single batch: 0:00:16.383359 \n",
      "Projected time: 0.016383359s \n",
      "Total time: 0:05:51.224876 WARNING\n",
      "circuit_manager.py:batch_circuits():599: \tFrom 1000 circuits, a total of 1000 mutated circuits will be simulated. WARNING\n",
      "circuit_manager.py:batch_circuits():606: \t\tStarting new round of viable circuits (0 - 999 / 1000) WARNING\n",
      "circuit_manager.py:batch_circuits():626: \t\tMaking subcircuits 0 - 999 took 0.001092s WARNING\n",
      "circuit_manager.py:batch_circuits():632: \tBatching 0 - 1000 circuits (out of 0 - 999 (total: 1000)) (Circuits: 0 - 999 of 1000) WARNING\n",
      "circuit_manager.py:run_batch():664: \t\tRunning 999 Subcircuits - RNA_circuit_3000: compute_interactions WARNING\n"
     ]
    },
    {
     "name": "stdout",
     "output_type": "stream",
     "text": [
      "step 3000\n"
     ]
    },
    {
     "name": "stderr",
     "output_type": "stream",
     "text": [
      "circuit_manager.py:run_batch():700: \t\tMethod compute_interactions took 122.42357s WARNING\n",
      "circuit_manager.py:run_batch():664: \t\tRunning 999 Subcircuits - RNA_circuit_3000: init_circuits WARNING\n"
     ]
    },
    {
     "name": "stdout",
     "output_type": "stream",
     "text": [
      "Done:  0:00:03.883604\n"
     ]
    },
    {
     "name": "stderr",
     "output_type": "stream",
     "text": [
      "circuit_manager.py:run_batch():700: \t\tMethod init_circuits took 5.206893s WARNING\n",
      "circuit_manager.py:run_batch():664: \t\tRunning 999 Subcircuits - RNA_circuit_3000: simulate_signal_batch WARNING\n",
      "circuit_manager.py:prepare_internal_funcs():514: Signal differs between circuits, but only first signal used for simulation. WARNING\n",
      "circuit_manager.py:simulate_signal_batch():355: \t\tSimulating signal took 1.659228s WARNING\n"
     ]
    },
    {
     "name": "stdout",
     "output_type": "stream",
     "text": [
      "Done:  0:00:01.638353\n"
     ]
    },
    {
     "name": "stderr",
     "output_type": "stream",
     "text": [
      "circuit_manager.py:simulate_signal_batch():413: \t\tCalculating analytics took 21.915354s WARNING\n",
      "circuit_manager.py:run_batch():700: \t\tMethod simulate_signal_batch took 34.140061s WARNING\n",
      "circuit_manager.py:run_batch():664: \t\tRunning 999 Subcircuits - RNA_circuit_3000: write_results WARNING\n",
      "circuit_manager.py:run_batch():700: \t\tMethod write_results took 170.15646s WARNING\n",
      "circuit_manager.py:batch_circuits():646: Single batch: 0:05:31.932651 \n",
      "Projected time: 331.60071834900003s \n",
      "Total time: 0:05:31.932664 WARNING\n",
      "circuit_manager.py:batch_circuits():606: \t\tStarting new round of viable circuits (999 - 1000 / 1000) WARNING\n",
      "circuit_manager.py:batch_circuits():626: \t\tMaking subcircuits 999 - 1000 took 1e-05s WARNING\n",
      "circuit_manager.py:batch_circuits():632: \tBatching 0 - 1000 circuits (out of 999 - 1000 (total: 1000)) (Circuits: 999 - 1000 of 1000) WARNING\n",
      "circuit_manager.py:run_batch():664: \t\tRunning 1 Subcircuits - RNA_circuit_3999: compute_interactions WARNING\n",
      "circuit_manager.py:run_batch():700: \t\tMethod compute_interactions took 0.154892s WARNING\n",
      "circuit_manager.py:run_batch():664: \t\tRunning 1 Subcircuits - RNA_circuit_3999: init_circuits WARNING\n",
      "circuit_manager.py:run_batch():700: \t\tMethod init_circuits took 3.777958s WARNING\n",
      "circuit_manager.py:run_batch():664: \t\tRunning 1 Subcircuits - RNA_circuit_3999: simulate_signal_batch WARNING\n"
     ]
    },
    {
     "name": "stdout",
     "output_type": "stream",
     "text": [
      "Done:  0:00:03.755074\n"
     ]
    },
    {
     "name": "stderr",
     "output_type": "stream",
     "text": [
      "circuit_manager.py:simulate_signal_batch():355: \t\tSimulating signal took 1.624295s WARNING\n"
     ]
    },
    {
     "name": "stdout",
     "output_type": "stream",
     "text": [
      "Done:  0:00:01.612026\n"
     ]
    },
    {
     "name": "stderr",
     "output_type": "stream",
     "text": [
      "circuit_manager.py:simulate_signal_batch():413: \t\tCalculating analytics took 0.429431s WARNING\n",
      "circuit_manager.py:run_batch():700: \t\tMethod simulate_signal_batch took 15.616871s WARNING\n",
      "circuit_manager.py:run_batch():664: \t\tRunning 1 Subcircuits - RNA_circuit_3999: write_results WARNING\n",
      "circuit_manager.py:run_batch():700: \t\tMethod write_results took 0.161561s WARNING\n",
      "circuit_manager.py:batch_circuits():646: Single batch: 0:00:19.714840 \n",
      "Projected time: 0.019714839999999997s \n",
      "Total time: 0:06:05.244751 WARNING\n",
      "circuit_manager.py:batch_circuits():599: \tFrom 1000 circuits, a total of 1000 mutated circuits will be simulated. WARNING\n",
      "circuit_manager.py:batch_circuits():606: \t\tStarting new round of viable circuits (0 - 999 / 1000) WARNING\n",
      "circuit_manager.py:batch_circuits():626: \t\tMaking subcircuits 0 - 999 took 0.001082s WARNING\n",
      "circuit_manager.py:batch_circuits():632: \tBatching 0 - 1000 circuits (out of 0 - 999 (total: 1000)) (Circuits: 0 - 999 of 1000) WARNING\n",
      "circuit_manager.py:run_batch():664: \t\tRunning 999 Subcircuits - RNA_circuit_4000: compute_interactions WARNING\n"
     ]
    },
    {
     "name": "stdout",
     "output_type": "stream",
     "text": [
      "step 4000\n"
     ]
    },
    {
     "name": "stderr",
     "output_type": "stream",
     "text": [
      "circuit_manager.py:run_batch():700: \t\tMethod compute_interactions took 119.625873s WARNING\n",
      "circuit_manager.py:run_batch():664: \t\tRunning 999 Subcircuits - RNA_circuit_4000: init_circuits WARNING\n"
     ]
    },
    {
     "name": "stdout",
     "output_type": "stream",
     "text": [
      "Done:  0:00:03.896573\n"
     ]
    },
    {
     "name": "stderr",
     "output_type": "stream",
     "text": [
      "circuit_manager.py:run_batch():700: \t\tMethod init_circuits took 5.187639s WARNING\n",
      "circuit_manager.py:run_batch():664: \t\tRunning 999 Subcircuits - RNA_circuit_4000: simulate_signal_batch WARNING\n",
      "circuit_manager.py:prepare_internal_funcs():514: Signal differs between circuits, but only first signal used for simulation. WARNING\n",
      "circuit_manager.py:simulate_signal_batch():355: \t\tSimulating signal took 1.595278s WARNING\n"
     ]
    },
    {
     "name": "stdout",
     "output_type": "stream",
     "text": [
      "Done:  0:00:01.575243\n"
     ]
    },
    {
     "name": "stderr",
     "output_type": "stream",
     "text": [
      "circuit_manager.py:simulate_signal_batch():413: \t\tCalculating analytics took 21.83655s WARNING\n",
      "circuit_manager.py:run_batch():700: \t\tMethod simulate_signal_batch took 36.807721s WARNING\n",
      "circuit_manager.py:run_batch():664: \t\tRunning 999 Subcircuits - RNA_circuit_4000: write_results WARNING\n",
      "circuit_manager.py:run_batch():700: \t\tMethod write_results took 157.441922s WARNING\n",
      "circuit_manager.py:batch_circuits():646: Single batch: 0:05:19.068179 \n",
      "Projected time: 318.749110821s \n",
      "Total time: 0:05:19.068191 WARNING\n",
      "circuit_manager.py:batch_circuits():606: \t\tStarting new round of viable circuits (999 - 1000 / 1000) WARNING\n",
      "circuit_manager.py:batch_circuits():626: \t\tMaking subcircuits 999 - 1000 took 1.2e-05s WARNING\n",
      "circuit_manager.py:batch_circuits():632: \tBatching 0 - 1000 circuits (out of 999 - 1000 (total: 1000)) (Circuits: 999 - 1000 of 1000) WARNING\n",
      "circuit_manager.py:run_batch():664: \t\tRunning 1 Subcircuits - RNA_circuit_4999: compute_interactions WARNING\n",
      "circuit_manager.py:run_batch():700: \t\tMethod compute_interactions took 0.166695s WARNING\n",
      "circuit_manager.py:run_batch():664: \t\tRunning 1 Subcircuits - RNA_circuit_4999: init_circuits WARNING\n",
      "circuit_manager.py:run_batch():700: \t\tMethod init_circuits took 3.79617s WARNING\n",
      "circuit_manager.py:run_batch():664: \t\tRunning 1 Subcircuits - RNA_circuit_4999: simulate_signal_batch WARNING\n"
     ]
    },
    {
     "name": "stdout",
     "output_type": "stream",
     "text": [
      "Done:  0:00:03.771987\n"
     ]
    },
    {
     "name": "stderr",
     "output_type": "stream",
     "text": [
      "circuit_manager.py:simulate_signal_batch():355: \t\tSimulating signal took 1.461564s WARNING\n"
     ]
    },
    {
     "name": "stdout",
     "output_type": "stream",
     "text": [
      "Done:  0:00:01.449224\n"
     ]
    },
    {
     "name": "stderr",
     "output_type": "stream",
     "text": [
      "circuit_manager.py:simulate_signal_batch():413: \t\tCalculating analytics took 0.414184s WARNING\n",
      "circuit_manager.py:run_batch():700: \t\tMethod simulate_signal_batch took 18.548737s WARNING\n",
      "circuit_manager.py:run_batch():664: \t\tRunning 1 Subcircuits - RNA_circuit_4999: write_results WARNING\n",
      "circuit_manager.py:run_batch():700: \t\tMethod write_results took 0.164691s WARNING\n",
      "circuit_manager.py:batch_circuits():646: Single batch: 0:00:22.682824 \n",
      "Projected time: 0.022682824s \n",
      "Total time: 0:05:58.184283 WARNING\n",
      "circuit_manager.py:batch_circuits():599: \tFrom 1000 circuits, a total of 1000 mutated circuits will be simulated. WARNING\n",
      "circuit_manager.py:batch_circuits():606: \t\tStarting new round of viable circuits (0 - 999 / 1000) WARNING\n",
      "circuit_manager.py:batch_circuits():626: \t\tMaking subcircuits 0 - 999 took 0.001107s WARNING\n",
      "circuit_manager.py:batch_circuits():632: \tBatching 0 - 1000 circuits (out of 0 - 999 (total: 1000)) (Circuits: 0 - 999 of 1000) WARNING\n",
      "circuit_manager.py:run_batch():664: \t\tRunning 999 Subcircuits - RNA_circuit_5000: compute_interactions WARNING\n"
     ]
    },
    {
     "name": "stdout",
     "output_type": "stream",
     "text": [
      "step 5000\n"
     ]
    },
    {
     "name": "stderr",
     "output_type": "stream",
     "text": [
      "circuit_manager.py:run_batch():700: \t\tMethod compute_interactions took 120.016112s WARNING\n",
      "circuit_manager.py:run_batch():664: \t\tRunning 999 Subcircuits - RNA_circuit_5000: init_circuits WARNING\n"
     ]
    },
    {
     "name": "stdout",
     "output_type": "stream",
     "text": [
      "Done:  0:00:03.877282\n"
     ]
    },
    {
     "name": "stderr",
     "output_type": "stream",
     "text": [
      "circuit_manager.py:run_batch():700: \t\tMethod init_circuits took 5.178037s WARNING\n",
      "circuit_manager.py:run_batch():664: \t\tRunning 999 Subcircuits - RNA_circuit_5000: simulate_signal_batch WARNING\n",
      "circuit_manager.py:prepare_internal_funcs():514: Signal differs between circuits, but only first signal used for simulation. WARNING\n",
      "circuit_manager.py:simulate_signal_batch():355: \t\tSimulating signal took 1.871666s WARNING\n"
     ]
    },
    {
     "name": "stdout",
     "output_type": "stream",
     "text": [
      "Done:  0:00:01.766459\n"
     ]
    },
    {
     "name": "stderr",
     "output_type": "stream",
     "text": [
      "circuit_manager.py:simulate_signal_batch():413: \t\tCalculating analytics took 22.151647s WARNING\n",
      "circuit_manager.py:run_batch():700: \t\tMethod simulate_signal_batch took 40.752871s WARNING\n",
      "circuit_manager.py:run_batch():664: \t\tRunning 999 Subcircuits - RNA_circuit_5000: write_results WARNING\n",
      "circuit_manager.py:run_batch():700: \t\tMethod write_results took 157.327204s WARNING\n",
      "circuit_manager.py:batch_circuits():646: Single batch: 0:05:23.279909 \n",
      "Projected time: 322.95662909099997s \n",
      "Total time: 0:05:23.279920 WARNING\n",
      "circuit_manager.py:batch_circuits():606: \t\tStarting new round of viable circuits (999 - 1000 / 1000) WARNING\n",
      "circuit_manager.py:batch_circuits():626: \t\tMaking subcircuits 999 - 1000 took 1.1e-05s WARNING\n",
      "circuit_manager.py:batch_circuits():632: \tBatching 0 - 1000 circuits (out of 999 - 1000 (total: 1000)) (Circuits: 999 - 1000 of 1000) WARNING\n",
      "circuit_manager.py:run_batch():664: \t\tRunning 1 Subcircuits - RNA_circuit_5999: compute_interactions WARNING\n",
      "circuit_manager.py:run_batch():700: \t\tMethod compute_interactions took 0.158958s WARNING\n",
      "circuit_manager.py:run_batch():664: \t\tRunning 1 Subcircuits - RNA_circuit_5999: init_circuits WARNING\n",
      "circuit_manager.py:run_batch():700: \t\tMethod init_circuits took 3.7578s WARNING\n",
      "circuit_manager.py:run_batch():664: \t\tRunning 1 Subcircuits - RNA_circuit_5999: simulate_signal_batch WARNING\n"
     ]
    },
    {
     "name": "stdout",
     "output_type": "stream",
     "text": [
      "Done:  0:00:03.734753\n"
     ]
    },
    {
     "name": "stderr",
     "output_type": "stream",
     "text": [
      "circuit_manager.py:simulate_signal_batch():355: \t\tSimulating signal took 1.023533s WARNING\n"
     ]
    },
    {
     "name": "stdout",
     "output_type": "stream",
     "text": [
      "Done:  0:00:01.011503\n"
     ]
    },
    {
     "name": "stderr",
     "output_type": "stream",
     "text": [
      "circuit_manager.py:simulate_signal_batch():413: \t\tCalculating analytics took 0.406948s WARNING\n",
      "circuit_manager.py:run_batch():700: \t\tMethod simulate_signal_batch took 21.223539s WARNING\n",
      "circuit_manager.py:run_batch():664: \t\tRunning 1 Subcircuits - RNA_circuit_5999: write_results WARNING\n",
      "circuit_manager.py:run_batch():700: \t\tMethod write_results took 0.173978s WARNING\n",
      "circuit_manager.py:batch_circuits():646: Single batch: 0:00:25.318630 \n",
      "Projected time: 0.025318629999999998s \n",
      "Total time: 0:06:08.312354 WARNING\n",
      "circuit_manager.py:batch_circuits():599: \tFrom 1000 circuits, a total of 1000 mutated circuits will be simulated. WARNING\n",
      "circuit_manager.py:batch_circuits():606: \t\tStarting new round of viable circuits (0 - 999 / 1000) WARNING\n",
      "circuit_manager.py:batch_circuits():626: \t\tMaking subcircuits 0 - 999 took 0.00113s WARNING\n",
      "circuit_manager.py:batch_circuits():632: \tBatching 0 - 1000 circuits (out of 0 - 999 (total: 1000)) (Circuits: 0 - 999 of 1000) WARNING\n",
      "circuit_manager.py:run_batch():664: \t\tRunning 999 Subcircuits - RNA_circuit_6000: compute_interactions WARNING\n"
     ]
    },
    {
     "name": "stdout",
     "output_type": "stream",
     "text": [
      "step 6000\n"
     ]
    },
    {
     "name": "stderr",
     "output_type": "stream",
     "text": [
      "circuit_manager.py:run_batch():700: \t\tMethod compute_interactions took 118.63874s WARNING\n",
      "circuit_manager.py:run_batch():664: \t\tRunning 999 Subcircuits - RNA_circuit_6000: init_circuits WARNING\n"
     ]
    },
    {
     "name": "stdout",
     "output_type": "stream",
     "text": [
      "Done:  0:00:03.870684\n"
     ]
    },
    {
     "name": "stderr",
     "output_type": "stream",
     "text": [
      "circuit_manager.py:run_batch():700: \t\tMethod init_circuits took 5.177547s WARNING\n",
      "circuit_manager.py:run_batch():664: \t\tRunning 999 Subcircuits - RNA_circuit_6000: simulate_signal_batch WARNING\n",
      "circuit_manager.py:prepare_internal_funcs():514: Signal differs between circuits, but only first signal used for simulation. WARNING\n",
      "circuit_manager.py:simulate_signal_batch():355: \t\tSimulating signal took 1.946723s WARNING\n"
     ]
    },
    {
     "name": "stdout",
     "output_type": "stream",
     "text": [
      "Done:  0:00:01.919669\n"
     ]
    },
    {
     "name": "stderr",
     "output_type": "stream",
     "text": [
      "circuit_manager.py:simulate_signal_batch():413: \t\tCalculating analytics took 21.975001s WARNING\n",
      "circuit_manager.py:run_batch():700: \t\tMethod simulate_signal_batch took 43.53571s WARNING\n",
      "circuit_manager.py:run_batch():664: \t\tRunning 999 Subcircuits - RNA_circuit_6000: write_results WARNING\n",
      "circuit_manager.py:run_batch():700: \t\tMethod write_results took 157.077294s WARNING\n",
      "circuit_manager.py:batch_circuits():646: Single batch: 0:05:24.435990 \n",
      "Projected time: 324.11155401s \n",
      "Total time: 0:05:24.436004 WARNING\n",
      "circuit_manager.py:batch_circuits():606: \t\tStarting new round of viable circuits (999 - 1000 / 1000) WARNING\n",
      "circuit_manager.py:batch_circuits():626: \t\tMaking subcircuits 999 - 1000 took 1.2e-05s WARNING\n",
      "circuit_manager.py:batch_circuits():632: \tBatching 0 - 1000 circuits (out of 999 - 1000 (total: 1000)) (Circuits: 999 - 1000 of 1000) WARNING\n",
      "circuit_manager.py:run_batch():664: \t\tRunning 1 Subcircuits - RNA_circuit_6999: compute_interactions WARNING\n",
      "circuit_manager.py:run_batch():700: \t\tMethod compute_interactions took 0.165603s WARNING\n",
      "circuit_manager.py:run_batch():664: \t\tRunning 1 Subcircuits - RNA_circuit_6999: init_circuits WARNING\n",
      "circuit_manager.py:run_batch():700: \t\tMethod init_circuits took 3.783162s WARNING\n",
      "circuit_manager.py:run_batch():664: \t\tRunning 1 Subcircuits - RNA_circuit_6999: simulate_signal_batch WARNING\n"
     ]
    },
    {
     "name": "stdout",
     "output_type": "stream",
     "text": [
      "Done:  0:00:03.760329\n"
     ]
    },
    {
     "name": "stderr",
     "output_type": "stream",
     "text": [
      "circuit_manager.py:simulate_signal_batch():355: \t\tSimulating signal took 1.041055s WARNING\n"
     ]
    },
    {
     "name": "stdout",
     "output_type": "stream",
     "text": [
      "Done:  0:00:01.029076\n"
     ]
    },
    {
     "name": "stderr",
     "output_type": "stream",
     "text": [
      "circuit_manager.py:simulate_signal_batch():413: \t\tCalculating analytics took 0.408235s WARNING\n",
      "circuit_manager.py:run_batch():700: \t\tMethod simulate_signal_batch took 24.284364s WARNING\n",
      "circuit_manager.py:run_batch():664: \t\tRunning 1 Subcircuits - RNA_circuit_6999: write_results WARNING\n",
      "circuit_manager.py:run_batch():700: \t\tMethod write_results took 0.169275s WARNING\n",
      "circuit_manager.py:batch_circuits():646: Single batch: 0:00:28.407285 \n",
      "Projected time: 0.028407285s \n",
      "Total time: 0:06:15.730115 WARNING\n",
      "circuit_manager.py:batch_circuits():599: \tFrom 1000 circuits, a total of 1000 mutated circuits will be simulated. WARNING\n",
      "circuit_manager.py:batch_circuits():606: \t\tStarting new round of viable circuits (0 - 999 / 1000) WARNING\n",
      "circuit_manager.py:batch_circuits():626: \t\tMaking subcircuits 0 - 999 took 0.001168s WARNING\n",
      "circuit_manager.py:batch_circuits():632: \tBatching 0 - 1000 circuits (out of 0 - 999 (total: 1000)) (Circuits: 0 - 999 of 1000) WARNING\n",
      "circuit_manager.py:run_batch():664: \t\tRunning 999 Subcircuits - RNA_circuit_7000: compute_interactions WARNING\n"
     ]
    },
    {
     "name": "stdout",
     "output_type": "stream",
     "text": [
      "step 7000\n"
     ]
    },
    {
     "name": "stderr",
     "output_type": "stream",
     "text": [
      "circuit_manager.py:run_batch():700: \t\tMethod compute_interactions took 118.197072s WARNING\n",
      "circuit_manager.py:run_batch():664: \t\tRunning 999 Subcircuits - RNA_circuit_7000: init_circuits WARNING\n"
     ]
    },
    {
     "name": "stdout",
     "output_type": "stream",
     "text": [
      "Done:  0:00:03.893349\n"
     ]
    },
    {
     "name": "stderr",
     "output_type": "stream",
     "text": [
      "circuit_manager.py:run_batch():700: \t\tMethod init_circuits took 5.156199s WARNING\n",
      "circuit_manager.py:run_batch():664: \t\tRunning 999 Subcircuits - RNA_circuit_7000: simulate_signal_batch WARNING\n",
      "circuit_manager.py:prepare_internal_funcs():514: Signal differs between circuits, but only first signal used for simulation. WARNING\n",
      "circuit_manager.py:simulate_signal_batch():355: \t\tSimulating signal took 1.965336s WARNING\n"
     ]
    },
    {
     "name": "stdout",
     "output_type": "stream",
     "text": [
      "Done:  0:00:01.944808\n"
     ]
    },
    {
     "name": "stderr",
     "output_type": "stream",
     "text": [
      "circuit_manager.py:simulate_signal_batch():413: \t\tCalculating analytics took 21.833711s WARNING\n",
      "circuit_manager.py:run_batch():700: \t\tMethod simulate_signal_batch took 46.232588s WARNING\n",
      "circuit_manager.py:run_batch():664: \t\tRunning 999 Subcircuits - RNA_circuit_7000: write_results WARNING\n",
      "circuit_manager.py:run_batch():700: \t\tMethod write_results took 151.824623s WARNING\n",
      "circuit_manager.py:batch_circuits():646: Single batch: 0:05:21.415632 \n",
      "Projected time: 321.09421636800005s \n",
      "Total time: 0:05:21.415647 WARNING\n",
      "circuit_manager.py:batch_circuits():606: \t\tStarting new round of viable circuits (999 - 1000 / 1000) WARNING\n",
      "circuit_manager.py:batch_circuits():626: \t\tMaking subcircuits 999 - 1000 took 1.3e-05s WARNING\n",
      "circuit_manager.py:batch_circuits():632: \tBatching 0 - 1000 circuits (out of 999 - 1000 (total: 1000)) (Circuits: 999 - 1000 of 1000) WARNING\n",
      "circuit_manager.py:run_batch():664: \t\tRunning 1 Subcircuits - RNA_circuit_7999: compute_interactions WARNING\n",
      "circuit_manager.py:run_batch():700: \t\tMethod compute_interactions took 0.17193s WARNING\n",
      "circuit_manager.py:run_batch():664: \t\tRunning 1 Subcircuits - RNA_circuit_7999: init_circuits WARNING\n",
      "circuit_manager.py:run_batch():700: \t\tMethod init_circuits took 3.749511s WARNING\n",
      "circuit_manager.py:run_batch():664: \t\tRunning 1 Subcircuits - RNA_circuit_7999: simulate_signal_batch WARNING\n"
     ]
    },
    {
     "name": "stdout",
     "output_type": "stream",
     "text": [
      "Done:  0:00:03.726681\n"
     ]
    },
    {
     "name": "stderr",
     "output_type": "stream",
     "text": [
      "circuit_manager.py:simulate_signal_batch():355: \t\tSimulating signal took 1.551991s WARNING\n"
     ]
    },
    {
     "name": "stdout",
     "output_type": "stream",
     "text": [
      "Done:  0:00:01.539905\n"
     ]
    },
    {
     "name": "stderr",
     "output_type": "stream",
     "text": [
      "circuit_manager.py:simulate_signal_batch():413: \t\tCalculating analytics took 0.406379s WARNING\n",
      "circuit_manager.py:run_batch():700: \t\tMethod simulate_signal_batch took 27.544048s WARNING\n",
      "circuit_manager.py:run_batch():664: \t\tRunning 1 Subcircuits - RNA_circuit_7999: write_results WARNING\n",
      "circuit_manager.py:run_batch():700: \t\tMethod write_results took 0.176327s WARNING\n",
      "circuit_manager.py:batch_circuits():646: Single batch: 0:00:31.645997 \n",
      "Projected time: 0.031645997s \n",
      "Total time: 0:06:18.211017 WARNING\n",
      "circuit_manager.py:batch_circuits():599: \tFrom 1000 circuits, a total of 1000 mutated circuits will be simulated. WARNING\n",
      "circuit_manager.py:batch_circuits():606: \t\tStarting new round of viable circuits (0 - 999 / 1000) WARNING\n",
      "circuit_manager.py:batch_circuits():626: \t\tMaking subcircuits 0 - 999 took 0.001026s WARNING\n",
      "circuit_manager.py:batch_circuits():632: \tBatching 0 - 1000 circuits (out of 0 - 999 (total: 1000)) (Circuits: 0 - 999 of 1000) WARNING\n",
      "circuit_manager.py:run_batch():664: \t\tRunning 999 Subcircuits - RNA_circuit_8000: compute_interactions WARNING\n"
     ]
    },
    {
     "name": "stdout",
     "output_type": "stream",
     "text": [
      "step 8000\n"
     ]
    },
    {
     "name": "stderr",
     "output_type": "stream",
     "text": [
      "circuit_manager.py:run_batch():700: \t\tMethod compute_interactions took 118.102251s WARNING\n",
      "circuit_manager.py:run_batch():664: \t\tRunning 999 Subcircuits - RNA_circuit_8000: init_circuits WARNING\n"
     ]
    },
    {
     "name": "stdout",
     "output_type": "stream",
     "text": [
      "Done:  0:00:03.876788\n"
     ]
    },
    {
     "name": "stderr",
     "output_type": "stream",
     "text": [
      "circuit_manager.py:run_batch():700: \t\tMethod init_circuits took 5.183243s WARNING\n",
      "circuit_manager.py:run_batch():664: \t\tRunning 999 Subcircuits - RNA_circuit_8000: simulate_signal_batch WARNING\n",
      "circuit_manager.py:prepare_internal_funcs():514: Signal differs between circuits, but only first signal used for simulation. WARNING\n",
      "circuit_manager.py:simulate_signal_batch():355: \t\tSimulating signal took 1.781877s WARNING\n"
     ]
    },
    {
     "name": "stdout",
     "output_type": "stream",
     "text": [
      "Done:  0:00:01.729573\n"
     ]
    },
    {
     "name": "stderr",
     "output_type": "stream",
     "text": [
      "circuit_manager.py:simulate_signal_batch():413: \t\tCalculating analytics took 22.083476s WARNING\n",
      "circuit_manager.py:run_batch():700: \t\tMethod simulate_signal_batch took 49.078456s WARNING\n",
      "circuit_manager.py:run_batch():664: \t\tRunning 999 Subcircuits - RNA_circuit_8000: write_results WARNING\n",
      "circuit_manager.py:run_batch():700: \t\tMethod write_results took 152.161517s WARNING\n",
      "circuit_manager.py:batch_circuits():646: Single batch: 0:05:24.531179 \n",
      "Projected time: 324.20664782100005s \n",
      "Total time: 0:05:24.531191 WARNING\n",
      "circuit_manager.py:batch_circuits():606: \t\tStarting new round of viable circuits (999 - 1000 / 1000) WARNING\n",
      "circuit_manager.py:batch_circuits():626: \t\tMaking subcircuits 999 - 1000 took 1.4e-05s WARNING\n",
      "circuit_manager.py:batch_circuits():632: \tBatching 0 - 1000 circuits (out of 999 - 1000 (total: 1000)) (Circuits: 999 - 1000 of 1000) WARNING\n",
      "circuit_manager.py:run_batch():664: \t\tRunning 1 Subcircuits - RNA_circuit_8999: compute_interactions WARNING\n",
      "circuit_manager.py:run_batch():700: \t\tMethod compute_interactions took 0.161543s WARNING\n",
      "circuit_manager.py:run_batch():664: \t\tRunning 1 Subcircuits - RNA_circuit_8999: init_circuits WARNING\n",
      "circuit_manager.py:run_batch():700: \t\tMethod init_circuits took 3.78384s WARNING\n",
      "circuit_manager.py:run_batch():664: \t\tRunning 1 Subcircuits - RNA_circuit_8999: simulate_signal_batch WARNING\n"
     ]
    },
    {
     "name": "stdout",
     "output_type": "stream",
     "text": [
      "Done:  0:00:03.759776\n"
     ]
    },
    {
     "name": "stderr",
     "output_type": "stream",
     "text": [
      "circuit_manager.py:simulate_signal_batch():355: \t\tSimulating signal took 1.737253s WARNING\n"
     ]
    },
    {
     "name": "stdout",
     "output_type": "stream",
     "text": [
      "Done:  0:00:01.725202\n"
     ]
    },
    {
     "name": "stderr",
     "output_type": "stream",
     "text": [
      "circuit_manager.py:simulate_signal_batch():413: \t\tCalculating analytics took 0.406951s WARNING\n",
      "circuit_manager.py:run_batch():700: \t\tMethod simulate_signal_batch took 30.4901s WARNING\n",
      "circuit_manager.py:run_batch():664: \t\tRunning 1 Subcircuits - RNA_circuit_8999: write_results WARNING\n",
      "circuit_manager.py:run_batch():700: \t\tMethod write_results took 0.167894s WARNING\n",
      "circuit_manager.py:batch_circuits():646: Single batch: 0:00:34.609934 \n",
      "Projected time: 0.034609934s \n",
      "Total time: 0:06:28.157923 WARNING\n",
      "circuit_manager.py:batch_circuits():599: \tFrom 1000 circuits, a total of 1000 mutated circuits will be simulated. WARNING\n",
      "circuit_manager.py:batch_circuits():606: \t\tStarting new round of viable circuits (0 - 999 / 1000) WARNING\n",
      "circuit_manager.py:batch_circuits():626: \t\tMaking subcircuits 0 - 999 took 0.001157s WARNING\n",
      "circuit_manager.py:batch_circuits():632: \tBatching 0 - 1000 circuits (out of 0 - 999 (total: 1000)) (Circuits: 0 - 999 of 1000) WARNING\n",
      "circuit_manager.py:run_batch():664: \t\tRunning 999 Subcircuits - RNA_circuit_9000: compute_interactions WARNING\n"
     ]
    },
    {
     "name": "stdout",
     "output_type": "stream",
     "text": [
      "step 9000\n"
     ]
    },
    {
     "name": "stderr",
     "output_type": "stream",
     "text": [
      "circuit_manager.py:run_batch():700: \t\tMethod compute_interactions took 118.294706s WARNING\n",
      "circuit_manager.py:run_batch():664: \t\tRunning 999 Subcircuits - RNA_circuit_9000: init_circuits WARNING\n"
     ]
    },
    {
     "name": "stdout",
     "output_type": "stream",
     "text": [
      "Done:  0:00:03.882768\n"
     ]
    },
    {
     "name": "stderr",
     "output_type": "stream",
     "text": [
      "circuit_manager.py:run_batch():700: \t\tMethod init_circuits took 5.133642s WARNING\n",
      "circuit_manager.py:run_batch():664: \t\tRunning 999 Subcircuits - RNA_circuit_9000: simulate_signal_batch WARNING\n",
      "circuit_manager.py:prepare_internal_funcs():514: Signal differs between circuits, but only first signal used for simulation. WARNING\n",
      "circuit_manager.py:simulate_signal_batch():355: \t\tSimulating signal took 2.421837s WARNING\n"
     ]
    },
    {
     "name": "stdout",
     "output_type": "stream",
     "text": [
      "Done:  0:00:02.400280\n"
     ]
    },
    {
     "name": "stderr",
     "output_type": "stream",
     "text": [
      "circuit_manager.py:simulate_signal_batch():413: \t\tCalculating analytics took 21.819016s WARNING\n",
      "circuit_manager.py:run_batch():700: \t\tMethod simulate_signal_batch took 52.821428s WARNING\n",
      "circuit_manager.py:run_batch():664: \t\tRunning 999 Subcircuits - RNA_circuit_9000: write_results WARNING\n",
      "circuit_manager.py:run_batch():700: \t\tMethod write_results took 151.389703s WARNING\n",
      "circuit_manager.py:batch_circuits():646: Single batch: 0:05:27.644928 \n",
      "Projected time: 327.317283072s \n",
      "Total time: 0:05:27.644939 WARNING\n",
      "circuit_manager.py:batch_circuits():606: \t\tStarting new round of viable circuits (999 - 1000 / 1000) WARNING\n",
      "circuit_manager.py:batch_circuits():626: \t\tMaking subcircuits 999 - 1000 took 2.3e-05s WARNING\n",
      "circuit_manager.py:batch_circuits():632: \tBatching 0 - 1000 circuits (out of 999 - 1000 (total: 1000)) (Circuits: 999 - 1000 of 1000) WARNING\n",
      "circuit_manager.py:run_batch():664: \t\tRunning 1 Subcircuits - RNA_circuit_9999: compute_interactions WARNING\n",
      "circuit_manager.py:run_batch():700: \t\tMethod compute_interactions took 0.152098s WARNING\n",
      "circuit_manager.py:run_batch():664: \t\tRunning 1 Subcircuits - RNA_circuit_9999: init_circuits WARNING\n",
      "circuit_manager.py:run_batch():700: \t\tMethod init_circuits took 3.788059s WARNING\n",
      "circuit_manager.py:run_batch():664: \t\tRunning 1 Subcircuits - RNA_circuit_9999: simulate_signal_batch WARNING\n"
     ]
    },
    {
     "name": "stdout",
     "output_type": "stream",
     "text": [
      "Done:  0:00:03.763522\n"
     ]
    },
    {
     "name": "stderr",
     "output_type": "stream",
     "text": [
      "circuit_manager.py:simulate_signal_batch():355: \t\tSimulating signal took 1.878571s WARNING\n"
     ]
    },
    {
     "name": "stdout",
     "output_type": "stream",
     "text": [
      "Done:  0:00:01.866234\n"
     ]
    },
    {
     "name": "stderr",
     "output_type": "stream",
     "text": [
      "circuit_manager.py:simulate_signal_batch():413: \t\tCalculating analytics took 0.412994s WARNING\n",
      "circuit_manager.py:run_batch():700: \t\tMethod simulate_signal_batch took 33.984015s WARNING\n",
      "circuit_manager.py:run_batch():664: \t\tRunning 1 Subcircuits - RNA_circuit_9999: write_results WARNING\n",
      "circuit_manager.py:run_batch():700: \t\tMethod write_results took 0.167084s WARNING\n",
      "circuit_manager.py:batch_circuits():646: Single batch: 0:00:38.096693 \n",
      "Projected time: 0.038096693s \n",
      "Total time: 0:06:37.352385 WARNING\n",
      "circuit_manager.py:batch_circuits():599: \tFrom 1000 circuits, a total of 1000 mutated circuits will be simulated. WARNING\n",
      "circuit_manager.py:batch_circuits():606: \t\tStarting new round of viable circuits (0 - 999 / 1000) WARNING\n",
      "circuit_manager.py:batch_circuits():626: \t\tMaking subcircuits 0 - 999 took 0.001099s WARNING\n",
      "circuit_manager.py:batch_circuits():632: \tBatching 0 - 1000 circuits (out of 0 - 999 (total: 1000)) (Circuits: 0 - 999 of 1000) WARNING\n",
      "circuit_manager.py:run_batch():664: \t\tRunning 999 Subcircuits - RNA_circuit_10000: compute_interactions WARNING\n"
     ]
    },
    {
     "name": "stdout",
     "output_type": "stream",
     "text": [
      "step 10000\n"
     ]
    },
    {
     "name": "stderr",
     "output_type": "stream",
     "text": [
      "circuit_manager.py:run_batch():700: \t\tMethod compute_interactions took 118.014923s WARNING\n",
      "circuit_manager.py:run_batch():664: \t\tRunning 999 Subcircuits - RNA_circuit_10000: init_circuits WARNING\n"
     ]
    },
    {
     "name": "stdout",
     "output_type": "stream",
     "text": [
      "Done:  0:00:03.877897\n"
     ]
    },
    {
     "name": "stderr",
     "output_type": "stream",
     "text": [
      "circuit_manager.py:run_batch():700: \t\tMethod init_circuits took 5.186816s WARNING\n",
      "circuit_manager.py:run_batch():664: \t\tRunning 999 Subcircuits - RNA_circuit_10000: simulate_signal_batch WARNING\n",
      "circuit_manager.py:prepare_internal_funcs():514: Signal differs between circuits, but only first signal used for simulation. WARNING\n",
      "circuit_manager.py:simulate_signal_batch():355: \t\tSimulating signal took 2.03995s WARNING\n"
     ]
    },
    {
     "name": "stdout",
     "output_type": "stream",
     "text": [
      "Done:  0:00:02.020325\n"
     ]
    },
    {
     "name": "stderr",
     "output_type": "stream",
     "text": [
      "circuit_manager.py:simulate_signal_batch():413: \t\tCalculating analytics took 22.098757s WARNING\n",
      "circuit_manager.py:run_batch():700: \t\tMethod simulate_signal_batch took 55.56452s WARNING\n",
      "circuit_manager.py:run_batch():664: \t\tRunning 999 Subcircuits - RNA_circuit_10000: write_results WARNING\n",
      "circuit_manager.py:run_batch():700: \t\tMethod write_results took 146.27938s WARNING\n",
      "circuit_manager.py:batch_circuits():646: Single batch: 0:05:25.051692 \n",
      "Projected time: 324.726640308s \n",
      "Total time: 0:05:25.051705 WARNING\n",
      "circuit_manager.py:batch_circuits():606: \t\tStarting new round of viable circuits (999 - 1000 / 1000) WARNING\n",
      "circuit_manager.py:batch_circuits():626: \t\tMaking subcircuits 999 - 1000 took 1.2e-05s WARNING\n",
      "circuit_manager.py:batch_circuits():632: \tBatching 0 - 1000 circuits (out of 999 - 1000 (total: 1000)) (Circuits: 999 - 1000 of 1000) WARNING\n",
      "circuit_manager.py:run_batch():664: \t\tRunning 1 Subcircuits - RNA_circuit_10999: compute_interactions WARNING\n",
      "circuit_manager.py:run_batch():700: \t\tMethod compute_interactions took 0.161155s WARNING\n",
      "circuit_manager.py:run_batch():664: \t\tRunning 1 Subcircuits - RNA_circuit_10999: init_circuits WARNING\n",
      "circuit_manager.py:run_batch():700: \t\tMethod init_circuits took 3.766327s WARNING\n",
      "circuit_manager.py:run_batch():664: \t\tRunning 1 Subcircuits - RNA_circuit_10999: simulate_signal_batch WARNING\n"
     ]
    },
    {
     "name": "stdout",
     "output_type": "stream",
     "text": [
      "Done:  0:00:03.743428\n"
     ]
    },
    {
     "name": "stderr",
     "output_type": "stream",
     "text": [
      "circuit_manager.py:simulate_signal_batch():355: \t\tSimulating signal took 1.027726s WARNING\n"
     ]
    },
    {
     "name": "stdout",
     "output_type": "stream",
     "text": [
      "Done:  0:00:01.015802\n"
     ]
    },
    {
     "name": "stderr",
     "output_type": "stream",
     "text": [
      "circuit_manager.py:simulate_signal_batch():413: \t\tCalculating analytics took 0.40401s WARNING\n",
      "circuit_manager.py:run_batch():700: \t\tMethod simulate_signal_batch took 35.808622s WARNING\n",
      "circuit_manager.py:run_batch():664: \t\tRunning 1 Subcircuits - RNA_circuit_10999: write_results WARNING\n",
      "circuit_manager.py:run_batch():700: \t\tMethod write_results took 0.158113s WARNING\n",
      "circuit_manager.py:batch_circuits():646: Single batch: 0:00:39.900584 \n",
      "Projected time: 0.039900584s \n",
      "Total time: 0:06:39.226431 WARNING\n",
      "circuit_manager.py:batch_circuits():599: \tFrom 340 circuits, a total of 340 mutated circuits will be simulated. WARNING\n",
      "circuit_manager.py:batch_circuits():606: \t\tStarting new round of viable circuits (0 - 340 / 340) WARNING\n",
      "circuit_manager.py:batch_circuits():626: \t\tMaking subcircuits 0 - 340 took 0.000382s WARNING\n",
      "circuit_manager.py:batch_circuits():632: \tBatching 0 - 1000 circuits (out of 0 - 340 (total: 340)) (Circuits: 0 - 340 of 340) WARNING\n",
      "circuit_manager.py:run_batch():664: \t\tRunning 340 Subcircuits - RNA_circuit_11000: compute_interactions WARNING\n"
     ]
    },
    {
     "name": "stdout",
     "output_type": "stream",
     "text": [
      "step 11000\n"
     ]
    },
    {
     "name": "stderr",
     "output_type": "stream",
     "text": [
      "circuit_manager.py:run_batch():700: \t\tMethod compute_interactions took 40.390361s WARNING\n",
      "circuit_manager.py:run_batch():664: \t\tRunning 340 Subcircuits - RNA_circuit_11000: init_circuits WARNING\n"
     ]
    },
    {
     "name": "stdout",
     "output_type": "stream",
     "text": [
      "Done:  0:00:04.405523\n"
     ]
    },
    {
     "name": "stderr",
     "output_type": "stream",
     "text": [
      "circuit_manager.py:run_batch():700: \t\tMethod init_circuits took 4.892113s WARNING\n",
      "circuit_manager.py:run_batch():664: \t\tRunning 340 Subcircuits - RNA_circuit_11000: simulate_signal_batch WARNING\n",
      "circuit_manager.py:prepare_internal_funcs():514: Signal differs between circuits, but only first signal used for simulation. WARNING\n",
      "circuit_manager.py:simulate_signal_batch():355: \t\tSimulating signal took 1.417683s WARNING\n"
     ]
    },
    {
     "name": "stdout",
     "output_type": "stream",
     "text": [
      "Done:  0:00:01.364261\n"
     ]
    },
    {
     "name": "stderr",
     "output_type": "stream",
     "text": [
      "circuit_manager.py:simulate_signal_batch():413: \t\tCalculating analytics took 7.721868s WARNING\n",
      "circuit_manager.py:run_batch():700: \t\tMethod simulate_signal_batch took 44.30032s WARNING\n",
      "circuit_manager.py:run_batch():664: \t\tRunning 340 Subcircuits - RNA_circuit_11000: write_results WARNING\n",
      "circuit_manager.py:run_batch():700: \t\tMethod write_results took 49.664675s WARNING\n",
      "circuit_manager.py:batch_circuits():646: Single batch: 0:02:19.251937 \n",
      "Projected time: 139.251937s \n",
      "Total time: 0:02:19.251953 WARNING\n"
     ]
    }
   ],
   "source": [
    "if run_sim:\n",
    "    new_circuits = []\n",
    "    bs = config['simulation']['batch_size']\n",
    "    for i in range(0, len(circuits), bs):\n",
    "        print(f'step {i}')\n",
    "        try:\n",
    "            new_circuits.append(\n",
    "                circuit_modeller.batch_circuits(\n",
    "                    circuits=circuits[i:i + bs],\n",
    "                    batch_size=bs,\n",
    "                    methods={\n",
    "                        \"compute_interactions\": {},\n",
    "                        \"init_circuits\": {'batch': True},\n",
    "                        'simulate_signal_batch': {'ref_circuit': None,\n",
    "                                                'batch': config['simulation']['use_batch_mutations']},\n",
    "                        'write_results': {'no_visualisations': False,  # config['experiment']['no_visualisations'],\n",
    "                                        'no_numerical': False}  # config['experiment']['no_numerical']}\n",
    "                    }\n",
    "                )\n",
    "            )\n",
    "        except Exception as e:\n",
    "            print(e)\n",
    "            print(f'Could not run batch {i} to {i + bs}...')\n",
    "            print(\n",
    "                f'Something wrong in {data_circuits.iloc[i:i + bs][[\"k_a\", \"starting_state\", \"signal_target\"]]}')\n",
    "            break\n",
    "    new_circuits = flatten_listlike(new_circuits)"
   ]
  },
  {
   "cell_type": "code",
   "execution_count": null,
   "metadata": {},
   "outputs": [],
   "source": [
    "idxs_output = -1\n",
    "\n",
    "if run_sim:\n",
    "    for a in new_circuits[0].result_collector.results['signal'].analytics.keys():\n",
    "        data_circuits[a] = data_circuits['circuit'].apply(lambda c: c.result_collector.results['signal'].analytics[a][idxs_output] if c.result_collector.results.get('signal') else np.nan)\n",
    "    result_writer\n",
    "    data_circuits.drop(columns=['circuit']).to_csv('data_circuits')"
   ]
  },
  {
   "cell_type": "code",
   "execution_count": null,
   "metadata": {},
   "outputs": [
    {
     "name": "stderr",
     "output_type": "stream",
     "text": [
      "/tmp/ipykernel_1967281/3406425449.py:4: RuntimeWarning: More than 20 figures have been opened. Figures created through the pyplot interface (`matplotlib.pyplot.figure`) are retained until explicitly closed and may consume too much memory. (To control this warning, see the rcParam `figure.max_open_warning`). Consider using `matplotlib.pyplot.close()`.\n",
      "  plt.figure()\n"
     ]
    },
    {
     "data": {
      "image/png": "[encoded data removed]",
      "text/plain": [
       "<Figure size 640x480 with 1 Axes>"
      ]
     },
     "metadata": {},
     "output_type": "display_data"
    },
    {
     "data": {
      "image/png": "[encoded data removed]",
      "text/plain": [
       "<Figure size 640x480 with 1 Axes>"
      ]
     },
     "metadata": {},
     "output_type": "display_data"
    },
    {
     "data": {
      "image/png": "[encoded data removed]",
      "text/plain": [
       "<Figure size 640x480 with 1 Axes>"
      ]
     },
     "metadata": {},
     "output_type": "display_data"
    },
    {
     "data": {
      "image/png": "[encoded data removed]",
      "text/plain": [
       "<Figure size 640x480 with 1 Axes>"
      ]
     },
     "metadata": {},
     "output_type": "display_data"
    },
    {
     "data": {
      "image/png": "[encoded data removed]",
      "text/plain": [
       "<Figure size 640x480 with 1 Axes>"
      ]
     },
     "metadata": {},
     "output_type": "display_data"
    },
    {
     "data": {
      "image/png": "[encoded data removed]",
      "text/plain": [
       "<Figure size 640x480 with 1 Axes>"
      ]
     },
     "metadata": {},
     "output_type": "display_data"
    },
    {
     "data": {
      "image/png": "[encoded data removed]",
      "text/plain": [
       "<Figure size 640x480 with 1 Axes>"
      ]
     },
     "metadata": {},
     "output_type": "display_data"
    },
    {
     "data": {
      "image/png": "[encoded data removed]",
      "text/plain": [
       "<Figure size 640x480 with 1 Axes>"
      ]
     },
     "metadata": {},
     "output_type": "display_data"
    },
    {
     "data": {
      "image/png": "[encoded data removed]",
      "text/plain": [
       "<Figure size 640x480 with 1 Axes>"
      ]
     },
     "metadata": {},
     "output_type": "display_data"
    },
    {
     "data": {
      "image/png": "[encoded data removed]",
      "text/plain": [
       "<Figure size 640x480 with 1 Axes>"
      ]
     },
     "metadata": {},
     "output_type": "display_data"
    },
    {
     "data": {
      "image/png": "[encoded data removed]",
      "text/plain": [
       "<Figure size 640x480 with 1 Axes>"
      ]
     },
     "metadata": {},
     "output_type": "display_data"
    },
    {
     "data": {
      "image/png": "[encoded data removed]",
      "text/plain": [
       "<Figure size 640x480 with 1 Axes>"
      ]
     },
     "metadata": {},
     "output_type": "display_data"
    },
    {
     "data": {
      "image/png": "[encoded data removed]",
      "text/plain": [
       "<Figure size 640x480 with 1 Axes>"
      ]
     },
     "metadata": {},
     "output_type": "display_data"
    },
    {
     "data": {
      "image/png": "[encoded data removed]",
      "text/plain": [
       "<Figure size 640x480 with 1 Axes>"
      ]
     },
     "metadata": {},
     "output_type": "display_data"
    },
    {
     "data": {
      "image/png": "[encoded data removed]",
      "text/plain": [
       "<Figure size 640x480 with 1 Axes>"
      ]
     },
     "metadata": {},
     "output_type": "display_data"
    },
    {
     "data": {
      "image/png": "[encoded data removed]",
      "text/plain": [
       "<Figure size 640x480 with 1 Axes>"
      ]
     },
     "metadata": {},
     "output_type": "display_data"
    },
    {
     "data": {
      "image/png": "[encoded data removed]",
      "text/plain": [
       "<Figure size 640x480 with 1 Axes>"
      ]
     },
     "metadata": {},
     "output_type": "display_data"
    },
    {
     "data": {
      "image/png": "[encoded data removed]",
      "text/plain": [
       "<Figure size 640x480 with 1 Axes>"
      ]
     },
     "metadata": {},
     "output_type": "display_data"
    },
    {
     "data": {
      "image/png": "[encoded data removed]",
      "text/plain": [
       "<Figure size 640x480 with 1 Axes>"
      ]
     },
     "metadata": {},
     "output_type": "display_data"
    },
    {
     "data": {
      "image/png": "[encoded data removed]",
      "text/plain": [
       "<Figure size 640x480 with 1 Axes>"
      ]
     },
     "metadata": {},
     "output_type": "display_data"
    },
    {
     "data": {
      "image/png": "[encoded data removed]",
      "text/plain": [
       "<Figure size 640x480 with 1 Axes>"
      ]
     },
     "metadata": {},
     "output_type": "display_data"
    },
    {
     "data": {
      "image/png": "[encoded data removed]",
      "text/plain": [
       "<Figure size 640x480 with 1 Axes>"
      ]
     },
     "metadata": {},
     "output_type": "display_data"
    },
    {
     "data": {
      "image/png": "[encoded data removed]",
      "text/plain": [
       "<Figure size 640x480 with 1 Axes>"
      ]
     },
     "metadata": {},
     "output_type": "display_data"
    },
    {
     "data": {
      "image/png": "[encoded data removed]",
      "text/plain": [
       "<Figure size 640x480 with 1 Axes>"
      ]
     },
     "metadata": {},
     "output_type": "display_data"
    },
    {
     "data": {
      "image/png": "[encoded data removed]",
      "text/plain": [
       "<Figure size 640x480 with 1 Axes>"
      ]
     },
     "metadata": {},
     "output_type": "display_data"
    },
    {
     "data": {
      "image/png": "[encoded data removed]",
      "text/plain": [
       "<Figure size 640x480 with 1 Axes>"
      ]
     },
     "metadata": {},
     "output_type": "display_data"
    },
    {
     "data": {
      "image/png": "[encoded data removed]",
      "text/plain": [
       "<Figure size 640x480 with 1 Axes>"
      ]
     },
     "metadata": {},
     "output_type": "display_data"
    }
   ],
   "source": [
    "# from synbio_morpher.utils.misc.type_handling import flatten_listlike\n",
    "# for c in flatten_listlike(new_circuits):\n",
    "#     plt.figure()\n",
    "#     plt.plot(c.result_collector.results['signal'].vis_kwargs['t'], c.result_collector.results['signal'].data.T)"
   ]
  },
  {
   "cell_type": "code",
   "execution_count": null,
   "metadata": {},
   "outputs": [],
   "source": []
  }
 ],
 "metadata": {
  "kernelspec": {
   "display_name": "Python 3",
   "language": "python",
   "name": "python3"
  },
  "language_info": {
   "codemirror_mode": {
    "name": "ipython",
    "version": 3
   },
   "file_extension": ".py",
   "mimetype": "text/x-python",
   "name": "python",
   "nbconvert_exporter": "python",
   "pygments_lexer": "ipython3",
   "version": "3.10.12"
  }
 },
 "nbformat": 4,
 "nbformat_minor": 2
}
