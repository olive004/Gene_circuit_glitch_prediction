{
 "cells": [
  {
   "cell_type": "code",
   "execution_count": 1,
   "metadata": {},
   "outputs": [],
   "source": [
    "%load_ext autoreload\n",
    "%autoreload 2"
   ]
  },
  {
   "cell_type": "markdown",
   "metadata": {},
   "source": [
    "# Analysing the Jacobian of the parameter landscape scan"
   ]
  },
  {
   "cell_type": "markdown",
   "metadata": {},
   "source": [
    "In order to characterise the mutational properties of our RNA genetic circuits, we can look at attributes of the analytic landscape generated across a subset of parameters. The goal is to predict the *robustness of any mutation*. Because a mutation is a discrete step in sequence space, that translates to a discrete step in parameter space. Previously, we have scanned over a range of values in the parameter space, which, while continuous, is too large to scan over significantly. The calculation to find the value of an analytic given any set of parameters is also not completely trivial. There is some leeway in the requirement for the parameter landscape tobe continuous, as we are more interested in the relative analytic given a relative set of parameters than getting a particularly accurate value. For example, we may want to know whether a circuit is more sensitive if the interaction strength between node 1 is greater between node 2 than node 3. Being able to generalise in such a way is tractable with a discrete sampling of the landscape.\n",
    "\n",
    "To summarise, these are the goals we want to achieve with analysis of the Jacobian:\n",
    "1. Generalising enough to identify interactions that do not have a significant effect and can be abstracted away.\n",
    "\n",
    "Ultimately, we want to see if we can answer some of the above questions without having to scan across the entire parameter space and just sample some circuits."
   ]
  },
  {
   "cell_type": "markdown",
   "metadata": {},
   "source": [
    "# Imports"
   ]
  },
  {
   "cell_type": "code",
   "execution_count": 2,
   "metadata": {},
   "outputs": [
    {
     "name": "stderr",
     "output_type": "stream",
     "text": [
      "2023-08-30 14:36:09.219020: W tensorflow/compiler/xla/stream_executor/platform/default/dso_loader.cc:64] Could not load dynamic library 'libnvinfer.so.7'; dlerror: libnvinfer.so.7: cannot open shared object file: No such file or directory\n",
      "2023-08-30 14:36:09.219073: W tensorflow/compiler/xla/stream_executor/platform/default/dso_loader.cc:64] Could not load dynamic library 'libnvinfer_plugin.so.7'; dlerror: libnvinfer_plugin.so.7: cannot open shared object file: No such file or directory\n",
      "2023-08-30 14:36:09.219078: W tensorflow/compiler/tf2tensorrt/utils/py_utils.cc:38] TF-TRT Warning: Cannot dlopen some TensorRT libraries. If you would like to use Nvidia GPU with TensorRT, please make sure the missing libraries mentioned above are installed properly.\n"
     ]
    }
   ],
   "source": [
    "import numpy as np\n",
    "import jax\n",
    "import jax.numpy as jnp\n",
    "import pandas as pd\n",
    "import seaborn as sns\n",
    "import matplotlib.pyplot as plt\n",
    "import diffrax as dfx\n",
    "\n",
    "from functools import partial\n",
    "import os\n",
    "import sys\n",
    "import umap\n",
    "from sklearn.manifold import TSNE\n",
    "from sklearn.preprocessing import StandardScaler\n",
    "\n",
    "jax.config.update('jax_platform_name', 'cpu')\n",
    "\n",
    "if __package__ is None:\n",
    "\n",
    "    module_path = os.path.abspath(os.path.join('..'))\n",
    "    sys.path.append(module_path)\n",
    "\n",
    "    __package__ = os.path.basename(module_path)"
   ]
  },
  {
   "cell_type": "code",
   "execution_count": 3,
   "metadata": {},
   "outputs": [],
   "source": [
    "from synbio_morpher.srv.parameter_prediction.simulator import make_piecewise_stepcontrol\n",
    "from synbio_morpher.utils.misc.type_handling import flatten_listlike"
   ]
  },
  {
   "cell_type": "markdown",
   "metadata": {},
   "source": [
    "# Jacobian"
   ]
  },
  {
   "cell_type": "code",
   "execution_count": 4,
   "metadata": {},
   "outputs": [],
   "source": [
    "\n",
    "from synbio_morpher.utils.modelling.deterministic import Deterministic, bioreaction_sim_dfx_expanded\n",
    "\n",
    "from jax import jacfwd\n",
    "\n",
    "unbound_species = ['RNA_0', 'RNA_1', 'RNA_2']\n",
    "bound_species = sorted(set(flatten_listlike([['-'.join(sorted([x, y])) for x in unbound_species] for y in unbound_species])))\n",
    "species = unbound_species + bound_species\n",
    "signal_species = ['RNA_0']\n",
    "output_species = ['RNA_1']\n",
    "s_idxs = [species.index(s) for s in signal_species]\n",
    "output_idxs = [species.index(s) for s in output_species]\n",
    "signal_onehot = np.array([1 if s in [species.index(ss) for ss in signal_species] else 0 for s in np.arange(len(species))])\n",
    "signal_target = 2\n",
    "    \n",
    "k = 0.00150958097\n",
    "N0 = 200\n",
    "y00 = np.array([[N0, N0, N0, 0, 0, 0, 0, 0, 0]]).astype(np.float32)\n",
    "\n",
    "t0 = 0\n",
    "t1 = 100\n",
    "dt0 = 0.0005555558569638981\n",
    "dt1_factor = 5\n",
    "dt1 = dt0 * dt1_factor\n",
    "max_steps = 16**4 * 10\n",
    "\n",
    "# Reactions\n",
    "rates = np.array([[1e-4, 1e-4, 1e1],\n",
    "                  [1e-4, 1e-6, 1e-4],\n",
    "                  [1e1, 1e-4, 1e-4]])\n",
    "\n",
    "inputs = np.array([\n",
    "    [2, 0, 0, 0, 0, 0, 0, 0, 0],\n",
    "    [1, 1, 0, 0, 0, 0, 0, 0, 0],\n",
    "    [1, 0, 1, 0, 0, 0, 0, 0, 0],\n",
    "    [0, 2, 0, 0, 0, 0, 0, 0, 0],\n",
    "    [0, 1, 1, 0, 0, 0, 0, 0, 0],\n",
    "    [0, 0, 2, 0, 0, 0, 0, 0, 0],\n",
    "])\n",
    "outputs = np.array([\n",
    "    [0, 0, 0, 1, 0, 0, 0, 0, 0],\n",
    "    [0, 0, 0, 0, 1, 0, 0, 0, 0],\n",
    "    [0, 0, 0, 0, 0, 1, 0, 0, 0],\n",
    "    [0, 0, 0, 0, 0, 0, 1, 0, 0],\n",
    "    [0, 0, 0, 0, 0, 0, 0, 1, 0],\n",
    "    [0, 0, 0, 0, 0, 0, 0, 0, 1],\n",
    "])\n",
    "\n",
    "# Rates\n",
    "reverse_rates = rates[np.triu_indices(len(rates))]\n",
    "forward_rates = np.ones_like(reverse_rates) * k"
   ]
  },
  {
   "cell_type": "markdown",
   "metadata": {},
   "source": [
    "## Try jax"
   ]
  },
  {
   "cell_type": "code",
   "execution_count": null,
   "metadata": {},
   "outputs": [],
   "source": []
  },
  {
   "cell_type": "code",
   "execution_count": 35,
   "metadata": {},
   "outputs": [],
   "source": [
    "ts = np.linspace(t0, t1, 500)\n",
    "\n",
    "\n",
    "def statistics(t, y, args):\n",
    "    return jnp.mean(y), jnp.std(y)\n",
    "\n",
    "# bb = partial(bioreaction_sim_dfx_expanded,\n",
    "#         t0=t0, t1=t1, dt0=dt0,\n",
    "#         signal=None, signal_onehot=signal_onehot,\n",
    "#         forward_rates=forward_rates,\n",
    "#         inputs=inputs,\n",
    "#         outputs=outputs,\n",
    "#         solver=dfx.Tsit5(),\n",
    "#         saveat=dfx.SaveAt(\n",
    "#             ts=np.linspace(t0, t1, 500)),\n",
    "#             # subs=dfx.SubSaveAt(ts=ts, fn=statistics)),\n",
    "#         max_steps=max_steps,\n",
    "#         stepsize_controller=make_piecewise_stepcontrol(t0=t0, t1=t1, dt0=dt0, dt1=dt1)\n",
    "#         )\n",
    "\n",
    "\n",
    "bb = partial(bioreaction_sim_dfx_expanded,\n",
    "             t0=t0, t1=t1, dt0=dt0,\n",
    "             signal=None, signal_onehot=signal_onehot,\n",
    "             forward_rates=forward_rates,\n",
    "             inputs=inputs,\n",
    "             outputs=outputs,\n",
    "             solver=dfx.Tsit5(),\n",
    "             saveat=dfx.SaveAt(\n",
    "                 ts=ts),\n",
    "             stepsize_controller=make_piecewise_stepcontrol(\n",
    "                 t0=t0, t1=t1, dt0=dt0, dt1=dt1)\n",
    "             )\n",
    "\n",
    "# Jbb = jacfwd(bb)\n",
    "\n",
    "sol = bioreaction_sim_dfx_expanded(y00, t0=t0, t1=t1, dt0=dt0,\n",
    "             signal=None, signal_onehot=signal_onehot,\n",
    "             forward_rates=forward_rates,\n",
    "             inputs=inputs,\n",
    "             outputs=outputs,\n",
    "             reverse_rates=reverse_rates)"
   ]
  },
  {
   "cell_type": "code",
   "execution_count": 37,
   "metadata": {},
   "outputs": [
    {
     "data": {
      "text/plain": [
       "Array([0.        , 0.00055556, 0.00111111, ...,        inf,        inf,\n",
       "              inf], dtype=float32, weak_type=True)"
      ]
     },
     "execution_count": 37,
     "metadata": {},
     "output_type": "execute_result"
    }
   ],
   "source": [
    "sol.ts"
   ]
  },
  {
   "cell_type": "markdown",
   "metadata": {},
   "source": [
    "# Was the sampling good...?"
   ]
  },
  {
   "cell_type": "markdown",
   "metadata": {},
   "source": []
  }
 ],
 "metadata": {
  "kernelspec": {
   "display_name": "env_circuits",
   "language": "python",
   "name": "python3"
  },
  "language_info": {
   "codemirror_mode": {
    "name": "ipython",
    "version": 3
   },
   "file_extension": ".py",
   "mimetype": "text/x-python",
   "name": "python",
   "nbconvert_exporter": "python",
   "pygments_lexer": "ipython3",
   "version": "3.10.12"
  },
  "orig_nbformat": 4
 },
 "nbformat": 4,
 "nbformat_minor": 2
}
