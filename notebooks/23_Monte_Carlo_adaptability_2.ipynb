{
 "cells": [
  {
   "cell_type": "markdown",
   "metadata": {},
   "source": []
  },
  {
   "cell_type": "code",
   "execution_count": 1,
   "metadata": {},
   "outputs": [],
   "source": [
    "%load_ext autoreload\n",
    "%autoreload 2"
   ]
  },
  {
   "cell_type": "markdown",
   "metadata": {},
   "source": [
    "# Imports"
   ]
  },
  {
   "cell_type": "code",
   "execution_count": 2,
   "metadata": {},
   "outputs": [
    {
     "data": {
      "text/plain": [
       "[cuda(id=0)]"
      ]
     },
     "execution_count": 2,
     "metadata": {},
     "output_type": "execute_result"
    }
   ],
   "source": [
    "import numpy as np\n",
    "import jax\n",
    "import jax.numpy as jnp\n",
    "import pandas as pd\n",
    "import seaborn as sns\n",
    "import matplotlib.pyplot as plt\n",
    "import diffrax as dfx\n",
    "from typing import List\n",
    "\n",
    "from functools import partial\n",
    "import os\n",
    "import sys\n",
    "\n",
    "jax.config.update('jax_platform_name', 'gpu')\n",
    "\n",
    "if __package__ is None:\n",
    "\n",
    "    module_path = os.path.abspath(os.path.join('..'))\n",
    "    sys.path.append(module_path)\n",
    "\n",
    "    __package__ = os.path.basename(module_path)\n",
    "\n",
    "\n",
    "np.random.seed(0)\n",
    "jax.devices()"
   ]
  },
  {
   "cell_type": "code",
   "execution_count": 3,
   "metadata": {},
   "outputs": [],
   "source": [
    "from synbio_morpher.srv.parameter_prediction.simulator import make_piecewise_stepcontrol\n",
    "from synbio_morpher.utils.misc.type_handling import flatten_listlike\n",
    "from synbio_morpher.utils.modelling.physical import eqconstant_to_rates, equilibrium_constant_reparameterisation\n",
    "from synbio_morpher.utils.modelling.deterministic import bioreaction_sim_dfx_expanded\n",
    "from synbio_morpher.utils.modelling.solvers import get_diffrax_solver, make_stepsize_controller\n",
    "from synbio_morpher.utils.results.analytics.timeseries import calculate_adaptation, compute_peaks, compute_adaptability_full\n"
   ]
  },
  {
   "cell_type": "markdown",
   "metadata": {},
   "source": [
    "# Set up test circuits"
   ]
  },
  {
   "cell_type": "code",
   "execution_count": 4,
   "metadata": {},
   "outputs": [],
   "source": [
    "def make_species_bound(species_unbound):\n",
    "    return sorted(set(flatten_listlike([['-'.join(sorted([x, y])) for x in species_unbound] for y in species_unbound])))\n",
    "\n",
    "\n",
    "# RNA circuit settings\n",
    "species_unbound = ['RNA_0', 'RNA_1', 'RNA_2']\n",
    "species_bound = make_species_bound(species_unbound)\n",
    "species = species_unbound + species_bound\n",
    "species_signal = ['RNA_0']\n",
    "species_output = ['RNA_2']\n",
    "species_nonsignal = [s for s in species_unbound if s not in species_signal]\n",
    "idxs_signal = np.array([species.index(s) for s in species_signal])\n",
    "idxs_output = np.array([species.index(s) for s in species_output])\n",
    "idxs_unbound = np.array([species.index(s) for s in species_unbound])\n",
    "idxs_bound = np.array([species.index(s) for s in species_bound])\n",
    "signal_onehot = np.array([1 if s in idxs_signal else 0 for s in np.arange(len(species))])\n",
    "\n",
    "# Dynamic Simulation parameters\n",
    "k_a = 0.00150958097\n",
    "signal_target = 2\n",
    "t0 = 0\n",
    "t1 = 200\n",
    "ts = np.linspace(t0, t1, 500)\n",
    "dt0 = 0.0005555558569638981\n",
    "dt1_factor = 5\n",
    "dt1 = dt0 * dt1_factor\n",
    "max_steps = 16**4 * 10\n",
    "use_sensitivity_func1 = False\n",
    "sim_method = 'Dopri5'\n",
    "stepsize_controller = 'adaptive'\n",
    "\n",
    "# MC parameters\n",
    "total_steps = 10\n",
    "total_samples = 100\n",
    "choose_max = 20\n",
    "mutation_scale = 0.1\n",
    "n_circuits_display = 30\n",
    "N0 = 200\n",
    "y00 = np.array([[N0] * len(species_unbound) + [0] * len(species_bound)]).astype(np.float32)\n",
    "y00 = np.repeat(y00, repeats=total_samples, axis=0)\n",
    "\n",
    "# Reactions\n",
    "energies = np.random.rand(total_samples, len(species_unbound), len(species_unbound))\n",
    "energies = np.interp(energies, (energies.min(), energies.max()), (-25, 0))\n",
    "energies[np.tril_indices(len(species_unbound))] = energies[np.triu_indices(len(species_unbound))]\n",
    "eqconstants = jax.vmap(equilibrium_constant_reparameterisation)(energies, y00[:, idxs_unbound])\n",
    "forward_rates, reverse_rates = eqconstant_to_rates(eqconstants, k_a)\n",
    "forward_rates = np.array(list(map(lambda r: r[np.triu_indices(len(species_unbound))], forward_rates)))\n",
    "reverse_rates = np.array(list(map(lambda r: r[np.triu_indices(len(species_unbound))], reverse_rates)))\n",
    "\n",
    "inputs = np.array([\n",
    "    [2, 0, 0, 0, 0, 0, 0, 0, 0],\n",
    "    [1, 1, 0, 0, 0, 0, 0, 0, 0],\n",
    "    [1, 0, 1, 0, 0, 0, 0, 0, 0],\n",
    "    [0, 2, 0, 0, 0, 0, 0, 0, 0],\n",
    "    [0, 1, 1, 0, 0, 0, 0, 0, 0],\n",
    "    [0, 0, 2, 0, 0, 0, 0, 0, 0],\n",
    "], dtype=np.float64)\n",
    "outputs = np.array([\n",
    "    [0, 0, 0, 1, 0, 0, 0, 0, 0],\n",
    "    [0, 0, 0, 0, 1, 0, 0, 0, 0],\n",
    "    [0, 0, 0, 0, 0, 1, 0, 0, 0],\n",
    "    [0, 0, 0, 0, 0, 0, 1, 0, 0],\n",
    "    [0, 0, 0, 0, 0, 0, 0, 1, 0],\n",
    "    [0, 0, 0, 0, 0, 0, 0, 0, 1],\n",
    "], dtype=np.float64)"
   ]
  },
  {
   "cell_type": "markdown",
   "metadata": {},
   "source": [
    "# Initialise simulations"
   ]
  },
  {
   "cell_type": "code",
   "execution_count": 5,
   "metadata": {},
   "outputs": [],
   "source": [
    "sim_func = jax.jit(jax.vmap(\n",
    "    partial(bioreaction_sim_dfx_expanded,\n",
    "            t0=t0, t1=t1, dt0=dt0,\n",
    "            forward_rates=forward_rates,\n",
    "            inputs=inputs,\n",
    "            outputs=outputs,\n",
    "            solver=get_diffrax_solver(\n",
    "                sim_method),\n",
    "            saveat=dfx.SaveAt(\n",
    "                ts=jnp.linspace(t0, t1, 500)),  # int(np.min([500, t1-t0]))))\n",
    "            stepsize_controller=make_stepsize_controller(t0, t1, dt0, dt1,\n",
    "                                                         choice=stepsize_controller)\n",
    "            )))\n",
    "# sol_steady_states = jax.vmap(bioreaction_sim_dfx_expanded)(y00, reverse_rates)\n",
    "# y01 = np.array(sol_steady_states.ys[:, -1])\n",
    "# y01[:, np.array(idxs_signal)] = y01[:, np.array(idxs_signal)] * signal_target\n",
    "# sol_signal = jax.vmap(bioreaction_sim_dfx_expanded)(y01, reverse_rates)"
   ]
  },
  {
   "cell_type": "code",
   "execution_count": 6,
   "metadata": {},
   "outputs": [],
   "source": [
    "# adaptability, sensitivity, precision = jax.vmap(partial(compute_adaptability_full, idx_sig=idxs_signal[0], use_sensitivity_func1=use_sensitivity_func1))(\n",
    "#     sol_steady_states.ys, sol_signal.ys)\n",
    "# sensitivity = np.array(sensitivity)\n",
    "# precision = np.array(precision)"
   ]
  },
  {
   "cell_type": "markdown",
   "metadata": {},
   "source": [
    "# Monte Carlo iterations"
   ]
  },
  {
   "cell_type": "code",
   "execution_count": 7,
   "metadata": {},
   "outputs": [],
   "source": [
    "def choose_next(params, sol, idxs_signal, use_sensitivity_func1: bool, choose_max: int, n_samples_per_parent: int, mutation_scale=0.1):\n",
    "    \"\"\" Choose circuits with highest adaptability \"\"\"\n",
    "\n",
    "    sol_steady_states, sol_signal = sol\n",
    "    adaptability, sensitivity, precision = compute_adaptability_full(\n",
    "        sol_steady_states.ys, sol_signal.ys, idxs_signal, use_sensitivity_func1)\n",
    "    idxs_next = jnp.argsort(adaptability)[-choose_max:]\n",
    "    # summary_data = {}\n",
    "    # summary_data['adaptability'] = adaptability\n",
    "    return params[idxs_next], adaptability\n",
    "\n",
    "\n",
    "def mutate(parents: jnp.ndarray, n_samples_per_parent, mutation_scale):\n",
    "    # Generate mutated samples from each parent\n",
    "    mutated = jax.tree_util.tree_map(\n",
    "        lambda x: x + mutation_scale * np.random.randn(n_samples_per_parent, *x.shape), parents)\n",
    "    return mutated\n",
    "\n",
    "\n",
    "def simulate(y00, reverse_rates):\n",
    "    sol_steady_states = jax.vmap(\n",
    "        bioreaction_sim_dfx_expanded)(y00, reverse_rates)\n",
    "    y01 = np.array(sol_steady_states.ys[:, -1])\n",
    "    y01[:, np.array(idxs_signal)] = y01[:, np.array(\n",
    "        idxs_signal)] * signal_target\n",
    "    sol_signal = jax.vmap(bioreaction_sim_dfx_expanded)(y01, reverse_rates)\n",
    "    return sol_steady_states, sol_signal"
   ]
  },
  {
   "cell_type": "code",
   "execution_count": 8,
   "metadata": {},
   "outputs": [
    {
     "name": "stdout",
     "output_type": "stream",
     "text": [
      "\n",
      "\n",
      "Starting step 1 out of 10\n",
      "\n",
      "\n"
     ]
    },
    {
     "ename": "TypeError",
     "evalue": "bioreaction_sim_dfx_expanded() missing 6 required positional arguments: 't1', 'dt0', 'inputs', 'outputs', 'forward_rates', and 'reverse_rates'",
     "output_type": "error",
     "traceback": [
      "\u001b[0;31m---------------------------------------------------------------------------\u001b[0m",
      "\u001b[0;31mTypeError\u001b[0m                                 Traceback (most recent call last)",
      "Cell \u001b[0;32mIn[8], line 10\u001b[0m\n\u001b[1;32m      6\u001b[0m \u001b[38;5;28;01mfor\u001b[39;00m step \u001b[38;5;129;01min\u001b[39;00m \u001b[38;5;28mrange\u001b[39m(total_steps):\n\u001b[1;32m      8\u001b[0m     \u001b[38;5;28mprint\u001b[39m(\u001b[38;5;124mf\u001b[39m\u001b[38;5;124m'\u001b[39m\u001b[38;5;130;01m\\n\u001b[39;00m\u001b[38;5;130;01m\\n\u001b[39;00m\u001b[38;5;124mStarting step \u001b[39m\u001b[38;5;132;01m{\u001b[39;00mstep\u001b[38;5;241m+\u001b[39m\u001b[38;5;241m1\u001b[39m\u001b[38;5;132;01m}\u001b[39;00m\u001b[38;5;124m out of \u001b[39m\u001b[38;5;132;01m{\u001b[39;00mtotal_steps\u001b[38;5;132;01m}\u001b[39;00m\u001b[38;5;130;01m\\n\u001b[39;00m\u001b[38;5;130;01m\\n\u001b[39;00m\u001b[38;5;124m'\u001b[39m)\n\u001b[0;32m---> 10\u001b[0m     sol \u001b[38;5;241m=\u001b[39m \u001b[43msimulate\u001b[49m\u001b[43m(\u001b[49m\u001b[43my00\u001b[49m\u001b[43m,\u001b[49m\u001b[43m \u001b[49m\u001b[43mgen_y\u001b[49m\u001b[43m)\u001b[49m\n\u001b[1;32m     11\u001b[0m     next_starting, adaptability \u001b[38;5;241m=\u001b[39m choose_next(params\u001b[38;5;241m=\u001b[39mgen_y, sol\u001b[38;5;241m=\u001b[39msol, idxs_signal\u001b[38;5;241m=\u001b[39midxs_signal,\n\u001b[1;32m     12\u001b[0m                                               use_sensitivity_func1\u001b[38;5;241m=\u001b[39muse_sensitivity_func1, choose_max\u001b[38;5;241m=\u001b[39mchoose_max, n_samples_per_parent\u001b[38;5;241m=\u001b[39mn_samples_per_parent)\n\u001b[1;32m     13\u001b[0m     gen_z \u001b[38;5;241m=\u001b[39m mutate(next_starting, n_samples_per_parent, mutation_scale)\n",
      "Cell \u001b[0;32mIn[7], line 21\u001b[0m, in \u001b[0;36msimulate\u001b[0;34m(y00, reverse_rates)\u001b[0m\n\u001b[1;32m     20\u001b[0m \u001b[38;5;28;01mdef\u001b[39;00m \u001b[38;5;21msimulate\u001b[39m(y00, reverse_rates):\n\u001b[0;32m---> 21\u001b[0m     sol_steady_states \u001b[38;5;241m=\u001b[39m \u001b[43mjax\u001b[49m\u001b[38;5;241;43m.\u001b[39;49m\u001b[43mvmap\u001b[49m\u001b[43m(\u001b[49m\n\u001b[1;32m     22\u001b[0m \u001b[43m        \u001b[49m\u001b[43mbioreaction_sim_dfx_expanded\u001b[49m\u001b[43m)\u001b[49m\u001b[43m(\u001b[49m\u001b[43my00\u001b[49m\u001b[43m,\u001b[49m\u001b[43m \u001b[49m\u001b[43mreverse_rates\u001b[49m\u001b[43m)\u001b[49m\n\u001b[1;32m     23\u001b[0m     y01 \u001b[38;5;241m=\u001b[39m np\u001b[38;5;241m.\u001b[39marray(sol_steady_states\u001b[38;5;241m.\u001b[39mys[:, \u001b[38;5;241m-\u001b[39m\u001b[38;5;241m1\u001b[39m])\n\u001b[1;32m     24\u001b[0m     y01[:, np\u001b[38;5;241m.\u001b[39marray(idxs_signal)] \u001b[38;5;241m=\u001b[39m y01[:, np\u001b[38;5;241m.\u001b[39marray(\n\u001b[1;32m     25\u001b[0m         idxs_signal)] \u001b[38;5;241m*\u001b[39m signal_target\n",
      "    \u001b[0;31m[... skipping hidden 2 frame]\u001b[0m\n",
      "File \u001b[0;32m/usr/local/lib/python3.10/dist-packages/jax/_src/linear_util.py:192\u001b[0m, in \u001b[0;36mWrappedFun.call_wrapped\u001b[0;34m(self, *args, **kwargs)\u001b[0m\n\u001b[1;32m    189\u001b[0m gen \u001b[38;5;241m=\u001b[39m gen_static_args \u001b[38;5;241m=\u001b[39m out_store \u001b[38;5;241m=\u001b[39m \u001b[38;5;28;01mNone\u001b[39;00m\n\u001b[1;32m    191\u001b[0m \u001b[38;5;28;01mtry\u001b[39;00m:\n\u001b[0;32m--> 192\u001b[0m   ans \u001b[38;5;241m=\u001b[39m \u001b[38;5;28;43mself\u001b[39;49m\u001b[38;5;241;43m.\u001b[39;49m\u001b[43mf\u001b[49m\u001b[43m(\u001b[49m\u001b[38;5;241;43m*\u001b[39;49m\u001b[43margs\u001b[49m\u001b[43m,\u001b[49m\u001b[43m \u001b[49m\u001b[38;5;241;43m*\u001b[39;49m\u001b[38;5;241;43m*\u001b[39;49m\u001b[38;5;28;43mdict\u001b[39;49m\u001b[43m(\u001b[49m\u001b[38;5;28;43mself\u001b[39;49m\u001b[38;5;241;43m.\u001b[39;49m\u001b[43mparams\u001b[49m\u001b[43m,\u001b[49m\u001b[43m \u001b[49m\u001b[38;5;241;43m*\u001b[39;49m\u001b[38;5;241;43m*\u001b[39;49m\u001b[43mkwargs\u001b[49m\u001b[43m)\u001b[49m\u001b[43m)\u001b[49m\n\u001b[1;32m    193\u001b[0m \u001b[38;5;28;01mexcept\u001b[39;00m:\n\u001b[1;32m    194\u001b[0m   \u001b[38;5;66;03m# Some transformations yield from inside context managers, so we have to\u001b[39;00m\n\u001b[1;32m    195\u001b[0m   \u001b[38;5;66;03m# interrupt them before reraising the exception. Otherwise they will only\u001b[39;00m\n\u001b[1;32m    196\u001b[0m   \u001b[38;5;66;03m# get garbage-collected at some later time, running their cleanup tasks\u001b[39;00m\n\u001b[1;32m    197\u001b[0m   \u001b[38;5;66;03m# only after this exception is handled, which can corrupt the global\u001b[39;00m\n\u001b[1;32m    198\u001b[0m   \u001b[38;5;66;03m# state.\u001b[39;00m\n\u001b[1;32m    199\u001b[0m   \u001b[38;5;28;01mwhile\u001b[39;00m stack:\n",
      "\u001b[0;31mTypeError\u001b[0m: bioreaction_sim_dfx_expanded() missing 6 required positional arguments: 't1', 'dt0', 'inputs', 'outputs', 'forward_rates', and 'reverse_rates'"
     ]
    }
   ],
   "source": [
    "gen_y = reverse_rates\n",
    "n_samples_per_parent = total_samples//choose_max\n",
    "params_all = np.zeros((total_steps, total_samples, *reverse_rates.shape))\n",
    "adaptability_all = np.zeros((total_steps, total_samples))\n",
    "\n",
    "for step in range(total_steps):\n",
    "\n",
    "    print(f'\\n\\nStarting step {step+1} out of {total_steps}\\n\\n')\n",
    "\n",
    "    sol = simulate(y00, gen_y)\n",
    "    next_starting, adaptability = choose_next(params=gen_y, sol=sol, idxs_signal=idxs_signal,\n",
    "                                              use_sensitivity_func1=use_sensitivity_func1, choose_max=choose_max, n_samples_per_parent=n_samples_per_parent)\n",
    "    gen_z = mutate(next_starting, n_samples_per_parent, mutation_scale)\n",
    "    params_all[step] = gen_z\n",
    "    adaptability_all[step] = adaptability"
   ]
  },
  {
   "cell_type": "code",
   "execution_count": null,
   "metadata": {},
   "outputs": [],
   "source": []
  }
 ],
 "metadata": {
  "kernelspec": {
   "display_name": "Python 3",
   "language": "python",
   "name": "python3"
  },
  "language_info": {
   "codemirror_mode": {
    "name": "ipython",
    "version": 3
   },
   "file_extension": ".py",
   "mimetype": "text/x-python",
   "name": "python",
   "nbconvert_exporter": "python",
   "pygments_lexer": "ipython3",
   "version": "3.10.12"
  }
 },
 "nbformat": 4,
 "nbformat_minor": 2
}
