{
 "cells": [
  {
   "cell_type": "markdown",
   "metadata": {},
   "source": []
  },
  {
   "cell_type": "code",
   "execution_count": 12,
   "metadata": {},
   "outputs": [
    {
     "name": "stdout",
     "output_type": "stream",
     "text": [
      "The autoreload extension is already loaded. To reload it, use:\n",
      "  %reload_ext autoreload\n"
     ]
    }
   ],
   "source": [
    "%load_ext autoreload\n",
    "%autoreload 2"
   ]
  },
  {
   "cell_type": "markdown",
   "metadata": {},
   "source": [
    "# Imports"
   ]
  },
  {
   "cell_type": "code",
   "execution_count": 13,
   "metadata": {},
   "outputs": [
    {
     "data": {
      "text/plain": [
       "[cuda(id=0)]"
      ]
     },
     "execution_count": 13,
     "metadata": {},
     "output_type": "execute_result"
    }
   ],
   "source": [
    "import numpy as np\n",
    "import jax\n",
    "import jax.numpy as jnp\n",
    "import pandas as pd\n",
    "import seaborn as sns\n",
    "import matplotlib.pyplot as plt\n",
    "import diffrax as dfx\n",
    "from typing import List\n",
    "\n",
    "from functools import partial\n",
    "import os\n",
    "import sys\n",
    "\n",
    "jax.config.update('jax_platform_name', 'gpu')\n",
    "\n",
    "if __package__ is None:\n",
    "\n",
    "    module_path = os.path.abspath(os.path.join('..'))\n",
    "    sys.path.append(module_path)\n",
    "\n",
    "    __package__ = os.path.basename(module_path)\n",
    "\n",
    "\n",
    "np.random.seed(0)\n",
    "jax.devices()"
   ]
  },
  {
   "cell_type": "code",
   "execution_count": 14,
   "metadata": {},
   "outputs": [],
   "source": [
    "from synbio_morpher.srv.parameter_prediction.simulator import make_piecewise_stepcontrol\n",
    "from synbio_morpher.utils.misc.type_handling import flatten_listlike\n",
    "from synbio_morpher.utils.modelling.physical import eqconstant_to_rates, equilibrium_constant_reparameterisation\n",
    "from synbio_morpher.utils.modelling.deterministic import bioreaction_sim_dfx_expanded\n",
    "from synbio_morpher.utils.modelling.solvers import get_diffrax_solver, make_stepsize_controller, simulate_steady_states\n",
    "from synbio_morpher.utils.results.analytics.timeseries import calculate_adaptation, compute_peaks, compute_adaptability_full\n"
   ]
  },
  {
   "cell_type": "markdown",
   "metadata": {},
   "source": [
    "# Set up test circuits"
   ]
  },
  {
   "cell_type": "code",
   "execution_count": 15,
   "metadata": {},
   "outputs": [],
   "source": [
    "def make_species_bound(species_unbound):\n",
    "    return sorted(set(flatten_listlike([['-'.join(sorted([x, y])) for x in species_unbound] for y in species_unbound])))\n",
    "\n",
    "\n",
    "# RNA circuit settings\n",
    "species_unbound = ['RNA_0', 'RNA_1', 'RNA_2']\n",
    "species_bound = make_species_bound(species_unbound)\n",
    "species = species_unbound + species_bound\n",
    "species_signal = ['RNA_0']\n",
    "species_output = ['RNA_1', 'RNA_2']\n",
    "species_nonsignal = [s for s in species_unbound if s not in species_signal]\n",
    "idxs_signal = np.array([species.index(s) for s in species_signal])\n",
    "idxs_output = np.array([species.index(s) for s in species_output])\n",
    "idxs_unbound = np.array([species.index(s) for s in species_unbound])\n",
    "idxs_bound = np.array([species.index(s) for s in species_bound])\n",
    "signal_onehot = np.array([1 if s in idxs_signal else 0 for s in np.arange(len(species))])\n",
    "\n",
    "# Dynamic Simulation parameters\n",
    "k_a = 0.00150958097\n",
    "signal_target = 2\n",
    "t0 = 0\n",
    "t1 = 300\n",
    "ts = np.linspace(t0, t1, 500)\n",
    "tmax = 700\n",
    "dt0 = 0.0005555558569638981\n",
    "dt1_factor = 5\n",
    "dt1 = dt0 * dt1_factor\n",
    "max_steps = 16**4 * 10\n",
    "use_sensitivity_func1 = False\n",
    "sim_method = 'Dopri5'\n",
    "stepsize_controller = 'adaptive'\n",
    "threshold_steady_state = 0.01\n",
    "\n",
    "# MC parameters\n",
    "total_steps = 10\n",
    "total_samples = 100\n",
    "choose_max = 20\n",
    "mutation_scale = 0.1\n",
    "n_circuits_display = 30\n",
    "N0 = 200\n",
    "y00 = np.array([[N0] * len(species_unbound) + [0] * len(species_bound)]).astype(np.float32)\n",
    "y00 = np.repeat(y00, repeats=total_samples, axis=0)\n",
    "\n",
    "# Reactions\n",
    "energies = np.random.rand(total_samples, len(species_unbound), len(species_unbound))\n",
    "energies = np.interp(energies, (energies.min(), energies.max()), (-25, 0))\n",
    "energies[np.tril_indices(len(species_unbound))] = energies[np.triu_indices(len(species_unbound))]\n",
    "eqconstants = jax.vmap(equilibrium_constant_reparameterisation)(energies, y00[:, idxs_unbound])\n",
    "forward_rates, reverse_rates = eqconstant_to_rates(eqconstants, k_a)\n",
    "forward_rates = np.array(list(map(lambda r: r[np.triu_indices(len(species_unbound))], forward_rates)))\n",
    "forward_rates = forward_rates[0]\n",
    "reverse_rates = np.array(list(map(lambda r: r[np.triu_indices(len(species_unbound))], reverse_rates)))\n",
    "\n",
    "inputs = np.array([\n",
    "    [2, 0, 0, 0, 0, 0, 0, 0, 0],\n",
    "    [1, 1, 0, 0, 0, 0, 0, 0, 0],\n",
    "    [1, 0, 1, 0, 0, 0, 0, 0, 0],\n",
    "    [0, 2, 0, 0, 0, 0, 0, 0, 0],\n",
    "    [0, 1, 1, 0, 0, 0, 0, 0, 0],\n",
    "    [0, 0, 2, 0, 0, 0, 0, 0, 0],\n",
    "], dtype=np.float64)\n",
    "outputs = np.array([\n",
    "    [0, 0, 0, 1, 0, 0, 0, 0, 0],\n",
    "    [0, 0, 0, 0, 1, 0, 0, 0, 0],\n",
    "    [0, 0, 0, 0, 0, 1, 0, 0, 0],\n",
    "    [0, 0, 0, 0, 0, 0, 1, 0, 0],\n",
    "    [0, 0, 0, 0, 0, 0, 0, 1, 0],\n",
    "    [0, 0, 0, 0, 0, 0, 0, 0, 1],\n",
    "], dtype=np.float64)"
   ]
  },
  {
   "cell_type": "markdown",
   "metadata": {},
   "source": [
    "# Initialise simulations"
   ]
  },
  {
   "cell_type": "code",
   "execution_count": 16,
   "metadata": {},
   "outputs": [],
   "source": [
    "sim_func = jax.jit(jax.vmap(\n",
    "    partial(bioreaction_sim_dfx_expanded,\n",
    "            t0=t0, t1=t1, dt0=dt0,\n",
    "            forward_rates=forward_rates,\n",
    "            inputs=inputs,\n",
    "            outputs=outputs,\n",
    "            solver=get_diffrax_solver(\n",
    "                sim_method),\n",
    "            saveat=dfx.SaveAt(\n",
    "                ts=jnp.linspace(t0, t1, 500)),  # int(np.min([500, t1-t0]))))\n",
    "            stepsize_controller=make_stepsize_controller(t0, t1, dt0, dt1,\n",
    "                                                         choice=stepsize_controller)\n",
    "            )))\n",
    "# sol_steady_states = jax.vmap(bioreaction_sim_dfx_expanded)(y00, reverse_rates)\n",
    "# y01 = np.array(sol_steady_states.ys[:, -1])\n",
    "# y01[:, np.array(idxs_signal)] = y01[:, np.array(idxs_signal)] * signal_target\n",
    "# sol_signal = jax.vmap(bioreaction_sim_dfx_expanded)(y01, reverse_rates)"
   ]
  },
  {
   "cell_type": "code",
   "execution_count": 17,
   "metadata": {},
   "outputs": [],
   "source": [
    "# adaptability, sensitivity, precision = jax.vmap(partial(compute_adaptability_full, idx_sig=idxs_signal[0], use_sensitivity_func1=use_sensitivity_func1))(\n",
    "#     sol_steady_states.ys, sol_signal.ys)\n",
    "# sensitivity = np.array(sensitivity)\n",
    "# precision = np.array(precision)"
   ]
  },
  {
   "cell_type": "markdown",
   "metadata": {},
   "source": [
    "# Monte Carlo iterations"
   ]
  },
  {
   "cell_type": "code",
   "execution_count": 18,
   "metadata": {},
   "outputs": [],
   "source": [
    "def choose_next(params, sol, idxs_signal, idxs_output, use_sensitivity_func1: bool, choose_max: int, n_samples_per_parent: int, mutation_scale=0.1):\n",
    "    \"\"\" Choose circuits with highest adaptability \"\"\"\n",
    "\n",
    "    ys0, ys1 = sol\n",
    "    adaptability, sensitivity, precision = jax.vmap(partial(\n",
    "        compute_adaptability_full, idx_sig=idxs_signal, use_sensitivity_func1=use_sensitivity_func1))(ys0, ys1)\n",
    "    idxs_next = jnp.argsort(adaptability[:, idxs_output], axis=0)[-choose_max:]\n",
    "    # summary_data = {}\n",
    "    # summary_data['adaptability'] = adaptability\n",
    "    return params[idxs_next], adaptability\n",
    "\n",
    "\n",
    "def mutate(parents: jnp.ndarray, n_samples_per_parent, mutation_scale):\n",
    "    # Generate mutated samples from each parent\n",
    "    mutated = jax.tree_util.tree_map(\n",
    "        lambda x: x + mutation_scale * np.random.randn(n_samples_per_parent, *x.shape), parents)\n",
    "    return mutated\n",
    "\n",
    "\n",
    "def simulate(y00, reverse_rates, sim_func, t0, t1, tmax, threshold):\n",
    "    ys0, ts0 = simulate_steady_states(\n",
    "        y0=y00, total_time=tmax, sim_func=sim_func,\n",
    "        t0=t0, t1=t1,\n",
    "        threshold=threshold,\n",
    "        reverse_rates=reverse_rates,\n",
    "    )\n",
    "    y01 = np.array(ys0[:, -1])\n",
    "    y01[:, np.array(idxs_signal)] = y01[:, np.array(\n",
    "        idxs_signal)] * signal_target\n",
    "    ys1, ts1 = simulate_steady_states(\n",
    "        y0=y01, total_time=tmax, sim_func=sim_func,\n",
    "        t0=t0, t1=t1,\n",
    "        threshold=threshold,\n",
    "        reverse_rates=reverse_rates,\n",
    "    )\n",
    "    return ys0, ts0, ys1, ts1"
   ]
  },
  {
   "cell_type": "code",
   "execution_count": null,
   "metadata": {},
   "outputs": [
    {
     "name": "stdout",
     "output_type": "stream",
     "text": [
      "\n",
      "\n",
      "Starting step 1 out of 10\n",
      "\n",
      "\n",
      "Steady states:  300  iterations.  163  left to steady out.  0:00:20.077289\n",
      "Steady states:  600  iterations.  81  left to steady out.  0:00:39.409788\n"
     ]
    }
   ],
   "source": [
    "gen_y = reverse_rates\n",
    "n_samples_per_parent = total_samples//choose_max\n",
    "params_all = np.zeros((total_steps, total_samples, *reverse_rates.shape))\n",
    "adaptability_all = np.zeros((total_steps, total_samples))\n",
    "\n",
    "sim_func = jax.vmap(partial(bioreaction_sim_dfx_expanded,\n",
    "                            t0=t0, t1=t1, dt0=dt0,\n",
    "                            forward_rates=forward_rates,\n",
    "                            inputs=inputs,\n",
    "                            outputs=outputs,\n",
    "                            solver=get_diffrax_solver(sim_method),\n",
    "                            saveat=dfx.SaveAt(ts=jnp.linspace(t0, t1, 500)),\n",
    "                            stepsize_controller=make_stepsize_controller(t0, t1, dt0, dt1, choice=stepsize_controller)))\n",
    "\n",
    "for step in range(total_steps):\n",
    "\n",
    "    print(f'\\n\\nStarting iteration {step+1} out of {total_steps}\\n\\n')\n",
    "\n",
    "    ys0, ts0, ys1, ts1 = simulate(y00, gen_y, sim_func, t0, t1, tmax, threshold_steady_state)\n",
    "    next_starting, adaptability = choose_next(params=gen_y, sol=(ys0, ys1), idxs_signal=idxs_signal, idxs_output=idxs_output,\n",
    "                                              use_sensitivity_func1=use_sensitivity_func1, choose_max=choose_max, n_samples_per_parent=n_samples_per_parent)\n",
    "    gen_z = mutate(next_starting, n_samples_per_parent, mutation_scale)\n",
    "    params_all[step] = gen_z\n",
    "    adaptability_all[step] = adaptability"
   ]
  },
  {
   "cell_type": "code",
   "execution_count": null,
   "metadata": {},
   "outputs": [],
   "source": []
  }
 ],
 "metadata": {
  "kernelspec": {
   "display_name": "Python 3",
   "language": "python",
   "name": "python3"
  },
  "language_info": {
   "codemirror_mode": {
    "name": "ipython",
    "version": 3
   },
   "file_extension": ".py",
   "mimetype": "text/x-python",
   "name": "python",
   "nbconvert_exporter": "python",
   "pygments_lexer": "ipython3",
   "version": "3.10.12"
  }
 },
 "nbformat": 4,
 "nbformat_minor": 2
}
