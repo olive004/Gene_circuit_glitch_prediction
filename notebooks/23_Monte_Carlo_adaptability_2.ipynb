{
 "cells": [
  {
   "cell_type": "markdown",
   "metadata": {},
   "source": []
  },
  {
   "cell_type": "code",
   "execution_count": 1,
   "metadata": {},
   "outputs": [],
   "source": [
    "%load_ext autoreload\n",
    "%autoreload 2"
   ]
  },
  {
   "cell_type": "markdown",
   "metadata": {},
   "source": [
    "# Imports"
   ]
  },
  {
   "cell_type": "code",
   "execution_count": 2,
   "metadata": {},
   "outputs": [
    {
     "data": {
      "text/plain": [
       "[cuda(id=0)]"
      ]
     },
     "execution_count": 2,
     "metadata": {},
     "output_type": "execute_result"
    }
   ],
   "source": [
    "import numpy as np\n",
    "import jax\n",
    "import jax.numpy as jnp\n",
    "import pandas as pd\n",
    "import seaborn as sns\n",
    "import matplotlib.pyplot as plt\n",
    "import diffrax as dfx\n",
    "from typing import List\n",
    "\n",
    "from functools import partial\n",
    "import os\n",
    "import sys\n",
    "\n",
    "jax.config.update('jax_platform_name', 'gpu')\n",
    "\n",
    "if __package__ is None:\n",
    "\n",
    "    module_path = os.path.abspath(os.path.join('..'))\n",
    "    sys.path.append(module_path)\n",
    "\n",
    "    __package__ = os.path.basename(module_path)\n",
    "\n",
    "\n",
    "np.random.seed(0)\n",
    "jax.devices()"
   ]
  },
  {
   "cell_type": "code",
   "execution_count": 3,
   "metadata": {},
   "outputs": [],
   "source": [
    "from synbio_morpher.srv.parameter_prediction.simulator import make_piecewise_stepcontrol\n",
    "from synbio_morpher.utils.misc.type_handling import flatten_listlike\n",
    "from synbio_morpher.utils.modelling.physical import eqconstant_to_rates, equilibrium_constant_reparameterisation\n",
    "from synbio_morpher.utils.modelling.deterministic import bioreaction_sim_dfx_expanded\n",
    "from synbio_morpher.utils.modelling.solvers import get_diffrax_solver, make_stepsize_controller, simulate_steady_states\n",
    "from synbio_morpher.utils.results.analytics.timeseries import calculate_adaptation, compute_peaks, compute_adaptability_full\n"
   ]
  },
  {
   "cell_type": "markdown",
   "metadata": {},
   "source": [
    "# Set up test circuits"
   ]
  },
  {
   "cell_type": "code",
   "execution_count": 4,
   "metadata": {},
   "outputs": [],
   "source": [
    "def make_species_bound(species_unbound):\n",
    "    return sorted(set(flatten_listlike([['-'.join(sorted([x, y])) for x in species_unbound] for y in species_unbound])))\n",
    "\n",
    "\n",
    "# RNA circuit settings\n",
    "species_unbound = ['RNA_0', 'RNA_1', 'RNA_2']\n",
    "species_bound = make_species_bound(species_unbound)\n",
    "species = species_unbound + species_bound\n",
    "species_signal = ['RNA_0']\n",
    "species_output = ['RNA_2']\n",
    "species_nonsignal = [s for s in species_unbound if s not in species_signal]\n",
    "idxs_signal = np.array([species.index(s) for s in species_signal])\n",
    "idxs_output = np.array([species.index(s) for s in species_output])\n",
    "idxs_unbound = np.array([species.index(s) for s in species_unbound])\n",
    "idxs_bound = np.array([species.index(s) for s in species_bound])\n",
    "signal_onehot = np.array([1 if s in idxs_signal else 0 for s in np.arange(len(species))])\n",
    "\n",
    "# Dynamic Simulation parameters\n",
    "k_a = 0.00150958097\n",
    "signal_target = 2\n",
    "t0 = 0\n",
    "t1 = 200\n",
    "ts = np.linspace(t0, t1, 500)\n",
    "tmax = 500\n",
    "dt0 = 0.0005555558569638981\n",
    "dt1_factor = 5\n",
    "dt1 = dt0 * dt1_factor\n",
    "max_steps = 16**4 * 10\n",
    "use_sensitivity_func1 = False\n",
    "sim_method = 'Dopri5'\n",
    "stepsize_controller = 'adaptive'\n",
    "threshold_steady_state = 0.01\n",
    "\n",
    "# MC parameters\n",
    "total_steps = 10\n",
    "total_samples = 100\n",
    "choose_max = 20\n",
    "mutation_scale = 0.1\n",
    "n_circuits_display = 30\n",
    "N0 = 200\n",
    "y00 = np.array([[N0] * len(species_unbound) + [0] * len(species_bound)]).astype(np.float32)\n",
    "y00 = np.repeat(y00, repeats=total_samples, axis=0)\n",
    "\n",
    "# Reactions\n",
    "energies = np.random.rand(total_samples, len(species_unbound), len(species_unbound))\n",
    "energies = np.interp(energies, (energies.min(), energies.max()), (-25, 0))\n",
    "energies[np.tril_indices(len(species_unbound))] = energies[np.triu_indices(len(species_unbound))]\n",
    "eqconstants = jax.vmap(equilibrium_constant_reparameterisation)(energies, y00[:, idxs_unbound])\n",
    "forward_rates, reverse_rates = eqconstant_to_rates(eqconstants, k_a)\n",
    "forward_rates = np.array(list(map(lambda r: r[np.triu_indices(len(species_unbound))], forward_rates)))\n",
    "forward_rates = forward_rates[0]\n",
    "reverse_rates = np.array(list(map(lambda r: r[np.triu_indices(len(species_unbound))], reverse_rates)))\n",
    "\n",
    "inputs = np.array([\n",
    "    [2, 0, 0, 0, 0, 0, 0, 0, 0],\n",
    "    [1, 1, 0, 0, 0, 0, 0, 0, 0],\n",
    "    [1, 0, 1, 0, 0, 0, 0, 0, 0],\n",
    "    [0, 2, 0, 0, 0, 0, 0, 0, 0],\n",
    "    [0, 1, 1, 0, 0, 0, 0, 0, 0],\n",
    "    [0, 0, 2, 0, 0, 0, 0, 0, 0],\n",
    "], dtype=np.float64)\n",
    "outputs = np.array([\n",
    "    [0, 0, 0, 1, 0, 0, 0, 0, 0],\n",
    "    [0, 0, 0, 0, 1, 0, 0, 0, 0],\n",
    "    [0, 0, 0, 0, 0, 1, 0, 0, 0],\n",
    "    [0, 0, 0, 0, 0, 0, 1, 0, 0],\n",
    "    [0, 0, 0, 0, 0, 0, 0, 1, 0],\n",
    "    [0, 0, 0, 0, 0, 0, 0, 0, 1],\n",
    "], dtype=np.float64)"
   ]
  },
  {
   "cell_type": "markdown",
   "metadata": {},
   "source": [
    "# Initialise simulations"
   ]
  },
  {
   "cell_type": "code",
   "execution_count": 5,
   "metadata": {},
   "outputs": [],
   "source": [
    "sim_func = jax.jit(jax.vmap(\n",
    "    partial(bioreaction_sim_dfx_expanded,\n",
    "            t0=t0, t1=t1, dt0=dt0,\n",
    "            forward_rates=forward_rates,\n",
    "            inputs=inputs,\n",
    "            outputs=outputs,\n",
    "            solver=get_diffrax_solver(\n",
    "                sim_method),\n",
    "            saveat=dfx.SaveAt(\n",
    "                ts=jnp.linspace(t0, t1, 500)),  # int(np.min([500, t1-t0]))))\n",
    "            stepsize_controller=make_stepsize_controller(t0, t1, dt0, dt1,\n",
    "                                                         choice=stepsize_controller)\n",
    "            )))\n",
    "# sol_steady_states = jax.vmap(bioreaction_sim_dfx_expanded)(y00, reverse_rates)\n",
    "# y01 = np.array(sol_steady_states.ys[:, -1])\n",
    "# y01[:, np.array(idxs_signal)] = y01[:, np.array(idxs_signal)] * signal_target\n",
    "# sol_signal = jax.vmap(bioreaction_sim_dfx_expanded)(y01, reverse_rates)"
   ]
  },
  {
   "cell_type": "code",
   "execution_count": 6,
   "metadata": {},
   "outputs": [],
   "source": [
    "# adaptability, sensitivity, precision = jax.vmap(partial(compute_adaptability_full, idx_sig=idxs_signal[0], use_sensitivity_func1=use_sensitivity_func1))(\n",
    "#     sol_steady_states.ys, sol_signal.ys)\n",
    "# sensitivity = np.array(sensitivity)\n",
    "# precision = np.array(precision)"
   ]
  },
  {
   "cell_type": "markdown",
   "metadata": {},
   "source": [
    "# Monte Carlo iterations"
   ]
  },
  {
   "cell_type": "code",
   "execution_count": 7,
   "metadata": {},
   "outputs": [],
   "source": [
    "def choose_next(params, sol, idxs_signal, idxs_output, use_sensitivity_func1: bool, choose_max: int, n_samples_per_parent: int, mutation_scale=0.1):\n",
    "    \"\"\" Choose circuits with highest adaptability \"\"\"\n",
    "\n",
    "    ys0, ys1 = sol\n",
    "    adaptability, sensitivity, precision = compute_adaptability_full(\n",
    "        ys0, ys1, idxs_signal, use_sensitivity_func1)\n",
    "    idxs_next = jnp.argsort(adaptability)[-choose_max:]\n",
    "    # summary_data = {}\n",
    "    # summary_data['adaptability'] = adaptability\n",
    "    return params[idxs_next], adaptability\n",
    "\n",
    "\n",
    "def mutate(parents: jnp.ndarray, n_samples_per_parent, mutation_scale):\n",
    "    # Generate mutated samples from each parent\n",
    "    mutated = jax.tree_util.tree_map(\n",
    "        lambda x: x + mutation_scale * np.random.randn(n_samples_per_parent, *x.shape), parents)\n",
    "    return mutated\n",
    "\n",
    "\n",
    "def simulate(y00, reverse_rates, sim_func, t0, t1, tmax, threshold):\n",
    "    ys0, ts0 = simulate_steady_states(\n",
    "        y0=y00, total_time=tmax, sim_func=sim_func,\n",
    "        t0=t0, t1=t1,\n",
    "        threshold=threshold,\n",
    "        reverse_rates=reverse_rates,\n",
    "    )\n",
    "    y01 = np.array(ys0[:, -1])\n",
    "    y01[:, np.array(idxs_signal)] = y01[:, np.array(\n",
    "        idxs_signal)] * signal_target\n",
    "    ys1, ts1 = simulate_steady_states(\n",
    "        y0=y01, total_time=tmax, sim_func=sim_func,\n",
    "        t0=t0, t1=t1,\n",
    "        threshold=threshold,\n",
    "        reverse_rates=reverse_rates,\n",
    "    )\n",
    "    return ys0, ts0, ys1, ts1"
   ]
  },
  {
   "cell_type": "code",
   "execution_count": 8,
   "metadata": {},
   "outputs": [
    {
     "name": "stdout",
     "output_type": "stream",
     "text": [
      "\n",
      "\n",
      "Starting step 1 out of 10\n",
      "\n",
      "\n"
     ]
    },
    {
     "name": "stderr",
     "output_type": "stream",
     "text": [
      "2024-10-29 14:19:47.197919: W external/tsl/tsl/framework/bfc_allocator.cc:291] Allocator (GPU_0_bfc) ran out of memory trying to allocate 16.00MiB with freed_by_count=0. The caller indicates that this is not a failure, but this may mean that there could be performance gains if more memory were available.\n"
     ]
    },
    {
     "ename": "XlaRuntimeError",
     "evalue": "RESOURCE_EXHAUSTED: Out of memory while trying to allocate 16779832 bytes.",
     "output_type": "error",
     "traceback": [
      "\u001b[0;31m---------------------------------------------------------------------------\u001b[0m",
      "\u001b[0;31mXlaRuntimeError\u001b[0m                           Traceback (most recent call last)",
      "Cell \u001b[0;32mIn[8], line 19\u001b[0m\n\u001b[1;32m     15\u001b[0m \u001b[38;5;28;01mfor\u001b[39;00m step \u001b[38;5;129;01min\u001b[39;00m \u001b[38;5;28mrange\u001b[39m(total_steps):\n\u001b[1;32m     17\u001b[0m     \u001b[38;5;28mprint\u001b[39m(\u001b[38;5;124mf\u001b[39m\u001b[38;5;124m'\u001b[39m\u001b[38;5;130;01m\\n\u001b[39;00m\u001b[38;5;130;01m\\n\u001b[39;00m\u001b[38;5;124mStarting step \u001b[39m\u001b[38;5;132;01m{\u001b[39;00mstep\u001b[38;5;241m+\u001b[39m\u001b[38;5;241m1\u001b[39m\u001b[38;5;132;01m}\u001b[39;00m\u001b[38;5;124m out of \u001b[39m\u001b[38;5;132;01m{\u001b[39;00mtotal_steps\u001b[38;5;132;01m}\u001b[39;00m\u001b[38;5;130;01m\\n\u001b[39;00m\u001b[38;5;130;01m\\n\u001b[39;00m\u001b[38;5;124m'\u001b[39m)\n\u001b[0;32m---> 19\u001b[0m     ys0, ts0, ys1, ts1 \u001b[38;5;241m=\u001b[39m \u001b[43msimulate\u001b[49m\u001b[43m(\u001b[49m\u001b[43my00\u001b[49m\u001b[43m,\u001b[49m\u001b[43m \u001b[49m\u001b[43mgen_y\u001b[49m\u001b[43m,\u001b[49m\u001b[43m \u001b[49m\u001b[43msim_func\u001b[49m\u001b[43m,\u001b[49m\u001b[43m \u001b[49m\u001b[43mt0\u001b[49m\u001b[43m,\u001b[49m\u001b[43m \u001b[49m\u001b[43mt1\u001b[49m\u001b[43m,\u001b[49m\u001b[43m \u001b[49m\u001b[43mtmax\u001b[49m\u001b[43m,\u001b[49m\u001b[43m \u001b[49m\u001b[43mthreshold_steady_state\u001b[49m\u001b[43m)\u001b[49m\n\u001b[1;32m     20\u001b[0m     next_starting, adaptability \u001b[38;5;241m=\u001b[39m choose_next(params\u001b[38;5;241m=\u001b[39mgen_y, sol\u001b[38;5;241m=\u001b[39m(ys0, ys1), idxs_signal\u001b[38;5;241m=\u001b[39midxs_signal, idxs_output\u001b[38;5;241m=\u001b[39midxs_output,\n\u001b[1;32m     21\u001b[0m                                               use_sensitivity_func1\u001b[38;5;241m=\u001b[39muse_sensitivity_func1, choose_max\u001b[38;5;241m=\u001b[39mchoose_max, n_samples_per_parent\u001b[38;5;241m=\u001b[39mn_samples_per_parent)\n\u001b[1;32m     22\u001b[0m     gen_z \u001b[38;5;241m=\u001b[39m mutate(next_starting, n_samples_per_parent, mutation_scale)\n",
      "Cell \u001b[0;32mIn[7], line 21\u001b[0m, in \u001b[0;36msimulate\u001b[0;34m(y00, reverse_rates, sim_func, t0, t1, tmax, threshold)\u001b[0m\n\u001b[1;32m     20\u001b[0m \u001b[38;5;28;01mdef\u001b[39;00m \u001b[38;5;21msimulate\u001b[39m(y00, reverse_rates, sim_func, t0, t1, tmax, threshold):\n\u001b[0;32m---> 21\u001b[0m     ys0, ts0 \u001b[38;5;241m=\u001b[39m \u001b[43msimulate_steady_states\u001b[49m\u001b[43m(\u001b[49m\n\u001b[1;32m     22\u001b[0m \u001b[43m        \u001b[49m\u001b[43my0\u001b[49m\u001b[38;5;241;43m=\u001b[39;49m\u001b[43my00\u001b[49m\u001b[43m,\u001b[49m\u001b[43m \u001b[49m\u001b[43mtotal_time\u001b[49m\u001b[38;5;241;43m=\u001b[39;49m\u001b[43mtmax\u001b[49m\u001b[43m,\u001b[49m\u001b[43m \u001b[49m\u001b[43msim_func\u001b[49m\u001b[38;5;241;43m=\u001b[39;49m\u001b[43msim_func\u001b[49m\u001b[43m,\u001b[49m\n\u001b[1;32m     23\u001b[0m \u001b[43m        \u001b[49m\u001b[43mt0\u001b[49m\u001b[38;5;241;43m=\u001b[39;49m\u001b[43mt0\u001b[49m\u001b[43m,\u001b[49m\u001b[43m \u001b[49m\u001b[43mt1\u001b[49m\u001b[38;5;241;43m=\u001b[39;49m\u001b[43mt1\u001b[49m\u001b[43m,\u001b[49m\n\u001b[1;32m     24\u001b[0m \u001b[43m        \u001b[49m\u001b[43mthreshold\u001b[49m\u001b[38;5;241;43m=\u001b[39;49m\u001b[43mthreshold\u001b[49m\u001b[43m,\u001b[49m\n\u001b[1;32m     25\u001b[0m \u001b[43m        \u001b[49m\u001b[43mreverse_rates\u001b[49m\u001b[38;5;241;43m=\u001b[39;49m\u001b[43mreverse_rates\u001b[49m\u001b[43m,\u001b[49m\n\u001b[1;32m     26\u001b[0m \u001b[43m    \u001b[49m\u001b[43m)\u001b[49m\n\u001b[1;32m     27\u001b[0m     y01 \u001b[38;5;241m=\u001b[39m np\u001b[38;5;241m.\u001b[39marray(ys0[:, \u001b[38;5;241m-\u001b[39m\u001b[38;5;241m1\u001b[39m])\n\u001b[1;32m     28\u001b[0m     y01[:, np\u001b[38;5;241m.\u001b[39marray(idxs_signal)] \u001b[38;5;241m=\u001b[39m y01[:, np\u001b[38;5;241m.\u001b[39marray(\n\u001b[1;32m     29\u001b[0m         idxs_signal)] \u001b[38;5;241m*\u001b[39m signal_target\n",
      "File \u001b[0;32m/workdir/synbio_morpher/utils/modelling/solvers.py:107\u001b[0m, in \u001b[0;36msimulate_steady_states\u001b[0;34m(y0, total_time, sim_func, t0, t1, threshold, disable_logging, **sim_kwargs)\u001b[0m\n\u001b[1;32m    104\u001b[0m \u001b[38;5;28;01melse\u001b[39;00m:\n\u001b[1;32m    105\u001b[0m     y00 \u001b[38;5;241m=\u001b[39m ys[:, \u001b[38;5;241m-\u001b[39m\u001b[38;5;241m1\u001b[39m, :]\n\u001b[0;32m--> 107\u001b[0m ts, ys \u001b[38;5;241m=\u001b[39m \u001b[43msim_func\u001b[49m\u001b[43m(\u001b[49m\u001b[43my00\u001b[49m\u001b[43m,\u001b[49m\u001b[43m \u001b[49m\u001b[38;5;241;43m*\u001b[39;49m\u001b[38;5;241;43m*\u001b[39;49m\u001b[43msim_kwargs\u001b[49m\u001b[43m)\u001b[49m\n\u001b[1;32m    109\u001b[0m \u001b[38;5;28;01mif\u001b[39;00m np\u001b[38;5;241m.\u001b[39msum(np\u001b[38;5;241m.\u001b[39margmax(ts \u001b[38;5;241m>\u001b[39m\u001b[38;5;241m=\u001b[39m np\u001b[38;5;241m.\u001b[39minf)) \u001b[38;5;241m>\u001b[39m \u001b[38;5;241m0\u001b[39m:\n\u001b[1;32m    110\u001b[0m     ys \u001b[38;5;241m=\u001b[39m ys[:, :np\u001b[38;5;241m.\u001b[39margmax(ts \u001b[38;5;241m>\u001b[39m\u001b[38;5;241m=\u001b[39m np\u001b[38;5;241m.\u001b[39minf), :]\n",
      "    \u001b[0;31m[... skipping hidden 3 frame]\u001b[0m\n",
      "File \u001b[0;32m/workdir/synbio_morpher/utils/modelling/deterministic.py:123\u001b[0m, in \u001b[0;36mbioreaction_sim_dfx_expanded\u001b[0;34m(y0, t0, t1, dt0, inputs, outputs, forward_rates, reverse_rates, signal, signal_onehot, solver, saveat, max_steps, stepsize_controller)\u001b[0m\n\u001b[1;32m    114\u001b[0m     dt0 \u001b[38;5;241m=\u001b[39m \u001b[38;5;28;01mNone\u001b[39;00m\n\u001b[1;32m    115\u001b[0m term \u001b[38;5;241m=\u001b[39m dfx\u001b[38;5;241m.\u001b[39mODETerm(\n\u001b[1;32m    116\u001b[0m     partial(bioreaction_sim_expanded,\n\u001b[1;32m    117\u001b[0m             inputs\u001b[38;5;241m=\u001b[39minputs, outputs\u001b[38;5;241m=\u001b[39moutputs,\n\u001b[0;32m   (...)\u001b[0m\n\u001b[1;32m    121\u001b[0m             )\n\u001b[1;32m    122\u001b[0m )\n\u001b[0;32m--> 123\u001b[0m sol \u001b[38;5;241m=\u001b[39m \u001b[43mdfx\u001b[49m\u001b[38;5;241;43m.\u001b[39;49m\u001b[43mdiffeqsolve\u001b[49m\u001b[43m(\u001b[49m\u001b[43mterm\u001b[49m\u001b[43m,\u001b[49m\u001b[43m \u001b[49m\u001b[43msolver\u001b[49m\u001b[43m,\u001b[49m\n\u001b[1;32m    124\u001b[0m \u001b[43m                      \u001b[49m\u001b[43mt0\u001b[49m\u001b[38;5;241;43m=\u001b[39;49m\u001b[43mt0\u001b[49m\u001b[43m,\u001b[49m\u001b[43m \u001b[49m\u001b[43mt1\u001b[49m\u001b[38;5;241;43m=\u001b[39;49m\u001b[43mt1\u001b[49m\u001b[43m,\u001b[49m\u001b[43m \u001b[49m\u001b[43mdt0\u001b[49m\u001b[38;5;241;43m=\u001b[39;49m\u001b[43mdt0\u001b[49m\u001b[43m,\u001b[49m\n\u001b[1;32m    125\u001b[0m \u001b[43m                      \u001b[49m\u001b[43my0\u001b[49m\u001b[38;5;241;43m=\u001b[39;49m\u001b[43my0\u001b[49m\u001b[38;5;241;43m.\u001b[39;49m\u001b[43msqueeze\u001b[49m\u001b[43m(\u001b[49m\u001b[43m)\u001b[49m\u001b[43m,\u001b[49m\n\u001b[1;32m    126\u001b[0m \u001b[43m                      \u001b[49m\u001b[43msaveat\u001b[49m\u001b[38;5;241;43m=\u001b[39;49m\u001b[43msaveat\u001b[49m\u001b[43m,\u001b[49m\u001b[43m \u001b[49m\u001b[43mmax_steps\u001b[49m\u001b[38;5;241;43m=\u001b[39;49m\u001b[43mmax_steps\u001b[49m\u001b[43m,\u001b[49m\n\u001b[1;32m    127\u001b[0m \u001b[43m                      \u001b[49m\u001b[43mstepsize_controller\u001b[49m\u001b[38;5;241;43m=\u001b[39;49m\u001b[43mstepsize_controller\u001b[49m\u001b[43m)\u001b[49m\n\u001b[1;32m    128\u001b[0m \u001b[38;5;28;01mreturn\u001b[39;00m sol\u001b[38;5;241m.\u001b[39mts, sol\u001b[38;5;241m.\u001b[39mys\n",
      "    \u001b[0;31m[... skipping hidden 22 frame]\u001b[0m\n",
      "File \u001b[0;32m/usr/local/lib/python3.10/dist-packages/jax/_src/compiler.py:233\u001b[0m, in \u001b[0;36mbackend_compile\u001b[0;34m(backend, module, options, host_callbacks)\u001b[0m\n\u001b[1;32m    230\u001b[0m \u001b[38;5;66;03m# we use a separate function call to ensure that XLA compilation appears\u001b[39;00m\n\u001b[1;32m    231\u001b[0m \u001b[38;5;66;03m# separately in Python profiling results\u001b[39;00m\n\u001b[1;32m    232\u001b[0m \u001b[38;5;28;01mif\u001b[39;00m host_callbacks:\n\u001b[0;32m--> 233\u001b[0m   \u001b[38;5;28;01mreturn\u001b[39;00m \u001b[43mbackend\u001b[49m\u001b[38;5;241;43m.\u001b[39;49m\u001b[43mcompile\u001b[49m\u001b[43m(\u001b[49m\u001b[43mbuilt_c\u001b[49m\u001b[43m,\u001b[49m\u001b[43m \u001b[49m\u001b[43mcompile_options\u001b[49m\u001b[38;5;241;43m=\u001b[39;49m\u001b[43moptions\u001b[49m\u001b[43m,\u001b[49m\n\u001b[1;32m    234\u001b[0m \u001b[43m                         \u001b[49m\u001b[43mhost_callbacks\u001b[49m\u001b[38;5;241;43m=\u001b[39;49m\u001b[43mhost_callbacks\u001b[49m\u001b[43m)\u001b[49m\n\u001b[1;32m    235\u001b[0m \u001b[38;5;66;03m# Some backends don't have `host_callbacks` option yet\u001b[39;00m\n\u001b[1;32m    236\u001b[0m \u001b[38;5;66;03m# TODO(sharadmv): remove this fallback when all backends allow `compile`\u001b[39;00m\n\u001b[1;32m    237\u001b[0m \u001b[38;5;66;03m# to take in `host_callbacks`\u001b[39;00m\n\u001b[1;32m    238\u001b[0m \u001b[38;5;28;01mreturn\u001b[39;00m backend\u001b[38;5;241m.\u001b[39mcompile(built_c, compile_options\u001b[38;5;241m=\u001b[39moptions)\n",
      "\u001b[0;31mXlaRuntimeError\u001b[0m: RESOURCE_EXHAUSTED: Out of memory while trying to allocate 16779832 bytes."
     ]
    }
   ],
   "source": [
    "gen_y = reverse_rates\n",
    "n_samples_per_parent = total_samples//choose_max\n",
    "params_all = np.zeros((total_steps, total_samples, *reverse_rates.shape))\n",
    "adaptability_all = np.zeros((total_steps, total_samples))\n",
    "\n",
    "sim_func = jax.vmap(partial(bioreaction_sim_dfx_expanded,\n",
    "                            t0=t0, t1=t1, dt0=dt0,\n",
    "                            forward_rates=forward_rates,\n",
    "                            inputs=inputs,\n",
    "                            outputs=outputs,\n",
    "                            solver=get_diffrax_solver(sim_method),\n",
    "                            saveat=dfx.SaveAt(ts=jnp.linspace(t0, t1, 500)),\n",
    "                            stepsize_controller=make_stepsize_controller(t0, t1, dt0, dt1, choice=stepsize_controller)))\n",
    "\n",
    "for step in range(total_steps):\n",
    "\n",
    "    print(f'\\n\\nStarting step {step+1} out of {total_steps}\\n\\n')\n",
    "\n",
    "    ys0, ts0, ys1, ts1 = simulate(y00, gen_y, sim_func, t0, t1, tmax, threshold_steady_state)\n",
    "    next_starting, adaptability = choose_next(params=gen_y, sol=(ys0, ys1), idxs_signal=idxs_signal, idxs_output=idxs_output,\n",
    "                                              use_sensitivity_func1=use_sensitivity_func1, choose_max=choose_max, n_samples_per_parent=n_samples_per_parent)\n",
    "    gen_z = mutate(next_starting, n_samples_per_parent, mutation_scale)\n",
    "    params_all[step] = gen_z\n",
    "    adaptability_all[step] = adaptability"
   ]
  },
  {
   "cell_type": "code",
   "execution_count": null,
   "metadata": {},
   "outputs": [
    {
     "name": "stderr",
     "output_type": "stream",
     "text": [
      "/workdir/synbio_morpher/utils/results/analytics/timeseries.py:116: RuntimeWarning: divide by zero encountered in divide\n",
      "  numer, signal_diff / signal_0)),  # type: ignore\n",
      "/workdir/synbio_morpher/utils/results/analytics/timeseries.py:95: RuntimeWarning: divide by zero encountered in divide\n",
      "  numer = jnp.where(signal_0 != 0, signal_diff / signal_0, 1)\n",
      "/workdir/synbio_morpher/utils/results/analytics/timeseries.py:97: RuntimeWarning: divide by zero encountered in divide\n",
      "  output_diff / starting_states, 1)\n"
     ]
    }
   ],
   "source": [
    "\n",
    "next_starting, adaptability = choose_next(params=gen_y, sol=(ys0, ys1), idxs_signal=idxs_signal,\n",
    "                                            use_sensitivity_func1=use_sensitivity_func1, choose_max=choose_max, n_samples_per_parent=n_samples_per_parent)"
   ]
  },
  {
   "cell_type": "code",
   "execution_count": null,
   "metadata": {},
   "outputs": [],
   "source": []
  }
 ],
 "metadata": {
  "kernelspec": {
   "display_name": "Python 3",
   "language": "python",
   "name": "python3"
  },
  "language_info": {
   "codemirror_mode": {
    "name": "ipython",
    "version": 3
   },
   "file_extension": ".py",
   "mimetype": "text/x-python",
   "name": "python",
   "nbconvert_exporter": "python",
   "pygments_lexer": "ipython3",
   "version": "3.10.12"
  }
 },
 "nbformat": 4,
 "nbformat_minor": 2
}
