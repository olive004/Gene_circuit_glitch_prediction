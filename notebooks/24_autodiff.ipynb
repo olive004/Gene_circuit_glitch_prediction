{
 "cells": [
  {
   "cell_type": "code",
   "execution_count": 1,
   "metadata": {},
   "outputs": [],
   "source": [
    "%load_ext autoreload\n",
    "%autoreload 2"
   ]
  },
  {
   "cell_type": "markdown",
   "metadata": {},
   "source": [
    "# Automatic differentiation of RNA circuit dynamics"
   ]
  },
  {
   "cell_type": "markdown",
   "metadata": {},
   "source": [
    "# Imports"
   ]
  },
  {
   "cell_type": "code",
   "execution_count": 2,
   "metadata": {},
   "outputs": [
    {
     "data": {
      "text/plain": [
       "[CpuDevice(id=0)]"
      ]
     },
     "execution_count": 2,
     "metadata": {},
     "output_type": "execute_result"
    }
   ],
   "source": [
    "import numpy as np\n",
    "import jax\n",
    "import jax.numpy as jnp\n",
    "from jax import random\n",
    "import optax\n",
    "import pandas as pd\n",
    "import seaborn as sns\n",
    "import matplotlib.pyplot as plt\n",
    "import diffrax as dfx\n",
    "from typing import List\n",
    "\n",
    "from functools import partial\n",
    "import os\n",
    "import sys\n",
    "\n",
    "from bioreaction.simulation.simfuncs.basic_de import one_step_de_sim_expanded\n",
    "\n",
    "jax.config.update('jax_platform_name', 'cpu')\n",
    "\n",
    "if __package__ is None:\n",
    "\n",
    "    module_path = os.path.abspath(os.path.join('..'))\n",
    "    sys.path.append(module_path)\n",
    "\n",
    "    __package__ = os.path.basename(module_path)\n",
    "\n",
    "\n",
    "os.environ['EQX_ON_ERROR']='breakpoint'\n",
    "os.environ['JAX_DISABLE_JIT']='1'\n",
    "\n",
    "np.random.seed(0)\n",
    "jax.devices()"
   ]
  },
  {
   "cell_type": "code",
   "execution_count": 3,
   "metadata": {},
   "outputs": [],
   "source": [
    "from synbio_morpher.srv.parameter_prediction.simulator import make_piecewise_stepcontrol\n",
    "from synbio_morpher.utils.misc.type_handling import flatten_listlike\n",
    "from synbio_morpher.utils.modelling.physical import eqconstant_to_rates, equilibrium_constant_reparameterisation\n",
    "from synbio_morpher.utils.modelling.deterministic import bioreaction_sim_dfx_expanded\n",
    "from synbio_morpher.utils.modelling.solvers import get_diffrax_solver, make_stepsize_controller, simulate_steady_states\n",
    "from synbio_morpher.utils.results.analytics.timeseries import calculate_adaptation, compute_peaks, compute_adaptability_full\n",
    "from bioreaction.simulation.simfuncs.basic_de import bioreaction_sim, bioreaction_sim_expanded, one_step_de_sim_expanded\n"
   ]
  },
  {
   "cell_type": "markdown",
   "metadata": {},
   "source": [
    "# Set up test environment"
   ]
  },
  {
   "cell_type": "code",
   "execution_count": 4,
   "metadata": {},
   "outputs": [],
   "source": [
    "def make_species_bound(species_unbound):\n",
    "    return sorted(set(flatten_listlike([['-'.join(sorted([x, y])) for x in species_unbound] for y in species_unbound])))\n",
    "\n",
    "\n",
    "# RNA circuit settings\n",
    "species_unbound = ['RNA_0', 'RNA_1', 'RNA_2']\n",
    "species_bound = make_species_bound(species_unbound)\n",
    "species = species_unbound + species_bound\n",
    "species_signal = ['RNA_0']\n",
    "species_output = ['RNA_2']\n",
    "# species_output = ['RNA_1', 'RNA_2']\n",
    "species_nonsignal = [s for s in species_unbound if s not in species_signal]\n",
    "idxs_signal = np.array([species.index(s) for s in species_signal])\n",
    "idxs_output = np.array([species.index(s) for s in species_output])\n",
    "idxs_unbound = np.array([species.index(s) for s in species_unbound])\n",
    "idxs_bound = np.array([species.index(s) for s in species_bound])\n",
    "signal_onehot = np.array([1 if s in idxs_signal else 0 for s in np.arange(len(species))])\n",
    "\n",
    "# Circuit parameters\n",
    "n_circuits = 5000\n",
    "n_circuits_display = 30\n",
    "key = random.PRNGKey(0)\n",
    "N0 = 200\n",
    "y00 = np.array([[N0] * len(species_unbound) + [0] * len(species_bound)]).astype(np.float32)\n",
    "y00 = np.repeat(y00, repeats=n_circuits, axis=0)\n",
    "\n",
    "# Dynamic Simulation parameters\n",
    "k_a = 0.00150958097\n",
    "signal_target = 2\n",
    "t0 = 0\n",
    "t1 = 100\n",
    "ts = np.linspace(t0, t1, 500)\n",
    "tmax = 1000\n",
    "dt0 = 0.005555558569638981\n",
    "dt1_factor = 5\n",
    "dt1 = dt0 * dt1_factor\n",
    "max_steps = 16**4 * 10\n",
    "use_sensitivity_func1 = False\n",
    "sim_method = 'Dopri8'\n",
    "stepsize_controller = 'adaptive'\n",
    "threshold_steady_state = 0.01\n",
    "batch_size = 100\n",
    "n_steps = 1000                   # Number of optimization steps\n",
    "\n",
    "# Reactions\n",
    "energies = random.normal(key, (n_circuits, len(np.tril_indices(len(species_unbound))[0])))\n",
    "energies = np.interp(energies, (energies.min(), energies.max()), (-25, 0))\n",
    "eqconstants = jax.vmap(partial(equilibrium_constant_reparameterisation, initial=N0))(energies)\n",
    "forward_rates, reverse_rates = eqconstant_to_rates(eqconstants, k_a)\n",
    "forward_rates = forward_rates[0]\n",
    "\n",
    "inputs = np.array([\n",
    "    [2, 0, 0, 0, 0, 0, 0, 0, 0],\n",
    "    [1, 1, 0, 0, 0, 0, 0, 0, 0],\n",
    "    [1, 0, 1, 0, 0, 0, 0, 0, 0],\n",
    "    [0, 2, 0, 0, 0, 0, 0, 0, 0],\n",
    "    [0, 1, 1, 0, 0, 0, 0, 0, 0],\n",
    "    [0, 0, 2, 0, 0, 0, 0, 0, 0],\n",
    "], dtype=np.float64)\n",
    "outputs = np.array([\n",
    "    [0, 0, 0, 1, 0, 0, 0, 0, 0],\n",
    "    [0, 0, 0, 0, 1, 0, 0, 0, 0],\n",
    "    [0, 0, 0, 0, 0, 1, 0, 0, 0],\n",
    "    [0, 0, 0, 0, 0, 0, 1, 0, 0],\n",
    "    [0, 0, 0, 0, 0, 0, 0, 1, 0],\n",
    "    [0, 0, 0, 0, 0, 0, 0, 0, 1],\n",
    "], dtype=np.float64)"
   ]
  },
  {
   "cell_type": "markdown",
   "metadata": {},
   "source": [
    "# ODE functions"
   ]
  },
  {
   "cell_type": "code",
   "execution_count": 5,
   "metadata": {},
   "outputs": [],
   "source": [
    "sim_func = partial(bioreaction_sim_dfx_expanded,\n",
    "                   t0=t0, t1=t1, dt0=dt0,\n",
    "                   forward_rates=forward_rates,\n",
    "                   inputs=inputs,\n",
    "                   outputs=outputs,\n",
    "                   solver=get_diffrax_solver(sim_method),\n",
    "                   saveat=dfx.SaveAt(ts=jnp.linspace(\n",
    "                       t0, t1, 500), dense=True),\n",
    "                   stepsize_controller=make_stepsize_controller(t0, t1, dt0, dt1, choice=stepsize_controller))"
   ]
  },
  {
   "cell_type": "code",
   "execution_count": null,
   "metadata": {},
   "outputs": [],
   "source": [
    "def obj_s(deriv, y, y0):\n",
    "    # return - jnp.divide(jnp.power(y - y0, 2), y0)\n",
    "    return deriv * jnp.power(jnp.divide(y - y0, y0), 2)\n",
    "\n",
    "\n",
    "def obj_p(y, y0):\n",
    "    # return jnp.divide(jnp.power(y - y0, 2), y0)\n",
    "    return jnp.power(jnp.divide(y - y0, y0), 2)\n",
    "\n",
    "\n",
    "def objective_sp(s, p, ttot, idxs_output):\n",
    "    s_objective = (s ** 2)[..., idxs_output].sum() / ttot\n",
    "    p_objective = - (p ** 2)[..., idxs_output].sum() / ttot\n",
    "    return s_objective + p_objective\n",
    "\n",
    "\n",
    "def simulate_signal(y0, reverse_rates):\n",
    "    sol = partial(sim_func, return_as_sol=True)(\n",
    "        y0=y0, reverse_rates=reverse_rates)\n",
    "    ddy_dt = jax.vmap(sol.derivative)(sol.ts)\n",
    "    y_sens = obj_s(ddy_dt, sol.ys, y0)\n",
    "    y_prec = obj_p(sol.ys, y0)\n",
    "    return sol.ts, (sol.ys, ddy_dt, y_sens, y_prec)\n",
    "\n",
    "\n",
    "def simulate(y0, params):\n",
    "    \"\"\" (y11, ddys1, y_sens, y_prec) = ys1 \"\"\"\n",
    "    ts0, ys0 = jax.vmap(sim_func)(y0=y0, reverse_rates=params)\n",
    "    y01 = np.array(ys0[:, -1])\n",
    "    y01[:, idxs_signal] = signal_target * y01[:, idxs_signal]\n",
    "    ts1, ys1 = jax.vmap(simulate_signal)(y0=y01, reverse_rates=params)\n",
    "    # (y11, ddys1, y_sens, y_prec) = ys1\n",
    "    return (ts0, ys0), (ts1, ys1)\n",
    "\n",
    "\n",
    "y0 = y00[:10]\n",
    "params = reverse_rates[:10]\n",
    "\n",
    "(ts0, ys0), (ts1, ys1) = simulate(y0, params)\n",
    "(y11, ddys1, y_sens, y_prec) = ys1"
   ]
  },
  {
   "cell_type": "code",
   "execution_count": null,
   "metadata": {},
   "outputs": [
    {
     "name": "stdout",
     "output_type": "stream",
     "text": [
      "-0.44052956 21.387493\n"
     ]
    }
   ],
   "source": [
    "n_plots=6\n",
    "plt.figure(figsize=(5*n_plots, 5))\n",
    "titles = ['y', 'ddy', 'y_sens', 'y_prec']\n",
    "i_circ = 5\n",
    "for i, title in enumerate(titles):\n",
    "    ax = plt.subplot(1, n_plots, i+1)\n",
    "    plt.plot(ts, ys1[i][i_circ, :, idxs_output].T)\n",
    "    plt.title(title)\n",
    "    plt.legend(species_output)\n",
    "ax = plt.subplot(1, n_plots, 5)\n",
    "plt.plot(ts, (ys1[2][i_circ, :, idxs_output].T * ys1[3][i_circ, :, idxs_output].T))\n",
    "plt.title('y_sens * y_prec')\n",
    "plt.legend(species_output)\n",
    "\n",
    "ax = plt.subplot(1, n_plots, 6)\n",
    "plt.plot(ts, ((ys1[1] ** 2)[i_circ, :, idxs_output].T * ys1[3][i_circ, :, idxs_output].T))\n",
    "plt.legend(species_output)\n",
    "plt.title('ddy^2 * y_prec')\n",
    "\n",
    "print(y_sens.sum()/ t1, y_prec.sum()/t1)"
   ]
  },
  {
   "cell_type": "code",
   "execution_count": null,
   "metadata": {},
   "outputs": [
    {
     "data": {
      "text/plain": [
       "(10, 500)"
      ]
     },
     "execution_count": 35,
     "metadata": {},
     "output_type": "execute_result"
    }
   ],
   "source": [
    "ts1.shape"
   ]
  },
  {
   "cell_type": "code",
   "execution_count": null,
   "metadata": {},
   "outputs": [
    {
     "ename": "NameError",
     "evalue": "name 'jnp' is not defined",
     "output_type": "error",
     "traceback": [
      "\u001b[0;31m---------------------------------------------------------------------------\u001b[0m",
      "\u001b[0;31mNameError\u001b[0m                                 Traceback (most recent call last)",
      "Cell \u001b[0;32mIn[1], line 1\u001b[0m\n\u001b[0;32m----> 1\u001b[0m ts \u001b[38;5;241m=\u001b[39m \u001b[43mjnp\u001b[49m\u001b[38;5;241m.\u001b[39mconcatenate([ts0, ts1 \u001b[38;5;241m+\u001b[39m ts0\u001b[38;5;241m.\u001b[39mmax()], axis\u001b[38;5;241m=\u001b[39m\u001b[38;5;241m1\u001b[39m)[\u001b[38;5;241m0\u001b[39m]\n\u001b[1;32m      2\u001b[0m ys \u001b[38;5;241m=\u001b[39m jnp\u001b[38;5;241m.\u001b[39mconcatenate([ys0, ys1[\u001b[38;5;241m0\u001b[39m]], axis\u001b[38;5;241m=\u001b[39m\u001b[38;5;241m1\u001b[39m)\n\u001b[1;32m      3\u001b[0m loss \u001b[38;5;241m=\u001b[39m jax\u001b[38;5;241m.\u001b[39mvmap(partial(objective_sp,\n\u001b[1;32m      4\u001b[0m                         ttot\u001b[38;5;241m=\u001b[39mt1\u001b[38;5;241m-\u001b[39mt0, idxs_output\u001b[38;5;241m=\u001b[39midxs_output))(y_sens, y_prec)\n",
      "\u001b[0;31mNameError\u001b[0m: name 'jnp' is not defined"
     ]
    }
   ],
   "source": [
    "ts = jnp.concatenate([ts0, ts1 + ts0.max()], axis=1)[0]\n",
    "ys = jnp.concatenate([ys0, ys1[0]], axis=1)\n",
    "loss = jax.vmap(partial(objective_sp,\n",
    "                        ttot=t1-t0, idxs_output=idxs_output))(y_sens, y_prec)\n",
    "\n",
    "nr = int(np.ceil(np.sqrt(len(params))))\n",
    "nc = int(np.ceil(np.sqrt(len(params))))\n",
    "\n",
    "plt.figure(figsize=(5*nc, 5*nr))\n",
    "for i in range(len(params)):\n",
    "    plt.subplot(nr, nc, i+1)\n",
    "    plt.plot(ts, ys[i])\n",
    "    \n",
    "    plt.title(f'Circuit {i}: loss = {loss[i]}')"
   ]
  },
  {
   "cell_type": "code",
   "execution_count": null,
   "metadata": {},
   "outputs": [],
   "source": []
  },
  {
   "cell_type": "code",
   "execution_count": null,
   "metadata": {},
   "outputs": [],
   "source": [
    "# Define the ODE function\n",
    "def ode_func(t, y, params):\n",
    "    return params.sum(axis=-1) - y  # (y * params).sum(axis=-1) - y\n",
    "\n",
    "\n",
    "def smooth_max(a, b, epsilon=1e-2):\n",
    "    \"\"\" Smooth approximation for maximum \"\"\"\n",
    "    return epsilon * jnp.log(jnp.exp(a / epsilon) + jnp.exp(b / epsilon))\n",
    "\n",
    "\n",
    "def smooth_max2(a, b):\n",
    "    \"\"\" Smooth maximum approximation using softplus\"\"\"\n",
    "    return jnp.log1p(jnp.exp(a - b)) + b  # Softplus-based approximation\n",
    "\n",
    "\n",
    "def max_value_ode(t, y, args):\n",
    "    \"\"\" `args` is a tuple (params, max_val) \"\"\"\n",
    "    params, epsilon = args\n",
    "    max_val = y[1]\n",
    "    dy_dt = ode_func(t, y[0], params)\n",
    "    # max_val = jnp.max(jnp.vstack([max_val, y[0]]), axis=0)\n",
    "    max_val = smooth_max(max_val, y[0], epsilon)\n",
    "    # return dy_dt, jnp.sin(y[0])\n",
    "    return dy_dt, max_val\n",
    "\n",
    "\n",
    "def ode_sp(t, y, args):\n",
    "    params, y0 = args\n",
    "    # y_t, y_sens, y_prec = y\n",
    "    y_t = y\n",
    "    dy_dt = sim_func(t, y_t, args, reverse_rates=params)\n",
    "    y_sens = obj_s(dy_dt, y_t, y0)\n",
    "    y_prec = obj_p(y_t, y0)\n",
    "    return dy_dt #, y_sens, y_prec\n",
    "\n",
    "\n",
    "# Modified function to solve the ODE and track the maximum value with params\n",
    "def solve_ode_and_track_max(y0, params, t0, t1, dt0, dt1, stepsize_controller, max_steps=1000, idx_output=-1):\n",
    "\n",
    "    # Solve the ODE with an auxiliary variable to track the max\n",
    "    solution = dfx.diffeqsolve(\n",
    "        dfx.ODETerm(ode_sp),\n",
    "        solver=get_diffrax_solver(sim_method),\n",
    "        t0=t0,\n",
    "        t1=t1,\n",
    "        dt0=dt0,\n",
    "        y0=y0,\n",
    "        # y0=(y0, y0, y0),\n",
    "        args=(params, y0),  # Pass params and initial max as args\n",
    "        saveat=dfx.SaveAt(ts=jnp.linspace(t0, t1, max_steps)),\n",
    "        stepsize_controller=make_stepsize_controller(t0, t1, dt0, dt1,\n",
    "                                                     choice=stepsize_controller)\n",
    "        # adjoint=dfx.BacksolveAdjoint()  # This enables differentiation\n",
    "    )\n",
    "\n",
    "    y_sens, y_prec = solution.ys[1][-2:]  # Get the max value reached\n",
    "    return solution, y_sens[idx_output], y_prec[idx_output]\n",
    "\n",
    "\n",
    "def solve_naive(y0, params, t0, t1, dt0, max_steps=10000, idx_output=-1):\n",
    "\n",
    "    y, y_sens, y_prec = y0, y0, y0\n",
    "    # , np.zeros((max_steps, len(y0))), np.zeros((max_steps, len(y0)))\n",
    "    ys, ys_sens, ys_prec = np.zeros((3, max_steps, len(y0)))\n",
    "    for i_t, tstep in enumerate(np.linspace(t0, t1, max_steps)):\n",
    "        dy_dt, y_sens, y_prec = ode_sp(\n",
    "            tstep, (y, y_sens, y_prec), (params, y0))\n",
    "        y = y + dy_dt * dt0\n",
    "        ys[i_t] = y\n",
    "        ys_sens[i_t] = y_sens\n",
    "        ys_prec[i_t] = y_prec\n",
    "    return ys, ys_sens, ys_prec"
   ]
  },
  {
   "cell_type": "markdown",
   "metadata": {},
   "source": [
    "# Optimisation functions"
   ]
  },
  {
   "cell_type": "code",
   "execution_count": null,
   "metadata": {},
   "outputs": [],
   "source": [
    "# @jax.jit\n",
    "def loss_fn(params, y0, t0, t1, dt0, dt1, stepsize_controller, ):\n",
    "    \"\"\" Define a loss function to optimize params \"\"\"\n",
    "    _, y_sens, y_prec = solve_ode_and_track_max(\n",
    "        y0, params, t0, t1, dt0, dt1, stepsize_controller, )\n",
    "    return (y_sens + y_prec)\n",
    "\n",
    "\n",
    "# @jax.jit\n",
    "def batch_loop(params_b, y0b, t0, t1, dt0, dt1, stepsize_controller, optimiser, opt_state):\n",
    "\n",
    "    loss_b, grads_b = jax.value_and_grad(\n",
    "        jax.vmap(partial(loss_fn, t0=t0, t1=t1, dt0=dt0, dt1=dt1, stepsize_controller=stepsize_controller)))(params_b, y0b)\n",
    "    updates, opt_state = optimiser.update(grads_b, opt_state)\n",
    "    params_b = optax.apply_updates(params_b, updates)\n",
    "\n",
    "    return loss_b, grads_b, params_b\n",
    "\n",
    "\n",
    "# @jax.jit\n",
    "def optimise_step(params, opt_state, y0, t0, t1, dt0, dt1, stepsize_controller, optimiser, batch_size):\n",
    "    def extend_batch(xs, xsb):\n",
    "        if xs is None:\n",
    "            xs = xsb\n",
    "        else:\n",
    "            xs = jnp.concatenate([xs, xsb])\n",
    "        return xs\n",
    "\n",
    "    loss, grads = (None, None)\n",
    "    for batch_step in range(0, len(params), batch_size):\n",
    "        print(f\"Batch step: {batch_step}/{len(params)}\")\n",
    "        i0, i1 = batch_step, batch_step + batch_size\n",
    "        params_b, y0b = (params[i0:i1], y0[i0:i1])\n",
    "\n",
    "        loss_b, grads_b, params_b = batch_loop(\n",
    "            params_b, y0b, t0, t1, dt0, dt1, stepsize_controller, optimiser, opt_state)\n",
    "\n",
    "        params = jax.ops.index_update(params, jax.ops.index[i0:i1], params_b)\n",
    "        loss = extend_batch(loss, loss_b)\n",
    "        grads = extend_batch(grads, grads_b)\n",
    "    return params, opt_state, loss, grads"
   ]
  },
  {
   "cell_type": "code",
   "execution_count": 15,
   "metadata": {},
   "outputs": [],
   "source": [
    "if False:\n",
    "    params = reverse_rates\n",
    "\n",
    "    ys, ys_sens, ys_prec = partial(solve_naive, t0=t0, t1=t1, dt0=dt0)(y00[0], params[0])\n",
    "\n",
    "    fig = plt.figure(figsize=(8*2, 6))\n",
    "    ax = plt.subplot(1,2,1)\n",
    "    plt.plot(np.linspace(t0, t1, 10000), ys)\n",
    "\n",
    "    ax = plt.subplot(1,2,2)\n",
    "    plt.plot(np.linspace(t0, t1, 10000), ys_sens)\n",
    "    plt.plot(np.linspace(t0, t1, 10000), ys_prec)\n"
   ]
  },
  {
   "cell_type": "code",
   "execution_count": 16,
   "metadata": {},
   "outputs": [
    {
     "name": "stdout",
     "output_type": "stream",
     "text": [
      "Step 0\n"
     ]
    },
    {
     "ename": "EquinoxRuntimeError",
     "evalue": "Above is the stack outside of JIT. Below is the stack inside of JIT:\n  File \"/usr/local/lib/python3.10/dist-packages/diffrax/_integrate.py\", line 1423, in diffeqsolve\n    sol = result.error_if(sol, jnp.invert(is_okay(result)))\nequinox.EquinoxRuntimeError: The maximum number of solver steps was reached. Try increasing `max_steps`.\n\n-------------------\n\nAn error occurred during the runtime of your JAX program.\n\n1) Setting the environment variable `EQX_ON_ERROR=breakpoint` is usually the most useful\nway to debug such errors. This can be interacted with using most of the usual commands\nfor the Python debugger: `u` and `d` to move up and down frames, the name of a variable\nto print its value, etc.\n\n2) You may also like to try setting `JAX_DISABLE_JIT=1`. This will mean that you can\n(mostly) inspect the state of your program as if it was normal Python.\n\n3) See `https://docs.kidger.site/equinox/api/debug/` for more suggestions.\n",
     "output_type": "error",
     "traceback": [
      "\u001b[0;31m---------------------------------------------------------------------------\u001b[0m",
      "\u001b[0;31mEquinoxRuntimeError\u001b[0m                       Traceback (most recent call last)",
      "Cell \u001b[0;32mIn[16], line 12\u001b[0m\n\u001b[1;32m     10\u001b[0m \u001b[38;5;28;01mfor\u001b[39;00m i \u001b[38;5;129;01min\u001b[39;00m \u001b[38;5;28mrange\u001b[39m(n_steps):\n\u001b[1;32m     11\u001b[0m     \u001b[38;5;28mprint\u001b[39m(\u001b[38;5;124mf\u001b[39m\u001b[38;5;124m'\u001b[39m\u001b[38;5;124mStep \u001b[39m\u001b[38;5;132;01m{\u001b[39;00mi\u001b[38;5;132;01m}\u001b[39;00m\u001b[38;5;124m'\u001b[39m)\n\u001b[0;32m---> 12\u001b[0m     params, opt_state, current_loss, current_grads \u001b[38;5;241m=\u001b[39m \u001b[43moptimise_step\u001b[49m\u001b[43m(\u001b[49m\n\u001b[1;32m     13\u001b[0m \u001b[43m        \u001b[49m\u001b[43mparams\u001b[49m\u001b[43m,\u001b[49m\u001b[43m \u001b[49m\u001b[43mopt_state\u001b[49m\u001b[43m,\u001b[49m\u001b[43m \u001b[49m\u001b[43my00\u001b[49m\u001b[43m,\u001b[49m\u001b[43m \u001b[49m\u001b[43mt0\u001b[49m\u001b[43m,\u001b[49m\u001b[43m \u001b[49m\u001b[43mt1\u001b[49m\u001b[43m,\u001b[49m\u001b[43m \u001b[49m\u001b[43mdt0\u001b[49m\u001b[43m,\u001b[49m\u001b[43m \u001b[49m\u001b[43mdt1\u001b[49m\u001b[43m,\u001b[49m\u001b[43m \u001b[49m\u001b[43mstepsize_controller\u001b[49m\u001b[43m,\u001b[49m\u001b[43m \u001b[49m\u001b[43moptimiser\u001b[49m\u001b[43m,\u001b[49m\u001b[43m \u001b[49m\u001b[43mbatch_size\u001b[49m\u001b[43m)\u001b[49m\n\u001b[1;32m     14\u001b[0m     \u001b[38;5;28;01mif\u001b[39;00m i \u001b[38;5;241m%\u001b[39m \u001b[38;5;241m100\u001b[39m \u001b[38;5;241m==\u001b[39m \u001b[38;5;241m0\u001b[39m:\n\u001b[1;32m     15\u001b[0m         \u001b[38;5;28mprint\u001b[39m(\u001b[38;5;124mf\u001b[39m\u001b[38;5;124m\"\u001b[39m\u001b[38;5;124mStep \u001b[39m\u001b[38;5;132;01m{\u001b[39;00mi\u001b[38;5;132;01m}\u001b[39;00m\u001b[38;5;124m, Loss: \u001b[39m\u001b[38;5;132;01m{\u001b[39;00mcurrent_loss\u001b[38;5;132;01m}\u001b[39;00m\u001b[38;5;124m, Params: \u001b[39m\u001b[38;5;132;01m{\u001b[39;00mparams\u001b[38;5;132;01m}\u001b[39;00m\u001b[38;5;124m\"\u001b[39m)\n",
      "Cell \u001b[0;32mIn[14], line 119\u001b[0m, in \u001b[0;36moptimise_step\u001b[0;34m(params, opt_state, y0, t0, t1, dt0, dt1, stepsize_controller, optimiser, batch_size)\u001b[0m\n\u001b[1;32m    116\u001b[0m i0, i1 \u001b[38;5;241m=\u001b[39m batch_step, batch_step \u001b[38;5;241m+\u001b[39m batch_size\n\u001b[1;32m    117\u001b[0m params_b, y0b \u001b[38;5;241m=\u001b[39m (params[i0:i1], y0[i0:i1])\n\u001b[0;32m--> 119\u001b[0m loss_b, grads_b, params_b \u001b[38;5;241m=\u001b[39m \u001b[43mbatch_loop\u001b[49m\u001b[43m(\u001b[49m\n\u001b[1;32m    120\u001b[0m \u001b[43m    \u001b[49m\u001b[43mparams_b\u001b[49m\u001b[43m,\u001b[49m\u001b[43m \u001b[49m\u001b[43my0b\u001b[49m\u001b[43m,\u001b[49m\u001b[43m \u001b[49m\u001b[43mt0\u001b[49m\u001b[43m,\u001b[49m\u001b[43m \u001b[49m\u001b[43mt1\u001b[49m\u001b[43m,\u001b[49m\u001b[43m \u001b[49m\u001b[43mdt0\u001b[49m\u001b[43m,\u001b[49m\u001b[43m \u001b[49m\u001b[43mdt1\u001b[49m\u001b[43m,\u001b[49m\u001b[43m \u001b[49m\u001b[43mstepsize_controller\u001b[49m\u001b[43m,\u001b[49m\u001b[43m \u001b[49m\u001b[43moptimiser\u001b[49m\u001b[43m,\u001b[49m\u001b[43m \u001b[49m\u001b[43mopt_state\u001b[49m\u001b[43m)\u001b[49m\n\u001b[1;32m    122\u001b[0m params \u001b[38;5;241m=\u001b[39m jax\u001b[38;5;241m.\u001b[39mops\u001b[38;5;241m.\u001b[39mindex_update(params, jax\u001b[38;5;241m.\u001b[39mops\u001b[38;5;241m.\u001b[39mindex[i0:i1], params_b)\n\u001b[1;32m    123\u001b[0m loss \u001b[38;5;241m=\u001b[39m extend_batch(loss, loss_b)\n",
      "Cell \u001b[0;32mIn[14], line 97\u001b[0m, in \u001b[0;36mbatch_loop\u001b[0;34m(params_b, y0b, t0, t1, dt0, dt1, stepsize_controller, optimiser, opt_state)\u001b[0m\n\u001b[1;32m     95\u001b[0m \u001b[38;5;28;01mdef\u001b[39;00m \u001b[38;5;21mbatch_loop\u001b[39m(params_b, y0b, t0, t1, dt0, dt1, stepsize_controller, optimiser, opt_state):\n\u001b[0;32m---> 97\u001b[0m     loss_b, grads_b \u001b[38;5;241m=\u001b[39m \u001b[43mjax\u001b[49m\u001b[38;5;241;43m.\u001b[39;49m\u001b[43mvalue_and_grad\u001b[49m\u001b[43m(\u001b[49m\n\u001b[1;32m     98\u001b[0m \u001b[43m        \u001b[49m\u001b[43mjax\u001b[49m\u001b[38;5;241;43m.\u001b[39;49m\u001b[43mvmap\u001b[49m\u001b[43m(\u001b[49m\u001b[43mpartial\u001b[49m\u001b[43m(\u001b[49m\u001b[43mloss_fn\u001b[49m\u001b[43m,\u001b[49m\u001b[43m \u001b[49m\u001b[43mt0\u001b[49m\u001b[38;5;241;43m=\u001b[39;49m\u001b[43mt0\u001b[49m\u001b[43m,\u001b[49m\u001b[43m \u001b[49m\u001b[43mt1\u001b[49m\u001b[38;5;241;43m=\u001b[39;49m\u001b[43mt1\u001b[49m\u001b[43m,\u001b[49m\u001b[43m \u001b[49m\u001b[43mdt0\u001b[49m\u001b[38;5;241;43m=\u001b[39;49m\u001b[43mdt0\u001b[49m\u001b[43m,\u001b[49m\u001b[43m \u001b[49m\u001b[43mdt1\u001b[49m\u001b[38;5;241;43m=\u001b[39;49m\u001b[43mdt1\u001b[49m\u001b[43m,\u001b[49m\u001b[43m \u001b[49m\u001b[43mstepsize_controller\u001b[49m\u001b[38;5;241;43m=\u001b[39;49m\u001b[43mstepsize_controller\u001b[49m\u001b[43m)\u001b[49m\u001b[43m)\u001b[49m\u001b[43m)\u001b[49m\u001b[43m(\u001b[49m\u001b[43mparams_b\u001b[49m\u001b[43m,\u001b[49m\u001b[43m \u001b[49m\u001b[43my0b\u001b[49m\u001b[43m)\u001b[49m\n\u001b[1;32m     99\u001b[0m     updates, opt_state \u001b[38;5;241m=\u001b[39m optimiser\u001b[38;5;241m.\u001b[39mupdate(grads_b, opt_state)\n\u001b[1;32m    100\u001b[0m     params_b \u001b[38;5;241m=\u001b[39m optax\u001b[38;5;241m.\u001b[39mapply_updates(params_b, updates)\n",
      "    \u001b[0;31m[... skipping hidden 11 frame]\u001b[0m\n",
      "Cell \u001b[0;32mIn[14], line 89\u001b[0m, in \u001b[0;36mloss_fn\u001b[0;34m(params, y0, t0, t1, dt0, dt1, stepsize_controller)\u001b[0m\n\u001b[1;32m     87\u001b[0m \u001b[38;5;28;01mdef\u001b[39;00m \u001b[38;5;21mloss_fn\u001b[39m(params, y0, t0, t1, dt0, dt1, stepsize_controller, ):\n\u001b[1;32m     88\u001b[0m \u001b[38;5;250m    \u001b[39m\u001b[38;5;124;03m\"\"\" Define a loss function to optimize params \"\"\"\u001b[39;00m\n\u001b[0;32m---> 89\u001b[0m     _, y_sens, y_prec \u001b[38;5;241m=\u001b[39m \u001b[43msolve_ode_and_track_max\u001b[49m\u001b[43m(\u001b[49m\n\u001b[1;32m     90\u001b[0m \u001b[43m        \u001b[49m\u001b[43my0\u001b[49m\u001b[43m,\u001b[49m\u001b[43m \u001b[49m\u001b[43mparams\u001b[49m\u001b[43m,\u001b[49m\u001b[43m \u001b[49m\u001b[43mt0\u001b[49m\u001b[43m,\u001b[49m\u001b[43m \u001b[49m\u001b[43mt1\u001b[49m\u001b[43m,\u001b[49m\u001b[43m \u001b[49m\u001b[43mdt0\u001b[49m\u001b[43m,\u001b[49m\u001b[43m \u001b[49m\u001b[43mdt1\u001b[49m\u001b[43m,\u001b[49m\u001b[43m \u001b[49m\u001b[43mstepsize_controller\u001b[49m\u001b[43m,\u001b[49m\u001b[43m \u001b[49m\u001b[43m)\u001b[49m\n\u001b[1;32m     91\u001b[0m     \u001b[38;5;28;01mreturn\u001b[39;00m (y_sens \u001b[38;5;241m+\u001b[39m y_prec)\n",
      "Cell \u001b[0;32mIn[14], line 52\u001b[0m, in \u001b[0;36msolve_ode_and_track_max\u001b[0;34m(y0, params, t0, t1, dt0, dt1, stepsize_controller, max_steps, idx_output)\u001b[0m\n\u001b[1;32m     49\u001b[0m saveat \u001b[38;5;241m=\u001b[39m dfx\u001b[38;5;241m.\u001b[39mSaveAt(ts\u001b[38;5;241m=\u001b[39mjnp\u001b[38;5;241m.\u001b[39mlinspace(t0, t1, max_steps))\n\u001b[1;32m     51\u001b[0m \u001b[38;5;66;03m# Solve the ODE with an auxiliary variable to track the max\u001b[39;00m\n\u001b[0;32m---> 52\u001b[0m solution \u001b[38;5;241m=\u001b[39m \u001b[43mdfx\u001b[49m\u001b[38;5;241;43m.\u001b[39;49m\u001b[43mdiffeqsolve\u001b[49m\u001b[43m(\u001b[49m\n\u001b[1;32m     53\u001b[0m \u001b[43m    \u001b[49m\u001b[43mdfx\u001b[49m\u001b[38;5;241;43m.\u001b[39;49m\u001b[43mODETerm\u001b[49m\u001b[43m(\u001b[49m\u001b[43mode_sp\u001b[49m\u001b[43m)\u001b[49m\u001b[43m,\u001b[49m\n\u001b[1;32m     54\u001b[0m \u001b[43m    \u001b[49m\u001b[43msolver\u001b[49m\u001b[38;5;241;43m=\u001b[39;49m\u001b[43msolver\u001b[49m\u001b[43m,\u001b[49m\n\u001b[1;32m     55\u001b[0m \u001b[43m    \u001b[49m\u001b[43mt0\u001b[49m\u001b[38;5;241;43m=\u001b[39;49m\u001b[43mt0\u001b[49m\u001b[43m,\u001b[49m\n\u001b[1;32m     56\u001b[0m \u001b[43m    \u001b[49m\u001b[43mt1\u001b[49m\u001b[38;5;241;43m=\u001b[39;49m\u001b[43mt1\u001b[49m\u001b[43m,\u001b[49m\n\u001b[1;32m     57\u001b[0m \u001b[43m    \u001b[49m\u001b[43mdt0\u001b[49m\u001b[38;5;241;43m=\u001b[39;49m\u001b[43mdt0\u001b[49m\u001b[43m,\u001b[49m\n\u001b[1;32m     58\u001b[0m \u001b[43m    \u001b[49m\u001b[43my0\u001b[49m\u001b[38;5;241;43m=\u001b[39;49m\u001b[43my0\u001b[49m\u001b[43m,\u001b[49m\n\u001b[1;32m     59\u001b[0m \u001b[43m    \u001b[49m\u001b[38;5;66;43;03m# y0=(y0, y0, y0),\u001b[39;49;00m\n\u001b[1;32m     60\u001b[0m \u001b[43m    \u001b[49m\u001b[43margs\u001b[49m\u001b[38;5;241;43m=\u001b[39;49m\u001b[43m(\u001b[49m\u001b[43mparams\u001b[49m\u001b[43m,\u001b[49m\u001b[43m \u001b[49m\u001b[43my0\u001b[49m\u001b[43m)\u001b[49m\u001b[43m,\u001b[49m\u001b[43m  \u001b[49m\u001b[38;5;66;43;03m# Pass params and initial max as args\u001b[39;49;00m\n\u001b[1;32m     61\u001b[0m \u001b[43m    \u001b[49m\u001b[43msaveat\u001b[49m\u001b[38;5;241;43m=\u001b[39;49m\u001b[43msaveat\u001b[49m\u001b[43m,\u001b[49m\n\u001b[1;32m     62\u001b[0m \u001b[43m    \u001b[49m\u001b[43mstepsize_controller\u001b[49m\u001b[38;5;241;43m=\u001b[39;49m\u001b[43mmake_stepsize_controller\u001b[49m\u001b[43m(\u001b[49m\u001b[43mt0\u001b[49m\u001b[43m,\u001b[49m\u001b[43m \u001b[49m\u001b[43mt1\u001b[49m\u001b[43m,\u001b[49m\u001b[43m \u001b[49m\u001b[43mdt0\u001b[49m\u001b[43m,\u001b[49m\u001b[43m \u001b[49m\u001b[43mdt1\u001b[49m\u001b[43m,\u001b[49m\n\u001b[1;32m     63\u001b[0m \u001b[43m                                                 \u001b[49m\u001b[43mchoice\u001b[49m\u001b[38;5;241;43m=\u001b[39;49m\u001b[43mstepsize_controller\u001b[49m\u001b[43m)\u001b[49m\n\u001b[1;32m     64\u001b[0m \u001b[43m    \u001b[49m\u001b[38;5;66;43;03m# adjoint=dfx.BacksolveAdjoint()  # This enables differentiation\u001b[39;49;00m\n\u001b[1;32m     65\u001b[0m \u001b[43m\u001b[49m\u001b[43m)\u001b[49m\n\u001b[1;32m     67\u001b[0m y_sens, y_prec \u001b[38;5;241m=\u001b[39m solution\u001b[38;5;241m.\u001b[39mys[\u001b[38;5;241m1\u001b[39m][\u001b[38;5;241m-\u001b[39m\u001b[38;5;241m2\u001b[39m:]  \u001b[38;5;66;03m# Get the max value reached\u001b[39;00m\n\u001b[1;32m     68\u001b[0m \u001b[38;5;28;01mreturn\u001b[39;00m solution, y_sens[idx_output], y_prec[idx_output]\n",
      "    \u001b[0;31m[... skipping hidden 2 frame]\u001b[0m\n",
      "File \u001b[0;32m/usr/local/lib/python3.10/dist-packages/equinox/_jit.py:262\u001b[0m, in \u001b[0;36m_JitWrapper._call\u001b[0;34m(self, is_lower, args, kwargs)\u001b[0m\n\u001b[1;32m    249\u001b[0m \u001b[38;5;28;01mexcept\u001b[39;00m JaxRuntimeError \u001b[38;5;28;01mas\u001b[39;00m e:\n\u001b[1;32m    250\u001b[0m     \u001b[38;5;66;03m# Catch Equinox's runtime errors, and re-raise them with actually useful\u001b[39;00m\n\u001b[1;32m    251\u001b[0m     \u001b[38;5;66;03m# information. (By default XlaRuntimeError produces a lot of terrifying\u001b[39;00m\n\u001b[1;32m    252\u001b[0m     \u001b[38;5;66;03m# but useless information.)\u001b[39;00m\n\u001b[1;32m    253\u001b[0m     \u001b[38;5;28;01mif\u001b[39;00m (\n\u001b[1;32m    254\u001b[0m         last_msg \u001b[38;5;129;01mis\u001b[39;00m \u001b[38;5;129;01mnot\u001b[39;00m \u001b[38;5;28;01mNone\u001b[39;00m\n\u001b[1;32m    255\u001b[0m         \u001b[38;5;129;01mand\u001b[39;00m last_stack \u001b[38;5;129;01mis\u001b[39;00m \u001b[38;5;129;01mnot\u001b[39;00m \u001b[38;5;28;01mNone\u001b[39;00m\n\u001b[0;32m   (...)\u001b[0m\n\u001b[1;32m    260\u001b[0m         \u001b[38;5;66;03m# callback necessarily executed in the same interpreter as we are in\u001b[39;00m\n\u001b[1;32m    261\u001b[0m         \u001b[38;5;66;03m# here?\u001b[39;00m\n\u001b[0;32m--> 262\u001b[0m         \u001b[38;5;28;01mraise\u001b[39;00m EquinoxRuntimeError(\n\u001b[1;32m    263\u001b[0m             _on_error_msg\u001b[38;5;241m.\u001b[39mformat(msg\u001b[38;5;241m=\u001b[39mlast_msg, stack\u001b[38;5;241m=\u001b[39mlast_stack)\n\u001b[1;32m    264\u001b[0m         ) \u001b[38;5;28;01mfrom\u001b[39;00m \u001b[38;5;28;01mNone\u001b[39;00m\n\u001b[1;32m    265\u001b[0m         \u001b[38;5;66;03m# `from None` to hide the large but uninformative XlaRuntimeError.\u001b[39;00m\n\u001b[1;32m    266\u001b[0m     \u001b[38;5;28;01melse\u001b[39;00m:\n\u001b[1;32m    267\u001b[0m         \u001b[38;5;28;01mraise\u001b[39;00m\n",
      "\u001b[0;31mEquinoxRuntimeError\u001b[0m: Above is the stack outside of JIT. Below is the stack inside of JIT:\n  File \"/usr/local/lib/python3.10/dist-packages/diffrax/_integrate.py\", line 1423, in diffeqsolve\n    sol = result.error_if(sol, jnp.invert(is_okay(result)))\nequinox.EquinoxRuntimeError: The maximum number of solver steps was reached. Try increasing `max_steps`.\n\n-------------------\n\nAn error occurred during the runtime of your JAX program.\n\n1) Setting the environment variable `EQX_ON_ERROR=breakpoint` is usually the most useful\nway to debug such errors. This can be interacted with using most of the usual commands\nfor the Python debugger: `u` and `d` to move up and down frames, the name of a variable\nto print its value, etc.\n\n2) You may also like to try setting `JAX_DISABLE_JIT=1`. This will mean that you can\n(mostly) inspect the state of your program as if it was normal Python.\n\n3) See `https://docs.kidger.site/equinox/api/debug/` for more suggestions.\n"
     ]
    }
   ],
   "source": [
    "params = reverse_rates\n",
    "\n",
    "# Set up optax optimiser\n",
    "optimiser = optax.adam(learning_rate=0.01)\n",
    "opt_state = optimiser.init(params)\n",
    "\n",
    "# Optimization loop\n",
    "loss_all = np.zeros(n_steps)\n",
    "grads_all = np.zeros((n_steps, len(params)))\n",
    "for i in range(n_steps):\n",
    "    print(f'Step {i}')\n",
    "    params, opt_state, current_loss, current_grads = optimise_step(\n",
    "        params, opt_state, y00, t0, t1, dt0, dt1, stepsize_controller, optimiser, batch_size)\n",
    "    if i % 100 == 0:\n",
    "        print(f\"Step {i}, Loss: {current_loss}, Params: {params}\")\n",
    "\n",
    "print(f\"Optimized Params: {params}\")\n",
    "\n",
    "# solution_steps, y_sens, y_prec = solve_ode_and_track_max(\n",
    "#     ode_func, y00, t0, t1, params)"
   ]
  },
  {
   "cell_type": "code",
   "execution_count": null,
   "metadata": {},
   "outputs": [
    {
     "data": {
      "text/plain": [
       "[<matplotlib.lines.Line2D at 0x7ca20005b280>,\n",
       " <matplotlib.lines.Line2D at 0x7ca20005a320>,\n",
       " <matplotlib.lines.Line2D at 0x7ca20005a4a0>]"
      ]
     },
     "execution_count": 34,
     "metadata": {},
     "output_type": "execute_result"
    },
    {
     "data": {
      "image/png": "[encoded data removed]",
      "text/plain": [
       "<Figure size 640x480 with 1 Axes>"
      ]
     },
     "metadata": {},
     "output_type": "display_data"
    }
   ],
   "source": [
    "plt.plot(solution_steps.ts, solution_steps.ys[0])"
   ]
  },
  {
   "cell_type": "code",
   "execution_count": null,
   "metadata": {},
   "outputs": [],
   "source": [
    "# Comparison of Max's\n",
    "x1 = jnp.ones(10) * 2.\n",
    "x2 = jnp.linspace(0, 2, 10)\n",
    "max_val = smooth_max(x1, x2, epsilon=1e-1)\n",
    "# max_val = smooth_max2(x1, x2)\n",
    "max_val, jnp.maximum(x1, x2)"
   ]
  }
 ],
 "metadata": {
  "kernelspec": {
   "display_name": "Python 3",
   "language": "python",
   "name": "python3"
  },
  "language_info": {
   "codemirror_mode": {
    "name": "ipython",
    "version": 3
   },
   "file_extension": ".py",
   "mimetype": "text/x-python",
   "name": "python",
   "nbconvert_exporter": "python",
   "pygments_lexer": "ipython3",
   "version": "3.10.12"
  }
 },
 "nbformat": 4,
 "nbformat_minor": 2
}
