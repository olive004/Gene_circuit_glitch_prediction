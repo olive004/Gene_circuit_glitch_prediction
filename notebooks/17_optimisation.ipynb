{
 "cells": [
  {
   "cell_type": "markdown",
   "metadata": {},
   "source": [
    "# Imports"
   ]
  },
  {
   "cell_type": "code",
   "execution_count": 1,
   "metadata": {},
   "outputs": [
    {
     "ename": "ModuleNotFoundError",
     "evalue": "No module named 'dynesty'",
     "output_type": "error",
     "traceback": [
      "\u001b[0;31m---------------------------------------------------------------------------\u001b[0m",
      "\u001b[0;31mModuleNotFoundError\u001b[0m                       Traceback (most recent call last)",
      "Cell \u001b[0;32mIn[1], line 7\u001b[0m\n\u001b[1;32m      5\u001b[0m \u001b[39mimport\u001b[39;00m \u001b[39mjax\u001b[39;00m\u001b[39m.\u001b[39;00m\u001b[39mnumpy\u001b[39;00m \u001b[39mas\u001b[39;00m \u001b[39mjnp\u001b[39;00m\n\u001b[1;32m      6\u001b[0m \u001b[39mimport\u001b[39;00m \u001b[39mdiffrax\u001b[39;00m \u001b[39mas\u001b[39;00m \u001b[39mdfx\u001b[39;00m\n\u001b[0;32m----> 7\u001b[0m \u001b[39mimport\u001b[39;00m \u001b[39mdynesty\u001b[39;00m\n\u001b[1;32m      8\u001b[0m \u001b[39mfrom\u001b[39;00m \u001b[39mfunctools\u001b[39;00m \u001b[39mimport\u001b[39;00m partial\n\u001b[1;32m      9\u001b[0m \u001b[39m# jax.config.update('jax_platform_name', 'gpu')\u001b[39;00m\n",
      "\u001b[0;31mModuleNotFoundError\u001b[0m: No module named 'dynesty'"
     ]
    }
   ],
   "source": [
    "\n",
    "import os\n",
    "import sys\n",
    "import numpy as np\n",
    "import jax\n",
    "import jax.numpy as jnp\n",
    "import diffrax as dfx\n",
    "import dynesty\n",
    "from functools import partial\n",
    "# jax.config.update('jax_platform_name', 'gpu')\n",
    "\n",
    "\n",
    "if __package__ is None:\n",
    "\n",
    "    module_path = os.path.abspath(os.path.join('..'))\n",
    "    sys.path.append(module_path)\n",
    "\n",
    "    __package__ = os.path.basename(module_path)\n",
    "\n",
    "\n",
    "root_dir = '..'"
   ]
  },
  {
   "cell_type": "code",
   "execution_count": null,
   "metadata": {},
   "outputs": [],
   "source": [
    "from synbio_morpher.utils.modelling.deterministic import bioreaction_sim_dfx_expanded\n",
    "from synbio_morpher.utils.misc.helper import vanilla_return\n",
    "from synbio_morpher.utils.results.analytics.timeseries import get_precision, get_sensitivity, get_peaks\n",
    "from bioreaction.simulation.manager import simulate_steady_states\n",
    "\n"
   ]
  },
  {
   "cell_type": "markdown",
   "metadata": {},
   "source": [
    "# Simulation"
   ]
  },
  {
   "cell_type": "code",
   "execution_count": null,
   "metadata": {},
   "outputs": [],
   "source": [
    "\n",
    "def scale_rates(forward_rates, reverse_rates):\n",
    "    rate_max = np.max([np.max(np.asarray(forward_rates)),\n",
    "                        np.max(np.asarray(reverse_rates))])\n",
    "\n",
    "    dt0 = 1 / (2 * rate_max)\n",
    "    return dt0"
   ]
  },
  {
   "cell_type": "code",
   "execution_count": null,
   "metadata": {},
   "outputs": [],
   "source": [
    "def optimise_sp(s, p):\n",
    "    s_lin = 1 / p\n",
    "    return s - s_lin"
   ]
  },
  {
   "cell_type": "code",
   "execution_count": null,
   "metadata": {},
   "outputs": [],
   "source": [
    "def one_step_de_sim_expanded(spec_conc, inputs, outputs, forward_rates, reverse_rates):\n",
    "    concentration_factors_in = jnp.prod(\n",
    "        jnp.power(spec_conc, (inputs)), axis=1)\n",
    "    concentration_factors_out = jnp.prod(\n",
    "        jnp.power(spec_conc, (outputs)), axis=1)\n",
    "    forward_delta = concentration_factors_in * forward_rates\n",
    "    reverse_delta = concentration_factors_out * reverse_rates\n",
    "    return (forward_delta - reverse_delta) @ (outputs - inputs)\n",
    "\n",
    "\n",
    "def dummy_simfunc(\n",
    "        y0, t0, t1, dt0,\n",
    "        forward_rates,\n",
    "        reverse_rates,\n",
    "        inputs,\n",
    "        outputs,\n",
    "        threshold = 0.01\n",
    "        # max_steps,\n",
    "        # signal=vanilla_return, signal_onehot=1\n",
    "    ):\n",
    "    steps = int((t1 - t0) / dt0)\n",
    "    y = np.zeros((steps, len(y0.squeeze())))\n",
    "    time = np.arange(t0, t1, dt0)\n",
    "    y[0] = y0\n",
    "    for t in range(1, steps):\n",
    "        yt = one_step_de_sim_expanded(\n",
    "            spec_conc=y[t-1], inputs=inputs,\n",
    "            outputs=outputs,\n",
    "            forward_rates=forward_rates,\n",
    "            reverse_rates=reverse_rates)\n",
    "        y[t] = y[t-1] + yt * dt0\n",
    "        if np.sum((np.abs(yt) - threshold ) * dt0) < 0:\n",
    "            return y[:t], time[:t]\n",
    "    return y, time"
   ]
  },
  {
   "cell_type": "code",
   "execution_count": null,
   "metadata": {},
   "outputs": [],
   "source": [
    "def R(B11, B12, B13, B22, B23, B33):\n",
    "    unbound_species = ['RNA_0', 'RNA_1', 'RNA_2']\n",
    "    species = ['RNA_0', 'RNA_1', 'RNA_2', 'RNA_0-0', 'RNA_0-1', 'RNA_0-2', 'RNA_1-1', 'RNA_1-2', 'RNA_2-2']\n",
    "    signal_species = 'RNA_0'\n",
    "    output_species = 'RNA_1'\n",
    "    s_idx = species.index(signal_species)\n",
    "    output_idx = species.index(output_species)\n",
    "    \n",
    "    signal_target = 2\n",
    "    k = 0.00150958097\n",
    "    N0 = 100\n",
    "    \n",
    "    # Amounts\n",
    "    y00 = np.array([[N0, N0, N0, 0, 0, 0, 0, 0, 0]])\n",
    "    \n",
    "    # Reactions\n",
    "    inputs = np.array([\n",
    "        [2, 0, 0, 0, 0, 0, 0, 0, 0],\n",
    "        [1, 1, 0, 0, 0, 0, 0, 0, 0],\n",
    "        [1, 0, 1, 0, 0, 0, 0, 0, 0],\n",
    "        [0, 2, 0, 0, 0, 0, 0, 0, 0],\n",
    "        [0, 1, 1, 0, 0, 0, 0, 0, 0],\n",
    "        [0, 0, 2, 0, 0, 0, 0, 0, 0],\n",
    "    ])\n",
    "    outputs = np.array([\n",
    "        [0, 0, 0, 1, 0, 0, 0, 0, 0],\n",
    "        [0, 0, 0, 0, 1, 0, 0, 0, 0],\n",
    "        [0, 0, 0, 0, 0, 1, 0, 0, 0],\n",
    "        [0, 0, 0, 0, 0, 0, 1, 0, 0],\n",
    "        [0, 0, 0, 0, 0, 0, 0, 1, 0],\n",
    "        [0, 0, 0, 0, 0, 0, 0, 0, 1],\n",
    "    ])\n",
    "    \n",
    "    # Rates\n",
    "    reverse_rates = np.array([[B11, B12, B13, B22, B23, B33]])\n",
    "    forward_rates = np.ones_like(reverse_rates) * k\n",
    "    \n",
    "    # Sim params\n",
    "    t0 = 0\n",
    "    t1 = 100\n",
    "    dt0 = scale_rates(forward_rates, reverse_rates)\n",
    "    max_steps = 16**4 * 10\n",
    "    print('\\n\\nInput N:', y00)\n",
    "    print('Input B:', reverse_rates)\n",
    "    sim_func = jax.jit(partial(bioreaction_sim_dfx_expanded,\n",
    "        t0=t0, t1=t1, dt0=dt0,\n",
    "        signal=vanilla_return, signal_onehot=1,\n",
    "        forward_rates=forward_rates,\n",
    "        inputs=inputs,\n",
    "        outputs=outputs,\n",
    "        solver=dfx.Tsit5(),\n",
    "        saveat=dfx.SaveAt(\n",
    "            ts=np.linspace(t0, t1, 500)),  # int(np.min([500, self.t1-self.t0]))))\n",
    "        max_steps=max_steps\n",
    "        ))\n",
    "    # sim_func = partial(dummy_simfunc,\n",
    "    #     t0=t0, t1=t1, dt0=dt0,\n",
    "    #     forward_rates=forward_rates,\n",
    "    #     inputs=inputs,\n",
    "    #     outputs=outputs)\n",
    "    \n",
    "    y0, t = simulate_steady_states(y0=y00, total_time=t1-t0, sim_func=sim_func, t0=t0, t1=t1, threshold=0.1, reverse_rates=reverse_rates)\n",
    "    # y0, t = sim_func(y0=y00, reverse_rates=reverse_rates)\n",
    "    y0 = np.array(y0.squeeze()[-1, :]).reshape(y00.shape)\n",
    "    \n",
    "    # Signal\n",
    "    signal_onehot = np.zeros_like(y00) \n",
    "    signal_onehot[s_idx] = 1\n",
    "    \n",
    "    y0s = y0 * signal_onehot * signal_target + y0 * (signal_onehot == 0)\n",
    "    y, t = simulate_steady_states(y0, total_time=t1-t0, sim_func=sim_func, t0=t0, t1=t1, threshold=0.1, reverse_rates=reverse_rates)\n",
    "    # y, t = sim_func(y0=y0s, reverse_rates=reverse_rates)\n",
    "    y = np.concatenate([y0s, y.squeeze()[:-1, :]], axis=0)\n",
    "    y1 = np.array(y[-1, :])\n",
    "    \n",
    "    print('Output:', y1)\n",
    "    \n",
    "    # Calculate R\n",
    "    peaks = get_peaks(initial_steady_states=y0, final_steady_states=y1,\n",
    "                      maxa=y.max(axis=0), mina=y.min(axis=0)) \n",
    "    \n",
    "    s = get_sensitivity(\n",
    "        signal_idx=s_idx, peaks=peaks, starting_states=y0\n",
    "    )\n",
    "    p = get_precision(\n",
    "            starting_states=y0,\n",
    "            steady_states=y1,\n",
    "            signal_0=y0[s_idx],\n",
    "            signal_1=y1[s_idx].squeeze())\n",
    "    print('Sensitivity:', s)\n",
    "    print('Precision:', p)\n",
    "    \n",
    "    r = optimise_sp(\n",
    "        s=s.squeeze()[output_idx], p=p.squeeze()[output_idx]\n",
    "    )\n",
    "    \n",
    "    return r"
   ]
  },
  {
   "cell_type": "markdown",
   "metadata": {},
   "source": [
    "### Check that R is working"
   ]
  },
  {
   "cell_type": "code",
   "execution_count": null,
   "metadata": {},
   "outputs": [
    {
     "name": "stdout",
     "output_type": "stream",
     "text": [
      "\n",
      "\n",
      "Input N: [[100 100 100   0   0   0   0   0   0]]\n",
      "Input B: [[8.999995e+02 8.999995e+02 9.093500e-02 8.999995e+02 1.260000e-04\n",
      "  8.999995e+02]]\n",
      "Done:  0:00:01.049104\n",
      "Done:  0:00:01.023504\n",
      "\n",
      "\n",
      "Input N: [100 100 100   0   0   0   0   0   0]\n",
      "Input B: [[8.999995e+02 8.999995e+02 9.093500e-02 8.999995e+02 1.260000e-04\n",
      "  8.999995e+02]]\n",
      "Done:  0:00:00.865641\n",
      "Done:  0:00:00.545558\n",
      "Done:  0:00:00.545659\n",
      "Done:  0:00:00.860932\n",
      "Output: [[9.4636719e+01 8.6227551e+00 3.2730794e+00 1.5022194e-02 1.3687421e-03\n",
      "  5.3562503e+00 1.2471246e-04 9.1370132e+01 1.7969280e-05]]\n",
      "Sensitivity: [[1. 1. 1. 1. 1. 1. 1. 1. 1.]]\n",
      "Precision: [[1. 1. 1. 1. 1. 1. 1. 1. 1.]]\n"
     ]
    },
    {
     "ename": "ValueError",
     "evalue": "all the input arrays must have same number of dimensions, but the array at index 0 has 2 dimension(s) and the array at index 1 has 3 dimension(s)",
     "output_type": "error",
     "traceback": [
      "\u001b[0;31m---------------------------------------------------------------------------\u001b[0m",
      "\u001b[0;31mValueError\u001b[0m                                Traceback (most recent call last)",
      "Cell \u001b[0;32mIn[12], line 5\u001b[0m\n\u001b[1;32m      2\u001b[0m dummy_B \u001b[39m=\u001b[39m np\u001b[39m.\u001b[39marray([\n\u001b[1;32m      3\u001b[0m     \u001b[39m899.999500\u001b[39m, \u001b[39m899.999500\u001b[39m, \u001b[39m0.090935\u001b[39m, \u001b[39m899.999500\u001b[39m, \u001b[39m0.000126\u001b[39m, \u001b[39m899.999500\u001b[39m])\n\u001b[0;32m----> 5\u001b[0m r \u001b[39m=\u001b[39m R(\u001b[39m*\u001b[39;49mdummy_B)\n\u001b[1;32m      7\u001b[0m r\n",
      "Cell \u001b[0;32mIn[11], line 73\u001b[0m, in \u001b[0;36mR\u001b[0;34m(B11, B12, B13, B22, B23, B33)\u001b[0m\n\u001b[1;32m     71\u001b[0m y, t \u001b[39m=\u001b[39m simulate_steady_states(y0, total_time\u001b[39m=\u001b[39mt1\u001b[39m-\u001b[39mt0, sim_func\u001b[39m=\u001b[39msim_func, t0\u001b[39m=\u001b[39mt0, t1\u001b[39m=\u001b[39mt1, threshold\u001b[39m=\u001b[39m\u001b[39m0.1\u001b[39m, reverse_rates\u001b[39m=\u001b[39mreverse_rates)\n\u001b[1;32m     72\u001b[0m \u001b[39m# y, t = sim_func(y0=y0s, reverse_rates=reverse_rates)\u001b[39;00m\n\u001b[0;32m---> 73\u001b[0m y \u001b[39m=\u001b[39m np\u001b[39m.\u001b[39;49mconcatenate([y0s, y[:\u001b[39m-\u001b[39;49m\u001b[39m1\u001b[39;49m, :]], axis\u001b[39m=\u001b[39;49m\u001b[39m0\u001b[39;49m)\n\u001b[1;32m     74\u001b[0m y1 \u001b[39m=\u001b[39m np\u001b[39m.\u001b[39marray(y[\u001b[39m-\u001b[39m\u001b[39m1\u001b[39m, :])[\u001b[39mNone\u001b[39;00m, :]\n\u001b[1;32m     76\u001b[0m \u001b[39mprint\u001b[39m(\u001b[39m'\u001b[39m\u001b[39mOutput:\u001b[39m\u001b[39m'\u001b[39m, y1)\n",
      "File \u001b[0;32m<__array_function__ internals>:180\u001b[0m, in \u001b[0;36mconcatenate\u001b[0;34m(*args, **kwargs)\u001b[0m\n",
      "\u001b[0;31mValueError\u001b[0m: all the input arrays must have same number of dimensions, but the array at index 0 has 2 dimension(s) and the array at index 1 has 3 dimension(s)"
     ]
    }
   ],
   "source": [
    "\n",
    "dummy_B = np.array([\n",
    "    899.999500, 899.999500, 0.090935, 899.999500, 0.000126, 899.999500])\n",
    "\n",
    "r = R(*dummy_B)\n",
    "\n",
    "r"
   ]
  },
  {
   "cell_type": "code",
   "execution_count": null,
   "metadata": {},
   "outputs": [],
   "source": []
  },
  {
   "cell_type": "markdown",
   "metadata": {},
   "source": [
    "# Log likelihood"
   ]
  },
  {
   "cell_type": "code",
   "execution_count": null,
   "metadata": {},
   "outputs": [],
   "source": [
    "ndim = 6\n",
    "\n",
    "def loglike(B):\n",
    "    \n",
    "    L = - 1 / (R(*B) + 0.0001)\n",
    "    \n",
    "    print(L)\n",
    "    \n",
    "    return L\n",
    "\n",
    "\n",
    "def ptform(u):\n",
    "    R_max = 800\n",
    "    x = R_max * u + 100\n",
    "    \n",
    "    return x"
   ]
  },
  {
   "cell_type": "markdown",
   "metadata": {},
   "source": [
    "# Sampling"
   ]
  },
  {
   "cell_type": "code",
   "execution_count": null,
   "metadata": {},
   "outputs": [],
   "source": [
    "\n",
    "sampler = dynesty.NestedSampler(loglike, ptform, ndim)\n",
    "sampler.run_nested()\n",
    "sresults = sampler.results\n",
    "from dynesty import plotting as dyplot\n",
    "# initialize figure\n",
    "import matplotlib.pyplot as plt\n",
    "fig, axes = plt.subplots(6, 13, figsize=(25, 10))\n",
    "axes = axes.reshape((6, 13))  # reshape axes\n",
    "\n",
    "# add white space\n",
    "[a.set_frame_on(False) for a in axes[:, 6]]\n",
    "[a.set_xticks([]) for a in axes[:, 6]]\n",
    "[a.set_yticks([]) for a in axes[:, 6]]\n",
    "\n",
    "# plot initial run (res1; left)\n",
    "fg, ax = dyplot.cornerpoints(sresults, cmap='plasma', truths=np.zeros(ndim),\n",
    "                             kde=False, fig=(fig, axes[:, :2]))"
   ]
  },
  {
   "cell_type": "code",
   "execution_count": null,
   "metadata": {},
   "outputs": [],
   "source": []
  }
 ],
 "metadata": {
  "kernelspec": {
   "display_name": "Python 3",
   "language": "python",
   "name": "python3"
  },
  "language_info": {
   "codemirror_mode": {
    "name": "ipython",
    "version": 3
   },
   "file_extension": ".py",
   "mimetype": "text/x-python",
   "name": "python",
   "nbconvert_exporter": "python",
   "pygments_lexer": "ipython3",
   "version": "3.10.12"
  },
  "orig_nbformat": 4
 },
 "nbformat": 4,
 "nbformat_minor": 2
}
