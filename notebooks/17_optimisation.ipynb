{
 "cells": [
  {
   "cell_type": "markdown",
   "metadata": {},
   "source": [
    "# Imports"
   ]
  },
  {
   "cell_type": "code",
   "execution_count": 1,
   "metadata": {},
   "outputs": [],
   "source": [
    "%load_ext autoreload\n",
    "%autoreload 2"
   ]
  },
  {
   "cell_type": "code",
   "execution_count": 2,
   "metadata": {},
   "outputs": [],
   "source": [
    "\n",
    "import os\n",
    "import sys\n",
    "import numpy as np\n",
    "import pandas as pd\n",
    "import jax\n",
    "import jax.numpy as jnp\n",
    "import diffrax as dfx\n",
    "from functools import partial\n",
    "import dynesty\n",
    "from dynesty import plotting as dyplot\n",
    "import matplotlib.pyplot as plt\n",
    "\n",
    "jax.config.update('jax_platform_name', 'cpu')\n",
    "\n",
    "\n",
    "if __package__ is None:\n",
    "\n",
    "    module_path = os.path.abspath(os.path.join('..'))\n",
    "    sys.path.append(module_path)\n",
    "\n",
    "    __package__ = os.path.basename(module_path)\n",
    "\n",
    "\n",
    "root_dir = '..'"
   ]
  },
  {
   "cell_type": "code",
   "execution_count": 3,
   "metadata": {},
   "outputs": [],
   "source": [
    "from synbio_morpher.utils.modelling.deterministic import bioreaction_sim_dfx_expanded\n",
    "from synbio_morpher.utils.misc.helper import vanilla_return\n",
    "from synbio_morpher.utils.results.analytics.timeseries import generate_analytics\n",
    "from synbio_morpher.utils.results.analytics.naming import get_true_interaction_cols\n",
    "from bioreaction.simulation.manager import simulate_steady_states\n",
    "\n"
   ]
  },
  {
   "cell_type": "markdown",
   "metadata": {},
   "source": [
    "# Simulation"
   ]
  },
  {
   "cell_type": "code",
   "execution_count": 4,
   "metadata": {},
   "outputs": [],
   "source": [
    "\n",
    "def scale_rates(forward_rates, reverse_rates, cushioning: int = 4):\n",
    "    rate_max = np.max([np.max(np.asarray(forward_rates)),\n",
    "                        np.max(np.asarray(reverse_rates))])\n",
    "\n",
    "    dt0 = 1 / (cushioning * rate_max)\n",
    "    return dt0"
   ]
  },
  {
   "cell_type": "code",
   "execution_count": 5,
   "metadata": {},
   "outputs": [],
   "source": [
    "def optimise_sp(s, p):\n",
    "    s_lin = 1 / p\n",
    "    return s - s_lin"
   ]
  },
  {
   "cell_type": "code",
   "execution_count": 6,
   "metadata": {},
   "outputs": [],
   "source": [
    "def one_step_de_sim_expanded(spec_conc, inputs, outputs, forward_rates, reverse_rates):\n",
    "    concentration_factors_in = jnp.prod(\n",
    "        jnp.power(spec_conc, (inputs)), axis=1)\n",
    "    concentration_factors_out = jnp.prod(\n",
    "        jnp.power(spec_conc, (outputs)), axis=1)\n",
    "    forward_delta = concentration_factors_in * forward_rates\n",
    "    reverse_delta = concentration_factors_out * reverse_rates\n",
    "    return (forward_delta - reverse_delta) @ (outputs - inputs)\n",
    "\n",
    "\n",
    "def dummy_simfunc(\n",
    "        y0, t0, t1, dt0,\n",
    "        forward_rates,\n",
    "        reverse_rates,\n",
    "        inputs,\n",
    "        outputs,\n",
    "        threshold = 0.01\n",
    "        # max_steps,\n",
    "        # signal=vanilla_return, signal_onehot=1\n",
    "    ):\n",
    "    steps = int((t1 - t0) / dt0)\n",
    "    y = np.zeros((steps, len(y0.squeeze())))\n",
    "    time = np.arange(t0, t1, dt0)\n",
    "    y[0] = y0\n",
    "    for t in range(1, steps):\n",
    "        yt = one_step_de_sim_expanded(\n",
    "            spec_conc=y[t-1], inputs=inputs,\n",
    "            outputs=outputs,\n",
    "            forward_rates=forward_rates,\n",
    "            reverse_rates=reverse_rates)\n",
    "        y[t] = y[t-1] + yt * dt0\n",
    "        if np.sum((np.abs(yt) - threshold ) * dt0) < 0:\n",
    "            return y[:t], time[:t]\n",
    "    return y, time"
   ]
  },
  {
   "cell_type": "code",
   "execution_count": 7,
   "metadata": {},
   "outputs": [],
   "source": [
    "def compute_analytics(y, t, labels, signal_onehot):\n",
    "    y = np.swapaxes(y, 0, 1)\n",
    "    \n",
    "    analytics_func = partial(\n",
    "        generate_analytics, time=t, labels=labels,\n",
    "        signal_onehot=signal_onehot, signal_time=0,\n",
    "        ref_circuit_data=None)\n",
    "    return analytics_func(data=y, time=t, labels=labels)"
   ]
  },
  {
   "cell_type": "code",
   "execution_count": null,
   "metadata": {},
   "outputs": [],
   "source": []
  },
  {
   "cell_type": "code",
   "execution_count": 8,
   "metadata": {},
   "outputs": [],
   "source": [
    "def R(B11, B12, B13, B22, B23, B33):\n",
    "    unbound_species = ['RNA_0', 'RNA_1', 'RNA_2']\n",
    "    species = ['RNA_0', 'RNA_1', 'RNA_2', 'RNA_0-0', 'RNA_0-1', 'RNA_0-2', 'RNA_1-1', 'RNA_1-2', 'RNA_2-2']\n",
    "    signal_species = ['RNA_0']\n",
    "    output_species = ['RNA_1']\n",
    "    s_idxs = [species.index(s) for s in signal_species]\n",
    "    output_idxs = [species.index(s) for s in output_species]\n",
    "    signal_onehot = np.array([1 if s in [species.index(ss) for ss in signal_species] else 0 for s in np.arange(len(species))])\n",
    "    \n",
    "    signal_target = 2\n",
    "    k = 0.00150958097\n",
    "    N0 = 200\n",
    "    \n",
    "    # Amounts\n",
    "    y00 = np.array([[N0, N0, N0, 0, 0, 0, 0, 0, 0]])\n",
    "    \n",
    "    # Reactions\n",
    "    inputs = np.array([\n",
    "        [2, 0, 0, 0, 0, 0, 0, 0, 0],\n",
    "        [1, 1, 0, 0, 0, 0, 0, 0, 0],\n",
    "        [1, 0, 1, 0, 0, 0, 0, 0, 0],\n",
    "        [0, 2, 0, 0, 0, 0, 0, 0, 0],\n",
    "        [0, 1, 1, 0, 0, 0, 0, 0, 0],\n",
    "        [0, 0, 2, 0, 0, 0, 0, 0, 0],\n",
    "    ])\n",
    "    outputs = np.array([\n",
    "        [0, 0, 0, 1, 0, 0, 0, 0, 0],\n",
    "        [0, 0, 0, 0, 1, 0, 0, 0, 0],\n",
    "        [0, 0, 0, 0, 0, 1, 0, 0, 0],\n",
    "        [0, 0, 0, 0, 0, 0, 1, 0, 0],\n",
    "        [0, 0, 0, 0, 0, 0, 0, 1, 0],\n",
    "        [0, 0, 0, 0, 0, 0, 0, 0, 1],\n",
    "    ])\n",
    "    \n",
    "    # Rates\n",
    "    reverse_rates = np.array([[B11, B12, B13, B22, B23, B33]])\n",
    "    forward_rates = np.ones_like(reverse_rates) * k\n",
    "    \n",
    "    # Sim params\n",
    "    t0 = 0\n",
    "    t1 = 100\n",
    "    dt0 = scale_rates(forward_rates, reverse_rates, cushioning=4)\n",
    "    max_steps = 16**4 * 10\n",
    "    # print('\\n\\nInput N:', y00)\n",
    "    # print('Input B:', reverse_rates)\n",
    "    sim_func = jax.jit(partial(bioreaction_sim_dfx_expanded,\n",
    "        t0=t0, t1=t1, dt0=dt0,\n",
    "        signal=vanilla_return, signal_onehot=1,\n",
    "        forward_rates=forward_rates,\n",
    "        inputs=inputs,\n",
    "        outputs=outputs,\n",
    "        solver=dfx.Tsit5(),\n",
    "        saveat=dfx.SaveAt(\n",
    "            ts=np.linspace(t0, t1, 500)),  # int(np.min([500, self.t1-self.t0]))))\n",
    "        max_steps=max_steps\n",
    "        ))\n",
    "    \n",
    "    y0, t = simulate_steady_states(y0=y00, total_time=t1-t0, sim_func=sim_func, t0=t0, t1=t1, threshold=0.1, reverse_rates=reverse_rates, disable_logging=True)\n",
    "    y0 = np.array(y0.squeeze()[-1, :]).reshape(y00.shape)\n",
    "    \n",
    "    # Signal\n",
    "    \n",
    "    y0s = y0 * ((signal_onehot == 0) * 1) + y00 * signal_target * signal_onehot\n",
    "    y, t = simulate_steady_states(y0s, total_time=t1-t0, sim_func=sim_func, t0=t0, t1=t1, threshold=0.1, reverse_rates=reverse_rates, disable_logging=True)\n",
    "    y = np.concatenate([y0, y.squeeze()[:-1, :]], axis=0)\n",
    "    y1 = np.array(y[-1, :])\n",
    "        \n",
    "    # print('Output:', y1)\n",
    "    \n",
    "    analytics = compute_analytics(y, t, labels=np.arange(y.shape[-1]), signal_onehot=signal_onehot)\n",
    "    \n",
    "    s = analytics['sensitivity_wrt_species-0']\n",
    "    p = analytics['precision_wrt_species-0']\n",
    "    # print(f'Sensitivity {output_idxs[0]}:', s[tuple(output_idxs)])\n",
    "    # print(f'Precision {output_idxs[0]}:', p[tuple(output_idxs)])\n",
    "    \n",
    "    r = optimise_sp(\n",
    "        s=s.squeeze()[tuple(output_idxs)], p=p.squeeze()[tuple(output_idxs)]\n",
    "    )\n",
    "    \n",
    "    return r"
   ]
  },
  {
   "cell_type": "markdown",
   "metadata": {},
   "source": [
    "### Check that R is working"
   ]
  },
  {
   "cell_type": "code",
   "execution_count": null,
   "metadata": {},
   "outputs": [],
   "source": [
    "\n",
    "dummy_B = np.array([0.000164, 899.999500, 0.000114, 899.999500, 899.9995, 899.9995], dtype=np.float64)\n",
    "\n",
    "# Min sensitivity:\n",
    "# toy_mRNA_circuit_11232\tRNA_2_m15-0\n",
    "# For [0.000164, 899.999500, 0.000114, 899.999500, 899.9995, 899.9995] :\n",
    "# s = 2.442697e-07\n",
    "\n",
    "r = R(*dummy_B)"
   ]
  },
  {
   "cell_type": "markdown",
   "metadata": {},
   "source": [
    "# Log likelihood"
   ]
  },
  {
   "cell_type": "markdown",
   "metadata": {},
   "source": [
    "Let's first create a realistic sampler of binding rates of dissociation. See explanation notebook 5, 'examine binding energies'."
   ]
  },
  {
   "cell_type": "code",
   "execution_count": null,
   "metadata": {},
   "outputs": [
    {
     "name": "stderr",
     "output_type": "stream",
     "text": [
      "WARNING:root:Assuming that the number of species is 3\n"
     ]
    }
   ],
   "source": [
    "fn = '../data/generate_seqs_flexible/2023_04_17_205800/circuit_stats.csv'\n",
    "data = pd.read_csv(fn)\n",
    "datam = data.melt(['name'], value_vars=get_true_interaction_cols(data, 'binding_rates_dissociation'), var_name='idx', value_name='binding_rates_dissociation')"
   ]
  },
  {
   "cell_type": "code",
   "execution_count": null,
   "metadata": {},
   "outputs": [],
   "source": [
    "import scipy.stats as st\n",
    "def get_best_distribution(data):\n",
    "    dist_names = [\"norm\", \"exponweib\", \"weibull_max\", \"weibull_min\", \"pareto\", \"genextreme\"]\n",
    "    dist_results = []\n",
    "    params = {}\n",
    "    for dist_name in dist_names:\n",
    "        dist = getattr(st, dist_name)\n",
    "        param = dist.fit(data)\n",
    "\n",
    "        params[dist_name] = param\n",
    "        # Applying the Kolmogorov-Smirnov test\n",
    "        D, p = st.kstest(data, dist_name, args=param)\n",
    "        print(\"p value for \"+dist_name+\" = \"+str(p))\n",
    "        dist_results.append((dist_name, p))\n",
    "\n",
    "    # select the best fitted distribution\n",
    "    best_dist, best_p = (max(dist_results, key=lambda item: item[1]))\n",
    "    # store the name of the best fit and its p value\n",
    "\n",
    "    print(\"Best fitting distribution: \"+str(best_dist))\n",
    "    print(\"Best p value: \"+ str(best_p))\n",
    "    print(\"Parameters for the best fit: \"+ str(params[best_dist]))\n",
    "\n",
    "    return best_dist, best_p, params[best_dist]"
   ]
  },
  {
   "cell_type": "code",
   "execution_count": null,
   "metadata": {},
   "outputs": [],
   "source": [
    "get_best_distribution(datam['binding_rates_dissociation'].to_numpy())"
   ]
  },
  {
   "cell_type": "markdown",
   "metadata": {},
   "source": [
    "## Actual log likelihood"
   ]
  },
  {
   "cell_type": "code",
   "execution_count": null,
   "metadata": {},
   "outputs": [],
   "source": [
    "ndim = 6\n",
    "\n",
    "def loglike(B):\n",
    "    \n",
    "    L = - 1 / (R(*B) + 0.0001)\n",
    "    \n",
    "    print(L)\n",
    "    \n",
    "    return L\n",
    "\n",
    "\n",
    "def ptform(u):\n",
    "    R_max = 1\n",
    "    R_min = 0.00001\n",
    "    x = R_max * u + R_min\n",
    "    \n",
    "    return x"
   ]
  },
  {
   "cell_type": "markdown",
   "metadata": {},
   "source": [
    "# Sampling"
   ]
  },
  {
   "cell_type": "code",
   "execution_count": null,
   "metadata": {},
   "outputs": [
    {
     "name": "stdout",
     "output_type": "stream",
     "text": [
      "-51.827194\n",
      "-10000.0\n",
      "-36.194363\n",
      "-105.56377\n",
      "-543.87103\n",
      "-76.082184\n",
      "-34.926517\n",
      "-65.988716\n",
      "-2467.2705\n",
      "-782.5821\n",
      "-61.331875\n",
      "-86.72978\n",
      "-139.0176\n",
      "-52.50425\n",
      "-49.483337\n",
      "-68.83457\n",
      "-38.865726\n",
      "-85.044174\n",
      "-68.144684\n",
      "-10000.0\n",
      "-341.91437\n",
      "-2164.1467\n",
      "-10000.0\n",
      "-10000.0\n",
      "-10000.0\n",
      "-71.04485\n",
      "-54.77932\n",
      "-67.299904\n",
      "-6370.1553\n",
      "-45.891445\n",
      "-76.96891\n",
      "-123.71766\n",
      "-9999.628\n",
      "-10000.0\n",
      "-293.07123\n",
      "-59.426613\n",
      "-125.71635\n",
      "-479.53778\n",
      "-62.27851\n",
      "-8066.079\n",
      "-62.554752\n",
      "-47.04682\n",
      "-68.14223\n",
      "-99.4964\n",
      "-10000.0\n",
      "-71.9502\n",
      "-10000.0\n",
      "-146.06021\n",
      "-62.436775\n",
      "-97.43374\n",
      "-303.1379\n",
      "-130.34084\n",
      "-64.70127\n",
      "-42.176273\n",
      "-9997.0205\n",
      "-42.365204\n",
      "-10000.0\n",
      "-42.361217\n",
      "-10000.0\n",
      "-87.82733\n",
      "-10000.373\n",
      "-55.270348\n",
      "-10000.0\n",
      "-117.50238\n",
      "-10000.0\n",
      "-9999.628\n",
      "-181.9886\n",
      "-55.27504\n",
      "-58.307938\n",
      "-140.91814\n",
      "-67.65675\n",
      "-121.15197\n",
      "-10000.0\n",
      "-236.1343\n",
      "-65.05139\n",
      "-118.06073\n",
      "-55.91817\n",
      "-71.57813\n",
      "-55.107132\n",
      "-21.542622\n",
      "-10000.0\n",
      "-8775.398\n",
      "-298.97665\n",
      "-69.78615\n",
      "-10000.0\n",
      "-160.60516\n",
      "-85.613846\n",
      "-138.33966\n",
      "-10000.0\n",
      "-84.03829\n",
      "-28.718096\n",
      "-388.2028\n",
      "-158.31488\n",
      "-84.6765\n",
      "-50.259155\n",
      "-10000.0\n",
      "-10000.0\n",
      "-10000.0\n",
      "-66.37677\n",
      "-90.78729\n",
      "-10000.0\n",
      "-87.67735\n",
      "-10000.0\n",
      "-107.06079\n",
      "-10000.0\n",
      "-68.668274\n",
      "-43.605545\n",
      "-141.10904\n",
      "-36.624546\n",
      "-63.775547\n",
      "-25.543108\n",
      "-59.356117\n",
      "-30.919239\n",
      "-69.07958\n",
      "-27.933512\n",
      "-10000.0\n",
      "-65.785065\n",
      "-10000.0\n",
      "-56.088356\n",
      "-10000.0\n",
      "-103.58786\n",
      "-60.120953\n",
      "-95.853546\n",
      "-102.42561\n",
      "-34.124832\n",
      "-168.96846\n",
      "-129.59949\n",
      "-74.86853\n",
      "-73.791985\n",
      "-70.007515\n",
      "-131.78766\n",
      "-42.415554\n",
      "-53.492634\n",
      "-64.85081\n",
      "-45.05702\n",
      "-9852.453\n",
      "-37.978558\n",
      "-76.1459\n",
      "-83.07961\n",
      "-63.84009\n",
      "-10000.0\n",
      "-95.777824\n",
      "-10000.373\n",
      "-10000.0\n",
      "-10000.0\n",
      "-161.92538\n",
      "-91.23235\n",
      "-42.012047\n",
      "-37.72621\n",
      "-62.192665\n",
      "-41.08397\n",
      "-21.015068\n",
      "-202.37683\n",
      "-45.050716\n",
      "-64.30474\n",
      "-51.51733\n",
      "-10000.0\n",
      "-171.74858\n",
      "-33.865814\n",
      "-10000.0\n",
      "-79.18094\n",
      "-10000.0\n",
      "-824.3939\n",
      "-66.254074\n",
      "-57.056778\n",
      "-29.486937\n",
      "-161.74835\n",
      "-89.80751\n",
      "-70.50185\n",
      "-77.36089\n",
      "-66.64534\n",
      "-73.99723\n",
      "-203.47665\n",
      "-77.5108\n",
      "-4355.9824\n",
      "-54.75695\n",
      "-10000.0\n",
      "-9704.984\n",
      "-113.403366\n",
      "-22.046204\n",
      "-254.70132\n",
      "-10000.0\n",
      "-100.02402\n",
      "-64.77362\n",
      "-42.37028\n",
      "-75.28753\n",
      "-10000.373\n",
      "-4638.951\n",
      "-44.090023\n",
      "-60.671875\n",
      "-305.18054\n",
      "-54.877735\n",
      "-89.260574\n",
      "-16.643373\n",
      "-116.65381\n",
      "-64.67245\n",
      "-10000.0\n",
      "-63.441517\n",
      "-10000.0\n",
      "-10000.373\n",
      "-10000.0\n",
      "-88.870285\n",
      "-97.06046\n",
      "-38.730133\n",
      "-76.07651\n",
      "-91.809166\n",
      "-10000.0\n",
      "-143.85088\n",
      "-10000.0\n",
      "-31.164999\n",
      "-45.511074\n",
      "-182.97566\n",
      "-64.30106\n",
      "-10000.0\n",
      "-61.146397\n",
      "-173.6264\n",
      "-91.54129\n",
      "-44.42588\n",
      "-217.86302\n",
      "-50.27128\n",
      "-44.043175\n",
      "-54.533478\n",
      "-10000.0\n",
      "-28.284988\n",
      "-39.253895\n",
      "-134.71439\n",
      "-9999.814\n",
      "-88.68963\n",
      "-107.15931\n",
      "-46.297314\n",
      "-10000.0\n",
      "-73.003296\n",
      "-29.253387\n",
      "-48.38837\n",
      "-10000.0\n",
      "-42.959415\n",
      "-98.79475\n",
      "-55.30524\n",
      "-39.034054\n",
      "-87.67622\n",
      "-407.26245\n",
      "-58.91926\n",
      "-62.620792\n",
      "-9898.229\n",
      "-44.429558\n",
      "-58.26619\n",
      "-10000.0\n",
      "-39.07647\n",
      "-83.754845\n",
      "-83.40874\n",
      "-74.88159\n",
      "-10000.0\n",
      "-58.796803\n",
      "-121.11958\n",
      "-10000.0\n",
      "-10000.373\n",
      "-155.28946\n",
      "-991.486\n",
      "-70.49404\n",
      "-68.19075\n",
      "-109.16612\n",
      "-10000.0\n",
      "-53.517403\n",
      "-38.28192\n",
      "-45.783276\n",
      "-90.32375\n",
      "-132.86743\n",
      "-83.69103\n",
      "-38.186707\n",
      "-100.300674\n",
      "-40.995235\n",
      "-217.69994\n",
      "-66.02101\n",
      "-72.4541\n",
      "-30.179924\n",
      "-90.3772\n",
      "-203.02205\n",
      "-41.50699\n",
      "-70.612526\n",
      "-1324.6616\n",
      "-23.588295\n",
      "-37.942337\n",
      "-50.773777\n",
      "-10000.0\n",
      "-138.60489\n",
      "-91.01654\n",
      "-45.115986\n",
      "-36.359318\n",
      "-80.12493\n",
      "-10000.373\n",
      "-9999.628\n",
      "-10000.0\n",
      "-85.74714\n",
      "-51.26569\n",
      "-2411.287\n",
      "-74.62041\n",
      "-105.94312\n",
      "-57.185368\n",
      "-8874.913\n",
      "-80.98611\n",
      "-80.91107\n",
      "-938.0967\n",
      "-441.44284\n",
      "-157.8928\n",
      "-179.75117\n",
      "-10000.0\n",
      "-847.943\n",
      "-478.576\n",
      "-10000.0\n",
      "-74.19467\n",
      "-239.03989\n",
      "-32.566723\n",
      "-38.157257\n",
      "-56.056038\n",
      "-46.34106\n",
      "-77.255035\n",
      "-38.2287\n",
      "-32.356983\n",
      "-159.36766\n",
      "-58.697807\n",
      "-294.54688\n",
      "-100.22353\n",
      "-106.59656\n",
      "-44.00209\n",
      "-110.231224\n",
      "-346.05997\n",
      "-9999.255\n",
      "-59.45051\n",
      "-51.584393\n",
      "-111.191635\n",
      "-43.23225\n",
      "-120.786674\n",
      "-88.23528\n",
      "-78.98952\n",
      "-51.174828\n",
      "-42.099987\n",
      "-154.12625\n",
      "-66.28529\n",
      "-134.96503\n",
      "-5333.874\n",
      "-69.903015\n",
      "-36.649563\n",
      "-10000.373\n",
      "-155.26884\n",
      "-313.26727\n",
      "-257.44522\n",
      "-67.4116\n",
      "-54.827984\n",
      "-201.08308\n",
      "-37.800274\n",
      "-154.22064\n",
      "-185.1305\n",
      "-9999.814\n",
      "-51.556404\n",
      "-39.894596\n",
      "-9996.648\n",
      "-744.96387\n",
      "-51.570133\n",
      "-73.341324\n",
      "-62.09771\n",
      "-10000.0\n",
      "-56.503063\n",
      "-93.67525\n",
      "-18.586245\n",
      "-10000.0\n",
      "-91.29307\n",
      "-69.17355\n",
      "-10000.0\n",
      "-221.93526\n",
      "-43.35444\n",
      "-7349.655\n",
      "-51.025723\n",
      "-468.8505\n",
      "-10000.0\n",
      "-103.43138\n",
      "-21.338135\n",
      "-818.7664\n",
      "-176.85294\n",
      "-104.82961\n",
      "-184.77028\n",
      "-103.10703\n",
      "-80.87649\n",
      "-45.839005\n",
      "-10000.0\n",
      "-43.33911\n",
      "-90.51206\n",
      "-138.39697\n",
      "-10000.0\n",
      "-5085.0117\n",
      "-108.983185\n",
      "-251.86134\n",
      "-10000.0\n",
      "-122.13984\n",
      "-10000.0\n",
      "-94.6013\n",
      "-54.395847\n",
      "-53.9119\n",
      "-49.7613\n",
      "-22.425776\n",
      "-106.52964\n",
      "-10000.0\n",
      "-33.15387\n",
      "-117.14539\n",
      "-10000.0\n",
      "-102.433586\n",
      "-114.33714\n",
      "-139.1169\n",
      "-10000.0\n",
      "-25.276316\n",
      "-76.54011\n",
      "-92.413155\n",
      "-76.65785\n",
      "-53.557007\n",
      "-50.850174\n",
      "-74.92294\n",
      "-10000.0\n",
      "-43.132935\n",
      "-90.870224\n",
      "-67.811485\n",
      "-105.66555\n",
      "-16.062178\n",
      "-43.298428\n",
      "-10000.0\n",
      "-50.06022\n",
      "-60.360573\n",
      "-10000.0\n",
      "-81.30166\n",
      "-38.307293\n",
      "-91.056076\n",
      "-233.9895\n",
      "-30.517366\n",
      "-10000.0\n",
      "-89.44026\n",
      "-648.5021\n",
      "-77.48284\n",
      "-10000.0\n",
      "-98.201836\n",
      "-10000.0\n",
      "-24.50987\n",
      "-68.51646\n",
      "-307.93503\n",
      "-26.799664\n",
      "-10000.0\n",
      "-35.533905\n",
      "-33.617836\n",
      "-9873.29\n",
      "-10000.0\n",
      "-36.55839\n",
      "-51.510193\n",
      "-43.469967\n",
      "-92.42929\n",
      "-145.60811\n",
      "-41.827946\n",
      "-93.40871\n",
      "-10000.0\n",
      "-65.76422\n",
      "-24.931967\n",
      "-9959.929\n",
      "-81.06449\n",
      "-164.5825\n",
      "-10000.0\n",
      "-72.693985\n",
      "-46.792885\n",
      "-10000.0\n",
      "-99.357315\n",
      "-341.89825\n",
      "-125.674706\n",
      "-10000.0\n",
      "-4707.697\n",
      "-25.896135\n",
      "-10000.0\n",
      "-10000.0\n",
      "-10000.0\n",
      "-26.34435\n",
      "-723.61096\n",
      "-219.22449\n",
      "-10000.0\n",
      "-9991.067\n",
      "-45.848656\n",
      "-130.78386\n",
      "-116.07063\n",
      "-60.94481\n",
      "-453.0575\n",
      "-77.49848\n",
      "-36.928406\n",
      "-48.680244\n",
      "-49.814568\n",
      "-10000.0\n",
      "-64.941154\n",
      "-37.842022\n",
      "-10000.0\n",
      "-29.837301\n",
      "-86.27989\n",
      "-10000.0\n",
      "-65.72857\n",
      "-37.55354\n",
      "-209.26439\n",
      "-31.00206\n",
      "-51.155308\n",
      "-588.42706\n"
     ]
    },
    {
     "name": "stderr",
     "output_type": "stream",
     "text": [
      "1it [00:00,  1.40it/s, bound: 0 | nc: 1 | ncall: 501 | eff(%):  0.200 | loglstar:   -inf < -10000.373 <    inf | logz: -10007.283 +/-  0.117 | dlogz:    inf >  0.509]"
     ]
    },
    {
     "name": "stdout",
     "output_type": "stream",
     "text": [
      "-70.01021\n"
     ]
    },
    {
     "name": "stderr",
     "output_type": "stream",
     "text": [
      "2it [00:01,  1.41it/s, bound: 0 | nc: 1 | ncall: 502 | eff(%):  0.398 | loglstar:   -inf < -10000.373 <    inf | logz: -10006.184 +/-  0.108 | dlogz: 9991.219 >  0.509]"
     ]
    },
    {
     "name": "stdout",
     "output_type": "stream",
     "text": [
      "-869.667\n"
     ]
    },
    {
     "name": "stderr",
     "output_type": "stream",
     "text": [
      "3it [00:02,  1.41it/s, bound: 0 | nc: 1 | ncall: 503 | eff(%):  0.596 | loglstar:   -inf < -10000.373 <    inf | logz: -10005.673 +/-  0.103 | dlogz: 9990.118 >  0.509]"
     ]
    },
    {
     "name": "stdout",
     "output_type": "stream",
     "text": [
      "-34.27738\n"
     ]
    },
    {
     "name": "stderr",
     "output_type": "stream",
     "text": [
      "4it [00:02,  1.40it/s, bound: 0 | nc: 1 | ncall: 504 | eff(%):  0.794 | loglstar:   -inf < -10000.373 <    inf | logz: -10005.337 +/-  0.100 | dlogz: 9989.605 >  0.509]"
     ]
    },
    {
     "name": "stdout",
     "output_type": "stream",
     "text": [
      "-43.52901\n"
     ]
    },
    {
     "name": "stderr",
     "output_type": "stream",
     "text": [
      "5it [00:03,  1.41it/s, bound: 0 | nc: 1 | ncall: 505 | eff(%):  0.990 | loglstar:   -inf < -10000.373 <    inf | logz: -10005.086 +/-  0.097 | dlogz: 9989.267 >  0.509]"
     ]
    },
    {
     "name": "stdout",
     "output_type": "stream",
     "text": [
      "-94.67594\n"
     ]
    },
    {
     "name": "stderr",
     "output_type": "stream",
     "text": [
      "6it [00:04,  1.39it/s, bound: 0 | nc: 1 | ncall: 506 | eff(%):  1.186 | loglstar:   -inf < -10000.373 <    inf | logz: -10004.885 +/-  0.095 | dlogz: 9989.013 >  0.509]"
     ]
    },
    {
     "name": "stdout",
     "output_type": "stream",
     "text": [
      "-75.58669\n"
     ]
    },
    {
     "name": "stderr",
     "output_type": "stream",
     "text": [
      "7it [00:05,  1.39it/s, bound: 0 | nc: 1 | ncall: 507 | eff(%):  1.381 | loglstar:   -inf < -10000.373 <    inf | logz: -10004.718 +/-  0.093 | dlogz: 9988.811 >  0.509]"
     ]
    },
    {
     "name": "stdout",
     "output_type": "stream",
     "text": [
      "-111.30436\n"
     ]
    },
    {
     "name": "stderr",
     "output_type": "stream",
     "text": [
      "8it [00:05,  1.37it/s, bound: 0 | nc: 1 | ncall: 508 | eff(%):  1.575 | loglstar:   -inf < -10000.000 <    inf | logz: -10004.547 +/-  0.092 | dlogz: 9988.642 >  0.509]"
     ]
    },
    {
     "name": "stdout",
     "output_type": "stream",
     "text": [
      "-50.31537\n"
     ]
    },
    {
     "name": "stderr",
     "output_type": "stream",
     "text": [
      "9it [00:06,  1.35it/s, bound: 0 | nc: 1 | ncall: 509 | eff(%):  1.768 | loglstar:   -inf < -10000.000 <    inf | logz: -10004.377 +/-  0.090 | dlogz: 9988.469 >  0.509]"
     ]
    },
    {
     "name": "stdout",
     "output_type": "stream",
     "text": [
      "-104.71973\n"
     ]
    },
    {
     "name": "stderr",
     "output_type": "stream",
     "text": [
      "10it [00:07,  1.36it/s, bound: 0 | nc: 1 | ncall: 510 | eff(%):  1.961 | loglstar:   -inf < -10000.000 <    inf | logz: -10004.231 +/-  0.089 | dlogz: 9988.297 >  0.509]"
     ]
    },
    {
     "name": "stdout",
     "output_type": "stream",
     "text": [
      "-25.998652\n",
      "-10000.0\n",
      "-10000.0\n"
     ]
    },
    {
     "name": "stderr",
     "output_type": "stream",
     "text": [
      "11it [00:09,  1.15s/it, bound: 0 | nc: 3 | ncall: 513 | eff(%):  2.144 | loglstar:   -inf < -10000.000 <    inf | logz: -10004.104 +/-  0.088 | dlogz: 9988.149 >  0.509]"
     ]
    },
    {
     "name": "stdout",
     "output_type": "stream",
     "text": [
      "-65.33675\n"
     ]
    },
    {
     "name": "stderr",
     "output_type": "stream",
     "text": [
      "12it [00:10,  1.02s/it, bound: 0 | nc: 1 | ncall: 514 | eff(%):  2.335 | loglstar:   -inf < -10000.000 <    inf | logz: -10003.992 +/-  0.087 | dlogz: 9988.020 >  0.509]"
     ]
    },
    {
     "name": "stdout",
     "output_type": "stream",
     "text": [
      "-5462.606\n"
     ]
    },
    {
     "name": "stderr",
     "output_type": "stream",
     "text": [
      "13it [00:10,  1.09it/s, bound: 0 | nc: 1 | ncall: 515 | eff(%):  2.524 | loglstar:   -inf < -10000.000 <    inf | logz: -10003.890 +/-  0.086 | dlogz: 9987.905 >  0.509]"
     ]
    },
    {
     "name": "stdout",
     "output_type": "stream",
     "text": [
      "-55.639763\n"
     ]
    },
    {
     "name": "stderr",
     "output_type": "stream",
     "text": [
      "14it [00:11,  1.17it/s, bound: 0 | nc: 1 | ncall: 516 | eff(%):  2.713 | loglstar:   -inf < -10000.000 <    inf | logz: -10003.798 +/-  0.085 | dlogz: 9987.802 >  0.509]"
     ]
    },
    {
     "name": "stdout",
     "output_type": "stream",
     "text": [
      "-43.808853\n"
     ]
    },
    {
     "name": "stderr",
     "output_type": "stream",
     "text": [
      "15it [00:12,  1.24it/s, bound: 0 | nc: 1 | ncall: 517 | eff(%):  2.901 | loglstar:   -inf < -10000.000 <    inf | logz: -10003.714 +/-  0.084 | dlogz: 9987.708 >  0.509]"
     ]
    },
    {
     "name": "stdout",
     "output_type": "stream",
     "text": [
      "-31.129444\n"
     ]
    },
    {
     "name": "stderr",
     "output_type": "stream",
     "text": [
      "16it [00:12,  1.29it/s, bound: 0 | nc: 1 | ncall: 518 | eff(%):  3.089 | loglstar:   -inf < -10000.000 <    inf | logz: -10003.637 +/-  0.083 | dlogz: 9987.622 >  0.509]"
     ]
    },
    {
     "name": "stdout",
     "output_type": "stream",
     "text": [
      "-137.49088\n",
      "-10000.0\n"
     ]
    },
    {
     "name": "stderr",
     "output_type": "stream",
     "text": [
      "17it [00:14,  1.03it/s, bound: 0 | nc: 2 | ncall: 520 | eff(%):  3.269 | loglstar:   -inf < -10000.000 <    inf | logz: -10003.565 +/-  0.083 | dlogz: 9987.542 >  0.509]"
     ]
    },
    {
     "name": "stdout",
     "output_type": "stream",
     "text": [
      "-238.82614\n"
     ]
    },
    {
     "name": "stderr",
     "output_type": "stream",
     "text": [
      "18it [00:15,  1.12it/s, bound: 0 | nc: 1 | ncall: 521 | eff(%):  3.455 | loglstar:   -inf < -10000.000 <    inf | logz: -10003.497 +/-  0.082 | dlogz: 9987.468 >  0.509]"
     ]
    },
    {
     "name": "stdout",
     "output_type": "stream",
     "text": [
      "-102.96701\n"
     ]
    },
    {
     "name": "stderr",
     "output_type": "stream",
     "text": [
      "19it [00:15,  1.19it/s, bound: 0 | nc: 1 | ncall: 522 | eff(%):  3.640 | loglstar:   -inf < -10000.000 <    inf | logz: -10003.434 +/-  0.081 | dlogz: 9987.399 >  0.509]"
     ]
    },
    {
     "name": "stdout",
     "output_type": "stream",
     "text": [
      "-80.48034\n",
      "-10000.0\n"
     ]
    },
    {
     "name": "stderr",
     "output_type": "stream",
     "text": [
      "20it [00:17,  1.02s/it, bound: 0 | nc: 2 | ncall: 524 | eff(%):  3.817 | loglstar:   -inf < -10000.000 <    inf | logz: -10003.375 +/-  0.081 | dlogz: 9987.334 >  0.509]"
     ]
    },
    {
     "name": "stdout",
     "output_type": "stream",
     "text": [
      "-94.49608\n"
     ]
    },
    {
     "name": "stderr",
     "output_type": "stream",
     "text": [
      "21it [00:17,  1.08it/s, bound: 0 | nc: 1 | ncall: 525 | eff(%):  4.000 | loglstar:   -inf < -10000.000 <    inf | logz: -10003.319 +/-  0.080 | dlogz: 9987.273 >  0.509]"
     ]
    },
    {
     "name": "stdout",
     "output_type": "stream",
     "text": [
      "-51.69076\n"
     ]
    },
    {
     "name": "stderr",
     "output_type": "stream",
     "text": [
      "22it [00:18,  1.16it/s, bound: 0 | nc: 1 | ncall: 526 | eff(%):  4.183 | loglstar:   -inf < -10000.000 <    inf | logz: -10003.266 +/-  0.079 | dlogz: 9987.215 >  0.509]"
     ]
    },
    {
     "name": "stdout",
     "output_type": "stream",
     "text": [
      "-742.92786\n"
     ]
    },
    {
     "name": "stderr",
     "output_type": "stream",
     "text": [
      "23it [00:19,  1.23it/s, bound: 0 | nc: 1 | ncall: 527 | eff(%):  4.364 | loglstar:   -inf < -10000.000 <    inf | logz: -10003.216 +/-  0.079 | dlogz: 9987.160 >  0.509]"
     ]
    },
    {
     "name": "stdout",
     "output_type": "stream",
     "text": [
      "-84.35064\n"
     ]
    },
    {
     "name": "stderr",
     "output_type": "stream",
     "text": [
      "24it [00:20,  1.27it/s, bound: 0 | nc: 1 | ncall: 528 | eff(%):  4.545 | loglstar:   -inf < -10000.000 <    inf | logz: -10003.168 +/-  0.078 | dlogz: 9987.107 >  0.509]"
     ]
    },
    {
     "name": "stdout",
     "output_type": "stream",
     "text": [
      "-79.12373\n"
     ]
    },
    {
     "name": "stderr",
     "output_type": "stream",
     "text": [
      "25it [00:20,  1.31it/s, bound: 0 | nc: 1 | ncall: 529 | eff(%):  4.726 | loglstar:   -inf < -10000.000 <    inf | logz: -10003.122 +/-  0.078 | dlogz: 9987.057 >  0.509]"
     ]
    },
    {
     "name": "stdout",
     "output_type": "stream",
     "text": [
      "-87.33065\n"
     ]
    },
    {
     "name": "stderr",
     "output_type": "stream",
     "text": [
      "26it [00:21,  1.34it/s, bound: 0 | nc: 1 | ncall: 530 | eff(%):  4.906 | loglstar:   -inf < -10000.000 <    inf | logz: -10003.079 +/-  0.077 | dlogz: 9987.009 >  0.509]"
     ]
    },
    {
     "name": "stdout",
     "output_type": "stream",
     "text": [
      "-74.4404\n"
     ]
    },
    {
     "name": "stderr",
     "output_type": "stream",
     "text": [
      "27it [00:22,  1.36it/s, bound: 0 | nc: 1 | ncall: 531 | eff(%):  5.085 | loglstar:   -inf < -10000.000 <    inf | logz: -10003.037 +/-  0.076 | dlogz: 9986.964 >  0.509]"
     ]
    },
    {
     "name": "stdout",
     "output_type": "stream",
     "text": [
      "-48.32252\n",
      "-10000.0\n"
     ]
    },
    {
     "name": "stderr",
     "output_type": "stream",
     "text": [
      "28it [00:23,  1.06it/s, bound: 0 | nc: 2 | ncall: 533 | eff(%):  5.253 | loglstar:   -inf < -10000.000 <    inf | logz: -10002.997 +/-  0.076 | dlogz: 9986.920 >  0.509]"
     ]
    },
    {
     "name": "stdout",
     "output_type": "stream",
     "text": [
      "-43.518078\n"
     ]
    },
    {
     "name": "stderr",
     "output_type": "stream",
     "text": [
      "29it [00:24,  1.15it/s, bound: 0 | nc: 1 | ncall: 534 | eff(%):  5.431 | loglstar:   -inf < -10000.000 <    inf | logz: -10002.958 +/-  0.075 | dlogz: 9986.877 >  0.509]"
     ]
    },
    {
     "name": "stdout",
     "output_type": "stream",
     "text": [
      "-85.85387\n"
     ]
    },
    {
     "name": "stderr",
     "output_type": "stream",
     "text": [
      "30it [00:24,  1.21it/s, bound: 0 | nc: 1 | ncall: 535 | eff(%):  5.607 | loglstar:   -inf < -10000.000 <    inf | logz: -10002.921 +/-  0.075 | dlogz: 9986.837 >  0.509]"
     ]
    },
    {
     "name": "stdout",
     "output_type": "stream",
     "text": [
      "-65.8948\n"
     ]
    },
    {
     "name": "stderr",
     "output_type": "stream",
     "text": [
      "31it [00:25,  1.27it/s, bound: 0 | nc: 1 | ncall: 536 | eff(%):  5.784 | loglstar:   -inf < -10000.000 <    inf | logz: -10002.885 +/-  0.075 | dlogz: 9986.797 >  0.509]"
     ]
    },
    {
     "name": "stdout",
     "output_type": "stream",
     "text": [
      "-9958.819\n"
     ]
    },
    {
     "name": "stderr",
     "output_type": "stream",
     "text": [
      "32it [00:26,  1.31it/s, bound: 0 | nc: 1 | ncall: 537 | eff(%):  5.959 | loglstar:   -inf < -10000.000 <    inf | logz: -10002.850 +/-  0.074 | dlogz: 9986.760 >  0.509]"
     ]
    },
    {
     "name": "stdout",
     "output_type": "stream",
     "text": [
      "-86.62113\n"
     ]
    },
    {
     "name": "stderr",
     "output_type": "stream",
     "text": [
      "33it [00:27,  1.34it/s, bound: 0 | nc: 1 | ncall: 538 | eff(%):  6.134 | loglstar:   -inf < -10000.000 <    inf | logz: -10002.817 +/-  0.074 | dlogz: 9986.723 >  0.509]"
     ]
    },
    {
     "name": "stdout",
     "output_type": "stream",
     "text": [
      "-27.240316\n",
      "-10000.0\n"
     ]
    },
    {
     "name": "stderr",
     "output_type": "stream",
     "text": [
      "34it [00:28,  1.02it/s, bound: 0 | nc: 2 | ncall: 540 | eff(%):  6.296 | loglstar:   -inf < -10000.000 <    inf | logz: -10002.784 +/-  0.073 | dlogz: 9986.687 >  0.509]"
     ]
    },
    {
     "name": "stdout",
     "output_type": "stream",
     "text": [
      "-428.02805\n",
      "-10000.0\n"
     ]
    },
    {
     "name": "stderr",
     "output_type": "stream",
     "text": [
      "35it [00:30,  1.15s/it, bound: 0 | nc: 2 | ncall: 542 | eff(%):  6.458 | loglstar:   -inf < -10000.000 <    inf | logz: -10002.753 +/-  0.073 | dlogz: 9986.653 >  0.509]"
     ]
    },
    {
     "name": "stdout",
     "output_type": "stream",
     "text": [
      "-95.19062\n",
      "-10000.0\n"
     ]
    },
    {
     "name": "stderr",
     "output_type": "stream",
     "text": [
      "36it [00:31,  1.28s/it, bound: 0 | nc: 2 | ncall: 544 | eff(%):  6.618 | loglstar:   -inf < -10000.000 <    inf | logz: -10002.723 +/-  0.072 | dlogz: 9986.619 >  0.509]"
     ]
    },
    {
     "name": "stdout",
     "output_type": "stream",
     "text": [
      "-50.293766\n"
     ]
    },
    {
     "name": "stderr",
     "output_type": "stream",
     "text": [
      "37it [00:32,  1.13s/it, bound: 0 | nc: 1 | ncall: 545 | eff(%):  6.789 | loglstar:   -inf < -10000.000 <    inf | logz: -10002.693 +/-  0.072 | dlogz: 9986.587 >  0.509]"
     ]
    },
    {
     "name": "stdout",
     "output_type": "stream",
     "text": [
      "-128.43268\n"
     ]
    },
    {
     "name": "stderr",
     "output_type": "stream",
     "text": [
      "38it [00:33,  1.01s/it, bound: 0 | nc: 1 | ncall: 546 | eff(%):  6.960 | loglstar:   -inf < -10000.000 <    inf | logz: -10002.664 +/-  0.072 | dlogz: 9986.555 >  0.509]"
     ]
    },
    {
     "name": "stdout",
     "output_type": "stream",
     "text": [
      "-92.2632\n"
     ]
    },
    {
     "name": "stderr",
     "output_type": "stream",
     "text": [
      "39it [00:34,  1.05it/s, bound: 0 | nc: 1 | ncall: 547 | eff(%):  7.130 | loglstar:   -inf < -10000.000 <    inf | logz: -10002.637 +/-  0.071 | dlogz: 9986.524 >  0.509]"
     ]
    },
    {
     "name": "stdout",
     "output_type": "stream",
     "text": [
      "-30.188366\n"
     ]
    },
    {
     "name": "stderr",
     "output_type": "stream",
     "text": [
      "40it [00:34,  1.11it/s, bound: 0 | nc: 1 | ncall: 548 | eff(%):  7.299 | loglstar:   -inf < -10000.000 <    inf | logz: -10002.609 +/-  0.071 | dlogz: 9986.494 >  0.509]"
     ]
    },
    {
     "name": "stdout",
     "output_type": "stream",
     "text": [
      "-55.12589\n"
     ]
    },
    {
     "name": "stderr",
     "output_type": "stream",
     "text": [
      "41it [00:35,  1.15it/s, bound: 0 | nc: 1 | ncall: 549 | eff(%):  7.468 | loglstar:   -inf < -10000.000 <    inf | logz: -10002.583 +/-  0.070 | dlogz: 9986.465 >  0.509]"
     ]
    },
    {
     "name": "stdout",
     "output_type": "stream",
     "text": [
      "-145.73802\n"
     ]
    },
    {
     "name": "stderr",
     "output_type": "stream",
     "text": [
      "42it [00:36,  1.18it/s, bound: 0 | nc: 1 | ncall: 550 | eff(%):  7.636 | loglstar:   -inf < -10000.000 <    inf | logz: -10002.557 +/-  0.070 | dlogz: 9986.437 >  0.509]"
     ]
    },
    {
     "name": "stdout",
     "output_type": "stream",
     "text": [
      "-148.04813\n"
     ]
    },
    {
     "name": "stderr",
     "output_type": "stream",
     "text": [
      "43it [00:37,  1.22it/s, bound: 0 | nc: 1 | ncall: 551 | eff(%):  7.804 | loglstar:   -inf < -10000.000 <    inf | logz: -10002.532 +/-  0.070 | dlogz: 9986.409 >  0.509]"
     ]
    },
    {
     "name": "stdout",
     "output_type": "stream",
     "text": [
      "-91.08946\n",
      "-10000.0\n"
     ]
    },
    {
     "name": "stderr",
     "output_type": "stream",
     "text": [
      "44it [00:38,  1.03s/it, bound: 0 | nc: 2 | ncall: 553 | eff(%):  7.957 | loglstar:   -inf < -10000.000 <    inf | logz: -10002.508 +/-  0.069 | dlogz: 9986.381 >  0.509]"
     ]
    },
    {
     "name": "stdout",
     "output_type": "stream",
     "text": [
      "-129.27777\n"
     ]
    },
    {
     "name": "stderr",
     "output_type": "stream",
     "text": [
      "45it [00:39,  1.05it/s, bound: 0 | nc: 1 | ncall: 554 | eff(%):  8.123 | loglstar:   -inf < -10000.000 <    inf | logz: -10002.484 +/-  0.069 | dlogz: 9986.355 >  0.509]"
     ]
    },
    {
     "name": "stdout",
     "output_type": "stream",
     "text": [
      "-2645.9214\n"
     ]
    },
    {
     "name": "stderr",
     "output_type": "stream",
     "text": [
      "46it [00:40,  1.11it/s, bound: 0 | nc: 1 | ncall: 555 | eff(%):  8.288 | loglstar:   -inf < -10000.000 <    inf | logz: -10002.461 +/-  0.069 | dlogz: 9986.329 >  0.509]"
     ]
    },
    {
     "name": "stdout",
     "output_type": "stream",
     "text": [
      "-9997.394\n"
     ]
    },
    {
     "name": "stderr",
     "output_type": "stream",
     "text": [
      "47it [00:41,  1.11it/s, bound: 0 | nc: 1 | ncall: 556 | eff(%):  8.453 | loglstar:   -inf < -10000.000 <    inf | logz: -10002.438 +/-  0.068 | dlogz: 9986.303 >  0.509]"
     ]
    },
    {
     "name": "stdout",
     "output_type": "stream",
     "text": [
      "-51.454243\n"
     ]
    },
    {
     "name": "stderr",
     "output_type": "stream",
     "text": [
      "48it [00:42,  1.13it/s, bound: 0 | nc: 1 | ncall: 557 | eff(%):  8.618 | loglstar:   -inf < -10000.000 <    inf | logz: -10002.416 +/-  0.068 | dlogz: 9986.278 >  0.509]"
     ]
    },
    {
     "name": "stdout",
     "output_type": "stream",
     "text": [
      "-102.210335\n"
     ]
    },
    {
     "name": "stderr",
     "output_type": "stream",
     "text": [
      "49it [00:42,  1.14it/s, bound: 0 | nc: 1 | ncall: 558 | eff(%):  8.781 | loglstar:   -inf < -10000.000 <    inf | logz: -10002.394 +/-  0.068 | dlogz: 9986.254 >  0.509]"
     ]
    },
    {
     "name": "stdout",
     "output_type": "stream",
     "text": [
      "-43.204666\n"
     ]
    },
    {
     "name": "stderr",
     "output_type": "stream",
     "text": [
      "50it [00:43,  1.14it/s, bound: 0 | nc: 1 | ncall: 559 | eff(%):  8.945 | loglstar:   -inf < -10000.000 <    inf | logz: -10002.372 +/-  0.067 | dlogz: 9986.230 >  0.509]"
     ]
    },
    {
     "name": "stdout",
     "output_type": "stream",
     "text": [
      "-6664.477\n"
     ]
    },
    {
     "name": "stderr",
     "output_type": "stream",
     "text": [
      "51it [00:44,  1.15it/s, bound: 0 | nc: 1 | ncall: 560 | eff(%):  9.107 | loglstar:   -inf < -10000.000 <    inf | logz: -10002.352 +/-  0.067 | dlogz: 9986.206 >  0.509]"
     ]
    },
    {
     "name": "stdout",
     "output_type": "stream",
     "text": [
      "-100.3929\n"
     ]
    },
    {
     "name": "stderr",
     "output_type": "stream",
     "text": [
      "52it [00:45,  1.15it/s, bound: 0 | nc: 1 | ncall: 561 | eff(%):  9.269 | loglstar:   -inf < -10000.000 <    inf | logz: -10002.331 +/-  0.067 | dlogz: 9986.183 >  0.509]"
     ]
    },
    {
     "name": "stdout",
     "output_type": "stream",
     "text": [
      "-85.31474\n"
     ]
    },
    {
     "name": "stderr",
     "output_type": "stream",
     "text": [
      "53it [00:46,  1.15it/s, bound: 0 | nc: 1 | ncall: 562 | eff(%):  9.431 | loglstar:   -inf < -10000.000 <    inf | logz: -10002.311 +/-  0.066 | dlogz: 9986.161 >  0.509]"
     ]
    },
    {
     "name": "stdout",
     "output_type": "stream",
     "text": [
      "-179.99777\n"
     ]
    },
    {
     "name": "stderr",
     "output_type": "stream",
     "text": [
      "54it [00:47,  1.15it/s, bound: 0 | nc: 1 | ncall: 563 | eff(%):  9.591 | loglstar:   -inf < -10000.000 <    inf | logz: -10002.291 +/-  0.066 | dlogz: 9986.138 >  0.509]"
     ]
    },
    {
     "name": "stdout",
     "output_type": "stream",
     "text": [
      "-67.41346\n",
      "-10000.0\n"
     ]
    },
    {
     "name": "stderr",
     "output_type": "stream",
     "text": [
      "55it [00:48,  1.13s/it, bound: 0 | nc: 2 | ncall: 565 | eff(%):  9.735 | loglstar:   -inf < -10000.000 <    inf | logz: -10002.272 +/-  0.066 | dlogz: 9986.117 >  0.509]"
     ]
    },
    {
     "name": "stdout",
     "output_type": "stream",
     "text": [
      "-3696.5393\n"
     ]
    },
    {
     "name": "stderr",
     "output_type": "stream",
     "text": [
      "56it [00:49,  1.05s/it, bound: 0 | nc: 1 | ncall: 566 | eff(%):  9.894 | loglstar:   -inf < -10000.000 <    inf | logz: -10002.253 +/-  0.065 | dlogz: 9986.095 >  0.509]"
     ]
    },
    {
     "name": "stdout",
     "output_type": "stream",
     "text": [
      "-193.9813\n"
     ]
    },
    {
     "name": "stderr",
     "output_type": "stream",
     "text": [
      "57it [00:50,  1.00it/s, bound: 0 | nc: 1 | ncall: 567 | eff(%): 10.053 | loglstar:   -inf < -10000.000 <    inf | logz: -10002.235 +/-  0.065 | dlogz: 9986.074 >  0.509]"
     ]
    },
    {
     "name": "stdout",
     "output_type": "stream",
     "text": [
      "-213.97983\n"
     ]
    },
    {
     "name": "stderr",
     "output_type": "stream",
     "text": [
      "58it [00:51,  1.04it/s, bound: 0 | nc: 1 | ncall: 568 | eff(%): 10.211 | loglstar:   -inf < -10000.000 <    inf | logz: -10002.216 +/-  0.065 | dlogz: 9986.053 >  0.509]"
     ]
    },
    {
     "name": "stdout",
     "output_type": "stream",
     "text": [
      "-134.45946\n"
     ]
    },
    {
     "name": "stderr",
     "output_type": "stream",
     "text": [
      "59it [00:52,  1.07it/s, bound: 0 | nc: 1 | ncall: 569 | eff(%): 10.369 | loglstar:   -inf < -10000.000 <    inf | logz: -10002.198 +/-  0.064 | dlogz: 9986.033 >  0.509]"
     ]
    },
    {
     "name": "stdout",
     "output_type": "stream",
     "text": [
      "-27.586071\n"
     ]
    },
    {
     "name": "stderr",
     "output_type": "stream",
     "text": [
      "60it [00:53,  1.09it/s, bound: 0 | nc: 1 | ncall: 570 | eff(%): 10.526 | loglstar:   -inf < -10000.000 <    inf | logz: -10002.181 +/-  0.064 | dlogz: 9986.013 >  0.509]"
     ]
    },
    {
     "name": "stdout",
     "output_type": "stream",
     "text": [
      "-81.57845\n",
      "-10000.0\n"
     ]
    },
    {
     "name": "stderr",
     "output_type": "stream",
     "text": [
      "61it [00:55,  1.17s/it, bound: 0 | nc: 2 | ncall: 572 | eff(%): 10.664 | loglstar:   -inf < -10000.000 <    inf | logz: -10002.164 +/-  0.064 | dlogz: 9985.993 >  0.509]"
     ]
    },
    {
     "name": "stdout",
     "output_type": "stream",
     "text": [
      "-88.926636\n"
     ]
    },
    {
     "name": "stderr",
     "output_type": "stream",
     "text": [
      "62it [00:55,  1.08s/it, bound: 0 | nc: 1 | ncall: 573 | eff(%): 10.820 | loglstar:   -inf < -10000.000 <    inf | logz: -10002.147 +/-  0.064 | dlogz: 9985.973 >  0.509]"
     ]
    },
    {
     "name": "stdout",
     "output_type": "stream",
     "text": [
      "-56.981976\n"
     ]
    },
    {
     "name": "stderr",
     "output_type": "stream",
     "text": [
      "63it [00:56,  1.02s/it, bound: 0 | nc: 1 | ncall: 574 | eff(%): 10.976 | loglstar:   -inf < -10000.000 <    inf | logz: -10002.130 +/-  0.063 | dlogz: 9985.954 >  0.509]"
     ]
    },
    {
     "name": "stdout",
     "output_type": "stream",
     "text": [
      "-73.36394\n"
     ]
    },
    {
     "name": "stderr",
     "output_type": "stream",
     "text": [
      "64it [00:57,  1.02it/s, bound: 0 | nc: 1 | ncall: 575 | eff(%): 11.130 | loglstar:   -inf < -10000.000 <    inf | logz: -10002.114 +/-  0.063 | dlogz: 9985.935 >  0.509]"
     ]
    },
    {
     "name": "stdout",
     "output_type": "stream",
     "text": [
      "-9059.417\n"
     ]
    },
    {
     "name": "stderr",
     "output_type": "stream",
     "text": [
      "65it [00:58,  1.06it/s, bound: 0 | nc: 1 | ncall: 576 | eff(%): 11.285 | loglstar:   -inf < -10000.000 <    inf | logz: -10002.097 +/-  0.063 | dlogz: 9985.917 >  0.509]"
     ]
    },
    {
     "name": "stdout",
     "output_type": "stream",
     "text": [
      "-65.64757\n"
     ]
    },
    {
     "name": "stderr",
     "output_type": "stream",
     "text": [
      "66it [00:59,  1.08it/s, bound: 0 | nc: 1 | ncall: 577 | eff(%): 11.438 | loglstar:   -inf < -10000.000 <    inf | logz: -10002.081 +/-  0.062 | dlogz: 9985.898 >  0.509]"
     ]
    },
    {
     "name": "stdout",
     "output_type": "stream",
     "text": [
      "-107.59535\n"
     ]
    },
    {
     "name": "stderr",
     "output_type": "stream",
     "text": [
      "67it [01:00,  1.10it/s, bound: 0 | nc: 1 | ncall: 578 | eff(%): 11.592 | loglstar:   -inf < -10000.000 <    inf | logz: -10002.066 +/-  0.062 | dlogz: 9985.880 >  0.509]"
     ]
    },
    {
     "name": "stdout",
     "output_type": "stream",
     "text": [
      "-49.323658\n",
      "-10000.0\n"
     ]
    },
    {
     "name": "stderr",
     "output_type": "stream",
     "text": [
      "68it [01:02,  1.16s/it, bound: 0 | nc: 2 | ncall: 580 | eff(%): 11.724 | loglstar:   -inf < -10000.000 <    inf | logz: -10002.050 +/-  0.062 | dlogz: 9985.862 >  0.509]"
     ]
    },
    {
     "name": "stdout",
     "output_type": "stream",
     "text": [
      "-69.228226\n"
     ]
    },
    {
     "name": "stderr",
     "output_type": "stream",
     "text": [
      "69it [01:02,  1.07s/it, bound: 0 | nc: 1 | ncall: 581 | eff(%): 11.876 | loglstar:   -inf < -10000.000 <    inf | logz: -10002.035 +/-  0.062 | dlogz: 9985.844 >  0.509]"
     ]
    },
    {
     "name": "stdout",
     "output_type": "stream",
     "text": [
      "-66.25393\n"
     ]
    },
    {
     "name": "stderr",
     "output_type": "stream",
     "text": [
      "70it [01:03,  1.01s/it, bound: 0 | nc: 1 | ncall: 582 | eff(%): 12.027 | loglstar:   -inf < -10000.000 <    inf | logz: -10002.020 +/-  0.061 | dlogz: 9985.827 >  0.509]"
     ]
    },
    {
     "name": "stdout",
     "output_type": "stream",
     "text": [
      "-51.90272\n"
     ]
    },
    {
     "name": "stderr",
     "output_type": "stream",
     "text": [
      "71it [01:04,  1.03it/s, bound: 0 | nc: 1 | ncall: 583 | eff(%): 12.178 | loglstar:   -inf < -10000.000 <    inf | logz: -10002.006 +/-  0.061 | dlogz: 9985.810 >  0.509]"
     ]
    },
    {
     "name": "stdout",
     "output_type": "stream",
     "text": [
      "-83.0032\n",
      "-10000.0\n"
     ]
    },
    {
     "name": "stderr",
     "output_type": "stream",
     "text": [
      "72it [01:06,  1.13s/it, bound: 0 | nc: 2 | ncall: 585 | eff(%): 12.308 | loglstar:   -inf < -10000.000 <    inf | logz: -10001.991 +/-  0.061 | dlogz: 9985.793 >  0.509]"
     ]
    },
    {
     "name": "stdout",
     "output_type": "stream",
     "text": [
      "-238.06639\n"
     ]
    },
    {
     "name": "stderr",
     "output_type": "stream",
     "text": [
      "73it [01:06,  1.00s/it, bound: 0 | nc: 1 | ncall: 586 | eff(%): 12.457 | loglstar:   -inf < -10000.000 <    inf | logz: -10001.977 +/-  0.061 | dlogz: 9985.776 >  0.509]"
     ]
    },
    {
     "name": "stdout",
     "output_type": "stream",
     "text": [
      "-373.68466\n"
     ]
    },
    {
     "name": "stderr",
     "output_type": "stream",
     "text": [
      "74it [01:07,  1.09it/s, bound: 0 | nc: 1 | ncall: 587 | eff(%): 12.606 | loglstar:   -inf < -10000.000 <    inf | logz: -10001.963 +/-  0.060 | dlogz: 9985.759 >  0.509]"
     ]
    },
    {
     "name": "stdout",
     "output_type": "stream",
     "text": [
      "-59.410774\n"
     ]
    },
    {
     "name": "stderr",
     "output_type": "stream",
     "text": [
      "75it [01:08,  1.17it/s, bound: 0 | nc: 1 | ncall: 588 | eff(%): 12.755 | loglstar:   -inf < -10000.000 <    inf | logz: -10001.949 +/-  0.060 | dlogz: 9985.743 >  0.509]"
     ]
    },
    {
     "name": "stdout",
     "output_type": "stream",
     "text": [
      "-68.149574\n"
     ]
    },
    {
     "name": "stderr",
     "output_type": "stream",
     "text": [
      "76it [01:09,  1.23it/s, bound: 0 | nc: 1 | ncall: 589 | eff(%): 12.903 | loglstar:   -inf < -10000.000 <    inf | logz: -10001.935 +/-  0.060 | dlogz: 9985.727 >  0.509]"
     ]
    },
    {
     "name": "stdout",
     "output_type": "stream",
     "text": [
      "-160.51219\n",
      "-10000.0\n",
      "-10000.0\n",
      "-10000.0\n"
     ]
    },
    {
     "name": "stderr",
     "output_type": "stream",
     "text": [
      "77it [01:11,  1.41s/it, bound: 0 | nc: 4 | ncall: 593 | eff(%): 12.985 | loglstar:   -inf < -10000.000 <    inf | logz: -10001.921 +/-  0.059 | dlogz: 9985.711 >  0.509]"
     ]
    },
    {
     "name": "stdout",
     "output_type": "stream",
     "text": [
      "-94.21269\n"
     ]
    },
    {
     "name": "stderr",
     "output_type": "stream",
     "text": [
      "78it [01:12,  1.21s/it, bound: 0 | nc: 1 | ncall: 594 | eff(%): 13.131 | loglstar:   -inf < -10000.000 <    inf | logz: -10001.908 +/-  0.059 | dlogz: 9985.695 >  0.509]"
     ]
    },
    {
     "name": "stdout",
     "output_type": "stream",
     "text": [
      "-79.85312\n"
     ]
    },
    {
     "name": "stderr",
     "output_type": "stream",
     "text": [
      "79it [01:13,  1.06s/it, bound: 0 | nc: 1 | ncall: 595 | eff(%): 13.277 | loglstar:   -inf < -10000.000 <    inf | logz: -10001.895 +/-  0.059 | dlogz: 9985.679 >  0.509]"
     ]
    },
    {
     "name": "stdout",
     "output_type": "stream",
     "text": [
      "-44.10953\n"
     ]
    },
    {
     "name": "stderr",
     "output_type": "stream",
     "text": [
      "80it [01:14,  1.04it/s, bound: 0 | nc: 1 | ncall: 596 | eff(%): 13.423 | loglstar:   -inf < -10000.000 <    inf | logz: -10001.882 +/-  0.059 | dlogz: 9985.664 >  0.509]"
     ]
    },
    {
     "name": "stdout",
     "output_type": "stream",
     "text": [
      "-86.65333\n",
      "-10000.0\n"
     ]
    },
    {
     "name": "stderr",
     "output_type": "stream",
     "text": [
      "81it [01:15,  1.10s/it, bound: 0 | nc: 2 | ncall: 598 | eff(%): 13.545 | loglstar:   -inf < -10000.000 <    inf | logz: -10001.869 +/-  0.058 | dlogz: 9985.648 >  0.509]"
     ]
    },
    {
     "name": "stdout",
     "output_type": "stream",
     "text": [
      "-176.23248\n"
     ]
    },
    {
     "name": "stderr",
     "output_type": "stream",
     "text": [
      "82it [01:16,  1.02it/s, bound: 0 | nc: 1 | ncall: 599 | eff(%): 13.689 | loglstar:   -inf < -10000.000 <    inf | logz: -10001.856 +/-  0.058 | dlogz: 9985.633 >  0.509]"
     ]
    },
    {
     "name": "stdout",
     "output_type": "stream",
     "text": [
      "-1190.6147\n",
      "-10000.0\n",
      "-10000.0\n"
     ]
    },
    {
     "name": "stderr",
     "output_type": "stream",
     "text": [
      "83it [01:18,  1.32s/it, bound: 0 | nc: 3 | ncall: 602 | eff(%): 13.787 | loglstar:   -inf < -10000.000 <    inf | logz: -10001.844 +/-  0.058 | dlogz: 9985.618 >  0.509]"
     ]
    },
    {
     "name": "stdout",
     "output_type": "stream",
     "text": [
      "-47.209534\n"
     ]
    },
    {
     "name": "stderr",
     "output_type": "stream",
     "text": [
      "84it [01:18,  1.14s/it, bound: 0 | nc: 1 | ncall: 603 | eff(%): 13.930 | loglstar:   -inf < -10000.000 <    inf | logz: -10001.831 +/-  0.058 | dlogz: 9985.603 >  0.509]"
     ]
    },
    {
     "name": "stdout",
     "output_type": "stream",
     "text": [
      "-2871.9644\n"
     ]
    },
    {
     "name": "stderr",
     "output_type": "stream",
     "text": [
      "85it [01:19,  1.01s/it, bound: 0 | nc: 1 | ncall: 604 | eff(%): 14.073 | loglstar:   -inf < -10000.000 <    inf | logz: -10001.819 +/-  0.057 | dlogz: 9985.588 >  0.509]"
     ]
    },
    {
     "name": "stdout",
     "output_type": "stream",
     "text": [
      "-94.18362\n"
     ]
    },
    {
     "name": "stderr",
     "output_type": "stream",
     "text": [
      "86it [01:20,  1.09it/s, bound: 0 | nc: 1 | ncall: 605 | eff(%): 14.215 | loglstar:   -inf < -10000.000 <    inf | logz: -10001.807 +/-  0.057 | dlogz: 9985.574 >  0.509]"
     ]
    },
    {
     "name": "stdout",
     "output_type": "stream",
     "text": [
      "-45.054626\n"
     ]
    },
    {
     "name": "stderr",
     "output_type": "stream",
     "text": [
      "87it [01:21,  1.17it/s, bound: 0 | nc: 1 | ncall: 606 | eff(%): 14.356 | loglstar:   -inf < -10000.000 <    inf | logz: -10001.795 +/-  0.057 | dlogz: 9985.559 >  0.509]"
     ]
    },
    {
     "name": "stdout",
     "output_type": "stream",
     "text": [
      "-84.16135\n"
     ]
    },
    {
     "name": "stderr",
     "output_type": "stream",
     "text": [
      "88it [01:21,  1.23it/s, bound: 0 | nc: 1 | ncall: 607 | eff(%): 14.498 | loglstar:   -inf < -9999.814 <    inf | logz: -10001.784 +/-  0.057 | dlogz: 9985.545 >  0.509] "
     ]
    },
    {
     "name": "stdout",
     "output_type": "stream",
     "text": [
      "-8725.197\n"
     ]
    },
    {
     "name": "stderr",
     "output_type": "stream",
     "text": [
      "89it [01:22,  1.28it/s, bound: 0 | nc: 1 | ncall: 608 | eff(%): 14.638 | loglstar:   -inf < -9999.814 <    inf | logz: -10001.773 +/-  0.057 | dlogz: 9985.532 >  0.509]"
     ]
    },
    {
     "name": "stdout",
     "output_type": "stream",
     "text": [
      "-73.6478\n"
     ]
    },
    {
     "name": "stderr",
     "output_type": "stream",
     "text": [
      "90it [01:23,  1.32it/s, bound: 0 | nc: 1 | ncall: 609 | eff(%): 14.778 | loglstar:   -inf < -9999.628 <    inf | logz: -10001.760 +/-  0.056 | dlogz: 9985.518 >  0.509]"
     ]
    },
    {
     "name": "stdout",
     "output_type": "stream",
     "text": [
      "-41.884113\n"
     ]
    },
    {
     "name": "stderr",
     "output_type": "stream",
     "text": [
      "91it [01:23,  1.35it/s, bound: 0 | nc: 1 | ncall: 610 | eff(%): 14.918 | loglstar:   -inf < -9999.628 <    inf | logz: -10001.746 +/-  0.056 | dlogz: 9985.504 >  0.509]"
     ]
    },
    {
     "name": "stdout",
     "output_type": "stream",
     "text": [
      "-50.15467\n"
     ]
    },
    {
     "name": "stderr",
     "output_type": "stream",
     "text": [
      "92it [01:24,  1.37it/s, bound: 0 | nc: 1 | ncall: 611 | eff(%): 15.057 | loglstar:   -inf < -9999.628 <    inf | logz: -10001.732 +/-  0.056 | dlogz: 9985.488 >  0.509]"
     ]
    },
    {
     "name": "stdout",
     "output_type": "stream",
     "text": [
      "-47.756214\n"
     ]
    },
    {
     "name": "stderr",
     "output_type": "stream",
     "text": [
      "93it [01:25,  1.38it/s, bound: 0 | nc: 1 | ncall: 612 | eff(%): 15.196 | loglstar:   -inf < -9999.255 <    inf | logz: -10001.716 +/-  0.056 | dlogz: 9985.472 >  0.509]"
     ]
    },
    {
     "name": "stdout",
     "output_type": "stream",
     "text": [
      "-57.173954\n",
      "-10000.0\n"
     ]
    },
    {
     "name": "stderr",
     "output_type": "stream",
     "text": [
      "94it [01:26,  1.07it/s, bound: 0 | nc: 2 | ncall: 614 | eff(%): 15.309 | loglstar:   -inf < -9997.394 <    inf | logz: -10001.647 +/-  0.058 | dlogz: 9985.454 >  0.509]"
     ]
    },
    {
     "name": "stdout",
     "output_type": "stream",
     "text": [
      "-1731.802\n"
     ]
    },
    {
     "name": "stderr",
     "output_type": "stream",
     "text": [
      "95it [01:27,  1.16it/s, bound: 0 | nc: 1 | ncall: 615 | eff(%): 15.447 | loglstar:   -inf < -9997.021 <    inf | logz: -10001.516 +/-  0.061 | dlogz: 9985.383 >  0.509]"
     ]
    },
    {
     "name": "stdout",
     "output_type": "stream",
     "text": [
      "-28.9493\n"
     ]
    },
    {
     "name": "stderr",
     "output_type": "stream",
     "text": [
      "96it [01:28,  1.21it/s, bound: 0 | nc: 1 | ncall: 616 | eff(%): 15.584 | loglstar:   -inf < -9996.648 <    inf | logz: -10001.351 +/-  0.065 | dlogz: 9985.249 >  0.509]"
     ]
    },
    {
     "name": "stdout",
     "output_type": "stream",
     "text": [
      "-48.533604\n"
     ]
    },
    {
     "name": "stderr",
     "output_type": "stream",
     "text": [
      "97it [01:28,  1.23it/s, bound: 0 | nc: 1 | ncall: 617 | eff(%): 15.721 | loglstar:   -inf < -9991.067 <    inf | logz: -9998.138 +/-  0.115 | dlogz: 9985.083 >  0.509] "
     ]
    },
    {
     "name": "stdout",
     "output_type": "stream",
     "text": [
      "-136.0497\n",
      "-10000.0\n",
      "-9998.138\n"
     ]
    },
    {
     "name": "stderr",
     "output_type": "stream",
     "text": [
      "98it [01:31,  1.21s/it, bound: 0 | nc: 3 | ncall: 620 | eff(%): 15.806 | loglstar:   -inf < -9959.929 <    inf | logz: -9967.047 +/-  0.118 | dlogz: 9981.868 >  0.509]"
     ]
    },
    {
     "name": "stdout",
     "output_type": "stream",
     "text": [
      "-49.516476\n"
     ]
    },
    {
     "name": "stderr",
     "output_type": "stream",
     "text": [
      "99it [01:31,  1.06s/it, bound: 0 | nc: 1 | ncall: 621 | eff(%): 15.942 | loglstar:   -inf < -9958.819 <    inf | logz: -9965.432 +/-  0.110 | dlogz: 9950.774 >  0.509]"
     ]
    },
    {
     "name": "stdout",
     "output_type": "stream",
     "text": [
      "-129.86124\n"
     ]
    },
    {
     "name": "stderr",
     "output_type": "stream",
     "text": [
      "100it [01:32,  1.05it/s, bound: 0 | nc: 1 | ncall: 622 | eff(%): 16.077 | loglstar:   -inf < -9898.229 <    inf | logz: -9905.350 +/-  0.118 | dlogz: 9949.158 >  0.509]"
     ]
    },
    {
     "name": "stdout",
     "output_type": "stream",
     "text": [
      "-97.56735\n"
     ]
    },
    {
     "name": "stderr",
     "output_type": "stream",
     "text": [
      "101it [01:33,  1.13it/s, bound: 0 | nc: 1 | ncall: 623 | eff(%): 16.212 | loglstar:   -inf < -9873.290 <    inf | logz: -9880.414 +/-  0.118 | dlogz: 9889.074 >  0.509]"
     ]
    },
    {
     "name": "stdout",
     "output_type": "stream",
     "text": [
      "-78.36772\n"
     ]
    },
    {
     "name": "stderr",
     "output_type": "stream",
     "text": [
      "102it [01:33,  1.21it/s, bound: 0 | nc: 1 | ncall: 624 | eff(%): 16.346 | loglstar:   -inf < -9852.453 <    inf | logz: -9859.579 +/-  0.118 | dlogz: 9864.136 >  0.509]"
     ]
    },
    {
     "name": "stdout",
     "output_type": "stream",
     "text": [
      "-177.49463\n",
      "-10000.0\n"
     ]
    },
    {
     "name": "stderr",
     "output_type": "stream",
     "text": [
      "103it [01:35,  1.00s/it, bound: 0 | nc: 2 | ncall: 626 | eff(%): 16.454 | loglstar:   -inf < -9704.984 <    inf | logz: -9712.112 +/-  0.118 | dlogz: 9843.299 >  0.509]"
     ]
    },
    {
     "name": "stdout",
     "output_type": "stream",
     "text": [
      "-91.29655\n"
     ]
    },
    {
     "name": "stderr",
     "output_type": "stream",
     "text": [
      "104it [01:36,  1.09it/s, bound: 0 | nc: 1 | ncall: 627 | eff(%): 16.587 | loglstar:   -inf < -9059.417 <    inf | logz: -9066.547 +/-  0.118 | dlogz: 9695.830 >  0.509]"
     ]
    },
    {
     "name": "stdout",
     "output_type": "stream",
     "text": [
      "-74.892334\n"
     ]
    },
    {
     "name": "stderr",
     "output_type": "stream",
     "text": [
      "105it [01:36,  1.18it/s, bound: 0 | nc: 1 | ncall: 628 | eff(%): 16.720 | loglstar:   -inf < -8874.913 <    inf | logz: -8882.045 +/-  0.118 | dlogz: 9050.263 >  0.509]"
     ]
    },
    {
     "name": "stdout",
     "output_type": "stream",
     "text": [
      "-53.581215\n"
     ]
    },
    {
     "name": "stderr",
     "output_type": "stream",
     "text": [
      "106it [01:37,  1.24it/s, bound: 0 | nc: 1 | ncall: 629 | eff(%): 16.852 | loglstar:   -inf < -8775.398 <    inf | logz: -8782.532 +/-  0.118 | dlogz: 8865.759 >  0.509]"
     ]
    },
    {
     "name": "stdout",
     "output_type": "stream",
     "text": [
      "-82.71057\n"
     ]
    },
    {
     "name": "stderr",
     "output_type": "stream",
     "text": [
      "107it [01:38,  1.29it/s, bound: 0 | nc: 1 | ncall: 630 | eff(%): 16.984 | loglstar:   -inf < -8725.197 <    inf | logz: -8732.333 +/-  0.118 | dlogz: 8766.244 >  0.509]"
     ]
    },
    {
     "name": "stdout",
     "output_type": "stream",
     "text": [
      "-30.788097\n"
     ]
    },
    {
     "name": "stderr",
     "output_type": "stream",
     "text": [
      "108it [01:38,  1.33it/s, bound: 0 | nc: 1 | ncall: 631 | eff(%): 17.116 | loglstar:   -inf < -8066.079 <    inf | logz: -8073.217 +/-  0.118 | dlogz: 8716.043 >  0.509]"
     ]
    },
    {
     "name": "stdout",
     "output_type": "stream",
     "text": [
      "-26.515549\n"
     ]
    },
    {
     "name": "stderr",
     "output_type": "stream",
     "text": [
      "109it [01:39,  1.34it/s, bound: 0 | nc: 1 | ncall: 632 | eff(%): 17.247 | loglstar:   -inf < -7349.655 <    inf | logz: -7356.795 +/-  0.118 | dlogz: 8056.925 >  0.509]"
     ]
    },
    {
     "name": "stdout",
     "output_type": "stream",
     "text": [
      "-57.832363\n"
     ]
    },
    {
     "name": "stderr",
     "output_type": "stream",
     "text": [
      "110it [01:40,  1.36it/s, bound: 0 | nc: 1 | ncall: 633 | eff(%): 17.378 | loglstar:   -inf < -6664.477 <    inf | logz: -6671.619 +/-  0.118 | dlogz: 7340.500 >  0.509]"
     ]
    },
    {
     "name": "stdout",
     "output_type": "stream",
     "text": [
      "-212.46605\n"
     ]
    },
    {
     "name": "stderr",
     "output_type": "stream",
     "text": [
      "111it [01:41,  1.38it/s, bound: 0 | nc: 1 | ncall: 634 | eff(%): 17.508 | loglstar:   -inf < -6370.155 <    inf | logz: -6377.299 +/-  0.118 | dlogz: 6655.323 >  0.509]"
     ]
    },
    {
     "name": "stdout",
     "output_type": "stream",
     "text": [
      "-60.973118\n"
     ]
    },
    {
     "name": "stderr",
     "output_type": "stream",
     "text": [
      "112it [01:41,  1.39it/s, bound: 0 | nc: 1 | ncall: 635 | eff(%): 17.638 | loglstar:   -inf < -5462.606 <    inf | logz: -5469.752 +/-  0.118 | dlogz: 6361.001 >  0.509]"
     ]
    },
    {
     "name": "stdout",
     "output_type": "stream",
     "text": [
      "-238.63507\n",
      "-8164.7046\n"
     ]
    },
    {
     "name": "stderr",
     "output_type": "stream",
     "text": [
      "113it [01:43,  1.08it/s, bound: 0 | nc: 2 | ncall: 637 | eff(%): 17.739 | loglstar:   -inf < -5333.874 <    inf | logz: -5341.022 +/-  0.118 | dlogz: 5453.452 >  0.509]"
     ]
    },
    {
     "name": "stdout",
     "output_type": "stream",
     "text": [
      "-149.62094\n"
     ]
    },
    {
     "name": "stderr",
     "output_type": "stream",
     "text": [
      "114it [01:43,  1.16it/s, bound: 0 | nc: 1 | ncall: 638 | eff(%): 17.868 | loglstar:   -inf < -5085.012 <    inf | logz: -5092.161 +/-  0.118 | dlogz: 5324.720 >  0.509]"
     ]
    },
    {
     "name": "stdout",
     "output_type": "stream",
     "text": [
      "-25.70275\n"
     ]
    },
    {
     "name": "stderr",
     "output_type": "stream",
     "text": [
      "115it [01:44,  1.23it/s, bound: 0 | nc: 1 | ncall: 639 | eff(%): 17.997 | loglstar:   -inf < -4707.697 <    inf | logz: -4714.849 +/-  0.118 | dlogz: 5075.857 >  0.509]"
     ]
    },
    {
     "name": "stdout",
     "output_type": "stream",
     "text": [
      "-82.07802\n"
     ]
    },
    {
     "name": "stderr",
     "output_type": "stream",
     "text": [
      "116it [01:45,  1.28it/s, bound: 0 | nc: 1 | ncall: 640 | eff(%): 18.125 | loglstar:   -inf < -4638.951 <    inf | logz: -4646.105 +/-  0.118 | dlogz: 4698.542 >  0.509]"
     ]
    },
    {
     "name": "stdout",
     "output_type": "stream",
     "text": [
      "-283.44153\n"
     ]
    },
    {
     "name": "stderr",
     "output_type": "stream",
     "text": [
      "117it [01:45,  1.32it/s, bound: 0 | nc: 1 | ncall: 641 | eff(%): 18.253 | loglstar:   -inf < -4355.982 <    inf | logz: -4363.138 +/-  0.118 | dlogz: 4629.797 >  0.509]"
     ]
    },
    {
     "name": "stdout",
     "output_type": "stream",
     "text": [
      "-181.89192\n",
      "-10000.0\n"
     ]
    },
    {
     "name": "stderr",
     "output_type": "stream",
     "text": [
      "118it [01:47,  1.06it/s, bound: 0 | nc: 2 | ncall: 643 | eff(%): 18.351 | loglstar:   -inf < -3696.539 <    inf | logz: -3703.697 +/-  0.118 | dlogz: 4346.828 >  0.509]"
     ]
    },
    {
     "name": "stdout",
     "output_type": "stream",
     "text": [
      "-76.934\n"
     ]
    },
    {
     "name": "stderr",
     "output_type": "stream",
     "text": [
      "119it [01:48,  1.14it/s, bound: 0 | nc: 1 | ncall: 644 | eff(%): 18.478 | loglstar:   -inf < -2871.964 <    inf | logz: -2879.124 +/-  0.118 | dlogz: 3687.385 >  0.509]"
     ]
    },
    {
     "name": "stdout",
     "output_type": "stream",
     "text": [
      "-47.359917\n",
      "-10000.0\n",
      "-10000.0\n"
     ]
    },
    {
     "name": "stderr",
     "output_type": "stream",
     "text": [
      "120it [01:50,  1.26s/it, bound: 0 | nc: 3 | ncall: 647 | eff(%): 18.547 | loglstar:   -inf < -2645.921 <    inf | logz: -2653.083 +/-  0.118 | dlogz: 2862.810 >  0.509]"
     ]
    },
    {
     "name": "stdout",
     "output_type": "stream",
     "text": [
      "-36.794456\n"
     ]
    },
    {
     "name": "stderr",
     "output_type": "stream",
     "text": [
      "121it [01:50,  1.10s/it, bound: 0 | nc: 1 | ncall: 648 | eff(%): 18.673 | loglstar:   -inf < -2467.271 <    inf | logz: -2474.434 +/-  0.118 | dlogz: 2636.767 >  0.509]"
     ]
    },
    {
     "name": "stdout",
     "output_type": "stream",
     "text": [
      "-102.1981\n"
     ]
    },
    {
     "name": "stderr",
     "output_type": "stream",
     "text": [
      "122it [01:51,  1.01it/s, bound: 0 | nc: 1 | ncall: 649 | eff(%): 18.798 | loglstar:   -inf < -2411.287 <    inf | logz: -2418.453 +/-  0.118 | dlogz: 2458.116 >  0.509]"
     ]
    },
    {
     "name": "stdout",
     "output_type": "stream",
     "text": [
      "-39.485657\n"
     ]
    },
    {
     "name": "stderr",
     "output_type": "stream",
     "text": [
      "123it [01:52,  1.10it/s, bound: 0 | nc: 1 | ncall: 650 | eff(%): 18.923 | loglstar:   -inf < -2164.147 <    inf | logz: -2171.314 +/-  0.118 | dlogz: 2402.133 >  0.509]"
     ]
    },
    {
     "name": "stdout",
     "output_type": "stream",
     "text": [
      "-64.09075\n"
     ]
    },
    {
     "name": "stderr",
     "output_type": "stream",
     "text": [
      "124it [01:53,  1.18it/s, bound: 0 | nc: 1 | ncall: 651 | eff(%): 19.048 | loglstar:   -inf < -1731.802 <    inf | logz: -1738.972 +/-  0.118 | dlogz: 2154.992 >  0.509]"
     ]
    },
    {
     "name": "stdout",
     "output_type": "stream",
     "text": [
      "-85.50633\n"
     ]
    },
    {
     "name": "stderr",
     "output_type": "stream",
     "text": [
      "125it [01:53,  1.24it/s, bound: 0 | nc: 1 | ncall: 652 | eff(%): 19.172 | loglstar:   -inf < -1324.662 <    inf | logz: -1331.833 +/-  0.118 | dlogz: 1722.648 >  0.509]"
     ]
    },
    {
     "name": "stdout",
     "output_type": "stream",
     "text": [
      "-25.422894\n"
     ]
    },
    {
     "name": "stderr",
     "output_type": "stream",
     "text": [
      "126it [01:54,  1.29it/s, bound: 0 | nc: 1 | ncall: 653 | eff(%): 19.296 | loglstar:   -inf < -1190.615 <    inf | logz: -1197.788 +/-  0.118 | dlogz: 1315.507 >  0.509]"
     ]
    },
    {
     "name": "stdout",
     "output_type": "stream",
     "text": [
      "-99.12912\n"
     ]
    },
    {
     "name": "stderr",
     "output_type": "stream",
     "text": [
      "127it [01:55,  1.32it/s, bound: 0 | nc: 1 | ncall: 654 | eff(%): 19.419 | loglstar:   -inf < -991.486 <    inf | logz: -998.662 +/-  0.118 | dlogz: 1181.460 >  0.509]  "
     ]
    },
    {
     "name": "stdout",
     "output_type": "stream",
     "text": [
      "-78.226746\n"
     ]
    },
    {
     "name": "stderr",
     "output_type": "stream",
     "text": [
      "128it [01:55,  1.35it/s, bound: 0 | nc: 1 | ncall: 655 | eff(%): 19.542 | loglstar:   -inf < -938.097 <    inf | logz: -945.274 +/-  0.119 | dlogz: 982.332 >  0.509] "
     ]
    },
    {
     "name": "stdout",
     "output_type": "stream",
     "text": [
      "-56.609966\n",
      "-10000.0\n",
      "-10000.0\n"
     ]
    },
    {
     "name": "stderr",
     "output_type": "stream",
     "text": [
      "129it [01:58,  1.15s/it, bound: 0 | nc: 3 | ncall: 658 | eff(%): 19.605 | loglstar:   -inf < -869.667 <    inf | logz: -876.847 +/-  0.119 | dlogz: 928.942 >  0.509]"
     ]
    },
    {
     "name": "stdout",
     "output_type": "stream",
     "text": [
      "-80.43292\n",
      "-10000.0\n"
     ]
    },
    {
     "name": "stderr",
     "output_type": "stream",
     "text": [
      "130it [01:59,  1.23s/it, bound: 0 | nc: 2 | ncall: 660 | eff(%): 19.697 | loglstar:   -inf < -847.943 <    inf | logz: -855.125 +/-  0.119 | dlogz: 860.513 >  0.509]"
     ]
    },
    {
     "name": "stdout",
     "output_type": "stream",
     "text": [
      "-72.74773\n"
     ]
    },
    {
     "name": "stderr",
     "output_type": "stream",
     "text": [
      "131it [02:00,  1.08s/it, bound: 0 | nc: 1 | ncall: 661 | eff(%): 19.818 | loglstar:   -inf < -824.394 <    inf | logz: -831.578 +/-  0.119 | dlogz: 838.789 >  0.509]"
     ]
    },
    {
     "name": "stdout",
     "output_type": "stream",
     "text": [
      "-99.413635\n"
     ]
    },
    {
     "name": "stderr",
     "output_type": "stream",
     "text": [
      "132it [02:00,  1.03it/s, bound: 0 | nc: 1 | ncall: 662 | eff(%): 19.940 | loglstar:   -inf < -818.766 <    inf | logz: -825.945 +/-  0.118 | dlogz: 815.239 >  0.509]"
     ]
    },
    {
     "name": "stdout",
     "output_type": "stream",
     "text": [
      "-28.573025\n",
      "-9999.628\n",
      "-9869.842\n"
     ]
    },
    {
     "name": "stderr",
     "output_type": "stream",
     "text": [
      "133it [02:02,  1.31s/it, bound: 0 | nc: 3 | ncall: 665 | eff(%): 20.000 | loglstar:   -inf < -782.582 <    inf | logz: -789.770 +/-  0.119 | dlogz: 809.605 >  0.509]"
     ]
    },
    {
     "name": "stdout",
     "output_type": "stream",
     "text": [
      "-69.964035\n"
     ]
    },
    {
     "name": "stderr",
     "output_type": "stream",
     "text": [
      "134it [02:03,  1.13s/it, bound: 0 | nc: 1 | ncall: 666 | eff(%): 20.120 | loglstar:   -inf < -744.964 <    inf | logz: -752.154 +/-  0.119 | dlogz: 773.428 >  0.509]"
     ]
    },
    {
     "name": "stdout",
     "output_type": "stream",
     "text": [
      "-38.738426\n",
      "-10000.0\n"
     ]
    },
    {
     "name": "stderr",
     "output_type": "stream",
     "text": [
      "135it [02:05,  1.22s/it, bound: 0 | nc: 2 | ncall: 668 | eff(%): 20.210 | loglstar:   -inf < -742.928 <    inf | logz: -749.887 +/-  0.113 | dlogz: 735.809 >  0.509]"
     ]
    },
    {
     "name": "stdout",
     "output_type": "stream",
     "text": [
      "-89.67052\n"
     ]
    },
    {
     "name": "stderr",
     "output_type": "stream",
     "text": [
      "136it [02:05,  1.06s/it, bound: 0 | nc: 1 | ncall: 669 | eff(%): 20.329 | loglstar:   -inf < -723.611 <    inf | logz: -730.805 +/-  0.119 | dlogz: 733.541 >  0.509]"
     ]
    },
    {
     "name": "stdout",
     "output_type": "stream",
     "text": [
      "-74.711174\n",
      "-10000.0\n"
     ]
    },
    {
     "name": "stderr",
     "output_type": "stream",
     "text": [
      "137it [02:07,  1.17s/it, bound: 0 | nc: 2 | ncall: 671 | eff(%): 20.417 | loglstar:   -inf < -648.502 <    inf | logz: -655.698 +/-  0.119 | dlogz: 714.457 >  0.509]"
     ]
    },
    {
     "name": "stdout",
     "output_type": "stream",
     "text": [
      "-76.7182\n"
     ]
    },
    {
     "name": "stderr",
     "output_type": "stream",
     "text": [
      "138it [02:07,  1.03s/it, bound: 0 | nc: 1 | ncall: 672 | eff(%): 20.536 | loglstar:   -inf < -588.427 <    inf | logz: -595.625 +/-  0.119 | dlogz: 639.348 >  0.509]"
     ]
    },
    {
     "name": "stdout",
     "output_type": "stream",
     "text": [
      "-165.25171\n",
      "-1684.3268\n"
     ]
    },
    {
     "name": "stderr",
     "output_type": "stream",
     "text": [
      "139it [02:09,  1.15s/it, bound: 0 | nc: 2 | ncall: 674 | eff(%): 20.623 | loglstar:   -inf < -543.871 <    inf | logz: -551.071 +/-  0.119 | dlogz: 579.273 >  0.509]"
     ]
    },
    {
     "name": "stdout",
     "output_type": "stream",
     "text": [
      "-21.736303\n"
     ]
    },
    {
     "name": "stderr",
     "output_type": "stream",
     "text": [
      "140it [02:10,  1.02s/it, bound: 0 | nc: 1 | ncall: 675 | eff(%): 20.741 | loglstar:   -inf < -479.538 <    inf | logz: -486.739 +/-  0.119 | dlogz: 534.717 >  0.509]"
     ]
    },
    {
     "name": "stdout",
     "output_type": "stream",
     "text": [
      "-73.795135\n"
     ]
    },
    {
     "name": "stderr",
     "output_type": "stream",
     "text": [
      "141it [02:10,  1.08it/s, bound: 0 | nc: 1 | ncall: 676 | eff(%): 20.858 | loglstar:   -inf < -478.576 <    inf | logz: -485.211 +/-  0.110 | dlogz: 470.383 >  0.509]"
     ]
    },
    {
     "name": "stdout",
     "output_type": "stream",
     "text": [
      "-221.65404\n"
     ]
    },
    {
     "name": "stderr",
     "output_type": "stream",
     "text": [
      "142it [02:11,  1.16it/s, bound: 0 | nc: 1 | ncall: 677 | eff(%): 20.975 | loglstar:   -inf < -468.850 <    inf | logz: -476.056 +/-  0.119 | dlogz: 468.853 >  0.509]"
     ]
    },
    {
     "name": "stdout",
     "output_type": "stream",
     "text": [
      "-68.22186\n"
     ]
    },
    {
     "name": "stderr",
     "output_type": "stream",
     "text": [
      "143it [02:12,  1.23it/s, bound: 0 | nc: 1 | ncall: 678 | eff(%): 21.091 | loglstar:   -inf < -453.057 <    inf | logz: -460.265 +/-  0.119 | dlogz: 459.696 >  0.509]"
     ]
    },
    {
     "name": "stdout",
     "output_type": "stream",
     "text": [
      "-75.04006\n"
     ]
    },
    {
     "name": "stderr",
     "output_type": "stream",
     "text": [
      "144it [02:12,  1.26it/s, bound: 0 | nc: 1 | ncall: 679 | eff(%): 21.208 | loglstar:   -inf < -441.443 <    inf | logz: -448.653 +/-  0.119 | dlogz: 443.903 >  0.509]"
     ]
    },
    {
     "name": "stdout",
     "output_type": "stream",
     "text": [
      "-53.22731\n"
     ]
    },
    {
     "name": "stderr",
     "output_type": "stream",
     "text": [
      "145it [02:13,  1.28it/s, bound: 0 | nc: 1 | ncall: 680 | eff(%): 21.324 | loglstar:   -inf < -428.028 <    inf | logz: -435.240 +/-  0.119 | dlogz: 432.288 >  0.509]"
     ]
    },
    {
     "name": "stdout",
     "output_type": "stream",
     "text": [
      "-45.04835\n"
     ]
    },
    {
     "name": "stderr",
     "output_type": "stream",
     "text": [
      "146it [02:14,  1.28it/s, bound: 0 | nc: 1 | ncall: 681 | eff(%): 21.439 | loglstar:   -inf < -407.262 <    inf | logz: -414.476 +/-  0.119 | dlogz: 418.874 >  0.509]"
     ]
    },
    {
     "name": "stdout",
     "output_type": "stream",
     "text": [
      "-157.29329\n"
     ]
    },
    {
     "name": "stderr",
     "output_type": "stream",
     "text": [
      "147it [02:15,  1.28it/s, bound: 0 | nc: 1 | ncall: 682 | eff(%): 21.554 | loglstar:   -inf < -388.203 <    inf | logz: -395.418 +/-  0.119 | dlogz: 398.108 >  0.509]"
     ]
    },
    {
     "name": "stdout",
     "output_type": "stream",
     "text": [
      "-51.236866\n"
     ]
    },
    {
     "name": "stderr",
     "output_type": "stream",
     "text": [
      "148it [02:16,  1.28it/s, bound: 0 | nc: 1 | ncall: 683 | eff(%): 21.669 | loglstar:   -inf < -373.685 <    inf | logz: -380.902 +/-  0.119 | dlogz: 379.048 >  0.509]"
     ]
    },
    {
     "name": "stdout",
     "output_type": "stream",
     "text": [
      "-50.549305\n"
     ]
    },
    {
     "name": "stderr",
     "output_type": "stream",
     "text": [
      "149it [02:16,  1.30it/s, bound: 0 | nc: 1 | ncall: 684 | eff(%): 21.784 | loglstar:   -inf < -346.060 <    inf | logz: -353.280 +/-  0.119 | dlogz: 364.530 >  0.509]"
     ]
    },
    {
     "name": "stdout",
     "output_type": "stream",
     "text": [
      "-105.05883\n",
      "-10000.0\n",
      "-8853.253\n"
     ]
    },
    {
     "name": "stderr",
     "output_type": "stream",
     "text": [
      "150it [02:19,  1.22s/it, bound: 0 | nc: 3 | ncall: 687 | eff(%): 21.834 | loglstar:   -inf < -341.914 <    inf | logz: -349.105 +/-  0.118 | dlogz: 336.906 >  0.509]"
     ]
    },
    {
     "name": "stdout",
     "output_type": "stream",
     "text": [
      "-53.231373\n",
      "-10000.373\n"
     ]
    },
    {
     "name": "stderr",
     "output_type": "stream",
     "text": [
      "151it [02:20,  1.32s/it, bound: 0 | nc: 2 | ncall: 689 | eff(%): 21.916 | loglstar:   -inf < -341.898 <    inf | logz: -348.023 +/-  0.109 | dlogz: 332.729 >  0.509]"
     ]
    },
    {
     "name": "stdout",
     "output_type": "stream",
     "text": [
      "-54.60875\n"
     ]
    },
    {
     "name": "stderr",
     "output_type": "stream",
     "text": [
      "152it [02:21,  1.17s/it, bound: 0 | nc: 1 | ncall: 690 | eff(%): 22.029 | loglstar:   -inf < -313.267 <    inf | logz: -320.493 +/-  0.119 | dlogz: 331.645 >  0.509]"
     ]
    },
    {
     "name": "stdout",
     "output_type": "stream",
     "text": [
      "-58.429096\n"
     ]
    },
    {
     "name": "stderr",
     "output_type": "stream",
     "text": [
      "153it [02:22,  1.05s/it, bound: 0 | nc: 1 | ncall: 691 | eff(%): 22.142 | loglstar:   -inf < -307.935 <    inf | logz: -315.153 +/-  0.118 | dlogz: 304.113 >  0.509]"
     ]
    },
    {
     "name": "stdout",
     "output_type": "stream",
     "text": [
      "-61.232845\n"
     ]
    },
    {
     "name": "stderr",
     "output_type": "stream",
     "text": [
      "154it [02:22,  1.03it/s, bound: 0 | nc: 1 | ncall: 692 | eff(%): 22.254 | loglstar:   -inf < -305.181 <    inf | logz: -312.290 +/-  0.115 | dlogz: 298.771 >  0.509]"
     ]
    },
    {
     "name": "stdout",
     "output_type": "stream",
     "text": [
      "-32.991566\n"
     ]
    },
    {
     "name": "stderr",
     "output_type": "stream",
     "text": [
      "155it [02:23,  1.10it/s, bound: 0 | nc: 1 | ncall: 693 | eff(%): 22.367 | loglstar:   -inf < -303.138 <    inf | logz: -310.126 +/-  0.113 | dlogz: 295.906 >  0.509]"
     ]
    },
    {
     "name": "stdout",
     "output_type": "stream",
     "text": [
      "-91.16773\n"
     ]
    },
    {
     "name": "stderr",
     "output_type": "stream",
     "text": [
      "156it [02:24,  1.15it/s, bound: 0 | nc: 1 | ncall: 694 | eff(%): 22.478 | loglstar:   -inf < -298.977 <    inf | logz: -306.175 +/-  0.117 | dlogz: 293.740 >  0.509]"
     ]
    },
    {
     "name": "stdout",
     "output_type": "stream",
     "text": [
      "-78.449295\n",
      "-331.49118\n"
     ]
    },
    {
     "name": "stderr",
     "output_type": "stream",
     "text": [
      "157it [02:26,  1.10s/it, bound: 0 | nc: 2 | ncall: 696 | eff(%): 22.557 | loglstar:   -inf < -294.547 <    inf | logz: -301.759 +/-  0.118 | dlogz: 289.787 >  0.509]"
     ]
    },
    {
     "name": "stdout",
     "output_type": "stream",
     "text": [
      "-79.19751\n"
     ]
    },
    {
     "name": "stderr",
     "output_type": "stream",
     "text": [
      "158it [02:27,  1.02s/it, bound: 0 | nc: 1 | ncall: 697 | eff(%): 22.669 | loglstar:   -inf < -293.071 <    inf | logz: -299.928 +/-  0.112 | dlogz: 285.368 >  0.509]"
     ]
    },
    {
     "name": "stdout",
     "output_type": "stream",
     "text": [
      "-158.88489\n",
      "-883.5417\n"
     ]
    },
    {
     "name": "stderr",
     "output_type": "stream",
     "text": [
      "159it [02:28,  1.24s/it, bound: 0 | nc: 2 | ncall: 699 | eff(%): 22.747 | loglstar:   -inf < -283.442 <    inf | logz: -290.681 +/-  0.119 | dlogz: 283.536 >  0.509]"
     ]
    },
    {
     "name": "stdout",
     "output_type": "stream",
     "text": [
      "-61.122936\n"
     ]
    },
    {
     "name": "stderr",
     "output_type": "stream",
     "text": [
      "160it [02:29,  1.13s/it, bound: 0 | nc: 1 | ncall: 700 | eff(%): 22.857 | loglstar:   -inf < -257.445 <    inf | logz: -264.687 +/-  0.119 | dlogz: 274.287 >  0.509]"
     ]
    },
    {
     "name": "stdout",
     "output_type": "stream",
     "text": [
      "-159.3917\n"
     ]
    },
    {
     "name": "stderr",
     "output_type": "stream",
     "text": [
      "161it [02:30,  1.05s/it, bound: 0 | nc: 1 | ncall: 701 | eff(%): 22.967 | loglstar:   -inf < -254.701 <    inf | logz: -261.824 +/-  0.115 | dlogz: 248.291 >  0.509]"
     ]
    },
    {
     "name": "stdout",
     "output_type": "stream",
     "text": [
      "-69.92536\n"
     ]
    },
    {
     "name": "stderr",
     "output_type": "stream",
     "text": [
      "162it [02:31,  1.01it/s, bound: 0 | nc: 1 | ncall: 702 | eff(%): 23.077 | loglstar:   -inf < -251.861 <    inf | logz: -258.990 +/-  0.115 | dlogz: 245.426 >  0.509]"
     ]
    },
    {
     "name": "stdout",
     "output_type": "stream",
     "text": [
      "-52.103027\n",
      "-10000.0\n"
     ]
    },
    {
     "name": "stderr",
     "output_type": "stream",
     "text": [
      "163it [02:33,  1.22s/it, bound: 0 | nc: 2 | ncall: 704 | eff(%): 23.153 | loglstar:   -inf < -239.040 <    inf | logz: -246.288 +/-  0.119 | dlogz: 242.590 >  0.509]"
     ]
    },
    {
     "name": "stdout",
     "output_type": "stream",
     "text": [
      "-57.38103\n",
      "-10000.0\n"
     ]
    },
    {
     "name": "stderr",
     "output_type": "stream",
     "text": [
      "164it [02:34,  1.38s/it, bound: 0 | nc: 2 | ncall: 706 | eff(%): 23.229 | loglstar:   -inf < -238.826 <    inf | logz: -245.114 +/-  0.110 | dlogz: 229.885 >  0.509]"
     ]
    },
    {
     "name": "stdout",
     "output_type": "stream",
     "text": [
      "-35.815956\n"
     ]
    },
    {
     "name": "stderr",
     "output_type": "stream",
     "text": [
      "165it [02:35,  1.23s/it, bound: 0 | nc: 1 | ncall: 707 | eff(%): 23.338 | loglstar:   -inf < -238.635 <    inf | logz: -244.502 +/-  0.105 | dlogz: 228.710 >  0.509]"
     ]
    },
    {
     "name": "stdout",
     "output_type": "stream",
     "text": [
      "-35.230503\n"
     ]
    },
    {
     "name": "stderr",
     "output_type": "stream",
     "text": [
      "166it [02:36,  1.12s/it, bound: 0 | nc: 1 | ncall: 708 | eff(%): 23.446 | loglstar:   -inf < -238.066 <    inf | logz: -243.977 +/-  0.102 | dlogz: 228.096 >  0.509]"
     ]
    },
    {
     "name": "stdout",
     "output_type": "stream",
     "text": [
      "-89.1207\n"
     ]
    },
    {
     "name": "stderr",
     "output_type": "stream",
     "text": [
      "167it [02:37,  1.04s/it, bound: 0 | nc: 1 | ncall: 709 | eff(%): 23.554 | loglstar:   -inf < -236.134 <    inf | logz: -242.859 +/-  0.106 | dlogz: 227.569 >  0.509]"
     ]
    },
    {
     "name": "stdout",
     "output_type": "stream",
     "text": [
      "-49.710094\n"
     ]
    },
    {
     "name": "stderr",
     "output_type": "stream",
     "text": [
      "168it [02:38,  1.00it/s, bound: 0 | nc: 1 | ncall: 710 | eff(%): 23.662 | loglstar:   -inf < -233.990 <    inf | logz: -240.972 +/-  0.111 | dlogz: 226.449 >  0.509]"
     ]
    },
    {
     "name": "stdout",
     "output_type": "stream",
     "text": [
      "-70.732834\n"
     ]
    },
    {
     "name": "stderr",
     "output_type": "stream",
     "text": [
      "169it [02:39,  1.05it/s, bound: 0 | nc: 1 | ncall: 711 | eff(%): 23.769 | loglstar:   -inf < -221.935 <    inf | logz: -229.195 +/-  0.119 | dlogz: 224.560 >  0.509]"
     ]
    },
    {
     "name": "stdout",
     "output_type": "stream",
     "text": [
      "-193.39291\n",
      "-10000.0\n"
     ]
    },
    {
     "name": "stderr",
     "output_type": "stream",
     "text": [
      "170it [02:40,  1.20s/it, bound: 0 | nc: 2 | ncall: 713 | eff(%): 23.843 | loglstar:   -inf < -221.654 <    inf | logz: -227.995 +/-  0.110 | dlogz: 212.781 >  0.509]"
     ]
    },
    {
     "name": "stdout",
     "output_type": "stream",
     "text": [
      "-88.1234\n",
      "-10000.0\n",
      "-5687.367\n"
     ]
    },
    {
     "name": "stderr",
     "output_type": "stream",
     "text": [
      "171it [02:43,  1.62s/it, bound: 0 | nc: 3 | ncall: 716 | eff(%): 23.883 | loglstar:   -inf < -219.224 <    inf | logz: -226.218 +/-  0.112 | dlogz: 211.579 >  0.509]"
     ]
    },
    {
     "name": "stdout",
     "output_type": "stream",
     "text": [
      "-52.745464\n"
     ]
    },
    {
     "name": "stderr",
     "output_type": "stream",
     "text": [
      "172it [02:44,  1.40s/it, bound: 0 | nc: 1 | ncall: 717 | eff(%): 23.989 | loglstar:   -inf < -217.863 <    inf | logz: -224.663 +/-  0.110 | dlogz: 209.800 >  0.509]"
     ]
    },
    {
     "name": "stdout",
     "output_type": "stream",
     "text": [
      "-116.0394\n",
      "-10000.0\n"
     ]
    },
    {
     "name": "stderr",
     "output_type": "stream",
     "text": [
      "173it [02:46,  1.50s/it, bound: 0 | nc: 2 | ncall: 719 | eff(%): 24.061 | loglstar:   -inf < -217.700 <    inf | logz: -223.803 +/-  0.106 | dlogz: 208.243 >  0.509]"
     ]
    },
    {
     "name": "stdout",
     "output_type": "stream",
     "text": [
      "-65.10377\n"
     ]
    },
    {
     "name": "stderr",
     "output_type": "stream",
     "text": [
      "174it [02:47,  1.31s/it, bound: 0 | nc: 1 | ncall: 720 | eff(%): 24.167 | loglstar:   -inf < -213.980 <    inf | logz: -221.152 +/-  0.115 | dlogz: 207.381 >  0.509]"
     ]
    },
    {
     "name": "stdout",
     "output_type": "stream",
     "text": [
      "-41.683525\n"
     ]
    },
    {
     "name": "stderr",
     "output_type": "stream",
     "text": [
      "175it [02:47,  1.18s/it, bound: 0 | nc: 1 | ncall: 721 | eff(%): 24.272 | loglstar:   -inf < -212.466 <    inf | logz: -219.357 +/-  0.111 | dlogz: 204.728 >  0.509]"
     ]
    },
    {
     "name": "stdout",
     "output_type": "stream",
     "text": [
      "-51.960495\n"
     ]
    },
    {
     "name": "stderr",
     "output_type": "stream",
     "text": [
      "176it [02:48,  1.09s/it, bound: 0 | nc: 1 | ncall: 722 | eff(%): 24.377 | loglstar:   -inf < -209.264 <    inf | logz: -216.442 +/-  0.116 | dlogz: 202.931 >  0.509]"
     ]
    },
    {
     "name": "stdout",
     "output_type": "stream",
     "text": [
      "-67.18494\n"
     ]
    },
    {
     "name": "stderr",
     "output_type": "stream",
     "text": [
      "177it [02:49,  1.02s/it, bound: 0 | nc: 1 | ncall: 723 | eff(%): 24.481 | loglstar:   -inf < -203.477 <    inf | logz: -210.746 +/-  0.119 | dlogz: 200.014 >  0.509]"
     ]
    },
    {
     "name": "stdout",
     "output_type": "stream",
     "text": [
      "-30.71482\n",
      "-2086.45\n"
     ]
    },
    {
     "name": "stderr",
     "output_type": "stream",
     "text": [
      "178it [02:51,  1.15s/it, bound: 0 | nc: 2 | ncall: 725 | eff(%): 24.552 | loglstar:   -inf < -203.022 <    inf | logz: -209.478 +/-  0.110 | dlogz: 194.316 >  0.509]"
     ]
    },
    {
     "name": "stdout",
     "output_type": "stream",
     "text": [
      "-99.740074\n"
     ]
    },
    {
     "name": "stderr",
     "output_type": "stream",
     "text": [
      "179it [02:51,  1.02s/it, bound: 0 | nc: 1 | ncall: 726 | eff(%): 24.656 | loglstar:   -inf < -202.377 <    inf | logz: -208.656 +/-  0.106 | dlogz: 193.046 >  0.509]"
     ]
    },
    {
     "name": "stdout",
     "output_type": "stream",
     "text": [
      "-176.21883\n"
     ]
    },
    {
     "name": "stderr",
     "output_type": "stream",
     "text": [
      "180it [02:52,  1.07it/s, bound: 0 | nc: 1 | ncall: 727 | eff(%): 24.759 | loglstar:   -inf < -201.083 <    inf | logz: -207.661 +/-  0.106 | dlogz: 192.222 >  0.509]"
     ]
    },
    {
     "name": "stdout",
     "output_type": "stream",
     "text": [
      "-108.59716\n"
     ]
    },
    {
     "name": "stderr",
     "output_type": "stream",
     "text": [
      "181it [02:53,  1.15it/s, bound: 0 | nc: 1 | ncall: 728 | eff(%): 24.863 | loglstar:   -inf < -193.981 <    inf | logz: -201.262 +/-  0.119 | dlogz: 191.225 >  0.509]"
     ]
    },
    {
     "name": "stdout",
     "output_type": "stream",
     "text": [
      "-70.558586\n"
     ]
    },
    {
     "name": "stderr",
     "output_type": "stream",
     "text": [
      "182it [02:54,  1.22it/s, bound: 0 | nc: 1 | ncall: 729 | eff(%): 24.966 | loglstar:   -inf < -193.393 <    inf | logz: -199.930 +/-  0.110 | dlogz: 184.824 >  0.509]"
     ]
    },
    {
     "name": "stdout",
     "output_type": "stream",
     "text": [
      "-64.51615\n"
     ]
    },
    {
     "name": "stderr",
     "output_type": "stream",
     "text": [
      "183it [02:54,  1.27it/s, bound: 0 | nc: 1 | ncall: 730 | eff(%): 25.068 | loglstar:   -inf < -185.130 <    inf | logz: -192.417 +/-  0.119 | dlogz: 183.490 >  0.509]"
     ]
    },
    {
     "name": "stdout",
     "output_type": "stream",
     "text": [
      "-84.490944\n"
     ]
    },
    {
     "name": "stderr",
     "output_type": "stream",
     "text": [
      "184it [02:55,  1.31it/s, bound: 0 | nc: 1 | ncall: 731 | eff(%): 25.171 | loglstar:   -inf < -184.770 <    inf | logz: -191.186 +/-  0.110 | dlogz: 175.975 >  0.509]"
     ]
    },
    {
     "name": "stdout",
     "output_type": "stream",
     "text": [
      "-65.7248\n"
     ]
    },
    {
     "name": "stderr",
     "output_type": "stream",
     "text": [
      "185it [02:56,  1.33it/s, bound: 0 | nc: 1 | ncall: 732 | eff(%): 25.273 | loglstar:   -inf < -182.976 <    inf | logz: -189.819 +/-  0.109 | dlogz: 174.742 >  0.509]"
     ]
    },
    {
     "name": "stdout",
     "output_type": "stream",
     "text": [
      "-66.2779\n",
      "-10000.0\n",
      "-10000.0\n"
     ]
    },
    {
     "name": "stderr",
     "output_type": "stream",
     "text": [
      "186it [02:58,  1.16s/it, bound: 0 | nc: 3 | ncall: 735 | eff(%): 25.306 | loglstar:   -inf < -181.989 <    inf | logz: -188.611 +/-  0.107 | dlogz: 173.373 >  0.509]"
     ]
    },
    {
     "name": "stdout",
     "output_type": "stream",
     "text": [
      "-38.379585\n",
      "-10000.0\n"
     ]
    },
    {
     "name": "stderr",
     "output_type": "stream",
     "text": [
      "187it [02:59,  1.24s/it, bound: 0 | nc: 2 | ncall: 737 | eff(%): 25.373 | loglstar:   -inf < -181.892 <    inf | logz: -187.882 +/-  0.104 | dlogz: 172.163 >  0.509]"
     ]
    },
    {
     "name": "stdout",
     "output_type": "stream",
     "text": [
      "-101.40513\n"
     ]
    },
    {
     "name": "stderr",
     "output_type": "stream",
     "text": [
      "188it [03:00,  1.08s/it, bound: 0 | nc: 1 | ncall: 738 | eff(%): 25.474 | loglstar:   -inf < -179.998 <    inf | logz: -186.761 +/-  0.107 | dlogz: 171.432 >  0.509]"
     ]
    },
    {
     "name": "stdout",
     "output_type": "stream",
     "text": [
      "-43.628155\n"
     ]
    },
    {
     "name": "stderr",
     "output_type": "stream",
     "text": [
      "189it [03:01,  1.03it/s, bound: 0 | nc: 1 | ncall: 739 | eff(%): 25.575 | loglstar:   -inf < -179.751 <    inf | logz: -185.914 +/-  0.104 | dlogz: 170.309 >  0.509]"
     ]
    },
    {
     "name": "stdout",
     "output_type": "stream",
     "text": [
      "-100.02443\n",
      "-10000.0\n",
      "-10000.0\n"
     ]
    },
    {
     "name": "stderr",
     "output_type": "stream",
     "text": [
      "190it [03:03,  1.31s/it, bound: 0 | nc: 3 | ncall: 742 | eff(%): 25.606 | loglstar:   -inf < -177.495 <    inf | logz: -184.437 +/-  0.109 | dlogz: 169.460 >  0.509]"
     ]
    },
    {
     "name": "stdout",
     "output_type": "stream",
     "text": [
      "-67.997826\n"
     ]
    },
    {
     "name": "stderr",
     "output_type": "stream",
     "text": [
      "191it [03:03,  1.13s/it, bound: 0 | nc: 1 | ncall: 743 | eff(%): 25.707 | loglstar:   -inf < -176.853 <    inf | logz: -183.332 +/-  0.107 | dlogz: 167.981 >  0.509]"
     ]
    },
    {
     "name": "stdout",
     "output_type": "stream",
     "text": [
      "-44.420975\n"
     ]
    },
    {
     "name": "stderr",
     "output_type": "stream",
     "text": [
      "192it [03:04,  1.00s/it, bound: 0 | nc: 1 | ncall: 744 | eff(%): 25.806 | loglstar:   -inf < -176.232 <    inf | logz: -182.520 +/-  0.104 | dlogz: 166.874 >  0.509]"
     ]
    },
    {
     "name": "stdout",
     "output_type": "stream",
     "text": [
      "-48.12087\n"
     ]
    },
    {
     "name": "stderr",
     "output_type": "stream",
     "text": [
      "193it [03:05,  1.09it/s, bound: 0 | nc: 1 | ncall: 745 | eff(%): 25.906 | loglstar:   -inf < -176.219 <    inf | logz: -181.974 +/-  0.102 | dlogz: 166.060 >  0.509]"
     ]
    },
    {
     "name": "stdout",
     "output_type": "stream",
     "text": [
      "-88.04075\n",
      "-190.9649\n",
      "-10000.0\n",
      "-2538.2637\n"
     ]
    },
    {
     "name": "stderr",
     "output_type": "stream",
     "text": [
      "194it [03:08,  1.48s/it, bound: 0 | nc: 4 | ncall: 749 | eff(%): 25.901 | loglstar:   -inf < -173.626 <    inf | logz: -180.579 +/-  0.109 | dlogz: 165.512 >  0.509]"
     ]
    },
    {
     "name": "stdout",
     "output_type": "stream",
     "text": [
      "-53.741417\n"
     ]
    },
    {
     "name": "stderr",
     "output_type": "stream",
     "text": [
      "195it [03:08,  1.25s/it, bound: 0 | nc: 1 | ncall: 750 | eff(%): 26.000 | loglstar:   -inf < -171.749 <    inf | logz: -178.744 +/-  0.111 | dlogz: 164.115 >  0.509]"
     ]
    },
    {
     "name": "stdout",
     "output_type": "stream",
     "text": [
      "-46.977524\n"
     ]
    },
    {
     "name": "stderr",
     "output_type": "stream",
     "text": [
      "196it [03:09,  1.09s/it, bound: 0 | nc: 1 | ncall: 751 | eff(%): 26.099 | loglstar:   -inf < -168.968 <    inf | logz: -176.145 +/-  0.115 | dlogz: 162.278 >  0.509]"
     ]
    },
    {
     "name": "stdout",
     "output_type": "stream",
     "text": [
      "-102.427704\n"
     ]
    },
    {
     "name": "stderr",
     "output_type": "stream",
     "text": [
      "197it [03:10,  1.02it/s, bound: 0 | nc: 1 | ncall: 752 | eff(%): 26.197 | loglstar:   -inf < -165.252 <    inf | logz: -172.516 +/-  0.118 | dlogz: 159.677 >  0.509]"
     ]
    },
    {
     "name": "stdout",
     "output_type": "stream",
     "text": [
      "-53.014015\n"
     ]
    },
    {
     "name": "stderr",
     "output_type": "stream",
     "text": [
      "198it [03:10,  1.12it/s, bound: 0 | nc: 1 | ncall: 753 | eff(%): 26.295 | loglstar:   -inf < -164.583 <    inf | logz: -171.181 +/-  0.110 | dlogz: 156.046 >  0.509]"
     ]
    },
    {
     "name": "stdout",
     "output_type": "stream",
     "text": [
      "-65.699005\n"
     ]
    },
    {
     "name": "stderr",
     "output_type": "stream",
     "text": [
      "199it [03:11,  1.19it/s, bound: 0 | nc: 1 | ncall: 754 | eff(%): 26.393 | loglstar:   -inf < -161.925 <    inf | logz: -169.051 +/-  0.114 | dlogz: 154.709 >  0.509]"
     ]
    },
    {
     "name": "stdout",
     "output_type": "stream",
     "text": [
      "-59.126083\n",
      "-10000.0\n",
      "-413.051\n"
     ]
    },
    {
     "name": "stderr",
     "output_type": "stream",
     "text": [
      "200it [03:13,  1.24s/it, bound: 0 | nc: 3 | ncall: 757 | eff(%): 26.420 | loglstar:   -inf < -161.748 <    inf | logz: -168.020 +/-  0.108 | dlogz: 152.577 >  0.509]"
     ]
    },
    {
     "name": "stdout",
     "output_type": "stream",
     "text": [
      "-63.524006\n"
     ]
    },
    {
     "name": "stderr",
     "output_type": "stream",
     "text": [
      "201it [03:14,  1.09s/it, bound: 0 | nc: 1 | ncall: 758 | eff(%): 26.517 | loglstar:   -inf < -160.605 <    inf | logz: -167.126 +/-  0.106 | dlogz: 151.544 >  0.509]"
     ]
    },
    {
     "name": "stdout",
     "output_type": "stream",
     "text": [
      "-49.701477\n",
      "-10000.0\n",
      "-10000.0\n"
     ]
    },
    {
     "name": "stderr",
     "output_type": "stream",
     "text": [
      "202it [03:16,  1.39s/it, bound: 0 | nc: 3 | ncall: 761 | eff(%): 26.544 | loglstar:   -inf < -160.512 <    inf | logz: -166.464 +/-  0.103 | dlogz: 150.648 >  0.509]"
     ]
    },
    {
     "name": "stdout",
     "output_type": "stream",
     "text": [
      "-66.67357\n",
      "-9999.255\n"
     ]
    },
    {
     "name": "stderr",
     "output_type": "stream",
     "text": [
      "203it [03:18,  1.40s/it, bound: 0 | nc: 2 | ncall: 763 | eff(%): 26.606 | loglstar:   -inf < -159.392 <    inf | logz: -165.757 +/-  0.103 | dlogz: 149.984 >  0.509]"
     ]
    },
    {
     "name": "stdout",
     "output_type": "stream",
     "text": [
      "-24.575842\n"
     ]
    },
    {
     "name": "stderr",
     "output_type": "stream",
     "text": [
      "204it [03:18,  1.19s/it, bound: 0 | nc: 1 | ncall: 764 | eff(%): 26.702 | loglstar:   -inf < -159.368 <    inf | logz: -165.185 +/-  0.101 | dlogz: 149.275 >  0.509]"
     ]
    },
    {
     "name": "stdout",
     "output_type": "stream",
     "text": [
      "-74.09785\n"
     ]
    },
    {
     "name": "stderr",
     "output_type": "stream",
     "text": [
      "205it [03:19,  1.04s/it, bound: 0 | nc: 1 | ncall: 765 | eff(%): 26.797 | loglstar:   -inf < -158.885 <    inf | logz: -164.730 +/-  0.100 | dlogz: 148.701 >  0.509]"
     ]
    },
    {
     "name": "stdout",
     "output_type": "stream",
     "text": [
      "-23.180737\n"
     ]
    },
    {
     "name": "stderr",
     "output_type": "stream",
     "text": [
      "206it [03:20,  1.06it/s, bound: 0 | nc: 1 | ncall: 766 | eff(%): 26.893 | loglstar:   -inf < -158.315 <    inf | logz: -164.245 +/-  0.099 | dlogz: 148.244 >  0.509]"
     ]
    },
    {
     "name": "stdout",
     "output_type": "stream",
     "text": [
      "-28.781202\n"
     ]
    },
    {
     "name": "stderr",
     "output_type": "stream",
     "text": [
      "207it [03:20,  1.14it/s, bound: 0 | nc: 1 | ncall: 767 | eff(%): 26.988 | loglstar:   -inf < -157.893 <    inf | logz: -163.763 +/-  0.099 | dlogz: 147.757 >  0.509]"
     ]
    },
    {
     "name": "stdout",
     "output_type": "stream",
     "text": [
      "-135.09718\n",
      "-10000.0\n"
     ]
    },
    {
     "name": "stderr",
     "output_type": "stream",
     "text": [
      "208it [03:22,  1.03s/it, bound: 0 | nc: 2 | ncall: 769 | eff(%): 27.048 | loglstar:   -inf < -157.293 <    inf | logz: -163.262 +/-  0.098 | dlogz: 147.273 >  0.509]"
     ]
    },
    {
     "name": "stdout",
     "output_type": "stream",
     "text": [
      "-53.82794\n"
     ]
    },
    {
     "name": "stderr",
     "output_type": "stream",
     "text": [
      "209it [03:23,  1.07it/s, bound: 0 | nc: 1 | ncall: 770 | eff(%): 27.143 | loglstar:   -inf < -155.289 <    inf | logz: -162.119 +/-  0.105 | dlogz: 146.770 >  0.509]"
     ]
    },
    {
     "name": "stdout",
     "output_type": "stream",
     "text": [
      "-106.16482\n"
     ]
    },
    {
     "name": "stderr",
     "output_type": "stream",
     "text": [
      "210it [03:23,  1.16it/s, bound: 0 | nc: 1 | ncall: 771 | eff(%): 27.237 | loglstar:   -inf < -155.269 <    inf | logz: -161.325 +/-  0.104 | dlogz: 145.625 >  0.509]"
     ]
    },
    {
     "name": "stdout",
     "output_type": "stream",
     "text": [
      "-143.80411\n",
      "-10000.0\n",
      "-258.19205\n",
      "-10000.0\n"
     ]
    },
    {
     "name": "stderr",
     "output_type": "stream",
     "text": [
      "211it [03:26,  1.46s/it, bound: 0 | nc: 4 | ncall: 775 | eff(%): 27.226 | loglstar:   -inf < -154.221 <    inf | logz: -160.601 +/-  0.103 | dlogz: 144.829 >  0.509]"
     ]
    },
    {
     "name": "stdout",
     "output_type": "stream",
     "text": [
      "-58.117485\n"
     ]
    },
    {
     "name": "stderr",
     "output_type": "stream",
     "text": [
      "212it [03:27,  1.23s/it, bound: 0 | nc: 1 | ncall: 776 | eff(%): 27.320 | loglstar:   -inf < -154.126 <    inf | logz: -160.013 +/-  0.102 | dlogz: 144.103 >  0.509]"
     ]
    },
    {
     "name": "stdout",
     "output_type": "stream",
     "text": [
      "-68.50583\n"
     ]
    },
    {
     "name": "stderr",
     "output_type": "stream",
     "text": [
      "213it [03:27,  1.07s/it, bound: 0 | nc: 1 | ncall: 777 | eff(%): 27.413 | loglstar:   -inf < -149.621 <    inf | logz: -156.912 +/-  0.117 | dlogz: 143.513 >  0.509]"
     ]
    },
    {
     "name": "stdout",
     "output_type": "stream",
     "text": [
      "-146.19904\n"
     ]
    },
    {
     "name": "stderr",
     "output_type": "stream",
     "text": [
      "214it [03:28,  1.04it/s, bound: 0 | nc: 1 | ncall: 778 | eff(%): 27.506 | loglstar:   -inf < -148.048 <    inf | logz: -155.042 +/-  0.112 | dlogz: 140.410 >  0.509]"
     ]
    },
    {
     "name": "stdout",
     "output_type": "stream",
     "text": [
      "-66.95508\n"
     ]
    },
    {
     "name": "stderr",
     "output_type": "stream",
     "text": [
      "215it [03:29,  1.13it/s, bound: 0 | nc: 1 | ncall: 779 | eff(%): 27.599 | loglstar:   -inf < -146.199 <    inf | logz: -153.227 +/-  0.112 | dlogz: 138.538 >  0.509]"
     ]
    },
    {
     "name": "stdout",
     "output_type": "stream",
     "text": [
      "-76.50134\n"
     ]
    },
    {
     "name": "stderr",
     "output_type": "stream",
     "text": [
      "216it [03:30,  1.20it/s, bound: 0 | nc: 1 | ncall: 780 | eff(%): 27.692 | loglstar:   -inf < -146.060 <    inf | logz: -152.290 +/-  0.107 | dlogz: 136.721 >  0.509]"
     ]
    },
    {
     "name": "stdout",
     "output_type": "stream",
     "text": [
      "-86.270424\n",
      "-170.4532\n",
      "-10000.0\n"
     ]
    },
    {
     "name": "stderr",
     "output_type": "stream",
     "text": [
      "217it [03:32,  1.23s/it, bound: 0 | nc: 3 | ncall: 783 | eff(%): 27.714 | loglstar:   -inf < -145.738 <    inf | logz: -151.718 +/-  0.104 | dlogz: 135.782 >  0.509]"
     ]
    },
    {
     "name": "stdout",
     "output_type": "stream",
     "text": [
      "-86.67422\n"
     ]
    },
    {
     "name": "stderr",
     "output_type": "stream",
     "text": [
      "218it [03:32,  1.07s/it, bound: 0 | nc: 1 | ncall: 784 | eff(%): 27.806 | loglstar:   -inf < -145.608 <    inf | logz: -151.287 +/-  0.101 | dlogz: 135.208 >  0.509]"
     ]
    },
    {
     "name": "stdout",
     "output_type": "stream",
     "text": [
      "-23.163748\n",
      "-475.15994\n"
     ]
    },
    {
     "name": "stderr",
     "output_type": "stream",
     "text": [
      "219it [03:34,  1.18s/it, bound: 0 | nc: 2 | ncall: 786 | eff(%): 27.863 | loglstar:   -inf < -143.851 <    inf | logz: -150.469 +/-  0.104 | dlogz: 134.775 >  0.509]"
     ]
    },
    {
     "name": "stdout",
     "output_type": "stream",
     "text": [
      "-67.93069\n",
      "-10000.0\n",
      "-246.6977\n",
      "-820.6939\n"
     ]
    },
    {
     "name": "stderr",
     "output_type": "stream",
     "text": [
      "220it [03:37,  1.72s/it, bound: 0 | nc: 4 | ncall: 790 | eff(%): 27.848 | loglstar:   -inf < -143.804 <    inf | logz: -149.789 +/-  0.102 | dlogz: 133.955 >  0.509]"
     ]
    },
    {
     "name": "stdout",
     "output_type": "stream",
     "text": [
      "-99.10239\n"
     ]
    },
    {
     "name": "stderr",
     "output_type": "stream",
     "text": [
      "221it [03:38,  1.41s/it, bound: 0 | nc: 1 | ncall: 791 | eff(%): 27.939 | loglstar:   -inf < -141.109 <    inf | logz: -148.183 +/-  0.111 | dlogz: 133.273 >  0.509]"
     ]
    },
    {
     "name": "stdout",
     "output_type": "stream",
     "text": [
      "-68.89\n"
     ]
    },
    {
     "name": "stderr",
     "output_type": "stream",
     "text": [
      "222it [03:38,  1.20s/it, bound: 0 | nc: 1 | ncall: 792 | eff(%): 28.030 | loglstar:   -inf < -140.918 <    inf | logz: -147.208 +/-  0.107 | dlogz: 131.665 >  0.509]"
     ]
    },
    {
     "name": "stdout",
     "output_type": "stream",
     "text": [
      "-28.645147\n",
      "-290.48672\n",
      "-10000.0\n",
      "-174.6849\n"
     ]
    },
    {
     "name": "stderr",
     "output_type": "stream",
     "text": [
      "223it [03:41,  1.68s/it, bound: 0 | nc: 4 | ncall: 796 | eff(%): 28.015 | loglstar:   -inf < -139.117 <    inf | logz: -145.984 +/-  0.108 | dlogz: 130.688 >  0.509]"
     ]
    },
    {
     "name": "stdout",
     "output_type": "stream",
     "text": [
      "-46.595745\n",
      "-10000.0\n"
     ]
    },
    {
     "name": "stderr",
     "output_type": "stream",
     "text": [
      "224it [03:43,  1.60s/it, bound: 0 | nc: 2 | ncall: 798 | eff(%): 28.070 | loglstar:   -inf < -139.018 <    inf | logz: -145.163 +/-  0.105 | dlogz: 129.462 >  0.509]"
     ]
    },
    {
     "name": "stdout",
     "output_type": "stream",
     "text": [
      "-66.50616\n",
      "-8769.092\n"
     ]
    },
    {
     "name": "stderr",
     "output_type": "stream",
     "text": [
      "225it [03:44,  1.55s/it, bound: 0 | nc: 2 | ncall: 800 | eff(%): 28.125 | loglstar:   -inf < -138.605 <    inf | logz: -144.611 +/-  0.103 | dlogz: 128.639 >  0.509]"
     ]
    },
    {
     "name": "stdout",
     "output_type": "stream",
     "text": [
      "-105.92945\n",
      "-202.3634\n",
      "-10000.0\n",
      "-177.06912\n"
     ]
    },
    {
     "name": "stderr",
     "output_type": "stream",
     "text": [
      "226it [03:47,  1.94s/it, bound: 0 | nc: 4 | ncall: 804 | eff(%): 28.109 | loglstar:   -inf < -138.397 <    inf | logz: -144.161 +/-  0.101 | dlogz: 128.085 >  0.509]"
     ]
    },
    {
     "name": "stdout",
     "output_type": "stream",
     "text": [
      "-71.97389\n"
     ]
    },
    {
     "name": "stderr",
     "output_type": "stream",
     "text": [
      "227it [03:48,  1.57s/it, bound: 0 | nc: 1 | ncall: 805 | eff(%): 28.199 | loglstar:   -inf < -138.340 <    inf | logz: -143.817 +/-  0.099 | dlogz: 127.633 >  0.509]"
     ]
    },
    {
     "name": "stdout",
     "output_type": "stream",
     "text": [
      "-83.10015\n",
      "-10000.0\n"
     ]
    },
    {
     "name": "stderr",
     "output_type": "stream",
     "text": [
      "228it [03:49,  1.53s/it, bound: 0 | nc: 2 | ncall: 807 | eff(%): 28.253 | loglstar:   -inf < -137.491 <    inf | logz: -143.412 +/-  0.098 | dlogz: 127.287 >  0.509]"
     ]
    },
    {
     "name": "stdout",
     "output_type": "stream",
     "text": [
      "-78.272736\n"
     ]
    },
    {
     "name": "stderr",
     "output_type": "stream",
     "text": [
      "229it [03:50,  1.29s/it, bound: 0 | nc: 1 | ncall: 808 | eff(%): 28.342 | loglstar:   -inf < -136.050 <    inf | logz: -142.616 +/-  0.102 | dlogz: 126.880 >  0.509]"
     ]
    },
    {
     "name": "stdout",
     "output_type": "stream",
     "text": [
      "-116.698944\n"
     ]
    },
    {
     "name": "stderr",
     "output_type": "stream",
     "text": [
      "230it [03:50,  1.11s/it, bound: 0 | nc: 1 | ncall: 809 | eff(%): 28.430 | loglstar:   -inf < -135.097 <    inf | logz: -141.665 +/-  0.104 | dlogz: 126.083 >  0.509]"
     ]
    },
    {
     "name": "stdout",
     "output_type": "stream",
     "text": [
      "-77.50799\n",
      "-10000.0\n",
      "-175.77261\n",
      "-183.14944\n"
     ]
    },
    {
     "name": "stderr",
     "output_type": "stream",
     "text": [
      "231it [03:53,  1.64s/it, bound: 0 | nc: 4 | ncall: 813 | eff(%): 28.413 | loglstar:   -inf < -134.965 <    inf | logz: -140.998 +/-  0.103 | dlogz: 125.129 >  0.509]"
     ]
    },
    {
     "name": "stdout",
     "output_type": "stream",
     "text": [
      "-51.337505\n"
     ]
    },
    {
     "name": "stderr",
     "output_type": "stream",
     "text": [
      "232it [03:54,  1.36s/it, bound: 0 | nc: 1 | ncall: 814 | eff(%): 28.501 | loglstar:   -inf < -134.714 <    inf | logz: -140.534 +/-  0.101 | dlogz: 124.461 >  0.509]"
     ]
    },
    {
     "name": "stdout",
     "output_type": "stream",
     "text": [
      "-55.717346\n"
     ]
    },
    {
     "name": "stderr",
     "output_type": "stream",
     "text": [
      "233it [03:55,  1.16s/it, bound: 0 | nc: 1 | ncall: 815 | eff(%): 28.589 | loglstar:   -inf < -134.459 <    inf | logz: -140.144 +/-  0.099 | dlogz: 123.994 >  0.509]"
     ]
    },
    {
     "name": "stdout",
     "output_type": "stream",
     "text": [
      "-91.61282\n",
      "-10000.0\n"
     ]
    },
    {
     "name": "stderr",
     "output_type": "stream",
     "text": [
      "234it [03:56,  1.23s/it, bound: 0 | nc: 2 | ncall: 817 | eff(%): 28.641 | loglstar:   -inf < -132.867 <    inf | logz: -139.414 +/-  0.102 | dlogz: 123.602 >  0.509]"
     ]
    },
    {
     "name": "stdout",
     "output_type": "stream",
     "text": [
      "-77.94305\n",
      "-10000.0\n"
     ]
    },
    {
     "name": "stderr",
     "output_type": "stream",
     "text": [
      "235it [03:58,  1.33s/it, bound: 0 | nc: 2 | ncall: 819 | eff(%): 28.694 | loglstar:   -inf < -131.788 <    inf | logz: -138.423 +/-  0.105 | dlogz: 122.870 >  0.509]"
     ]
    },
    {
     "name": "stdout",
     "output_type": "stream",
     "text": [
      "-60.708206\n"
     ]
    },
    {
     "name": "stderr",
     "output_type": "stream",
     "text": [
      "236it [03:58,  1.17s/it, bound: 0 | nc: 1 | ncall: 820 | eff(%): 28.780 | loglstar:   -inf < -130.784 <    inf | logz: -137.412 +/-  0.106 | dlogz: 121.877 >  0.509]"
     ]
    },
    {
     "name": "stdout",
     "output_type": "stream",
     "text": [
      "-90.11907\n"
     ]
    },
    {
     "name": "stderr",
     "output_type": "stream",
     "text": [
      "237it [03:59,  1.05s/it, bound: 0 | nc: 1 | ncall: 821 | eff(%): 28.867 | loglstar:   -inf < -130.341 <    inf | logz: -136.630 +/-  0.104 | dlogz: 120.865 >  0.509]"
     ]
    },
    {
     "name": "stdout",
     "output_type": "stream",
     "text": [
      "-41.818993\n"
     ]
    },
    {
     "name": "stderr",
     "output_type": "stream",
     "text": [
      "238it [04:00,  1.03it/s, bound: 0 | nc: 1 | ncall: 822 | eff(%): 28.954 | loglstar:   -inf < -129.861 <    inf | logz: -136.007 +/-  0.103 | dlogz: 120.080 >  0.509]"
     ]
    },
    {
     "name": "stdout",
     "output_type": "stream",
     "text": [
      "-68.276764\n"
     ]
    },
    {
     "name": "stderr",
     "output_type": "stream",
     "text": [
      "239it [04:01,  1.09it/s, bound: 0 | nc: 1 | ncall: 823 | eff(%): 29.040 | loglstar:   -inf < -129.599 <    inf | logz: -135.503 +/-  0.101 | dlogz: 119.455 >  0.509]"
     ]
    },
    {
     "name": "stdout",
     "output_type": "stream",
     "text": [
      "-49.339367\n"
     ]
    },
    {
     "name": "stderr",
     "output_type": "stream",
     "text": [
      "240it [04:02,  1.14it/s, bound: 0 | nc: 1 | ncall: 824 | eff(%): 29.126 | loglstar:   -inf < -129.278 <    inf | logz: -135.076 +/-  0.100 | dlogz: 118.949 >  0.509]"
     ]
    },
    {
     "name": "stdout",
     "output_type": "stream",
     "text": [
      "-47.57114\n",
      "-262.01938\n",
      "-9996.276\n"
     ]
    },
    {
     "name": "stderr",
     "output_type": "stream",
     "text": [
      "241it [04:04,  1.32s/it, bound: 0 | nc: 3 | ncall: 827 | eff(%): 29.141 | loglstar:   -inf < -128.433 <    inf | logz: -134.564 +/-  0.100 | dlogz: 118.520 >  0.509]"
     ]
    },
    {
     "name": "stdout",
     "output_type": "stream",
     "text": [
      "-81.00115\n",
      "-10000.0\n"
     ]
    },
    {
     "name": "stderr",
     "output_type": "stream",
     "text": [
      "242it [04:05,  1.38s/it, bound: 0 | nc: 2 | ncall: 829 | eff(%): 29.192 | loglstar:   -inf < -125.716 <    inf | logz: -132.858 +/-  0.111 | dlogz: 118.006 >  0.509]"
     ]
    },
    {
     "name": "stdout",
     "output_type": "stream",
     "text": [
      "-102.1095\n",
      "-10000.373\n"
     ]
    },
    {
     "name": "stderr",
     "output_type": "stream",
     "text": [
      "243it [04:07,  1.42s/it, bound: 0 | nc: 2 | ncall: 831 | eff(%): 29.242 | loglstar:   -inf < -125.675 <    inf | logz: -131.916 +/-  0.107 | dlogz: 116.298 >  0.509]"
     ]
    },
    {
     "name": "stdout",
     "output_type": "stream",
     "text": [
      "-60.823257\n"
     ]
    },
    {
     "name": "stderr",
     "output_type": "stream",
     "text": [
      "244it [04:08,  1.22s/it, bound: 0 | nc: 1 | ncall: 832 | eff(%): 29.327 | loglstar:   -inf < -123.718 <    inf | logz: -130.660 +/-  0.109 | dlogz: 115.354 >  0.509]"
     ]
    },
    {
     "name": "stdout",
     "output_type": "stream",
     "text": [
      "-45.308662\n",
      "-147.96872\n"
     ]
    },
    {
     "name": "stderr",
     "output_type": "stream",
     "text": [
      "245it [04:09,  1.33s/it, bound: 0 | nc: 2 | ncall: 834 | eff(%): 29.376 | loglstar:   -inf < -122.140 <    inf | logz: -129.122 +/-  0.110 | dlogz: 114.096 >  0.509]"
     ]
    },
    {
     "name": "stdout",
     "output_type": "stream",
     "text": [
      "-25.694822\n",
      "-173.82141\n",
      "-132.51193\n"
     ]
    },
    {
     "name": "stderr",
     "output_type": "stream",
     "text": [
      "246it [04:12,  1.68s/it, bound: 0 | nc: 3 | ncall: 837 | eff(%): 29.391 | loglstar:   -inf < -121.152 <    inf | logz: -127.900 +/-  0.109 | dlogz: 112.556 >  0.509]"
     ]
    },
    {
     "name": "stdout",
     "output_type": "stream",
     "text": [
      "-29.11301\n"
     ]
    },
    {
     "name": "stderr",
     "output_type": "stream",
     "text": [
      "247it [04:13,  1.44s/it, bound: 0 | nc: 1 | ncall: 838 | eff(%): 29.475 | loglstar:   -inf < -121.120 <    inf | logz: -127.186 +/-  0.105 | dlogz: 111.332 >  0.509]"
     ]
    },
    {
     "name": "stdout",
     "output_type": "stream",
     "text": [
      "-42.84034\n",
      "-516.8716\n",
      "-10000.0\n"
     ]
    },
    {
     "name": "stderr",
     "output_type": "stream",
     "text": [
      "248it [04:15,  1.79s/it, bound: 0 | nc: 3 | ncall: 841 | eff(%): 29.489 | loglstar:   -inf < -120.787 <    inf | logz: -126.703 +/-  0.103 | dlogz: 110.616 >  0.509]"
     ]
    },
    {
     "name": "stdout",
     "output_type": "stream",
     "text": [
      "-62.827965\n"
     ]
    },
    {
     "name": "stderr",
     "output_type": "stream",
     "text": [
      "249it [04:16,  1.52s/it, bound: 0 | nc: 1 | ncall: 842 | eff(%): 29.572 | loglstar:   -inf < -118.061 <    inf | logz: -125.173 +/-  0.111 | dlogz: 110.131 >  0.509]"
     ]
    },
    {
     "name": "stdout",
     "output_type": "stream",
     "text": [
      "-76.489845\n",
      "-10000.0\n"
     ]
    },
    {
     "name": "stderr",
     "output_type": "stream",
     "text": [
      "250it [04:18,  1.59s/it, bound: 0 | nc: 2 | ncall: 844 | eff(%): 29.621 | loglstar:   -inf < -117.502 <    inf | logz: -124.069 +/-  0.108 | dlogz: 108.599 >  0.509]"
     ]
    },
    {
     "name": "stdout",
     "output_type": "stream",
     "text": [
      "-110.676575\n"
     ]
    },
    {
     "name": "stderr",
     "output_type": "stream",
     "text": [
      "251it [04:19,  1.37s/it, bound: 0 | nc: 1 | ncall: 845 | eff(%): 29.704 | loglstar:   -inf < -117.145 <    inf | logz: -123.360 +/-  0.105 | dlogz: 107.493 >  0.509]"
     ]
    },
    {
     "name": "stdout",
     "output_type": "stream",
     "text": [
      "-37.531868\n"
     ]
    },
    {
     "name": "stderr",
     "output_type": "stream",
     "text": [
      "252it [04:20,  1.22s/it, bound: 0 | nc: 1 | ncall: 846 | eff(%): 29.787 | loglstar:   -inf < -116.699 <    inf | logz: -122.793 +/-  0.103 | dlogz: 106.782 >  0.509]"
     ]
    },
    {
     "name": "stdout",
     "output_type": "stream",
     "text": [
      "-107.64161\n"
     ]
    },
    {
     "name": "stderr",
     "output_type": "stream",
     "text": [
      "253it [04:20,  1.12s/it, bound: 0 | nc: 1 | ncall: 847 | eff(%): 29.870 | loglstar:   -inf < -116.654 <    inf | logz: -122.362 +/-  0.101 | dlogz: 106.213 >  0.509]"
     ]
    },
    {
     "name": "stdout",
     "output_type": "stream",
     "text": [
      "-72.22119\n"
     ]
    },
    {
     "name": "stderr",
     "output_type": "stream",
     "text": [
      "254it [04:21,  1.05s/it, bound: 0 | nc: 1 | ncall: 848 | eff(%): 29.953 | loglstar:   -inf < -116.071 <    inf | logz: -121.957 +/-  0.100 | dlogz: 105.780 >  0.509]"
     ]
    },
    {
     "name": "stdout",
     "output_type": "stream",
     "text": [
      "-68.95784\n",
      "-150.28175\n",
      "-10000.0\n"
     ]
    },
    {
     "name": "stderr",
     "output_type": "stream",
     "text": [
      "255it [04:24,  1.51s/it, bound: 0 | nc: 3 | ncall: 851 | eff(%): 29.965 | loglstar:   -inf < -116.039 <    inf | logz: -121.597 +/-  0.098 | dlogz: 105.373 >  0.509]"
     ]
    },
    {
     "name": "stdout",
     "output_type": "stream",
     "text": [
      "-62.971844\n"
     ]
    },
    {
     "name": "stderr",
     "output_type": "stream",
     "text": [
      "256it [04:25,  1.32s/it, bound: 0 | nc: 1 | ncall: 852 | eff(%): 30.047 | loglstar:   -inf < -114.337 <    inf | logz: -120.907 +/-  0.102 | dlogz: 105.011 >  0.509]"
     ]
    },
    {
     "name": "stdout",
     "output_type": "stream",
     "text": [
      "-48.777225\n",
      "-10000.0\n"
     ]
    },
    {
     "name": "stderr",
     "output_type": "stream",
     "text": [
      "257it [04:27,  1.45s/it, bound: 0 | nc: 2 | ncall: 854 | eff(%): 30.094 | loglstar:   -inf < -113.403 <    inf | logz: -119.994 +/-  0.104 | dlogz: 104.319 >  0.509]"
     ]
    },
    {
     "name": "stdout",
     "output_type": "stream",
     "text": [
      "-93.84627\n",
      "-10000.0\n",
      "-122.664955\n",
      "-10000.0\n",
      "-2742.116\n"
     ]
    },
    {
     "name": "stderr",
     "output_type": "stream",
     "text": [
      "258it [04:31,  2.33s/it, bound: 0 | nc: 5 | ncall: 859 | eff(%): 30.035 | loglstar:   -inf < -111.304 <    inf | logz: -118.399 +/-  0.111 | dlogz: 103.404 >  0.509]"
     ]
    },
    {
     "name": "stdout",
     "output_type": "stream",
     "text": [
      "-66.808174\n",
      "-172.11604\n",
      "-10000.0\n"
     ]
    },
    {
     "name": "stderr",
     "output_type": "stream",
     "text": [
      "259it [04:34,  2.42s/it, bound: 0 | nc: 3 | ncall: 862 | eff(%): 30.046 | loglstar:   -inf < -111.192 <    inf | logz: -117.482 +/-  0.107 | dlogz: 101.807 >  0.509]"
     ]
    },
    {
     "name": "stdout",
     "output_type": "stream",
     "text": [
      "-79.67474\n",
      "-115.892586\n",
      "-431.12357\n"
     ]
    },
    {
     "name": "stderr",
     "output_type": "stream",
     "text": [
      "260it [04:36,  2.40s/it, bound: 0 | nc: 3 | ncall: 865 | eff(%): 30.058 | loglstar:   -inf < -110.677 <    inf | logz: -116.869 +/-  0.104 | dlogz: 100.888 >  0.509]"
     ]
    },
    {
     "name": "stdout",
     "output_type": "stream",
     "text": [
      "-101.95403\n"
     ]
    },
    {
     "name": "stderr",
     "output_type": "stream",
     "text": [
      "261it [04:37,  1.89s/it, bound: 0 | nc: 1 | ncall: 866 | eff(%): 30.139 | loglstar:   -inf < -110.231 <    inf | logz: -116.319 +/-  0.103 | dlogz: 100.273 >  0.509]"
     ]
    },
    {
     "name": "stdout",
     "output_type": "stream",
     "text": [
      "-73.63862\n"
     ]
    },
    {
     "name": "stderr",
     "output_type": "stream",
     "text": [
      "262it [04:37,  1.54s/it, bound: 0 | nc: 1 | ncall: 867 | eff(%): 30.219 | loglstar:   -inf < -109.166 <    inf | logz: -115.624 +/-  0.103 | dlogz: 99.721 >  0.509] "
     ]
    },
    {
     "name": "stdout",
     "output_type": "stream",
     "text": [
      "-94.46202\n"
     ]
    },
    {
     "name": "stderr",
     "output_type": "stream",
     "text": [
      "263it [04:38,  1.29s/it, bound: 0 | nc: 1 | ncall: 868 | eff(%): 30.300 | loglstar:   -inf < -108.983 <    inf | logz: -115.026 +/-  0.102 | dlogz: 99.024 >  0.509]"
     ]
    },
    {
     "name": "stdout",
     "output_type": "stream",
     "text": [
      "-38.85338\n"
     ]
    },
    {
     "name": "stderr",
     "output_type": "stream",
     "text": [
      "264it [04:39,  1.12s/it, bound: 0 | nc: 1 | ncall: 869 | eff(%): 30.380 | loglstar:   -inf < -108.597 <    inf | logz: -114.553 +/-  0.101 | dlogz: 98.424 >  0.509]"
     ]
    },
    {
     "name": "stdout",
     "output_type": "stream",
     "text": [
      "-46.14266\n"
     ]
    },
    {
     "name": "stderr",
     "output_type": "stream",
     "text": [
      "265it [04:39,  1.00it/s, bound: 0 | nc: 1 | ncall: 870 | eff(%): 30.460 | loglstar:   -inf < -107.642 <    inf | logz: -113.961 +/-  0.101 | dlogz: 97.949 >  0.509]"
     ]
    },
    {
     "name": "stdout",
     "output_type": "stream",
     "text": [
      "-23.763577\n",
      "-10000.0\n"
     ]
    },
    {
     "name": "stderr",
     "output_type": "stream",
     "text": [
      "266it [04:41,  1.12s/it, bound: 0 | nc: 2 | ncall: 872 | eff(%): 30.505 | loglstar:   -inf < -107.595 <    inf | logz: -113.455 +/-  0.100 | dlogz: 97.355 >  0.509]"
     ]
    },
    {
     "name": "stdout",
     "output_type": "stream",
     "text": [
      "-69.50248\n",
      "-9752.054\n",
      "-10000.0\n"
     ]
    },
    {
     "name": "stderr",
     "output_type": "stream",
     "text": [
      "267it [04:43,  1.41s/it, bound: 0 | nc: 3 | ncall: 875 | eff(%): 30.514 | loglstar:   -inf < -107.159 <    inf | logz: -113.039 +/-  0.099 | dlogz: 96.847 >  0.509]"
     ]
    },
    {
     "name": "stdout",
     "output_type": "stream",
     "text": [
      "-44.61995\n",
      "-10000.0\n",
      "-157.7482\n"
     ]
    },
    {
     "name": "stderr",
     "output_type": "stream",
     "text": [
      "268it [04:45,  1.62s/it, bound: 0 | nc: 3 | ncall: 878 | eff(%): 30.524 | loglstar:   -inf < -107.061 <    inf | logz: -112.678 +/-  0.098 | dlogz: 96.429 >  0.509]"
     ]
    },
    {
     "name": "stdout",
     "output_type": "stream",
     "text": [
      "-99.42325\n",
      "-117.67903\n"
     ]
    },
    {
     "name": "stderr",
     "output_type": "stream",
     "text": [
      "269it [04:47,  1.56s/it, bound: 0 | nc: 2 | ncall: 880 | eff(%): 30.568 | loglstar:   -inf < -106.597 <    inf | logz: -112.334 +/-  0.098 | dlogz: 96.066 >  0.509]"
     ]
    },
    {
     "name": "stdout",
     "output_type": "stream",
     "text": [
      "-64.0126\n",
      "-181.64963\n"
     ]
    },
    {
     "name": "stderr",
     "output_type": "stream",
     "text": [
      "270it [04:48,  1.52s/it, bound: 0 | nc: 2 | ncall: 882 | eff(%): 30.612 | loglstar:   -inf < -106.530 <    inf | logz: -112.020 +/-  0.097 | dlogz: 95.720 >  0.509]"
     ]
    },
    {
     "name": "stdout",
     "output_type": "stream",
     "text": [
      "-82.66767\n"
     ]
    },
    {
     "name": "stderr",
     "output_type": "stream",
     "text": [
      "271it [04:49,  1.28s/it, bound: 0 | nc: 1 | ncall: 883 | eff(%): 30.691 | loglstar:   -inf < -106.165 <    inf | logz: -111.728 +/-  0.096 | dlogz: 95.404 >  0.509]"
     ]
    },
    {
     "name": "stdout",
     "output_type": "stream",
     "text": [
      "-87.62641\n"
     ]
    },
    {
     "name": "stderr",
     "output_type": "stream",
     "text": [
      "272it [04:49,  1.12s/it, bound: 0 | nc: 1 | ncall: 884 | eff(%): 30.769 | loglstar:   -inf < -105.943 <    inf | logz: -111.439 +/-  0.095 | dlogz: 95.110 >  0.509]"
     ]
    },
    {
     "name": "stdout",
     "output_type": "stream",
     "text": [
      "-28.53526\n",
      "-10000.0\n"
     ]
    },
    {
     "name": "stderr",
     "output_type": "stream",
     "text": [
      "273it [04:51,  1.21s/it, bound: 0 | nc: 2 | ncall: 886 | eff(%): 30.813 | loglstar:   -inf < -105.929 <    inf | logz: -111.192 +/-  0.095 | dlogz: 94.819 >  0.509]"
     ]
    },
    {
     "name": "stdout",
     "output_type": "stream",
     "text": [
      "-65.45212\n",
      "-118.17285\n",
      "-107.2077\n",
      "-143.96687\n"
     ]
    },
    {
     "name": "stderr",
     "output_type": "stream",
     "text": [
      "274it [04:54,  1.71s/it, bound: 0 | nc: 4 | ncall: 890 | eff(%): 30.787 | loglstar:   -inf < -105.666 <    inf | logz: -110.966 +/-  0.094 | dlogz: 94.570 >  0.509]"
     ]
    },
    {
     "name": "stdout",
     "output_type": "stream",
     "text": [
      "-30.917797\n"
     ]
    },
    {
     "name": "stderr",
     "output_type": "stream",
     "text": [
      "275it [04:54,  1.41s/it, bound: 0 | nc: 1 | ncall: 891 | eff(%): 30.864 | loglstar:   -inf < -105.564 <    inf | logz: -110.750 +/-  0.093 | dlogz: 94.342 >  0.509]"
     ]
    },
    {
     "name": "stdout",
     "output_type": "stream",
     "text": [
      "-25.913818\n",
      "-10000.0\n"
     ]
    },
    {
     "name": "stderr",
     "output_type": "stream",
     "text": [
      "276it [04:56,  1.41s/it, bound: 0 | nc: 2 | ncall: 893 | eff(%): 30.907 | loglstar:   -inf < -105.059 <    inf | logz: -110.512 +/-  0.093 | dlogz: 94.125 >  0.509]"
     ]
    },
    {
     "name": "stdout",
     "output_type": "stream",
     "text": [
      "-48.295876\n"
     ]
    },
    {
     "name": "stderr",
     "output_type": "stream",
     "text": [
      "277it [04:57,  1.20s/it, bound: 0 | nc: 1 | ncall: 894 | eff(%): 30.984 | loglstar:   -inf < -104.830 <    inf | logz: -110.250 +/-  0.093 | dlogz: 93.884 >  0.509]"
     ]
    },
    {
     "name": "stdout",
     "output_type": "stream",
     "text": [
      "-55.740303\n"
     ]
    },
    {
     "name": "stderr",
     "output_type": "stream",
     "text": [
      "278it [04:57,  1.06s/it, bound: 0 | nc: 1 | ncall: 895 | eff(%): 31.061 | loglstar:   -inf < -104.720 <    inf | logz: -110.011 +/-  0.093 | dlogz: 93.620 >  0.509]"
     ]
    },
    {
     "name": "stdout",
     "output_type": "stream",
     "text": [
      "-75.74103\n",
      "-10000.0\n",
      "-103.63436\n",
      "-10000.0\n"
     ]
    },
    {
     "name": "stderr",
     "output_type": "stream",
     "text": [
      "279it [05:00,  1.62s/it, bound: 0 | nc: 4 | ncall: 899 | eff(%): 31.034 | loglstar:   -inf < -103.588 <    inf | logz: -109.632 +/-  0.094 | dlogz: 93.379 >  0.509]"
     ]
    },
    {
     "name": "stdout",
     "output_type": "stream",
     "text": [
      "-76.47066\n",
      "-10000.0\n",
      "-10000.0\n"
     ]
    },
    {
     "name": "stderr",
     "output_type": "stream",
     "text": [
      "280it [05:02,  1.78s/it, bound: 0 | nc: 3 | ncall: 902 | eff(%): 31.042 | loglstar:   -inf < -103.431 <    inf | logz: -109.217 +/-  0.095 | dlogz: 92.999 >  0.509]"
     ]
    },
    {
     "name": "stdout",
     "output_type": "stream",
     "text": [
      "-29.053217\n",
      "-10000.0\n"
     ]
    },
    {
     "name": "stderr",
     "output_type": "stream",
     "text": [
      "281it [05:31,  9.81s/it, bound: 0 | nc: 2 | ncall: 904 | eff(%): 31.084 | loglstar:   -inf < -103.107 <    inf | logz: -108.855 +/-  0.096 | dlogz: 92.581 >  0.509]"
     ]
    },
    {
     "name": "stdout",
     "output_type": "stream",
     "text": [
      "-68.64928\n",
      "-1429.5853\n",
      "-106.73115\n",
      "-10000.0\n"
     ]
    },
    {
     "name": "stderr",
     "output_type": "stream",
     "text": [
      "282it [05:34,  7.75s/it, bound: 0 | nc: 4 | ncall: 908 | eff(%): 31.057 | loglstar:   -inf < -102.967 <    inf | logz: -108.534 +/-  0.095 | dlogz: 92.217 >  0.509]"
     ]
    },
    {
     "name": "stdout",
     "output_type": "stream",
     "text": [
      "-68.710266\n",
      "-10000.0\n",
      "-1740.6285\n"
     ]
    },
    {
     "name": "stderr",
     "output_type": "stream",
     "text": [
      "283it [05:36,  6.08s/it, bound: 0 | nc: 3 | ncall: 911 | eff(%): 31.065 | loglstar:   -inf < -102.434 <    inf | logz: -108.200 +/-  0.095 | dlogz: 91.894 >  0.509]"
     ]
    },
    {
     "name": "stdout",
     "output_type": "stream",
     "text": [
      "-55.571526\n"
     ]
    },
    {
     "name": "stderr",
     "output_type": "stream",
     "text": [
      "284it [05:37,  4.47s/it, bound: 0 | nc: 1 | ncall: 912 | eff(%): 31.140 | loglstar:   -inf < -102.428 <    inf | logz: -107.894 +/-  0.095 | dlogz: 91.558 >  0.509]"
     ]
    },
    {
     "name": "stdout",
     "output_type": "stream",
     "text": [
      "-101.9577\n"
     ]
    },
    {
     "name": "stderr",
     "output_type": "stream",
     "text": [
      "285it [05:37,  3.35s/it, bound: 0 | nc: 1 | ncall: 913 | eff(%): 31.216 | loglstar:   -inf < -102.426 <    inf | logz: -107.659 +/-  0.094 | dlogz: 91.250 >  0.509]"
     ]
    },
    {
     "name": "stdout",
     "output_type": "stream",
     "text": [
      "-35.904694\n"
     ]
    },
    {
     "name": "stderr",
     "output_type": "stream",
     "text": [
      "286it [05:38,  2.56s/it, bound: 0 | nc: 1 | ncall: 914 | eff(%): 31.291 | loglstar:   -inf < -102.210 <    inf | logz: -107.449 +/-  0.094 | dlogz: 91.014 >  0.509]"
     ]
    },
    {
     "name": "stdout",
     "output_type": "stream",
     "text": [
      "-76.77906\n"
     ]
    },
    {
     "name": "stderr",
     "output_type": "stream",
     "text": [
      "287it [05:39,  2.01s/it, bound: 0 | nc: 1 | ncall: 915 | eff(%): 31.366 | loglstar:   -inf < -102.198 <    inf | logz: -107.258 +/-  0.093 | dlogz: 90.801 >  0.509]"
     ]
    },
    {
     "name": "stdout",
     "output_type": "stream",
     "text": [
      "-34.23389\n",
      "-696.5447\n",
      "-148.31013\n",
      "-223.28221\n",
      "-2235.108\n",
      "-8521.884\n",
      "-164.21983\n"
     ]
    },
    {
     "name": "stderr",
     "output_type": "stream",
     "text": [
      "288it [05:44,  3.04s/it, bound: 0 | nc: 7 | ncall: 922 | eff(%): 31.236 | loglstar:   -inf < -102.109 <    inf | logz: -107.090 +/-  0.092 | dlogz: 90.608 >  0.509]"
     ]
    },
    {
     "name": "stdout",
     "output_type": "stream",
     "text": [
      "-53.059135\n"
     ]
    },
    {
     "name": "stderr",
     "output_type": "stream",
     "text": [
      "289it [05:45,  2.39s/it, bound: 0 | nc: 1 | ncall: 923 | eff(%): 31.311 | loglstar:   -inf < -101.958 <    inf | logz: -106.929 +/-  0.092 | dlogz: 90.438 >  0.509]"
     ]
    },
    {
     "name": "stdout",
     "output_type": "stream",
     "text": [
      "-87.99886\n"
     ]
    },
    {
     "name": "stderr",
     "output_type": "stream",
     "text": [
      "290it [05:46,  1.92s/it, bound: 0 | nc: 1 | ncall: 924 | eff(%): 31.385 | loglstar:   -inf < -101.954 <    inf | logz: -106.781 +/-  0.091 | dlogz: 90.276 >  0.509]"
     ]
    },
    {
     "name": "stdout",
     "output_type": "stream",
     "text": [
      "-80.47017\n"
     ]
    },
    {
     "name": "stderr",
     "output_type": "stream",
     "text": [
      "291it [05:47,  1.60s/it, bound: 0 | nc: 1 | ncall: 925 | eff(%): 31.459 | loglstar:   -inf < -101.405 <    inf | logz: -106.609 +/-  0.091 | dlogz: 90.125 >  0.509]"
     ]
    },
    {
     "name": "stdout",
     "output_type": "stream",
     "text": [
      "-61.144695\n"
     ]
    },
    {
     "name": "stderr",
     "output_type": "stream",
     "text": [
      "292it [05:48,  1.35s/it, bound: 0 | nc: 1 | ncall: 926 | eff(%): 31.533 | loglstar:   -inf < -100.393 <    inf | logz: -106.290 +/-  0.092 | dlogz: 89.951 >  0.509]"
     ]
    },
    {
     "name": "stdout",
     "output_type": "stream",
     "text": [
      "-30.9882\n",
      "-102.174965\n",
      "-10000.373\n",
      "-176.75502\n"
     ]
    },
    {
     "name": "stderr",
     "output_type": "stream",
     "text": [
      "293it [05:51,  1.88s/it, bound: 0 | nc: 4 | ncall: 930 | eff(%): 31.505 | loglstar:   -inf < -100.301 <    inf | logz: -105.940 +/-  0.093 | dlogz: 89.630 >  0.509]"
     ]
    },
    {
     "name": "stdout",
     "output_type": "stream",
     "text": [
      "-92.39932\n"
     ]
    },
    {
     "name": "stderr",
     "output_type": "stream",
     "text": [
      "294it [05:52,  1.56s/it, bound: 0 | nc: 1 | ncall: 931 | eff(%): 31.579 | loglstar:   -inf < -100.224 <    inf | logz: -105.662 +/-  0.093 | dlogz: 89.278 >  0.509]"
     ]
    },
    {
     "name": "stdout",
     "output_type": "stream",
     "text": [
      "-62.06733\n"
     ]
    },
    {
     "name": "stderr",
     "output_type": "stream",
     "text": [
      "295it [05:52,  1.32s/it, bound: 0 | nc: 1 | ncall: 932 | eff(%): 31.652 | loglstar:   -inf < -100.024 <    inf | logz: -105.416 +/-  0.093 | dlogz: 88.998 >  0.509]"
     ]
    },
    {
     "name": "stdout",
     "output_type": "stream",
     "text": [
      "-43.452057\n"
     ]
    },
    {
     "name": "stderr",
     "output_type": "stream",
     "text": [
      "296it [05:53,  1.17s/it, bound: 0 | nc: 1 | ncall: 933 | eff(%): 31.726 | loglstar:   -inf < -100.024 <    inf | logz: -105.201 +/-  0.093 | dlogz: 88.750 >  0.509]"
     ]
    },
    {
     "name": "stdout",
     "output_type": "stream",
     "text": [
      "-29.295443\n"
     ]
    },
    {
     "name": "stderr",
     "output_type": "stream",
     "text": [
      "297it [05:54,  1.05s/it, bound: 0 | nc: 1 | ncall: 934 | eff(%): 31.799 | loglstar:   -inf < -99.740 <    inf | logz: -104.998 +/-  0.092 | dlogz: 88.533 >  0.509] "
     ]
    },
    {
     "name": "stdout",
     "output_type": "stream",
     "text": [
      "-58.959187\n"
     ]
    },
    {
     "name": "stderr",
     "output_type": "stream",
     "text": [
      "298it [05:55,  1.03it/s, bound: 0 | nc: 1 | ncall: 935 | eff(%): 31.872 | loglstar:   -inf < -99.496 <    inf | logz: -104.785 +/-  0.092 | dlogz: 88.328 >  0.509]"
     ]
    },
    {
     "name": "stdout",
     "output_type": "stream",
     "text": [
      "-41.56998\n"
     ]
    },
    {
     "name": "stderr",
     "output_type": "stream",
     "text": [
      "299it [05:56,  1.10it/s, bound: 0 | nc: 1 | ncall: 936 | eff(%): 31.944 | loglstar:   -inf < -99.423 <    inf | logz: -104.584 +/-  0.092 | dlogz: 88.113 >  0.509]"
     ]
    },
    {
     "name": "stdout",
     "output_type": "stream",
     "text": [
      "-85.213104\n"
     ]
    },
    {
     "name": "stderr",
     "output_type": "stream",
     "text": [
      "300it [05:56,  1.11it/s, bound: 0 | nc: 1 | ncall: 937 | eff(%): 32.017 | loglstar:   -inf < -99.414 <    inf | logz: -104.410 +/-  0.091 | dlogz: 87.910 >  0.509]"
     ]
    },
    {
     "name": "stdout",
     "output_type": "stream",
     "text": [
      "-38.447365\n"
     ]
    },
    {
     "name": "stderr",
     "output_type": "stream",
     "text": [
      "301it [05:57,  1.11it/s, bound: 0 | nc: 1 | ncall: 938 | eff(%): 32.090 | loglstar:   -inf < -99.357 <    inf | logz: -104.258 +/-  0.091 | dlogz: 87.734 >  0.509]"
     ]
    },
    {
     "name": "stdout",
     "output_type": "stream",
     "text": [
      "-59.836914\n",
      "-103.98355\n",
      "-10000.0\n"
     ]
    },
    {
     "name": "stderr",
     "output_type": "stream",
     "text": [
      "302it [06:00,  1.41s/it, bound: 0 | nc: 3 | ncall: 941 | eff(%): 32.094 | loglstar:   -inf < -99.129 <    inf | logz: -104.106 +/-  0.090 | dlogz: 87.580 >  0.509]"
     ]
    },
    {
     "name": "stdout",
     "output_type": "stream",
     "text": [
      "-39.457336\n",
      "-103.91516\n",
      "-231.28535\n"
     ]
    },
    {
     "name": "stderr",
     "output_type": "stream",
     "text": [
      "303it [06:03,  1.80s/it, bound: 0 | nc: 3 | ncall: 944 | eff(%): 32.097 | loglstar:   -inf < -99.102 <    inf | logz: -103.960 +/-  0.090 | dlogz: 87.427 >  0.509]"
     ]
    },
    {
     "name": "stdout",
     "output_type": "stream",
     "text": [
      "-79.11742\n"
     ]
    },
    {
     "name": "stderr",
     "output_type": "stream",
     "text": [
      "304it [06:03,  1.52s/it, bound: 0 | nc: 1 | ncall: 945 | eff(%): 32.169 | loglstar:   -inf < -98.795 <    inf | logz: -103.808 +/-  0.089 | dlogz: 87.278 >  0.509]"
     ]
    },
    {
     "name": "stdout",
     "output_type": "stream",
     "text": [
      "-54.18284\n",
      "-2126.2122\n"
     ]
    },
    {
     "name": "stderr",
     "output_type": "stream",
     "text": [
      "305it [06:05,  1.60s/it, bound: 0 | nc: 2 | ncall: 947 | eff(%): 32.207 | loglstar:   -inf < -98.202 <    inf | logz: -103.604 +/-  0.090 | dlogz: 87.125 >  0.509]"
     ]
    },
    {
     "name": "stdout",
     "output_type": "stream",
     "text": [
      "-89.762085\n",
      "-124.4403\n"
     ]
    },
    {
     "name": "stderr",
     "output_type": "stream",
     "text": [
      "306it [06:07,  1.67s/it, bound: 0 | nc: 2 | ncall: 949 | eff(%): 32.244 | loglstar:   -inf < -97.567 <    inf | logz: -103.310 +/-  0.091 | dlogz: 86.918 >  0.509]"
     ]
    },
    {
     "name": "stdout",
     "output_type": "stream",
     "text": [
      "-68.91349\n"
     ]
    },
    {
     "name": "stderr",
     "output_type": "stream",
     "text": [
      "307it [06:08,  1.43s/it, bound: 0 | nc: 1 | ncall: 950 | eff(%): 32.316 | loglstar:   -inf < -97.434 <    inf | logz: -103.005 +/-  0.092 | dlogz: 86.622 >  0.509]"
     ]
    },
    {
     "name": "stdout",
     "output_type": "stream",
     "text": [
      "-53.389397\n"
     ]
    },
    {
     "name": "stderr",
     "output_type": "stream",
     "text": [
      "308it [06:09,  1.29s/it, bound: 0 | nc: 1 | ncall: 951 | eff(%): 32.387 | loglstar:   -inf < -97.060 <    inf | logz: -102.710 +/-  0.093 | dlogz: 86.315 >  0.509]"
     ]
    },
    {
     "name": "stdout",
     "output_type": "stream",
     "text": [
      "-60.848835\n",
      "-10000.0\n",
      "-2854.374\n"
     ]
    },
    {
     "name": "stderr",
     "output_type": "stream",
     "text": [
      "309it [06:12,  1.69s/it, bound: 0 | nc: 3 | ncall: 954 | eff(%): 32.390 | loglstar:   -inf < -95.854 <    inf | logz: -102.205 +/-  0.096 | dlogz: 86.018 >  0.509]"
     ]
    },
    {
     "name": "stdout",
     "output_type": "stream",
     "text": [
      "-74.211395\n"
     ]
    },
    {
     "name": "stderr",
     "output_type": "stream",
     "text": [
      "310it [06:12,  1.44s/it, bound: 0 | nc: 1 | ncall: 955 | eff(%): 32.461 | loglstar:   -inf < -95.778 <    inf | logz: -101.715 +/-  0.098 | dlogz: 85.511 >  0.509]"
     ]
    },
    {
     "name": "stdout",
     "output_type": "stream",
     "text": [
      "-93.433685\n"
     ]
    },
    {
     "name": "stderr",
     "output_type": "stream",
     "text": [
      "311it [06:13,  1.28s/it, bound: 0 | nc: 1 | ncall: 956 | eff(%): 32.531 | loglstar:   -inf < -95.191 <    inf | logz: -101.269 +/-  0.098 | dlogz: 85.019 >  0.509]"
     ]
    },
    {
     "name": "stdout",
     "output_type": "stream",
     "text": [
      "-58.29387\n",
      "-237.3313\n",
      "-9947.38\n",
      "-10000.0\n",
      "-10000.0\n"
     ]
    },
    {
     "name": "stderr",
     "output_type": "stream",
     "text": [
      "312it [06:18,  2.26s/it, bound: 0 | nc: 5 | ncall: 961 | eff(%): 32.466 | loglstar:   -inf < -94.676 <    inf | logz: -100.789 +/-  0.099 | dlogz: 84.572 >  0.509]"
     ]
    },
    {
     "name": "stdout",
     "output_type": "stream",
     "text": [
      "-21.699812\n"
     ]
    },
    {
     "name": "stderr",
     "output_type": "stream",
     "text": [
      "313it [06:19,  1.88s/it, bound: 0 | nc: 1 | ncall: 962 | eff(%): 32.536 | loglstar:   -inf < -94.601 <    inf | logz: -100.387 +/-  0.099 | dlogz: 84.089 >  0.509]"
     ]
    },
    {
     "name": "stdout",
     "output_type": "stream",
     "text": [
      "-47.171146\n",
      "-10000.0\n",
      "-10000.187\n"
     ]
    },
    {
     "name": "stderr",
     "output_type": "stream",
     "text": [
      "314it [06:21,  2.11s/it, bound: 0 | nc: 3 | ncall: 965 | eff(%): 32.539 | loglstar:   -inf < -94.496 <    inf | logz: -100.078 +/-  0.098 | dlogz: 83.685 >  0.509]"
     ]
    },
    {
     "name": "stdout",
     "output_type": "stream",
     "text": [
      "-86.410194\n"
     ]
    },
    {
     "name": "stderr",
     "output_type": "stream",
     "text": [
      "315it [06:22,  1.70s/it, bound: 0 | nc: 1 | ncall: 966 | eff(%): 32.609 | loglstar:   -inf < -94.462 <    inf | logz: -99.828 +/-  0.097 | dlogz: 83.374 >  0.509] "
     ]
    },
    {
     "name": "stdout",
     "output_type": "stream",
     "text": [
      "-55.623985\n",
      "-113.71459\n",
      "-10000.0\n"
     ]
    },
    {
     "name": "stderr",
     "output_type": "stream",
     "text": [
      "316it [06:24,  1.85s/it, bound: 0 | nc: 3 | ncall: 969 | eff(%): 32.611 | loglstar:   -inf < -94.213 <    inf | logz: -99.600 +/-  0.096 | dlogz: 83.122 >  0.509]"
     ]
    },
    {
     "name": "stdout",
     "output_type": "stream",
     "text": [
      "-66.40092\n"
     ]
    },
    {
     "name": "stderr",
     "output_type": "stream",
     "text": [
      "317it [06:25,  1.51s/it, bound: 0 | nc: 1 | ncall: 970 | eff(%): 32.680 | loglstar:   -inf < -94.184 <    inf | logz: -99.391 +/-  0.095 | dlogz: 82.892 >  0.509]"
     ]
    },
    {
     "name": "stdout",
     "output_type": "stream",
     "text": [
      "-49.950634\n"
     ]
    },
    {
     "name": "stderr",
     "output_type": "stream",
     "text": [
      "318it [06:26,  1.27s/it, bound: 0 | nc: 1 | ncall: 971 | eff(%): 32.750 | loglstar:   -inf < -93.846 <    inf | logz: -99.185 +/-  0.094 | dlogz: 82.681 >  0.509]"
     ]
    },
    {
     "name": "stdout",
     "output_type": "stream",
     "text": [
      "-31.282526\n"
     ]
    },
    {
     "name": "stderr",
     "output_type": "stream",
     "text": [
      "319it [06:27,  1.11s/it, bound: 0 | nc: 1 | ncall: 972 | eff(%): 32.819 | loglstar:   -inf < -93.675 <    inf | logz: -98.972 +/-  0.094 | dlogz: 82.473 >  0.509]"
     ]
    },
    {
     "name": "stdout",
     "output_type": "stream",
     "text": [
      "-42.543972\n"
     ]
    },
    {
     "name": "stderr",
     "output_type": "stream",
     "text": [
      "320it [06:27,  1.00it/s, bound: 0 | nc: 1 | ncall: 973 | eff(%): 32.888 | loglstar:   -inf < -93.434 <    inf | logz: -98.760 +/-  0.093 | dlogz: 82.258 >  0.509]"
     ]
    },
    {
     "name": "stdout",
     "output_type": "stream",
     "text": [
      "-82.687675\n",
      "-10000.0\n",
      "-10000.0\n",
      "-10000.0\n",
      "-887.6466\n"
     ]
    },
    {
     "name": "stderr",
     "output_type": "stream",
     "text": [
      "321it [06:31,  1.86s/it, bound: 0 | nc: 5 | ncall: 978 | eff(%): 32.822 | loglstar:   -inf < -93.409 <    inf | logz: -98.564 +/-  0.093 | dlogz: 82.044 >  0.509]"
     ]
    },
    {
     "name": "stdout",
     "output_type": "stream",
     "text": [
      "-51.587246\n"
     ]
    },
    {
     "name": "stderr",
     "output_type": "stream",
     "text": [
      "322it [06:32,  1.53s/it, bound: 0 | nc: 1 | ncall: 979 | eff(%): 32.891 | loglstar:   -inf < -92.429 <    inf | logz: -98.280 +/-  0.093 | dlogz: 81.846 >  0.509]"
     ]
    },
    {
     "name": "stdout",
     "output_type": "stream",
     "text": [
      "-64.032455\n"
     ]
    },
    {
     "name": "stderr",
     "output_type": "stream",
     "text": [
      "323it [06:33,  1.28s/it, bound: 0 | nc: 1 | ncall: 980 | eff(%): 32.959 | loglstar:   -inf < -92.413 <    inf | logz: -97.971 +/-  0.094 | dlogz: 81.560 >  0.509]"
     ]
    },
    {
     "name": "stdout",
     "output_type": "stream",
     "text": [
      "-42.353336\n"
     ]
    },
    {
     "name": "stderr",
     "output_type": "stream",
     "text": [
      "324it [06:33,  1.11s/it, bound: 0 | nc: 1 | ncall: 981 | eff(%): 33.028 | loglstar:   -inf < -92.399 <    inf | logz: -97.732 +/-  0.094 | dlogz: 81.249 >  0.509]"
     ]
    },
    {
     "name": "stdout",
     "output_type": "stream",
     "text": [
      "-64.739944\n",
      "-139.27776\n",
      "-10000.0\n",
      "-4461.985\n",
      "-206.75362\n"
     ]
    },
    {
     "name": "stderr",
     "output_type": "stream",
     "text": [
      "325it [06:37,  1.89s/it, bound: 0 | nc: 5 | ncall: 986 | eff(%): 32.961 | loglstar:   -inf < -92.263 <    inf | logz: -97.526 +/-  0.093 | dlogz: 81.008 >  0.509]"
     ]
    },
    {
     "name": "stdout",
     "output_type": "stream",
     "text": [
      "-68.41868\n"
     ]
    },
    {
     "name": "stderr",
     "output_type": "stream",
     "text": [
      "326it [06:38,  1.54s/it, bound: 0 | nc: 1 | ncall: 987 | eff(%): 33.029 | loglstar:   -inf < -91.809 <    inf | logz: -97.299 +/-  0.093 | dlogz: 80.800 >  0.509]"
     ]
    },
    {
     "name": "stdout",
     "output_type": "stream",
     "text": [
      "-50.829903\n"
     ]
    },
    {
     "name": "stderr",
     "output_type": "stream",
     "text": [
      "327it [06:39,  1.30s/it, bound: 0 | nc: 1 | ncall: 988 | eff(%): 33.097 | loglstar:   -inf < -91.613 <    inf | logz: -97.055 +/-  0.093 | dlogz: 80.571 >  0.509]"
     ]
    },
    {
     "name": "stdout",
     "output_type": "stream",
     "text": [
      "-21.73903\n",
      "-131.84563\n"
     ]
    },
    {
     "name": "stderr",
     "output_type": "stream",
     "text": [
      "328it [06:40,  1.36s/it, bound: 0 | nc: 2 | ncall: 990 | eff(%): 33.131 | loglstar:   -inf < -91.541 <    inf | logz: -96.836 +/-  0.093 | dlogz: 80.326 >  0.509]"
     ]
    },
    {
     "name": "stdout",
     "output_type": "stream",
     "text": [
      "-29.26978\n",
      "-2286.6482\n"
     ]
    },
    {
     "name": "stderr",
     "output_type": "stream",
     "text": [
      "329it [06:41,  1.39s/it, bound: 0 | nc: 2 | ncall: 992 | eff(%): 33.165 | loglstar:   -inf < -91.297 <    inf | logz: -96.628 +/-  0.092 | dlogz: 80.104 >  0.509]"
     ]
    },
    {
     "name": "stdout",
     "output_type": "stream",
     "text": [
      "-49.72146\n",
      "-10000.0\n",
      "-110.04211\n",
      "-98.8657\n",
      "-3814.5454\n",
      "-105.74295\n",
      "-10000.0\n"
     ]
    },
    {
     "name": "stderr",
     "output_type": "stream",
     "text": [
      "330it [06:47,  2.50s/it, bound: 0 | nc: 7 | ncall: 999 | eff(%): 33.033 | loglstar:   -inf < -91.293 <    inf | logz: -96.436 +/-  0.092 | dlogz: 79.894 >  0.509]"
     ]
    },
    {
     "name": "stdout",
     "output_type": "stream",
     "text": [
      "-39.13193\n"
     ]
    },
    {
     "name": "stderr",
     "output_type": "stream",
     "text": [
      "331it [06:47,  1.96s/it, bound: 0 | nc: 1 | ncall: 1000 | eff(%): 33.100 | loglstar:   -inf < -91.232 <    inf | logz: -96.271 +/-  0.092 | dlogz: 79.700 >  0.509]"
     ]
    },
    {
     "name": "stdout",
     "output_type": "stream",
     "text": [
      "-62.108593\n"
     ]
    },
    {
     "name": "stderr",
     "output_type": "stream",
     "text": [
      "332it [06:48,  1.59s/it, bound: 0 | nc: 1 | ncall: 1001 | eff(%): 33.167 | loglstar:   -inf < -91.168 <    inf | logz: -96.121 +/-  0.091 | dlogz: 79.533 >  0.509]"
     ]
    },
    {
     "name": "stdout",
     "output_type": "stream",
     "text": [
      "-44.330334\n",
      "-10000.0\n"
     ]
    },
    {
     "name": "stderr",
     "output_type": "stream",
     "text": [
      "333it [06:50,  1.56s/it, bound: 0 | nc: 2 | ncall: 1003 | eff(%): 33.200 | loglstar:   -inf < -91.089 <    inf | logz: -95.981 +/-  0.091 | dlogz: 79.381 >  0.509]"
     ]
    },
    {
     "name": "stdout",
     "output_type": "stream",
     "text": [
      "-47.720432\n",
      "-307.99103\n"
     ]
    },
    {
     "name": "stderr",
     "output_type": "stream",
     "text": [
      "334it [06:51,  1.52s/it, bound: 0 | nc: 2 | ncall: 1005 | eff(%): 33.234 | loglstar:   -inf < -91.056 <    inf | logz: -95.853 +/-  0.090 | dlogz: 79.240 >  0.509]"
     ]
    },
    {
     "name": "stdout",
     "output_type": "stream",
     "text": [
      "-59.65103\n",
      "-10000.0\n"
     ]
    },
    {
     "name": "stderr",
     "output_type": "stream",
     "text": [
      "335it [06:52,  1.51s/it, bound: 0 | nc: 2 | ncall: 1007 | eff(%): 33.267 | loglstar:   -inf < -91.017 <    inf | logz: -95.735 +/-  0.089 | dlogz: 79.109 >  0.509]"
     ]
    },
    {
     "name": "stdout",
     "output_type": "stream",
     "text": [
      "-87.31265\n"
     ]
    },
    {
     "name": "stderr",
     "output_type": "stream",
     "text": [
      "336it [06:53,  1.27s/it, bound: 0 | nc: 1 | ncall: 1008 | eff(%): 33.333 | loglstar:   -inf < -90.870 <    inf | logz: -95.621 +/-  0.089 | dlogz: 78.990 >  0.509]"
     ]
    },
    {
     "name": "stdout",
     "output_type": "stream",
     "text": [
      "-27.388388\n"
     ]
    },
    {
     "name": "stderr",
     "output_type": "stream",
     "text": [
      "337it [06:54,  1.11s/it, bound: 0 | nc: 1 | ncall: 1009 | eff(%): 33.399 | loglstar:   -inf < -90.787 <    inf | logz: -95.506 +/-  0.088 | dlogz: 78.873 >  0.509]"
     ]
    },
    {
     "name": "stdout",
     "output_type": "stream",
     "text": [
      "-50.14016\n",
      "-9997.394\n",
      "-474.3719\n",
      "-102.252106\n",
      "-2856.8955\n",
      "-281.18802\n"
     ]
    },
    {
     "name": "stderr",
     "output_type": "stream",
     "text": [
      "338it [06:58,  2.05s/it, bound: 0 | nc: 6 | ncall: 1015 | eff(%): 33.300 | loglstar:   -inf < -90.512 <    inf | logz: -95.384 +/-  0.088 | dlogz: 78.756 >  0.509]"
     ]
    },
    {
     "name": "stdout",
     "output_type": "stream",
     "text": [
      "-76.95984\n"
     ]
    },
    {
     "name": "stderr",
     "output_type": "stream",
     "text": [
      "339it [06:59,  1.65s/it, bound: 0 | nc: 1 | ncall: 1016 | eff(%): 33.366 | loglstar:   -inf < -90.377 <    inf | logz: -95.252 +/-  0.088 | dlogz: 78.632 >  0.509]"
     ]
    },
    {
     "name": "stdout",
     "output_type": "stream",
     "text": [
      "-57.77984\n",
      "-985.34265\n"
     ]
    },
    {
     "name": "stderr",
     "output_type": "stream",
     "text": [
      "340it [07:00,  1.58s/it, bound: 0 | nc: 2 | ncall: 1018 | eff(%): 33.399 | loglstar:   -inf < -90.324 <    inf | logz: -95.126 +/-  0.088 | dlogz: 78.499 >  0.509]"
     ]
    },
    {
     "name": "stdout",
     "output_type": "stream",
     "text": [
      "-23.916803\n",
      "-3096.0146\n",
      "-156.28539\n"
     ]
    },
    {
     "name": "stderr",
     "output_type": "stream",
     "text": [
      "341it [07:02,  1.74s/it, bound: 0 | nc: 3 | ncall: 1021 | eff(%): 33.399 | loglstar:   -inf < -90.119 <    inf | logz: -94.999 +/-  0.087 | dlogz: 78.370 >  0.509]"
     ]
    },
    {
     "name": "stdout",
     "output_type": "stream",
     "text": [
      "-65.59507\n"
     ]
    },
    {
     "name": "stderr",
     "output_type": "stream",
     "text": [
      "342it [07:03,  1.44s/it, bound: 0 | nc: 1 | ncall: 1022 | eff(%): 33.464 | loglstar:   -inf < -89.808 <    inf | logz: -94.855 +/-  0.087 | dlogz: 78.242 >  0.509]"
     ]
    },
    {
     "name": "stdout",
     "output_type": "stream",
     "text": [
      "-63.94213\n",
      "-96.12605\n",
      "-286.2467\n"
     ]
    },
    {
     "name": "stderr",
     "output_type": "stream",
     "text": [
      "343it [07:05,  1.64s/it, bound: 0 | nc: 3 | ncall: 1025 | eff(%): 33.463 | loglstar:   -inf < -89.762 <    inf | logz: -94.708 +/-  0.088 | dlogz: 78.095 >  0.509]"
     ]
    },
    {
     "name": "stdout",
     "output_type": "stream",
     "text": [
      "-38.540188\n",
      "-89.74528\n",
      "-131.27068\n"
     ]
    },
    {
     "name": "stderr",
     "output_type": "stream",
     "text": [
      "344it [07:07,  1.81s/it, bound: 0 | nc: 3 | ncall: 1028 | eff(%): 33.463 | loglstar:   -inf < -89.671 <    inf | logz: -94.572 +/-  0.087 | dlogz: 77.947 >  0.509]"
     ]
    },
    {
     "name": "stdout",
     "output_type": "stream",
     "text": [
      "-29.99662\n",
      "-10000.373\n",
      "-97.74254\n"
     ]
    },
    {
     "name": "stderr",
     "output_type": "stream",
     "text": [
      "345it [07:10,  1.91s/it, bound: 0 | nc: 3 | ncall: 1031 | eff(%): 33.463 | loglstar:   -inf < -89.440 <    inf | logz: -94.432 +/-  0.087 | dlogz: 77.808 >  0.509]"
     ]
    },
    {
     "name": "stdout",
     "output_type": "stream",
     "text": [
      "-71.54339\n",
      "-244.47017\n"
     ]
    },
    {
     "name": "stderr",
     "output_type": "stream",
     "text": [
      "346it [07:11,  1.77s/it, bound: 0 | nc: 2 | ncall: 1033 | eff(%): 33.495 | loglstar:   -inf < -89.261 <    inf | logz: -94.284 +/-  0.087 | dlogz: 77.666 >  0.509]"
     ]
    },
    {
     "name": "stdout",
     "output_type": "stream",
     "text": [
      "-57.530262\n"
     ]
    },
    {
     "name": "stderr",
     "output_type": "stream",
     "text": [
      "347it [07:12,  1.46s/it, bound: 0 | nc: 1 | ncall: 1034 | eff(%): 33.559 | loglstar:   -inf < -89.121 <    inf | logz: -94.134 +/-  0.088 | dlogz: 77.516 >  0.509]"
     ]
    },
    {
     "name": "stdout",
     "output_type": "stream",
     "text": [
      "-61.28501\n"
     ]
    },
    {
     "name": "stderr",
     "output_type": "stream",
     "text": [
      "348it [07:12,  1.23s/it, bound: 0 | nc: 1 | ncall: 1035 | eff(%): 33.623 | loglstar:   -inf < -88.927 <    inf | logz: -93.983 +/-  0.088 | dlogz: 77.365 >  0.509]"
     ]
    },
    {
     "name": "stdout",
     "output_type": "stream",
     "text": [
      "-68.682785\n"
     ]
    },
    {
     "name": "stderr",
     "output_type": "stream",
     "text": [
      "349it [07:13,  1.08s/it, bound: 0 | nc: 1 | ncall: 1036 | eff(%): 33.687 | loglstar:   -inf < -88.870 <    inf | logz: -93.836 +/-  0.088 | dlogz: 77.211 >  0.509]"
     ]
    },
    {
     "name": "stdout",
     "output_type": "stream",
     "text": [
      "-68.42989\n",
      "-111.952896\n",
      "-98.809166\n",
      "-748.443\n",
      "-120.83634\n"
     ]
    },
    {
     "name": "stderr",
     "output_type": "stream",
     "text": [
      "350it [07:17,  1.83s/it, bound: 0 | nc: 5 | ncall: 1041 | eff(%): 33.622 | loglstar:   -inf < -88.690 <    inf | logz: -93.692 +/-  0.088 | dlogz: 77.062 >  0.509]"
     ]
    },
    {
     "name": "stdout",
     "output_type": "stream",
     "text": [
      "-79.43109\n"
     ]
    },
    {
     "name": "stderr",
     "output_type": "stream",
     "text": [
      "351it [07:17,  1.49s/it, bound: 0 | nc: 1 | ncall: 1042 | eff(%): 33.685 | loglstar:   -inf < -88.235 <    inf | logz: -93.520 +/-  0.088 | dlogz: 76.916 >  0.509]"
     ]
    },
    {
     "name": "stdout",
     "output_type": "stream",
     "text": [
      "-36.077877\n"
     ]
    },
    {
     "name": "stderr",
     "output_type": "stream",
     "text": [
      "352it [07:18,  1.26s/it, bound: 0 | nc: 1 | ncall: 1043 | eff(%): 33.749 | loglstar:   -inf < -88.123 <    inf | logz: -93.335 +/-  0.088 | dlogz: 76.743 >  0.509]"
     ]
    },
    {
     "name": "stdout",
     "output_type": "stream",
     "text": [
      "-45.033512\n",
      "-271.17267\n",
      "-297.28723\n"
     ]
    },
    {
     "name": "stderr",
     "output_type": "stream",
     "text": [
      "353it [07:20,  1.52s/it, bound: 0 | nc: 3 | ncall: 1046 | eff(%): 33.748 | loglstar:   -inf < -88.041 <    inf | logz: -93.164 +/-  0.089 | dlogz: 76.555 >  0.509]"
     ]
    },
    {
     "name": "stdout",
     "output_type": "stream",
     "text": [
      "-61.53926\n",
      "-104.80589\n",
      "-99.71705\n"
     ]
    },
    {
     "name": "stderr",
     "output_type": "stream",
     "text": [
      "354it [07:22,  1.73s/it, bound: 0 | nc: 3 | ncall: 1049 | eff(%): 33.746 | loglstar:   -inf < -87.999 <    inf | logz: -93.010 +/-  0.089 | dlogz: 76.382 >  0.509]"
     ]
    },
    {
     "name": "stdout",
     "output_type": "stream",
     "text": [
      "-40.386852\n"
     ]
    },
    {
     "name": "stderr",
     "output_type": "stream",
     "text": [
      "355it [07:23,  1.42s/it, bound: 0 | nc: 1 | ncall: 1050 | eff(%): 33.810 | loglstar:   -inf < -87.827 <    inf | logz: -92.862 +/-  0.089 | dlogz: 76.226 >  0.509]"
     ]
    },
    {
     "name": "stdout",
     "output_type": "stream",
     "text": [
      "-45.604115\n"
     ]
    },
    {
     "name": "stderr",
     "output_type": "stream",
     "text": [
      "356it [07:24,  1.21s/it, bound: 0 | nc: 1 | ncall: 1051 | eff(%): 33.873 | loglstar:   -inf < -87.677 <    inf | logz: -92.713 +/-  0.088 | dlogz: 76.076 >  0.509]"
     ]
    },
    {
     "name": "stdout",
     "output_type": "stream",
     "text": [
      "-36.355335\n",
      "-9999.628\n"
     ]
    },
    {
     "name": "stderr",
     "output_type": "stream",
     "text": [
      "357it [07:25,  1.28s/it, bound: 0 | nc: 2 | ncall: 1053 | eff(%): 33.903 | loglstar:   -inf < -87.676 <    inf | logz: -92.574 +/-  0.088 | dlogz: 75.925 >  0.509]"
     ]
    },
    {
     "name": "stdout",
     "output_type": "stream",
     "text": [
      "-58.673347\n"
     ]
    },
    {
     "name": "stderr",
     "output_type": "stream",
     "text": [
      "358it [07:26,  1.13s/it, bound: 0 | nc: 1 | ncall: 1054 | eff(%): 33.966 | loglstar:   -inf < -87.626 <    inf | logz: -92.450 +/-  0.088 | dlogz: 75.785 >  0.509]"
     ]
    },
    {
     "name": "stdout",
     "output_type": "stream",
     "text": [
      "-28.747217\n",
      "-10000.0\n"
     ]
    },
    {
     "name": "stderr",
     "output_type": "stream",
     "text": [
      "359it [07:28,  1.26s/it, bound: 0 | nc: 2 | ncall: 1056 | eff(%): 33.996 | loglstar:   -inf < -87.331 <    inf | logz: -92.319 +/-  0.088 | dlogz: 75.658 >  0.509]"
     ]
    },
    {
     "name": "stdout",
     "output_type": "stream",
     "text": [
      "-79.356384\n",
      "-198.4169\n",
      "-10000.0\n"
     ]
    },
    {
     "name": "stderr",
     "output_type": "stream",
     "text": [
      "360it [07:30,  1.54s/it, bound: 0 | nc: 3 | ncall: 1059 | eff(%): 33.994 | loglstar:   -inf < -87.313 <    inf | logz: -92.186 +/-  0.088 | dlogz: 75.525 >  0.509]"
     ]
    },
    {
     "name": "stdout",
     "output_type": "stream",
     "text": [
      "-69.81425\n",
      "-10000.373\n"
     ]
    },
    {
     "name": "stderr",
     "output_type": "stream",
     "text": [
      "361it [07:31,  1.52s/it, bound: 0 | nc: 2 | ncall: 1061 | eff(%): 34.025 | loglstar:   -inf < -86.730 <    inf | logz: -92.025 +/-  0.088 | dlogz: 75.390 >  0.509]"
     ]
    },
    {
     "name": "stdout",
     "output_type": "stream",
     "text": [
      "-68.65481\n"
     ]
    },
    {
     "name": "stderr",
     "output_type": "stream",
     "text": [
      "362it [07:32,  1.28s/it, bound: 0 | nc: 1 | ncall: 1062 | eff(%): 34.087 | loglstar:   -inf < -86.674 <    inf | logz: -91.845 +/-  0.088 | dlogz: 75.227 >  0.509]"
     ]
    },
    {
     "name": "stdout",
     "output_type": "stream",
     "text": [
      "-59.833084\n"
     ]
    },
    {
     "name": "stderr",
     "output_type": "stream",
     "text": [
      "363it [07:33,  1.11s/it, bound: 0 | nc: 1 | ncall: 1063 | eff(%): 34.149 | loglstar:   -inf < -86.653 <    inf | logz: -91.689 +/-  0.088 | dlogz: 75.046 >  0.509]"
     ]
    },
    {
     "name": "stdout",
     "output_type": "stream",
     "text": [
      "-85.3431\n"
     ]
    },
    {
     "name": "stderr",
     "output_type": "stream",
     "text": [
      "364it [07:34,  1.01it/s, bound: 0 | nc: 1 | ncall: 1064 | eff(%): 34.211 | loglstar:   -inf < -86.621 <    inf | logz: -91.550 +/-  0.088 | dlogz: 74.887 >  0.509]"
     ]
    },
    {
     "name": "stdout",
     "output_type": "stream",
     "text": [
      "-63.26521\n"
     ]
    },
    {
     "name": "stderr",
     "output_type": "stream",
     "text": [
      "365it [07:34,  1.09it/s, bound: 0 | nc: 1 | ncall: 1065 | eff(%): 34.272 | loglstar:   -inf < -86.410 <    inf | logz: -91.413 +/-  0.088 | dlogz: 74.746 >  0.509]"
     ]
    },
    {
     "name": "stdout",
     "output_type": "stream",
     "text": [
      "-45.80879\n",
      "-10000.0\n",
      "-3550.1914\n",
      "-10000.0\n",
      "-161.79169\n",
      "-86.899284\n"
     ]
    },
    {
     "name": "stderr",
     "output_type": "stream",
     "text": [
      "366it [07:39,  1.95s/it, bound: 0 | nc: 6 | ncall: 1071 | eff(%): 34.174 | loglstar:   -inf < -86.280 <    inf | logz: -91.272 +/-  0.088 | dlogz: 74.607 >  0.509]"
     ]
    },
    {
     "name": "stdout",
     "output_type": "stream",
     "text": [
      "-36.859432\n"
     ]
    },
    {
     "name": "stderr",
     "output_type": "stream",
     "text": [
      "367it [07:39,  1.58s/it, bound: 0 | nc: 1 | ncall: 1072 | eff(%): 34.235 | loglstar:   -inf < -86.270 <    inf | logz: -91.141 +/-  0.088 | dlogz: 74.464 >  0.509]"
     ]
    },
    {
     "name": "stdout",
     "output_type": "stream",
     "text": [
      "-75.70406\n",
      "-10000.0\n",
      "-423.48758\n"
     ]
    },
    {
     "name": "stderr",
     "output_type": "stream",
     "text": [
      "368it [07:41,  1.74s/it, bound: 0 | nc: 3 | ncall: 1075 | eff(%): 34.233 | loglstar:   -inf < -85.854 <    inf | logz: -90.997 +/-  0.088 | dlogz: 74.331 >  0.509]"
     ]
    },
    {
     "name": "stdout",
     "output_type": "stream",
     "text": [
      "-85.40396\n",
      "-174.70277\n",
      "-10000.0\n"
     ]
    },
    {
     "name": "stderr",
     "output_type": "stream",
     "text": [
      "369it [07:44,  1.85s/it, bound: 0 | nc: 3 | ncall: 1078 | eff(%): 34.230 | loglstar:   -inf < -85.747 <    inf | logz: -90.839 +/-  0.088 | dlogz: 74.185 >  0.509]"
     ]
    },
    {
     "name": "stdout",
     "output_type": "stream",
     "text": [
      "-54.2701\n",
      "-91.692055\n"
     ]
    },
    {
     "name": "stderr",
     "output_type": "stream",
     "text": [
      "370it [07:45,  1.72s/it, bound: 0 | nc: 2 | ncall: 1080 | eff(%): 34.259 | loglstar:   -inf < -85.614 <    inf | logz: -90.687 +/-  0.088 | dlogz: 74.026 >  0.509]"
     ]
    },
    {
     "name": "stdout",
     "output_type": "stream",
     "text": [
      "-49.67233\n",
      "-94.38264\n",
      "-10000.0\n"
     ]
    },
    {
     "name": "stderr",
     "output_type": "stream",
     "text": [
      "371it [07:47,  1.85s/it, bound: 0 | nc: 3 | ncall: 1083 | eff(%): 34.257 | loglstar:   -inf < -85.506 <    inf | logz: -90.540 +/-  0.088 | dlogz: 73.872 >  0.509]"
     ]
    },
    {
     "name": "stdout",
     "output_type": "stream",
     "text": [
      "-76.44856\n"
     ]
    },
    {
     "name": "stderr",
     "output_type": "stream",
     "text": [
      "372it [07:48,  1.51s/it, bound: 0 | nc: 1 | ncall: 1084 | eff(%): 34.317 | loglstar:   -inf < -85.404 <    inf | logz: -90.399 +/-  0.088 | dlogz: 73.722 >  0.509]"
     ]
    },
    {
     "name": "stdout",
     "output_type": "stream",
     "text": [
      "-72.645546\n",
      "-10000.0\n"
     ]
    },
    {
     "name": "stderr",
     "output_type": "stream",
     "text": [
      "373it [07:49,  1.48s/it, bound: 0 | nc: 2 | ncall: 1086 | eff(%): 34.346 | loglstar:   -inf < -85.343 <    inf | logz: -90.266 +/-  0.088 | dlogz: 73.579 >  0.509]"
     ]
    },
    {
     "name": "stdout",
     "output_type": "stream",
     "text": [
      "-78.63944\n"
     ]
    },
    {
     "name": "stderr",
     "output_type": "stream",
     "text": [
      "374it [07:50,  1.25s/it, bound: 0 | nc: 1 | ncall: 1087 | eff(%): 34.407 | loglstar:   -inf < -85.315 <    inf | logz: -90.143 +/-  0.088 | dlogz: 73.444 >  0.509]"
     ]
    },
    {
     "name": "stdout",
     "output_type": "stream",
     "text": [
      "-78.52233\n",
      "-88.21237\n",
      "-173.52063\n"
     ]
    },
    {
     "name": "stderr",
     "output_type": "stream",
     "text": [
      "375it [07:52,  1.54s/it, bound: 0 | nc: 3 | ncall: 1090 | eff(%): 34.404 | loglstar:   -inf < -85.213 <    inf | logz: -90.027 +/-  0.088 | dlogz: 73.320 >  0.509]"
     ]
    },
    {
     "name": "stdout",
     "output_type": "stream",
     "text": [
      "-80.13493\n"
     ]
    },
    {
     "name": "stderr",
     "output_type": "stream",
     "text": [
      "376it [07:53,  1.31s/it, bound: 0 | nc: 1 | ncall: 1091 | eff(%): 34.464 | loglstar:   -inf < -85.044 <    inf | logz: -89.910 +/-  0.087 | dlogz: 73.202 >  0.509]"
     ]
    },
    {
     "name": "stdout",
     "output_type": "stream",
     "text": [
      "-70.802666\n",
      "-137.3906\n"
     ]
    },
    {
     "name": "stderr",
     "output_type": "stream",
     "text": [
      "377it [07:54,  1.37s/it, bound: 0 | nc: 2 | ncall: 1093 | eff(%): 34.492 | loglstar:   -inf < -84.676 <    inf | logz: -89.772 +/-  0.088 | dlogz: 73.082 >  0.509]"
     ]
    },
    {
     "name": "stdout",
     "output_type": "stream",
     "text": [
      "-51.807655\n"
     ]
    },
    {
     "name": "stderr",
     "output_type": "stream",
     "text": [
      "378it [07:55,  1.19s/it, bound: 0 | nc: 1 | ncall: 1094 | eff(%): 34.552 | loglstar:   -inf < -84.491 <    inf | logz: -89.618 +/-  0.088 | dlogz: 72.943 >  0.509]"
     ]
    },
    {
     "name": "stdout",
     "output_type": "stream",
     "text": [
      "-66.046814\n"
     ]
    },
    {
     "name": "stderr",
     "output_type": "stream",
     "text": [
      "379it [07:56,  1.07s/it, bound: 0 | nc: 1 | ncall: 1095 | eff(%): 34.612 | loglstar:   -inf < -84.351 <    inf | logz: -89.463 +/-  0.088 | dlogz: 72.786 >  0.509]"
     ]
    },
    {
     "name": "stdout",
     "output_type": "stream",
     "text": [
      "-51.55872\n"
     ]
    },
    {
     "name": "stderr",
     "output_type": "stream",
     "text": [
      "380it [07:57,  1.02it/s, bound: 0 | nc: 1 | ncall: 1096 | eff(%): 34.672 | loglstar:   -inf < -84.161 <    inf | logz: -89.307 +/-  0.088 | dlogz: 72.629 >  0.509]"
     ]
    },
    {
     "name": "stdout",
     "output_type": "stream",
     "text": [
      "-83.45859\n"
     ]
    },
    {
     "name": "stderr",
     "output_type": "stream",
     "text": [
      "381it [07:58,  1.09it/s, bound: 0 | nc: 1 | ncall: 1097 | eff(%): 34.731 | loglstar:   -inf < -84.038 <    inf | logz: -89.151 +/-  0.088 | dlogz: 72.471 >  0.509]"
     ]
    },
    {
     "name": "stdout",
     "output_type": "stream",
     "text": [
      "-72.854034\n"
     ]
    },
    {
     "name": "stderr",
     "output_type": "stream",
     "text": [
      "382it [07:58,  1.15it/s, bound: 0 | nc: 1 | ncall: 1098 | eff(%): 34.791 | loglstar:   -inf < -83.755 <    inf | logz: -88.988 +/-  0.089 | dlogz: 72.313 >  0.509]"
     ]
    },
    {
     "name": "stdout",
     "output_type": "stream",
     "text": [
      "-40.07548\n"
     ]
    },
    {
     "name": "stderr",
     "output_type": "stream",
     "text": [
      "383it [07:59,  1.19it/s, bound: 0 | nc: 1 | ncall: 1099 | eff(%): 34.850 | loglstar:   -inf < -83.691 <    inf | logz: -88.824 +/-  0.089 | dlogz: 72.148 >  0.509]"
     ]
    },
    {
     "name": "stdout",
     "output_type": "stream",
     "text": [
      "-81.53852\n",
      "-10000.373\n"
     ]
    },
    {
     "name": "stderr",
     "output_type": "stream",
     "text": [
      "384it [08:01,  1.05s/it, bound: 0 | nc: 2 | ncall: 1101 | eff(%): 34.877 | loglstar:   -inf < -83.459 <    inf | logz: -88.662 +/-  0.089 | dlogz: 71.982 >  0.509]"
     ]
    },
    {
     "name": "stdout",
     "output_type": "stream",
     "text": [
      "-50.963337\n",
      "-86.226555\n"
     ]
    },
    {
     "name": "stderr",
     "output_type": "stream",
     "text": [
      "385it [08:02,  1.20s/it, bound: 0 | nc: 2 | ncall: 1103 | eff(%): 34.905 | loglstar:   -inf < -83.409 <    inf | logz: -88.505 +/-  0.089 | dlogz: 71.819 >  0.509]"
     ]
    },
    {
     "name": "stdout",
     "output_type": "stream",
     "text": [
      "-25.464455\n",
      "-427.0801\n"
     ]
    },
    {
     "name": "stderr",
     "output_type": "stream",
     "text": [
      "386it [08:04,  1.29s/it, bound: 0 | nc: 2 | ncall: 1105 | eff(%): 34.932 | loglstar:   -inf < -83.100 <    inf | logz: -88.343 +/-  0.089 | dlogz: 71.659 >  0.509]"
     ]
    },
    {
     "name": "stdout",
     "output_type": "stream",
     "text": [
      "-39.739914\n"
     ]
    },
    {
     "name": "stderr",
     "output_type": "stream",
     "text": [
      "387it [08:04,  1.15s/it, bound: 0 | nc: 1 | ncall: 1106 | eff(%): 34.991 | loglstar:   -inf < -83.080 <    inf | logz: -88.183 +/-  0.089 | dlogz: 71.495 >  0.509]"
     ]
    },
    {
     "name": "stdout",
     "output_type": "stream",
     "text": [
      "-75.30587\n",
      "-10000.0\n"
     ]
    },
    {
     "name": "stderr",
     "output_type": "stream",
     "text": [
      "388it [08:06,  1.33s/it, bound: 0 | nc: 2 | ncall: 1108 | eff(%): 35.018 | loglstar:   -inf < -83.003 <    inf | logz: -88.038 +/-  0.089 | dlogz: 71.333 >  0.509]"
     ]
    },
    {
     "name": "stdout",
     "output_type": "stream",
     "text": [
      "-58.028667\n",
      "-10000.0\n",
      "-84.96683\n"
     ]
    },
    {
     "name": "stderr",
     "output_type": "stream",
     "text": [
      "389it [08:09,  1.71s/it, bound: 0 | nc: 3 | ncall: 1111 | eff(%): 35.014 | loglstar:   -inf < -82.711 <    inf | logz: -87.887 +/-  0.089 | dlogz: 71.187 >  0.509]"
     ]
    },
    {
     "name": "stdout",
     "output_type": "stream",
     "text": [
      "-40.6571\n",
      "-10000.0\n"
     ]
    },
    {
     "name": "stderr",
     "output_type": "stream",
     "text": [
      "390it [08:11,  1.71s/it, bound: 0 | nc: 2 | ncall: 1113 | eff(%): 35.040 | loglstar:   -inf < -82.688 <    inf | logz: -87.737 +/-  0.089 | dlogz: 71.034 >  0.509]"
     ]
    },
    {
     "name": "stdout",
     "output_type": "stream",
     "text": [
      "-73.49242\n"
     ]
    },
    {
     "name": "stderr",
     "output_type": "stream",
     "text": [
      "391it [08:11,  1.46s/it, bound: 0 | nc: 1 | ncall: 1114 | eff(%): 35.099 | loglstar:   -inf < -82.668 <    inf | logz: -87.604 +/-  0.089 | dlogz: 70.881 >  0.509]"
     ]
    },
    {
     "name": "stdout",
     "output_type": "stream",
     "text": [
      "-72.3244\n"
     ]
    },
    {
     "name": "stderr",
     "output_type": "stream",
     "text": [
      "392it [08:12,  1.28s/it, bound: 0 | nc: 1 | ncall: 1115 | eff(%): 35.157 | loglstar:   -inf < -82.078 <    inf | logz: -87.442 +/-  0.089 | dlogz: 70.746 >  0.509]"
     ]
    },
    {
     "name": "stdout",
     "output_type": "stream",
     "text": [
      "-69.186035\n",
      "-84.192604\n",
      "-168.23001\n"
     ]
    },
    {
     "name": "stderr",
     "output_type": "stream",
     "text": [
      "393it [08:15,  1.69s/it, bound: 0 | nc: 3 | ncall: 1118 | eff(%): 35.152 | loglstar:   -inf < -81.578 <    inf | logz: -87.216 +/-  0.090 | dlogz: 70.582 >  0.509]"
     ]
    },
    {
     "name": "stdout",
     "output_type": "stream",
     "text": [
      "-34.86198\n",
      "-10000.0\n",
      "-86.303925\n"
     ]
    },
    {
     "name": "stderr",
     "output_type": "stream",
     "text": [
      "394it [08:18,  1.97s/it, bound: 0 | nc: 3 | ncall: 1121 | eff(%): 35.147 | loglstar:   -inf < -81.539 <    inf | logz: -86.987 +/-  0.091 | dlogz: 70.354 >  0.509]"
     ]
    },
    {
     "name": "stdout",
     "output_type": "stream",
     "text": [
      "-69.89911\n",
      "-92.68843\n",
      "-123.984055\n"
     ]
    },
    {
     "name": "stderr",
     "output_type": "stream",
     "text": [
      "395it [08:20,  2.17s/it, bound: 0 | nc: 3 | ncall: 1124 | eff(%): 35.142 | loglstar:   -inf < -81.302 <    inf | logz: -86.775 +/-  0.091 | dlogz: 70.123 >  0.509]"
     ]
    },
    {
     "name": "stdout",
     "output_type": "stream",
     "text": [
      "-79.22692\n",
      "-86.73014\n",
      "-5439.692\n",
      "-10000.0\n",
      "-10000.0\n"
     ]
    },
    {
     "name": "stderr",
     "output_type": "stream",
     "text": [
      "396it [08:25,  2.82s/it, bound: 0 | nc: 5 | ncall: 1129 | eff(%): 35.075 | loglstar:   -inf < -81.064 <    inf | logz: -86.559 +/-  0.092 | dlogz: 69.909 >  0.509]"
     ]
    },
    {
     "name": "stdout",
     "output_type": "stream",
     "text": [
      "-50.14934\n"
     ]
    },
    {
     "name": "stderr",
     "output_type": "stream",
     "text": [
      "397it [08:25,  2.24s/it, bound: 0 | nc: 1 | ncall: 1130 | eff(%): 35.133 | loglstar:   -inf < -81.001 <    inf | logz: -86.357 +/-  0.092 | dlogz: 69.691 >  0.509]"
     ]
    },
    {
     "name": "stdout",
     "output_type": "stream",
     "text": [
      "-56.74316\n",
      "-10000.0\n"
     ]
    },
    {
     "name": "stderr",
     "output_type": "stream",
     "text": [
      "398it [08:27,  2.08s/it, bound: 0 | nc: 2 | ncall: 1132 | eff(%): 35.159 | loglstar:   -inf < -80.986 <    inf | logz: -86.183 +/-  0.092 | dlogz: 69.487 >  0.509]"
     ]
    },
    {
     "name": "stdout",
     "output_type": "stream",
     "text": [
      "-55.24373\n",
      "-127.76721\n",
      "-93.73228\n"
     ]
    },
    {
     "name": "stderr",
     "output_type": "stream",
     "text": [
      "399it [08:30,  2.22s/it, bound: 0 | nc: 3 | ncall: 1135 | eff(%): 35.154 | loglstar:   -inf < -80.911 <    inf | logz: -86.028 +/-  0.091 | dlogz: 69.311 >  0.509]"
     ]
    },
    {
     "name": "stdout",
     "output_type": "stream",
     "text": [
      "-58.190155\n",
      "-9821.093\n"
     ]
    },
    {
     "name": "stderr",
     "output_type": "stream",
     "text": [
      "400it [08:31,  1.98s/it, bound: 0 | nc: 2 | ncall: 1137 | eff(%): 35.180 | loglstar:   -inf < -80.876 <    inf | logz: -85.888 +/-  0.091 | dlogz: 69.155 >  0.509]"
     ]
    },
    {
     "name": "stdout",
     "output_type": "stream",
     "text": [
      "-48.382713\n"
     ]
    },
    {
     "name": "stderr",
     "output_type": "stream",
     "text": [
      "401it [08:32,  1.59s/it, bound: 0 | nc: 1 | ncall: 1138 | eff(%): 35.237 | loglstar:   -inf < -80.480 <    inf | logz: -85.735 +/-  0.091 | dlogz: 69.013 >  0.509]"
     ]
    },
    {
     "name": "stdout",
     "output_type": "stream",
     "text": [
      "-36.93341\n",
      "-563.11426\n",
      "-130.46661\n",
      "-10000.0\n"
     ]
    },
    {
     "name": "stderr",
     "output_type": "stream",
     "text": [
      "402it [08:35,  1.96s/it, bound: 0 | nc: 4 | ncall: 1142 | eff(%): 35.201 | loglstar:   -inf < -80.470 <    inf | logz: -85.578 +/-  0.091 | dlogz: 68.858 >  0.509]"
     ]
    },
    {
     "name": "stdout",
     "output_type": "stream",
     "text": [
      "-39.34242\n",
      "-147.04607\n"
     ]
    },
    {
     "name": "stderr",
     "output_type": "stream",
     "text": [
      "403it [08:36,  1.79s/it, bound: 0 | nc: 2 | ncall: 1144 | eff(%): 35.227 | loglstar:   -inf < -80.433 <    inf | logz: -85.440 +/-  0.090 | dlogz: 68.699 >  0.509]"
     ]
    },
    {
     "name": "stdout",
     "output_type": "stream",
     "text": [
      "-30.645462\n"
     ]
    },
    {
     "name": "stderr",
     "output_type": "stream",
     "text": [
      "404it [08:37,  1.47s/it, bound: 0 | nc: 1 | ncall: 1145 | eff(%): 35.284 | loglstar:   -inf < -80.135 <    inf | logz: -85.296 +/-  0.090 | dlogz: 68.558 >  0.509]"
     ]
    },
    {
     "name": "stdout",
     "output_type": "stream",
     "text": [
      "-66.32238\n",
      "-8486.59\n",
      "-94.74\n"
     ]
    },
    {
     "name": "stderr",
     "output_type": "stream",
     "text": [
      "405it [08:39,  1.66s/it, bound: 0 | nc: 3 | ncall: 1148 | eff(%): 35.279 | loglstar:   -inf < -80.125 <    inf | logz: -85.153 +/-  0.090 | dlogz: 68.413 >  0.509]"
     ]
    },
    {
     "name": "stdout",
     "output_type": "stream",
     "text": [
      "-57.483055\n"
     ]
    },
    {
     "name": "stderr",
     "output_type": "stream",
     "text": [
      "406it [08:40,  1.39s/it, bound: 0 | nc: 1 | ncall: 1149 | eff(%): 35.335 | loglstar:   -inf < -79.853 <    inf | logz: -85.009 +/-  0.090 | dlogz: 68.268 >  0.509]"
     ]
    },
    {
     "name": "stdout",
     "output_type": "stream",
     "text": [
      "-73.81374\n"
     ]
    },
    {
     "name": "stderr",
     "output_type": "stream",
     "text": [
      "407it [08:40,  1.19s/it, bound: 0 | nc: 1 | ncall: 1150 | eff(%): 35.391 | loglstar:   -inf < -79.675 <    inf | logz: -84.855 +/-  0.090 | dlogz: 68.122 >  0.509]"
     ]
    },
    {
     "name": "stdout",
     "output_type": "stream",
     "text": [
      "-45.042213\n",
      "-9997.394\n"
     ]
    },
    {
     "name": "stderr",
     "output_type": "stream",
     "text": [
      "408it [08:42,  1.26s/it, bound: 0 | nc: 2 | ncall: 1152 | eff(%): 35.417 | loglstar:   -inf < -79.431 <    inf | logz: -84.693 +/-  0.090 | dlogz: 67.966 >  0.509]"
     ]
    },
    {
     "name": "stdout",
     "output_type": "stream",
     "text": [
      "-30.938198\n"
     ]
    },
    {
     "name": "stderr",
     "output_type": "stream",
     "text": [
      "409it [08:42,  1.10s/it, bound: 0 | nc: 1 | ncall: 1153 | eff(%): 35.473 | loglstar:   -inf < -79.356 <    inf | logz: -84.532 +/-  0.090 | dlogz: 67.801 >  0.509]"
     ]
    },
    {
     "name": "stdout",
     "output_type": "stream",
     "text": [
      "-76.17403\n"
     ]
    },
    {
     "name": "stderr",
     "output_type": "stream",
     "text": [
      "410it [08:43,  1.02it/s, bound: 0 | nc: 1 | ncall: 1154 | eff(%): 35.529 | loglstar:   -inf < -79.227 <    inf | logz: -84.380 +/-  0.090 | dlogz: 67.638 >  0.509]"
     ]
    },
    {
     "name": "stdout",
     "output_type": "stream",
     "text": [
      "-55.72781\n",
      "-968.60016\n",
      "-10000.0\n"
     ]
    },
    {
     "name": "stderr",
     "output_type": "stream",
     "text": [
      "411it [08:45,  1.33s/it, bound: 0 | nc: 3 | ncall: 1157 | eff(%): 35.523 | loglstar:   -inf < -79.198 <    inf | logz: -84.238 +/-  0.090 | dlogz: 67.484 >  0.509]"
     ]
    },
    {
     "name": "stdout",
     "output_type": "stream",
     "text": [
      "-56.377678\n"
     ]
    },
    {
     "name": "stderr",
     "output_type": "stream",
     "text": [
      "412it [08:46,  1.14s/it, bound: 0 | nc: 1 | ncall: 1158 | eff(%): 35.579 | loglstar:   -inf < -79.181 <    inf | logz: -84.112 +/-  0.089 | dlogz: 67.341 >  0.509]"
     ]
    },
    {
     "name": "stdout",
     "output_type": "stream",
     "text": [
      "-31.733192\n"
     ]
    },
    {
     "name": "stderr",
     "output_type": "stream",
     "text": [
      "413it [08:47,  1.02s/it, bound: 0 | nc: 1 | ncall: 1159 | eff(%): 35.634 | loglstar:   -inf < -79.124 <    inf | logz: -83.995 +/-  0.089 | dlogz: 67.212 >  0.509]"
     ]
    },
    {
     "name": "stdout",
     "output_type": "stream",
     "text": [
      "-31.079336\n",
      "-185.11552\n",
      "-178.70958\n"
     ]
    },
    {
     "name": "stderr",
     "output_type": "stream",
     "text": [
      "414it [08:49,  1.37s/it, bound: 0 | nc: 3 | ncall: 1162 | eff(%): 35.628 | loglstar:   -inf < -79.117 <    inf | logz: -83.888 +/-  0.089 | dlogz: 67.094 >  0.509]"
     ]
    },
    {
     "name": "stdout",
     "output_type": "stream",
     "text": [
      "-64.547104\n",
      "-158.9084\n",
      "-10000.0\n"
     ]
    },
    {
     "name": "stderr",
     "output_type": "stream",
     "text": [
      "415it [08:51,  1.59s/it, bound: 0 | nc: 3 | ncall: 1165 | eff(%): 35.622 | loglstar:   -inf < -78.990 <    inf | logz: -83.785 +/-  0.088 | dlogz: 66.985 >  0.509]"
     ]
    },
    {
     "name": "stdout",
     "output_type": "stream",
     "text": [
      "-48.91408\n",
      "-10000.0\n"
     ]
    },
    {
     "name": "stderr",
     "output_type": "stream",
     "text": [
      "416it [08:53,  1.56s/it, bound: 0 | nc: 2 | ncall: 1167 | eff(%): 35.647 | loglstar:   -inf < -78.639 <    inf | logz: -83.667 +/-  0.088 | dlogz: 66.880 >  0.509]"
     ]
    },
    {
     "name": "stdout",
     "output_type": "stream",
     "text": [
      "-51.927353\n"
     ]
    },
    {
     "name": "stderr",
     "output_type": "stream",
     "text": [
      "417it [08:53,  1.30s/it, bound: 0 | nc: 1 | ncall: 1168 | eff(%): 35.702 | loglstar:   -inf < -78.522 <    inf | logz: -83.537 +/-  0.088 | dlogz: 66.759 >  0.509]"
     ]
    },
    {
     "name": "stdout",
     "output_type": "stream",
     "text": [
      "-21.565794\n",
      "-206.07832\n",
      "-121.26995\n",
      "-9172.093\n",
      "-98.159065\n",
      "-10000.0\n",
      "-10000.373\n"
     ]
    },
    {
     "name": "stderr",
     "output_type": "stream",
     "text": [
      "418it [08:58,  2.39s/it, bound: 0 | nc: 7 | ncall: 1175 | eff(%): 35.574 | loglstar:   -inf < -78.449 <    inf | logz: -83.412 +/-  0.088 | dlogz: 66.627 >  0.509]"
     ]
    },
    {
     "name": "stdout",
     "output_type": "stream",
     "text": [
      "-38.00525\n"
     ]
    },
    {
     "name": "stderr",
     "output_type": "stream",
     "text": [
      "419it [08:59,  1.88s/it, bound: 0 | nc: 1 | ncall: 1176 | eff(%): 35.629 | loglstar:   -inf < -78.368 <    inf | logz: -83.292 +/-  0.088 | dlogz: 66.500 >  0.509]"
     ]
    },
    {
     "name": "stdout",
     "output_type": "stream",
     "text": [
      "-45.80303\n"
     ]
    },
    {
     "name": "stderr",
     "output_type": "stream",
     "text": [
      "420it [09:00,  1.53s/it, bound: 0 | nc: 1 | ncall: 1177 | eff(%): 35.684 | loglstar:   -inf < -78.273 <    inf | logz: -83.176 +/-  0.088 | dlogz: 66.378 >  0.509]"
     ]
    },
    {
     "name": "stdout",
     "output_type": "stream",
     "text": [
      "-75.3179\n"
     ]
    },
    {
     "name": "stderr",
     "output_type": "stream",
     "text": [
      "421it [09:00,  1.28s/it, bound: 0 | nc: 1 | ncall: 1178 | eff(%): 35.739 | loglstar:   -inf < -78.227 <    inf | logz: -83.065 +/-  0.088 | dlogz: 66.260 >  0.509]"
     ]
    },
    {
     "name": "stdout",
     "output_type": "stream",
     "text": [
      "-64.11196\n",
      "-259.02087\n"
     ]
    },
    {
     "name": "stderr",
     "output_type": "stream",
     "text": [
      "422it [09:02,  1.32s/it, bound: 0 | nc: 2 | ncall: 1180 | eff(%): 35.763 | loglstar:   -inf < -77.943 <    inf | logz: -82.947 +/-  0.088 | dlogz: 66.147 >  0.509]"
     ]
    },
    {
     "name": "stdout",
     "output_type": "stream",
     "text": [
      "-40.68225\n"
     ]
    },
    {
     "name": "stderr",
     "output_type": "stream",
     "text": [
      "423it [09:02,  1.13s/it, bound: 0 | nc: 1 | ncall: 1181 | eff(%): 35.817 | loglstar:   -inf < -77.511 <    inf | logz: -82.799 +/-  0.088 | dlogz: 66.028 >  0.509]"
     ]
    },
    {
     "name": "stdout",
     "output_type": "stream",
     "text": [
      "-37.64063\n"
     ]
    },
    {
     "name": "stderr",
     "output_type": "stream",
     "text": [
      "424it [09:03,  1.01s/it, bound: 0 | nc: 1 | ncall: 1182 | eff(%): 35.871 | loglstar:   -inf < -77.508 <    inf | logz: -82.644 +/-  0.088 | dlogz: 65.877 >  0.509]"
     ]
    },
    {
     "name": "stdout",
     "output_type": "stream",
     "text": [
      "-36.44196\n",
      "-4727.6787\n",
      "-83.47542\n",
      "-10000.0\n",
      "-10000.0\n",
      "-88.40907\n",
      "-312.3327\n"
     ]
    },
    {
     "name": "stderr",
     "output_type": "stream",
     "text": [
      "425it [09:08,  2.19s/it, bound: 0 | nc: 7 | ncall: 1189 | eff(%): 35.744 | loglstar:   -inf < -77.498 <    inf | logz: -82.509 +/-  0.088 | dlogz: 65.720 >  0.509]"
     ]
    },
    {
     "name": "stdout",
     "output_type": "stream",
     "text": [
      "-76.84922\n",
      "-10000.0\n",
      "-79.08409\n",
      "-187.08226\n"
     ]
    },
    {
     "name": "stderr",
     "output_type": "stream",
     "text": [
      "426it [09:11,  2.38s/it, bound: 0 | nc: 4 | ncall: 1193 | eff(%): 35.708 | loglstar:   -inf < -77.483 <    inf | logz: -82.389 +/-  0.088 | dlogz: 65.584 >  0.509]"
     ]
    },
    {
     "name": "stdout",
     "output_type": "stream",
     "text": [
      "-38.220432\n",
      "-196.7391\n"
     ]
    },
    {
     "name": "stderr",
     "output_type": "stream",
     "text": [
      "427it [09:12,  2.09s/it, bound: 0 | nc: 2 | ncall: 1195 | eff(%): 35.732 | loglstar:   -inf < -77.361 <    inf | logz: -82.275 +/-  0.088 | dlogz: 65.462 >  0.509]"
     ]
    },
    {
     "name": "stdout",
     "output_type": "stream",
     "text": [
      "-26.690836\n",
      "-217.29005\n",
      "-183.03561\n"
     ]
    },
    {
     "name": "stderr",
     "output_type": "stream",
     "text": [
      "428it [09:14,  2.09s/it, bound: 0 | nc: 3 | ncall: 1198 | eff(%): 35.726 | loglstar:   -inf < -77.255 <    inf | logz: -82.161 +/-  0.088 | dlogz: 65.346 >  0.509]"
     ]
    },
    {
     "name": "stdout",
     "output_type": "stream",
     "text": [
      "-54.33094\n"
     ]
    },
    {
     "name": "stderr",
     "output_type": "stream",
     "text": [
      "429it [09:15,  1.69s/it, bound: 0 | nc: 1 | ncall: 1199 | eff(%): 35.780 | loglstar:   -inf < -76.969 <    inf | logz: -82.038 +/-  0.088 | dlogz: 65.230 >  0.509]"
     ]
    },
    {
     "name": "stdout",
     "output_type": "stream",
     "text": [
      "-39.312294\n",
      "-1203.7003\n"
     ]
    },
    {
     "name": "stderr",
     "output_type": "stream",
     "text": [
      "430it [09:17,  1.63s/it, bound: 0 | nc: 2 | ncall: 1201 | eff(%): 35.803 | loglstar:   -inf < -76.960 <    inf | logz: -81.912 +/-  0.088 | dlogz: 65.104 >  0.509]"
     ]
    },
    {
     "name": "stdout",
     "output_type": "stream",
     "text": [
      "-36.486717\n",
      "-124.850044\n",
      "-10000.0\n"
     ]
    },
    {
     "name": "stderr",
     "output_type": "stream",
     "text": [
      "431it [09:19,  1.77s/it, bound: 0 | nc: 3 | ncall: 1204 | eff(%): 35.797 | loglstar:   -inf < -76.934 <    inf | logz: -81.800 +/-  0.088 | dlogz: 64.977 >  0.509]"
     ]
    },
    {
     "name": "stdout",
     "output_type": "stream",
     "text": [
      "-45.28721\n",
      "-79.08175\n",
      "-10000.0\n"
     ]
    },
    {
     "name": "stderr",
     "output_type": "stream",
     "text": [
      "432it [09:21,  1.87s/it, bound: 0 | nc: 3 | ncall: 1207 | eff(%): 35.791 | loglstar:   -inf < -76.849 <    inf | logz: -81.693 +/-  0.088 | dlogz: 64.862 >  0.509]"
     ]
    },
    {
     "name": "stdout",
     "output_type": "stream",
     "text": [
      "-53.17056\n",
      "-1171.5035\n",
      "-10000.373\n"
     ]
    },
    {
     "name": "stderr",
     "output_type": "stream",
     "text": [
      "433it [09:23,  1.95s/it, bound: 0 | nc: 3 | ncall: 1210 | eff(%): 35.785 | loglstar:   -inf < -76.779 <    inf | logz: -81.589 +/-  0.087 | dlogz: 64.753 >  0.509]"
     ]
    },
    {
     "name": "stdout",
     "output_type": "stream",
     "text": [
      "-58.121017\n",
      "-235.21602\n"
     ]
    },
    {
     "name": "stderr",
     "output_type": "stream",
     "text": [
      "434it [09:24,  1.79s/it, bound: 0 | nc: 2 | ncall: 1212 | eff(%): 35.809 | loglstar:   -inf < -76.718 <    inf | logz: -81.489 +/-  0.087 | dlogz: 64.648 >  0.509]"
     ]
    },
    {
     "name": "stdout",
     "output_type": "stream",
     "text": [
      "-47.88484\n"
     ]
    },
    {
     "name": "stderr",
     "output_type": "stream",
     "text": [
      "435it [09:25,  1.47s/it, bound: 0 | nc: 1 | ncall: 1213 | eff(%): 35.862 | loglstar:   -inf < -76.658 <    inf | logz: -81.393 +/-  0.087 | dlogz: 64.546 >  0.509]"
     ]
    },
    {
     "name": "stdout",
     "output_type": "stream",
     "text": [
      "-46.620728\n"
     ]
    },
    {
     "name": "stderr",
     "output_type": "stream",
     "text": [
      "436it [09:26,  1.24s/it, bound: 0 | nc: 1 | ncall: 1214 | eff(%): 35.914 | loglstar:   -inf < -76.540 <    inf | logz: -81.298 +/-  0.087 | dlogz: 64.448 >  0.509]"
     ]
    },
    {
     "name": "stdout",
     "output_type": "stream",
     "text": [
      "-53.74797\n"
     ]
    },
    {
     "name": "stderr",
     "output_type": "stream",
     "text": [
      "437it [09:26,  1.08s/it, bound: 0 | nc: 1 | ncall: 1215 | eff(%): 35.967 | loglstar:   -inf < -76.501 <    inf | logz: -81.205 +/-  0.087 | dlogz: 64.351 >  0.509]"
     ]
    },
    {
     "name": "stdout",
     "output_type": "stream",
     "text": [
      "-57.70983\n",
      "-104.12561\n"
     ]
    },
    {
     "name": "stderr",
     "output_type": "stream",
     "text": [
      "438it [09:28,  1.18s/it, bound: 0 | nc: 2 | ncall: 1217 | eff(%): 35.990 | loglstar:   -inf < -76.490 <    inf | logz: -81.118 +/-  0.086 | dlogz: 64.255 >  0.509]"
     ]
    },
    {
     "name": "stdout",
     "output_type": "stream",
     "text": [
      "-45.197662\n",
      "-80.76733\n",
      "-193.11008\n"
     ]
    },
    {
     "name": "stderr",
     "output_type": "stream",
     "text": [
      "439it [09:30,  1.46s/it, bound: 0 | nc: 3 | ncall: 1220 | eff(%): 35.984 | loglstar:   -inf < -76.471 <    inf | logz: -81.036 +/-  0.086 | dlogz: 64.166 >  0.509]"
     ]
    },
    {
     "name": "stdout",
     "output_type": "stream",
     "text": [
      "-50.245754\n",
      "-10000.0\n",
      "-746.8115\n",
      "-177.05177\n"
     ]
    },
    {
     "name": "stderr",
     "output_type": "stream",
     "text": [
      "440it [09:33,  1.87s/it, bound: 0 | nc: 4 | ncall: 1224 | eff(%): 35.948 | loglstar:   -inf < -76.449 <    inf | logz: -80.960 +/-  0.086 | dlogz: 64.083 >  0.509]"
     ]
    },
    {
     "name": "stdout",
     "output_type": "stream",
     "text": [
      "-76.289406\n"
     ]
    },
    {
     "name": "stderr",
     "output_type": "stream",
     "text": [
      "441it [09:34,  1.52s/it, bound: 0 | nc: 1 | ncall: 1225 | eff(%): 36.000 | loglstar:   -inf < -76.289 <    inf | logz: -80.882 +/-  0.086 | dlogz: 64.004 >  0.509]"
     ]
    },
    {
     "name": "stdout",
     "output_type": "stream",
     "text": [
      "-29.240768\n",
      "-317.4146\n",
      "-81.7477\n",
      "-10000.0\n",
      "-1889.9441\n",
      "-77.04531\n"
     ]
    },
    {
     "name": "stderr",
     "output_type": "stream",
     "text": [
      "442it [09:38,  2.37s/it, bound: 0 | nc: 6 | ncall: 1231 | eff(%): 35.906 | loglstar:   -inf < -76.174 <    inf | logz: -80.800 +/-  0.085 | dlogz: 63.925 >  0.509]"
     ]
    },
    {
     "name": "stdout",
     "output_type": "stream",
     "text": [
      "-39.1368\n",
      "-10000.0\n",
      "-78.50869\n",
      "-10000.0\n",
      "-10000.0\n"
     ]
    },
    {
     "name": "stderr",
     "output_type": "stream",
     "text": [
      "443it [09:42,  2.81s/it, bound: 0 | nc: 5 | ncall: 1236 | eff(%): 35.841 | loglstar:   -inf < -76.146 <    inf | logz: -80.719 +/-  0.085 | dlogz: 63.841 >  0.509]"
     ]
    },
    {
     "name": "stdout",
     "output_type": "stream",
     "text": [
      "-68.830574\n"
     ]
    },
    {
     "name": "stderr",
     "output_type": "stream",
     "text": [
      "444it [09:43,  2.20s/it, bound: 0 | nc: 1 | ncall: 1237 | eff(%): 35.893 | loglstar:   -inf < -76.082 <    inf | logz: -80.641 +/-  0.085 | dlogz: 63.758 >  0.509]"
     ]
    },
    {
     "name": "stdout",
     "output_type": "stream",
     "text": [
      "-68.62654\n",
      "-9996.276\n",
      "-10000.0\n",
      "-482.56015\n"
     ]
    },
    {
     "name": "stderr",
     "output_type": "stream",
     "text": [
      "445it [09:46,  2.48s/it, bound: 0 | nc: 4 | ncall: 1241 | eff(%): 35.858 | loglstar:   -inf < -76.077 <    inf | logz: -80.566 +/-  0.085 | dlogz: 63.678 >  0.509]"
     ]
    },
    {
     "name": "stdout",
     "output_type": "stream",
     "text": [
      "-35.600433\n"
     ]
    },
    {
     "name": "stderr",
     "output_type": "stream",
     "text": [
      "446it [09:46,  1.97s/it, bound: 0 | nc: 1 | ncall: 1242 | eff(%): 35.910 | loglstar:   -inf < -75.741 <    inf | logz: -80.483 +/-  0.085 | dlogz: 63.601 >  0.509]"
     ]
    },
    {
     "name": "stdout",
     "output_type": "stream",
     "text": [
      "-66.71112\n",
      "-195.18057\n"
     ]
    },
    {
     "name": "stderr",
     "output_type": "stream",
     "text": [
      "447it [09:48,  1.84s/it, bound: 0 | nc: 2 | ncall: 1244 | eff(%): 35.932 | loglstar:   -inf < -75.704 <    inf | logz: -80.393 +/-  0.085 | dlogz: 63.516 >  0.509]"
     ]
    },
    {
     "name": "stdout",
     "output_type": "stream",
     "text": [
      "-33.744083\n"
     ]
    },
    {
     "name": "stderr",
     "output_type": "stream",
     "text": [
      "448it [09:49,  1.52s/it, bound: 0 | nc: 1 | ncall: 1245 | eff(%): 35.984 | loglstar:   -inf < -75.587 <    inf | logz: -80.304 +/-  0.085 | dlogz: 63.424 >  0.509]"
     ]
    },
    {
     "name": "stdout",
     "output_type": "stream",
     "text": [
      "-61.182938\n",
      "-10000.0\n"
     ]
    },
    {
     "name": "stderr",
     "output_type": "stream",
     "text": [
      "449it [09:50,  1.53s/it, bound: 0 | nc: 2 | ncall: 1247 | eff(%): 36.006 | loglstar:   -inf < -75.318 <    inf | logz: -80.206 +/-  0.085 | dlogz: 63.333 >  0.509]"
     ]
    },
    {
     "name": "stdout",
     "output_type": "stream",
     "text": [
      "-52.0012\n",
      "-9997.394\n",
      "-10000.0\n",
      "-397.34128\n",
      "-112.394035\n"
     ]
    },
    {
     "name": "stderr",
     "output_type": "stream",
     "text": [
      "450it [09:55,  2.38s/it, bound: 0 | nc: 5 | ncall: 1252 | eff(%): 35.942 | loglstar:   -inf < -75.306 <    inf | logz: -80.104 +/-  0.085 | dlogz: 63.232 >  0.509]"
     ]
    },
    {
     "name": "stdout",
     "output_type": "stream",
     "text": [
      "-28.438286\n",
      "-162.70447\n",
      "-88.9451\n",
      "-102.63097\n"
     ]
    },
    {
     "name": "stderr",
     "output_type": "stream",
     "text": [
      "451it [09:58,  2.71s/it, bound: 0 | nc: 4 | ncall: 1256 | eff(%): 35.908 | loglstar:   -inf < -75.288 <    inf | logz: -80.010 +/-  0.085 | dlogz: 63.128 >  0.509]"
     ]
    },
    {
     "name": "stdout",
     "output_type": "stream",
     "text": [
      "-48.437607\n"
     ]
    },
    {
     "name": "stderr",
     "output_type": "stream",
     "text": [
      "452it [09:59,  2.16s/it, bound: 0 | nc: 1 | ncall: 1257 | eff(%): 35.959 | loglstar:   -inf < -75.040 <    inf | logz: -79.913 +/-  0.085 | dlogz: 63.033 >  0.509]"
     ]
    },
    {
     "name": "stdout",
     "output_type": "stream",
     "text": [
      "-58.468468\n",
      "-9995.16\n",
      "-199.27573\n",
      "-218.8977\n",
      "-9889.477\n",
      "-102.303665\n",
      "-88.72983\n",
      "-171.49362\n",
      "-1923.8748\n",
      "-143.91725\n",
      "-10000.0\n"
     ]
    },
    {
     "name": "stderr",
     "output_type": "stream",
     "text": [
      "453it [10:09,  4.39s/it, bound: 0 | nc: 11 | ncall: 1268 | eff(%): 35.726 | loglstar:   -inf < -74.923 <    inf | logz: -79.808 +/-  0.085 | dlogz: 62.933 >  0.509]"
     ]
    },
    {
     "name": "stdout",
     "output_type": "stream",
     "text": [
      "-61.48789\n",
      "-109.394905\n",
      "-10000.373\n",
      "-10000.0\n"
     ]
    },
    {
     "name": "stderr",
     "output_type": "stream",
     "text": [
      "454it [10:12,  4.12s/it, bound: 0 | nc: 4 | ncall: 1272 | eff(%): 35.692 | loglstar:   -inf < -74.892 <    inf | logz: -79.706 +/-  0.085 | dlogz: 62.826 >  0.509] "
     ]
    },
    {
     "name": "stdout",
     "output_type": "stream",
     "text": [
      "-30.536648\n"
     ]
    },
    {
     "name": "stderr",
     "output_type": "stream",
     "text": [
      "455it [10:13,  3.14s/it, bound: 0 | nc: 1 | ncall: 1273 | eff(%): 35.742 | loglstar:   -inf < -74.882 <    inf | logz: -79.612 +/-  0.085 | dlogz: 62.723 >  0.509]"
     ]
    },
    {
     "name": "stdout",
     "output_type": "stream",
     "text": [
      "-44.2714\n",
      "-75.54607\n"
     ]
    },
    {
     "name": "stderr",
     "output_type": "stream",
     "text": [
      "456it [10:15,  2.72s/it, bound: 0 | nc: 2 | ncall: 1275 | eff(%): 35.765 | loglstar:   -inf < -74.869 <    inf | logz: -79.526 +/-  0.085 | dlogz: 62.627 >  0.509]"
     ]
    },
    {
     "name": "stdout",
     "output_type": "stream",
     "text": [
      "-34.99743\n"
     ]
    },
    {
     "name": "stderr",
     "output_type": "stream",
     "text": [
      "457it [10:16,  2.15s/it, bound: 0 | nc: 1 | ncall: 1276 | eff(%): 35.815 | loglstar:   -inf < -74.711 <    inf | logz: -79.439 +/-  0.085 | dlogz: 62.538 >  0.509]"
     ]
    },
    {
     "name": "stdout",
     "output_type": "stream",
     "text": [
      "-57.567604\n"
     ]
    },
    {
     "name": "stderr",
     "output_type": "stream",
     "text": [
      "458it [10:16,  1.72s/it, bound: 0 | nc: 1 | ncall: 1277 | eff(%): 35.865 | loglstar:   -inf < -74.620 <    inf | logz: -79.350 +/-  0.085 | dlogz: 62.450 >  0.509]"
     ]
    },
    {
     "name": "stdout",
     "output_type": "stream",
     "text": [
      "-60.947617\n",
      "-91.51852\n"
     ]
    },
    {
     "name": "stderr",
     "output_type": "stream",
     "text": [
      "459it [10:18,  1.64s/it, bound: 0 | nc: 2 | ncall: 1279 | eff(%): 35.887 | loglstar:   -inf < -74.440 <    inf | logz: -79.256 +/-  0.085 | dlogz: 62.358 >  0.509]"
     ]
    },
    {
     "name": "stdout",
     "output_type": "stream",
     "text": [
      "-54.974506\n",
      "-10000.0\n",
      "-2548.4326\n"
     ]
    },
    {
     "name": "stderr",
     "output_type": "stream",
     "text": [
      "460it [10:20,  1.80s/it, bound: 0 | nc: 3 | ncall: 1282 | eff(%): 35.881 | loglstar:   -inf < -74.211 <    inf | logz: -79.152 +/-  0.085 | dlogz: 62.263 >  0.509]"
     ]
    },
    {
     "name": "stdout",
     "output_type": "stream",
     "text": [
      "-58.231342\n",
      "-120.838\n"
     ]
    },
    {
     "name": "stderr",
     "output_type": "stream",
     "text": [
      "461it [10:21,  1.68s/it, bound: 0 | nc: 2 | ncall: 1284 | eff(%): 35.903 | loglstar:   -inf < -74.195 <    inf | logz: -79.047 +/-  0.085 | dlogz: 62.157 >  0.509]"
     ]
    },
    {
     "name": "stdout",
     "output_type": "stream",
     "text": [
      "-64.059715\n"
     ]
    },
    {
     "name": "stderr",
     "output_type": "stream",
     "text": [
      "462it [10:22,  1.39s/it, bound: 0 | nc: 1 | ncall: 1285 | eff(%): 35.953 | loglstar:   -inf < -74.098 <    inf | logz: -78.947 +/-  0.085 | dlogz: 62.050 >  0.509]"
     ]
    },
    {
     "name": "stdout",
     "output_type": "stream",
     "text": [
      "-33.468475\n",
      "-89.07603\n"
     ]
    },
    {
     "name": "stderr",
     "output_type": "stream",
     "text": [
      "463it [10:23,  1.40s/it, bound: 0 | nc: 2 | ncall: 1287 | eff(%): 35.975 | loglstar:   -inf < -73.997 <    inf | logz: -78.847 +/-  0.085 | dlogz: 61.947 >  0.509]"
     ]
    },
    {
     "name": "stdout",
     "output_type": "stream",
     "text": [
      "-40.881454\n",
      "-10000.0\n",
      "-414.69025\n",
      "-94.32987\n"
     ]
    },
    {
     "name": "stderr",
     "output_type": "stream",
     "text": [
      "464it [10:26,  1.82s/it, bound: 0 | nc: 4 | ncall: 1291 | eff(%): 35.941 | loglstar:   -inf < -73.814 <    inf | logz: -78.743 +/-  0.086 | dlogz: 61.846 >  0.509]"
     ]
    },
    {
     "name": "stdout",
     "output_type": "stream",
     "text": [
      "-56.913296\n",
      "-77.57111\n",
      "-92.772995\n"
     ]
    },
    {
     "name": "stderr",
     "output_type": "stream",
     "text": [
      "465it [10:28,  1.91s/it, bound: 0 | nc: 3 | ncall: 1294 | eff(%): 35.935 | loglstar:   -inf < -73.795 <    inf | logz: -78.640 +/-  0.086 | dlogz: 61.740 >  0.509]"
     ]
    },
    {
     "name": "stdout",
     "output_type": "stream",
     "text": [
      "-40.793278\n"
     ]
    },
    {
     "name": "stderr",
     "output_type": "stream",
     "text": [
      "466it [10:29,  1.55s/it, bound: 0 | nc: 1 | ncall: 1295 | eff(%): 35.985 | loglstar:   -inf < -73.792 <    inf | logz: -78.546 +/-  0.086 | dlogz: 61.634 >  0.509]"
     ]
    },
    {
     "name": "stdout",
     "output_type": "stream",
     "text": [
      "-43.886982\n",
      "-10000.0\n"
     ]
    },
    {
     "name": "stderr",
     "output_type": "stream",
     "text": [
      "467it [10:30,  1.51s/it, bound: 0 | nc: 2 | ncall: 1297 | eff(%): 36.006 | loglstar:   -inf < -73.648 <    inf | logz: -78.453 +/-  0.086 | dlogz: 61.538 >  0.509]"
     ]
    },
    {
     "name": "stdout",
     "output_type": "stream",
     "text": [
      "-51.42175\n",
      "-185.03705\n",
      "-139.882\n",
      "-97.22734\n",
      "-75.07928\n",
      "-677.04236\n",
      "-9998.511\n",
      "-78.087006\n",
      "-9709.548\n",
      "-182.27003\n",
      "-166.29803\n"
     ]
    },
    {
     "name": "stderr",
     "output_type": "stream",
     "text": [
      "468it [10:38,  3.41s/it, bound: 0 | nc: 11 | ncall: 1308 | eff(%): 35.780 | loglstar:   -inf < -73.639 <    inf | logz: -78.362 +/-  0.086 | dlogz: 61.444 >  0.509]"
     ]
    },
    {
     "name": "stdout",
     "output_type": "stream",
     "text": [
      "-36.720364\n",
      "-189.09265\n"
     ]
    },
    {
     "name": "stderr",
     "output_type": "stream",
     "text": [
      "469it [10:40,  2.80s/it, bound: 0 | nc: 2 | ncall: 1310 | eff(%): 35.802 | loglstar:   -inf < -73.492 <    inf | logz: -78.273 +/-  0.085 | dlogz: 61.351 >  0.509] "
     ]
    },
    {
     "name": "stdout",
     "output_type": "stream",
     "text": [
      "-25.353773\n",
      "-131.38107\n",
      "-106.45263\n"
     ]
    },
    {
     "name": "stderr",
     "output_type": "stream",
     "text": [
      "470it [10:42,  2.59s/it, bound: 0 | nc: 3 | ncall: 1313 | eff(%): 35.796 | loglstar:   -inf < -73.364 <    inf | logz: -78.179 +/-  0.085 | dlogz: 61.259 >  0.509]"
     ]
    },
    {
     "name": "stdout",
     "output_type": "stream",
     "text": [
      "-67.093575\n"
     ]
    },
    {
     "name": "stderr",
     "output_type": "stream",
     "text": [
      "471it [10:42,  2.02s/it, bound: 0 | nc: 1 | ncall: 1314 | eff(%): 35.845 | loglstar:   -inf < -73.341 <    inf | logz: -78.087 +/-  0.085 | dlogz: 61.164 >  0.509]"
     ]
    },
    {
     "name": "stdout",
     "output_type": "stream",
     "text": [
      "-25.606544\n",
      "-93.44172\n"
     ]
    },
    {
     "name": "stderr",
     "output_type": "stream",
     "text": [
      "472it [10:44,  1.83s/it, bound: 0 | nc: 2 | ncall: 1316 | eff(%): 35.866 | loglstar:   -inf < -73.003 <    inf | logz: -77.986 +/-  0.086 | dlogz: 61.070 >  0.509]"
     ]
    },
    {
     "name": "stdout",
     "output_type": "stream",
     "text": [
      "-31.399654\n"
     ]
    },
    {
     "name": "stderr",
     "output_type": "stream",
     "text": [
      "473it [10:45,  1.50s/it, bound: 0 | nc: 1 | ncall: 1317 | eff(%): 35.915 | loglstar:   -inf < -72.854 <    inf | logz: -77.872 +/-  0.086 | dlogz: 60.967 >  0.509]"
     ]
    },
    {
     "name": "stdout",
     "output_type": "stream",
     "text": [
      "-43.863853\n"
     ]
    },
    {
     "name": "stderr",
     "output_type": "stream",
     "text": [
      "474it [10:45,  1.26s/it, bound: 0 | nc: 1 | ncall: 1318 | eff(%): 35.964 | loglstar:   -inf < -72.748 <    inf | logz: -77.757 +/-  0.086 | dlogz: 60.851 >  0.509]"
     ]
    },
    {
     "name": "stdout",
     "output_type": "stream",
     "text": [
      "-64.85371\n",
      "-731.81354\n"
     ]
    },
    {
     "name": "stderr",
     "output_type": "stream",
     "text": [
      "475it [10:47,  1.30s/it, bound: 0 | nc: 2 | ncall: 1320 | eff(%): 35.985 | loglstar:   -inf < -72.694 <    inf | logz: -77.646 +/-  0.086 | dlogz: 60.734 >  0.509]"
     ]
    },
    {
     "name": "stdout",
     "output_type": "stream",
     "text": [
      "-72.237236\n",
      "-90.38724\n",
      "-185.48026\n",
      "-10000.0\n",
      "-10000.0\n",
      "-194.42441\n",
      "-10000.0\n"
     ]
    },
    {
     "name": "stderr",
     "output_type": "stream",
     "text": [
      "476it [10:52,  2.40s/it, bound: 0 | nc: 7 | ncall: 1327 | eff(%): 35.870 | loglstar:   -inf < -72.646 <    inf | logz: -77.541 +/-  0.086 | dlogz: 60.621 >  0.509]"
     ]
    },
    {
     "name": "stdout",
     "output_type": "stream",
     "text": [
      "-41.10174\n"
     ]
    },
    {
     "name": "stderr",
     "output_type": "stream",
     "text": [
      "477it [10:52,  1.89s/it, bound: 0 | nc: 1 | ncall: 1328 | eff(%): 35.919 | loglstar:   -inf < -72.454 <    inf | logz: -77.435 +/-  0.086 | dlogz: 60.514 >  0.509]"
     ]
    },
    {
     "name": "stdout",
     "output_type": "stream",
     "text": [
      "-43.260525\n"
     ]
    },
    {
     "name": "stderr",
     "output_type": "stream",
     "text": [
      "478it [10:53,  1.53s/it, bound: 0 | nc: 1 | ncall: 1329 | eff(%): 35.967 | loglstar:   -inf < -72.324 <    inf | logz: -77.323 +/-  0.086 | dlogz: 60.405 >  0.509]"
     ]
    },
    {
     "name": "stdout",
     "output_type": "stream",
     "text": [
      "-60.022274\n",
      "-9975.474\n",
      "-10000.0\n"
     ]
    },
    {
     "name": "stderr",
     "output_type": "stream",
     "text": [
      "479it [10:55,  1.72s/it, bound: 0 | nc: 3 | ncall: 1332 | eff(%): 35.961 | loglstar:   -inf < -72.237 <    inf | logz: -77.212 +/-  0.087 | dlogz: 60.292 >  0.509]"
     ]
    },
    {
     "name": "stdout",
     "output_type": "stream",
     "text": [
      "-40.526257\n",
      "-151.68155\n",
      "-10000.0\n",
      "-93.52852\n",
      "-6151.056\n"
     ]
    },
    {
     "name": "stderr",
     "output_type": "stream",
     "text": [
      "480it [10:59,  2.26s/it, bound: 0 | nc: 5 | ncall: 1337 | eff(%): 35.901 | loglstar:   -inf < -72.221 <    inf | logz: -77.108 +/-  0.087 | dlogz: 60.179 >  0.509]"
     ]
    },
    {
     "name": "stdout",
     "output_type": "stream",
     "text": [
      "-53.68682\n"
     ]
    },
    {
     "name": "stderr",
     "output_type": "stream",
     "text": [
      "481it [10:59,  1.79s/it, bound: 0 | nc: 1 | ncall: 1338 | eff(%): 35.949 | loglstar:   -inf < -71.974 <    inf | logz: -77.000 +/-  0.087 | dlogz: 60.072 >  0.509]"
     ]
    },
    {
     "name": "stdout",
     "output_type": "stream",
     "text": [
      "-48.16401\n"
     ]
    },
    {
     "name": "stderr",
     "output_type": "stream",
     "text": [
      "482it [11:00,  1.47s/it, bound: 0 | nc: 1 | ncall: 1339 | eff(%): 35.997 | loglstar:   -inf < -71.950 <    inf | logz: -76.890 +/-  0.087 | dlogz: 59.962 >  0.509]"
     ]
    },
    {
     "name": "stdout",
     "output_type": "stream",
     "text": [
      "-63.43455\n",
      "-124.90462\n"
     ]
    },
    {
     "name": "stderr",
     "output_type": "stream",
     "text": [
      "483it [11:02,  1.49s/it, bound: 0 | nc: 2 | ncall: 1341 | eff(%): 36.018 | loglstar:   -inf < -71.578 <    inf | logz: -76.769 +/-  0.087 | dlogz: 59.851 >  0.509]"
     ]
    },
    {
     "name": "stdout",
     "output_type": "stream",
     "text": [
      "-48.805458\n"
     ]
    },
    {
     "name": "stderr",
     "output_type": "stream",
     "text": [
      "484it [11:02,  1.26s/it, bound: 0 | nc: 1 | ncall: 1342 | eff(%): 36.066 | loglstar:   -inf < -71.543 <    inf | logz: -76.641 +/-  0.087 | dlogz: 59.728 >  0.509]"
     ]
    },
    {
     "name": "stdout",
     "output_type": "stream",
     "text": [
      "-38.472153\n",
      "-114.72299\n"
     ]
    },
    {
     "name": "stderr",
     "output_type": "stream",
     "text": [
      "485it [11:04,  1.30s/it, bound: 0 | nc: 2 | ncall: 1344 | eff(%): 36.086 | loglstar:   -inf < -71.045 <    inf | logz: -76.490 +/-  0.088 | dlogz: 59.597 >  0.509]"
     ]
    },
    {
     "name": "stdout",
     "output_type": "stream",
     "text": [
      "-58.623707\n",
      "-118.75846\n",
      "-84.13747\n"
     ]
    },
    {
     "name": "stderr",
     "output_type": "stream",
     "text": [
      "486it [11:06,  1.55s/it, bound: 0 | nc: 3 | ncall: 1347 | eff(%): 36.080 | loglstar:   -inf < -70.803 <    inf | logz: -76.311 +/-  0.089 | dlogz: 59.445 >  0.509]"
     ]
    },
    {
     "name": "stdout",
     "output_type": "stream",
     "text": [
      "-46.325268\n",
      "-92.239075\n",
      "-102.51601\n"
     ]
    },
    {
     "name": "stderr",
     "output_type": "stream",
     "text": [
      "487it [11:08,  1.72s/it, bound: 0 | nc: 3 | ncall: 1350 | eff(%): 36.074 | loglstar:   -inf < -70.733 <    inf | logz: -76.136 +/-  0.089 | dlogz: 59.263 >  0.509]"
     ]
    },
    {
     "name": "stdout",
     "output_type": "stream",
     "text": [
      "-46.1829\n"
     ]
    },
    {
     "name": "stderr",
     "output_type": "stream",
     "text": [
      "488it [11:09,  1.42s/it, bound: 0 | nc: 1 | ncall: 1351 | eff(%): 36.121 | loglstar:   -inf < -70.613 <    inf | logz: -75.975 +/-  0.090 | dlogz: 59.087 >  0.509]"
     ]
    },
    {
     "name": "stdout",
     "output_type": "stream",
     "text": [
      "-59.740074\n"
     ]
    },
    {
     "name": "stderr",
     "output_type": "stream",
     "text": [
      "489it [11:09,  1.20s/it, bound: 0 | nc: 1 | ncall: 1352 | eff(%): 36.169 | loglstar:   -inf < -70.559 <    inf | logz: -75.824 +/-  0.090 | dlogz: 58.923 >  0.509]"
     ]
    },
    {
     "name": "stdout",
     "output_type": "stream",
     "text": [
      "-64.63899\n",
      "-10000.0\n"
     ]
    },
    {
     "name": "stderr",
     "output_type": "stream",
     "text": [
      "490it [11:11,  1.26s/it, bound: 0 | nc: 2 | ncall: 1354 | eff(%): 36.189 | loglstar:   -inf < -70.502 <    inf | logz: -75.686 +/-  0.090 | dlogz: 58.770 >  0.509]"
     ]
    },
    {
     "name": "stdout",
     "output_type": "stream",
     "text": [
      "-35.644764\n"
     ]
    },
    {
     "name": "stderr",
     "output_type": "stream",
     "text": [
      "491it [11:12,  1.10s/it, bound: 0 | nc: 1 | ncall: 1355 | eff(%): 36.236 | loglstar:   -inf < -70.494 <    inf | logz: -75.562 +/-  0.090 | dlogz: 58.631 >  0.509]"
     ]
    },
    {
     "name": "stdout",
     "output_type": "stream",
     "text": [
      "-33.84992\n",
      "-137.29527\n"
     ]
    },
    {
     "name": "stderr",
     "output_type": "stream",
     "text": [
      "492it [11:13,  1.19s/it, bound: 0 | nc: 2 | ncall: 1357 | eff(%): 36.256 | loglstar:   -inf < -70.010 <    inf | logz: -75.419 +/-  0.090 | dlogz: 58.504 >  0.509]"
     ]
    },
    {
     "name": "stdout",
     "output_type": "stream",
     "text": [
      "-69.6199\n",
      "-109.589806\n",
      "-89.31116\n",
      "-10000.0\n"
     ]
    },
    {
     "name": "stderr",
     "output_type": "stream",
     "text": [
      "493it [11:16,  1.68s/it, bound: 0 | nc: 4 | ncall: 1361 | eff(%): 36.223 | loglstar:   -inf < -70.008 <    inf | logz: -75.267 +/-  0.090 | dlogz: 58.360 >  0.509]"
     ]
    },
    {
     "name": "stdout",
     "output_type": "stream",
     "text": [
      "-36.1076\n"
     ]
    },
    {
     "name": "stderr",
     "output_type": "stream",
     "text": [
      "494it [11:17,  1.40s/it, bound: 0 | nc: 1 | ncall: 1362 | eff(%): 36.270 | loglstar:   -inf < -69.964 <    inf | logz: -75.132 +/-  0.090 | dlogz: 58.205 >  0.509]"
     ]
    },
    {
     "name": "stdout",
     "output_type": "stream",
     "text": [
      "-38.56416\n",
      "-10000.0\n"
     ]
    },
    {
     "name": "stderr",
     "output_type": "stream",
     "text": [
      "495it [11:18,  1.41s/it, bound: 0 | nc: 2 | ncall: 1364 | eff(%): 36.290 | loglstar:   -inf < -69.925 <    inf | logz: -75.008 +/-  0.090 | dlogz: 58.068 >  0.509]"
     ]
    },
    {
     "name": "stdout",
     "output_type": "stream",
     "text": [
      "-46.400436\n",
      "-78.59483\n",
      "-10000.0\n",
      "-129.07353\n",
      "-74.118\n",
      "-78.17838\n"
     ]
    },
    {
     "name": "stderr",
     "output_type": "stream",
     "text": [
      "496it [11:22,  2.27s/it, bound: 0 | nc: 6 | ncall: 1370 | eff(%): 36.204 | loglstar:   -inf < -69.903 <    inf | logz: -74.896 +/-  0.090 | dlogz: 57.943 >  0.509]"
     ]
    },
    {
     "name": "stdout",
     "output_type": "stream",
     "text": [
      "-39.96282\n"
     ]
    },
    {
     "name": "stderr",
     "output_type": "stream",
     "text": [
      "497it [11:23,  1.81s/it, bound: 0 | nc: 1 | ncall: 1371 | eff(%): 36.251 | loglstar:   -inf < -69.899 <    inf | logz: -74.793 +/-  0.090 | dlogz: 57.828 >  0.509]"
     ]
    },
    {
     "name": "stdout",
     "output_type": "stream",
     "text": [
      "-37.598618\n",
      "-87.91034\n"
     ]
    },
    {
     "name": "stderr",
     "output_type": "stream",
     "text": [
      "498it [11:24,  1.72s/it, bound: 0 | nc: 2 | ncall: 1373 | eff(%): 36.271 | loglstar:   -inf < -69.814 <    inf | logz: -74.696 +/-  0.089 | dlogz: 57.724 >  0.509]"
     ]
    },
    {
     "name": "stdout",
     "output_type": "stream",
     "text": [
      "-51.55976\n",
      "-343.0658\n",
      "-91.16908\n"
     ]
    },
    {
     "name": "stderr",
     "output_type": "stream",
     "text": [
      "499it [11:27,  1.89s/it, bound: 0 | nc: 3 | ncall: 1376 | eff(%): 36.265 | loglstar:   -inf < -69.786 <    inf | logz: -74.603 +/-  0.089 | dlogz: 57.625 >  0.509]"
     ]
    },
    {
     "name": "stdout",
     "output_type": "stream",
     "text": [
      "-60.20874\n"
     ]
    },
    {
     "name": "stderr",
     "output_type": "stream",
     "text": [
      "500it [11:28,  1.55s/it, bound: 0 | nc: 1 | ncall: 1377 | eff(%): 36.311 | loglstar:   -inf < -69.620 <    inf | logz: -74.510 +/-  0.089 | dlogz: 57.530 >  0.509]"
     ]
    },
    {
     "name": "stdout",
     "output_type": "stream",
     "text": [
      "-55.96827\n",
      "-84.172226\n"
     ]
    },
    {
     "name": "stderr",
     "output_type": "stream",
     "text": [
      "501it [11:29,  1.38s/it, +500 | bound: 0 | nc: 1 | ncall: 1879 | eff(%): 72.589 | loglstar:   -inf < -16.062 <    inf | logz: -23.129 +/-  0.744 | dlogz:  0.614 >  0.509]"
     ]
    },
    {
     "name": "stdout",
     "output_type": "stream",
     "text": [
      "-31.20987\n"
     ]
    },
    {
     "name": "stderr",
     "output_type": "stream",
     "text": [
      "\n"
     ]
    }
   ],
   "source": [
    "\n",
    "sampler = dynesty.NestedSampler(loglike, ptform, ndim)\n",
    "sampler.run_nested(maxiter=500)\n",
    "sresults = sampler.results\n",
    "\n",
    "# fig, axes = plt.subplots(6, 13, figsize=(25, 10))\n",
    "# axes = axes.reshape((6, 13))  # reshape axes\n",
    "\n",
    "# # add white space\n",
    "# [a.set_frame_on(False) for a in axes[:, 6]]\n",
    "# [a.set_xticks([]) for a in axes[:, 6]]\n",
    "# [a.set_yticks([]) for a in axes[:, 6]]\n",
    "\n",
    "# # plot initial run (res1; left)\n",
    "# fg, ax = dyplot.cornerpoints(sresults, cmap='plasma', truths=np.zeros(ndim),\n",
    "#                              kde=False, fig=(fig, axes[:, :2]))"
   ]
  },
  {
   "cell_type": "code",
   "execution_count": null,
   "metadata": {},
   "outputs": [
    {
     "data": {
      "image/png": "[encoded data removed]",
      "text/plain": [
       "<Figure size 1600x1600 with 4 Axes>"
      ]
     },
     "metadata": {},
     "output_type": "display_data"
    }
   ],
   "source": [
    "\n",
    "rfig, raxes = dyplot.runplot(sresults)\n",
    "rfig.savefig('test.png')"
   ]
  },
  {
   "cell_type": "code",
   "execution_count": null,
   "metadata": {},
   "outputs": [
    {
     "data": {
      "image/png": "[encoded data removed]",
      "text/plain": [
       "<Figure size 1200x1800 with 12 Axes>"
      ]
     },
     "metadata": {},
     "output_type": "display_data"
    }
   ],
   "source": [
    "\n",
    "# Plot traces and 1-D marginalized posteriors.\n",
    "tfig, taxes = dyplot.traceplot(sresults)"
   ]
  },
  {
   "cell_type": "code",
   "execution_count": null,
   "metadata": {},
   "outputs": [
    {
     "data": {
      "image/png": "[encoded data removed]",
      "text/plain": [
       "<Figure size 1390x1390 with 36 Axes>"
      ]
     },
     "metadata": {},
     "output_type": "display_data"
    }
   ],
   "source": [
    "\n",
    "# Plot the 2-D marginalized posteriors.\n",
    "cfig, caxes = dyplot.cornerplot(sresults)"
   ]
  },
  {
   "cell_type": "code",
   "execution_count": null,
   "metadata": {},
   "outputs": [],
   "source": []
  }
 ],
 "metadata": {
  "kernelspec": {
   "display_name": "Python 3",
   "language": "python",
   "name": "python3"
  },
  "language_info": {
   "codemirror_mode": {
    "name": "ipython",
    "version": 3
   },
   "file_extension": ".py",
   "mimetype": "text/x-python",
   "name": "python",
   "nbconvert_exporter": "python",
   "pygments_lexer": "ipython3",
   "version": "3.10.12"
  },
  "orig_nbformat": 4
 },
 "nbformat": 4,
 "nbformat_minor": 2
}
