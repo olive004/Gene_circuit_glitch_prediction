{
 "cells": [
  {
   "cell_type": "markdown",
   "metadata": {},
   "source": [
    "# Imports"
   ]
  },
  {
   "cell_type": "code",
   "execution_count": 1,
   "metadata": {},
   "outputs": [],
   "source": [
    "%load_ext autoreload\n",
    "%autoreload 2"
   ]
  },
  {
   "cell_type": "code",
   "execution_count": 2,
   "metadata": {},
   "outputs": [],
   "source": [
    "\n",
    "import os\n",
    "import sys\n",
    "import numpy as np\n",
    "import pandas as pd\n",
    "import jax\n",
    "import jax.numpy as jnp\n",
    "import diffrax as dfx\n",
    "from functools import partial\n",
    "# import dynesty\n",
    "# from dynesty import plotting as dyplot\n",
    "import matplotlib.pyplot as plt\n",
    "import seaborn as sns\n",
    "\n",
    "jax.config.update('jax_platform_name', 'cpu')\n",
    "\n",
    "\n",
    "if __package__ is None:\n",
    "\n",
    "    module_path = os.path.abspath(os.path.join('..'))\n",
    "    sys.path.append(module_path)\n",
    "\n",
    "    __package__ = os.path.basename(module_path)\n",
    "\n",
    "\n",
    "root_dir = '..'"
   ]
  },
  {
   "cell_type": "code",
   "execution_count": 3,
   "metadata": {},
   "outputs": [],
   "source": [
    "from synbio_morpher.utils.modelling.deterministic import bioreaction_sim_dfx_expanded\n",
    "from synbio_morpher.utils.misc.helper import vanilla_return\n",
    "from synbio_morpher.utils.results.analytics.timeseries import generate_analytics\n",
    "from synbio_morpher.utils.results.analytics.naming import get_true_interaction_cols\n",
    "from bioreaction.simulation.manager import simulate_steady_states\n",
    "\n"
   ]
  },
  {
   "cell_type": "markdown",
   "metadata": {},
   "source": [
    "# Simulation"
   ]
  },
  {
   "cell_type": "code",
   "execution_count": 4,
   "metadata": {},
   "outputs": [],
   "source": [
    "def scale_rates(forward_rates, reverse_rates, cushioning: int = 4):\n",
    "    rate_max = np.max([np.max(np.asarray(forward_rates)),\n",
    "                        np.max(np.asarray(reverse_rates))])\n",
    "\n",
    "    dt0 = 1 / (cushioning * rate_max)\n",
    "    return dt0"
   ]
  },
  {
   "cell_type": "code",
   "execution_count": 5,
   "metadata": {},
   "outputs": [],
   "source": [
    "def mag(vec, **kwargs):\n",
    "    return np.linalg.norm(vec, **kwargs)\n",
    "\n",
    "\n",
    "def vec_distance(s, p, d):\n",
    "    \"\"\" First row of each direction vector are the x's, second row are the y's \"\"\"\n",
    "    P = np.array([s, p]).T\n",
    "    sp_rep = np.repeat(d[:, 0][:, None], repeats=len(s), axis=-1).T[:, :, None]\n",
    "    AP = np.concatenate([sp_rep, P[:, :, None]], axis=-1)\n",
    "    area = mag(np.cross(AP, d[None, :, :], axis=-1), axis=-1)\n",
    "    D = area / mag(d)\n",
    "    return D\n",
    "\n",
    "\n",
    "def sp_prod(s, p, sp_factor=1, s_weight=0):\n",
    "    return s * (p * sp_factor + s_weight)\n",
    "\n",
    "\n",
    "def log_distance(s, p):\n",
    "    lin = np.array([np.logspace(6, -3, 2), np.logspace(-6, 3, 2)])\n",
    "    return vec_distance(s, p, lin)\n",
    "\n",
    "\n",
    "def optimise_sp(s, p):\n",
    "    return np.log(log_distance(s=s, p=p) * sp_prod(s, p, sp_factor=(p / s).max(), s_weight=np.log(p) / s))\n",
    "            \n"
   ]
  },
  {
   "cell_type": "code",
   "execution_count": 6,
   "metadata": {},
   "outputs": [],
   "source": [
    "def one_step_de_sim_expanded(spec_conc, inputs, outputs, forward_rates, reverse_rates):\n",
    "    concentration_factors_in = jnp.prod(\n",
    "        jnp.power(spec_conc, (inputs)), axis=1)\n",
    "    concentration_factors_out = jnp.prod(\n",
    "        jnp.power(spec_conc, (outputs)), axis=1)\n",
    "    forward_delta = concentration_factors_in * forward_rates\n",
    "    reverse_delta = concentration_factors_out * reverse_rates\n",
    "    return (forward_delta - reverse_delta) @ (outputs - inputs)\n",
    "\n",
    "\n",
    "def dummy_simfunc(\n",
    "        y0, t0, t1, dt0,\n",
    "        forward_rates,\n",
    "        reverse_rates,\n",
    "        inputs,\n",
    "        outputs,\n",
    "        threshold = 0.01\n",
    "        # max_steps,\n",
    "        # signal=vanilla_return, signal_onehot=1\n",
    "    ):\n",
    "    steps = int((t1 - t0) / dt0)\n",
    "    y = np.zeros((steps, len(y0.squeeze())))\n",
    "    time = np.arange(t0, t1, dt0)\n",
    "    y[0] = y0\n",
    "    for t in range(1, steps):\n",
    "        yt = one_step_de_sim_expanded(\n",
    "            spec_conc=y[t-1], inputs=inputs,\n",
    "            outputs=outputs,\n",
    "            forward_rates=forward_rates,\n",
    "            reverse_rates=reverse_rates)\n",
    "        y[t] = y[t-1] + yt * dt0\n",
    "        if np.sum((np.abs(yt) - threshold ) * dt0) < 0:\n",
    "            return y[:t], time[:t]\n",
    "    return y, time"
   ]
  },
  {
   "cell_type": "code",
   "execution_count": 7,
   "metadata": {},
   "outputs": [],
   "source": [
    "def compute_analytics(y, t, labels, signal_onehot):\n",
    "    y = np.swapaxes(y, 0, 1)\n",
    "    \n",
    "    analytics_func = partial(\n",
    "        generate_analytics, time=t, labels=labels,\n",
    "        signal_onehot=signal_onehot, signal_time=1,\n",
    "        ref_circuit_data=None)\n",
    "    return analytics_func(data=y, time=t, labels=labels)"
   ]
  },
  {
   "cell_type": "code",
   "execution_count": 8,
   "metadata": {},
   "outputs": [],
   "source": [
    "\n",
    "def make_piecewise_stepcontrol(t0, t1, dt0, dt1, split: int = 3):\n",
    "    tdiff = (t1 - t0) / split\n",
    "    dts = np.interp(np.arange(split), [0, split-1], [dt0, dt1])\n",
    "\n",
    "    i = 0\n",
    "    ts = np.arange(\n",
    "            t0 + tdiff * i, \n",
    "            t0 + tdiff * i + tdiff, \n",
    "            dts[i])\n",
    "    for i in range(i+1, split):\n",
    "        nx = np.arange(\n",
    "            t0 + tdiff * i, \n",
    "            t0 + tdiff * i + tdiff, \n",
    "            dts[i])\n",
    "        ts = np.concatenate([ts, nx])\n",
    "    ts[0] = t0\n",
    "    ts[-1] = t1\n",
    "    return dfx.StepTo(ts)"
   ]
  },
  {
   "cell_type": "code",
   "execution_count": null,
   "metadata": {},
   "outputs": [],
   "source": []
  },
  {
   "cell_type": "code",
   "execution_count": 9,
   "metadata": {},
   "outputs": [],
   "source": [
    "def R(B11, B12, B13, B22, B23, B33):\n",
    "    unbound_species = ['RNA_0', 'RNA_1', 'RNA_2']\n",
    "    species = ['RNA_0', 'RNA_1', 'RNA_2', 'RNA_0-0', 'RNA_0-1', 'RNA_0-2', 'RNA_1-1', 'RNA_1-2', 'RNA_2-2']\n",
    "    signal_species = ['RNA_0']\n",
    "    output_species = ['RNA_1']\n",
    "    s_idxs = [species.index(s) for s in signal_species]\n",
    "    output_idxs = [species.index(s) for s in output_species]\n",
    "    signal_onehot = np.array([1 if s in [species.index(ss) for ss in signal_species] else 0 for s in np.arange(len(species))])\n",
    "    \n",
    "    signal_target = 2\n",
    "    k = 0.00150958097\n",
    "    N0 = 200\n",
    "    \n",
    "    # Amounts\n",
    "    y00 = np.array([[N0, N0, N0, 0, 0, 0, 0, 0, 0]])\n",
    "    \n",
    "    # Reactions\n",
    "    inputs = np.array([\n",
    "        [2, 0, 0, 0, 0, 0, 0, 0, 0],\n",
    "        [1, 1, 0, 0, 0, 0, 0, 0, 0],\n",
    "        [1, 0, 1, 0, 0, 0, 0, 0, 0],\n",
    "        [0, 2, 0, 0, 0, 0, 0, 0, 0],\n",
    "        [0, 1, 1, 0, 0, 0, 0, 0, 0],\n",
    "        [0, 0, 2, 0, 0, 0, 0, 0, 0],\n",
    "    ])\n",
    "    outputs = np.array([\n",
    "        [0, 0, 0, 1, 0, 0, 0, 0, 0],\n",
    "        [0, 0, 0, 0, 1, 0, 0, 0, 0],\n",
    "        [0, 0, 0, 0, 0, 1, 0, 0, 0],\n",
    "        [0, 0, 0, 0, 0, 0, 1, 0, 0],\n",
    "        [0, 0, 0, 0, 0, 0, 0, 1, 0],\n",
    "        [0, 0, 0, 0, 0, 0, 0, 0, 1],\n",
    "    ])\n",
    "    \n",
    "    # Rates\n",
    "    reverse_rates = np.array([[B11, B12, B13, B22, B23, B33]])\n",
    "    forward_rates = np.ones_like(reverse_rates) * k\n",
    "    \n",
    "    # Sim params\n",
    "    t0 = 0\n",
    "    t1 = 100\n",
    "    # dt0 = scale_rates(forward_rates, reverse_rates, cushioning=4)\n",
    "    dt0 = 0.0005555558569638981\n",
    "    dt1_factor = 5\n",
    "    dt1 = dt0 * dt1_factor\n",
    "    max_steps = 16**4 * 10\n",
    "    # print('\\n\\nInput N:', y00)\n",
    "    # print('Input B:', reverse_rates)\n",
    "    sim_func = jax.jit(partial(bioreaction_sim_dfx_expanded,\n",
    "        t0=t0, t1=t1, dt0=dt0,\n",
    "        signal=vanilla_return, signal_onehot=1,\n",
    "        forward_rates=forward_rates,\n",
    "        inputs=inputs,\n",
    "        outputs=outputs,\n",
    "        solver=dfx.Tsit5(),\n",
    "        saveat=dfx.SaveAt(\n",
    "            ts=np.linspace(t0, t1, 500)),  # int(np.min([500, self.t1-self.t0]))))\n",
    "        max_steps=max_steps,\n",
    "        stepsize_controller=make_piecewise_stepcontrol(t0=t0, t1=t1, dt0=dt0, dt1=dt1)\n",
    "        ))\n",
    "    \n",
    "    y0, t = simulate_steady_states(y0=y00, total_time=t1-t0, sim_func=sim_func, t0=t0, t1=t1, threshold=0.1, reverse_rates=reverse_rates, disable_logging=True)\n",
    "    y0 = np.array(y0.squeeze()[-1, :]).reshape(y00.shape)\n",
    "    \n",
    "    # Signal\n",
    "    \n",
    "    y0s = y0 * ((signal_onehot == 0) * 1) + y00 * signal_target * signal_onehot\n",
    "    y, t = simulate_steady_states(y0s, total_time=t1-t0, sim_func=sim_func, t0=t0, t1=t1, threshold=0.1, reverse_rates=reverse_rates, disable_logging=True)\n",
    "    y = np.concatenate([y0, y.squeeze()[:-1, :]], axis=0)\n",
    "    # y1 = np.array(y[-1, :])\n",
    "        \n",
    "    # print('Output:', y1)\n",
    "    \n",
    "    analytics = compute_analytics(y, t, labels=np.arange(y.shape[-1]), signal_onehot=signal_onehot)\n",
    "    \n",
    "    s = analytics['sensitivity_wrt_species-0']\n",
    "    p = analytics['precision_wrt_species-0']\n",
    "    # print(f'Sensitivity {output_idxs[0]}:', s[tuple(output_idxs)])\n",
    "    # print(f'Precision {output_idxs[0]}:', p[tuple(output_idxs)])\n",
    "    \n",
    "    r = optimise_sp(\n",
    "        s=s[:, None][tuple(output_idxs)], p=p[:, None][tuple(output_idxs)]\n",
    "    )[0]\n",
    "    \n",
    "    return r, analytics"
   ]
  },
  {
   "cell_type": "markdown",
   "metadata": {},
   "source": [
    "### Check that R is working"
   ]
  },
  {
   "cell_type": "code",
   "execution_count": 10,
   "metadata": {},
   "outputs": [
    {
     "name": "stderr",
     "output_type": "stream",
     "text": [
      "/tmp/ipykernel_828037/365526491.py:25: RuntimeWarning: divide by zero encountered in log\n",
      "  return np.log(log_distance(s=s, p=p) * sp_prod(s, p, sp_factor=(p / s).max(), s_weight=np.log(p) / s))\n",
      "/tmp/ipykernel_828037/365526491.py:25: RuntimeWarning: invalid value encountered in log\n",
      "  return np.log(log_distance(s=s, p=p) * sp_prod(s, p, sp_factor=(p / s).max(), s_weight=np.log(p) / s))\n"
     ]
    },
    {
     "data": {
      "text/plain": [
       "nan"
      ]
     },
     "execution_count": 10,
     "metadata": {},
     "output_type": "execute_result"
    }
   ],
   "source": [
    "\n",
    "dummy_B = np.array([0.000164, 899.999500, 0.000114, 899.999500, 899.9995, 899.9995], dtype=np.float64)\n",
    "\n",
    "dummy_B = np.array([8.9999950e+02, 1.1106876e-01, 8.9999950e+02, 2.4811807e-04, 8.9999950e+02, 1.9628435e+00])\n",
    "\n",
    "dummy_B = np.array([899.9995,0.11106876,899.9995,0.00024811807,899.9995,1.9628435])\n",
    "# Min sensitivity:\n",
    "# toy_mRNA_circuit_11232\tRNA_2_m15-0\n",
    "# For [0.000164, 899.999500, 0.000114, 899.999500, 899.9995, 899.9995] :\n",
    "# s = 2.442697e-07\n",
    "\n",
    "r, analytics = R(*dummy_B)\n",
    "r"
   ]
  },
  {
   "cell_type": "markdown",
   "metadata": {},
   "source": [
    "# Log likelihood"
   ]
  },
  {
   "cell_type": "markdown",
   "metadata": {},
   "source": [
    "Let's first create a realistic sampler of binding rates of dissociation. See explanation notebook 5, 'examine binding energies'."
   ]
  },
  {
   "cell_type": "code",
   "execution_count": null,
   "metadata": {},
   "outputs": [],
   "source": [
    "stop\n",
    "# og_dir = '../data/ensemble_mutation_effect_analysis/2023_07_15_192831/generate_species_templates'\n",
    "# fn = os.path.join(og_dir, 'circuit_stats.csv')\n",
    "# fn = '../data/generate_seqs_flexible/2023_04_17_205800/circuit_stats.csv'\n",
    "# data = pd.read_csv(fn)\n",
    "\n",
    "fn = '../data/ensemble_mutation_effect_analysis/2023_07_17_105328/summarise_simulation/tabulated_mutation_info.csv'\n",
    "data = pd.read_csv(fn)\n",
    "datam = data.melt(['circuit_name', 'mutation_name'], value_vars=get_true_interaction_cols(data, 'binding_rates_dissociation', remove_symmetrical=True), var_name='idx', value_name='binding_rates_dissociation')"
   ]
  },
  {
   "cell_type": "code",
   "execution_count": null,
   "metadata": {},
   "outputs": [],
   "source": [
    "def sample_distribution(u, norm_dist, rate_dist):\n",
    "    return np.interp(u, norm_dist, rate_dist)\n",
    "\n",
    "rates=datam['binding_rates_dissociation'].to_numpy()\n",
    "hist, bin_edges = np.histogram(rates, bins=120)\n",
    "norm_dist = np.cumsum(hist) / np.sum(hist)\n",
    "norm_dist = np.concatenate([[0], norm_dist])\n",
    "rate_dist = bin_edges\n",
    "\n",
    "sample_distribution = partial(sample_distribution, norm_dist=norm_dist, rate_dist=rate_dist)"
   ]
  },
  {
   "cell_type": "code",
   "execution_count": null,
   "metadata": {},
   "outputs": [
    {
     "data": {
      "text/plain": [
       "Text(0.5, 1.0, 'Synthetic mimic distribution')"
      ]
     },
     "execution_count": 34,
     "metadata": {},
     "output_type": "execute_result"
    },
    {
     "data": {
      "image/png": "[encoded data removed]",
      "text/plain": [
       "<Figure size 1300x500 with 2 Axes>"
      ]
     },
     "metadata": {},
     "output_type": "display_data"
    }
   ],
   "source": [
    "plt.figure(figsize=(13, 5))\n",
    "ax = plt.subplot(1,2,1)\n",
    "sns.histplot(datam, x='binding_rates_dissociation', log_scale=[False, True], element='step', bins=120)\n",
    "plt.title('Actual data')\n",
    "\n",
    "ax = plt.subplot(1,2,2)\n",
    "sns.histplot(sample_distribution(np.random.rand(1000000)), element='step', bins=120, log_scale=[False, True])\n",
    "plt.title('Synthetic mimic distribution')"
   ]
  },
  {
   "cell_type": "code",
   "execution_count": null,
   "metadata": {},
   "outputs": [],
   "source": [
    "# stop"
   ]
  },
  {
   "cell_type": "markdown",
   "metadata": {},
   "source": [
    "There's too much of a bias towards the non-functional rate 899 at the right edge of the distribution. Let's just get rid of that last bin entirely."
   ]
  },
  {
   "cell_type": "code",
   "execution_count": null,
   "metadata": {},
   "outputs": [],
   "source": [
    "\n",
    "hist, bin_edges = hist[:-1], bin_edges[:-1]\n",
    "norm_dist = np.cumsum(hist) / np.sum(hist)\n",
    "norm_dist = np.concatenate([[0], norm_dist])\n",
    "rate_dist = bin_edges\n",
    "\n",
    "sample_distribution = partial(sample_distribution, norm_dist=norm_dist, rate_dist=rate_dist)\n"
   ]
  },
  {
   "cell_type": "code",
   "execution_count": null,
   "metadata": {},
   "outputs": [
    {
     "data": {
      "image/png": "[encoded data removed]",
      "text/plain": [
       "<Figure size 640x480 with 1 Axes>"
      ]
     },
     "metadata": {},
     "output_type": "display_data"
    }
   ],
   "source": [
    "sns.scatterplot(x=list(bin_edges)[1:], y=hist[:])\n",
    "plt.xscale('log')\n",
    "plt.yscale('log')\n"
   ]
  },
  {
   "cell_type": "markdown",
   "metadata": {},
   "source": [
    "## Actual log likelihood"
   ]
  },
  {
   "cell_type": "code",
   "execution_count": null,
   "metadata": {},
   "outputs": [],
   "source": [
    "ndim = 6\n",
    "\n",
    "def loglike(B):\n",
    "    \n",
    "    L = - 1 / (R(*B) + 0.0001)\n",
    "    \n",
    "    print(L)\n",
    "    \n",
    "    return L\n",
    "\n",
    "\n",
    "def ptform(u, distribution):\n",
    "    # R_max = 1\n",
    "    # R_min = 0.00001\n",
    "    # x = R_max * u + R_min\n",
    "    x = distribution(u)\n",
    "    \n",
    "    return x"
   ]
  },
  {
   "cell_type": "markdown",
   "metadata": {},
   "source": [
    "# Sampling"
   ]
  },
  {
   "cell_type": "code",
   "execution_count": null,
   "metadata": {},
   "outputs": [
    {
     "name": "stdout",
     "output_type": "stream",
     "text": [
      "-0.26226250281359753\n",
      "-0.2560924954324804\n",
      "-0.18844381795156198\n",
      "-0.1620281866996191\n",
      "-0.28053041148433383\n",
      "-0.27078674399648694\n",
      "-0.1505462301976834\n",
      "-0.2368763223040077\n",
      "-0.1601577027072184\n",
      "-0.2763582002369518\n",
      "-0.26879138860376234\n",
      "-0.32405054702774266\n",
      "-0.26895740669978174\n",
      "-0.3984127175566898\n",
      "-0.13189492777585524\n",
      "-0.30255888053668484\n",
      "-0.1579204896713222\n",
      "-0.3108655396571634\n",
      "-0.19845853813955458\n",
      "-0.19630288920680689\n",
      "-0.17288472485314063\n",
      "-0.30025736726362506\n",
      "-0.10815409509703387\n",
      "-0.1813068667816384\n",
      "-0.22656789273393554\n",
      "-0.22027068776641992\n",
      "-0.32885023332741586\n",
      "-0.21084325961239428\n",
      "-0.3586743560535644\n",
      "-0.17969159644760535\n",
      "-0.34732524698644\n",
      "-0.2953168612510968\n",
      "-0.2749160060492969\n",
      "-0.1578210775084954\n",
      "-0.4091030265015044\n",
      "-0.2637391698229964\n",
      "-0.1260541110947412\n",
      "-0.27413840450529775\n",
      "-0.1333991505559535\n",
      "-0.13877201031339878\n",
      "-0.3330724050163738\n",
      "-0.161215032416635\n",
      "-0.2708206111604364\n",
      "-0.451425282925592\n",
      "-0.20097153706076662\n",
      "-0.27108905032915304\n",
      "-0.1768527460927537\n",
      "-0.3656557035691902\n",
      "-0.35485518636249425\n",
      "-0.29021387746582256\n",
      "-0.13184254787770938\n",
      "-0.16122560445355189\n",
      "-0.09024988953918092\n",
      "-0.29368122586571394\n",
      "-0.3890892790881586\n",
      "-0.340392864237796\n",
      "-0.1865899054920634\n",
      "-0.29314962140927536\n",
      "-0.1841152016188329\n",
      "-0.2776029917874565\n",
      "-0.08478519060677386\n",
      "-0.13941569181072225\n",
      "-0.28147961912749464\n",
      "-0.16405879142919064\n",
      "-0.23176403137245152\n",
      "-0.21297067581592713\n",
      "-0.1329652024711912\n",
      "-0.1755183651534708\n",
      "-0.19506509516752096\n",
      "-0.13238981053055981\n",
      "-0.3270594703122711\n",
      "-0.5549860524049378\n",
      "-0.31408772063768853\n",
      "-0.30048719032738574\n",
      "-0.3007302807261979\n",
      "-0.3201739120827619\n",
      "-0.3233215390040529\n",
      "-0.30116867601488084\n",
      "-0.30636117702990473\n",
      "-0.3142249506920263\n",
      "-0.4156474499740846\n",
      "-0.14223815074980423\n",
      "-0.2545840714164632\n",
      "-0.24804415583080613\n",
      "-0.23784453260225616\n",
      "-0.10544221532011801\n",
      "-0.48294331735473955\n",
      "-0.23032771770539653\n",
      "-0.1657203601107977\n",
      "-0.2583994618475561\n",
      "-0.19731398236506162\n",
      "-0.13298920803757966\n",
      "-0.2299094905805581\n",
      "-0.25079012850956245\n",
      "-0.29329256021357775\n",
      "-0.08423966516061683\n",
      "-0.1439710431859816\n",
      "-0.24014952413815355\n",
      "-0.1173225212037086\n",
      "-0.27208428597417755\n",
      "-0.21517689051639208\n",
      "-0.34922684826141626\n",
      "-0.34851569989362\n",
      "-0.28701795487270554\n",
      "-0.17553871285408731\n",
      "-0.2554529771607867\n",
      "-0.31172409925649064\n",
      "-0.5420537835948269\n",
      "-0.201289315501551\n",
      "-0.3232861514799321\n",
      "-0.16507860911199249\n",
      "-0.32227332540029496\n",
      "-0.36421638263128653\n",
      "-0.1481415685826111\n",
      "-0.22415696731734502\n",
      "-0.2560949816272014\n",
      "-0.27864792602174016\n",
      "-0.2790357160398605\n",
      "-0.45863896690163247\n",
      "-0.27385552693863985\n",
      "-0.16863331346601954\n",
      "-0.17608016130591378\n",
      "-0.3278538283456792\n",
      "-0.12332533659278244\n",
      "-0.1811155713019145\n",
      "-0.140239530740538\n",
      "-0.5018568536070664\n",
      "-0.1718574351260633\n",
      "-0.2922431355164758\n",
      "-0.26387162640785206\n",
      "-0.2819061036158803\n",
      "-0.4637019017833211\n",
      "-0.4123185064945404\n",
      "-0.344583845059504\n",
      "-0.3301800191394907\n",
      "-0.31018323197992137\n",
      "-0.3356343927144411\n",
      "-0.17675204458202667\n",
      "-0.29684698110565433\n",
      "-0.31708873029490064\n",
      "-0.4251192423805559\n",
      "-0.3304020110205566\n",
      "-0.2994056843080595\n",
      "-0.22417057704011759\n",
      "-0.196323544695796\n",
      "-0.17798901849960896\n",
      "-0.10610322150035763\n",
      "-0.15802494480683846\n",
      "-0.4839195279254687\n",
      "-0.29060462896196515\n",
      "-0.2533683890049134\n",
      "-0.3815652243479498\n",
      "-0.09997233338590378\n",
      "-0.3452436097030585\n",
      "-0.3874204289944847\n",
      "-0.2722209663258437\n",
      "-0.24847558436589903\n",
      "-0.20402614089786833\n",
      "-0.37706755985020535\n",
      "-0.3659594617566952\n",
      "-0.15028858711538923\n",
      "-0.3558755943308003\n",
      "-0.25010940106197044\n",
      "-0.21533073011088905\n",
      "-0.1887108397153838\n",
      "-0.22354919033165063\n",
      "-0.33176300653347024\n",
      "-0.23399891172653348\n",
      "-0.3573153002599672\n",
      "-0.27787505514715155\n",
      "-0.32552961164911526\n",
      "-0.29821474254701125\n",
      "-0.11091542497936356\n",
      "-0.26783036625899953\n",
      "-0.1983667622038599\n",
      "-0.19197688669525612\n",
      "-0.3806172445945048\n",
      "-0.12687610633505794\n",
      "-0.19019247989445928\n",
      "-0.25402589705509104\n",
      "-0.3572223609641218\n",
      "-0.309937817160042\n",
      "-0.2584331355033846\n",
      "-0.19836272818867715\n",
      "-0.12888344856448297\n",
      "-0.28558718381686893\n",
      "-0.14615860324781504\n",
      "-0.2927693699424466\n",
      "-0.32722195495287343\n",
      "-0.21667862893701925\n",
      "-0.3046092869250208\n",
      "-0.18781600895737696\n",
      "-0.22762254526580533\n",
      "-0.1858010659544316\n",
      "-0.35091476777017633\n",
      "-0.2761562104699317\n",
      "-0.36416803125107045\n",
      "-0.27420692061339064\n",
      "-0.25301421253540196\n",
      "-0.2907150291744909\n",
      "-0.2628668603657084\n",
      "-0.11568835721908904\n",
      "-0.08087123367825329\n",
      "-0.18119613016668817\n",
      "-0.280074614341418\n",
      "-0.31041849036498553\n",
      "-0.19987886683719167\n",
      "-0.17435237607562976\n",
      "-0.14515739585198525\n",
      "-0.11078698762763005\n",
      "-0.3396131454798046\n",
      "-0.22818813100682966\n",
      "-0.24706201541607753\n",
      "-0.12305456649240817\n",
      "-0.213281789470507\n",
      "-0.17907330868045335\n",
      "-0.14734892977874428\n",
      "-0.10479675649548453\n",
      "-0.26084026443420516\n",
      "-0.35208530360729373\n",
      "-0.1532991424027943\n",
      "-0.1039618041983605\n",
      "-0.20318931364374151\n",
      "-0.1206869920807942\n",
      "-0.3152622052136973\n",
      "-0.23945116203556077\n",
      "-0.1873126498724493\n",
      "-0.38847020168723384\n",
      "-0.1941642958303062\n",
      "-0.24649178070061817\n",
      "-0.3653884783200943\n",
      "-0.2757916818535685\n",
      "-0.2997180518452762\n",
      "-0.1759154890201489\n",
      "-0.17215820405553456\n",
      "-0.16467226759640693\n",
      "-0.5160676277557209\n",
      "-0.19601902319934417\n",
      "-0.13917614225580177\n",
      "-0.25058845138277464\n",
      "-0.13270670008212843\n",
      "-0.334594461721309\n",
      "-0.348214698753707\n",
      "-0.22147197991998016\n",
      "-0.22256804345539574\n",
      "-0.14674068908208412\n",
      "-0.16911844135268914\n",
      "-0.2854978017187673\n",
      "-0.1752958917136334\n",
      "-0.25053476050366374\n",
      "-0.15654430506562278\n",
      "-0.1852063490480111\n",
      "-0.1857925228860577\n",
      "-0.2895128946695764\n",
      "-0.1773452912368467\n",
      "-0.3659852315046615\n",
      "-0.40931262454823913\n",
      "-0.3361677247472622\n",
      "-0.18061405458187155\n",
      "-0.17617736037026926\n",
      "-0.25178464449652926\n",
      "-0.36813694347820847\n",
      "-0.23656545708631851\n",
      "-0.24973204529094967\n",
      "-0.3611543085376915\n",
      "-0.18200308747842542\n",
      "-0.38984942735684097\n",
      "-0.1889506784218882\n",
      "-0.17703703616579494\n",
      "-0.16974146359000955\n",
      "-0.20541516797297846\n",
      "-0.29053296710784515\n",
      "-0.13972746390348256\n",
      "-0.2754942547732143\n",
      "-0.11545377602717154\n",
      "-0.21266158985167913\n",
      "-0.19294603413333403\n",
      "-0.290602454430698\n",
      "-0.205056406311179\n",
      "-0.49564449225993973\n",
      "-0.2943133210092452\n",
      "-0.3452948831388342\n",
      "-0.25287224276266157\n",
      "-0.17798622388826948\n",
      "-0.21477546644917436\n",
      "-0.3524263179290087\n",
      "-0.14711585041167666\n",
      "-0.10253159030862641\n",
      "-0.24292826168484413\n",
      "-0.2531148792196851\n",
      "-0.28690571257494346\n",
      "-0.29366810707685687\n",
      "-0.07118449474020846\n",
      "-0.19208178983295993\n",
      "-0.14812453412037305\n",
      "-0.2510639450734203\n",
      "-0.3259153104080399\n",
      "-0.22504488113596202\n",
      "-0.2854297238174832\n",
      "-0.13457490301150846\n",
      "-0.10846542179030547\n",
      "-0.45642857165976947\n",
      "-0.0972611460149879\n",
      "-0.24394115052478904\n",
      "-0.27717785980552356\n",
      "-0.30413656447163673\n",
      "-0.26877657552561984\n",
      "-0.14709133365145485\n",
      "-0.5008242624550847\n",
      "-0.2590862730291809\n",
      "-0.4958818173133529\n",
      "-0.44407047492216545\n",
      "-0.35577736658771714\n",
      "-0.25049490014565723\n",
      "-0.27372604293639324\n",
      "-0.18752905536456735\n",
      "-0.38880387439548686\n",
      "-0.24328230142136392\n",
      "-0.2352953395392173\n",
      "-0.16053350254495982\n",
      "-0.42677913422149943\n",
      "-0.16023806468730598\n",
      "-0.11236198918920787\n",
      "-0.31550547131450973\n",
      "-0.3067920752114741\n",
      "-0.1450715223606918\n",
      "-0.5404541015663857\n",
      "-0.49566030686262585\n",
      "-0.48210709824285086\n",
      "-0.18445026000424408\n",
      "-0.10196256806074153\n",
      "-0.32404533961538784\n",
      "-0.16329775303221242\n",
      "-0.20077259362533734\n",
      "-0.3698908310933941\n",
      "-0.20694583602159286\n",
      "-0.29740919426986917\n",
      "-0.18903881981248707\n",
      "-0.16669928718574908\n",
      "-0.10567701047637339\n",
      "-0.1208302629237501\n",
      "-0.43113930582529825\n",
      "-0.23637608950485228\n",
      "-0.18643396556532454\n",
      "-0.18131053473022873\n",
      "-0.3226637277565888\n",
      "-0.27796842207701933\n",
      "-0.3399371942795674\n",
      "-0.2235354176859747\n",
      "-0.12024117324887397\n",
      "-0.16208619300910776\n",
      "-0.2300359623701005\n",
      "-0.23467723777235916\n",
      "-0.15899822197853397\n",
      "-0.280289908587819\n",
      "-0.2413675708307189\n",
      "-0.38251678682588464\n",
      "-0.2688613766360278\n",
      "-0.1739907607858211\n",
      "-0.23650166964112496\n",
      "-0.14089664640759855\n",
      "-0.19295998803817668\n",
      "-0.25090389097244925\n",
      "-0.1273757413557719\n",
      "-0.2122815627707395\n",
      "-0.17859045975938984\n",
      "-0.29807997329175057\n",
      "-0.24652918892741166\n",
      "-0.18109416045848448\n",
      "-0.4764285254997636\n",
      "-0.22568841698384634\n",
      "-0.26587735964536435\n",
      "-0.23821758329989418\n",
      "-0.43675592079735936\n",
      "-0.11298441220028764\n",
      "-0.20965126233585551\n",
      "-0.26644014026441876\n",
      "-0.24565036753063552\n",
      "-0.14474499473471308\n",
      "-0.1982576014709671\n",
      "-0.07915520839536219\n",
      "-0.23462916364654923\n",
      "-0.522254313605538\n",
      "-0.3885723744460604\n",
      "-0.20614716943308958\n",
      "-0.3541423631554759\n",
      "-0.25983501784343815\n",
      "-0.29105267142436436\n",
      "-0.26674027790968513\n",
      "-0.290820008272659\n",
      "-0.1652468482108777\n",
      "-0.17620003733638892\n",
      "-0.36621217466708494\n",
      "-0.5122732751301927\n",
      "-0.33390470285011803\n",
      "-0.24252739268788429\n",
      "-0.07506457596057406\n",
      "-0.23406169569149793\n",
      "-0.13606546024334443\n",
      "-0.2988761085361656\n",
      "-0.3145952126186459\n",
      "-0.3026070347761438\n",
      "-0.33147454369309515\n",
      "-0.2456598921967392\n",
      "-0.48854566735174715\n",
      "-0.22362931023727062\n",
      "-0.32132143955850323\n",
      "-0.3817272585854278\n",
      "-0.16418489454722218\n",
      "-0.13823306259340282\n",
      "-0.3412480093784217\n",
      "-0.18325528600660332\n",
      "-0.17155593294335586\n",
      "-0.2738909888437876\n",
      "-0.27103602400647486\n",
      "-0.31812556031654904\n",
      "-0.17714356901015504\n",
      "-0.21676469761032297\n",
      "-0.44947851372320613\n",
      "-0.16382949551897025\n",
      "-0.17192789496033356\n",
      "-0.17625251870260972\n",
      "-0.3014531425438421\n",
      "-0.20801111645482376\n",
      "-0.3377802514999594\n",
      "-0.15841659888562323\n",
      "-0.26709069613248754\n",
      "-0.17813320345918063\n",
      "-0.17993912983444435\n",
      "-0.26918364992381105\n",
      "-0.5243363745922826\n",
      "-0.26683999311839784\n",
      "-0.36209346377609475\n",
      "-0.1800677829444387\n",
      "-0.2706665201902743\n",
      "-0.3447531898553429\n",
      "-0.1917527301168736\n",
      "-0.08285181194864066\n",
      "-0.2609660087269962\n",
      "-0.31526497772671885\n",
      "-0.1370035452417395\n",
      "-0.2964798203263887\n",
      "-0.2613522101145703\n",
      "-0.15797779318628544\n",
      "-0.18495100544265491\n",
      "-0.18180554508998673\n",
      "-0.17999763207094582\n",
      "-0.3444967309044328\n",
      "-0.30919589656753915\n",
      "-0.31148003459888435\n",
      "-0.3501472990936736\n",
      "-0.21011330766806569\n",
      "-0.13645338270947513\n",
      "-0.28116752348074775\n",
      "-0.11074735641095408\n",
      "-0.1084972727563399\n",
      "-0.15318859681808003\n",
      "-0.21093077899357066\n",
      "-0.16636318737484881\n",
      "-0.20930394464015292\n",
      "-0.39096817379795995\n",
      "-0.5156170656492447\n",
      "-0.4175069691742113\n",
      "-0.2527295642053608\n",
      "-0.12021181162726355\n",
      "-0.2957047848201112\n",
      "-0.281771508913186\n",
      "-0.29211562081134956\n",
      "-0.16765224552161206\n",
      "-0.346632757200126\n",
      "-0.15726701626779305\n",
      "-0.24789802219635867\n",
      "-0.11411051520447343\n",
      "-0.1014382793488774\n",
      "-0.13350124102090385\n",
      "-0.20207355190163226\n",
      "-0.1312258318171675\n",
      "-0.19937062172512132\n",
      "-0.48069847662711357\n",
      "-0.21719827313048964\n",
      "-0.18675944413208126\n",
      "-0.23204691434692395\n",
      "-0.24327516141009622\n",
      "-0.2923352025106756\n",
      "-0.30977540669830556\n",
      "-0.24592016371420436\n",
      "-0.1430189180282625\n",
      "-0.27519813660627346\n",
      "-0.44028348365836145\n",
      "-0.14634268835254557\n",
      "-0.30804910327524615\n",
      "-0.4829502683770286\n",
      "-0.1685727901934187\n",
      "-0.21576533074879198\n",
      "-0.17906005248942053\n",
      "-0.45615828390647606\n",
      "-0.31818608706976076\n",
      "-0.32817211895140563\n",
      "-0.15398830110466796\n",
      "-0.40997700947696675\n"
     ]
    },
    {
     "name": "stderr",
     "output_type": "stream",
     "text": [
      "1it [00:01,  1.85s/it, bound: 0 | nc: 1 | ncall: 501 | eff(%):  0.200 | loglstar:   -inf < -0.555 <    inf | logz: -7.465 +/-  0.117 | dlogz:    inf >  0.509]"
     ]
    },
    {
     "name": "stdout",
     "output_type": "stream",
     "text": [
      "-0.1609582967749061\n"
     ]
    },
    {
     "name": "stderr",
     "output_type": "stream",
     "text": [
      "2it [00:03,  1.85s/it, bound: 0 | nc: 1 | ncall: 502 | eff(%):  0.398 | loglstar:   -inf < -0.542 <    inf | logz: -6.363 +/-  0.108 | dlogz:  7.392 >  0.509]"
     ]
    },
    {
     "name": "stdout",
     "output_type": "stream",
     "text": [
      "-0.48994199842479563\n"
     ]
    },
    {
     "name": "stderr",
     "output_type": "stream",
     "text": [
      "3it [00:05,  1.93s/it, bound: 0 | nc: 1 | ncall: 503 | eff(%):  0.596 | loglstar:   -inf < -0.540 <    inf | logz: -5.850 +/-  0.103 | dlogz:  6.290 >  0.509]"
     ]
    },
    {
     "name": "stdout",
     "output_type": "stream",
     "text": [
      "-0.08267355096013135\n"
     ]
    },
    {
     "name": "stderr",
     "output_type": "stream",
     "text": [
      "4it [00:07,  1.97s/it, bound: 0 | nc: 1 | ncall: 504 | eff(%):  0.794 | loglstar:   -inf < -0.524 <    inf | logz: -5.510 +/-  0.100 | dlogz:  5.776 >  0.509]"
     ]
    },
    {
     "name": "stdout",
     "output_type": "stream",
     "text": [
      "-0.16367787303619002\n"
     ]
    },
    {
     "name": "stderr",
     "output_type": "stream",
     "text": [
      "5it [00:09,  1.98s/it, bound: 0 | nc: 1 | ncall: 505 | eff(%):  0.990 | loglstar:   -inf < -0.522 <    inf | logz: -5.255 +/-  0.097 | dlogz:  5.435 >  0.509]"
     ]
    },
    {
     "name": "stdout",
     "output_type": "stream",
     "text": [
      "-0.37918305953787956\n"
     ]
    },
    {
     "name": "stderr",
     "output_type": "stream",
     "text": [
      "6it [00:11,  2.05s/it, bound: 0 | nc: 1 | ncall: 506 | eff(%):  1.186 | loglstar:   -inf < -0.516 <    inf | logz: -5.052 +/-  0.095 | dlogz:  5.180 >  0.509]"
     ]
    },
    {
     "name": "stdout",
     "output_type": "stream",
     "text": [
      "-0.2570199312897514\n",
      "-0.5394713586486471\n"
     ]
    },
    {
     "name": "stderr",
     "output_type": "stream",
     "text": [
      "7it [00:16,  3.00s/it, bound: 0 | nc: 2 | ncall: 508 | eff(%):  1.378 | loglstar:   -inf < -0.516 <    inf | logz: -4.883 +/-  0.093 | dlogz:  4.976 >  0.509]"
     ]
    },
    {
     "name": "stdout",
     "output_type": "stream",
     "text": [
      "-0.1262467109279745\n"
     ]
    },
    {
     "name": "stderr",
     "output_type": "stream",
     "text": [
      "8it [00:19,  2.83s/it, bound: 0 | nc: 1 | ncall: 509 | eff(%):  1.572 | loglstar:   -inf < -0.512 <    inf | logz: -4.739 +/-  0.092 | dlogz:  4.806 >  0.509]"
     ]
    },
    {
     "name": "stdout",
     "output_type": "stream",
     "text": [
      "-0.25168180098441334\n"
     ]
    },
    {
     "name": "stderr",
     "output_type": "stream",
     "text": [
      "9it [00:21,  2.72s/it, bound: 0 | nc: 1 | ncall: 510 | eff(%):  1.765 | loglstar:   -inf < -0.502 <    inf | logz: -4.612 +/-  0.090 | dlogz:  4.661 >  0.509]"
     ]
    },
    {
     "name": "stdout",
     "output_type": "stream",
     "text": [
      "-0.17451638456081076\n"
     ]
    },
    {
     "name": "stderr",
     "output_type": "stream",
     "text": [
      "10it [00:24,  2.64s/it, bound: 0 | nc: 1 | ncall: 511 | eff(%):  1.957 | loglstar:   -inf < -0.501 <    inf | logz: -4.499 +/-  0.089 | dlogz:  4.534 >  0.509]"
     ]
    },
    {
     "name": "stdout",
     "output_type": "stream",
     "text": [
      "-0.37386652301580287\n"
     ]
    },
    {
     "name": "stderr",
     "output_type": "stream",
     "text": [
      "11it [00:26,  2.58s/it, bound: 0 | nc: 1 | ncall: 512 | eff(%):  2.148 | loglstar:   -inf < -0.496 <    inf | logz: -4.397 +/-  0.088 | dlogz:  4.420 >  0.509]"
     ]
    },
    {
     "name": "stdout",
     "output_type": "stream",
     "text": [
      "-0.1880182895760884\n"
     ]
    },
    {
     "name": "stderr",
     "output_type": "stream",
     "text": [
      "12it [00:31,  3.14s/it, bound: 0 | nc: 1 | ncall: 513 | eff(%):  2.339 | loglstar:   -inf < -0.496 <    inf | logz: -4.305 +/-  0.087 | dlogz:  4.318 >  0.509]"
     ]
    },
    {
     "name": "stdout",
     "output_type": "stream",
     "text": [
      "-0.12194662920401314\n"
     ]
    },
    {
     "name": "stderr",
     "output_type": "stream",
     "text": [
      "13it [00:33,  2.75s/it, bound: 0 | nc: 1 | ncall: 514 | eff(%):  2.529 | loglstar:   -inf < -0.496 <    inf | logz: -4.221 +/-  0.086 | dlogz:  4.225 >  0.509]"
     ]
    },
    {
     "name": "stdout",
     "output_type": "stream",
     "text": [
      "-0.3847900797758975\n"
     ]
    },
    {
     "name": "stderr",
     "output_type": "stream",
     "text": [
      "14it [00:34,  2.48s/it, bound: 0 | nc: 1 | ncall: 515 | eff(%):  2.718 | loglstar:   -inf < -0.490 <    inf | logz: -4.143 +/-  0.085 | dlogz:  4.140 >  0.509]"
     ]
    },
    {
     "name": "stdout",
     "output_type": "stream",
     "text": [
      "-0.20950176556784977\n"
     ]
    },
    {
     "name": "stderr",
     "output_type": "stream",
     "text": [
      "15it [00:36,  2.30s/it, bound: 0 | nc: 1 | ncall: 516 | eff(%):  2.907 | loglstar:   -inf < -0.489 <    inf | logz: -4.071 +/-  0.084 | dlogz:  4.061 >  0.509]"
     ]
    },
    {
     "name": "stdout",
     "output_type": "stream",
     "text": [
      "-0.19422700066310697\n"
     ]
    },
    {
     "name": "stderr",
     "output_type": "stream",
     "text": [
      "16it [00:38,  2.16s/it, bound: 0 | nc: 1 | ncall: 517 | eff(%):  3.095 | loglstar:   -inf < -0.484 <    inf | logz: -4.003 +/-  0.084 | dlogz:  3.988 >  0.509]"
     ]
    },
    {
     "name": "stdout",
     "output_type": "stream",
     "text": [
      "-0.18927267737926426\n"
     ]
    },
    {
     "name": "stderr",
     "output_type": "stream",
     "text": [
      "17it [00:40,  2.05s/it, bound: 0 | nc: 1 | ncall: 518 | eff(%):  3.282 | loglstar:   -inf < -0.483 <    inf | logz: -3.940 +/-  0.083 | dlogz:  3.920 >  0.509]"
     ]
    },
    {
     "name": "stdout",
     "output_type": "stream",
     "text": [
      "-0.20619636185916482\n"
     ]
    },
    {
     "name": "stderr",
     "output_type": "stream",
     "text": [
      "18it [00:42,  1.98s/it, bound: 0 | nc: 1 | ncall: 519 | eff(%):  3.468 | loglstar:   -inf < -0.483 <    inf | logz: -3.881 +/-  0.082 | dlogz:  3.856 >  0.509]"
     ]
    },
    {
     "name": "stdout",
     "output_type": "stream",
     "text": [
      "-0.22139407590015006\n"
     ]
    },
    {
     "name": "stderr",
     "output_type": "stream",
     "text": [
      "19it [00:43,  1.92s/it, bound: 0 | nc: 1 | ncall: 520 | eff(%):  3.654 | loglstar:   -inf < -0.482 <    inf | logz: -3.825 +/-  0.081 | dlogz:  3.796 >  0.509]"
     ]
    },
    {
     "name": "stdout",
     "output_type": "stream",
     "text": [
      "-0.22056615687892403\n"
     ]
    },
    {
     "name": "stderr",
     "output_type": "stream",
     "text": [
      "20it [00:45,  1.92s/it, bound: 0 | nc: 1 | ncall: 521 | eff(%):  3.839 | loglstar:   -inf < -0.481 <    inf | logz: -3.772 +/-  0.081 | dlogz:  3.740 >  0.509]"
     ]
    },
    {
     "name": "stdout",
     "output_type": "stream",
     "text": [
      "-0.19453225484779083\n"
     ]
    },
    {
     "name": "stderr",
     "output_type": "stream",
     "text": [
      "21it [00:47,  1.89s/it, bound: 0 | nc: 1 | ncall: 522 | eff(%):  4.023 | loglstar:   -inf < -0.476 <    inf | logz: -3.721 +/-  0.080 | dlogz:  3.686 >  0.509]"
     ]
    },
    {
     "name": "stdout",
     "output_type": "stream",
     "text": [
      "-0.26733750845968446\n"
     ]
    },
    {
     "name": "stderr",
     "output_type": "stream",
     "text": [
      "22it [00:49,  1.86s/it, bound: 0 | nc: 1 | ncall: 523 | eff(%):  4.207 | loglstar:   -inf < -0.464 <    inf | logz: -3.673 +/-  0.080 | dlogz:  3.635 >  0.509]"
     ]
    },
    {
     "name": "stdout",
     "output_type": "stream",
     "text": [
      "-0.4366761639512331\n",
      "-0.5119820674780988\n"
     ]
    },
    {
     "name": "stderr",
     "output_type": "stream",
     "text": [
      "23it [00:53,  2.40s/it, bound: 0 | nc: 2 | ncall: 525 | eff(%):  4.381 | loglstar:   -inf < -0.459 <    inf | logz: -3.627 +/-  0.079 | dlogz:  3.586 >  0.509]"
     ]
    },
    {
     "name": "stdout",
     "output_type": "stream",
     "text": [
      "-0.1675914332168222\n"
     ]
    },
    {
     "name": "stderr",
     "output_type": "stream",
     "text": [
      "24it [00:54,  2.22s/it, bound: 0 | nc: 1 | ncall: 526 | eff(%):  4.563 | loglstar:   -inf < -0.456 <    inf | logz: -3.582 +/-  0.078 | dlogz:  3.539 >  0.509]"
     ]
    },
    {
     "name": "stdout",
     "output_type": "stream",
     "text": [
      "-0.16680467002558202\n"
     ]
    },
    {
     "name": "stderr",
     "output_type": "stream",
     "text": [
      "25it [00:56,  2.10s/it, bound: 0 | nc: 1 | ncall: 527 | eff(%):  4.744 | loglstar:   -inf < -0.456 <    inf | logz: -3.540 +/-  0.078 | dlogz:  3.494 >  0.509]"
     ]
    },
    {
     "name": "stdout",
     "output_type": "stream",
     "text": [
      "-0.2926714743952433\n"
     ]
    },
    {
     "name": "stderr",
     "output_type": "stream",
     "text": [
      "26it [00:58,  2.01s/it, bound: 0 | nc: 1 | ncall: 528 | eff(%):  4.924 | loglstar:   -inf < -0.451 <    inf | logz: -3.499 +/-  0.077 | dlogz:  3.451 >  0.509]"
     ]
    },
    {
     "name": "stdout",
     "output_type": "stream",
     "text": [
      "-0.1790502377510178\n"
     ]
    },
    {
     "name": "stderr",
     "output_type": "stream",
     "text": [
      "27it [01:00,  1.96s/it, bound: 0 | nc: 1 | ncall: 529 | eff(%):  5.104 | loglstar:   -inf < -0.449 <    inf | logz: -3.460 +/-  0.077 | dlogz:  3.410 >  0.509]"
     ]
    },
    {
     "name": "stdout",
     "output_type": "stream",
     "text": [
      "-0.2656228722135552\n"
     ]
    },
    {
     "name": "stderr",
     "output_type": "stream",
     "text": [
      "28it [01:02,  1.94s/it, bound: 0 | nc: 1 | ncall: 530 | eff(%):  5.283 | loglstar:   -inf < -0.444 <    inf | logz: -3.422 +/-  0.077 | dlogz:  3.370 >  0.509]"
     ]
    },
    {
     "name": "stdout",
     "output_type": "stream",
     "text": [
      "-0.11429933225864777\n"
     ]
    },
    {
     "name": "stderr",
     "output_type": "stream",
     "text": [
      "29it [01:04,  1.89s/it, bound: 0 | nc: 1 | ncall: 531 | eff(%):  5.461 | loglstar:   -inf < -0.440 <    inf | logz: -3.386 +/-  0.076 | dlogz:  3.332 >  0.509]"
     ]
    },
    {
     "name": "stdout",
     "output_type": "stream",
     "text": [
      "-0.08769796788707217\n"
     ]
    },
    {
     "name": "stderr",
     "output_type": "stream",
     "text": [
      "30it [01:05,  1.87s/it, bound: 0 | nc: 1 | ncall: 532 | eff(%):  5.639 | loglstar:   -inf < -0.437 <    inf | logz: -3.351 +/-  0.076 | dlogz:  3.294 >  0.509]"
     ]
    },
    {
     "name": "stdout",
     "output_type": "stream",
     "text": [
      "-0.19312695219534118\n"
     ]
    },
    {
     "name": "stderr",
     "output_type": "stream",
     "text": [
      "31it [01:07,  1.86s/it, bound: 0 | nc: 1 | ncall: 533 | eff(%):  5.816 | loglstar:   -inf < -0.437 <    inf | logz: -3.316 +/-  0.075 | dlogz:  3.259 >  0.509]"
     ]
    },
    {
     "name": "stdout",
     "output_type": "stream",
     "text": [
      "-0.2674206876741917\n"
     ]
    },
    {
     "name": "stderr",
     "output_type": "stream",
     "text": [
      "32it [01:09,  1.84s/it, bound: 0 | nc: 1 | ncall: 534 | eff(%):  5.993 | loglstar:   -inf < -0.431 <    inf | logz: -3.284 +/-  0.075 | dlogz:  3.224 >  0.509]"
     ]
    },
    {
     "name": "stdout",
     "output_type": "stream",
     "text": [
      "-0.23669615399586424\n"
     ]
    },
    {
     "name": "stderr",
     "output_type": "stream",
     "text": [
      "33it [01:11,  1.83s/it, bound: 0 | nc: 1 | ncall: 535 | eff(%):  6.168 | loglstar:   -inf < -0.427 <    inf | logz: -3.252 +/-  0.074 | dlogz:  3.190 >  0.509]"
     ]
    },
    {
     "name": "stdout",
     "output_type": "stream",
     "text": [
      "-0.22646122113853637\n"
     ]
    },
    {
     "name": "stderr",
     "output_type": "stream",
     "text": [
      "34it [01:13,  1.82s/it, bound: 0 | nc: 1 | ncall: 536 | eff(%):  6.343 | loglstar:   -inf < -0.425 <    inf | logz: -3.220 +/-  0.074 | dlogz:  3.158 >  0.509]"
     ]
    },
    {
     "name": "stdout",
     "output_type": "stream",
     "text": [
      "-0.39998003371152513\n"
     ]
    },
    {
     "name": "stderr",
     "output_type": "stream",
     "text": [
      "35it [01:15,  1.84s/it, bound: 0 | nc: 1 | ncall: 537 | eff(%):  6.518 | loglstar:   -inf < -0.418 <    inf | logz: -3.190 +/-  0.074 | dlogz:  3.126 >  0.509]"
     ]
    },
    {
     "name": "stdout",
     "output_type": "stream",
     "text": [
      "-0.24989836429978174\n"
     ]
    },
    {
     "name": "stderr",
     "output_type": "stream",
     "text": [
      "36it [01:16,  1.83s/it, bound: 0 | nc: 1 | ncall: 538 | eff(%):  6.691 | loglstar:   -inf < -0.416 <    inf | logz: -3.161 +/-  0.073 | dlogz:  3.095 >  0.509]"
     ]
    },
    {
     "name": "stdout",
     "output_type": "stream",
     "text": [
      "-0.21394980766142938\n"
     ]
    },
    {
     "name": "stderr",
     "output_type": "stream",
     "text": [
      "37it [01:18,  1.82s/it, bound: 0 | nc: 1 | ncall: 539 | eff(%):  6.865 | loglstar:   -inf < -0.412 <    inf | logz: -3.132 +/-  0.073 | dlogz:  3.066 >  0.509]"
     ]
    },
    {
     "name": "stdout",
     "output_type": "stream",
     "text": [
      "-0.14813805254964524\n"
     ]
    },
    {
     "name": "stderr",
     "output_type": "stream",
     "text": [
      "38it [01:20,  1.82s/it, bound: 0 | nc: 1 | ncall: 540 | eff(%):  7.037 | loglstar:   -inf < -0.410 <    inf | logz: -3.105 +/-  0.072 | dlogz:  3.036 >  0.509]"
     ]
    },
    {
     "name": "stdout",
     "output_type": "stream",
     "text": [
      "-0.2737850059693035\n"
     ]
    },
    {
     "name": "stderr",
     "output_type": "stream",
     "text": [
      "39it [01:22,  1.82s/it, bound: 0 | nc: 1 | ncall: 541 | eff(%):  7.209 | loglstar:   -inf < -0.409 <    inf | logz: -3.078 +/-  0.072 | dlogz:  3.008 >  0.509]"
     ]
    },
    {
     "name": "stdout",
     "output_type": "stream",
     "text": [
      "-0.24598365154914995\n"
     ]
    },
    {
     "name": "stderr",
     "output_type": "stream",
     "text": [
      "40it [01:24,  1.82s/it, bound: 0 | nc: 1 | ncall: 542 | eff(%):  7.380 | loglstar:   -inf < -0.409 <    inf | logz: -3.051 +/-  0.072 | dlogz:  2.981 >  0.509]"
     ]
    },
    {
     "name": "stdout",
     "output_type": "stream",
     "text": [
      "-0.2840068003503359\n"
     ]
    },
    {
     "name": "stderr",
     "output_type": "stream",
     "text": [
      "41it [01:25,  1.81s/it, bound: 0 | nc: 1 | ncall: 543 | eff(%):  7.551 | loglstar:   -inf < -0.400 <    inf | logz: -3.026 +/-  0.071 | dlogz:  2.954 >  0.509]"
     ]
    },
    {
     "name": "stdout",
     "output_type": "stream",
     "text": [
      "-0.17446770407567624\n"
     ]
    },
    {
     "name": "stderr",
     "output_type": "stream",
     "text": [
      "42it [01:27,  1.81s/it, bound: 0 | nc: 1 | ncall: 544 | eff(%):  7.721 | loglstar:   -inf < -0.398 <    inf | logz: -3.001 +/-  0.071 | dlogz:  2.928 >  0.509]"
     ]
    },
    {
     "name": "stdout",
     "output_type": "stream",
     "text": [
      "-0.2575009294392731\n"
     ]
    },
    {
     "name": "stderr",
     "output_type": "stream",
     "text": [
      "43it [01:29,  1.81s/it, bound: 0 | nc: 1 | ncall: 545 | eff(%):  7.890 | loglstar:   -inf < -0.391 <    inf | logz: -2.976 +/-  0.071 | dlogz:  2.902 >  0.509]"
     ]
    },
    {
     "name": "stdout",
     "output_type": "stream",
     "text": [
      "-0.28703133085168325\n"
     ]
    },
    {
     "name": "stderr",
     "output_type": "stream",
     "text": [
      "44it [01:31,  1.81s/it, bound: 0 | nc: 1 | ncall: 546 | eff(%):  8.059 | loglstar:   -inf < -0.390 <    inf | logz: -2.952 +/-  0.071 | dlogz:  2.877 >  0.509]"
     ]
    },
    {
     "name": "stdout",
     "output_type": "stream",
     "text": [
      "-0.13391099071163456\n"
     ]
    },
    {
     "name": "stderr",
     "output_type": "stream",
     "text": [
      "45it [01:33,  1.80s/it, bound: 0 | nc: 1 | ncall: 547 | eff(%):  8.227 | loglstar:   -inf < -0.389 <    inf | logz: -2.929 +/-  0.070 | dlogz:  2.852 >  0.509]"
     ]
    },
    {
     "name": "stdout",
     "output_type": "stream",
     "text": [
      "-0.34328137607160814\n",
      "-0.5276607793132202\n"
     ]
    },
    {
     "name": "stderr",
     "output_type": "stream",
     "text": [
      "46it [01:36,  2.37s/it, bound: 0 | nc: 2 | ncall: 549 | eff(%):  8.379 | loglstar:   -inf < -0.389 <    inf | logz: -2.906 +/-  0.070 | dlogz:  2.828 >  0.509]"
     ]
    },
    {
     "name": "stdout",
     "output_type": "stream",
     "text": [
      "-0.13763776243864323\n"
     ]
    },
    {
     "name": "stderr",
     "output_type": "stream",
     "text": [
      "47it [01:38,  2.28s/it, bound: 0 | nc: 1 | ncall: 550 | eff(%):  8.545 | loglstar:   -inf < -0.389 <    inf | logz: -2.883 +/-  0.070 | dlogz:  2.805 >  0.509]"
     ]
    },
    {
     "name": "stdout",
     "output_type": "stream",
     "text": [
      "-0.2869247897308048\n"
     ]
    },
    {
     "name": "stderr",
     "output_type": "stream",
     "text": [
      "48it [01:40,  2.20s/it, bound: 0 | nc: 1 | ncall: 551 | eff(%):  8.711 | loglstar:   -inf < -0.388 <    inf | logz: -2.862 +/-  0.069 | dlogz:  2.782 >  0.509]"
     ]
    },
    {
     "name": "stdout",
     "output_type": "stream",
     "text": [
      "-0.20679572587042144\n"
     ]
    },
    {
     "name": "stderr",
     "output_type": "stream",
     "text": [
      "49it [01:42,  2.13s/it, bound: 0 | nc: 1 | ncall: 552 | eff(%):  8.877 | loglstar:   -inf < -0.387 <    inf | logz: -2.840 +/-  0.069 | dlogz:  2.760 >  0.509]"
     ]
    },
    {
     "name": "stdout",
     "output_type": "stream",
     "text": [
      "-0.19078298906202212\n"
     ]
    },
    {
     "name": "stderr",
     "output_type": "stream",
     "text": [
      "50it [01:45,  2.19s/it, bound: 0 | nc: 1 | ncall: 553 | eff(%):  9.042 | loglstar:   -inf < -0.385 <    inf | logz: -2.819 +/-  0.069 | dlogz:  2.738 >  0.509]"
     ]
    },
    {
     "name": "stdout",
     "output_type": "stream",
     "text": [
      "-0.260681115736444\n",
      "-0.4160678878499896\n"
     ]
    },
    {
     "name": "stderr",
     "output_type": "stream",
     "text": [
      "51it [01:50,  3.03s/it, bound: 0 | nc: 2 | ncall: 555 | eff(%):  9.189 | loglstar:   -inf < -0.383 <    inf | logz: -2.799 +/-  0.068 | dlogz:  2.717 >  0.509]"
     ]
    },
    {
     "name": "stdout",
     "output_type": "stream",
     "text": [
      "-0.1540132822134667\n"
     ]
    },
    {
     "name": "stderr",
     "output_type": "stream",
     "text": [
      "52it [01:52,  2.86s/it, bound: 0 | nc: 1 | ncall: 556 | eff(%):  9.353 | loglstar:   -inf < -0.382 <    inf | logz: -2.779 +/-  0.068 | dlogz:  2.696 >  0.509]"
     ]
    },
    {
     "name": "stdout",
     "output_type": "stream",
     "text": [
      "-0.30694386904584536\n"
     ]
    },
    {
     "name": "stderr",
     "output_type": "stream",
     "text": [
      "53it [01:55,  2.75s/it, bound: 0 | nc: 1 | ncall: 557 | eff(%):  9.515 | loglstar:   -inf < -0.382 <    inf | logz: -2.759 +/-  0.068 | dlogz:  2.675 >  0.509]"
     ]
    },
    {
     "name": "stdout",
     "output_type": "stream",
     "text": [
      "-0.2625418587156414\n"
     ]
    },
    {
     "name": "stderr",
     "output_type": "stream",
     "text": [
      "54it [01:57,  2.66s/it, bound: 0 | nc: 1 | ncall: 558 | eff(%):  9.677 | loglstar:   -inf < -0.381 <    inf | logz: -2.740 +/-  0.068 | dlogz:  2.655 >  0.509]"
     ]
    },
    {
     "name": "stdout",
     "output_type": "stream",
     "text": [
      "-0.30054222449527046\n"
     ]
    },
    {
     "name": "stderr",
     "output_type": "stream",
     "text": [
      "55it [02:00,  2.60s/it, bound: 0 | nc: 1 | ncall: 559 | eff(%):  9.839 | loglstar:   -inf < -0.379 <    inf | logz: -2.721 +/-  0.067 | dlogz:  2.636 >  0.509]"
     ]
    },
    {
     "name": "stdout",
     "output_type": "stream",
     "text": [
      "-0.21155475927891343\n"
     ]
    },
    {
     "name": "stderr",
     "output_type": "stream",
     "text": [
      "56it [02:02,  2.47s/it, bound: 0 | nc: 1 | ncall: 560 | eff(%): 10.000 | loglstar:   -inf < -0.377 <    inf | logz: -2.703 +/-  0.067 | dlogz:  2.616 >  0.509]"
     ]
    },
    {
     "name": "stdout",
     "output_type": "stream",
     "text": [
      "-0.23432256768688858\n"
     ]
    },
    {
     "name": "stderr",
     "output_type": "stream",
     "text": [
      "57it [02:03,  2.27s/it, bound: 0 | nc: 1 | ncall: 561 | eff(%): 10.160 | loglstar:   -inf < -0.374 <    inf | logz: -2.685 +/-  0.067 | dlogz:  2.597 >  0.509]"
     ]
    },
    {
     "name": "stdout",
     "output_type": "stream",
     "text": [
      "-0.19254631287574014\n"
     ]
    },
    {
     "name": "stderr",
     "output_type": "stream",
     "text": [
      "58it [02:05,  2.13s/it, bound: 0 | nc: 1 | ncall: 562 | eff(%): 10.320 | loglstar:   -inf < -0.370 <    inf | logz: -2.667 +/-  0.067 | dlogz:  2.579 >  0.509]"
     ]
    },
    {
     "name": "stdout",
     "output_type": "stream",
     "text": [
      "-0.20383162629527427\n",
      "-0.5084366651769273\n"
     ]
    },
    {
     "name": "stderr",
     "output_type": "stream",
     "text": [
      "59it [02:09,  2.57s/it, bound: 0 | nc: 2 | ncall: 564 | eff(%): 10.461 | loglstar:   -inf < -0.368 <    inf | logz: -2.649 +/-  0.066 | dlogz:  2.560 >  0.509]"
     ]
    },
    {
     "name": "stdout",
     "output_type": "stream",
     "text": [
      "-0.21937971639819723\n"
     ]
    },
    {
     "name": "stderr",
     "output_type": "stream",
     "text": [
      "60it [02:11,  2.34s/it, bound: 0 | nc: 1 | ncall: 565 | eff(%): 10.619 | loglstar:   -inf < -0.366 <    inf | logz: -2.632 +/-  0.066 | dlogz:  2.542 >  0.509]"
     ]
    },
    {
     "name": "stdout",
     "output_type": "stream",
     "text": [
      "-0.14801250570208857\n"
     ]
    },
    {
     "name": "stderr",
     "output_type": "stream",
     "text": [
      "61it [02:13,  2.19s/it, bound: 0 | nc: 1 | ncall: 566 | eff(%): 10.777 | loglstar:   -inf < -0.366 <    inf | logz: -2.615 +/-  0.066 | dlogz:  2.525 >  0.509]"
     ]
    },
    {
     "name": "stdout",
     "output_type": "stream",
     "text": [
      "-0.3505248716430708\n"
     ]
    },
    {
     "name": "stderr",
     "output_type": "stream",
     "text": [
      "62it [02:14,  2.07s/it, bound: 0 | nc: 1 | ncall: 567 | eff(%): 10.935 | loglstar:   -inf < -0.366 <    inf | logz: -2.599 +/-  0.066 | dlogz:  2.507 >  0.509]"
     ]
    },
    {
     "name": "stdout",
     "output_type": "stream",
     "text": [
      "-0.1604128825906882\n"
     ]
    },
    {
     "name": "stderr",
     "output_type": "stream",
     "text": [
      "63it [02:16,  2.00s/it, bound: 0 | nc: 1 | ncall: 568 | eff(%): 11.092 | loglstar:   -inf < -0.366 <    inf | logz: -2.582 +/-  0.065 | dlogz:  2.490 >  0.509]"
     ]
    },
    {
     "name": "stdout",
     "output_type": "stream",
     "text": [
      "-0.2929762853719664\n",
      "-0.43634689585144637\n",
      "-0.4276537352692761\n"
     ]
    },
    {
     "name": "stderr",
     "output_type": "stream",
     "text": [
      "64it [02:22,  3.03s/it, bound: 0 | nc: 3 | ncall: 571 | eff(%): 11.208 | loglstar:   -inf < -0.365 <    inf | logz: -2.566 +/-  0.065 | dlogz:  2.473 >  0.509]"
     ]
    },
    {
     "name": "stdout",
     "output_type": "stream",
     "text": [
      "-0.30594501079310005\n"
     ]
    },
    {
     "name": "stderr",
     "output_type": "stream",
     "text": [
      "65it [02:23,  2.69s/it, bound: 0 | nc: 1 | ncall: 572 | eff(%): 11.364 | loglstar:   -inf < -0.364 <    inf | logz: -2.551 +/-  0.065 | dlogz:  2.457 >  0.509]"
     ]
    },
    {
     "name": "stdout",
     "output_type": "stream",
     "text": [
      "-0.19806268285193854\n"
     ]
    },
    {
     "name": "stderr",
     "output_type": "stream",
     "text": [
      "66it [02:25,  2.44s/it, bound: 0 | nc: 1 | ncall: 573 | eff(%): 11.518 | loglstar:   -inf < -0.364 <    inf | logz: -2.535 +/-  0.065 | dlogz:  2.441 >  0.509]"
     ]
    },
    {
     "name": "stdout",
     "output_type": "stream",
     "text": [
      "-0.35664162872073757\n"
     ]
    },
    {
     "name": "stderr",
     "output_type": "stream",
     "text": [
      "67it [02:27,  2.24s/it, bound: 0 | nc: 1 | ncall: 574 | eff(%): 11.672 | loglstar:   -inf < -0.362 <    inf | logz: -2.520 +/-  0.065 | dlogz:  2.425 >  0.509]"
     ]
    },
    {
     "name": "stdout",
     "output_type": "stream",
     "text": [
      "-0.25103638626409386\n"
     ]
    },
    {
     "name": "stderr",
     "output_type": "stream",
     "text": [
      "68it [02:29,  2.12s/it, bound: 0 | nc: 1 | ncall: 575 | eff(%): 11.826 | loglstar:   -inf < -0.361 <    inf | logz: -2.505 +/-  0.064 | dlogz:  2.409 >  0.509]"
     ]
    },
    {
     "name": "stdout",
     "output_type": "stream",
     "text": [
      "-0.25864756295540403\n"
     ]
    },
    {
     "name": "stderr",
     "output_type": "stream",
     "text": [
      "69it [02:31,  2.03s/it, bound: 0 | nc: 1 | ncall: 576 | eff(%): 11.979 | loglstar:   -inf < -0.359 <    inf | logz: -2.490 +/-  0.064 | dlogz:  2.394 >  0.509]"
     ]
    },
    {
     "name": "stdout",
     "output_type": "stream",
     "text": [
      "-0.2460127671091333\n"
     ]
    },
    {
     "name": "stderr",
     "output_type": "stream",
     "text": [
      "70it [02:33,  1.98s/it, bound: 0 | nc: 1 | ncall: 577 | eff(%): 12.132 | loglstar:   -inf < -0.357 <    inf | logz: -2.476 +/-  0.064 | dlogz:  2.378 >  0.509]"
     ]
    },
    {
     "name": "stdout",
     "output_type": "stream",
     "text": [
      "-0.22925276944934667\n"
     ]
    },
    {
     "name": "stderr",
     "output_type": "stream",
     "text": [
      "71it [02:34,  1.93s/it, bound: 0 | nc: 1 | ncall: 578 | eff(%): 12.284 | loglstar:   -inf < -0.357 <    inf | logz: -2.461 +/-  0.064 | dlogz:  2.363 >  0.509]"
     ]
    },
    {
     "name": "stdout",
     "output_type": "stream",
     "text": [
      "-0.2380288585136952\n"
     ]
    },
    {
     "name": "stderr",
     "output_type": "stream",
     "text": [
      "72it [02:36,  1.91s/it, bound: 0 | nc: 1 | ncall: 579 | eff(%): 12.435 | loglstar:   -inf < -0.357 <    inf | logz: -2.447 +/-  0.064 | dlogz:  2.349 >  0.509]"
     ]
    },
    {
     "name": "stdout",
     "output_type": "stream",
     "text": [
      "-0.1129479625097889\n"
     ]
    },
    {
     "name": "stderr",
     "output_type": "stream",
     "text": [
      "73it [02:38,  1.88s/it, bound: 0 | nc: 1 | ncall: 580 | eff(%): 12.586 | loglstar:   -inf < -0.356 <    inf | logz: -2.433 +/-  0.063 | dlogz:  2.334 >  0.509]"
     ]
    },
    {
     "name": "stdout",
     "output_type": "stream",
     "text": [
      "-0.26627346153121806\n"
     ]
    },
    {
     "name": "stderr",
     "output_type": "stream",
     "text": [
      "74it [02:40,  1.86s/it, bound: 0 | nc: 1 | ncall: 581 | eff(%): 12.737 | loglstar:   -inf < -0.356 <    inf | logz: -2.420 +/-  0.063 | dlogz:  2.320 >  0.509]"
     ]
    },
    {
     "name": "stdout",
     "output_type": "stream",
     "text": [
      "-0.2323893674873829\n"
     ]
    },
    {
     "name": "stderr",
     "output_type": "stream",
     "text": [
      "75it [02:42,  1.84s/it, bound: 0 | nc: 1 | ncall: 582 | eff(%): 12.887 | loglstar:   -inf < -0.355 <    inf | logz: -2.406 +/-  0.063 | dlogz:  2.306 >  0.509]"
     ]
    },
    {
     "name": "stdout",
     "output_type": "stream",
     "text": [
      "-0.24713468528129873\n"
     ]
    },
    {
     "name": "stderr",
     "output_type": "stream",
     "text": [
      "76it [02:43,  1.82s/it, bound: 0 | nc: 1 | ncall: 583 | eff(%): 13.036 | loglstar:   -inf < -0.354 <    inf | logz: -2.393 +/-  0.063 | dlogz:  2.292 >  0.509]"
     ]
    },
    {
     "name": "stdout",
     "output_type": "stream",
     "text": [
      "-0.17538317650757787\n",
      "-0.3615418881008385\n"
     ]
    },
    {
     "name": "stderr",
     "output_type": "stream",
     "text": [
      "77it [02:47,  2.39s/it, bound: 0 | nc: 2 | ncall: 585 | eff(%): 13.162 | loglstar:   -inf < -0.352 <    inf | logz: -2.380 +/-  0.063 | dlogz:  2.278 >  0.509]"
     ]
    },
    {
     "name": "stdout",
     "output_type": "stream",
     "text": [
      "-0.22789030120557485\n"
     ]
    },
    {
     "name": "stderr",
     "output_type": "stream",
     "text": [
      "78it [02:49,  2.22s/it, bound: 0 | nc: 1 | ncall: 586 | eff(%): 13.311 | loglstar:   -inf < -0.352 <    inf | logz: -2.367 +/-  0.062 | dlogz:  2.264 >  0.509]"
     ]
    },
    {
     "name": "stdout",
     "output_type": "stream",
     "text": [
      "-0.17020205004125652\n",
      "-0.5073332137840681\n"
     ]
    },
    {
     "name": "stderr",
     "output_type": "stream",
     "text": [
      "79it [02:53,  2.64s/it, bound: 0 | nc: 2 | ncall: 588 | eff(%): 13.435 | loglstar:   -inf < -0.351 <    inf | logz: -2.354 +/-  0.062 | dlogz:  2.251 >  0.509]"
     ]
    },
    {
     "name": "stdout",
     "output_type": "stream",
     "text": [
      "-0.3484004808515667\n"
     ]
    },
    {
     "name": "stderr",
     "output_type": "stream",
     "text": [
      "80it [02:54,  2.39s/it, bound: 0 | nc: 1 | ncall: 589 | eff(%): 13.582 | loglstar:   -inf < -0.351 <    inf | logz: -2.341 +/-  0.062 | dlogz:  2.238 >  0.509]"
     ]
    },
    {
     "name": "stdout",
     "output_type": "stream",
     "text": [
      "-0.24494071973935586\n"
     ]
    },
    {
     "name": "stderr",
     "output_type": "stream",
     "text": [
      "81it [02:56,  2.22s/it, bound: 0 | nc: 1 | ncall: 590 | eff(%): 13.729 | loglstar:   -inf < -0.350 <    inf | logz: -2.329 +/-  0.062 | dlogz:  2.225 >  0.509]"
     ]
    },
    {
     "name": "stdout",
     "output_type": "stream",
     "text": [
      "-0.13442201750470767\n"
     ]
    },
    {
     "name": "stderr",
     "output_type": "stream",
     "text": [
      "82it [02:58,  2.10s/it, bound: 0 | nc: 1 | ncall: 591 | eff(%): 13.875 | loglstar:   -inf < -0.349 <    inf | logz: -2.317 +/-  0.062 | dlogz:  2.212 >  0.509]"
     ]
    },
    {
     "name": "stdout",
     "output_type": "stream",
     "text": [
      "-0.27834238877323775\n"
     ]
    },
    {
     "name": "stderr",
     "output_type": "stream",
     "text": [
      "83it [03:00,  2.02s/it, bound: 0 | nc: 1 | ncall: 592 | eff(%): 14.020 | loglstar:   -inf < -0.349 <    inf | logz: -2.305 +/-  0.061 | dlogz:  2.199 >  0.509]"
     ]
    },
    {
     "name": "stdout",
     "output_type": "stream",
     "text": [
      "-0.34298373516081737\n"
     ]
    },
    {
     "name": "stderr",
     "output_type": "stream",
     "text": [
      "84it [03:02,  1.97s/it, bound: 0 | nc: 1 | ncall: 593 | eff(%): 14.165 | loglstar:   -inf < -0.348 <    inf | logz: -2.293 +/-  0.061 | dlogz:  2.187 >  0.509]"
     ]
    },
    {
     "name": "stdout",
     "output_type": "stream",
     "text": [
      "-0.30165212480106535\n"
     ]
    },
    {
     "name": "stderr",
     "output_type": "stream",
     "text": [
      "85it [03:04,  1.94s/it, bound: 0 | nc: 1 | ncall: 594 | eff(%): 14.310 | loglstar:   -inf < -0.348 <    inf | logz: -2.281 +/-  0.061 | dlogz:  2.175 >  0.509]"
     ]
    },
    {
     "name": "stdout",
     "output_type": "stream",
     "text": [
      "-0.19160252098186917\n"
     ]
    },
    {
     "name": "stderr",
     "output_type": "stream",
     "text": [
      "86it [03:05,  1.90s/it, bound: 0 | nc: 1 | ncall: 595 | eff(%): 14.454 | loglstar:   -inf < -0.347 <    inf | logz: -2.270 +/-  0.061 | dlogz:  2.162 >  0.509]"
     ]
    },
    {
     "name": "stdout",
     "output_type": "stream",
     "text": [
      "-0.2290072589296\n",
      "-0.4675092666113452\n"
     ]
    },
    {
     "name": "stderr",
     "output_type": "stream",
     "text": [
      "87it [03:12,  3.26s/it, bound: 0 | nc: 2 | ncall: 597 | eff(%): 14.573 | loglstar:   -inf < -0.347 <    inf | logz: -2.258 +/-  0.061 | dlogz:  2.150 >  0.509]"
     ]
    },
    {
     "name": "stdout",
     "output_type": "stream",
     "text": [
      "-0.3138631218103511\n"
     ]
    },
    {
     "name": "stderr",
     "output_type": "stream",
     "text": [
      "88it [03:14,  2.87s/it, bound: 0 | nc: 1 | ncall: 598 | eff(%): 14.716 | loglstar:   -inf < -0.345 <    inf | logz: -2.247 +/-  0.061 | dlogz:  2.139 >  0.509]"
     ]
    },
    {
     "name": "stdout",
     "output_type": "stream",
     "text": [
      "-0.23795977032827814\n"
     ]
    },
    {
     "name": "stderr",
     "output_type": "stream",
     "text": [
      "89it [03:16,  2.59s/it, bound: 0 | nc: 1 | ncall: 599 | eff(%): 14.858 | loglstar:   -inf < -0.345 <    inf | logz: -2.236 +/-  0.060 | dlogz:  2.127 >  0.509]"
     ]
    },
    {
     "name": "stdout",
     "output_type": "stream",
     "text": [
      "-0.2868020102147464\n"
     ]
    },
    {
     "name": "stderr",
     "output_type": "stream",
     "text": [
      "90it [03:17,  2.31s/it, bound: 0 | nc: 1 | ncall: 600 | eff(%): 15.000 | loglstar:   -inf < -0.345 <    inf | logz: -2.225 +/-  0.060 | dlogz:  2.115 >  0.509]"
     ]
    },
    {
     "name": "stdout",
     "output_type": "stream",
     "text": [
      "-0.12797713131148725\n"
     ]
    },
    {
     "name": "stderr",
     "output_type": "stream",
     "text": [
      "91it [03:19,  2.12s/it, bound: 0 | nc: 1 | ncall: 601 | eff(%): 15.141 | loglstar:   -inf < -0.345 <    inf | logz: -2.214 +/-  0.060 | dlogz:  2.104 >  0.509]"
     ]
    },
    {
     "name": "stdout",
     "output_type": "stream",
     "text": [
      "-0.2714282819023885\n"
     ]
    },
    {
     "name": "stderr",
     "output_type": "stream",
     "text": [
      "92it [03:21,  1.99s/it, bound: 0 | nc: 1 | ncall: 602 | eff(%): 15.282 | loglstar:   -inf < -0.344 <    inf | logz: -2.203 +/-  0.060 | dlogz:  2.093 >  0.509]"
     ]
    },
    {
     "name": "stdout",
     "output_type": "stream",
     "text": [
      "-0.1885178103324606\n",
      "-0.3762241615175608\n"
     ]
    },
    {
     "name": "stderr",
     "output_type": "stream",
     "text": [
      "93it [03:24,  2.41s/it, bound: 0 | nc: 2 | ncall: 604 | eff(%): 15.397 | loglstar:   -inf < -0.343 <    inf | logz: -2.193 +/-  0.060 | dlogz:  2.081 >  0.509]"
     ]
    },
    {
     "name": "stdout",
     "output_type": "stream",
     "text": [
      "-0.2783364411234657\n"
     ]
    },
    {
     "name": "stderr",
     "output_type": "stream",
     "text": [
      "94it [03:26,  2.20s/it, bound: 0 | nc: 1 | ncall: 605 | eff(%): 15.537 | loglstar:   -inf < -0.343 <    inf | logz: -2.182 +/-  0.060 | dlogz:  2.070 >  0.509]"
     ]
    },
    {
     "name": "stdout",
     "output_type": "stream",
     "text": [
      "-0.21328085676573402\n",
      "-0.3526170374860602\n"
     ]
    },
    {
     "name": "stderr",
     "output_type": "stream",
     "text": [
      "95it [03:29,  2.56s/it, bound: 0 | nc: 2 | ncall: 607 | eff(%): 15.651 | loglstar:   -inf < -0.341 <    inf | logz: -2.172 +/-  0.059 | dlogz:  2.059 >  0.509]"
     ]
    },
    {
     "name": "stdout",
     "output_type": "stream",
     "text": [
      "-0.1495814016252466\n"
     ]
    },
    {
     "name": "stderr",
     "output_type": "stream",
     "text": [
      "96it [03:31,  2.31s/it, bound: 0 | nc: 1 | ncall: 608 | eff(%): 15.789 | loglstar:   -inf < -0.340 <    inf | logz: -2.161 +/-  0.059 | dlogz:  2.049 >  0.509]"
     ]
    },
    {
     "name": "stdout",
     "output_type": "stream",
     "text": [
      "-0.30904999704050296\n"
     ]
    },
    {
     "name": "stderr",
     "output_type": "stream",
     "text": [
      "97it [03:33,  2.12s/it, bound: 0 | nc: 1 | ncall: 609 | eff(%): 15.928 | loglstar:   -inf < -0.340 <    inf | logz: -2.151 +/-  0.059 | dlogz:  2.038 >  0.509]"
     ]
    },
    {
     "name": "stdout",
     "output_type": "stream",
     "text": [
      "-0.20573130149823476\n"
     ]
    },
    {
     "name": "stderr",
     "output_type": "stream",
     "text": [
      "98it [03:34,  2.00s/it, bound: 0 | nc: 1 | ncall: 610 | eff(%): 16.066 | loglstar:   -inf < -0.340 <    inf | logz: -2.141 +/-  0.059 | dlogz:  2.028 >  0.509]"
     ]
    },
    {
     "name": "stdout",
     "output_type": "stream",
     "text": [
      "-0.25240417363241746\n"
     ]
    },
    {
     "name": "stderr",
     "output_type": "stream",
     "text": [
      "99it [03:36,  1.93s/it, bound: 0 | nc: 1 | ncall: 611 | eff(%): 16.203 | loglstar:   -inf < -0.338 <    inf | logz: -2.131 +/-  0.059 | dlogz:  2.017 >  0.509]"
     ]
    },
    {
     "name": "stdout",
     "output_type": "stream",
     "text": [
      "-0.1413103812304093\n"
     ]
    },
    {
     "name": "stderr",
     "output_type": "stream",
     "text": [
      "100it [03:38,  1.86s/it, bound: 0 | nc: 1 | ncall: 612 | eff(%): 16.340 | loglstar:   -inf < -0.336 <    inf | logz: -2.122 +/-  0.059 | dlogz:  2.007 >  0.509]"
     ]
    },
    {
     "name": "stdout",
     "output_type": "stream",
     "text": [
      "-0.2202734640909266\n",
      "-0.33843852632367627\n",
      "-0.3773891223145901\n"
     ]
    },
    {
     "name": "stderr",
     "output_type": "stream",
     "text": [
      "101it [03:43,  2.81s/it, bound: 0 | nc: 3 | ncall: 615 | eff(%): 16.423 | loglstar:   -inf < -0.336 <    inf | logz: -2.112 +/-  0.058 | dlogz:  1.997 >  0.509]"
     ]
    },
    {
     "name": "stdout",
     "output_type": "stream",
     "text": [
      "-0.2349261673882689\n"
     ]
    },
    {
     "name": "stderr",
     "output_type": "stream",
     "text": [
      "102it [03:45,  2.47s/it, bound: 0 | nc: 1 | ncall: 616 | eff(%): 16.558 | loglstar:   -inf < -0.335 <    inf | logz: -2.102 +/-  0.058 | dlogz:  1.986 >  0.509]"
     ]
    },
    {
     "name": "stdout",
     "output_type": "stream",
     "text": [
      "-0.2594017437011652\n"
     ]
    },
    {
     "name": "stderr",
     "output_type": "stream",
     "text": [
      "103it [03:46,  2.26s/it, bound: 0 | nc: 1 | ncall: 617 | eff(%): 16.694 | loglstar:   -inf < -0.334 <    inf | logz: -2.093 +/-  0.058 | dlogz:  1.976 >  0.509]"
     ]
    },
    {
     "name": "stdout",
     "output_type": "stream",
     "text": [
      "-0.12221085939332173\n"
     ]
    },
    {
     "name": "stderr",
     "output_type": "stream",
     "text": [
      "104it [03:48,  2.10s/it, bound: 0 | nc: 1 | ncall: 618 | eff(%): 16.828 | loglstar:   -inf < -0.333 <    inf | logz: -2.083 +/-  0.058 | dlogz:  1.967 >  0.509]"
     ]
    },
    {
     "name": "stdout",
     "output_type": "stream",
     "text": [
      "-0.1645535489881162\n"
     ]
    },
    {
     "name": "stderr",
     "output_type": "stream",
     "text": [
      "105it [03:50,  1.98s/it, bound: 0 | nc: 1 | ncall: 619 | eff(%): 16.963 | loglstar:   -inf < -0.332 <    inf | logz: -2.074 +/-  0.058 | dlogz:  1.957 >  0.509]"
     ]
    },
    {
     "name": "stdout",
     "output_type": "stream",
     "text": [
      "-0.15453115529789177\n"
     ]
    },
    {
     "name": "stderr",
     "output_type": "stream",
     "text": [
      "106it [03:52,  1.90s/it, bound: 0 | nc: 1 | ncall: 620 | eff(%): 17.097 | loglstar:   -inf < -0.331 <    inf | logz: -2.065 +/-  0.058 | dlogz:  1.947 >  0.509]"
     ]
    },
    {
     "name": "stdout",
     "output_type": "stream",
     "text": [
      "-0.20230298618997725\n"
     ]
    },
    {
     "name": "stderr",
     "output_type": "stream",
     "text": [
      "107it [03:53,  1.84s/it, bound: 0 | nc: 1 | ncall: 621 | eff(%): 17.230 | loglstar:   -inf < -0.330 <    inf | logz: -2.056 +/-  0.058 | dlogz:  1.938 >  0.509]"
     ]
    },
    {
     "name": "stdout",
     "output_type": "stream",
     "text": [
      "-0.1960688343221053\n"
     ]
    },
    {
     "name": "stderr",
     "output_type": "stream",
     "text": [
      "108it [03:55,  1.79s/it, bound: 0 | nc: 1 | ncall: 622 | eff(%): 17.363 | loglstar:   -inf < -0.330 <    inf | logz: -2.047 +/-  0.057 | dlogz:  1.928 >  0.509]"
     ]
    },
    {
     "name": "stdout",
     "output_type": "stream",
     "text": [
      "-0.2853253968549235\n"
     ]
    },
    {
     "name": "stderr",
     "output_type": "stream",
     "text": [
      "109it [03:57,  1.76s/it, bound: 0 | nc: 1 | ncall: 623 | eff(%): 17.496 | loglstar:   -inf < -0.329 <    inf | logz: -2.038 +/-  0.057 | dlogz:  1.919 >  0.509]"
     ]
    },
    {
     "name": "stdout",
     "output_type": "stream",
     "text": [
      "-0.22540906459188942\n"
     ]
    },
    {
     "name": "stderr",
     "output_type": "stream",
     "text": [
      "110it [03:58,  1.73s/it, bound: 0 | nc: 1 | ncall: 624 | eff(%): 17.628 | loglstar:   -inf < -0.328 <    inf | logz: -2.029 +/-  0.057 | dlogz:  1.909 >  0.509]"
     ]
    },
    {
     "name": "stdout",
     "output_type": "stream",
     "text": [
      "-0.2839852634766257\n"
     ]
    },
    {
     "name": "stderr",
     "output_type": "stream",
     "text": [
      "111it [04:00,  1.72s/it, bound: 0 | nc: 1 | ncall: 625 | eff(%): 17.760 | loglstar:   -inf < -0.328 <    inf | logz: -2.020 +/-  0.057 | dlogz:  1.900 >  0.509]"
     ]
    },
    {
     "name": "stdout",
     "output_type": "stream",
     "text": [
      "-0.30561931325024944\n",
      "-0.3348470764939866\n"
     ]
    },
    {
     "name": "stderr",
     "output_type": "stream",
     "text": [
      "112it [04:03,  2.24s/it, bound: 0 | nc: 2 | ncall: 627 | eff(%): 17.863 | loglstar:   -inf < -0.327 <    inf | logz: -2.012 +/-  0.057 | dlogz:  1.891 >  0.509]"
     ]
    },
    {
     "name": "stdout",
     "output_type": "stream",
     "text": [
      "-0.2613258796383909\n"
     ]
    },
    {
     "name": "stderr",
     "output_type": "stream",
     "text": [
      "113it [04:05,  2.07s/it, bound: 0 | nc: 1 | ncall: 628 | eff(%): 17.994 | loglstar:   -inf < -0.327 <    inf | logz: -2.003 +/-  0.057 | dlogz:  1.882 >  0.509]"
     ]
    },
    {
     "name": "stdout",
     "output_type": "stream",
     "text": [
      "-0.25307743095876173\n"
     ]
    },
    {
     "name": "stderr",
     "output_type": "stream",
     "text": [
      "114it [04:07,  1.96s/it, bound: 0 | nc: 1 | ncall: 629 | eff(%): 18.124 | loglstar:   -inf < -0.326 <    inf | logz: -1.995 +/-  0.057 | dlogz:  1.873 >  0.509]"
     ]
    },
    {
     "name": "stdout",
     "output_type": "stream",
     "text": [
      "-0.17351531258144356\n",
      "-0.32754850896750365\n"
     ]
    },
    {
     "name": "stderr",
     "output_type": "stream",
     "text": [
      "115it [04:10,  2.41s/it, bound: 0 | nc: 2 | ncall: 631 | eff(%): 18.225 | loglstar:   -inf < -0.326 <    inf | logz: -1.986 +/-  0.056 | dlogz:  1.864 >  0.509]"
     ]
    },
    {
     "name": "stdout",
     "output_type": "stream",
     "text": [
      "-0.1881376933121868\n"
     ]
    },
    {
     "name": "stderr",
     "output_type": "stream",
     "text": [
      "116it [04:12,  2.20s/it, bound: 0 | nc: 1 | ncall: 632 | eff(%): 18.354 | loglstar:   -inf < -0.324 <    inf | logz: -1.978 +/-  0.056 | dlogz:  1.855 >  0.509]"
     ]
    },
    {
     "name": "stdout",
     "output_type": "stream",
     "text": [
      "-0.2462520409587823\n"
     ]
    },
    {
     "name": "stderr",
     "output_type": "stream",
     "text": [
      "117it [04:14,  2.04s/it, bound: 0 | nc: 1 | ncall: 633 | eff(%): 18.483 | loglstar:   -inf < -0.324 <    inf | logz: -1.970 +/-  0.056 | dlogz:  1.847 >  0.509]"
     ]
    },
    {
     "name": "stdout",
     "output_type": "stream",
     "text": [
      "-0.24441377517416782\n"
     ]
    },
    {
     "name": "stderr",
     "output_type": "stream",
     "text": [
      "118it [04:15,  1.93s/it, bound: 0 | nc: 1 | ncall: 634 | eff(%): 18.612 | loglstar:   -inf < -0.323 <    inf | logz: -1.962 +/-  0.056 | dlogz:  1.838 >  0.509]"
     ]
    },
    {
     "name": "stdout",
     "output_type": "stream",
     "text": [
      "-0.28904023374570265\n"
     ]
    },
    {
     "name": "stderr",
     "output_type": "stream",
     "text": [
      "119it [04:17,  1.85s/it, bound: 0 | nc: 1 | ncall: 635 | eff(%): 18.740 | loglstar:   -inf < -0.323 <    inf | logz: -1.953 +/-  0.056 | dlogz:  1.829 >  0.509]"
     ]
    },
    {
     "name": "stdout",
     "output_type": "stream",
     "text": [
      "-0.2465305510212938\n"
     ]
    },
    {
     "name": "stderr",
     "output_type": "stream",
     "text": [
      "120it [04:19,  1.80s/it, bound: 0 | nc: 1 | ncall: 636 | eff(%): 18.868 | loglstar:   -inf < -0.323 <    inf | logz: -1.945 +/-  0.056 | dlogz:  1.821 >  0.509]"
     ]
    },
    {
     "name": "stdout",
     "output_type": "stream",
     "text": [
      "-0.18896057000647937\n",
      "-0.425883842117957\n"
     ]
    },
    {
     "name": "stderr",
     "output_type": "stream",
     "text": [
      "121it [04:22,  2.28s/it, bound: 0 | nc: 2 | ncall: 638 | eff(%): 18.966 | loglstar:   -inf < -0.322 <    inf | logz: -1.937 +/-  0.056 | dlogz:  1.813 >  0.509]"
     ]
    },
    {
     "name": "stdout",
     "output_type": "stream",
     "text": [
      "-0.28086911504071255\n",
      "-0.5004909126834544\n"
     ]
    },
    {
     "name": "stderr",
     "output_type": "stream",
     "text": [
      "122it [04:25,  2.61s/it, bound: 0 | nc: 2 | ncall: 640 | eff(%): 19.062 | loglstar:   -inf < -0.321 <    inf | logz: -1.930 +/-  0.055 | dlogz:  1.804 >  0.509]"
     ]
    },
    {
     "name": "stdout",
     "output_type": "stream",
     "text": [
      "-0.1779799552144848\n"
     ]
    },
    {
     "name": "stderr",
     "output_type": "stream",
     "text": [
      "123it [04:27,  2.34s/it, bound: 0 | nc: 1 | ncall: 641 | eff(%): 19.189 | loglstar:   -inf < -0.320 <    inf | logz: -1.922 +/-  0.055 | dlogz:  1.796 >  0.509]"
     ]
    },
    {
     "name": "stdout",
     "output_type": "stream",
     "text": [
      "-0.2994723393433452\n"
     ]
    },
    {
     "name": "stderr",
     "output_type": "stream",
     "text": [
      "124it [04:29,  2.14s/it, bound: 0 | nc: 1 | ncall: 642 | eff(%): 19.315 | loglstar:   -inf < -0.318 <    inf | logz: -1.914 +/-  0.055 | dlogz:  1.788 >  0.509]"
     ]
    },
    {
     "name": "stdout",
     "output_type": "stream",
     "text": [
      "-0.12995950830980102\n"
     ]
    },
    {
     "name": "stderr",
     "output_type": "stream",
     "text": [
      "125it [04:30,  2.01s/it, bound: 0 | nc: 1 | ncall: 643 | eff(%): 19.440 | loglstar:   -inf < -0.318 <    inf | logz: -1.906 +/-  0.055 | dlogz:  1.780 >  0.509]"
     ]
    },
    {
     "name": "stdout",
     "output_type": "stream",
     "text": [
      "-0.18556355226668422\n"
     ]
    },
    {
     "name": "stderr",
     "output_type": "stream",
     "text": [
      "126it [04:32,  1.92s/it, bound: 0 | nc: 1 | ncall: 644 | eff(%): 19.565 | loglstar:   -inf < -0.317 <    inf | logz: -1.899 +/-  0.055 | dlogz:  1.772 >  0.509]"
     ]
    },
    {
     "name": "stdout",
     "output_type": "stream",
     "text": [
      "-0.22260326773159736\n"
     ]
    },
    {
     "name": "stderr",
     "output_type": "stream",
     "text": [
      "127it [04:34,  1.85s/it, bound: 0 | nc: 1 | ncall: 645 | eff(%): 19.690 | loglstar:   -inf < -0.316 <    inf | logz: -1.891 +/-  0.055 | dlogz:  1.764 >  0.509]"
     ]
    },
    {
     "name": "stdout",
     "output_type": "stream",
     "text": [
      "-0.10201541128804988\n"
     ]
    },
    {
     "name": "stderr",
     "output_type": "stream",
     "text": [
      "128it [04:36,  1.80s/it, bound: 0 | nc: 1 | ncall: 646 | eff(%): 19.814 | loglstar:   -inf < -0.315 <    inf | logz: -1.884 +/-  0.055 | dlogz:  1.756 >  0.509]"
     ]
    },
    {
     "name": "stdout",
     "output_type": "stream",
     "text": [
      "-0.25034691140615767\n"
     ]
    },
    {
     "name": "stderr",
     "output_type": "stream",
     "text": [
      "129it [04:37,  1.76s/it, bound: 0 | nc: 1 | ncall: 647 | eff(%): 19.938 | loglstar:   -inf < -0.315 <    inf | logz: -1.877 +/-  0.055 | dlogz:  1.748 >  0.509]"
     ]
    },
    {
     "name": "stdout",
     "output_type": "stream",
     "text": [
      "-0.295984804152078\n"
     ]
    },
    {
     "name": "stderr",
     "output_type": "stream",
     "text": [
      "130it [04:39,  1.75s/it, bound: 0 | nc: 1 | ncall: 648 | eff(%): 20.062 | loglstar:   -inf < -0.315 <    inf | logz: -1.869 +/-  0.054 | dlogz:  1.740 >  0.509]"
     ]
    },
    {
     "name": "stdout",
     "output_type": "stream",
     "text": [
      "-0.11766489612693211\n"
     ]
    },
    {
     "name": "stderr",
     "output_type": "stream",
     "text": [
      "131it [04:41,  1.73s/it, bound: 0 | nc: 1 | ncall: 649 | eff(%): 20.185 | loglstar:   -inf < -0.314 <    inf | logz: -1.862 +/-  0.054 | dlogz:  1.733 >  0.509]"
     ]
    },
    {
     "name": "stdout",
     "output_type": "stream",
     "text": [
      "-0.23282752986562935\n"
     ]
    },
    {
     "name": "stderr",
     "output_type": "stream",
     "text": [
      "132it [04:42,  1.71s/it, bound: 0 | nc: 1 | ncall: 650 | eff(%): 20.308 | loglstar:   -inf < -0.314 <    inf | logz: -1.855 +/-  0.054 | dlogz:  1.725 >  0.509]"
     ]
    },
    {
     "name": "stdout",
     "output_type": "stream",
     "text": [
      "-0.15540712709439455\n"
     ]
    },
    {
     "name": "stderr",
     "output_type": "stream",
     "text": [
      "133it [04:44,  1.71s/it, bound: 0 | nc: 1 | ncall: 651 | eff(%): 20.430 | loglstar:   -inf < -0.314 <    inf | logz: -1.848 +/-  0.054 | dlogz:  1.718 >  0.509]"
     ]
    },
    {
     "name": "stdout",
     "output_type": "stream",
     "text": [
      "-0.20533879948083406\n"
     ]
    },
    {
     "name": "stderr",
     "output_type": "stream",
     "text": [
      "134it [04:46,  1.70s/it, bound: 0 | nc: 1 | ncall: 652 | eff(%): 20.552 | loglstar:   -inf < -0.312 <    inf | logz: -1.841 +/-  0.054 | dlogz:  1.710 >  0.509]"
     ]
    },
    {
     "name": "stdout",
     "output_type": "stream",
     "text": [
      "-0.15266596404254817\n",
      "-0.4785630131388184\n"
     ]
    },
    {
     "name": "stderr",
     "output_type": "stream",
     "text": [
      "135it [04:49,  2.21s/it, bound: 0 | nc: 2 | ncall: 654 | eff(%): 20.642 | loglstar:   -inf < -0.311 <    inf | logz: -1.833 +/-  0.054 | dlogz:  1.703 >  0.509]"
     ]
    },
    {
     "name": "stdout",
     "output_type": "stream",
     "text": [
      "-0.23490324770240456\n",
      "-0.3652135236600642\n"
     ]
    },
    {
     "name": "stderr",
     "output_type": "stream",
     "text": [
      "136it [04:52,  2.57s/it, bound: 0 | nc: 2 | ncall: 656 | eff(%): 20.732 | loglstar:   -inf < -0.311 <    inf | logz: -1.827 +/-  0.054 | dlogz:  1.695 >  0.509]"
     ]
    },
    {
     "name": "stdout",
     "output_type": "stream",
     "text": [
      "-0.24697304141885348\n"
     ]
    },
    {
     "name": "stderr",
     "output_type": "stream",
     "text": [
      "137it [04:54,  2.30s/it, bound: 0 | nc: 1 | ncall: 657 | eff(%): 20.852 | loglstar:   -inf < -0.310 <    inf | logz: -1.820 +/-  0.054 | dlogz:  1.688 >  0.509]"
     ]
    },
    {
     "name": "stdout",
     "output_type": "stream",
     "text": [
      "-0.23273954829208787\n",
      "-0.4274215837602314\n",
      "-0.3547760955163634\n"
     ]
    },
    {
     "name": "stderr",
     "output_type": "stream",
     "text": [
      "138it [04:59,  3.13s/it, bound: 0 | nc: 3 | ncall: 660 | eff(%): 20.909 | loglstar:   -inf < -0.310 <    inf | logz: -1.813 +/-  0.053 | dlogz:  1.681 >  0.509]"
     ]
    },
    {
     "name": "stdout",
     "output_type": "stream",
     "text": [
      "-0.22817430218858903\n"
     ]
    },
    {
     "name": "stderr",
     "output_type": "stream",
     "text": [
      "139it [05:01,  2.69s/it, bound: 0 | nc: 1 | ncall: 661 | eff(%): 21.029 | loglstar:   -inf < -0.310 <    inf | logz: -1.806 +/-  0.053 | dlogz:  1.674 >  0.509]"
     ]
    },
    {
     "name": "stdout",
     "output_type": "stream",
     "text": [
      "-0.09611811025302108\n"
     ]
    },
    {
     "name": "stderr",
     "output_type": "stream",
     "text": [
      "140it [05:03,  2.40s/it, bound: 0 | nc: 1 | ncall: 662 | eff(%): 21.148 | loglstar:   -inf < -0.310 <    inf | logz: -1.799 +/-  0.053 | dlogz:  1.666 >  0.509]"
     ]
    },
    {
     "name": "stdout",
     "output_type": "stream",
     "text": [
      "-0.17644246190573096\n"
     ]
    },
    {
     "name": "stderr",
     "output_type": "stream",
     "text": [
      "141it [05:04,  2.19s/it, bound: 0 | nc: 1 | ncall: 663 | eff(%): 21.267 | loglstar:   -inf < -0.309 <    inf | logz: -1.793 +/-  0.053 | dlogz:  1.659 >  0.509]"
     ]
    },
    {
     "name": "stdout",
     "output_type": "stream",
     "text": [
      "-0.3085422923681331\n"
     ]
    },
    {
     "name": "stderr",
     "output_type": "stream",
     "text": [
      "142it [05:06,  2.04s/it, bound: 0 | nc: 1 | ncall: 664 | eff(%): 21.386 | loglstar:   -inf < -0.309 <    inf | logz: -1.786 +/-  0.053 | dlogz:  1.652 >  0.509]"
     ]
    },
    {
     "name": "stdout",
     "output_type": "stream",
     "text": [
      "-0.16524494720123256\n"
     ]
    },
    {
     "name": "stderr",
     "output_type": "stream",
     "text": [
      "143it [05:08,  1.93s/it, bound: 0 | nc: 1 | ncall: 665 | eff(%): 21.504 | loglstar:   -inf < -0.309 <    inf | logz: -1.779 +/-  0.053 | dlogz:  1.645 >  0.509]"
     ]
    },
    {
     "name": "stdout",
     "output_type": "stream",
     "text": [
      "-0.22805549806614978\n"
     ]
    },
    {
     "name": "stderr",
     "output_type": "stream",
     "text": [
      "144it [05:09,  1.85s/it, bound: 0 | nc: 1 | ncall: 666 | eff(%): 21.622 | loglstar:   -inf < -0.308 <    inf | logz: -1.773 +/-  0.053 | dlogz:  1.639 >  0.509]"
     ]
    },
    {
     "name": "stdout",
     "output_type": "stream",
     "text": [
      "-0.13071803422984088\n"
     ]
    },
    {
     "name": "stderr",
     "output_type": "stream",
     "text": [
      "145it [05:11,  1.81s/it, bound: 0 | nc: 1 | ncall: 667 | eff(%): 21.739 | loglstar:   -inf < -0.307 <    inf | logz: -1.766 +/-  0.053 | dlogz:  1.632 >  0.509]"
     ]
    },
    {
     "name": "stdout",
     "output_type": "stream",
     "text": [
      "-0.19899523296969054\n"
     ]
    },
    {
     "name": "stderr",
     "output_type": "stream",
     "text": [
      "146it [05:13,  1.77s/it, bound: 0 | nc: 1 | ncall: 668 | eff(%): 21.856 | loglstar:   -inf < -0.307 <    inf | logz: -1.760 +/-  0.053 | dlogz:  1.625 >  0.509]"
     ]
    },
    {
     "name": "stdout",
     "output_type": "stream",
     "text": [
      "-0.30041575779943264\n"
     ]
    },
    {
     "name": "stderr",
     "output_type": "stream",
     "text": [
      "147it [05:15,  1.77s/it, bound: 0 | nc: 1 | ncall: 669 | eff(%): 21.973 | loglstar:   -inf < -0.306 <    inf | logz: -1.754 +/-  0.052 | dlogz:  1.618 >  0.509]"
     ]
    },
    {
     "name": "stdout",
     "output_type": "stream",
     "text": [
      "-0.2524865408256201\n",
      "-0.3936333092309262\n"
     ]
    },
    {
     "name": "stderr",
     "output_type": "stream",
     "text": [
      "148it [05:18,  2.26s/it, bound: 0 | nc: 2 | ncall: 671 | eff(%): 22.057 | loglstar:   -inf < -0.306 <    inf | logz: -1.747 +/-  0.052 | dlogz:  1.611 >  0.509]"
     ]
    },
    {
     "name": "stdout",
     "output_type": "stream",
     "text": [
      "-0.18482854122502812\n"
     ]
    },
    {
     "name": "stderr",
     "output_type": "stream",
     "text": [
      "149it [05:20,  2.09s/it, bound: 0 | nc: 1 | ncall: 672 | eff(%): 22.173 | loglstar:   -inf < -0.306 <    inf | logz: -1.741 +/-  0.052 | dlogz:  1.605 >  0.509]"
     ]
    },
    {
     "name": "stdout",
     "output_type": "stream",
     "text": [
      "-0.23580179414009828\n",
      "-0.3754124147627619\n"
     ]
    },
    {
     "name": "stderr",
     "output_type": "stream",
     "text": [
      "150it [05:23,  2.47s/it, bound: 0 | nc: 2 | ncall: 674 | eff(%): 22.255 | loglstar:   -inf < -0.305 <    inf | logz: -1.735 +/-  0.052 | dlogz:  1.598 >  0.509]"
     ]
    },
    {
     "name": "stdout",
     "output_type": "stream",
     "text": [
      "-0.07481491593929109\n"
     ]
    },
    {
     "name": "stderr",
     "output_type": "stream",
     "text": [
      "151it [05:25,  2.23s/it, bound: 0 | nc: 1 | ncall: 675 | eff(%): 22.370 | loglstar:   -inf < -0.304 <    inf | logz: -1.729 +/-  0.052 | dlogz:  1.592 >  0.509]"
     ]
    },
    {
     "name": "stdout",
     "output_type": "stream",
     "text": [
      "-0.19660716966894035\n"
     ]
    },
    {
     "name": "stderr",
     "output_type": "stream",
     "text": [
      "152it [05:26,  2.10s/it, bound: 0 | nc: 1 | ncall: 676 | eff(%): 22.485 | loglstar:   -inf < -0.303 <    inf | logz: -1.723 +/-  0.052 | dlogz:  1.585 >  0.509]"
     ]
    },
    {
     "name": "stdout",
     "output_type": "stream",
     "text": [
      "-0.25321169735278837\n"
     ]
    },
    {
     "name": "stderr",
     "output_type": "stream",
     "text": [
      "153it [05:28,  1.97s/it, bound: 0 | nc: 1 | ncall: 677 | eff(%): 22.600 | loglstar:   -inf < -0.303 <    inf | logz: -1.717 +/-  0.052 | dlogz:  1.579 >  0.509]"
     ]
    },
    {
     "name": "stdout",
     "output_type": "stream",
     "text": [
      "-0.1950730062027967\n"
     ]
    },
    {
     "name": "stderr",
     "output_type": "stream",
     "text": [
      "154it [05:30,  1.89s/it, bound: 0 | nc: 1 | ncall: 678 | eff(%): 22.714 | loglstar:   -inf < -0.302 <    inf | logz: -1.711 +/-  0.052 | dlogz:  1.572 >  0.509]"
     ]
    },
    {
     "name": "stdout",
     "output_type": "stream",
     "text": [
      "-0.17268701600448527\n"
     ]
    },
    {
     "name": "stderr",
     "output_type": "stream",
     "text": [
      "155it [05:31,  1.83s/it, bound: 0 | nc: 1 | ncall: 679 | eff(%): 22.828 | loglstar:   -inf < -0.301 <    inf | logz: -1.705 +/-  0.052 | dlogz:  1.566 >  0.509]"
     ]
    },
    {
     "name": "stdout",
     "output_type": "stream",
     "text": [
      "-0.2092082942612572\n"
     ]
    },
    {
     "name": "stderr",
     "output_type": "stream",
     "text": [
      "156it [05:33,  1.79s/it, bound: 0 | nc: 1 | ncall: 680 | eff(%): 22.941 | loglstar:   -inf < -0.301 <    inf | logz: -1.699 +/-  0.051 | dlogz:  1.560 >  0.509]"
     ]
    },
    {
     "name": "stdout",
     "output_type": "stream",
     "text": [
      "-0.17131784015573198\n"
     ]
    },
    {
     "name": "stderr",
     "output_type": "stream",
     "text": [
      "157it [05:35,  1.76s/it, bound: 0 | nc: 1 | ncall: 681 | eff(%): 23.054 | loglstar:   -inf < -0.301 <    inf | logz: -1.693 +/-  0.051 | dlogz:  1.553 >  0.509]"
     ]
    },
    {
     "name": "stdout",
     "output_type": "stream",
     "text": [
      "-0.2713918216812482\n"
     ]
    },
    {
     "name": "stderr",
     "output_type": "stream",
     "text": [
      "158it [05:37,  1.73s/it, bound: 0 | nc: 1 | ncall: 682 | eff(%): 23.167 | loglstar:   -inf < -0.301 <    inf | logz: -1.687 +/-  0.051 | dlogz:  1.547 >  0.509]"
     ]
    },
    {
     "name": "stdout",
     "output_type": "stream",
     "text": [
      "-0.1936238263520616\n"
     ]
    },
    {
     "name": "stderr",
     "output_type": "stream",
     "text": [
      "159it [05:38,  1.71s/it, bound: 0 | nc: 1 | ncall: 683 | eff(%): 23.280 | loglstar:   -inf < -0.300 <    inf | logz: -1.681 +/-  0.051 | dlogz:  1.541 >  0.509]"
     ]
    },
    {
     "name": "stdout",
     "output_type": "stream",
     "text": [
      "-0.15754809863446417\n",
      "-0.3136792588217169\n"
     ]
    },
    {
     "name": "stderr",
     "output_type": "stream",
     "text": [
      "160it [05:42,  2.22s/it, bound: 0 | nc: 2 | ncall: 685 | eff(%): 23.358 | loglstar:   -inf < -0.300 <    inf | logz: -1.675 +/-  0.051 | dlogz:  1.535 >  0.509]"
     ]
    },
    {
     "name": "stdout",
     "output_type": "stream",
     "text": [
      "-0.22268755828760448\n"
     ]
    },
    {
     "name": "stderr",
     "output_type": "stream",
     "text": [
      "161it [05:43,  2.05s/it, bound: 0 | nc: 1 | ncall: 686 | eff(%): 23.469 | loglstar:   -inf < -0.300 <    inf | logz: -1.670 +/-  0.051 | dlogz:  1.529 >  0.509]"
     ]
    },
    {
     "name": "stdout",
     "output_type": "stream",
     "text": [
      "-0.27040489610265644\n"
     ]
    },
    {
     "name": "stderr",
     "output_type": "stream",
     "text": [
      "162it [05:45,  1.94s/it, bound: 0 | nc: 1 | ncall: 687 | eff(%): 23.581 | loglstar:   -inf < -0.300 <    inf | logz: -1.664 +/-  0.051 | dlogz:  1.523 >  0.509]"
     ]
    },
    {
     "name": "stdout",
     "output_type": "stream",
     "text": [
      "-0.24914934451359744\n",
      "-0.30696231186351347\n",
      "-0.3364438246250838\n"
     ]
    },
    {
     "name": "stderr",
     "output_type": "stream",
     "text": [
      "163it [05:50,  2.89s/it, bound: 0 | nc: 3 | ncall: 690 | eff(%): 23.623 | loglstar:   -inf < -0.299 <    inf | logz: -1.658 +/-  0.051 | dlogz:  1.517 >  0.509]"
     ]
    },
    {
     "name": "stdout",
     "output_type": "stream",
     "text": [
      "-0.25369687046446066\n"
     ]
    },
    {
     "name": "stderr",
     "output_type": "stream",
     "text": [
      "164it [05:52,  2.52s/it, bound: 0 | nc: 1 | ncall: 691 | eff(%): 23.734 | loglstar:   -inf < -0.299 <    inf | logz: -1.653 +/-  0.051 | dlogz:  1.511 >  0.509]"
     ]
    },
    {
     "name": "stdout",
     "output_type": "stream",
     "text": [
      "-0.1699571603185043\n"
     ]
    },
    {
     "name": "stderr",
     "output_type": "stream",
     "text": [
      "165it [05:53,  2.27s/it, bound: 0 | nc: 1 | ncall: 692 | eff(%): 23.844 | loglstar:   -inf < -0.299 <    inf | logz: -1.647 +/-  0.050 | dlogz:  1.505 >  0.509]"
     ]
    },
    {
     "name": "stdout",
     "output_type": "stream",
     "text": [
      "-0.29782467207159125\n"
     ]
    },
    {
     "name": "stderr",
     "output_type": "stream",
     "text": [
      "166it [05:58,  2.92s/it, bound: 0 | nc: 1 | ncall: 693 | eff(%): 23.954 | loglstar:   -inf < -0.298 <    inf | logz: -1.642 +/-  0.050 | dlogz:  1.499 >  0.509]"
     ]
    },
    {
     "name": "stdout",
     "output_type": "stream",
     "text": [
      "-0.1231707813265159\n"
     ]
    },
    {
     "name": "stderr",
     "output_type": "stream",
     "text": [
      "167it [05:59,  2.55s/it, bound: 0 | nc: 1 | ncall: 694 | eff(%): 24.063 | loglstar:   -inf < -0.298 <    inf | logz: -1.636 +/-  0.050 | dlogz:  1.493 >  0.509]"
     ]
    },
    {
     "name": "stdout",
     "output_type": "stream",
     "text": [
      "-0.1991317324422574\n"
     ]
    },
    {
     "name": "stderr",
     "output_type": "stream",
     "text": [
      "168it [06:01,  2.29s/it, bound: 0 | nc: 1 | ncall: 695 | eff(%): 24.173 | loglstar:   -inf < -0.298 <    inf | logz: -1.631 +/-  0.050 | dlogz:  1.487 >  0.509]"
     ]
    },
    {
     "name": "stdout",
     "output_type": "stream",
     "text": [
      "-0.1639811683746998\n"
     ]
    },
    {
     "name": "stderr",
     "output_type": "stream",
     "text": [
      "169it [06:03,  2.11s/it, bound: 0 | nc: 1 | ncall: 696 | eff(%): 24.282 | loglstar:   -inf < -0.297 <    inf | logz: -1.625 +/-  0.050 | dlogz:  1.482 >  0.509]"
     ]
    },
    {
     "name": "stdout",
     "output_type": "stream",
     "text": [
      "-0.22159734456563981\n"
     ]
    },
    {
     "name": "stderr",
     "output_type": "stream",
     "text": [
      "170it [06:05,  1.98s/it, bound: 0 | nc: 1 | ncall: 697 | eff(%): 24.390 | loglstar:   -inf < -0.297 <    inf | logz: -1.620 +/-  0.050 | dlogz:  1.476 >  0.509]"
     ]
    },
    {
     "name": "stdout",
     "output_type": "stream",
     "text": [
      "-0.13517065546934512\n"
     ]
    },
    {
     "name": "stderr",
     "output_type": "stream",
     "text": [
      "171it [06:06,  1.89s/it, bound: 0 | nc: 1 | ncall: 698 | eff(%): 24.499 | loglstar:   -inf < -0.296 <    inf | logz: -1.615 +/-  0.050 | dlogz:  1.470 >  0.509]"
     ]
    },
    {
     "name": "stdout",
     "output_type": "stream",
     "text": [
      "-0.18158540984462063\n"
     ]
    },
    {
     "name": "stderr",
     "output_type": "stream",
     "text": [
      "172it [06:08,  1.83s/it, bound: 0 | nc: 1 | ncall: 699 | eff(%): 24.607 | loglstar:   -inf < -0.296 <    inf | logz: -1.609 +/-  0.050 | dlogz:  1.465 >  0.509]"
     ]
    },
    {
     "name": "stdout",
     "output_type": "stream",
     "text": [
      "-0.24996985217344933\n"
     ]
    },
    {
     "name": "stderr",
     "output_type": "stream",
     "text": [
      "173it [06:10,  1.81s/it, bound: 0 | nc: 1 | ncall: 700 | eff(%): 24.714 | loglstar:   -inf < -0.296 <    inf | logz: -1.604 +/-  0.050 | dlogz:  1.459 >  0.509]"
     ]
    },
    {
     "name": "stdout",
     "output_type": "stream",
     "text": [
      "-0.10460627445458875\n"
     ]
    },
    {
     "name": "stderr",
     "output_type": "stream",
     "text": [
      "174it [06:11,  1.77s/it, bound: 0 | nc: 1 | ncall: 701 | eff(%): 24.822 | loglstar:   -inf < -0.295 <    inf | logz: -1.599 +/-  0.050 | dlogz:  1.453 >  0.509]"
     ]
    },
    {
     "name": "stdout",
     "output_type": "stream",
     "text": [
      "-0.24801444016243032\n",
      "-0.38238092239964033\n"
     ]
    },
    {
     "name": "stderr",
     "output_type": "stream",
     "text": [
      "175it [06:15,  2.27s/it, bound: 0 | nc: 2 | ncall: 703 | eff(%): 24.893 | loglstar:   -inf < -0.294 <    inf | logz: -1.594 +/-  0.049 | dlogz:  1.448 >  0.509]"
     ]
    },
    {
     "name": "stdout",
     "output_type": "stream",
     "text": [
      "-0.15845203997138105\n"
     ]
    },
    {
     "name": "stderr",
     "output_type": "stream",
     "text": [
      "176it [06:16,  2.09s/it, bound: 0 | nc: 1 | ncall: 704 | eff(%): 25.000 | loglstar:   -inf < -0.294 <    inf | logz: -1.589 +/-  0.049 | dlogz:  1.442 >  0.509]"
     ]
    },
    {
     "name": "stdout",
     "output_type": "stream",
     "text": [
      "-0.1525507031332996\n"
     ]
    },
    {
     "name": "stderr",
     "output_type": "stream",
     "text": [
      "177it [06:18,  1.96s/it, bound: 0 | nc: 1 | ncall: 705 | eff(%): 25.106 | loglstar:   -inf < -0.294 <    inf | logz: -1.583 +/-  0.049 | dlogz:  1.437 >  0.509]"
     ]
    },
    {
     "name": "stdout",
     "output_type": "stream",
     "text": [
      "-0.07933554629269068\n"
     ]
    },
    {
     "name": "stderr",
     "output_type": "stream",
     "text": [
      "178it [06:20,  1.88s/it, bound: 0 | nc: 1 | ncall: 706 | eff(%): 25.212 | loglstar:   -inf < -0.293 <    inf | logz: -1.578 +/-  0.049 | dlogz:  1.432 >  0.509]"
     ]
    },
    {
     "name": "stdout",
     "output_type": "stream",
     "text": [
      "-0.19389566536584643\n"
     ]
    },
    {
     "name": "stderr",
     "output_type": "stream",
     "text": [
      "179it [06:21,  1.82s/it, bound: 0 | nc: 1 | ncall: 707 | eff(%): 25.318 | loglstar:   -inf < -0.293 <    inf | logz: -1.573 +/-  0.049 | dlogz:  1.426 >  0.509]"
     ]
    },
    {
     "name": "stdout",
     "output_type": "stream",
     "text": [
      "-0.12314924189566463\n"
     ]
    },
    {
     "name": "stderr",
     "output_type": "stream",
     "text": [
      "180it [06:23,  1.78s/it, bound: 0 | nc: 1 | ncall: 708 | eff(%): 25.424 | loglstar:   -inf < -0.293 <    inf | logz: -1.568 +/-  0.049 | dlogz:  1.421 >  0.509]"
     ]
    },
    {
     "name": "stdout",
     "output_type": "stream",
     "text": [
      "-0.2445076989431659\n",
      "-0.3761031167153546\n"
     ]
    },
    {
     "name": "stderr",
     "output_type": "stream",
     "text": [
      "181it [06:27,  2.25s/it, bound: 0 | nc: 2 | ncall: 710 | eff(%): 25.493 | loglstar:   -inf < -0.293 <    inf | logz: -1.563 +/-  0.049 | dlogz:  1.416 >  0.509]"
     ]
    },
    {
     "name": "stdout",
     "output_type": "stream",
     "text": [
      "-0.26143824043725095\n",
      "-0.4803403725771284\n"
     ]
    },
    {
     "name": "stderr",
     "output_type": "stream",
     "text": [
      "182it [06:30,  2.59s/it, bound: 0 | nc: 2 | ncall: 712 | eff(%): 25.562 | loglstar:   -inf < -0.293 <    inf | logz: -1.558 +/-  0.049 | dlogz:  1.410 >  0.509]"
     ]
    },
    {
     "name": "stdout",
     "output_type": "stream",
     "text": [
      "-0.08162410078894246\n"
     ]
    },
    {
     "name": "stderr",
     "output_type": "stream",
     "text": [
      "183it [06:32,  2.32s/it, bound: 0 | nc: 1 | ncall: 713 | eff(%): 25.666 | loglstar:   -inf < -0.292 <    inf | logz: -1.553 +/-  0.049 | dlogz:  1.405 >  0.509]"
     ]
    },
    {
     "name": "stdout",
     "output_type": "stream",
     "text": [
      "-0.12663457632123984\n"
     ]
    },
    {
     "name": "stderr",
     "output_type": "stream",
     "text": [
      "184it [06:33,  2.15s/it, bound: 0 | nc: 1 | ncall: 714 | eff(%): 25.770 | loglstar:   -inf < -0.292 <    inf | logz: -1.549 +/-  0.049 | dlogz:  1.400 >  0.509]"
     ]
    },
    {
     "name": "stdout",
     "output_type": "stream",
     "text": [
      "-0.24345141352766894\n",
      "-0.31890402457859535\n",
      "-0.36299689118940703\n"
     ]
    },
    {
     "name": "stderr",
     "output_type": "stream",
     "text": [
      "185it [06:38,  3.03s/it, bound: 0 | nc: 3 | ncall: 717 | eff(%): 25.802 | loglstar:   -inf < -0.292 <    inf | logz: -1.544 +/-  0.049 | dlogz:  1.395 >  0.509]"
     ]
    },
    {
     "name": "stdout",
     "output_type": "stream",
     "text": [
      "-0.2507946272404695\n",
      "-0.34701535879687134\n"
     ]
    },
    {
     "name": "stderr",
     "output_type": "stream",
     "text": [
      "186it [06:42,  3.12s/it, bound: 0 | nc: 2 | ncall: 719 | eff(%): 25.869 | loglstar:   -inf < -0.291 <    inf | logz: -1.539 +/-  0.048 | dlogz:  1.390 >  0.509]"
     ]
    },
    {
     "name": "stdout",
     "output_type": "stream",
     "text": [
      "-0.2795515448756706\n"
     ]
    },
    {
     "name": "stderr",
     "output_type": "stream",
     "text": [
      "187it [06:43,  2.69s/it, bound: 0 | nc: 1 | ncall: 720 | eff(%): 25.972 | loglstar:   -inf < -0.291 <    inf | logz: -1.534 +/-  0.048 | dlogz:  1.384 >  0.509]"
     ]
    },
    {
     "name": "stdout",
     "output_type": "stream",
     "text": [
      "-0.20694555012372837\n"
     ]
    },
    {
     "name": "stderr",
     "output_type": "stream",
     "text": [
      "188it [06:45,  2.41s/it, bound: 0 | nc: 1 | ncall: 721 | eff(%): 26.075 | loglstar:   -inf < -0.291 <    inf | logz: -1.529 +/-  0.048 | dlogz:  1.379 >  0.509]"
     ]
    },
    {
     "name": "stdout",
     "output_type": "stream",
     "text": [
      "-0.26068958947467147\n"
     ]
    },
    {
     "name": "stderr",
     "output_type": "stream",
     "text": [
      "189it [06:47,  2.18s/it, bound: 0 | nc: 1 | ncall: 722 | eff(%): 26.177 | loglstar:   -inf < -0.291 <    inf | logz: -1.525 +/-  0.048 | dlogz:  1.374 >  0.509]"
     ]
    },
    {
     "name": "stdout",
     "output_type": "stream",
     "text": [
      "-0.19886286158139446\n"
     ]
    },
    {
     "name": "stderr",
     "output_type": "stream",
     "text": [
      "190it [06:49,  2.04s/it, bound: 0 | nc: 1 | ncall: 723 | eff(%): 26.279 | loglstar:   -inf < -0.291 <    inf | logz: -1.520 +/-  0.048 | dlogz:  1.369 >  0.509]"
     ]
    },
    {
     "name": "stdout",
     "output_type": "stream",
     "text": [
      "-0.17647310703269162\n"
     ]
    },
    {
     "name": "stderr",
     "output_type": "stream",
     "text": [
      "191it [06:50,  1.94s/it, bound: 0 | nc: 1 | ncall: 724 | eff(%): 26.381 | loglstar:   -inf < -0.291 <    inf | logz: -1.515 +/-  0.048 | dlogz:  1.364 >  0.509]"
     ]
    },
    {
     "name": "stdout",
     "output_type": "stream",
     "text": [
      "-0.2850129505238297\n"
     ]
    },
    {
     "name": "stderr",
     "output_type": "stream",
     "text": [
      "192it [06:52,  1.86s/it, bound: 0 | nc: 1 | ncall: 725 | eff(%): 26.483 | loglstar:   -inf < -0.290 <    inf | logz: -1.511 +/-  0.048 | dlogz:  1.359 >  0.509]"
     ]
    },
    {
     "name": "stdout",
     "output_type": "stream",
     "text": [
      "-0.2144383172641038\n"
     ]
    },
    {
     "name": "stderr",
     "output_type": "stream",
     "text": [
      "193it [06:54,  1.81s/it, bound: 0 | nc: 1 | ncall: 726 | eff(%): 26.584 | loglstar:   -inf < -0.290 <    inf | logz: -1.506 +/-  0.048 | dlogz:  1.354 >  0.509]"
     ]
    },
    {
     "name": "stdout",
     "output_type": "stream",
     "text": [
      "-0.2750935576038039\n"
     ]
    },
    {
     "name": "stderr",
     "output_type": "stream",
     "text": [
      "194it [06:55,  1.77s/it, bound: 0 | nc: 1 | ncall: 727 | eff(%): 26.685 | loglstar:   -inf < -0.289 <    inf | logz: -1.502 +/-  0.048 | dlogz:  1.350 >  0.509]"
     ]
    },
    {
     "name": "stdout",
     "output_type": "stream",
     "text": [
      "-0.16065288873123088\n",
      "-0.3718781732319275\n",
      "-0.3182445360618803\n"
     ]
    },
    {
     "name": "stderr",
     "output_type": "stream",
     "text": [
      "195it [07:00,  2.77s/it, bound: 0 | nc: 3 | ncall: 730 | eff(%): 26.712 | loglstar:   -inf < -0.287 <    inf | logz: -1.497 +/-  0.048 | dlogz:  1.345 >  0.509]"
     ]
    },
    {
     "name": "stdout",
     "output_type": "stream",
     "text": [
      "-0.1943151111658454\n"
     ]
    },
    {
     "name": "stderr",
     "output_type": "stream",
     "text": [
      "196it [07:02,  2.44s/it, bound: 0 | nc: 1 | ncall: 731 | eff(%): 26.813 | loglstar:   -inf < -0.287 <    inf | logz: -1.492 +/-  0.048 | dlogz:  1.340 >  0.509]"
     ]
    },
    {
     "name": "stdout",
     "output_type": "stream",
     "text": [
      "-0.25823254469898893\n"
     ]
    },
    {
     "name": "stderr",
     "output_type": "stream",
     "text": [
      "197it [07:04,  2.23s/it, bound: 0 | nc: 1 | ncall: 732 | eff(%): 26.913 | loglstar:   -inf < -0.287 <    inf | logz: -1.488 +/-  0.047 | dlogz:  1.335 >  0.509]"
     ]
    },
    {
     "name": "stdout",
     "output_type": "stream",
     "text": [
      "-0.2433149306795434\n",
      "-0.4028459404172262\n"
     ]
    },
    {
     "name": "stderr",
     "output_type": "stream",
     "text": [
      "198it [07:07,  2.57s/it, bound: 0 | nc: 2 | ncall: 734 | eff(%): 26.975 | loglstar:   -inf < -0.287 <    inf | logz: -1.483 +/-  0.047 | dlogz:  1.330 >  0.509]"
     ]
    },
    {
     "name": "stdout",
     "output_type": "stream",
     "text": [
      "-0.2500527399196551\n"
     ]
    },
    {
     "name": "stderr",
     "output_type": "stream",
     "text": [
      "199it [07:09,  2.30s/it, bound: 0 | nc: 1 | ncall: 735 | eff(%): 27.075 | loglstar:   -inf < -0.287 <    inf | logz: -1.479 +/-  0.047 | dlogz:  1.325 >  0.509]"
     ]
    },
    {
     "name": "stdout",
     "output_type": "stream",
     "text": [
      "-0.24564792173858424\n",
      "-0.37424454644785626\n",
      "-0.40446887661136677\n",
      "-0.4219719187046869\n"
     ]
    },
    {
     "name": "stderr",
     "output_type": "stream",
     "text": [
      "200it [07:16,  3.64s/it, bound: 0 | nc: 4 | ncall: 739 | eff(%): 27.064 | loglstar:   -inf < -0.286 <    inf | logz: -1.475 +/-  0.047 | dlogz:  1.321 >  0.509]"
     ]
    },
    {
     "name": "stdout",
     "output_type": "stream",
     "text": [
      "-0.2838337324360462\n",
      "-0.34551956861525457\n",
      "-0.32353065788227614\n"
     ]
    },
    {
     "name": "stderr",
     "output_type": "stream",
     "text": [
      "201it [07:21,  4.05s/it, bound: 0 | nc: 3 | ncall: 742 | eff(%): 27.089 | loglstar:   -inf < -0.285 <    inf | logz: -1.470 +/-  0.047 | dlogz:  1.316 >  0.509]"
     ]
    },
    {
     "name": "stdout",
     "output_type": "stream",
     "text": [
      "-0.2487312094752779\n"
     ]
    },
    {
     "name": "stderr",
     "output_type": "stream",
     "text": [
      "202it [07:22,  3.33s/it, bound: 0 | nc: 1 | ncall: 743 | eff(%): 27.187 | loglstar:   -inf < -0.285 <    inf | logz: -1.466 +/-  0.047 | dlogz:  1.311 >  0.509]"
     ]
    },
    {
     "name": "stdout",
     "output_type": "stream",
     "text": [
      "-0.28135279157050286\n"
     ]
    },
    {
     "name": "stderr",
     "output_type": "stream",
     "text": [
      "203it [07:24,  2.84s/it, bound: 0 | nc: 1 | ncall: 744 | eff(%): 27.285 | loglstar:   -inf < -0.285 <    inf | logz: -1.462 +/-  0.047 | dlogz:  1.307 >  0.509]"
     ]
    },
    {
     "name": "stdout",
     "output_type": "stream",
     "text": [
      "-0.24626447522475114\n"
     ]
    },
    {
     "name": "stderr",
     "output_type": "stream",
     "text": [
      "204it [07:26,  2.50s/it, bound: 0 | nc: 1 | ncall: 745 | eff(%): 27.383 | loglstar:   -inf < -0.285 <    inf | logz: -1.457 +/-  0.047 | dlogz:  1.302 >  0.509]"
     ]
    },
    {
     "name": "stdout",
     "output_type": "stream",
     "text": [
      "-0.16720512441527452\n"
     ]
    },
    {
     "name": "stderr",
     "output_type": "stream",
     "text": [
      "205it [07:27,  2.26s/it, bound: 0 | nc: 1 | ncall: 746 | eff(%): 27.480 | loglstar:   -inf < -0.284 <    inf | logz: -1.453 +/-  0.047 | dlogz:  1.298 >  0.509]"
     ]
    },
    {
     "name": "stdout",
     "output_type": "stream",
     "text": [
      "-0.23775425562436373\n",
      "-0.4446224675644149\n"
     ]
    },
    {
     "name": "stderr",
     "output_type": "stream",
     "text": [
      "206it [07:31,  2.59s/it, bound: 0 | nc: 2 | ncall: 748 | eff(%): 27.540 | loglstar:   -inf < -0.284 <    inf | logz: -1.449 +/-  0.047 | dlogz:  1.293 >  0.509]"
     ]
    },
    {
     "name": "stdout",
     "output_type": "stream",
     "text": [
      "-0.2765191699795348\n"
     ]
    },
    {
     "name": "stderr",
     "output_type": "stream",
     "text": [
      "207it [07:32,  2.32s/it, bound: 0 | nc: 1 | ncall: 749 | eff(%): 27.637 | loglstar:   -inf < -0.284 <    inf | logz: -1.444 +/-  0.047 | dlogz:  1.288 >  0.509]"
     ]
    },
    {
     "name": "stdout",
     "output_type": "stream",
     "text": [
      "-0.10779634550621027\n"
     ]
    },
    {
     "name": "stderr",
     "output_type": "stream",
     "text": [
      "208it [07:34,  2.13s/it, bound: 0 | nc: 1 | ncall: 750 | eff(%): 27.733 | loglstar:   -inf < -0.282 <    inf | logz: -1.440 +/-  0.047 | dlogz:  1.284 >  0.509]"
     ]
    },
    {
     "name": "stdout",
     "output_type": "stream",
     "text": [
      "-0.11711175400437474\n"
     ]
    },
    {
     "name": "stderr",
     "output_type": "stream",
     "text": [
      "209it [07:36,  2.00s/it, bound: 0 | nc: 1 | ncall: 751 | eff(%): 27.830 | loglstar:   -inf < -0.282 <    inf | logz: -1.436 +/-  0.046 | dlogz:  1.279 >  0.509]"
     ]
    },
    {
     "name": "stdout",
     "output_type": "stream",
     "text": [
      "-0.10269222297937192\n"
     ]
    },
    {
     "name": "stderr",
     "output_type": "stream",
     "text": [
      "210it [07:38,  1.91s/it, bound: 0 | nc: 1 | ncall: 752 | eff(%): 27.926 | loglstar:   -inf < -0.281 <    inf | logz: -1.432 +/-  0.046 | dlogz:  1.275 >  0.509]"
     ]
    },
    {
     "name": "stdout",
     "output_type": "stream",
     "text": [
      "-0.2008496614920088\n"
     ]
    },
    {
     "name": "stderr",
     "output_type": "stream",
     "text": [
      "211it [07:39,  1.84s/it, bound: 0 | nc: 1 | ncall: 753 | eff(%): 28.021 | loglstar:   -inf < -0.281 <    inf | logz: -1.428 +/-  0.046 | dlogz:  1.271 >  0.509]"
     ]
    },
    {
     "name": "stdout",
     "output_type": "stream",
     "text": [
      "-0.18251582141486467\n"
     ]
    },
    {
     "name": "stderr",
     "output_type": "stream",
     "text": [
      "212it [07:41,  1.79s/it, bound: 0 | nc: 1 | ncall: 754 | eff(%): 28.117 | loglstar:   -inf < -0.281 <    inf | logz: -1.424 +/-  0.046 | dlogz:  1.266 >  0.509]"
     ]
    },
    {
     "name": "stdout",
     "output_type": "stream",
     "text": [
      "-0.23819436862088378\n"
     ]
    },
    {
     "name": "stderr",
     "output_type": "stream",
     "text": [
      "213it [07:43,  1.76s/it, bound: 0 | nc: 1 | ncall: 755 | eff(%): 28.212 | loglstar:   -inf < -0.281 <    inf | logz: -1.420 +/-  0.046 | dlogz:  1.262 >  0.509]"
     ]
    },
    {
     "name": "stdout",
     "output_type": "stream",
     "text": [
      "-0.21819414334697534\n"
     ]
    },
    {
     "name": "stderr",
     "output_type": "stream",
     "text": [
      "214it [07:44,  1.73s/it, bound: 0 | nc: 1 | ncall: 756 | eff(%): 28.307 | loglstar:   -inf < -0.281 <    inf | logz: -1.416 +/-  0.046 | dlogz:  1.257 >  0.509]"
     ]
    },
    {
     "name": "stdout",
     "output_type": "stream",
     "text": [
      "-0.23575863833616836\n",
      "-0.4472316412672459\n"
     ]
    },
    {
     "name": "stderr",
     "output_type": "stream",
     "text": [
      "215it [07:48,  2.23s/it, bound: 0 | nc: 2 | ncall: 758 | eff(%): 28.364 | loglstar:   -inf < -0.280 <    inf | logz: -1.411 +/-  0.046 | dlogz:  1.253 >  0.509]"
     ]
    },
    {
     "name": "stdout",
     "output_type": "stream",
     "text": [
      "-0.149857491547415\n",
      "-0.31101608773508416\n"
     ]
    },
    {
     "name": "stderr",
     "output_type": "stream",
     "text": [
      "216it [07:51,  2.57s/it, bound: 0 | nc: 2 | ncall: 760 | eff(%): 28.421 | loglstar:   -inf < -0.280 <    inf | logz: -1.407 +/-  0.046 | dlogz:  1.249 >  0.509]"
     ]
    },
    {
     "name": "stdout",
     "output_type": "stream",
     "text": [
      "-0.20239978922255936\n"
     ]
    },
    {
     "name": "stderr",
     "output_type": "stream",
     "text": [
      "217it [07:53,  2.30s/it, bound: 0 | nc: 1 | ncall: 761 | eff(%): 28.515 | loglstar:   -inf < -0.280 <    inf | logz: -1.403 +/-  0.046 | dlogz:  1.245 >  0.509]"
     ]
    },
    {
     "name": "stdout",
     "output_type": "stream",
     "text": [
      "-0.1765447429157776\n"
     ]
    },
    {
     "name": "stderr",
     "output_type": "stream",
     "text": [
      "218it [07:54,  2.12s/it, bound: 0 | nc: 1 | ncall: 762 | eff(%): 28.609 | loglstar:   -inf < -0.279 <    inf | logz: -1.400 +/-  0.046 | dlogz:  1.240 >  0.509]"
     ]
    },
    {
     "name": "stdout",
     "output_type": "stream",
     "text": [
      "-0.18739653980181323\n"
     ]
    },
    {
     "name": "stderr",
     "output_type": "stream",
     "text": [
      "219it [07:56,  1.99s/it, bound: 0 | nc: 1 | ncall: 763 | eff(%): 28.702 | loglstar:   -inf < -0.279 <    inf | logz: -1.396 +/-  0.046 | dlogz:  1.236 >  0.509]"
     ]
    },
    {
     "name": "stdout",
     "output_type": "stream",
     "text": [
      "-0.20281485620499035\n",
      "-0.34573400186851694\n"
     ]
    },
    {
     "name": "stderr",
     "output_type": "stream",
     "text": [
      "220it [07:59,  2.42s/it, bound: 0 | nc: 2 | ncall: 765 | eff(%): 28.758 | loglstar:   -inf < -0.278 <    inf | logz: -1.392 +/-  0.046 | dlogz:  1.232 >  0.509]"
     ]
    },
    {
     "name": "stdout",
     "output_type": "stream",
     "text": [
      "-0.153643950776384\n"
     ]
    },
    {
     "name": "stderr",
     "output_type": "stream",
     "text": [
      "221it [08:01,  2.19s/it, bound: 0 | nc: 1 | ncall: 766 | eff(%): 28.851 | loglstar:   -inf < -0.278 <    inf | logz: -1.388 +/-  0.045 | dlogz:  1.228 >  0.509]"
     ]
    },
    {
     "name": "stdout",
     "output_type": "stream",
     "text": [
      "-0.26002013231346377\n"
     ]
    },
    {
     "name": "stderr",
     "output_type": "stream",
     "text": [
      "222it [08:03,  2.05s/it, bound: 0 | nc: 1 | ncall: 767 | eff(%): 28.944 | loglstar:   -inf < -0.278 <    inf | logz: -1.384 +/-  0.045 | dlogz:  1.223 >  0.509]"
     ]
    },
    {
     "name": "stdout",
     "output_type": "stream",
     "text": [
      "-0.20426647919166338\n"
     ]
    },
    {
     "name": "stderr",
     "output_type": "stream",
     "text": [
      "223it [08:05,  1.94s/it, bound: 0 | nc: 1 | ncall: 768 | eff(%): 29.036 | loglstar:   -inf < -0.278 <    inf | logz: -1.380 +/-  0.045 | dlogz:  1.219 >  0.509]"
     ]
    },
    {
     "name": "stdout",
     "output_type": "stream",
     "text": [
      "-0.15348046754732628\n"
     ]
    },
    {
     "name": "stderr",
     "output_type": "stream",
     "text": [
      "224it [08:06,  1.86s/it, bound: 0 | nc: 1 | ncall: 769 | eff(%): 29.129 | loglstar:   -inf < -0.278 <    inf | logz: -1.376 +/-  0.045 | dlogz:  1.215 >  0.509]"
     ]
    },
    {
     "name": "stdout",
     "output_type": "stream",
     "text": [
      "-0.10184867583525657\n",
      "-0.2949038466606446\n"
     ]
    },
    {
     "name": "stderr",
     "output_type": "stream",
     "text": [
      "225it [08:10,  2.30s/it, bound: 0 | nc: 2 | ncall: 771 | eff(%): 29.183 | loglstar:   -inf < -0.277 <    inf | logz: -1.372 +/-  0.045 | dlogz:  1.211 >  0.509]"
     ]
    },
    {
     "name": "stdout",
     "output_type": "stream",
     "text": [
      "-0.2724999088949532\n"
     ]
    },
    {
     "name": "stderr",
     "output_type": "stream",
     "text": [
      "226it [08:11,  2.11s/it, bound: 0 | nc: 1 | ncall: 772 | eff(%): 29.275 | loglstar:   -inf < -0.277 <    inf | logz: -1.368 +/-  0.045 | dlogz:  1.207 >  0.509]"
     ]
    },
    {
     "name": "stdout",
     "output_type": "stream",
     "text": [
      "-0.21819416604856737\n"
     ]
    },
    {
     "name": "stderr",
     "output_type": "stream",
     "text": [
      "227it [08:13,  1.98s/it, bound: 0 | nc: 1 | ncall: 773 | eff(%): 29.366 | loglstar:   -inf < -0.276 <    inf | logz: -1.365 +/-  0.045 | dlogz:  1.203 >  0.509]"
     ]
    },
    {
     "name": "stdout",
     "output_type": "stream",
     "text": [
      "-0.1801848691010725\n"
     ]
    },
    {
     "name": "stderr",
     "output_type": "stream",
     "text": [
      "228it [08:15,  1.90s/it, bound: 0 | nc: 1 | ncall: 774 | eff(%): 29.457 | loglstar:   -inf < -0.276 <    inf | logz: -1.361 +/-  0.045 | dlogz:  1.199 >  0.509]"
     ]
    },
    {
     "name": "stdout",
     "output_type": "stream",
     "text": [
      "-0.10792485838974403\n"
     ]
    },
    {
     "name": "stderr",
     "output_type": "stream",
     "text": [
      "229it [08:16,  1.83s/it, bound: 0 | nc: 1 | ncall: 775 | eff(%): 29.548 | loglstar:   -inf < -0.276 <    inf | logz: -1.357 +/-  0.045 | dlogz:  1.195 >  0.509]"
     ]
    },
    {
     "name": "stdout",
     "output_type": "stream",
     "text": [
      "-0.18441623062807003\n"
     ]
    },
    {
     "name": "stderr",
     "output_type": "stream",
     "text": [
      "230it [08:18,  1.79s/it, bound: 0 | nc: 1 | ncall: 776 | eff(%): 29.639 | loglstar:   -inf < -0.275 <    inf | logz: -1.354 +/-  0.045 | dlogz:  1.191 >  0.509]"
     ]
    },
    {
     "name": "stdout",
     "output_type": "stream",
     "text": [
      "-0.1554382618169406\n"
     ]
    },
    {
     "name": "stderr",
     "output_type": "stream",
     "text": [
      "231it [08:20,  1.76s/it, bound: 0 | nc: 1 | ncall: 777 | eff(%): 29.730 | loglstar:   -inf < -0.275 <    inf | logz: -1.350 +/-  0.045 | dlogz:  1.187 >  0.509]"
     ]
    },
    {
     "name": "stdout",
     "output_type": "stream",
     "text": [
      "-0.17676373950524013\n",
      "-0.5381735205945035\n"
     ]
    },
    {
     "name": "stderr",
     "output_type": "stream",
     "text": [
      "232it [08:23,  2.24s/it, bound: 0 | nc: 2 | ncall: 779 | eff(%): 29.782 | loglstar:   -inf < -0.275 <    inf | logz: -1.346 +/-  0.045 | dlogz:  1.183 >  0.509]"
     ]
    },
    {
     "name": "stdout",
     "output_type": "stream",
     "text": [
      "-0.11291484351353391\n"
     ]
    },
    {
     "name": "stderr",
     "output_type": "stream",
     "text": [
      "233it [08:25,  2.07s/it, bound: 0 | nc: 1 | ncall: 780 | eff(%): 29.872 | loglstar:   -inf < -0.275 <    inf | logz: -1.342 +/-  0.045 | dlogz:  1.179 >  0.509]"
     ]
    },
    {
     "name": "stdout",
     "output_type": "stream",
     "text": [
      "-0.23040834094844836\n",
      "-0.28583955551384727\n",
      "-0.33219043421250527\n"
     ]
    },
    {
     "name": "stderr",
     "output_type": "stream",
     "text": [
      "234it [08:30,  2.96s/it, bound: 0 | nc: 3 | ncall: 783 | eff(%): 29.885 | loglstar:   -inf < -0.274 <    inf | logz: -1.339 +/-  0.044 | dlogz:  1.175 >  0.509]"
     ]
    },
    {
     "name": "stdout",
     "output_type": "stream",
     "text": [
      "-0.23392932462608287\n",
      "-0.315107779816894\n",
      "-0.3847977049574177\n",
      "-0.5406498952266077\n"
     ]
    },
    {
     "name": "stderr",
     "output_type": "stream",
     "text": [
      "235it [08:36,  4.09s/it, bound: 0 | nc: 4 | ncall: 787 | eff(%): 29.860 | loglstar:   -inf < -0.274 <    inf | logz: -1.335 +/-  0.044 | dlogz:  1.171 >  0.509]"
     ]
    },
    {
     "name": "stdout",
     "output_type": "stream",
     "text": [
      "-0.09233657682433886\n",
      "-0.4607388931904648\n"
     ]
    },
    {
     "name": "stderr",
     "output_type": "stream",
     "text": [
      "236it [08:40,  3.87s/it, bound: 0 | nc: 2 | ncall: 789 | eff(%): 29.911 | loglstar:   -inf < -0.274 <    inf | logz: -1.332 +/-  0.044 | dlogz:  1.167 >  0.509]"
     ]
    },
    {
     "name": "stdout",
     "output_type": "stream",
     "text": [
      "-0.2572039885989379\n",
      "-0.2990984675250674\n"
     ]
    },
    {
     "name": "stderr",
     "output_type": "stream",
     "text": [
      "237it [08:43,  3.72s/it, bound: 0 | nc: 2 | ncall: 791 | eff(%): 29.962 | loglstar:   -inf < -0.274 <    inf | logz: -1.328 +/-  0.044 | dlogz:  1.163 >  0.509]"
     ]
    },
    {
     "name": "stdout",
     "output_type": "stream",
     "text": [
      "-0.23488001681043622\n",
      "-0.30533168991651016\n"
     ]
    },
    {
     "name": "stderr",
     "output_type": "stream",
     "text": [
      "238it [08:47,  3.62s/it, bound: 0 | nc: 2 | ncall: 793 | eff(%): 30.013 | loglstar:   -inf < -0.274 <    inf | logz: -1.324 +/-  0.044 | dlogz:  1.160 >  0.509]"
     ]
    },
    {
     "name": "stdout",
     "output_type": "stream",
     "text": [
      "-0.1574443200159867\n"
     ]
    },
    {
     "name": "stderr",
     "output_type": "stream",
     "text": [
      "239it [08:48,  3.04s/it, bound: 0 | nc: 1 | ncall: 794 | eff(%): 30.101 | loglstar:   -inf < -0.274 <    inf | logz: -1.321 +/-  0.044 | dlogz:  1.156 >  0.509]"
     ]
    },
    {
     "name": "stdout",
     "output_type": "stream",
     "text": [
      "-0.19476464306315455\n"
     ]
    },
    {
     "name": "stderr",
     "output_type": "stream",
     "text": [
      "240it [08:50,  2.63s/it, bound: 0 | nc: 1 | ncall: 795 | eff(%): 30.189 | loglstar:   -inf < -0.272 <    inf | logz: -1.317 +/-  0.044 | dlogz:  1.152 >  0.509]"
     ]
    },
    {
     "name": "stdout",
     "output_type": "stream",
     "text": [
      "-0.19016571365452192\n"
     ]
    },
    {
     "name": "stderr",
     "output_type": "stream",
     "text": [
      "241it [08:52,  2.34s/it, bound: 0 | nc: 1 | ncall: 796 | eff(%): 30.276 | loglstar:   -inf < -0.272 <    inf | logz: -1.314 +/-  0.044 | dlogz:  1.148 >  0.509]"
     ]
    },
    {
     "name": "stdout",
     "output_type": "stream",
     "text": [
      "-0.10641704757220663\n"
     ]
    },
    {
     "name": "stderr",
     "output_type": "stream",
     "text": [
      "242it [08:53,  2.17s/it, bound: 0 | nc: 1 | ncall: 797 | eff(%): 30.364 | loglstar:   -inf < -0.272 <    inf | logz: -1.310 +/-  0.044 | dlogz:  1.144 >  0.509]"
     ]
    },
    {
     "name": "stdout",
     "output_type": "stream",
     "text": [
      "-0.22849664847678808\n"
     ]
    },
    {
     "name": "stderr",
     "output_type": "stream",
     "text": [
      "243it [08:55,  2.02s/it, bound: 0 | nc: 1 | ncall: 798 | eff(%): 30.451 | loglstar:   -inf < -0.271 <    inf | logz: -1.307 +/-  0.044 | dlogz:  1.141 >  0.509]"
     ]
    },
    {
     "name": "stdout",
     "output_type": "stream",
     "text": [
      "-0.26496064040029405\n",
      "-0.42499061897457185\n"
     ]
    },
    {
     "name": "stderr",
     "output_type": "stream",
     "text": [
      "244it [08:58,  2.43s/it, bound: 0 | nc: 2 | ncall: 800 | eff(%): 30.500 | loglstar:   -inf < -0.271 <    inf | logz: -1.303 +/-  0.044 | dlogz:  1.137 >  0.509]"
     ]
    },
    {
     "name": "stdout",
     "output_type": "stream",
     "text": [
      "-0.17763307331977812\n"
     ]
    },
    {
     "name": "stderr",
     "output_type": "stream",
     "text": [
      "245it [09:00,  2.22s/it, bound: 0 | nc: 1 | ncall: 801 | eff(%): 30.587 | loglstar:   -inf < -0.271 <    inf | logz: -1.300 +/-  0.044 | dlogz:  1.133 >  0.509]"
     ]
    },
    {
     "name": "stdout",
     "output_type": "stream",
     "text": [
      "-0.2258701632962528\n",
      "-0.41067117679485504\n"
     ]
    },
    {
     "name": "stderr",
     "output_type": "stream",
     "text": [
      "246it [09:07,  3.54s/it, bound: 0 | nc: 2 | ncall: 803 | eff(%): 30.635 | loglstar:   -inf < -0.271 <    inf | logz: -1.297 +/-  0.044 | dlogz:  1.130 >  0.509]"
     ]
    },
    {
     "name": "stdout",
     "output_type": "stream",
     "text": [
      "-0.21374626833668206\n",
      "-0.33047084095784135\n"
     ]
    },
    {
     "name": "stderr",
     "output_type": "stream",
     "text": [
      "247it [09:10,  3.49s/it, bound: 0 | nc: 2 | ncall: 805 | eff(%): 30.683 | loglstar:   -inf < -0.271 <    inf | logz: -1.293 +/-  0.044 | dlogz:  1.126 >  0.509]"
     ]
    },
    {
     "name": "stdout",
     "output_type": "stream",
     "text": [
      "-0.26499155904123933\n"
     ]
    },
    {
     "name": "stderr",
     "output_type": "stream",
     "text": [
      "248it [09:12,  2.96s/it, bound: 0 | nc: 1 | ncall: 806 | eff(%): 30.769 | loglstar:   -inf < -0.271 <    inf | logz: -1.290 +/-  0.043 | dlogz:  1.122 >  0.509]"
     ]
    },
    {
     "name": "stdout",
     "output_type": "stream",
     "text": [
      "-0.17937444776740274\n",
      "-0.3107190043034161\n"
     ]
    },
    {
     "name": "stderr",
     "output_type": "stream",
     "text": [
      "249it [09:15,  3.08s/it, bound: 0 | nc: 2 | ncall: 808 | eff(%): 30.817 | loglstar:   -inf < -0.271 <    inf | logz: -1.286 +/-  0.043 | dlogz:  1.119 >  0.509]"
     ]
    },
    {
     "name": "stdout",
     "output_type": "stream",
     "text": [
      "-0.20517354578588987\n",
      "-0.30608289985764014\n"
     ]
    },
    {
     "name": "stderr",
     "output_type": "stream",
     "text": [
      "250it [09:19,  3.24s/it, bound: 0 | nc: 2 | ncall: 810 | eff(%): 30.864 | loglstar:   -inf < -0.270 <    inf | logz: -1.283 +/-  0.043 | dlogz:  1.115 >  0.509]"
     ]
    },
    {
     "name": "stdout",
     "output_type": "stream",
     "text": [
      "-0.25786980110990565\n",
      "-0.2789385514391759\n"
     ]
    },
    {
     "name": "stderr",
     "output_type": "stream",
     "text": [
      "251it [09:22,  3.28s/it, bound: 0 | nc: 2 | ncall: 812 | eff(%): 30.911 | loglstar:   -inf < -0.269 <    inf | logz: -1.280 +/-  0.043 | dlogz:  1.112 >  0.509]"
     ]
    },
    {
     "name": "stdout",
     "output_type": "stream",
     "text": [
      "-0.13266971891079138\n",
      "-0.3025571781741074\n"
     ]
    },
    {
     "name": "stderr",
     "output_type": "stream",
     "text": [
      "252it [09:26,  3.34s/it, bound: 0 | nc: 2 | ncall: 814 | eff(%): 30.958 | loglstar:   -inf < -0.269 <    inf | logz: -1.276 +/-  0.043 | dlogz:  1.108 >  0.509]"
     ]
    },
    {
     "name": "stdout",
     "output_type": "stream",
     "text": [
      "-0.16409694356857898\n",
      "-0.3353246573905243\n",
      "-0.27867164182377074\n",
      "-0.3125027094643786\n",
      "-0.3079789152853441\n"
     ]
    },
    {
     "name": "stderr",
     "output_type": "stream",
     "text": [
      "253it [09:34,  4.89s/it, bound: 0 | nc: 5 | ncall: 819 | eff(%): 30.891 | loglstar:   -inf < -0.269 <    inf | logz: -1.273 +/-  0.043 | dlogz:  1.104 >  0.509]"
     ]
    },
    {
     "name": "stdout",
     "output_type": "stream",
     "text": [
      "-0.20275252196799337\n"
     ]
    },
    {
     "name": "stderr",
     "output_type": "stream",
     "text": [
      "254it [09:36,  3.93s/it, bound: 0 | nc: 1 | ncall: 820 | eff(%): 30.976 | loglstar:   -inf < -0.269 <    inf | logz: -1.270 +/-  0.043 | dlogz:  1.101 >  0.509]"
     ]
    },
    {
     "name": "stdout",
     "output_type": "stream",
     "text": [
      "-0.1288922173925565\n"
     ]
    },
    {
     "name": "stderr",
     "output_type": "stream",
     "text": [
      "255it [09:38,  3.27s/it, bound: 0 | nc: 1 | ncall: 821 | eff(%): 31.060 | loglstar:   -inf < -0.269 <    inf | logz: -1.267 +/-  0.043 | dlogz:  1.097 >  0.509]"
     ]
    },
    {
     "name": "stdout",
     "output_type": "stream",
     "text": [
      "-0.2484358173164292\n"
     ]
    },
    {
     "name": "stderr",
     "output_type": "stream",
     "text": [
      "256it [09:39,  2.79s/it, bound: 0 | nc: 1 | ncall: 822 | eff(%): 31.144 | loglstar:   -inf < -0.268 <    inf | logz: -1.263 +/-  0.043 | dlogz:  1.094 >  0.509]"
     ]
    },
    {
     "name": "stdout",
     "output_type": "stream",
     "text": [
      "-0.1779191795331748\n"
     ]
    },
    {
     "name": "stderr",
     "output_type": "stream",
     "text": [
      "257it [09:41,  2.45s/it, bound: 0 | nc: 1 | ncall: 823 | eff(%): 31.227 | loglstar:   -inf < -0.267 <    inf | logz: -1.260 +/-  0.043 | dlogz:  1.090 >  0.509]"
     ]
    },
    {
     "name": "stdout",
     "output_type": "stream",
     "text": [
      "-0.1993547208971267\n"
     ]
    },
    {
     "name": "stderr",
     "output_type": "stream",
     "text": [
      "258it [09:43,  2.22s/it, bound: 0 | nc: 1 | ncall: 824 | eff(%): 31.311 | loglstar:   -inf < -0.267 <    inf | logz: -1.257 +/-  0.043 | dlogz:  1.087 >  0.509]"
     ]
    },
    {
     "name": "stdout",
     "output_type": "stream",
     "text": [
      "-0.07588056583081985\n",
      "-0.3846361228454383\n"
     ]
    },
    {
     "name": "stderr",
     "output_type": "stream",
     "text": [
      "259it [09:46,  2.56s/it, bound: 0 | nc: 2 | ncall: 826 | eff(%): 31.356 | loglstar:   -inf < -0.267 <    inf | logz: -1.254 +/-  0.043 | dlogz:  1.083 >  0.509]"
     ]
    },
    {
     "name": "stdout",
     "output_type": "stream",
     "text": [
      "-0.1714025942615645\n"
     ]
    },
    {
     "name": "stderr",
     "output_type": "stream",
     "text": [
      "260it [09:48,  2.29s/it, bound: 0 | nc: 1 | ncall: 827 | eff(%): 31.439 | loglstar:   -inf < -0.267 <    inf | logz: -1.251 +/-  0.043 | dlogz:  1.080 >  0.509]"
     ]
    },
    {
     "name": "stdout",
     "output_type": "stream",
     "text": [
      "-0.15910244242949004\n"
     ]
    },
    {
     "name": "stderr",
     "output_type": "stream",
     "text": [
      "261it [09:49,  2.11s/it, bound: 0 | nc: 1 | ncall: 828 | eff(%): 31.522 | loglstar:   -inf < -0.267 <    inf | logz: -1.247 +/-  0.043 | dlogz:  1.077 >  0.509]"
     ]
    },
    {
     "name": "stdout",
     "output_type": "stream",
     "text": [
      "-0.15095036360353675\n",
      "-0.5619465735415343\n",
      "-0.46882571668383494\n",
      "-0.36041904614590453\n"
     ]
    },
    {
     "name": "stderr",
     "output_type": "stream",
     "text": [
      "262it [09:56,  3.51s/it, bound: 0 | nc: 4 | ncall: 832 | eff(%): 31.490 | loglstar:   -inf < -0.266 <    inf | logz: -1.244 +/-  0.042 | dlogz:  1.073 >  0.509]"
     ]
    },
    {
     "name": "stdout",
     "output_type": "stream",
     "text": [
      "-0.16584575258721734\n",
      "-0.28794302107435904\n"
     ]
    },
    {
     "name": "stderr",
     "output_type": "stream",
     "text": [
      "263it [10:00,  3.51s/it, bound: 0 | nc: 2 | ncall: 834 | eff(%): 31.535 | loglstar:   -inf < -0.266 <    inf | logz: -1.241 +/-  0.042 | dlogz:  1.070 >  0.509]"
     ]
    },
    {
     "name": "stdout",
     "output_type": "stream",
     "text": [
      "-0.15321006189356287\n"
     ]
    },
    {
     "name": "stderr",
     "output_type": "stream",
     "text": [
      "264it [10:01,  2.99s/it, bound: 0 | nc: 1 | ncall: 835 | eff(%): 31.617 | loglstar:   -inf < -0.266 <    inf | logz: -1.238 +/-  0.042 | dlogz:  1.066 >  0.509]"
     ]
    },
    {
     "name": "stdout",
     "output_type": "stream",
     "text": [
      "-0.19175900709255403\n"
     ]
    },
    {
     "name": "stderr",
     "output_type": "stream",
     "text": [
      "265it [10:03,  2.61s/it, bound: 0 | nc: 1 | ncall: 836 | eff(%): 31.699 | loglstar:   -inf < -0.266 <    inf | logz: -1.235 +/-  0.042 | dlogz:  1.063 >  0.509]"
     ]
    },
    {
     "name": "stdout",
     "output_type": "stream",
     "text": [
      "-0.2222333203618728\n",
      "-0.30088027794482297\n"
     ]
    },
    {
     "name": "stderr",
     "output_type": "stream",
     "text": [
      "266it [10:07,  2.91s/it, bound: 0 | nc: 2 | ncall: 838 | eff(%): 31.742 | loglstar:   -inf < -0.265 <    inf | logz: -1.232 +/-  0.042 | dlogz:  1.060 >  0.509]"
     ]
    },
    {
     "name": "stdout",
     "output_type": "stream",
     "text": [
      "-0.2542493906743826\n"
     ]
    },
    {
     "name": "stderr",
     "output_type": "stream",
     "text": [
      "267it [10:08,  2.55s/it, bound: 0 | nc: 1 | ncall: 839 | eff(%): 31.824 | loglstar:   -inf < -0.265 <    inf | logz: -1.229 +/-  0.042 | dlogz:  1.056 >  0.509]"
     ]
    },
    {
     "name": "stdout",
     "output_type": "stream",
     "text": [
      "-0.22911078634261717\n",
      "-0.3157516327407934\n"
     ]
    },
    {
     "name": "stderr",
     "output_type": "stream",
     "text": [
      "268it [10:12,  2.84s/it, bound: 0 | nc: 2 | ncall: 841 | eff(%): 31.867 | loglstar:   -inf < -0.264 <    inf | logz: -1.226 +/-  0.042 | dlogz:  1.053 >  0.509]"
     ]
    },
    {
     "name": "stdout",
     "output_type": "stream",
     "text": [
      "-0.22184732670422022\n"
     ]
    },
    {
     "name": "stderr",
     "output_type": "stream",
     "text": [
      "269it [10:14,  2.50s/it, bound: 0 | nc: 1 | ncall: 842 | eff(%): 31.948 | loglstar:   -inf < -0.264 <    inf | logz: -1.223 +/-  0.042 | dlogz:  1.050 >  0.509]"
     ]
    },
    {
     "name": "stdout",
     "output_type": "stream",
     "text": [
      "-0.09161528920339157\n"
     ]
    },
    {
     "name": "stderr",
     "output_type": "stream",
     "text": [
      "270it [10:15,  2.26s/it, bound: 0 | nc: 1 | ncall: 843 | eff(%): 32.028 | loglstar:   -inf < -0.263 <    inf | logz: -1.220 +/-  0.042 | dlogz:  1.046 >  0.509]"
     ]
    },
    {
     "name": "stdout",
     "output_type": "stream",
     "text": [
      "-0.1888825890974608\n",
      "-0.4109593189663886\n",
      "-0.332044401197117\n"
     ]
    },
    {
     "name": "stderr",
     "output_type": "stream",
     "text": [
      "271it [10:21,  3.13s/it, bound: 0 | nc: 3 | ncall: 846 | eff(%): 32.033 | loglstar:   -inf < -0.263 <    inf | logz: -1.216 +/-  0.042 | dlogz:  1.043 >  0.509]"
     ]
    },
    {
     "name": "stdout",
     "output_type": "stream",
     "text": [
      "-0.25619071337075805\n",
      "-0.4408273006273745\n"
     ]
    },
    {
     "name": "stderr",
     "output_type": "stream",
     "text": [
      "272it [10:24,  3.23s/it, bound: 0 | nc: 2 | ncall: 848 | eff(%): 32.075 | loglstar:   -inf < -0.262 <    inf | logz: -1.213 +/-  0.042 | dlogz:  1.040 >  0.509]"
     ]
    },
    {
     "name": "stdout",
     "output_type": "stream",
     "text": [
      "-0.2576735343973429\n"
     ]
    },
    {
     "name": "stderr",
     "output_type": "stream",
     "text": [
      "273it [10:26,  2.79s/it, bound: 0 | nc: 1 | ncall: 849 | eff(%): 32.155 | loglstar:   -inf < -0.261 <    inf | logz: -1.210 +/-  0.042 | dlogz:  1.037 >  0.509]"
     ]
    },
    {
     "name": "stdout",
     "output_type": "stream",
     "text": [
      "-0.2260615351992631\n"
     ]
    },
    {
     "name": "stderr",
     "output_type": "stream",
     "text": [
      "274it [10:28,  2.49s/it, bound: 0 | nc: 1 | ncall: 850 | eff(%): 32.235 | loglstar:   -inf < -0.261 <    inf | logz: -1.208 +/-  0.042 | dlogz:  1.034 >  0.509]"
     ]
    },
    {
     "name": "stdout",
     "output_type": "stream",
     "text": [
      "-0.16232707720680137\n",
      "-0.26429180983791245\n",
      "-0.30559709035459387\n"
     ]
    },
    {
     "name": "stderr",
     "output_type": "stream",
     "text": [
      "275it [10:33,  3.27s/it, bound: 0 | nc: 3 | ncall: 853 | eff(%): 32.239 | loglstar:   -inf < -0.261 <    inf | logz: -1.205 +/-  0.042 | dlogz:  1.030 >  0.509]"
     ]
    },
    {
     "name": "stdout",
     "output_type": "stream",
     "text": [
      "-0.2409722194952829\n",
      "-0.31062053964734454\n",
      "-0.27270098050352\n",
      "-0.33140343591351495\n"
     ]
    },
    {
     "name": "stderr",
     "output_type": "stream",
     "text": [
      "276it [10:39,  4.34s/it, bound: 0 | nc: 4 | ncall: 857 | eff(%): 32.205 | loglstar:   -inf < -0.261 <    inf | logz: -1.202 +/-  0.042 | dlogz:  1.027 >  0.509]"
     ]
    },
    {
     "name": "stdout",
     "output_type": "stream",
     "text": [
      "-0.15194481370857887\n"
     ]
    },
    {
     "name": "stderr",
     "output_type": "stream",
     "text": [
      "277it [10:41,  3.54s/it, bound: 0 | nc: 1 | ncall: 858 | eff(%): 32.284 | loglstar:   -inf < -0.261 <    inf | logz: -1.199 +/-  0.041 | dlogz:  1.024 >  0.509]"
     ]
    },
    {
     "name": "stdout",
     "output_type": "stream",
     "text": [
      "-0.10493073821875218\n"
     ]
    },
    {
     "name": "stderr",
     "output_type": "stream",
     "text": [
      "278it [10:43,  3.00s/it, bound: 0 | nc: 1 | ncall: 859 | eff(%): 32.363 | loglstar:   -inf < -0.261 <    inf | logz: -1.196 +/-  0.041 | dlogz:  1.021 >  0.509]"
     ]
    },
    {
     "name": "stdout",
     "output_type": "stream",
     "text": [
      "-0.12477158314765394\n",
      "-0.5311842031355479\n"
     ]
    },
    {
     "name": "stderr",
     "output_type": "stream",
     "text": [
      "279it [10:46,  3.13s/it, bound: 0 | nc: 2 | ncall: 861 | eff(%): 32.404 | loglstar:   -inf < -0.261 <    inf | logz: -1.193 +/-  0.041 | dlogz:  1.018 >  0.509]"
     ]
    },
    {
     "name": "stdout",
     "output_type": "stream",
     "text": [
      "-0.2218576062215752\n"
     ]
    },
    {
     "name": "stderr",
     "output_type": "stream",
     "text": [
      "280it [10:48,  2.70s/it, bound: 0 | nc: 1 | ncall: 862 | eff(%): 32.483 | loglstar:   -inf < -0.260 <    inf | logz: -1.190 +/-  0.041 | dlogz:  1.015 >  0.509]"
     ]
    },
    {
     "name": "stdout",
     "output_type": "stream",
     "text": [
      "-0.21170538484064078\n"
     ]
    },
    {
     "name": "stderr",
     "output_type": "stream",
     "text": [
      "281it [10:50,  2.42s/it, bound: 0 | nc: 1 | ncall: 863 | eff(%): 32.561 | loglstar:   -inf < -0.260 <    inf | logz: -1.187 +/-  0.041 | dlogz:  1.011 >  0.509]"
     ]
    },
    {
     "name": "stdout",
     "output_type": "stream",
     "text": [
      "-0.20220750400492218\n",
      "-0.3593504406252459\n"
     ]
    },
    {
     "name": "stderr",
     "output_type": "stream",
     "text": [
      "282it [10:53,  2.71s/it, bound: 0 | nc: 2 | ncall: 865 | eff(%): 32.601 | loglstar:   -inf < -0.259 <    inf | logz: -1.184 +/-  0.041 | dlogz:  1.008 >  0.509]"
     ]
    },
    {
     "name": "stdout",
     "output_type": "stream",
     "text": [
      "-0.20934278514730548\n"
     ]
    },
    {
     "name": "stderr",
     "output_type": "stream",
     "text": [
      "283it [10:55,  2.40s/it, bound: 0 | nc: 1 | ncall: 866 | eff(%): 32.679 | loglstar:   -inf < -0.259 <    inf | logz: -1.181 +/-  0.041 | dlogz:  1.005 >  0.509]"
     ]
    },
    {
     "name": "stdout",
     "output_type": "stream",
     "text": [
      "-0.23235381010174577\n",
      "-0.2643421631899724\n",
      "-0.3260005006775939\n"
     ]
    },
    {
     "name": "stderr",
     "output_type": "stream",
     "text": [
      "284it [11:00,  3.20s/it, bound: 0 | nc: 3 | ncall: 869 | eff(%): 32.681 | loglstar:   -inf < -0.259 <    inf | logz: -1.178 +/-  0.041 | dlogz:  1.002 >  0.509]"
     ]
    },
    {
     "name": "stdout",
     "output_type": "stream",
     "text": [
      "-0.176836148385122\n"
     ]
    },
    {
     "name": "stderr",
     "output_type": "stream",
     "text": [
      "285it [11:02,  2.75s/it, bound: 0 | nc: 1 | ncall: 870 | eff(%): 32.759 | loglstar:   -inf < -0.258 <    inf | logz: -1.176 +/-  0.041 | dlogz:  0.999 >  0.509]"
     ]
    },
    {
     "name": "stdout",
     "output_type": "stream",
     "text": [
      "-0.22653194101180568\n"
     ]
    },
    {
     "name": "stderr",
     "output_type": "stream",
     "text": [
      "286it [11:03,  2.44s/it, bound: 0 | nc: 1 | ncall: 871 | eff(%): 32.836 | loglstar:   -inf < -0.258 <    inf | logz: -1.173 +/-  0.041 | dlogz:  0.996 >  0.509]"
     ]
    },
    {
     "name": "stdout",
     "output_type": "stream",
     "text": [
      "-0.18942729576316944\n"
     ]
    },
    {
     "name": "stderr",
     "output_type": "stream",
     "text": [
      "287it [11:05,  2.22s/it, bound: 0 | nc: 1 | ncall: 872 | eff(%): 32.913 | loglstar:   -inf < -0.258 <    inf | logz: -1.170 +/-  0.041 | dlogz:  0.993 >  0.509]"
     ]
    },
    {
     "name": "stdout",
     "output_type": "stream",
     "text": [
      "-0.18179615200693292\n"
     ]
    },
    {
     "name": "stderr",
     "output_type": "stream",
     "text": [
      "288it [11:07,  2.08s/it, bound: 0 | nc: 1 | ncall: 873 | eff(%): 32.990 | loglstar:   -inf < -0.258 <    inf | logz: -1.167 +/-  0.041 | dlogz:  0.990 >  0.509]"
     ]
    },
    {
     "name": "stdout",
     "output_type": "stream",
     "text": [
      "-0.18180494617317056\n"
     ]
    },
    {
     "name": "stderr",
     "output_type": "stream",
     "text": [
      "289it [11:08,  1.97s/it, bound: 0 | nc: 1 | ncall: 874 | eff(%): 33.066 | loglstar:   -inf < -0.258 <    inf | logz: -1.164 +/-  0.041 | dlogz:  0.987 >  0.509]"
     ]
    },
    {
     "name": "stdout",
     "output_type": "stream",
     "text": [
      "-0.19106425775051047\n",
      "-0.35509005521607956\n"
     ]
    },
    {
     "name": "stderr",
     "output_type": "stream",
     "text": [
      "290it [11:12,  2.42s/it, bound: 0 | nc: 2 | ncall: 876 | eff(%): 33.105 | loglstar:   -inf < -0.258 <    inf | logz: -1.162 +/-  0.041 | dlogz:  0.984 >  0.509]"
     ]
    },
    {
     "name": "stdout",
     "output_type": "stream",
     "text": [
      "-0.23369445440549308\n"
     ]
    },
    {
     "name": "stderr",
     "output_type": "stream",
     "text": [
      "291it [11:14,  2.20s/it, bound: 0 | nc: 1 | ncall: 877 | eff(%): 33.181 | loglstar:   -inf < -0.257 <    inf | logz: -1.159 +/-  0.041 | dlogz:  0.981 >  0.509]"
     ]
    },
    {
     "name": "stdout",
     "output_type": "stream",
     "text": [
      "-0.23614495109880312\n",
      "-0.33758176285116714\n",
      "-0.4226055440451316\n"
     ]
    },
    {
     "name": "stderr",
     "output_type": "stream",
     "text": [
      "292it [11:19,  3.08s/it, bound: 0 | nc: 3 | ncall: 880 | eff(%): 33.182 | loglstar:   -inf < -0.257 <    inf | logz: -1.156 +/-  0.041 | dlogz:  0.978 >  0.509]"
     ]
    },
    {
     "name": "stdout",
     "output_type": "stream",
     "text": [
      "-0.20056880681325934\n"
     ]
    },
    {
     "name": "stderr",
     "output_type": "stream",
     "text": [
      "293it [11:21,  2.68s/it, bound: 0 | nc: 1 | ncall: 881 | eff(%): 33.258 | loglstar:   -inf < -0.256 <    inf | logz: -1.153 +/-  0.040 | dlogz:  0.975 >  0.509]"
     ]
    },
    {
     "name": "stdout",
     "output_type": "stream",
     "text": [
      "-0.19814504114274703\n"
     ]
    },
    {
     "name": "stderr",
     "output_type": "stream",
     "text": [
      "294it [11:22,  2.39s/it, bound: 0 | nc: 1 | ncall: 882 | eff(%): 33.333 | loglstar:   -inf < -0.256 <    inf | logz: -1.151 +/-  0.040 | dlogz:  0.972 >  0.509]"
     ]
    },
    {
     "name": "stdout",
     "output_type": "stream",
     "text": [
      "-0.24350102250811453\n",
      "-0.2969223385028075\n"
     ]
    },
    {
     "name": "stderr",
     "output_type": "stream",
     "text": [
      "295it [11:26,  2.70s/it, bound: 0 | nc: 2 | ncall: 884 | eff(%): 33.371 | loglstar:   -inf < -0.256 <    inf | logz: -1.148 +/-  0.040 | dlogz:  0.969 >  0.509]"
     ]
    },
    {
     "name": "stdout",
     "output_type": "stream",
     "text": [
      "-0.20102715388069148\n"
     ]
    },
    {
     "name": "stderr",
     "output_type": "stream",
     "text": [
      "296it [11:27,  2.39s/it, bound: 0 | nc: 1 | ncall: 885 | eff(%): 33.446 | loglstar:   -inf < -0.255 <    inf | logz: -1.145 +/-  0.040 | dlogz:  0.966 >  0.509]"
     ]
    },
    {
     "name": "stdout",
     "output_type": "stream",
     "text": [
      "-0.14821962352068166\n"
     ]
    },
    {
     "name": "stderr",
     "output_type": "stream",
     "text": [
      "297it [11:29,  2.18s/it, bound: 0 | nc: 1 | ncall: 886 | eff(%): 33.521 | loglstar:   -inf < -0.255 <    inf | logz: -1.143 +/-  0.040 | dlogz:  0.963 >  0.509]"
     ]
    },
    {
     "name": "stdout",
     "output_type": "stream",
     "text": [
      "-0.19988439160270732\n",
      "-0.2724116119704371\n",
      "-0.35249135923290853\n",
      "-0.2841186908046178\n"
     ]
    },
    {
     "name": "stderr",
     "output_type": "stream",
     "text": [
      "298it [11:36,  3.55s/it, bound: 0 | nc: 4 | ncall: 890 | eff(%): 33.483 | loglstar:   -inf < -0.254 <    inf | logz: -1.140 +/-  0.040 | dlogz:  0.960 >  0.509]"
     ]
    },
    {
     "name": "stdout",
     "output_type": "stream",
     "text": [
      "-0.22422647090342698\n",
      "-0.32675692622410013\n",
      "-0.3173184751255642\n"
     ]
    },
    {
     "name": "stderr",
     "output_type": "stream",
     "text": [
      "299it [11:41,  4.04s/it, bound: 0 | nc: 3 | ncall: 893 | eff(%): 33.483 | loglstar:   -inf < -0.254 <    inf | logz: -1.137 +/-  0.040 | dlogz:  0.958 >  0.509]"
     ]
    },
    {
     "name": "stdout",
     "output_type": "stream",
     "text": [
      "-0.1854899407817463\n"
     ]
    },
    {
     "name": "stderr",
     "output_type": "stream",
     "text": [
      "300it [11:43,  3.33s/it, bound: 0 | nc: 1 | ncall: 894 | eff(%): 33.557 | loglstar:   -inf < -0.254 <    inf | logz: -1.135 +/-  0.040 | dlogz:  0.955 >  0.509]"
     ]
    },
    {
     "name": "stdout",
     "output_type": "stream",
     "text": [
      "-0.1325294033584936\n",
      "-0.25894642546775576\n",
      "-0.399890112349855\n"
     ]
    },
    {
     "name": "stderr",
     "output_type": "stream",
     "text": [
      "301it [11:48,  3.84s/it, bound: 0 | nc: 3 | ncall: 897 | eff(%): 33.556 | loglstar:   -inf < -0.253 <    inf | logz: -1.132 +/-  0.040 | dlogz:  0.952 >  0.509]"
     ]
    },
    {
     "name": "stdout",
     "output_type": "stream",
     "text": [
      "-0.1341322463546665\n",
      "-0.3707003741337193\n",
      "-0.3660830746269954\n",
      "-0.39248965752119575\n",
      "-0.276025123521098\n"
     ]
    },
    {
     "name": "stderr",
     "output_type": "stream",
     "text": [
      "302it [11:57,  5.37s/it, bound: 0 | nc: 5 | ncall: 902 | eff(%): 33.481 | loglstar:   -inf < -0.253 <    inf | logz: -1.129 +/-  0.040 | dlogz:  0.949 >  0.509]"
     ]
    },
    {
     "name": "stdout",
     "output_type": "stream",
     "text": [
      "-0.1357833889886884\n",
      "-0.32869135684535894\n",
      "-0.35711207732976497\n"
     ]
    },
    {
     "name": "stderr",
     "output_type": "stream",
     "text": [
      "303it [12:02,  5.27s/it, bound: 0 | nc: 3 | ncall: 905 | eff(%): 33.481 | loglstar:   -inf < -0.253 <    inf | logz: -1.127 +/-  0.040 | dlogz:  0.946 >  0.509]"
     ]
    },
    {
     "name": "stdout",
     "output_type": "stream",
     "text": [
      "-0.16416057848224022\n"
     ]
    },
    {
     "name": "stderr",
     "output_type": "stream",
     "text": [
      "304it [12:03,  4.20s/it, bound: 0 | nc: 1 | ncall: 906 | eff(%): 33.554 | loglstar:   -inf < -0.253 <    inf | logz: -1.124 +/-  0.040 | dlogz:  0.943 >  0.509]"
     ]
    },
    {
     "name": "stdout",
     "output_type": "stream",
     "text": [
      "-0.12447991913795393\n"
     ]
    },
    {
     "name": "stderr",
     "output_type": "stream",
     "text": [
      "305it [12:05,  3.44s/it, bound: 0 | nc: 1 | ncall: 907 | eff(%): 33.627 | loglstar:   -inf < -0.253 <    inf | logz: -1.121 +/-  0.040 | dlogz:  0.940 >  0.509]"
     ]
    },
    {
     "name": "stdout",
     "output_type": "stream",
     "text": [
      "-0.17344909740625997\n"
     ]
    },
    {
     "name": "stderr",
     "output_type": "stream",
     "text": [
      "306it [12:07,  2.92s/it, bound: 0 | nc: 1 | ncall: 908 | eff(%): 33.700 | loglstar:   -inf < -0.253 <    inf | logz: -1.119 +/-  0.040 | dlogz:  0.938 >  0.509]"
     ]
    },
    {
     "name": "stdout",
     "output_type": "stream",
     "text": [
      "-0.2475564948004027\n",
      "-0.2998908610002869\n",
      "-0.36005890365547893\n",
      "-0.3545937956822693\n",
      "-0.2600388646287813\n"
     ]
    },
    {
     "name": "stderr",
     "output_type": "stream",
     "text": [
      "307it [12:15,  4.63s/it, bound: 0 | nc: 5 | ncall: 913 | eff(%): 33.625 | loglstar:   -inf < -0.253 <    inf | logz: -1.116 +/-  0.040 | dlogz:  0.935 >  0.509]"
     ]
    },
    {
     "name": "stdout",
     "output_type": "stream",
     "text": [
      "-0.16604965762290366\n"
     ]
    },
    {
     "name": "stderr",
     "output_type": "stream",
     "text": [
      "308it [12:17,  3.76s/it, bound: 0 | nc: 1 | ncall: 914 | eff(%): 33.698 | loglstar:   -inf < -0.252 <    inf | logz: -1.114 +/-  0.040 | dlogz:  0.932 >  0.509]"
     ]
    },
    {
     "name": "stdout",
     "output_type": "stream",
     "text": [
      "-0.18990534344974963\n",
      "-0.2688380087797466\n"
     ]
    },
    {
     "name": "stderr",
     "output_type": "stream",
     "text": [
      "309it [12:21,  3.66s/it, bound: 0 | nc: 2 | ncall: 916 | eff(%): 33.734 | loglstar:   -inf < -0.252 <    inf | logz: -1.111 +/-  0.039 | dlogz:  0.929 >  0.509]"
     ]
    },
    {
     "name": "stdout",
     "output_type": "stream",
     "text": [
      "-0.20903177655976285\n"
     ]
    },
    {
     "name": "stderr",
     "output_type": "stream",
     "text": [
      "310it [12:22,  3.07s/it, bound: 0 | nc: 1 | ncall: 917 | eff(%): 33.806 | loglstar:   -inf < -0.252 <    inf | logz: -1.109 +/-  0.039 | dlogz:  0.927 >  0.509]"
     ]
    },
    {
     "name": "stdout",
     "output_type": "stream",
     "text": [
      "-0.15339704422967412\n",
      "-0.5097174755375631\n"
     ]
    },
    {
     "name": "stderr",
     "output_type": "stream",
     "text": [
      "311it [12:26,  3.16s/it, bound: 0 | nc: 2 | ncall: 919 | eff(%): 33.841 | loglstar:   -inf < -0.252 <    inf | logz: -1.106 +/-  0.039 | dlogz:  0.924 >  0.509]"
     ]
    },
    {
     "name": "stdout",
     "output_type": "stream",
     "text": [
      "-0.17076116736416477\n"
     ]
    },
    {
     "name": "stderr",
     "output_type": "stream",
     "text": [
      "312it [12:27,  2.77s/it, bound: 0 | nc: 1 | ncall: 920 | eff(%): 33.913 | loglstar:   -inf < -0.251 <    inf | logz: -1.104 +/-  0.039 | dlogz:  0.921 >  0.509]"
     ]
    },
    {
     "name": "stdout",
     "output_type": "stream",
     "text": [
      "-0.21102898807828577\n"
     ]
    },
    {
     "name": "stderr",
     "output_type": "stream",
     "text": [
      "313it [12:29,  2.47s/it, bound: 0 | nc: 1 | ncall: 921 | eff(%): 33.985 | loglstar:   -inf < -0.251 <    inf | logz: -1.101 +/-  0.039 | dlogz:  0.918 >  0.509]"
     ]
    },
    {
     "name": "stdout",
     "output_type": "stream",
     "text": [
      "-0.17109436477298234\n",
      "-0.43754235963687327\n"
     ]
    },
    {
     "name": "stderr",
     "output_type": "stream",
     "text": [
      "314it [12:33,  2.75s/it, bound: 0 | nc: 2 | ncall: 923 | eff(%): 34.020 | loglstar:   -inf < -0.251 <    inf | logz: -1.099 +/-  0.039 | dlogz:  0.916 >  0.509]"
     ]
    },
    {
     "name": "stdout",
     "output_type": "stream",
     "text": [
      "-0.23683076641658035\n",
      "-0.2714608163416674\n",
      "-0.3476688272707899\n"
     ]
    },
    {
     "name": "stderr",
     "output_type": "stream",
     "text": [
      "315it [12:38,  3.43s/it, bound: 0 | nc: 3 | ncall: 926 | eff(%): 34.017 | loglstar:   -inf < -0.251 <    inf | logz: -1.096 +/-  0.039 | dlogz:  0.913 >  0.509]"
     ]
    },
    {
     "name": "stdout",
     "output_type": "stream",
     "text": [
      "-0.18105851301955167\n",
      "-0.2994685119684303\n"
     ]
    },
    {
     "name": "stderr",
     "output_type": "stream",
     "text": [
      "316it [12:41,  3.42s/it, bound: 0 | nc: 2 | ncall: 928 | eff(%): 34.052 | loglstar:   -inf < -0.251 <    inf | logz: -1.094 +/-  0.039 | dlogz:  0.910 >  0.509]"
     ]
    },
    {
     "name": "stdout",
     "output_type": "stream",
     "text": [
      "-0.22156611299602108\n",
      "-0.3165156658071902\n",
      "-0.2736494110975452\n"
     ]
    },
    {
     "name": "stderr",
     "output_type": "stream",
     "text": [
      "317it [12:50,  5.03s/it, bound: 0 | nc: 3 | ncall: 931 | eff(%): 34.049 | loglstar:   -inf < -0.251 <    inf | logz: -1.091 +/-  0.039 | dlogz:  0.908 >  0.509]"
     ]
    },
    {
     "name": "stdout",
     "output_type": "stream",
     "text": [
      "-0.19237308010430995\n",
      "-0.3274604369992734\n",
      "-0.36151860986963863\n",
      "-0.2952240705856472\n"
     ]
    },
    {
     "name": "stderr",
     "output_type": "stream",
     "text": [
      "318it [12:57,  5.55s/it, bound: 0 | nc: 4 | ncall: 935 | eff(%): 34.011 | loglstar:   -inf < -0.251 <    inf | logz: -1.089 +/-  0.039 | dlogz:  0.905 >  0.509]"
     ]
    },
    {
     "name": "stdout",
     "output_type": "stream",
     "text": [
      "-0.04944896842788593\n"
     ]
    },
    {
     "name": "stderr",
     "output_type": "stream",
     "text": [
      "319it [12:58,  4.39s/it, bound: 0 | nc: 1 | ncall: 936 | eff(%): 34.081 | loglstar:   -inf < -0.250 <    inf | logz: -1.086 +/-  0.039 | dlogz:  0.915 >  0.509]"
     ]
    },
    {
     "name": "stdout",
     "output_type": "stream",
     "text": [
      "-0.22818194879653023\n"
     ]
    },
    {
     "name": "stderr",
     "output_type": "stream",
     "text": [
      "320it [13:00,  3.60s/it, bound: 0 | nc: 1 | ncall: 937 | eff(%): 34.152 | loglstar:   -inf < -0.250 <    inf | logz: -1.084 +/-  0.039 | dlogz:  0.913 >  0.509]"
     ]
    },
    {
     "name": "stdout",
     "output_type": "stream",
     "text": [
      "-0.15383305502926498\n"
     ]
    },
    {
     "name": "stderr",
     "output_type": "stream",
     "text": [
      "321it [13:02,  3.03s/it, bound: 0 | nc: 1 | ncall: 938 | eff(%): 34.222 | loglstar:   -inf < -0.250 <    inf | logz: -1.081 +/-  0.039 | dlogz:  0.910 >  0.509]"
     ]
    },
    {
     "name": "stdout",
     "output_type": "stream",
     "text": [
      "-0.1007324562522175\n",
      "-0.35368062590154903\n"
     ]
    },
    {
     "name": "stderr",
     "output_type": "stream",
     "text": [
      "322it [13:05,  3.15s/it, bound: 0 | nc: 2 | ncall: 940 | eff(%): 34.255 | loglstar:   -inf < -0.250 <    inf | logz: -1.079 +/-  0.039 | dlogz:  0.907 >  0.509]"
     ]
    },
    {
     "name": "stdout",
     "output_type": "stream",
     "text": [
      "-0.06280554518350286\n"
     ]
    },
    {
     "name": "stderr",
     "output_type": "stream",
     "text": [
      "323it [13:07,  2.72s/it, bound: 0 | nc: 1 | ncall: 941 | eff(%): 34.325 | loglstar:   -inf < -0.250 <    inf | logz: -1.077 +/-  0.039 | dlogz:  0.905 >  0.509]"
     ]
    },
    {
     "name": "stdout",
     "output_type": "stream",
     "text": [
      "-0.14001548269868652\n",
      "-0.48558480146349114\n"
     ]
    },
    {
     "name": "stderr",
     "output_type": "stream",
     "text": [
      "324it [13:10,  2.93s/it, bound: 0 | nc: 2 | ncall: 943 | eff(%): 34.358 | loglstar:   -inf < -0.250 <    inf | logz: -1.074 +/-  0.039 | dlogz:  0.902 >  0.509]"
     ]
    },
    {
     "name": "stdout",
     "output_type": "stream",
     "text": [
      "-0.1870343201614688\n",
      "-0.3871567275209212\n",
      "-0.2885829125741007\n"
     ]
    },
    {
     "name": "stderr",
     "output_type": "stream",
     "text": [
      "325it [13:15,  3.57s/it, bound: 0 | nc: 3 | ncall: 946 | eff(%): 34.355 | loglstar:   -inf < -0.250 <    inf | logz: -1.072 +/-  0.039 | dlogz:  0.900 >  0.509]"
     ]
    },
    {
     "name": "stdout",
     "output_type": "stream",
     "text": [
      "-0.21913752828600883\n"
     ]
    },
    {
     "name": "stderr",
     "output_type": "stream",
     "text": [
      "326it [13:17,  3.00s/it, bound: 0 | nc: 1 | ncall: 947 | eff(%): 34.424 | loglstar:   -inf < -0.249 <    inf | logz: -1.069 +/-  0.038 | dlogz:  0.897 >  0.509]"
     ]
    },
    {
     "name": "stdout",
     "output_type": "stream",
     "text": [
      "-0.2158684721870853\n"
     ]
    },
    {
     "name": "stderr",
     "output_type": "stream",
     "text": [
      "327it [13:19,  2.61s/it, bound: 0 | nc: 1 | ncall: 948 | eff(%): 34.494 | loglstar:   -inf < -0.249 <    inf | logz: -1.067 +/-  0.038 | dlogz:  0.894 >  0.509]"
     ]
    },
    {
     "name": "stdout",
     "output_type": "stream",
     "text": [
      "-0.23151273226978697\n"
     ]
    },
    {
     "name": "stderr",
     "output_type": "stream",
     "text": [
      "328it [13:20,  2.33s/it, bound: 0 | nc: 1 | ncall: 949 | eff(%): 34.563 | loglstar:   -inf < -0.248 <    inf | logz: -1.065 +/-  0.038 | dlogz:  0.892 >  0.509]"
     ]
    },
    {
     "name": "stdout",
     "output_type": "stream",
     "text": [
      "-0.15174488124034105\n"
     ]
    },
    {
     "name": "stderr",
     "output_type": "stream",
     "text": [
      "329it [13:22,  2.14s/it, bound: 0 | nc: 1 | ncall: 950 | eff(%): 34.632 | loglstar:   -inf < -0.248 <    inf | logz: -1.062 +/-  0.038 | dlogz:  0.889 >  0.509]"
     ]
    },
    {
     "name": "stdout",
     "output_type": "stream",
     "text": [
      "-0.08871946043472102\n"
     ]
    },
    {
     "name": "stderr",
     "output_type": "stream",
     "text": [
      "330it [13:24,  2.02s/it, bound: 0 | nc: 1 | ncall: 951 | eff(%): 34.700 | loglstar:   -inf < -0.248 <    inf | logz: -1.060 +/-  0.038 | dlogz:  0.887 >  0.509]"
     ]
    },
    {
     "name": "stdout",
     "output_type": "stream",
     "text": [
      "-0.1730857582533574\n",
      "-0.27327403414875606\n"
     ]
    },
    {
     "name": "stderr",
     "output_type": "stream",
     "text": [
      "331it [13:27,  2.44s/it, bound: 0 | nc: 2 | ncall: 953 | eff(%): 34.732 | loglstar:   -inf < -0.248 <    inf | logz: -1.058 +/-  0.038 | dlogz:  0.884 >  0.509]"
     ]
    },
    {
     "name": "stdout",
     "output_type": "stream",
     "text": [
      "-0.19730082093499451\n"
     ]
    },
    {
     "name": "stderr",
     "output_type": "stream",
     "text": [
      "332it [13:29,  2.21s/it, bound: 0 | nc: 1 | ncall: 954 | eff(%): 34.801 | loglstar:   -inf < -0.248 <    inf | logz: -1.055 +/-  0.038 | dlogz:  0.882 >  0.509]"
     ]
    },
    {
     "name": "stdout",
     "output_type": "stream",
     "text": [
      "-0.21313694928129204\n"
     ]
    },
    {
     "name": "stderr",
     "output_type": "stream",
     "text": [
      "333it [13:31,  2.08s/it, bound: 0 | nc: 1 | ncall: 955 | eff(%): 34.869 | loglstar:   -inf < -0.248 <    inf | logz: -1.053 +/-  0.038 | dlogz:  0.879 >  0.509]"
     ]
    },
    {
     "name": "stdout",
     "output_type": "stream",
     "text": [
      "-0.2253748117780425\n"
     ]
    },
    {
     "name": "stderr",
     "output_type": "stream",
     "text": [
      "334it [13:32,  1.97s/it, bound: 0 | nc: 1 | ncall: 956 | eff(%): 34.937 | loglstar:   -inf < -0.247 <    inf | logz: -1.051 +/-  0.038 | dlogz:  0.877 >  0.509]"
     ]
    },
    {
     "name": "stdout",
     "output_type": "stream",
     "text": [
      "-0.22946330000661402\n"
     ]
    },
    {
     "name": "stderr",
     "output_type": "stream",
     "text": [
      "335it [13:34,  1.88s/it, bound: 0 | nc: 1 | ncall: 957 | eff(%): 35.005 | loglstar:   -inf < -0.247 <    inf | logz: -1.049 +/-  0.038 | dlogz:  0.874 >  0.509]"
     ]
    },
    {
     "name": "stdout",
     "output_type": "stream",
     "text": [
      "-0.22722845321461213\n",
      "-0.34309113287647136\n",
      "-0.2910047320401765\n",
      "-0.24839191468232272\n",
      "-0.2607701417913891\n",
      "-0.39760086294870006\n"
     ]
    },
    {
     "name": "stderr",
     "output_type": "stream",
     "text": [
      "336it [13:45,  4.50s/it, bound: 0 | nc: 6 | ncall: 963 | eff(%): 34.891 | loglstar:   -inf < -0.247 <    inf | logz: -1.046 +/-  0.038 | dlogz:  0.872 >  0.509]"
     ]
    },
    {
     "name": "stdout",
     "output_type": "stream",
     "text": [
      "-0.16089146634473495\n",
      "-0.5209374326411762\n",
      "-0.3877947112380532\n"
     ]
    },
    {
     "name": "stderr",
     "output_type": "stream",
     "text": [
      "337it [13:50,  4.73s/it, bound: 0 | nc: 3 | ncall: 966 | eff(%): 34.886 | loglstar:   -inf < -0.247 <    inf | logz: -1.044 +/-  0.038 | dlogz:  0.869 >  0.509]"
     ]
    },
    {
     "name": "stdout",
     "output_type": "stream",
     "text": [
      "-0.21442481121792809\n",
      "-0.28172983278883257\n"
     ]
    },
    {
     "name": "stderr",
     "output_type": "stream",
     "text": [
      "338it [13:53,  4.33s/it, bound: 0 | nc: 2 | ncall: 968 | eff(%): 34.917 | loglstar:   -inf < -0.247 <    inf | logz: -1.042 +/-  0.038 | dlogz:  0.867 >  0.509]"
     ]
    },
    {
     "name": "stdout",
     "output_type": "stream",
     "text": [
      "-0.20449494077391572\n",
      "-0.30621671024896213\n",
      "-0.450100208859364\n",
      "-0.25375467335681784\n",
      "-0.2750535988829286\n",
      "-0.4555482005935224\n"
     ]
    },
    {
     "name": "stderr",
     "output_type": "stream",
     "text": [
      "339it [14:04,  6.09s/it, bound: 0 | nc: 6 | ncall: 974 | eff(%): 34.805 | loglstar:   -inf < -0.246 <    inf | logz: -1.040 +/-  0.038 | dlogz:  0.864 >  0.509]"
     ]
    },
    {
     "name": "stdout",
     "output_type": "stream",
     "text": [
      "-0.10160274727751326\n",
      "-0.2922284549713992\n",
      "-0.25387704263338223\n",
      "-0.5163372181101409\n",
      "-0.3174109755386735\n",
      "-0.2706264402053347\n",
      "-0.4866933462823201\n"
     ]
    },
    {
     "name": "stderr",
     "output_type": "stream",
     "text": [
      "340it [14:15,  7.81s/it, bound: 0 | nc: 7 | ncall: 981 | eff(%): 34.659 | loglstar:   -inf < -0.246 <    inf | logz: -1.037 +/-  0.038 | dlogz:  0.862 >  0.509]"
     ]
    },
    {
     "name": "stdout",
     "output_type": "stream",
     "text": [
      "-0.22637932837819477\n",
      "-0.30570669971207315\n"
     ]
    },
    {
     "name": "stderr",
     "output_type": "stream",
     "text": [
      "341it [14:19,  6.47s/it, bound: 0 | nc: 2 | ncall: 983 | eff(%): 34.690 | loglstar:   -inf < -0.246 <    inf | logz: -1.035 +/-  0.038 | dlogz:  0.859 >  0.509]"
     ]
    },
    {
     "name": "stdout",
     "output_type": "stream",
     "text": [
      "-0.1702951478009286\n"
     ]
    },
    {
     "name": "stderr",
     "output_type": "stream",
     "text": [
      "342it [14:21,  5.06s/it, bound: 0 | nc: 1 | ncall: 984 | eff(%): 34.756 | loglstar:   -inf < -0.246 <    inf | logz: -1.033 +/-  0.038 | dlogz:  0.857 >  0.509]"
     ]
    },
    {
     "name": "stdout",
     "output_type": "stream",
     "text": [
      "-0.1617634786816082\n",
      "-0.4594244753053358\n",
      "-0.5190490157161589\n",
      "-0.32124003008272983\n",
      "-0.3135233566619632\n"
     ]
    },
    {
     "name": "stderr",
     "output_type": "stream",
     "text": [
      "343it [14:29,  6.13s/it, bound: 0 | nc: 5 | ncall: 989 | eff(%): 34.681 | loglstar:   -inf < -0.246 <    inf | logz: -1.031 +/-  0.038 | dlogz:  0.854 >  0.509]"
     ]
    },
    {
     "name": "stdout",
     "output_type": "stream",
     "text": [
      "-0.24036399593023075\n"
     ]
    },
    {
     "name": "stderr",
     "output_type": "stream",
     "text": [
      "344it [14:31,  4.79s/it, bound: 0 | nc: 1 | ncall: 990 | eff(%): 34.747 | loglstar:   -inf < -0.246 <    inf | logz: -1.028 +/-  0.037 | dlogz:  0.852 >  0.509]"
     ]
    },
    {
     "name": "stdout",
     "output_type": "stream",
     "text": [
      "-0.19928894609615294\n",
      "-0.371327636530095\n"
     ]
    },
    {
     "name": "stderr",
     "output_type": "stream",
     "text": [
      "345it [14:34,  4.36s/it, bound: 0 | nc: 2 | ncall: 992 | eff(%): 34.778 | loglstar:   -inf < -0.246 <    inf | logz: -1.026 +/-  0.037 | dlogz:  0.850 >  0.509]"
     ]
    },
    {
     "name": "stdout",
     "output_type": "stream",
     "text": [
      "-0.23899141631345783\n"
     ]
    },
    {
     "name": "stderr",
     "output_type": "stream",
     "text": [
      "346it [14:36,  3.59s/it, bound: 0 | nc: 1 | ncall: 993 | eff(%): 34.844 | loglstar:   -inf < -0.246 <    inf | logz: -1.024 +/-  0.037 | dlogz:  0.847 >  0.509]"
     ]
    },
    {
     "name": "stdout",
     "output_type": "stream",
     "text": [
      "-0.1920311702220054\n"
     ]
    },
    {
     "name": "stderr",
     "output_type": "stream",
     "text": [
      "347it [14:38,  3.03s/it, bound: 0 | nc: 1 | ncall: 994 | eff(%): 34.909 | loglstar:   -inf < -0.246 <    inf | logz: -1.022 +/-  0.037 | dlogz:  0.845 >  0.509]"
     ]
    },
    {
     "name": "stdout",
     "output_type": "stream",
     "text": [
      "-0.2085408498514748\n",
      "-0.5479052553334535\n"
     ]
    },
    {
     "name": "stderr",
     "output_type": "stream",
     "text": [
      "348it [14:41,  3.18s/it, bound: 0 | nc: 2 | ncall: 996 | eff(%): 34.940 | loglstar:   -inf < -0.245 <    inf | logz: -1.020 +/-  0.037 | dlogz:  0.842 >  0.509]"
     ]
    },
    {
     "name": "stdout",
     "output_type": "stream",
     "text": [
      "-0.19844086716023407\n"
     ]
    },
    {
     "name": "stderr",
     "output_type": "stream",
     "text": [
      "349it [14:43,  2.73s/it, bound: 0 | nc: 1 | ncall: 997 | eff(%): 35.005 | loglstar:   -inf < -0.245 <    inf | logz: -1.018 +/-  0.037 | dlogz:  0.840 >  0.509]"
     ]
    },
    {
     "name": "stdout",
     "output_type": "stream",
     "text": [
      "-0.20967295687067639\n"
     ]
    },
    {
     "name": "stderr",
     "output_type": "stream",
     "text": [
      "350it [14:45,  2.43s/it, bound: 0 | nc: 1 | ncall: 998 | eff(%): 35.070 | loglstar:   -inf < -0.244 <    inf | logz: -1.015 +/-  0.037 | dlogz:  0.838 >  0.509]"
     ]
    },
    {
     "name": "stdout",
     "output_type": "stream",
     "text": [
      "-0.15993183184845342\n",
      "-0.2566550086711584\n"
     ]
    },
    {
     "name": "stderr",
     "output_type": "stream",
     "text": [
      "351it [14:48,  2.71s/it, bound: 0 | nc: 2 | ncall: 1000 | eff(%): 35.100 | loglstar:   -inf < -0.244 <    inf | logz: -1.013 +/-  0.037 | dlogz:  0.835 >  0.509]"
     ]
    },
    {
     "name": "stdout",
     "output_type": "stream",
     "text": [
      "-0.1463229103207292\n",
      "-0.30790032823289165\n",
      "-0.3541865035633638\n",
      "-0.33065776875033476\n",
      "-0.2621826157238664\n",
      "-0.2462305586629022\n"
     ]
    },
    {
     "name": "stderr",
     "output_type": "stream",
     "text": [
      "352it [14:58,  4.95s/it, bound: 0 | nc: 6 | ncall: 1006 | eff(%): 34.990 | loglstar:   -inf < -0.244 <    inf | logz: -1.011 +/-  0.037 | dlogz:  0.833 >  0.509]"
     ]
    },
    {
     "name": "stdout",
     "output_type": "stream",
     "text": [
      "-0.24000866902405946\n",
      "-0.2880094356454548\n"
     ]
    },
    {
     "name": "stderr",
     "output_type": "stream",
     "text": [
      "353it [15:02,  4.50s/it, bound: 0 | nc: 2 | ncall: 1008 | eff(%): 35.020 | loglstar:   -inf < -0.243 <    inf | logz: -1.009 +/-  0.037 | dlogz:  0.831 >  0.509]"
     ]
    },
    {
     "name": "stdout",
     "output_type": "stream",
     "text": [
      "-0.1782661655603012\n"
     ]
    },
    {
     "name": "stderr",
     "output_type": "stream",
     "text": [
      "354it [15:03,  3.65s/it, bound: 0 | nc: 1 | ncall: 1009 | eff(%): 35.084 | loglstar:   -inf < -0.243 <    inf | logz: -1.007 +/-  0.037 | dlogz:  0.828 >  0.509]"
     ]
    },
    {
     "name": "stdout",
     "output_type": "stream",
     "text": [
      "-0.18439017371990638\n"
     ]
    },
    {
     "name": "stderr",
     "output_type": "stream",
     "text": [
      "355it [15:05,  3.07s/it, bound: 0 | nc: 1 | ncall: 1010 | eff(%): 35.149 | loglstar:   -inf < -0.243 <    inf | logz: -1.005 +/-  0.037 | dlogz:  0.826 >  0.509]"
     ]
    },
    {
     "name": "stdout",
     "output_type": "stream",
     "text": [
      "-0.1478012157931442\n"
     ]
    },
    {
     "name": "stderr",
     "output_type": "stream",
     "text": [
      "356it [15:07,  2.66s/it, bound: 0 | nc: 1 | ncall: 1011 | eff(%): 35.213 | loglstar:   -inf < -0.243 <    inf | logz: -1.003 +/-  0.037 | dlogz:  0.824 >  0.509]"
     ]
    },
    {
     "name": "stdout",
     "output_type": "stream",
     "text": [
      "-0.14554011847993192\n"
     ]
    },
    {
     "name": "stderr",
     "output_type": "stream",
     "text": [
      "357it [15:08,  2.37s/it, bound: 0 | nc: 1 | ncall: 1012 | eff(%): 35.277 | loglstar:   -inf < -0.243 <    inf | logz: -1.001 +/-  0.037 | dlogz:  0.821 >  0.509]"
     ]
    },
    {
     "name": "stdout",
     "output_type": "stream",
     "text": [
      "-0.23762604968549964\n",
      "-0.3452659475873829\n",
      "-0.37525042514495094\n",
      "-0.35571964460620553\n"
     ]
    },
    {
     "name": "stderr",
     "output_type": "stream",
     "text": [
      "358it [15:15,  3.73s/it, bound: 0 | nc: 4 | ncall: 1016 | eff(%): 35.236 | loglstar:   -inf < -0.243 <    inf | logz: -0.999 +/-  0.037 | dlogz:  0.819 >  0.509]"
     ]
    },
    {
     "name": "stdout",
     "output_type": "stream",
     "text": [
      "-0.22221756661832306\n",
      "-0.3086879399958764\n"
     ]
    },
    {
     "name": "stderr",
     "output_type": "stream",
     "text": [
      "359it [15:19,  3.63s/it, bound: 0 | nc: 2 | ncall: 1018 | eff(%): 35.265 | loglstar:   -inf < -0.241 <    inf | logz: -0.996 +/-  0.037 | dlogz:  0.817 >  0.509]"
     ]
    },
    {
     "name": "stdout",
     "output_type": "stream",
     "text": [
      "-0.18516000723754236\n",
      "-0.31454215344083414\n"
     ]
    },
    {
     "name": "stderr",
     "output_type": "stream",
     "text": [
      "360it [15:22,  3.58s/it, bound: 0 | nc: 2 | ncall: 1020 | eff(%): 35.294 | loglstar:   -inf < -0.241 <    inf | logz: -0.994 +/-  0.037 | dlogz:  0.815 >  0.509]"
     ]
    },
    {
     "name": "stdout",
     "output_type": "stream",
     "text": [
      "-0.1839817512808485\n",
      "-0.29818198743464214\n",
      "-0.28302911784678814\n"
     ]
    },
    {
     "name": "stderr",
     "output_type": "stream",
     "text": [
      "361it [15:27,  4.03s/it, bound: 0 | nc: 3 | ncall: 1023 | eff(%): 35.288 | loglstar:   -inf < -0.240 <    inf | logz: -0.992 +/-  0.037 | dlogz:  0.812 >  0.509]"
     ]
    },
    {
     "name": "stdout",
     "output_type": "stream",
     "text": [
      "-0.11469992161736811\n"
     ]
    },
    {
     "name": "stderr",
     "output_type": "stream",
     "text": [
      "362it [15:29,  3.33s/it, bound: 0 | nc: 1 | ncall: 1024 | eff(%): 35.352 | loglstar:   -inf < -0.240 <    inf | logz: -0.990 +/-  0.037 | dlogz:  0.810 >  0.509]"
     ]
    },
    {
     "name": "stdout",
     "output_type": "stream",
     "text": [
      "-0.12422296882500235\n"
     ]
    },
    {
     "name": "stderr",
     "output_type": "stream",
     "text": [
      "363it [15:31,  2.85s/it, bound: 0 | nc: 1 | ncall: 1025 | eff(%): 35.415 | loglstar:   -inf < -0.240 <    inf | logz: -0.988 +/-  0.036 | dlogz:  0.808 >  0.509]"
     ]
    },
    {
     "name": "stdout",
     "output_type": "stream",
     "text": [
      "-0.2062648284505838\n",
      "-0.446080003131817\n",
      "-0.26648318855646497\n",
      "-0.33083478284121287\n",
      "-0.24440847701526916\n"
     ]
    },
    {
     "name": "stderr",
     "output_type": "stream",
     "text": [
      "364it [15:39,  4.57s/it, bound: 0 | nc: 5 | ncall: 1030 | eff(%): 35.340 | loglstar:   -inf < -0.239 <    inf | logz: -0.986 +/-  0.036 | dlogz:  0.806 >  0.509]"
     ]
    },
    {
     "name": "stdout",
     "output_type": "stream",
     "text": [
      "-0.19695045285848478\n"
     ]
    },
    {
     "name": "stderr",
     "output_type": "stream",
     "text": [
      "365it [15:41,  3.75s/it, bound: 0 | nc: 1 | ncall: 1031 | eff(%): 35.403 | loglstar:   -inf < -0.239 <    inf | logz: -0.984 +/-  0.036 | dlogz:  0.803 >  0.509]"
     ]
    },
    {
     "name": "stdout",
     "output_type": "stream",
     "text": [
      "-0.22570029435549577\n",
      "-0.4358345395588678\n"
     ]
    },
    {
     "name": "stderr",
     "output_type": "stream",
     "text": [
      "366it [15:45,  3.69s/it, bound: 0 | nc: 2 | ncall: 1033 | eff(%): 35.431 | loglstar:   -inf < -0.238 <    inf | logz: -0.982 +/-  0.036 | dlogz:  0.801 >  0.509]"
     ]
    },
    {
     "name": "stdout",
     "output_type": "stream",
     "text": [
      "-0.14035670371673944\n",
      "-0.2503834064203099\n"
     ]
    },
    {
     "name": "stderr",
     "output_type": "stream",
     "text": [
      "367it [15:48,  3.60s/it, bound: 0 | nc: 2 | ncall: 1035 | eff(%): 35.459 | loglstar:   -inf < -0.238 <    inf | logz: -0.980 +/-  0.036 | dlogz:  0.799 >  0.509]"
     ]
    },
    {
     "name": "stdout",
     "output_type": "stream",
     "text": [
      "-0.20744792456141536\n",
      "-0.2668517072498321\n",
      "-0.3693725701485842\n",
      "-0.5419838450025741\n"
     ]
    },
    {
     "name": "stderr",
     "output_type": "stream",
     "text": [
      "368it [15:55,  4.71s/it, bound: 0 | nc: 4 | ncall: 1039 | eff(%): 35.419 | loglstar:   -inf < -0.238 <    inf | logz: -0.978 +/-  0.036 | dlogz:  0.797 >  0.509]"
     ]
    },
    {
     "name": "stdout",
     "output_type": "stream",
     "text": [
      "-0.23741656834834227\n",
      "-0.2566471563817027\n",
      "-0.29748918395639856\n",
      "-0.2762655659720876\n",
      "-0.32945262420980814\n",
      "-0.24208734447667915\n"
     ]
    },
    {
     "name": "stderr",
     "output_type": "stream",
     "text": [
      "369it [16:05,  6.33s/it, bound: 0 | nc: 6 | ncall: 1045 | eff(%): 35.311 | loglstar:   -inf < -0.238 <    inf | logz: -0.976 +/-  0.036 | dlogz:  0.794 >  0.509]"
     ]
    },
    {
     "name": "stdout",
     "output_type": "stream",
     "text": [
      "-0.20967174101953784\n",
      "-0.2609553738717364\n"
     ]
    },
    {
     "name": "stderr",
     "output_type": "stream",
     "text": [
      "370it [16:09,  5.45s/it, bound: 0 | nc: 2 | ncall: 1047 | eff(%): 35.339 | loglstar:   -inf < -0.238 <    inf | logz: -0.974 +/-  0.036 | dlogz:  0.792 >  0.509]"
     ]
    },
    {
     "name": "stdout",
     "output_type": "stream",
     "text": [
      "-0.16075832920228733\n"
     ]
    },
    {
     "name": "stderr",
     "output_type": "stream",
     "text": [
      "371it [16:11,  4.33s/it, bound: 0 | nc: 1 | ncall: 1048 | eff(%): 35.401 | loglstar:   -inf < -0.238 <    inf | logz: -0.972 +/-  0.036 | dlogz:  0.790 >  0.509]"
     ]
    },
    {
     "name": "stdout",
     "output_type": "stream",
     "text": [
      "-0.14399791214804558\n",
      "-0.3707537202783261\n",
      "-0.2644972914110296\n",
      "-0.2813590953171423\n",
      "-0.29734783894481703\n",
      "-0.40206892585582127\n",
      "-0.38070178171193136\n"
     ]
    },
    {
     "name": "stderr",
     "output_type": "stream",
     "text": [
      "372it [16:22,  6.58s/it, bound: 0 | nc: 7 | ncall: 1055 | eff(%): 35.261 | loglstar:   -inf < -0.238 <    inf | logz: -0.970 +/-  0.036 | dlogz:  0.788 >  0.509]"
     ]
    },
    {
     "name": "stdout",
     "output_type": "stream",
     "text": [
      "-0.15938982712087849\n"
     ]
    },
    {
     "name": "stderr",
     "output_type": "stream",
     "text": [
      "373it [16:24,  5.13s/it, bound: 0 | nc: 1 | ncall: 1056 | eff(%): 35.322 | loglstar:   -inf < -0.237 <    inf | logz: -0.968 +/-  0.036 | dlogz:  0.786 >  0.509]"
     ]
    },
    {
     "name": "stdout",
     "output_type": "stream",
     "text": [
      "-0.23544797516575408\n",
      "-0.2387740573324566\n",
      "-0.34890879897135535\n",
      "-0.32703922207748726\n"
     ]
    },
    {
     "name": "stderr",
     "output_type": "stream",
     "text": [
      "374it [16:31,  5.62s/it, bound: 0 | nc: 4 | ncall: 1060 | eff(%): 35.283 | loglstar:   -inf < -0.237 <    inf | logz: -0.966 +/-  0.036 | dlogz:  0.784 >  0.509]"
     ]
    },
    {
     "name": "stdout",
     "output_type": "stream",
     "text": [
      "-0.11723172697751985\n",
      "-0.33616098903647246\n",
      "-0.3331191742916633\n",
      "-0.29481993585632127\n",
      "-0.24665462262135646\n",
      "-0.5455725990444396\n",
      "-0.29505279810355967\n"
     ]
    },
    {
     "name": "stderr",
     "output_type": "stream",
     "text": [
      "375it [16:43,  7.51s/it, bound: 0 | nc: 7 | ncall: 1067 | eff(%): 35.145 | loglstar:   -inf < -0.237 <    inf | logz: -0.964 +/-  0.036 | dlogz:  0.781 >  0.509]"
     ]
    },
    {
     "name": "stdout",
     "output_type": "stream",
     "text": [
      "-0.17741128835388514\n"
     ]
    },
    {
     "name": "stderr",
     "output_type": "stream",
     "text": [
      "376it [16:44,  5.76s/it, bound: 0 | nc: 1 | ncall: 1068 | eff(%): 35.206 | loglstar:   -inf < -0.237 <    inf | logz: -0.962 +/-  0.036 | dlogz:  0.779 >  0.509]"
     ]
    },
    {
     "name": "stdout",
     "output_type": "stream",
     "text": [
      "-0.21148676722616658\n",
      "-0.3261257197152889\n"
     ]
    },
    {
     "name": "stderr",
     "output_type": "stream",
     "text": [
      "377it [16:48,  5.04s/it, bound: 0 | nc: 2 | ncall: 1070 | eff(%): 35.234 | loglstar:   -inf < -0.237 <    inf | logz: -0.960 +/-  0.036 | dlogz:  0.777 >  0.509]"
     ]
    },
    {
     "name": "stdout",
     "output_type": "stream",
     "text": [
      "-0.11000499950532412\n",
      "-0.30382986740037576\n",
      "-0.2730927592859055\n"
     ]
    },
    {
     "name": "stderr",
     "output_type": "stream",
     "text": [
      "378it [16:57,  6.37s/it, bound: 0 | nc: 3 | ncall: 1073 | eff(%): 35.228 | loglstar:   -inf < -0.237 <    inf | logz: -0.958 +/-  0.036 | dlogz:  0.775 >  0.509]"
     ]
    },
    {
     "name": "stdout",
     "output_type": "stream",
     "text": [
      "-0.21387420385938696\n"
     ]
    },
    {
     "name": "stderr",
     "output_type": "stream",
     "text": [
      "379it [16:59,  4.96s/it, bound: 0 | nc: 1 | ncall: 1074 | eff(%): 35.289 | loglstar:   -inf < -0.236 <    inf | logz: -0.956 +/-  0.036 | dlogz:  0.773 >  0.509]"
     ]
    },
    {
     "name": "stdout",
     "output_type": "stream",
     "text": [
      "-0.21699248308517338\n"
     ]
    },
    {
     "name": "stderr",
     "output_type": "stream",
     "text": [
      "380it [17:01,  3.98s/it, bound: 0 | nc: 1 | ncall: 1075 | eff(%): 35.349 | loglstar:   -inf < -0.236 <    inf | logz: -0.955 +/-  0.036 | dlogz:  0.771 >  0.509]"
     ]
    },
    {
     "name": "stdout",
     "output_type": "stream",
     "text": [
      "-0.14325589883924547\n"
     ]
    },
    {
     "name": "stderr",
     "output_type": "stream",
     "text": [
      "381it [17:02,  3.30s/it, bound: 0 | nc: 1 | ncall: 1076 | eff(%): 35.409 | loglstar:   -inf < -0.236 <    inf | logz: -0.953 +/-  0.036 | dlogz:  0.769 >  0.509]"
     ]
    },
    {
     "name": "stdout",
     "output_type": "stream",
     "text": [
      "-0.16343710563403993\n"
     ]
    },
    {
     "name": "stderr",
     "output_type": "stream",
     "text": [
      "382it [17:04,  2.82s/it, bound: 0 | nc: 1 | ncall: 1077 | eff(%): 35.469 | loglstar:   -inf < -0.236 <    inf | logz: -0.951 +/-  0.036 | dlogz:  0.767 >  0.509]"
     ]
    },
    {
     "name": "stdout",
     "output_type": "stream",
     "text": [
      "-0.11202939882266935\n"
     ]
    },
    {
     "name": "stderr",
     "output_type": "stream",
     "text": [
      "383it [17:06,  2.48s/it, bound: 0 | nc: 1 | ncall: 1078 | eff(%): 35.529 | loglstar:   -inf < -0.235 <    inf | logz: -0.949 +/-  0.035 | dlogz:  0.765 >  0.509]"
     ]
    },
    {
     "name": "stdout",
     "output_type": "stream",
     "text": [
      "-0.21350226658477192\n",
      "-0.2637619416249741\n",
      "-0.37990843334606333\n"
     ]
    },
    {
     "name": "stderr",
     "output_type": "stream",
     "text": [
      "384it [17:11,  3.25s/it, bound: 0 | nc: 3 | ncall: 1081 | eff(%): 35.523 | loglstar:   -inf < -0.235 <    inf | logz: -0.947 +/-  0.035 | dlogz:  0.762 >  0.509]"
     ]
    },
    {
     "name": "stdout",
     "output_type": "stream",
     "text": [
      "-0.18597885430671035\n",
      "-0.26446958969338746\n",
      "-0.3574502304213807\n",
      "-0.26251997075883393\n",
      "-0.5042379286021227\n",
      "-0.26129206651911197\n"
     ]
    },
    {
     "name": "stderr",
     "output_type": "stream",
     "text": [
      "385it [17:21,  5.33s/it, bound: 0 | nc: 6 | ncall: 1087 | eff(%): 35.419 | loglstar:   -inf < -0.235 <    inf | logz: -0.945 +/-  0.035 | dlogz:  0.760 >  0.509]"
     ]
    },
    {
     "name": "stdout",
     "output_type": "stream",
     "text": [
      "-0.21188698405500994\n"
     ]
    },
    {
     "name": "stderr",
     "output_type": "stream",
     "text": [
      "386it [17:23,  4.24s/it, bound: 0 | nc: 1 | ncall: 1088 | eff(%): 35.478 | loglstar:   -inf < -0.235 <    inf | logz: -0.943 +/-  0.035 | dlogz:  0.758 >  0.509]"
     ]
    },
    {
     "name": "stdout",
     "output_type": "stream",
     "text": [
      "-0.20057202946319685\n"
     ]
    },
    {
     "name": "stderr",
     "output_type": "stream",
     "text": [
      "387it [17:24,  3.47s/it, bound: 0 | nc: 1 | ncall: 1089 | eff(%): 35.537 | loglstar:   -inf < -0.235 <    inf | logz: -0.941 +/-  0.035 | dlogz:  0.756 >  0.509]"
     ]
    },
    {
     "name": "stdout",
     "output_type": "stream",
     "text": [
      "-0.15845212377524254\n"
     ]
    },
    {
     "name": "stderr",
     "output_type": "stream",
     "text": [
      "388it [17:26,  2.93s/it, bound: 0 | nc: 1 | ncall: 1090 | eff(%): 35.596 | loglstar:   -inf < -0.235 <    inf | logz: -0.939 +/-  0.035 | dlogz:  0.754 >  0.509]"
     ]
    },
    {
     "name": "stdout",
     "output_type": "stream",
     "text": [
      "-0.2006251989497125\n",
      "-0.5009400645926292\n",
      "-0.32428568074164366\n"
     ]
    },
    {
     "name": "stderr",
     "output_type": "stream",
     "text": [
      "389it [17:31,  3.58s/it, bound: 0 | nc: 3 | ncall: 1093 | eff(%): 35.590 | loglstar:   -inf < -0.235 <    inf | logz: -0.938 +/-  0.035 | dlogz:  0.752 >  0.509]"
     ]
    },
    {
     "name": "stdout",
     "output_type": "stream",
     "text": [
      "-0.14626189454043217\n"
     ]
    },
    {
     "name": "stderr",
     "output_type": "stream",
     "text": [
      "390it [17:33,  3.01s/it, bound: 0 | nc: 1 | ncall: 1094 | eff(%): 35.649 | loglstar:   -inf < -0.234 <    inf | logz: -0.936 +/-  0.035 | dlogz:  0.750 >  0.509]"
     ]
    },
    {
     "name": "stdout",
     "output_type": "stream",
     "text": [
      "-0.17972376576221077\n",
      "-0.45716635412540413\n"
     ]
    },
    {
     "name": "stderr",
     "output_type": "stream",
     "text": [
      "391it [17:36,  3.13s/it, bound: 0 | nc: 2 | ncall: 1096 | eff(%): 35.675 | loglstar:   -inf < -0.234 <    inf | logz: -0.934 +/-  0.035 | dlogz:  0.748 >  0.509]"
     ]
    },
    {
     "name": "stdout",
     "output_type": "stream",
     "text": [
      "-0.2102826115596201\n",
      "-0.37649811544254946\n",
      "-0.26229446800189066\n",
      "-0.26815557142573\n",
      "-0.3226745754256309\n",
      "-0.3629151346972894\n",
      "-0.28878102790395105\n",
      "-0.2570246563020182\n",
      "-0.27452710384636275\n"
     ]
    },
    {
     "name": "stderr",
     "output_type": "stream",
     "text": [
      "392it [17:51,  6.77s/it, bound: 0 | nc: 9 | ncall: 1105 | eff(%): 35.475 | loglstar:   -inf < -0.234 <    inf | logz: -0.932 +/-  0.035 | dlogz:  0.746 >  0.509]"
     ]
    },
    {
     "name": "stdout",
     "output_type": "stream",
     "text": [
      "-0.18504915250650614\n"
     ]
    },
    {
     "name": "stderr",
     "output_type": "stream",
     "text": [
      "393it [17:53,  5.24s/it, bound: 0 | nc: 1 | ncall: 1106 | eff(%): 35.533 | loglstar:   -inf < -0.234 <    inf | logz: -0.930 +/-  0.035 | dlogz:  0.744 >  0.509]"
     ]
    },
    {
     "name": "stdout",
     "output_type": "stream",
     "text": [
      "-0.19392379682379157\n"
     ]
    },
    {
     "name": "stderr",
     "output_type": "stream",
     "text": [
      "394it [17:55,  4.17s/it, bound: 0 | nc: 1 | ncall: 1107 | eff(%): 35.592 | loglstar:   -inf < -0.234 <    inf | logz: -0.928 +/-  0.035 | dlogz:  0.742 >  0.509]"
     ]
    },
    {
     "name": "stdout",
     "output_type": "stream",
     "text": [
      "-0.09878211602110679\n",
      "-0.27961319375027\n",
      "-0.3501860635108275\n"
     ]
    },
    {
     "name": "stderr",
     "output_type": "stream",
     "text": [
      "395it [18:00,  4.45s/it, bound: 0 | nc: 3 | ncall: 1110 | eff(%): 35.586 | loglstar:   -inf < -0.233 <    inf | logz: -0.927 +/-  0.035 | dlogz:  0.740 >  0.509]"
     ]
    },
    {
     "name": "stdout",
     "output_type": "stream",
     "text": [
      "-0.20572074669247378\n",
      "-0.4705063362308478\n"
     ]
    },
    {
     "name": "stderr",
     "output_type": "stream",
     "text": [
      "396it [18:03,  4.13s/it, bound: 0 | nc: 2 | ncall: 1112 | eff(%): 35.612 | loglstar:   -inf < -0.233 <    inf | logz: -0.925 +/-  0.035 | dlogz:  0.738 >  0.509]"
     ]
    },
    {
     "name": "stdout",
     "output_type": "stream",
     "text": [
      "-0.13128755188069055\n"
     ]
    },
    {
     "name": "stderr",
     "output_type": "stream",
     "text": [
      "397it [18:05,  3.40s/it, bound: 0 | nc: 1 | ncall: 1113 | eff(%): 35.669 | loglstar:   -inf < -0.232 <    inf | logz: -0.923 +/-  0.035 | dlogz:  0.736 >  0.509]"
     ]
    },
    {
     "name": "stdout",
     "output_type": "stream",
     "text": [
      "-0.17857248511258308\n",
      "-0.23250989550217646\n"
     ]
    },
    {
     "name": "stderr",
     "output_type": "stream",
     "text": [
      "398it [18:08,  3.38s/it, bound: 0 | nc: 2 | ncall: 1115 | eff(%): 35.695 | loglstar:   -inf < -0.232 <    inf | logz: -0.921 +/-  0.035 | dlogz:  0.734 >  0.509]"
     ]
    },
    {
     "name": "stdout",
     "output_type": "stream",
     "text": [
      "-0.1952047030026673\n"
     ]
    },
    {
     "name": "stderr",
     "output_type": "stream",
     "text": [
      "399it [18:10,  2.88s/it, bound: 0 | nc: 1 | ncall: 1116 | eff(%): 35.753 | loglstar:   -inf < -0.232 <    inf | logz: -0.919 +/-  0.035 | dlogz:  0.732 >  0.509]"
     ]
    },
    {
     "name": "stdout",
     "output_type": "stream",
     "text": [
      "-0.21332140441706407\n",
      "-0.4241721599019582\n",
      "-0.30033339107588314\n",
      "-0.27144201849512\n"
     ]
    },
    {
     "name": "stderr",
     "output_type": "stream",
     "text": [
      "400it [18:17,  4.06s/it, bound: 0 | nc: 4 | ncall: 1120 | eff(%): 35.714 | loglstar:   -inf < -0.232 <    inf | logz: -0.918 +/-  0.035 | dlogz:  0.730 >  0.509]"
     ]
    },
    {
     "name": "stdout",
     "output_type": "stream",
     "text": [
      "-0.21869198745250318\n",
      "-0.2488014111793117\n",
      "-0.37243540456028956\n",
      "-0.43584957570200755\n"
     ]
    },
    {
     "name": "stderr",
     "output_type": "stream",
     "text": [
      "401it [18:24,  4.87s/it, bound: 0 | nc: 4 | ncall: 1124 | eff(%): 35.676 | loglstar:   -inf < -0.232 <    inf | logz: -0.916 +/-  0.035 | dlogz:  0.728 >  0.509]"
     ]
    },
    {
     "name": "stdout",
     "output_type": "stream",
     "text": [
      "-0.17418766281014567\n"
     ]
    },
    {
     "name": "stderr",
     "output_type": "stream",
     "text": [
      "402it [18:25,  3.93s/it, bound: 0 | nc: 1 | ncall: 1125 | eff(%): 35.733 | loglstar:   -inf < -0.230 <    inf | logz: -0.914 +/-  0.035 | dlogz:  0.726 >  0.509]"
     ]
    },
    {
     "name": "stdout",
     "output_type": "stream",
     "text": [
      "-0.16231556876007666\n",
      "-0.43260872465533357\n",
      "-0.24736888193606288\n",
      "-0.35480067443566243\n"
     ]
    },
    {
     "name": "stderr",
     "output_type": "stream",
     "text": [
      "403it [18:32,  4.78s/it, bound: 0 | nc: 4 | ncall: 1129 | eff(%): 35.695 | loglstar:   -inf < -0.230 <    inf | logz: -0.912 +/-  0.035 | dlogz:  0.724 >  0.509]"
     ]
    },
    {
     "name": "stdout",
     "output_type": "stream",
     "text": [
      "-0.08968334902108624\n",
      "-0.27386436026086264\n",
      "-0.2755656229261185\n"
     ]
    },
    {
     "name": "stderr",
     "output_type": "stream",
     "text": [
      "404it [18:37,  4.86s/it, bound: 0 | nc: 3 | ncall: 1132 | eff(%): 35.689 | loglstar:   -inf < -0.230 <    inf | logz: -0.910 +/-  0.034 | dlogz:  0.722 >  0.509]"
     ]
    },
    {
     "name": "stdout",
     "output_type": "stream",
     "text": [
      "-0.20928784019084798\n"
     ]
    },
    {
     "name": "stderr",
     "output_type": "stream",
     "text": [
      "405it [18:39,  3.91s/it, bound: 0 | nc: 1 | ncall: 1133 | eff(%): 35.746 | loglstar:   -inf < -0.230 <    inf | logz: -0.909 +/-  0.034 | dlogz:  0.720 >  0.509]"
     ]
    },
    {
     "name": "stdout",
     "output_type": "stream",
     "text": [
      "-0.1758066399683832\n",
      "-0.4113207817635043\n"
     ]
    },
    {
     "name": "stderr",
     "output_type": "stream",
     "text": [
      "406it [18:42,  3.75s/it, bound: 0 | nc: 2 | ncall: 1135 | eff(%): 35.771 | loglstar:   -inf < -0.229 <    inf | logz: -0.907 +/-  0.034 | dlogz:  0.718 >  0.509]"
     ]
    },
    {
     "name": "stdout",
     "output_type": "stream",
     "text": [
      "-0.19870607444025376\n"
     ]
    },
    {
     "name": "stderr",
     "output_type": "stream",
     "text": [
      "407it [18:44,  3.14s/it, bound: 0 | nc: 1 | ncall: 1136 | eff(%): 35.827 | loglstar:   -inf < -0.229 <    inf | logz: -0.905 +/-  0.034 | dlogz:  0.717 >  0.509]"
     ]
    },
    {
     "name": "stdout",
     "output_type": "stream",
     "text": [
      "-0.20932512858446253\n",
      "-0.4169106988654305\n",
      "-0.3001352636692464\n",
      "-0.23462929489806375\n",
      "-0.5439940885931436\n"
     ]
    },
    {
     "name": "stderr",
     "output_type": "stream",
     "text": [
      "408it [18:53,  4.82s/it, bound: 0 | nc: 5 | ncall: 1141 | eff(%): 35.758 | loglstar:   -inf < -0.229 <    inf | logz: -0.903 +/-  0.034 | dlogz:  0.715 >  0.509]"
     ]
    },
    {
     "name": "stdout",
     "output_type": "stream",
     "text": [
      "-0.16061958097523227\n"
     ]
    },
    {
     "name": "stderr",
     "output_type": "stream",
     "text": [
      "409it [18:54,  3.88s/it, bound: 0 | nc: 1 | ncall: 1142 | eff(%): 35.814 | loglstar:   -inf < -0.229 <    inf | logz: -0.902 +/-  0.034 | dlogz:  0.713 >  0.509]"
     ]
    },
    {
     "name": "stdout",
     "output_type": "stream",
     "text": [
      "-0.15853303584024722\n",
      "-0.2396637303710245\n",
      "-0.23154915756171798\n",
      "-0.2674231940806624\n"
     ]
    },
    {
     "name": "stderr",
     "output_type": "stream",
     "text": [
      "410it [19:01,  4.75s/it, bound: 0 | nc: 4 | ncall: 1146 | eff(%): 35.777 | loglstar:   -inf < -0.228 <    inf | logz: -0.900 +/-  0.034 | dlogz:  0.711 >  0.509]"
     ]
    },
    {
     "name": "stdout",
     "output_type": "stream",
     "text": [
      "-0.15275434602712987\n"
     ]
    },
    {
     "name": "stderr",
     "output_type": "stream",
     "text": [
      "411it [19:03,  3.82s/it, bound: 0 | nc: 1 | ncall: 1147 | eff(%): 35.833 | loglstar:   -inf < -0.228 <    inf | logz: -0.898 +/-  0.034 | dlogz:  0.709 >  0.509]"
     ]
    },
    {
     "name": "stdout",
     "output_type": "stream",
     "text": [
      "-0.15098119452091346\n"
     ]
    },
    {
     "name": "stderr",
     "output_type": "stream",
     "text": [
      "412it [19:04,  3.18s/it, bound: 0 | nc: 1 | ncall: 1148 | eff(%): 35.889 | loglstar:   -inf < -0.228 <    inf | logz: -0.897 +/-  0.034 | dlogz:  0.707 >  0.509]"
     ]
    },
    {
     "name": "stdout",
     "output_type": "stream",
     "text": [
      "-0.17814904674122575\n",
      "-0.23770863089523603\n",
      "-0.2933616709504675\n",
      "-0.42559594761586667\n",
      "-0.36297546698770955\n",
      "-0.26951132051893606\n"
     ]
    },
    {
     "name": "stderr",
     "output_type": "stream",
     "text": [
      "413it [19:15,  5.27s/it, bound: 0 | nc: 6 | ncall: 1154 | eff(%): 35.789 | loglstar:   -inf < -0.228 <    inf | logz: -0.895 +/-  0.034 | dlogz:  0.705 >  0.509]"
     ]
    },
    {
     "name": "stdout",
     "output_type": "stream",
     "text": [
      "-0.1363566935771867\n"
     ]
    },
    {
     "name": "stderr",
     "output_type": "stream",
     "text": [
      "414it [19:16,  4.19s/it, bound: 0 | nc: 1 | ncall: 1155 | eff(%): 35.844 | loglstar:   -inf < -0.228 <    inf | logz: -0.893 +/-  0.034 | dlogz:  0.703 >  0.509]"
     ]
    },
    {
     "name": "stdout",
     "output_type": "stream",
     "text": [
      "-0.21047026808093358\n",
      "-0.37108193338671214\n",
      "-0.2877816303328396\n",
      "-0.4230171868221237\n"
     ]
    },
    {
     "name": "stderr",
     "output_type": "stream",
     "text": [
      "415it [19:23,  4.98s/it, bound: 0 | nc: 4 | ncall: 1159 | eff(%): 35.807 | loglstar:   -inf < -0.228 <    inf | logz: -0.891 +/-  0.034 | dlogz:  0.701 >  0.509]"
     ]
    },
    {
     "name": "stdout",
     "output_type": "stream",
     "text": [
      "-0.11910470389837838\n"
     ]
    },
    {
     "name": "stderr",
     "output_type": "stream",
     "text": [
      "416it [19:25,  3.99s/it, bound: 0 | nc: 1 | ncall: 1160 | eff(%): 35.862 | loglstar:   -inf < -0.228 <    inf | logz: -0.890 +/-  0.034 | dlogz:  0.700 >  0.509]"
     ]
    },
    {
     "name": "stdout",
     "output_type": "stream",
     "text": [
      "-0.2245900285791497\n",
      "-0.30210191736370523\n",
      "-0.3066523359137226\n"
     ]
    },
    {
     "name": "stderr",
     "output_type": "stream",
     "text": [
      "417it [19:30,  4.31s/it, bound: 0 | nc: 3 | ncall: 1163 | eff(%): 35.856 | loglstar:   -inf < -0.227 <    inf | logz: -0.888 +/-  0.034 | dlogz:  0.698 >  0.509]"
     ]
    },
    {
     "name": "stdout",
     "output_type": "stream",
     "text": [
      "-0.21361073969923292\n"
     ]
    },
    {
     "name": "stderr",
     "output_type": "stream",
     "text": [
      "418it [19:32,  3.53s/it, bound: 0 | nc: 1 | ncall: 1164 | eff(%): 35.911 | loglstar:   -inf < -0.227 <    inf | logz: -0.886 +/-  0.034 | dlogz:  0.696 >  0.509]"
     ]
    },
    {
     "name": "stdout",
     "output_type": "stream",
     "text": [
      "-0.22458461701158117\n"
     ]
    },
    {
     "name": "stderr",
     "output_type": "stream",
     "text": [
      "419it [19:33,  2.98s/it, bound: 0 | nc: 1 | ncall: 1165 | eff(%): 35.966 | loglstar:   -inf < -0.227 <    inf | logz: -0.885 +/-  0.034 | dlogz:  0.694 >  0.509]"
     ]
    },
    {
     "name": "stdout",
     "output_type": "stream",
     "text": [
      "-0.2189778831004875\n"
     ]
    },
    {
     "name": "stderr",
     "output_type": "stream",
     "text": [
      "420it [19:35,  2.59s/it, bound: 0 | nc: 1 | ncall: 1166 | eff(%): 36.021 | loglstar:   -inf < -0.226 <    inf | logz: -0.883 +/-  0.034 | dlogz:  0.692 >  0.509]"
     ]
    },
    {
     "name": "stdout",
     "output_type": "stream",
     "text": [
      "-0.1888521086132543\n"
     ]
    },
    {
     "name": "stderr",
     "output_type": "stream",
     "text": [
      "421it [19:37,  2.32s/it, bound: 0 | nc: 1 | ncall: 1167 | eff(%): 36.075 | loglstar:   -inf < -0.226 <    inf | logz: -0.881 +/-  0.034 | dlogz:  0.690 >  0.509]"
     ]
    },
    {
     "name": "stdout",
     "output_type": "stream",
     "text": [
      "-0.19123857571101\n"
     ]
    },
    {
     "name": "stderr",
     "output_type": "stream",
     "text": [
      "422it [19:38,  2.12s/it, bound: 0 | nc: 1 | ncall: 1168 | eff(%): 36.130 | loglstar:   -inf < -0.226 <    inf | logz: -0.880 +/-  0.034 | dlogz:  0.689 >  0.509]"
     ]
    },
    {
     "name": "stdout",
     "output_type": "stream",
     "text": [
      "-0.1427853155891985\n",
      "-0.2356034557947916\n"
     ]
    },
    {
     "name": "stderr",
     "output_type": "stream",
     "text": [
      "423it [19:42,  2.50s/it, bound: 0 | nc: 2 | ncall: 1170 | eff(%): 36.154 | loglstar:   -inf < -0.226 <    inf | logz: -0.878 +/-  0.034 | dlogz:  0.687 >  0.509]"
     ]
    },
    {
     "name": "stdout",
     "output_type": "stream",
     "text": [
      "-0.19398632844705513\n"
     ]
    },
    {
     "name": "stderr",
     "output_type": "stream",
     "text": [
      "424it [19:43,  2.26s/it, bound: 0 | nc: 1 | ncall: 1171 | eff(%): 36.208 | loglstar:   -inf < -0.226 <    inf | logz: -0.876 +/-  0.034 | dlogz:  0.685 >  0.509]"
     ]
    },
    {
     "name": "stdout",
     "output_type": "stream",
     "text": [
      "-0.1316678487346553\n"
     ]
    },
    {
     "name": "stderr",
     "output_type": "stream",
     "text": [
      "425it [19:45,  2.09s/it, bound: 0 | nc: 1 | ncall: 1172 | eff(%): 36.263 | loglstar:   -inf < -0.226 <    inf | logz: -0.875 +/-  0.034 | dlogz:  0.683 >  0.509]"
     ]
    },
    {
     "name": "stdout",
     "output_type": "stream",
     "text": [
      "-0.17114573383816753\n"
     ]
    },
    {
     "name": "stderr",
     "output_type": "stream",
     "text": [
      "426it [19:47,  1.97s/it, bound: 0 | nc: 1 | ncall: 1173 | eff(%): 36.317 | loglstar:   -inf < -0.225 <    inf | logz: -0.873 +/-  0.033 | dlogz:  0.681 >  0.509]"
     ]
    },
    {
     "name": "stdout",
     "output_type": "stream",
     "text": [
      "-0.19690864167954003\n"
     ]
    },
    {
     "name": "stderr",
     "output_type": "stream",
     "text": [
      "427it [19:48,  1.89s/it, bound: 0 | nc: 1 | ncall: 1174 | eff(%): 36.371 | loglstar:   -inf < -0.225 <    inf | logz: -0.872 +/-  0.033 | dlogz:  0.680 >  0.509]"
     ]
    },
    {
     "name": "stdout",
     "output_type": "stream",
     "text": [
      "-0.18890714052354865\n",
      "-0.2642480514861829\n",
      "-0.22573865538733753\n",
      "-0.22790330307668458\n",
      "-0.301303526103499\n"
     ]
    },
    {
     "name": "stderr",
     "output_type": "stream",
     "text": [
      "428it [19:57,  3.86s/it, bound: 0 | nc: 5 | ncall: 1179 | eff(%): 36.302 | loglstar:   -inf < -0.225 <    inf | logz: -0.870 +/-  0.033 | dlogz:  0.678 >  0.509]"
     ]
    },
    {
     "name": "stdout",
     "output_type": "stream",
     "text": [
      "-0.1695238743994666\n"
     ]
    },
    {
     "name": "stderr",
     "output_type": "stream",
     "text": [
      "429it [19:59,  3.21s/it, bound: 0 | nc: 1 | ncall: 1180 | eff(%): 36.356 | loglstar:   -inf < -0.225 <    inf | logz: -0.868 +/-  0.033 | dlogz:  0.676 >  0.509]"
     ]
    },
    {
     "name": "stdout",
     "output_type": "stream",
     "text": [
      "-0.1786547997095121\n",
      "-0.2626500703734345\n",
      "-0.45127335681763936\n"
     ]
    },
    {
     "name": "stderr",
     "output_type": "stream",
     "text": [
      "430it [20:04,  3.75s/it, bound: 0 | nc: 3 | ncall: 1183 | eff(%): 36.348 | loglstar:   -inf < -0.225 <    inf | logz: -0.867 +/-  0.033 | dlogz:  0.674 >  0.509]"
     ]
    },
    {
     "name": "stdout",
     "output_type": "stream",
     "text": [
      "-0.15261360363687104\n",
      "-0.26445363173566466\n",
      "-0.24383813501247775\n"
     ]
    },
    {
     "name": "stderr",
     "output_type": "stream",
     "text": [
      "431it [20:09,  4.16s/it, bound: 0 | nc: 3 | ncall: 1186 | eff(%): 36.341 | loglstar:   -inf < -0.224 <    inf | logz: -0.865 +/-  0.033 | dlogz:  0.672 >  0.509]"
     ]
    },
    {
     "name": "stdout",
     "output_type": "stream",
     "text": [
      "-0.20030287352619328\n",
      "-0.2681721850516598\n",
      "-0.2991194566360974\n"
     ]
    },
    {
     "name": "stderr",
     "output_type": "stream",
     "text": [
      "432it [20:14,  4.44s/it, bound: 0 | nc: 3 | ncall: 1189 | eff(%): 36.333 | loglstar:   -inf < -0.224 <    inf | logz: -0.863 +/-  0.033 | dlogz:  0.671 >  0.509]"
     ]
    },
    {
     "name": "stdout",
     "output_type": "stream",
     "text": [
      "-0.19684524683810575\n",
      "-0.5038075050783998\n",
      "-0.44400127843859316\n",
      "-0.22572721130830808\n",
      "-0.2459678414270638\n"
     ]
    },
    {
     "name": "stderr",
     "output_type": "stream",
     "text": [
      "433it [20:22,  5.63s/it, bound: 0 | nc: 5 | ncall: 1194 | eff(%): 36.265 | loglstar:   -inf < -0.224 <    inf | logz: -0.862 +/-  0.033 | dlogz:  0.669 >  0.509]"
     ]
    },
    {
     "name": "stdout",
     "output_type": "stream",
     "text": [
      "-0.18172784495727412\n",
      "-0.23427377510579495\n"
     ]
    },
    {
     "name": "stderr",
     "output_type": "stream",
     "text": [
      "434it [20:26,  4.96s/it, bound: 0 | nc: 2 | ncall: 1196 | eff(%): 36.288 | loglstar:   -inf < -0.224 <    inf | logz: -0.860 +/-  0.033 | dlogz:  0.667 >  0.509]"
     ]
    },
    {
     "name": "stdout",
     "output_type": "stream",
     "text": [
      "-0.15539557713094618\n"
     ]
    },
    {
     "name": "stderr",
     "output_type": "stream",
     "text": [
      "435it [20:27,  3.98s/it, bound: 0 | nc: 1 | ncall: 1197 | eff(%): 36.341 | loglstar:   -inf < -0.224 <    inf | logz: -0.859 +/-  0.033 | dlogz:  0.665 >  0.509]"
     ]
    },
    {
     "name": "stdout",
     "output_type": "stream",
     "text": [
      "-0.09097903199908083\n",
      "-0.27860718721833444\n",
      "-0.23311933926435316\n"
     ]
    },
    {
     "name": "stderr",
     "output_type": "stream",
     "text": [
      "436it [20:32,  4.33s/it, bound: 0 | nc: 3 | ncall: 1200 | eff(%): 36.333 | loglstar:   -inf < -0.224 <    inf | logz: -0.857 +/-  0.033 | dlogz:  0.664 >  0.509]"
     ]
    },
    {
     "name": "stdout",
     "output_type": "stream",
     "text": [
      "-0.22133526336314052\n",
      "-0.2558562771338498\n",
      "-0.3921214751104963\n"
     ]
    },
    {
     "name": "stderr",
     "output_type": "stream",
     "text": [
      "437it [20:37,  4.54s/it, bound: 0 | nc: 3 | ncall: 1203 | eff(%): 36.326 | loglstar:   -inf < -0.223 <    inf | logz: -0.856 +/-  0.033 | dlogz:  0.662 >  0.509]"
     ]
    },
    {
     "name": "stdout",
     "output_type": "stream",
     "text": [
      "-0.18968045402979272\n",
      "-0.5040614063186348\n",
      "-0.28030869678297476\n"
     ]
    },
    {
     "name": "stderr",
     "output_type": "stream",
     "text": [
      "438it [20:43,  4.69s/it, bound: 0 | nc: 3 | ncall: 1206 | eff(%): 36.318 | loglstar:   -inf < -0.223 <    inf | logz: -0.854 +/-  0.033 | dlogz:  0.660 >  0.509]"
     ]
    },
    {
     "name": "stdout",
     "output_type": "stream",
     "text": [
      "-0.1836619817404825\n"
     ]
    },
    {
     "name": "stderr",
     "output_type": "stream",
     "text": [
      "439it [20:44,  3.80s/it, bound: 0 | nc: 1 | ncall: 1207 | eff(%): 36.371 | loglstar:   -inf < -0.223 <    inf | logz: -0.852 +/-  0.033 | dlogz:  0.658 >  0.509]"
     ]
    },
    {
     "name": "stdout",
     "output_type": "stream",
     "text": [
      "-0.08924393716799996\n",
      "-0.2531722032374409\n",
      "-0.27870338028926206\n",
      "-0.24718056266769511\n",
      "-0.26126185863524026\n",
      "-0.36361535468307254\n"
     ]
    },
    {
     "name": "stderr",
     "output_type": "stream",
     "text": [
      "440it [20:55,  5.74s/it, bound: 0 | nc: 6 | ncall: 1213 | eff(%): 36.274 | loglstar:   -inf < -0.222 <    inf | logz: -0.851 +/-  0.033 | dlogz:  0.657 >  0.509]"
     ]
    },
    {
     "name": "stdout",
     "output_type": "stream",
     "text": [
      "-0.16738339245102077\n"
     ]
    },
    {
     "name": "stderr",
     "output_type": "stream",
     "text": [
      "441it [20:56,  4.52s/it, bound: 0 | nc: 1 | ncall: 1214 | eff(%): 36.326 | loglstar:   -inf < -0.222 <    inf | logz: -0.849 +/-  0.033 | dlogz:  0.655 >  0.509]"
     ]
    },
    {
     "name": "stdout",
     "output_type": "stream",
     "text": [
      "-0.15499658833732857\n"
     ]
    },
    {
     "name": "stderr",
     "output_type": "stream",
     "text": [
      "442it [20:58,  3.68s/it, bound: 0 | nc: 1 | ncall: 1215 | eff(%): 36.379 | loglstar:   -inf < -0.222 <    inf | logz: -0.848 +/-  0.033 | dlogz:  0.653 >  0.509]"
     ]
    },
    {
     "name": "stdout",
     "output_type": "stream",
     "text": [
      "-0.16590690562150154\n"
     ]
    },
    {
     "name": "stderr",
     "output_type": "stream",
     "text": [
      "443it [21:00,  3.08s/it, bound: 0 | nc: 1 | ncall: 1216 | eff(%): 36.431 | loglstar:   -inf < -0.222 <    inf | logz: -0.846 +/-  0.033 | dlogz:  0.652 >  0.509]"
     ]
    },
    {
     "name": "stdout",
     "output_type": "stream",
     "text": [
      "-0.2188126484278812\n",
      "-0.23298505497072552\n",
      "-0.24075682724195507\n"
     ]
    },
    {
     "name": "stderr",
     "output_type": "stream",
     "text": [
      "444it [21:05,  3.70s/it, bound: 0 | nc: 3 | ncall: 1219 | eff(%): 36.423 | loglstar:   -inf < -0.222 <    inf | logz: -0.845 +/-  0.033 | dlogz:  0.650 >  0.509]"
     ]
    },
    {
     "name": "stdout",
     "output_type": "stream",
     "text": [
      "-0.17879322139946915\n"
     ]
    },
    {
     "name": "stderr",
     "output_type": "stream",
     "text": [
      "445it [21:06,  3.11s/it, bound: 0 | nc: 1 | ncall: 1220 | eff(%): 36.475 | loglstar:   -inf < -0.222 <    inf | logz: -0.843 +/-  0.033 | dlogz:  0.648 >  0.509]"
     ]
    },
    {
     "name": "stdout",
     "output_type": "stream",
     "text": [
      "-0.17736454969868176\n",
      "-0.3738309683689317\n"
     ]
    },
    {
     "name": "stderr",
     "output_type": "stream",
     "text": [
      "446it [21:10,  3.19s/it, bound: 0 | nc: 2 | ncall: 1222 | eff(%): 36.498 | loglstar:   -inf < -0.221 <    inf | logz: -0.842 +/-  0.033 | dlogz:  0.647 >  0.509]"
     ]
    },
    {
     "name": "stdout",
     "output_type": "stream",
     "text": [
      "-0.128768581851878\n",
      "-0.22875800664782125\n"
     ]
    },
    {
     "name": "stderr",
     "output_type": "stream",
     "text": [
      "447it [21:13,  3.24s/it, bound: 0 | nc: 2 | ncall: 1224 | eff(%): 36.520 | loglstar:   -inf < -0.221 <    inf | logz: -0.840 +/-  0.033 | dlogz:  0.645 >  0.509]"
     ]
    },
    {
     "name": "stdout",
     "output_type": "stream",
     "text": [
      "-0.13539029272003947\n"
     ]
    },
    {
     "name": "stderr",
     "output_type": "stream",
     "text": [
      "448it [21:15,  2.78s/it, bound: 0 | nc: 1 | ncall: 1225 | eff(%): 36.571 | loglstar:   -inf < -0.221 <    inf | logz: -0.839 +/-  0.033 | dlogz:  0.643 >  0.509]"
     ]
    },
    {
     "name": "stdout",
     "output_type": "stream",
     "text": [
      "-0.08737343435547512\n",
      "-0.2473486046687447\n",
      "-0.4984703257480817\n",
      "-0.42146449595700536\n",
      "-0.5351270020827918\n"
     ]
    },
    {
     "name": "stderr",
     "output_type": "stream",
     "text": [
      "449it [21:23,  4.50s/it, bound: 0 | nc: 5 | ncall: 1230 | eff(%): 36.504 | loglstar:   -inf < -0.221 <    inf | logz: -0.837 +/-  0.032 | dlogz:  0.642 >  0.509]"
     ]
    },
    {
     "name": "stdout",
     "output_type": "stream",
     "text": [
      "-0.20707776000724237\n",
      "-0.22526323533982845\n"
     ]
    },
    {
     "name": "stderr",
     "output_type": "stream",
     "text": [
      "450it [21:27,  4.16s/it, bound: 0 | nc: 2 | ncall: 1232 | eff(%): 36.526 | loglstar:   -inf < -0.220 <    inf | logz: -0.836 +/-  0.032 | dlogz:  0.640 >  0.509]"
     ]
    },
    {
     "name": "stdout",
     "output_type": "stream",
     "text": [
      "-0.18232531223238932\n",
      "-0.302055576935866\n",
      "-0.2309753563510458\n",
      "-0.26547710772308686\n"
     ]
    },
    {
     "name": "stderr",
     "output_type": "stream",
     "text": [
      "451it [21:34,  4.95s/it, bound: 0 | nc: 4 | ncall: 1236 | eff(%): 36.489 | loglstar:   -inf < -0.220 <    inf | logz: -0.834 +/-  0.032 | dlogz:  0.638 >  0.509]"
     ]
    },
    {
     "name": "stdout",
     "output_type": "stream",
     "text": [
      "-0.1619693337224486\n",
      "-0.284814380374023\n",
      "-0.24854022193545053\n"
     ]
    },
    {
     "name": "stderr",
     "output_type": "stream",
     "text": [
      "452it [21:44,  6.55s/it, bound: 0 | nc: 3 | ncall: 1239 | eff(%): 36.481 | loglstar:   -inf < -0.219 <    inf | logz: -0.833 +/-  0.032 | dlogz:  0.637 >  0.509]"
     ]
    },
    {
     "name": "stdout",
     "output_type": "stream",
     "text": [
      "-0.19099898563818282\n",
      "-0.32965402417310563\n"
     ]
    },
    {
     "name": "stderr",
     "output_type": "stream",
     "text": [
      "453it [21:47,  5.63s/it, bound: 0 | nc: 2 | ncall: 1241 | eff(%): 36.503 | loglstar:   -inf < -0.219 <    inf | logz: -0.831 +/-  0.032 | dlogz:  0.635 >  0.509]"
     ]
    },
    {
     "name": "stdout",
     "output_type": "stream",
     "text": [
      "-0.11714143959028168\n",
      "-0.4366078890480008\n",
      "-0.23060578459402553\n"
     ]
    },
    {
     "name": "stderr",
     "output_type": "stream",
     "text": [
      "454it [21:52,  5.49s/it, bound: 0 | nc: 3 | ncall: 1244 | eff(%): 36.495 | loglstar:   -inf < -0.219 <    inf | logz: -0.830 +/-  0.032 | dlogz:  0.633 >  0.509]"
     ]
    },
    {
     "name": "stdout",
     "output_type": "stream",
     "text": [
      "-0.21809920122561954\n",
      "-0.2739252613156647\n"
     ]
    },
    {
     "name": "stderr",
     "output_type": "stream",
     "text": [
      "455it [21:56,  4.93s/it, bound: 0 | nc: 2 | ncall: 1246 | eff(%): 36.517 | loglstar:   -inf < -0.219 <    inf | logz: -0.828 +/-  0.032 | dlogz:  0.632 >  0.509]"
     ]
    },
    {
     "name": "stdout",
     "output_type": "stream",
     "text": [
      "-0.18881262788259034\n",
      "-0.22981173739435212\n",
      "-0.3855042372136088\n"
     ]
    },
    {
     "name": "stderr",
     "output_type": "stream",
     "text": [
      "456it [22:01,  4.97s/it, bound: 0 | nc: 3 | ncall: 1249 | eff(%): 36.509 | loglstar:   -inf < -0.219 <    inf | logz: -0.827 +/-  0.032 | dlogz:  0.630 >  0.509]"
     ]
    },
    {
     "name": "stdout",
     "output_type": "stream",
     "text": [
      "-0.2057269018490949\n",
      "-0.4774374546471162\n",
      "-0.2687722008125281\n",
      "-0.28586558291181\n"
     ]
    },
    {
     "name": "stderr",
     "output_type": "stream",
     "text": [
      "457it [22:08,  5.54s/it, bound: 0 | nc: 4 | ncall: 1253 | eff(%): 36.472 | loglstar:   -inf < -0.218 <    inf | logz: -0.825 +/-  0.032 | dlogz:  0.628 >  0.509]"
     ]
    },
    {
     "name": "stdout",
     "output_type": "stream",
     "text": [
      "-0.17135818346390125\n",
      "-0.2723503740053194\n"
     ]
    },
    {
     "name": "stderr",
     "output_type": "stream",
     "text": [
      "458it [22:12,  4.93s/it, bound: 0 | nc: 2 | ncall: 1255 | eff(%): 36.494 | loglstar:   -inf < -0.218 <    inf | logz: -0.824 +/-  0.032 | dlogz:  0.627 >  0.509]"
     ]
    },
    {
     "name": "stdout",
     "output_type": "stream",
     "text": [
      "-0.18453277415142277\n"
     ]
    },
    {
     "name": "stderr",
     "output_type": "stream",
     "text": [
      "459it [22:13,  3.96s/it, bound: 0 | nc: 1 | ncall: 1256 | eff(%): 36.545 | loglstar:   -inf < -0.218 <    inf | logz: -0.822 +/-  0.032 | dlogz:  0.625 >  0.509]"
     ]
    },
    {
     "name": "stdout",
     "output_type": "stream",
     "text": [
      "-0.12710704111048501\n",
      "-0.3012827920532821\n",
      "-0.3703594266464902\n"
     ]
    },
    {
     "name": "stderr",
     "output_type": "stream",
     "text": [
      "460it [22:18,  4.33s/it, bound: 0 | nc: 3 | ncall: 1259 | eff(%): 36.537 | loglstar:   -inf < -0.217 <    inf | logz: -0.821 +/-  0.032 | dlogz:  0.624 >  0.509]"
     ]
    },
    {
     "name": "stdout",
     "output_type": "stream",
     "text": [
      "-0.20386328968916992\n",
      "-0.3003203378711399\n",
      "-0.24580740294370218\n"
     ]
    },
    {
     "name": "stderr",
     "output_type": "stream",
     "text": [
      "461it [22:23,  4.54s/it, bound: 0 | nc: 3 | ncall: 1262 | eff(%): 36.529 | loglstar:   -inf < -0.217 <    inf | logz: -0.819 +/-  0.032 | dlogz:  0.622 >  0.509]"
     ]
    },
    {
     "name": "stdout",
     "output_type": "stream",
     "text": [
      "-0.20282380065444555\n",
      "-0.22754274849367476\n",
      "-0.39773116485507015\n"
     ]
    },
    {
     "name": "stderr",
     "output_type": "stream",
     "text": [
      "462it [22:29,  4.70s/it, bound: 0 | nc: 3 | ncall: 1265 | eff(%): 36.522 | loglstar:   -inf < -0.217 <    inf | logz: -0.818 +/-  0.032 | dlogz:  0.620 >  0.509]"
     ]
    },
    {
     "name": "stdout",
     "output_type": "stream",
     "text": [
      "-0.18491370945923535\n",
      "-0.29778365134502455\n"
     ]
    },
    {
     "name": "stderr",
     "output_type": "stream",
     "text": [
      "463it [22:32,  4.32s/it, bound: 0 | nc: 2 | ncall: 1267 | eff(%): 36.543 | loglstar:   -inf < -0.217 <    inf | logz: -0.816 +/-  0.032 | dlogz:  0.619 >  0.509]"
     ]
    },
    {
     "name": "stdout",
     "output_type": "stream",
     "text": [
      "-0.12802975914219292\n"
     ]
    },
    {
     "name": "stderr",
     "output_type": "stream",
     "text": [
      "464it [22:34,  3.54s/it, bound: 0 | nc: 1 | ncall: 1268 | eff(%): 36.593 | loglstar:   -inf < -0.216 <    inf | logz: -0.815 +/-  0.032 | dlogz:  0.617 >  0.509]"
     ]
    },
    {
     "name": "stdout",
     "output_type": "stream",
     "text": [
      "-0.20682476771413405\n",
      "-0.30660916136739946\n",
      "-0.2501795920926253\n",
      "-0.29797487471977996\n",
      "-0.25564087278102055\n",
      "-0.2992558722890925\n",
      "-0.46650466601190105\n"
     ]
    },
    {
     "name": "stderr",
     "output_type": "stream",
     "text": [
      "465it [22:45,  6.01s/it, bound: 0 | nc: 7 | ncall: 1275 | eff(%): 36.471 | loglstar:   -inf < -0.216 <    inf | logz: -0.814 +/-  0.032 | dlogz:  0.616 >  0.509]"
     ]
    },
    {
     "name": "stdout",
     "output_type": "stream",
     "text": [
      "-0.07268240751253394\n",
      "-0.3095323497483757\n",
      "-0.3293576544778454\n",
      "-0.36777070041840665\n",
      "-0.2668225087195841\n"
     ]
    },
    {
     "name": "stderr",
     "output_type": "stream",
     "text": [
      "466it [22:54,  6.74s/it, bound: 0 | nc: 5 | ncall: 1280 | eff(%): 36.406 | loglstar:   -inf < -0.215 <    inf | logz: -0.812 +/-  0.032 | dlogz:  0.614 >  0.509]"
     ]
    },
    {
     "name": "stdout",
     "output_type": "stream",
     "text": [
      "-0.19079338586651548\n",
      "-0.3512944101083452\n",
      "-0.2992143069733614\n",
      "-0.4257352655175091\n",
      "-0.37409854392092756\n",
      "-0.3558967623565916\n"
     ]
    },
    {
     "name": "stderr",
     "output_type": "stream",
     "text": [
      "467it [23:04,  7.76s/it, bound: 0 | nc: 6 | ncall: 1286 | eff(%): 36.314 | loglstar:   -inf < -0.215 <    inf | logz: -0.811 +/-  0.032 | dlogz:  0.612 >  0.509]"
     ]
    },
    {
     "name": "stdout",
     "output_type": "stream",
     "text": [
      "-0.16188407718096234\n"
     ]
    },
    {
     "name": "stderr",
     "output_type": "stream",
     "text": [
      "468it [23:06,  5.94s/it, bound: 0 | nc: 1 | ncall: 1287 | eff(%): 36.364 | loglstar:   -inf < -0.215 <    inf | logz: -0.809 +/-  0.032 | dlogz:  0.611 >  0.509]"
     ]
    },
    {
     "name": "stdout",
     "output_type": "stream",
     "text": [
      "-0.07915308722380611\n",
      "-0.3955337375798558\n",
      "-0.3594831843890383\n",
      "-0.32296736541054855\n"
     ]
    },
    {
     "name": "stderr",
     "output_type": "stream",
     "text": [
      "469it [23:13,  6.19s/it, bound: 0 | nc: 4 | ncall: 1291 | eff(%): 36.328 | loglstar:   -inf < -0.214 <    inf | logz: -0.808 +/-  0.032 | dlogz:  0.609 >  0.509]"
     ]
    },
    {
     "name": "stdout",
     "output_type": "stream",
     "text": [
      "-0.14927979978701494\n",
      "-0.4822785577198487\n"
     ]
    },
    {
     "name": "stderr",
     "output_type": "stream",
     "text": [
      "470it [23:16,  5.35s/it, bound: 0 | nc: 2 | ncall: 1293 | eff(%): 36.350 | loglstar:   -inf < -0.214 <    inf | logz: -0.806 +/-  0.032 | dlogz:  0.608 >  0.509]"
     ]
    },
    {
     "name": "stdout",
     "output_type": "stream",
     "text": [
      "-0.17360124949414557\n",
      "-0.34134429395194715\n",
      "-0.2762806882914609\n"
     ]
    },
    {
     "name": "stderr",
     "output_type": "stream",
     "text": [
      "471it [23:21,  5.29s/it, bound: 0 | nc: 3 | ncall: 1296 | eff(%): 36.343 | loglstar:   -inf < -0.214 <    inf | logz: -0.805 +/-  0.032 | dlogz:  0.606 >  0.509]"
     ]
    },
    {
     "name": "stdout",
     "output_type": "stream",
     "text": [
      "-0.1455508357186031\n",
      "-0.25159008781175285\n"
     ]
    },
    {
     "name": "stderr",
     "output_type": "stream",
     "text": [
      "472it [23:24,  4.71s/it, bound: 0 | nc: 2 | ncall: 1298 | eff(%): 36.364 | loglstar:   -inf < -0.214 <    inf | logz: -0.804 +/-  0.032 | dlogz:  0.605 >  0.509]"
     ]
    },
    {
     "name": "stdout",
     "output_type": "stream",
     "text": [
      "-0.09678526505999899\n"
     ]
    },
    {
     "name": "stderr",
     "output_type": "stream",
     "text": [
      "473it [23:26,  3.80s/it, bound: 0 | nc: 1 | ncall: 1299 | eff(%): 36.413 | loglstar:   -inf < -0.214 <    inf | logz: -0.802 +/-  0.031 | dlogz:  0.603 >  0.509]"
     ]
    },
    {
     "name": "stdout",
     "output_type": "stream",
     "text": [
      "-0.1778068727199764\n"
     ]
    },
    {
     "name": "stderr",
     "output_type": "stream",
     "text": [
      "474it [23:28,  3.17s/it, bound: 0 | nc: 1 | ncall: 1300 | eff(%): 36.462 | loglstar:   -inf < -0.214 <    inf | logz: -0.801 +/-  0.031 | dlogz:  0.602 >  0.509]"
     ]
    },
    {
     "name": "stdout",
     "output_type": "stream",
     "text": [
      "-0.16395492580380272\n"
     ]
    },
    {
     "name": "stderr",
     "output_type": "stream",
     "text": [
      "475it [23:30,  2.73s/it, bound: 0 | nc: 1 | ncall: 1301 | eff(%): 36.510 | loglstar:   -inf < -0.214 <    inf | logz: -0.799 +/-  0.031 | dlogz:  0.600 >  0.509]"
     ]
    },
    {
     "name": "stdout",
     "output_type": "stream",
     "text": [
      "-0.15198336546239363\n"
     ]
    },
    {
     "name": "stderr",
     "output_type": "stream",
     "text": [
      "476it [23:31,  2.42s/it, bound: 0 | nc: 1 | ncall: 1302 | eff(%): 36.559 | loglstar:   -inf < -0.213 <    inf | logz: -0.798 +/-  0.031 | dlogz:  0.599 >  0.509]"
     ]
    },
    {
     "name": "stdout",
     "output_type": "stream",
     "text": [
      "-0.16210616419984808\n",
      "-0.30040960400973404\n",
      "-0.4199251797657382\n",
      "-0.4628219768240994\n",
      "-0.2660710012681571\n"
     ]
    },
    {
     "name": "stderr",
     "output_type": "stream",
     "text": [
      "477it [23:40,  4.26s/it, bound: 0 | nc: 5 | ncall: 1307 | eff(%): 36.496 | loglstar:   -inf < -0.213 <    inf | logz: -0.797 +/-  0.031 | dlogz:  0.597 >  0.509]"
     ]
    },
    {
     "name": "stdout",
     "output_type": "stream",
     "text": [
      "-0.19122893244108147\n",
      "-0.31466977106590227\n",
      "-0.2620639487931203\n"
     ]
    },
    {
     "name": "stderr",
     "output_type": "stream",
     "text": [
      "478it [23:45,  4.50s/it, bound: 0 | nc: 3 | ncall: 1310 | eff(%): 36.489 | loglstar:   -inf < -0.213 <    inf | logz: -0.795 +/-  0.031 | dlogz:  0.596 >  0.509]"
     ]
    },
    {
     "name": "stdout",
     "output_type": "stream",
     "text": [
      "-0.15883367769309267\n"
     ]
    },
    {
     "name": "stderr",
     "output_type": "stream",
     "text": [
      "479it [23:46,  3.65s/it, bound: 0 | nc: 1 | ncall: 1311 | eff(%): 36.537 | loglstar:   -inf < -0.213 <    inf | logz: -0.794 +/-  0.031 | dlogz:  0.594 >  0.509]"
     ]
    },
    {
     "name": "stdout",
     "output_type": "stream",
     "text": [
      "-0.2125260974704978\n"
     ]
    },
    {
     "name": "stderr",
     "output_type": "stream",
     "text": [
      "480it [23:48,  3.06s/it, bound: 0 | nc: 1 | ncall: 1312 | eff(%): 36.585 | loglstar:   -inf < -0.213 <    inf | logz: -0.793 +/-  0.031 | dlogz:  0.592 >  0.509]"
     ]
    },
    {
     "name": "stdout",
     "output_type": "stream",
     "text": [
      "-0.13186810659025097\n",
      "-0.26204633155876084\n",
      "-0.5283861677137475\n",
      "-0.34868255509159596\n",
      "-0.3798364590611771\n",
      "-0.32109031291580087\n",
      "-0.22544521817277036\n",
      "-0.36467583875396653\n",
      "-0.36598727535747066\n",
      "-0.40781321140114074\n",
      "-0.4858693716396118\n"
     ]
    },
    {
     "name": "stderr",
     "output_type": "stream",
     "text": [
      "481it [24:07,  7.70s/it, bound: 0 | nc: 11 | ncall: 1323 | eff(%): 36.357 | loglstar:   -inf < -0.213 <    inf | logz: -0.791 +/-  0.031 | dlogz:  0.591 >  0.509]"
     ]
    },
    {
     "name": "stdout",
     "output_type": "stream",
     "text": [
      "-0.11504495933698557\n",
      "-0.24177255531219183\n",
      "-0.2592723251611304\n",
      "-0.25617541025816587\n",
      "-0.29784044902972545\n",
      "-0.5595690055323812\n"
     ]
    },
    {
     "name": "stderr",
     "output_type": "stream",
     "text": [
      "482it [24:17,  8.47s/it, bound: 0 | nc: 6 | ncall: 1329 | eff(%): 36.268 | loglstar:   -inf < -0.213 <    inf | logz: -0.790 +/-  0.031 | dlogz:  0.589 >  0.509] "
     ]
    },
    {
     "name": "stdout",
     "output_type": "stream",
     "text": [
      "-0.12402809037456844\n"
     ]
    },
    {
     "name": "stderr",
     "output_type": "stream",
     "text": [
      "483it [24:19,  6.44s/it, bound: 0 | nc: 1 | ncall: 1330 | eff(%): 36.316 | loglstar:   -inf < -0.212 <    inf | logz: -0.788 +/-  0.031 | dlogz:  0.588 >  0.509]"
     ]
    },
    {
     "name": "stdout",
     "output_type": "stream",
     "text": [
      "-0.1514531802128139\n",
      "-0.2591645563003211\n",
      "-0.42770768001039866\n",
      "-0.2824192593587696\n",
      "-0.27158030499818775\n"
     ]
    },
    {
     "name": "stderr",
     "output_type": "stream",
     "text": [
      "484it [24:27,  7.05s/it, bound: 0 | nc: 5 | ncall: 1335 | eff(%): 36.255 | loglstar:   -inf < -0.212 <    inf | logz: -0.787 +/-  0.031 | dlogz:  0.587 >  0.509]"
     ]
    },
    {
     "name": "stdout",
     "output_type": "stream",
     "text": [
      "-0.13197022469087225\n",
      "-0.3907855302624798\n",
      "-0.27369410629994767\n",
      "-0.21887757472596453\n",
      "-0.24515028303847888\n",
      "-0.4016083687769103\n",
      "-0.32570722112315437\n"
     ]
    },
    {
     "name": "stderr",
     "output_type": "stream",
     "text": [
      "485it [24:39,  8.47s/it, bound: 0 | nc: 7 | ncall: 1342 | eff(%): 36.140 | loglstar:   -inf < -0.212 <    inf | logz: -0.786 +/-  0.031 | dlogz:  0.585 >  0.509]"
     ]
    },
    {
     "name": "stdout",
     "output_type": "stream",
     "text": [
      "-0.134920474002018\n",
      "-0.23208684687543607\n"
     ]
    },
    {
     "name": "stderr",
     "output_type": "stream",
     "text": [
      "486it [24:42,  6.94s/it, bound: 0 | nc: 2 | ncall: 1344 | eff(%): 36.161 | loglstar:   -inf < -0.212 <    inf | logz: -0.784 +/-  0.031 | dlogz:  0.584 >  0.509]"
     ]
    },
    {
     "name": "stdout",
     "output_type": "stream",
     "text": [
      "-0.12986784331818083\n",
      "-0.2929307789852543\n"
     ]
    },
    {
     "name": "stderr",
     "output_type": "stream",
     "text": [
      "487it [24:46,  5.88s/it, bound: 0 | nc: 2 | ncall: 1346 | eff(%): 36.181 | loglstar:   -inf < -0.211 <    inf | logz: -0.783 +/-  0.031 | dlogz:  0.582 >  0.509]"
     ]
    },
    {
     "name": "stdout",
     "output_type": "stream",
     "text": [
      "-0.17389900140339964\n"
     ]
    },
    {
     "name": "stderr",
     "output_type": "stream",
     "text": [
      "488it [24:47,  4.62s/it, bound: 0 | nc: 1 | ncall: 1347 | eff(%): 36.229 | loglstar:   -inf < -0.211 <    inf | logz: -0.782 +/-  0.031 | dlogz:  0.581 >  0.509]"
     ]
    },
    {
     "name": "stdout",
     "output_type": "stream",
     "text": [
      "-0.20673096176227465\n"
     ]
    },
    {
     "name": "stderr",
     "output_type": "stream",
     "text": [
      "489it [24:49,  3.75s/it, bound: 0 | nc: 1 | ncall: 1348 | eff(%): 36.276 | loglstar:   -inf < -0.211 <    inf | logz: -0.780 +/-  0.031 | dlogz:  0.579 >  0.509]"
     ]
    },
    {
     "name": "stdout",
     "output_type": "stream",
     "text": [
      "-0.1684348403988976\n"
     ]
    },
    {
     "name": "stderr",
     "output_type": "stream",
     "text": [
      "490it [24:51,  3.15s/it, bound: 0 | nc: 1 | ncall: 1349 | eff(%): 36.323 | loglstar:   -inf < -0.211 <    inf | logz: -0.779 +/-  0.031 | dlogz:  0.578 >  0.509]"
     ]
    },
    {
     "name": "stdout",
     "output_type": "stream",
     "text": [
      "-0.09347117631078991\n",
      "-0.39744480915263625\n",
      "-0.3087314747574343\n"
     ]
    },
    {
     "name": "stderr",
     "output_type": "stream",
     "text": [
      "491it [24:56,  3.73s/it, bound: 0 | nc: 3 | ncall: 1352 | eff(%): 36.317 | loglstar:   -inf < -0.210 <    inf | logz: -0.778 +/-  0.031 | dlogz:  0.576 >  0.509]"
     ]
    },
    {
     "name": "stdout",
     "output_type": "stream",
     "text": [
      "-0.15300828399727884\n",
      "-0.4200574857411888\n",
      "-0.3748342871377722\n",
      "-0.2856405520445013\n",
      "-0.2465274790861848\n",
      "-0.2361351927679752\n",
      "-0.3390767831253656\n",
      "-0.3086638148474417\n"
     ]
    },
    {
     "name": "stderr",
     "output_type": "stream",
     "text": [
      "492it [25:09,  6.66s/it, bound: 0 | nc: 8 | ncall: 1360 | eff(%): 36.176 | loglstar:   -inf < -0.210 <    inf | logz: -0.776 +/-  0.031 | dlogz:  0.575 >  0.509]"
     ]
    },
    {
     "name": "stdout",
     "output_type": "stream",
     "text": [
      "-0.13817433605041457\n"
     ]
    },
    {
     "name": "stderr",
     "output_type": "stream",
     "text": [
      "493it [25:11,  5.21s/it, bound: 0 | nc: 1 | ncall: 1361 | eff(%): 36.223 | loglstar:   -inf < -0.210 <    inf | logz: -0.775 +/-  0.031 | dlogz:  0.573 >  0.509]"
     ]
    },
    {
     "name": "stdout",
     "output_type": "stream",
     "text": [
      "-0.18536392757698358\n",
      "-0.36967611886274554\n",
      "-0.3663484693109408\n"
     ]
    },
    {
     "name": "stderr",
     "output_type": "stream",
     "text": [
      "494it [25:16,  5.16s/it, bound: 0 | nc: 3 | ncall: 1364 | eff(%): 36.217 | loglstar:   -inf < -0.210 <    inf | logz: -0.774 +/-  0.031 | dlogz:  0.572 >  0.509]"
     ]
    },
    {
     "name": "stdout",
     "output_type": "stream",
     "text": [
      "-0.19651103933087494\n"
     ]
    },
    {
     "name": "stderr",
     "output_type": "stream",
     "text": [
      "495it [25:18,  4.12s/it, bound: 0 | nc: 1 | ncall: 1365 | eff(%): 36.264 | loglstar:   -inf < -0.210 <    inf | logz: -0.772 +/-  0.031 | dlogz:  0.570 >  0.509]"
     ]
    },
    {
     "name": "stdout",
     "output_type": "stream",
     "text": [
      "-0.18799364843941097\n",
      "-0.28455327406100633\n"
     ]
    },
    {
     "name": "stderr",
     "output_type": "stream",
     "text": [
      "496it [25:21,  3.90s/it, bound: 0 | nc: 2 | ncall: 1367 | eff(%): 36.284 | loglstar:   -inf < -0.210 <    inf | logz: -0.771 +/-  0.031 | dlogz:  0.569 >  0.509]"
     ]
    },
    {
     "name": "stdout",
     "output_type": "stream",
     "text": [
      "-0.09118382134384828\n",
      "-0.303046937845024\n",
      "-0.39244103575720735\n",
      "-0.3603130635053668\n"
     ]
    },
    {
     "name": "stderr",
     "output_type": "stream",
     "text": [
      "497it [25:28,  4.75s/it, bound: 0 | nc: 4 | ncall: 1371 | eff(%): 36.251 | loglstar:   -inf < -0.210 <    inf | logz: -0.770 +/-  0.031 | dlogz:  0.568 >  0.509]"
     ]
    },
    {
     "name": "stdout",
     "output_type": "stream",
     "text": [
      "-0.1794011013499475\n"
     ]
    },
    {
     "name": "stderr",
     "output_type": "stream",
     "text": [
      "498it [25:30,  3.84s/it, bound: 0 | nc: 1 | ncall: 1372 | eff(%): 36.297 | loglstar:   -inf < -0.209 <    inf | logz: -0.769 +/-  0.031 | dlogz:  0.566 >  0.509]"
     ]
    },
    {
     "name": "stdout",
     "output_type": "stream",
     "text": [
      "-0.19596270006090355\n",
      "-0.37494633789363685\n",
      "-0.46118952345486075\n"
     ]
    },
    {
     "name": "stderr",
     "output_type": "stream",
     "text": [
      "499it [25:35,  4.23s/it, bound: 0 | nc: 3 | ncall: 1375 | eff(%): 36.291 | loglstar:   -inf < -0.209 <    inf | logz: -0.767 +/-  0.030 | dlogz:  0.565 >  0.509]"
     ]
    },
    {
     "name": "stdout",
     "output_type": "stream",
     "text": [
      "-0.0602408764425553\n",
      "-0.25530925273857147\n",
      "-0.2919610225009471\n",
      "-0.4399773681538979\n",
      "-0.24059864087371163\n",
      "-0.21519128638903276\n"
     ]
    },
    {
     "name": "stderr",
     "output_type": "stream",
     "text": [
      "500it [25:45,  6.01s/it, bound: 0 | nc: 6 | ncall: 1381 | eff(%): 36.206 | loglstar:   -inf < -0.209 <    inf | logz: -0.766 +/-  0.030 | dlogz:  0.563 >  0.509]"
     ]
    },
    {
     "name": "stdout",
     "output_type": "stream",
     "text": [
      "-0.19717126812308136\n"
     ]
    },
    {
     "name": "stderr",
     "output_type": "stream",
     "text": [
      "501it [25:47,  3.09s/it, +500 | bound: 0 | nc: 1 | ncall: 1882 | eff(%): 72.431 | loglstar:   -inf < -0.049 <    inf | logz: -0.251 +/-    nan | dlogz:  0.001 >  0.509]"
     ]
    },
    {
     "name": "stdout",
     "output_type": "stream",
     "text": [
      "-0.12942219289972579\n"
     ]
    },
    {
     "name": "stderr",
     "output_type": "stream",
     "text": [
      "\n"
     ]
    }
   ],
   "source": [
    "\n",
    "sampler = dynesty.NestedSampler(loglike, partial(ptform, distribution=sample_distribution), ndim)\n",
    "sampler.run_nested(maxiter=500)\n",
    "sresults = sampler.results\n",
    "\n",
    "# fig, axes = plt.subplots(6, 13, figsize=(25, 10))\n",
    "# axes = axes.reshape((6, 13))  # reshape axes\n",
    "\n",
    "# # add white space\n",
    "# [a.set_frame_on(False) for a in axes[:, 6]]\n",
    "# [a.set_xticks([]) for a in axes[:, 6]]\n",
    "# [a.set_yticks([]) for a in axes[:, 6]]\n",
    "\n",
    "# # plot initial run (res1; left)\n",
    "# fg, ax = dyplot.cornerpoints(sresults, cmap='plasma', truths=np.zeros(ndim),\n",
    "#                              kde=False, fig=(fig, axes[:, :2]))"
   ]
  },
  {
   "cell_type": "code",
   "execution_count": null,
   "metadata": {},
   "outputs": [
    {
     "data": {
      "image/png": "[encoded data removed]",
      "text/plain": [
       "<Figure size 1600x1600 with 4 Axes>"
      ]
     },
     "metadata": {},
     "output_type": "display_data"
    }
   ],
   "source": [
    "\n",
    "rfig, raxes = dyplot.runplot(sresults)\n",
    "rfig.savefig('test.png')"
   ]
  },
  {
   "cell_type": "code",
   "execution_count": null,
   "metadata": {},
   "outputs": [
    {
     "data": {
      "image/png": "[encoded data removed]",
      "text/plain": [
       "<Figure size 1200x1800 with 12 Axes>"
      ]
     },
     "metadata": {},
     "output_type": "display_data"
    }
   ],
   "source": [
    "\n",
    "# Plot traces and 1-D marginalized posteriors.\n",
    "tfig, taxes = dyplot.traceplot(sresults)"
   ]
  },
  {
   "cell_type": "code",
   "execution_count": null,
   "metadata": {},
   "outputs": [
    {
     "data": {
      "image/png": "[encoded data removed]",
      "text/plain": [
       "<Figure size 1390x1390 with 36 Axes>"
      ]
     },
     "metadata": {},
     "output_type": "display_data"
    }
   ],
   "source": [
    "\n",
    "# Plot the 2-D marginalized posteriors.\n",
    "cfig, caxes = dyplot.cornerplot(sresults)"
   ]
  },
  {
   "cell_type": "code",
   "execution_count": null,
   "metadata": {},
   "outputs": [],
   "source": []
  },
  {
   "cell_type": "code",
   "execution_count": null,
   "metadata": {},
   "outputs": [],
   "source": []
  }
 ],
 "metadata": {
  "kernelspec": {
   "display_name": "Python 3",
   "language": "python",
   "name": "python3"
  },
  "language_info": {
   "codemirror_mode": {
    "name": "ipython",
    "version": 3
   },
   "file_extension": ".py",
   "mimetype": "text/x-python",
   "name": "python",
   "nbconvert_exporter": "python",
   "pygments_lexer": "ipython3",
   "version": "3.10.12"
  },
  "orig_nbformat": 4
 },
 "nbformat": 4,
 "nbformat_minor": 2
}
